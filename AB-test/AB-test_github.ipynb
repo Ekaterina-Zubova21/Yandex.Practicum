{
 "cells": [
  {
   "cell_type": "markdown",
   "id": "e40a79e7",
   "metadata": {},
   "source": [
    "# Принятие решений в бизнесе"
   ]
  },
  {
   "cell_type": "markdown",
   "id": "f5a22677",
   "metadata": {
    "toc": true
   },
   "source": [
    "<h1>Table of Contents<span class=\"tocSkip\"></span></h1>\n",
    "<div class=\"toc\"><ul class=\"toc-item\"><li><span><a href=\"#Принятие-решений-в-бизнесе\" data-toc-modified-id=\"Принятие-решений-в-бизнесе-1\"><span class=\"toc-item-num\">1&nbsp;&nbsp;</span>Принятие решений в бизнесе</a></span><ul class=\"toc-item\"><li><span><a href=\"#Описание-проекта\" data-toc-modified-id=\"Описание-проекта-1.1\"><span class=\"toc-item-num\">1.1&nbsp;&nbsp;</span>Описание проекта</a></span></li><li><span><a href=\"#Предобработка-данных\" data-toc-modified-id=\"Предобработка-данных-1.2\"><span class=\"toc-item-num\">1.2&nbsp;&nbsp;</span>Предобработка данных</a></span></li><li><span><a href=\"#Часть-1.-Приоритизация-гипотез\" data-toc-modified-id=\"Часть-1.-Приоритизация-гипотез-1.3\"><span class=\"toc-item-num\">1.3&nbsp;&nbsp;</span>Часть 1. Приоритизация гипотез</a></span></li><li><span><a href=\"#Часть-2.-Анализ-A/B-теста\" data-toc-modified-id=\"Часть-2.-Анализ-A/B-теста-1.4\"><span class=\"toc-item-num\">1.4&nbsp;&nbsp;</span>Часть 2. Анализ A/B-теста</a></span><ul class=\"toc-item\"><li><span><a href=\"#График-кумулятивной-выручки-по-группам\" data-toc-modified-id=\"График-кумулятивной-выручки-по-группам-1.4.1\"><span class=\"toc-item-num\">1.4.1&nbsp;&nbsp;</span>График кумулятивной выручки по группам</a></span></li><li><span><a href=\"#График-кумулятивного-среднего-чека-по-группам\" data-toc-modified-id=\"График-кумулятивного-среднего-чека-по-группам-1.4.2\"><span class=\"toc-item-num\">1.4.2&nbsp;&nbsp;</span>График кумулятивного среднего чека по группам</a></span></li><li><span><a href=\"#График-относительного-изменения-кумулятивного-среднего-чека-группы-B-к-группе-A\" data-toc-modified-id=\"График-относительного-изменения-кумулятивного-среднего-чека-группы-B-к-группе-A-1.4.3\"><span class=\"toc-item-num\">1.4.3&nbsp;&nbsp;</span>График относительного изменения кумулятивного среднего чека группы B к группе A</a></span></li><li><span><a href=\"#График-кумулятивной-конверсии-по-группам\" data-toc-modified-id=\"График-кумулятивной-конверсии-по-группам-1.4.4\"><span class=\"toc-item-num\">1.4.4&nbsp;&nbsp;</span>График кумулятивной конверсии по группам</a></span></li><li><span><a href=\"#График-относительного-изменения-кумулятивной-конверсии-группы-B-к-группе-A\" data-toc-modified-id=\"График-относительного-изменения-кумулятивной-конверсии-группы-B-к-группе-A-1.4.5\"><span class=\"toc-item-num\">1.4.5&nbsp;&nbsp;</span>График относительного изменения кумулятивной конверсии группы B к группе A</a></span></li><li><span><a href=\"#Точечный-график-количества-заказов-по-пользователям\" data-toc-modified-id=\"Точечный-график-количества-заказов-по-пользователям-1.4.6\"><span class=\"toc-item-num\">1.4.6&nbsp;&nbsp;</span>Точечный график количества заказов по пользователям</a></span></li><li><span><a href=\"#Расчет-95-й-и-99-й-перцентили-количества-заказов-на-пользователя\" data-toc-modified-id=\"Расчет-95-й-и-99-й-перцентили-количества-заказов-на-пользователя-1.4.7\"><span class=\"toc-item-num\">1.4.7&nbsp;&nbsp;</span>Расчет 95-й и 99-й перцентили количества заказов на пользователя</a></span></li><li><span><a href=\"#Точечный-график-стоимостей-заказов\" data-toc-modified-id=\"Точечный-график-стоимостей-заказов-1.4.8\"><span class=\"toc-item-num\">1.4.8&nbsp;&nbsp;</span>Точечный график стоимостей заказов</a></span></li><li><span><a href=\"#Расчет-95-й-и-99-й-перцентили-стоимости-заказов\" data-toc-modified-id=\"Расчет-95-й-и-99-й-перцентили-стоимости-заказов-1.4.9\"><span class=\"toc-item-num\">1.4.9&nbsp;&nbsp;</span>Расчет 95-й и 99-й перцентили стоимости заказов</a></span></li><li><span><a href=\"#Статистическая-значимость-различий-в-конверсии-между-группами-по-«сырым»-данным\" data-toc-modified-id=\"Статистическая-значимость-различий-в-конверсии-между-группами-по-«сырым»-данным-1.4.10\"><span class=\"toc-item-num\">1.4.10&nbsp;&nbsp;</span>Статистическая значимость различий в конверсии между группами по «сырым» данным</a></span></li><li><span><a href=\"#Cтатистическая-значимость-различий-в-среднем-чеке-заказа-между-группами-по-«сырым»-данным\" data-toc-modified-id=\"Cтатистическая-значимость-различий-в-среднем-чеке-заказа-между-группами-по-«сырым»-данным-1.4.11\"><span class=\"toc-item-num\">1.4.11&nbsp;&nbsp;</span>Cтатистическая значимость различий в среднем чеке заказа между группами по «сырым» данным</a></span></li><li><span><a href=\"#Cтатистическую-значимость-различий-в-конверсии-между-группами-по-«очищенным»-данным\" data-toc-modified-id=\"Cтатистическую-значимость-различий-в-конверсии-между-группами-по-«очищенным»-данным-1.4.12\"><span class=\"toc-item-num\">1.4.12&nbsp;&nbsp;</span>Cтатистическую значимость различий в конверсии между группами по «очищенным» данным</a></span></li><li><span><a href=\"#Cтатистическая-значимость-различий-в-среднем-чеке-заказа-между-группами-по-«очищенным»-данным\" data-toc-modified-id=\"Cтатистическая-значимость-различий-в-среднем-чеке-заказа-между-группами-по-«очищенным»-данным-1.4.13\"><span class=\"toc-item-num\">1.4.13&nbsp;&nbsp;</span>Cтатистическая значимость различий в среднем чеке заказа между группами по «очищенным» данным</a></span></li></ul></li><li><span><a href=\"#Результаты-теста\" data-toc-modified-id=\"Результаты-теста-1.5\"><span class=\"toc-item-num\">1.5&nbsp;&nbsp;</span>Результаты теста</a></span></li></ul></li></ul></div>"
   ]
  },
  {
   "cell_type": "markdown",
   "id": "1d45959e",
   "metadata": {},
   "source": [
    "## Описание проекта"
   ]
  },
  {
   "cell_type": "markdown",
   "id": "07240db5",
   "metadata": {},
   "source": [
    "Крупный интернет-магазина подготовил список гипотез для увеличения выручки.\n",
    "Цель проекта найти гипотезу, которая приведет к увеличению выручки. \n",
    "Для этого необходимо:\n",
    "* приоритизировать подготовленные гипотезы, \n",
    "* запустить A/B-тест,\n",
    "* проанализировать результаты.\n",
    "\n",
    "**Описание данных:**\n",
    "\n",
    "Датасет **hypothesis**:\n",
    "* Hypothesis — краткое описание гипотезы;\n",
    "* Reach — охват пользователей по 10-балльной шкале;\n",
    "* Impact — влияние на пользователей по 10-балльной шкале;\n",
    "* Confidence — уверенность в гипотезе по 10-балльной шкале;\n",
    "* Efforts — затраты ресурсов на проверку гипотезы по 10-балльной шкале. Чем больше значение Efforts, тем дороже проверка гипотезы.\n",
    "\n",
    "Датасет **orders**:\n",
    "* transactionId — идентификатор заказа;\n",
    "* visitorId — идентификатор пользователя, совершившего заказ;\n",
    "* date — дата, когда был совершён заказ;\n",
    "* revenue — выручка заказа;\n",
    "* group — группа A/B-теста, в которую попал заказ.\n",
    "\n",
    "Датасет **visitors**:\n",
    "* date — дата;\n",
    "* group — группа A/B-теста;\n",
    "* visitors — количество пользователей в указанную дату в указанной группе A/B-теста"
   ]
  },
  {
   "cell_type": "markdown",
   "id": "85a3b7a5",
   "metadata": {},
   "source": [
    "## Предобработка данных "
   ]
  },
  {
   "cell_type": "markdown",
   "id": "75c9aa00",
   "metadata": {},
   "source": [
    "Импортируем, необходимые для анализа библиотеки."
   ]
  },
  {
   "cell_type": "code",
   "execution_count": 1,
   "id": "6e013f86",
   "metadata": {},
   "outputs": [],
   "source": [
    "import pandas as pd\n",
    "import datetime as dt\n",
    "import seaborn as sns\n",
    "import numpy as np\n",
    "import scipy.stats as stats\n",
    "from matplotlib import pyplot as plt\n",
    "%matplotlib inline\n",
    "\n",
    "from pandas.plotting import register_matplotlib_converters\n",
    "import warnings\n",
    "register_matplotlib_converters()"
   ]
  },
  {
   "cell_type": "markdown",
   "id": "6778c6b7",
   "metadata": {},
   "source": [
    "Затем загрузим имеющиеся датасеты."
   ]
  },
  {
   "cell_type": "code",
   "execution_count": 2,
   "id": "6255327a",
   "metadata": {},
   "outputs": [],
   "source": [
    "try: \n",
    "    hypothesis = pd.read_csv('datasets/hypothesis.csv')\n",
    "except FileNotFoundError:\n",
    "    hypothesis = pd.read_csv('/datasets/hypothesis.csv')"
   ]
  },
  {
   "cell_type": "code",
   "execution_count": 3,
   "id": "f3f02211",
   "metadata": {},
   "outputs": [],
   "source": [
    "try: \n",
    "    orders = pd.read_csv('datasets/orders.csv')\n",
    "except FileNotFoundError:\n",
    "    orders = pd.read_csv('/datasets/orders.csv')"
   ]
  },
  {
   "cell_type": "code",
   "execution_count": 4,
   "id": "bcbd32e4",
   "metadata": {},
   "outputs": [],
   "source": [
    "try: \n",
    "    visitors = pd.read_csv('datasets/visitors.csv')\n",
    "except FileNotFoundError:\n",
    "    visitors = pd.read_csv('/datasets/visitors.csv')"
   ]
  },
  {
   "cell_type": "markdown",
   "id": "72fe4ade",
   "metadata": {},
   "source": [
    "Изучим имеющиеся данные."
   ]
  },
  {
   "cell_type": "code",
   "execution_count": 5,
   "id": "9d37707a",
   "metadata": {},
   "outputs": [
    {
     "data": {
      "text/html": [
       "<div>\n",
       "<style scoped>\n",
       "    .dataframe tbody tr th:only-of-type {\n",
       "        vertical-align: middle;\n",
       "    }\n",
       "\n",
       "    .dataframe tbody tr th {\n",
       "        vertical-align: top;\n",
       "    }\n",
       "\n",
       "    .dataframe thead th {\n",
       "        text-align: right;\n",
       "    }\n",
       "</style>\n",
       "<table border=\"1\" class=\"dataframe\">\n",
       "  <thead>\n",
       "    <tr style=\"text-align: right;\">\n",
       "      <th></th>\n",
       "      <th>Hypothesis</th>\n",
       "      <th>Reach</th>\n",
       "      <th>Impact</th>\n",
       "      <th>Confidence</th>\n",
       "      <th>Efforts</th>\n",
       "    </tr>\n",
       "  </thead>\n",
       "  <tbody>\n",
       "    <tr>\n",
       "      <th>0</th>\n",
       "      <td>Добавить два новых канала привлечения трафика, что позволит привлекать на 30% больше пользователей</td>\n",
       "      <td>3</td>\n",
       "      <td>10</td>\n",
       "      <td>8</td>\n",
       "      <td>6</td>\n",
       "    </tr>\n",
       "    <tr>\n",
       "      <th>1</th>\n",
       "      <td>Запустить собственную службу доставки, что сократит срок доставки заказов</td>\n",
       "      <td>2</td>\n",
       "      <td>5</td>\n",
       "      <td>4</td>\n",
       "      <td>10</td>\n",
       "    </tr>\n",
       "    <tr>\n",
       "      <th>2</th>\n",
       "      <td>Добавить блоки рекомендаций товаров на сайт интернет магазина, чтобы повысить конверсию и средний чек заказа</td>\n",
       "      <td>8</td>\n",
       "      <td>3</td>\n",
       "      <td>7</td>\n",
       "      <td>3</td>\n",
       "    </tr>\n",
       "    <tr>\n",
       "      <th>3</th>\n",
       "      <td>Изменить структура категорий, что увеличит конверсию, т.к. пользователи быстрее найдут нужный товар</td>\n",
       "      <td>8</td>\n",
       "      <td>3</td>\n",
       "      <td>3</td>\n",
       "      <td>8</td>\n",
       "    </tr>\n",
       "    <tr>\n",
       "      <th>4</th>\n",
       "      <td>Изменить цвет фона главной страницы, чтобы увеличить вовлеченность пользователей</td>\n",
       "      <td>3</td>\n",
       "      <td>1</td>\n",
       "      <td>1</td>\n",
       "      <td>1</td>\n",
       "    </tr>\n",
       "    <tr>\n",
       "      <th>5</th>\n",
       "      <td>Добавить страницу отзывов клиентов о магазине, что позволит увеличить количество заказов</td>\n",
       "      <td>3</td>\n",
       "      <td>2</td>\n",
       "      <td>2</td>\n",
       "      <td>3</td>\n",
       "    </tr>\n",
       "    <tr>\n",
       "      <th>6</th>\n",
       "      <td>Показать на главной странице баннеры с актуальными акциями и распродажами, чтобы увеличить конверсию</td>\n",
       "      <td>5</td>\n",
       "      <td>3</td>\n",
       "      <td>8</td>\n",
       "      <td>3</td>\n",
       "    </tr>\n",
       "    <tr>\n",
       "      <th>7</th>\n",
       "      <td>Добавить форму подписки на все основные страницы, чтобы собрать базу клиентов для email-рассылок</td>\n",
       "      <td>10</td>\n",
       "      <td>7</td>\n",
       "      <td>8</td>\n",
       "      <td>5</td>\n",
       "    </tr>\n",
       "    <tr>\n",
       "      <th>8</th>\n",
       "      <td>Запустить акцию, дающую скидку на товар в день рождения</td>\n",
       "      <td>1</td>\n",
       "      <td>9</td>\n",
       "      <td>9</td>\n",
       "      <td>5</td>\n",
       "    </tr>\n",
       "  </tbody>\n",
       "</table>\n",
       "</div>"
      ],
      "text/plain": [
       "                                                                                                     Hypothesis  \\\n",
       "0            Добавить два новых канала привлечения трафика, что позволит привлекать на 30% больше пользователей   \n",
       "1                                     Запустить собственную службу доставки, что сократит срок доставки заказов   \n",
       "2  Добавить блоки рекомендаций товаров на сайт интернет магазина, чтобы повысить конверсию и средний чек заказа   \n",
       "3           Изменить структура категорий, что увеличит конверсию, т.к. пользователи быстрее найдут нужный товар   \n",
       "4                              Изменить цвет фона главной страницы, чтобы увеличить вовлеченность пользователей   \n",
       "5                      Добавить страницу отзывов клиентов о магазине, что позволит увеличить количество заказов   \n",
       "6          Показать на главной странице баннеры с актуальными акциями и распродажами, чтобы увеличить конверсию   \n",
       "7              Добавить форму подписки на все основные страницы, чтобы собрать базу клиентов для email-рассылок   \n",
       "8                                                       Запустить акцию, дающую скидку на товар в день рождения   \n",
       "\n",
       "   Reach  Impact  Confidence  Efforts  \n",
       "0      3      10           8        6  \n",
       "1      2       5           4       10  \n",
       "2      8       3           7        3  \n",
       "3      8       3           3        8  \n",
       "4      3       1           1        1  \n",
       "5      3       2           2        3  \n",
       "6      5       3           8        3  \n",
       "7     10       7           8        5  \n",
       "8      1       9           9        5  "
      ]
     },
     "execution_count": 5,
     "metadata": {},
     "output_type": "execute_result"
    }
   ],
   "source": [
    "pd.set_option('max_colwidth', 400)\n",
    "hypothesis"
   ]
  },
  {
   "cell_type": "markdown",
   "id": "0e3614c8",
   "metadata": {},
   "source": [
    "Изменим названия всех столбцов на строчный регистр."
   ]
  },
  {
   "cell_type": "code",
   "execution_count": 6,
   "id": "ee8d20e2",
   "metadata": {},
   "outputs": [],
   "source": [
    "hypothesis.rename(columns = {'Hypothesis': 'hypothesis', 'Reach':'reach', 'Impact':'impact', 'Confidence':'confidence', 'Efforts':'efforts'}, inplace = True)"
   ]
  },
  {
   "cell_type": "code",
   "execution_count": 7,
   "id": "8c64cabc",
   "metadata": {},
   "outputs": [
    {
     "name": "stdout",
     "output_type": "stream",
     "text": [
      "<class 'pandas.core.frame.DataFrame'>\n",
      "RangeIndex: 9 entries, 0 to 8\n",
      "Data columns (total 5 columns):\n",
      " #   Column      Non-Null Count  Dtype \n",
      "---  ------      --------------  ----- \n",
      " 0   hypothesis  9 non-null      object\n",
      " 1   reach       9 non-null      int64 \n",
      " 2   impact      9 non-null      int64 \n",
      " 3   confidence  9 non-null      int64 \n",
      " 4   efforts     9 non-null      int64 \n",
      "dtypes: int64(4), object(1)\n",
      "memory usage: 488.0+ bytes\n"
     ]
    }
   ],
   "source": [
    "hypothesis.info()"
   ]
  },
  {
   "cell_type": "markdown",
   "id": "5fdbf752",
   "metadata": {},
   "source": [
    "Датасет готов к анализу. Далее, ознакомимся с таблицей orders."
   ]
  },
  {
   "cell_type": "code",
   "execution_count": 8,
   "id": "5f7fb115",
   "metadata": {},
   "outputs": [
    {
     "data": {
      "text/html": [
       "<div>\n",
       "<style scoped>\n",
       "    .dataframe tbody tr th:only-of-type {\n",
       "        vertical-align: middle;\n",
       "    }\n",
       "\n",
       "    .dataframe tbody tr th {\n",
       "        vertical-align: top;\n",
       "    }\n",
       "\n",
       "    .dataframe thead th {\n",
       "        text-align: right;\n",
       "    }\n",
       "</style>\n",
       "<table border=\"1\" class=\"dataframe\">\n",
       "  <thead>\n",
       "    <tr style=\"text-align: right;\">\n",
       "      <th></th>\n",
       "      <th>transactionId</th>\n",
       "      <th>visitorId</th>\n",
       "      <th>date</th>\n",
       "      <th>revenue</th>\n",
       "      <th>group</th>\n",
       "    </tr>\n",
       "  </thead>\n",
       "  <tbody>\n",
       "    <tr>\n",
       "      <th>0</th>\n",
       "      <td>3667963787</td>\n",
       "      <td>3312258926</td>\n",
       "      <td>2019-08-15</td>\n",
       "      <td>1650</td>\n",
       "      <td>B</td>\n",
       "    </tr>\n",
       "    <tr>\n",
       "      <th>1</th>\n",
       "      <td>2804400009</td>\n",
       "      <td>3642806036</td>\n",
       "      <td>2019-08-15</td>\n",
       "      <td>730</td>\n",
       "      <td>B</td>\n",
       "    </tr>\n",
       "    <tr>\n",
       "      <th>2</th>\n",
       "      <td>2961555356</td>\n",
       "      <td>4069496402</td>\n",
       "      <td>2019-08-15</td>\n",
       "      <td>400</td>\n",
       "      <td>A</td>\n",
       "    </tr>\n",
       "    <tr>\n",
       "      <th>3</th>\n",
       "      <td>3797467345</td>\n",
       "      <td>1196621759</td>\n",
       "      <td>2019-08-15</td>\n",
       "      <td>9759</td>\n",
       "      <td>B</td>\n",
       "    </tr>\n",
       "    <tr>\n",
       "      <th>4</th>\n",
       "      <td>2282983706</td>\n",
       "      <td>2322279887</td>\n",
       "      <td>2019-08-15</td>\n",
       "      <td>2308</td>\n",
       "      <td>B</td>\n",
       "    </tr>\n",
       "    <tr>\n",
       "      <th>5</th>\n",
       "      <td>182168103</td>\n",
       "      <td>935554773</td>\n",
       "      <td>2019-08-15</td>\n",
       "      <td>2210</td>\n",
       "      <td>B</td>\n",
       "    </tr>\n",
       "    <tr>\n",
       "      <th>6</th>\n",
       "      <td>398296753</td>\n",
       "      <td>2900797465</td>\n",
       "      <td>2019-08-15</td>\n",
       "      <td>1860</td>\n",
       "      <td>B</td>\n",
       "    </tr>\n",
       "    <tr>\n",
       "      <th>7</th>\n",
       "      <td>2626614568</td>\n",
       "      <td>78758296</td>\n",
       "      <td>2019-08-15</td>\n",
       "      <td>1044</td>\n",
       "      <td>A</td>\n",
       "    </tr>\n",
       "    <tr>\n",
       "      <th>8</th>\n",
       "      <td>1576988021</td>\n",
       "      <td>295230930</td>\n",
       "      <td>2019-08-15</td>\n",
       "      <td>13710</td>\n",
       "      <td>A</td>\n",
       "    </tr>\n",
       "    <tr>\n",
       "      <th>9</th>\n",
       "      <td>1506739906</td>\n",
       "      <td>1882260405</td>\n",
       "      <td>2019-08-15</td>\n",
       "      <td>1855</td>\n",
       "      <td>B</td>\n",
       "    </tr>\n",
       "  </tbody>\n",
       "</table>\n",
       "</div>"
      ],
      "text/plain": [
       "   transactionId   visitorId        date  revenue group\n",
       "0     3667963787  3312258926  2019-08-15     1650     B\n",
       "1     2804400009  3642806036  2019-08-15      730     B\n",
       "2     2961555356  4069496402  2019-08-15      400     A\n",
       "3     3797467345  1196621759  2019-08-15     9759     B\n",
       "4     2282983706  2322279887  2019-08-15     2308     B\n",
       "5      182168103   935554773  2019-08-15     2210     B\n",
       "6      398296753  2900797465  2019-08-15     1860     B\n",
       "7     2626614568    78758296  2019-08-15     1044     A\n",
       "8     1576988021   295230930  2019-08-15    13710     A\n",
       "9     1506739906  1882260405  2019-08-15     1855     B"
      ]
     },
     "execution_count": 8,
     "metadata": {},
     "output_type": "execute_result"
    }
   ],
   "source": [
    "orders.head(10)"
   ]
  },
  {
   "cell_type": "markdown",
   "id": "41a47a5d",
   "metadata": {},
   "source": [
    "Также приведем заголовки к змеиному регистру."
   ]
  },
  {
   "cell_type": "code",
   "execution_count": 9,
   "id": "516d27f0",
   "metadata": {},
   "outputs": [],
   "source": [
    "orders.rename(columns = {'transactionId': 'transaction_id', 'visitorId':'visitor_id', 'date':'date', 'revenue':'revenue', 'group':'group'}, inplace = True)"
   ]
  },
  {
   "cell_type": "code",
   "execution_count": 10,
   "id": "c23f920c",
   "metadata": {},
   "outputs": [
    {
     "name": "stdout",
     "output_type": "stream",
     "text": [
      "<class 'pandas.core.frame.DataFrame'>\n",
      "RangeIndex: 1197 entries, 0 to 1196\n",
      "Data columns (total 5 columns):\n",
      " #   Column          Non-Null Count  Dtype \n",
      "---  ------          --------------  ----- \n",
      " 0   transaction_id  1197 non-null   int64 \n",
      " 1   visitor_id      1197 non-null   int64 \n",
      " 2   date            1197 non-null   object\n",
      " 3   revenue         1197 non-null   int64 \n",
      " 4   group           1197 non-null   object\n",
      "dtypes: int64(3), object(2)\n",
      "memory usage: 46.9+ KB\n"
     ]
    }
   ],
   "source": [
    "orders.info()"
   ]
  },
  {
   "cell_type": "markdown",
   "id": "317903ff",
   "metadata": {},
   "source": [
    "Изменим формат столбца с датами на datetime."
   ]
  },
  {
   "cell_type": "code",
   "execution_count": 11,
   "id": "6be2f78a",
   "metadata": {},
   "outputs": [],
   "source": [
    "orders['date'] = pd.to_datetime(orders['date'])\n"
   ]
  },
  {
   "cell_type": "code",
   "execution_count": 12,
   "id": "50fe8ce3",
   "metadata": {},
   "outputs": [
    {
     "data": {
      "text/plain": [
       "0"
      ]
     },
     "execution_count": 12,
     "metadata": {},
     "output_type": "execute_result"
    }
   ],
   "source": [
    "orders.duplicated().sum()"
   ]
  },
  {
   "cell_type": "markdown",
   "id": "d8aa1117",
   "metadata": {},
   "source": [
    "Дубликатов не обнаружено. Ознакомимся с таблицей visitors."
   ]
  },
  {
   "cell_type": "code",
   "execution_count": 13,
   "id": "553b640d",
   "metadata": {},
   "outputs": [
    {
     "data": {
      "text/html": [
       "<div>\n",
       "<style scoped>\n",
       "    .dataframe tbody tr th:only-of-type {\n",
       "        vertical-align: middle;\n",
       "    }\n",
       "\n",
       "    .dataframe tbody tr th {\n",
       "        vertical-align: top;\n",
       "    }\n",
       "\n",
       "    .dataframe thead th {\n",
       "        text-align: right;\n",
       "    }\n",
       "</style>\n",
       "<table border=\"1\" class=\"dataframe\">\n",
       "  <thead>\n",
       "    <tr style=\"text-align: right;\">\n",
       "      <th></th>\n",
       "      <th>date</th>\n",
       "      <th>group</th>\n",
       "      <th>visitors</th>\n",
       "    </tr>\n",
       "  </thead>\n",
       "  <tbody>\n",
       "    <tr>\n",
       "      <th>0</th>\n",
       "      <td>2019-08-01</td>\n",
       "      <td>A</td>\n",
       "      <td>719</td>\n",
       "    </tr>\n",
       "    <tr>\n",
       "      <th>1</th>\n",
       "      <td>2019-08-02</td>\n",
       "      <td>A</td>\n",
       "      <td>619</td>\n",
       "    </tr>\n",
       "    <tr>\n",
       "      <th>2</th>\n",
       "      <td>2019-08-03</td>\n",
       "      <td>A</td>\n",
       "      <td>507</td>\n",
       "    </tr>\n",
       "    <tr>\n",
       "      <th>3</th>\n",
       "      <td>2019-08-04</td>\n",
       "      <td>A</td>\n",
       "      <td>717</td>\n",
       "    </tr>\n",
       "    <tr>\n",
       "      <th>4</th>\n",
       "      <td>2019-08-05</td>\n",
       "      <td>A</td>\n",
       "      <td>756</td>\n",
       "    </tr>\n",
       "    <tr>\n",
       "      <th>5</th>\n",
       "      <td>2019-08-06</td>\n",
       "      <td>A</td>\n",
       "      <td>667</td>\n",
       "    </tr>\n",
       "    <tr>\n",
       "      <th>6</th>\n",
       "      <td>2019-08-07</td>\n",
       "      <td>A</td>\n",
       "      <td>644</td>\n",
       "    </tr>\n",
       "    <tr>\n",
       "      <th>7</th>\n",
       "      <td>2019-08-08</td>\n",
       "      <td>A</td>\n",
       "      <td>610</td>\n",
       "    </tr>\n",
       "    <tr>\n",
       "      <th>8</th>\n",
       "      <td>2019-08-09</td>\n",
       "      <td>A</td>\n",
       "      <td>617</td>\n",
       "    </tr>\n",
       "    <tr>\n",
       "      <th>9</th>\n",
       "      <td>2019-08-10</td>\n",
       "      <td>A</td>\n",
       "      <td>406</td>\n",
       "    </tr>\n",
       "  </tbody>\n",
       "</table>\n",
       "</div>"
      ],
      "text/plain": [
       "         date group  visitors\n",
       "0  2019-08-01     A       719\n",
       "1  2019-08-02     A       619\n",
       "2  2019-08-03     A       507\n",
       "3  2019-08-04     A       717\n",
       "4  2019-08-05     A       756\n",
       "5  2019-08-06     A       667\n",
       "6  2019-08-07     A       644\n",
       "7  2019-08-08     A       610\n",
       "8  2019-08-09     A       617\n",
       "9  2019-08-10     A       406"
      ]
     },
     "execution_count": 13,
     "metadata": {},
     "output_type": "execute_result"
    }
   ],
   "source": [
    "visitors.head(10)"
   ]
  },
  {
   "cell_type": "code",
   "execution_count": 14,
   "id": "4ce49907",
   "metadata": {},
   "outputs": [
    {
     "name": "stdout",
     "output_type": "stream",
     "text": [
      "<class 'pandas.core.frame.DataFrame'>\n",
      "RangeIndex: 62 entries, 0 to 61\n",
      "Data columns (total 3 columns):\n",
      " #   Column    Non-Null Count  Dtype \n",
      "---  ------    --------------  ----- \n",
      " 0   date      62 non-null     object\n",
      " 1   group     62 non-null     object\n",
      " 2   visitors  62 non-null     int64 \n",
      "dtypes: int64(1), object(2)\n",
      "memory usage: 1.6+ KB\n"
     ]
    }
   ],
   "source": [
    "visitors.info()"
   ]
  },
  {
   "cell_type": "markdown",
   "id": "3a172945",
   "metadata": {},
   "source": [
    "Также изменим формат столбца с датами."
   ]
  },
  {
   "cell_type": "code",
   "execution_count": 15,
   "id": "f1b08976",
   "metadata": {},
   "outputs": [],
   "source": [
    "visitors['date'] = pd.to_datetime(visitors['date'])"
   ]
  },
  {
   "cell_type": "code",
   "execution_count": 16,
   "id": "c5a373d1",
   "metadata": {},
   "outputs": [
    {
     "data": {
      "text/plain": [
       "0"
      ]
     },
     "execution_count": 16,
     "metadata": {},
     "output_type": "execute_result"
    }
   ],
   "source": [
    "visitors.duplicated().sum()"
   ]
  },
  {
   "cell_type": "markdown",
   "id": "46722a43",
   "metadata": {},
   "source": [
    "Дубликатов не обнаружено."
   ]
  },
  {
   "cell_type": "markdown",
   "id": "9b703cc7",
   "metadata": {},
   "source": [
    "Далее проверим, есть ли в имеющихся данных пересекающиеся пользователи, т.е. которые принадлежат к обеим группам."
   ]
  },
  {
   "cell_type": "code",
   "execution_count": 17,
   "id": "5be3753e",
   "metadata": {},
   "outputs": [
    {
     "name": "stdout",
     "output_type": "stream",
     "text": [
      "557\n",
      "640\n",
      "58\n"
     ]
    }
   ],
   "source": [
    "group_a = orders[orders['group'] == 'A']['visitor_id']\n",
    "\n",
    "group_b = orders[orders['group'] == 'B']['visitor_id']\n",
    "\n",
    "group_a_b = pd.merge(group_a, group_b, how='inner', on=['visitor_id']).drop_duplicates()\n",
    "print(len(group_a))\n",
    "print(len(group_b))\n",
    "print(len(group_a_b))"
   ]
  },
  {
   "cell_type": "markdown",
   "id": "8fa9d7b0",
   "metadata": {},
   "source": [
    "Обнаружено, что таких пользователей 58. Удалим все покупки, совершенные данными пользователями, так как они могут исказить результаты исследования."
   ]
  },
  {
   "cell_type": "code",
   "execution_count": 18,
   "id": "c05c6e0f",
   "metadata": {},
   "outputs": [
    {
     "name": "stdout",
     "output_type": "stream",
     "text": [
      "<class 'pandas.core.frame.DataFrame'>\n",
      "Int64Index: 1016 entries, 0 to 1196\n",
      "Data columns (total 5 columns):\n",
      " #   Column          Non-Null Count  Dtype         \n",
      "---  ------          --------------  -----         \n",
      " 0   transaction_id  1016 non-null   int64         \n",
      " 1   visitor_id      1016 non-null   int64         \n",
      " 2   date            1016 non-null   datetime64[ns]\n",
      " 3   revenue         1016 non-null   int64         \n",
      " 4   group           1016 non-null   object        \n",
      "dtypes: datetime64[ns](1), int64(3), object(1)\n",
      "memory usage: 47.6+ KB\n"
     ]
    }
   ],
   "source": [
    "orders = orders[~orders['visitor_id'].isin(group_a_b['visitor_id'])]\n",
    "orders.info()\n"
   ]
  },
  {
   "cell_type": "code",
   "execution_count": 19,
   "id": "8b865a0f",
   "metadata": {},
   "outputs": [
    {
     "name": "stdout",
     "output_type": "stream",
     "text": [
      "468\n",
      "548\n"
     ]
    }
   ],
   "source": [
    "group_a = orders[orders['group'] == 'A']['visitor_id']\n",
    "\n",
    "group_b = orders[orders['group'] == 'B']['visitor_id']\n",
    "\n",
    "print(len(group_a))\n",
    "print(len(group_b))"
   ]
  },
  {
   "cell_type": "markdown",
   "id": "2e6de26c",
   "metadata": {},
   "source": [
    "Была проведена предобработка данных. Пропусков не обнаружено. Форматы столбцов с датами были приведены к формату datetime. Дубликатов не обнаружено. Но были обнаружены пользователи, которые относятся к обеим группам, строки с покупками данных пользователей в таблице orders были удалены."
   ]
  },
  {
   "cell_type": "markdown",
   "id": "981ac12f",
   "metadata": {},
   "source": [
    "## Часть 1. Приоритизация гипотез"
   ]
  },
  {
   "cell_type": "markdown",
   "id": "74382a69",
   "metadata": {},
   "source": [
    "Маркетинговый отдел подготовил 9 гипотез по увеличению выручки интернет-магазина с указанными параметрами Reach, Impact, Confidence, Effort. Сначала применим фреймворк ICE для приоритизации гипотез и отсортируем их по убыванию приоритета."
   ]
  },
  {
   "cell_type": "code",
   "execution_count": 20,
   "id": "580c763d",
   "metadata": {},
   "outputs": [],
   "source": [
    "df_ice = hypothesis"
   ]
  },
  {
   "cell_type": "code",
   "execution_count": 21,
   "id": "70f62840",
   "metadata": {},
   "outputs": [
    {
     "data": {
      "text/html": [
       "<div>\n",
       "<style scoped>\n",
       "    .dataframe tbody tr th:only-of-type {\n",
       "        vertical-align: middle;\n",
       "    }\n",
       "\n",
       "    .dataframe tbody tr th {\n",
       "        vertical-align: top;\n",
       "    }\n",
       "\n",
       "    .dataframe thead th {\n",
       "        text-align: right;\n",
       "    }\n",
       "</style>\n",
       "<table border=\"1\" class=\"dataframe\">\n",
       "  <thead>\n",
       "    <tr style=\"text-align: right;\">\n",
       "      <th></th>\n",
       "      <th>hypothesis</th>\n",
       "      <th>ICE</th>\n",
       "    </tr>\n",
       "  </thead>\n",
       "  <tbody>\n",
       "    <tr>\n",
       "      <th>8</th>\n",
       "      <td>Запустить акцию, дающую скидку на товар в день рождения</td>\n",
       "      <td>16.200000</td>\n",
       "    </tr>\n",
       "    <tr>\n",
       "      <th>0</th>\n",
       "      <td>Добавить два новых канала привлечения трафика, что позволит привлекать на 30% больше пользователей</td>\n",
       "      <td>13.333333</td>\n",
       "    </tr>\n",
       "    <tr>\n",
       "      <th>7</th>\n",
       "      <td>Добавить форму подписки на все основные страницы, чтобы собрать базу клиентов для email-рассылок</td>\n",
       "      <td>11.200000</td>\n",
       "    </tr>\n",
       "    <tr>\n",
       "      <th>6</th>\n",
       "      <td>Показать на главной странице баннеры с актуальными акциями и распродажами, чтобы увеличить конверсию</td>\n",
       "      <td>8.000000</td>\n",
       "    </tr>\n",
       "    <tr>\n",
       "      <th>2</th>\n",
       "      <td>Добавить блоки рекомендаций товаров на сайт интернет магазина, чтобы повысить конверсию и средний чек заказа</td>\n",
       "      <td>7.000000</td>\n",
       "    </tr>\n",
       "    <tr>\n",
       "      <th>1</th>\n",
       "      <td>Запустить собственную службу доставки, что сократит срок доставки заказов</td>\n",
       "      <td>2.000000</td>\n",
       "    </tr>\n",
       "    <tr>\n",
       "      <th>5</th>\n",
       "      <td>Добавить страницу отзывов клиентов о магазине, что позволит увеличить количество заказов</td>\n",
       "      <td>1.333333</td>\n",
       "    </tr>\n",
       "    <tr>\n",
       "      <th>3</th>\n",
       "      <td>Изменить структура категорий, что увеличит конверсию, т.к. пользователи быстрее найдут нужный товар</td>\n",
       "      <td>1.125000</td>\n",
       "    </tr>\n",
       "    <tr>\n",
       "      <th>4</th>\n",
       "      <td>Изменить цвет фона главной страницы, чтобы увеличить вовлеченность пользователей</td>\n",
       "      <td>1.000000</td>\n",
       "    </tr>\n",
       "  </tbody>\n",
       "</table>\n",
       "</div>"
      ],
      "text/plain": [
       "                                                                                                     hypothesis  \\\n",
       "8                                                       Запустить акцию, дающую скидку на товар в день рождения   \n",
       "0            Добавить два новых канала привлечения трафика, что позволит привлекать на 30% больше пользователей   \n",
       "7              Добавить форму подписки на все основные страницы, чтобы собрать базу клиентов для email-рассылок   \n",
       "6          Показать на главной странице баннеры с актуальными акциями и распродажами, чтобы увеличить конверсию   \n",
       "2  Добавить блоки рекомендаций товаров на сайт интернет магазина, чтобы повысить конверсию и средний чек заказа   \n",
       "1                                     Запустить собственную службу доставки, что сократит срок доставки заказов   \n",
       "5                      Добавить страницу отзывов клиентов о магазине, что позволит увеличить количество заказов   \n",
       "3           Изменить структура категорий, что увеличит конверсию, т.к. пользователи быстрее найдут нужный товар   \n",
       "4                              Изменить цвет фона главной страницы, чтобы увеличить вовлеченность пользователей   \n",
       "\n",
       "         ICE  \n",
       "8  16.200000  \n",
       "0  13.333333  \n",
       "7  11.200000  \n",
       "6   8.000000  \n",
       "2   7.000000  \n",
       "1   2.000000  \n",
       "5   1.333333  \n",
       "3   1.125000  \n",
       "4   1.000000  "
      ]
     },
     "metadata": {},
     "output_type": "display_data"
    }
   ],
   "source": [
    "df_ice['ICE'] = (df_ice['impact']*df_ice['confidence'])/df_ice['efforts']\n",
    "display(df_ice[['hypothesis', 'ICE']].sort_values(by='ICE', ascending=False))"
   ]
  },
  {
   "cell_type": "markdown",
   "id": "0bbed024",
   "metadata": {},
   "source": [
    "Согласно полученному результату, лучшие гипотезы для тестирования: 8, 0 и 7."
   ]
  },
  {
   "cell_type": "markdown",
   "id": "5301bd22",
   "metadata": {},
   "source": [
    "Далее применим фреймворк RICE для приоритизации гипотез и отсортируем их по убыванию приоритета."
   ]
  },
  {
   "cell_type": "code",
   "execution_count": 22,
   "id": "cab53dd8",
   "metadata": {},
   "outputs": [
    {
     "data": {
      "text/html": [
       "<div>\n",
       "<style scoped>\n",
       "    .dataframe tbody tr th:only-of-type {\n",
       "        vertical-align: middle;\n",
       "    }\n",
       "\n",
       "    .dataframe tbody tr th {\n",
       "        vertical-align: top;\n",
       "    }\n",
       "\n",
       "    .dataframe thead th {\n",
       "        text-align: right;\n",
       "    }\n",
       "</style>\n",
       "<table border=\"1\" class=\"dataframe\">\n",
       "  <thead>\n",
       "    <tr style=\"text-align: right;\">\n",
       "      <th></th>\n",
       "      <th>hypothesis</th>\n",
       "      <th>RICE</th>\n",
       "    </tr>\n",
       "  </thead>\n",
       "  <tbody>\n",
       "    <tr>\n",
       "      <th>7</th>\n",
       "      <td>Добавить форму подписки на все основные страницы, чтобы собрать базу клиентов для email-рассылок</td>\n",
       "      <td>112.0</td>\n",
       "    </tr>\n",
       "    <tr>\n",
       "      <th>2</th>\n",
       "      <td>Добавить блоки рекомендаций товаров на сайт интернет магазина, чтобы повысить конверсию и средний чек заказа</td>\n",
       "      <td>56.0</td>\n",
       "    </tr>\n",
       "    <tr>\n",
       "      <th>0</th>\n",
       "      <td>Добавить два новых канала привлечения трафика, что позволит привлекать на 30% больше пользователей</td>\n",
       "      <td>40.0</td>\n",
       "    </tr>\n",
       "    <tr>\n",
       "      <th>6</th>\n",
       "      <td>Показать на главной странице баннеры с актуальными акциями и распродажами, чтобы увеличить конверсию</td>\n",
       "      <td>40.0</td>\n",
       "    </tr>\n",
       "    <tr>\n",
       "      <th>8</th>\n",
       "      <td>Запустить акцию, дающую скидку на товар в день рождения</td>\n",
       "      <td>16.2</td>\n",
       "    </tr>\n",
       "    <tr>\n",
       "      <th>3</th>\n",
       "      <td>Изменить структура категорий, что увеличит конверсию, т.к. пользователи быстрее найдут нужный товар</td>\n",
       "      <td>9.0</td>\n",
       "    </tr>\n",
       "    <tr>\n",
       "      <th>1</th>\n",
       "      <td>Запустить собственную службу доставки, что сократит срок доставки заказов</td>\n",
       "      <td>4.0</td>\n",
       "    </tr>\n",
       "    <tr>\n",
       "      <th>5</th>\n",
       "      <td>Добавить страницу отзывов клиентов о магазине, что позволит увеличить количество заказов</td>\n",
       "      <td>4.0</td>\n",
       "    </tr>\n",
       "    <tr>\n",
       "      <th>4</th>\n",
       "      <td>Изменить цвет фона главной страницы, чтобы увеличить вовлеченность пользователей</td>\n",
       "      <td>3.0</td>\n",
       "    </tr>\n",
       "  </tbody>\n",
       "</table>\n",
       "</div>"
      ],
      "text/plain": [
       "                                                                                                     hypothesis  \\\n",
       "7              Добавить форму подписки на все основные страницы, чтобы собрать базу клиентов для email-рассылок   \n",
       "2  Добавить блоки рекомендаций товаров на сайт интернет магазина, чтобы повысить конверсию и средний чек заказа   \n",
       "0            Добавить два новых канала привлечения трафика, что позволит привлекать на 30% больше пользователей   \n",
       "6          Показать на главной странице баннеры с актуальными акциями и распродажами, чтобы увеличить конверсию   \n",
       "8                                                       Запустить акцию, дающую скидку на товар в день рождения   \n",
       "3           Изменить структура категорий, что увеличит конверсию, т.к. пользователи быстрее найдут нужный товар   \n",
       "1                                     Запустить собственную службу доставки, что сократит срок доставки заказов   \n",
       "5                      Добавить страницу отзывов клиентов о магазине, что позволит увеличить количество заказов   \n",
       "4                              Изменить цвет фона главной страницы, чтобы увеличить вовлеченность пользователей   \n",
       "\n",
       "    RICE  \n",
       "7  112.0  \n",
       "2   56.0  \n",
       "0   40.0  \n",
       "6   40.0  \n",
       "8   16.2  \n",
       "3    9.0  \n",
       "1    4.0  \n",
       "5    4.0  \n",
       "4    3.0  "
      ]
     },
     "metadata": {},
     "output_type": "display_data"
    }
   ],
   "source": [
    "df_rice = hypothesis\n",
    "df_rice['RICE'] = (df_rice['reach']*df_rice['impact']*df_rice['confidence'])/df_rice['efforts']\n",
    "display(df_rice[['hypothesis', 'RICE']].sort_values(by='RICE', ascending=False))"
   ]
  },
  {
   "cell_type": "markdown",
   "id": "ff7fe924",
   "metadata": {},
   "source": [
    "Объединим таблицы."
   ]
  },
  {
   "cell_type": "code",
   "execution_count": 23,
   "id": "ea56e84b",
   "metadata": {},
   "outputs": [
    {
     "data": {
      "text/html": [
       "<style type=\"text/css\">\n",
       "#T_b835b_row0_col1 {\n",
       "  background-color: #081d58;\n",
       "  color: #f1f1f1;\n",
       "}\n",
       "#T_b835b_row0_col2 {\n",
       "  background-color: #f2fabc;\n",
       "  color: #000000;\n",
       "}\n",
       "#T_b835b_row1_col1 {\n",
       "  background-color: #44b7c4;\n",
       "  color: #f1f1f1;\n",
       "}\n",
       "#T_b835b_row1_col2 {\n",
       "  background-color: #f8fcc9;\n",
       "  color: #000000;\n",
       "}\n",
       "#T_b835b_row2_col1, #T_b835b_row3_col1 {\n",
       "  background-color: #8ed3ba;\n",
       "  color: #000000;\n",
       "}\n",
       "#T_b835b_row2_col2 {\n",
       "  background-color: #eff9b6;\n",
       "  color: #000000;\n",
       "}\n",
       "#T_b835b_row3_col2 {\n",
       "  background-color: #f6fbc5;\n",
       "  color: #000000;\n",
       "}\n",
       "#T_b835b_row4_col1, #T_b835b_row4_col2 {\n",
       "  background-color: #e9f7b1;\n",
       "  color: #000000;\n",
       "}\n",
       "#T_b835b_row5_col1 {\n",
       "  background-color: #f5fbc2;\n",
       "  color: #000000;\n",
       "}\n",
       "#T_b835b_row5_col2, #T_b835b_row7_col2, #T_b835b_row8_col2 {\n",
       "  background-color: #ffffd9;\n",
       "  color: #000000;\n",
       "}\n",
       "#T_b835b_row6_col1, #T_b835b_row7_col1 {\n",
       "  background-color: #fcfed1;\n",
       "  color: #000000;\n",
       "}\n",
       "#T_b835b_row6_col2 {\n",
       "  background-color: #feffd6;\n",
       "  color: #000000;\n",
       "}\n",
       "#T_b835b_row8_col1 {\n",
       "  background-color: #fdfed4;\n",
       "  color: #000000;\n",
       "}\n",
       "</style>\n",
       "<table id=\"T_b835b_\">\n",
       "  <thead>\n",
       "    <tr>\n",
       "      <th class=\"blank level0\" >&nbsp;</th>\n",
       "      <th class=\"col_heading level0 col0\" >hypothesis</th>\n",
       "      <th class=\"col_heading level0 col1\" >RICE</th>\n",
       "      <th class=\"col_heading level0 col2\" >ICE</th>\n",
       "    </tr>\n",
       "  </thead>\n",
       "  <tbody>\n",
       "    <tr>\n",
       "      <th id=\"T_b835b_level0_row0\" class=\"row_heading level0 row0\" >7</th>\n",
       "      <td id=\"T_b835b_row0_col0\" class=\"data row0 col0\" >Добавить форму подписки на все основные страницы, чтобы собрать базу клиентов для email-рассылок</td>\n",
       "      <td id=\"T_b835b_row0_col1\" class=\"data row0 col1\" >112.000000</td>\n",
       "      <td id=\"T_b835b_row0_col2\" class=\"data row0 col2\" >11.200000</td>\n",
       "    </tr>\n",
       "    <tr>\n",
       "      <th id=\"T_b835b_level0_row1\" class=\"row_heading level0 row1\" >2</th>\n",
       "      <td id=\"T_b835b_row1_col0\" class=\"data row1 col0\" >Добавить блоки рекомендаций товаров на сайт интернет магазина, чтобы повысить конверсию и средний чек заказа</td>\n",
       "      <td id=\"T_b835b_row1_col1\" class=\"data row1 col1\" >56.000000</td>\n",
       "      <td id=\"T_b835b_row1_col2\" class=\"data row1 col2\" >7.000000</td>\n",
       "    </tr>\n",
       "    <tr>\n",
       "      <th id=\"T_b835b_level0_row2\" class=\"row_heading level0 row2\" >0</th>\n",
       "      <td id=\"T_b835b_row2_col0\" class=\"data row2 col0\" >Добавить два новых канала привлечения трафика, что позволит привлекать на 30% больше пользователей</td>\n",
       "      <td id=\"T_b835b_row2_col1\" class=\"data row2 col1\" >40.000000</td>\n",
       "      <td id=\"T_b835b_row2_col2\" class=\"data row2 col2\" >13.333333</td>\n",
       "    </tr>\n",
       "    <tr>\n",
       "      <th id=\"T_b835b_level0_row3\" class=\"row_heading level0 row3\" >6</th>\n",
       "      <td id=\"T_b835b_row3_col0\" class=\"data row3 col0\" >Показать на главной странице баннеры с актуальными акциями и распродажами, чтобы увеличить конверсию</td>\n",
       "      <td id=\"T_b835b_row3_col1\" class=\"data row3 col1\" >40.000000</td>\n",
       "      <td id=\"T_b835b_row3_col2\" class=\"data row3 col2\" >8.000000</td>\n",
       "    </tr>\n",
       "    <tr>\n",
       "      <th id=\"T_b835b_level0_row4\" class=\"row_heading level0 row4\" >8</th>\n",
       "      <td id=\"T_b835b_row4_col0\" class=\"data row4 col0\" >Запустить акцию, дающую скидку на товар в день рождения</td>\n",
       "      <td id=\"T_b835b_row4_col1\" class=\"data row4 col1\" >16.200000</td>\n",
       "      <td id=\"T_b835b_row4_col2\" class=\"data row4 col2\" >16.200000</td>\n",
       "    </tr>\n",
       "    <tr>\n",
       "      <th id=\"T_b835b_level0_row5\" class=\"row_heading level0 row5\" >3</th>\n",
       "      <td id=\"T_b835b_row5_col0\" class=\"data row5 col0\" >Изменить структура категорий, что увеличит конверсию, т.к. пользователи быстрее найдут нужный товар</td>\n",
       "      <td id=\"T_b835b_row5_col1\" class=\"data row5 col1\" >9.000000</td>\n",
       "      <td id=\"T_b835b_row5_col2\" class=\"data row5 col2\" >1.125000</td>\n",
       "    </tr>\n",
       "    <tr>\n",
       "      <th id=\"T_b835b_level0_row6\" class=\"row_heading level0 row6\" >1</th>\n",
       "      <td id=\"T_b835b_row6_col0\" class=\"data row6 col0\" >Запустить собственную службу доставки, что сократит срок доставки заказов</td>\n",
       "      <td id=\"T_b835b_row6_col1\" class=\"data row6 col1\" >4.000000</td>\n",
       "      <td id=\"T_b835b_row6_col2\" class=\"data row6 col2\" >2.000000</td>\n",
       "    </tr>\n",
       "    <tr>\n",
       "      <th id=\"T_b835b_level0_row7\" class=\"row_heading level0 row7\" >5</th>\n",
       "      <td id=\"T_b835b_row7_col0\" class=\"data row7 col0\" >Добавить страницу отзывов клиентов о магазине, что позволит увеличить количество заказов</td>\n",
       "      <td id=\"T_b835b_row7_col1\" class=\"data row7 col1\" >4.000000</td>\n",
       "      <td id=\"T_b835b_row7_col2\" class=\"data row7 col2\" >1.333333</td>\n",
       "    </tr>\n",
       "    <tr>\n",
       "      <th id=\"T_b835b_level0_row8\" class=\"row_heading level0 row8\" >4</th>\n",
       "      <td id=\"T_b835b_row8_col0\" class=\"data row8 col0\" >Изменить цвет фона главной страницы, чтобы увеличить вовлеченность пользователей</td>\n",
       "      <td id=\"T_b835b_row8_col1\" class=\"data row8 col1\" >3.000000</td>\n",
       "      <td id=\"T_b835b_row8_col2\" class=\"data row8 col2\" >1.000000</td>\n",
       "    </tr>\n",
       "  </tbody>\n",
       "</table>\n"
      ],
      "text/plain": [
       "<pandas.io.formats.style.Styler at 0x1a666445760>"
      ]
     },
     "execution_count": 23,
     "metadata": {},
     "output_type": "execute_result"
    }
   ],
   "source": [
    "df_ice_rice = pd.concat([df_ice, df_rice], join = 'inner', axis = 0).drop_duplicates().sort_values(by = 'RICE', ascending = False)\n",
    "df_ice_rice_filtered = df_ice_rice[['hypothesis', 'RICE', 'ICE']]\n",
    "df_ice_rice_filtered.style.background_gradient(axis=None, vmin=1, vmax=112, cmap=\"YlGnBu\")"
   ]
  },
  {
   "cell_type": "markdown",
   "id": "f9a465d9",
   "metadata": {},
   "source": [
    "Исходя из результатов приоритетными гипотезами являются: 7, 2 и 0.  Объядинив результаты двух подходов, мы видим, что приоритезация гипотез изменилась, так как фреймворк RICE учитывает еще один параметр - Reach. Reach - уровень охвата, измеряется количеством людей/событий за определенный период времени. Этот фактор предназначен для оценки того, сколько  пользователей увидят такие изменения.\n",
    "Исходя из полученных результатов, мы рекомендуем к тестированию гипотезы 0 и 7."
   ]
  },
  {
   "cell_type": "markdown",
   "id": "de98eddd",
   "metadata": {},
   "source": [
    "## Часть 2. Анализ A/B-теста"
   ]
  },
  {
   "cell_type": "markdown",
   "id": "cc1155de",
   "metadata": {},
   "source": [
    "Далее проведем A/B-тест для оценки результатов применения выбранной гипотезы."
   ]
  },
  {
   "cell_type": "markdown",
   "id": "58cfd2f7",
   "metadata": {},
   "source": [
    "### График кумулятивной выручки по группам"
   ]
  },
  {
   "cell_type": "markdown",
   "id": "c376fb20",
   "metadata": {},
   "source": [
    "Тест длился в течение месяца. Посторим график кумулятивной выручки за месяц."
   ]
  },
  {
   "cell_type": "code",
   "execution_count": 24,
   "id": "476059e8",
   "metadata": {},
   "outputs": [
    {
     "data": {
      "image/png": "[encoded data removed]",
      "text/plain": [
       "<Figure size 864x432 with 1 Axes>"
      ]
     },
     "metadata": {
      "needs_background": "light"
     },
     "output_type": "display_data"
    }
   ],
   "source": [
    "datesGroups = orders[['date', 'group']].drop_duplicates()\n",
    "\n",
    "ordersAggregated = datesGroups.apply(\n",
    "    lambda x: orders[\n",
    "        np.logical_and(\n",
    "            orders['date'] <= x['date'], orders['group'] == x['group']\n",
    "        )\n",
    "    ].agg(\n",
    "        {\n",
    "            'date': 'max',\n",
    "            'group': 'max',\n",
    "            'transaction_id': 'nunique',\n",
    "            'visitor_id': 'nunique',\n",
    "            'revenue': 'sum',\n",
    "        }\n",
    "    ),\n",
    "    axis=1,\n",
    ").sort_values(by=['date', 'group'])\n",
    "\n",
    "visitorsAggregated = datesGroups.apply(\n",
    "    lambda x: visitors[\n",
    "        np.logical_and(\n",
    "            visitors['date'] <= x['date'], visitors['group'] == x['group']\n",
    "        )\n",
    "    ].agg({'date': 'max', 'group': 'max', 'visitors': 'sum'}),\n",
    "    axis=1,\n",
    ").sort_values(by=['date', 'group'])\n",
    "\n",
    "cumulativeData = ordersAggregated.merge(\n",
    "    visitorsAggregated, left_on=['date', 'group'], right_on=['date', 'group']\n",
    ")\n",
    "cumulativeData.columns = [\n",
    "    'date',\n",
    "    'group',\n",
    "    'orders',\n",
    "    'buyers',\n",
    "    'revenue',\n",
    "    'visitors',\n",
    "]\n",
    "\n",
    "cumulativeRevenueA = cumulativeData[cumulativeData['group']=='A'][['date','revenue', 'orders']]\n",
    "\n",
    "cumulativeRevenueB = cumulativeData[cumulativeData['group']=='B'][['date','revenue', 'orders']]\n",
    "\n",
    "plt.figure(figsize=(12,6))\n",
    "\n",
    "plt.plot(cumulativeRevenueA['date'], cumulativeRevenueA['revenue'], label='A')\n",
    "\n",
    "plt.plot(cumulativeRevenueB['date'], cumulativeRevenueB['revenue'], label='B')\n",
    "\n",
    "plt.xlabel('Дата')\n",
    "plt.ylabel('Выручка')\n",
    "\n",
    "plt.title('Кумулятивная выручка по группам')\n",
    "\n",
    "plt.legend() \n",
    "\n",
    "plt.show()"
   ]
  },
  {
   "cell_type": "markdown",
   "id": "d7a49150",
   "metadata": {},
   "source": [
    "График показывает что кумулятивная выручка группы В стабильно выше аналогичного показателя группы А. Но в группе В наблюдается всплеск, что может отразится на конечных выводах. Поэтому анализ всплесков проведем ниже. "
   ]
  },
  {
   "cell_type": "markdown",
   "id": "cc84ec96",
   "metadata": {},
   "source": [
    "### График кумулятивного среднего чека по группам"
   ]
  },
  {
   "cell_type": "markdown",
   "id": "b3525873",
   "metadata": {},
   "source": [
    "Построим график кумулятивного среднего чека. "
   ]
  },
  {
   "cell_type": "code",
   "execution_count": 25,
   "id": "941de15f",
   "metadata": {},
   "outputs": [
    {
     "data": {
      "image/png": "[encoded data removed]",
      "text/plain": [
       "<Figure size 864x432 with 1 Axes>"
      ]
     },
     "metadata": {
      "needs_background": "light"
     },
     "output_type": "display_data"
    }
   ],
   "source": [
    "plt.figure(figsize=(12,6))\n",
    "plt.plot(cumulativeRevenueA['date'], cumulativeRevenueA['revenue']/cumulativeRevenueA['orders'], label='A')\n",
    "plt.plot(cumulativeRevenueB['date'], cumulativeRevenueB['revenue']/cumulativeRevenueB['orders'], label='B')\n",
    "plt.legend() \n",
    "\n",
    "plt.xlabel('Дата')\n",
    "plt.ylabel('Средний чек, руб.')\n",
    "\n",
    "plt.title('Кумулятивный средний чек по группам')\n",
    "\n",
    "plt.show()"
   ]
  },
  {
   "cell_type": "markdown",
   "id": "51e49213",
   "metadata": {},
   "source": [
    "График показывает, что и в случае размера кумулятивного среднего чека группа В имеет лучшие результаты. Средний чек в группе В превышает 9000 рублей, в то время как в группе А он немного выше 7000. Но также, как и на предыдущем графике в группе В присутсвует всплеск, который мог повлиять на общий результат."
   ]
  },
  {
   "cell_type": "markdown",
   "id": "7d0cbc7e",
   "metadata": {},
   "source": [
    "### График относительного изменения кумулятивного среднего чека группы B к группе A"
   ]
  },
  {
   "cell_type": "code",
   "execution_count": 26,
   "id": "8f942310",
   "metadata": {
    "scrolled": false
   },
   "outputs": [
    {
     "data": {
      "image/png": "[encoded data removed]",
      "text/plain": [
       "<Figure size 864x432 with 1 Axes>"
      ]
     },
     "metadata": {
      "needs_background": "light"
     },
     "output_type": "display_data"
    }
   ],
   "source": [
    "mergedCumulativeRevenue = cumulativeRevenueA.merge(cumulativeRevenueB, left_on='date', right_on='date', how='left', suffixes=['A', 'B'])\n",
    "\n",
    "plt.figure(figsize=(12,6))\n",
    "plt.plot(mergedCumulativeRevenue['date'], (mergedCumulativeRevenue['revenueB']/mergedCumulativeRevenue['ordersB'])/(mergedCumulativeRevenue['revenueA']/mergedCumulativeRevenue['ordersA'])-1)\n",
    "\n",
    "plt.axhline(y=0, color='black', linestyle='--') \n",
    "\n",
    "plt.xlabel('Дата')\n",
    "\n",
    "plt.title('Относительное изменение кумулятивного среднего чека группы B к группе A')\n",
    "\n",
    "plt.show()"
   ]
  },
  {
   "cell_type": "markdown",
   "id": "946c883f",
   "metadata": {},
   "source": [
    "Средний кумулятивный чек группы В превышает аналогичный показатель группы А почти на 30%. "
   ]
  },
  {
   "cell_type": "markdown",
   "id": "d972e371",
   "metadata": {},
   "source": [
    "### График кумулятивной конверсии по группам"
   ]
  },
  {
   "cell_type": "code",
   "execution_count": 27,
   "id": "3b309d06",
   "metadata": {},
   "outputs": [
    {
     "data": {
      "image/png": "[encoded data removed]",
      "text/plain": [
       "<Figure size 864x432 with 1 Axes>"
      ]
     },
     "metadata": {
      "needs_background": "light"
     },
     "output_type": "display_data"
    }
   ],
   "source": [
    "cumulativeData['conversion'] = cumulativeData['orders']/cumulativeData['visitors']\n",
    "\n",
    "cumulativeDataA = cumulativeData[cumulativeData['group']=='A']\n",
    "\n",
    "cumulativeDataB = cumulativeData[cumulativeData['group']=='B']\n",
    "\n",
    "plt.figure(figsize=(12,6))\n",
    "plt.plot(cumulativeDataA['date'], cumulativeDataA['conversion'], label='A')\n",
    "plt.plot(cumulativeDataB['date'], cumulativeDataB['conversion'], label='B')\n",
    "plt.legend()\n",
    "\n",
    "plt.axis([dt.datetime(2019, 7, 31), dt.datetime(2019, 9, 1), 0.02, 0.04])\n",
    "\n",
    "plt.xlabel('Дата')\n",
    "plt.ylabel('Кумулятивная конверсия')\n",
    "\n",
    "plt.title('Кумулятивная конверсия по группам')\n",
    "\n",
    "plt.show()"
   ]
  },
  {
   "cell_type": "markdown",
   "id": "feaf3056",
   "metadata": {},
   "source": [
    "Группа В также показывает более высокую конверсию из посетителей в покупателей примерно 3%. В то время, как кумулятивная конверсия в группе А равна 2,5%."
   ]
  },
  {
   "cell_type": "markdown",
   "id": "eacdf9bf",
   "metadata": {},
   "source": [
    "### График относительного изменения кумулятивной конверсии группы B к группе A"
   ]
  },
  {
   "cell_type": "code",
   "execution_count": 28,
   "id": "f59dbdd4",
   "metadata": {},
   "outputs": [
    {
     "data": {
      "image/png": "[encoded data removed]",
      "text/plain": [
       "<Figure size 864x432 with 1 Axes>"
      ]
     },
     "metadata": {
      "needs_background": "light"
     },
     "output_type": "display_data"
    }
   ],
   "source": [
    "mergedCumulativeConversions = cumulativeDataA[['date','conversion']].merge(cumulativeDataB[['date','conversion']], left_on='date', right_on='date', how='left', suffixes=['A', 'B'])\n",
    "\n",
    "plt.figure(figsize=(12,6))\n",
    "plt.plot(mergedCumulativeConversions['date'], mergedCumulativeConversions['conversionB']/mergedCumulativeConversions['conversionA']-1, label=\"Относительный прирост конверсии группы B относительно группы A\")\n",
    "plt.legend()\n",
    "\n",
    "plt.axhline(y=0, color='black', linestyle='--')\n",
    "plt.axhline(y=0.2, color='grey', linestyle='--')\n",
    "plt.axis([\"2019-07-31\", '2019-09-01', -0.4, 0.4])\n",
    "\n",
    "plt.xlabel('Дата')\n",
    "\n",
    "plt.title('Относительное изменение кумулятивной конверсии группы B к группе A')\n",
    "\n",
    "plt.show()"
   ]
  },
  {
   "cell_type": "markdown",
   "id": "0dedbb68",
   "metadata": {},
   "source": [
    "Уже после первой недели тестирования конверсия группы В стабильно показывает более высокое значение. "
   ]
  },
  {
   "cell_type": "markdown",
   "id": "d6a7d6d7",
   "metadata": {},
   "source": [
    "### Точечный график количества заказов по пользователям"
   ]
  },
  {
   "cell_type": "markdown",
   "id": "5dba655a",
   "metadata": {},
   "source": [
    "Для анализа выбросов и всплесков построим точечный график количества заказов на каждого пользователя."
   ]
  },
  {
   "cell_type": "code",
   "execution_count": 29,
   "id": "86581deb",
   "metadata": {},
   "outputs": [
    {
     "name": "stdout",
     "output_type": "stream",
     "text": [
      "     visitor_id  orders\n",
      "908  3967698036       3\n",
      "55    249864742       3\n",
      "478  2108163459       3\n",
      "687  2988190573       3\n",
      "890  3908431265       3\n",
      "138   611059232       3\n",
      "632  2742574263       3\n",
      "157   678354126       2\n",
      "323  1404560065       2\n",
      "452  1985475298       2\n"
     ]
    },
    {
     "data": {
      "image/png": "[encoded data removed]",
      "text/plain": [
       "<Figure size 432x288 with 1 Axes>"
      ]
     },
     "metadata": {
      "needs_background": "light"
     },
     "output_type": "display_data"
    }
   ],
   "source": [
    "ordersByUsers = (\n",
    "    orders.groupby('visitor_id', as_index=False)\n",
    "    .agg({'transaction_id': 'nunique'})\n",
    ")\n",
    "ordersByUsers.columns = ['visitor_id', 'orders']\n",
    "\n",
    "print(ordersByUsers.sort_values(by='orders', ascending=False).head(10))\n",
    "\n",
    "# серия из чисел от 0 до количества наблюдений в ordersByUsers\n",
    "x_values = pd.Series(range(0, len(ordersByUsers)))\n",
    "\n",
    "plt.scatter(x_values, ordersByUsers['orders']) \n",
    "\n",
    "plt.xlabel('Покупатель')\n",
    "plt.ylabel('Количество покупок')\n",
    "\n",
    "plt.title('Количество заказов по пользователям')\n",
    "\n",
    "plt.show()"
   ]
  },
  {
   "cell_type": "markdown",
   "id": "fb438249",
   "metadata": {},
   "source": [
    "На графике мы видим, что большая часть покупателей делает не более 2 заказов. Найдем 95-ый и 99-ый перцентили количества заказов на пользователя, чтобы точнее определить границу для определения аномальных заказов."
   ]
  },
  {
   "cell_type": "markdown",
   "id": "3c44f349",
   "metadata": {},
   "source": [
    "### Расчет 95-й и 99-й перцентили количества заказов на пользователя"
   ]
  },
  {
   "cell_type": "code",
   "execution_count": 30,
   "id": "ebe14fa0",
   "metadata": {},
   "outputs": [
    {
     "name": "stdout",
     "output_type": "stream",
     "text": [
      "[1. 2.]\n"
     ]
    }
   ],
   "source": [
    "print(np.percentile(ordersByUsers['orders'], [95, 99])) \n"
   ]
  },
  {
   "cell_type": "markdown",
   "id": "a84b17c2",
   "metadata": {},
   "source": [
    "Мы делаем вывод, что 99% покупателей делают не более 2 заказов за исследуемый период, а 95% не более одного."
   ]
  },
  {
   "cell_type": "markdown",
   "id": "36bb19c0",
   "metadata": {},
   "source": [
    "### Точечный график стоимостей заказов"
   ]
  },
  {
   "cell_type": "markdown",
   "id": "a10114fc",
   "metadata": {},
   "source": [
    "Построим точечный график стоимостей заказов для определения аномальной суммы заказа."
   ]
  },
  {
   "cell_type": "code",
   "execution_count": 31,
   "id": "3de7fe4f",
   "metadata": {},
   "outputs": [
    {
     "name": "stdout",
     "output_type": "stream",
     "text": [
      "      transaction_id  visitor_id       date  revenue group\n",
      "425        590470918  1920142716 2019-08-19  1294500     B\n",
      "1196      3936777065  2108080724 2019-08-15   202740     B\n",
      "1136       666610489  1307669133 2019-08-13    92550     A\n",
      "744       3668308183   888512513 2019-08-27    86620     B\n",
      "743       3603576309  4133034833 2019-08-09    67990     A\n",
      "1103      1348774318  1164614297 2019-08-12    66350     A\n",
      "1099       316924019   148427295 2019-08-12    65710     A\n",
      "949       1347999392   887908475 2019-08-21    60450     A\n",
      "940       2420050534  4003628586 2019-08-08    58550     B\n",
      "131       3163614039  2254586615 2019-08-22    53904     A\n"
     ]
    },
    {
     "data": {
      "image/png": "[encoded data removed]",
      "text/plain": [
       "<Figure size 432x288 with 1 Axes>"
      ]
     },
     "metadata": {
      "needs_background": "light"
     },
     "output_type": "display_data"
    }
   ],
   "source": [
    "print(orders.sort_values(by='revenue', ascending=False).head(10))\n",
    "\n",
    "x_values = pd.Series(range(0, len(orders['revenue'])))\n",
    "plt.scatter(x_values, orders['revenue']) \n",
    "\n",
    "plt.xlabel('Покупатель')\n",
    "plt.ylabel('Сумма заказов')\n",
    "\n",
    "plt.title('Стоимость заказов по пользователям')\n",
    "\n",
    "plt.show()"
   ]
  },
  {
   "cell_type": "markdown",
   "id": "fe9d717a",
   "metadata": {},
   "source": [
    "Всего было 2 заказа с аномальной суммой.  "
   ]
  },
  {
   "cell_type": "markdown",
   "id": "e70fcff6",
   "metadata": {},
   "source": [
    "### Расчет 95-й и 99-й перцентили стоимости заказов\n"
   ]
  },
  {
   "cell_type": "code",
   "execution_count": 32,
   "id": "66f7978f",
   "metadata": {},
   "outputs": [
    {
     "name": "stdout",
     "output_type": "stream",
     "text": [
      "[26785. 53904.]\n"
     ]
    }
   ],
   "source": [
    "print(np.percentile(orders['revenue'], [95, 99])) "
   ]
  },
  {
   "cell_type": "markdown",
   "id": "9303dd80",
   "metadata": {},
   "source": [
    " 95% пользователей делают заказы на сумму не более 26785 рублей. Мы исключим из анализа 2 самых дорогих заказа."
   ]
  },
  {
   "cell_type": "markdown",
   "id": "555128a6",
   "metadata": {},
   "source": [
    "### Статистическая значимость различий в конверсии между группами по «сырым» данным"
   ]
  },
  {
   "cell_type": "markdown",
   "id": "932b5c33",
   "metadata": {},
   "source": [
    "Проведем статистический анализ развличий в конверсии между группами A и В по \"сырым\" данным с помощью непараметрического теста Уилкоксона-Манна-Уитни. Сформулируем гипотезы. \n",
    "\n",
    "* Н0: Нет различий в конверсии между группами A и В. \n",
    "* Н1: Есть различия в конверсии между группами А и В. "
   ]
  },
  {
   "cell_type": "code",
   "execution_count": 33,
   "id": "36e05e65",
   "metadata": {},
   "outputs": [
    {
     "name": "stdout",
     "output_type": "stream",
     "text": [
      "p-value = 0.011\n",
      "0.160\n"
     ]
    }
   ],
   "source": [
    "ordersByUsersA = (\n",
    "    orders[orders['group'] == 'A']\n",
    "    .groupby('visitor_id', as_index=False)\n",
    "    .agg({'transaction_id': pd.Series.nunique})\n",
    ")\n",
    "ordersByUsersA.columns = ['visitor_id', 'orders']\n",
    "\n",
    "ordersByUsersB = (\n",
    "    orders[orders['group'] == 'B']\n",
    "    .groupby('visitor_id', as_index=False)\n",
    "    .agg({'transaction_id': pd.Series.nunique})\n",
    ")\n",
    "ordersByUsersB.columns = ['visitor_id', 'orders'] \n",
    "\n",
    "visitorsPerDateA = visitors.query('group == \"A\"')\n",
    "\n",
    "visitorsPerDateB = visitors.query('group == \"B\"')\n",
    "                                   \n",
    "\n",
    "sampleA = pd.concat([ordersByUsersA['orders'],pd.Series(0, index=np.arange(visitorsPerDateA['visitors'].sum() - len(ordersByUsersA['orders'])), name='orders')],axis=0)\n",
    "\n",
    "sampleB = pd.concat([ordersByUsersB['orders'],pd.Series(0, index=np.arange(visitorsPerDateB['visitors'].sum() - len(ordersByUsersB['orders'])), name='orders')],axis=0)\n",
    "\n",
    "print('p-value =',  \"{0:.3f}\".format(stats.mannwhitneyu(sampleA, sampleB)[1]))\n",
    "\n",
    "print(\"{0:.3f}\".format(sampleB.mean() / sampleA.mean() - 1))\n",
    "\n"
   ]
  },
  {
   "cell_type": "markdown",
   "id": "a749278f",
   "metadata": {},
   "source": [
    "Первое число — p-value = 0.011, что меньше  0.05. Значит, нулевую гипотезу о том, что статистически значимых различий в среднем числе заказов между группами нет, мы отвергаем. Конверсия группы В больше на 16%."
   ]
  },
  {
   "cell_type": "markdown",
   "id": "8c48333e",
   "metadata": {},
   "source": [
    "### Cтатистическая значимость различий в среднем чеке заказа между группами по «сырым» данным"
   ]
  },
  {
   "cell_type": "markdown",
   "id": "583b0fac",
   "metadata": {},
   "source": [
    "Нулевая гипотеза: различий в среднем чеке закза между группами нет. Альтернативная: различия в среднем чеке между группами есть."
   ]
  },
  {
   "cell_type": "code",
   "execution_count": 34,
   "id": "425ffa5b",
   "metadata": {},
   "outputs": [
    {
     "name": "stdout",
     "output_type": "stream",
     "text": [
      "p-value = 0.829\n",
      "0.287\n"
     ]
    }
   ],
   "source": [
    "print('p-value =', '{0:.3f}'.format(stats.mannwhitneyu(orders[orders['group']=='A']['revenue'], orders[orders['group']=='B']['revenue'])[1]))\n",
    "print('{0:.3f}'.format(orders[orders['group']=='B']['revenue'].mean()/orders[orders['group']=='A']['revenue'].mean()-1))"
   ]
  },
  {
   "cell_type": "markdown",
   "id": "20f23c96",
   "metadata": {},
   "source": [
    "P-value выше значения 0.05, это означает, что мы не отвергаем нулевую гипотезу, отличий в среднем чеке нет. Наблюдаемое различие в 28,7% не является статистически значимым."
   ]
  },
  {
   "cell_type": "markdown",
   "id": "decb93b5",
   "metadata": {},
   "source": [
    "### Cтатистическую значимость различий в конверсии между группами по «очищенным» данным"
   ]
  },
  {
   "cell_type": "markdown",
   "id": "857115b3",
   "metadata": {},
   "source": [
    "Далее удалим из анализа всех пользователей, совершивших аномальное количество заказов (больше 2) или заказов на аномально высокую сумму (более 20000) и посчитаем статистическую значимость еще раз."
   ]
  },
  {
   "cell_type": "code",
   "execution_count": 35,
   "id": "55a7ea02",
   "metadata": {},
   "outputs": [
    {
     "name": "stdout",
     "output_type": "stream",
     "text": [
      "568     113298937\n",
      "1099    148427295\n",
      "461     154576532\n",
      "928     204675465\n",
      "33      249864742\n",
      "684     358944393\n",
      "648     382846391\n",
      "58      611059232\n",
      "751     689129267\n",
      "1137    759473111\n",
      "Name: visitor_id, dtype: int64\n"
     ]
    }
   ],
   "source": [
    "orders_lim = 2\n",
    "revenue_lim = 20000\n",
    "\n",
    "usersWithManyOrders = pd.concat(\n",
    "    [\n",
    "        ordersByUsersA[ordersByUsersA['orders'] > orders_lim]['visitor_id'],\n",
    "        ordersByUsersB[ordersByUsersB['orders'] > orders_lim]['visitor_id'],\n",
    "    ],\n",
    "    axis=0,\n",
    ")\n",
    "usersWithExpensiveOrders = orders[orders['revenue'] > revenue_lim]['visitor_id']\n",
    "abnormalUsers = (\n",
    "    pd.concat([usersWithManyOrders, usersWithExpensiveOrders], axis=0)\n",
    "    .drop_duplicates()\n",
    "    .sort_values()\n",
    ")\n",
    "print(abnormalUsers.head(10))\n"
   ]
  },
  {
   "cell_type": "markdown",
   "id": "786643a8",
   "metadata": {},
   "source": [
    "Рассчитаем статистическую значимость различий в конверсии между группами по «очищенным» данным. Гипотезы остаются прежнеми. Нулевая: различий в конверсии между группами нет. Альтернативная: различия в конверсии между группами есть."
   ]
  },
  {
   "cell_type": "code",
   "execution_count": 36,
   "id": "61ebd4ce",
   "metadata": {},
   "outputs": [
    {
     "name": "stdout",
     "output_type": "stream",
     "text": [
      "p-value = 0.014\n",
      "0.181\n"
     ]
    }
   ],
   "source": [
    "sampleAFiltered = pd.concat(\n",
    "    [\n",
    "        ordersByUsersA[\n",
    "            np.logical_not(ordersByUsersA['visitor_id'].isin(abnormalUsers))\n",
    "        ]['orders'],\n",
    "       pd.Series(0, index=np.arange(visitorsPerDateA['visitors'].sum() - len(ordersByUsersA['orders'])), name='orders')],axis=0)\n",
    "\n",
    "sampleBFiltered = pd.concat(\n",
    "    [\n",
    "        ordersByUsersB[\n",
    "            np.logical_not(ordersByUsersB['visitor_id'].isin(abnormalUsers))\n",
    "        ]['orders'],\n",
    "       pd.Series(0, index=np.arange(visitorsPerDateB['visitors'].sum() - len(ordersByUsersB['orders'])), name='orders')],axis=0)\n",
    "\n",
    "print('p-value =', '{0:.3f}'.format(stats.mannwhitneyu(sampleAFiltered, sampleBFiltered)[1]))\n",
    "print('{0:.3f}'.format(sampleBFiltered.mean()/sampleAFiltered.mean()-1))"
   ]
  },
  {
   "cell_type": "markdown",
   "id": "00ae112a",
   "metadata": {},
   "source": [
    "Расчеты показали, что p-value = 0.014, что  также меньше 0.05. Значит, нулевую гипотезу о том, что статистически значимых различий в среднем числе заказов между группами нет, мы отвергаем. Конверсия группы В больше на 18,1%."
   ]
  },
  {
   "cell_type": "markdown",
   "id": "9f3830cc",
   "metadata": {},
   "source": [
    "### Cтатистическая значимость различий в среднем чеке заказа между группами по «очищенным» данным "
   ]
  },
  {
   "cell_type": "markdown",
   "id": "e17dba74",
   "metadata": {},
   "source": [
    "Нулевая гипотеза: различий в среднем чеке закза между группами нет. Альтернативная: различия в среднем чеке между группами есть."
   ]
  },
  {
   "cell_type": "code",
   "execution_count": 37,
   "id": "7f1d9110",
   "metadata": {},
   "outputs": [
    {
     "name": "stdout",
     "output_type": "stream",
     "text": [
      "p-value = 0.617\n",
      "-0.060\n"
     ]
    }
   ],
   "source": [
    "print('p-value =',\n",
    "    '{0:.3f}'.format(\n",
    "        stats.mannwhitneyu(\n",
    "            orders[\n",
    "                np.logical_and(\n",
    "                    orders['group'] == 'A',\n",
    "                    np.logical_not(orders['visitor_id'].isin(abnormalUsers)),\n",
    "                )\n",
    "            ]['revenue'],\n",
    "            orders[\n",
    "                np.logical_and(\n",
    "                    orders['group'] == 'B',\n",
    "                    np.logical_not(orders['visitor_id'].isin(abnormalUsers)),\n",
    "                )\n",
    "            ]['revenue'],\n",
    "        )[1]\n",
    "    )\n",
    ")\n",
    "\n",
    "print(\n",
    "    \"{0:.3f}\".format(\n",
    "        orders[\n",
    "            np.logical_and(\n",
    "                orders['group'] == 'B',\n",
    "                np.logical_not(orders['visitor_id'].isin(abnormalUsers)),\n",
    "            )\n",
    "        ]['revenue'].mean()\n",
    "        / orders[\n",
    "            np.logical_and(\n",
    "                orders['group'] == 'A',\n",
    "                np.logical_not(orders['visitor_id'].isin(abnormalUsers)),\n",
    "            )\n",
    "        ]['revenue'].mean()\n",
    "        - 1\n",
    "    )\n",
    ")"
   ]
  },
  {
   "cell_type": "markdown",
   "id": "b141456e",
   "metadata": {},
   "source": [
    "P-value значительно выше значения 0.05, это означает, что мы не отвергаем нулевую гипотезу, отличий в среднем чеке нет, относительный проигрыш группы В составляет 6% и не является статистически значимым."
   ]
  },
  {
   "cell_type": "markdown",
   "id": "60fd6f4e",
   "metadata": {},
   "source": [
    "## Результаты теста "
   ]
  },
  {
   "cell_type": "markdown",
   "id": "b51c9774",
   "metadata": {},
   "source": [
    "Для проведения тестирования гипотез по увеличению выручки были использованы 3 датасета с данными о гипотезах, количестве посетителей и покупателей онлайн-магазина. \n",
    "\n",
    "В процессе предобработки названия всех столбцов приведены к нижнему регистру, форматы столбцов с датами приведены к формату datetime. Пропусков и дубликатов не обнаружено. \n",
    "\n",
    "Были обнаружены пересечения в группах. Количество пересекающихся пользователей 58. Все покупки, совершенные данными пользователями были уданы из датасета orders.\n",
    "\n",
    "По показателям кумулятивной выручки, кумулятивному среднему чеку и кумулятивной конверсии устойчиво более высокие результаты показывала группа В. Но после устранения пользователей с аномально высоким количеством заказов и суммой заказа, статистический анализ показал:\n",
    "1. Статистически значимые различия в среднем числе заказов между группами есть. Конверсия группы В больше на 18,1%.\n",
    "2. В тоже самое время статистически значимых отличий в среднем чеке нет, а относительный проигрыш группы В составляет 6%.\n",
    "\n",
    "Исходя из полученных результатов, рекомендуем остановить тест, зафиксировать победу группы B, так как за счет более высокой конверсии объем выручки будет получен расти. "
   ]
  }
 ],
 "metadata": {
  "ExecuteTimeLog": [
   {
    "duration": 1215,
    "start_time": "2022-08-05T10:33:11.594Z"
   },
   {
    "duration": 101,
    "start_time": "2022-08-05T10:33:12.811Z"
   },
   {
    "duration": 149,
    "start_time": "2022-08-05T10:33:12.914Z"
   },
   {
    "duration": 98,
    "start_time": "2022-08-05T10:33:13.065Z"
   },
   {
    "duration": 12,
    "start_time": "2022-08-05T10:33:13.164Z"
   },
   {
    "duration": 4,
    "start_time": "2022-08-05T10:33:13.178Z"
   },
   {
    "duration": 13,
    "start_time": "2022-08-05T10:33:13.184Z"
   },
   {
    "duration": 13,
    "start_time": "2022-08-05T10:33:13.198Z"
   },
   {
    "duration": 5,
    "start_time": "2022-08-05T10:33:13.213Z"
   },
   {
    "duration": 11,
    "start_time": "2022-08-05T10:33:13.221Z"
   },
   {
    "duration": 9,
    "start_time": "2022-08-05T10:33:13.234Z"
   },
   {
    "duration": 14,
    "start_time": "2022-08-05T10:33:13.245Z"
   },
   {
    "duration": 11,
    "start_time": "2022-08-05T10:33:13.260Z"
   },
   {
    "duration": 31,
    "start_time": "2022-08-05T10:33:13.272Z"
   },
   {
    "duration": 4,
    "start_time": "2022-08-05T10:33:13.305Z"
   },
   {
    "duration": 11,
    "start_time": "2022-08-05T10:33:13.310Z"
   },
   {
    "duration": 6,
    "start_time": "2022-08-05T10:33:13.323Z"
   },
   {
    "duration": 14,
    "start_time": "2022-08-05T10:33:13.331Z"
   },
   {
    "duration": 12,
    "start_time": "2022-08-05T10:33:13.347Z"
   },
   {
    "duration": 580,
    "start_time": "2022-08-05T10:33:13.361Z"
   },
   {
    "duration": 207,
    "start_time": "2022-08-05T10:33:13.943Z"
   },
   {
    "duration": 301,
    "start_time": "2022-08-05T10:33:14.152Z"
   },
   {
    "duration": 263,
    "start_time": "2022-08-05T10:33:14.455Z"
   },
   {
    "duration": 311,
    "start_time": "2022-08-05T10:33:14.720Z"
   },
   {
    "duration": 133,
    "start_time": "2022-08-05T10:33:15.033Z"
   },
   {
    "duration": 4,
    "start_time": "2022-08-05T10:33:15.168Z"
   },
   {
    "duration": 156,
    "start_time": "2022-08-05T10:33:15.174Z"
   },
   {
    "duration": 4,
    "start_time": "2022-08-05T10:33:15.334Z"
   },
   {
    "duration": 260,
    "start_time": "2022-08-05T10:33:15.339Z"
   },
   {
    "duration": 10,
    "start_time": "2022-08-05T10:33:15.601Z"
   },
   {
    "duration": 8,
    "start_time": "2022-08-05T10:33:15.613Z"
   },
   {
    "duration": 26,
    "start_time": "2022-08-05T10:33:15.623Z"
   },
   {
    "duration": 14,
    "start_time": "2022-08-05T10:33:15.650Z"
   },
   {
    "duration": 49,
    "start_time": "2022-08-07T01:59:43.994Z"
   },
   {
    "duration": 1496,
    "start_time": "2022-08-07T01:59:55.782Z"
   },
   {
    "duration": 103,
    "start_time": "2022-08-07T01:59:57.280Z"
   },
   {
    "duration": 103,
    "start_time": "2022-08-07T01:59:57.385Z"
   },
   {
    "duration": 89,
    "start_time": "2022-08-07T01:59:57.490Z"
   },
   {
    "duration": 13,
    "start_time": "2022-08-07T01:59:57.581Z"
   },
   {
    "duration": 4,
    "start_time": "2022-08-07T01:59:57.595Z"
   },
   {
    "duration": 16,
    "start_time": "2022-08-07T01:59:57.601Z"
   },
   {
    "duration": 11,
    "start_time": "2022-08-07T01:59:57.619Z"
   },
   {
    "duration": 6,
    "start_time": "2022-08-07T01:59:57.631Z"
   },
   {
    "duration": 14,
    "start_time": "2022-08-07T01:59:57.639Z"
   },
   {
    "duration": 9,
    "start_time": "2022-08-07T01:59:57.654Z"
   },
   {
    "duration": 31,
    "start_time": "2022-08-07T01:59:57.664Z"
   },
   {
    "duration": 8,
    "start_time": "2022-08-07T01:59:57.697Z"
   },
   {
    "duration": 29,
    "start_time": "2022-08-07T01:59:57.707Z"
   },
   {
    "duration": 17,
    "start_time": "2022-08-07T01:59:57.738Z"
   },
   {
    "duration": 16,
    "start_time": "2022-08-07T01:59:57.756Z"
   },
   {
    "duration": 9,
    "start_time": "2022-08-07T01:59:57.774Z"
   },
   {
    "duration": 15,
    "start_time": "2022-08-07T01:59:57.784Z"
   },
   {
    "duration": 11,
    "start_time": "2022-08-07T01:59:57.801Z"
   },
   {
    "duration": 25,
    "start_time": "2022-08-07T01:59:57.814Z"
   },
   {
    "duration": 605,
    "start_time": "2022-08-07T01:59:57.841Z"
   },
   {
    "duration": 219,
    "start_time": "2022-08-07T01:59:58.448Z"
   },
   {
    "duration": 371,
    "start_time": "2022-08-07T01:59:58.669Z"
   },
   {
    "duration": 224,
    "start_time": "2022-08-07T01:59:59.042Z"
   },
   {
    "duration": 366,
    "start_time": "2022-08-07T01:59:59.268Z"
   },
   {
    "duration": 141,
    "start_time": "2022-08-07T01:59:59.636Z"
   },
   {
    "duration": 15,
    "start_time": "2022-08-07T01:59:59.779Z"
   },
   {
    "duration": 150,
    "start_time": "2022-08-07T01:59:59.797Z"
   },
   {
    "duration": 6,
    "start_time": "2022-08-07T01:59:59.949Z"
   },
   {
    "duration": 281,
    "start_time": "2022-08-07T01:59:59.957Z"
   },
   {
    "duration": 11,
    "start_time": "2022-08-07T02:00:00.240Z"
   },
   {
    "duration": 19,
    "start_time": "2022-08-07T02:00:00.253Z"
   },
   {
    "duration": 46,
    "start_time": "2022-08-07T02:00:00.274Z"
   },
   {
    "duration": 25,
    "start_time": "2022-08-07T02:00:00.322Z"
   },
   {
    "duration": 120,
    "start_time": "2022-08-07T02:01:39.421Z"
   },
   {
    "duration": 19,
    "start_time": "2022-08-07T02:01:48.285Z"
   },
   {
    "duration": 19,
    "start_time": "2022-08-07T02:02:12.287Z"
   },
   {
    "duration": 18,
    "start_time": "2022-08-07T02:02:23.036Z"
   },
   {
    "duration": 17,
    "start_time": "2022-08-07T02:06:06.794Z"
   },
   {
    "duration": 9,
    "start_time": "2022-08-07T02:06:32.133Z"
   },
   {
    "duration": 11,
    "start_time": "2022-08-07T02:08:45.076Z"
   },
   {
    "duration": 14,
    "start_time": "2022-08-07T02:08:50.612Z"
   },
   {
    "duration": 17,
    "start_time": "2022-08-07T02:09:35.080Z"
   },
   {
    "duration": 16,
    "start_time": "2022-08-07T02:09:48.827Z"
   },
   {
    "duration": 80,
    "start_time": "2022-08-07T02:10:39.552Z"
   },
   {
    "duration": 14,
    "start_time": "2022-08-07T02:10:49.571Z"
   },
   {
    "duration": 14,
    "start_time": "2022-08-07T02:11:02.773Z"
   },
   {
    "duration": 15,
    "start_time": "2022-08-07T02:11:36.508Z"
   },
   {
    "duration": 14,
    "start_time": "2022-08-07T02:12:35.376Z"
   },
   {
    "duration": 23,
    "start_time": "2022-08-07T02:12:59.607Z"
   },
   {
    "duration": 75,
    "start_time": "2022-08-07T02:15:46.363Z"
   },
   {
    "duration": 10,
    "start_time": "2022-08-07T02:40:55.144Z"
   },
   {
    "duration": 10,
    "start_time": "2022-08-07T02:43:03.492Z"
   },
   {
    "duration": 9,
    "start_time": "2022-08-07T02:43:06.975Z"
   },
   {
    "duration": 17,
    "start_time": "2022-08-07T02:43:16.791Z"
   },
   {
    "duration": 17,
    "start_time": "2022-08-07T02:43:53.861Z"
   },
   {
    "duration": 9,
    "start_time": "2022-08-07T02:44:10.062Z"
   },
   {
    "duration": 11,
    "start_time": "2022-08-07T02:44:37.184Z"
   },
   {
    "duration": 11,
    "start_time": "2022-08-07T02:51:03.951Z"
   },
   {
    "duration": 9,
    "start_time": "2022-08-07T02:51:12.780Z"
   },
   {
    "duration": 4,
    "start_time": "2022-08-07T02:51:13.440Z"
   },
   {
    "duration": 13,
    "start_time": "2022-08-07T02:51:26.084Z"
   },
   {
    "duration": 12,
    "start_time": "2022-08-07T02:51:33.652Z"
   },
   {
    "duration": 15,
    "start_time": "2022-08-07T02:52:15.619Z"
   },
   {
    "duration": 13,
    "start_time": "2022-08-07T02:52:36.126Z"
   },
   {
    "duration": 13,
    "start_time": "2022-08-07T02:56:45.417Z"
   },
   {
    "duration": 14,
    "start_time": "2022-08-07T02:56:53.435Z"
   },
   {
    "duration": 1274,
    "start_time": "2022-08-07T02:57:15.488Z"
   },
   {
    "duration": 60,
    "start_time": "2022-08-07T02:57:16.764Z"
   },
   {
    "duration": 77,
    "start_time": "2022-08-07T02:57:16.826Z"
   },
   {
    "duration": 47,
    "start_time": "2022-08-07T02:57:16.906Z"
   },
   {
    "duration": 12,
    "start_time": "2022-08-07T02:57:16.955Z"
   },
   {
    "duration": 8,
    "start_time": "2022-08-07T02:57:16.969Z"
   },
   {
    "duration": 22,
    "start_time": "2022-08-07T02:57:16.978Z"
   },
   {
    "duration": 11,
    "start_time": "2022-08-07T02:57:17.002Z"
   },
   {
    "duration": 16,
    "start_time": "2022-08-07T02:57:17.015Z"
   },
   {
    "duration": 35,
    "start_time": "2022-08-07T02:57:17.033Z"
   },
   {
    "duration": 12,
    "start_time": "2022-08-07T02:57:17.070Z"
   },
   {
    "duration": 10,
    "start_time": "2022-08-07T02:57:17.083Z"
   },
   {
    "duration": 8,
    "start_time": "2022-08-07T02:57:17.094Z"
   },
   {
    "duration": 12,
    "start_time": "2022-08-07T02:57:17.104Z"
   },
   {
    "duration": 35,
    "start_time": "2022-08-07T02:57:17.118Z"
   },
   {
    "duration": 12,
    "start_time": "2022-08-07T02:57:17.156Z"
   },
   {
    "duration": 23,
    "start_time": "2022-08-07T02:57:17.170Z"
   },
   {
    "duration": 119,
    "start_time": "2022-08-07T02:57:17.195Z"
   },
   {
    "duration": 0,
    "start_time": "2022-08-07T02:57:17.317Z"
   },
   {
    "duration": 0,
    "start_time": "2022-08-07T02:57:17.318Z"
   },
   {
    "duration": 0,
    "start_time": "2022-08-07T02:57:17.319Z"
   },
   {
    "duration": 0,
    "start_time": "2022-08-07T02:57:17.320Z"
   },
   {
    "duration": 0,
    "start_time": "2022-08-07T02:57:17.321Z"
   },
   {
    "duration": 0,
    "start_time": "2022-08-07T02:57:17.322Z"
   },
   {
    "duration": 0,
    "start_time": "2022-08-07T02:57:17.324Z"
   },
   {
    "duration": 0,
    "start_time": "2022-08-07T02:57:17.325Z"
   },
   {
    "duration": 0,
    "start_time": "2022-08-07T02:57:17.326Z"
   },
   {
    "duration": 0,
    "start_time": "2022-08-07T02:57:17.327Z"
   },
   {
    "duration": 0,
    "start_time": "2022-08-07T02:57:17.328Z"
   },
   {
    "duration": 0,
    "start_time": "2022-08-07T02:57:17.329Z"
   },
   {
    "duration": 0,
    "start_time": "2022-08-07T02:57:17.330Z"
   },
   {
    "duration": 0,
    "start_time": "2022-08-07T02:57:17.331Z"
   },
   {
    "duration": 0,
    "start_time": "2022-08-07T02:57:17.332Z"
   },
   {
    "duration": 0,
    "start_time": "2022-08-07T02:57:17.333Z"
   },
   {
    "duration": 0,
    "start_time": "2022-08-07T02:57:17.334Z"
   },
   {
    "duration": 0,
    "start_time": "2022-08-07T02:57:17.335Z"
   },
   {
    "duration": 16,
    "start_time": "2022-08-07T02:57:35.751Z"
   },
   {
    "duration": 18,
    "start_time": "2022-08-07T02:57:56.515Z"
   },
   {
    "duration": 15,
    "start_time": "2022-08-07T02:58:20.475Z"
   },
   {
    "duration": 11,
    "start_time": "2022-08-07T02:58:26.134Z"
   },
   {
    "duration": 13,
    "start_time": "2022-08-07T02:58:40.336Z"
   },
   {
    "duration": 12,
    "start_time": "2022-08-07T02:58:53.915Z"
   },
   {
    "duration": 13,
    "start_time": "2022-08-07T03:01:21.427Z"
   },
   {
    "duration": 1287,
    "start_time": "2022-08-07T03:01:40.745Z"
   },
   {
    "duration": 65,
    "start_time": "2022-08-07T03:01:42.035Z"
   },
   {
    "duration": 72,
    "start_time": "2022-08-07T03:01:42.102Z"
   },
   {
    "duration": 85,
    "start_time": "2022-08-07T03:01:42.177Z"
   },
   {
    "duration": 13,
    "start_time": "2022-08-07T03:01:42.264Z"
   },
   {
    "duration": 13,
    "start_time": "2022-08-07T03:01:42.279Z"
   },
   {
    "duration": 20,
    "start_time": "2022-08-07T03:01:42.293Z"
   },
   {
    "duration": 17,
    "start_time": "2022-08-07T03:01:42.314Z"
   },
   {
    "duration": 27,
    "start_time": "2022-08-07T03:01:42.332Z"
   },
   {
    "duration": 24,
    "start_time": "2022-08-07T03:01:42.361Z"
   },
   {
    "duration": 32,
    "start_time": "2022-08-07T03:01:42.387Z"
   },
   {
    "duration": 27,
    "start_time": "2022-08-07T03:01:42.421Z"
   },
   {
    "duration": 19,
    "start_time": "2022-08-07T03:01:42.450Z"
   },
   {
    "duration": 20,
    "start_time": "2022-08-07T03:01:42.470Z"
   },
   {
    "duration": 17,
    "start_time": "2022-08-07T03:01:42.492Z"
   },
   {
    "duration": 19,
    "start_time": "2022-08-07T03:01:42.511Z"
   },
   {
    "duration": 18,
    "start_time": "2022-08-07T03:01:42.531Z"
   },
   {
    "duration": 106,
    "start_time": "2022-08-07T03:01:42.551Z"
   },
   {
    "duration": 0,
    "start_time": "2022-08-07T03:01:42.659Z"
   },
   {
    "duration": 0,
    "start_time": "2022-08-07T03:01:42.660Z"
   },
   {
    "duration": 0,
    "start_time": "2022-08-07T03:01:42.662Z"
   },
   {
    "duration": 0,
    "start_time": "2022-08-07T03:01:42.663Z"
   },
   {
    "duration": 0,
    "start_time": "2022-08-07T03:01:42.664Z"
   },
   {
    "duration": 0,
    "start_time": "2022-08-07T03:01:42.666Z"
   },
   {
    "duration": 0,
    "start_time": "2022-08-07T03:01:42.667Z"
   },
   {
    "duration": 0,
    "start_time": "2022-08-07T03:01:42.668Z"
   },
   {
    "duration": 0,
    "start_time": "2022-08-07T03:01:42.669Z"
   },
   {
    "duration": 0,
    "start_time": "2022-08-07T03:01:42.670Z"
   },
   {
    "duration": 0,
    "start_time": "2022-08-07T03:01:42.671Z"
   },
   {
    "duration": 0,
    "start_time": "2022-08-07T03:01:42.692Z"
   },
   {
    "duration": 0,
    "start_time": "2022-08-07T03:01:42.694Z"
   },
   {
    "duration": 0,
    "start_time": "2022-08-07T03:01:42.695Z"
   },
   {
    "duration": 0,
    "start_time": "2022-08-07T03:01:42.696Z"
   },
   {
    "duration": 0,
    "start_time": "2022-08-07T03:01:42.697Z"
   },
   {
    "duration": 0,
    "start_time": "2022-08-07T03:01:42.699Z"
   },
   {
    "duration": 0,
    "start_time": "2022-08-07T03:01:42.700Z"
   },
   {
    "duration": 4,
    "start_time": "2022-08-07T03:02:00.791Z"
   },
   {
    "duration": 12,
    "start_time": "2022-08-07T03:02:15.329Z"
   },
   {
    "duration": 1253,
    "start_time": "2022-08-07T03:07:43.726Z"
   },
   {
    "duration": 80,
    "start_time": "2022-08-07T03:07:44.981Z"
   },
   {
    "duration": 87,
    "start_time": "2022-08-07T03:07:45.063Z"
   },
   {
    "duration": 50,
    "start_time": "2022-08-07T03:07:45.152Z"
   },
   {
    "duration": 12,
    "start_time": "2022-08-07T03:07:45.205Z"
   },
   {
    "duration": 4,
    "start_time": "2022-08-07T03:07:45.219Z"
   },
   {
    "duration": 14,
    "start_time": "2022-08-07T03:07:45.225Z"
   },
   {
    "duration": 15,
    "start_time": "2022-08-07T03:07:45.241Z"
   },
   {
    "duration": 8,
    "start_time": "2022-08-07T03:07:45.258Z"
   },
   {
    "duration": 29,
    "start_time": "2022-08-07T03:07:45.269Z"
   },
   {
    "duration": 8,
    "start_time": "2022-08-07T03:07:45.300Z"
   },
   {
    "duration": 10,
    "start_time": "2022-08-07T03:07:45.309Z"
   },
   {
    "duration": 10,
    "start_time": "2022-08-07T03:07:45.321Z"
   },
   {
    "duration": 15,
    "start_time": "2022-08-07T03:07:45.333Z"
   },
   {
    "duration": 6,
    "start_time": "2022-08-07T03:07:45.350Z"
   },
   {
    "duration": 9,
    "start_time": "2022-08-07T03:07:45.358Z"
   },
   {
    "duration": 13,
    "start_time": "2022-08-07T03:07:45.392Z"
   },
   {
    "duration": 125,
    "start_time": "2022-08-07T03:07:45.406Z"
   },
   {
    "duration": 0,
    "start_time": "2022-08-07T03:07:45.533Z"
   },
   {
    "duration": 0,
    "start_time": "2022-08-07T03:07:45.534Z"
   },
   {
    "duration": 0,
    "start_time": "2022-08-07T03:07:45.535Z"
   },
   {
    "duration": 0,
    "start_time": "2022-08-07T03:07:45.537Z"
   },
   {
    "duration": 0,
    "start_time": "2022-08-07T03:07:45.538Z"
   },
   {
    "duration": 0,
    "start_time": "2022-08-07T03:07:45.539Z"
   },
   {
    "duration": 0,
    "start_time": "2022-08-07T03:07:45.540Z"
   },
   {
    "duration": 0,
    "start_time": "2022-08-07T03:07:45.541Z"
   },
   {
    "duration": 0,
    "start_time": "2022-08-07T03:07:45.542Z"
   },
   {
    "duration": 0,
    "start_time": "2022-08-07T03:07:45.544Z"
   },
   {
    "duration": 0,
    "start_time": "2022-08-07T03:07:45.545Z"
   },
   {
    "duration": 0,
    "start_time": "2022-08-07T03:07:45.546Z"
   },
   {
    "duration": 0,
    "start_time": "2022-08-07T03:07:45.547Z"
   },
   {
    "duration": 0,
    "start_time": "2022-08-07T03:07:45.548Z"
   },
   {
    "duration": 0,
    "start_time": "2022-08-07T03:07:45.549Z"
   },
   {
    "duration": 0,
    "start_time": "2022-08-07T03:07:45.550Z"
   },
   {
    "duration": 0,
    "start_time": "2022-08-07T03:07:45.551Z"
   },
   {
    "duration": 0,
    "start_time": "2022-08-07T03:07:45.553Z"
   },
   {
    "duration": 72,
    "start_time": "2022-08-07T03:13:39.598Z"
   },
   {
    "duration": 76,
    "start_time": "2022-08-07T03:13:50.913Z"
   },
   {
    "duration": 10,
    "start_time": "2022-08-07T03:13:56.904Z"
   },
   {
    "duration": 10,
    "start_time": "2022-08-07T03:14:20.523Z"
   },
   {
    "duration": 6,
    "start_time": "2022-08-07T03:14:29.092Z"
   },
   {
    "duration": 13,
    "start_time": "2022-08-07T03:14:56.490Z"
   },
   {
    "duration": 10,
    "start_time": "2022-08-07T03:15:07.770Z"
   },
   {
    "duration": 1287,
    "start_time": "2022-08-07T03:15:20.934Z"
   },
   {
    "duration": 63,
    "start_time": "2022-08-07T03:15:22.223Z"
   },
   {
    "duration": 76,
    "start_time": "2022-08-07T03:15:22.288Z"
   },
   {
    "duration": 53,
    "start_time": "2022-08-07T03:15:22.366Z"
   },
   {
    "duration": 12,
    "start_time": "2022-08-07T03:15:22.421Z"
   },
   {
    "duration": 9,
    "start_time": "2022-08-07T03:15:22.435Z"
   },
   {
    "duration": 31,
    "start_time": "2022-08-07T03:15:22.446Z"
   },
   {
    "duration": 12,
    "start_time": "2022-08-07T03:15:22.478Z"
   },
   {
    "duration": 6,
    "start_time": "2022-08-07T03:15:22.492Z"
   },
   {
    "duration": 16,
    "start_time": "2022-08-07T03:15:22.500Z"
   },
   {
    "duration": 11,
    "start_time": "2022-08-07T03:15:22.517Z"
   },
   {
    "duration": 9,
    "start_time": "2022-08-07T03:15:22.530Z"
   },
   {
    "duration": 8,
    "start_time": "2022-08-07T03:15:22.541Z"
   },
   {
    "duration": 12,
    "start_time": "2022-08-07T03:15:22.551Z"
   },
   {
    "duration": 28,
    "start_time": "2022-08-07T03:15:22.565Z"
   },
   {
    "duration": 8,
    "start_time": "2022-08-07T03:15:22.595Z"
   },
   {
    "duration": 14,
    "start_time": "2022-08-07T03:15:22.605Z"
   },
   {
    "duration": 14,
    "start_time": "2022-08-07T03:15:22.621Z"
   },
   {
    "duration": 48,
    "start_time": "2022-08-07T03:15:22.637Z"
   },
   {
    "duration": 0,
    "start_time": "2022-08-07T03:15:22.687Z"
   },
   {
    "duration": 0,
    "start_time": "2022-08-07T03:15:22.688Z"
   },
   {
    "duration": 0,
    "start_time": "2022-08-07T03:15:22.689Z"
   },
   {
    "duration": 0,
    "start_time": "2022-08-07T03:15:22.690Z"
   },
   {
    "duration": 0,
    "start_time": "2022-08-07T03:15:22.691Z"
   },
   {
    "duration": 0,
    "start_time": "2022-08-07T03:15:22.692Z"
   },
   {
    "duration": 0,
    "start_time": "2022-08-07T03:15:22.692Z"
   },
   {
    "duration": 0,
    "start_time": "2022-08-07T03:15:22.694Z"
   },
   {
    "duration": 0,
    "start_time": "2022-08-07T03:15:22.695Z"
   },
   {
    "duration": 0,
    "start_time": "2022-08-07T03:15:22.696Z"
   },
   {
    "duration": 0,
    "start_time": "2022-08-07T03:15:22.697Z"
   },
   {
    "duration": 0,
    "start_time": "2022-08-07T03:15:22.698Z"
   },
   {
    "duration": 0,
    "start_time": "2022-08-07T03:15:22.699Z"
   },
   {
    "duration": 0,
    "start_time": "2022-08-07T03:15:22.700Z"
   },
   {
    "duration": 0,
    "start_time": "2022-08-07T03:15:22.701Z"
   },
   {
    "duration": 0,
    "start_time": "2022-08-07T03:15:22.702Z"
   },
   {
    "duration": 0,
    "start_time": "2022-08-07T03:15:22.704Z"
   },
   {
    "duration": 0,
    "start_time": "2022-08-07T03:15:22.704Z"
   },
   {
    "duration": 44,
    "start_time": "2022-08-07T03:16:36.995Z"
   },
   {
    "duration": 15,
    "start_time": "2022-08-07T03:16:53.230Z"
   },
   {
    "duration": 9,
    "start_time": "2022-08-07T03:17:15.933Z"
   },
   {
    "duration": 14,
    "start_time": "2022-08-07T03:17:48.773Z"
   },
   {
    "duration": 15,
    "start_time": "2022-08-07T03:17:57.607Z"
   },
   {
    "duration": 13,
    "start_time": "2022-08-07T03:20:39.715Z"
   },
   {
    "duration": 14,
    "start_time": "2022-08-07T03:21:13.615Z"
   },
   {
    "duration": 1230,
    "start_time": "2022-08-07T03:21:46.042Z"
   },
   {
    "duration": 61,
    "start_time": "2022-08-07T03:21:47.274Z"
   },
   {
    "duration": 70,
    "start_time": "2022-08-07T03:21:47.337Z"
   },
   {
    "duration": 53,
    "start_time": "2022-08-07T03:21:47.409Z"
   },
   {
    "duration": 13,
    "start_time": "2022-08-07T03:21:47.464Z"
   },
   {
    "duration": 13,
    "start_time": "2022-08-07T03:21:47.479Z"
   },
   {
    "duration": 20,
    "start_time": "2022-08-07T03:21:47.495Z"
   },
   {
    "duration": 18,
    "start_time": "2022-08-07T03:21:47.518Z"
   },
   {
    "duration": 3,
    "start_time": "2022-08-07T03:21:47.538Z"
   },
   {
    "duration": 11,
    "start_time": "2022-08-07T03:21:47.544Z"
   },
   {
    "duration": 6,
    "start_time": "2022-08-07T03:21:47.557Z"
   },
   {
    "duration": 8,
    "start_time": "2022-08-07T03:21:47.565Z"
   },
   {
    "duration": 13,
    "start_time": "2022-08-07T03:21:47.598Z"
   },
   {
    "duration": 22,
    "start_time": "2022-08-07T03:21:47.612Z"
   },
   {
    "duration": 5,
    "start_time": "2022-08-07T03:21:47.636Z"
   },
   {
    "duration": 8,
    "start_time": "2022-08-07T03:21:47.643Z"
   },
   {
    "duration": 10,
    "start_time": "2022-08-07T03:21:47.653Z"
   },
   {
    "duration": 8,
    "start_time": "2022-08-07T03:21:47.665Z"
   },
   {
    "duration": 14,
    "start_time": "2022-08-07T03:21:47.691Z"
   },
   {
    "duration": 4,
    "start_time": "2022-08-07T03:21:47.707Z"
   },
   {
    "duration": 15,
    "start_time": "2022-08-07T03:21:47.713Z"
   },
   {
    "duration": 12,
    "start_time": "2022-08-07T03:21:47.729Z"
   },
   {
    "duration": 49,
    "start_time": "2022-08-07T03:21:47.743Z"
   },
   {
    "duration": 623,
    "start_time": "2022-08-07T03:21:47.794Z"
   },
   {
    "duration": 232,
    "start_time": "2022-08-07T03:21:48.419Z"
   },
   {
    "duration": 365,
    "start_time": "2022-08-07T03:21:48.652Z"
   },
   {
    "duration": 239,
    "start_time": "2022-08-07T03:21:49.019Z"
   },
   {
    "duration": 386,
    "start_time": "2022-08-07T03:21:49.263Z"
   },
   {
    "duration": 173,
    "start_time": "2022-08-07T03:21:49.650Z"
   },
   {
    "duration": 4,
    "start_time": "2022-08-07T03:21:49.826Z"
   },
   {
    "duration": 180,
    "start_time": "2022-08-07T03:21:49.832Z"
   },
   {
    "duration": 6,
    "start_time": "2022-08-07T03:21:50.014Z"
   },
   {
    "duration": 294,
    "start_time": "2022-08-07T03:21:50.022Z"
   },
   {
    "duration": 11,
    "start_time": "2022-08-07T03:21:50.318Z"
   },
   {
    "duration": 13,
    "start_time": "2022-08-07T03:21:50.331Z"
   },
   {
    "duration": 50,
    "start_time": "2022-08-07T03:21:50.346Z"
   },
   {
    "duration": 15,
    "start_time": "2022-08-07T03:21:50.398Z"
   },
   {
    "duration": 16,
    "start_time": "2022-08-07T03:24:20.168Z"
   },
   {
    "duration": 13,
    "start_time": "2022-08-07T03:24:39.627Z"
   },
   {
    "duration": 1269,
    "start_time": "2022-08-07T03:36:00.641Z"
   },
   {
    "duration": 129,
    "start_time": "2022-08-07T03:36:01.913Z"
   },
   {
    "duration": 138,
    "start_time": "2022-08-07T03:36:02.044Z"
   },
   {
    "duration": 138,
    "start_time": "2022-08-07T03:36:02.185Z"
   },
   {
    "duration": 13,
    "start_time": "2022-08-07T03:36:02.325Z"
   },
   {
    "duration": 8,
    "start_time": "2022-08-07T03:36:02.340Z"
   },
   {
    "duration": 23,
    "start_time": "2022-08-07T03:36:02.350Z"
   },
   {
    "duration": 19,
    "start_time": "2022-08-07T03:36:02.374Z"
   },
   {
    "duration": 8,
    "start_time": "2022-08-07T03:36:02.395Z"
   },
   {
    "duration": 25,
    "start_time": "2022-08-07T03:36:02.406Z"
   },
   {
    "duration": 36,
    "start_time": "2022-08-07T03:36:02.433Z"
   },
   {
    "duration": 15,
    "start_time": "2022-08-07T03:36:02.471Z"
   },
   {
    "duration": 21,
    "start_time": "2022-08-07T03:36:02.488Z"
   },
   {
    "duration": 22,
    "start_time": "2022-08-07T03:36:02.511Z"
   },
   {
    "duration": 14,
    "start_time": "2022-08-07T03:36:02.535Z"
   },
   {
    "duration": 16,
    "start_time": "2022-08-07T03:36:02.551Z"
   },
   {
    "duration": 18,
    "start_time": "2022-08-07T03:36:02.569Z"
   },
   {
    "duration": 16,
    "start_time": "2022-08-07T03:36:02.588Z"
   },
   {
    "duration": 4,
    "start_time": "2022-08-07T03:36:02.605Z"
   },
   {
    "duration": 15,
    "start_time": "2022-08-07T03:36:02.611Z"
   },
   {
    "duration": 12,
    "start_time": "2022-08-07T03:36:02.628Z"
   },
   {
    "duration": 17,
    "start_time": "2022-08-07T03:36:02.642Z"
   },
   {
    "duration": 598,
    "start_time": "2022-08-07T03:36:02.661Z"
   },
   {
    "duration": 219,
    "start_time": "2022-08-07T03:36:03.260Z"
   },
   {
    "duration": 317,
    "start_time": "2022-08-07T03:36:03.480Z"
   },
   {
    "duration": 240,
    "start_time": "2022-08-07T03:36:03.800Z"
   },
   {
    "duration": 368,
    "start_time": "2022-08-07T03:36:04.042Z"
   },
   {
    "duration": 155,
    "start_time": "2022-08-07T03:36:04.414Z"
   },
   {
    "duration": 4,
    "start_time": "2022-08-07T03:36:04.571Z"
   },
   {
    "duration": 163,
    "start_time": "2022-08-07T03:36:04.577Z"
   },
   {
    "duration": 5,
    "start_time": "2022-08-07T03:36:04.741Z"
   },
   {
    "duration": 283,
    "start_time": "2022-08-07T03:36:04.747Z"
   },
   {
    "duration": 12,
    "start_time": "2022-08-07T03:36:05.032Z"
   },
   {
    "duration": 11,
    "start_time": "2022-08-07T03:36:05.046Z"
   },
   {
    "duration": 63,
    "start_time": "2022-08-07T03:36:05.059Z"
   },
   {
    "duration": 14,
    "start_time": "2022-08-07T03:36:05.124Z"
   },
   {
    "duration": 11,
    "start_time": "2022-08-07T03:37:24.561Z"
   },
   {
    "duration": 6,
    "start_time": "2022-08-07T03:38:00.788Z"
   },
   {
    "duration": 1268,
    "start_time": "2022-08-07T03:38:12.499Z"
   },
   {
    "duration": 62,
    "start_time": "2022-08-07T03:38:13.769Z"
   },
   {
    "duration": 75,
    "start_time": "2022-08-07T03:38:13.833Z"
   },
   {
    "duration": 50,
    "start_time": "2022-08-07T03:38:13.911Z"
   },
   {
    "duration": 14,
    "start_time": "2022-08-07T03:38:13.963Z"
   },
   {
    "duration": 4,
    "start_time": "2022-08-07T03:38:13.979Z"
   },
   {
    "duration": 14,
    "start_time": "2022-08-07T03:38:13.985Z"
   },
   {
    "duration": 23,
    "start_time": "2022-08-07T03:38:14.001Z"
   },
   {
    "duration": 5,
    "start_time": "2022-08-07T03:38:14.026Z"
   },
   {
    "duration": 15,
    "start_time": "2022-08-07T03:38:14.034Z"
   },
   {
    "duration": 22,
    "start_time": "2022-08-07T03:38:14.051Z"
   },
   {
    "duration": 10,
    "start_time": "2022-08-07T03:38:14.075Z"
   },
   {
    "duration": 8,
    "start_time": "2022-08-07T03:38:14.086Z"
   },
   {
    "duration": 42,
    "start_time": "2022-08-07T03:38:14.096Z"
   },
   {
    "duration": 8,
    "start_time": "2022-08-07T03:38:14.140Z"
   },
   {
    "duration": 12,
    "start_time": "2022-08-07T03:38:14.150Z"
   },
   {
    "duration": 14,
    "start_time": "2022-08-07T03:38:14.164Z"
   },
   {
    "duration": 18,
    "start_time": "2022-08-07T03:38:14.180Z"
   },
   {
    "duration": 31,
    "start_time": "2022-08-07T03:38:14.200Z"
   },
   {
    "duration": 11,
    "start_time": "2022-08-07T03:38:14.233Z"
   },
   {
    "duration": 27,
    "start_time": "2022-08-07T03:38:14.246Z"
   },
   {
    "duration": 17,
    "start_time": "2022-08-07T03:38:14.274Z"
   },
   {
    "duration": 26,
    "start_time": "2022-08-07T03:38:14.292Z"
   },
   {
    "duration": 587,
    "start_time": "2022-08-07T03:38:14.320Z"
   },
   {
    "duration": 227,
    "start_time": "2022-08-07T03:38:14.909Z"
   },
   {
    "duration": 275,
    "start_time": "2022-08-07T03:38:15.138Z"
   },
   {
    "duration": 228,
    "start_time": "2022-08-07T03:38:15.414Z"
   },
   {
    "duration": 337,
    "start_time": "2022-08-07T03:38:15.646Z"
   },
   {
    "duration": 161,
    "start_time": "2022-08-07T03:38:15.985Z"
   },
   {
    "duration": 5,
    "start_time": "2022-08-07T03:38:16.148Z"
   },
   {
    "duration": 158,
    "start_time": "2022-08-07T03:38:16.155Z"
   },
   {
    "duration": 4,
    "start_time": "2022-08-07T03:38:16.315Z"
   },
   {
    "duration": 267,
    "start_time": "2022-08-07T03:38:16.320Z"
   },
   {
    "duration": 11,
    "start_time": "2022-08-07T03:38:16.592Z"
   },
   {
    "duration": 12,
    "start_time": "2022-08-07T03:38:16.604Z"
   },
   {
    "duration": 37,
    "start_time": "2022-08-07T03:38:16.618Z"
   },
   {
    "duration": 41,
    "start_time": "2022-08-07T03:38:16.656Z"
   },
   {
    "duration": 531,
    "start_time": "2022-08-07T03:39:36.780Z"
   },
   {
    "duration": 530,
    "start_time": "2022-08-07T03:46:21.321Z"
   },
   {
    "duration": 219,
    "start_time": "2022-08-07T03:50:38.207Z"
   },
   {
    "duration": 309,
    "start_time": "2022-08-07T03:53:03.188Z"
   },
   {
    "duration": 246,
    "start_time": "2022-08-07T03:54:29.208Z"
   },
   {
    "duration": 230,
    "start_time": "2022-08-07T03:55:02.222Z"
   },
   {
    "duration": 321,
    "start_time": "2022-08-07T03:56:05.423Z"
   },
   {
    "duration": 162,
    "start_time": "2022-08-07T03:57:30.181Z"
   },
   {
    "duration": 5,
    "start_time": "2022-08-07T03:58:27.083Z"
   },
   {
    "duration": 149,
    "start_time": "2022-08-07T04:00:03.360Z"
   },
   {
    "duration": 5,
    "start_time": "2022-08-07T04:00:14.294Z"
   },
   {
    "duration": 78,
    "start_time": "2022-08-07T04:05:44.506Z"
   },
   {
    "duration": 168,
    "start_time": "2022-08-07T04:05:58.972Z"
   },
   {
    "duration": 152,
    "start_time": "2022-08-07T04:06:14.031Z"
   },
   {
    "duration": 151,
    "start_time": "2022-08-07T04:07:14.809Z"
   },
   {
    "duration": 11,
    "start_time": "2022-08-07T04:08:03.967Z"
   },
   {
    "duration": 9,
    "start_time": "2022-08-07T04:11:26.588Z"
   },
   {
    "duration": 30,
    "start_time": "2022-08-07T04:12:00.348Z"
   },
   {
    "duration": 16,
    "start_time": "2022-08-07T04:12:35.973Z"
   },
   {
    "duration": 22,
    "start_time": "2022-08-07T04:20:03.767Z"
   },
   {
    "duration": 91,
    "start_time": "2022-08-07T04:24:10.780Z"
   },
   {
    "duration": 63,
    "start_time": "2022-08-07T04:24:20.350Z"
   },
   {
    "duration": 2153,
    "start_time": "2022-08-07T12:02:11.157Z"
   },
   {
    "duration": 124,
    "start_time": "2022-08-07T12:02:13.314Z"
   },
   {
    "duration": 128,
    "start_time": "2022-08-07T12:02:13.439Z"
   },
   {
    "duration": 90,
    "start_time": "2022-08-07T12:02:13.569Z"
   },
   {
    "duration": 12,
    "start_time": "2022-08-07T12:02:13.661Z"
   },
   {
    "duration": 36,
    "start_time": "2022-08-07T12:02:13.674Z"
   },
   {
    "duration": 25,
    "start_time": "2022-08-07T12:02:13.712Z"
   },
   {
    "duration": 71,
    "start_time": "2022-08-07T12:02:13.739Z"
   },
   {
    "duration": 6,
    "start_time": "2022-08-07T12:02:13.812Z"
   },
   {
    "duration": 33,
    "start_time": "2022-08-07T12:02:13.822Z"
   },
   {
    "duration": 8,
    "start_time": "2022-08-07T12:02:13.908Z"
   },
   {
    "duration": 20,
    "start_time": "2022-08-07T12:02:13.919Z"
   },
   {
    "duration": 19,
    "start_time": "2022-08-07T12:02:13.941Z"
   },
   {
    "duration": 17,
    "start_time": "2022-08-07T12:02:14.011Z"
   },
   {
    "duration": 8,
    "start_time": "2022-08-07T12:02:14.030Z"
   },
   {
    "duration": 15,
    "start_time": "2022-08-07T12:02:14.040Z"
   },
   {
    "duration": 30,
    "start_time": "2022-08-07T12:02:14.108Z"
   },
   {
    "duration": 14,
    "start_time": "2022-08-07T12:02:14.141Z"
   },
   {
    "duration": 60,
    "start_time": "2022-08-07T12:02:14.157Z"
   },
   {
    "duration": 17,
    "start_time": "2022-08-07T12:02:14.223Z"
   },
   {
    "duration": 14,
    "start_time": "2022-08-07T12:02:14.242Z"
   },
   {
    "duration": 73,
    "start_time": "2022-08-07T12:02:14.258Z"
   },
   {
    "duration": 181,
    "start_time": "2022-08-07T12:02:14.332Z"
   },
   {
    "duration": 1311,
    "start_time": "2022-08-07T12:02:14.515Z"
   },
   {
    "duration": 583,
    "start_time": "2022-08-07T12:02:15.827Z"
   },
   {
    "duration": 603,
    "start_time": "2022-08-07T12:02:16.412Z"
   },
   {
    "duration": 530,
    "start_time": "2022-08-07T12:02:17.019Z"
   },
   {
    "duration": 585,
    "start_time": "2022-08-07T12:02:17.553Z"
   },
   {
    "duration": 398,
    "start_time": "2022-08-07T12:02:18.140Z"
   },
   {
    "duration": 4,
    "start_time": "2022-08-07T12:02:18.540Z"
   },
   {
    "duration": 502,
    "start_time": "2022-08-07T12:02:18.545Z"
   },
   {
    "duration": 59,
    "start_time": "2022-08-07T12:02:19.049Z"
   },
   {
    "duration": 336,
    "start_time": "2022-08-07T12:02:19.111Z"
   },
   {
    "duration": 74,
    "start_time": "2022-08-07T12:02:19.449Z"
   },
   {
    "duration": 16,
    "start_time": "2022-08-07T12:02:19.529Z"
   },
   {
    "duration": 92,
    "start_time": "2022-08-07T12:02:19.546Z"
   },
   {
    "duration": 71,
    "start_time": "2022-08-07T12:02:19.640Z"
   },
   {
    "duration": 8,
    "start_time": "2022-08-07T12:11:41.432Z"
   }
  ],
  "kernelspec": {
   "display_name": "Python 3 (ipykernel)",
   "language": "python",
   "name": "python3"
  },
  "language_info": {
   "codemirror_mode": {
    "name": "ipython",
    "version": 3
   },
   "file_extension": ".py",
   "mimetype": "text/x-python",
   "name": "python",
   "nbconvert_exporter": "python",
   "pygments_lexer": "ipython3",
   "version": "3.9.7"
  },
  "toc": {
   "base_numbering": 1,
   "nav_menu": {},
   "number_sections": true,
   "sideBar": true,
   "skip_h1_title": false,
   "title_cell": "Table of Contents",
   "title_sidebar": "Contents",
   "toc_cell": true,
   "toc_position": {
    "height": "calc(100% - 180px)",
    "left": "10px",
    "top": "150px",
    "width": "286.225px"
   },
   "toc_section_display": true,
   "toc_window_display": true
  }
 },
 "nbformat": 4,
 "nbformat_minor": 5
}
