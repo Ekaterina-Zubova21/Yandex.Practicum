{
 "cells": [
  {
   "cell_type": "markdown",
   "id": "9cbbcb26",
   "metadata": {},
   "source": [
    "# Проект по SQL"
   ]
  },
  {
   "cell_type": "markdown",
   "id": "bd11f681",
   "metadata": {},
   "source": [
    "## Описание проекта"
   ]
  },
  {
   "cell_type": "markdown",
   "id": "02327b35",
   "metadata": {},
   "source": [
    "Коронавирус застал мир врасплох, изменив привычный порядок вещей. В свободное время жители городов больше не выходят на улицу, не посещают кафе и торговые центры. Зато стало больше времени для книг. Это заметили стартаперы — и активно начали создавать приложения для тех, кто любит читать.\n",
    "Компания \"Читабокс\" купила крупный сервис для чтения книг по подписке. \n",
    "\n",
    "**Цель исследования:**\n",
    "\n",
    "Проанализировать базу данных, в которой находитсяя информация о книгах, издательствах, авторах, а также пользовательские обзоры книг. Эти данные помогут сформулировать ценностное предложение для нового продукта."
   ]
  },
  {
   "cell_type": "code",
   "execution_count": 1,
   "id": "7c96606c",
   "metadata": {},
   "outputs": [],
   "source": [
    "# импортируем библиотеки\n",
    "import pandas as pd\n",
    "from sqlalchemy import create_engine\n",
    "# устанавливаем параметры\n",
    "db_config = {'user': 'praktikum_student', # имя пользователя\n",
    "'pwd': 'Sdf4$2;d-d30pp', # пароль\n",
    "'host': 'rc1b-wcoijxj3yxfsf3fs.mdb.yandexcloud.net',\n",
    "'port': 6432, # порт подключения\n",
    "'db': 'data-analyst-final-project-db'} # название базы данных\n",
    "connection_string = 'postgresql://{}:{}@{}:{}/{}'.format(db_config['user'],\n",
    " db_config['pwd'],\n",
    " db_config['host'],\n",
    " db_config['port'],\n",
    " db_config['db'])\n",
    "# сохраняем коннектор\n",
    "engine = create_engine(connection_string, connect_args={'sslmode':'require'}) "
   ]
  },
  {
   "cell_type": "markdown",
   "id": "f30ceaab",
   "metadata": {},
   "source": [
    "## Знакомство с данными "
   ]
  },
  {
   "cell_type": "markdown",
   "id": "0c9ba8d9",
   "metadata": {},
   "source": [
    "Создадим функцию, которая будет показывать результат запроса:"
   ]
  },
  {
   "cell_type": "code",
   "execution_count": 2,
   "id": "c269db51",
   "metadata": {},
   "outputs": [],
   "source": [
    "def show(query):\n",
    "    result = pd.io.sql.read_sql(query, con = engine) \n",
    "    return result"
   ]
  },
  {
   "cell_type": "markdown",
   "id": "ab8a44ff",
   "metadata": {},
   "source": [
    "### books"
   ]
  },
  {
   "cell_type": "code",
   "execution_count": 3,
   "id": "48d4f5c7",
   "metadata": {},
   "outputs": [
    {
     "data": {
      "text/html": [
       "<div>\n",
       "<style scoped>\n",
       "    .dataframe tbody tr th:only-of-type {\n",
       "        vertical-align: middle;\n",
       "    }\n",
       "\n",
       "    .dataframe tbody tr th {\n",
       "        vertical-align: top;\n",
       "    }\n",
       "\n",
       "    .dataframe thead th {\n",
       "        text-align: right;\n",
       "    }\n",
       "</style>\n",
       "<table border=\"1\" class=\"dataframe\">\n",
       "  <thead>\n",
       "    <tr style=\"text-align: right;\">\n",
       "      <th></th>\n",
       "      <th>book_id</th>\n",
       "      <th>author_id</th>\n",
       "      <th>title</th>\n",
       "      <th>num_pages</th>\n",
       "      <th>publication_date</th>\n",
       "      <th>publisher_id</th>\n",
       "    </tr>\n",
       "  </thead>\n",
       "  <tbody>\n",
       "    <tr>\n",
       "      <th>0</th>\n",
       "      <td>1</td>\n",
       "      <td>546</td>\n",
       "      <td>'Salem's Lot</td>\n",
       "      <td>594</td>\n",
       "      <td>2005-11-01</td>\n",
       "      <td>93</td>\n",
       "    </tr>\n",
       "    <tr>\n",
       "      <th>1</th>\n",
       "      <td>2</td>\n",
       "      <td>465</td>\n",
       "      <td>1 000 Places to See Before You Die</td>\n",
       "      <td>992</td>\n",
       "      <td>2003-05-22</td>\n",
       "      <td>336</td>\n",
       "    </tr>\n",
       "    <tr>\n",
       "      <th>2</th>\n",
       "      <td>3</td>\n",
       "      <td>407</td>\n",
       "      <td>13 Little Blue Envelopes (Little Blue Envelope...</td>\n",
       "      <td>322</td>\n",
       "      <td>2010-12-21</td>\n",
       "      <td>135</td>\n",
       "    </tr>\n",
       "    <tr>\n",
       "      <th>3</th>\n",
       "      <td>4</td>\n",
       "      <td>82</td>\n",
       "      <td>1491: New Revelations of the Americas Before C...</td>\n",
       "      <td>541</td>\n",
       "      <td>2006-10-10</td>\n",
       "      <td>309</td>\n",
       "    </tr>\n",
       "    <tr>\n",
       "      <th>4</th>\n",
       "      <td>5</td>\n",
       "      <td>125</td>\n",
       "      <td>1776</td>\n",
       "      <td>386</td>\n",
       "      <td>2006-07-04</td>\n",
       "      <td>268</td>\n",
       "    </tr>\n",
       "  </tbody>\n",
       "</table>\n",
       "</div>"
      ],
      "text/plain": [
       "   book_id  author_id                                              title  \\\n",
       "0        1        546                                       'Salem's Lot   \n",
       "1        2        465                 1 000 Places to See Before You Die   \n",
       "2        3        407  13 Little Blue Envelopes (Little Blue Envelope...   \n",
       "3        4         82  1491: New Revelations of the Americas Before C...   \n",
       "4        5        125                                               1776   \n",
       "\n",
       "   num_pages publication_date  publisher_id  \n",
       "0        594       2005-11-01            93  \n",
       "1        992       2003-05-22           336  \n",
       "2        322       2010-12-21           135  \n",
       "3        541       2006-10-10           309  \n",
       "4        386       2006-07-04           268  "
      ]
     },
     "execution_count": 3,
     "metadata": {},
     "output_type": "execute_result"
    }
   ],
   "source": [
    "query = \"\"\" SELECT *\n",
    "            FROM books\n",
    "            LIMIT 5;\n",
    "      \"\"\"\n",
    "show(query)  "
   ]
  },
  {
   "cell_type": "code",
   "execution_count": null,
   "id": "83582714",
   "metadata": {},
   "outputs": [],
   "source": []
  },
  {
   "cell_type": "markdown",
   "id": "1e4a305c",
   "metadata": {},
   "source": [
    "### authors"
   ]
  },
  {
   "cell_type": "code",
   "execution_count": 4,
   "id": "b133647d",
   "metadata": {},
   "outputs": [
    {
     "data": {
      "text/html": [
       "<div>\n",
       "<style scoped>\n",
       "    .dataframe tbody tr th:only-of-type {\n",
       "        vertical-align: middle;\n",
       "    }\n",
       "\n",
       "    .dataframe tbody tr th {\n",
       "        vertical-align: top;\n",
       "    }\n",
       "\n",
       "    .dataframe thead th {\n",
       "        text-align: right;\n",
       "    }\n",
       "</style>\n",
       "<table border=\"1\" class=\"dataframe\">\n",
       "  <thead>\n",
       "    <tr style=\"text-align: right;\">\n",
       "      <th></th>\n",
       "      <th>author_id</th>\n",
       "      <th>author</th>\n",
       "    </tr>\n",
       "  </thead>\n",
       "  <tbody>\n",
       "    <tr>\n",
       "      <th>0</th>\n",
       "      <td>1</td>\n",
       "      <td>A.S. Byatt</td>\n",
       "    </tr>\n",
       "    <tr>\n",
       "      <th>1</th>\n",
       "      <td>2</td>\n",
       "      <td>Aesop/Laura Harris/Laura Gibbs</td>\n",
       "    </tr>\n",
       "    <tr>\n",
       "      <th>2</th>\n",
       "      <td>3</td>\n",
       "      <td>Agatha Christie</td>\n",
       "    </tr>\n",
       "    <tr>\n",
       "      <th>3</th>\n",
       "      <td>4</td>\n",
       "      <td>Alan Brennert</td>\n",
       "    </tr>\n",
       "    <tr>\n",
       "      <th>4</th>\n",
       "      <td>5</td>\n",
       "      <td>Alan Moore/David   Lloyd</td>\n",
       "    </tr>\n",
       "  </tbody>\n",
       "</table>\n",
       "</div>"
      ],
      "text/plain": [
       "   author_id                          author\n",
       "0          1                      A.S. Byatt\n",
       "1          2  Aesop/Laura Harris/Laura Gibbs\n",
       "2          3                 Agatha Christie\n",
       "3          4                   Alan Brennert\n",
       "4          5        Alan Moore/David   Lloyd"
      ]
     },
     "execution_count": 4,
     "metadata": {},
     "output_type": "execute_result"
    }
   ],
   "source": [
    "query = \"\"\" SELECT *\n",
    "            FROM authors\n",
    "            LIMIT 5;\n",
    "        \"\"\"\n",
    "show(query)"
   ]
  },
  {
   "cell_type": "markdown",
   "id": "d2e0e071",
   "metadata": {},
   "source": [
    "### ratings"
   ]
  },
  {
   "cell_type": "code",
   "execution_count": 5,
   "id": "6419f0bd",
   "metadata": {},
   "outputs": [
    {
     "data": {
      "text/html": [
       "<div>\n",
       "<style scoped>\n",
       "    .dataframe tbody tr th:only-of-type {\n",
       "        vertical-align: middle;\n",
       "    }\n",
       "\n",
       "    .dataframe tbody tr th {\n",
       "        vertical-align: top;\n",
       "    }\n",
       "\n",
       "    .dataframe thead th {\n",
       "        text-align: right;\n",
       "    }\n",
       "</style>\n",
       "<table border=\"1\" class=\"dataframe\">\n",
       "  <thead>\n",
       "    <tr style=\"text-align: right;\">\n",
       "      <th></th>\n",
       "      <th>rating_id</th>\n",
       "      <th>book_id</th>\n",
       "      <th>username</th>\n",
       "      <th>rating</th>\n",
       "    </tr>\n",
       "  </thead>\n",
       "  <tbody>\n",
       "    <tr>\n",
       "      <th>0</th>\n",
       "      <td>1</td>\n",
       "      <td>1</td>\n",
       "      <td>ryanfranco</td>\n",
       "      <td>4</td>\n",
       "    </tr>\n",
       "    <tr>\n",
       "      <th>1</th>\n",
       "      <td>2</td>\n",
       "      <td>1</td>\n",
       "      <td>grantpatricia</td>\n",
       "      <td>2</td>\n",
       "    </tr>\n",
       "    <tr>\n",
       "      <th>2</th>\n",
       "      <td>3</td>\n",
       "      <td>1</td>\n",
       "      <td>brandtandrea</td>\n",
       "      <td>5</td>\n",
       "    </tr>\n",
       "    <tr>\n",
       "      <th>3</th>\n",
       "      <td>4</td>\n",
       "      <td>2</td>\n",
       "      <td>lorichen</td>\n",
       "      <td>3</td>\n",
       "    </tr>\n",
       "    <tr>\n",
       "      <th>4</th>\n",
       "      <td>5</td>\n",
       "      <td>2</td>\n",
       "      <td>mariokeller</td>\n",
       "      <td>2</td>\n",
       "    </tr>\n",
       "  </tbody>\n",
       "</table>\n",
       "</div>"
      ],
      "text/plain": [
       "   rating_id  book_id       username  rating\n",
       "0          1        1     ryanfranco       4\n",
       "1          2        1  grantpatricia       2\n",
       "2          3        1   brandtandrea       5\n",
       "3          4        2       lorichen       3\n",
       "4          5        2    mariokeller       2"
      ]
     },
     "execution_count": 5,
     "metadata": {},
     "output_type": "execute_result"
    }
   ],
   "source": [
    "query = \"\"\" SELECT *\n",
    "            FROM ratings\n",
    "            LIMIT 5;\n",
    "        \"\"\"\n",
    "show(query)"
   ]
  },
  {
   "cell_type": "markdown",
   "id": "54dc1a47",
   "metadata": {},
   "source": [
    "### reviews"
   ]
  },
  {
   "cell_type": "code",
   "execution_count": 6,
   "id": "a6d1362c",
   "metadata": {},
   "outputs": [
    {
     "data": {
      "text/html": [
       "<div>\n",
       "<style scoped>\n",
       "    .dataframe tbody tr th:only-of-type {\n",
       "        vertical-align: middle;\n",
       "    }\n",
       "\n",
       "    .dataframe tbody tr th {\n",
       "        vertical-align: top;\n",
       "    }\n",
       "\n",
       "    .dataframe thead th {\n",
       "        text-align: right;\n",
       "    }\n",
       "</style>\n",
       "<table border=\"1\" class=\"dataframe\">\n",
       "  <thead>\n",
       "    <tr style=\"text-align: right;\">\n",
       "      <th></th>\n",
       "      <th>review_id</th>\n",
       "      <th>book_id</th>\n",
       "      <th>username</th>\n",
       "      <th>text</th>\n",
       "    </tr>\n",
       "  </thead>\n",
       "  <tbody>\n",
       "    <tr>\n",
       "      <th>0</th>\n",
       "      <td>1</td>\n",
       "      <td>1</td>\n",
       "      <td>brandtandrea</td>\n",
       "      <td>Mention society tell send professor analysis. ...</td>\n",
       "    </tr>\n",
       "    <tr>\n",
       "      <th>1</th>\n",
       "      <td>2</td>\n",
       "      <td>1</td>\n",
       "      <td>ryanfranco</td>\n",
       "      <td>Foot glass pretty audience hit themselves. Amo...</td>\n",
       "    </tr>\n",
       "    <tr>\n",
       "      <th>2</th>\n",
       "      <td>3</td>\n",
       "      <td>2</td>\n",
       "      <td>lorichen</td>\n",
       "      <td>Listen treat keep worry. Miss husband tax but ...</td>\n",
       "    </tr>\n",
       "    <tr>\n",
       "      <th>3</th>\n",
       "      <td>4</td>\n",
       "      <td>3</td>\n",
       "      <td>johnsonamanda</td>\n",
       "      <td>Finally month interesting blue could nature cu...</td>\n",
       "    </tr>\n",
       "    <tr>\n",
       "      <th>4</th>\n",
       "      <td>5</td>\n",
       "      <td>3</td>\n",
       "      <td>scotttamara</td>\n",
       "      <td>Nation purpose heavy give wait song will. List...</td>\n",
       "    </tr>\n",
       "  </tbody>\n",
       "</table>\n",
       "</div>"
      ],
      "text/plain": [
       "   review_id  book_id       username  \\\n",
       "0          1        1   brandtandrea   \n",
       "1          2        1     ryanfranco   \n",
       "2          3        2       lorichen   \n",
       "3          4        3  johnsonamanda   \n",
       "4          5        3    scotttamara   \n",
       "\n",
       "                                                text  \n",
       "0  Mention society tell send professor analysis. ...  \n",
       "1  Foot glass pretty audience hit themselves. Amo...  \n",
       "2  Listen treat keep worry. Miss husband tax but ...  \n",
       "3  Finally month interesting blue could nature cu...  \n",
       "4  Nation purpose heavy give wait song will. List...  "
      ]
     },
     "execution_count": 6,
     "metadata": {},
     "output_type": "execute_result"
    }
   ],
   "source": [
    "query = \"\"\" SELECT *\n",
    "            FROM reviews\n",
    "            LIMIT 5;\n",
    "        \"\"\"\n",
    "show(query)"
   ]
  },
  {
   "cell_type": "markdown",
   "id": "2ce095ec",
   "metadata": {},
   "source": [
    "### publishers"
   ]
  },
  {
   "cell_type": "code",
   "execution_count": 7,
   "id": "3a0bb0fc",
   "metadata": {},
   "outputs": [
    {
     "data": {
      "text/html": [
       "<div>\n",
       "<style scoped>\n",
       "    .dataframe tbody tr th:only-of-type {\n",
       "        vertical-align: middle;\n",
       "    }\n",
       "\n",
       "    .dataframe tbody tr th {\n",
       "        vertical-align: top;\n",
       "    }\n",
       "\n",
       "    .dataframe thead th {\n",
       "        text-align: right;\n",
       "    }\n",
       "</style>\n",
       "<table border=\"1\" class=\"dataframe\">\n",
       "  <thead>\n",
       "    <tr style=\"text-align: right;\">\n",
       "      <th></th>\n",
       "      <th>publisher_id</th>\n",
       "      <th>publisher</th>\n",
       "    </tr>\n",
       "  </thead>\n",
       "  <tbody>\n",
       "    <tr>\n",
       "      <th>0</th>\n",
       "      <td>1</td>\n",
       "      <td>Ace</td>\n",
       "    </tr>\n",
       "    <tr>\n",
       "      <th>1</th>\n",
       "      <td>2</td>\n",
       "      <td>Ace Book</td>\n",
       "    </tr>\n",
       "    <tr>\n",
       "      <th>2</th>\n",
       "      <td>3</td>\n",
       "      <td>Ace Books</td>\n",
       "    </tr>\n",
       "    <tr>\n",
       "      <th>3</th>\n",
       "      <td>4</td>\n",
       "      <td>Ace Hardcover</td>\n",
       "    </tr>\n",
       "    <tr>\n",
       "      <th>4</th>\n",
       "      <td>5</td>\n",
       "      <td>Addison Wesley Publishing Company</td>\n",
       "    </tr>\n",
       "  </tbody>\n",
       "</table>\n",
       "</div>"
      ],
      "text/plain": [
       "   publisher_id                          publisher\n",
       "0             1                                Ace\n",
       "1             2                           Ace Book\n",
       "2             3                          Ace Books\n",
       "3             4                      Ace Hardcover\n",
       "4             5  Addison Wesley Publishing Company"
      ]
     },
     "execution_count": 7,
     "metadata": {},
     "output_type": "execute_result"
    }
   ],
   "source": [
    "query = \"\"\" SELECT *\n",
    "            FROM publishers\n",
    "            LIMIT 5;\n",
    "        \"\"\"\n",
    "show(query)"
   ]
  },
  {
   "cell_type": "markdown",
   "id": "b0854f8f",
   "metadata": {},
   "source": [
    "## Выполнение запросов"
   ]
  },
  {
   "cell_type": "markdown",
   "id": "216f98d7",
   "metadata": {},
   "source": [
    "**1. Посчитайте, сколько книг вышло после 1 января 2000 года.**"
   ]
  },
  {
   "cell_type": "code",
   "execution_count": 8,
   "id": "843fdf77",
   "metadata": {},
   "outputs": [
    {
     "data": {
      "text/html": [
       "<div>\n",
       "<style scoped>\n",
       "    .dataframe tbody tr th:only-of-type {\n",
       "        vertical-align: middle;\n",
       "    }\n",
       "\n",
       "    .dataframe tbody tr th {\n",
       "        vertical-align: top;\n",
       "    }\n",
       "\n",
       "    .dataframe thead th {\n",
       "        text-align: right;\n",
       "    }\n",
       "</style>\n",
       "<table border=\"1\" class=\"dataframe\">\n",
       "  <thead>\n",
       "    <tr style=\"text-align: right;\">\n",
       "      <th></th>\n",
       "      <th>count</th>\n",
       "    </tr>\n",
       "  </thead>\n",
       "  <tbody>\n",
       "    <tr>\n",
       "      <th>0</th>\n",
       "      <td>821</td>\n",
       "    </tr>\n",
       "  </tbody>\n",
       "</table>\n",
       "</div>"
      ],
      "text/plain": [
       "   count\n",
       "0    821"
      ]
     },
     "execution_count": 8,
     "metadata": {},
     "output_type": "execute_result"
    }
   ],
   "source": [
    "query = \"\"\" SELECT COUNT(title) \n",
    "            FROM books\n",
    "            WHERE publication_date >= '2000-01-01';\n",
    "        \"\"\"\n",
    "show(query)"
   ]
  },
  {
   "cell_type": "markdown",
   "id": "5f946cc3",
   "metadata": {},
   "source": [
    "После 1 января 2000 г.  вышла 821 книга."
   ]
  },
  {
   "cell_type": "markdown",
   "id": "97cd3f62",
   "metadata": {},
   "source": [
    "**2. Для каждой книги посчитайте количество обзоров и среднюю оценку.**"
   ]
  },
  {
   "cell_type": "code",
   "execution_count": 27,
   "id": "f832c27d",
   "metadata": {},
   "outputs": [
    {
     "data": {
      "text/html": [
       "<div>\n",
       "<style scoped>\n",
       "    .dataframe tbody tr th:only-of-type {\n",
       "        vertical-align: middle;\n",
       "    }\n",
       "\n",
       "    .dataframe tbody tr th {\n",
       "        vertical-align: top;\n",
       "    }\n",
       "\n",
       "    .dataframe thead th {\n",
       "        text-align: right;\n",
       "    }\n",
       "</style>\n",
       "<table border=\"1\" class=\"dataframe\">\n",
       "  <thead>\n",
       "    <tr style=\"text-align: right;\">\n",
       "      <th></th>\n",
       "      <th>book_title</th>\n",
       "      <th>reviews_number</th>\n",
       "      <th>avg_rating</th>\n",
       "    </tr>\n",
       "  </thead>\n",
       "  <tbody>\n",
       "    <tr>\n",
       "      <th>0</th>\n",
       "      <td>A Dirty Job (Grim Reaper  #1)</td>\n",
       "      <td>4</td>\n",
       "      <td>5.00</td>\n",
       "    </tr>\n",
       "    <tr>\n",
       "      <th>1</th>\n",
       "      <td>School's Out—Forever (Maximum Ride  #2)</td>\n",
       "      <td>3</td>\n",
       "      <td>5.00</td>\n",
       "    </tr>\n",
       "    <tr>\n",
       "      <th>2</th>\n",
       "      <td>Moneyball: The Art of Winning an Unfair Game</td>\n",
       "      <td>3</td>\n",
       "      <td>5.00</td>\n",
       "    </tr>\n",
       "    <tr>\n",
       "      <th>3</th>\n",
       "      <td>Arrows of the Queen (Heralds of Valdemar  #1)</td>\n",
       "      <td>2</td>\n",
       "      <td>5.00</td>\n",
       "    </tr>\n",
       "    <tr>\n",
       "      <th>4</th>\n",
       "      <td>Wherever You Go  There You Are: Mindfulness Me...</td>\n",
       "      <td>2</td>\n",
       "      <td>5.00</td>\n",
       "    </tr>\n",
       "    <tr>\n",
       "      <th>...</th>\n",
       "      <td>...</td>\n",
       "      <td>...</td>\n",
       "      <td>...</td>\n",
       "    </tr>\n",
       "    <tr>\n",
       "      <th>995</th>\n",
       "      <td>The World Is Flat: A Brief History of the Twen...</td>\n",
       "      <td>3</td>\n",
       "      <td>2.25</td>\n",
       "    </tr>\n",
       "    <tr>\n",
       "      <th>996</th>\n",
       "      <td>Drowning Ruth</td>\n",
       "      <td>3</td>\n",
       "      <td>2.00</td>\n",
       "    </tr>\n",
       "    <tr>\n",
       "      <th>997</th>\n",
       "      <td>His Excellency: George Washington</td>\n",
       "      <td>2</td>\n",
       "      <td>2.00</td>\n",
       "    </tr>\n",
       "    <tr>\n",
       "      <th>998</th>\n",
       "      <td>Junky</td>\n",
       "      <td>2</td>\n",
       "      <td>2.00</td>\n",
       "    </tr>\n",
       "    <tr>\n",
       "      <th>999</th>\n",
       "      <td>Harvesting the Heart</td>\n",
       "      <td>2</td>\n",
       "      <td>1.50</td>\n",
       "    </tr>\n",
       "  </tbody>\n",
       "</table>\n",
       "<p>1000 rows × 3 columns</p>\n",
       "</div>"
      ],
      "text/plain": [
       "                                            book_title  reviews_number  \\\n",
       "0                        A Dirty Job (Grim Reaper  #1)               4   \n",
       "1              School's Out—Forever (Maximum Ride  #2)               3   \n",
       "2         Moneyball: The Art of Winning an Unfair Game               3   \n",
       "3        Arrows of the Queen (Heralds of Valdemar  #1)               2   \n",
       "4    Wherever You Go  There You Are: Mindfulness Me...               2   \n",
       "..                                                 ...             ...   \n",
       "995  The World Is Flat: A Brief History of the Twen...               3   \n",
       "996                                      Drowning Ruth               3   \n",
       "997                  His Excellency: George Washington               2   \n",
       "998                                              Junky               2   \n",
       "999                               Harvesting the Heart               2   \n",
       "\n",
       "     avg_rating  \n",
       "0          5.00  \n",
       "1          5.00  \n",
       "2          5.00  \n",
       "3          5.00  \n",
       "4          5.00  \n",
       "..          ...  \n",
       "995        2.25  \n",
       "996        2.00  \n",
       "997        2.00  \n",
       "998        2.00  \n",
       "999        1.50  \n",
       "\n",
       "[1000 rows x 3 columns]"
      ]
     },
     "execution_count": 27,
     "metadata": {},
     "output_type": "execute_result"
    }
   ],
   "source": [
    "query = \"\"\" SELECT book_title,\n",
    "       reviews_number,\n",
    "       avg_rating  \n",
    "FROM (SELECT b.book_id,\n",
    "             b.title AS book_title,\n",
    "             COUNT(DISTINCT(rev.review_id)) AS reviews_number                   \n",
    "      FROM books AS b\n",
    "      FULL OUTER JOIN reviews AS rev ON b.book_id = rev.book_id\n",
    "      GROUP BY b.book_id) AS ab\n",
    "FULL OUTER JOIN (SELECT b.book_id,\n",
    "                        AVG(rat.rating) AS avg_rating                  \n",
    "                 FROM books AS b\n",
    "                 FULL OUTER JOIN ratings AS rat ON b.book_id = rat.book_id\n",
    "                 GROUP BY b.book_id) AS cd ON ab.book_id = cd.book_id\n",
    "ORDER BY avg_rating DESC,\n",
    "         reviews_number DESC;\n",
    "\"\"\" \n",
    "show(query)"
   ]
  },
  {
   "cell_type": "markdown",
   "id": "f8ad2f27",
   "metadata": {},
   "source": [
    "**3. Определите издательство, которое выпустило наибольшее число книг толще 50 страниц — так вы исключите из анализа брошюры.**"
   ]
  },
  {
   "cell_type": "code",
   "execution_count": null,
   "id": "553d7619",
   "metadata": {},
   "outputs": [],
   "source": [
    "query = \"\"\" SELECT p.publisher,\n",
    "                   COUNT(b.title) \n",
    "            FROM books AS b\n",
    "            INNER JOIN publishers AS p ON b.publisher_id = p.publisher_id\n",
    "            WHERE b.num_pages > 50\n",
    "            GROUP BY p.publisher\n",
    "            ORDER BY COUNT(b.title) DESC\n",
    "            LIMIT 1;\n",
    "        \"\"\"\n",
    "show(query)"
   ]
  },
  {
   "cell_type": "markdown",
   "id": "196ee6d7",
   "metadata": {},
   "source": [
    "Наибольшее количество книг в библиотеке было выпущено издательством Penguin Books."
   ]
  },
  {
   "cell_type": "markdown",
   "id": "9797967d",
   "metadata": {},
   "source": [
    "**4. Определите автора с самой высокой средней оценкой книг — учитывайте только книги с 50 и более оценками;**"
   ]
  },
  {
   "cell_type": "code",
   "execution_count": 16,
   "id": "d63ba526",
   "metadata": {},
   "outputs": [
    {
     "data": {
      "text/html": [
       "<div>\n",
       "<style scoped>\n",
       "    .dataframe tbody tr th:only-of-type {\n",
       "        vertical-align: middle;\n",
       "    }\n",
       "\n",
       "    .dataframe tbody tr th {\n",
       "        vertical-align: top;\n",
       "    }\n",
       "\n",
       "    .dataframe thead th {\n",
       "        text-align: right;\n",
       "    }\n",
       "</style>\n",
       "<table border=\"1\" class=\"dataframe\">\n",
       "  <thead>\n",
       "    <tr style=\"text-align: right;\">\n",
       "      <th></th>\n",
       "      <th>book_id</th>\n",
       "      <th>author_id</th>\n",
       "      <th>ratings_number</th>\n",
       "      <th>avg_rating</th>\n",
       "    </tr>\n",
       "  </thead>\n",
       "  <tbody>\n",
       "    <tr>\n",
       "      <th>0</th>\n",
       "      <td>948</td>\n",
       "      <td>554</td>\n",
       "      <td>160</td>\n",
       "      <td>3.662500</td>\n",
       "    </tr>\n",
       "    <tr>\n",
       "      <th>1</th>\n",
       "      <td>750</td>\n",
       "      <td>240</td>\n",
       "      <td>88</td>\n",
       "      <td>4.125000</td>\n",
       "    </tr>\n",
       "    <tr>\n",
       "      <th>2</th>\n",
       "      <td>673</td>\n",
       "      <td>235</td>\n",
       "      <td>86</td>\n",
       "      <td>3.825581</td>\n",
       "    </tr>\n",
       "    <tr>\n",
       "      <th>3</th>\n",
       "      <td>75</td>\n",
       "      <td>106</td>\n",
       "      <td>84</td>\n",
       "      <td>3.678571</td>\n",
       "    </tr>\n",
       "    <tr>\n",
       "      <th>4</th>\n",
       "      <td>302</td>\n",
       "      <td>236</td>\n",
       "      <td>82</td>\n",
       "      <td>4.414634</td>\n",
       "    </tr>\n",
       "    <tr>\n",
       "      <th>5</th>\n",
       "      <td>299</td>\n",
       "      <td>236</td>\n",
       "      <td>80</td>\n",
       "      <td>4.287500</td>\n",
       "    </tr>\n",
       "    <tr>\n",
       "      <th>6</th>\n",
       "      <td>301</td>\n",
       "      <td>236</td>\n",
       "      <td>75</td>\n",
       "      <td>4.186667</td>\n",
       "    </tr>\n",
       "    <tr>\n",
       "      <th>7</th>\n",
       "      <td>79</td>\n",
       "      <td>195</td>\n",
       "      <td>74</td>\n",
       "      <td>3.729730</td>\n",
       "    </tr>\n",
       "    <tr>\n",
       "      <th>8</th>\n",
       "      <td>722</td>\n",
       "      <td>240</td>\n",
       "      <td>74</td>\n",
       "      <td>4.391892</td>\n",
       "    </tr>\n",
       "    <tr>\n",
       "      <th>9</th>\n",
       "      <td>300</td>\n",
       "      <td>236</td>\n",
       "      <td>73</td>\n",
       "      <td>4.246575</td>\n",
       "    </tr>\n",
       "    <tr>\n",
       "      <th>10</th>\n",
       "      <td>405</td>\n",
       "      <td>621</td>\n",
       "      <td>71</td>\n",
       "      <td>3.901408</td>\n",
       "    </tr>\n",
       "    <tr>\n",
       "      <th>11</th>\n",
       "      <td>545</td>\n",
       "      <td>630</td>\n",
       "      <td>66</td>\n",
       "      <td>3.787879</td>\n",
       "    </tr>\n",
       "    <tr>\n",
       "      <th>12</th>\n",
       "      <td>779</td>\n",
       "      <td>498</td>\n",
       "      <td>62</td>\n",
       "      <td>4.080645</td>\n",
       "    </tr>\n",
       "    <tr>\n",
       "      <th>13</th>\n",
       "      <td>488</td>\n",
       "      <td>311</td>\n",
       "      <td>61</td>\n",
       "      <td>3.622951</td>\n",
       "    </tr>\n",
       "    <tr>\n",
       "      <th>14</th>\n",
       "      <td>696</td>\n",
       "      <td>106</td>\n",
       "      <td>59</td>\n",
       "      <td>3.830508</td>\n",
       "    </tr>\n",
       "    <tr>\n",
       "      <th>15</th>\n",
       "      <td>627</td>\n",
       "      <td>469</td>\n",
       "      <td>57</td>\n",
       "      <td>3.789474</td>\n",
       "    </tr>\n",
       "    <tr>\n",
       "      <th>16</th>\n",
       "      <td>733</td>\n",
       "      <td>372</td>\n",
       "      <td>56</td>\n",
       "      <td>3.750000</td>\n",
       "    </tr>\n",
       "    <tr>\n",
       "      <th>17</th>\n",
       "      <td>656</td>\n",
       "      <td>402</td>\n",
       "      <td>53</td>\n",
       "      <td>4.264151</td>\n",
       "    </tr>\n",
       "    <tr>\n",
       "      <th>18</th>\n",
       "      <td>399</td>\n",
       "      <td>376</td>\n",
       "      <td>52</td>\n",
       "      <td>4.192308</td>\n",
       "    </tr>\n",
       "  </tbody>\n",
       "</table>\n",
       "</div>"
      ],
      "text/plain": [
       "    book_id  author_id  ratings_number  avg_rating\n",
       "0       948        554             160    3.662500\n",
       "1       750        240              88    4.125000\n",
       "2       673        235              86    3.825581\n",
       "3        75        106              84    3.678571\n",
       "4       302        236              82    4.414634\n",
       "5       299        236              80    4.287500\n",
       "6       301        236              75    4.186667\n",
       "7        79        195              74    3.729730\n",
       "8       722        240              74    4.391892\n",
       "9       300        236              73    4.246575\n",
       "10      405        621              71    3.901408\n",
       "11      545        630              66    3.787879\n",
       "12      779        498              62    4.080645\n",
       "13      488        311              61    3.622951\n",
       "14      696        106              59    3.830508\n",
       "15      627        469              57    3.789474\n",
       "16      733        372              56    3.750000\n",
       "17      656        402              53    4.264151\n",
       "18      399        376              52    4.192308"
      ]
     },
     "execution_count": 16,
     "metadata": {},
     "output_type": "execute_result"
    }
   ],
   "source": [
    "query = \"\"\" SELECT b.book_id,\n",
    "                   b.author_id,\n",
    "                   COUNT(rat.rating_id) AS ratings_number,\n",
    "                   AVG(rat.rating) AS avg_rating\n",
    "            FROM books AS b\n",
    "            INNER JOIN ratings AS rat ON b.book_id = rat.book_id\n",
    "            GROUP BY b.book_id\n",
    "            HAVING COUNT(rat.rating) >=50\n",
    "            ORDER BY COUNT(rat.rating) DESC\n",
    "        \"\"\"\n",
    "show(query)"
   ]
  },
  {
   "cell_type": "code",
   "execution_count": 18,
   "id": "50948885",
   "metadata": {},
   "outputs": [
    {
     "data": {
      "text/html": [
       "<div>\n",
       "<style scoped>\n",
       "    .dataframe tbody tr th:only-of-type {\n",
       "        vertical-align: middle;\n",
       "    }\n",
       "\n",
       "    .dataframe tbody tr th {\n",
       "        vertical-align: top;\n",
       "    }\n",
       "\n",
       "    .dataframe thead th {\n",
       "        text-align: right;\n",
       "    }\n",
       "</style>\n",
       "<table border=\"1\" class=\"dataframe\">\n",
       "  <thead>\n",
       "    <tr style=\"text-align: right;\">\n",
       "      <th></th>\n",
       "      <th>author</th>\n",
       "      <th>avg</th>\n",
       "    </tr>\n",
       "  </thead>\n",
       "  <tbody>\n",
       "    <tr>\n",
       "      <th>0</th>\n",
       "      <td>J.K. Rowling/Mary GrandPré</td>\n",
       "      <td>4.283844</td>\n",
       "    </tr>\n",
       "    <tr>\n",
       "      <th>1</th>\n",
       "      <td>Markus Zusak/Cao Xuân Việt Khương</td>\n",
       "      <td>4.264151</td>\n",
       "    </tr>\n",
       "    <tr>\n",
       "      <th>2</th>\n",
       "      <td>J.R.R. Tolkien</td>\n",
       "      <td>4.258446</td>\n",
       "    </tr>\n",
       "    <tr>\n",
       "      <th>3</th>\n",
       "      <td>Louisa May Alcott</td>\n",
       "      <td>4.192308</td>\n",
       "    </tr>\n",
       "    <tr>\n",
       "      <th>4</th>\n",
       "      <td>Rick Riordan</td>\n",
       "      <td>4.080645</td>\n",
       "    </tr>\n",
       "  </tbody>\n",
       "</table>\n",
       "</div>"
      ],
      "text/plain": [
       "                              author       avg\n",
       "0         J.K. Rowling/Mary GrandPré  4.283844\n",
       "1  Markus Zusak/Cao Xuân Việt Khương  4.264151\n",
       "2                     J.R.R. Tolkien  4.258446\n",
       "3                  Louisa May Alcott  4.192308\n",
       "4                       Rick Riordan  4.080645"
      ]
     },
     "execution_count": 18,
     "metadata": {},
     "output_type": "execute_result"
    }
   ],
   "source": [
    "query = \"\"\" SELECT au.author,\n",
    "                   AVG(avg_rating) \n",
    "            FROM (SELECT b.book_id,\n",
    "                         b.author_id,\n",
    "                         COUNT(rat.rating_id) AS ratings_number,\n",
    "                         AVG(rat.rating) AS avg_rating\n",
    "                  FROM books AS b\n",
    "                  INNER JOIN ratings AS rat ON b.book_id = rat.book_id\n",
    "                  GROUP BY b.book_id\n",
    "                  HAVING COUNT(rat.rating) >=50\n",
    "                  ORDER BY COUNT(rat.rating) DESC) AS top\n",
    "            LEFT OUTER JOIN authors AS au ON top.author_id = au.author_id\n",
    "            GROUP BY au.author\n",
    "            ORDER BY AVG(avg_rating) DESC\n",
    "            LIMIT 5\n",
    "        \"\"\"\n",
    "show(query)"
   ]
  },
  {
   "cell_type": "markdown",
   "id": "103d7deb",
   "metadata": {},
   "source": [
    "Самая высокая оценка книг у автора книг о Гарри Поттере - Джоан Роулинг."
   ]
  },
  {
   "cell_type": "markdown",
   "id": "12b7f350",
   "metadata": {},
   "source": [
    "**5. Посчитайте среднее количество обзоров от пользователей, которые поставили больше 50 оценок.**"
   ]
  },
  {
   "cell_type": "code",
   "execution_count": null,
   "id": "1a665484",
   "metadata": {},
   "outputs": [],
   "source": [
    "query = \"\"\" SELECT AVG(reviews_number)\n",
    "FROM (SELECT username,\n",
    "                COUNT(rating) AS ratings_number\n",
    "            FROM ratings \n",
    "            GROUP BY username\n",
    "            HAVING COUNT(rating) > 50) AS rat\n",
    "LEFT OUTER JOIN (SELECT username,\n",
    "                COUNT(review_id) AS reviews_number\n",
    "            FROM reviews \n",
    "            GROUP BY username) AS rev ON rat.username=rev.username;\n",
    "\"\"\"\n",
    "show(query)"
   ]
  },
  {
   "cell_type": "markdown",
   "id": "6cfc899e",
   "metadata": {},
   "source": [
    "Среднее количество обзоров от пользователей, которые поставили больше 50 оценок - 24,3. "
   ]
  }
 ],
 "metadata": {
  "ExecuteTimeLog": [
   {
    "duration": 5641,
    "start_time": "2022-10-31T13:35:16.771Z"
   },
   {
    "duration": 3,
    "start_time": "2022-10-31T13:35:22.414Z"
   },
   {
    "duration": 271,
    "start_time": "2022-10-31T13:35:22.419Z"
   },
   {
    "duration": 66,
    "start_time": "2022-10-31T13:35:22.692Z"
   },
   {
    "duration": 67,
    "start_time": "2022-10-31T13:35:22.760Z"
   },
   {
    "duration": 70,
    "start_time": "2022-10-31T13:35:22.828Z"
   },
   {
    "duration": 67,
    "start_time": "2022-10-31T13:35:22.900Z"
   },
   {
    "duration": 66,
    "start_time": "2022-10-31T13:35:22.969Z"
   },
   {
    "duration": 65,
    "start_time": "2022-10-31T13:35:23.036Z"
   },
   {
    "duration": 100,
    "start_time": "2022-10-31T13:35:23.104Z"
   },
   {
    "duration": 70,
    "start_time": "2022-10-31T13:35:23.205Z"
   },
   {
    "duration": 73,
    "start_time": "2022-10-31T13:35:23.276Z"
   },
   {
    "duration": 69,
    "start_time": "2022-10-31T13:35:23.350Z"
   },
   {
    "duration": 5627,
    "start_time": "2022-10-31T13:37:27.479Z"
   },
   {
    "duration": 2,
    "start_time": "2022-10-31T13:37:33.108Z"
   },
   {
    "duration": 236,
    "start_time": "2022-10-31T13:37:33.111Z"
   },
   {
    "duration": 75,
    "start_time": "2022-10-31T13:37:33.349Z"
   },
   {
    "duration": 69,
    "start_time": "2022-10-31T13:37:33.427Z"
   },
   {
    "duration": 71,
    "start_time": "2022-10-31T13:37:33.497Z"
   },
   {
    "duration": 68,
    "start_time": "2022-10-31T13:37:33.570Z"
   },
   {
    "duration": 68,
    "start_time": "2022-10-31T13:37:33.640Z"
   },
   {
    "duration": 70,
    "start_time": "2022-10-31T13:37:33.709Z"
   },
   {
    "duration": 80,
    "start_time": "2022-10-31T13:37:33.780Z"
   },
   {
    "duration": 69,
    "start_time": "2022-10-31T13:37:33.862Z"
   },
   {
    "duration": 72,
    "start_time": "2022-10-31T13:37:33.933Z"
   },
   {
    "duration": 71,
    "start_time": "2022-10-31T13:37:34.006Z"
   }
  ],
  "kernelspec": {
   "display_name": "Python 3 (ipykernel)",
   "language": "python",
   "name": "python3"
  },
  "language_info": {
   "codemirror_mode": {
    "name": "ipython",
    "version": 3
   },
   "file_extension": ".py",
   "mimetype": "text/x-python",
   "name": "python",
   "nbconvert_exporter": "python",
   "pygments_lexer": "ipython3",
   "version": "3.9.7"
  },
  "toc": {
   "base_numbering": 1,
   "nav_menu": {},
   "number_sections": true,
   "sideBar": true,
   "skip_h1_title": false,
   "title_cell": "Table of Contents",
   "title_sidebar": "Contents",
   "toc_cell": false,
   "toc_position": {},
   "toc_section_display": true,
   "toc_window_display": false
  }
 },
 "nbformat": 4,
 "nbformat_minor": 5
}
