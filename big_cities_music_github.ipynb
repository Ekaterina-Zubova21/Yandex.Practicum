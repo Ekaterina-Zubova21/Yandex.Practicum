{
 "cells": [
  {
   "cell_type": "markdown",
   "metadata": {
    "id": "E0vqbgi9ay0H"
   },
   "source": [
    "# Музыка больших городов"
   ]
  },
  {
   "cell_type": "markdown",
   "metadata": {
    "id": "VUC88oWjTJw2"
   },
   "source": [
    "Сравнение Москвы и Петербурга окружено мифами. Например:\n",
    " * Москва — мегаполис, подчинённый жёсткому ритму рабочей недели;\n",
    " * Петербург — культурная столица, со своими вкусами.\n",
    "\n",
    "На предоставленных данных сравним поведение пользователей двух столиц.\n",
    "\n",
    "**Цель исследования** — проверить три гипотезы:\n",
    "1. Активность пользователей зависит от дня недели. Причём в Москве и Петербурге это проявляется по-разному.\n",
    "2. В понедельник утром в Москве преобладают одни жанры, а в Петербурге — другие. Так же и вечером пятницы преобладают разные жанры — в зависимости от города. \n",
    "3. Москва и Петербург предпочитают разные жанры музыки. В Москве чаще слушают поп-музыку, в Петербурге — русский рэп."
   ]
  },
  {
   "cell_type": "markdown",
   "metadata": {
    "id": "Ml1hmfXC_Zcs"
   },
   "source": [
    "## Обзор данных"
   ]
  },
  {
   "cell_type": "code",
   "execution_count": 1,
   "metadata": {
    "id": "AXN7PHPN_Zcs"
   },
   "outputs": [],
   "source": [
    "import pandas as pd # импорт библиотеки pandas"
   ]
  },
  {
   "cell_type": "code",
   "execution_count": 2,
   "metadata": {
    "id": "fFVu7vqh_Zct"
   },
   "outputs": [],
   "source": [
    "try: \n",
    "    df = pd.read_csv('datasets/yandex_music_project.csv')\n",
    "except FileNotFoundError:\n",
    "    df = pd.read_csv('/datasets/yandex_music_project.csv')"
   ]
  },
  {
   "cell_type": "markdown",
   "metadata": {
    "id": "rDoOMd3uTqnZ"
   },
   "source": [
    "Выведим на экран первые десять строк таблицы:"
   ]
  },
  {
   "cell_type": "code",
   "execution_count": 3,
   "metadata": {
    "id": "oWTVX3gW_Zct"
   },
   "outputs": [
    {
     "data": {
      "text/html": [
       "<div>\n",
       "<style scoped>\n",
       "    .dataframe tbody tr th:only-of-type {\n",
       "        vertical-align: middle;\n",
       "    }\n",
       "\n",
       "    .dataframe tbody tr th {\n",
       "        vertical-align: top;\n",
       "    }\n",
       "\n",
       "    .dataframe thead th {\n",
       "        text-align: right;\n",
       "    }\n",
       "</style>\n",
       "<table border=\"1\" class=\"dataframe\">\n",
       "  <thead>\n",
       "    <tr style=\"text-align: right;\">\n",
       "      <th></th>\n",
       "      <th>userID</th>\n",
       "      <th>Track</th>\n",
       "      <th>artist</th>\n",
       "      <th>genre</th>\n",
       "      <th>City</th>\n",
       "      <th>time</th>\n",
       "      <th>Day</th>\n",
       "    </tr>\n",
       "  </thead>\n",
       "  <tbody>\n",
       "    <tr>\n",
       "      <th>0</th>\n",
       "      <td>FFB692EC</td>\n",
       "      <td>Kamigata To Boots</td>\n",
       "      <td>The Mass Missile</td>\n",
       "      <td>rock</td>\n",
       "      <td>Saint-Petersburg</td>\n",
       "      <td>20:28:33</td>\n",
       "      <td>Wednesday</td>\n",
       "    </tr>\n",
       "    <tr>\n",
       "      <th>1</th>\n",
       "      <td>55204538</td>\n",
       "      <td>Delayed Because of Accident</td>\n",
       "      <td>Andreas Rönnberg</td>\n",
       "      <td>rock</td>\n",
       "      <td>Moscow</td>\n",
       "      <td>14:07:09</td>\n",
       "      <td>Friday</td>\n",
       "    </tr>\n",
       "    <tr>\n",
       "      <th>2</th>\n",
       "      <td>20EC38</td>\n",
       "      <td>Funiculì funiculà</td>\n",
       "      <td>Mario Lanza</td>\n",
       "      <td>pop</td>\n",
       "      <td>Saint-Petersburg</td>\n",
       "      <td>20:58:07</td>\n",
       "      <td>Wednesday</td>\n",
       "    </tr>\n",
       "    <tr>\n",
       "      <th>3</th>\n",
       "      <td>A3DD03C9</td>\n",
       "      <td>Dragons in the Sunset</td>\n",
       "      <td>Fire + Ice</td>\n",
       "      <td>folk</td>\n",
       "      <td>Saint-Petersburg</td>\n",
       "      <td>08:37:09</td>\n",
       "      <td>Monday</td>\n",
       "    </tr>\n",
       "    <tr>\n",
       "      <th>4</th>\n",
       "      <td>E2DC1FAE</td>\n",
       "      <td>Soul People</td>\n",
       "      <td>Space Echo</td>\n",
       "      <td>dance</td>\n",
       "      <td>Moscow</td>\n",
       "      <td>08:34:34</td>\n",
       "      <td>Monday</td>\n",
       "    </tr>\n",
       "    <tr>\n",
       "      <th>5</th>\n",
       "      <td>842029A1</td>\n",
       "      <td>Преданная</td>\n",
       "      <td>IMPERVTOR</td>\n",
       "      <td>rusrap</td>\n",
       "      <td>Saint-Petersburg</td>\n",
       "      <td>13:09:41</td>\n",
       "      <td>Friday</td>\n",
       "    </tr>\n",
       "    <tr>\n",
       "      <th>6</th>\n",
       "      <td>4CB90AA5</td>\n",
       "      <td>True</td>\n",
       "      <td>Roman Messer</td>\n",
       "      <td>dance</td>\n",
       "      <td>Moscow</td>\n",
       "      <td>13:00:07</td>\n",
       "      <td>Wednesday</td>\n",
       "    </tr>\n",
       "    <tr>\n",
       "      <th>7</th>\n",
       "      <td>F03E1C1F</td>\n",
       "      <td>Feeling This Way</td>\n",
       "      <td>Polina Griffith</td>\n",
       "      <td>dance</td>\n",
       "      <td>Moscow</td>\n",
       "      <td>20:47:49</td>\n",
       "      <td>Wednesday</td>\n",
       "    </tr>\n",
       "    <tr>\n",
       "      <th>8</th>\n",
       "      <td>8FA1D3BE</td>\n",
       "      <td>И вновь продолжается бой</td>\n",
       "      <td>NaN</td>\n",
       "      <td>ruspop</td>\n",
       "      <td>Moscow</td>\n",
       "      <td>09:17:40</td>\n",
       "      <td>Friday</td>\n",
       "    </tr>\n",
       "    <tr>\n",
       "      <th>9</th>\n",
       "      <td>E772D5C0</td>\n",
       "      <td>Pessimist</td>\n",
       "      <td>NaN</td>\n",
       "      <td>dance</td>\n",
       "      <td>Saint-Petersburg</td>\n",
       "      <td>21:20:49</td>\n",
       "      <td>Wednesday</td>\n",
       "    </tr>\n",
       "  </tbody>\n",
       "</table>\n",
       "</div>"
      ],
      "text/plain": [
       "     userID                        Track            artist   genre  \\\n",
       "0  FFB692EC            Kamigata To Boots  The Mass Missile    rock   \n",
       "1  55204538  Delayed Because of Accident  Andreas Rönnberg    rock   \n",
       "2    20EC38            Funiculì funiculà       Mario Lanza     pop   \n",
       "3  A3DD03C9        Dragons in the Sunset        Fire + Ice    folk   \n",
       "4  E2DC1FAE                  Soul People        Space Echo   dance   \n",
       "5  842029A1                    Преданная         IMPERVTOR  rusrap   \n",
       "6  4CB90AA5                         True      Roman Messer   dance   \n",
       "7  F03E1C1F             Feeling This Way   Polina Griffith   dance   \n",
       "8  8FA1D3BE     И вновь продолжается бой               NaN  ruspop   \n",
       "9  E772D5C0                    Pessimist               NaN   dance   \n",
       "\n",
       "             City        time        Day  \n",
       "0  Saint-Petersburg  20:28:33  Wednesday  \n",
       "1            Moscow  14:07:09     Friday  \n",
       "2  Saint-Petersburg  20:58:07  Wednesday  \n",
       "3  Saint-Petersburg  08:37:09     Monday  \n",
       "4            Moscow  08:34:34     Monday  \n",
       "5  Saint-Petersburg  13:09:41     Friday  \n",
       "6            Moscow  13:00:07  Wednesday  \n",
       "7            Moscow  20:47:49  Wednesday  \n",
       "8            Moscow  09:17:40     Friday  \n",
       "9  Saint-Petersburg  21:20:49  Wednesday  "
      ]
     },
     "execution_count": 3,
     "metadata": {},
     "output_type": "execute_result"
    }
   ],
   "source": [
    "df.head(10) "
   ]
  },
  {
   "cell_type": "markdown",
   "metadata": {},
   "source": [
    "Получим общую информацию о таблице."
   ]
  },
  {
   "cell_type": "code",
   "execution_count": 4,
   "metadata": {
    "id": "DSf2kIb-_Zct"
   },
   "outputs": [
    {
     "name": "stdout",
     "output_type": "stream",
     "text": [
      "<class 'pandas.core.frame.DataFrame'>\n",
      "RangeIndex: 65079 entries, 0 to 65078\n",
      "Data columns (total 7 columns):\n",
      " #   Column    Non-Null Count  Dtype \n",
      "---  ------    --------------  ----- \n",
      " 0     userID  65079 non-null  object\n",
      " 1   Track     63848 non-null  object\n",
      " 2   artist    57876 non-null  object\n",
      " 3   genre     63881 non-null  object\n",
      " 4     City    65079 non-null  object\n",
      " 5   time      65079 non-null  object\n",
      " 6   Day       65079 non-null  object\n",
      "dtypes: object(7)\n",
      "memory usage: 3.5+ MB\n"
     ]
    }
   ],
   "source": [
    "df.info() # получение общей информации о данных в таблице df"
   ]
  },
  {
   "cell_type": "markdown",
   "metadata": {
    "id": "TaQ2Iwbr_Zct"
   },
   "source": [
    "Итак, в таблице семь столбцов. Тип данных во всех столбцах — `object`.\n",
    "\n",
    "Согласно документации к данным:\n",
    "* `userID` — идентификатор пользователя;\n",
    "* `Track` — название трека;  \n",
    "* `artist` — имя исполнителя;\n",
    "* `genre` — название жанра;\n",
    "* `City` — город пользователя;\n",
    "* `time` — время начала прослушивания;\n",
    "* `Day` — день недели.\n",
    "\n",
    "В названиях колонок видны три нарушения стиля:\n",
    "1. Строчные буквы сочетаются с прописными.\n",
    "2. Встречаются пробелы.\n",
    "3. Названия записаны без использования змеиного регистра.\n",
    "\n",
    "\n",
    "\n",
    "Количество значений в столбцах различается. Значит, в данных есть пропущенные значения.\n"
   ]
  },
  {
   "cell_type": "markdown",
   "metadata": {
    "id": "MCB6-dXG_Zct"
   },
   "source": [
    "**Выводы**\n",
    "\n",
    "В каждой строке таблицы — данные о прослушанном треке. Часть колонок описывает саму композицию: название, исполнителя и жанр. Остальные данные рассказывают о пользователе: из какого он города, когда он слушал музыку. \n",
    "\n",
    "Предварительно можно утверждать, что, данных достаточно для проверки гипотез. Но встречаются пропуски в данных, а в названиях колонок — расхождения с хорошим стилем.\n",
    "\n",
    "Чтобы двигаться дальше, нужно устранить проблемы в данных."
   ]
  },
  {
   "cell_type": "markdown",
   "metadata": {
    "id": "SjYF6Ub9_Zct"
   },
   "source": [
    "## Предобработка данных\n",
    "Исправим стиль в заголовках столбцов, исключим пропуски. Затем проверим данные на дубликаты."
   ]
  },
  {
   "cell_type": "markdown",
   "metadata": {
    "id": "dIaKXr29_Zct"
   },
   "source": [
    "### Стиль заголовков\n",
    "Выведите на экран названия столбцов:"
   ]
  },
  {
   "cell_type": "code",
   "execution_count": 5,
   "metadata": {
    "id": "oKOTdF_Q_Zct"
   },
   "outputs": [
    {
     "name": "stdout",
     "output_type": "stream",
     "text": [
      "Index(['  userID', 'Track', 'artist', 'genre', '  City  ', 'time', 'Day'], dtype='object')\n"
     ]
    }
   ],
   "source": [
    "print(df.columns) # перечень названий столбцов таблицы df"
   ]
  },
  {
   "cell_type": "markdown",
   "metadata": {
    "id": "zj5534cv_Zct"
   },
   "source": [
    "Приведем названия в соответствие с хорошим стилем:\n",
    "* несколько слов в названии запишите в «змеином_регистре»,\n",
    "* все символы сделайте строчными,\n",
    "* устраните пробелы."
   ]
  },
  {
   "cell_type": "code",
   "execution_count": 6,
   "metadata": {
    "id": "ISlFqs5y_Zct"
   },
   "outputs": [],
   "source": [
    "df.rename(columns= { '  userID' : 'user_id',\n",
    "'Track' : 'track',\n",
    "'  City  ' : 'city',\n",
    "'Day' : 'day'}, inplace=True)  # переименование столбцов"
   ]
  },
  {
   "cell_type": "markdown",
   "metadata": {
    "id": "1dqbh00J_Zct"
   },
   "source": [
    "Проверим результат. "
   ]
  },
  {
   "cell_type": "code",
   "execution_count": 7,
   "metadata": {
    "id": "d4NOAmTW_Zct"
   },
   "outputs": [
    {
     "name": "stdout",
     "output_type": "stream",
     "text": [
      "Index(['user_id', 'track', 'artist', 'genre', 'city', 'time', 'day'], dtype='object')\n"
     ]
    }
   ],
   "source": [
    "print(df.columns) # проверка результатов - перечень названий столбцов"
   ]
  },
  {
   "cell_type": "markdown",
   "metadata": {
    "id": "5ISfbcfY_Zct"
   },
   "source": [
    "### Пропуски значений\n",
    "Посчитаем, сколько в таблице пропущенных значений."
   ]
  },
  {
   "cell_type": "code",
   "execution_count": 8,
   "metadata": {
    "id": "RskX29qr_Zct"
   },
   "outputs": [
    {
     "name": "stdout",
     "output_type": "stream",
     "text": [
      "user_id       0\n",
      "track      1231\n",
      "artist     7203\n",
      "genre      1198\n",
      "city          0\n",
      "time          0\n",
      "day           0\n",
      "dtype: int64\n"
     ]
    }
   ],
   "source": [
    "print(df.isna().sum()) # подсчёт пропусков"
   ]
  },
  {
   "cell_type": "markdown",
   "metadata": {
    "id": "qubhgnlO_Zct"
   },
   "source": [
    "Не все пропущенные значения влияют на исследование. Так в `track` и `artist` пропуски не важны для работы. Достаточно заменить их явными обозначениями.\n",
    "\n",
    "Но пропуски в `genre` могут помешать сравнению музыкальных вкусов в Москве и Санкт-Петербурге. Поэтому необходимо:\n",
    "* заполнить и эти пропуски явными обозначениями,\n",
    "* оценить, насколько они повредят расчётам. "
   ]
  },
  {
   "cell_type": "markdown",
   "metadata": {
    "id": "fSv2laPA_Zct"
   },
   "source": [
    "Заменим пропущенные значения в столбцах `track`, `artist` и `genre` на строку `'unknown'`."
   ]
  },
  {
   "cell_type": "code",
   "execution_count": 42,
   "metadata": {
    "id": "KplB5qWs_Zct"
   },
   "outputs": [],
   "source": [
    "columns_to_replace = ['track', 'artist', 'genre'] \n",
    "for column in columns_to_replace:\n",
    "    df[column] = df[column].fillna('unknown') \n",
    "# перебор названий столбцов в цикле и замена пропущенных значений на 'unknown'"
   ]
  },
  {
   "cell_type": "markdown",
   "metadata": {
    "id": "Ilsm-MZo_Zct"
   },
   "source": [
    "Убедимся, что в таблице не осталось пропусков. Для этого ещё раз посчитаем пропущенные значения."
   ]
  },
  {
   "cell_type": "code",
   "execution_count": 43,
   "metadata": {
    "id": "Tq4nYRX4_Zct"
   },
   "outputs": [
    {
     "name": "stdout",
     "output_type": "stream",
     "text": [
      "user_id    0\n",
      "track      0\n",
      "artist     0\n",
      "genre      0\n",
      "city       0\n",
      "time       0\n",
      "day        0\n",
      "dtype: int64\n"
     ]
    }
   ],
   "source": [
    "print(df.isna().sum())\n",
    "# подсчёт пропусков"
   ]
  },
  {
   "cell_type": "markdown",
   "metadata": {
    "id": "BWKRtBJ3_Zct"
   },
   "source": [
    "### Дубликаты\n",
    "Посчитаем явные дубликаты в таблице:"
   ]
  },
  {
   "cell_type": "code",
   "execution_count": 11,
   "metadata": {
    "id": "36eES_S0_Zct"
   },
   "outputs": [
    {
     "name": "stdout",
     "output_type": "stream",
     "text": [
      "3826\n"
     ]
    }
   ],
   "source": [
    "print(df.duplicated().sum()) # подсчёт явных дубликатов"
   ]
  },
  {
   "cell_type": "markdown",
   "metadata": {
    "id": "Ot25h6XR_Zct"
   },
   "source": [
    "Удалим явные дубликаты:"
   ]
  },
  {
   "cell_type": "code",
   "execution_count": 12,
   "metadata": {
    "id": "exFHq6tt_Zct"
   },
   "outputs": [],
   "source": [
    "df = df.drop_duplicates().reset_index(drop=True) # удаление явных дубликатов (с удалением старых индексов и формированием новых)"
   ]
  },
  {
   "cell_type": "markdown",
   "metadata": {
    "id": "Im2YwBEG_Zct"
   },
   "source": [
    "Ещё раз посчитаем явные дубликаты в таблице и убедимся, что полностью от них избавились:"
   ]
  },
  {
   "cell_type": "code",
   "execution_count": 13,
   "metadata": {
    "id": "-8PuNWQ0_Zct"
   },
   "outputs": [
    {
     "name": "stdout",
     "output_type": "stream",
     "text": [
      "0\n"
     ]
    }
   ],
   "source": [
    "print(df.duplicated().sum()) # проверка на отсутствие дубликатов"
   ]
  },
  {
   "cell_type": "markdown",
   "metadata": {
    "id": "QlFBsxAr_Zct"
   },
   "source": [
    "Теперь избавимся от неявных дубликатов в колонке `genre`."
   ]
  },
  {
   "cell_type": "markdown",
   "metadata": {
    "id": "eSjWwsOh_Zct"
   },
   "source": [
    "Выведите на экран список уникальных названий жанров, отсортированный в алфавитном порядке:"
   ]
  },
  {
   "cell_type": "code",
   "execution_count": 14,
   "metadata": {
    "id": "JIUcqzZN_Zct"
   },
   "outputs": [
    {
     "name": "stdout",
     "output_type": "stream",
     "text": [
      "['acid' 'acoustic' 'action' 'adult' 'africa' 'afrikaans' 'alternative'\n",
      " 'alternativepunk' 'ambient' 'americana' 'animated' 'anime' 'arabesk'\n",
      " 'arabic' 'arena' 'argentinetango' 'art' 'audiobook' 'author' 'avantgarde'\n",
      " 'axé' 'baile' 'balkan' 'beats' 'bigroom' 'black' 'bluegrass' 'blues'\n",
      " 'bollywood' 'bossa' 'brazilian' 'breakbeat' 'breaks' 'broadway'\n",
      " 'cantautori' 'cantopop' 'canzone' 'caribbean' 'caucasian' 'celtic'\n",
      " 'chamber' 'chanson' 'children' 'chill' 'chinese' 'choral' 'christian'\n",
      " 'christmas' 'classical' 'classicmetal' 'club' 'colombian' 'comedy'\n",
      " 'conjazz' 'contemporary' 'country' 'cuban' 'dance' 'dancehall' 'dancepop'\n",
      " 'dark' 'death' 'deep' 'deutschrock' 'deutschspr' 'dirty' 'disco' 'dnb'\n",
      " 'documentary' 'downbeat' 'downtempo' 'drum' 'dub' 'dubstep' 'eastern'\n",
      " 'easy' 'electronic' 'electropop' 'emo' 'entehno' 'epicmetal' 'estrada'\n",
      " 'ethnic' 'eurofolk' 'european' 'experimental' 'extrememetal' 'fado'\n",
      " 'fairytail' 'film' 'fitness' 'flamenco' 'folk' 'folklore' 'folkmetal'\n",
      " 'folkrock' 'folktronica' 'forró' 'frankreich' 'französisch' 'french'\n",
      " 'funk' 'future' 'gangsta' 'garage' 'german' 'ghazal' 'gitarre' 'glitch'\n",
      " 'gospel' 'gothic' 'grime' 'grunge' 'gypsy' 'handsup' \"hard'n'heavy\"\n",
      " 'hardcore' 'hardstyle' 'hardtechno' 'hip' 'hip-hop' 'hiphop' 'historisch'\n",
      " 'holiday' 'hop' 'horror' 'house' 'hymn' 'idm' 'independent' 'indian'\n",
      " 'indie' 'indipop' 'industrial' 'inspirational' 'instrumental'\n",
      " 'international' 'irish' 'jam' 'japanese' 'jazz' 'jewish' 'jpop' 'jungle'\n",
      " 'k-pop' 'karadeniz' 'karaoke' 'kayokyoku' 'korean' 'laiko' 'latin'\n",
      " 'latino' 'leftfield' 'local' 'lounge' 'loungeelectronic' 'lovers'\n",
      " 'malaysian' 'mandopop' 'marschmusik' 'meditative' 'mediterranean'\n",
      " 'melodic' 'metal' 'metalcore' 'mexican' 'middle' 'minimal'\n",
      " 'miscellaneous' 'modern' 'mood' 'mpb' 'muslim' 'native' 'neoklassik'\n",
      " 'neue' 'new' 'newage' 'newwave' 'nu' 'nujazz' 'numetal' 'oceania' 'old'\n",
      " 'opera' 'orchestral' 'other' 'piano' 'podcasts' 'pop' 'popdance'\n",
      " 'popelectronic' 'popeurodance' 'poprussian' 'post' 'posthardcore'\n",
      " 'postrock' 'power' 'progmetal' 'progressive' 'psychedelic' 'punjabi'\n",
      " 'punk' 'quebecois' 'ragga' 'ram' 'rancheras' 'rap' 'rave' 'reggae'\n",
      " 'reggaeton' 'regional' 'relax' 'religious' 'retro' 'rhythm' 'rnb' 'rnr'\n",
      " 'rock' 'rockabilly' 'rockalternative' 'rockindie' 'rockother' 'romance'\n",
      " 'roots' 'ruspop' 'rusrap' 'rusrock' 'russian' 'salsa' 'samba' 'scenic'\n",
      " 'schlager' 'self' 'sertanejo' 'shanson' 'shoegazing' 'showtunes' 'singer'\n",
      " 'ska' 'skarock' 'slow' 'smooth' 'soft' 'soul' 'soulful' 'sound'\n",
      " 'soundtrack' 'southern' 'specialty' 'speech' 'spiritual' 'sport'\n",
      " 'stonerrock' 'surf' 'swing' 'synthpop' 'synthrock' 'sängerportrait'\n",
      " 'tango' 'tanzorchester' 'taraftar' 'tatar' 'tech' 'techno' 'teen'\n",
      " 'thrash' 'top' 'traditional' 'tradjazz' 'trance' 'tribal' 'trip'\n",
      " 'triphop' 'tropical' 'türk' 'türkçe' 'ukrrock' 'unknown' 'urban' 'uzbek'\n",
      " 'variété' 'vi' 'videogame' 'vocal' 'western' 'world' 'worldbeat' 'ïîï'\n",
      " 'электроника']\n"
     ]
    }
   ],
   "source": [
    "df_genre = df['genre'] \n",
    "df_genre = df_genre.sort_values(ascending=True) \n",
    "print(df_genre.unique())# Просмотр уникальных названий жанров"
   ]
  },
  {
   "cell_type": "markdown",
   "metadata": {
    "id": "qej-Qmuo_Zct"
   },
   "source": [
    "Обнаружены неявные дубликаты названия `hiphop`.\n",
    "\n",
    "Создадим функцию для для замены неявных дубликатов."
   ]
  },
  {
   "cell_type": "code",
   "execution_count": 15,
   "metadata": {
    "id": "ErNDkmns_Zct"
   },
   "outputs": [],
   "source": [
    "def replace_wrong_genres(wrong_genre, correct_genre):\n",
    "    for wrong_genre in wrong_genres:\n",
    "       df['genre'] = df['genre'].replace(wrong_genre, correct_genre)\n",
    "    \n",
    "                                 \n",
    "# Функция для замены неявных дубликатов"
   ]
  },
  {
   "cell_type": "code",
   "execution_count": 17,
   "metadata": {
    "id": "YN5i2hpmSo09"
   },
   "outputs": [],
   "source": [
    "wrong_genres = ['hip', 'hop', 'hip-hop']\n",
    "correct_genre = 'hiphop'\n",
    "\n",
    "replace_wrong_genres(wrong_genres, correct_genre) # Устранение неявных дубликатов"
   ]
  },
  {
   "cell_type": "markdown",
   "metadata": {
    "id": "zQKF16_RG15m"
   },
   "source": [
    "Проверим, что заменили неправильные названия."
   ]
  },
  {
   "cell_type": "code",
   "execution_count": 18,
   "metadata": {
    "id": "wvixALnFG15m"
   },
   "outputs": [
    {
     "name": "stdout",
     "output_type": "stream",
     "text": [
      "['acid' 'acoustic' 'action' 'adult' 'africa' 'afrikaans' 'alternative'\n",
      " 'alternativepunk' 'ambient' 'americana' 'animated' 'anime' 'arabesk'\n",
      " 'arabic' 'arena' 'argentinetango' 'art' 'audiobook' 'author' 'avantgarde'\n",
      " 'axé' 'baile' 'balkan' 'beats' 'bigroom' 'black' 'bluegrass' 'blues'\n",
      " 'bollywood' 'bossa' 'brazilian' 'breakbeat' 'breaks' 'broadway'\n",
      " 'cantautori' 'cantopop' 'canzone' 'caribbean' 'caucasian' 'celtic'\n",
      " 'chamber' 'chanson' 'children' 'chill' 'chinese' 'choral' 'christian'\n",
      " 'christmas' 'classical' 'classicmetal' 'club' 'colombian' 'comedy'\n",
      " 'conjazz' 'contemporary' 'country' 'cuban' 'dance' 'dancehall' 'dancepop'\n",
      " 'dark' 'death' 'deep' 'deutschrock' 'deutschspr' 'dirty' 'disco' 'dnb'\n",
      " 'documentary' 'downbeat' 'downtempo' 'drum' 'dub' 'dubstep' 'eastern'\n",
      " 'easy' 'electronic' 'electropop' 'emo' 'entehno' 'epicmetal' 'estrada'\n",
      " 'ethnic' 'eurofolk' 'european' 'experimental' 'extrememetal' 'fado'\n",
      " 'fairytail' 'film' 'fitness' 'flamenco' 'folk' 'folklore' 'folkmetal'\n",
      " 'folkrock' 'folktronica' 'forró' 'frankreich' 'französisch' 'french'\n",
      " 'funk' 'future' 'gangsta' 'garage' 'german' 'ghazal' 'gitarre' 'glitch'\n",
      " 'gospel' 'gothic' 'grime' 'grunge' 'gypsy' 'handsup' \"hard'n'heavy\"\n",
      " 'hardcore' 'hardstyle' 'hardtechno' 'hiphop' 'historisch' 'holiday'\n",
      " 'horror' 'house' 'hymn' 'idm' 'independent' 'indian' 'indie' 'indipop'\n",
      " 'industrial' 'inspirational' 'instrumental' 'international' 'irish' 'jam'\n",
      " 'japanese' 'jazz' 'jewish' 'jpop' 'jungle' 'k-pop' 'karadeniz' 'karaoke'\n",
      " 'kayokyoku' 'korean' 'laiko' 'latin' 'latino' 'leftfield' 'local'\n",
      " 'lounge' 'loungeelectronic' 'lovers' 'malaysian' 'mandopop' 'marschmusik'\n",
      " 'meditative' 'mediterranean' 'melodic' 'metal' 'metalcore' 'mexican'\n",
      " 'middle' 'minimal' 'miscellaneous' 'modern' 'mood' 'mpb' 'muslim'\n",
      " 'native' 'neoklassik' 'neue' 'new' 'newage' 'newwave' 'nu' 'nujazz'\n",
      " 'numetal' 'oceania' 'old' 'opera' 'orchestral' 'other' 'piano' 'podcasts'\n",
      " 'pop' 'popdance' 'popelectronic' 'popeurodance' 'poprussian' 'post'\n",
      " 'posthardcore' 'postrock' 'power' 'progmetal' 'progressive' 'psychedelic'\n",
      " 'punjabi' 'punk' 'quebecois' 'ragga' 'ram' 'rancheras' 'rap' 'rave'\n",
      " 'reggae' 'reggaeton' 'regional' 'relax' 'religious' 'retro' 'rhythm'\n",
      " 'rnb' 'rnr' 'rock' 'rockabilly' 'rockalternative' 'rockindie' 'rockother'\n",
      " 'romance' 'roots' 'ruspop' 'rusrap' 'rusrock' 'russian' 'salsa' 'samba'\n",
      " 'scenic' 'schlager' 'self' 'sertanejo' 'shanson' 'shoegazing' 'showtunes'\n",
      " 'singer' 'ska' 'skarock' 'slow' 'smooth' 'soft' 'soul' 'soulful' 'sound'\n",
      " 'soundtrack' 'southern' 'specialty' 'speech' 'spiritual' 'sport'\n",
      " 'stonerrock' 'surf' 'swing' 'synthpop' 'synthrock' 'sängerportrait'\n",
      " 'tango' 'tanzorchester' 'taraftar' 'tatar' 'tech' 'techno' 'teen'\n",
      " 'thrash' 'top' 'traditional' 'tradjazz' 'trance' 'tribal' 'trip'\n",
      " 'triphop' 'tropical' 'türk' 'türkçe' 'ukrrock' 'unknown' 'urban' 'uzbek'\n",
      " 'variété' 'vi' 'videogame' 'vocal' 'western' 'world' 'worldbeat' 'ïîï'\n",
      " 'электроника']\n"
     ]
    }
   ],
   "source": [
    "df_genre = df['genre'] \n",
    "df_genre = df_genre.sort_values(ascending=True) \n",
    "print(df_genre.unique())\n",
    "# Проверка на неявные дубликаты"
   ]
  },
  {
   "cell_type": "markdown",
   "metadata": {},
   "source": [
    "Также в таблицы есть еще один неявный дубликат: 'electronic' и 'электроника'. Проведем замену."
   ]
  },
  {
   "cell_type": "code",
   "execution_count": 19,
   "metadata": {},
   "outputs": [],
   "source": [
    "wrong_genres = 'электроника'\n",
    "correct_genre = 'electronic'\n",
    "\n",
    "replace_wrong_genres(wrong_genres, correct_genre) "
   ]
  },
  {
   "cell_type": "markdown",
   "metadata": {},
   "source": [
    "Еще раз проведем проверку на неявные дубликаты."
   ]
  },
  {
   "cell_type": "code",
   "execution_count": 20,
   "metadata": {},
   "outputs": [
    {
     "name": "stdout",
     "output_type": "stream",
     "text": [
      "['acid' 'acoustic' 'action' 'adult' 'africa' 'afrikaans' 'alternative'\n",
      " 'alternativepunk' 'ambient' 'americana' 'animated' 'anime' 'arabesk'\n",
      " 'arabic' 'arena' 'argentinetango' 'art' 'audiobook' 'author' 'avantgarde'\n",
      " 'axé' 'baile' 'balkan' 'beats' 'bigroom' 'black' 'bluegrass' 'blues'\n",
      " 'bollywood' 'bossa' 'brazilian' 'breakbeat' 'breaks' 'broadway'\n",
      " 'cantautori' 'cantopop' 'canzone' 'caribbean' 'caucasian' 'celtic'\n",
      " 'chamber' 'chanson' 'children' 'chill' 'chinese' 'choral' 'christian'\n",
      " 'christmas' 'classical' 'classicmetal' 'club' 'colombian' 'comedy'\n",
      " 'conjazz' 'contemporary' 'country' 'cuban' 'dance' 'dancehall' 'dancepop'\n",
      " 'dark' 'death' 'deep' 'deutschrock' 'deutschspr' 'dirty' 'disco' 'dnb'\n",
      " 'documentary' 'downbeat' 'downtempo' 'drum' 'dub' 'dubstep' 'eastern'\n",
      " 'easy' 'electronic' 'electropop' 'emo' 'entehno' 'epicmetal' 'estrada'\n",
      " 'ethnic' 'eurofolk' 'european' 'experimental' 'extrememetal' 'fado'\n",
      " 'fairytail' 'film' 'fitness' 'flamenco' 'folk' 'folklore' 'folkmetal'\n",
      " 'folkrock' 'folktronica' 'forró' 'frankreich' 'französisch' 'french'\n",
      " 'funk' 'future' 'gangsta' 'garage' 'german' 'ghazal' 'gitarre' 'glitch'\n",
      " 'gospel' 'gothic' 'grime' 'grunge' 'gypsy' 'handsup' \"hard'n'heavy\"\n",
      " 'hardcore' 'hardstyle' 'hardtechno' 'hiphop' 'historisch' 'holiday'\n",
      " 'horror' 'house' 'hymn' 'idm' 'independent' 'indian' 'indie' 'indipop'\n",
      " 'industrial' 'inspirational' 'instrumental' 'international' 'irish' 'jam'\n",
      " 'japanese' 'jazz' 'jewish' 'jpop' 'jungle' 'k-pop' 'karadeniz' 'karaoke'\n",
      " 'kayokyoku' 'korean' 'laiko' 'latin' 'latino' 'leftfield' 'local'\n",
      " 'lounge' 'loungeelectronic' 'lovers' 'malaysian' 'mandopop' 'marschmusik'\n",
      " 'meditative' 'mediterranean' 'melodic' 'metal' 'metalcore' 'mexican'\n",
      " 'middle' 'minimal' 'miscellaneous' 'modern' 'mood' 'mpb' 'muslim'\n",
      " 'native' 'neoklassik' 'neue' 'new' 'newage' 'newwave' 'nu' 'nujazz'\n",
      " 'numetal' 'oceania' 'old' 'opera' 'orchestral' 'other' 'piano' 'podcasts'\n",
      " 'pop' 'popdance' 'popelectronic' 'popeurodance' 'poprussian' 'post'\n",
      " 'posthardcore' 'postrock' 'power' 'progmetal' 'progressive' 'psychedelic'\n",
      " 'punjabi' 'punk' 'quebecois' 'ragga' 'ram' 'rancheras' 'rap' 'rave'\n",
      " 'reggae' 'reggaeton' 'regional' 'relax' 'religious' 'retro' 'rhythm'\n",
      " 'rnb' 'rnr' 'rock' 'rockabilly' 'rockalternative' 'rockindie' 'rockother'\n",
      " 'romance' 'roots' 'ruspop' 'rusrap' 'rusrock' 'russian' 'salsa' 'samba'\n",
      " 'scenic' 'schlager' 'self' 'sertanejo' 'shanson' 'shoegazing' 'showtunes'\n",
      " 'singer' 'ska' 'skarock' 'slow' 'smooth' 'soft' 'soul' 'soulful' 'sound'\n",
      " 'soundtrack' 'southern' 'specialty' 'speech' 'spiritual' 'sport'\n",
      " 'stonerrock' 'surf' 'swing' 'synthpop' 'synthrock' 'sängerportrait'\n",
      " 'tango' 'tanzorchester' 'taraftar' 'tatar' 'tech' 'techno' 'teen'\n",
      " 'thrash' 'top' 'traditional' 'tradjazz' 'trance' 'tribal' 'trip'\n",
      " 'triphop' 'tropical' 'türk' 'türkçe' 'ukrrock' 'unknown' 'urban' 'uzbek'\n",
      " 'variété' 'vi' 'videogame' 'vocal' 'western' 'world' 'worldbeat' 'ïîï'\n",
      " 'электроника']\n"
     ]
    }
   ],
   "source": [
    "df_genre = df['genre'] \n",
    "df_genre = df_genre.sort_values(ascending=True) \n",
    "print(df_genre.unique())"
   ]
  },
  {
   "cell_type": "markdown",
   "metadata": {
    "id": "jz6a9-7HQUDd"
   },
   "source": [
    "**Выводы**\n",
    "\n",
    "Предобработка обнаружила три проблемы в данных:\n",
    "\n",
    "- нарушения в стиле заголовков,\n",
    "- пропущенные значения,\n",
    "- дубликаты — явные и неявные.\n",
    "\n",
    "Заголовки исправлены.\n",
    "\n",
    "Пропущенные значения заменили на `'unknown'`.  Без дубликатов исследование станет более точным. \n",
    "\n",
    "Теперь можно перейти к проверке гипотез. "
   ]
  },
  {
   "cell_type": "markdown",
   "metadata": {
    "id": "WttZHXH0SqKk"
   },
   "source": [
    "## Проверка гипотез"
   ]
  },
  {
   "cell_type": "markdown",
   "metadata": {
    "id": "Im936VVi_Zcu"
   },
   "source": [
    "### Сравнение поведения пользователей двух столиц"
   ]
  },
  {
   "cell_type": "markdown",
   "metadata": {
    "id": "nwt_MuaL_Zcu"
   },
   "source": [
    "Первая гипотеза утверждает, что пользователи по-разному слушают музыку в Москве и Санкт-Петербурге. Проверим это предположение по данным о трёх днях недели — понедельнике, среде и пятнице. \n",
    "\n",
    "Для этого:\n",
    "\n",
    "* Разделим пользователей Москвы и Санкт-Петербурга\n",
    "* Сравним, сколько треков послушала каждая группа пользователей в понедельник, среду и пятницу.\n"
   ]
  },
  {
   "cell_type": "code",
   "execution_count": 21,
   "metadata": {
    "id": "0_Qs96oh_Zcu"
   },
   "outputs": [
    {
     "name": "stdout",
     "output_type": "stream",
     "text": [
      "city\n",
      "Moscow              42741\n",
      "Saint-Petersburg    18512\n",
      "Name: city, dtype: int64\n"
     ]
    }
   ],
   "source": [
    "print(df.groupby('city')['city'].count())\n",
    "# Подсчёт прослушиваний в каждом городе"
   ]
  },
  {
   "cell_type": "markdown",
   "metadata": {
    "id": "dzli3w8o_Zcu"
   },
   "source": [
    "В Москве прослушиваний больше, чем в Петербурге. Из этого не следует, что московские пользователи чаще слушают музыку. Просто самих пользователей в Москве больше.\n",
    "\n",
    "Далее сгруппируем данные по дню недели и подсчитаем прослушивания в понедельник, среду и пятницу. "
   ]
  },
  {
   "cell_type": "code",
   "execution_count": 22,
   "metadata": {
    "id": "uZMKjiJz_Zcu"
   },
   "outputs": [
    {
     "name": "stdout",
     "output_type": "stream",
     "text": [
      "day\n",
      "Friday       21840\n",
      "Monday       21354\n",
      "Wednesday    18059\n",
      "Name: day, dtype: int64\n"
     ]
    }
   ],
   "source": [
    "print(df.groupby('day')['day'].count())\n",
    "# Подсчёт прослушиваний в каждый из трёх дней"
   ]
  },
  {
   "cell_type": "markdown",
   "metadata": {
    "id": "cC2tNrlL_Zcu"
   },
   "source": [
    "В среднем пользователи из двух городов менее активны по средам."
   ]
  },
  {
   "cell_type": "markdown",
   "metadata": {
    "id": "POzs8bGa_Zcu"
   },
   "source": [
    "Вы видели, как работает группировка по городу и по дням недели. Теперь напишем функцию, которая объединит два эти расчёта.\n",
    "\n",
    "Создайте функцию `number_tracks()`, которая посчитает прослушивания для заданного дня и города."
   ]
  },
  {
   "cell_type": "code",
   "execution_count": 44,
   "metadata": {
    "id": "Nz3GdQB1_Zcu"
   },
   "outputs": [],
   "source": [
    "def number_tracks(day,city):\n",
    "    track_list = []\n",
    "    track_list = df[df['day'] == day] \n",
    "    track_list = track_list[track_list['city'] == city]\n",
    "    track_list_count = track_list['user_id'].count()\n",
    "    return track_list_count\n",
    "    # <создание функции number_tracks()>"
   ]
  },
  {
   "cell_type": "markdown",
   "metadata": {
    "id": "ytf7xFrFJQ2r"
   },
   "source": [
    "Вызовите `number_tracks()` шесть раз, меняя значение параметров — чтобы получить данные для каждого города в каждый из трёх дней."
   ]
  },
  {
   "cell_type": "code",
   "execution_count": 24,
   "metadata": {
    "id": "rJcRATNQ_Zcu"
   },
   "outputs": [
    {
     "name": "stdout",
     "output_type": "stream",
     "text": [
      "15740\n"
     ]
    }
   ],
   "source": [
    "print(number_tracks('Monday','Moscow')) # количество прослушиваний в Москве по понедельникам"
   ]
  },
  {
   "cell_type": "code",
   "execution_count": 25,
   "metadata": {
    "id": "hq_ncZ5T_Zcu"
   },
   "outputs": [
    {
     "name": "stdout",
     "output_type": "stream",
     "text": [
      "5614\n"
     ]
    }
   ],
   "source": [
    "print(number_tracks('Monday','Saint-Petersburg')) # количество прослушиваний в Санкт-Петербурге по понедельникам"
   ]
  },
  {
   "cell_type": "code",
   "execution_count": 26,
   "metadata": {
    "id": "_NTy2VPU_Zcu"
   },
   "outputs": [
    {
     "name": "stdout",
     "output_type": "stream",
     "text": [
      "11056\n"
     ]
    }
   ],
   "source": [
    "print(number_tracks('Wednesday','Moscow')) # количество прослушиваний в Москве по средам"
   ]
  },
  {
   "cell_type": "code",
   "execution_count": 27,
   "metadata": {
    "id": "j2y3TAwo_Zcu"
   },
   "outputs": [
    {
     "name": "stdout",
     "output_type": "stream",
     "text": [
      "7003\n"
     ]
    }
   ],
   "source": [
    "print(number_tracks('Wednesday','Saint-Petersburg')) # количество прослушиваний в Санкт-Петербурге по средам"
   ]
  },
  {
   "cell_type": "code",
   "execution_count": 28,
   "metadata": {
    "id": "vYDw5u_K_Zcu"
   },
   "outputs": [
    {
     "name": "stdout",
     "output_type": "stream",
     "text": [
      "15945\n"
     ]
    }
   ],
   "source": [
    "print(number_tracks('Friday','Moscow')) # количество прослушиваний в Москве по пятницам"
   ]
  },
  {
   "cell_type": "code",
   "execution_count": 29,
   "metadata": {
    "id": "8_yzFtW3_Zcu"
   },
   "outputs": [
    {
     "name": "stdout",
     "output_type": "stream",
     "text": [
      "5895\n"
     ]
    }
   ],
   "source": [
    "print(number_tracks('Friday','Saint-Petersburg')) # количество прослушиваний в Санкт-Петербурге по пятницам"
   ]
  },
  {
   "cell_type": "markdown",
   "metadata": {
    "id": "7QXffbO-_Zcu"
   },
   "source": [
    "Создим c помощью конструктора `pd.DataFrame` таблицу, где\n",
    "* названия колонок — `['city', 'monday', 'wednesday', 'friday']`;\n",
    "* данные — результаты, которые вы получили с помощью `number_tracks`."
   ]
  },
  {
   "cell_type": "code",
   "execution_count": 30,
   "metadata": {
    "id": "APAcLpOr_Zcu"
   },
   "outputs": [
    {
     "data": {
      "text/html": [
       "<div>\n",
       "<style scoped>\n",
       "    .dataframe tbody tr th:only-of-type {\n",
       "        vertical-align: middle;\n",
       "    }\n",
       "\n",
       "    .dataframe tbody tr th {\n",
       "        vertical-align: top;\n",
       "    }\n",
       "\n",
       "    .dataframe thead th {\n",
       "        text-align: right;\n",
       "    }\n",
       "</style>\n",
       "<table border=\"1\" class=\"dataframe\">\n",
       "  <thead>\n",
       "    <tr style=\"text-align: right;\">\n",
       "      <th></th>\n",
       "      <th>city</th>\n",
       "      <th>monday</th>\n",
       "      <th>wednesday</th>\n",
       "      <th>friday</th>\n",
       "    </tr>\n",
       "  </thead>\n",
       "  <tbody>\n",
       "    <tr>\n",
       "      <th>0</th>\n",
       "      <td>Москва</td>\n",
       "      <td>15740</td>\n",
       "      <td>11056</td>\n",
       "      <td>15945</td>\n",
       "    </tr>\n",
       "    <tr>\n",
       "      <th>1</th>\n",
       "      <td>Санкт-Петербург</td>\n",
       "      <td>5614</td>\n",
       "      <td>7003</td>\n",
       "      <td>5895</td>\n",
       "    </tr>\n",
       "  </tbody>\n",
       "</table>\n",
       "</div>"
      ],
      "text/plain": [
       "              city  monday  wednesday  friday\n",
       "0           Москва   15740      11056   15945\n",
       "1  Санкт-Петербург    5614       7003    5895"
      ]
     },
     "execution_count": 30,
     "metadata": {},
     "output_type": "execute_result"
    }
   ],
   "source": [
    "data = [['Москва', 15740, 11056, 15945], ['Санкт-Петербург', 5614, 7003, 5895]]\n",
    "columns = ['city', 'monday', 'wednesday', 'friday']\n",
    "pd.DataFrame(data=data, columns=columns) # Таблица с результатами"
   ]
  },
  {
   "cell_type": "markdown",
   "metadata": {
    "id": "-EgPIHYu_Zcu"
   },
   "source": [
    "**Выводы**\n",
    "\n",
    "Данные показывают разницу поведения пользователей:\n",
    "\n",
    "- В Москве пик прослушиваний приходится на понедельник и пятницу, а в среду заметен спад.\n",
    "- В Петербурге, наоборот, больше слушают музыку по средам. Активность в понедельник и пятницу здесь почти в равной мере уступает среде.\n",
    "\n",
    "Значит, данные говорят в пользу первой гипотезы."
   ]
  },
  {
   "cell_type": "markdown",
   "metadata": {
    "id": "atZAxtq4_Zcu"
   },
   "source": [
    "### Музыка в начале и в конце недели"
   ]
  },
  {
   "cell_type": "markdown",
   "metadata": {
    "id": "eXrQqXFH_Zcu"
   },
   "source": [
    "Согласно второй гипотезе, утром в понедельник в Москве преобладают одни жанры, а в Петербурге — другие. Так же и вечером пятницы преобладают разные жанры — в зависимости от города."
   ]
  },
  {
   "cell_type": "markdown",
   "metadata": {
    "id": "S8UcW6Hw_Zcu"
   },
   "source": [
    "Сохраним таблицы с данными в две переменные:\n",
    "* по Москве — в `moscow_general`;\n",
    "* по Санкт-Петербургу — в `spb_general`."
   ]
  },
  {
   "cell_type": "code",
   "execution_count": 31,
   "metadata": {
    "id": "qeaFfM_P_Zcu"
   },
   "outputs": [],
   "source": [
    "moscow_general = df[df['city'] == 'Moscow']    # получение таблицы moscow_general из тех строк таблицы df, \n",
    "# для которых значение в столбце 'city' равно 'Moscow'\n"
   ]
  },
  {
   "cell_type": "code",
   "execution_count": 32,
   "metadata": {
    "id": "ORaVRKto_Zcu"
   },
   "outputs": [],
   "source": [
    "spb_general = df[df['city'] == 'Saint-Petersburg'] \n",
    "# получение таблицы spb_general из тех строк таблицы df,\n",
    "# для которых значение в столбце 'city' равно 'Saint-Petersburg'\n"
   ]
  },
  {
   "cell_type": "markdown",
   "metadata": {
    "id": "MEJV-CX2_Zcu"
   },
   "source": [
    "Создим функцию `genre_weekday()` с четырьмя параметрами:\n",
    "* таблица (датафрейм) с данными,\n",
    "* день недели,\n",
    "* начальная временная метка в формате 'hh:mm', \n",
    "* последняя временная метка в формате 'hh:mm'.\n",
    "\n",
    "Функция должна вернуть информацию о топ-10 жанров тех треков, которые прослушивали в указанный день, в промежутке между двумя отметками времени."
   ]
  },
  {
   "cell_type": "code",
   "execution_count": 45,
   "metadata": {
    "id": "laJT9BYl_Zcu"
   },
   "outputs": [],
   "source": [
    "def genre_weekday(table, day, time1, time2):\n",
    "    genre_df = []\n",
    "    genre_df = table[table['day'] == day] \n",
    "    genre_df = genre_df[genre_df['time'] > time1]\n",
    "    genre_df = genre_df[genre_df['time'] < time2]\n",
    "    genre_df = genre_df.groupby(by='genre')\n",
    "    genre_df_count = genre_df['user_id'].count()\n",
    "    genre_df_sorted = genre_df_count.sort_values(ascending = False) \n",
    "    result = genre_df_sorted.head(10)\n",
    "    return result"
   ]
  },
  {
   "cell_type": "markdown",
   "metadata": {
    "id": "la2s2_PF_Zcu"
   },
   "source": [
    "Cравним результаты функции `genre_weekday()` для Москвы и Санкт-Петербурга в понедельник утром (с 7:00 до 11:00) и в пятницу вечером (с 17:00 до 23:00):"
   ]
  },
  {
   "cell_type": "code",
   "execution_count": 34,
   "metadata": {
    "id": "yz7itPUQ_Zcu"
   },
   "outputs": [
    {
     "data": {
      "text/plain": [
       "genre\n",
       "pop            781\n",
       "dance          549\n",
       "electronic     480\n",
       "rock           474\n",
       "hiphop         286\n",
       "ruspop         186\n",
       "world          181\n",
       "rusrap         175\n",
       "alternative    164\n",
       "unknown        161\n",
       "Name: user_id, dtype: int64"
      ]
     },
     "execution_count": 34,
     "metadata": {},
     "output_type": "execute_result"
    }
   ],
   "source": [
    "genre_weekday(moscow_general, 'Monday', '07:00', '11:00')\n",
    "# вызов функции для утра понедельника в Москве (вместо df — таблица moscow_general)\n",
    "# объекты, хранящие время, являются строками и сравниваются как строки\n",
    "# пример вызова: genre_weekday(moscow_general, 'Monday', '07:00', '11:00')"
   ]
  },
  {
   "cell_type": "code",
   "execution_count": 35,
   "metadata": {
    "id": "kwUcHPdy_Zcu"
   },
   "outputs": [
    {
     "data": {
      "text/plain": [
       "genre\n",
       "pop            218\n",
       "dance          182\n",
       "rock           162\n",
       "electronic     147\n",
       "hiphop          80\n",
       "ruspop          64\n",
       "alternative     58\n",
       "rusrap          55\n",
       "jazz            44\n",
       "classical       40\n",
       "Name: user_id, dtype: int64"
      ]
     },
     "execution_count": 35,
     "metadata": {},
     "output_type": "execute_result"
    }
   ],
   "source": [
    "genre_weekday(spb_general, 'Monday', '07:00', '11:00')\n",
    "# вызов функции для утра понедельника в Петербурге (вместо df — таблица spb_general)"
   ]
  },
  {
   "cell_type": "code",
   "execution_count": 36,
   "metadata": {
    "id": "EzXVRE1o_Zcu"
   },
   "outputs": [
    {
     "data": {
      "text/plain": [
       "genre\n",
       "pop            713\n",
       "rock           517\n",
       "dance          495\n",
       "electronic     482\n",
       "hiphop         273\n",
       "world          208\n",
       "ruspop         170\n",
       "alternative    163\n",
       "classical      163\n",
       "rusrap         142\n",
       "Name: user_id, dtype: int64"
      ]
     },
     "execution_count": 36,
     "metadata": {},
     "output_type": "execute_result"
    }
   ],
   "source": [
    "genre_weekday(moscow_general, 'Friday', '17:00', '23:00')\n",
    "# вызов функции для вечера пятницы в Москве"
   ]
  },
  {
   "cell_type": "code",
   "execution_count": 37,
   "metadata": {
    "id": "JZaEKu5v_Zcu"
   },
   "outputs": [
    {
     "data": {
      "text/plain": [
       "genre\n",
       "pop            256\n",
       "electronic     216\n",
       "rock           216\n",
       "dance          210\n",
       "hiphop          97\n",
       "alternative     63\n",
       "jazz            61\n",
       "classical       60\n",
       "rusrap          59\n",
       "world           54\n",
       "Name: user_id, dtype: int64"
      ]
     },
     "execution_count": 37,
     "metadata": {},
     "output_type": "execute_result"
    }
   ],
   "source": [
    "genre_weekday(spb_general, 'Friday', '17:00', '23:00')\n",
    "# вызов функции для вечера пятницы в Петербурге"
   ]
  },
  {
   "cell_type": "markdown",
   "metadata": {
    "id": "wrCe4MNX_Zcu"
   },
   "source": [
    "**Выводы**\n",
    "\n",
    "Если сравнить топ-10 жанров в понедельник утром, можно сделать такие выводы:\n",
    "\n",
    "1. В Москве и Петербурге слушают похожую музыку. Единственное отличие — в московский рейтинг вошёл жанр “world”, а в петербургский — джаз и классика.\n",
    "\n",
    "2. В Москве пропущенных значений оказалось так много, что значение `'unknown'` заняло десятое место среди самых популярных жанров. Значит, пропущенные значения занимают существенную долю в данных и угрожают достоверности исследования.\n",
    "\n",
    "Вечер пятницы не меняет эту картину. Некоторые жанры поднимаются немного выше, другие спускаются, но в целом топ-10 остаётся тем же самым.\n",
    "\n",
    "Таким образом, вторая гипотеза подтвердилась лишь частично:\n",
    "* Пользователи слушают похожую музыку в начале недели и в конце.\n",
    "* Разница между Москвой и Петербургом не слишком выражена. В Москве чаще слушают русскую популярную музыку, в Петербурге — джаз.\n",
    "\n",
    "Однако пропуски в данных ставят под сомнение этот результат. В Москве их так много, что рейтинг топ-10 мог бы выглядеть иначе, если бы не утерянные  данные о жанрах."
   ]
  },
  {
   "cell_type": "markdown",
   "metadata": {
    "id": "JolODAqr_Zcu"
   },
   "source": [
    "### Жанровые предпочтения в Москве и Петербурге\n",
    "\n",
    "Гипотеза: Петербург — столица рэпа, музыку этого жанра там слушают чаще, чем в Москве.  А Москва — город контрастов, в котором, тем не менее, преобладает поп-музыка."
   ]
  },
  {
   "cell_type": "markdown",
   "metadata": {
    "id": "DlegSvaT_Zcu"
   },
   "source": [
    "Сгруппируем таблицу `moscow_general` по жанру и посчитаем прослушивания треков каждого жанра методом `count()`. Затем отсортируем результат в порядке убывания и сохраните его в таблице `moscow_genres`."
   ]
  },
  {
   "cell_type": "code",
   "execution_count": 46,
   "metadata": {
    "id": "r19lIPke_Zcu"
   },
   "outputs": [],
   "source": [
    "moscow_genres = moscow_general.groupby('genre')['genre'].count()\n",
    "moscow_genres = moscow_genres.sort_values(ascending=False)"
   ]
  },
  {
   "cell_type": "markdown",
   "metadata": {
    "id": "6kMuomxTiIr8"
   },
   "source": [
    "Выведим на экран первые десять строк `moscow_genres`:"
   ]
  },
  {
   "cell_type": "code",
   "execution_count": 39,
   "metadata": {
    "id": "WhCSooF8_Zcv"
   },
   "outputs": [
    {
     "data": {
      "text/plain": [
       "genre\n",
       "pop            5892\n",
       "dance          4435\n",
       "rock           3965\n",
       "electronic     3786\n",
       "hiphop         2096\n",
       "classical      1616\n",
       "world          1432\n",
       "alternative    1379\n",
       "ruspop         1372\n",
       "rusrap         1161\n",
       "Name: genre, dtype: int64"
      ]
     },
     "execution_count": 39,
     "metadata": {},
     "output_type": "execute_result"
    }
   ],
   "source": [
    "moscow_genres.head(10)\n",
    "# просмотр первых 10 строк moscow_genres"
   ]
  },
  {
   "cell_type": "markdown",
   "metadata": {
    "id": "cnPG2vnN_Zcv"
   },
   "source": [
    "Теперь повторим то же и для Петербурга."
   ]
  },
  {
   "cell_type": "code",
   "execution_count": 40,
   "metadata": {
    "id": "gluLIpE7_Zcv"
   },
   "outputs": [],
   "source": [
    "spb_genres = spb_general.groupby('genre')['genre'].count()\n",
    "spb_genres = spb_genres.sort_values(ascending=False)"
   ]
  },
  {
   "cell_type": "markdown",
   "metadata": {
    "id": "5Doha_ODgyQ8"
   },
   "source": [
    "Выведим на экран первые десять строк `spb_genres`:"
   ]
  },
  {
   "cell_type": "code",
   "execution_count": 47,
   "metadata": {
    "id": "uaGJHjVU_Zcv"
   },
   "outputs": [
    {
     "data": {
      "text/plain": [
       "genre\n",
       "pop            2431\n",
       "dance          1932\n",
       "rock           1879\n",
       "electronic     1736\n",
       "hiphop          960\n",
       "alternative     649\n",
       "classical       646\n",
       "rusrap          564\n",
       "ruspop          538\n",
       "world           515\n",
       "Name: genre, dtype: int64"
      ]
     },
     "execution_count": 47,
     "metadata": {},
     "output_type": "execute_result"
    }
   ],
   "source": [
    "spb_genres.head(10)\n",
    "# просмотр первых 10 строк spb_genres"
   ]
  },
  {
   "cell_type": "markdown",
   "metadata": {
    "id": "RY51YJYu_Zcv"
   },
   "source": [
    "**Выводы**"
   ]
  },
  {
   "cell_type": "markdown",
   "metadata": {
    "id": "nVhnJEm__Zcv"
   },
   "source": [
    "Гипотеза частично подтвердилась:\n",
    "* Поп-музыка — самый популярный жанр в Москве, как и предполагала гипотеза. Более того, в топ-10 жанров встречается близкий жанр — русская популярная музыка.\n",
    "* Вопреки ожиданиям, рэп одинаково популярен в Москве и Петербурге. \n"
   ]
  },
  {
   "cell_type": "markdown",
   "metadata": {
    "id": "ykKQ0N65_Zcv"
   },
   "source": [
    "## Итоги исследования"
   ]
  },
  {
   "cell_type": "markdown",
   "metadata": {
    "id": "tjUwbHb3_Zcv"
   },
   "source": [
    "Были проверены три гипотезы и установлено:\n",
    "\n",
    "1. День недели по-разному влияет на активность пользователей в Москве и Петербурге. \n",
    "\n",
    "Первая гипотеза полностью подтвердилась.\n",
    "\n",
    "2. Музыкальные предпочтения не сильно меняются в течение недели — будь то Москва или Петербург. Небольшие различия заметны в начале недели, по понедельникам:\n",
    "* в Москве слушают музыку жанра “world”,\n",
    "* в Петербурге — джаз и классику.\n",
    "\n",
    "Таким образом, вторая гипотеза подтвердилась лишь отчасти. Этот результат мог оказаться иным, если бы не пропуски в данных.\n",
    "\n",
    "3. Во вкусах пользователей Москвы и Петербурга больше общего чем различий. Вопреки ожиданиям, предпочтения жанров в Петербурге напоминают московские.\n",
    "\n",
    "Третья гипотеза не подтвердилась. Если различия в предпочтениях и существуют, на основной массе пользователей они незаметны."
   ]
  },
  {
   "cell_type": "code",
   "execution_count": null,
   "metadata": {},
   "outputs": [],
   "source": []
  }
 ],
 "metadata": {
  "ExecuteTimeLog": [
   {
    "duration": 69,
    "start_time": "2022-04-27T01:51:27.663Z"
   },
   {
    "duration": 488,
    "start_time": "2022-04-27T01:52:36.037Z"
   },
   {
    "duration": 106,
    "start_time": "2022-04-27T01:52:39.476Z"
   },
   {
    "duration": 46,
    "start_time": "2022-04-27T03:37:25.852Z"
   },
   {
    "duration": 194,
    "start_time": "2022-04-27T03:37:40.285Z"
   },
   {
    "duration": 6,
    "start_time": "2022-04-27T03:38:02.109Z"
   },
   {
    "duration": 413,
    "start_time": "2022-04-27T03:43:23.088Z"
   },
   {
    "duration": 157,
    "start_time": "2022-04-27T03:43:27.842Z"
   },
   {
    "duration": 16,
    "start_time": "2022-04-27T03:43:31.675Z"
   },
   {
    "duration": 26,
    "start_time": "2022-04-27T03:55:07.425Z"
   },
   {
    "duration": 3,
    "start_time": "2022-04-27T03:55:19.416Z"
   },
   {
    "duration": 28,
    "start_time": "2022-04-27T03:55:24.645Z"
   },
   {
    "duration": 3,
    "start_time": "2022-04-27T03:56:36.161Z"
   },
   {
    "duration": 4,
    "start_time": "2022-04-27T03:59:53.412Z"
   },
   {
    "duration": 3,
    "start_time": "2022-04-27T04:00:10.229Z"
   },
   {
    "duration": 23,
    "start_time": "2022-04-27T04:01:16.912Z"
   },
   {
    "duration": 195,
    "start_time": "2022-04-27T04:07:50.001Z"
   },
   {
    "duration": 205,
    "start_time": "2022-04-27T04:10:16.658Z"
   },
   {
    "duration": 7,
    "start_time": "2022-04-27T04:11:06.216Z"
   },
   {
    "duration": 3453,
    "start_time": "2022-04-27T04:11:23.817Z"
   },
   {
    "duration": 3189,
    "start_time": "2022-04-27T04:11:51.107Z"
   },
   {
    "duration": 3043,
    "start_time": "2022-04-27T04:12:29.500Z"
   },
   {
    "duration": 19,
    "start_time": "2022-04-27T04:13:18.899Z"
   },
   {
    "duration": 22,
    "start_time": "2022-04-27T04:13:43.981Z"
   },
   {
    "duration": 22,
    "start_time": "2022-04-27T04:14:09.096Z"
   },
   {
    "duration": 23,
    "start_time": "2022-04-27T04:14:13.656Z"
   },
   {
    "duration": 17,
    "start_time": "2022-04-27T04:16:24.133Z"
   },
   {
    "duration": 23,
    "start_time": "2022-04-27T04:16:27.588Z"
   },
   {
    "duration": 58,
    "start_time": "2022-04-27T04:17:24.798Z"
   },
   {
    "duration": 61,
    "start_time": "2022-04-27T04:18:48.417Z"
   },
   {
    "duration": 52,
    "start_time": "2022-04-27T04:19:03.077Z"
   },
   {
    "duration": 2,
    "start_time": "2022-04-27T04:20:06.936Z"
   },
   {
    "duration": 37,
    "start_time": "2022-04-27T04:21:51.488Z"
   },
   {
    "duration": 38,
    "start_time": "2022-04-27T04:25:19.984Z"
   },
   {
    "duration": 38,
    "start_time": "2022-04-27T04:28:18.111Z"
   },
   {
    "duration": 8,
    "start_time": "2022-04-27T04:44:03.953Z"
   },
   {
    "duration": 7,
    "start_time": "2022-04-27T04:44:21.442Z"
   },
   {
    "duration": 8,
    "start_time": "2022-04-27T04:46:55.295Z"
   },
   {
    "duration": 8,
    "start_time": "2022-04-27T04:47:26.645Z"
   },
   {
    "duration": 211,
    "start_time": "2022-04-27T04:47:39.394Z"
   },
   {
    "duration": 183,
    "start_time": "2022-04-27T04:47:58.971Z"
   },
   {
    "duration": 2,
    "start_time": "2022-04-27T04:48:16.473Z"
   },
   {
    "duration": 8,
    "start_time": "2022-04-27T04:48:21.911Z"
   },
   {
    "duration": 3,
    "start_time": "2022-04-27T04:48:43.662Z"
   },
   {
    "duration": 19,
    "start_time": "2022-04-27T04:48:48.287Z"
   },
   {
    "duration": 8,
    "start_time": "2022-04-27T04:49:22.652Z"
   },
   {
    "duration": 2,
    "start_time": "2022-04-27T04:50:31.711Z"
   },
   {
    "duration": 9,
    "start_time": "2022-04-27T04:50:45.072Z"
   },
   {
    "duration": 10,
    "start_time": "2022-04-27T04:51:34.440Z"
   },
   {
    "duration": 9,
    "start_time": "2022-04-27T04:54:16.922Z"
   },
   {
    "duration": 3,
    "start_time": "2022-04-27T04:55:53.876Z"
   },
   {
    "duration": 11,
    "start_time": "2022-04-27T04:55:56.477Z"
   },
   {
    "duration": 2,
    "start_time": "2022-04-27T04:56:13.325Z"
   },
   {
    "duration": 10,
    "start_time": "2022-04-27T04:56:15.267Z"
   },
   {
    "duration": 183,
    "start_time": "2022-04-27T04:57:52.236Z"
   },
   {
    "duration": 2,
    "start_time": "2022-04-27T04:57:57.743Z"
   },
   {
    "duration": 13,
    "start_time": "2022-04-27T04:58:39.241Z"
   },
   {
    "duration": 3,
    "start_time": "2022-04-27T05:00:11.625Z"
   },
   {
    "duration": 11,
    "start_time": "2022-04-27T05:00:14.215Z"
   },
   {
    "duration": 413,
    "start_time": "2022-04-27T05:03:52.300Z"
   },
   {
    "duration": 149,
    "start_time": "2022-04-27T05:03:52.715Z"
   },
   {
    "duration": 17,
    "start_time": "2022-04-27T05:03:52.866Z"
   },
   {
    "duration": 37,
    "start_time": "2022-04-27T05:03:52.885Z"
   },
   {
    "duration": 3,
    "start_time": "2022-04-27T05:03:52.923Z"
   },
   {
    "duration": 5,
    "start_time": "2022-04-27T05:03:52.928Z"
   },
   {
    "duration": 5,
    "start_time": "2022-04-27T05:03:52.935Z"
   },
   {
    "duration": 23,
    "start_time": "2022-04-27T05:03:52.942Z"
   },
   {
    "duration": 48,
    "start_time": "2022-04-27T05:03:52.967Z"
   },
   {
    "duration": 21,
    "start_time": "2022-04-27T05:03:53.018Z"
   },
   {
    "duration": 77,
    "start_time": "2022-04-27T05:03:53.041Z"
   },
   {
    "duration": 81,
    "start_time": "2022-04-27T05:03:53.119Z"
   },
   {
    "duration": 60,
    "start_time": "2022-04-27T05:03:53.202Z"
   },
   {
    "duration": 54,
    "start_time": "2022-04-27T05:03:53.264Z"
   },
   {
    "duration": 4,
    "start_time": "2022-04-27T05:03:53.320Z"
   },
   {
    "duration": 49,
    "start_time": "2022-04-27T05:03:53.326Z"
   },
   {
    "duration": 46,
    "start_time": "2022-04-27T05:03:53.376Z"
   },
   {
    "duration": 2,
    "start_time": "2022-04-27T05:03:53.424Z"
   },
   {
    "duration": 12,
    "start_time": "2022-04-27T05:03:53.428Z"
   },
   {
    "duration": 6,
    "start_time": "2022-04-27T05:03:53.442Z"
   },
   {
    "duration": 8,
    "start_time": "2022-04-27T05:03:53.449Z"
   },
   {
    "duration": 7,
    "start_time": "2022-04-27T05:03:53.459Z"
   },
   {
    "duration": 6,
    "start_time": "2022-04-27T05:03:53.467Z"
   },
   {
    "duration": 4,
    "start_time": "2022-04-27T05:03:53.475Z"
   },
   {
    "duration": 5,
    "start_time": "2022-04-27T05:03:53.480Z"
   },
   {
    "duration": 18,
    "start_time": "2022-04-27T05:03:53.487Z"
   },
   {
    "duration": 7,
    "start_time": "2022-04-27T05:03:53.506Z"
   },
   {
    "duration": 9,
    "start_time": "2022-04-27T05:03:53.516Z"
   },
   {
    "duration": 8,
    "start_time": "2022-04-27T05:03:53.527Z"
   },
   {
    "duration": 6,
    "start_time": "2022-04-27T05:03:53.536Z"
   },
   {
    "duration": 7,
    "start_time": "2022-04-27T05:03:53.544Z"
   },
   {
    "duration": 4,
    "start_time": "2022-04-27T05:03:53.553Z"
   },
   {
    "duration": 11,
    "start_time": "2022-04-27T05:03:53.559Z"
   },
   {
    "duration": 8,
    "start_time": "2022-04-27T05:03:53.571Z"
   },
   {
    "duration": 8,
    "start_time": "2022-04-27T05:03:53.580Z"
   },
   {
    "duration": 5,
    "start_time": "2022-04-27T05:03:53.590Z"
   },
   {
    "duration": 10,
    "start_time": "2022-04-27T05:03:53.597Z"
   },
   {
    "duration": 5,
    "start_time": "2022-04-27T05:03:53.609Z"
   },
   {
    "duration": 3,
    "start_time": "2022-04-27T05:04:56.328Z"
   },
   {
    "duration": 77,
    "start_time": "2022-04-27T05:04:59.908Z"
   },
   {
    "duration": 31,
    "start_time": "2022-04-27T05:06:22.453Z"
   },
   {
    "duration": 3,
    "start_time": "2022-04-27T05:09:19.804Z"
   },
   {
    "duration": 33,
    "start_time": "2022-04-27T05:09:22.025Z"
   },
   {
    "duration": 65,
    "start_time": "2022-04-27T05:09:29.236Z"
   },
   {
    "duration": 10,
    "start_time": "2022-04-27T05:27:06.416Z"
   },
   {
    "duration": 14,
    "start_time": "2022-04-27T05:28:50.779Z"
   },
   {
    "duration": 3,
    "start_time": "2022-04-27T05:35:59.928Z"
   },
   {
    "duration": 7,
    "start_time": "2022-04-27T05:37:02.693Z"
   },
   {
    "duration": 7,
    "start_time": "2022-04-27T05:37:16.464Z"
   },
   {
    "duration": 7,
    "start_time": "2022-04-27T05:37:41.493Z"
   },
   {
    "duration": 0,
    "start_time": "2022-04-27T05:41:26.618Z"
   },
   {
    "duration": 5,
    "start_time": "2022-04-27T05:41:47.649Z"
   },
   {
    "duration": 24,
    "start_time": "2022-04-27T05:41:53.729Z"
   },
   {
    "duration": 4,
    "start_time": "2022-04-27T05:43:17.026Z"
   },
   {
    "duration": 7,
    "start_time": "2022-04-27T05:43:31.199Z"
   },
   {
    "duration": 33,
    "start_time": "2022-04-27T05:44:48.016Z"
   },
   {
    "duration": 3,
    "start_time": "2022-04-27T05:58:03.774Z"
   },
   {
    "duration": 35,
    "start_time": "2022-04-27T05:58:08.998Z"
   },
   {
    "duration": 3,
    "start_time": "2022-04-27T05:59:53.434Z"
   },
   {
    "duration": 20,
    "start_time": "2022-04-27T05:59:57.777Z"
   },
   {
    "duration": 7,
    "start_time": "2022-04-27T06:00:17.917Z"
   },
   {
    "duration": 24,
    "start_time": "2022-04-27T06:00:21.417Z"
   },
   {
    "duration": 3,
    "start_time": "2022-04-27T06:00:21.588Z"
   },
   {
    "duration": 15,
    "start_time": "2022-04-27T06:07:03.346Z"
   },
   {
    "duration": 17,
    "start_time": "2022-04-27T06:07:36.828Z"
   },
   {
    "duration": 236,
    "start_time": "2022-04-27T06:08:09.292Z"
   },
   {
    "duration": 17,
    "start_time": "2022-04-27T06:08:20.984Z"
   },
   {
    "duration": 19,
    "start_time": "2022-04-27T06:08:46.353Z"
   },
   {
    "duration": 17,
    "start_time": "2022-04-27T06:09:13.857Z"
   },
   {
    "duration": 15,
    "start_time": "2022-04-27T06:09:35.971Z"
   },
   {
    "duration": 12,
    "start_time": "2022-04-27T07:05:15.903Z"
   },
   {
    "duration": 7,
    "start_time": "2022-04-27T07:05:32.961Z"
   },
   {
    "duration": 15,
    "start_time": "2022-04-27T07:06:07.373Z"
   },
   {
    "duration": 11,
    "start_time": "2022-04-27T07:09:16.210Z"
   },
   {
    "duration": 4,
    "start_time": "2022-04-27T09:12:21.167Z"
   },
   {
    "duration": 7,
    "start_time": "2022-04-27T09:13:13.155Z"
   },
   {
    "duration": 16,
    "start_time": "2022-04-27T09:13:40.394Z"
   },
   {
    "duration": 12,
    "start_time": "2022-04-27T09:13:53.261Z"
   },
   {
    "duration": 6,
    "start_time": "2022-04-27T09:14:19.374Z"
   },
   {
    "duration": 7,
    "start_time": "2022-04-27T09:38:21.430Z"
   },
   {
    "duration": 21,
    "start_time": "2022-04-27T09:40:58.657Z"
   },
   {
    "duration": 21,
    "start_time": "2022-04-27T09:41:01.861Z"
   },
   {
    "duration": 2,
    "start_time": "2022-04-27T09:41:03.335Z"
   },
   {
    "duration": 6,
    "start_time": "2022-04-27T09:41:40.252Z"
   },
   {
    "duration": 21,
    "start_time": "2022-04-27T09:41:50.072Z"
   },
   {
    "duration": 21,
    "start_time": "2022-04-27T09:41:54.446Z"
   },
   {
    "duration": 45,
    "start_time": "2022-04-28T01:36:32.744Z"
   },
   {
    "duration": 6,
    "start_time": "2022-04-28T01:37:03.901Z"
   },
   {
    "duration": 400,
    "start_time": "2022-04-28T01:37:14.406Z"
   },
   {
    "duration": 156,
    "start_time": "2022-04-28T01:37:14.808Z"
   },
   {
    "duration": 17,
    "start_time": "2022-04-28T01:37:14.965Z"
   },
   {
    "duration": 35,
    "start_time": "2022-04-28T01:37:14.984Z"
   },
   {
    "duration": 5,
    "start_time": "2022-04-28T01:37:15.021Z"
   },
   {
    "duration": 4,
    "start_time": "2022-04-28T01:37:15.028Z"
   },
   {
    "duration": 8,
    "start_time": "2022-04-28T01:37:15.033Z"
   },
   {
    "duration": 50,
    "start_time": "2022-04-28T01:37:15.043Z"
   },
   {
    "duration": 20,
    "start_time": "2022-04-28T01:37:15.094Z"
   },
   {
    "duration": 25,
    "start_time": "2022-04-28T01:37:15.117Z"
   },
   {
    "duration": 85,
    "start_time": "2022-04-28T01:37:15.144Z"
   },
   {
    "duration": 85,
    "start_time": "2022-04-28T01:37:15.231Z"
   },
   {
    "duration": 62,
    "start_time": "2022-04-28T01:37:15.318Z"
   },
   {
    "duration": 43,
    "start_time": "2022-04-28T01:37:15.392Z"
   },
   {
    "duration": 3,
    "start_time": "2022-04-28T01:37:15.437Z"
   },
   {
    "duration": 81,
    "start_time": "2022-04-28T01:37:15.442Z"
   },
   {
    "duration": 0,
    "start_time": "2022-04-28T01:37:15.525Z"
   },
   {
    "duration": 1,
    "start_time": "2022-04-28T01:37:15.526Z"
   },
   {
    "duration": 0,
    "start_time": "2022-04-28T01:37:15.528Z"
   },
   {
    "duration": 0,
    "start_time": "2022-04-28T01:37:15.529Z"
   },
   {
    "duration": 0,
    "start_time": "2022-04-28T01:37:15.530Z"
   },
   {
    "duration": 0,
    "start_time": "2022-04-28T01:37:15.531Z"
   },
   {
    "duration": 0,
    "start_time": "2022-04-28T01:37:15.532Z"
   },
   {
    "duration": 0,
    "start_time": "2022-04-28T01:37:15.533Z"
   },
   {
    "duration": 0,
    "start_time": "2022-04-28T01:37:15.534Z"
   },
   {
    "duration": 0,
    "start_time": "2022-04-28T01:37:15.535Z"
   },
   {
    "duration": 0,
    "start_time": "2022-04-28T01:37:15.537Z"
   },
   {
    "duration": 0,
    "start_time": "2022-04-28T01:37:15.538Z"
   },
   {
    "duration": 0,
    "start_time": "2022-04-28T01:37:15.539Z"
   },
   {
    "duration": 0,
    "start_time": "2022-04-28T01:37:15.540Z"
   },
   {
    "duration": 0,
    "start_time": "2022-04-28T01:37:15.542Z"
   },
   {
    "duration": 0,
    "start_time": "2022-04-28T01:37:15.543Z"
   },
   {
    "duration": 0,
    "start_time": "2022-04-28T01:37:15.544Z"
   },
   {
    "duration": 0,
    "start_time": "2022-04-28T01:37:15.545Z"
   },
   {
    "duration": 0,
    "start_time": "2022-04-28T01:37:15.546Z"
   },
   {
    "duration": 0,
    "start_time": "2022-04-28T01:37:15.547Z"
   },
   {
    "duration": 0,
    "start_time": "2022-04-28T01:37:15.548Z"
   },
   {
    "duration": 0,
    "start_time": "2022-04-28T01:37:15.549Z"
   },
   {
    "duration": 9,
    "start_time": "2022-04-28T01:37:39.657Z"
   },
   {
    "duration": 7,
    "start_time": "2022-04-28T01:37:45.638Z"
   },
   {
    "duration": 151,
    "start_time": "2022-04-28T01:37:55.206Z"
   },
   {
    "duration": 11,
    "start_time": "2022-04-28T01:37:58.132Z"
   },
   {
    "duration": 29,
    "start_time": "2022-04-28T01:37:58.903Z"
   },
   {
    "duration": 4,
    "start_time": "2022-04-28T01:37:59.881Z"
   },
   {
    "duration": 3,
    "start_time": "2022-04-28T01:38:00.461Z"
   },
   {
    "duration": 3,
    "start_time": "2022-04-28T01:38:00.844Z"
   },
   {
    "duration": 26,
    "start_time": "2022-04-28T01:38:01.246Z"
   },
   {
    "duration": 18,
    "start_time": "2022-04-28T01:38:01.781Z"
   },
   {
    "duration": 25,
    "start_time": "2022-04-28T01:38:02.166Z"
   },
   {
    "duration": 62,
    "start_time": "2022-04-28T01:38:02.601Z"
   },
   {
    "duration": 66,
    "start_time": "2022-04-28T01:38:02.963Z"
   },
   {
    "duration": 54,
    "start_time": "2022-04-28T01:38:03.329Z"
   },
   {
    "duration": 38,
    "start_time": "2022-04-28T01:38:03.953Z"
   },
   {
    "duration": 3,
    "start_time": "2022-04-28T01:38:04.840Z"
   },
   {
    "duration": 8,
    "start_time": "2022-04-28T01:38:05.782Z"
   },
   {
    "duration": 38,
    "start_time": "2022-04-28T01:38:07.182Z"
   },
   {
    "duration": 11,
    "start_time": "2022-04-28T01:38:10.040Z"
   },
   {
    "duration": 12,
    "start_time": "2022-04-28T01:38:11.389Z"
   },
   {
    "duration": 4,
    "start_time": "2022-04-28T01:38:13.393Z"
   },
   {
    "duration": 18,
    "start_time": "2022-04-28T01:38:14.796Z"
   },
   {
    "duration": 16,
    "start_time": "2022-04-28T01:38:15.688Z"
   },
   {
    "duration": 16,
    "start_time": "2022-04-28T01:38:16.200Z"
   },
   {
    "duration": 15,
    "start_time": "2022-04-28T01:38:16.458Z"
   },
   {
    "duration": 17,
    "start_time": "2022-04-28T01:38:16.672Z"
   },
   {
    "duration": 15,
    "start_time": "2022-04-28T01:38:16.876Z"
   },
   {
    "duration": 9,
    "start_time": "2022-04-28T01:38:18.025Z"
   },
   {
    "duration": 11,
    "start_time": "2022-04-28T01:38:22.298Z"
   },
   {
    "duration": 10,
    "start_time": "2022-04-28T01:38:23.166Z"
   },
   {
    "duration": 4,
    "start_time": "2022-04-28T01:38:25.555Z"
   },
   {
    "duration": 23,
    "start_time": "2022-04-28T01:38:27.345Z"
   },
   {
    "duration": 24,
    "start_time": "2022-04-28T01:38:28.686Z"
   },
   {
    "duration": 13,
    "start_time": "2022-04-28T01:42:14.566Z"
   },
   {
    "duration": 136,
    "start_time": "2022-04-28T01:42:16.385Z"
   },
   {
    "duration": 10,
    "start_time": "2022-04-28T01:42:25.836Z"
   },
   {
    "duration": 5,
    "start_time": "2022-04-28T01:42:29.265Z"
   },
   {
    "duration": 24,
    "start_time": "2022-04-28T01:42:31.145Z"
   },
   {
    "duration": 22,
    "start_time": "2022-04-28T01:42:33.545Z"
   },
   {
    "duration": 22,
    "start_time": "2022-04-28T01:42:52.491Z"
   },
   {
    "duration": 2,
    "start_time": "2022-04-28T01:42:53.114Z"
   },
   {
    "duration": 4,
    "start_time": "2022-04-28T01:44:31.955Z"
   },
   {
    "duration": 19,
    "start_time": "2022-04-28T01:44:34.046Z"
   },
   {
    "duration": 13,
    "start_time": "2022-04-28T01:44:35.185Z"
   },
   {
    "duration": 17,
    "start_time": "2022-04-28T01:45:47.010Z"
   },
   {
    "duration": 12,
    "start_time": "2022-04-28T01:45:50.856Z"
   },
   {
    "duration": 8,
    "start_time": "2022-04-28T01:46:54.475Z"
   },
   {
    "duration": 23,
    "start_time": "2022-04-28T01:47:28.529Z"
   },
   {
    "duration": 38,
    "start_time": "2022-04-28T01:47:42.440Z"
   },
   {
    "duration": 21,
    "start_time": "2022-04-28T01:50:52.855Z"
   },
   {
    "duration": 38,
    "start_time": "2022-04-28T01:52:16.893Z"
   },
   {
    "duration": 12,
    "start_time": "2022-04-28T01:52:40.915Z"
   },
   {
    "duration": 10,
    "start_time": "2022-04-28T01:52:45.953Z"
   },
   {
    "duration": 4,
    "start_time": "2022-04-28T01:52:50.801Z"
   },
   {
    "duration": 16,
    "start_time": "2022-04-28T01:52:55.146Z"
   },
   {
    "duration": 15,
    "start_time": "2022-04-28T01:52:56.553Z"
   },
   {
    "duration": 15,
    "start_time": "2022-04-28T01:52:57.506Z"
   },
   {
    "duration": 14,
    "start_time": "2022-04-28T01:52:58.302Z"
   },
   {
    "duration": 16,
    "start_time": "2022-04-28T01:52:58.972Z"
   },
   {
    "duration": 15,
    "start_time": "2022-04-28T01:52:59.491Z"
   },
   {
    "duration": 8,
    "start_time": "2022-04-28T01:53:02.753Z"
   },
   {
    "duration": 12,
    "start_time": "2022-04-28T01:53:09.665Z"
   },
   {
    "duration": 10,
    "start_time": "2022-04-28T01:53:10.555Z"
   },
   {
    "duration": 4,
    "start_time": "2022-04-28T01:53:15.410Z"
   },
   {
    "duration": 19,
    "start_time": "2022-04-28T01:53:16.877Z"
   },
   {
    "duration": 13,
    "start_time": "2022-04-28T01:53:23.550Z"
   },
   {
    "duration": 17,
    "start_time": "2022-04-28T01:53:31.170Z"
   },
   {
    "duration": 11,
    "start_time": "2022-04-28T01:53:32.665Z"
   },
   {
    "duration": 20,
    "start_time": "2022-04-28T01:55:01.468Z"
   },
   {
    "duration": 13,
    "start_time": "2022-04-28T01:55:02.660Z"
   },
   {
    "duration": 16,
    "start_time": "2022-04-28T01:55:05.258Z"
   },
   {
    "duration": 12,
    "start_time": "2022-04-28T01:55:07.738Z"
   },
   {
    "duration": 18,
    "start_time": "2022-04-28T01:55:31.428Z"
   },
   {
    "duration": 12,
    "start_time": "2022-04-28T01:55:40.562Z"
   },
   {
    "duration": 18,
    "start_time": "2022-04-28T01:55:51.634Z"
   },
   {
    "duration": 12,
    "start_time": "2022-04-28T01:55:52.474Z"
   },
   {
    "duration": 9,
    "start_time": "2022-04-28T02:03:59.126Z"
   },
   {
    "duration": 13,
    "start_time": "2022-04-28T02:04:50.100Z"
   },
   {
    "duration": 11,
    "start_time": "2022-04-28T02:05:00.197Z"
   },
   {
    "duration": 8,
    "start_time": "2022-04-28T02:06:10.118Z"
   },
   {
    "duration": 5,
    "start_time": "2022-04-28T02:06:13.017Z"
   },
   {
    "duration": 6,
    "start_time": "2022-04-28T02:06:51.668Z"
   },
   {
    "duration": 5,
    "start_time": "2022-04-28T02:07:08.315Z"
   },
   {
    "duration": 374,
    "start_time": "2022-04-28T22:18:34.024Z"
   },
   {
    "duration": 196,
    "start_time": "2022-04-28T22:18:34.400Z"
   },
   {
    "duration": 23,
    "start_time": "2022-04-28T22:18:34.599Z"
   },
   {
    "duration": 31,
    "start_time": "2022-04-28T22:18:34.624Z"
   },
   {
    "duration": 4,
    "start_time": "2022-04-28T22:18:34.657Z"
   },
   {
    "duration": 5,
    "start_time": "2022-04-28T22:18:34.663Z"
   },
   {
    "duration": 4,
    "start_time": "2022-04-28T22:18:34.669Z"
   },
   {
    "duration": 25,
    "start_time": "2022-04-28T22:18:34.694Z"
   },
   {
    "duration": 19,
    "start_time": "2022-04-28T22:18:34.721Z"
   },
   {
    "duration": 24,
    "start_time": "2022-04-28T22:18:34.741Z"
   },
   {
    "duration": 89,
    "start_time": "2022-04-28T22:18:34.767Z"
   },
   {
    "duration": 91,
    "start_time": "2022-04-28T22:18:34.857Z"
   },
   {
    "duration": 66,
    "start_time": "2022-04-28T22:18:34.950Z"
   },
   {
    "duration": 40,
    "start_time": "2022-04-28T22:18:35.021Z"
   },
   {
    "duration": 3,
    "start_time": "2022-04-28T22:18:35.062Z"
   },
   {
    "duration": 42,
    "start_time": "2022-04-28T22:18:35.067Z"
   },
   {
    "duration": 40,
    "start_time": "2022-04-28T22:18:35.111Z"
   },
   {
    "duration": 21,
    "start_time": "2022-04-28T22:18:35.153Z"
   },
   {
    "duration": 40,
    "start_time": "2022-04-28T22:18:35.192Z"
   },
   {
    "duration": 12,
    "start_time": "2022-04-28T22:18:35.234Z"
   },
   {
    "duration": 10,
    "start_time": "2022-04-28T22:18:35.247Z"
   },
   {
    "duration": 4,
    "start_time": "2022-04-28T22:18:35.258Z"
   },
   {
    "duration": 40,
    "start_time": "2022-04-28T22:18:35.263Z"
   },
   {
    "duration": 14,
    "start_time": "2022-04-28T22:18:35.304Z"
   },
   {
    "duration": 14,
    "start_time": "2022-04-28T22:18:35.320Z"
   },
   {
    "duration": 13,
    "start_time": "2022-04-28T22:18:35.336Z"
   },
   {
    "duration": 50,
    "start_time": "2022-04-28T22:18:35.350Z"
   },
   {
    "duration": 14,
    "start_time": "2022-04-28T22:18:35.402Z"
   },
   {
    "duration": 8,
    "start_time": "2022-04-28T22:18:35.418Z"
   },
   {
    "duration": 12,
    "start_time": "2022-04-28T22:18:35.428Z"
   },
   {
    "duration": 10,
    "start_time": "2022-04-28T22:18:35.441Z"
   },
   {
    "duration": 4,
    "start_time": "2022-04-28T22:18:35.453Z"
   },
   {
    "duration": 48,
    "start_time": "2022-04-28T22:18:35.458Z"
   },
   {
    "duration": 11,
    "start_time": "2022-04-28T22:18:35.508Z"
   },
   {
    "duration": 16,
    "start_time": "2022-04-28T22:18:35.520Z"
   },
   {
    "duration": 10,
    "start_time": "2022-04-28T22:18:35.537Z"
   },
   {
    "duration": 8,
    "start_time": "2022-04-28T22:18:35.549Z"
   },
   {
    "duration": 34,
    "start_time": "2022-04-28T22:18:35.559Z"
   },
   {
    "duration": 6,
    "start_time": "2022-04-28T22:18:35.595Z"
   },
   {
    "duration": 8,
    "start_time": "2022-04-28T22:18:35.603Z"
   },
   {
    "duration": 126,
    "start_time": "2022-04-30T06:33:44.372Z"
   },
   {
    "duration": 108,
    "start_time": "2022-04-30T06:34:29.661Z"
   },
   {
    "duration": 99,
    "start_time": "2022-04-30T06:35:28.549Z"
   },
   {
    "duration": 110,
    "start_time": "2022-04-30T06:35:31.823Z"
   },
   {
    "duration": 106,
    "start_time": "2022-04-30T06:36:12.530Z"
   },
   {
    "duration": 181,
    "start_time": "2022-04-30T06:36:17.480Z"
   },
   {
    "duration": 104,
    "start_time": "2022-04-30T06:36:44.056Z"
   },
   {
    "duration": 121,
    "start_time": "2022-04-30T06:37:02.722Z"
   },
   {
    "duration": 40,
    "start_time": "2022-04-30T06:39:54.374Z"
   },
   {
    "duration": 445,
    "start_time": "2022-04-30T06:40:11.568Z"
   },
   {
    "duration": 152,
    "start_time": "2022-04-30T06:40:12.015Z"
   },
   {
    "duration": 17,
    "start_time": "2022-04-30T06:40:12.169Z"
   },
   {
    "duration": 30,
    "start_time": "2022-04-30T06:40:12.189Z"
   },
   {
    "duration": 28,
    "start_time": "2022-04-30T06:40:12.221Z"
   },
   {
    "duration": 4,
    "start_time": "2022-04-30T06:40:12.251Z"
   },
   {
    "duration": 6,
    "start_time": "2022-04-30T06:40:12.257Z"
   },
   {
    "duration": 27,
    "start_time": "2022-04-30T06:40:12.264Z"
   },
   {
    "duration": 19,
    "start_time": "2022-04-30T06:40:12.293Z"
   },
   {
    "duration": 46,
    "start_time": "2022-04-30T06:40:12.315Z"
   },
   {
    "duration": 61,
    "start_time": "2022-04-30T06:40:12.363Z"
   },
   {
    "duration": 85,
    "start_time": "2022-04-30T06:40:12.426Z"
   },
   {
    "duration": 74,
    "start_time": "2022-04-30T06:40:12.512Z"
   },
   {
    "duration": 37,
    "start_time": "2022-04-30T06:40:12.589Z"
   },
   {
    "duration": 20,
    "start_time": "2022-04-30T06:40:12.628Z"
   },
   {
    "duration": 28,
    "start_time": "2022-04-30T06:40:12.650Z"
   },
   {
    "duration": 38,
    "start_time": "2022-04-30T06:40:12.680Z"
   },
   {
    "duration": 41,
    "start_time": "2022-04-30T06:40:12.720Z"
   },
   {
    "duration": 38,
    "start_time": "2022-04-30T06:40:12.763Z"
   },
   {
    "duration": 11,
    "start_time": "2022-04-30T06:40:12.803Z"
   },
   {
    "duration": 11,
    "start_time": "2022-04-30T06:40:12.816Z"
   },
   {
    "duration": 5,
    "start_time": "2022-04-30T06:40:12.849Z"
   },
   {
    "duration": 26,
    "start_time": "2022-04-30T06:40:12.855Z"
   },
   {
    "duration": 15,
    "start_time": "2022-04-30T06:40:12.883Z"
   },
   {
    "duration": 21,
    "start_time": "2022-04-30T06:40:12.900Z"
   },
   {
    "duration": 31,
    "start_time": "2022-04-30T06:40:12.923Z"
   },
   {
    "duration": 16,
    "start_time": "2022-04-30T06:40:12.955Z"
   },
   {
    "duration": 14,
    "start_time": "2022-04-30T06:40:12.974Z"
   },
   {
    "duration": 7,
    "start_time": "2022-04-30T06:40:12.990Z"
   },
   {
    "duration": 16,
    "start_time": "2022-04-30T06:40:12.999Z"
   },
   {
    "duration": 34,
    "start_time": "2022-04-30T06:40:13.017Z"
   },
   {
    "duration": 4,
    "start_time": "2022-04-30T06:40:13.053Z"
   },
   {
    "duration": 26,
    "start_time": "2022-04-30T06:40:13.059Z"
   },
   {
    "duration": 11,
    "start_time": "2022-04-30T06:40:13.086Z"
   },
   {
    "duration": 15,
    "start_time": "2022-04-30T06:40:13.099Z"
   },
   {
    "duration": 32,
    "start_time": "2022-04-30T06:40:13.116Z"
   },
   {
    "duration": 9,
    "start_time": "2022-04-30T06:40:13.149Z"
   },
   {
    "duration": 7,
    "start_time": "2022-04-30T06:40:13.159Z"
   },
   {
    "duration": 11,
    "start_time": "2022-04-30T06:40:13.168Z"
   },
   {
    "duration": 9,
    "start_time": "2022-04-30T06:40:13.180Z"
   },
   {
    "duration": 27,
    "start_time": "2022-04-30T06:41:08.618Z"
   },
   {
    "duration": 4,
    "start_time": "2022-04-30T06:48:16.873Z"
   },
   {
    "duration": 3,
    "start_time": "2022-04-30T06:48:37.487Z"
   },
   {
    "duration": 3,
    "start_time": "2022-04-30T06:52:12.671Z"
   },
   {
    "duration": 9,
    "start_time": "2022-04-30T06:52:16.022Z"
   },
   {
    "duration": 36,
    "start_time": "2022-04-30T06:52:38.490Z"
   },
   {
    "duration": 4,
    "start_time": "2022-04-30T06:55:21.469Z"
   },
   {
    "duration": 15,
    "start_time": "2022-04-30T06:55:31.753Z"
   },
   {
    "duration": 14,
    "start_time": "2022-04-30T06:55:36.219Z"
   },
   {
    "duration": 15,
    "start_time": "2022-04-30T06:55:38.380Z"
   },
   {
    "duration": 15,
    "start_time": "2022-04-30T06:55:40.735Z"
   },
   {
    "duration": 16,
    "start_time": "2022-04-30T06:55:43.461Z"
   },
   {
    "duration": 14,
    "start_time": "2022-04-30T06:55:44.425Z"
   },
   {
    "duration": 8,
    "start_time": "2022-04-30T06:55:53.922Z"
   },
   {
    "duration": 108,
    "start_time": "2022-04-30T06:58:40.331Z"
   },
   {
    "duration": 118,
    "start_time": "2022-04-30T06:58:40.933Z"
   },
   {
    "duration": 12,
    "start_time": "2022-04-30T06:58:52.482Z"
   },
   {
    "duration": 10,
    "start_time": "2022-04-30T06:58:54.615Z"
   },
   {
    "duration": 14,
    "start_time": "2022-04-30T10:42:30.074Z"
   },
   {
    "duration": 4,
    "start_time": "2022-04-30T10:44:16.435Z"
   },
   {
    "duration": 4,
    "start_time": "2022-04-30T10:44:29.885Z"
   },
   {
    "duration": 4,
    "start_time": "2022-04-30T10:44:36.258Z"
   },
   {
    "duration": 4,
    "start_time": "2022-04-30T10:46:18.692Z"
   },
   {
    "duration": 45,
    "start_time": "2022-05-01T02:55:53.754Z"
   },
   {
    "duration": 3,
    "start_time": "2022-05-01T02:56:00.230Z"
   },
   {
    "duration": 3,
    "start_time": "2022-05-01T02:56:03.810Z"
   },
   {
    "duration": 7,
    "start_time": "2022-05-01T02:56:05.920Z"
   },
   {
    "duration": 8,
    "start_time": "2022-05-01T02:56:26.440Z"
   },
   {
    "duration": 8,
    "start_time": "2022-05-01T02:56:35.448Z"
   },
   {
    "duration": 438,
    "start_time": "2022-05-01T02:56:42.218Z"
   },
   {
    "duration": 148,
    "start_time": "2022-05-01T02:56:42.659Z"
   },
   {
    "duration": 17,
    "start_time": "2022-05-01T02:56:42.808Z"
   },
   {
    "duration": 41,
    "start_time": "2022-05-01T02:56:42.828Z"
   },
   {
    "duration": 9,
    "start_time": "2022-05-01T02:56:42.871Z"
   },
   {
    "duration": 10,
    "start_time": "2022-05-01T02:56:42.882Z"
   },
   {
    "duration": 8,
    "start_time": "2022-05-01T02:56:42.894Z"
   },
   {
    "duration": 28,
    "start_time": "2022-05-01T02:56:42.904Z"
   },
   {
    "duration": 34,
    "start_time": "2022-05-01T02:56:42.934Z"
   },
   {
    "duration": 23,
    "start_time": "2022-05-01T02:56:42.971Z"
   },
   {
    "duration": 76,
    "start_time": "2022-05-01T02:56:42.996Z"
   },
   {
    "duration": 86,
    "start_time": "2022-05-01T02:56:43.074Z"
   },
   {
    "duration": 59,
    "start_time": "2022-05-01T02:56:43.161Z"
   },
   {
    "duration": 51,
    "start_time": "2022-05-01T02:56:43.222Z"
   },
   {
    "duration": 3,
    "start_time": "2022-05-01T02:56:43.275Z"
   },
   {
    "duration": 7,
    "start_time": "2022-05-01T02:56:43.280Z"
   },
   {
    "duration": 10,
    "start_time": "2022-05-01T02:56:43.289Z"
   },
   {
    "duration": 60,
    "start_time": "2022-05-01T02:56:43.301Z"
   },
   {
    "duration": 18,
    "start_time": "2022-05-01T02:56:43.364Z"
   },
   {
    "duration": 47,
    "start_time": "2022-05-01T02:56:43.384Z"
   },
   {
    "duration": 23,
    "start_time": "2022-05-01T02:56:43.432Z"
   },
   {
    "duration": 11,
    "start_time": "2022-05-01T02:56:43.456Z"
   },
   {
    "duration": 4,
    "start_time": "2022-05-01T02:56:43.469Z"
   },
   {
    "duration": 19,
    "start_time": "2022-05-01T02:56:43.475Z"
   },
   {
    "duration": 13,
    "start_time": "2022-05-01T02:56:43.496Z"
   },
   {
    "duration": 14,
    "start_time": "2022-05-01T02:56:43.511Z"
   },
   {
    "duration": 14,
    "start_time": "2022-05-01T02:56:43.555Z"
   },
   {
    "duration": 16,
    "start_time": "2022-05-01T02:56:43.572Z"
   },
   {
    "duration": 14,
    "start_time": "2022-05-01T02:56:43.589Z"
   },
   {
    "duration": 8,
    "start_time": "2022-05-01T02:56:43.604Z"
   },
   {
    "duration": 46,
    "start_time": "2022-05-01T02:56:43.613Z"
   },
   {
    "duration": 10,
    "start_time": "2022-05-01T02:56:43.661Z"
   },
   {
    "duration": 5,
    "start_time": "2022-05-01T02:56:43.672Z"
   },
   {
    "duration": 23,
    "start_time": "2022-05-01T02:56:43.678Z"
   },
   {
    "duration": 12,
    "start_time": "2022-05-01T02:56:43.703Z"
   },
   {
    "duration": 41,
    "start_time": "2022-05-01T02:56:43.716Z"
   },
   {
    "duration": 12,
    "start_time": "2022-05-01T02:56:43.759Z"
   },
   {
    "duration": 8,
    "start_time": "2022-05-01T02:56:43.773Z"
   },
   {
    "duration": 4,
    "start_time": "2022-05-01T02:56:43.783Z"
   },
   {
    "duration": 7,
    "start_time": "2022-05-01T02:56:43.789Z"
   },
   {
    "duration": 4,
    "start_time": "2022-05-01T02:56:43.797Z"
   }
  ],
  "colab": {
   "collapsed_sections": [
    "E0vqbgi9ay0H",
    "VUC88oWjTJw2"
   ],
   "name": "yandex_music_project.ipynb",
   "provenance": []
  },
  "kernelspec": {
   "display_name": "Python 3 (ipykernel)",
   "language": "python",
   "name": "python3"
  },
  "language_info": {
   "codemirror_mode": {
    "name": "ipython",
    "version": 3
   },
   "file_extension": ".py",
   "mimetype": "text/x-python",
   "name": "python",
   "nbconvert_exporter": "python",
   "pygments_lexer": "ipython3",
   "version": "3.9.7"
  },
  "toc": {
   "base_numbering": 1,
   "nav_menu": {},
   "number_sections": true,
   "sideBar": true,
   "skip_h1_title": true,
   "title_cell": "Table of Contents",
   "title_sidebar": "Contents",
   "toc_cell": false,
   "toc_position": {},
   "toc_section_display": true,
   "toc_window_display": true
  }
 },
 "nbformat": 4,
 "nbformat_minor": 1
}
