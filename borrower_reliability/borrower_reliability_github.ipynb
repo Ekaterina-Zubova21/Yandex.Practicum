{
 "cells": [
  {
   "cell_type": "markdown",
   "id": "e20623f3",
   "metadata": {},
   "source": [
    "# Исследование надежности заемщиков"
   ]
  },
  {
   "cell_type": "markdown",
   "id": "678868c5",
   "metadata": {},
   "source": [
    "## Описание проекта\n",
    "Заказчик — кредитный отдел банка. Нужно разобраться, влияет ли семейное положение и количество детей клиента на факт погашения кредита в срок. \n",
    "\n",
    "Входные данные от банка — статистика о платёжеспособности клиентов.\n",
    "\n",
    "\n",
    "Результаты исследования будут учтены при построении модели кредитного скоринга — специальной системы, которая оценивает способность потенциального заёмщика вернуть кредит банку."
   ]
  },
  {
   "cell_type": "markdown",
   "id": "c7ca43d3",
   "metadata": {},
   "source": [
    "Описание данных:\n",
    "*\tchildren — количество детей в семье\n",
    "*\tdays_employed — общий трудовой стаж в днях\n",
    "*\tdob_years — возраст клиента в годах\n",
    "*\teducation — уровень образования клиента\n",
    "*\teducation_id — идентификатор уровня образования\n",
    "*\tfamily_status — семейное положение\n",
    "*\tfamily_status_id — идентификатор семейного положения\n",
    "*\tgender — пол клиента\n",
    "*\tincome_type — тип занятости\n",
    "*\tdebt — имел ли задолженность по возврату кредитов\n",
    "*\ttotal_income — ежемесячный доход\n",
    "*\tpurpose — цель получения кредита"
   ]
  },
  {
   "cell_type": "markdown",
   "id": "90695799",
   "metadata": {},
   "source": [
    "### Обзор данных"
   ]
  },
  {
   "cell_type": "code",
   "execution_count": 1,
   "id": "76829e3f",
   "metadata": {},
   "outputs": [],
   "source": [
    "import pandas as pd\n",
    "import seaborn as sns"
   ]
  },
  {
   "cell_type": "code",
   "execution_count": 2,
   "id": "a3398fa4",
   "metadata": {},
   "outputs": [],
   "source": [
    "try: \n",
    "    df = pd.read_csv('datasets/data.csv')\n",
    "except FileNotFoundError:\n",
    "    df = pd.read_csv('/datasets/data.csv')"
   ]
  },
  {
   "cell_type": "code",
   "execution_count": 3,
   "id": "0d4cf3c8",
   "metadata": {},
   "outputs": [
    {
     "name": "stdout",
     "output_type": "stream",
     "text": [
      "<class 'pandas.core.frame.DataFrame'>\n",
      "RangeIndex: 21525 entries, 0 to 21524\n",
      "Data columns (total 12 columns):\n",
      " #   Column            Non-Null Count  Dtype  \n",
      "---  ------            --------------  -----  \n",
      " 0   children          21525 non-null  int64  \n",
      " 1   days_employed     19351 non-null  float64\n",
      " 2   dob_years         21525 non-null  int64  \n",
      " 3   education         21525 non-null  object \n",
      " 4   education_id      21525 non-null  int64  \n",
      " 5   family_status     21525 non-null  object \n",
      " 6   family_status_id  21525 non-null  int64  \n",
      " 7   gender            21525 non-null  object \n",
      " 8   income_type       21525 non-null  object \n",
      " 9   debt              21525 non-null  int64  \n",
      " 10  total_income      19351 non-null  float64\n",
      " 11  purpose           21525 non-null  object \n",
      "dtypes: float64(2), int64(5), object(5)\n",
      "memory usage: 2.0+ MB\n"
     ]
    }
   ],
   "source": [
    "df.info()"
   ]
  },
  {
   "cell_type": "code",
   "execution_count": 4,
   "id": "c41abde0",
   "metadata": {},
   "outputs": [
    {
     "data": {
      "text/html": [
       "<div>\n",
       "<style scoped>\n",
       "    .dataframe tbody tr th:only-of-type {\n",
       "        vertical-align: middle;\n",
       "    }\n",
       "\n",
       "    .dataframe tbody tr th {\n",
       "        vertical-align: top;\n",
       "    }\n",
       "\n",
       "    .dataframe thead th {\n",
       "        text-align: right;\n",
       "    }\n",
       "</style>\n",
       "<table border=\"1\" class=\"dataframe\">\n",
       "  <thead>\n",
       "    <tr style=\"text-align: right;\">\n",
       "      <th></th>\n",
       "      <th>children</th>\n",
       "      <th>days_employed</th>\n",
       "      <th>dob_years</th>\n",
       "      <th>education</th>\n",
       "      <th>education_id</th>\n",
       "      <th>family_status</th>\n",
       "      <th>family_status_id</th>\n",
       "      <th>gender</th>\n",
       "      <th>income_type</th>\n",
       "      <th>debt</th>\n",
       "      <th>total_income</th>\n",
       "      <th>purpose</th>\n",
       "    </tr>\n",
       "  </thead>\n",
       "  <tbody>\n",
       "    <tr>\n",
       "      <th>0</th>\n",
       "      <td>1</td>\n",
       "      <td>-8437.673028</td>\n",
       "      <td>42</td>\n",
       "      <td>высшее</td>\n",
       "      <td>0</td>\n",
       "      <td>женат / замужем</td>\n",
       "      <td>0</td>\n",
       "      <td>F</td>\n",
       "      <td>сотрудник</td>\n",
       "      <td>0</td>\n",
       "      <td>253875.639453</td>\n",
       "      <td>покупка жилья</td>\n",
       "    </tr>\n",
       "    <tr>\n",
       "      <th>1</th>\n",
       "      <td>1</td>\n",
       "      <td>-4024.803754</td>\n",
       "      <td>36</td>\n",
       "      <td>среднее</td>\n",
       "      <td>1</td>\n",
       "      <td>женат / замужем</td>\n",
       "      <td>0</td>\n",
       "      <td>F</td>\n",
       "      <td>сотрудник</td>\n",
       "      <td>0</td>\n",
       "      <td>112080.014102</td>\n",
       "      <td>приобретение автомобиля</td>\n",
       "    </tr>\n",
       "    <tr>\n",
       "      <th>2</th>\n",
       "      <td>0</td>\n",
       "      <td>-5623.422610</td>\n",
       "      <td>33</td>\n",
       "      <td>Среднее</td>\n",
       "      <td>1</td>\n",
       "      <td>женат / замужем</td>\n",
       "      <td>0</td>\n",
       "      <td>M</td>\n",
       "      <td>сотрудник</td>\n",
       "      <td>0</td>\n",
       "      <td>145885.952297</td>\n",
       "      <td>покупка жилья</td>\n",
       "    </tr>\n",
       "    <tr>\n",
       "      <th>3</th>\n",
       "      <td>3</td>\n",
       "      <td>-4124.747207</td>\n",
       "      <td>32</td>\n",
       "      <td>среднее</td>\n",
       "      <td>1</td>\n",
       "      <td>женат / замужем</td>\n",
       "      <td>0</td>\n",
       "      <td>M</td>\n",
       "      <td>сотрудник</td>\n",
       "      <td>0</td>\n",
       "      <td>267628.550329</td>\n",
       "      <td>дополнительное образование</td>\n",
       "    </tr>\n",
       "    <tr>\n",
       "      <th>4</th>\n",
       "      <td>0</td>\n",
       "      <td>340266.072047</td>\n",
       "      <td>53</td>\n",
       "      <td>среднее</td>\n",
       "      <td>1</td>\n",
       "      <td>гражданский брак</td>\n",
       "      <td>1</td>\n",
       "      <td>F</td>\n",
       "      <td>пенсионер</td>\n",
       "      <td>0</td>\n",
       "      <td>158616.077870</td>\n",
       "      <td>сыграть свадьбу</td>\n",
       "    </tr>\n",
       "    <tr>\n",
       "      <th>5</th>\n",
       "      <td>0</td>\n",
       "      <td>-926.185831</td>\n",
       "      <td>27</td>\n",
       "      <td>высшее</td>\n",
       "      <td>0</td>\n",
       "      <td>гражданский брак</td>\n",
       "      <td>1</td>\n",
       "      <td>M</td>\n",
       "      <td>компаньон</td>\n",
       "      <td>0</td>\n",
       "      <td>255763.565419</td>\n",
       "      <td>покупка жилья</td>\n",
       "    </tr>\n",
       "    <tr>\n",
       "      <th>6</th>\n",
       "      <td>0</td>\n",
       "      <td>-2879.202052</td>\n",
       "      <td>43</td>\n",
       "      <td>высшее</td>\n",
       "      <td>0</td>\n",
       "      <td>женат / замужем</td>\n",
       "      <td>0</td>\n",
       "      <td>F</td>\n",
       "      <td>компаньон</td>\n",
       "      <td>0</td>\n",
       "      <td>240525.971920</td>\n",
       "      <td>операции с жильем</td>\n",
       "    </tr>\n",
       "    <tr>\n",
       "      <th>7</th>\n",
       "      <td>0</td>\n",
       "      <td>-152.779569</td>\n",
       "      <td>50</td>\n",
       "      <td>СРЕДНЕЕ</td>\n",
       "      <td>1</td>\n",
       "      <td>женат / замужем</td>\n",
       "      <td>0</td>\n",
       "      <td>M</td>\n",
       "      <td>сотрудник</td>\n",
       "      <td>0</td>\n",
       "      <td>135823.934197</td>\n",
       "      <td>образование</td>\n",
       "    </tr>\n",
       "    <tr>\n",
       "      <th>8</th>\n",
       "      <td>2</td>\n",
       "      <td>-6929.865299</td>\n",
       "      <td>35</td>\n",
       "      <td>ВЫСШЕЕ</td>\n",
       "      <td>0</td>\n",
       "      <td>гражданский брак</td>\n",
       "      <td>1</td>\n",
       "      <td>F</td>\n",
       "      <td>сотрудник</td>\n",
       "      <td>0</td>\n",
       "      <td>95856.832424</td>\n",
       "      <td>на проведение свадьбы</td>\n",
       "    </tr>\n",
       "    <tr>\n",
       "      <th>9</th>\n",
       "      <td>0</td>\n",
       "      <td>-2188.756445</td>\n",
       "      <td>41</td>\n",
       "      <td>среднее</td>\n",
       "      <td>1</td>\n",
       "      <td>женат / замужем</td>\n",
       "      <td>0</td>\n",
       "      <td>M</td>\n",
       "      <td>сотрудник</td>\n",
       "      <td>0</td>\n",
       "      <td>144425.938277</td>\n",
       "      <td>покупка жилья для семьи</td>\n",
       "    </tr>\n",
       "  </tbody>\n",
       "</table>\n",
       "</div>"
      ],
      "text/plain": [
       "   children  days_employed  dob_years education  education_id  \\\n",
       "0         1   -8437.673028         42    высшее             0   \n",
       "1         1   -4024.803754         36   среднее             1   \n",
       "2         0   -5623.422610         33   Среднее             1   \n",
       "3         3   -4124.747207         32   среднее             1   \n",
       "4         0  340266.072047         53   среднее             1   \n",
       "5         0    -926.185831         27    высшее             0   \n",
       "6         0   -2879.202052         43    высшее             0   \n",
       "7         0    -152.779569         50   СРЕДНЕЕ             1   \n",
       "8         2   -6929.865299         35    ВЫСШЕЕ             0   \n",
       "9         0   -2188.756445         41   среднее             1   \n",
       "\n",
       "      family_status  family_status_id gender income_type  debt   total_income  \\\n",
       "0   женат / замужем                 0      F   сотрудник     0  253875.639453   \n",
       "1   женат / замужем                 0      F   сотрудник     0  112080.014102   \n",
       "2   женат / замужем                 0      M   сотрудник     0  145885.952297   \n",
       "3   женат / замужем                 0      M   сотрудник     0  267628.550329   \n",
       "4  гражданский брак                 1      F   пенсионер     0  158616.077870   \n",
       "5  гражданский брак                 1      M   компаньон     0  255763.565419   \n",
       "6   женат / замужем                 0      F   компаньон     0  240525.971920   \n",
       "7   женат / замужем                 0      M   сотрудник     0  135823.934197   \n",
       "8  гражданский брак                 1      F   сотрудник     0   95856.832424   \n",
       "9   женат / замужем                 0      M   сотрудник     0  144425.938277   \n",
       "\n",
       "                      purpose  \n",
       "0               покупка жилья  \n",
       "1     приобретение автомобиля  \n",
       "2               покупка жилья  \n",
       "3  дополнительное образование  \n",
       "4             сыграть свадьбу  \n",
       "5               покупка жилья  \n",
       "6           операции с жильем  \n",
       "7                 образование  \n",
       "8       на проведение свадьбы  \n",
       "9     покупка жилья для семьи  "
      ]
     },
     "execution_count": 4,
     "metadata": {},
     "output_type": "execute_result"
    }
   ],
   "source": [
    "df.head(10)"
   ]
  },
  {
   "cell_type": "markdown",
   "id": "f6b4011c",
   "metadata": {},
   "source": [
    "### Заполнение пропусков"
   ]
  },
  {
   "cell_type": "markdown",
   "id": "4fc0bf97",
   "metadata": {},
   "source": [
    "В двух столбцах есть пропущенные значения. Один из них — days_employed, второй - total_income. \n",
    "Проверим, какую долю составляют пропущенные значения в каждом из столбцов с пропусками.\n",
    "\n",
    "\n"
   ]
  },
  {
   "cell_type": "code",
   "execution_count": 5,
   "id": "48010ef9",
   "metadata": {},
   "outputs": [
    {
     "name": "stdout",
     "output_type": "stream",
     "text": [
      "0.8990011614401858\n"
     ]
    }
   ],
   "source": [
    "missed_data_share = 19351 / 21525\n",
    "print(missed_data_share)"
   ]
  },
  {
   "cell_type": "markdown",
   "id": "c0d3ff4d",
   "metadata": {},
   "source": [
    "Доля пропусков составляет почти 9%, что может существенно отразиться на результатах исследования. \n",
    "Следовательно, необходимо устранить пропуски. \n",
    "\n",
    "Начнем со столбца total_income. На размер заработка влияет тип занятости клиента. Например, уровень доходов пенсионеров, женщин в декрете и студентов будет скорее всего ниже, чем у работающих в найме и предринимателей.\n",
    "Исходя из этого сгруппируем данные по столбцу income_type, найдем медианное значение по столбцу total_income и заменим пропуски на медианные значения в зависимости от типа занятости."
   ]
  },
  {
   "cell_type": "code",
   "execution_count": 6,
   "id": "e9d1c16c",
   "metadata": {},
   "outputs": [],
   "source": [
    "df['total_income'] = df['total_income'].fillna(df.groupby(['income_type'])['total_income'].transform('median'))"
   ]
  },
  {
   "cell_type": "markdown",
   "id": "be00cf6d",
   "metadata": {},
   "source": [
    "Проверим, остались ли пропуски в столбце total_income."
   ]
  },
  {
   "cell_type": "code",
   "execution_count": 7,
   "id": "7d636f6c",
   "metadata": {},
   "outputs": [
    {
     "name": "stdout",
     "output_type": "stream",
     "text": [
      "<class 'pandas.core.frame.DataFrame'>\n",
      "RangeIndex: 21525 entries, 0 to 21524\n",
      "Data columns (total 12 columns):\n",
      " #   Column            Non-Null Count  Dtype  \n",
      "---  ------            --------------  -----  \n",
      " 0   children          21525 non-null  int64  \n",
      " 1   days_employed     19351 non-null  float64\n",
      " 2   dob_years         21525 non-null  int64  \n",
      " 3   education         21525 non-null  object \n",
      " 4   education_id      21525 non-null  int64  \n",
      " 5   family_status     21525 non-null  object \n",
      " 6   family_status_id  21525 non-null  int64  \n",
      " 7   gender            21525 non-null  object \n",
      " 8   income_type       21525 non-null  object \n",
      " 9   debt              21525 non-null  int64  \n",
      " 10  total_income      21525 non-null  float64\n",
      " 11  purpose           21525 non-null  object \n",
      "dtypes: float64(2), int64(5), object(5)\n",
      "memory usage: 2.0+ MB\n"
     ]
    }
   ],
   "source": [
    "df.info()"
   ]
  },
  {
   "cell_type": "markdown",
   "id": "4fec3c11",
   "metadata": {},
   "source": [
    "Пропуски в данном столбце устранены."
   ]
  },
  {
   "cell_type": "markdown",
   "id": "6de0e4af",
   "metadata": {},
   "source": [
    "### Проверка данных на аномалии и исправления"
   ]
  },
  {
   "cell_type": "markdown",
   "id": "8c9a5e56",
   "metadata": {},
   "source": [
    "В данных могут встречаться артефакты (аномалии) — значения, которые не отражают действительность и появились по какой-то ошибке. Проверим распределение значений в столбцах days_employed, так как в этом столбце есть пропуски, аномально высокие и отрицательные значения. Причиной может быть человеческий фактор при введение данных. Используем для этого инструмент scatterplot().\n"
   ]
  },
  {
   "cell_type": "code",
   "execution_count": 8,
   "id": "2a7bd699",
   "metadata": {},
   "outputs": [
    {
     "data": {
      "text/plain": [
       "<AxesSubplot:xlabel='dob_years', ylabel='days_employed'>"
      ]
     },
     "execution_count": 8,
     "metadata": {},
     "output_type": "execute_result"
    },
    {
     "data": {
      "image/png": "[encoded data removed]",
      "text/plain": [
       "<Figure size 432x288 with 1 Axes>"
      ]
     },
     "metadata": {
      "needs_background": "light"
     },
     "output_type": "display_data"
    }
   ],
   "source": [
    "sns.scatterplot(x = 'dob_years', y = 'days_employed', data = df)"
   ]
  },
  {
   "cell_type": "markdown",
   "id": "5e65cf11",
   "metadata": {},
   "source": [
    "На диаграмме видно, что в столбце dob_years присутствуют значения, равные 0. Проверим с помощью функции unique()."
   ]
  },
  {
   "cell_type": "code",
   "execution_count": 9,
   "id": "32e6eefe",
   "metadata": {},
   "outputs": [
    {
     "data": {
      "text/plain": [
       "array([42, 36, 33, 32, 53, 27, 43, 50, 35, 41, 40, 65, 54, 56, 26, 48, 24,\n",
       "       21, 57, 67, 28, 63, 62, 47, 34, 68, 25, 31, 30, 20, 49, 37, 45, 61,\n",
       "       64, 44, 52, 46, 23, 38, 39, 51,  0, 59, 29, 60, 55, 58, 71, 22, 73,\n",
       "       66, 69, 19, 72, 70, 74, 75], dtype=int64)"
      ]
     },
     "execution_count": 9,
     "metadata": {},
     "output_type": "execute_result"
    }
   ],
   "source": [
    "df['dob_years'].unique()"
   ]
  },
  {
   "cell_type": "markdown",
   "id": "fa68733a",
   "metadata": {},
   "source": [
    "Возраст не может быть равен 0, заменим 0 на медианное значение по данному столбцу. "
   ]
  },
  {
   "cell_type": "code",
   "execution_count": 10,
   "id": "dd3f8f06",
   "metadata": {},
   "outputs": [
    {
     "data": {
      "text/plain": [
       "42.0"
      ]
     },
     "execution_count": 10,
     "metadata": {},
     "output_type": "execute_result"
    }
   ],
   "source": [
    "df['dob_years'].median()"
   ]
  },
  {
   "cell_type": "code",
   "execution_count": 11,
   "id": "32bbc244",
   "metadata": {},
   "outputs": [],
   "source": [
    "df['dob_years'] = df['dob_years'].replace(0, 42)"
   ]
  },
  {
   "cell_type": "code",
   "execution_count": 12,
   "id": "127dd966",
   "metadata": {},
   "outputs": [
    {
     "data": {
      "text/plain": [
       "array([42, 36, 33, 32, 53, 27, 43, 50, 35, 41, 40, 65, 54, 56, 26, 48, 24,\n",
       "       21, 57, 67, 28, 63, 62, 47, 34, 68, 25, 31, 30, 20, 49, 37, 45, 61,\n",
       "       64, 44, 52, 46, 23, 38, 39, 51, 59, 29, 60, 55, 58, 71, 22, 73, 66,\n",
       "       69, 19, 72, 70, 74, 75], dtype=int64)"
      ]
     },
     "execution_count": 12,
     "metadata": {},
     "output_type": "execute_result"
    }
   ],
   "source": [
    "df['dob_years'].unique()"
   ]
  },
  {
   "cell_type": "markdown",
   "id": "8fe974b2",
   "metadata": {},
   "source": [
    "Далее избавимся от отрицательных значений количества дней трудового стажа в столбце days_employed. С помощью функции abs() приведем все значения в столбце к положительному значению. А затем снова построим диаграмму рассеяния."
   ]
  },
  {
   "cell_type": "code",
   "execution_count": 13,
   "id": "7454a22b",
   "metadata": {},
   "outputs": [
    {
     "data": {
      "text/plain": [
       "<AxesSubplot:xlabel='dob_years', ylabel='days_employed'>"
      ]
     },
     "execution_count": 13,
     "metadata": {},
     "output_type": "execute_result"
    },
    {
     "data": {
      "image/png": "[encoded data removed]",
      "text/plain": [
       "<Figure size 432x288 with 1 Axes>"
      ]
     },
     "metadata": {
      "needs_background": "light"
     },
     "output_type": "display_data"
    }
   ],
   "source": [
    "df['days_employed'] = abs(df['days_employed'])\n",
    "\n",
    "sns.scatterplot(x = 'dob_years', y = 'days_employed', data = df)"
   ]
  },
  {
   "cell_type": "markdown",
   "id": "d070f494",
   "metadata": {},
   "source": [
    "Кроме отрицательных значений в столбце days_employed встречаются аномально высокие значения. Данную аномалию также необходимо устранить.\n",
    "Предположим, что клиент мог начать свою трудовую деятельность с 18 лет. Найдем максимальное количество отработанных дней для клиента с максимальным возрастом.    "
   ]
  },
  {
   "cell_type": "code",
   "execution_count": 14,
   "id": "e4bd3403",
   "metadata": {},
   "outputs": [
    {
     "name": "stdout",
     "output_type": "stream",
     "text": [
      "75\n"
     ]
    }
   ],
   "source": [
    "print(df['dob_years'].max())"
   ]
  },
  {
   "cell_type": "markdown",
   "id": "cccbe2fc",
   "metadata": {},
   "source": [
    "Тогда максимально возможное количество отработанных дней равно:"
   ]
  },
  {
   "cell_type": "code",
   "execution_count": 15,
   "id": "07a684a5",
   "metadata": {},
   "outputs": [
    {
     "name": "stdout",
     "output_type": "stream",
     "text": [
      "20805\n"
     ]
    }
   ],
   "source": [
    "print((75-18)*365)"
   ]
  },
  {
   "cell_type": "markdown",
   "id": "eaabdb88",
   "metadata": {},
   "source": [
    "Предположим, что для всех значений больше этого числа количество отработанных дней было внесено в часах (судя по порядку значений). Поэтому разделим эти аномальные значения на 24."
   ]
  },
  {
   "cell_type": "code",
   "execution_count": 16,
   "id": "e98c6eac",
   "metadata": {},
   "outputs": [],
   "source": [
    "df['days_employed'] = df['days_employed'].apply(lambda x: x/24 if x > 20805 else x)   "
   ]
  },
  {
   "cell_type": "code",
   "execution_count": 17,
   "id": "e44db3d8",
   "metadata": {},
   "outputs": [
    {
     "data": {
      "text/plain": [
       "<AxesSubplot:xlabel='dob_years', ylabel='days_employed'>"
      ]
     },
     "execution_count": 17,
     "metadata": {},
     "output_type": "execute_result"
    },
    {
     "data": {
      "image/png": "[encoded data removed]",
      "text/plain": [
       "<Figure size 432x288 with 1 Axes>"
      ]
     },
     "metadata": {
      "needs_background": "light"
     },
     "output_type": "display_data"
    }
   ],
   "source": [
    "sns.scatterplot(x = 'dob_years', y = 'days_employed', data = df)"
   ]
  },
  {
   "cell_type": "markdown",
   "id": "4f988eb1",
   "metadata": {},
   "source": [
    "Теперь найдем медианное значение по столбцу days_employed и заменим все пропуски на него."
   ]
  },
  {
   "cell_type": "code",
   "execution_count": 18,
   "id": "170fb499",
   "metadata": {},
   "outputs": [
    {
     "data": {
      "text/plain": [
       "2194.220566878695"
      ]
     },
     "execution_count": 18,
     "metadata": {},
     "output_type": "execute_result"
    }
   ],
   "source": [
    "df['days_employed'].median()"
   ]
  },
  {
   "cell_type": "code",
   "execution_count": 19,
   "id": "d0466e7a",
   "metadata": {},
   "outputs": [
    {
     "data": {
      "text/plain": [
       "<AxesSubplot:xlabel='dob_years', ylabel='days_employed'>"
      ]
     },
     "execution_count": 19,
     "metadata": {},
     "output_type": "execute_result"
    },
    {
     "data": {
      "image/png": "[encoded data removed]",
      "text/plain": [
       "<Figure size 432x288 with 1 Axes>"
      ]
     },
     "metadata": {
      "needs_background": "light"
     },
     "output_type": "display_data"
    }
   ],
   "source": [
    "df['days_employed'] = df['days_employed'].fillna(2194.220566878695)\n",
    "sns.scatterplot(x = 'dob_years', y = 'days_employed', data = df)"
   ]
  },
  {
   "cell_type": "code",
   "execution_count": 20,
   "id": "5506f8ed",
   "metadata": {},
   "outputs": [
    {
     "name": "stdout",
     "output_type": "stream",
     "text": [
      "<class 'pandas.core.frame.DataFrame'>\n",
      "RangeIndex: 21525 entries, 0 to 21524\n",
      "Data columns (total 12 columns):\n",
      " #   Column            Non-Null Count  Dtype  \n",
      "---  ------            --------------  -----  \n",
      " 0   children          21525 non-null  int64  \n",
      " 1   days_employed     21525 non-null  float64\n",
      " 2   dob_years         21525 non-null  int64  \n",
      " 3   education         21525 non-null  object \n",
      " 4   education_id      21525 non-null  int64  \n",
      " 5   family_status     21525 non-null  object \n",
      " 6   family_status_id  21525 non-null  int64  \n",
      " 7   gender            21525 non-null  object \n",
      " 8   income_type       21525 non-null  object \n",
      " 9   debt              21525 non-null  int64  \n",
      " 10  total_income      21525 non-null  float64\n",
      " 11  purpose           21525 non-null  object \n",
      "dtypes: float64(2), int64(5), object(5)\n",
      "memory usage: 2.0+ MB\n"
     ]
    }
   ],
   "source": [
    "df.info()"
   ]
  },
  {
   "cell_type": "markdown",
   "id": "a2f5031f",
   "metadata": {},
   "source": [
    "Все пропуски устранены."
   ]
  },
  {
   "cell_type": "markdown",
   "id": "7695f995",
   "metadata": {},
   "source": [
    "### Изменение типов данных"
   ]
  },
  {
   "cell_type": "markdown",
   "id": "343db603",
   "metadata": {},
   "source": [
    "Заменим вещественный тип данных в столбце total_income на целочисленный с помощью метода astype()."
   ]
  },
  {
   "cell_type": "code",
   "execution_count": 21,
   "id": "06959683",
   "metadata": {},
   "outputs": [],
   "source": [
    "df['total_income'] = df['total_income'].astype('int')"
   ]
  },
  {
   "cell_type": "markdown",
   "id": "d18ed002",
   "metadata": {},
   "source": [
    "Проведем проверку:"
   ]
  },
  {
   "cell_type": "code",
   "execution_count": 22,
   "id": "d1f3159c",
   "metadata": {},
   "outputs": [
    {
     "name": "stdout",
     "output_type": "stream",
     "text": [
      "<class 'pandas.core.frame.DataFrame'>\n",
      "RangeIndex: 21525 entries, 0 to 21524\n",
      "Data columns (total 12 columns):\n",
      " #   Column            Non-Null Count  Dtype  \n",
      "---  ------            --------------  -----  \n",
      " 0   children          21525 non-null  int64  \n",
      " 1   days_employed     21525 non-null  float64\n",
      " 2   dob_years         21525 non-null  int64  \n",
      " 3   education         21525 non-null  object \n",
      " 4   education_id      21525 non-null  int64  \n",
      " 5   family_status     21525 non-null  object \n",
      " 6   family_status_id  21525 non-null  int64  \n",
      " 7   gender            21525 non-null  object \n",
      " 8   income_type       21525 non-null  object \n",
      " 9   debt              21525 non-null  int64  \n",
      " 10  total_income      21525 non-null  int32  \n",
      " 11  purpose           21525 non-null  object \n",
      "dtypes: float64(1), int32(1), int64(5), object(5)\n",
      "memory usage: 1.9+ MB\n"
     ]
    }
   ],
   "source": [
    "df.info()"
   ]
  },
  {
   "cell_type": "markdown",
   "id": "a8be66a5",
   "metadata": {},
   "source": [
    "### Удаление дубликатов"
   ]
  },
  {
   "cell_type": "markdown",
   "id": "c4d6fd1c",
   "metadata": {},
   "source": [
    "Проверим, присутствуют ли в данных строки-дубликаты. "
   ]
  },
  {
   "cell_type": "code",
   "execution_count": 23,
   "id": "03d23607",
   "metadata": {},
   "outputs": [
    {
     "data": {
      "text/plain": [
       "55"
      ]
     },
     "execution_count": 23,
     "metadata": {},
     "output_type": "execute_result"
    }
   ],
   "source": [
    "df.duplicated().sum()"
   ]
  },
  {
   "cell_type": "markdown",
   "id": "bd449f2d",
   "metadata": {},
   "source": [
    "Также обработаем неявные дубликаты в столбцах: children, education, family_status, gender, income_type, purpose  \n"
   ]
  },
  {
   "cell_type": "code",
   "execution_count": 24,
   "id": "44bd3c9d",
   "metadata": {},
   "outputs": [
    {
     "data": {
      "text/plain": [
       "array([ 1,  0,  3,  2, -1,  4, 20,  5], dtype=int64)"
      ]
     },
     "execution_count": 24,
     "metadata": {},
     "output_type": "execute_result"
    }
   ],
   "source": [
    "df['children'].unique()"
   ]
  },
  {
   "cell_type": "markdown",
   "id": "501358c2",
   "metadata": {},
   "source": [
    "Очевидно, что количество детей не может быть равно -1, и скорее всего 20. Заменим эти значения на 1 и 2 соответсвенно."
   ]
  },
  {
   "cell_type": "code",
   "execution_count": 25,
   "id": "7888b68d",
   "metadata": {},
   "outputs": [],
   "source": [
    "df['children'] = df['children'].replace(-1, 1)\n",
    "df['children'] = df['children'].replace(20, 2)"
   ]
  },
  {
   "cell_type": "markdown",
   "id": "61d153aa",
   "metadata": {},
   "source": [
    "Проведем проверку:"
   ]
  },
  {
   "cell_type": "code",
   "execution_count": 26,
   "id": "b5dc64c0",
   "metadata": {},
   "outputs": [
    {
     "data": {
      "text/plain": [
       "array([1, 0, 3, 2, 4, 5], dtype=int64)"
      ]
     },
     "execution_count": 26,
     "metadata": {},
     "output_type": "execute_result"
    }
   ],
   "source": [
    "df['children'].unique()"
   ]
  },
  {
   "cell_type": "markdown",
   "id": "005f1512",
   "metadata": {},
   "source": [
    "Проведем проверку в столбце education:"
   ]
  },
  {
   "cell_type": "code",
   "execution_count": 27,
   "id": "a9bd82aa",
   "metadata": {},
   "outputs": [
    {
     "data": {
      "text/plain": [
       "array(['высшее', 'среднее', 'Среднее', 'СРЕДНЕЕ', 'ВЫСШЕЕ',\n",
       "       'неоконченное высшее', 'начальное', 'Высшее',\n",
       "       'НЕОКОНЧЕННОЕ ВЫСШЕЕ', 'Неоконченное высшее', 'НАЧАЛЬНОЕ',\n",
       "       'Начальное', 'Ученая степень', 'УЧЕНАЯ СТЕПЕНЬ', 'ученая степень'],\n",
       "      dtype=object)"
      ]
     },
     "execution_count": 27,
     "metadata": {},
     "output_type": "execute_result"
    }
   ],
   "source": [
    "df['education'].unique()"
   ]
  },
  {
   "cell_type": "markdown",
   "id": "a2560d6e",
   "metadata": {},
   "source": [
    "В столбце education есть одни и те же значения, но записанные по-разному: с использованием заглавных и строчных букв. Приведем их к одному регистру."
   ]
  },
  {
   "cell_type": "code",
   "execution_count": 28,
   "id": "90923133",
   "metadata": {},
   "outputs": [],
   "source": [
    "df['education'] = df['education'].str.lower()"
   ]
  },
  {
   "cell_type": "markdown",
   "id": "6d7bfe52",
   "metadata": {},
   "source": [
    "Произведем проверку:"
   ]
  },
  {
   "cell_type": "code",
   "execution_count": 29,
   "id": "93a4c953",
   "metadata": {},
   "outputs": [
    {
     "data": {
      "text/plain": [
       "array(['высшее', 'среднее', 'неоконченное высшее', 'начальное',\n",
       "       'ученая степень'], dtype=object)"
      ]
     },
     "execution_count": 29,
     "metadata": {},
     "output_type": "execute_result"
    }
   ],
   "source": [
    "df['education'].unique()"
   ]
  },
  {
   "cell_type": "markdown",
   "id": "be28570c",
   "metadata": {},
   "source": [
    "Дубликаты устранены.\n",
    "Далее проверим наличие дубликатов в столбце family_status:"
   ]
  },
  {
   "cell_type": "code",
   "execution_count": 30,
   "id": "35ea90f8",
   "metadata": {},
   "outputs": [
    {
     "data": {
      "text/plain": [
       "array(['женат / замужем', 'гражданский брак', 'вдовец / вдова',\n",
       "       'в разводе', 'Не женат / не замужем'], dtype=object)"
      ]
     },
     "execution_count": 30,
     "metadata": {},
     "output_type": "execute_result"
    }
   ],
   "source": [
    "df['family_status'].unique()"
   ]
  },
  {
   "cell_type": "markdown",
   "id": "965a9a94",
   "metadata": {},
   "source": [
    "Дубликатов не обнаружено."
   ]
  },
  {
   "cell_type": "code",
   "execution_count": 31,
   "id": "958e7f52",
   "metadata": {},
   "outputs": [
    {
     "data": {
      "text/plain": [
       "array(['F', 'M', 'XNA'], dtype=object)"
      ]
     },
     "execution_count": 31,
     "metadata": {},
     "output_type": "execute_result"
    }
   ],
   "source": [
    "df['gender'].unique()"
   ]
  },
  {
   "cell_type": "markdown",
   "id": "37c6d9fe",
   "metadata": {},
   "source": [
    "Дубликатов не обнаружено.\n",
    "Далее проверим наличие дубликатов в столбце income_type:"
   ]
  },
  {
   "cell_type": "code",
   "execution_count": 32,
   "id": "f1ba1ee3",
   "metadata": {},
   "outputs": [
    {
     "data": {
      "text/plain": [
       "array(['сотрудник', 'пенсионер', 'компаньон', 'госслужащий',\n",
       "       'безработный', 'предприниматель', 'студент', 'в декрете'],\n",
       "      dtype=object)"
      ]
     },
     "execution_count": 32,
     "metadata": {},
     "output_type": "execute_result"
    }
   ],
   "source": [
    "df['income_type'].unique()"
   ]
  },
  {
   "cell_type": "markdown",
   "id": "c73a2ffe",
   "metadata": {},
   "source": [
    "Дубликатов не обнаружено.\n",
    "Далее проверим наличие дубликатов в столбце income_type:"
   ]
  },
  {
   "cell_type": "code",
   "execution_count": 33,
   "id": "10ba1916",
   "metadata": {},
   "outputs": [
    {
     "data": {
      "text/plain": [
       "array(['покупка жилья', 'приобретение автомобиля',\n",
       "       'дополнительное образование', 'сыграть свадьбу',\n",
       "       'операции с жильем', 'образование', 'на проведение свадьбы',\n",
       "       'покупка жилья для семьи', 'покупка недвижимости',\n",
       "       'покупка коммерческой недвижимости', 'покупка жилой недвижимости',\n",
       "       'строительство собственной недвижимости', 'недвижимость',\n",
       "       'строительство недвижимости', 'на покупку подержанного автомобиля',\n",
       "       'на покупку своего автомобиля',\n",
       "       'операции с коммерческой недвижимостью',\n",
       "       'строительство жилой недвижимости', 'жилье',\n",
       "       'операции со своей недвижимостью', 'автомобили',\n",
       "       'заняться образованием', 'сделка с подержанным автомобилем',\n",
       "       'получение образования', 'автомобиль', 'свадьба',\n",
       "       'получение дополнительного образования', 'покупка своего жилья',\n",
       "       'операции с недвижимостью', 'получение высшего образования',\n",
       "       'свой автомобиль', 'сделка с автомобилем',\n",
       "       'профильное образование', 'высшее образование',\n",
       "       'покупка жилья для сдачи', 'на покупку автомобиля', 'ремонт жилью',\n",
       "       'заняться высшим образованием'], dtype=object)"
      ]
     },
     "execution_count": 33,
     "metadata": {},
     "output_type": "execute_result"
    }
   ],
   "source": [
    "df['purpose'].unique()"
   ]
  },
  {
   "cell_type": "markdown",
   "id": "4e745d4b",
   "metadata": {},
   "source": [
    "Работать с дубликатами в этом столбце мы будем работать позже.\n",
    "\n",
    "Теперь удалим все дубликаты.\n",
    "\n"
   ]
  },
  {
   "cell_type": "code",
   "execution_count": 34,
   "id": "4312316e",
   "metadata": {},
   "outputs": [
    {
     "name": "stdout",
     "output_type": "stream",
     "text": [
      "<class 'pandas.core.frame.DataFrame'>\n",
      "RangeIndex: 21453 entries, 0 to 21452\n",
      "Data columns (total 12 columns):\n",
      " #   Column            Non-Null Count  Dtype  \n",
      "---  ------            --------------  -----  \n",
      " 0   children          21453 non-null  int64  \n",
      " 1   days_employed     21453 non-null  float64\n",
      " 2   dob_years         21453 non-null  int64  \n",
      " 3   education         21453 non-null  object \n",
      " 4   education_id      21453 non-null  int64  \n",
      " 5   family_status     21453 non-null  object \n",
      " 6   family_status_id  21453 non-null  int64  \n",
      " 7   gender            21453 non-null  object \n",
      " 8   income_type       21453 non-null  object \n",
      " 9   debt              21453 non-null  int64  \n",
      " 10  total_income      21453 non-null  int32  \n",
      " 11  purpose           21453 non-null  object \n",
      "dtypes: float64(1), int32(1), int64(5), object(5)\n",
      "memory usage: 1.9+ MB\n"
     ]
    }
   ],
   "source": [
    "df = df.drop_duplicates().reset_index(drop=True)\n",
    "df.info()"
   ]
  },
  {
   "cell_type": "markdown",
   "id": "ec734e5c",
   "metadata": {},
   "source": [
    "Итак, для поиска явных дубликатов мы воспользовались функциями duplicated() и drop_duplicates()\n",
    "Для поиска неявных дубликатов функцией unique(), а для устранения в зависимости от типа выявленного дубликата str.lower() и replace().\n",
    "\n",
    "Дубликаты чаще всего возникают из-за сбоев при переносе данных, человеского фактора, отсутствии автоматизации при введении данных (например, выпадающий список при выборе назначения кредита)."
   ]
  },
  {
   "cell_type": "code",
   "execution_count": 35,
   "id": "8a3fc991",
   "metadata": {},
   "outputs": [
    {
     "data": {
      "text/html": [
       "<div>\n",
       "<style scoped>\n",
       "    .dataframe tbody tr th:only-of-type {\n",
       "        vertical-align: middle;\n",
       "    }\n",
       "\n",
       "    .dataframe tbody tr th {\n",
       "        vertical-align: top;\n",
       "    }\n",
       "\n",
       "    .dataframe thead th {\n",
       "        text-align: right;\n",
       "    }\n",
       "</style>\n",
       "<table border=\"1\" class=\"dataframe\">\n",
       "  <thead>\n",
       "    <tr style=\"text-align: right;\">\n",
       "      <th></th>\n",
       "      <th>children</th>\n",
       "      <th>days_employed</th>\n",
       "      <th>dob_years</th>\n",
       "      <th>education</th>\n",
       "      <th>education_id</th>\n",
       "      <th>family_status</th>\n",
       "      <th>family_status_id</th>\n",
       "      <th>gender</th>\n",
       "      <th>income_type</th>\n",
       "      <th>debt</th>\n",
       "      <th>total_income</th>\n",
       "      <th>purpose</th>\n",
       "    </tr>\n",
       "  </thead>\n",
       "  <tbody>\n",
       "    <tr>\n",
       "      <th>0</th>\n",
       "      <td>1</td>\n",
       "      <td>8437.673028</td>\n",
       "      <td>42</td>\n",
       "      <td>высшее</td>\n",
       "      <td>0</td>\n",
       "      <td>женат / замужем</td>\n",
       "      <td>0</td>\n",
       "      <td>F</td>\n",
       "      <td>сотрудник</td>\n",
       "      <td>0</td>\n",
       "      <td>253875</td>\n",
       "      <td>покупка жилья</td>\n",
       "    </tr>\n",
       "    <tr>\n",
       "      <th>1</th>\n",
       "      <td>1</td>\n",
       "      <td>4024.803754</td>\n",
       "      <td>36</td>\n",
       "      <td>среднее</td>\n",
       "      <td>1</td>\n",
       "      <td>женат / замужем</td>\n",
       "      <td>0</td>\n",
       "      <td>F</td>\n",
       "      <td>сотрудник</td>\n",
       "      <td>0</td>\n",
       "      <td>112080</td>\n",
       "      <td>приобретение автомобиля</td>\n",
       "    </tr>\n",
       "    <tr>\n",
       "      <th>2</th>\n",
       "      <td>0</td>\n",
       "      <td>5623.422610</td>\n",
       "      <td>33</td>\n",
       "      <td>среднее</td>\n",
       "      <td>1</td>\n",
       "      <td>женат / замужем</td>\n",
       "      <td>0</td>\n",
       "      <td>M</td>\n",
       "      <td>сотрудник</td>\n",
       "      <td>0</td>\n",
       "      <td>145885</td>\n",
       "      <td>покупка жилья</td>\n",
       "    </tr>\n",
       "    <tr>\n",
       "      <th>3</th>\n",
       "      <td>3</td>\n",
       "      <td>4124.747207</td>\n",
       "      <td>32</td>\n",
       "      <td>среднее</td>\n",
       "      <td>1</td>\n",
       "      <td>женат / замужем</td>\n",
       "      <td>0</td>\n",
       "      <td>M</td>\n",
       "      <td>сотрудник</td>\n",
       "      <td>0</td>\n",
       "      <td>267628</td>\n",
       "      <td>дополнительное образование</td>\n",
       "    </tr>\n",
       "    <tr>\n",
       "      <th>4</th>\n",
       "      <td>0</td>\n",
       "      <td>14177.753002</td>\n",
       "      <td>53</td>\n",
       "      <td>среднее</td>\n",
       "      <td>1</td>\n",
       "      <td>гражданский брак</td>\n",
       "      <td>1</td>\n",
       "      <td>F</td>\n",
       "      <td>пенсионер</td>\n",
       "      <td>0</td>\n",
       "      <td>158616</td>\n",
       "      <td>сыграть свадьбу</td>\n",
       "    </tr>\n",
       "  </tbody>\n",
       "</table>\n",
       "</div>"
      ],
      "text/plain": [
       "   children  days_employed  dob_years education  education_id  \\\n",
       "0         1    8437.673028         42    высшее             0   \n",
       "1         1    4024.803754         36   среднее             1   \n",
       "2         0    5623.422610         33   среднее             1   \n",
       "3         3    4124.747207         32   среднее             1   \n",
       "4         0   14177.753002         53   среднее             1   \n",
       "\n",
       "      family_status  family_status_id gender income_type  debt  total_income  \\\n",
       "0   женат / замужем                 0      F   сотрудник     0        253875   \n",
       "1   женат / замужем                 0      F   сотрудник     0        112080   \n",
       "2   женат / замужем                 0      M   сотрудник     0        145885   \n",
       "3   женат / замужем                 0      M   сотрудник     0        267628   \n",
       "4  гражданский брак                 1      F   пенсионер     0        158616   \n",
       "\n",
       "                      purpose  \n",
       "0               покупка жилья  \n",
       "1     приобретение автомобиля  \n",
       "2               покупка жилья  \n",
       "3  дополнительное образование  \n",
       "4             сыграть свадьбу  "
      ]
     },
     "execution_count": 35,
     "metadata": {},
     "output_type": "execute_result"
    }
   ],
   "source": [
    "df.head()"
   ]
  },
  {
   "cell_type": "markdown",
   "id": "03cd078c",
   "metadata": {},
   "source": [
    "### Формирование дополнительных датафреймов словарей, декомпозиция исходного датафрейма"
   ]
  },
  {
   "cell_type": "markdown",
   "id": "2418dc22",
   "metadata": {},
   "source": [
    "Для того, чтобы наши данные занимали меньше памяти и упрощения работы, создадим дополнительные словари для столбцов education и family_status.\n",
    "Создадим education_dict:"
   ]
  },
  {
   "cell_type": "code",
   "execution_count": 36,
   "id": "1c9170df",
   "metadata": {},
   "outputs": [
    {
     "data": {
      "text/html": [
       "<div>\n",
       "<style scoped>\n",
       "    .dataframe tbody tr th:only-of-type {\n",
       "        vertical-align: middle;\n",
       "    }\n",
       "\n",
       "    .dataframe tbody tr th {\n",
       "        vertical-align: top;\n",
       "    }\n",
       "\n",
       "    .dataframe thead th {\n",
       "        text-align: right;\n",
       "    }\n",
       "</style>\n",
       "<table border=\"1\" class=\"dataframe\">\n",
       "  <thead>\n",
       "    <tr style=\"text-align: right;\">\n",
       "      <th></th>\n",
       "      <th>education</th>\n",
       "      <th>education_id</th>\n",
       "    </tr>\n",
       "  </thead>\n",
       "  <tbody>\n",
       "    <tr>\n",
       "      <th>0</th>\n",
       "      <td>высшее</td>\n",
       "      <td>0</td>\n",
       "    </tr>\n",
       "    <tr>\n",
       "      <th>1</th>\n",
       "      <td>среднее</td>\n",
       "      <td>1</td>\n",
       "    </tr>\n",
       "    <tr>\n",
       "      <th>2</th>\n",
       "      <td>среднее</td>\n",
       "      <td>1</td>\n",
       "    </tr>\n",
       "    <tr>\n",
       "      <th>3</th>\n",
       "      <td>среднее</td>\n",
       "      <td>1</td>\n",
       "    </tr>\n",
       "    <tr>\n",
       "      <th>4</th>\n",
       "      <td>среднее</td>\n",
       "      <td>1</td>\n",
       "    </tr>\n",
       "  </tbody>\n",
       "</table>\n",
       "</div>"
      ],
      "text/plain": [
       "  education  education_id\n",
       "0    высшее             0\n",
       "1   среднее             1\n",
       "2   среднее             1\n",
       "3   среднее             1\n",
       "4   среднее             1"
      ]
     },
     "execution_count": 36,
     "metadata": {},
     "output_type": "execute_result"
    }
   ],
   "source": [
    "education_dict = df.loc[:,['education','education_id']]\n",
    "education_dict.head()"
   ]
  },
  {
   "cell_type": "code",
   "execution_count": 37,
   "id": "daca6a11",
   "metadata": {},
   "outputs": [
    {
     "data": {
      "text/html": [
       "<div>\n",
       "<style scoped>\n",
       "    .dataframe tbody tr th:only-of-type {\n",
       "        vertical-align: middle;\n",
       "    }\n",
       "\n",
       "    .dataframe tbody tr th {\n",
       "        vertical-align: top;\n",
       "    }\n",
       "\n",
       "    .dataframe thead th {\n",
       "        text-align: right;\n",
       "    }\n",
       "</style>\n",
       "<table border=\"1\" class=\"dataframe\">\n",
       "  <thead>\n",
       "    <tr style=\"text-align: right;\">\n",
       "      <th></th>\n",
       "      <th>education</th>\n",
       "      <th>education_id</th>\n",
       "    </tr>\n",
       "  </thead>\n",
       "  <tbody>\n",
       "    <tr>\n",
       "      <th>0</th>\n",
       "      <td>высшее</td>\n",
       "      <td>0</td>\n",
       "    </tr>\n",
       "    <tr>\n",
       "      <th>1</th>\n",
       "      <td>среднее</td>\n",
       "      <td>1</td>\n",
       "    </tr>\n",
       "    <tr>\n",
       "      <th>2</th>\n",
       "      <td>неоконченное высшее</td>\n",
       "      <td>2</td>\n",
       "    </tr>\n",
       "    <tr>\n",
       "      <th>3</th>\n",
       "      <td>начальное</td>\n",
       "      <td>3</td>\n",
       "    </tr>\n",
       "    <tr>\n",
       "      <th>4</th>\n",
       "      <td>ученая степень</td>\n",
       "      <td>4</td>\n",
       "    </tr>\n",
       "  </tbody>\n",
       "</table>\n",
       "</div>"
      ],
      "text/plain": [
       "             education  education_id\n",
       "0               высшее             0\n",
       "1              среднее             1\n",
       "2  неоконченное высшее             2\n",
       "3            начальное             3\n",
       "4       ученая степень             4"
      ]
     },
     "execution_count": 37,
     "metadata": {},
     "output_type": "execute_result"
    }
   ],
   "source": [
    "education_dict.drop_duplicates().reset_index(drop=True)"
   ]
  },
  {
   "cell_type": "markdown",
   "id": "fb2b3eb9",
   "metadata": {},
   "source": [
    "Создадим словарь family_status_dict:"
   ]
  },
  {
   "cell_type": "code",
   "execution_count": 38,
   "id": "18b94f23",
   "metadata": {},
   "outputs": [
    {
     "data": {
      "text/html": [
       "<div>\n",
       "<style scoped>\n",
       "    .dataframe tbody tr th:only-of-type {\n",
       "        vertical-align: middle;\n",
       "    }\n",
       "\n",
       "    .dataframe tbody tr th {\n",
       "        vertical-align: top;\n",
       "    }\n",
       "\n",
       "    .dataframe thead th {\n",
       "        text-align: right;\n",
       "    }\n",
       "</style>\n",
       "<table border=\"1\" class=\"dataframe\">\n",
       "  <thead>\n",
       "    <tr style=\"text-align: right;\">\n",
       "      <th></th>\n",
       "      <th>family_status</th>\n",
       "      <th>family_status_id</th>\n",
       "    </tr>\n",
       "  </thead>\n",
       "  <tbody>\n",
       "    <tr>\n",
       "      <th>0</th>\n",
       "      <td>женат / замужем</td>\n",
       "      <td>0</td>\n",
       "    </tr>\n",
       "    <tr>\n",
       "      <th>1</th>\n",
       "      <td>женат / замужем</td>\n",
       "      <td>0</td>\n",
       "    </tr>\n",
       "    <tr>\n",
       "      <th>2</th>\n",
       "      <td>женат / замужем</td>\n",
       "      <td>0</td>\n",
       "    </tr>\n",
       "    <tr>\n",
       "      <th>3</th>\n",
       "      <td>женат / замужем</td>\n",
       "      <td>0</td>\n",
       "    </tr>\n",
       "    <tr>\n",
       "      <th>4</th>\n",
       "      <td>гражданский брак</td>\n",
       "      <td>1</td>\n",
       "    </tr>\n",
       "  </tbody>\n",
       "</table>\n",
       "</div>"
      ],
      "text/plain": [
       "      family_status  family_status_id\n",
       "0   женат / замужем                 0\n",
       "1   женат / замужем                 0\n",
       "2   женат / замужем                 0\n",
       "3   женат / замужем                 0\n",
       "4  гражданский брак                 1"
      ]
     },
     "execution_count": 38,
     "metadata": {},
     "output_type": "execute_result"
    }
   ],
   "source": [
    "family_status_dict = df.loc[:,['family_status','family_status_id']]\n",
    "family_status_dict.head()"
   ]
  },
  {
   "cell_type": "code",
   "execution_count": 39,
   "id": "c289731b",
   "metadata": {},
   "outputs": [
    {
     "data": {
      "text/html": [
       "<div>\n",
       "<style scoped>\n",
       "    .dataframe tbody tr th:only-of-type {\n",
       "        vertical-align: middle;\n",
       "    }\n",
       "\n",
       "    .dataframe tbody tr th {\n",
       "        vertical-align: top;\n",
       "    }\n",
       "\n",
       "    .dataframe thead th {\n",
       "        text-align: right;\n",
       "    }\n",
       "</style>\n",
       "<table border=\"1\" class=\"dataframe\">\n",
       "  <thead>\n",
       "    <tr style=\"text-align: right;\">\n",
       "      <th></th>\n",
       "      <th>family_status</th>\n",
       "      <th>family_status_id</th>\n",
       "    </tr>\n",
       "  </thead>\n",
       "  <tbody>\n",
       "    <tr>\n",
       "      <th>0</th>\n",
       "      <td>женат / замужем</td>\n",
       "      <td>0</td>\n",
       "    </tr>\n",
       "    <tr>\n",
       "      <th>1</th>\n",
       "      <td>гражданский брак</td>\n",
       "      <td>1</td>\n",
       "    </tr>\n",
       "    <tr>\n",
       "      <th>2</th>\n",
       "      <td>вдовец / вдова</td>\n",
       "      <td>2</td>\n",
       "    </tr>\n",
       "    <tr>\n",
       "      <th>3</th>\n",
       "      <td>в разводе</td>\n",
       "      <td>3</td>\n",
       "    </tr>\n",
       "    <tr>\n",
       "      <th>4</th>\n",
       "      <td>Не женат / не замужем</td>\n",
       "      <td>4</td>\n",
       "    </tr>\n",
       "  </tbody>\n",
       "</table>\n",
       "</div>"
      ],
      "text/plain": [
       "           family_status  family_status_id\n",
       "0        женат / замужем                 0\n",
       "1       гражданский брак                 1\n",
       "2         вдовец / вдова                 2\n",
       "3              в разводе                 3\n",
       "4  Не женат / не замужем                 4"
      ]
     },
     "metadata": {},
     "output_type": "display_data"
    }
   ],
   "source": [
    "family_status_dict = family_status_dict.drop_duplicates().reset_index(drop=True)\n",
    "display(family_status_dict)"
   ]
  },
  {
   "cell_type": "code",
   "execution_count": 40,
   "id": "ffe6185c",
   "metadata": {},
   "outputs": [
    {
     "data": {
      "text/html": [
       "<div>\n",
       "<style scoped>\n",
       "    .dataframe tbody tr th:only-of-type {\n",
       "        vertical-align: middle;\n",
       "    }\n",
       "\n",
       "    .dataframe tbody tr th {\n",
       "        vertical-align: top;\n",
       "    }\n",
       "\n",
       "    .dataframe thead th {\n",
       "        text-align: right;\n",
       "    }\n",
       "</style>\n",
       "<table border=\"1\" class=\"dataframe\">\n",
       "  <thead>\n",
       "    <tr style=\"text-align: right;\">\n",
       "      <th></th>\n",
       "      <th>children</th>\n",
       "      <th>days_employed</th>\n",
       "      <th>dob_years</th>\n",
       "      <th>education_id</th>\n",
       "      <th>family_status_id</th>\n",
       "      <th>gender</th>\n",
       "      <th>income_type</th>\n",
       "      <th>debt</th>\n",
       "      <th>total_income</th>\n",
       "      <th>purpose</th>\n",
       "    </tr>\n",
       "  </thead>\n",
       "  <tbody>\n",
       "    <tr>\n",
       "      <th>0</th>\n",
       "      <td>1</td>\n",
       "      <td>8437.673028</td>\n",
       "      <td>42</td>\n",
       "      <td>0</td>\n",
       "      <td>0</td>\n",
       "      <td>F</td>\n",
       "      <td>сотрудник</td>\n",
       "      <td>0</td>\n",
       "      <td>253875</td>\n",
       "      <td>покупка жилья</td>\n",
       "    </tr>\n",
       "    <tr>\n",
       "      <th>1</th>\n",
       "      <td>1</td>\n",
       "      <td>4024.803754</td>\n",
       "      <td>36</td>\n",
       "      <td>1</td>\n",
       "      <td>0</td>\n",
       "      <td>F</td>\n",
       "      <td>сотрудник</td>\n",
       "      <td>0</td>\n",
       "      <td>112080</td>\n",
       "      <td>приобретение автомобиля</td>\n",
       "    </tr>\n",
       "    <tr>\n",
       "      <th>2</th>\n",
       "      <td>0</td>\n",
       "      <td>5623.422610</td>\n",
       "      <td>33</td>\n",
       "      <td>1</td>\n",
       "      <td>0</td>\n",
       "      <td>M</td>\n",
       "      <td>сотрудник</td>\n",
       "      <td>0</td>\n",
       "      <td>145885</td>\n",
       "      <td>покупка жилья</td>\n",
       "    </tr>\n",
       "    <tr>\n",
       "      <th>3</th>\n",
       "      <td>3</td>\n",
       "      <td>4124.747207</td>\n",
       "      <td>32</td>\n",
       "      <td>1</td>\n",
       "      <td>0</td>\n",
       "      <td>M</td>\n",
       "      <td>сотрудник</td>\n",
       "      <td>0</td>\n",
       "      <td>267628</td>\n",
       "      <td>дополнительное образование</td>\n",
       "    </tr>\n",
       "    <tr>\n",
       "      <th>4</th>\n",
       "      <td>0</td>\n",
       "      <td>14177.753002</td>\n",
       "      <td>53</td>\n",
       "      <td>1</td>\n",
       "      <td>1</td>\n",
       "      <td>F</td>\n",
       "      <td>пенсионер</td>\n",
       "      <td>0</td>\n",
       "      <td>158616</td>\n",
       "      <td>сыграть свадьбу</td>\n",
       "    </tr>\n",
       "  </tbody>\n",
       "</table>\n",
       "</div>"
      ],
      "text/plain": [
       "   children  days_employed  dob_years  education_id  family_status_id gender  \\\n",
       "0         1    8437.673028         42             0                 0      F   \n",
       "1         1    4024.803754         36             1                 0      F   \n",
       "2         0    5623.422610         33             1                 0      M   \n",
       "3         3    4124.747207         32             1                 0      M   \n",
       "4         0   14177.753002         53             1                 1      F   \n",
       "\n",
       "  income_type  debt  total_income                     purpose  \n",
       "0   сотрудник     0        253875               покупка жилья  \n",
       "1   сотрудник     0        112080     приобретение автомобиля  \n",
       "2   сотрудник     0        145885               покупка жилья  \n",
       "3   сотрудник     0        267628  дополнительное образование  \n",
       "4   пенсионер     0        158616             сыграть свадьбу  "
      ]
     },
     "execution_count": 40,
     "metadata": {},
     "output_type": "execute_result"
    }
   ],
   "source": [
    "df = df.drop(columns=['family_status', 'education'])\n",
    "df.head()"
   ]
  },
  {
   "cell_type": "markdown",
   "id": "45e05b5c",
   "metadata": {},
   "source": [
    "### Категоризация дохода"
   ]
  },
  {
   "cell_type": "markdown",
   "id": "c5f289f5",
   "metadata": {},
   "source": [
    "На основании диапазонов, указанных ниже, создадим столбец total_income_category с категориями:\n",
    "o\t0–30000 — 'E';\n",
    "o\t30001–50000 — 'D';\n",
    "o\t50001–200000 — 'C';\n",
    "o\t200001–1000000 — 'B';\n",
    "o\t1000001 и выше — 'A'.\n",
    "\n"
   ]
  },
  {
   "cell_type": "code",
   "execution_count": 41,
   "id": "7b332494",
   "metadata": {},
   "outputs": [],
   "source": [
    "def income_category(income):\n",
    "    if income <= 30000:\n",
    "        return 'E'\n",
    "    if income <= 50000:\n",
    "        return 'D'\n",
    "    if income <= 200000:\n",
    "        return 'C'\n",
    "    if income <= 1000000:\n",
    "        return 'B'\n",
    "    return 'A'\n",
    "\n",
    "df['total_income_category'] = df['total_income'].apply(income_category)       "
   ]
  },
  {
   "cell_type": "code",
   "execution_count": 42,
   "id": "932bbac1",
   "metadata": {},
   "outputs": [
    {
     "data": {
      "text/html": [
       "<div>\n",
       "<style scoped>\n",
       "    .dataframe tbody tr th:only-of-type {\n",
       "        vertical-align: middle;\n",
       "    }\n",
       "\n",
       "    .dataframe tbody tr th {\n",
       "        vertical-align: top;\n",
       "    }\n",
       "\n",
       "    .dataframe thead th {\n",
       "        text-align: right;\n",
       "    }\n",
       "</style>\n",
       "<table border=\"1\" class=\"dataframe\">\n",
       "  <thead>\n",
       "    <tr style=\"text-align: right;\">\n",
       "      <th></th>\n",
       "      <th>children</th>\n",
       "      <th>days_employed</th>\n",
       "      <th>dob_years</th>\n",
       "      <th>education_id</th>\n",
       "      <th>family_status_id</th>\n",
       "      <th>gender</th>\n",
       "      <th>income_type</th>\n",
       "      <th>debt</th>\n",
       "      <th>total_income</th>\n",
       "      <th>purpose</th>\n",
       "      <th>total_income_category</th>\n",
       "    </tr>\n",
       "  </thead>\n",
       "  <tbody>\n",
       "    <tr>\n",
       "      <th>0</th>\n",
       "      <td>1</td>\n",
       "      <td>8437.673028</td>\n",
       "      <td>42</td>\n",
       "      <td>0</td>\n",
       "      <td>0</td>\n",
       "      <td>F</td>\n",
       "      <td>сотрудник</td>\n",
       "      <td>0</td>\n",
       "      <td>253875</td>\n",
       "      <td>покупка жилья</td>\n",
       "      <td>B</td>\n",
       "    </tr>\n",
       "    <tr>\n",
       "      <th>1</th>\n",
       "      <td>1</td>\n",
       "      <td>4024.803754</td>\n",
       "      <td>36</td>\n",
       "      <td>1</td>\n",
       "      <td>0</td>\n",
       "      <td>F</td>\n",
       "      <td>сотрудник</td>\n",
       "      <td>0</td>\n",
       "      <td>112080</td>\n",
       "      <td>приобретение автомобиля</td>\n",
       "      <td>C</td>\n",
       "    </tr>\n",
       "    <tr>\n",
       "      <th>2</th>\n",
       "      <td>0</td>\n",
       "      <td>5623.422610</td>\n",
       "      <td>33</td>\n",
       "      <td>1</td>\n",
       "      <td>0</td>\n",
       "      <td>M</td>\n",
       "      <td>сотрудник</td>\n",
       "      <td>0</td>\n",
       "      <td>145885</td>\n",
       "      <td>покупка жилья</td>\n",
       "      <td>C</td>\n",
       "    </tr>\n",
       "    <tr>\n",
       "      <th>3</th>\n",
       "      <td>3</td>\n",
       "      <td>4124.747207</td>\n",
       "      <td>32</td>\n",
       "      <td>1</td>\n",
       "      <td>0</td>\n",
       "      <td>M</td>\n",
       "      <td>сотрудник</td>\n",
       "      <td>0</td>\n",
       "      <td>267628</td>\n",
       "      <td>дополнительное образование</td>\n",
       "      <td>B</td>\n",
       "    </tr>\n",
       "    <tr>\n",
       "      <th>4</th>\n",
       "      <td>0</td>\n",
       "      <td>14177.753002</td>\n",
       "      <td>53</td>\n",
       "      <td>1</td>\n",
       "      <td>1</td>\n",
       "      <td>F</td>\n",
       "      <td>пенсионер</td>\n",
       "      <td>0</td>\n",
       "      <td>158616</td>\n",
       "      <td>сыграть свадьбу</td>\n",
       "      <td>C</td>\n",
       "    </tr>\n",
       "  </tbody>\n",
       "</table>\n",
       "</div>"
      ],
      "text/plain": [
       "   children  days_employed  dob_years  education_id  family_status_id gender  \\\n",
       "0         1    8437.673028         42             0                 0      F   \n",
       "1         1    4024.803754         36             1                 0      F   \n",
       "2         0    5623.422610         33             1                 0      M   \n",
       "3         3    4124.747207         32             1                 0      M   \n",
       "4         0   14177.753002         53             1                 1      F   \n",
       "\n",
       "  income_type  debt  total_income                     purpose  \\\n",
       "0   сотрудник     0        253875               покупка жилья   \n",
       "1   сотрудник     0        112080     приобретение автомобиля   \n",
       "2   сотрудник     0        145885               покупка жилья   \n",
       "3   сотрудник     0        267628  дополнительное образование   \n",
       "4   пенсионер     0        158616             сыграть свадьбу   \n",
       "\n",
       "  total_income_category  \n",
       "0                     B  \n",
       "1                     C  \n",
       "2                     C  \n",
       "3                     B  \n",
       "4                     C  "
      ]
     },
     "execution_count": 42,
     "metadata": {},
     "output_type": "execute_result"
    }
   ],
   "source": [
    "df.head()"
   ]
  },
  {
   "cell_type": "markdown",
   "id": "284364f3",
   "metadata": {},
   "source": [
    "### Категоризация целей кредита"
   ]
  },
  {
   "cell_type": "markdown",
   "id": "6d49354b",
   "metadata": {},
   "source": [
    "Далее в целях анализа создадим функцию, которая на основании данных из столбца purpose сформирует новый столбец purpose_category, в который войдут следующие категории: 'операции с автомобилем', 'операции с недвижимостью', 'проведение свадьбы', 'получение образования'."
   ]
  },
  {
   "cell_type": "code",
   "execution_count": 43,
   "id": "7eb96ddc",
   "metadata": {},
   "outputs": [],
   "source": [
    "def purpose_category_func(purpose):\n",
    "    if 'автомобил' in purpose:\n",
    "        return 'операции с автомобилем'\n",
    "    elif 'образован' in purpose:\n",
    "        return 'получение образования'\n",
    "    elif 'свадьб' in purpose:\n",
    "        return 'проведение свадьбы'\n",
    "    else: return 'операции с недвижимостью'\n",
    "\n",
    "df['purpose_category'] = df['purpose'].apply(purpose_category_func)\n",
    "\n",
    "\n",
    "        "
   ]
  },
  {
   "cell_type": "code",
   "execution_count": 44,
   "id": "4d2271c0",
   "metadata": {},
   "outputs": [
    {
     "data": {
      "text/html": [
       "<div>\n",
       "<style scoped>\n",
       "    .dataframe tbody tr th:only-of-type {\n",
       "        vertical-align: middle;\n",
       "    }\n",
       "\n",
       "    .dataframe tbody tr th {\n",
       "        vertical-align: top;\n",
       "    }\n",
       "\n",
       "    .dataframe thead th {\n",
       "        text-align: right;\n",
       "    }\n",
       "</style>\n",
       "<table border=\"1\" class=\"dataframe\">\n",
       "  <thead>\n",
       "    <tr style=\"text-align: right;\">\n",
       "      <th></th>\n",
       "      <th>children</th>\n",
       "      <th>days_employed</th>\n",
       "      <th>dob_years</th>\n",
       "      <th>education_id</th>\n",
       "      <th>family_status_id</th>\n",
       "      <th>gender</th>\n",
       "      <th>income_type</th>\n",
       "      <th>debt</th>\n",
       "      <th>total_income</th>\n",
       "      <th>purpose</th>\n",
       "      <th>total_income_category</th>\n",
       "      <th>purpose_category</th>\n",
       "    </tr>\n",
       "  </thead>\n",
       "  <tbody>\n",
       "    <tr>\n",
       "      <th>0</th>\n",
       "      <td>1</td>\n",
       "      <td>8437.673028</td>\n",
       "      <td>42</td>\n",
       "      <td>0</td>\n",
       "      <td>0</td>\n",
       "      <td>F</td>\n",
       "      <td>сотрудник</td>\n",
       "      <td>0</td>\n",
       "      <td>253875</td>\n",
       "      <td>покупка жилья</td>\n",
       "      <td>B</td>\n",
       "      <td>операции с недвижимостью</td>\n",
       "    </tr>\n",
       "    <tr>\n",
       "      <th>1</th>\n",
       "      <td>1</td>\n",
       "      <td>4024.803754</td>\n",
       "      <td>36</td>\n",
       "      <td>1</td>\n",
       "      <td>0</td>\n",
       "      <td>F</td>\n",
       "      <td>сотрудник</td>\n",
       "      <td>0</td>\n",
       "      <td>112080</td>\n",
       "      <td>приобретение автомобиля</td>\n",
       "      <td>C</td>\n",
       "      <td>операции с автомобилем</td>\n",
       "    </tr>\n",
       "    <tr>\n",
       "      <th>2</th>\n",
       "      <td>0</td>\n",
       "      <td>5623.422610</td>\n",
       "      <td>33</td>\n",
       "      <td>1</td>\n",
       "      <td>0</td>\n",
       "      <td>M</td>\n",
       "      <td>сотрудник</td>\n",
       "      <td>0</td>\n",
       "      <td>145885</td>\n",
       "      <td>покупка жилья</td>\n",
       "      <td>C</td>\n",
       "      <td>операции с недвижимостью</td>\n",
       "    </tr>\n",
       "    <tr>\n",
       "      <th>3</th>\n",
       "      <td>3</td>\n",
       "      <td>4124.747207</td>\n",
       "      <td>32</td>\n",
       "      <td>1</td>\n",
       "      <td>0</td>\n",
       "      <td>M</td>\n",
       "      <td>сотрудник</td>\n",
       "      <td>0</td>\n",
       "      <td>267628</td>\n",
       "      <td>дополнительное образование</td>\n",
       "      <td>B</td>\n",
       "      <td>получение образования</td>\n",
       "    </tr>\n",
       "    <tr>\n",
       "      <th>4</th>\n",
       "      <td>0</td>\n",
       "      <td>14177.753002</td>\n",
       "      <td>53</td>\n",
       "      <td>1</td>\n",
       "      <td>1</td>\n",
       "      <td>F</td>\n",
       "      <td>пенсионер</td>\n",
       "      <td>0</td>\n",
       "      <td>158616</td>\n",
       "      <td>сыграть свадьбу</td>\n",
       "      <td>C</td>\n",
       "      <td>проведение свадьбы</td>\n",
       "    </tr>\n",
       "    <tr>\n",
       "      <th>5</th>\n",
       "      <td>0</td>\n",
       "      <td>926.185831</td>\n",
       "      <td>27</td>\n",
       "      <td>0</td>\n",
       "      <td>1</td>\n",
       "      <td>M</td>\n",
       "      <td>компаньон</td>\n",
       "      <td>0</td>\n",
       "      <td>255763</td>\n",
       "      <td>покупка жилья</td>\n",
       "      <td>B</td>\n",
       "      <td>операции с недвижимостью</td>\n",
       "    </tr>\n",
       "    <tr>\n",
       "      <th>6</th>\n",
       "      <td>0</td>\n",
       "      <td>2879.202052</td>\n",
       "      <td>43</td>\n",
       "      <td>0</td>\n",
       "      <td>0</td>\n",
       "      <td>F</td>\n",
       "      <td>компаньон</td>\n",
       "      <td>0</td>\n",
       "      <td>240525</td>\n",
       "      <td>операции с жильем</td>\n",
       "      <td>B</td>\n",
       "      <td>операции с недвижимостью</td>\n",
       "    </tr>\n",
       "    <tr>\n",
       "      <th>7</th>\n",
       "      <td>0</td>\n",
       "      <td>152.779569</td>\n",
       "      <td>50</td>\n",
       "      <td>1</td>\n",
       "      <td>0</td>\n",
       "      <td>M</td>\n",
       "      <td>сотрудник</td>\n",
       "      <td>0</td>\n",
       "      <td>135823</td>\n",
       "      <td>образование</td>\n",
       "      <td>C</td>\n",
       "      <td>получение образования</td>\n",
       "    </tr>\n",
       "    <tr>\n",
       "      <th>8</th>\n",
       "      <td>2</td>\n",
       "      <td>6929.865299</td>\n",
       "      <td>35</td>\n",
       "      <td>0</td>\n",
       "      <td>1</td>\n",
       "      <td>F</td>\n",
       "      <td>сотрудник</td>\n",
       "      <td>0</td>\n",
       "      <td>95856</td>\n",
       "      <td>на проведение свадьбы</td>\n",
       "      <td>C</td>\n",
       "      <td>проведение свадьбы</td>\n",
       "    </tr>\n",
       "    <tr>\n",
       "      <th>9</th>\n",
       "      <td>0</td>\n",
       "      <td>2188.756445</td>\n",
       "      <td>41</td>\n",
       "      <td>1</td>\n",
       "      <td>0</td>\n",
       "      <td>M</td>\n",
       "      <td>сотрудник</td>\n",
       "      <td>0</td>\n",
       "      <td>144425</td>\n",
       "      <td>покупка жилья для семьи</td>\n",
       "      <td>C</td>\n",
       "      <td>операции с недвижимостью</td>\n",
       "    </tr>\n",
       "  </tbody>\n",
       "</table>\n",
       "</div>"
      ],
      "text/plain": [
       "   children  days_employed  dob_years  education_id  family_status_id gender  \\\n",
       "0         1    8437.673028         42             0                 0      F   \n",
       "1         1    4024.803754         36             1                 0      F   \n",
       "2         0    5623.422610         33             1                 0      M   \n",
       "3         3    4124.747207         32             1                 0      M   \n",
       "4         0   14177.753002         53             1                 1      F   \n",
       "5         0     926.185831         27             0                 1      M   \n",
       "6         0    2879.202052         43             0                 0      F   \n",
       "7         0     152.779569         50             1                 0      M   \n",
       "8         2    6929.865299         35             0                 1      F   \n",
       "9         0    2188.756445         41             1                 0      M   \n",
       "\n",
       "  income_type  debt  total_income                     purpose  \\\n",
       "0   сотрудник     0        253875               покупка жилья   \n",
       "1   сотрудник     0        112080     приобретение автомобиля   \n",
       "2   сотрудник     0        145885               покупка жилья   \n",
       "3   сотрудник     0        267628  дополнительное образование   \n",
       "4   пенсионер     0        158616             сыграть свадьбу   \n",
       "5   компаньон     0        255763               покупка жилья   \n",
       "6   компаньон     0        240525           операции с жильем   \n",
       "7   сотрудник     0        135823                 образование   \n",
       "8   сотрудник     0         95856       на проведение свадьбы   \n",
       "9   сотрудник     0        144425     покупка жилья для семьи   \n",
       "\n",
       "  total_income_category          purpose_category  \n",
       "0                     B  операции с недвижимостью  \n",
       "1                     C    операции с автомобилем  \n",
       "2                     C  операции с недвижимостью  \n",
       "3                     B     получение образования  \n",
       "4                     C        проведение свадьбы  \n",
       "5                     B  операции с недвижимостью  \n",
       "6                     B  операции с недвижимостью  \n",
       "7                     C     получение образования  \n",
       "8                     C        проведение свадьбы  \n",
       "9                     C  операции с недвижимостью  "
      ]
     },
     "execution_count": 44,
     "metadata": {},
     "output_type": "execute_result"
    }
   ],
   "source": [
    "df.head(10)"
   ]
  },
  {
   "cell_type": "markdown",
   "id": "ce21b2f4",
   "metadata": {},
   "source": [
    "### Ответы на вопросы"
   ]
  },
  {
   "cell_type": "markdown",
   "id": "c6d73798",
   "metadata": {},
   "source": [
    "#### Вопрос 1:"
   ]
  },
  {
   "cell_type": "markdown",
   "id": "5ea4c029",
   "metadata": {},
   "source": [
    "С помощью сводной таблицы ответим на вопрос: есть ли зависимость между количеством детей и возвратом кредита в срок."
   ]
  },
  {
   "cell_type": "code",
   "execution_count": 45,
   "id": "d9bb2f80",
   "metadata": {},
   "outputs": [
    {
     "data": {
      "text/html": [
       "<div>\n",
       "<style scoped>\n",
       "    .dataframe tbody tr th:only-of-type {\n",
       "        vertical-align: middle;\n",
       "    }\n",
       "\n",
       "    .dataframe tbody tr th {\n",
       "        vertical-align: top;\n",
       "    }\n",
       "\n",
       "    .dataframe thead th {\n",
       "        text-align: right;\n",
       "    }\n",
       "</style>\n",
       "<table border=\"1\" class=\"dataframe\">\n",
       "  <thead>\n",
       "    <tr style=\"text-align: right;\">\n",
       "      <th>debt</th>\n",
       "      <th>0</th>\n",
       "      <th>1</th>\n",
       "      <th>3</th>\n",
       "    </tr>\n",
       "    <tr>\n",
       "      <th>children</th>\n",
       "      <th></th>\n",
       "      <th></th>\n",
       "      <th></th>\n",
       "    </tr>\n",
       "  </thead>\n",
       "  <tbody>\n",
       "    <tr>\n",
       "      <th>0</th>\n",
       "      <td>13027.0</td>\n",
       "      <td>1063.0</td>\n",
       "      <td>7.544358</td>\n",
       "    </tr>\n",
       "    <tr>\n",
       "      <th>1</th>\n",
       "      <td>4410.0</td>\n",
       "      <td>445.0</td>\n",
       "      <td>9.165808</td>\n",
       "    </tr>\n",
       "    <tr>\n",
       "      <th>2</th>\n",
       "      <td>1926.0</td>\n",
       "      <td>202.0</td>\n",
       "      <td>9.492481</td>\n",
       "    </tr>\n",
       "    <tr>\n",
       "      <th>3</th>\n",
       "      <td>303.0</td>\n",
       "      <td>27.0</td>\n",
       "      <td>8.181818</td>\n",
       "    </tr>\n",
       "    <tr>\n",
       "      <th>4</th>\n",
       "      <td>37.0</td>\n",
       "      <td>4.0</td>\n",
       "      <td>9.756098</td>\n",
       "    </tr>\n",
       "    <tr>\n",
       "      <th>5</th>\n",
       "      <td>9.0</td>\n",
       "      <td>NaN</td>\n",
       "      <td>NaN</td>\n",
       "    </tr>\n",
       "  </tbody>\n",
       "</table>\n",
       "</div>"
      ],
      "text/plain": [
       "debt            0       1         3\n",
       "children                           \n",
       "0         13027.0  1063.0  7.544358\n",
       "1          4410.0   445.0  9.165808\n",
       "2          1926.0   202.0  9.492481\n",
       "3           303.0    27.0  8.181818\n",
       "4            37.0     4.0  9.756098\n",
       "5             9.0     NaN       NaN"
      ]
     },
     "metadata": {},
     "output_type": "display_data"
    }
   ],
   "source": [
    "pivot_table_children = df.pivot_table(index = ['children'], columns = 'debt', values = 'total_income', aggfunc = 'count')\n",
    "pivot_table_children[3] = pivot_table_children[1] / (pivot_table_children[0] + pivot_table_children[1]) *100\n",
    "display(pivot_table_children)\n"
   ]
  },
  {
   "cell_type": "markdown",
   "id": "7f20a020",
   "metadata": {},
   "source": [
    "Самый низкий процент невозврата кредита у клиентов без детей, а самый высокий у клиентов с 4 детьми. Интересно, что у клиентов с 5 детьми нет прострочек по кредиту, но таких семей всего 9.\n",
    "В целом можно утверждать, что у семей с детьми просрочек больше, что может быть связано с наличием значительных расходов на детей."
   ]
  },
  {
   "cell_type": "markdown",
   "id": "677fb109",
   "metadata": {},
   "source": [
    "#### Вопрос 2:"
   ]
  },
  {
   "cell_type": "markdown",
   "id": "472f74ac",
   "metadata": {},
   "source": [
    "Есть ли зависимость между семейным положением и возвратом кредита в срок?"
   ]
  },
  {
   "cell_type": "code",
   "execution_count": 46,
   "id": "ea9c081a",
   "metadata": {},
   "outputs": [
    {
     "data": {
      "text/html": [
       "<div>\n",
       "<style scoped>\n",
       "    .dataframe tbody tr th:only-of-type {\n",
       "        vertical-align: middle;\n",
       "    }\n",
       "\n",
       "    .dataframe tbody tr th {\n",
       "        vertical-align: top;\n",
       "    }\n",
       "\n",
       "    .dataframe thead th {\n",
       "        text-align: right;\n",
       "    }\n",
       "</style>\n",
       "<table border=\"1\" class=\"dataframe\">\n",
       "  <thead>\n",
       "    <tr style=\"text-align: right;\">\n",
       "      <th>debt</th>\n",
       "      <th>0</th>\n",
       "      <th>1</th>\n",
       "      <th>3</th>\n",
       "    </tr>\n",
       "    <tr>\n",
       "      <th>family_status_id</th>\n",
       "      <th></th>\n",
       "      <th></th>\n",
       "      <th></th>\n",
       "    </tr>\n",
       "  </thead>\n",
       "  <tbody>\n",
       "    <tr>\n",
       "      <th>0</th>\n",
       "      <td>11408</td>\n",
       "      <td>931</td>\n",
       "      <td>7.545182</td>\n",
       "    </tr>\n",
       "    <tr>\n",
       "      <th>1</th>\n",
       "      <td>3762</td>\n",
       "      <td>388</td>\n",
       "      <td>9.349398</td>\n",
       "    </tr>\n",
       "    <tr>\n",
       "      <th>2</th>\n",
       "      <td>896</td>\n",
       "      <td>63</td>\n",
       "      <td>6.569343</td>\n",
       "    </tr>\n",
       "    <tr>\n",
       "      <th>3</th>\n",
       "      <td>1110</td>\n",
       "      <td>85</td>\n",
       "      <td>7.112971</td>\n",
       "    </tr>\n",
       "    <tr>\n",
       "      <th>4</th>\n",
       "      <td>2536</td>\n",
       "      <td>274</td>\n",
       "      <td>9.750890</td>\n",
       "    </tr>\n",
       "  </tbody>\n",
       "</table>\n",
       "</div>"
      ],
      "text/plain": [
       "debt                  0    1         3\n",
       "family_status_id                      \n",
       "0                 11408  931  7.545182\n",
       "1                  3762  388  9.349398\n",
       "2                   896   63  6.569343\n",
       "3                  1110   85  7.112971\n",
       "4                  2536  274  9.750890"
      ]
     },
     "metadata": {},
     "output_type": "display_data"
    }
   ],
   "source": [
    "pivot_table_family_status = df.pivot_table(index = ['family_status_id'], columns = 'debt', values = 'total_income', aggfunc = 'count')\n",
    "pivot_table_family_status[3] = pivot_table_family_status[1] / (pivot_table_family_status[0] + pivot_table_family_status[1]) * 100\n",
    "display(pivot_table_family_status)"
   ]
  },
  {
   "cell_type": "code",
   "execution_count": 47,
   "id": "5e4951a5",
   "metadata": {},
   "outputs": [
    {
     "data": {
      "text/html": [
       "<div>\n",
       "<style scoped>\n",
       "    .dataframe tbody tr th:only-of-type {\n",
       "        vertical-align: middle;\n",
       "    }\n",
       "\n",
       "    .dataframe tbody tr th {\n",
       "        vertical-align: top;\n",
       "    }\n",
       "\n",
       "    .dataframe thead th {\n",
       "        text-align: right;\n",
       "    }\n",
       "</style>\n",
       "<table border=\"1\" class=\"dataframe\">\n",
       "  <thead>\n",
       "    <tr style=\"text-align: right;\">\n",
       "      <th></th>\n",
       "      <th>family_status_id</th>\n",
       "      <th>0</th>\n",
       "      <th>1</th>\n",
       "      <th>3</th>\n",
       "      <th>family_status</th>\n",
       "    </tr>\n",
       "  </thead>\n",
       "  <tbody>\n",
       "    <tr>\n",
       "      <th>0</th>\n",
       "      <td>0</td>\n",
       "      <td>11408</td>\n",
       "      <td>931</td>\n",
       "      <td>7.545182</td>\n",
       "      <td>женат / замужем</td>\n",
       "    </tr>\n",
       "    <tr>\n",
       "      <th>1</th>\n",
       "      <td>1</td>\n",
       "      <td>3762</td>\n",
       "      <td>388</td>\n",
       "      <td>9.349398</td>\n",
       "      <td>гражданский брак</td>\n",
       "    </tr>\n",
       "    <tr>\n",
       "      <th>2</th>\n",
       "      <td>2</td>\n",
       "      <td>896</td>\n",
       "      <td>63</td>\n",
       "      <td>6.569343</td>\n",
       "      <td>вдовец / вдова</td>\n",
       "    </tr>\n",
       "    <tr>\n",
       "      <th>3</th>\n",
       "      <td>3</td>\n",
       "      <td>1110</td>\n",
       "      <td>85</td>\n",
       "      <td>7.112971</td>\n",
       "      <td>в разводе</td>\n",
       "    </tr>\n",
       "    <tr>\n",
       "      <th>4</th>\n",
       "      <td>4</td>\n",
       "      <td>2536</td>\n",
       "      <td>274</td>\n",
       "      <td>9.750890</td>\n",
       "      <td>Не женат / не замужем</td>\n",
       "    </tr>\n",
       "  </tbody>\n",
       "</table>\n",
       "</div>"
      ],
      "text/plain": [
       "   family_status_id      0    1         3          family_status\n",
       "0                 0  11408  931  7.545182        женат / замужем\n",
       "1                 1   3762  388  9.349398       гражданский брак\n",
       "2                 2    896   63  6.569343         вдовец / вдова\n",
       "3                 3   1110   85  7.112971              в разводе\n",
       "4                 4   2536  274  9.750890  Не женат / не замужем"
      ]
     },
     "metadata": {},
     "output_type": "display_data"
    }
   ],
   "source": [
    "pivot_table_family_status = pivot_table_family_status.merge(family_status_dict, on = 'family_status_id', how = 'left' )\n",
    "display(pivot_table_family_status)"
   ]
  },
  {
   "cell_type": "markdown",
   "id": "8deed725",
   "metadata": {},
   "source": [
    "Самый низкий процент просрочки платежей у вдовых, а самый высокий у не состоящих в браке или живущих в гражданском браке. Женатые и разведенные показывают примерно одинаковые значения. "
   ]
  },
  {
   "cell_type": "markdown",
   "id": "8b6784d2",
   "metadata": {},
   "source": [
    "#### Вопрос 3:"
   ]
  },
  {
   "cell_type": "markdown",
   "id": "47d15a4e",
   "metadata": {},
   "source": [
    "Есть ли зависимость между уровнем дохода и возвратом кредита в срок?"
   ]
  },
  {
   "cell_type": "code",
   "execution_count": 48,
   "id": "fbe4cfd5",
   "metadata": {},
   "outputs": [
    {
     "data": {
      "text/html": [
       "<div>\n",
       "<style scoped>\n",
       "    .dataframe tbody tr th:only-of-type {\n",
       "        vertical-align: middle;\n",
       "    }\n",
       "\n",
       "    .dataframe tbody tr th {\n",
       "        vertical-align: top;\n",
       "    }\n",
       "\n",
       "    .dataframe thead th {\n",
       "        text-align: right;\n",
       "    }\n",
       "</style>\n",
       "<table border=\"1\" class=\"dataframe\">\n",
       "  <thead>\n",
       "    <tr style=\"text-align: right;\">\n",
       "      <th>debt</th>\n",
       "      <th>0</th>\n",
       "      <th>1</th>\n",
       "      <th>3</th>\n",
       "    </tr>\n",
       "    <tr>\n",
       "      <th>total_income_category</th>\n",
       "      <th></th>\n",
       "      <th></th>\n",
       "      <th></th>\n",
       "    </tr>\n",
       "  </thead>\n",
       "  <tbody>\n",
       "    <tr>\n",
       "      <th>A</th>\n",
       "      <td>23</td>\n",
       "      <td>2</td>\n",
       "      <td>8.000000</td>\n",
       "    </tr>\n",
       "    <tr>\n",
       "      <th>B</th>\n",
       "      <td>4686</td>\n",
       "      <td>356</td>\n",
       "      <td>7.060690</td>\n",
       "    </tr>\n",
       "    <tr>\n",
       "      <th>C</th>\n",
       "      <td>14654</td>\n",
       "      <td>1360</td>\n",
       "      <td>8.492569</td>\n",
       "    </tr>\n",
       "    <tr>\n",
       "      <th>D</th>\n",
       "      <td>329</td>\n",
       "      <td>21</td>\n",
       "      <td>6.000000</td>\n",
       "    </tr>\n",
       "    <tr>\n",
       "      <th>E</th>\n",
       "      <td>20</td>\n",
       "      <td>2</td>\n",
       "      <td>9.090909</td>\n",
       "    </tr>\n",
       "  </tbody>\n",
       "</table>\n",
       "</div>"
      ],
      "text/plain": [
       "debt                       0     1         3\n",
       "total_income_category                       \n",
       "A                         23     2  8.000000\n",
       "B                       4686   356  7.060690\n",
       "C                      14654  1360  8.492569\n",
       "D                        329    21  6.000000\n",
       "E                         20     2  9.090909"
      ]
     },
     "metadata": {},
     "output_type": "display_data"
    }
   ],
   "source": [
    "pivot_table_income = df.pivot_table(index = ['total_income_category'], columns = 'debt', values = 'total_income', aggfunc = 'count')\n",
    "pivot_table_income[3] = pivot_table_income[1] / (pivot_table_income[0] + pivot_table_income[1]) * 100\n",
    "display(pivot_table_income)"
   ]
  },
  {
   "cell_type": "markdown",
   "id": "9e88ff38",
   "metadata": {},
   "source": [
    "Самый высокий процент невозврата кредита в срок у клиентов с самым низким уровнем дохода. А самый низкий у клиентов с доходом от 30001 до 50000 руб. Люди, зарабатывающие выше 50000 не платят по кредиту в срок в среднем в 7-8 случаях из 100."
   ]
  },
  {
   "cell_type": "markdown",
   "id": "6e7c9a8b",
   "metadata": {},
   "source": [
    "#### Вопрос 4:"
   ]
  },
  {
   "cell_type": "markdown",
   "id": "677a18fa",
   "metadata": {},
   "source": [
    "Как разные цели кредита влияют на его возврат в срок?"
   ]
  },
  {
   "cell_type": "code",
   "execution_count": 49,
   "id": "b5b8cb3b",
   "metadata": {},
   "outputs": [
    {
     "data": {
      "text/html": [
       "<div>\n",
       "<style scoped>\n",
       "    .dataframe tbody tr th:only-of-type {\n",
       "        vertical-align: middle;\n",
       "    }\n",
       "\n",
       "    .dataframe tbody tr th {\n",
       "        vertical-align: top;\n",
       "    }\n",
       "\n",
       "    .dataframe thead th {\n",
       "        text-align: right;\n",
       "    }\n",
       "</style>\n",
       "<table border=\"1\" class=\"dataframe\">\n",
       "  <thead>\n",
       "    <tr style=\"text-align: right;\">\n",
       "      <th>debt</th>\n",
       "      <th>0</th>\n",
       "      <th>1</th>\n",
       "      <th>3</th>\n",
       "    </tr>\n",
       "    <tr>\n",
       "      <th>purpose_category</th>\n",
       "      <th></th>\n",
       "      <th></th>\n",
       "      <th></th>\n",
       "    </tr>\n",
       "  </thead>\n",
       "  <tbody>\n",
       "    <tr>\n",
       "      <th>операции с автомобилем</th>\n",
       "      <td>3903</td>\n",
       "      <td>403</td>\n",
       "      <td>9.359034</td>\n",
       "    </tr>\n",
       "    <tr>\n",
       "      <th>операции с недвижимостью</th>\n",
       "      <td>10029</td>\n",
       "      <td>782</td>\n",
       "      <td>7.233373</td>\n",
       "    </tr>\n",
       "    <tr>\n",
       "      <th>получение образования</th>\n",
       "      <td>3643</td>\n",
       "      <td>370</td>\n",
       "      <td>9.220035</td>\n",
       "    </tr>\n",
       "    <tr>\n",
       "      <th>проведение свадьбы</th>\n",
       "      <td>2137</td>\n",
       "      <td>186</td>\n",
       "      <td>8.006888</td>\n",
       "    </tr>\n",
       "  </tbody>\n",
       "</table>\n",
       "</div>"
      ],
      "text/plain": [
       "debt                          0    1         3\n",
       "purpose_category                              \n",
       "операции с автомобилем     3903  403  9.359034\n",
       "операции с недвижимостью  10029  782  7.233373\n",
       "получение образования      3643  370  9.220035\n",
       "проведение свадьбы         2137  186  8.006888"
      ]
     },
     "metadata": {},
     "output_type": "display_data"
    }
   ],
   "source": [
    "pivot_table_purpose = df.pivot_table(index = ['purpose_category'], columns = 'debt', values = 'total_income', aggfunc = 'count')\n",
    "pivot_table_purpose[3] = pivot_table_purpose[1] / (pivot_table_purpose[0] + pivot_table_purpose[1]) * 100\n",
    "display(pivot_table_purpose)"
   ]
  },
  {
   "cell_type": "markdown",
   "id": "302f8a28",
   "metadata": {},
   "source": [
    "Наибольший процент просрочки выплат по кредиту наблюдается при операциях с автомобилем и получении образования, наименьший - при операциях с недвижимостью и проведении свадьбы. Возможно, это объясняется тем, что покупка недвижимости, как правило, обдуманный шаг, а свадебный кредит закрывается за счет подаренных на свадьбу денег.\n",
    "В то время, как проценты на потребительские кредиты для проведения операций с автомобилем выше, а получение образования может быть связано с сокращением заработка из-за необходимости тратить время на учебу. "
   ]
  },
  {
   "cell_type": "markdown",
   "id": "11b7d09b",
   "metadata": {},
   "source": [
    "## Общий вывод:"
   ]
  },
  {
   "cell_type": "markdown",
   "id": "d428c979",
   "metadata": {},
   "source": [
    "Цель проведенного исследования: разобраться, влияет ли семейное положение и количество детей клиента на факт погашения кредита в срок. Для анализа были использованы данные от банка — статистика о платёжеспособности клиентов.  \n",
    "\n",
    "В процессе предобработки данных были выявлены пропуски в двух столбцах.  Один из них — total_income, второй -  days_employed. Пропуски в первом столбце мы заполнили медианными значения, предварительно сгруппировав данные по типу занятости, поскольку это влияет на уровень дохода клиента.\n",
    "\n",
    "\n",
    "В столбце days_employed пропуски заполнили также медианными значениями, предварительно устранив аномалии: отрицательные значения и экстремально высокие значения. \n",
    "\n",
    "Кроме того, были обработаны дубликаты в других столбцах с использоанием метода lower() и duplicated(). \n",
    "\n",
    "В результате исследования были получены следующие выводы:\n",
    "\n",
    "1. Самый низкий процент просрочки платежей у вдовых - 6,6%, а самый высокий у не состоящих в браке или живущих в гражданском браке, 9,6% и 9,4% соответственно. Женатые и разведенные показывают примерно одинаковые значения - 7,6% и 7,1%.\n",
    "2.  Самый низкий процент невозврата кредита у клиентов без детей - 7,5%, а самый высокий у клиентов с 4 детьми - 9,6%. Интересно, что у клиентов с 5 детьми нет прострочек по кредиту, но таких семей мало, всего 9.\n",
    "В целом можно утверждать, что у семей с детьми просрочек больше, что может быть связано с наличием значительных расходов на детей.\n",
    "3. Самый высокий процент невозврата кредита в срок у клиентов с самым низким уровнем дохода 9,1%. А самый низкий у клиентов с доходом от 30001 до 50000 руб. - 6%. Люди, зарабатывющие выше 50000 не платят по кредиту в срок в среднем в 7-8 случаях из 100.\n",
    "4. Наибольший процент просрочки выплат по кредиту наблюдается при операциях с автомобилем и получении образования - 9,4% и 9,2%. Наименьший - при операциях с недвижимостью и проведении свадьбы - 7,2% и 8%. Возможно, это объясняется тем, что покупка недвижимости, как правило, обдуманный шаг, а свадебный кредит закрывается за счет подаренных на свадьбу денег. В то время, как проценты на потребительские кредиты для проведения операций с автомобилем выше, а получение образования может быть связано с сокращением заработка из-за необходимости тратить время на учебу.\n",
    "\n",
    "Таким образом, портрет наиболее ответственного клиента выглядит следующим образом: человек в браке (или вдовый), без детей, имеющий средний или высокий доход, берущий кредит на операции с недвижимостью.\n",
    "Клиент, который с более высокой вероятностью задержит возвращения кредита: не состоящий в браке или живущий в гражданском браке, с детьми (особенно с 4), имеющий низкий уровень дохода и берущий кредит на операции с автомобилем или получение образования.\n",
    "\n",
    "\n",
    "\n",
    "\n",
    "\n"
   ]
  }
 ],
 "metadata": {
  "ExecuteTimeLog": [
   {
    "duration": 470,
    "start_time": "2022-05-09T01:19:28.467Z"
   },
   {
    "duration": 77,
    "start_time": "2022-05-09T01:19:39.574Z"
   },
   {
    "duration": 21,
    "start_time": "2022-05-09T01:21:11.786Z"
   },
   {
    "duration": 229,
    "start_time": "2022-05-09T01:25:04.373Z"
   },
   {
    "duration": 170,
    "start_time": "2022-05-09T01:25:20.308Z"
   },
   {
    "duration": 3,
    "start_time": "2022-05-09T01:30:34.382Z"
   },
   {
    "duration": 3,
    "start_time": "2022-05-09T01:30:37.230Z"
   },
   {
    "duration": 3,
    "start_time": "2022-05-09T01:31:00.862Z"
   },
   {
    "duration": 3,
    "start_time": "2022-05-09T01:31:22.588Z"
   },
   {
    "duration": 172,
    "start_time": "2022-05-09T01:54:44.399Z"
   },
   {
    "duration": 80,
    "start_time": "2022-05-09T02:00:37.843Z"
   },
   {
    "duration": 14,
    "start_time": "2022-05-09T02:00:41.157Z"
   },
   {
    "duration": 3,
    "start_time": "2022-05-09T02:00:46.221Z"
   },
   {
    "duration": 7,
    "start_time": "2022-05-09T02:00:49.274Z"
   },
   {
    "duration": 21,
    "start_time": "2022-05-09T02:01:59.954Z"
   },
   {
    "duration": 7,
    "start_time": "2022-05-09T02:04:25.901Z"
   },
   {
    "duration": 15,
    "start_time": "2022-05-09T02:04:28.749Z"
   },
   {
    "duration": 171,
    "start_time": "2022-05-09T02:13:01.211Z"
   },
   {
    "duration": 14,
    "start_time": "2022-05-09T02:37:54.795Z"
   },
   {
    "duration": 165,
    "start_time": "2022-05-09T03:06:36.933Z"
   },
   {
    "duration": 6,
    "start_time": "2022-05-09T03:06:55.047Z"
   },
   {
    "duration": 22,
    "start_time": "2022-05-09T03:07:12.062Z"
   },
   {
    "duration": 22,
    "start_time": "2022-05-09T03:10:04.489Z"
   },
   {
    "duration": 23,
    "start_time": "2022-05-09T03:18:30.778Z"
   },
   {
    "duration": 23,
    "start_time": "2022-05-09T03:19:33.750Z"
   },
   {
    "duration": 176,
    "start_time": "2022-05-09T03:34:03.481Z"
   },
   {
    "duration": 161,
    "start_time": "2022-05-09T03:34:18.435Z"
   },
   {
    "duration": 161,
    "start_time": "2022-05-09T03:34:32.134Z"
   },
   {
    "duration": 3,
    "start_time": "2022-05-09T03:42:40.938Z"
   },
   {
    "duration": 3,
    "start_time": "2022-05-09T03:42:44.125Z"
   },
   {
    "duration": 13,
    "start_time": "2022-05-09T03:43:59.484Z"
   },
   {
    "duration": 13,
    "start_time": "2022-05-09T03:44:02.137Z"
   },
   {
    "duration": 12,
    "start_time": "2022-05-09T03:44:33.156Z"
   },
   {
    "duration": 153,
    "start_time": "2022-05-09T03:45:33.757Z"
   },
   {
    "duration": 9,
    "start_time": "2022-05-09T03:45:47.241Z"
   },
   {
    "duration": 9,
    "start_time": "2022-05-09T03:46:19.741Z"
   },
   {
    "duration": 25,
    "start_time": "2022-05-09T03:54:06.557Z"
   },
   {
    "duration": 23,
    "start_time": "2022-05-09T03:54:13.439Z"
   },
   {
    "duration": 22,
    "start_time": "2022-05-09T03:56:46.641Z"
   },
   {
    "duration": 22,
    "start_time": "2022-05-09T03:56:50.396Z"
   },
   {
    "duration": 22,
    "start_time": "2022-05-09T03:56:56.841Z"
   },
   {
    "duration": 18,
    "start_time": "2022-05-09T03:58:54.315Z"
   },
   {
    "duration": 17,
    "start_time": "2022-05-09T03:59:26.856Z"
   },
   {
    "duration": 23,
    "start_time": "2022-05-09T03:59:49.224Z"
   },
   {
    "duration": 45,
    "start_time": "2022-05-10T06:53:22.964Z"
   },
   {
    "duration": 7,
    "start_time": "2022-05-10T06:56:29.786Z"
   },
   {
    "duration": 435,
    "start_time": "2022-05-10T06:56:38.371Z"
   },
   {
    "duration": 18,
    "start_time": "2022-05-10T06:56:40.131Z"
   },
   {
    "duration": 3,
    "start_time": "2022-05-10T06:56:42.561Z"
   },
   {
    "duration": 7,
    "start_time": "2022-05-10T06:56:43.755Z"
   },
   {
    "duration": 15,
    "start_time": "2022-05-10T06:56:44.791Z"
   },
   {
    "duration": 13,
    "start_time": "2022-05-10T06:56:48.404Z"
   },
   {
    "duration": 22,
    "start_time": "2022-05-10T06:56:50.822Z"
   },
   {
    "duration": 43,
    "start_time": "2022-05-10T06:56:53.842Z"
   },
   {
    "duration": 4,
    "start_time": "2022-05-10T06:59:46.176Z"
   },
   {
    "duration": 13,
    "start_time": "2022-05-10T07:00:35.440Z"
   },
   {
    "duration": 18,
    "start_time": "2022-05-10T07:03:20.000Z"
   },
   {
    "duration": 16,
    "start_time": "2022-05-10T07:03:39.016Z"
   },
   {
    "duration": 15,
    "start_time": "2022-05-10T07:03:50.276Z"
   },
   {
    "duration": 16,
    "start_time": "2022-05-10T07:03:58.229Z"
   },
   {
    "duration": 19,
    "start_time": "2022-05-10T07:07:15.356Z"
   },
   {
    "duration": 29,
    "start_time": "2022-05-10T07:07:38.023Z"
   },
   {
    "duration": 5,
    "start_time": "2022-05-10T07:11:33.531Z"
   },
   {
    "duration": 4,
    "start_time": "2022-05-10T07:15:14.909Z"
   },
   {
    "duration": 3,
    "start_time": "2022-05-10T07:15:17.630Z"
   },
   {
    "duration": 103,
    "start_time": "2022-05-10T07:15:20.466Z"
   },
   {
    "duration": 4,
    "start_time": "2022-05-10T07:15:21.176Z"
   },
   {
    "duration": 5,
    "start_time": "2022-05-10T07:15:35.033Z"
   },
   {
    "duration": 101,
    "start_time": "2022-05-10T07:15:36.456Z"
   },
   {
    "duration": 4,
    "start_time": "2022-05-10T07:15:46.268Z"
   },
   {
    "duration": 4,
    "start_time": "2022-05-10T07:15:48.188Z"
   },
   {
    "duration": 5,
    "start_time": "2022-05-10T07:16:08.219Z"
   },
   {
    "duration": 4,
    "start_time": "2022-05-10T07:16:09.836Z"
   },
   {
    "duration": 5,
    "start_time": "2022-05-10T07:17:19.108Z"
   },
   {
    "duration": 8,
    "start_time": "2022-05-10T07:17:42.279Z"
   },
   {
    "duration": 5,
    "start_time": "2022-05-10T07:18:48.473Z"
   },
   {
    "duration": 10,
    "start_time": "2022-05-10T07:22:08.003Z"
   },
   {
    "duration": 15,
    "start_time": "2022-05-10T07:23:56.008Z"
   },
   {
    "duration": 10,
    "start_time": "2022-05-10T07:24:35.033Z"
   },
   {
    "duration": 8,
    "start_time": "2022-05-10T07:24:44.684Z"
   },
   {
    "duration": 8,
    "start_time": "2022-05-10T07:26:40.472Z"
   },
   {
    "duration": 8,
    "start_time": "2022-05-10T07:32:17.752Z"
   },
   {
    "duration": 8,
    "start_time": "2022-05-10T07:32:28.509Z"
   },
   {
    "duration": 439,
    "start_time": "2022-05-10T07:32:35.979Z"
   },
   {
    "duration": 19,
    "start_time": "2022-05-10T07:32:36.420Z"
   },
   {
    "duration": 8,
    "start_time": "2022-05-10T07:32:36.440Z"
   },
   {
    "duration": 8,
    "start_time": "2022-05-10T07:32:36.450Z"
   },
   {
    "duration": 14,
    "start_time": "2022-05-10T07:32:36.459Z"
   },
   {
    "duration": 19,
    "start_time": "2022-05-10T07:32:36.474Z"
   },
   {
    "duration": 58,
    "start_time": "2022-05-10T07:32:36.495Z"
   },
   {
    "duration": 4,
    "start_time": "2022-05-10T07:32:36.555Z"
   },
   {
    "duration": 99,
    "start_time": "2022-05-10T07:32:36.561Z"
   },
   {
    "duration": 0,
    "start_time": "2022-05-10T07:32:36.662Z"
   },
   {
    "duration": 0,
    "start_time": "2022-05-10T07:32:36.665Z"
   },
   {
    "duration": 0,
    "start_time": "2022-05-10T07:32:36.666Z"
   },
   {
    "duration": 0,
    "start_time": "2022-05-10T07:32:36.668Z"
   },
   {
    "duration": 0,
    "start_time": "2022-05-10T07:32:36.669Z"
   },
   {
    "duration": 0,
    "start_time": "2022-05-10T07:32:36.671Z"
   },
   {
    "duration": 0,
    "start_time": "2022-05-10T07:32:36.672Z"
   },
   {
    "duration": 0,
    "start_time": "2022-05-10T07:32:36.673Z"
   },
   {
    "duration": 59,
    "start_time": "2022-05-10T07:32:45.601Z"
   },
   {
    "duration": 12,
    "start_time": "2022-05-10T07:32:47.200Z"
   },
   {
    "duration": 3,
    "start_time": "2022-05-10T07:32:50.121Z"
   },
   {
    "duration": 6,
    "start_time": "2022-05-10T07:32:51.686Z"
   },
   {
    "duration": 13,
    "start_time": "2022-05-10T07:32:53.728Z"
   },
   {
    "duration": 13,
    "start_time": "2022-05-10T07:32:56.743Z"
   },
   {
    "duration": 19,
    "start_time": "2022-05-10T07:32:58.745Z"
   },
   {
    "duration": 4,
    "start_time": "2022-05-10T07:33:11.448Z"
   },
   {
    "duration": 96,
    "start_time": "2022-05-10T07:33:12.580Z"
   },
   {
    "duration": 14,
    "start_time": "2022-05-10T07:34:05.823Z"
   },
   {
    "duration": 16,
    "start_time": "2022-05-10T07:34:08.043Z"
   },
   {
    "duration": 28,
    "start_time": "2022-05-10T07:34:09.216Z"
   },
   {
    "duration": 4,
    "start_time": "2022-05-10T07:34:10.343Z"
   },
   {
    "duration": 4,
    "start_time": "2022-05-10T07:34:11.481Z"
   },
   {
    "duration": 4,
    "start_time": "2022-05-10T07:34:12.666Z"
   },
   {
    "duration": 5,
    "start_time": "2022-05-10T07:34:14.528Z"
   },
   {
    "duration": 63,
    "start_time": "2022-05-10T07:34:16.553Z"
   },
   {
    "duration": 12,
    "start_time": "2022-05-10T07:35:20.456Z"
   },
   {
    "duration": 7,
    "start_time": "2022-05-10T07:35:49.718Z"
   },
   {
    "duration": 4,
    "start_time": "2022-05-10T07:37:40.691Z"
   },
   {
    "duration": 5,
    "start_time": "2022-05-10T07:38:23.651Z"
   },
   {
    "duration": 4,
    "start_time": "2022-05-10T07:40:31.417Z"
   },
   {
    "duration": 5,
    "start_time": "2022-05-10T07:40:49.085Z"
   },
   {
    "duration": 5,
    "start_time": "2022-05-10T07:41:57.753Z"
   },
   {
    "duration": 6,
    "start_time": "2022-05-10T07:42:38.078Z"
   },
   {
    "duration": 99,
    "start_time": "2022-05-10T08:14:26.457Z"
   },
   {
    "duration": 106,
    "start_time": "2022-05-10T08:15:21.219Z"
   },
   {
    "duration": 118,
    "start_time": "2022-05-10T08:15:55.424Z"
   },
   {
    "duration": 99,
    "start_time": "2022-05-10T08:16:39.698Z"
   },
   {
    "duration": 1796,
    "start_time": "2022-05-10T08:16:58.099Z"
   },
   {
    "duration": 103,
    "start_time": "2022-05-10T08:17:38.648Z"
   },
   {
    "duration": 104,
    "start_time": "2022-05-10T08:18:39.042Z"
   },
   {
    "duration": 100,
    "start_time": "2022-05-10T08:19:09.686Z"
   },
   {
    "duration": 99,
    "start_time": "2022-05-10T08:19:28.428Z"
   },
   {
    "duration": 101,
    "start_time": "2022-05-10T08:19:37.793Z"
   },
   {
    "duration": 104,
    "start_time": "2022-05-10T08:20:48.810Z"
   },
   {
    "duration": 105,
    "start_time": "2022-05-10T08:21:51.168Z"
   },
   {
    "duration": 95,
    "start_time": "2022-05-10T09:27:25.872Z"
   },
   {
    "duration": 779,
    "start_time": "2022-05-10T09:27:33.980Z"
   },
   {
    "duration": 4,
    "start_time": "2022-05-10T09:28:04.061Z"
   },
   {
    "duration": 8,
    "start_time": "2022-05-10T09:28:22.506Z"
   },
   {
    "duration": 8,
    "start_time": "2022-05-10T09:29:43.456Z"
   },
   {
    "duration": 7,
    "start_time": "2022-05-10T09:30:27.373Z"
   },
   {
    "duration": 4,
    "start_time": "2022-05-10T09:30:39.713Z"
   },
   {
    "duration": 3,
    "start_time": "2022-05-10T09:30:59.431Z"
   },
   {
    "duration": 10,
    "start_time": "2022-05-10T09:33:57.214Z"
   },
   {
    "duration": 10,
    "start_time": "2022-05-10T09:34:31.928Z"
   },
   {
    "duration": 8,
    "start_time": "2022-05-10T09:36:02.891Z"
   },
   {
    "duration": 11,
    "start_time": "2022-05-10T09:36:21.119Z"
   },
   {
    "duration": 14,
    "start_time": "2022-05-10T09:39:31.078Z"
   },
   {
    "duration": 3,
    "start_time": "2022-05-10T09:41:18.591Z"
   },
   {
    "duration": 13,
    "start_time": "2022-05-10T09:42:20.898Z"
   },
   {
    "duration": 12,
    "start_time": "2022-05-10T09:43:16.588Z"
   },
   {
    "duration": 10,
    "start_time": "2022-05-10T09:43:20.691Z"
   },
   {
    "duration": 11,
    "start_time": "2022-05-10T09:46:21.843Z"
   },
   {
    "duration": 10,
    "start_time": "2022-05-10T09:46:31.233Z"
   },
   {
    "duration": 10,
    "start_time": "2022-05-10T09:46:36.113Z"
   },
   {
    "duration": 13,
    "start_time": "2022-05-10T09:48:20.841Z"
   },
   {
    "duration": 4,
    "start_time": "2022-05-10T09:48:52.760Z"
   },
   {
    "duration": 5,
    "start_time": "2022-05-10T09:51:34.049Z"
   },
   {
    "duration": 440,
    "start_time": "2022-05-10T09:54:21.565Z"
   },
   {
    "duration": 17,
    "start_time": "2022-05-10T09:54:22.007Z"
   },
   {
    "duration": 3,
    "start_time": "2022-05-10T09:54:22.025Z"
   },
   {
    "duration": 17,
    "start_time": "2022-05-10T09:54:22.030Z"
   },
   {
    "duration": 17,
    "start_time": "2022-05-10T09:54:22.049Z"
   },
   {
    "duration": 12,
    "start_time": "2022-05-10T09:54:22.067Z"
   },
   {
    "duration": 21,
    "start_time": "2022-05-10T09:54:22.081Z"
   },
   {
    "duration": 3,
    "start_time": "2022-05-10T09:54:22.103Z"
   },
   {
    "duration": 40,
    "start_time": "2022-05-10T09:54:22.108Z"
   },
   {
    "duration": 17,
    "start_time": "2022-05-10T09:54:22.151Z"
   },
   {
    "duration": 28,
    "start_time": "2022-05-10T09:54:22.169Z"
   },
   {
    "duration": 4,
    "start_time": "2022-05-10T09:54:22.199Z"
   },
   {
    "duration": 5,
    "start_time": "2022-05-10T09:54:22.204Z"
   },
   {
    "duration": 36,
    "start_time": "2022-05-10T09:54:22.211Z"
   },
   {
    "duration": 6,
    "start_time": "2022-05-10T09:54:22.249Z"
   },
   {
    "duration": 12,
    "start_time": "2022-05-10T09:54:22.257Z"
   },
   {
    "duration": 7,
    "start_time": "2022-05-10T09:54:22.271Z"
   },
   {
    "duration": 6,
    "start_time": "2022-05-10T09:54:22.280Z"
   },
   {
    "duration": 5,
    "start_time": "2022-05-10T09:54:22.288Z"
   },
   {
    "duration": 105,
    "start_time": "2022-05-10T09:54:22.295Z"
   },
   {
    "duration": 0,
    "start_time": "2022-05-10T09:54:22.401Z"
   },
   {
    "duration": 0,
    "start_time": "2022-05-10T09:54:22.402Z"
   },
   {
    "duration": 0,
    "start_time": "2022-05-10T09:54:22.403Z"
   },
   {
    "duration": 0,
    "start_time": "2022-05-10T09:54:22.404Z"
   },
   {
    "duration": 0,
    "start_time": "2022-05-10T09:54:22.405Z"
   },
   {
    "duration": 0,
    "start_time": "2022-05-10T09:54:22.406Z"
   },
   {
    "duration": 0,
    "start_time": "2022-05-10T09:54:22.407Z"
   },
   {
    "duration": 0,
    "start_time": "2022-05-10T09:54:22.407Z"
   },
   {
    "duration": 58,
    "start_time": "2022-05-10T09:54:28.228Z"
   },
   {
    "duration": 13,
    "start_time": "2022-05-10T09:54:29.289Z"
   },
   {
    "duration": 3,
    "start_time": "2022-05-10T09:54:34.494Z"
   },
   {
    "duration": 6,
    "start_time": "2022-05-10T09:54:36.037Z"
   },
   {
    "duration": 12,
    "start_time": "2022-05-10T09:54:36.927Z"
   },
   {
    "duration": 13,
    "start_time": "2022-05-10T09:54:39.817Z"
   },
   {
    "duration": 19,
    "start_time": "2022-05-10T09:54:42.288Z"
   },
   {
    "duration": 3,
    "start_time": "2022-05-10T09:54:46.034Z"
   },
   {
    "duration": 14,
    "start_time": "2022-05-10T09:54:47.900Z"
   },
   {
    "duration": 16,
    "start_time": "2022-05-10T09:54:50.262Z"
   },
   {
    "duration": 29,
    "start_time": "2022-05-10T09:54:58.569Z"
   },
   {
    "duration": 5,
    "start_time": "2022-05-10T09:55:01.545Z"
   },
   {
    "duration": 5,
    "start_time": "2022-05-10T09:55:03.404Z"
   },
   {
    "duration": 5,
    "start_time": "2022-05-10T09:55:05.243Z"
   },
   {
    "duration": 5,
    "start_time": "2022-05-10T09:55:07.643Z"
   },
   {
    "duration": 12,
    "start_time": "2022-05-10T09:55:09.904Z"
   },
   {
    "duration": 7,
    "start_time": "2022-05-10T09:55:13.371Z"
   },
   {
    "duration": 6,
    "start_time": "2022-05-10T09:55:15.184Z"
   },
   {
    "duration": 5,
    "start_time": "2022-05-10T09:55:20.072Z"
   },
   {
    "duration": 5,
    "start_time": "2022-05-10T09:55:29.455Z"
   },
   {
    "duration": 7,
    "start_time": "2022-05-10T09:55:31.599Z"
   },
   {
    "duration": 11,
    "start_time": "2022-05-10T09:55:35.179Z"
   },
   {
    "duration": 8,
    "start_time": "2022-05-10T09:55:38.928Z"
   },
   {
    "duration": 10,
    "start_time": "2022-05-10T09:55:39.547Z"
   },
   {
    "duration": 7,
    "start_time": "2022-05-10T09:55:41.473Z"
   },
   {
    "duration": 10,
    "start_time": "2022-05-10T09:55:42.388Z"
   },
   {
    "duration": 11,
    "start_time": "2022-05-10T09:55:43.347Z"
   },
   {
    "duration": 62,
    "start_time": "2022-05-10T10:06:32.182Z"
   },
   {
    "duration": 97,
    "start_time": "2022-05-10T10:08:28.591Z"
   },
   {
    "duration": 986,
    "start_time": "2022-05-10T10:08:37.209Z"
   },
   {
    "duration": 4,
    "start_time": "2022-05-10T10:09:05.941Z"
   },
   {
    "duration": 3,
    "start_time": "2022-05-10T10:09:09.280Z"
   },
   {
    "duration": 21,
    "start_time": "2022-05-10T10:11:05.102Z"
   },
   {
    "duration": 103,
    "start_time": "2022-05-10T10:12:27.934Z"
   },
   {
    "duration": 20,
    "start_time": "2022-05-10T10:19:58.431Z"
   },
   {
    "duration": 410,
    "start_time": "2022-05-10T10:22:24.270Z"
   },
   {
    "duration": 57,
    "start_time": "2022-05-10T12:50:20.060Z"
   },
   {
    "duration": 499,
    "start_time": "2022-05-10T12:50:59.051Z"
   },
   {
    "duration": 20,
    "start_time": "2022-05-10T12:50:59.552Z"
   },
   {
    "duration": 19,
    "start_time": "2022-05-10T12:50:59.574Z"
   },
   {
    "duration": 9,
    "start_time": "2022-05-10T12:50:59.596Z"
   },
   {
    "duration": 16,
    "start_time": "2022-05-10T12:50:59.606Z"
   },
   {
    "duration": 14,
    "start_time": "2022-05-10T12:50:59.623Z"
   },
   {
    "duration": 60,
    "start_time": "2022-05-10T12:50:59.639Z"
   },
   {
    "duration": 4,
    "start_time": "2022-05-10T12:50:59.701Z"
   },
   {
    "duration": 22,
    "start_time": "2022-05-10T12:50:59.707Z"
   },
   {
    "duration": 20,
    "start_time": "2022-05-10T12:50:59.732Z"
   },
   {
    "duration": 63,
    "start_time": "2022-05-10T12:50:59.754Z"
   },
   {
    "duration": 4,
    "start_time": "2022-05-10T12:50:59.819Z"
   },
   {
    "duration": 8,
    "start_time": "2022-05-10T12:50:59.825Z"
   },
   {
    "duration": 13,
    "start_time": "2022-05-10T12:50:59.835Z"
   },
   {
    "duration": 15,
    "start_time": "2022-05-10T12:50:59.850Z"
   },
   {
    "duration": 34,
    "start_time": "2022-05-10T12:50:59.866Z"
   },
   {
    "duration": 6,
    "start_time": "2022-05-10T12:50:59.902Z"
   },
   {
    "duration": 10,
    "start_time": "2022-05-10T12:50:59.909Z"
   },
   {
    "duration": 7,
    "start_time": "2022-05-10T12:50:59.920Z"
   },
   {
    "duration": 8,
    "start_time": "2022-05-10T12:50:59.929Z"
   },
   {
    "duration": 12,
    "start_time": "2022-05-10T12:50:59.938Z"
   },
   {
    "duration": 52,
    "start_time": "2022-05-10T12:50:59.951Z"
   },
   {
    "duration": 17,
    "start_time": "2022-05-10T12:51:00.005Z"
   },
   {
    "duration": 14,
    "start_time": "2022-05-10T12:51:00.024Z"
   },
   {
    "duration": 9,
    "start_time": "2022-05-10T12:51:00.039Z"
   },
   {
    "duration": 43,
    "start_time": "2022-05-10T12:51:00.050Z"
   },
   {
    "duration": 12,
    "start_time": "2022-05-10T12:51:00.095Z"
   },
   {
    "duration": 631,
    "start_time": "2022-05-10T12:51:00.111Z"
   },
   {
    "duration": 571,
    "start_time": "2022-05-10T12:51:16.627Z"
   },
   {
    "duration": 14,
    "start_time": "2022-05-10T12:52:13.262Z"
   },
   {
    "duration": 14,
    "start_time": "2022-05-10T12:52:16.628Z"
   },
   {
    "duration": 19,
    "start_time": "2022-05-10T12:52:32.410Z"
   },
   {
    "duration": 132,
    "start_time": "2022-05-10T13:03:20.331Z"
   },
   {
    "duration": 14,
    "start_time": "2022-05-10T13:03:21.220Z"
   },
   {
    "duration": 8,
    "start_time": "2022-05-10T13:03:31.764Z"
   },
   {
    "duration": 21,
    "start_time": "2022-05-10T13:03:37.718Z"
   },
   {
    "duration": 14,
    "start_time": "2022-05-10T13:04:16.714Z"
   },
   {
    "duration": 12,
    "start_time": "2022-05-10T13:04:35.785Z"
   },
   {
    "duration": 55,
    "start_time": "2022-05-11T02:29:13.540Z"
   },
   {
    "duration": 553,
    "start_time": "2022-05-11T02:29:28.319Z"
   },
   {
    "duration": 23,
    "start_time": "2022-05-11T02:29:28.875Z"
   },
   {
    "duration": 4,
    "start_time": "2022-05-11T02:29:28.900Z"
   },
   {
    "duration": 28,
    "start_time": "2022-05-11T02:29:28.907Z"
   },
   {
    "duration": 18,
    "start_time": "2022-05-11T02:29:28.937Z"
   },
   {
    "duration": 16,
    "start_time": "2022-05-11T02:29:28.957Z"
   },
   {
    "duration": 59,
    "start_time": "2022-05-11T02:29:28.975Z"
   },
   {
    "duration": 4,
    "start_time": "2022-05-11T02:29:29.036Z"
   },
   {
    "duration": 21,
    "start_time": "2022-05-11T02:29:29.042Z"
   },
   {
    "duration": 20,
    "start_time": "2022-05-11T02:29:29.066Z"
   },
   {
    "duration": 60,
    "start_time": "2022-05-11T02:29:29.088Z"
   },
   {
    "duration": 4,
    "start_time": "2022-05-11T02:29:29.150Z"
   },
   {
    "duration": 7,
    "start_time": "2022-05-11T02:29:29.156Z"
   },
   {
    "duration": 7,
    "start_time": "2022-05-11T02:29:29.164Z"
   },
   {
    "duration": 8,
    "start_time": "2022-05-11T02:29:29.172Z"
   },
   {
    "duration": 13,
    "start_time": "2022-05-11T02:29:29.181Z"
   },
   {
    "duration": 42,
    "start_time": "2022-05-11T02:29:29.196Z"
   },
   {
    "duration": 9,
    "start_time": "2022-05-11T02:29:29.239Z"
   },
   {
    "duration": 6,
    "start_time": "2022-05-11T02:29:29.249Z"
   },
   {
    "duration": 9,
    "start_time": "2022-05-11T02:29:29.257Z"
   },
   {
    "duration": 6,
    "start_time": "2022-05-11T02:29:29.268Z"
   },
   {
    "duration": 13,
    "start_time": "2022-05-11T02:29:29.276Z"
   },
   {
    "duration": 43,
    "start_time": "2022-05-11T02:29:29.291Z"
   },
   {
    "duration": 12,
    "start_time": "2022-05-11T02:29:29.336Z"
   },
   {
    "duration": 9,
    "start_time": "2022-05-11T02:29:29.349Z"
   },
   {
    "duration": 14,
    "start_time": "2022-05-11T02:29:29.359Z"
   },
   {
    "duration": 13,
    "start_time": "2022-05-11T02:29:29.375Z"
   },
   {
    "duration": 47,
    "start_time": "2022-05-11T02:29:29.392Z"
   },
   {
    "duration": 17,
    "start_time": "2022-05-11T02:29:29.441Z"
   },
   {
    "duration": 10,
    "start_time": "2022-05-11T02:29:29.460Z"
   },
   {
    "duration": 16,
    "start_time": "2022-05-11T02:29:29.472Z"
   },
   {
    "duration": 9,
    "start_time": "2022-05-11T02:29:47.930Z"
   },
   {
    "duration": 13,
    "start_time": "2022-05-11T02:29:49.939Z"
   },
   {
    "duration": 181,
    "start_time": "2022-05-11T02:32:03.445Z"
   },
   {
    "duration": 9,
    "start_time": "2022-05-11T02:33:46.223Z"
   },
   {
    "duration": 19,
    "start_time": "2022-05-11T02:33:49.475Z"
   },
   {
    "duration": 10,
    "start_time": "2022-05-11T02:37:09.550Z"
   },
   {
    "duration": 14,
    "start_time": "2022-05-11T02:37:11.252Z"
   },
   {
    "duration": 80,
    "start_time": "2022-05-11T02:52:29.244Z"
   },
   {
    "duration": 18,
    "start_time": "2022-05-11T02:52:41.218Z"
   },
   {
    "duration": 23,
    "start_time": "2022-05-11T02:54:04.439Z"
   },
   {
    "duration": 19,
    "start_time": "2022-05-11T02:54:08.754Z"
   },
   {
    "duration": 44,
    "start_time": "2022-05-11T02:54:29.927Z"
   },
   {
    "duration": 210,
    "start_time": "2022-05-11T02:54:57.513Z"
   },
   {
    "duration": 7,
    "start_time": "2022-05-11T02:55:05.163Z"
   },
   {
    "duration": 17,
    "start_time": "2022-05-11T02:55:26.437Z"
   },
   {
    "duration": 19,
    "start_time": "2022-05-11T03:05:59.658Z"
   },
   {
    "duration": 20,
    "start_time": "2022-05-11T03:08:09.066Z"
   },
   {
    "duration": 20,
    "start_time": "2022-05-11T03:08:46.283Z"
   },
   {
    "duration": 10,
    "start_time": "2022-05-11T03:08:47.634Z"
   },
   {
    "duration": 21,
    "start_time": "2022-05-11T03:09:16.758Z"
   },
   {
    "duration": 50,
    "start_time": "2022-05-11T06:13:31.887Z"
   },
   {
    "duration": 515,
    "start_time": "2022-05-11T06:13:44.809Z"
   },
   {
    "duration": 19,
    "start_time": "2022-05-11T06:13:45.327Z"
   },
   {
    "duration": 3,
    "start_time": "2022-05-11T06:13:45.348Z"
   },
   {
    "duration": 8,
    "start_time": "2022-05-11T06:13:45.353Z"
   },
   {
    "duration": 16,
    "start_time": "2022-05-11T06:13:45.362Z"
   },
   {
    "duration": 14,
    "start_time": "2022-05-11T06:13:45.380Z"
   },
   {
    "duration": 25,
    "start_time": "2022-05-11T06:13:45.423Z"
   },
   {
    "duration": 4,
    "start_time": "2022-05-11T06:13:45.450Z"
   },
   {
    "duration": 16,
    "start_time": "2022-05-11T06:13:45.456Z"
   },
   {
    "duration": 48,
    "start_time": "2022-05-11T06:13:45.475Z"
   },
   {
    "duration": 33,
    "start_time": "2022-05-11T06:13:45.525Z"
   },
   {
    "duration": 5,
    "start_time": "2022-05-11T06:13:45.560Z"
   },
   {
    "duration": 6,
    "start_time": "2022-05-11T06:13:45.566Z"
   },
   {
    "duration": 5,
    "start_time": "2022-05-11T06:13:45.574Z"
   },
   {
    "duration": 7,
    "start_time": "2022-05-11T06:13:45.580Z"
   },
   {
    "duration": 45,
    "start_time": "2022-05-11T06:13:45.589Z"
   },
   {
    "duration": 9,
    "start_time": "2022-05-11T06:13:45.635Z"
   },
   {
    "duration": 7,
    "start_time": "2022-05-11T06:13:45.646Z"
   },
   {
    "duration": 6,
    "start_time": "2022-05-11T06:13:45.655Z"
   },
   {
    "duration": 8,
    "start_time": "2022-05-11T06:13:45.662Z"
   },
   {
    "duration": 8,
    "start_time": "2022-05-11T06:13:45.671Z"
   },
   {
    "duration": 48,
    "start_time": "2022-05-11T06:13:45.681Z"
   },
   {
    "duration": 9,
    "start_time": "2022-05-11T06:13:45.730Z"
   },
   {
    "duration": 11,
    "start_time": "2022-05-11T06:13:45.741Z"
   },
   {
    "duration": 8,
    "start_time": "2022-05-11T06:13:45.753Z"
   },
   {
    "duration": 12,
    "start_time": "2022-05-11T06:13:45.762Z"
   },
   {
    "duration": 11,
    "start_time": "2022-05-11T06:13:45.776Z"
   },
   {
    "duration": 42,
    "start_time": "2022-05-11T06:13:45.790Z"
   },
   {
    "duration": 13,
    "start_time": "2022-05-11T06:13:45.834Z"
   },
   {
    "duration": 10,
    "start_time": "2022-05-11T06:13:45.849Z"
   },
   {
    "duration": 19,
    "start_time": "2022-05-11T06:13:45.860Z"
   },
   {
    "duration": 44,
    "start_time": "2022-05-11T06:13:45.880Z"
   },
   {
    "duration": 17,
    "start_time": "2022-05-11T06:13:48.066Z"
   },
   {
    "duration": 6,
    "start_time": "2022-05-11T06:16:37.562Z"
   },
   {
    "duration": 4,
    "start_time": "2022-05-11T06:16:41.925Z"
   },
   {
    "duration": 71,
    "start_time": "2022-05-11T06:16:43.492Z"
   },
   {
    "duration": 6,
    "start_time": "2022-05-11T06:17:06.154Z"
   },
   {
    "duration": 14,
    "start_time": "2022-05-11T06:17:12.795Z"
   },
   {
    "duration": 82,
    "start_time": "2022-05-11T06:17:17.918Z"
   },
   {
    "duration": 13,
    "start_time": "2022-05-11T06:17:18.922Z"
   },
   {
    "duration": 3,
    "start_time": "2022-05-11T06:17:19.910Z"
   },
   {
    "duration": 11,
    "start_time": "2022-05-11T06:17:20.254Z"
   },
   {
    "duration": 16,
    "start_time": "2022-05-11T06:17:20.586Z"
   },
   {
    "duration": 15,
    "start_time": "2022-05-11T06:17:21.309Z"
   },
   {
    "duration": 22,
    "start_time": "2022-05-11T06:17:21.664Z"
   },
   {
    "duration": 4,
    "start_time": "2022-05-11T06:17:23.095Z"
   },
   {
    "duration": 16,
    "start_time": "2022-05-11T06:17:24.276Z"
   },
   {
    "duration": 18,
    "start_time": "2022-05-11T06:17:25.893Z"
   },
   {
    "duration": 30,
    "start_time": "2022-05-11T06:17:26.891Z"
   },
   {
    "duration": 4,
    "start_time": "2022-05-11T06:17:28.850Z"
   },
   {
    "duration": 4,
    "start_time": "2022-05-11T06:17:29.670Z"
   },
   {
    "duration": 4,
    "start_time": "2022-05-11T06:17:30.263Z"
   },
   {
    "duration": 6,
    "start_time": "2022-05-11T06:17:31.009Z"
   },
   {
    "duration": 12,
    "start_time": "2022-05-11T06:17:32.058Z"
   },
   {
    "duration": 7,
    "start_time": "2022-05-11T06:17:32.841Z"
   },
   {
    "duration": 5,
    "start_time": "2022-05-11T06:17:33.637Z"
   },
   {
    "duration": 5,
    "start_time": "2022-05-11T06:17:34.042Z"
   },
   {
    "duration": 5,
    "start_time": "2022-05-11T06:17:34.419Z"
   },
   {
    "duration": 6,
    "start_time": "2022-05-11T06:17:34.828Z"
   },
   {
    "duration": 12,
    "start_time": "2022-05-11T06:17:35.301Z"
   },
   {
    "duration": 8,
    "start_time": "2022-05-11T06:17:37.506Z"
   },
   {
    "duration": 11,
    "start_time": "2022-05-11T06:17:39.129Z"
   },
   {
    "duration": 9,
    "start_time": "2022-05-11T06:17:40.605Z"
   },
   {
    "duration": 7,
    "start_time": "2022-05-11T06:17:42.002Z"
   },
   {
    "duration": 12,
    "start_time": "2022-05-11T06:17:43.154Z"
   },
   {
    "duration": 5,
    "start_time": "2022-05-11T06:17:49.759Z"
   },
   {
    "duration": 8,
    "start_time": "2022-05-11T06:18:08.574Z"
   },
   {
    "duration": 19,
    "start_time": "2022-05-11T06:35:21.804Z"
   },
   {
    "duration": 13,
    "start_time": "2022-05-11T06:38:09.191Z"
   },
   {
    "duration": 17,
    "start_time": "2022-05-11T09:54:13.742Z"
   },
   {
    "duration": 18,
    "start_time": "2022-05-11T09:54:45.784Z"
   },
   {
    "duration": 19,
    "start_time": "2022-05-11T09:54:48.896Z"
   },
   {
    "duration": 21,
    "start_time": "2022-05-11T09:55:20.142Z"
   },
   {
    "duration": 501,
    "start_time": "2022-05-11T09:57:32.782Z"
   },
   {
    "duration": 41,
    "start_time": "2022-05-11T09:57:33.286Z"
   },
   {
    "duration": 4,
    "start_time": "2022-05-11T09:57:33.329Z"
   },
   {
    "duration": 17,
    "start_time": "2022-05-11T09:57:33.335Z"
   },
   {
    "duration": 15,
    "start_time": "2022-05-11T09:57:33.354Z"
   },
   {
    "duration": 14,
    "start_time": "2022-05-11T09:57:33.371Z"
   },
   {
    "duration": 53,
    "start_time": "2022-05-11T09:57:33.387Z"
   },
   {
    "duration": 7,
    "start_time": "2022-05-11T09:57:33.443Z"
   },
   {
    "duration": 18,
    "start_time": "2022-05-11T09:57:33.452Z"
   },
   {
    "duration": 60,
    "start_time": "2022-05-11T09:57:33.473Z"
   },
   {
    "duration": 34,
    "start_time": "2022-05-11T09:57:33.536Z"
   },
   {
    "duration": 5,
    "start_time": "2022-05-11T09:57:33.571Z"
   },
   {
    "duration": 5,
    "start_time": "2022-05-11T09:57:33.578Z"
   },
   {
    "duration": 5,
    "start_time": "2022-05-11T09:57:33.585Z"
   },
   {
    "duration": 34,
    "start_time": "2022-05-11T09:57:33.592Z"
   },
   {
    "duration": 21,
    "start_time": "2022-05-11T09:57:33.628Z"
   },
   {
    "duration": 11,
    "start_time": "2022-05-11T09:57:33.650Z"
   },
   {
    "duration": 6,
    "start_time": "2022-05-11T09:57:33.662Z"
   },
   {
    "duration": 7,
    "start_time": "2022-05-11T09:57:33.670Z"
   },
   {
    "duration": 7,
    "start_time": "2022-05-11T09:57:33.679Z"
   },
   {
    "duration": 41,
    "start_time": "2022-05-11T09:57:33.687Z"
   },
   {
    "duration": 14,
    "start_time": "2022-05-11T09:57:33.730Z"
   },
   {
    "duration": 13,
    "start_time": "2022-05-11T09:57:33.746Z"
   },
   {
    "duration": 26,
    "start_time": "2022-05-11T09:57:33.762Z"
   },
   {
    "duration": 42,
    "start_time": "2022-05-11T09:57:33.791Z"
   },
   {
    "duration": 16,
    "start_time": "2022-05-11T09:57:33.836Z"
   },
   {
    "duration": 16,
    "start_time": "2022-05-11T09:57:33.854Z"
   },
   {
    "duration": 9,
    "start_time": "2022-05-11T09:57:33.875Z"
   },
   {
    "duration": 38,
    "start_time": "2022-05-11T09:57:33.886Z"
   },
   {
    "duration": 14,
    "start_time": "2022-05-11T09:57:33.926Z"
   },
   {
    "duration": 16,
    "start_time": "2022-05-11T09:57:33.942Z"
   },
   {
    "duration": 5,
    "start_time": "2022-05-11T09:57:33.960Z"
   },
   {
    "duration": 32,
    "start_time": "2022-05-11T09:57:33.966Z"
   },
   {
    "duration": 40,
    "start_time": "2022-05-11T09:57:34.001Z"
   },
   {
    "duration": 12,
    "start_time": "2022-05-11T09:57:34.043Z"
   },
   {
    "duration": 21,
    "start_time": "2022-05-11T09:57:34.058Z"
   },
   {
    "duration": 29,
    "start_time": "2022-05-11T10:01:51.590Z"
   },
   {
    "duration": 3893,
    "start_time": "2022-05-11T10:13:37.093Z"
   },
   {
    "duration": 2378,
    "start_time": "2022-05-11T10:13:41.996Z"
   },
   {
    "duration": 3530,
    "start_time": "2022-05-11T10:24:48.424Z"
   },
   {
    "duration": 6674,
    "start_time": "2022-05-11T10:24:53.354Z"
   },
   {
    "duration": 474,
    "start_time": "2022-05-11T10:25:47.059Z"
   },
   {
    "duration": 25,
    "start_time": "2022-05-11T10:25:47.535Z"
   },
   {
    "duration": 4,
    "start_time": "2022-05-11T10:25:47.562Z"
   },
   {
    "duration": 17,
    "start_time": "2022-05-11T10:25:47.570Z"
   },
   {
    "duration": 38,
    "start_time": "2022-05-11T10:25:47.589Z"
   },
   {
    "duration": 21,
    "start_time": "2022-05-11T10:25:47.629Z"
   },
   {
    "duration": 2727,
    "start_time": "2022-05-11T10:25:47.652Z"
   },
   {
    "duration": 25,
    "start_time": "2022-05-11T10:25:50.380Z"
   },
   {
    "duration": 3654,
    "start_time": "2022-05-11T10:25:50.406Z"
   },
   {
    "duration": 0,
    "start_time": "2022-05-11T10:25:54.063Z"
   },
   {
    "duration": 0,
    "start_time": "2022-05-11T10:25:54.064Z"
   },
   {
    "duration": 0,
    "start_time": "2022-05-11T10:25:54.065Z"
   },
   {
    "duration": 0,
    "start_time": "2022-05-11T10:25:54.066Z"
   },
   {
    "duration": 0,
    "start_time": "2022-05-11T10:25:54.067Z"
   },
   {
    "duration": 0,
    "start_time": "2022-05-11T10:25:54.069Z"
   },
   {
    "duration": 0,
    "start_time": "2022-05-11T10:25:54.070Z"
   },
   {
    "duration": 0,
    "start_time": "2022-05-11T10:25:54.071Z"
   },
   {
    "duration": 0,
    "start_time": "2022-05-11T10:25:54.072Z"
   },
   {
    "duration": 0,
    "start_time": "2022-05-11T10:25:54.073Z"
   },
   {
    "duration": 0,
    "start_time": "2022-05-11T10:25:54.074Z"
   },
   {
    "duration": 0,
    "start_time": "2022-05-11T10:25:54.075Z"
   },
   {
    "duration": 0,
    "start_time": "2022-05-11T10:25:54.076Z"
   },
   {
    "duration": 0,
    "start_time": "2022-05-11T10:25:54.077Z"
   },
   {
    "duration": 0,
    "start_time": "2022-05-11T10:25:54.078Z"
   },
   {
    "duration": 0,
    "start_time": "2022-05-11T10:25:54.080Z"
   },
   {
    "duration": 0,
    "start_time": "2022-05-11T10:25:54.081Z"
   },
   {
    "duration": 0,
    "start_time": "2022-05-11T10:25:54.082Z"
   },
   {
    "duration": 0,
    "start_time": "2022-05-11T10:25:54.083Z"
   },
   {
    "duration": 0,
    "start_time": "2022-05-11T10:25:54.084Z"
   },
   {
    "duration": 0,
    "start_time": "2022-05-11T10:25:54.085Z"
   },
   {
    "duration": 0,
    "start_time": "2022-05-11T10:25:54.086Z"
   },
   {
    "duration": 0,
    "start_time": "2022-05-11T10:25:54.087Z"
   },
   {
    "duration": 0,
    "start_time": "2022-05-11T10:25:54.088Z"
   },
   {
    "duration": 0,
    "start_time": "2022-05-11T10:25:54.089Z"
   },
   {
    "duration": 0,
    "start_time": "2022-05-11T10:25:54.090Z"
   },
   {
    "duration": 0,
    "start_time": "2022-05-11T10:25:54.091Z"
   },
   {
    "duration": 0,
    "start_time": "2022-05-11T10:25:54.092Z"
   },
   {
    "duration": 0,
    "start_time": "2022-05-11T10:25:54.093Z"
   },
   {
    "duration": 0,
    "start_time": "2022-05-11T10:25:54.094Z"
   },
   {
    "duration": 0,
    "start_time": "2022-05-11T10:25:54.096Z"
   },
   {
    "duration": 3370,
    "start_time": "2022-05-11T10:26:16.874Z"
   },
   {
    "duration": 1339,
    "start_time": "2022-05-12T05:29:16.924Z"
   },
   {
    "duration": 471,
    "start_time": "2022-05-12T05:29:26.464Z"
   },
   {
    "duration": 18,
    "start_time": "2022-05-12T05:29:26.937Z"
   },
   {
    "duration": 5,
    "start_time": "2022-05-12T05:29:26.956Z"
   },
   {
    "duration": 7,
    "start_time": "2022-05-12T05:29:26.962Z"
   },
   {
    "duration": 12,
    "start_time": "2022-05-12T05:29:26.971Z"
   },
   {
    "duration": 2313,
    "start_time": "2022-05-12T05:29:26.984Z"
   },
   {
    "duration": 14,
    "start_time": "2022-05-12T05:29:29.298Z"
   },
   {
    "duration": 1639,
    "start_time": "2022-05-12T05:29:29.313Z"
   },
   {
    "duration": 30,
    "start_time": "2022-05-12T05:29:30.953Z"
   },
   {
    "duration": 2131,
    "start_time": "2022-05-12T05:29:30.986Z"
   },
   {
    "duration": 0,
    "start_time": "2022-05-12T05:29:33.120Z"
   },
   {
    "duration": 0,
    "start_time": "2022-05-12T05:29:33.121Z"
   },
   {
    "duration": 0,
    "start_time": "2022-05-12T05:29:33.123Z"
   },
   {
    "duration": 1,
    "start_time": "2022-05-12T05:29:33.124Z"
   },
   {
    "duration": 0,
    "start_time": "2022-05-12T05:29:33.126Z"
   },
   {
    "duration": 0,
    "start_time": "2022-05-12T05:29:33.127Z"
   },
   {
    "duration": 0,
    "start_time": "2022-05-12T05:29:33.128Z"
   },
   {
    "duration": 0,
    "start_time": "2022-05-12T05:29:33.130Z"
   },
   {
    "duration": 0,
    "start_time": "2022-05-12T05:29:33.131Z"
   },
   {
    "duration": 0,
    "start_time": "2022-05-12T05:29:33.132Z"
   },
   {
    "duration": 0,
    "start_time": "2022-05-12T05:29:33.133Z"
   },
   {
    "duration": 0,
    "start_time": "2022-05-12T05:29:33.135Z"
   },
   {
    "duration": 0,
    "start_time": "2022-05-12T05:29:33.136Z"
   },
   {
    "duration": 0,
    "start_time": "2022-05-12T05:29:33.137Z"
   },
   {
    "duration": 0,
    "start_time": "2022-05-12T05:29:33.138Z"
   },
   {
    "duration": 0,
    "start_time": "2022-05-12T05:29:33.140Z"
   },
   {
    "duration": 0,
    "start_time": "2022-05-12T05:29:33.141Z"
   },
   {
    "duration": 0,
    "start_time": "2022-05-12T05:29:33.142Z"
   },
   {
    "duration": 0,
    "start_time": "2022-05-12T05:29:33.144Z"
   },
   {
    "duration": 0,
    "start_time": "2022-05-12T05:29:33.145Z"
   },
   {
    "duration": 0,
    "start_time": "2022-05-12T05:29:33.146Z"
   },
   {
    "duration": 0,
    "start_time": "2022-05-12T05:29:33.147Z"
   },
   {
    "duration": 0,
    "start_time": "2022-05-12T05:29:33.149Z"
   },
   {
    "duration": 0,
    "start_time": "2022-05-12T05:29:33.150Z"
   },
   {
    "duration": 0,
    "start_time": "2022-05-12T05:29:33.151Z"
   },
   {
    "duration": 0,
    "start_time": "2022-05-12T05:29:33.153Z"
   },
   {
    "duration": 0,
    "start_time": "2022-05-12T05:29:33.154Z"
   },
   {
    "duration": 0,
    "start_time": "2022-05-12T05:29:33.155Z"
   },
   {
    "duration": 0,
    "start_time": "2022-05-12T05:29:33.156Z"
   },
   {
    "duration": 0,
    "start_time": "2022-05-12T05:29:33.162Z"
   },
   {
    "duration": 0,
    "start_time": "2022-05-12T05:29:33.163Z"
   },
   {
    "duration": 174,
    "start_time": "2022-05-12T05:34:01.310Z"
   },
   {
    "duration": 127,
    "start_time": "2022-05-12T05:36:19.985Z"
   },
   {
    "duration": 163,
    "start_time": "2022-05-12T05:36:54.233Z"
   },
   {
    "duration": 12,
    "start_time": "2022-05-12T05:37:01.864Z"
   },
   {
    "duration": 153,
    "start_time": "2022-05-12T05:38:47.275Z"
   },
   {
    "duration": 231,
    "start_time": "2022-05-12T05:39:20.052Z"
   },
   {
    "duration": 168,
    "start_time": "2022-05-12T05:39:29.121Z"
   },
   {
    "duration": 169,
    "start_time": "2022-05-12T05:39:56.846Z"
   },
   {
    "duration": 168,
    "start_time": "2022-05-12T05:40:09.711Z"
   },
   {
    "duration": 164,
    "start_time": "2022-05-12T05:40:28.362Z"
   },
   {
    "duration": 170,
    "start_time": "2022-05-12T05:40:44.726Z"
   },
   {
    "duration": 160,
    "start_time": "2022-05-12T05:41:01.018Z"
   },
   {
    "duration": 2025,
    "start_time": "2022-05-12T05:45:20.254Z"
   },
   {
    "duration": 147,
    "start_time": "2022-05-12T05:45:38.407Z"
   },
   {
    "duration": 563,
    "start_time": "2022-05-12T05:46:00.652Z"
   },
   {
    "duration": 501,
    "start_time": "2022-05-12T05:46:04.834Z"
   },
   {
    "duration": 212,
    "start_time": "2022-05-12T05:50:27.979Z"
   },
   {
    "duration": 678,
    "start_time": "2022-05-12T05:50:45.578Z"
   },
   {
    "duration": 565,
    "start_time": "2022-05-12T05:53:12.131Z"
   },
   {
    "duration": 139,
    "start_time": "2022-05-12T05:53:40.038Z"
   },
   {
    "duration": 501,
    "start_time": "2022-05-12T05:53:47.427Z"
   },
   {
    "duration": 148,
    "start_time": "2022-05-12T05:56:02.699Z"
   },
   {
    "duration": 568,
    "start_time": "2022-05-12T05:56:10.036Z"
   },
   {
    "duration": 126,
    "start_time": "2022-05-12T05:56:18.417Z"
   },
   {
    "duration": 513,
    "start_time": "2022-05-12T05:56:47.707Z"
   },
   {
    "duration": 21,
    "start_time": "2022-05-12T05:57:59.999Z"
   },
   {
    "duration": 16,
    "start_time": "2022-05-12T05:58:55.670Z"
   },
   {
    "duration": 18,
    "start_time": "2022-05-12T05:59:01.627Z"
   },
   {
    "duration": 467,
    "start_time": "2022-05-12T05:59:13.024Z"
   },
   {
    "duration": 17,
    "start_time": "2022-05-12T05:59:13.494Z"
   },
   {
    "duration": 4,
    "start_time": "2022-05-12T05:59:13.513Z"
   },
   {
    "duration": 9,
    "start_time": "2022-05-12T05:59:13.519Z"
   },
   {
    "duration": 38,
    "start_time": "2022-05-12T05:59:13.529Z"
   },
   {
    "duration": 864,
    "start_time": "2022-05-12T05:59:13.569Z"
   },
   {
    "duration": 177,
    "start_time": "2022-05-12T05:59:14.435Z"
   },
   {
    "duration": 12,
    "start_time": "2022-05-12T05:59:14.614Z"
   },
   {
    "duration": 11,
    "start_time": "2022-05-12T05:59:14.628Z"
   },
   {
    "duration": 230,
    "start_time": "2022-05-12T05:59:14.641Z"
   },
   {
    "duration": 27,
    "start_time": "2022-05-12T05:59:14.872Z"
   },
   {
    "duration": 2149,
    "start_time": "2022-05-12T05:59:14.900Z"
   },
   {
    "duration": 0,
    "start_time": "2022-05-12T05:59:17.051Z"
   },
   {
    "duration": 0,
    "start_time": "2022-05-12T05:59:17.052Z"
   },
   {
    "duration": 0,
    "start_time": "2022-05-12T05:59:17.053Z"
   },
   {
    "duration": 0,
    "start_time": "2022-05-12T05:59:17.055Z"
   },
   {
    "duration": 0,
    "start_time": "2022-05-12T05:59:17.056Z"
   },
   {
    "duration": 0,
    "start_time": "2022-05-12T05:59:17.056Z"
   },
   {
    "duration": 0,
    "start_time": "2022-05-12T05:59:17.057Z"
   },
   {
    "duration": 0,
    "start_time": "2022-05-12T05:59:17.058Z"
   },
   {
    "duration": 1,
    "start_time": "2022-05-12T05:59:17.058Z"
   },
   {
    "duration": 0,
    "start_time": "2022-05-12T05:59:17.059Z"
   },
   {
    "duration": 0,
    "start_time": "2022-05-12T05:59:17.060Z"
   },
   {
    "duration": 0,
    "start_time": "2022-05-12T05:59:17.061Z"
   },
   {
    "duration": 0,
    "start_time": "2022-05-12T05:59:17.062Z"
   },
   {
    "duration": 0,
    "start_time": "2022-05-12T05:59:17.063Z"
   },
   {
    "duration": 0,
    "start_time": "2022-05-12T05:59:17.064Z"
   },
   {
    "duration": 0,
    "start_time": "2022-05-12T05:59:17.065Z"
   },
   {
    "duration": 0,
    "start_time": "2022-05-12T05:59:17.066Z"
   },
   {
    "duration": 0,
    "start_time": "2022-05-12T05:59:17.067Z"
   },
   {
    "duration": 0,
    "start_time": "2022-05-12T05:59:17.068Z"
   },
   {
    "duration": 0,
    "start_time": "2022-05-12T05:59:17.069Z"
   },
   {
    "duration": 0,
    "start_time": "2022-05-12T05:59:17.069Z"
   },
   {
    "duration": 0,
    "start_time": "2022-05-12T05:59:17.070Z"
   },
   {
    "duration": 0,
    "start_time": "2022-05-12T05:59:17.071Z"
   },
   {
    "duration": 0,
    "start_time": "2022-05-12T05:59:17.071Z"
   },
   {
    "duration": 0,
    "start_time": "2022-05-12T05:59:17.072Z"
   },
   {
    "duration": 0,
    "start_time": "2022-05-12T05:59:17.073Z"
   },
   {
    "duration": 0,
    "start_time": "2022-05-12T05:59:17.074Z"
   },
   {
    "duration": 0,
    "start_time": "2022-05-12T05:59:17.074Z"
   },
   {
    "duration": 0,
    "start_time": "2022-05-12T05:59:17.075Z"
   },
   {
    "duration": 0,
    "start_time": "2022-05-12T05:59:17.076Z"
   },
   {
    "duration": 0,
    "start_time": "2022-05-12T05:59:17.077Z"
   },
   {
    "duration": 8,
    "start_time": "2022-05-12T06:08:46.023Z"
   },
   {
    "duration": 154,
    "start_time": "2022-05-12T06:08:49.023Z"
   },
   {
    "duration": 12,
    "start_time": "2022-05-12T06:10:26.297Z"
   },
   {
    "duration": 231,
    "start_time": "2022-05-12T06:10:28.340Z"
   },
   {
    "duration": 8,
    "start_time": "2022-05-12T06:10:49.226Z"
   },
   {
    "duration": 165,
    "start_time": "2022-05-12T06:10:56.442Z"
   },
   {
    "duration": 132,
    "start_time": "2022-05-12T06:12:12.493Z"
   },
   {
    "duration": 119,
    "start_time": "2022-05-12T06:12:33.116Z"
   },
   {
    "duration": 4,
    "start_time": "2022-05-12T06:13:00.898Z"
   },
   {
    "duration": 3,
    "start_time": "2022-05-12T06:13:07.808Z"
   },
   {
    "duration": 4,
    "start_time": "2022-05-12T06:13:22.491Z"
   },
   {
    "duration": 13,
    "start_time": "2022-05-12T06:13:35.662Z"
   },
   {
    "duration": 21,
    "start_time": "2022-05-12T06:13:45.004Z"
   },
   {
    "duration": 11,
    "start_time": "2022-05-12T06:26:20.584Z"
   },
   {
    "duration": 8,
    "start_time": "2022-05-12T06:26:33.985Z"
   },
   {
    "duration": 6,
    "start_time": "2022-05-12T06:27:23.968Z"
   },
   {
    "duration": 4,
    "start_time": "2022-05-12T06:27:35.334Z"
   },
   {
    "duration": 16,
    "start_time": "2022-05-12T06:30:49.893Z"
   },
   {
    "duration": 15,
    "start_time": "2022-05-12T06:31:03.866Z"
   },
   {
    "duration": 4,
    "start_time": "2022-05-12T06:31:05.689Z"
   },
   {
    "duration": 18,
    "start_time": "2022-05-12T06:31:07.360Z"
   },
   {
    "duration": 19,
    "start_time": "2022-05-12T06:31:10.220Z"
   },
   {
    "duration": 34,
    "start_time": "2022-05-12T06:31:11.482Z"
   },
   {
    "duration": 5,
    "start_time": "2022-05-12T06:31:12.999Z"
   },
   {
    "duration": 6,
    "start_time": "2022-05-12T06:31:14.286Z"
   },
   {
    "duration": 4,
    "start_time": "2022-05-12T06:31:17.057Z"
   },
   {
    "duration": 7,
    "start_time": "2022-05-12T06:31:21.768Z"
   },
   {
    "duration": 11,
    "start_time": "2022-05-12T06:31:22.801Z"
   },
   {
    "duration": 7,
    "start_time": "2022-05-12T06:31:23.994Z"
   },
   {
    "duration": 6,
    "start_time": "2022-05-12T06:31:25.315Z"
   },
   {
    "duration": 5,
    "start_time": "2022-05-12T06:31:27.215Z"
   },
   {
    "duration": 8,
    "start_time": "2022-05-12T06:31:29.240Z"
   },
   {
    "duration": 8,
    "start_time": "2022-05-12T06:31:31.254Z"
   },
   {
    "duration": 15,
    "start_time": "2022-05-12T06:31:33.275Z"
   },
   {
    "duration": 9,
    "start_time": "2022-05-12T06:31:36.322Z"
   },
   {
    "duration": 14,
    "start_time": "2022-05-12T06:31:37.249Z"
   },
   {
    "duration": 12,
    "start_time": "2022-05-12T06:31:38.580Z"
   },
   {
    "duration": 11,
    "start_time": "2022-05-12T06:31:39.265Z"
   },
   {
    "duration": 12,
    "start_time": "2022-05-12T06:31:39.755Z"
   },
   {
    "duration": 14,
    "start_time": "2022-05-12T06:31:41.416Z"
   },
   {
    "duration": 18,
    "start_time": "2022-05-12T06:31:42.166Z"
   },
   {
    "duration": 14,
    "start_time": "2022-05-12T06:31:44.455Z"
   },
   {
    "duration": 18,
    "start_time": "2022-05-12T06:31:45.149Z"
   },
   {
    "duration": 5,
    "start_time": "2022-05-12T06:31:47.095Z"
   },
   {
    "duration": 140,
    "start_time": "2022-05-12T06:31:47.832Z"
   },
   {
    "duration": 23,
    "start_time": "2022-05-12T06:31:52.048Z"
   },
   {
    "duration": 21,
    "start_time": "2022-05-12T06:31:53.717Z"
   },
   {
    "duration": 15,
    "start_time": "2022-05-12T06:31:54.321Z"
   },
   {
    "duration": 23,
    "start_time": "2022-05-12T06:31:55.476Z"
   },
   {
    "duration": 19,
    "start_time": "2022-05-12T06:31:57.202Z"
   },
   {
    "duration": 11,
    "start_time": "2022-05-12T06:33:59.112Z"
   },
   {
    "duration": 235,
    "start_time": "2022-05-12T06:34:02.644Z"
   },
   {
    "duration": 9,
    "start_time": "2022-05-12T06:34:22.200Z"
   },
   {
    "duration": 188,
    "start_time": "2022-05-12T06:34:29.778Z"
   },
   {
    "duration": 231,
    "start_time": "2022-05-12T06:34:55.520Z"
   },
   {
    "duration": 354,
    "start_time": "2022-05-12T06:35:23.271Z"
   },
   {
    "duration": 313,
    "start_time": "2022-05-12T06:35:33.692Z"
   },
   {
    "duration": 169,
    "start_time": "2022-05-12T06:37:33.341Z"
   },
   {
    "duration": 142,
    "start_time": "2022-05-12T06:38:30.192Z"
   },
   {
    "duration": 156,
    "start_time": "2022-05-12T06:38:41.248Z"
   },
   {
    "duration": 125,
    "start_time": "2022-05-12T06:39:27.076Z"
   },
   {
    "duration": 107,
    "start_time": "2022-05-12T06:39:32.591Z"
   },
   {
    "duration": 572,
    "start_time": "2022-05-12T06:39:41.126Z"
   },
   {
    "duration": 20,
    "start_time": "2022-05-12T06:39:41.700Z"
   },
   {
    "duration": 3,
    "start_time": "2022-05-12T06:39:41.722Z"
   },
   {
    "duration": 11,
    "start_time": "2022-05-12T06:39:41.727Z"
   },
   {
    "duration": 32,
    "start_time": "2022-05-12T06:39:41.739Z"
   },
   {
    "duration": 936,
    "start_time": "2022-05-12T06:39:41.773Z"
   },
   {
    "duration": 173,
    "start_time": "2022-05-12T06:39:42.711Z"
   },
   {
    "duration": 8,
    "start_time": "2022-05-12T06:39:42.886Z"
   },
   {
    "duration": 203,
    "start_time": "2022-05-12T06:39:42.896Z"
   },
   {
    "duration": 163,
    "start_time": "2022-05-12T06:39:43.101Z"
   },
   {
    "duration": 8,
    "start_time": "2022-05-12T06:39:43.267Z"
   },
   {
    "duration": 20,
    "start_time": "2022-05-12T06:39:43.277Z"
   },
   {
    "duration": 16,
    "start_time": "2022-05-12T06:39:43.298Z"
   },
   {
    "duration": 28,
    "start_time": "2022-05-12T06:39:43.316Z"
   },
   {
    "duration": 5,
    "start_time": "2022-05-12T06:39:43.362Z"
   },
   {
    "duration": 15,
    "start_time": "2022-05-12T06:39:43.369Z"
   },
   {
    "duration": 8,
    "start_time": "2022-05-12T06:39:43.386Z"
   },
   {
    "duration": 6,
    "start_time": "2022-05-12T06:39:43.395Z"
   },
   {
    "duration": 12,
    "start_time": "2022-05-12T06:39:43.403Z"
   },
   {
    "duration": 7,
    "start_time": "2022-05-12T06:39:43.417Z"
   },
   {
    "duration": 7,
    "start_time": "2022-05-12T06:39:43.425Z"
   },
   {
    "duration": 36,
    "start_time": "2022-05-12T06:39:43.433Z"
   },
   {
    "duration": 6,
    "start_time": "2022-05-12T06:39:43.470Z"
   },
   {
    "duration": 9,
    "start_time": "2022-05-12T06:39:43.477Z"
   },
   {
    "duration": 11,
    "start_time": "2022-05-12T06:39:43.488Z"
   },
   {
    "duration": 11,
    "start_time": "2022-05-12T06:39:43.500Z"
   },
   {
    "duration": 11,
    "start_time": "2022-05-12T06:39:43.512Z"
   },
   {
    "duration": 7,
    "start_time": "2022-05-12T06:39:43.526Z"
   },
   {
    "duration": 46,
    "start_time": "2022-05-12T06:39:43.535Z"
   },
   {
    "duration": 13,
    "start_time": "2022-05-12T06:39:43.583Z"
   },
   {
    "duration": 28,
    "start_time": "2022-05-12T06:39:43.598Z"
   },
   {
    "duration": 63,
    "start_time": "2022-05-12T06:39:43.628Z"
   },
   {
    "duration": 15,
    "start_time": "2022-05-12T06:39:43.693Z"
   },
   {
    "duration": 16,
    "start_time": "2022-05-12T06:39:43.710Z"
   },
   {
    "duration": 7,
    "start_time": "2022-05-12T06:39:43.728Z"
   },
   {
    "duration": 141,
    "start_time": "2022-05-12T06:39:43.737Z"
   },
   {
    "duration": 0,
    "start_time": "2022-05-12T06:39:43.880Z"
   },
   {
    "duration": 0,
    "start_time": "2022-05-12T06:39:43.881Z"
   },
   {
    "duration": 0,
    "start_time": "2022-05-12T06:39:43.883Z"
   },
   {
    "duration": 0,
    "start_time": "2022-05-12T06:39:43.884Z"
   },
   {
    "duration": 0,
    "start_time": "2022-05-12T06:39:43.885Z"
   },
   {
    "duration": 0,
    "start_time": "2022-05-12T06:39:43.887Z"
   },
   {
    "duration": 104,
    "start_time": "2022-05-12T06:41:30.443Z"
   },
   {
    "duration": 5,
    "start_time": "2022-05-12T06:42:11.003Z"
   },
   {
    "duration": 4,
    "start_time": "2022-05-12T06:42:17.752Z"
   },
   {
    "duration": 73,
    "start_time": "2022-05-12T06:42:25.304Z"
   },
   {
    "duration": 13,
    "start_time": "2022-05-12T06:42:26.739Z"
   },
   {
    "duration": 3,
    "start_time": "2022-05-12T06:42:29.897Z"
   },
   {
    "duration": 6,
    "start_time": "2022-05-12T06:42:31.439Z"
   },
   {
    "duration": 13,
    "start_time": "2022-05-12T06:42:33.187Z"
   },
   {
    "duration": 150,
    "start_time": "2022-05-12T06:42:36.467Z"
   },
   {
    "duration": 220,
    "start_time": "2022-05-12T06:42:38.966Z"
   },
   {
    "duration": 8,
    "start_time": "2022-05-12T06:42:41.975Z"
   },
   {
    "duration": 169,
    "start_time": "2022-05-12T06:42:44.321Z"
   },
   {
    "duration": 3,
    "start_time": "2022-05-12T06:42:51.016Z"
   },
   {
    "duration": 106,
    "start_time": "2022-05-12T06:42:51.986Z"
   },
   {
    "duration": 214,
    "start_time": "2022-05-12T06:45:55.800Z"
   },
   {
    "duration": 154,
    "start_time": "2022-05-12T06:49:00.295Z"
   },
   {
    "duration": 3,
    "start_time": "2022-05-12T06:52:58.119Z"
   },
   {
    "duration": 8,
    "start_time": "2022-05-12T06:55:30.745Z"
   },
   {
    "duration": 156,
    "start_time": "2022-05-12T06:55:33.057Z"
   },
   {
    "duration": 439,
    "start_time": "2022-05-12T06:55:43.714Z"
   },
   {
    "duration": 27,
    "start_time": "2022-05-12T06:55:44.155Z"
   },
   {
    "duration": 6,
    "start_time": "2022-05-12T06:55:44.184Z"
   },
   {
    "duration": 12,
    "start_time": "2022-05-12T06:55:44.192Z"
   },
   {
    "duration": 14,
    "start_time": "2022-05-12T06:55:44.205Z"
   },
   {
    "duration": 4,
    "start_time": "2022-05-12T06:55:44.221Z"
   },
   {
    "duration": 939,
    "start_time": "2022-05-12T06:55:44.227Z"
   },
   {
    "duration": 171,
    "start_time": "2022-05-12T06:55:45.168Z"
   },
   {
    "duration": 8,
    "start_time": "2022-05-12T06:55:45.340Z"
   },
   {
    "duration": 224,
    "start_time": "2022-05-12T06:55:45.363Z"
   },
   {
    "duration": 232,
    "start_time": "2022-05-12T06:55:45.589Z"
   },
   {
    "duration": 4,
    "start_time": "2022-05-12T06:55:45.823Z"
   },
   {
    "duration": 16,
    "start_time": "2022-05-12T06:55:45.829Z"
   },
   {
    "duration": 32,
    "start_time": "2022-05-12T06:55:45.847Z"
   },
   {
    "duration": 27,
    "start_time": "2022-05-12T06:55:45.881Z"
   },
   {
    "duration": 4,
    "start_time": "2022-05-12T06:55:45.909Z"
   },
   {
    "duration": 6,
    "start_time": "2022-05-12T06:55:45.915Z"
   },
   {
    "duration": 5,
    "start_time": "2022-05-12T06:55:45.922Z"
   },
   {
    "duration": 6,
    "start_time": "2022-05-12T06:55:45.929Z"
   },
   {
    "duration": 41,
    "start_time": "2022-05-12T06:55:45.936Z"
   },
   {
    "duration": 7,
    "start_time": "2022-05-12T06:55:45.978Z"
   },
   {
    "duration": 7,
    "start_time": "2022-05-12T06:55:45.986Z"
   },
   {
    "duration": 5,
    "start_time": "2022-05-12T06:55:45.994Z"
   },
   {
    "duration": 7,
    "start_time": "2022-05-12T06:55:46.000Z"
   },
   {
    "duration": 6,
    "start_time": "2022-05-12T06:55:46.008Z"
   },
   {
    "duration": 10,
    "start_time": "2022-05-12T06:55:46.016Z"
   },
   {
    "duration": 55,
    "start_time": "2022-05-12T06:55:46.027Z"
   },
   {
    "duration": 9,
    "start_time": "2022-05-12T06:55:46.086Z"
   },
   {
    "duration": 7,
    "start_time": "2022-05-12T06:55:46.097Z"
   },
   {
    "duration": 11,
    "start_time": "2022-05-12T06:55:46.105Z"
   },
   {
    "duration": 10,
    "start_time": "2022-05-12T06:55:46.117Z"
   },
   {
    "duration": 42,
    "start_time": "2022-05-12T06:55:46.129Z"
   },
   {
    "duration": 11,
    "start_time": "2022-05-12T06:55:46.173Z"
   },
   {
    "duration": 10,
    "start_time": "2022-05-12T06:55:46.185Z"
   },
   {
    "duration": 18,
    "start_time": "2022-05-12T06:55:46.197Z"
   },
   {
    "duration": 8,
    "start_time": "2022-05-12T06:55:46.217Z"
   },
   {
    "duration": 136,
    "start_time": "2022-05-12T06:55:46.227Z"
   },
   {
    "duration": 0,
    "start_time": "2022-05-12T06:55:46.366Z"
   },
   {
    "duration": 0,
    "start_time": "2022-05-12T06:55:46.368Z"
   },
   {
    "duration": 0,
    "start_time": "2022-05-12T06:55:46.369Z"
   },
   {
    "duration": 0,
    "start_time": "2022-05-12T06:55:46.370Z"
   },
   {
    "duration": 0,
    "start_time": "2022-05-12T06:55:46.371Z"
   },
   {
    "duration": 0,
    "start_time": "2022-05-12T06:55:46.372Z"
   },
   {
    "duration": 0,
    "start_time": "2022-05-12T06:55:46.373Z"
   },
   {
    "duration": 11,
    "start_time": "2022-05-12T06:56:24.518Z"
   },
   {
    "duration": 228,
    "start_time": "2022-05-12T06:56:25.237Z"
   },
   {
    "duration": 172,
    "start_time": "2022-05-12T06:56:59.657Z"
   },
   {
    "duration": 4,
    "start_time": "2022-05-12T06:59:05.859Z"
   },
   {
    "duration": 6,
    "start_time": "2022-05-12T07:09:22.671Z"
   },
   {
    "duration": 8,
    "start_time": "2022-05-12T07:16:39.481Z"
   },
   {
    "duration": 7,
    "start_time": "2022-05-12T07:16:56.741Z"
   },
   {
    "duration": 5,
    "start_time": "2022-05-12T07:19:32.201Z"
   },
   {
    "duration": 102,
    "start_time": "2022-05-12T07:19:44.655Z"
   },
   {
    "duration": 3,
    "start_time": "2022-05-12T07:21:15.254Z"
   },
   {
    "duration": 200,
    "start_time": "2022-05-12T07:21:18.295Z"
   },
   {
    "duration": 505,
    "start_time": "2022-05-12T07:21:36.600Z"
   },
   {
    "duration": 23,
    "start_time": "2022-05-12T07:21:37.108Z"
   },
   {
    "duration": 3,
    "start_time": "2022-05-12T07:21:37.132Z"
   },
   {
    "duration": 9,
    "start_time": "2022-05-12T07:21:37.138Z"
   },
   {
    "duration": 22,
    "start_time": "2022-05-12T07:21:37.163Z"
   },
   {
    "duration": 3,
    "start_time": "2022-05-12T07:21:37.187Z"
   },
   {
    "duration": 1102,
    "start_time": "2022-05-12T07:21:37.192Z"
   },
   {
    "duration": 192,
    "start_time": "2022-05-12T07:21:38.296Z"
   },
   {
    "duration": 8,
    "start_time": "2022-05-12T07:21:38.490Z"
   },
   {
    "duration": 180,
    "start_time": "2022-05-12T07:21:38.500Z"
   },
   {
    "duration": 5,
    "start_time": "2022-05-12T07:21:38.682Z"
   },
   {
    "duration": 7,
    "start_time": "2022-05-12T07:21:38.688Z"
   },
   {
    "duration": 187,
    "start_time": "2022-05-12T07:21:38.696Z"
   },
   {
    "duration": 4,
    "start_time": "2022-05-12T07:21:38.885Z"
   },
   {
    "duration": 16,
    "start_time": "2022-05-12T07:21:38.890Z"
   },
   {
    "duration": 17,
    "start_time": "2022-05-12T07:21:38.908Z"
   },
   {
    "duration": 55,
    "start_time": "2022-05-12T07:21:38.927Z"
   },
   {
    "duration": 5,
    "start_time": "2022-05-12T07:21:38.983Z"
   },
   {
    "duration": 6,
    "start_time": "2022-05-12T07:21:38.989Z"
   },
   {
    "duration": 6,
    "start_time": "2022-05-12T07:21:38.996Z"
   },
   {
    "duration": 6,
    "start_time": "2022-05-12T07:21:39.004Z"
   },
   {
    "duration": 13,
    "start_time": "2022-05-12T07:21:39.011Z"
   },
   {
    "duration": 6,
    "start_time": "2022-05-12T07:21:39.025Z"
   },
   {
    "duration": 42,
    "start_time": "2022-05-12T07:21:39.033Z"
   },
   {
    "duration": 5,
    "start_time": "2022-05-12T07:21:39.080Z"
   },
   {
    "duration": 7,
    "start_time": "2022-05-12T07:21:39.087Z"
   },
   {
    "duration": 9,
    "start_time": "2022-05-12T07:21:39.096Z"
   },
   {
    "duration": 11,
    "start_time": "2022-05-12T07:21:39.108Z"
   },
   {
    "duration": 9,
    "start_time": "2022-05-12T07:21:39.120Z"
   },
   {
    "duration": 35,
    "start_time": "2022-05-12T07:21:39.130Z"
   },
   {
    "duration": 10,
    "start_time": "2022-05-12T07:21:39.168Z"
   },
   {
    "duration": 12,
    "start_time": "2022-05-12T07:21:39.179Z"
   },
   {
    "duration": 12,
    "start_time": "2022-05-12T07:21:39.192Z"
   },
   {
    "duration": 10,
    "start_time": "2022-05-12T07:21:39.205Z"
   },
   {
    "duration": 9,
    "start_time": "2022-05-12T07:21:39.217Z"
   },
   {
    "duration": 10,
    "start_time": "2022-05-12T07:21:39.228Z"
   },
   {
    "duration": 30,
    "start_time": "2022-05-12T07:21:39.239Z"
   },
   {
    "duration": 11,
    "start_time": "2022-05-12T07:21:39.271Z"
   },
   {
    "duration": 129,
    "start_time": "2022-05-12T07:21:39.284Z"
   },
   {
    "duration": 0,
    "start_time": "2022-05-12T07:21:39.414Z"
   },
   {
    "duration": 0,
    "start_time": "2022-05-12T07:21:39.415Z"
   },
   {
    "duration": 0,
    "start_time": "2022-05-12T07:21:39.416Z"
   },
   {
    "duration": 0,
    "start_time": "2022-05-12T07:21:39.417Z"
   },
   {
    "duration": 0,
    "start_time": "2022-05-12T07:21:39.418Z"
   },
   {
    "duration": 0,
    "start_time": "2022-05-12T07:21:39.419Z"
   },
   {
    "duration": 0,
    "start_time": "2022-05-12T07:21:39.420Z"
   },
   {
    "duration": 0,
    "start_time": "2022-05-12T07:21:39.421Z"
   },
   {
    "duration": 4,
    "start_time": "2022-05-12T07:25:32.770Z"
   },
   {
    "duration": 66,
    "start_time": "2022-05-12T07:26:13.372Z"
   },
   {
    "duration": 13,
    "start_time": "2022-05-12T07:26:14.494Z"
   },
   {
    "duration": 3,
    "start_time": "2022-05-12T07:26:18.102Z"
   },
   {
    "duration": 6,
    "start_time": "2022-05-12T07:26:19.848Z"
   },
   {
    "duration": 13,
    "start_time": "2022-05-12T07:26:21.116Z"
   },
   {
    "duration": 145,
    "start_time": "2022-05-12T07:26:24.422Z"
   },
   {
    "duration": 5,
    "start_time": "2022-05-12T07:26:30.859Z"
   },
   {
    "duration": 4,
    "start_time": "2022-05-12T07:28:20.889Z"
   },
   {
    "duration": 3,
    "start_time": "2022-05-12T07:28:53.013Z"
   },
   {
    "duration": 3,
    "start_time": "2022-05-12T07:29:42.654Z"
   },
   {
    "duration": 148,
    "start_time": "2022-05-12T07:29:44.887Z"
   },
   {
    "duration": 8,
    "start_time": "2022-05-12T07:34:09.987Z"
   },
   {
    "duration": 157,
    "start_time": "2022-05-12T07:34:13.001Z"
   },
   {
    "duration": 3,
    "start_time": "2022-05-12T07:39:24.795Z"
   },
   {
    "duration": 4,
    "start_time": "2022-05-12T07:41:29.596Z"
   },
   {
    "duration": 9,
    "start_time": "2022-05-12T07:42:30.420Z"
   },
   {
    "duration": 197,
    "start_time": "2022-05-12T07:42:31.258Z"
   },
   {
    "duration": 9,
    "start_time": "2022-05-12T07:42:40.241Z"
   },
   {
    "duration": 196,
    "start_time": "2022-05-12T07:42:46.026Z"
   },
   {
    "duration": 11,
    "start_time": "2022-05-12T07:43:04.259Z"
   },
   {
    "duration": 284,
    "start_time": "2022-05-12T07:43:04.324Z"
   },
   {
    "duration": 8,
    "start_time": "2022-05-12T07:43:23.730Z"
   },
   {
    "duration": 487,
    "start_time": "2022-05-12T07:44:03.236Z"
   },
   {
    "duration": 17,
    "start_time": "2022-05-12T07:44:03.725Z"
   },
   {
    "duration": 12,
    "start_time": "2022-05-12T07:44:03.743Z"
   },
   {
    "duration": 15,
    "start_time": "2022-05-12T07:44:03.756Z"
   },
   {
    "duration": 20,
    "start_time": "2022-05-12T07:44:03.773Z"
   },
   {
    "duration": 1037,
    "start_time": "2022-05-12T07:44:03.794Z"
   },
   {
    "duration": 6,
    "start_time": "2022-05-12T07:44:04.833Z"
   },
   {
    "duration": 21,
    "start_time": "2022-05-12T07:44:04.841Z"
   },
   {
    "duration": 218,
    "start_time": "2022-05-12T07:44:04.864Z"
   },
   {
    "duration": 3,
    "start_time": "2022-05-12T07:44:05.086Z"
   },
   {
    "duration": 7,
    "start_time": "2022-05-12T07:44:05.091Z"
   },
   {
    "duration": 14,
    "start_time": "2022-05-12T07:44:05.099Z"
   },
   {
    "duration": 193,
    "start_time": "2022-05-12T07:44:05.115Z"
   },
   {
    "duration": 172,
    "start_time": "2022-05-12T07:44:05.309Z"
   },
   {
    "duration": 4,
    "start_time": "2022-05-12T07:44:05.483Z"
   },
   {
    "duration": 16,
    "start_time": "2022-05-12T07:44:05.489Z"
   },
   {
    "duration": 16,
    "start_time": "2022-05-12T07:44:05.507Z"
   },
   {
    "duration": 58,
    "start_time": "2022-05-12T07:44:05.524Z"
   },
   {
    "duration": 4,
    "start_time": "2022-05-12T07:44:05.584Z"
   },
   {
    "duration": 15,
    "start_time": "2022-05-12T07:44:05.589Z"
   },
   {
    "duration": 6,
    "start_time": "2022-05-12T07:44:05.605Z"
   },
   {
    "duration": 6,
    "start_time": "2022-05-12T07:44:05.612Z"
   },
   {
    "duration": 14,
    "start_time": "2022-05-12T07:44:05.620Z"
   },
   {
    "duration": 6,
    "start_time": "2022-05-12T07:44:05.636Z"
   },
   {
    "duration": 25,
    "start_time": "2022-05-12T07:44:05.643Z"
   },
   {
    "duration": 14,
    "start_time": "2022-05-12T07:44:05.671Z"
   },
   {
    "duration": 5,
    "start_time": "2022-05-12T07:44:05.687Z"
   },
   {
    "duration": 7,
    "start_time": "2022-05-12T07:44:05.696Z"
   },
   {
    "duration": 14,
    "start_time": "2022-05-12T07:44:05.704Z"
   },
   {
    "duration": 10,
    "start_time": "2022-05-12T07:44:05.720Z"
   },
   {
    "duration": 46,
    "start_time": "2022-05-12T07:44:05.731Z"
   },
   {
    "duration": 6,
    "start_time": "2022-05-12T07:44:05.779Z"
   },
   {
    "duration": 10,
    "start_time": "2022-05-12T07:44:05.787Z"
   },
   {
    "duration": 11,
    "start_time": "2022-05-12T07:44:05.798Z"
   },
   {
    "duration": 10,
    "start_time": "2022-05-12T07:44:05.810Z"
   },
   {
    "duration": 10,
    "start_time": "2022-05-12T07:44:05.821Z"
   },
   {
    "duration": 44,
    "start_time": "2022-05-12T07:44:05.833Z"
   },
   {
    "duration": 13,
    "start_time": "2022-05-12T07:44:05.878Z"
   },
   {
    "duration": 4,
    "start_time": "2022-05-12T07:44:05.893Z"
   },
   {
    "duration": 134,
    "start_time": "2022-05-12T07:44:05.898Z"
   },
   {
    "duration": 0,
    "start_time": "2022-05-12T07:44:06.034Z"
   },
   {
    "duration": 0,
    "start_time": "2022-05-12T07:44:06.035Z"
   },
   {
    "duration": 0,
    "start_time": "2022-05-12T07:44:06.036Z"
   },
   {
    "duration": 0,
    "start_time": "2022-05-12T07:44:06.037Z"
   },
   {
    "duration": 0,
    "start_time": "2022-05-12T07:44:06.038Z"
   },
   {
    "duration": 0,
    "start_time": "2022-05-12T07:44:06.039Z"
   },
   {
    "duration": 0,
    "start_time": "2022-05-12T07:44:06.040Z"
   },
   {
    "duration": 0,
    "start_time": "2022-05-12T07:44:06.041Z"
   },
   {
    "duration": 0,
    "start_time": "2022-05-12T07:44:06.042Z"
   },
   {
    "duration": 96,
    "start_time": "2022-05-12T07:44:40.887Z"
   },
   {
    "duration": 270,
    "start_time": "2022-05-12T07:44:42.505Z"
   },
   {
    "duration": 72,
    "start_time": "2022-05-12T07:45:01.620Z"
   },
   {
    "duration": 12,
    "start_time": "2022-05-12T07:45:04.708Z"
   },
   {
    "duration": 3,
    "start_time": "2022-05-12T07:45:07.987Z"
   },
   {
    "duration": 9,
    "start_time": "2022-05-12T07:45:09.479Z"
   },
   {
    "duration": 18,
    "start_time": "2022-05-12T07:45:11.348Z"
   },
   {
    "duration": 152,
    "start_time": "2022-05-12T07:45:15.012Z"
   },
   {
    "duration": 5,
    "start_time": "2022-05-12T07:45:18.182Z"
   },
   {
    "duration": 7,
    "start_time": "2022-05-12T07:45:21.449Z"
   },
   {
    "duration": 165,
    "start_time": "2022-05-12T07:45:24.085Z"
   },
   {
    "duration": 3,
    "start_time": "2022-05-12T07:45:27.134Z"
   },
   {
    "duration": 7,
    "start_time": "2022-05-12T07:45:33.789Z"
   },
   {
    "duration": 165,
    "start_time": "2022-05-12T07:45:35.390Z"
   },
   {
    "duration": 450,
    "start_time": "2022-05-12T07:45:51.902Z"
   },
   {
    "duration": 21,
    "start_time": "2022-05-12T07:45:52.354Z"
   },
   {
    "duration": 10,
    "start_time": "2022-05-12T07:45:52.376Z"
   },
   {
    "duration": 9,
    "start_time": "2022-05-12T07:45:52.388Z"
   },
   {
    "duration": 14,
    "start_time": "2022-05-12T07:45:52.399Z"
   },
   {
    "duration": 1029,
    "start_time": "2022-05-12T07:45:52.414Z"
   },
   {
    "duration": 5,
    "start_time": "2022-05-12T07:45:53.445Z"
   },
   {
    "duration": 9,
    "start_time": "2022-05-12T07:45:53.462Z"
   },
   {
    "duration": 182,
    "start_time": "2022-05-12T07:45:53.472Z"
   },
   {
    "duration": 5,
    "start_time": "2022-05-12T07:45:53.663Z"
   },
   {
    "duration": 17,
    "start_time": "2022-05-12T07:45:53.670Z"
   },
   {
    "duration": 18,
    "start_time": "2022-05-12T07:45:53.688Z"
   },
   {
    "duration": 252,
    "start_time": "2022-05-12T07:45:53.708Z"
   },
   {
    "duration": 188,
    "start_time": "2022-05-12T07:45:53.962Z"
   },
   {
    "duration": 11,
    "start_time": "2022-05-12T07:45:54.152Z"
   },
   {
    "duration": 36,
    "start_time": "2022-05-12T07:45:54.165Z"
   },
   {
    "duration": 18,
    "start_time": "2022-05-12T07:45:54.203Z"
   },
   {
    "duration": 39,
    "start_time": "2022-05-12T07:45:54.223Z"
   },
   {
    "duration": 7,
    "start_time": "2022-05-12T07:45:54.265Z"
   },
   {
    "duration": 13,
    "start_time": "2022-05-12T07:45:54.276Z"
   },
   {
    "duration": 6,
    "start_time": "2022-05-12T07:45:54.291Z"
   },
   {
    "duration": 7,
    "start_time": "2022-05-12T07:45:54.299Z"
   },
   {
    "duration": 11,
    "start_time": "2022-05-12T07:45:54.307Z"
   },
   {
    "duration": 8,
    "start_time": "2022-05-12T07:45:54.320Z"
   },
   {
    "duration": 35,
    "start_time": "2022-05-12T07:45:54.330Z"
   },
   {
    "duration": 6,
    "start_time": "2022-05-12T07:45:54.371Z"
   },
   {
    "duration": 16,
    "start_time": "2022-05-12T07:45:54.379Z"
   },
   {
    "duration": 8,
    "start_time": "2022-05-12T07:45:54.400Z"
   },
   {
    "duration": 17,
    "start_time": "2022-05-12T07:45:54.410Z"
   },
   {
    "duration": 12,
    "start_time": "2022-05-12T07:45:54.429Z"
   },
   {
    "duration": 13,
    "start_time": "2022-05-12T07:45:54.464Z"
   },
   {
    "duration": 11,
    "start_time": "2022-05-12T07:45:54.479Z"
   },
   {
    "duration": 18,
    "start_time": "2022-05-12T07:45:54.492Z"
   },
   {
    "duration": 16,
    "start_time": "2022-05-12T07:45:54.511Z"
   },
   {
    "duration": 8,
    "start_time": "2022-05-12T07:45:54.529Z"
   },
   {
    "duration": 34,
    "start_time": "2022-05-12T07:45:54.539Z"
   },
   {
    "duration": 25,
    "start_time": "2022-05-12T07:45:54.577Z"
   },
   {
    "duration": 12,
    "start_time": "2022-05-12T07:45:54.604Z"
   },
   {
    "duration": 18,
    "start_time": "2022-05-12T07:45:54.618Z"
   },
   {
    "duration": 130,
    "start_time": "2022-05-12T07:45:54.638Z"
   },
   {
    "duration": 0,
    "start_time": "2022-05-12T07:45:54.770Z"
   },
   {
    "duration": 0,
    "start_time": "2022-05-12T07:45:54.772Z"
   },
   {
    "duration": 0,
    "start_time": "2022-05-12T07:45:54.773Z"
   },
   {
    "duration": 0,
    "start_time": "2022-05-12T07:45:54.775Z"
   },
   {
    "duration": 0,
    "start_time": "2022-05-12T07:45:54.776Z"
   },
   {
    "duration": 0,
    "start_time": "2022-05-12T07:45:54.778Z"
   },
   {
    "duration": 0,
    "start_time": "2022-05-12T07:45:54.779Z"
   },
   {
    "duration": 0,
    "start_time": "2022-05-12T07:45:54.780Z"
   },
   {
    "duration": 0,
    "start_time": "2022-05-12T07:45:54.781Z"
   },
   {
    "duration": 0,
    "start_time": "2022-05-12T07:45:54.783Z"
   },
   {
    "duration": 99,
    "start_time": "2022-05-12T07:46:17.744Z"
   },
   {
    "duration": 6,
    "start_time": "2022-05-12T07:46:32.298Z"
   },
   {
    "duration": 168,
    "start_time": "2022-05-12T07:46:36.792Z"
   },
   {
    "duration": 72,
    "start_time": "2022-05-12T07:46:53.959Z"
   },
   {
    "duration": 14,
    "start_time": "2022-05-12T07:46:55.160Z"
   },
   {
    "duration": 4,
    "start_time": "2022-05-12T07:46:59.213Z"
   },
   {
    "duration": 8,
    "start_time": "2022-05-12T07:47:01.007Z"
   },
   {
    "duration": 8,
    "start_time": "2022-05-12T07:47:14.449Z"
   },
   {
    "duration": 13,
    "start_time": "2022-05-12T07:47:17.414Z"
   },
   {
    "duration": 152,
    "start_time": "2022-05-12T07:47:22.510Z"
   },
   {
    "duration": 5,
    "start_time": "2022-05-12T07:47:25.926Z"
   },
   {
    "duration": 6,
    "start_time": "2022-05-12T07:47:30.071Z"
   },
   {
    "duration": 170,
    "start_time": "2022-05-12T07:47:49.584Z"
   },
   {
    "duration": 3,
    "start_time": "2022-05-12T07:47:57.952Z"
   },
   {
    "duration": 3,
    "start_time": "2022-05-12T07:48:01.498Z"
   },
   {
    "duration": 8,
    "start_time": "2022-05-12T07:48:03.144Z"
   },
   {
    "duration": 165,
    "start_time": "2022-05-12T07:48:05.918Z"
   },
   {
    "duration": 6,
    "start_time": "2022-05-12T07:49:05.151Z"
   },
   {
    "duration": 162,
    "start_time": "2022-05-12T07:49:07.189Z"
   },
   {
    "duration": 4,
    "start_time": "2022-05-12T07:49:23.234Z"
   },
   {
    "duration": 6,
    "start_time": "2022-05-12T07:50:36.924Z"
   },
   {
    "duration": 5,
    "start_time": "2022-05-12T07:50:38.276Z"
   },
   {
    "duration": 5,
    "start_time": "2022-05-12T07:50:43.181Z"
   },
   {
    "duration": 5,
    "start_time": "2022-05-12T07:50:44.184Z"
   },
   {
    "duration": 266,
    "start_time": "2022-05-12T07:50:47.076Z"
   },
   {
    "duration": 494,
    "start_time": "2022-05-12T07:51:00.546Z"
   },
   {
    "duration": 18,
    "start_time": "2022-05-12T07:51:01.043Z"
   },
   {
    "duration": 20,
    "start_time": "2022-05-12T07:51:01.070Z"
   },
   {
    "duration": 24,
    "start_time": "2022-05-12T07:51:01.092Z"
   },
   {
    "duration": 31,
    "start_time": "2022-05-12T07:51:01.118Z"
   },
   {
    "duration": 915,
    "start_time": "2022-05-12T07:51:01.151Z"
   },
   {
    "duration": 5,
    "start_time": "2022-05-12T07:51:02.074Z"
   },
   {
    "duration": 8,
    "start_time": "2022-05-12T07:51:02.081Z"
   },
   {
    "duration": 8,
    "start_time": "2022-05-12T07:51:02.090Z"
   },
   {
    "duration": 227,
    "start_time": "2022-05-12T07:51:02.100Z"
   },
   {
    "duration": 3,
    "start_time": "2022-05-12T07:51:02.329Z"
   },
   {
    "duration": 7,
    "start_time": "2022-05-12T07:51:02.334Z"
   },
   {
    "duration": 28,
    "start_time": "2022-05-12T07:51:02.343Z"
   },
   {
    "duration": 164,
    "start_time": "2022-05-12T07:51:02.373Z"
   },
   {
    "duration": 174,
    "start_time": "2022-05-12T07:51:02.539Z"
   },
   {
    "duration": 4,
    "start_time": "2022-05-12T07:51:02.715Z"
   },
   {
    "duration": 19,
    "start_time": "2022-05-12T07:51:02.721Z"
   },
   {
    "duration": 37,
    "start_time": "2022-05-12T07:51:02.742Z"
   },
   {
    "duration": 30,
    "start_time": "2022-05-12T07:51:02.781Z"
   },
   {
    "duration": 5,
    "start_time": "2022-05-12T07:51:02.813Z"
   },
   {
    "duration": 11,
    "start_time": "2022-05-12T07:51:02.819Z"
   },
   {
    "duration": 8,
    "start_time": "2022-05-12T07:51:02.831Z"
   },
   {
    "duration": 30,
    "start_time": "2022-05-12T07:51:02.840Z"
   },
   {
    "duration": 16,
    "start_time": "2022-05-12T07:51:02.874Z"
   },
   {
    "duration": 8,
    "start_time": "2022-05-12T07:51:02.892Z"
   },
   {
    "duration": 7,
    "start_time": "2022-05-12T07:51:02.901Z"
   },
   {
    "duration": 7,
    "start_time": "2022-05-12T07:51:02.910Z"
   },
   {
    "duration": 6,
    "start_time": "2022-05-12T07:51:02.921Z"
   },
   {
    "duration": 39,
    "start_time": "2022-05-12T07:51:02.929Z"
   },
   {
    "duration": 14,
    "start_time": "2022-05-12T07:51:02.974Z"
   },
   {
    "duration": 9,
    "start_time": "2022-05-12T07:51:02.989Z"
   },
   {
    "duration": 11,
    "start_time": "2022-05-12T07:51:03.000Z"
   },
   {
    "duration": 7,
    "start_time": "2022-05-12T07:51:03.013Z"
   },
   {
    "duration": 11,
    "start_time": "2022-05-12T07:51:03.021Z"
   },
   {
    "duration": 40,
    "start_time": "2022-05-12T07:51:03.034Z"
   },
   {
    "duration": 14,
    "start_time": "2022-05-12T07:51:03.076Z"
   },
   {
    "duration": 15,
    "start_time": "2022-05-12T07:51:03.091Z"
   },
   {
    "duration": 9,
    "start_time": "2022-05-12T07:51:03.108Z"
   },
   {
    "duration": 14,
    "start_time": "2022-05-12T07:51:03.118Z"
   },
   {
    "duration": 6,
    "start_time": "2022-05-12T07:51:03.134Z"
   },
   {
    "duration": 229,
    "start_time": "2022-05-12T07:51:03.141Z"
   },
   {
    "duration": 0,
    "start_time": "2022-05-12T07:51:03.372Z"
   },
   {
    "duration": 0,
    "start_time": "2022-05-12T07:51:03.373Z"
   },
   {
    "duration": 0,
    "start_time": "2022-05-12T07:51:03.374Z"
   },
   {
    "duration": 0,
    "start_time": "2022-05-12T07:51:03.375Z"
   },
   {
    "duration": 0,
    "start_time": "2022-05-12T07:51:03.376Z"
   },
   {
    "duration": 0,
    "start_time": "2022-05-12T07:51:03.377Z"
   },
   {
    "duration": 0,
    "start_time": "2022-05-12T07:51:03.378Z"
   },
   {
    "duration": 0,
    "start_time": "2022-05-12T07:51:03.379Z"
   },
   {
    "duration": 0,
    "start_time": "2022-05-12T07:51:03.381Z"
   },
   {
    "duration": 0,
    "start_time": "2022-05-12T07:51:03.382Z"
   },
   {
    "duration": 0,
    "start_time": "2022-05-12T07:51:03.383Z"
   },
   {
    "duration": 205,
    "start_time": "2022-05-12T07:51:30.407Z"
   },
   {
    "duration": 77,
    "start_time": "2022-05-12T07:51:56.337Z"
   },
   {
    "duration": 13,
    "start_time": "2022-05-12T07:51:57.288Z"
   },
   {
    "duration": 4,
    "start_time": "2022-05-12T07:52:01.363Z"
   },
   {
    "duration": 6,
    "start_time": "2022-05-12T07:52:02.881Z"
   },
   {
    "duration": 13,
    "start_time": "2022-05-12T07:52:04.789Z"
   },
   {
    "duration": 201,
    "start_time": "2022-05-12T07:52:08.634Z"
   },
   {
    "duration": 4,
    "start_time": "2022-05-12T07:52:11.727Z"
   },
   {
    "duration": 4,
    "start_time": "2022-05-12T07:52:13.540Z"
   },
   {
    "duration": 6,
    "start_time": "2022-05-12T07:52:14.994Z"
   },
   {
    "duration": 9,
    "start_time": "2022-05-12T07:53:18.776Z"
   },
   {
    "duration": 4,
    "start_time": "2022-05-12T07:53:20.081Z"
   },
   {
    "duration": 8,
    "start_time": "2022-05-12T07:53:29.068Z"
   },
   {
    "duration": 5,
    "start_time": "2022-05-12T07:53:29.932Z"
   },
   {
    "duration": 99,
    "start_time": "2022-05-12T07:55:27.290Z"
   },
   {
    "duration": 17,
    "start_time": "2022-05-12T07:55:35.783Z"
   },
   {
    "duration": 8,
    "start_time": "2022-05-12T07:57:21.149Z"
   },
   {
    "duration": 8,
    "start_time": "2022-05-12T07:57:50.041Z"
   },
   {
    "duration": 6,
    "start_time": "2022-05-12T07:59:13.080Z"
   },
   {
    "duration": 18,
    "start_time": "2022-05-12T08:04:10.369Z"
   },
   {
    "duration": 129,
    "start_time": "2022-05-12T08:07:15.448Z"
   },
   {
    "duration": 133,
    "start_time": "2022-05-12T08:07:24.028Z"
   },
   {
    "duration": 122,
    "start_time": "2022-05-12T08:08:16.354Z"
   },
   {
    "duration": 15,
    "start_time": "2022-05-12T08:11:59.398Z"
   },
   {
    "duration": 14,
    "start_time": "2022-05-12T08:12:11.394Z"
   },
   {
    "duration": 63,
    "start_time": "2022-05-12T08:13:24.669Z"
   },
   {
    "duration": 13,
    "start_time": "2022-05-12T08:13:25.530Z"
   },
   {
    "duration": 3,
    "start_time": "2022-05-12T08:13:27.947Z"
   },
   {
    "duration": 7,
    "start_time": "2022-05-12T08:13:29.279Z"
   },
   {
    "duration": 18,
    "start_time": "2022-05-12T08:13:30.364Z"
   },
   {
    "duration": 146,
    "start_time": "2022-05-12T08:13:33.314Z"
   },
   {
    "duration": 5,
    "start_time": "2022-05-12T08:13:36.340Z"
   },
   {
    "duration": 7,
    "start_time": "2022-05-12T08:13:38.867Z"
   },
   {
    "duration": 16,
    "start_time": "2022-05-12T08:13:41.020Z"
   },
   {
    "duration": 5,
    "start_time": "2022-05-12T08:14:01.056Z"
   },
   {
    "duration": 12,
    "start_time": "2022-05-12T08:14:52.071Z"
   },
   {
    "duration": 5,
    "start_time": "2022-05-12T08:14:55.738Z"
   },
   {
    "duration": 6,
    "start_time": "2022-05-12T08:15:34.863Z"
   },
   {
    "duration": 217,
    "start_time": "2022-05-12T08:15:36.769Z"
   },
   {
    "duration": 5,
    "start_time": "2022-05-12T08:19:13.243Z"
   },
   {
    "duration": 9,
    "start_time": "2022-05-12T08:19:40.061Z"
   },
   {
    "duration": 6,
    "start_time": "2022-05-12T08:19:45.922Z"
   },
   {
    "duration": 5,
    "start_time": "2022-05-12T08:20:10.675Z"
   },
   {
    "duration": 5,
    "start_time": "2022-05-12T08:22:50.409Z"
   },
   {
    "duration": 5,
    "start_time": "2022-05-12T08:22:53.765Z"
   },
   {
    "duration": 6,
    "start_time": "2022-05-12T08:22:55.524Z"
   },
   {
    "duration": 6,
    "start_time": "2022-05-12T08:22:56.524Z"
   },
   {
    "duration": 5,
    "start_time": "2022-05-12T08:23:00.990Z"
   },
   {
    "duration": 4,
    "start_time": "2022-05-12T08:23:20.140Z"
   },
   {
    "duration": 6,
    "start_time": "2022-05-12T08:23:22.136Z"
   },
   {
    "duration": 180,
    "start_time": "2022-05-12T08:23:26.077Z"
   },
   {
    "duration": 4,
    "start_time": "2022-05-12T08:24:23.980Z"
   },
   {
    "duration": 3,
    "start_time": "2022-05-12T08:24:25.863Z"
   },
   {
    "duration": 9,
    "start_time": "2022-05-12T08:24:29.820Z"
   },
   {
    "duration": 221,
    "start_time": "2022-05-12T08:24:32.166Z"
   },
   {
    "duration": 10,
    "start_time": "2022-05-12T08:28:13.662Z"
   },
   {
    "duration": 147,
    "start_time": "2022-05-12T08:28:15.083Z"
   },
   {
    "duration": 8,
    "start_time": "2022-05-12T08:30:05.403Z"
   },
   {
    "duration": 156,
    "start_time": "2022-05-12T08:30:06.591Z"
   },
   {
    "duration": 8,
    "start_time": "2022-05-12T08:30:14.391Z"
   },
   {
    "duration": 16,
    "start_time": "2022-05-12T08:32:22.256Z"
   },
   {
    "duration": 10,
    "start_time": "2022-05-12T08:33:51.169Z"
   },
   {
    "duration": 198,
    "start_time": "2022-05-12T08:33:59.031Z"
   },
   {
    "duration": 21,
    "start_time": "2022-05-12T08:34:27.871Z"
   },
   {
    "duration": 11,
    "start_time": "2022-05-12T08:46:08.789Z"
   },
   {
    "duration": 22,
    "start_time": "2022-05-12T08:46:09.565Z"
   },
   {
    "duration": 10,
    "start_time": "2022-05-12T08:48:25.439Z"
   },
   {
    "duration": 20,
    "start_time": "2022-05-12T08:48:26.179Z"
   },
   {
    "duration": 124,
    "start_time": "2022-05-12T08:48:40.368Z"
   },
   {
    "duration": 20,
    "start_time": "2022-05-12T08:52:08.598Z"
   },
   {
    "duration": 479,
    "start_time": "2022-05-12T08:52:36.062Z"
   },
   {
    "duration": 19,
    "start_time": "2022-05-12T08:52:36.543Z"
   },
   {
    "duration": 3,
    "start_time": "2022-05-12T08:52:36.566Z"
   },
   {
    "duration": 15,
    "start_time": "2022-05-12T08:52:36.572Z"
   },
   {
    "duration": 13,
    "start_time": "2022-05-12T08:52:36.588Z"
   },
   {
    "duration": 916,
    "start_time": "2022-05-12T08:52:36.602Z"
   },
   {
    "duration": 4,
    "start_time": "2022-05-12T08:52:37.520Z"
   },
   {
    "duration": 5,
    "start_time": "2022-05-12T08:52:37.526Z"
   },
   {
    "duration": 5,
    "start_time": "2022-05-12T08:52:37.533Z"
   },
   {
    "duration": 7,
    "start_time": "2022-05-12T08:52:37.540Z"
   },
   {
    "duration": 170,
    "start_time": "2022-05-12T08:52:37.562Z"
   },
   {
    "duration": 3,
    "start_time": "2022-05-12T08:52:37.734Z"
   },
   {
    "duration": 8,
    "start_time": "2022-05-12T08:52:37.739Z"
   },
   {
    "duration": 25,
    "start_time": "2022-05-12T08:52:37.749Z"
   },
   {
    "duration": 182,
    "start_time": "2022-05-12T08:52:37.776Z"
   },
   {
    "duration": 8,
    "start_time": "2022-05-12T08:52:37.960Z"
   },
   {
    "duration": 196,
    "start_time": "2022-05-12T08:52:37.969Z"
   },
   {
    "duration": 18,
    "start_time": "2022-05-12T08:52:38.167Z"
   },
   {
    "duration": 5,
    "start_time": "2022-05-12T08:52:38.187Z"
   },
   {
    "duration": 17,
    "start_time": "2022-05-12T08:52:38.194Z"
   },
   {
    "duration": 17,
    "start_time": "2022-05-12T08:52:38.212Z"
   },
   {
    "duration": 57,
    "start_time": "2022-05-12T08:52:38.230Z"
   },
   {
    "duration": 4,
    "start_time": "2022-05-12T08:52:38.289Z"
   },
   {
    "duration": 7,
    "start_time": "2022-05-12T08:52:38.294Z"
   },
   {
    "duration": 5,
    "start_time": "2022-05-12T08:52:38.302Z"
   },
   {
    "duration": 6,
    "start_time": "2022-05-12T08:52:38.308Z"
   },
   {
    "duration": 11,
    "start_time": "2022-05-12T08:52:38.315Z"
   },
   {
    "duration": 40,
    "start_time": "2022-05-12T08:52:38.329Z"
   },
   {
    "duration": 6,
    "start_time": "2022-05-12T08:52:38.371Z"
   },
   {
    "duration": 6,
    "start_time": "2022-05-12T08:52:38.380Z"
   },
   {
    "duration": 6,
    "start_time": "2022-05-12T08:52:38.388Z"
   },
   {
    "duration": 6,
    "start_time": "2022-05-12T08:52:38.395Z"
   },
   {
    "duration": 12,
    "start_time": "2022-05-12T08:52:38.402Z"
   },
   {
    "duration": 10,
    "start_time": "2022-05-12T08:52:38.415Z"
   },
   {
    "duration": 42,
    "start_time": "2022-05-12T08:52:38.427Z"
   },
   {
    "duration": 11,
    "start_time": "2022-05-12T08:52:38.472Z"
   },
   {
    "duration": 11,
    "start_time": "2022-05-12T08:52:38.484Z"
   },
   {
    "duration": 9,
    "start_time": "2022-05-12T08:52:38.496Z"
   },
   {
    "duration": 8,
    "start_time": "2022-05-12T08:52:38.507Z"
   },
   {
    "duration": 11,
    "start_time": "2022-05-12T08:52:38.517Z"
   },
   {
    "duration": 10,
    "start_time": "2022-05-12T08:52:38.529Z"
   },
   {
    "duration": 31,
    "start_time": "2022-05-12T08:52:38.540Z"
   },
   {
    "duration": 21,
    "start_time": "2022-05-12T08:52:38.572Z"
   },
   {
    "duration": 15,
    "start_time": "2022-05-12T08:52:38.595Z"
   },
   {
    "duration": 10,
    "start_time": "2022-05-12T08:52:38.611Z"
   },
   {
    "duration": 42,
    "start_time": "2022-05-12T08:52:38.622Z"
   },
   {
    "duration": 22,
    "start_time": "2022-05-12T08:52:38.669Z"
   },
   {
    "duration": 11,
    "start_time": "2022-05-12T09:00:50.008Z"
   },
   {
    "duration": 16,
    "start_time": "2022-05-12T09:00:59.039Z"
   },
   {
    "duration": 10,
    "start_time": "2022-05-12T09:01:01.633Z"
   },
   {
    "duration": 18,
    "start_time": "2022-05-12T09:03:57.185Z"
   },
   {
    "duration": 21,
    "start_time": "2022-05-12T09:03:58.856Z"
   },
   {
    "duration": 26,
    "start_time": "2022-05-12T09:08:44.052Z"
   },
   {
    "duration": 138,
    "start_time": "2022-05-12T09:13:25.025Z"
   },
   {
    "duration": 524,
    "start_time": "2022-05-12T09:51:38.859Z"
   },
   {
    "duration": 20,
    "start_time": "2022-05-12T09:51:39.385Z"
   },
   {
    "duration": 4,
    "start_time": "2022-05-12T09:51:39.407Z"
   },
   {
    "duration": 16,
    "start_time": "2022-05-12T09:51:39.422Z"
   },
   {
    "duration": 23,
    "start_time": "2022-05-12T09:51:39.446Z"
   },
   {
    "duration": 1413,
    "start_time": "2022-05-12T09:51:39.471Z"
   },
   {
    "duration": 5,
    "start_time": "2022-05-12T09:51:40.887Z"
   },
   {
    "duration": 17,
    "start_time": "2022-05-12T09:51:40.894Z"
   },
   {
    "duration": 7,
    "start_time": "2022-05-12T09:51:40.922Z"
   },
   {
    "duration": 9,
    "start_time": "2022-05-12T09:51:40.933Z"
   },
   {
    "duration": 221,
    "start_time": "2022-05-12T09:51:40.944Z"
   },
   {
    "duration": 5,
    "start_time": "2022-05-12T09:51:41.167Z"
   },
   {
    "duration": 8,
    "start_time": "2022-05-12T09:51:41.174Z"
   },
   {
    "duration": 11,
    "start_time": "2022-05-12T09:51:41.184Z"
   },
   {
    "duration": 218,
    "start_time": "2022-05-12T09:51:41.197Z"
   },
   {
    "duration": 15,
    "start_time": "2022-05-12T09:51:41.417Z"
   },
   {
    "duration": 202,
    "start_time": "2022-05-12T09:51:41.433Z"
   },
   {
    "duration": 29,
    "start_time": "2022-05-12T09:51:41.638Z"
   },
   {
    "duration": 5,
    "start_time": "2022-05-12T09:51:41.671Z"
   },
   {
    "duration": 28,
    "start_time": "2022-05-12T09:51:41.678Z"
   },
   {
    "duration": 25,
    "start_time": "2022-05-12T09:51:41.722Z"
   },
   {
    "duration": 38,
    "start_time": "2022-05-12T09:51:41.750Z"
   },
   {
    "duration": 6,
    "start_time": "2022-05-12T09:51:41.789Z"
   },
   {
    "duration": 7,
    "start_time": "2022-05-12T09:51:41.823Z"
   },
   {
    "duration": 7,
    "start_time": "2022-05-12T09:51:41.834Z"
   },
   {
    "duration": 9,
    "start_time": "2022-05-12T09:51:41.843Z"
   },
   {
    "duration": 20,
    "start_time": "2022-05-12T09:51:41.854Z"
   },
   {
    "duration": 10,
    "start_time": "2022-05-12T09:51:41.879Z"
   },
   {
    "duration": 40,
    "start_time": "2022-05-12T09:51:41.891Z"
   },
   {
    "duration": 10,
    "start_time": "2022-05-12T09:51:41.932Z"
   },
   {
    "duration": 27,
    "start_time": "2022-05-12T09:51:41.944Z"
   },
   {
    "duration": 9,
    "start_time": "2022-05-12T09:51:41.973Z"
   },
   {
    "duration": 18,
    "start_time": "2022-05-12T09:51:41.985Z"
   },
   {
    "duration": 24,
    "start_time": "2022-05-12T09:51:42.006Z"
   },
   {
    "duration": 22,
    "start_time": "2022-05-12T09:51:42.037Z"
   },
   {
    "duration": 9,
    "start_time": "2022-05-12T09:51:42.061Z"
   },
   {
    "duration": 11,
    "start_time": "2022-05-12T09:51:42.072Z"
   },
   {
    "duration": 12,
    "start_time": "2022-05-12T09:51:42.085Z"
   },
   {
    "duration": 38,
    "start_time": "2022-05-12T09:51:42.099Z"
   },
   {
    "duration": 15,
    "start_time": "2022-05-12T09:51:42.139Z"
   },
   {
    "duration": 12,
    "start_time": "2022-05-12T09:51:42.159Z"
   },
   {
    "duration": 13,
    "start_time": "2022-05-12T09:51:42.173Z"
   },
   {
    "duration": 51,
    "start_time": "2022-05-12T09:51:42.188Z"
   },
   {
    "duration": 22,
    "start_time": "2022-05-12T09:51:42.241Z"
   },
   {
    "duration": 13,
    "start_time": "2022-05-12T09:51:42.265Z"
   },
   {
    "duration": 19,
    "start_time": "2022-05-12T09:51:42.280Z"
   },
   {
    "duration": 51,
    "start_time": "2022-05-12T09:51:42.301Z"
   },
   {
    "duration": 1852,
    "start_time": "2022-05-16T05:33:01.323Z"
   },
   {
    "duration": 78,
    "start_time": "2022-05-16T05:33:03.178Z"
   },
   {
    "duration": 24,
    "start_time": "2022-05-16T05:33:03.606Z"
   },
   {
    "duration": 46,
    "start_time": "2022-05-16T05:49:03.765Z"
   },
   {
    "duration": 27,
    "start_time": "2022-05-16T05:49:07.997Z"
   },
   {
    "duration": 3,
    "start_time": "2022-05-16T05:49:18.627Z"
   },
   {
    "duration": 71,
    "start_time": "2022-05-16T05:49:19.694Z"
   },
   {
    "duration": 21,
    "start_time": "2022-05-16T05:49:20.819Z"
   },
   {
    "duration": 25,
    "start_time": "2022-05-16T05:49:25.116Z"
   },
   {
    "duration": 4,
    "start_time": "2022-05-16T05:49:28.755Z"
   },
   {
    "duration": 13,
    "start_time": "2022-05-16T05:49:44.085Z"
   },
   {
    "duration": 32,
    "start_time": "2022-05-16T05:49:48.244Z"
   },
   {
    "duration": 420,
    "start_time": "2022-05-16T05:49:55.304Z"
   },
   {
    "duration": 8,
    "start_time": "2022-05-16T05:49:57.574Z"
   },
   {
    "duration": 9,
    "start_time": "2022-05-16T05:49:59.711Z"
   },
   {
    "duration": 6,
    "start_time": "2022-05-16T05:50:00.509Z"
   },
   {
    "duration": 9,
    "start_time": "2022-05-16T05:50:01.197Z"
   },
   {
    "duration": 436,
    "start_time": "2022-05-16T05:50:02.653Z"
   },
   {
    "duration": 6,
    "start_time": "2022-05-16T05:50:04.925Z"
   },
   {
    "duration": 5,
    "start_time": "2022-05-16T05:50:06.188Z"
   },
   {
    "duration": 20,
    "start_time": "2022-05-16T05:50:07.384Z"
   },
   {
    "duration": 437,
    "start_time": "2022-05-16T05:50:08.104Z"
   },
   {
    "duration": 8,
    "start_time": "2022-05-16T05:50:10.718Z"
   },
   {
    "duration": 270,
    "start_time": "2022-05-16T05:50:12.046Z"
   },
   {
    "duration": 21,
    "start_time": "2022-05-16T05:50:13.181Z"
   },
   {
    "duration": 1463,
    "start_time": "2022-05-16T05:50:36.990Z"
   },
   {
    "duration": 69,
    "start_time": "2022-05-16T05:50:38.457Z"
   },
   {
    "duration": 30,
    "start_time": "2022-05-16T05:50:38.528Z"
   },
   {
    "duration": 30,
    "start_time": "2022-05-16T05:50:38.561Z"
   },
   {
    "duration": 4,
    "start_time": "2022-05-16T05:50:38.593Z"
   },
   {
    "duration": 16,
    "start_time": "2022-05-16T05:50:38.599Z"
   },
   {
    "duration": 40,
    "start_time": "2022-05-16T05:50:38.617Z"
   },
   {
    "duration": 274,
    "start_time": "2022-05-16T05:50:38.659Z"
   },
   {
    "duration": 6,
    "start_time": "2022-05-16T05:50:38.935Z"
   },
   {
    "duration": 20,
    "start_time": "2022-05-16T05:50:38.945Z"
   },
   {
    "duration": 28,
    "start_time": "2022-05-16T05:50:38.967Z"
   },
   {
    "duration": 12,
    "start_time": "2022-05-16T05:50:38.997Z"
   },
   {
    "duration": 264,
    "start_time": "2022-05-16T05:50:39.011Z"
   },
   {
    "duration": 5,
    "start_time": "2022-05-16T05:50:39.277Z"
   },
   {
    "duration": 32,
    "start_time": "2022-05-16T05:50:39.284Z"
   },
   {
    "duration": 39,
    "start_time": "2022-05-16T05:50:39.318Z"
   },
   {
    "duration": 290,
    "start_time": "2022-05-16T05:50:39.359Z"
   },
   {
    "duration": 6,
    "start_time": "2022-05-16T05:50:39.651Z"
   },
   {
    "duration": 276,
    "start_time": "2022-05-16T05:50:39.659Z"
   },
   {
    "duration": 29,
    "start_time": "2022-05-16T05:50:39.937Z"
   },
   {
    "duration": 4,
    "start_time": "2022-05-16T05:50:39.968Z"
   },
   {
    "duration": 28,
    "start_time": "2022-05-16T05:50:39.974Z"
   },
   {
    "duration": 30,
    "start_time": "2022-05-16T05:50:40.004Z"
   },
   {
    "duration": 6,
    "start_time": "2022-05-16T05:50:40.057Z"
   },
   {
    "duration": 25,
    "start_time": "2022-05-16T05:50:40.065Z"
   },
   {
    "duration": 17,
    "start_time": "2022-05-16T05:50:40.092Z"
   },
   {
    "duration": 16,
    "start_time": "2022-05-16T05:50:40.111Z"
   },
   {
    "duration": 26,
    "start_time": "2022-05-16T05:50:40.133Z"
   },
   {
    "duration": 21,
    "start_time": "2022-05-16T05:50:40.161Z"
   },
   {
    "duration": 26,
    "start_time": "2022-05-16T05:50:40.184Z"
   },
   {
    "duration": 7,
    "start_time": "2022-05-16T05:50:40.212Z"
   },
   {
    "duration": 20,
    "start_time": "2022-05-16T05:50:40.222Z"
   },
   {
    "duration": 20,
    "start_time": "2022-05-16T05:50:40.245Z"
   },
   {
    "duration": 54,
    "start_time": "2022-05-16T05:50:40.267Z"
   },
   {
    "duration": 16,
    "start_time": "2022-05-16T05:50:40.324Z"
   },
   {
    "duration": 23,
    "start_time": "2022-05-16T05:50:40.342Z"
   },
   {
    "duration": 14,
    "start_time": "2022-05-16T05:50:40.367Z"
   },
   {
    "duration": 10,
    "start_time": "2022-05-16T05:50:40.383Z"
   },
   {
    "duration": 14,
    "start_time": "2022-05-16T05:50:40.395Z"
   },
   {
    "duration": 58,
    "start_time": "2022-05-16T05:50:40.412Z"
   },
   {
    "duration": 14,
    "start_time": "2022-05-16T05:50:40.472Z"
   },
   {
    "duration": 17,
    "start_time": "2022-05-16T05:50:40.488Z"
   },
   {
    "duration": 13,
    "start_time": "2022-05-16T05:50:40.507Z"
   },
   {
    "duration": 50,
    "start_time": "2022-05-16T05:50:40.523Z"
   },
   {
    "duration": 28,
    "start_time": "2022-05-16T05:50:40.575Z"
   },
   {
    "duration": 53,
    "start_time": "2022-05-16T05:50:40.605Z"
   },
   {
    "duration": 17,
    "start_time": "2022-05-16T05:50:40.660Z"
   },
   {
    "duration": 26,
    "start_time": "2022-05-16T05:50:40.679Z"
   },
   {
    "duration": 58,
    "start_time": "2022-05-16T05:50:40.708Z"
   }
  ],
  "kernelspec": {
   "display_name": "Python 3 (ipykernel)",
   "language": "python",
   "name": "python3"
  },
  "language_info": {
   "codemirror_mode": {
    "name": "ipython",
    "version": 3
   },
   "file_extension": ".py",
   "mimetype": "text/x-python",
   "name": "python",
   "nbconvert_exporter": "python",
   "pygments_lexer": "ipython3",
   "version": "3.9.7"
  },
  "toc": {
   "base_numbering": 1,
   "nav_menu": {},
   "number_sections": true,
   "sideBar": true,
   "skip_h1_title": true,
   "title_cell": "Table of Contents",
   "title_sidebar": "Contents",
   "toc_cell": false,
   "toc_position": {
    "height": "calc(100% - 180px)",
    "left": "10px",
    "top": "150px",
    "width": "289.6px"
   },
   "toc_section_display": true,
   "toc_window_display": true
  }
 },
 "nbformat": 4,
 "nbformat_minor": 5
}
