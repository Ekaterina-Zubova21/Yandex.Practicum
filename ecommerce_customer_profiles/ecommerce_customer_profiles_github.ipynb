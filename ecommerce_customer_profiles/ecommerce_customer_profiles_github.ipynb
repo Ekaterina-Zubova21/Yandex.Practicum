{
 "cells": [
  {
   "cell_type": "markdown",
   "id": "2aab2aa7",
   "metadata": {},
   "source": [
    "Ссылка на презентацию:"
   ]
  },
  {
   "cell_type": "markdown",
   "id": "e524b86d",
   "metadata": {},
   "source": [
    "https://drive.google.com/file/d/1O91Sa0z7Bny28I71k8RCIE3CQU98QutE/view?usp=sharing"
   ]
  },
  {
   "cell_type": "markdown",
   "id": "77811058",
   "metadata": {},
   "source": [
    "# E-commerce — Выявление профилей потребления"
   ]
  },
  {
   "cell_type": "markdown",
   "id": "73b87cb3",
   "metadata": {
    "toc": true
   },
   "source": [
    "<h1>Table of Contents<span class=\"tocSkip\"></span></h1>\n",
    "<div class=\"toc\"><ul class=\"toc-item\"><li><span><a href=\"#E-commerce-—-Выявление-профилей-потребления\" data-toc-modified-id=\"E-commerce-—-Выявление-профилей-потребления-1\"><span class=\"toc-item-num\">1&nbsp;&nbsp;</span>E-commerce — Выявление профилей потребления</a></span><ul class=\"toc-item\"><li><span><a href=\"#Описание\" data-toc-modified-id=\"Описание-1.1\"><span class=\"toc-item-num\">1.1&nbsp;&nbsp;</span>Описание</a></span></li><li><span><a href=\"#Импорт-библиотек-и-данных\" data-toc-modified-id=\"Импорт-библиотек-и-данных-1.2\"><span class=\"toc-item-num\">1.2&nbsp;&nbsp;</span>Импорт библиотек и данных</a></span></li><li><span><a href=\"#Предобработка-данных\" data-toc-modified-id=\"Предобработка-данных-1.3\"><span class=\"toc-item-num\">1.3&nbsp;&nbsp;</span>Предобработка данных</a></span></li><li><span><a href=\"#Исследовательский-анализ-рынка\" data-toc-modified-id=\"Исследовательский-анализ-рынка-1.4\"><span class=\"toc-item-num\">1.4&nbsp;&nbsp;</span>Исследовательский анализ рынка</a></span><ul class=\"toc-item\"><li><span><a href=\"#Выручка-по-дням\" data-toc-modified-id=\"Выручка-по-дням-1.4.1\"><span class=\"toc-item-num\">1.4.1&nbsp;&nbsp;</span>Выручка по дням</a></span></li><li><span><a href=\"#Количество-товаров-по-дням\" data-toc-modified-id=\"Количество-товаров-по-дням-1.4.2\"><span class=\"toc-item-num\">1.4.2&nbsp;&nbsp;</span>Количество товаров по дням</a></span></li><li><span><a href=\"#Количество-заказов-по-дням\" data-toc-modified-id=\"Количество-заказов-по-дням-1.4.3\"><span class=\"toc-item-num\">1.4.3&nbsp;&nbsp;</span>Количество заказов по дням</a></span></li><li><span><a href=\"#Средний-чек-по-дням\" data-toc-modified-id=\"Средний-чек-по-дням-1.4.4\"><span class=\"toc-item-num\">1.4.4&nbsp;&nbsp;</span>Средний чек по дням</a></span></li><li><span><a href=\"#Количество-заказов-на-покупателя\" data-toc-modified-id=\"Количество-заказов-на-покупателя-1.4.5\"><span class=\"toc-item-num\">1.4.5&nbsp;&nbsp;</span>Количество заказов на покупателя</a></span></li><li><span><a href=\"#Средний-чек-на-покупателя\" data-toc-modified-id=\"Средний-чек-на-покупателя-1.4.6\"><span class=\"toc-item-num\">1.4.6&nbsp;&nbsp;</span>Средний чек на покупателя</a></span></li><li><span><a href=\"#Самые-продаваемые-товары\" data-toc-modified-id=\"Самые-продаваемые-товары-1.4.7\"><span class=\"toc-item-num\">1.4.7&nbsp;&nbsp;</span>Самые продаваемые товары</a></span></li></ul></li><li><span><a href=\"#Сегментация-на-основе-сезонности\" data-toc-modified-id=\"Сегментация-на-основе-сезонности-1.5\"><span class=\"toc-item-num\">1.5&nbsp;&nbsp;</span>Сегментация на основе сезонности</a></span></li><li><span><a href=\"#Проверка-статистических-гипотез\" data-toc-modified-id=\"Проверка-статистических-гипотез-1.6\"><span class=\"toc-item-num\">1.6&nbsp;&nbsp;</span>Проверка статистических гипотез</a></span><ul class=\"toc-item\"><li><span><a href=\"#Статистическая-проверка-сезонности-товаров\" data-toc-modified-id=\"Статистическая-проверка-сезонности-товаров-1.6.1\"><span class=\"toc-item-num\">1.6.1&nbsp;&nbsp;</span>Статистическая проверка сезонности товаров</a></span></li><li><span><a href=\"#Сезонные-покупатели-vs.-несезонные-покупатели\" data-toc-modified-id=\"Сезонные-покупатели-vs.-несезонные-покупатели-1.6.2\"><span class=\"toc-item-num\">1.6.2&nbsp;&nbsp;</span>Сезонные покупатели vs. несезонные покупатели</a></span></li></ul></li><li><span><a href=\"#Выводы-и-рекомендации\" data-toc-modified-id=\"Выводы-и-рекомендации-1.7\"><span class=\"toc-item-num\">1.7&nbsp;&nbsp;</span>Выводы и рекомендации</a></span></li></ul></li></ul></div>"
   ]
  },
  {
   "cell_type": "markdown",
   "id": "278269ac",
   "metadata": {},
   "source": [
    "## Описание "
   ]
  },
  {
   "cell_type": "markdown",
   "id": "910f1839",
   "metadata": {},
   "source": [
    "Для интернет-магазин товаров для дома «Пока все ещё тут» необходимо провести сегментацию покупателей для разработки мер по увеличению выручки. \n",
    "\n",
    "**Задача:**\n",
    "\n",
    "Сегментировать покупателей по профилю потребления.\n",
    "\n",
    "Для этого необходимо:\n",
    "\n",
    "- Провести исследовательский анализ данных\n",
    "- Сегментировать покупателей на основе истории их покупок\n",
    "- Сформулировать и проверить статистические гипотезы\n",
    "\n",
    "**Описание данных:**\n",
    "\n",
    "Датасет описывает транзакции интернет-магазина товаров для дома и быта «Пока все ещё тут».\n",
    "\n",
    "Колонки в  *ecommerce_dataset.csv* :\n",
    "\n",
    "- `date` — дата заказа;\n",
    "- `customer_id` — идентификатор покупателя;\n",
    "- `order_id` — идентификатор заказа;\n",
    "- `product` — наименование товара;\n",
    "- `quantity` — количество товара в заказе;\n",
    "- `price` — цена товара."
   ]
  },
  {
   "cell_type": "markdown",
   "id": "b0a5cba8",
   "metadata": {},
   "source": [
    "## Импорт библиотек и данных"
   ]
  },
  {
   "cell_type": "markdown",
   "id": "fb413dd9",
   "metadata": {},
   "source": [
    "Импортируем необходимые для исследования библиотеки."
   ]
  },
  {
   "cell_type": "code",
   "execution_count": 1,
   "id": "ef3e77b8",
   "metadata": {},
   "outputs": [],
   "source": [
    "import pandas as pd\n",
    "import seaborn as sns\n",
    "import numpy as np\n",
    "\n",
    "\n",
    "from datetime import datetime\n",
    "from matplotlib import pyplot as plt\n",
    "from scipy import stats as st\n"
   ]
  },
  {
   "cell_type": "code",
   "execution_count": 2,
   "id": "b3bc34a1",
   "metadata": {},
   "outputs": [],
   "source": [
    "try: \n",
    "    df = pd.read_csv('datasets/ecommerce_dataset.csv')\n",
    "except FileNotFoundError:\n",
    "    df = pd.read_csv('/datasets/ecommerce_dataset.csv')"
   ]
  },
  {
   "cell_type": "markdown",
   "id": "fe53194c",
   "metadata": {},
   "source": [
    "## Предобработка данных"
   ]
  },
  {
   "cell_type": "markdown",
   "id": "8849fe59",
   "metadata": {},
   "source": [
    "Изучим имеющиеся у нас данные."
   ]
  },
  {
   "cell_type": "code",
   "execution_count": 3,
   "id": "ecb12c32",
   "metadata": {},
   "outputs": [
    {
     "data": {
      "text/html": [
       "<div>\n",
       "<style scoped>\n",
       "    .dataframe tbody tr th:only-of-type {\n",
       "        vertical-align: middle;\n",
       "    }\n",
       "\n",
       "    .dataframe tbody tr th {\n",
       "        vertical-align: top;\n",
       "    }\n",
       "\n",
       "    .dataframe thead th {\n",
       "        text-align: right;\n",
       "    }\n",
       "</style>\n",
       "<table border=\"1\" class=\"dataframe\">\n",
       "  <thead>\n",
       "    <tr style=\"text-align: right;\">\n",
       "      <th></th>\n",
       "      <th>date</th>\n",
       "      <th>customer_id</th>\n",
       "      <th>order_id</th>\n",
       "      <th>product</th>\n",
       "      <th>quantity</th>\n",
       "      <th>price</th>\n",
       "    </tr>\n",
       "  </thead>\n",
       "  <tbody>\n",
       "    <tr>\n",
       "      <th>0</th>\n",
       "      <td>2018100100</td>\n",
       "      <td>ee47d746-6d2f-4d3c-9622-c31412542920</td>\n",
       "      <td>68477</td>\n",
       "      <td>Комнатное растение в горшке Алое Вера, d12, h30</td>\n",
       "      <td>1</td>\n",
       "      <td>142.0</td>\n",
       "    </tr>\n",
       "    <tr>\n",
       "      <th>1</th>\n",
       "      <td>2018100100</td>\n",
       "      <td>ee47d746-6d2f-4d3c-9622-c31412542920</td>\n",
       "      <td>68477</td>\n",
       "      <td>Комнатное растение в горшке Кофе Арабика, d12,...</td>\n",
       "      <td>1</td>\n",
       "      <td>194.0</td>\n",
       "    </tr>\n",
       "    <tr>\n",
       "      <th>2</th>\n",
       "      <td>2018100100</td>\n",
       "      <td>ee47d746-6d2f-4d3c-9622-c31412542920</td>\n",
       "      <td>68477</td>\n",
       "      <td>Радермахера d-12 см h-20 см</td>\n",
       "      <td>1</td>\n",
       "      <td>112.0</td>\n",
       "    </tr>\n",
       "    <tr>\n",
       "      <th>3</th>\n",
       "      <td>2018100100</td>\n",
       "      <td>ee47d746-6d2f-4d3c-9622-c31412542920</td>\n",
       "      <td>68477</td>\n",
       "      <td>Хризолидокарпус Лутесценс d-9 см</td>\n",
       "      <td>1</td>\n",
       "      <td>179.0</td>\n",
       "    </tr>\n",
       "    <tr>\n",
       "      <th>4</th>\n",
       "      <td>2018100100</td>\n",
       "      <td>ee47d746-6d2f-4d3c-9622-c31412542920</td>\n",
       "      <td>68477</td>\n",
       "      <td>Циперус Зумула d-12 см h-25 см</td>\n",
       "      <td>1</td>\n",
       "      <td>112.0</td>\n",
       "    </tr>\n",
       "    <tr>\n",
       "      <th>5</th>\n",
       "      <td>2018100100</td>\n",
       "      <td>ee47d746-6d2f-4d3c-9622-c31412542920</td>\n",
       "      <td>68477</td>\n",
       "      <td>Шеффлера Лузеана d-9 см</td>\n",
       "      <td>1</td>\n",
       "      <td>164.0</td>\n",
       "    </tr>\n",
       "    <tr>\n",
       "      <th>6</th>\n",
       "      <td>2018100100</td>\n",
       "      <td>ee47d746-6d2f-4d3c-9622-c31412542920</td>\n",
       "      <td>68477</td>\n",
       "      <td>Юкка нитчатая d-12 см h-25-35 см</td>\n",
       "      <td>1</td>\n",
       "      <td>134.0</td>\n",
       "    </tr>\n",
       "    <tr>\n",
       "      <th>7</th>\n",
       "      <td>2018100108</td>\n",
       "      <td>375e0724-f033-4c76-b579-84969cf38ee2</td>\n",
       "      <td>68479</td>\n",
       "      <td>Настенная сушилка для белья Gimi Brio Super 100</td>\n",
       "      <td>1</td>\n",
       "      <td>824.0</td>\n",
       "    </tr>\n",
       "    <tr>\n",
       "      <th>8</th>\n",
       "      <td>2018100108</td>\n",
       "      <td>6644e5b4-9934-4863-9778-aaa125207701</td>\n",
       "      <td>68478</td>\n",
       "      <td>Таз пластмассовый 21,0 л круглый \"Водолей\" С61...</td>\n",
       "      <td>1</td>\n",
       "      <td>269.0</td>\n",
       "    </tr>\n",
       "    <tr>\n",
       "      <th>9</th>\n",
       "      <td>2018100109</td>\n",
       "      <td>c971fb21-d54c-4134-938f-16b62ee86d3b</td>\n",
       "      <td>68480</td>\n",
       "      <td>Чехол для гладильной доски Colombo Persia Beig...</td>\n",
       "      <td>1</td>\n",
       "      <td>674.0</td>\n",
       "    </tr>\n",
       "  </tbody>\n",
       "</table>\n",
       "</div>"
      ],
      "text/plain": [
       "         date                           customer_id  order_id  \\\n",
       "0  2018100100  ee47d746-6d2f-4d3c-9622-c31412542920     68477   \n",
       "1  2018100100  ee47d746-6d2f-4d3c-9622-c31412542920     68477   \n",
       "2  2018100100  ee47d746-6d2f-4d3c-9622-c31412542920     68477   \n",
       "3  2018100100  ee47d746-6d2f-4d3c-9622-c31412542920     68477   \n",
       "4  2018100100  ee47d746-6d2f-4d3c-9622-c31412542920     68477   \n",
       "5  2018100100  ee47d746-6d2f-4d3c-9622-c31412542920     68477   \n",
       "6  2018100100  ee47d746-6d2f-4d3c-9622-c31412542920     68477   \n",
       "7  2018100108  375e0724-f033-4c76-b579-84969cf38ee2     68479   \n",
       "8  2018100108  6644e5b4-9934-4863-9778-aaa125207701     68478   \n",
       "9  2018100109  c971fb21-d54c-4134-938f-16b62ee86d3b     68480   \n",
       "\n",
       "                                             product  quantity  price  \n",
       "0    Комнатное растение в горшке Алое Вера, d12, h30         1  142.0  \n",
       "1  Комнатное растение в горшке Кофе Арабика, d12,...         1  194.0  \n",
       "2                        Радермахера d-12 см h-20 см         1  112.0  \n",
       "3                   Хризолидокарпус Лутесценс d-9 см         1  179.0  \n",
       "4                     Циперус Зумула d-12 см h-25 см         1  112.0  \n",
       "5                            Шеффлера Лузеана d-9 см         1  164.0  \n",
       "6                   Юкка нитчатая d-12 см h-25-35 см         1  134.0  \n",
       "7    Настенная сушилка для белья Gimi Brio Super 100         1  824.0  \n",
       "8  Таз пластмассовый 21,0 л круглый \"Водолей\" С61...         1  269.0  \n",
       "9  Чехол для гладильной доски Colombo Persia Beig...         1  674.0  "
      ]
     },
     "execution_count": 3,
     "metadata": {},
     "output_type": "execute_result"
    }
   ],
   "source": [
    "df.head(10)"
   ]
  },
  {
   "cell_type": "code",
   "execution_count": 4,
   "id": "c675b6c4",
   "metadata": {
    "scrolled": true
   },
   "outputs": [
    {
     "name": "stdout",
     "output_type": "stream",
     "text": [
      "<class 'pandas.core.frame.DataFrame'>\n",
      "RangeIndex: 6737 entries, 0 to 6736\n",
      "Data columns (total 6 columns):\n",
      " #   Column       Non-Null Count  Dtype  \n",
      "---  ------       --------------  -----  \n",
      " 0   date         6737 non-null   int64  \n",
      " 1   customer_id  6737 non-null   object \n",
      " 2   order_id     6737 non-null   int64  \n",
      " 3   product      6737 non-null   object \n",
      " 4   quantity     6737 non-null   int64  \n",
      " 5   price        6737 non-null   float64\n",
      "dtypes: float64(1), int64(3), object(2)\n",
      "memory usage: 315.9+ KB\n"
     ]
    }
   ],
   "source": [
    "df.info()"
   ]
  },
  {
   "cell_type": "markdown",
   "id": "1b2771fe",
   "metadata": {},
   "source": [
    "Пропусков в данных не обнаружено. Названия всех столбцов приведены к нижнему регистру.\n",
    "\n",
    "Приведем столбец date к формату datetime."
   ]
  },
  {
   "cell_type": "code",
   "execution_count": 5,
   "id": "7f63ca93",
   "metadata": {},
   "outputs": [
    {
     "data": {
      "text/html": [
       "<div>\n",
       "<style scoped>\n",
       "    .dataframe tbody tr th:only-of-type {\n",
       "        vertical-align: middle;\n",
       "    }\n",
       "\n",
       "    .dataframe tbody tr th {\n",
       "        vertical-align: top;\n",
       "    }\n",
       "\n",
       "    .dataframe thead th {\n",
       "        text-align: right;\n",
       "    }\n",
       "</style>\n",
       "<table border=\"1\" class=\"dataframe\">\n",
       "  <thead>\n",
       "    <tr style=\"text-align: right;\">\n",
       "      <th></th>\n",
       "      <th>date</th>\n",
       "      <th>customer_id</th>\n",
       "      <th>order_id</th>\n",
       "      <th>product</th>\n",
       "      <th>quantity</th>\n",
       "      <th>price</th>\n",
       "    </tr>\n",
       "  </thead>\n",
       "  <tbody>\n",
       "    <tr>\n",
       "      <th>0</th>\n",
       "      <td>2018-10-01</td>\n",
       "      <td>ee47d746-6d2f-4d3c-9622-c31412542920</td>\n",
       "      <td>68477</td>\n",
       "      <td>Комнатное растение в горшке Алое Вера, d12, h30</td>\n",
       "      <td>1</td>\n",
       "      <td>142.0</td>\n",
       "    </tr>\n",
       "    <tr>\n",
       "      <th>1</th>\n",
       "      <td>2018-10-01</td>\n",
       "      <td>ee47d746-6d2f-4d3c-9622-c31412542920</td>\n",
       "      <td>68477</td>\n",
       "      <td>Комнатное растение в горшке Кофе Арабика, d12,...</td>\n",
       "      <td>1</td>\n",
       "      <td>194.0</td>\n",
       "    </tr>\n",
       "    <tr>\n",
       "      <th>2</th>\n",
       "      <td>2018-10-01</td>\n",
       "      <td>ee47d746-6d2f-4d3c-9622-c31412542920</td>\n",
       "      <td>68477</td>\n",
       "      <td>Радермахера d-12 см h-20 см</td>\n",
       "      <td>1</td>\n",
       "      <td>112.0</td>\n",
       "    </tr>\n",
       "    <tr>\n",
       "      <th>3</th>\n",
       "      <td>2018-10-01</td>\n",
       "      <td>ee47d746-6d2f-4d3c-9622-c31412542920</td>\n",
       "      <td>68477</td>\n",
       "      <td>Хризолидокарпус Лутесценс d-9 см</td>\n",
       "      <td>1</td>\n",
       "      <td>179.0</td>\n",
       "    </tr>\n",
       "    <tr>\n",
       "      <th>4</th>\n",
       "      <td>2018-10-01</td>\n",
       "      <td>ee47d746-6d2f-4d3c-9622-c31412542920</td>\n",
       "      <td>68477</td>\n",
       "      <td>Циперус Зумула d-12 см h-25 см</td>\n",
       "      <td>1</td>\n",
       "      <td>112.0</td>\n",
       "    </tr>\n",
       "  </tbody>\n",
       "</table>\n",
       "</div>"
      ],
      "text/plain": [
       "        date                           customer_id  order_id  \\\n",
       "0 2018-10-01  ee47d746-6d2f-4d3c-9622-c31412542920     68477   \n",
       "1 2018-10-01  ee47d746-6d2f-4d3c-9622-c31412542920     68477   \n",
       "2 2018-10-01  ee47d746-6d2f-4d3c-9622-c31412542920     68477   \n",
       "3 2018-10-01  ee47d746-6d2f-4d3c-9622-c31412542920     68477   \n",
       "4 2018-10-01  ee47d746-6d2f-4d3c-9622-c31412542920     68477   \n",
       "\n",
       "                                             product  quantity  price  \n",
       "0    Комнатное растение в горшке Алое Вера, d12, h30         1  142.0  \n",
       "1  Комнатное растение в горшке Кофе Арабика, d12,...         1  194.0  \n",
       "2                        Радермахера d-12 см h-20 см         1  112.0  \n",
       "3                   Хризолидокарпус Лутесценс d-9 см         1  179.0  \n",
       "4                     Циперус Зумула d-12 см h-25 см         1  112.0  "
      ]
     },
     "execution_count": 5,
     "metadata": {},
     "output_type": "execute_result"
    }
   ],
   "source": [
    "df['date']  = pd.to_datetime(df['date'], format='%Y%m%d%H')\n",
    "df.head()"
   ]
  },
  {
   "cell_type": "markdown",
   "id": "f7947a36",
   "metadata": {},
   "source": [
    "Проверим, если в данных полные дубликаты."
   ]
  },
  {
   "cell_type": "code",
   "execution_count": 6,
   "id": "1374808f",
   "metadata": {},
   "outputs": [
    {
     "data": {
      "text/plain": [
       "0"
      ]
     },
     "execution_count": 6,
     "metadata": {},
     "output_type": "execute_result"
    }
   ],
   "source": [
    "df.duplicated().sum()"
   ]
  },
  {
   "cell_type": "markdown",
   "id": "d5e28b6b",
   "metadata": {},
   "source": [
    "Полных дубликатов не обнаружено.\n",
    "Далее проверим не записан ли один и тот же заказ на нескольких покупателей/дат."
   ]
  },
  {
   "cell_type": "code",
   "execution_count": 7,
   "id": "827ab15c",
   "metadata": {},
   "outputs": [
    {
     "data": {
      "text/plain": [
       "29"
      ]
     },
     "execution_count": 7,
     "metadata": {},
     "output_type": "execute_result"
    }
   ],
   "source": [
    "order_customer_duplicated = df.groupby('order_id').agg({'customer_id':'nunique'}).reset_index().sort_values(by='customer_id', ascending=False)\n",
    "order_customer_duplicated = order_customer_duplicated.query('customer_id >1')\n",
    "order_customer_duplicated.shape[0]"
   ]
  },
  {
   "cell_type": "code",
   "execution_count": 8,
   "id": "f3081db8",
   "metadata": {},
   "outputs": [
    {
     "data": {
      "text/html": [
       "<div>\n",
       "<style scoped>\n",
       "    .dataframe tbody tr th:only-of-type {\n",
       "        vertical-align: middle;\n",
       "    }\n",
       "\n",
       "    .dataframe tbody tr th {\n",
       "        vertical-align: top;\n",
       "    }\n",
       "\n",
       "    .dataframe thead th {\n",
       "        text-align: right;\n",
       "    }\n",
       "</style>\n",
       "<table border=\"1\" class=\"dataframe\">\n",
       "  <thead>\n",
       "    <tr style=\"text-align: right;\">\n",
       "      <th></th>\n",
       "      <th>order_id</th>\n",
       "      <th>customer_id</th>\n",
       "    </tr>\n",
       "  </thead>\n",
       "  <tbody>\n",
       "    <tr>\n",
       "      <th>2610</th>\n",
       "      <td>72845</td>\n",
       "      <td>4</td>\n",
       "    </tr>\n",
       "    <tr>\n",
       "      <th>1914</th>\n",
       "      <td>71480</td>\n",
       "      <td>3</td>\n",
       "    </tr>\n",
       "    <tr>\n",
       "      <th>902</th>\n",
       "      <td>69485</td>\n",
       "      <td>3</td>\n",
       "    </tr>\n",
       "    <tr>\n",
       "      <th>817</th>\n",
       "      <td>69310</td>\n",
       "      <td>2</td>\n",
       "    </tr>\n",
       "    <tr>\n",
       "      <th>1066</th>\n",
       "      <td>69833</td>\n",
       "      <td>2</td>\n",
       "    </tr>\n",
       "  </tbody>\n",
       "</table>\n",
       "</div>"
      ],
      "text/plain": [
       "      order_id  customer_id\n",
       "2610     72845            4\n",
       "1914     71480            3\n",
       "902      69485            3\n",
       "817      69310            2\n",
       "1066     69833            2"
      ]
     },
     "execution_count": 8,
     "metadata": {},
     "output_type": "execute_result"
    }
   ],
   "source": [
    "order_customer_duplicated.head()"
   ]
  },
  {
   "cell_type": "markdown",
   "id": "24a265a9",
   "metadata": {},
   "source": [
    "Выявлено, что 29 заказов записаны на разных покупателей."
   ]
  },
  {
   "cell_type": "code",
   "execution_count": 9,
   "id": "84d8e314",
   "metadata": {},
   "outputs": [
    {
     "data": {
      "text/html": [
       "<div>\n",
       "<style scoped>\n",
       "    .dataframe tbody tr th:only-of-type {\n",
       "        vertical-align: middle;\n",
       "    }\n",
       "\n",
       "    .dataframe tbody tr th {\n",
       "        vertical-align: top;\n",
       "    }\n",
       "\n",
       "    .dataframe thead th {\n",
       "        text-align: right;\n",
       "    }\n",
       "</style>\n",
       "<table border=\"1\" class=\"dataframe\">\n",
       "  <thead>\n",
       "    <tr style=\"text-align: right;\">\n",
       "      <th></th>\n",
       "      <th>date</th>\n",
       "      <th>customer_id</th>\n",
       "      <th>order_id</th>\n",
       "      <th>product</th>\n",
       "      <th>quantity</th>\n",
       "      <th>price</th>\n",
       "    </tr>\n",
       "  </thead>\n",
       "  <tbody>\n",
       "    <tr>\n",
       "      <th>6504</th>\n",
       "      <td>2019-10-03 14:00:00</td>\n",
       "      <td>d8465f63-35db-4809-aff3-a8f7ebfc257f</td>\n",
       "      <td>72845</td>\n",
       "      <td>Муляж Яблоко зеленый 9 см полиуретан</td>\n",
       "      <td>40</td>\n",
       "      <td>59.0</td>\n",
       "    </tr>\n",
       "    <tr>\n",
       "      <th>6505</th>\n",
       "      <td>2019-10-03 15:00:00</td>\n",
       "      <td>0309d37c-ab5f-4793-ba72-5484c019b840</td>\n",
       "      <td>72845</td>\n",
       "      <td>Муляж Яблоко зеленый 9 см полиуретан</td>\n",
       "      <td>40</td>\n",
       "      <td>59.0</td>\n",
       "    </tr>\n",
       "    <tr>\n",
       "      <th>6508</th>\n",
       "      <td>2019-10-04 08:00:00</td>\n",
       "      <td>25a8cd52-3efa-48ee-a6bd-d413d7e2b42f</td>\n",
       "      <td>72845</td>\n",
       "      <td>Муляж Яблоко зеленый 9 см полиуретан</td>\n",
       "      <td>40</td>\n",
       "      <td>59.0</td>\n",
       "    </tr>\n",
       "    <tr>\n",
       "      <th>6538</th>\n",
       "      <td>2019-10-07 20:00:00</td>\n",
       "      <td>2ac05362-3ca7-4d19-899c-7ba266902611</td>\n",
       "      <td>72845</td>\n",
       "      <td>Муляж Яблоко зеленый 9 см полиуретан</td>\n",
       "      <td>40</td>\n",
       "      <td>59.0</td>\n",
       "    </tr>\n",
       "  </tbody>\n",
       "</table>\n",
       "</div>"
      ],
      "text/plain": [
       "                    date                           customer_id  order_id  \\\n",
       "6504 2019-10-03 14:00:00  d8465f63-35db-4809-aff3-a8f7ebfc257f     72845   \n",
       "6505 2019-10-03 15:00:00  0309d37c-ab5f-4793-ba72-5484c019b840     72845   \n",
       "6508 2019-10-04 08:00:00  25a8cd52-3efa-48ee-a6bd-d413d7e2b42f     72845   \n",
       "6538 2019-10-07 20:00:00  2ac05362-3ca7-4d19-899c-7ba266902611     72845   \n",
       "\n",
       "                                   product  quantity  price  \n",
       "6504  Муляж Яблоко зеленый 9 см полиуретан        40   59.0  \n",
       "6505  Муляж Яблоко зеленый 9 см полиуретан        40   59.0  \n",
       "6508  Муляж Яблоко зеленый 9 см полиуретан        40   59.0  \n",
       "6538  Муляж Яблоко зеленый 9 см полиуретан        40   59.0  "
      ]
     },
     "execution_count": 9,
     "metadata": {},
     "output_type": "execute_result"
    }
   ],
   "source": [
    "df.query('order_id == 72845')"
   ]
  },
  {
   "cell_type": "markdown",
   "id": "14159b8a",
   "metadata": {},
   "source": [
    "Проверка таких заказов показала, что они похожи на ошибку. Например, заказ 72845 с одинаковым количеством товара записан на разных покупателей. Поскольку наличие таких дубликатов может повлиять на результаты исследования, удалим их."
   ]
  },
  {
   "cell_type": "code",
   "execution_count": 10,
   "id": "655b6824",
   "metadata": {},
   "outputs": [],
   "source": [
    "df = df.drop_duplicates(subset = ['order_id', 'product', 'quantity', 'price'])"
   ]
  },
  {
   "cell_type": "code",
   "execution_count": 11,
   "id": "c6c9eef6",
   "metadata": {},
   "outputs": [
    {
     "data": {
      "text/plain": [
       "4840"
      ]
     },
     "execution_count": 11,
     "metadata": {},
     "output_type": "execute_result"
    }
   ],
   "source": [
    "df.shape[0]"
   ]
  },
  {
   "cell_type": "markdown",
   "id": "eec94387",
   "metadata": {},
   "source": [
    "В результате было удалено 1897 строк. Далее проверим, не были записаны  одни и те же заказы на разные даты."
   ]
  },
  {
   "cell_type": "code",
   "execution_count": 12,
   "id": "0a774907",
   "metadata": {},
   "outputs": [
    {
     "data": {
      "text/plain": [
       "25"
      ]
     },
     "execution_count": 12,
     "metadata": {},
     "output_type": "execute_result"
    }
   ],
   "source": [
    "order_date_duplicated = df.groupby('order_id').agg({'date':'nunique'}).reset_index().sort_values(by='date', ascending=False)\n",
    "order_date_duplicated = order_date_duplicated.query('date >1')\n",
    "order_date_duplicated.shape[0]"
   ]
  },
  {
   "cell_type": "code",
   "execution_count": 13,
   "id": "90a48339",
   "metadata": {},
   "outputs": [
    {
     "data": {
      "text/html": [
       "<div>\n",
       "<style scoped>\n",
       "    .dataframe tbody tr th:only-of-type {\n",
       "        vertical-align: middle;\n",
       "    }\n",
       "\n",
       "    .dataframe tbody tr th {\n",
       "        vertical-align: top;\n",
       "    }\n",
       "\n",
       "    .dataframe thead th {\n",
       "        text-align: right;\n",
       "    }\n",
       "</style>\n",
       "<table border=\"1\" class=\"dataframe\">\n",
       "  <thead>\n",
       "    <tr style=\"text-align: right;\">\n",
       "      <th></th>\n",
       "      <th>order_id</th>\n",
       "      <th>date</th>\n",
       "    </tr>\n",
       "  </thead>\n",
       "  <tbody>\n",
       "    <tr>\n",
       "      <th>796</th>\n",
       "      <td>69282</td>\n",
       "      <td>2</td>\n",
       "    </tr>\n",
       "    <tr>\n",
       "      <th>221</th>\n",
       "      <td>14833</td>\n",
       "      <td>2</td>\n",
       "    </tr>\n",
       "    <tr>\n",
       "      <th>1676</th>\n",
       "      <td>70995</td>\n",
       "      <td>2</td>\n",
       "    </tr>\n",
       "    <tr>\n",
       "      <th>902</th>\n",
       "      <td>69485</td>\n",
       "      <td>2</td>\n",
       "    </tr>\n",
       "    <tr>\n",
       "      <th>1888</th>\n",
       "      <td>71413</td>\n",
       "      <td>2</td>\n",
       "    </tr>\n",
       "  </tbody>\n",
       "</table>\n",
       "</div>"
      ],
      "text/plain": [
       "      order_id  date\n",
       "796      69282     2\n",
       "221      14833     2\n",
       "1676     70995     2\n",
       "902      69485     2\n",
       "1888     71413     2"
      ]
     },
     "execution_count": 13,
     "metadata": {},
     "output_type": "execute_result"
    }
   ],
   "source": [
    "order_date_duplicated.head()"
   ]
  },
  {
   "cell_type": "code",
   "execution_count": 14,
   "id": "e92df445",
   "metadata": {},
   "outputs": [
    {
     "data": {
      "text/html": [
       "<div>\n",
       "<style scoped>\n",
       "    .dataframe tbody tr th:only-of-type {\n",
       "        vertical-align: middle;\n",
       "    }\n",
       "\n",
       "    .dataframe tbody tr th {\n",
       "        vertical-align: top;\n",
       "    }\n",
       "\n",
       "    .dataframe thead th {\n",
       "        text-align: right;\n",
       "    }\n",
       "</style>\n",
       "<table border=\"1\" class=\"dataframe\">\n",
       "  <thead>\n",
       "    <tr style=\"text-align: right;\">\n",
       "      <th></th>\n",
       "      <th>date</th>\n",
       "      <th>customer_id</th>\n",
       "      <th>order_id</th>\n",
       "      <th>product</th>\n",
       "      <th>quantity</th>\n",
       "      <th>price</th>\n",
       "    </tr>\n",
       "  </thead>\n",
       "  <tbody>\n",
       "    <tr>\n",
       "      <th>2632</th>\n",
       "      <td>2019-04-03 17:00:00</td>\n",
       "      <td>cfc1fd9f-ac10-417d-aad8-ce5fcbc4d786</td>\n",
       "      <td>70995</td>\n",
       "      <td>Чехол для гладильной доски Zalger 520133 120х4...</td>\n",
       "      <td>1</td>\n",
       "      <td>239.0</td>\n",
       "    </tr>\n",
       "    <tr>\n",
       "      <th>2743</th>\n",
       "      <td>2019-04-08 15:00:00</td>\n",
       "      <td>cfc1fd9f-ac10-417d-aad8-ce5fcbc4d786</td>\n",
       "      <td>70995</td>\n",
       "      <td>Настенная сушилка для белья Gimi Brio Super 80</td>\n",
       "      <td>1</td>\n",
       "      <td>749.0</td>\n",
       "    </tr>\n",
       "  </tbody>\n",
       "</table>\n",
       "</div>"
      ],
      "text/plain": [
       "                    date                           customer_id  order_id  \\\n",
       "2632 2019-04-03 17:00:00  cfc1fd9f-ac10-417d-aad8-ce5fcbc4d786     70995   \n",
       "2743 2019-04-08 15:00:00  cfc1fd9f-ac10-417d-aad8-ce5fcbc4d786     70995   \n",
       "\n",
       "                                                product  quantity  price  \n",
       "2632  Чехол для гладильной доски Zalger 520133 120х4...         1  239.0  \n",
       "2743     Настенная сушилка для белья Gimi Brio Super 80         1  749.0  "
      ]
     },
     "execution_count": 14,
     "metadata": {},
     "output_type": "execute_result"
    }
   ],
   "source": [
    "df.query('order_id == 70995')"
   ]
  },
  {
   "cell_type": "markdown",
   "id": "6411aaa8",
   "metadata": {},
   "source": [
    "25 заказа были записаны на разные даты. Также удалим их, если они являются дубликатами по столбцам customer_id, order_id, product, quantity и price."
   ]
  },
  {
   "cell_type": "code",
   "execution_count": 15,
   "id": "9ded3c4c",
   "metadata": {},
   "outputs": [],
   "source": [
    "df = df.drop_duplicates(subset = ['customer_id','order_id', 'product', 'quantity', 'price'])"
   ]
  },
  {
   "cell_type": "code",
   "execution_count": 16,
   "id": "21b7607a",
   "metadata": {},
   "outputs": [
    {
     "name": "stdout",
     "output_type": "stream",
     "text": [
      "<class 'pandas.core.frame.DataFrame'>\n",
      "Int64Index: 4840 entries, 0 to 6735\n",
      "Data columns (total 6 columns):\n",
      " #   Column       Non-Null Count  Dtype         \n",
      "---  ------       --------------  -----         \n",
      " 0   date         4840 non-null   datetime64[ns]\n",
      " 1   customer_id  4840 non-null   object        \n",
      " 2   order_id     4840 non-null   int64         \n",
      " 3   product      4840 non-null   object        \n",
      " 4   quantity     4840 non-null   int64         \n",
      " 5   price        4840 non-null   float64       \n",
      "dtypes: datetime64[ns](1), float64(1), int64(2), object(2)\n",
      "memory usage: 264.7+ KB\n"
     ]
    }
   ],
   "source": [
    "df.info()"
   ]
  },
  {
   "cell_type": "markdown",
   "id": "7354ecc1",
   "metadata": {},
   "source": [
    "Количество строк осталось равным 4840."
   ]
  },
  {
   "cell_type": "markdown",
   "id": "067ca9c5",
   "metadata": {},
   "source": [
    "Далее проверим наличие выбросов."
   ]
  },
  {
   "cell_type": "markdown",
   "id": "87cc77a5",
   "metadata": {},
   "source": [
    "Определим начало периода наблюдения."
   ]
  },
  {
   "cell_type": "code",
   "execution_count": 17,
   "id": "2c46a02b",
   "metadata": {
    "scrolled": true
   },
   "outputs": [
    {
     "data": {
      "text/plain": [
       "Timestamp('2018-10-01 00:00:00')"
      ]
     },
     "execution_count": 17,
     "metadata": {},
     "output_type": "execute_result"
    }
   ],
   "source": [
    "df['date'].min()"
   ]
  },
  {
   "cell_type": "markdown",
   "id": "a756b9fb",
   "metadata": {},
   "source": [
    "А также дату окончания."
   ]
  },
  {
   "cell_type": "code",
   "execution_count": 18,
   "id": "930f3255",
   "metadata": {},
   "outputs": [
    {
     "data": {
      "text/plain": [
       "Timestamp('2019-10-31 14:00:00')"
      ]
     },
     "execution_count": 18,
     "metadata": {},
     "output_type": "execute_result"
    }
   ],
   "source": [
    "df['date'].max()"
   ]
  },
  {
   "cell_type": "markdown",
   "id": "1a7ab926",
   "metadata": {},
   "source": [
    "Данные по продажам представлены в период с 1 октября 2018 г. по 31 октября 2019 г."
   ]
  },
  {
   "cell_type": "code",
   "execution_count": 19,
   "id": "78e31e88",
   "metadata": {},
   "outputs": [
    {
     "data": {
      "image/png": "[encoded data removed]",
      "text/plain": [
       "<Figure size 1080x432 with 1 Axes>"
      ]
     },
     "metadata": {
      "needs_background": "light"
     },
     "output_type": "display_data"
    }
   ],
   "source": [
    "plt.figure(figsize=(15,6))\n",
    "\n",
    "ax = df['date'].hist(bins=14)\n",
    "\n",
    "ax.set_title('Распределение покупок в период с 01.10.2018 по 31.10.2019')\n",
    "\n",
    "ax.set_xlabel('Дата')\n",
    "ax.set_ylabel('Количество покупок')\n",
    "\n",
    "plt.show()"
   ]
  },
  {
   "cell_type": "markdown",
   "id": "53298f0a",
   "metadata": {},
   "source": [
    "Выбросов в столбце с датами не обнаружено. \n",
    "\n",
    "Проверим на наличие выбросов столбец quantity."
   ]
  },
  {
   "cell_type": "code",
   "execution_count": 20,
   "id": "1db3f938",
   "metadata": {},
   "outputs": [
    {
     "data": {
      "text/plain": [
       "count    4840.000000\n",
       "mean        2.815702\n",
       "std        17.637293\n",
       "min         1.000000\n",
       "25%         1.000000\n",
       "50%         1.000000\n",
       "75%         1.000000\n",
       "max      1000.000000\n",
       "Name: quantity, dtype: float64"
      ]
     },
     "execution_count": 20,
     "metadata": {},
     "output_type": "execute_result"
    }
   ],
   "source": [
    "df['quantity'].describe()"
   ]
  },
  {
   "cell_type": "code",
   "execution_count": 21,
   "id": "87424edf",
   "metadata": {},
   "outputs": [
    {
     "data": {
      "text/html": [
       "<div>\n",
       "<style scoped>\n",
       "    .dataframe tbody tr th:only-of-type {\n",
       "        vertical-align: middle;\n",
       "    }\n",
       "\n",
       "    .dataframe tbody tr th {\n",
       "        vertical-align: top;\n",
       "    }\n",
       "\n",
       "    .dataframe thead th {\n",
       "        text-align: right;\n",
       "    }\n",
       "</style>\n",
       "<table border=\"1\" class=\"dataframe\">\n",
       "  <thead>\n",
       "    <tr style=\"text-align: right;\">\n",
       "      <th></th>\n",
       "      <th>date</th>\n",
       "      <th>customer_id</th>\n",
       "      <th>order_id</th>\n",
       "      <th>product</th>\n",
       "      <th>quantity</th>\n",
       "      <th>price</th>\n",
       "    </tr>\n",
       "  </thead>\n",
       "  <tbody>\n",
       "    <tr>\n",
       "      <th>211</th>\n",
       "      <td>2018-10-11 14:00:00</td>\n",
       "      <td>cd09ea73-d9ce-48c3-b4c5-018113735e80</td>\n",
       "      <td>68611</td>\n",
       "      <td>Крепеж для пружины дверной, 1107055</td>\n",
       "      <td>150</td>\n",
       "      <td>19.0</td>\n",
       "    </tr>\n",
       "    <tr>\n",
       "      <th>212</th>\n",
       "      <td>2018-10-11 14:00:00</td>\n",
       "      <td>cd09ea73-d9ce-48c3-b4c5-018113735e80</td>\n",
       "      <td>68611</td>\n",
       "      <td>Пружина дверная 240 мм оцинкованная (Д-19 мм) ...</td>\n",
       "      <td>150</td>\n",
       "      <td>38.0</td>\n",
       "    </tr>\n",
       "    <tr>\n",
       "      <th>568</th>\n",
       "      <td>2018-11-01 08:00:00</td>\n",
       "      <td>aa42dc38-780f-4b50-9a65-83b6fa64e766</td>\n",
       "      <td>68815</td>\n",
       "      <td>Муляж ЯБЛОКО 9 см красное</td>\n",
       "      <td>170</td>\n",
       "      <td>51.0</td>\n",
       "    </tr>\n",
       "    <tr>\n",
       "      <th>586</th>\n",
       "      <td>2018-11-02 11:00:00</td>\n",
       "      <td>0c5aaa88-e346-4f87-8f7a-ad8cbc04e965</td>\n",
       "      <td>68831</td>\n",
       "      <td>Муляж ЯБЛОКО 9 см красное</td>\n",
       "      <td>140</td>\n",
       "      <td>59.0</td>\n",
       "    </tr>\n",
       "    <tr>\n",
       "      <th>1158</th>\n",
       "      <td>2018-12-10 14:00:00</td>\n",
       "      <td>a984c5b7-ff7e-4647-b84e-ef0b85a2762d</td>\n",
       "      <td>69289</td>\n",
       "      <td>Ручка-скоба РС-100 белая *Трибатрон*, 1108035</td>\n",
       "      <td>200</td>\n",
       "      <td>29.0</td>\n",
       "    </tr>\n",
       "    <tr>\n",
       "      <th>2431</th>\n",
       "      <td>2019-03-23 10:00:00</td>\n",
       "      <td>685d3d84-aebb-485b-8e59-344b3df8b3d3</td>\n",
       "      <td>70841</td>\n",
       "      <td>Плечики пластмассовые Размер 52 - 54 Тула 1205158</td>\n",
       "      <td>150</td>\n",
       "      <td>20.0</td>\n",
       "    </tr>\n",
       "    <tr>\n",
       "      <th>3961</th>\n",
       "      <td>2019-05-20 21:00:00</td>\n",
       "      <td>5d189e88-d4d6-4eac-ab43-fa65a3c4d106</td>\n",
       "      <td>71478</td>\n",
       "      <td>Муляж ЯБЛОКО 9 см красное</td>\n",
       "      <td>300</td>\n",
       "      <td>51.0</td>\n",
       "    </tr>\n",
       "    <tr>\n",
       "      <th>5071</th>\n",
       "      <td>2019-06-11 07:00:00</td>\n",
       "      <td>146cd9bf-a95c-4afb-915b-5f6684b17444</td>\n",
       "      <td>71668</td>\n",
       "      <td>Вешалки мягкие для деликатных вещей 3 шт шоколад</td>\n",
       "      <td>334</td>\n",
       "      <td>148.0</td>\n",
       "    </tr>\n",
       "    <tr>\n",
       "      <th>5456</th>\n",
       "      <td>2019-06-18 15:00:00</td>\n",
       "      <td>312e9a3e-5fca-43ff-a6a1-892d2b2d5ba6</td>\n",
       "      <td>71743</td>\n",
       "      <td>Вантуз с деревянной ручкой d14 см красный, Bur...</td>\n",
       "      <td>1000</td>\n",
       "      <td>675.0</td>\n",
       "    </tr>\n",
       "  </tbody>\n",
       "</table>\n",
       "</div>"
      ],
      "text/plain": [
       "                    date                           customer_id  order_id  \\\n",
       "211  2018-10-11 14:00:00  cd09ea73-d9ce-48c3-b4c5-018113735e80     68611   \n",
       "212  2018-10-11 14:00:00  cd09ea73-d9ce-48c3-b4c5-018113735e80     68611   \n",
       "568  2018-11-01 08:00:00  aa42dc38-780f-4b50-9a65-83b6fa64e766     68815   \n",
       "586  2018-11-02 11:00:00  0c5aaa88-e346-4f87-8f7a-ad8cbc04e965     68831   \n",
       "1158 2018-12-10 14:00:00  a984c5b7-ff7e-4647-b84e-ef0b85a2762d     69289   \n",
       "2431 2019-03-23 10:00:00  685d3d84-aebb-485b-8e59-344b3df8b3d3     70841   \n",
       "3961 2019-05-20 21:00:00  5d189e88-d4d6-4eac-ab43-fa65a3c4d106     71478   \n",
       "5071 2019-06-11 07:00:00  146cd9bf-a95c-4afb-915b-5f6684b17444     71668   \n",
       "5456 2019-06-18 15:00:00  312e9a3e-5fca-43ff-a6a1-892d2b2d5ba6     71743   \n",
       "\n",
       "                                                product  quantity  price  \n",
       "211                 Крепеж для пружины дверной, 1107055       150   19.0  \n",
       "212   Пружина дверная 240 мм оцинкованная (Д-19 мм) ...       150   38.0  \n",
       "568                           Муляж ЯБЛОКО 9 см красное       170   51.0  \n",
       "586                           Муляж ЯБЛОКО 9 см красное       140   59.0  \n",
       "1158      Ручка-скоба РС-100 белая *Трибатрон*, 1108035       200   29.0  \n",
       "2431  Плечики пластмассовые Размер 52 - 54 Тула 1205158       150   20.0  \n",
       "3961                          Муляж ЯБЛОКО 9 см красное       300   51.0  \n",
       "5071   Вешалки мягкие для деликатных вещей 3 шт шоколад       334  148.0  \n",
       "5456  Вантуз с деревянной ручкой d14 см красный, Bur...      1000  675.0  "
      ]
     },
     "execution_count": 21,
     "metadata": {},
     "output_type": "execute_result"
    }
   ],
   "source": [
    "df.query('quantity > 100')"
   ]
  },
  {
   "cell_type": "code",
   "execution_count": 22,
   "id": "302b602b",
   "metadata": {},
   "outputs": [
    {
     "data": {
      "image/png": "[encoded data removed]",
      "text/plain": [
       "<Figure size 1080x432 with 1 Axes>"
      ]
     },
     "metadata": {
      "needs_background": "light"
     },
     "output_type": "display_data"
    }
   ],
   "source": [
    "plt.figure(figsize=(15,6))\n",
    "\n",
    "ax = df['quantity'].hist(bins=20, range=(1,1000))\n",
    "\n",
    "ax.set_title('Распределение количества товаров')\n",
    "\n",
    "ax.set_xlabel('Дата')\n",
    "ax.set_ylabel('Количество событий')\n",
    "\n",
    "plt.show()"
   ]
  },
  {
   "cell_type": "markdown",
   "id": "b89e40a7",
   "metadata": {},
   "source": [
    "Обнаружен выброс в качестве 1000 вантузов. Согласно предоставленной специалистами данным, это был тестовый заказ, который сделали при отладке ошибок. Удалим его из данных."
   ]
  },
  {
   "cell_type": "code",
   "execution_count": 23,
   "id": "e85ae918",
   "metadata": {},
   "outputs": [
    {
     "data": {
      "text/plain": [
       "count    4839.000000\n",
       "mean        2.609630\n",
       "std        10.274303\n",
       "min         1.000000\n",
       "25%         1.000000\n",
       "50%         1.000000\n",
       "75%         1.000000\n",
       "max       334.000000\n",
       "Name: quantity, dtype: float64"
      ]
     },
     "execution_count": 23,
     "metadata": {},
     "output_type": "execute_result"
    }
   ],
   "source": [
    "df = df.query('quantity != 1000')\n",
    "df['quantity'].describe()"
   ]
  },
  {
   "cell_type": "markdown",
   "id": "6f6820ce",
   "metadata": {},
   "source": [
    "Далее проверим на наличие выбросов столбец price."
   ]
  },
  {
   "cell_type": "code",
   "execution_count": 24,
   "id": "6a5b8d81",
   "metadata": {},
   "outputs": [
    {
     "data": {
      "text/plain": [
       "count     4839.000000\n",
       "mean       514.892333\n",
       "std        945.549846\n",
       "min          9.000000\n",
       "25%         90.000000\n",
       "50%        150.000000\n",
       "75%        488.000000\n",
       "max      14917.000000\n",
       "Name: price, dtype: float64"
      ]
     },
     "execution_count": 24,
     "metadata": {},
     "output_type": "execute_result"
    }
   ],
   "source": [
    "df['price'].describe()"
   ]
  },
  {
   "cell_type": "code",
   "execution_count": 25,
   "id": "2e571289",
   "metadata": {},
   "outputs": [
    {
     "data": {
      "text/html": [
       "<div>\n",
       "<style scoped>\n",
       "    .dataframe tbody tr th:only-of-type {\n",
       "        vertical-align: middle;\n",
       "    }\n",
       "\n",
       "    .dataframe tbody tr th {\n",
       "        vertical-align: top;\n",
       "    }\n",
       "\n",
       "    .dataframe thead th {\n",
       "        text-align: right;\n",
       "    }\n",
       "</style>\n",
       "<table border=\"1\" class=\"dataframe\">\n",
       "  <thead>\n",
       "    <tr style=\"text-align: right;\">\n",
       "      <th></th>\n",
       "      <th>date</th>\n",
       "      <th>customer_id</th>\n",
       "      <th>order_id</th>\n",
       "      <th>product</th>\n",
       "      <th>quantity</th>\n",
       "      <th>price</th>\n",
       "    </tr>\n",
       "  </thead>\n",
       "  <tbody>\n",
       "    <tr>\n",
       "      <th>654</th>\n",
       "      <td>2018-11-05 22:00:00</td>\n",
       "      <td>fc333417-1d11-4a2a-b946-0957ae0603e9</td>\n",
       "      <td>68872</td>\n",
       "      <td>Сумка-тележка хозяйственная Rolser MOU041 malv...</td>\n",
       "      <td>1</td>\n",
       "      <td>7597.0</td>\n",
       "    </tr>\n",
       "    <tr>\n",
       "      <th>1241</th>\n",
       "      <td>2018-12-17 17:00:00</td>\n",
       "      <td>86c97bf1-c834-423e-9e38-8acda68f97e8</td>\n",
       "      <td>69417</td>\n",
       "      <td>Гладильная доска Leifheit AirBoard Compact M P...</td>\n",
       "      <td>1</td>\n",
       "      <td>7424.0</td>\n",
       "    </tr>\n",
       "    <tr>\n",
       "      <th>1981</th>\n",
       "      <td>2019-02-24 10:00:00</td>\n",
       "      <td>ac250053-a236-467a-97d2-ddbb9bf4a1ba</td>\n",
       "      <td>70423</td>\n",
       "      <td>Сумка-тележка хозяйственная Andersen Alu Star ...</td>\n",
       "      <td>1</td>\n",
       "      <td>8437.0</td>\n",
       "    </tr>\n",
       "    <tr>\n",
       "      <th>2339</th>\n",
       "      <td>2019-03-14 18:00:00</td>\n",
       "      <td>27d4ce42-352b-4756-bf5b-8724e05d5131</td>\n",
       "      <td>70740</td>\n",
       "      <td>Сумка-тележка хозяйственная Rolser IMX006 bass...</td>\n",
       "      <td>1</td>\n",
       "      <td>7679.0</td>\n",
       "    </tr>\n",
       "    <tr>\n",
       "      <th>2697</th>\n",
       "      <td>2019-04-05 19:00:00</td>\n",
       "      <td>c0c60544-3a99-49d0-8a8e-cf7f293c22cb</td>\n",
       "      <td>71035</td>\n",
       "      <td>Сумка-тележка хозяйственная Andersen Royal Sho...</td>\n",
       "      <td>1</td>\n",
       "      <td>8737.0</td>\n",
       "    </tr>\n",
       "    <tr>\n",
       "      <th>2976</th>\n",
       "      <td>2019-04-20 08:00:00</td>\n",
       "      <td>16838b36-762a-474d-bda4-bad95f8d7813</td>\n",
       "      <td>71209</td>\n",
       "      <td>Автоматическая щетка Leifheit для мытья окон с...</td>\n",
       "      <td>1</td>\n",
       "      <td>7229.0</td>\n",
       "    </tr>\n",
       "    <tr>\n",
       "      <th>2997</th>\n",
       "      <td>2019-04-21 16:00:00</td>\n",
       "      <td>19d904d8-8d16-476d-8f66-b2a3b7a23660</td>\n",
       "      <td>71227</td>\n",
       "      <td>Сумка-тележка хозяйственная Rolser MNB019 rojo...</td>\n",
       "      <td>1</td>\n",
       "      <td>8077.0</td>\n",
       "    </tr>\n",
       "    <tr>\n",
       "      <th>5087</th>\n",
       "      <td>2019-06-11 10:00:00</td>\n",
       "      <td>85716494-dd51-4d1d-ab28-8c74b87f14dc</td>\n",
       "      <td>71674</td>\n",
       "      <td>Сушилка для белья Leifheit Pegasus 200 DeLuxe ...</td>\n",
       "      <td>1</td>\n",
       "      <td>7004.0</td>\n",
       "    </tr>\n",
       "    <tr>\n",
       "      <th>5992</th>\n",
       "      <td>2019-07-29 17:00:00</td>\n",
       "      <td>0d87f4ae-465a-4fac-81e6-5d629761783e</td>\n",
       "      <td>72139</td>\n",
       "      <td>Сушилка уличная Leifheit 85210 LINOMATIC V 400...</td>\n",
       "      <td>1</td>\n",
       "      <td>14917.0</td>\n",
       "    </tr>\n",
       "    <tr>\n",
       "      <th>5994</th>\n",
       "      <td>2019-07-30 01:00:00</td>\n",
       "      <td>e2fe6b48-1955-4882-925c-733f545df026</td>\n",
       "      <td>72140</td>\n",
       "      <td>Сумка-тележка хозяйственная Rolser MNB017 fucs...</td>\n",
       "      <td>1</td>\n",
       "      <td>7679.0</td>\n",
       "    </tr>\n",
       "    <tr>\n",
       "      <th>6003</th>\n",
       "      <td>2019-07-31 07:00:00</td>\n",
       "      <td>2d51b277-cb8a-48eb-bdbf-b3315276f01a</td>\n",
       "      <td>72153</td>\n",
       "      <td>Сумка-тележка хозяйственная Andersen Scala Sho...</td>\n",
       "      <td>1</td>\n",
       "      <td>7199.0</td>\n",
       "    </tr>\n",
       "    <tr>\n",
       "      <th>6169</th>\n",
       "      <td>2019-08-23 12:00:00</td>\n",
       "      <td>8d85f320-5f55-4647-814c-da1a6b21c2a4</td>\n",
       "      <td>72381</td>\n",
       "      <td>Урна уличная стальная Сальвадор 02.021.0 46х11...</td>\n",
       "      <td>1</td>\n",
       "      <td>7349.0</td>\n",
       "    </tr>\n",
       "    <tr>\n",
       "      <th>6629</th>\n",
       "      <td>2019-10-16 15:00:00</td>\n",
       "      <td>d5584388-ffbe-42fd-a746-a98828ec919f</td>\n",
       "      <td>72992</td>\n",
       "      <td>Стремянка 7 ступенчатая Hailo 8040-707 XXL 13 ...</td>\n",
       "      <td>1</td>\n",
       "      <td>7724.0</td>\n",
       "    </tr>\n",
       "  </tbody>\n",
       "</table>\n",
       "</div>"
      ],
      "text/plain": [
       "                    date                           customer_id  order_id  \\\n",
       "654  2018-11-05 22:00:00  fc333417-1d11-4a2a-b946-0957ae0603e9     68872   \n",
       "1241 2018-12-17 17:00:00  86c97bf1-c834-423e-9e38-8acda68f97e8     69417   \n",
       "1981 2019-02-24 10:00:00  ac250053-a236-467a-97d2-ddbb9bf4a1ba     70423   \n",
       "2339 2019-03-14 18:00:00  27d4ce42-352b-4756-bf5b-8724e05d5131     70740   \n",
       "2697 2019-04-05 19:00:00  c0c60544-3a99-49d0-8a8e-cf7f293c22cb     71035   \n",
       "2976 2019-04-20 08:00:00  16838b36-762a-474d-bda4-bad95f8d7813     71209   \n",
       "2997 2019-04-21 16:00:00  19d904d8-8d16-476d-8f66-b2a3b7a23660     71227   \n",
       "5087 2019-06-11 10:00:00  85716494-dd51-4d1d-ab28-8c74b87f14dc     71674   \n",
       "5992 2019-07-29 17:00:00  0d87f4ae-465a-4fac-81e6-5d629761783e     72139   \n",
       "5994 2019-07-30 01:00:00  e2fe6b48-1955-4882-925c-733f545df026     72140   \n",
       "6003 2019-07-31 07:00:00  2d51b277-cb8a-48eb-bdbf-b3315276f01a     72153   \n",
       "6169 2019-08-23 12:00:00  8d85f320-5f55-4647-814c-da1a6b21c2a4     72381   \n",
       "6629 2019-10-16 15:00:00  d5584388-ffbe-42fd-a746-a98828ec919f     72992   \n",
       "\n",
       "                                                product  quantity    price  \n",
       "654   Сумка-тележка хозяйственная Rolser MOU041 malv...         1   7597.0  \n",
       "1241  Гладильная доска Leifheit AirBoard Compact M P...         1   7424.0  \n",
       "1981  Сумка-тележка хозяйственная Andersen Alu Star ...         1   8437.0  \n",
       "2339  Сумка-тележка хозяйственная Rolser IMX006 bass...         1   7679.0  \n",
       "2697  Сумка-тележка хозяйственная Andersen Royal Sho...         1   8737.0  \n",
       "2976  Автоматическая щетка Leifheit для мытья окон с...         1   7229.0  \n",
       "2997  Сумка-тележка хозяйственная Rolser MNB019 rojo...         1   8077.0  \n",
       "5087  Сушилка для белья Leifheit Pegasus 200 DeLuxe ...         1   7004.0  \n",
       "5992  Сушилка уличная Leifheit 85210 LINOMATIC V 400...         1  14917.0  \n",
       "5994  Сумка-тележка хозяйственная Rolser MNB017 fucs...         1   7679.0  \n",
       "6003  Сумка-тележка хозяйственная Andersen Scala Sho...         1   7199.0  \n",
       "6169  Урна уличная стальная Сальвадор 02.021.0 46х11...         1   7349.0  \n",
       "6629  Стремянка 7 ступенчатая Hailo 8040-707 XXL 13 ...         1   7724.0  "
      ]
     },
     "execution_count": 25,
     "metadata": {},
     "output_type": "execute_result"
    }
   ],
   "source": [
    "df.query('price > 7000')"
   ]
  },
  {
   "cell_type": "code",
   "execution_count": 26,
   "id": "5760a24f",
   "metadata": {},
   "outputs": [
    {
     "data": {
      "image/png": "[encoded data removed]",
      "text/plain": [
       "<Figure size 1080x432 with 1 Axes>"
      ]
     },
     "metadata": {
      "needs_background": "light"
     },
     "output_type": "display_data"
    }
   ],
   "source": [
    "plt.figure(figsize=(15,6))\n",
    "\n",
    "ax = df['price'].hist(bins=10, range=(0,15000))\n",
    "\n",
    "ax.set_title('Распределение цены товаров')\n",
    "\n",
    "ax.set_xlabel('Дата')\n",
    "ax.set_ylabel('Количество событий')\n",
    "\n",
    "plt.show()"
   ]
  },
  {
   "cell_type": "markdown",
   "id": "ab6102d5",
   "metadata": {},
   "source": [
    "В столбце с ценой выбросов нет. \n",
    "\n",
    "Была проведена предобработка данных. В исследуемом датесете было 6737 строк и 6 столбцов. Пропусков и полных дубликатов не обнаружено. Было обнаружено, что 29 заказов было записано на нескольких покупателей, а 25 заказа на более чем одну дату. Поскольку эти строки могут существенно исказить результаты исследования, было принято решение их удалить. В результате для изучения осталось 4840 строк. \n",
    "\n",
    "Проверены форматы всех столбцов. Столбец date приведен к формату datetime. Продажи предоставлены за период с 1 октября 2018 г. по 31 октября 2019 г. \n",
    "\n",
    "После проверки на наличие выбросов был обнаружен выброс в столбце quantity: был исключен тестовый заказ, сделанный при отладке работы сайта (1000 вантузов).\n",
    "\n",
    "Приступим к анализу имеющихся данных."
   ]
  },
  {
   "cell_type": "markdown",
   "id": "baadd5bd",
   "metadata": {},
   "source": [
    "## Исследовательский анализ рынка"
   ]
  },
  {
   "cell_type": "markdown",
   "id": "eddbef73",
   "metadata": {},
   "source": [
    "Проведем исследовательский анализ рынка. Сначала оценим как изменялись осовные показатели по дням в течение рассматриваемого периода."
   ]
  },
  {
   "cell_type": "markdown",
   "id": "b83b0ceb",
   "metadata": {},
   "source": [
    "### Выручка по дням"
   ]
  },
  {
   "cell_type": "markdown",
   "id": "4ebc5e8a",
   "metadata": {},
   "source": [
    "Добавим к датасету столбец с выручкой и выделим в отдельный столбец дату из столбца date."
   ]
  },
  {
   "cell_type": "code",
   "execution_count": 27,
   "id": "8f01cc51",
   "metadata": {},
   "outputs": [
    {
     "data": {
      "text/html": [
       "<div>\n",
       "<style scoped>\n",
       "    .dataframe tbody tr th:only-of-type {\n",
       "        vertical-align: middle;\n",
       "    }\n",
       "\n",
       "    .dataframe tbody tr th {\n",
       "        vertical-align: top;\n",
       "    }\n",
       "\n",
       "    .dataframe thead th {\n",
       "        text-align: right;\n",
       "    }\n",
       "</style>\n",
       "<table border=\"1\" class=\"dataframe\">\n",
       "  <thead>\n",
       "    <tr style=\"text-align: right;\">\n",
       "      <th></th>\n",
       "      <th>date</th>\n",
       "      <th>customer_id</th>\n",
       "      <th>order_id</th>\n",
       "      <th>product</th>\n",
       "      <th>quantity</th>\n",
       "      <th>price</th>\n",
       "      <th>revenue</th>\n",
       "      <th>date_day</th>\n",
       "    </tr>\n",
       "  </thead>\n",
       "  <tbody>\n",
       "    <tr>\n",
       "      <th>0</th>\n",
       "      <td>2018-10-01</td>\n",
       "      <td>ee47d746-6d2f-4d3c-9622-c31412542920</td>\n",
       "      <td>68477</td>\n",
       "      <td>Комнатное растение в горшке Алое Вера, d12, h30</td>\n",
       "      <td>1</td>\n",
       "      <td>142.0</td>\n",
       "      <td>142.0</td>\n",
       "      <td>2018-10-01</td>\n",
       "    </tr>\n",
       "    <tr>\n",
       "      <th>1</th>\n",
       "      <td>2018-10-01</td>\n",
       "      <td>ee47d746-6d2f-4d3c-9622-c31412542920</td>\n",
       "      <td>68477</td>\n",
       "      <td>Комнатное растение в горшке Кофе Арабика, d12,...</td>\n",
       "      <td>1</td>\n",
       "      <td>194.0</td>\n",
       "      <td>194.0</td>\n",
       "      <td>2018-10-01</td>\n",
       "    </tr>\n",
       "    <tr>\n",
       "      <th>2</th>\n",
       "      <td>2018-10-01</td>\n",
       "      <td>ee47d746-6d2f-4d3c-9622-c31412542920</td>\n",
       "      <td>68477</td>\n",
       "      <td>Радермахера d-12 см h-20 см</td>\n",
       "      <td>1</td>\n",
       "      <td>112.0</td>\n",
       "      <td>112.0</td>\n",
       "      <td>2018-10-01</td>\n",
       "    </tr>\n",
       "    <tr>\n",
       "      <th>3</th>\n",
       "      <td>2018-10-01</td>\n",
       "      <td>ee47d746-6d2f-4d3c-9622-c31412542920</td>\n",
       "      <td>68477</td>\n",
       "      <td>Хризолидокарпус Лутесценс d-9 см</td>\n",
       "      <td>1</td>\n",
       "      <td>179.0</td>\n",
       "      <td>179.0</td>\n",
       "      <td>2018-10-01</td>\n",
       "    </tr>\n",
       "    <tr>\n",
       "      <th>4</th>\n",
       "      <td>2018-10-01</td>\n",
       "      <td>ee47d746-6d2f-4d3c-9622-c31412542920</td>\n",
       "      <td>68477</td>\n",
       "      <td>Циперус Зумула d-12 см h-25 см</td>\n",
       "      <td>1</td>\n",
       "      <td>112.0</td>\n",
       "      <td>112.0</td>\n",
       "      <td>2018-10-01</td>\n",
       "    </tr>\n",
       "  </tbody>\n",
       "</table>\n",
       "</div>"
      ],
      "text/plain": [
       "        date                           customer_id  order_id  \\\n",
       "0 2018-10-01  ee47d746-6d2f-4d3c-9622-c31412542920     68477   \n",
       "1 2018-10-01  ee47d746-6d2f-4d3c-9622-c31412542920     68477   \n",
       "2 2018-10-01  ee47d746-6d2f-4d3c-9622-c31412542920     68477   \n",
       "3 2018-10-01  ee47d746-6d2f-4d3c-9622-c31412542920     68477   \n",
       "4 2018-10-01  ee47d746-6d2f-4d3c-9622-c31412542920     68477   \n",
       "\n",
       "                                             product  quantity  price  \\\n",
       "0    Комнатное растение в горшке Алое Вера, d12, h30         1  142.0   \n",
       "1  Комнатное растение в горшке Кофе Арабика, d12,...         1  194.0   \n",
       "2                        Радермахера d-12 см h-20 см         1  112.0   \n",
       "3                   Хризолидокарпус Лутесценс d-9 см         1  179.0   \n",
       "4                     Циперус Зумула d-12 см h-25 см         1  112.0   \n",
       "\n",
       "   revenue   date_day  \n",
       "0    142.0 2018-10-01  \n",
       "1    194.0 2018-10-01  \n",
       "2    112.0 2018-10-01  \n",
       "3    179.0 2018-10-01  \n",
       "4    112.0 2018-10-01  "
      ]
     },
     "execution_count": 27,
     "metadata": {},
     "output_type": "execute_result"
    }
   ],
   "source": [
    "df['revenue'] = df['quantity']*df['price']\n",
    "df['date_day'] = df['date'].dt.date\n",
    "df['date_day']  = pd.to_datetime(df['date_day'])\n",
    "\n",
    "df.head()"
   ]
  },
  {
   "cell_type": "code",
   "execution_count": 28,
   "id": "c94c3878",
   "metadata": {},
   "outputs": [],
   "source": [
    "df.to_csv('dashboard.csv', index=False)"
   ]
  },
  {
   "cell_type": "code",
   "execution_count": 29,
   "id": "c8165a5f",
   "metadata": {},
   "outputs": [
    {
     "data": {
      "text/html": [
       "<div>\n",
       "<style scoped>\n",
       "    .dataframe tbody tr th:only-of-type {\n",
       "        vertical-align: middle;\n",
       "    }\n",
       "\n",
       "    .dataframe tbody tr th {\n",
       "        vertical-align: top;\n",
       "    }\n",
       "\n",
       "    .dataframe thead th {\n",
       "        text-align: right;\n",
       "    }\n",
       "</style>\n",
       "<table border=\"1\" class=\"dataframe\">\n",
       "  <thead>\n",
       "    <tr style=\"text-align: right;\">\n",
       "      <th></th>\n",
       "      <th>date_day</th>\n",
       "      <th>revenue</th>\n",
       "    </tr>\n",
       "  </thead>\n",
       "  <tbody>\n",
       "    <tr>\n",
       "      <th>0</th>\n",
       "      <td>2018-10-01</td>\n",
       "      <td>13934.0</td>\n",
       "    </tr>\n",
       "    <tr>\n",
       "      <th>1</th>\n",
       "      <td>2018-10-02</td>\n",
       "      <td>16746.0</td>\n",
       "    </tr>\n",
       "    <tr>\n",
       "      <th>2</th>\n",
       "      <td>2018-10-03</td>\n",
       "      <td>7275.0</td>\n",
       "    </tr>\n",
       "    <tr>\n",
       "      <th>3</th>\n",
       "      <td>2018-10-04</td>\n",
       "      <td>25170.0</td>\n",
       "    </tr>\n",
       "    <tr>\n",
       "      <th>4</th>\n",
       "      <td>2018-10-05</td>\n",
       "      <td>4720.0</td>\n",
       "    </tr>\n",
       "  </tbody>\n",
       "</table>\n",
       "</div>"
      ],
      "text/plain": [
       "    date_day  revenue\n",
       "0 2018-10-01  13934.0\n",
       "1 2018-10-02  16746.0\n",
       "2 2018-10-03   7275.0\n",
       "3 2018-10-04  25170.0\n",
       "4 2018-10-05   4720.0"
      ]
     },
     "execution_count": 29,
     "metadata": {},
     "output_type": "execute_result"
    }
   ],
   "source": [
    "rev_by_day = df.groupby('date_day').agg({'revenue':'sum'}).reset_index()\n",
    "rev_by_day.head()"
   ]
  },
  {
   "cell_type": "markdown",
   "id": "76be3488",
   "metadata": {},
   "source": [
    "Построим график распределения выручки по дням."
   ]
  },
  {
   "cell_type": "code",
   "execution_count": 30,
   "id": "9924fab8",
   "metadata": {},
   "outputs": [
    {
     "data": {
      "image/png": "[encoded data removed]",
      "text/plain": [
       "<Figure size 1080x432 with 1 Axes>"
      ]
     },
     "metadata": {
      "needs_background": "light"
     },
     "output_type": "display_data"
    }
   ],
   "source": [
    "fig, ax = plt.subplots()\n",
    "\n",
    "ax.bar(rev_by_day['date_day'], rev_by_day['revenue'])\n",
    "\n",
    "ax.set_title('Распределение выручки по дням')\n",
    "\n",
    "ax.set_xlabel('Дата')\n",
    "ax.set_ylabel('Выручка, руб.')\n",
    "\n",
    "fig.set_figwidth(15)    \n",
    "fig.set_figheight(6)   \n",
    "\n",
    "plt.show()"
   ]
  },
  {
   "cell_type": "markdown",
   "id": "eae3b23c",
   "metadata": {},
   "source": [
    "В течение рассматриваемого периода размер выручки примерно равный. "
   ]
  },
  {
   "cell_type": "markdown",
   "id": "e0643883",
   "metadata": {},
   "source": [
    "### Количество товаров по дням"
   ]
  },
  {
   "cell_type": "markdown",
   "id": "6597bc71",
   "metadata": {},
   "source": [
    "Проанализируем распределение количества проданных товаров по дням."
   ]
  },
  {
   "cell_type": "code",
   "execution_count": 31,
   "id": "9efe3dab",
   "metadata": {},
   "outputs": [
    {
     "data": {
      "text/html": [
       "<div>\n",
       "<style scoped>\n",
       "    .dataframe tbody tr th:only-of-type {\n",
       "        vertical-align: middle;\n",
       "    }\n",
       "\n",
       "    .dataframe tbody tr th {\n",
       "        vertical-align: top;\n",
       "    }\n",
       "\n",
       "    .dataframe thead th {\n",
       "        text-align: right;\n",
       "    }\n",
       "</style>\n",
       "<table border=\"1\" class=\"dataframe\">\n",
       "  <thead>\n",
       "    <tr style=\"text-align: right;\">\n",
       "      <th></th>\n",
       "      <th>date_day</th>\n",
       "      <th>quantity</th>\n",
       "    </tr>\n",
       "  </thead>\n",
       "  <tbody>\n",
       "    <tr>\n",
       "      <th>0</th>\n",
       "      <td>2018-10-01</td>\n",
       "      <td>124</td>\n",
       "    </tr>\n",
       "    <tr>\n",
       "      <th>1</th>\n",
       "      <td>2018-10-02</td>\n",
       "      <td>83</td>\n",
       "    </tr>\n",
       "    <tr>\n",
       "      <th>2</th>\n",
       "      <td>2018-10-03</td>\n",
       "      <td>19</td>\n",
       "    </tr>\n",
       "    <tr>\n",
       "      <th>3</th>\n",
       "      <td>2018-10-04</td>\n",
       "      <td>63</td>\n",
       "    </tr>\n",
       "    <tr>\n",
       "      <th>4</th>\n",
       "      <td>2018-10-05</td>\n",
       "      <td>26</td>\n",
       "    </tr>\n",
       "  </tbody>\n",
       "</table>\n",
       "</div>"
      ],
      "text/plain": [
       "    date_day  quantity\n",
       "0 2018-10-01       124\n",
       "1 2018-10-02        83\n",
       "2 2018-10-03        19\n",
       "3 2018-10-04        63\n",
       "4 2018-10-05        26"
      ]
     },
     "execution_count": 31,
     "metadata": {},
     "output_type": "execute_result"
    }
   ],
   "source": [
    "goods_by_day = df.groupby('date_day').agg({'quantity':'sum'}).reset_index()\n",
    "goods_by_day.head()"
   ]
  },
  {
   "cell_type": "code",
   "execution_count": 32,
   "id": "68c0de14",
   "metadata": {},
   "outputs": [
    {
     "data": {
      "image/png": "[encoded data removed]",
      "text/plain": [
       "<Figure size 1080x432 with 1 Axes>"
      ]
     },
     "metadata": {
      "needs_background": "light"
     },
     "output_type": "display_data"
    }
   ],
   "source": [
    "fig, ax = plt.subplots()\n",
    "\n",
    "ax.bar(goods_by_day['date_day'], goods_by_day['quantity'])\n",
    "\n",
    "ax.set_title('Распределение количества проданных товаров по дням')\n",
    "\n",
    "ax.set_xlabel('Дата')\n",
    "ax.set_ylabel('Количество товаров, шт.')\n",
    "\n",
    "fig.set_figwidth(15)    \n",
    "fig.set_figheight(6)  \n",
    "\n",
    "plt.show()"
   ]
  },
  {
   "cell_type": "markdown",
   "id": "70a4952d",
   "metadata": {},
   "source": [
    "На графике наблюдается всплекс количества проданных товаров в апреле-июне 2019 г. Проанализируем, с чем это связано и посмотрим, какие товары пользовались спросом.  "
   ]
  },
  {
   "cell_type": "code",
   "execution_count": 33,
   "id": "29d25926",
   "metadata": {},
   "outputs": [
    {
     "data": {
      "text/html": [
       "<div>\n",
       "<style scoped>\n",
       "    .dataframe tbody tr th:only-of-type {\n",
       "        vertical-align: middle;\n",
       "    }\n",
       "\n",
       "    .dataframe tbody tr th {\n",
       "        vertical-align: top;\n",
       "    }\n",
       "\n",
       "    .dataframe thead th {\n",
       "        text-align: right;\n",
       "    }\n",
       "</style>\n",
       "<table border=\"1\" class=\"dataframe\">\n",
       "  <thead>\n",
       "    <tr style=\"text-align: right;\">\n",
       "      <th></th>\n",
       "      <th>product</th>\n",
       "      <th>quantity</th>\n",
       "    </tr>\n",
       "  </thead>\n",
       "  <tbody>\n",
       "    <tr>\n",
       "      <th>74</th>\n",
       "      <td>Вешалки мягкие для деликатных вещей 3 шт шоколад</td>\n",
       "      <td>335</td>\n",
       "    </tr>\n",
       "    <tr>\n",
       "      <th>232</th>\n",
       "      <td>Муляж ЯБЛОКО 9 см красное</td>\n",
       "      <td>300</td>\n",
       "    </tr>\n",
       "    <tr>\n",
       "      <th>775</th>\n",
       "      <td>Щетка-сметка 4-х рядная деревянная 300 мм (фиг...</td>\n",
       "      <td>90</td>\n",
       "    </tr>\n",
       "    <tr>\n",
       "      <th>267</th>\n",
       "      <td>Однолетнее растение Петуния махровая в кассете...</td>\n",
       "      <td>76</td>\n",
       "    </tr>\n",
       "    <tr>\n",
       "      <th>592</th>\n",
       "      <td>Салфетка Protec Textil Polyline 30х43 см Амети...</td>\n",
       "      <td>74</td>\n",
       "    </tr>\n",
       "    <tr>\n",
       "      <th>243</th>\n",
       "      <td>Насадка на валик ВММ-200/60 белый искусственны...</td>\n",
       "      <td>70</td>\n",
       "    </tr>\n",
       "    <tr>\n",
       "      <th>187</th>\n",
       "      <td>Ковш пластмассовый Полимербыт С215, 1,5 л 1406006</td>\n",
       "      <td>59</td>\n",
       "    </tr>\n",
       "    <tr>\n",
       "      <th>726</th>\n",
       "      <td>Цветок искусственный Гвоздика пластиковая один...</td>\n",
       "      <td>46</td>\n",
       "    </tr>\n",
       "    <tr>\n",
       "      <th>294</th>\n",
       "      <td>Пеларгония зональная диам. 12 см красная махровая</td>\n",
       "      <td>46</td>\n",
       "    </tr>\n",
       "    <tr>\n",
       "      <th>333</th>\n",
       "      <td>Петля приварная гаражная d 14х90 мм с шаром, 1...</td>\n",
       "      <td>40</td>\n",
       "    </tr>\n",
       "    <tr>\n",
       "      <th>329</th>\n",
       "      <td>Пеларгония розебудная Red Pandora укорененный ...</td>\n",
       "      <td>31</td>\n",
       "    </tr>\n",
       "    <tr>\n",
       "      <th>1</th>\n",
       "      <td>Ёрш унитазный с деревянной ручкой , Ваир 1712012</td>\n",
       "      <td>31</td>\n",
       "    </tr>\n",
       "    <tr>\n",
       "      <th>66</th>\n",
       "      <td>Вешалка деревянная для верхней одежды 45 см</td>\n",
       "      <td>30</td>\n",
       "    </tr>\n",
       "    <tr>\n",
       "      <th>312</th>\n",
       "      <td>Пеларгония зональная диам. 12 см сиреневый пол...</td>\n",
       "      <td>29</td>\n",
       "    </tr>\n",
       "    <tr>\n",
       "      <th>409</th>\n",
       "      <td>Рассада Арбуза сорт Огонек горшок 9х9 см P-9</td>\n",
       "      <td>28</td>\n",
       "    </tr>\n",
       "    <tr>\n",
       "      <th>224</th>\n",
       "      <td>Муляж Банан желтый 21 см полиуретан</td>\n",
       "      <td>26</td>\n",
       "    </tr>\n",
       "    <tr>\n",
       "      <th>84</th>\n",
       "      <td>Гвоздика стандартная Новия 70 см Колумбия План...</td>\n",
       "      <td>25</td>\n",
       "    </tr>\n",
       "    <tr>\n",
       "      <th>72</th>\n",
       "      <td>Вешалка-плечики без эссенции цвет тёмно-розовы...</td>\n",
       "      <td>25</td>\n",
       "    </tr>\n",
       "    <tr>\n",
       "      <th>327</th>\n",
       "      <td>Пеларгония розебудная Prins Nikolai укорененны...</td>\n",
       "      <td>25</td>\n",
       "    </tr>\n",
       "    <tr>\n",
       "      <th>565</th>\n",
       "      <td>Роза одноголовая Тоффи 70 см Эквадор плантация...</td>\n",
       "      <td>25</td>\n",
       "    </tr>\n",
       "    <tr>\n",
       "      <th>367</th>\n",
       "      <td>Петуния махровая рассада однолетних цветов в к...</td>\n",
       "      <td>25</td>\n",
       "    </tr>\n",
       "    <tr>\n",
       "      <th>229</th>\n",
       "      <td>Муляж Оранжевое яблоко мини полиуретан d-5 см</td>\n",
       "      <td>25</td>\n",
       "    </tr>\n",
       "    <tr>\n",
       "      <th>326</th>\n",
       "      <td>Пеларгония розебудная Mary укорененный черенок</td>\n",
       "      <td>22</td>\n",
       "    </tr>\n",
       "    <tr>\n",
       "      <th>412</th>\n",
       "      <td>Рассада Арбуза сорт Шуга Бэби горшок 9х9 см P-9</td>\n",
       "      <td>22</td>\n",
       "    </tr>\n",
       "    <tr>\n",
       "      <th>852</th>\n",
       "      <td>томата (помидор) сорт Бычье Сердце №14</td>\n",
       "      <td>22</td>\n",
       "    </tr>\n",
       "    <tr>\n",
       "      <th>184</th>\n",
       "      <td>Коврик противоскользящий пузырьки 70х38 см про...</td>\n",
       "      <td>20</td>\n",
       "    </tr>\n",
       "    <tr>\n",
       "      <th>67</th>\n",
       "      <td>Вешалка для блузок 41 см зеленый Attribute AHM751</td>\n",
       "      <td>20</td>\n",
       "    </tr>\n",
       "    <tr>\n",
       "      <th>368</th>\n",
       "      <td>Петуния махровая рассада однолетних цветов в к...</td>\n",
       "      <td>20</td>\n",
       "    </tr>\n",
       "    <tr>\n",
       "      <th>317</th>\n",
       "      <td>Пеларгония зональная махровая лососевая</td>\n",
       "      <td>19</td>\n",
       "    </tr>\n",
       "    <tr>\n",
       "      <th>13</th>\n",
       "      <td>Арбуз Волгоградец Р-9</td>\n",
       "      <td>18</td>\n",
       "    </tr>\n",
       "    <tr>\n",
       "      <th>330</th>\n",
       "      <td>Пеларгония розебудная Rosebud Red d-7 см</td>\n",
       "      <td>17</td>\n",
       "    </tr>\n",
       "    <tr>\n",
       "      <th>849</th>\n",
       "      <td>томата (помидор) Этуаль №85 сорт детерминантны...</td>\n",
       "      <td>16</td>\n",
       "    </tr>\n",
       "    <tr>\n",
       "      <th>712</th>\n",
       "      <td>Фиксатор-шар хром большой, 1108349</td>\n",
       "      <td>16</td>\n",
       "    </tr>\n",
       "    <tr>\n",
       "      <th>52</th>\n",
       "      <td>Ведро для ягод Полимербыт 2 л 4311001</td>\n",
       "      <td>16</td>\n",
       "    </tr>\n",
       "    <tr>\n",
       "      <th>231</th>\n",
       "      <td>Муляж Персики мини полиуретан d-6 см</td>\n",
       "      <td>16</td>\n",
       "    </tr>\n",
       "    <tr>\n",
       "      <th>728</th>\n",
       "      <td>Цветок искусственный Роза с открытим бутоном ц...</td>\n",
       "      <td>15</td>\n",
       "    </tr>\n",
       "    <tr>\n",
       "      <th>325</th>\n",
       "      <td>Пеларгония розебудная Margaretha укорененный ч...</td>\n",
       "      <td>15</td>\n",
       "    </tr>\n",
       "    <tr>\n",
       "      <th>292</th>\n",
       "      <td>Пеларгония зональная диам. 12 см белая махровая</td>\n",
       "      <td>14</td>\n",
       "    </tr>\n",
       "    <tr>\n",
       "      <th>370</th>\n",
       "      <td>Петуния простая рассада однолетних цветов в ка...</td>\n",
       "      <td>14</td>\n",
       "    </tr>\n",
       "    <tr>\n",
       "      <th>298</th>\n",
       "      <td>Пеларгония зональная диам. 12 см лососевая мах...</td>\n",
       "      <td>14</td>\n",
       "    </tr>\n",
       "    <tr>\n",
       "      <th>410</th>\n",
       "      <td>Рассада Арбуза сорт Продюсер, горшок 9*9см</td>\n",
       "      <td>14</td>\n",
       "    </tr>\n",
       "    <tr>\n",
       "      <th>414</th>\n",
       "      <td>Рассада Дыни сорт Дина горшок 9х9 см P-9</td>\n",
       "      <td>13</td>\n",
       "    </tr>\n",
       "    <tr>\n",
       "      <th>699</th>\n",
       "      <td>Ткань универсальная из микрофибры Micro Magic ...</td>\n",
       "      <td>13</td>\n",
       "    </tr>\n",
       "    <tr>\n",
       "      <th>851</th>\n",
       "      <td>томата (помидор) Юсуповский Узбекский №86 сорт...</td>\n",
       "      <td>13</td>\n",
       "    </tr>\n",
       "    <tr>\n",
       "      <th>328</th>\n",
       "      <td>Пеларгония розебудная Queen Ingrid укорененный...</td>\n",
       "      <td>13</td>\n",
       "    </tr>\n",
       "    <tr>\n",
       "      <th>417</th>\n",
       "      <td>Рассада Дыни сорт Эфиопка горшок 9х9 см P-9</td>\n",
       "      <td>13</td>\n",
       "    </tr>\n",
       "    <tr>\n",
       "      <th>369</th>\n",
       "      <td>Петуния простая рассада однолетних цветов в ка...</td>\n",
       "      <td>13</td>\n",
       "    </tr>\n",
       "    <tr>\n",
       "      <th>241</th>\n",
       "      <td>Наматрацник Natures Бархатный бамбук ББ-Н-1-2 ...</td>\n",
       "      <td>12</td>\n",
       "    </tr>\n",
       "    <tr>\n",
       "      <th>138</th>\n",
       "      <td>Искусственный цветок Крокус пластиковый розовый</td>\n",
       "      <td>11</td>\n",
       "    </tr>\n",
       "    <tr>\n",
       "      <th>416</th>\n",
       "      <td>Рассада Дыни сорт Колхозница горшок 9х9 см P-9</td>\n",
       "      <td>11</td>\n",
       "    </tr>\n",
       "  </tbody>\n",
       "</table>\n",
       "</div>"
      ],
      "text/plain": [
       "                                               product  quantity\n",
       "74    Вешалки мягкие для деликатных вещей 3 шт шоколад       335\n",
       "232                          Муляж ЯБЛОКО 9 см красное       300\n",
       "775  Щетка-сметка 4-х рядная деревянная 300 мм (фиг...        90\n",
       "267  Однолетнее растение Петуния махровая в кассете...        76\n",
       "592  Салфетка Protec Textil Polyline 30х43 см Амети...        74\n",
       "243  Насадка на валик ВММ-200/60 белый искусственны...        70\n",
       "187  Ковш пластмассовый Полимербыт С215, 1,5 л 1406006        59\n",
       "726  Цветок искусственный Гвоздика пластиковая один...        46\n",
       "294  Пеларгония зональная диам. 12 см красная махровая        46\n",
       "333  Петля приварная гаражная d 14х90 мм с шаром, 1...        40\n",
       "329  Пеларгония розебудная Red Pandora укорененный ...        31\n",
       "1     Ёрш унитазный с деревянной ручкой , Ваир 1712012        31\n",
       "66         Вешалка деревянная для верхней одежды 45 см        30\n",
       "312  Пеларгония зональная диам. 12 см сиреневый пол...        29\n",
       "409       Рассада Арбуза сорт Огонек горшок 9х9 см P-9        28\n",
       "224                Муляж Банан желтый 21 см полиуретан        26\n",
       "84   Гвоздика стандартная Новия 70 см Колумбия План...        25\n",
       "72   Вешалка-плечики без эссенции цвет тёмно-розовы...        25\n",
       "327  Пеларгония розебудная Prins Nikolai укорененны...        25\n",
       "565  Роза одноголовая Тоффи 70 см Эквадор плантация...        25\n",
       "367  Петуния махровая рассада однолетних цветов в к...        25\n",
       "229      Муляж Оранжевое яблоко мини полиуретан d-5 см        25\n",
       "326     Пеларгония розебудная Mary укорененный черенок        22\n",
       "412    Рассада Арбуза сорт Шуга Бэби горшок 9х9 см P-9        22\n",
       "852             томата (помидор) сорт Бычье Сердце №14        22\n",
       "184  Коврик противоскользящий пузырьки 70х38 см про...        20\n",
       "67   Вешалка для блузок 41 см зеленый Attribute AHM751        20\n",
       "368  Петуния махровая рассада однолетних цветов в к...        20\n",
       "317            Пеларгония зональная махровая лососевая        19\n",
       "13                               Арбуз Волгоградец Р-9        18\n",
       "330           Пеларгония розебудная Rosebud Red d-7 см        17\n",
       "849  томата (помидор) Этуаль №85 сорт детерминантны...        16\n",
       "712                 Фиксатор-шар хром большой, 1108349        16\n",
       "52               Ведро для ягод Полимербыт 2 л 4311001        16\n",
       "231               Муляж Персики мини полиуретан d-6 см        16\n",
       "728  Цветок искусственный Роза с открытим бутоном ц...        15\n",
       "325  Пеларгония розебудная Margaretha укорененный ч...        15\n",
       "292    Пеларгония зональная диам. 12 см белая махровая        14\n",
       "370  Петуния простая рассада однолетних цветов в ка...        14\n",
       "298  Пеларгония зональная диам. 12 см лососевая мах...        14\n",
       "410         Рассада Арбуза сорт Продюсер, горшок 9*9см        14\n",
       "414           Рассада Дыни сорт Дина горшок 9х9 см P-9        13\n",
       "699  Ткань универсальная из микрофибры Micro Magic ...        13\n",
       "851  томата (помидор) Юсуповский Узбекский №86 сорт...        13\n",
       "328  Пеларгония розебудная Queen Ingrid укорененный...        13\n",
       "417        Рассада Дыни сорт Эфиопка горшок 9х9 см P-9        13\n",
       "369  Петуния простая рассада однолетних цветов в ка...        13\n",
       "241  Наматрацник Natures Бархатный бамбук ББ-Н-1-2 ...        12\n",
       "138    Искусственный цветок Крокус пластиковый розовый        11\n",
       "416     Рассада Дыни сорт Колхозница горшок 9х9 см P-9        11"
      ]
     },
     "execution_count": 33,
     "metadata": {},
     "output_type": "execute_result"
    }
   ],
   "source": [
    "df[(df['date_day'] >= '2019-04-01') & (df['date_day'] <= '2019-06-30')].groupby('product').agg({'quantity':'sum'}).reset_index().sort_values(by='quantity', ascending=False).head(50)\n"
   ]
  },
  {
   "cell_type": "markdown",
   "id": "83e1343d",
   "metadata": {},
   "source": [
    "Анализ показывает, что в апреле-июне 2019 произошел всплеск продаж из-за увеличения сезонных продаж: рассады овощей и цветов."
   ]
  },
  {
   "cell_type": "markdown",
   "id": "a439a583",
   "metadata": {},
   "source": [
    "### Количество заказов по дням"
   ]
  },
  {
   "cell_type": "markdown",
   "id": "319a814b",
   "metadata": {},
   "source": [
    "Проанализируем распределения количества заказов по дням."
   ]
  },
  {
   "cell_type": "code",
   "execution_count": 34,
   "id": "922e7b62",
   "metadata": {},
   "outputs": [
    {
     "data": {
      "text/html": [
       "<div>\n",
       "<style scoped>\n",
       "    .dataframe tbody tr th:only-of-type {\n",
       "        vertical-align: middle;\n",
       "    }\n",
       "\n",
       "    .dataframe tbody tr th {\n",
       "        vertical-align: top;\n",
       "    }\n",
       "\n",
       "    .dataframe thead th {\n",
       "        text-align: right;\n",
       "    }\n",
       "</style>\n",
       "<table border=\"1\" class=\"dataframe\">\n",
       "  <thead>\n",
       "    <tr style=\"text-align: right;\">\n",
       "      <th></th>\n",
       "      <th>date_day</th>\n",
       "      <th>orders</th>\n",
       "    </tr>\n",
       "  </thead>\n",
       "  <tbody>\n",
       "    <tr>\n",
       "      <th>0</th>\n",
       "      <td>2018-10-01</td>\n",
       "      <td>20</td>\n",
       "    </tr>\n",
       "    <tr>\n",
       "      <th>1</th>\n",
       "      <td>2018-10-02</td>\n",
       "      <td>40</td>\n",
       "    </tr>\n",
       "    <tr>\n",
       "      <th>2</th>\n",
       "      <td>2018-10-03</td>\n",
       "      <td>10</td>\n",
       "    </tr>\n",
       "    <tr>\n",
       "      <th>3</th>\n",
       "      <td>2018-10-04</td>\n",
       "      <td>27</td>\n",
       "    </tr>\n",
       "    <tr>\n",
       "      <th>4</th>\n",
       "      <td>2018-10-05</td>\n",
       "      <td>14</td>\n",
       "    </tr>\n",
       "  </tbody>\n",
       "</table>\n",
       "</div>"
      ],
      "text/plain": [
       "    date_day  orders\n",
       "0 2018-10-01      20\n",
       "1 2018-10-02      40\n",
       "2 2018-10-03      10\n",
       "3 2018-10-04      27\n",
       "4 2018-10-05      14"
      ]
     },
     "execution_count": 34,
     "metadata": {},
     "output_type": "execute_result"
    }
   ],
   "source": [
    "orders_by_day = df.groupby('date_day').agg({'order_id':'count'}).reset_index()\n",
    "orders_by_day.rename(columns = {'order_id':'orders'}, inplace = True)\n",
    "orders_by_day.head()"
   ]
  },
  {
   "cell_type": "code",
   "execution_count": 35,
   "id": "1fb98c30",
   "metadata": {},
   "outputs": [
    {
     "data": {
      "image/png": "[encoded data removed]",
      "text/plain": [
       "<Figure size 1080x432 with 1 Axes>"
      ]
     },
     "metadata": {
      "needs_background": "light"
     },
     "output_type": "display_data"
    }
   ],
   "source": [
    "fig, ax = plt.subplots()\n",
    "\n",
    "plt.bar(orders_by_day['date_day'], orders_by_day['orders'])\n",
    "\n",
    "ax.set_title('Распределение количества заказов по дням')\n",
    "\n",
    "ax.set_xlabel('Дата')\n",
    "ax.set_ylabel('Количество заказов, шт.')\n",
    "\n",
    "fig.set_figwidth(15)    \n",
    "fig.set_figheight(6)\n",
    "\n",
    "plt.show()"
   ]
  },
  {
   "cell_type": "markdown",
   "id": "5784754f",
   "metadata": {},
   "source": [
    "Здесь ситуация аналогичная: количество заказов в день существенно произошло в период с апреля по июнь 2022 г."
   ]
  },
  {
   "cell_type": "markdown",
   "id": "eaa647d8",
   "metadata": {},
   "source": [
    "### Средний чек по дням"
   ]
  },
  {
   "cell_type": "markdown",
   "id": "8dec7580",
   "metadata": {},
   "source": [
    "Рассмотрим, как изменялся средний чек на протяжении рассматриваемого периода."
   ]
  },
  {
   "cell_type": "code",
   "execution_count": 36,
   "id": "f9a84979",
   "metadata": {},
   "outputs": [
    {
     "data": {
      "text/html": [
       "<div>\n",
       "<style scoped>\n",
       "    .dataframe tbody tr th:only-of-type {\n",
       "        vertical-align: middle;\n",
       "    }\n",
       "\n",
       "    .dataframe tbody tr th {\n",
       "        vertical-align: top;\n",
       "    }\n",
       "\n",
       "    .dataframe thead th {\n",
       "        text-align: right;\n",
       "    }\n",
       "</style>\n",
       "<table border=\"1\" class=\"dataframe\">\n",
       "  <thead>\n",
       "    <tr style=\"text-align: right;\">\n",
       "      <th></th>\n",
       "      <th>date_day</th>\n",
       "      <th>orders</th>\n",
       "      <th>revenue</th>\n",
       "      <th>avg_receipt</th>\n",
       "    </tr>\n",
       "  </thead>\n",
       "  <tbody>\n",
       "    <tr>\n",
       "      <th>0</th>\n",
       "      <td>2018-10-01</td>\n",
       "      <td>11</td>\n",
       "      <td>13934.0</td>\n",
       "      <td>1266.727273</td>\n",
       "    </tr>\n",
       "    <tr>\n",
       "      <th>1</th>\n",
       "      <td>2018-10-02</td>\n",
       "      <td>14</td>\n",
       "      <td>16746.0</td>\n",
       "      <td>1196.142857</td>\n",
       "    </tr>\n",
       "    <tr>\n",
       "      <th>2</th>\n",
       "      <td>2018-10-03</td>\n",
       "      <td>7</td>\n",
       "      <td>7275.0</td>\n",
       "      <td>1039.285714</td>\n",
       "    </tr>\n",
       "    <tr>\n",
       "      <th>3</th>\n",
       "      <td>2018-10-04</td>\n",
       "      <td>11</td>\n",
       "      <td>25170.0</td>\n",
       "      <td>2288.181818</td>\n",
       "    </tr>\n",
       "    <tr>\n",
       "      <th>4</th>\n",
       "      <td>2018-10-05</td>\n",
       "      <td>7</td>\n",
       "      <td>4720.0</td>\n",
       "      <td>674.285714</td>\n",
       "    </tr>\n",
       "  </tbody>\n",
       "</table>\n",
       "</div>"
      ],
      "text/plain": [
       "    date_day  orders  revenue  avg_receipt\n",
       "0 2018-10-01      11  13934.0  1266.727273\n",
       "1 2018-10-02      14  16746.0  1196.142857\n",
       "2 2018-10-03       7   7275.0  1039.285714\n",
       "3 2018-10-04      11  25170.0  2288.181818\n",
       "4 2018-10-05       7   4720.0   674.285714"
      ]
     },
     "execution_count": 36,
     "metadata": {},
     "output_type": "execute_result"
    }
   ],
   "source": [
    "avg_receipt = df.groupby('date_day').agg({'order_id':'nunique', 'revenue':'sum'}).reset_index()\n",
    "avg_receipt.rename(columns = {'order_id':'orders'}, inplace = True)\n",
    "avg_receipt['avg_receipt'] = avg_receipt['revenue']/avg_receipt['orders']\n",
    "avg_receipt.head()                                      "
   ]
  },
  {
   "cell_type": "code",
   "execution_count": 37,
   "id": "6b510719",
   "metadata": {},
   "outputs": [
    {
     "data": {
      "image/png": "[encoded data removed]",
      "text/plain": [
       "<Figure size 1080x432 with 1 Axes>"
      ]
     },
     "metadata": {
      "needs_background": "light"
     },
     "output_type": "display_data"
    }
   ],
   "source": [
    "fig, ax = plt.subplots()\n",
    "\n",
    "plt.plot(avg_receipt['date_day'], avg_receipt['avg_receipt'])\n",
    "\n",
    "ax.set_title('Распределение среднего чека по дням')\n",
    "\n",
    "ax.set_xlabel('Дата')\n",
    "ax.set_ylabel('Средний чек, руб.')\n",
    "\n",
    "fig.set_figwidth(15)    \n",
    "fig.set_figheight(6)\n",
    "\n",
    "plt.show()"
   ]
  },
  {
   "cell_type": "code",
   "execution_count": 38,
   "id": "7a090e40",
   "metadata": {},
   "outputs": [
    {
     "data": {
      "text/plain": [
       "count     391.000000\n",
       "mean     1206.663564\n",
       "std       910.301059\n",
       "min       125.000000\n",
       "25%       696.733333\n",
       "50%      1001.000000\n",
       "75%      1443.910714\n",
       "max      7958.000000\n",
       "Name: avg_receipt, dtype: float64"
      ]
     },
     "execution_count": 38,
     "metadata": {},
     "output_type": "execute_result"
    }
   ],
   "source": [
    "avg_receipt['avg_receipt'].describe()"
   ]
  },
  {
   "cell_type": "markdown",
   "id": "273fcd9a",
   "metadata": {},
   "source": [
    "Размер среднего чека распределен равномерно с несколькими всплексами в течение всего периода, что объясняется несколькими крупными заказами."
   ]
  },
  {
   "cell_type": "markdown",
   "id": "3b89679d",
   "metadata": {},
   "source": [
    "### Количество заказов на покупателя"
   ]
  },
  {
   "cell_type": "code",
   "execution_count": 39,
   "id": "4eb9e4f9",
   "metadata": {},
   "outputs": [
    {
     "data": {
      "text/html": [
       "<div>\n",
       "<style scoped>\n",
       "    .dataframe tbody tr th:only-of-type {\n",
       "        vertical-align: middle;\n",
       "    }\n",
       "\n",
       "    .dataframe tbody tr th {\n",
       "        vertical-align: top;\n",
       "    }\n",
       "\n",
       "    .dataframe thead th {\n",
       "        text-align: right;\n",
       "    }\n",
       "</style>\n",
       "<table border=\"1\" class=\"dataframe\">\n",
       "  <thead>\n",
       "    <tr style=\"text-align: right;\">\n",
       "      <th></th>\n",
       "      <th>customer_id</th>\n",
       "      <th>revenue</th>\n",
       "      <th>orders</th>\n",
       "      <th>quantity</th>\n",
       "    </tr>\n",
       "  </thead>\n",
       "  <tbody>\n",
       "    <tr>\n",
       "      <th>1892</th>\n",
       "      <td>c971fb21-d54c-4134-938f-16b62ee86d3b</td>\n",
       "      <td>159508.0</td>\n",
       "      <td>126</td>\n",
       "      <td>334</td>\n",
       "    </tr>\n",
       "    <tr>\n",
       "      <th>731</th>\n",
       "      <td>4d93d3f6-8b24-403b-a74b-f5173e40d7db</td>\n",
       "      <td>57278.0</td>\n",
       "      <td>35</td>\n",
       "      <td>309</td>\n",
       "    </tr>\n",
       "    <tr>\n",
       "      <th>1088</th>\n",
       "      <td>73d1cd35-5e5f-4629-8cf2-3fda829d4e58</td>\n",
       "      <td>21361.0</td>\n",
       "      <td>17</td>\n",
       "      <td>17</td>\n",
       "    </tr>\n",
       "    <tr>\n",
       "      <th>1726</th>\n",
       "      <td>b7b865ab-0735-407f-8d0c-31f74d2806cc</td>\n",
       "      <td>3779.0</td>\n",
       "      <td>7</td>\n",
       "      <td>68</td>\n",
       "    </tr>\n",
       "    <tr>\n",
       "      <th>16</th>\n",
       "      <td>0184f535-b60a-4914-a982-231e3f615206</td>\n",
       "      <td>5891.0</td>\n",
       "      <td>5</td>\n",
       "      <td>58</td>\n",
       "    </tr>\n",
       "    <tr>\n",
       "      <th>688</th>\n",
       "      <td>498f12a4-6a62-4725-8516-cf5dc9ab8a3a</td>\n",
       "      <td>41900.0</td>\n",
       "      <td>4</td>\n",
       "      <td>85</td>\n",
       "    </tr>\n",
       "    <tr>\n",
       "      <th>2119</th>\n",
       "      <td>e0535076-6270-4df2-8621-cb06264a94fa</td>\n",
       "      <td>636.0</td>\n",
       "      <td>4</td>\n",
       "      <td>4</td>\n",
       "    </tr>\n",
       "    <tr>\n",
       "      <th>1797</th>\n",
       "      <td>bea7a833-2074-42db-bc49-4457abd3c930</td>\n",
       "      <td>4409.0</td>\n",
       "      <td>4</td>\n",
       "      <td>30</td>\n",
       "    </tr>\n",
       "    <tr>\n",
       "      <th>1955</th>\n",
       "      <td>d02429ab-22e0-4ff2-9465-3082befde444</td>\n",
       "      <td>3261.0</td>\n",
       "      <td>3</td>\n",
       "      <td>3</td>\n",
       "    </tr>\n",
       "    <tr>\n",
       "      <th>2113</th>\n",
       "      <td>dfbcfde5-21de-4504-aff4-453e617d81c1</td>\n",
       "      <td>2804.0</td>\n",
       "      <td>3</td>\n",
       "      <td>21</td>\n",
       "    </tr>\n",
       "  </tbody>\n",
       "</table>\n",
       "</div>"
      ],
      "text/plain": [
       "                               customer_id   revenue  orders  quantity\n",
       "1892  c971fb21-d54c-4134-938f-16b62ee86d3b  159508.0     126       334\n",
       "731   4d93d3f6-8b24-403b-a74b-f5173e40d7db   57278.0      35       309\n",
       "1088  73d1cd35-5e5f-4629-8cf2-3fda829d4e58   21361.0      17        17\n",
       "1726  b7b865ab-0735-407f-8d0c-31f74d2806cc    3779.0       7        68\n",
       "16    0184f535-b60a-4914-a982-231e3f615206    5891.0       5        58\n",
       "688   498f12a4-6a62-4725-8516-cf5dc9ab8a3a   41900.0       4        85\n",
       "2119  e0535076-6270-4df2-8621-cb06264a94fa     636.0       4         4\n",
       "1797  bea7a833-2074-42db-bc49-4457abd3c930    4409.0       4        30\n",
       "1955  d02429ab-22e0-4ff2-9465-3082befde444    3261.0       3         3\n",
       "2113  dfbcfde5-21de-4504-aff4-453e617d81c1    2804.0       3        21"
      ]
     },
     "execution_count": 39,
     "metadata": {},
     "output_type": "execute_result"
    }
   ],
   "source": [
    "avg_rev_customer = df.groupby('customer_id').agg({'revenue':'sum', 'order_id':'nunique', 'quantity':'sum'}).reset_index()\n",
    "avg_rev_customer.rename(columns = {'order_id':'orders'}, inplace = True)\n",
    "avg_rev_customer.sort_values(by='orders', ascending=False).head(10)"
   ]
  },
  {
   "cell_type": "code",
   "execution_count": 40,
   "id": "98ee7e6a",
   "metadata": {},
   "outputs": [
    {
     "data": {
      "text/plain": [
       "count    2421.000000\n",
       "mean        1.150351\n",
       "std         2.671496\n",
       "min         1.000000\n",
       "25%         1.000000\n",
       "50%         1.000000\n",
       "75%         1.000000\n",
       "max       126.000000\n",
       "Name: orders, dtype: float64"
      ]
     },
     "execution_count": 40,
     "metadata": {},
     "output_type": "execute_result"
    }
   ],
   "source": [
    "avg_rev_customer['orders'].describe()"
   ]
  },
  {
   "cell_type": "markdown",
   "id": "19701c52",
   "metadata": {},
   "source": [
    "В среднем за рассматриваемый период количество заказов на одного покупателя не превышало 2. Количество заказов у топ-3 активных покупателей составило: 126, 35 и 17.  \n",
    "\n",
    "Изучим, что заказывали топ-5 самых активных покупателей.\n",
    "\n",
    "Покупатель 1:"
   ]
  },
  {
   "cell_type": "code",
   "execution_count": 41,
   "id": "71798704",
   "metadata": {},
   "outputs": [
    {
     "data": {
      "text/html": [
       "<div>\n",
       "<style scoped>\n",
       "    .dataframe tbody tr th:only-of-type {\n",
       "        vertical-align: middle;\n",
       "    }\n",
       "\n",
       "    .dataframe tbody tr th {\n",
       "        vertical-align: top;\n",
       "    }\n",
       "\n",
       "    .dataframe thead th {\n",
       "        text-align: right;\n",
       "    }\n",
       "</style>\n",
       "<table border=\"1\" class=\"dataframe\">\n",
       "  <thead>\n",
       "    <tr style=\"text-align: right;\">\n",
       "      <th></th>\n",
       "      <th>date</th>\n",
       "      <th>customer_id</th>\n",
       "      <th>order_id</th>\n",
       "      <th>product</th>\n",
       "      <th>quantity</th>\n",
       "      <th>price</th>\n",
       "      <th>revenue</th>\n",
       "      <th>date_day</th>\n",
       "    </tr>\n",
       "  </thead>\n",
       "  <tbody>\n",
       "    <tr>\n",
       "      <th>9</th>\n",
       "      <td>2018-10-01 09:00:00</td>\n",
       "      <td>c971fb21-d54c-4134-938f-16b62ee86d3b</td>\n",
       "      <td>68480</td>\n",
       "      <td>Чехол для гладильной доски Colombo Persia Beig...</td>\n",
       "      <td>1</td>\n",
       "      <td>674.0</td>\n",
       "      <td>674.0</td>\n",
       "      <td>2018-10-01</td>\n",
       "    </tr>\n",
       "    <tr>\n",
       "      <th>20</th>\n",
       "      <td>2018-10-02 08:00:00</td>\n",
       "      <td>c971fb21-d54c-4134-938f-16b62ee86d3b</td>\n",
       "      <td>68490</td>\n",
       "      <td>Чехол для гладильной доски Festival 137x60 см ...</td>\n",
       "      <td>1</td>\n",
       "      <td>1162.0</td>\n",
       "      <td>1162.0</td>\n",
       "      <td>2018-10-02</td>\n",
       "    </tr>\n",
       "    <tr>\n",
       "      <th>64</th>\n",
       "      <td>2018-10-03 08:00:00</td>\n",
       "      <td>c971fb21-d54c-4134-938f-16b62ee86d3b</td>\n",
       "      <td>68511</td>\n",
       "      <td>Набор прищепок большие пластиковые ROZENBAL ПИ...</td>\n",
       "      <td>10</td>\n",
       "      <td>86.0</td>\n",
       "      <td>860.0</td>\n",
       "      <td>2018-10-03</td>\n",
       "    </tr>\n",
       "    <tr>\n",
       "      <th>65</th>\n",
       "      <td>2018-10-03 10:00:00</td>\n",
       "      <td>c971fb21-d54c-4134-938f-16b62ee86d3b</td>\n",
       "      <td>68514</td>\n",
       "      <td>Сушилка для белья Attribute ПРИМА 11 м синяя н...</td>\n",
       "      <td>1</td>\n",
       "      <td>749.0</td>\n",
       "      <td>749.0</td>\n",
       "      <td>2018-10-03</td>\n",
       "    </tr>\n",
       "    <tr>\n",
       "      <th>130</th>\n",
       "      <td>2018-10-08 07:00:00</td>\n",
       "      <td>c971fb21-d54c-4134-938f-16b62ee86d3b</td>\n",
       "      <td>68561</td>\n",
       "      <td>Тележка багажная DELTA ТБР-20 коричневый с ора...</td>\n",
       "      <td>1</td>\n",
       "      <td>742.0</td>\n",
       "      <td>742.0</td>\n",
       "      <td>2018-10-08</td>\n",
       "    </tr>\n",
       "    <tr>\n",
       "      <th>131</th>\n",
       "      <td>2018-10-08 08:00:00</td>\n",
       "      <td>c971fb21-d54c-4134-938f-16b62ee86d3b</td>\n",
       "      <td>68562</td>\n",
       "      <td>Готовая скатерть Ажурная Dia Rose круглая д.15...</td>\n",
       "      <td>1</td>\n",
       "      <td>712.0</td>\n",
       "      <td>712.0</td>\n",
       "      <td>2018-10-08</td>\n",
       "    </tr>\n",
       "    <tr>\n",
       "      <th>132</th>\n",
       "      <td>2018-10-08 09:00:00</td>\n",
       "      <td>c971fb21-d54c-4134-938f-16b62ee86d3b</td>\n",
       "      <td>68563</td>\n",
       "      <td>Сушилка для белья потолочная Zalger Lift Basic...</td>\n",
       "      <td>1</td>\n",
       "      <td>614.0</td>\n",
       "      <td>614.0</td>\n",
       "      <td>2018-10-08</td>\n",
       "    </tr>\n",
       "    <tr>\n",
       "      <th>139</th>\n",
       "      <td>2018-10-08 13:00:00</td>\n",
       "      <td>c971fb21-d54c-4134-938f-16b62ee86d3b</td>\n",
       "      <td>68568</td>\n",
       "      <td>Таз пластмассовый 18,0 л квадратный (ТП-18) \"П...</td>\n",
       "      <td>1</td>\n",
       "      <td>254.0</td>\n",
       "      <td>254.0</td>\n",
       "      <td>2018-10-08</td>\n",
       "    </tr>\n",
       "    <tr>\n",
       "      <th>160</th>\n",
       "      <td>2018-10-09 09:00:00</td>\n",
       "      <td>c971fb21-d54c-4134-938f-16b62ee86d3b</td>\n",
       "      <td>68580</td>\n",
       "      <td>Стяжка оконная с болтом СТ-55 цинк, 1108354</td>\n",
       "      <td>64</td>\n",
       "      <td>19.0</td>\n",
       "      <td>1216.0</td>\n",
       "      <td>2018-10-09</td>\n",
       "    </tr>\n",
       "    <tr>\n",
       "      <th>171</th>\n",
       "      <td>2018-10-10 08:00:00</td>\n",
       "      <td>c971fb21-d54c-4134-938f-16b62ee86d3b</td>\n",
       "      <td>68596</td>\n",
       "      <td>Сумка-тележка 3-х колесная Gimi Tris Floral синяя</td>\n",
       "      <td>1</td>\n",
       "      <td>2699.0</td>\n",
       "      <td>2699.0</td>\n",
       "      <td>2018-10-10</td>\n",
       "    </tr>\n",
       "    <tr>\n",
       "      <th>172</th>\n",
       "      <td>2018-10-10 13:00:00</td>\n",
       "      <td>c971fb21-d54c-4134-938f-16b62ee86d3b</td>\n",
       "      <td>68597</td>\n",
       "      <td>Сумка-тележка хозяйственная Andersen Scala Sho...</td>\n",
       "      <td>1</td>\n",
       "      <td>3899.0</td>\n",
       "      <td>3899.0</td>\n",
       "      <td>2018-10-10</td>\n",
       "    </tr>\n",
       "    <tr>\n",
       "      <th>183</th>\n",
       "      <td>2018-10-11 08:00:00</td>\n",
       "      <td>c971fb21-d54c-4134-938f-16b62ee86d3b</td>\n",
       "      <td>68604</td>\n",
       "      <td>Герань домашняя (пеларгония зональная) цветуща...</td>\n",
       "      <td>1</td>\n",
       "      <td>149.0</td>\n",
       "      <td>149.0</td>\n",
       "      <td>2018-10-11</td>\n",
       "    </tr>\n",
       "    <tr>\n",
       "      <th>184</th>\n",
       "      <td>2018-10-11 08:00:00</td>\n",
       "      <td>c971fb21-d54c-4134-938f-16b62ee86d3b</td>\n",
       "      <td>68604</td>\n",
       "      <td>Герань домашняя (пеларгония зональная) цветуща...</td>\n",
       "      <td>1</td>\n",
       "      <td>149.0</td>\n",
       "      <td>149.0</td>\n",
       "      <td>2018-10-11</td>\n",
       "    </tr>\n",
       "    <tr>\n",
       "      <th>185</th>\n",
       "      <td>2018-10-11 08:00:00</td>\n",
       "      <td>c971fb21-d54c-4134-938f-16b62ee86d3b</td>\n",
       "      <td>68604</td>\n",
       "      <td>Герань домашняя (пеларгония зональная) цветуща...</td>\n",
       "      <td>1</td>\n",
       "      <td>149.0</td>\n",
       "      <td>149.0</td>\n",
       "      <td>2018-10-11</td>\n",
       "    </tr>\n",
       "    <tr>\n",
       "      <th>186</th>\n",
       "      <td>2018-10-11 08:00:00</td>\n",
       "      <td>c971fb21-d54c-4134-938f-16b62ee86d3b</td>\n",
       "      <td>68604</td>\n",
       "      <td>Герань домашняя (пеларгония зональная) цветуща...</td>\n",
       "      <td>1</td>\n",
       "      <td>149.0</td>\n",
       "      <td>149.0</td>\n",
       "      <td>2018-10-11</td>\n",
       "    </tr>\n",
       "    <tr>\n",
       "      <th>187</th>\n",
       "      <td>2018-10-11 08:00:00</td>\n",
       "      <td>c971fb21-d54c-4134-938f-16b62ee86d3b</td>\n",
       "      <td>68605</td>\n",
       "      <td>Декоративная композиция искуственных цветов Бу...</td>\n",
       "      <td>10</td>\n",
       "      <td>106.0</td>\n",
       "      <td>1060.0</td>\n",
       "      <td>2018-10-11</td>\n",
       "    </tr>\n",
       "    <tr>\n",
       "      <th>188</th>\n",
       "      <td>2018-10-11 08:00:00</td>\n",
       "      <td>c971fb21-d54c-4134-938f-16b62ee86d3b</td>\n",
       "      <td>68605</td>\n",
       "      <td>Искусственный цветок Роза бархатная с закрытым...</td>\n",
       "      <td>10</td>\n",
       "      <td>71.0</td>\n",
       "      <td>710.0</td>\n",
       "      <td>2018-10-11</td>\n",
       "    </tr>\n",
       "    <tr>\n",
       "      <th>257</th>\n",
       "      <td>2018-10-15 10:00:00</td>\n",
       "      <td>c971fb21-d54c-4134-938f-16b62ee86d3b</td>\n",
       "      <td>68651</td>\n",
       "      <td>Чехол для гладильной доски Zalger 520135 140х5...</td>\n",
       "      <td>1</td>\n",
       "      <td>314.0</td>\n",
       "      <td>314.0</td>\n",
       "      <td>2018-10-15</td>\n",
       "    </tr>\n",
       "    <tr>\n",
       "      <th>280</th>\n",
       "      <td>2018-10-17 13:00:00</td>\n",
       "      <td>c971fb21-d54c-4134-938f-16b62ee86d3b</td>\n",
       "      <td>68671</td>\n",
       "      <td>Светильник настольный 17 LED ламп, светодиодны...</td>\n",
       "      <td>1</td>\n",
       "      <td>1199.0</td>\n",
       "      <td>1199.0</td>\n",
       "      <td>2018-10-17</td>\n",
       "    </tr>\n",
       "    <tr>\n",
       "      <th>313</th>\n",
       "      <td>2018-10-19 07:00:00</td>\n",
       "      <td>c971fb21-d54c-4134-938f-16b62ee86d3b</td>\n",
       "      <td>68685</td>\n",
       "      <td>Таз пластмассовый 40,0 л пищевой овальный (Иж)...</td>\n",
       "      <td>5</td>\n",
       "      <td>404.0</td>\n",
       "      <td>2020.0</td>\n",
       "      <td>2018-10-19</td>\n",
       "    </tr>\n",
       "  </tbody>\n",
       "</table>\n",
       "</div>"
      ],
      "text/plain": [
       "                   date                           customer_id  order_id  \\\n",
       "9   2018-10-01 09:00:00  c971fb21-d54c-4134-938f-16b62ee86d3b     68480   \n",
       "20  2018-10-02 08:00:00  c971fb21-d54c-4134-938f-16b62ee86d3b     68490   \n",
       "64  2018-10-03 08:00:00  c971fb21-d54c-4134-938f-16b62ee86d3b     68511   \n",
       "65  2018-10-03 10:00:00  c971fb21-d54c-4134-938f-16b62ee86d3b     68514   \n",
       "130 2018-10-08 07:00:00  c971fb21-d54c-4134-938f-16b62ee86d3b     68561   \n",
       "131 2018-10-08 08:00:00  c971fb21-d54c-4134-938f-16b62ee86d3b     68562   \n",
       "132 2018-10-08 09:00:00  c971fb21-d54c-4134-938f-16b62ee86d3b     68563   \n",
       "139 2018-10-08 13:00:00  c971fb21-d54c-4134-938f-16b62ee86d3b     68568   \n",
       "160 2018-10-09 09:00:00  c971fb21-d54c-4134-938f-16b62ee86d3b     68580   \n",
       "171 2018-10-10 08:00:00  c971fb21-d54c-4134-938f-16b62ee86d3b     68596   \n",
       "172 2018-10-10 13:00:00  c971fb21-d54c-4134-938f-16b62ee86d3b     68597   \n",
       "183 2018-10-11 08:00:00  c971fb21-d54c-4134-938f-16b62ee86d3b     68604   \n",
       "184 2018-10-11 08:00:00  c971fb21-d54c-4134-938f-16b62ee86d3b     68604   \n",
       "185 2018-10-11 08:00:00  c971fb21-d54c-4134-938f-16b62ee86d3b     68604   \n",
       "186 2018-10-11 08:00:00  c971fb21-d54c-4134-938f-16b62ee86d3b     68604   \n",
       "187 2018-10-11 08:00:00  c971fb21-d54c-4134-938f-16b62ee86d3b     68605   \n",
       "188 2018-10-11 08:00:00  c971fb21-d54c-4134-938f-16b62ee86d3b     68605   \n",
       "257 2018-10-15 10:00:00  c971fb21-d54c-4134-938f-16b62ee86d3b     68651   \n",
       "280 2018-10-17 13:00:00  c971fb21-d54c-4134-938f-16b62ee86d3b     68671   \n",
       "313 2018-10-19 07:00:00  c971fb21-d54c-4134-938f-16b62ee86d3b     68685   \n",
       "\n",
       "                                               product  quantity   price  \\\n",
       "9    Чехол для гладильной доски Colombo Persia Beig...         1   674.0   \n",
       "20   Чехол для гладильной доски Festival 137x60 см ...         1  1162.0   \n",
       "64   Набор прищепок большие пластиковые ROZENBAL ПИ...        10    86.0   \n",
       "65   Сушилка для белья Attribute ПРИМА 11 м синяя н...         1   749.0   \n",
       "130  Тележка багажная DELTA ТБР-20 коричневый с ора...         1   742.0   \n",
       "131  Готовая скатерть Ажурная Dia Rose круглая д.15...         1   712.0   \n",
       "132  Сушилка для белья потолочная Zalger Lift Basic...         1   614.0   \n",
       "139  Таз пластмассовый 18,0 л квадратный (ТП-18) \"П...         1   254.0   \n",
       "160        Стяжка оконная с болтом СТ-55 цинк, 1108354        64    19.0   \n",
       "171  Сумка-тележка 3-х колесная Gimi Tris Floral синяя         1  2699.0   \n",
       "172  Сумка-тележка хозяйственная Andersen Scala Sho...         1  3899.0   \n",
       "183  Герань домашняя (пеларгония зональная) цветуща...         1   149.0   \n",
       "184  Герань домашняя (пеларгония зональная) цветуща...         1   149.0   \n",
       "185  Герань домашняя (пеларгония зональная) цветуща...         1   149.0   \n",
       "186  Герань домашняя (пеларгония зональная) цветуща...         1   149.0   \n",
       "187  Декоративная композиция искуственных цветов Бу...        10   106.0   \n",
       "188  Искусственный цветок Роза бархатная с закрытым...        10    71.0   \n",
       "257  Чехол для гладильной доски Zalger 520135 140х5...         1   314.0   \n",
       "280  Светильник настольный 17 LED ламп, светодиодны...         1  1199.0   \n",
       "313  Таз пластмассовый 40,0 л пищевой овальный (Иж)...         5   404.0   \n",
       "\n",
       "     revenue   date_day  \n",
       "9      674.0 2018-10-01  \n",
       "20    1162.0 2018-10-02  \n",
       "64     860.0 2018-10-03  \n",
       "65     749.0 2018-10-03  \n",
       "130    742.0 2018-10-08  \n",
       "131    712.0 2018-10-08  \n",
       "132    614.0 2018-10-08  \n",
       "139    254.0 2018-10-08  \n",
       "160   1216.0 2018-10-09  \n",
       "171   2699.0 2018-10-10  \n",
       "172   3899.0 2018-10-10  \n",
       "183    149.0 2018-10-11  \n",
       "184    149.0 2018-10-11  \n",
       "185    149.0 2018-10-11  \n",
       "186    149.0 2018-10-11  \n",
       "187   1060.0 2018-10-11  \n",
       "188    710.0 2018-10-11  \n",
       "257    314.0 2018-10-15  \n",
       "280   1199.0 2018-10-17  \n",
       "313   2020.0 2018-10-19  "
      ]
     },
     "execution_count": 41,
     "metadata": {},
     "output_type": "execute_result"
    }
   ],
   "source": [
    "df.query('customer_id == \"c971fb21-d54c-4134-938f-16b62ee86d3b\"').head(20)"
   ]
  },
  {
   "cell_type": "markdown",
   "id": "ad6cd13c",
   "metadata": {},
   "source": [
    "Покупатель 2:"
   ]
  },
  {
   "cell_type": "code",
   "execution_count": 42,
   "id": "e862f616",
   "metadata": {},
   "outputs": [
    {
     "data": {
      "text/html": [
       "<div>\n",
       "<style scoped>\n",
       "    .dataframe tbody tr th:only-of-type {\n",
       "        vertical-align: middle;\n",
       "    }\n",
       "\n",
       "    .dataframe tbody tr th {\n",
       "        vertical-align: top;\n",
       "    }\n",
       "\n",
       "    .dataframe thead th {\n",
       "        text-align: right;\n",
       "    }\n",
       "</style>\n",
       "<table border=\"1\" class=\"dataframe\">\n",
       "  <thead>\n",
       "    <tr style=\"text-align: right;\">\n",
       "      <th></th>\n",
       "      <th>date</th>\n",
       "      <th>customer_id</th>\n",
       "      <th>order_id</th>\n",
       "      <th>product</th>\n",
       "      <th>quantity</th>\n",
       "      <th>price</th>\n",
       "      <th>revenue</th>\n",
       "      <th>date_day</th>\n",
       "    </tr>\n",
       "  </thead>\n",
       "  <tbody>\n",
       "    <tr>\n",
       "      <th>12</th>\n",
       "      <td>2018-10-01 13:00:00</td>\n",
       "      <td>4d93d3f6-8b24-403b-a74b-f5173e40d7db</td>\n",
       "      <td>68485</td>\n",
       "      <td>Чехол Eurogold Clean Basic хлопок для досок 12...</td>\n",
       "      <td>1</td>\n",
       "      <td>187.0</td>\n",
       "      <td>187.0</td>\n",
       "      <td>2018-10-01</td>\n",
       "    </tr>\n",
       "    <tr>\n",
       "      <th>21</th>\n",
       "      <td>2018-10-02 10:00:00</td>\n",
       "      <td>4d93d3f6-8b24-403b-a74b-f5173e40d7db</td>\n",
       "      <td>68491</td>\n",
       "      <td>Сумка-тележка 2-х колесная Gimi Argo синяя</td>\n",
       "      <td>1</td>\n",
       "      <td>1049.0</td>\n",
       "      <td>1049.0</td>\n",
       "      <td>2018-10-02</td>\n",
       "    </tr>\n",
       "    <tr>\n",
       "      <th>42</th>\n",
       "      <td>2018-10-02 11:00:00</td>\n",
       "      <td>4d93d3f6-8b24-403b-a74b-f5173e40d7db</td>\n",
       "      <td>68493</td>\n",
       "      <td>Щетка-сметка 3-х рядная деревянная 450 мм (пло...</td>\n",
       "      <td>15</td>\n",
       "      <td>49.0</td>\n",
       "      <td>735.0</td>\n",
       "      <td>2018-10-02</td>\n",
       "    </tr>\n",
       "    <tr>\n",
       "      <th>43</th>\n",
       "      <td>2018-10-02 11:00:00</td>\n",
       "      <td>4d93d3f6-8b24-403b-a74b-f5173e40d7db</td>\n",
       "      <td>68493</td>\n",
       "      <td>Щетка-сметка 4-х рядная деревянная 300 мм (фиг...</td>\n",
       "      <td>15</td>\n",
       "      <td>70.0</td>\n",
       "      <td>1050.0</td>\n",
       "      <td>2018-10-02</td>\n",
       "    </tr>\n",
       "    <tr>\n",
       "      <th>46</th>\n",
       "      <td>2018-10-02 14:00:00</td>\n",
       "      <td>4d93d3f6-8b24-403b-a74b-f5173e40d7db</td>\n",
       "      <td>68503</td>\n",
       "      <td>Вилка столовая RIPPLE сталь 3 мм, 3 шт, Attrib...</td>\n",
       "      <td>1</td>\n",
       "      <td>187.0</td>\n",
       "      <td>187.0</td>\n",
       "      <td>2018-10-02</td>\n",
       "    </tr>\n",
       "    <tr>\n",
       "      <th>47</th>\n",
       "      <td>2018-10-02 14:00:00</td>\n",
       "      <td>4d93d3f6-8b24-403b-a74b-f5173e40d7db</td>\n",
       "      <td>68503</td>\n",
       "      <td>Ложка столовая RIPPLE сталь 3 мм, 3 шт, Attrib...</td>\n",
       "      <td>1</td>\n",
       "      <td>202.0</td>\n",
       "      <td>202.0</td>\n",
       "      <td>2018-10-02</td>\n",
       "    </tr>\n",
       "    <tr>\n",
       "      <th>48</th>\n",
       "      <td>2018-10-02 14:00:00</td>\n",
       "      <td>4d93d3f6-8b24-403b-a74b-f5173e40d7db</td>\n",
       "      <td>68503</td>\n",
       "      <td>Ложка чайная RIPPLE сталь 2,5 мм, 3 шт, Attrib...</td>\n",
       "      <td>1</td>\n",
       "      <td>142.0</td>\n",
       "      <td>142.0</td>\n",
       "      <td>2018-10-02</td>\n",
       "    </tr>\n",
       "    <tr>\n",
       "      <th>49</th>\n",
       "      <td>2018-10-02 14:00:00</td>\n",
       "      <td>4d93d3f6-8b24-403b-a74b-f5173e40d7db</td>\n",
       "      <td>68503</td>\n",
       "      <td>Нож столовый RIPPLE 80 г 2 шт, Attribute, ACR042</td>\n",
       "      <td>1</td>\n",
       "      <td>172.0</td>\n",
       "      <td>172.0</td>\n",
       "      <td>2018-10-02</td>\n",
       "    </tr>\n",
       "    <tr>\n",
       "      <th>50</th>\n",
       "      <td>2018-10-02 15:00:00</td>\n",
       "      <td>4d93d3f6-8b24-403b-a74b-f5173e40d7db</td>\n",
       "      <td>68506</td>\n",
       "      <td>Герань домашняя (пеларгония зональная) цветуща...</td>\n",
       "      <td>11</td>\n",
       "      <td>142.0</td>\n",
       "      <td>1562.0</td>\n",
       "      <td>2018-10-02</td>\n",
       "    </tr>\n",
       "    <tr>\n",
       "      <th>70</th>\n",
       "      <td>2018-10-03 11:00:00</td>\n",
       "      <td>4d93d3f6-8b24-403b-a74b-f5173e40d7db</td>\n",
       "      <td>68516</td>\n",
       "      <td>Сушилка для белья потолочно-настенная Gimi Lif...</td>\n",
       "      <td>1</td>\n",
       "      <td>1649.0</td>\n",
       "      <td>1649.0</td>\n",
       "      <td>2018-10-03</td>\n",
       "    </tr>\n",
       "    <tr>\n",
       "      <th>93</th>\n",
       "      <td>2018-10-04 13:00:00</td>\n",
       "      <td>4d93d3f6-8b24-403b-a74b-f5173e40d7db</td>\n",
       "      <td>68525</td>\n",
       "      <td>Ёрш унитазный с деревянной ручкой , Ваир 1712012</td>\n",
       "      <td>15</td>\n",
       "      <td>56.0</td>\n",
       "      <td>840.0</td>\n",
       "      <td>2018-10-04</td>\n",
       "    </tr>\n",
       "    <tr>\n",
       "      <th>97</th>\n",
       "      <td>2018-10-04 17:00:00</td>\n",
       "      <td>4d93d3f6-8b24-403b-a74b-f5173e40d7db</td>\n",
       "      <td>68528</td>\n",
       "      <td>Мусорный контейнер в ванную комнату BOWL-SHINY...</td>\n",
       "      <td>2</td>\n",
       "      <td>1649.0</td>\n",
       "      <td>3298.0</td>\n",
       "      <td>2018-10-04</td>\n",
       "    </tr>\n",
       "    <tr>\n",
       "      <th>109</th>\n",
       "      <td>2018-10-05 13:00:00</td>\n",
       "      <td>4d93d3f6-8b24-403b-a74b-f5173e40d7db</td>\n",
       "      <td>68540</td>\n",
       "      <td>Таз пластмассовый 24,0 л пищевой круглый (Иж),...</td>\n",
       "      <td>1</td>\n",
       "      <td>239.0</td>\n",
       "      <td>239.0</td>\n",
       "      <td>2018-10-05</td>\n",
       "    </tr>\n",
       "    <tr>\n",
       "      <th>133</th>\n",
       "      <td>2018-10-08 10:00:00</td>\n",
       "      <td>4d93d3f6-8b24-403b-a74b-f5173e40d7db</td>\n",
       "      <td>68564</td>\n",
       "      <td>Сушилка для белья напольная Gimi Modular 3 Lux...</td>\n",
       "      <td>1</td>\n",
       "      <td>1724.0</td>\n",
       "      <td>1724.0</td>\n",
       "      <td>2018-10-08</td>\n",
       "    </tr>\n",
       "    <tr>\n",
       "      <th>135</th>\n",
       "      <td>2018-10-08 12:00:00</td>\n",
       "      <td>4d93d3f6-8b24-403b-a74b-f5173e40d7db</td>\n",
       "      <td>68567</td>\n",
       "      <td>Простыня на резинке односпальная Wellness RM90...</td>\n",
       "      <td>2</td>\n",
       "      <td>899.0</td>\n",
       "      <td>1798.0</td>\n",
       "      <td>2018-10-08</td>\n",
       "    </tr>\n",
       "    <tr>\n",
       "      <th>136</th>\n",
       "      <td>2018-10-08 12:00:00</td>\n",
       "      <td>4d93d3f6-8b24-403b-a74b-f5173e40d7db</td>\n",
       "      <td>68567</td>\n",
       "      <td>Сумка-тележка хозяйственная Gimi Bella синяя</td>\n",
       "      <td>1</td>\n",
       "      <td>1087.0</td>\n",
       "      <td>1087.0</td>\n",
       "      <td>2018-10-08</td>\n",
       "    </tr>\n",
       "    <tr>\n",
       "      <th>137</th>\n",
       "      <td>2018-10-08 12:00:00</td>\n",
       "      <td>4d93d3f6-8b24-403b-a74b-f5173e40d7db</td>\n",
       "      <td>68567</td>\n",
       "      <td>Чайник эмалированный \"Алые маки\" со свистком 2...</td>\n",
       "      <td>1</td>\n",
       "      <td>937.0</td>\n",
       "      <td>937.0</td>\n",
       "      <td>2018-10-08</td>\n",
       "    </tr>\n",
       "    <tr>\n",
       "      <th>146</th>\n",
       "      <td>2018-10-08 16:00:00</td>\n",
       "      <td>4d93d3f6-8b24-403b-a74b-f5173e40d7db</td>\n",
       "      <td>68575</td>\n",
       "      <td>Штора текстильная для ванны и душа полиэстер, ...</td>\n",
       "      <td>1</td>\n",
       "      <td>749.0</td>\n",
       "      <td>749.0</td>\n",
       "      <td>2018-10-08</td>\n",
       "    </tr>\n",
       "    <tr>\n",
       "      <th>162</th>\n",
       "      <td>2018-10-09 10:00:00</td>\n",
       "      <td>4d93d3f6-8b24-403b-a74b-f5173e40d7db</td>\n",
       "      <td>68583</td>\n",
       "      <td>Сушилка для белья потолочная ЛИАНА ЛЮКС 140, Л...</td>\n",
       "      <td>1</td>\n",
       "      <td>449.0</td>\n",
       "      <td>449.0</td>\n",
       "      <td>2018-10-09</td>\n",
       "    </tr>\n",
       "    <tr>\n",
       "      <th>164</th>\n",
       "      <td>2018-10-09 11:00:00</td>\n",
       "      <td>4d93d3f6-8b24-403b-a74b-f5173e40d7db</td>\n",
       "      <td>68585</td>\n",
       "      <td>Крючок одежный тройной латунь (Б-47), 1110182</td>\n",
       "      <td>25</td>\n",
       "      <td>57.0</td>\n",
       "      <td>1425.0</td>\n",
       "      <td>2018-10-09</td>\n",
       "    </tr>\n",
       "  </tbody>\n",
       "</table>\n",
       "</div>"
      ],
      "text/plain": [
       "                   date                           customer_id  order_id  \\\n",
       "12  2018-10-01 13:00:00  4d93d3f6-8b24-403b-a74b-f5173e40d7db     68485   \n",
       "21  2018-10-02 10:00:00  4d93d3f6-8b24-403b-a74b-f5173e40d7db     68491   \n",
       "42  2018-10-02 11:00:00  4d93d3f6-8b24-403b-a74b-f5173e40d7db     68493   \n",
       "43  2018-10-02 11:00:00  4d93d3f6-8b24-403b-a74b-f5173e40d7db     68493   \n",
       "46  2018-10-02 14:00:00  4d93d3f6-8b24-403b-a74b-f5173e40d7db     68503   \n",
       "47  2018-10-02 14:00:00  4d93d3f6-8b24-403b-a74b-f5173e40d7db     68503   \n",
       "48  2018-10-02 14:00:00  4d93d3f6-8b24-403b-a74b-f5173e40d7db     68503   \n",
       "49  2018-10-02 14:00:00  4d93d3f6-8b24-403b-a74b-f5173e40d7db     68503   \n",
       "50  2018-10-02 15:00:00  4d93d3f6-8b24-403b-a74b-f5173e40d7db     68506   \n",
       "70  2018-10-03 11:00:00  4d93d3f6-8b24-403b-a74b-f5173e40d7db     68516   \n",
       "93  2018-10-04 13:00:00  4d93d3f6-8b24-403b-a74b-f5173e40d7db     68525   \n",
       "97  2018-10-04 17:00:00  4d93d3f6-8b24-403b-a74b-f5173e40d7db     68528   \n",
       "109 2018-10-05 13:00:00  4d93d3f6-8b24-403b-a74b-f5173e40d7db     68540   \n",
       "133 2018-10-08 10:00:00  4d93d3f6-8b24-403b-a74b-f5173e40d7db     68564   \n",
       "135 2018-10-08 12:00:00  4d93d3f6-8b24-403b-a74b-f5173e40d7db     68567   \n",
       "136 2018-10-08 12:00:00  4d93d3f6-8b24-403b-a74b-f5173e40d7db     68567   \n",
       "137 2018-10-08 12:00:00  4d93d3f6-8b24-403b-a74b-f5173e40d7db     68567   \n",
       "146 2018-10-08 16:00:00  4d93d3f6-8b24-403b-a74b-f5173e40d7db     68575   \n",
       "162 2018-10-09 10:00:00  4d93d3f6-8b24-403b-a74b-f5173e40d7db     68583   \n",
       "164 2018-10-09 11:00:00  4d93d3f6-8b24-403b-a74b-f5173e40d7db     68585   \n",
       "\n",
       "                                               product  quantity   price  \\\n",
       "12   Чехол Eurogold Clean Basic хлопок для досок 12...         1   187.0   \n",
       "21          Сумка-тележка 2-х колесная Gimi Argo синяя         1  1049.0   \n",
       "42   Щетка-сметка 3-х рядная деревянная 450 мм (пло...        15    49.0   \n",
       "43   Щетка-сметка 4-х рядная деревянная 300 мм (фиг...        15    70.0   \n",
       "46   Вилка столовая RIPPLE сталь 3 мм, 3 шт, Attrib...         1   187.0   \n",
       "47   Ложка столовая RIPPLE сталь 3 мм, 3 шт, Attrib...         1   202.0   \n",
       "48   Ложка чайная RIPPLE сталь 2,5 мм, 3 шт, Attrib...         1   142.0   \n",
       "49    Нож столовый RIPPLE 80 г 2 шт, Attribute, ACR042         1   172.0   \n",
       "50   Герань домашняя (пеларгония зональная) цветуща...        11   142.0   \n",
       "70   Сушилка для белья потолочно-настенная Gimi Lif...         1  1649.0   \n",
       "93    Ёрш унитазный с деревянной ручкой , Ваир 1712012        15    56.0   \n",
       "97   Мусорный контейнер в ванную комнату BOWL-SHINY...         2  1649.0   \n",
       "109  Таз пластмассовый 24,0 л пищевой круглый (Иж),...         1   239.0   \n",
       "133  Сушилка для белья напольная Gimi Modular 3 Lux...         1  1724.0   \n",
       "135  Простыня на резинке односпальная Wellness RM90...         2   899.0   \n",
       "136       Сумка-тележка хозяйственная Gimi Bella синяя         1  1087.0   \n",
       "137  Чайник эмалированный \"Алые маки\" со свистком 2...         1   937.0   \n",
       "146  Штора текстильная для ванны и душа полиэстер, ...         1   749.0   \n",
       "162  Сушилка для белья потолочная ЛИАНА ЛЮКС 140, Л...         1   449.0   \n",
       "164      Крючок одежный тройной латунь (Б-47), 1110182        25    57.0   \n",
       "\n",
       "     revenue   date_day  \n",
       "12     187.0 2018-10-01  \n",
       "21    1049.0 2018-10-02  \n",
       "42     735.0 2018-10-02  \n",
       "43    1050.0 2018-10-02  \n",
       "46     187.0 2018-10-02  \n",
       "47     202.0 2018-10-02  \n",
       "48     142.0 2018-10-02  \n",
       "49     172.0 2018-10-02  \n",
       "50    1562.0 2018-10-02  \n",
       "70    1649.0 2018-10-03  \n",
       "93     840.0 2018-10-04  \n",
       "97    3298.0 2018-10-04  \n",
       "109    239.0 2018-10-05  \n",
       "133   1724.0 2018-10-08  \n",
       "135   1798.0 2018-10-08  \n",
       "136   1087.0 2018-10-08  \n",
       "137    937.0 2018-10-08  \n",
       "146    749.0 2018-10-08  \n",
       "162    449.0 2018-10-09  \n",
       "164   1425.0 2018-10-09  "
      ]
     },
     "execution_count": 42,
     "metadata": {},
     "output_type": "execute_result"
    }
   ],
   "source": [
    "df.query('customer_id == \"4d93d3f6-8b24-403b-a74b-f5173e40d7db\"').head(20)"
   ]
  },
  {
   "cell_type": "markdown",
   "id": "f93cc77f",
   "metadata": {},
   "source": [
    "Покупатель 3:"
   ]
  },
  {
   "cell_type": "code",
   "execution_count": 43,
   "id": "759b96be",
   "metadata": {},
   "outputs": [
    {
     "data": {
      "text/html": [
       "<div>\n",
       "<style scoped>\n",
       "    .dataframe tbody tr th:only-of-type {\n",
       "        vertical-align: middle;\n",
       "    }\n",
       "\n",
       "    .dataframe tbody tr th {\n",
       "        vertical-align: top;\n",
       "    }\n",
       "\n",
       "    .dataframe thead th {\n",
       "        text-align: right;\n",
       "    }\n",
       "</style>\n",
       "<table border=\"1\" class=\"dataframe\">\n",
       "  <thead>\n",
       "    <tr style=\"text-align: right;\">\n",
       "      <th></th>\n",
       "      <th>date</th>\n",
       "      <th>customer_id</th>\n",
       "      <th>order_id</th>\n",
       "      <th>product</th>\n",
       "      <th>quantity</th>\n",
       "      <th>price</th>\n",
       "      <th>revenue</th>\n",
       "      <th>date_day</th>\n",
       "    </tr>\n",
       "  </thead>\n",
       "  <tbody>\n",
       "    <tr>\n",
       "      <th>6500</th>\n",
       "      <td>2019-10-02 15:00:00</td>\n",
       "      <td>73d1cd35-5e5f-4629-8cf2-3fda829d4e58</td>\n",
       "      <td>72836</td>\n",
       "      <td>Чайник электрический ВАСИЛИСА Т31-2000 нержаве...</td>\n",
       "      <td>1</td>\n",
       "      <td>704.0</td>\n",
       "      <td>704.0</td>\n",
       "      <td>2019-10-02</td>\n",
       "    </tr>\n",
       "    <tr>\n",
       "      <th>6533</th>\n",
       "      <td>2019-10-07 09:00:00</td>\n",
       "      <td>73d1cd35-5e5f-4629-8cf2-3fda829d4e58</td>\n",
       "      <td>72881</td>\n",
       "      <td>Хризантема сиреневая d-18 см</td>\n",
       "      <td>1</td>\n",
       "      <td>187.0</td>\n",
       "      <td>187.0</td>\n",
       "      <td>2019-10-07</td>\n",
       "    </tr>\n",
       "    <tr>\n",
       "      <th>6534</th>\n",
       "      <td>2019-10-07 10:00:00</td>\n",
       "      <td>73d1cd35-5e5f-4629-8cf2-3fda829d4e58</td>\n",
       "      <td>72883</td>\n",
       "      <td>Кипятильник электрический 2.5 КВт, 1601143</td>\n",
       "      <td>1</td>\n",
       "      <td>224.0</td>\n",
       "      <td>224.0</td>\n",
       "      <td>2019-10-07</td>\n",
       "    </tr>\n",
       "    <tr>\n",
       "      <th>6537</th>\n",
       "      <td>2019-10-07 16:00:00</td>\n",
       "      <td>73d1cd35-5e5f-4629-8cf2-3fda829d4e58</td>\n",
       "      <td>72889</td>\n",
       "      <td>Чайник электрический ВАСИЛИСА Т28-1800 нержаве...</td>\n",
       "      <td>1</td>\n",
       "      <td>749.0</td>\n",
       "      <td>749.0</td>\n",
       "      <td>2019-10-07</td>\n",
       "    </tr>\n",
       "    <tr>\n",
       "      <th>6563</th>\n",
       "      <td>2019-10-10 10:00:00</td>\n",
       "      <td>73d1cd35-5e5f-4629-8cf2-3fda829d4e58</td>\n",
       "      <td>72913</td>\n",
       "      <td>Стремянка COLOMBO FACTOTUM 4 ступени стальная ...</td>\n",
       "      <td>1</td>\n",
       "      <td>2849.0</td>\n",
       "      <td>2849.0</td>\n",
       "      <td>2019-10-10</td>\n",
       "    </tr>\n",
       "    <tr>\n",
       "      <th>6610</th>\n",
       "      <td>2019-10-15 09:00:00</td>\n",
       "      <td>73d1cd35-5e5f-4629-8cf2-3fda829d4e58</td>\n",
       "      <td>72967</td>\n",
       "      <td>Тележка багажная DELTA DT-22 синий грузоподъем...</td>\n",
       "      <td>1</td>\n",
       "      <td>674.0</td>\n",
       "      <td>674.0</td>\n",
       "      <td>2019-10-15</td>\n",
       "    </tr>\n",
       "    <tr>\n",
       "      <th>6625</th>\n",
       "      <td>2019-10-16 11:00:00</td>\n",
       "      <td>73d1cd35-5e5f-4629-8cf2-3fda829d4e58</td>\n",
       "      <td>72983</td>\n",
       "      <td>Сумка-тележка хозяйственная GIMI Ideal синяя</td>\n",
       "      <td>1</td>\n",
       "      <td>1649.0</td>\n",
       "      <td>1649.0</td>\n",
       "      <td>2019-10-16</td>\n",
       "    </tr>\n",
       "    <tr>\n",
       "      <th>6626</th>\n",
       "      <td>2019-10-16 11:00:00</td>\n",
       "      <td>73d1cd35-5e5f-4629-8cf2-3fda829d4e58</td>\n",
       "      <td>72986</td>\n",
       "      <td>Сумка-тележка хозяйственная Rolser MNB012 azul...</td>\n",
       "      <td>1</td>\n",
       "      <td>6600.0</td>\n",
       "      <td>6600.0</td>\n",
       "      <td>2019-10-16</td>\n",
       "    </tr>\n",
       "    <tr>\n",
       "      <th>6631</th>\n",
       "      <td>2019-10-16 16:00:00</td>\n",
       "      <td>73d1cd35-5e5f-4629-8cf2-3fda829d4e58</td>\n",
       "      <td>72993</td>\n",
       "      <td>Таз пластмассовый 30,0 л овальный ПЦ2913, 1404051</td>\n",
       "      <td>1</td>\n",
       "      <td>404.0</td>\n",
       "      <td>404.0</td>\n",
       "      <td>2019-10-16</td>\n",
       "    </tr>\n",
       "    <tr>\n",
       "      <th>6632</th>\n",
       "      <td>2019-10-16 17:00:00</td>\n",
       "      <td>73d1cd35-5e5f-4629-8cf2-3fda829d4e58</td>\n",
       "      <td>72996</td>\n",
       "      <td>Контейнер для мусора FLIP BIN CURVER 25 л граф...</td>\n",
       "      <td>1</td>\n",
       "      <td>824.0</td>\n",
       "      <td>824.0</td>\n",
       "      <td>2019-10-16</td>\n",
       "    </tr>\n",
       "    <tr>\n",
       "      <th>6643</th>\n",
       "      <td>2019-10-17 13:00:00</td>\n",
       "      <td>73d1cd35-5e5f-4629-8cf2-3fda829d4e58</td>\n",
       "      <td>73008</td>\n",
       "      <td>Сушилка для белья Gimi Dinamik 20</td>\n",
       "      <td>1</td>\n",
       "      <td>2474.0</td>\n",
       "      <td>2474.0</td>\n",
       "      <td>2019-10-17</td>\n",
       "    </tr>\n",
       "    <tr>\n",
       "      <th>6667</th>\n",
       "      <td>2019-10-21 10:00:00</td>\n",
       "      <td>73d1cd35-5e5f-4629-8cf2-3fda829d4e58</td>\n",
       "      <td>73046</td>\n",
       "      <td>Чехол для гладильной доски PRISMA TEXTIL термо...</td>\n",
       "      <td>1</td>\n",
       "      <td>352.0</td>\n",
       "      <td>352.0</td>\n",
       "      <td>2019-10-21</td>\n",
       "    </tr>\n",
       "    <tr>\n",
       "      <th>6674</th>\n",
       "      <td>2019-10-22 09:00:00</td>\n",
       "      <td>73d1cd35-5e5f-4629-8cf2-3fda829d4e58</td>\n",
       "      <td>73055</td>\n",
       "      <td>Сушилка для белья потолочная Лиана 1,5 м 1703004</td>\n",
       "      <td>1</td>\n",
       "      <td>524.0</td>\n",
       "      <td>524.0</td>\n",
       "      <td>2019-10-22</td>\n",
       "    </tr>\n",
       "    <tr>\n",
       "      <th>6682</th>\n",
       "      <td>2019-10-23 10:00:00</td>\n",
       "      <td>73d1cd35-5e5f-4629-8cf2-3fda829d4e58</td>\n",
       "      <td>73071</td>\n",
       "      <td>Сушилка для белья потолочная Лиана 2,2 м 1703010</td>\n",
       "      <td>1</td>\n",
       "      <td>697.0</td>\n",
       "      <td>697.0</td>\n",
       "      <td>2019-10-23</td>\n",
       "    </tr>\n",
       "    <tr>\n",
       "      <th>6691</th>\n",
       "      <td>2019-10-25 10:00:00</td>\n",
       "      <td>73d1cd35-5e5f-4629-8cf2-3fda829d4e58</td>\n",
       "      <td>73086</td>\n",
       "      <td>Сумка-тележка 2-х колесная складная Gimi Flexi...</td>\n",
       "      <td>1</td>\n",
       "      <td>1649.0</td>\n",
       "      <td>1649.0</td>\n",
       "      <td>2019-10-25</td>\n",
       "    </tr>\n",
       "    <tr>\n",
       "      <th>6732</th>\n",
       "      <td>2019-10-31 11:00:00</td>\n",
       "      <td>73d1cd35-5e5f-4629-8cf2-3fda829d4e58</td>\n",
       "      <td>73156</td>\n",
       "      <td>Таз пластмассовый 40,0 л пищевой овальный (Иж)...</td>\n",
       "      <td>1</td>\n",
       "      <td>404.0</td>\n",
       "      <td>404.0</td>\n",
       "      <td>2019-10-31</td>\n",
       "    </tr>\n",
       "    <tr>\n",
       "      <th>6735</th>\n",
       "      <td>2019-10-31 14:00:00</td>\n",
       "      <td>73d1cd35-5e5f-4629-8cf2-3fda829d4e58</td>\n",
       "      <td>73164</td>\n",
       "      <td>Таз пластмассовый со стиральной доской (Иж), 1...</td>\n",
       "      <td>1</td>\n",
       "      <td>397.0</td>\n",
       "      <td>397.0</td>\n",
       "      <td>2019-10-31</td>\n",
       "    </tr>\n",
       "  </tbody>\n",
       "</table>\n",
       "</div>"
      ],
      "text/plain": [
       "                    date                           customer_id  order_id  \\\n",
       "6500 2019-10-02 15:00:00  73d1cd35-5e5f-4629-8cf2-3fda829d4e58     72836   \n",
       "6533 2019-10-07 09:00:00  73d1cd35-5e5f-4629-8cf2-3fda829d4e58     72881   \n",
       "6534 2019-10-07 10:00:00  73d1cd35-5e5f-4629-8cf2-3fda829d4e58     72883   \n",
       "6537 2019-10-07 16:00:00  73d1cd35-5e5f-4629-8cf2-3fda829d4e58     72889   \n",
       "6563 2019-10-10 10:00:00  73d1cd35-5e5f-4629-8cf2-3fda829d4e58     72913   \n",
       "6610 2019-10-15 09:00:00  73d1cd35-5e5f-4629-8cf2-3fda829d4e58     72967   \n",
       "6625 2019-10-16 11:00:00  73d1cd35-5e5f-4629-8cf2-3fda829d4e58     72983   \n",
       "6626 2019-10-16 11:00:00  73d1cd35-5e5f-4629-8cf2-3fda829d4e58     72986   \n",
       "6631 2019-10-16 16:00:00  73d1cd35-5e5f-4629-8cf2-3fda829d4e58     72993   \n",
       "6632 2019-10-16 17:00:00  73d1cd35-5e5f-4629-8cf2-3fda829d4e58     72996   \n",
       "6643 2019-10-17 13:00:00  73d1cd35-5e5f-4629-8cf2-3fda829d4e58     73008   \n",
       "6667 2019-10-21 10:00:00  73d1cd35-5e5f-4629-8cf2-3fda829d4e58     73046   \n",
       "6674 2019-10-22 09:00:00  73d1cd35-5e5f-4629-8cf2-3fda829d4e58     73055   \n",
       "6682 2019-10-23 10:00:00  73d1cd35-5e5f-4629-8cf2-3fda829d4e58     73071   \n",
       "6691 2019-10-25 10:00:00  73d1cd35-5e5f-4629-8cf2-3fda829d4e58     73086   \n",
       "6732 2019-10-31 11:00:00  73d1cd35-5e5f-4629-8cf2-3fda829d4e58     73156   \n",
       "6735 2019-10-31 14:00:00  73d1cd35-5e5f-4629-8cf2-3fda829d4e58     73164   \n",
       "\n",
       "                                                product  quantity   price  \\\n",
       "6500  Чайник электрический ВАСИЛИСА Т31-2000 нержаве...         1   704.0   \n",
       "6533                       Хризантема сиреневая d-18 см         1   187.0   \n",
       "6534         Кипятильник электрический 2.5 КВт, 1601143         1   224.0   \n",
       "6537  Чайник электрический ВАСИЛИСА Т28-1800 нержаве...         1   749.0   \n",
       "6563  Стремянка COLOMBO FACTOTUM 4 ступени стальная ...         1  2849.0   \n",
       "6610  Тележка багажная DELTA DT-22 синий грузоподъем...         1   674.0   \n",
       "6625       Сумка-тележка хозяйственная GIMI Ideal синяя         1  1649.0   \n",
       "6626  Сумка-тележка хозяйственная Rolser MNB012 azul...         1  6600.0   \n",
       "6631  Таз пластмассовый 30,0 л овальный ПЦ2913, 1404051         1   404.0   \n",
       "6632  Контейнер для мусора FLIP BIN CURVER 25 л граф...         1   824.0   \n",
       "6643                  Сушилка для белья Gimi Dinamik 20         1  2474.0   \n",
       "6667  Чехол для гладильной доски PRISMA TEXTIL термо...         1   352.0   \n",
       "6674   Сушилка для белья потолочная Лиана 1,5 м 1703004         1   524.0   \n",
       "6682   Сушилка для белья потолочная Лиана 2,2 м 1703010         1   697.0   \n",
       "6691  Сумка-тележка 2-х колесная складная Gimi Flexi...         1  1649.0   \n",
       "6732  Таз пластмассовый 40,0 л пищевой овальный (Иж)...         1   404.0   \n",
       "6735  Таз пластмассовый со стиральной доской (Иж), 1...         1   397.0   \n",
       "\n",
       "      revenue   date_day  \n",
       "6500    704.0 2019-10-02  \n",
       "6533    187.0 2019-10-07  \n",
       "6534    224.0 2019-10-07  \n",
       "6537    749.0 2019-10-07  \n",
       "6563   2849.0 2019-10-10  \n",
       "6610    674.0 2019-10-15  \n",
       "6625   1649.0 2019-10-16  \n",
       "6626   6600.0 2019-10-16  \n",
       "6631    404.0 2019-10-16  \n",
       "6632    824.0 2019-10-16  \n",
       "6643   2474.0 2019-10-17  \n",
       "6667    352.0 2019-10-21  \n",
       "6674    524.0 2019-10-22  \n",
       "6682    697.0 2019-10-23  \n",
       "6691   1649.0 2019-10-25  \n",
       "6732    404.0 2019-10-31  \n",
       "6735    397.0 2019-10-31  "
      ]
     },
     "execution_count": 43,
     "metadata": {},
     "output_type": "execute_result"
    }
   ],
   "source": [
    "df.query('customer_id == \"73d1cd35-5e5f-4629-8cf2-3fda829d4e58\"').head(20)"
   ]
  },
  {
   "cell_type": "markdown",
   "id": "9794cd1a",
   "metadata": {},
   "source": [
    "Покупатель 4:"
   ]
  },
  {
   "cell_type": "code",
   "execution_count": 44,
   "id": "5d8da360",
   "metadata": {},
   "outputs": [
    {
     "data": {
      "text/html": [
       "<div>\n",
       "<style scoped>\n",
       "    .dataframe tbody tr th:only-of-type {\n",
       "        vertical-align: middle;\n",
       "    }\n",
       "\n",
       "    .dataframe tbody tr th {\n",
       "        vertical-align: top;\n",
       "    }\n",
       "\n",
       "    .dataframe thead th {\n",
       "        text-align: right;\n",
       "    }\n",
       "</style>\n",
       "<table border=\"1\" class=\"dataframe\">\n",
       "  <thead>\n",
       "    <tr style=\"text-align: right;\">\n",
       "      <th></th>\n",
       "      <th>date</th>\n",
       "      <th>customer_id</th>\n",
       "      <th>order_id</th>\n",
       "      <th>product</th>\n",
       "      <th>quantity</th>\n",
       "      <th>price</th>\n",
       "      <th>revenue</th>\n",
       "      <th>date_day</th>\n",
       "    </tr>\n",
       "  </thead>\n",
       "  <tbody>\n",
       "    <tr>\n",
       "      <th>1835</th>\n",
       "      <td>2019-02-15 10:00:00</td>\n",
       "      <td>b7b865ab-0735-407f-8d0c-31f74d2806cc</td>\n",
       "      <td>14538</td>\n",
       "      <td>Пеларгония розоцветная РЕД РОЗЕБУД молодые рас...</td>\n",
       "      <td>1</td>\n",
       "      <td>90.0</td>\n",
       "      <td>90.0</td>\n",
       "      <td>2019-02-15</td>\n",
       "    </tr>\n",
       "    <tr>\n",
       "      <th>2019</th>\n",
       "      <td>2019-02-25 14:00:00</td>\n",
       "      <td>b7b865ab-0735-407f-8d0c-31f74d2806cc</td>\n",
       "      <td>14549</td>\n",
       "      <td>Пеларгония зональная диам. 12 см белая махровая</td>\n",
       "      <td>1</td>\n",
       "      <td>150.0</td>\n",
       "      <td>150.0</td>\n",
       "      <td>2019-02-25</td>\n",
       "    </tr>\n",
       "    <tr>\n",
       "      <th>2020</th>\n",
       "      <td>2019-02-25 14:00:00</td>\n",
       "      <td>b7b865ab-0735-407f-8d0c-31f74d2806cc</td>\n",
       "      <td>14549</td>\n",
       "      <td>Пеларгония зональная диам. 12 см малиновая мах...</td>\n",
       "      <td>1</td>\n",
       "      <td>150.0</td>\n",
       "      <td>150.0</td>\n",
       "      <td>2019-02-25</td>\n",
       "    </tr>\n",
       "    <tr>\n",
       "      <th>2034</th>\n",
       "      <td>2019-02-26 12:00:00</td>\n",
       "      <td>b7b865ab-0735-407f-8d0c-31f74d2806cc</td>\n",
       "      <td>14550</td>\n",
       "      <td>Пеларгония розебудная Mary укорененный черенок</td>\n",
       "      <td>1</td>\n",
       "      <td>135.0</td>\n",
       "      <td>135.0</td>\n",
       "      <td>2019-02-26</td>\n",
       "    </tr>\n",
       "    <tr>\n",
       "      <th>2035</th>\n",
       "      <td>2019-02-26 12:00:00</td>\n",
       "      <td>b7b865ab-0735-407f-8d0c-31f74d2806cc</td>\n",
       "      <td>14550</td>\n",
       "      <td>Пеларгония розебудная Prins Nikolai укорененны...</td>\n",
       "      <td>1</td>\n",
       "      <td>135.0</td>\n",
       "      <td>135.0</td>\n",
       "      <td>2019-02-26</td>\n",
       "    </tr>\n",
       "    <tr>\n",
       "      <th>2628</th>\n",
       "      <td>2019-04-03 16:00:00</td>\n",
       "      <td>b7b865ab-0735-407f-8d0c-31f74d2806cc</td>\n",
       "      <td>14611</td>\n",
       "      <td>Рассада томата (помидор) Иоген № 77 сорт детер...</td>\n",
       "      <td>5</td>\n",
       "      <td>38.0</td>\n",
       "      <td>190.0</td>\n",
       "      <td>2019-04-03</td>\n",
       "    </tr>\n",
       "    <tr>\n",
       "      <th>2629</th>\n",
       "      <td>2019-04-03 16:00:00</td>\n",
       "      <td>b7b865ab-0735-407f-8d0c-31f74d2806cc</td>\n",
       "      <td>14611</td>\n",
       "      <td>Рассада томата (помидор) Ола Полка № 96 сорт д...</td>\n",
       "      <td>5</td>\n",
       "      <td>38.0</td>\n",
       "      <td>190.0</td>\n",
       "      <td>2019-04-03</td>\n",
       "    </tr>\n",
       "    <tr>\n",
       "      <th>2630</th>\n",
       "      <td>2019-04-03 16:00:00</td>\n",
       "      <td>b7b865ab-0735-407f-8d0c-31f74d2806cc</td>\n",
       "      <td>14611</td>\n",
       "      <td>Рассада томата (помидор) Шаймет криг № 117 сор...</td>\n",
       "      <td>10</td>\n",
       "      <td>38.0</td>\n",
       "      <td>380.0</td>\n",
       "      <td>2019-04-03</td>\n",
       "    </tr>\n",
       "    <tr>\n",
       "      <th>2631</th>\n",
       "      <td>2019-04-03 16:00:00</td>\n",
       "      <td>b7b865ab-0735-407f-8d0c-31f74d2806cc</td>\n",
       "      <td>14611</td>\n",
       "      <td>Рассада томата (помидор) Эфемер № 121 сорт дет...</td>\n",
       "      <td>10</td>\n",
       "      <td>38.0</td>\n",
       "      <td>380.0</td>\n",
       "      <td>2019-04-03</td>\n",
       "    </tr>\n",
       "    <tr>\n",
       "      <th>2656</th>\n",
       "      <td>2019-04-04 11:00:00</td>\n",
       "      <td>b7b865ab-0735-407f-8d0c-31f74d2806cc</td>\n",
       "      <td>14615</td>\n",
       "      <td>Бакопа ампельная мега-крупная белая объем 0,5 л</td>\n",
       "      <td>1</td>\n",
       "      <td>82.0</td>\n",
       "      <td>82.0</td>\n",
       "      <td>2019-04-04</td>\n",
       "    </tr>\n",
       "    <tr>\n",
       "      <th>2657</th>\n",
       "      <td>2019-04-04 11:00:00</td>\n",
       "      <td>b7b865ab-0735-407f-8d0c-31f74d2806cc</td>\n",
       "      <td>14615</td>\n",
       "      <td>Бакопа ампельная мега-крупная розовая объем 0,5 л</td>\n",
       "      <td>2</td>\n",
       "      <td>82.0</td>\n",
       "      <td>164.0</td>\n",
       "      <td>2019-04-04</td>\n",
       "    </tr>\n",
       "    <tr>\n",
       "      <th>2658</th>\n",
       "      <td>2019-04-04 11:00:00</td>\n",
       "      <td>b7b865ab-0735-407f-8d0c-31f74d2806cc</td>\n",
       "      <td>14615</td>\n",
       "      <td>Бакопа ампельная мега-крупная синяя объем 0,5 л</td>\n",
       "      <td>1</td>\n",
       "      <td>82.0</td>\n",
       "      <td>82.0</td>\n",
       "      <td>2019-04-04</td>\n",
       "    </tr>\n",
       "    <tr>\n",
       "      <th>2659</th>\n",
       "      <td>2019-04-04 11:00:00</td>\n",
       "      <td>b7b865ab-0735-407f-8d0c-31f74d2806cc</td>\n",
       "      <td>14615</td>\n",
       "      <td>Бегония вечноцветущая рассада однолетних цвето...</td>\n",
       "      <td>4</td>\n",
       "      <td>112.0</td>\n",
       "      <td>448.0</td>\n",
       "      <td>2019-04-04</td>\n",
       "    </tr>\n",
       "    <tr>\n",
       "      <th>2660</th>\n",
       "      <td>2019-04-04 11:00:00</td>\n",
       "      <td>b7b865ab-0735-407f-8d0c-31f74d2806cc</td>\n",
       "      <td>14615</td>\n",
       "      <td>Виола рассада однолетних цветов в кассете по 6 шт</td>\n",
       "      <td>1</td>\n",
       "      <td>67.0</td>\n",
       "      <td>67.0</td>\n",
       "      <td>2019-04-04</td>\n",
       "    </tr>\n",
       "    <tr>\n",
       "      <th>2750</th>\n",
       "      <td>2019-04-09 09:00:00</td>\n",
       "      <td>b7b865ab-0735-407f-8d0c-31f74d2806cc</td>\n",
       "      <td>14628</td>\n",
       "      <td>Пеларгония зональная диам. 12 см розовая рябая...</td>\n",
       "      <td>2</td>\n",
       "      <td>150.0</td>\n",
       "      <td>300.0</td>\n",
       "      <td>2019-04-09</td>\n",
       "    </tr>\n",
       "    <tr>\n",
       "      <th>3049</th>\n",
       "      <td>2019-04-23 17:00:00</td>\n",
       "      <td>b7b865ab-0735-407f-8d0c-31f74d2806cc</td>\n",
       "      <td>14680</td>\n",
       "      <td>томата (помидор) Джалпа №25 сорт детерминантны...</td>\n",
       "      <td>8</td>\n",
       "      <td>38.0</td>\n",
       "      <td>304.0</td>\n",
       "      <td>2019-04-23</td>\n",
       "    </tr>\n",
       "    <tr>\n",
       "      <th>3050</th>\n",
       "      <td>2019-04-23 17:00:00</td>\n",
       "      <td>b7b865ab-0735-407f-8d0c-31f74d2806cc</td>\n",
       "      <td>14680</td>\n",
       "      <td>томата (помидор) Колоновидный № 90 сорт детерм...</td>\n",
       "      <td>6</td>\n",
       "      <td>38.0</td>\n",
       "      <td>228.0</td>\n",
       "      <td>2019-04-23</td>\n",
       "    </tr>\n",
       "    <tr>\n",
       "      <th>3051</th>\n",
       "      <td>2019-04-23 17:00:00</td>\n",
       "      <td>b7b865ab-0735-407f-8d0c-31f74d2806cc</td>\n",
       "      <td>14680</td>\n",
       "      <td>томата (помидор) Монгольский карлик №53 сорт д...</td>\n",
       "      <td>8</td>\n",
       "      <td>38.0</td>\n",
       "      <td>304.0</td>\n",
       "      <td>2019-04-23</td>\n",
       "    </tr>\n",
       "  </tbody>\n",
       "</table>\n",
       "</div>"
      ],
      "text/plain": [
       "                    date                           customer_id  order_id  \\\n",
       "1835 2019-02-15 10:00:00  b7b865ab-0735-407f-8d0c-31f74d2806cc     14538   \n",
       "2019 2019-02-25 14:00:00  b7b865ab-0735-407f-8d0c-31f74d2806cc     14549   \n",
       "2020 2019-02-25 14:00:00  b7b865ab-0735-407f-8d0c-31f74d2806cc     14549   \n",
       "2034 2019-02-26 12:00:00  b7b865ab-0735-407f-8d0c-31f74d2806cc     14550   \n",
       "2035 2019-02-26 12:00:00  b7b865ab-0735-407f-8d0c-31f74d2806cc     14550   \n",
       "2628 2019-04-03 16:00:00  b7b865ab-0735-407f-8d0c-31f74d2806cc     14611   \n",
       "2629 2019-04-03 16:00:00  b7b865ab-0735-407f-8d0c-31f74d2806cc     14611   \n",
       "2630 2019-04-03 16:00:00  b7b865ab-0735-407f-8d0c-31f74d2806cc     14611   \n",
       "2631 2019-04-03 16:00:00  b7b865ab-0735-407f-8d0c-31f74d2806cc     14611   \n",
       "2656 2019-04-04 11:00:00  b7b865ab-0735-407f-8d0c-31f74d2806cc     14615   \n",
       "2657 2019-04-04 11:00:00  b7b865ab-0735-407f-8d0c-31f74d2806cc     14615   \n",
       "2658 2019-04-04 11:00:00  b7b865ab-0735-407f-8d0c-31f74d2806cc     14615   \n",
       "2659 2019-04-04 11:00:00  b7b865ab-0735-407f-8d0c-31f74d2806cc     14615   \n",
       "2660 2019-04-04 11:00:00  b7b865ab-0735-407f-8d0c-31f74d2806cc     14615   \n",
       "2750 2019-04-09 09:00:00  b7b865ab-0735-407f-8d0c-31f74d2806cc     14628   \n",
       "3049 2019-04-23 17:00:00  b7b865ab-0735-407f-8d0c-31f74d2806cc     14680   \n",
       "3050 2019-04-23 17:00:00  b7b865ab-0735-407f-8d0c-31f74d2806cc     14680   \n",
       "3051 2019-04-23 17:00:00  b7b865ab-0735-407f-8d0c-31f74d2806cc     14680   \n",
       "\n",
       "                                                product  quantity  price  \\\n",
       "1835  Пеларгония розоцветная РЕД РОЗЕБУД молодые рас...         1   90.0   \n",
       "2019    Пеларгония зональная диам. 12 см белая махровая         1  150.0   \n",
       "2020  Пеларгония зональная диам. 12 см малиновая мах...         1  150.0   \n",
       "2034     Пеларгония розебудная Mary укорененный черенок         1  135.0   \n",
       "2035  Пеларгония розебудная Prins Nikolai укорененны...         1  135.0   \n",
       "2628  Рассада томата (помидор) Иоген № 77 сорт детер...         5   38.0   \n",
       "2629  Рассада томата (помидор) Ола Полка № 96 сорт д...         5   38.0   \n",
       "2630  Рассада томата (помидор) Шаймет криг № 117 сор...        10   38.0   \n",
       "2631  Рассада томата (помидор) Эфемер № 121 сорт дет...        10   38.0   \n",
       "2656    Бакопа ампельная мега-крупная белая объем 0,5 л         1   82.0   \n",
       "2657  Бакопа ампельная мега-крупная розовая объем 0,5 л         2   82.0   \n",
       "2658    Бакопа ампельная мега-крупная синяя объем 0,5 л         1   82.0   \n",
       "2659  Бегония вечноцветущая рассада однолетних цвето...         4  112.0   \n",
       "2660  Виола рассада однолетних цветов в кассете по 6 шт         1   67.0   \n",
       "2750  Пеларгония зональная диам. 12 см розовая рябая...         2  150.0   \n",
       "3049  томата (помидор) Джалпа №25 сорт детерминантны...         8   38.0   \n",
       "3050  томата (помидор) Колоновидный № 90 сорт детерм...         6   38.0   \n",
       "3051  томата (помидор) Монгольский карлик №53 сорт д...         8   38.0   \n",
       "\n",
       "      revenue   date_day  \n",
       "1835     90.0 2019-02-15  \n",
       "2019    150.0 2019-02-25  \n",
       "2020    150.0 2019-02-25  \n",
       "2034    135.0 2019-02-26  \n",
       "2035    135.0 2019-02-26  \n",
       "2628    190.0 2019-04-03  \n",
       "2629    190.0 2019-04-03  \n",
       "2630    380.0 2019-04-03  \n",
       "2631    380.0 2019-04-03  \n",
       "2656     82.0 2019-04-04  \n",
       "2657    164.0 2019-04-04  \n",
       "2658     82.0 2019-04-04  \n",
       "2659    448.0 2019-04-04  \n",
       "2660     67.0 2019-04-04  \n",
       "2750    300.0 2019-04-09  \n",
       "3049    304.0 2019-04-23  \n",
       "3050    228.0 2019-04-23  \n",
       "3051    304.0 2019-04-23  "
      ]
     },
     "execution_count": 44,
     "metadata": {},
     "output_type": "execute_result"
    }
   ],
   "source": [
    "df.query('customer_id == \"b7b865ab-0735-407f-8d0c-31f74d2806cc\"').head(20)"
   ]
  },
  {
   "cell_type": "markdown",
   "id": "a72dad06",
   "metadata": {},
   "source": [
    "Покупатель 5:"
   ]
  },
  {
   "cell_type": "code",
   "execution_count": 45,
   "id": "f018eb9d",
   "metadata": {},
   "outputs": [
    {
     "data": {
      "text/html": [
       "<div>\n",
       "<style scoped>\n",
       "    .dataframe tbody tr th:only-of-type {\n",
       "        vertical-align: middle;\n",
       "    }\n",
       "\n",
       "    .dataframe tbody tr th {\n",
       "        vertical-align: top;\n",
       "    }\n",
       "\n",
       "    .dataframe thead th {\n",
       "        text-align: right;\n",
       "    }\n",
       "</style>\n",
       "<table border=\"1\" class=\"dataframe\">\n",
       "  <thead>\n",
       "    <tr style=\"text-align: right;\">\n",
       "      <th></th>\n",
       "      <th>date</th>\n",
       "      <th>customer_id</th>\n",
       "      <th>order_id</th>\n",
       "      <th>product</th>\n",
       "      <th>quantity</th>\n",
       "      <th>price</th>\n",
       "      <th>revenue</th>\n",
       "      <th>date_day</th>\n",
       "    </tr>\n",
       "  </thead>\n",
       "  <tbody>\n",
       "    <tr>\n",
       "      <th>2237</th>\n",
       "      <td>2019-03-07 10:00:00</td>\n",
       "      <td>0184f535-b60a-4914-a982-231e3f615206</td>\n",
       "      <td>14566</td>\n",
       "      <td>Пеларгония розебудная Margaretha укорененный ч...</td>\n",
       "      <td>1</td>\n",
       "      <td>135.0</td>\n",
       "      <td>135.0</td>\n",
       "      <td>2019-03-07</td>\n",
       "    </tr>\n",
       "    <tr>\n",
       "      <th>2238</th>\n",
       "      <td>2019-03-07 10:00:00</td>\n",
       "      <td>0184f535-b60a-4914-a982-231e3f615206</td>\n",
       "      <td>14566</td>\n",
       "      <td>Пеларгония розебудная Mary укорененный черенок</td>\n",
       "      <td>1</td>\n",
       "      <td>135.0</td>\n",
       "      <td>135.0</td>\n",
       "      <td>2019-03-07</td>\n",
       "    </tr>\n",
       "    <tr>\n",
       "      <th>2239</th>\n",
       "      <td>2019-03-07 10:00:00</td>\n",
       "      <td>0184f535-b60a-4914-a982-231e3f615206</td>\n",
       "      <td>14566</td>\n",
       "      <td>Пеларгония розебудная Prins Nikolai укорененны...</td>\n",
       "      <td>1</td>\n",
       "      <td>135.0</td>\n",
       "      <td>135.0</td>\n",
       "      <td>2019-03-07</td>\n",
       "    </tr>\n",
       "    <tr>\n",
       "      <th>2240</th>\n",
       "      <td>2019-03-07 10:00:00</td>\n",
       "      <td>0184f535-b60a-4914-a982-231e3f615206</td>\n",
       "      <td>14566</td>\n",
       "      <td>Пеларгония розебудная Red Pandora укорененный ...</td>\n",
       "      <td>1</td>\n",
       "      <td>135.0</td>\n",
       "      <td>135.0</td>\n",
       "      <td>2019-03-07</td>\n",
       "    </tr>\n",
       "    <tr>\n",
       "      <th>2725</th>\n",
       "      <td>2019-04-08 09:00:00</td>\n",
       "      <td>0184f535-b60a-4914-a982-231e3f615206</td>\n",
       "      <td>14624</td>\n",
       "      <td>Рассада Капусты белокачанная поздняя Лидер, ка...</td>\n",
       "      <td>1</td>\n",
       "      <td>191.0</td>\n",
       "      <td>191.0</td>\n",
       "      <td>2019-04-08</td>\n",
       "    </tr>\n",
       "    <tr>\n",
       "      <th>2726</th>\n",
       "      <td>2019-04-08 09:00:00</td>\n",
       "      <td>0184f535-b60a-4914-a982-231e3f615206</td>\n",
       "      <td>14624</td>\n",
       "      <td>Рассада перца болгарского сладкого Красное чуд...</td>\n",
       "      <td>4</td>\n",
       "      <td>45.0</td>\n",
       "      <td>180.0</td>\n",
       "      <td>2019-04-08</td>\n",
       "    </tr>\n",
       "    <tr>\n",
       "      <th>2727</th>\n",
       "      <td>2019-04-08 09:00:00</td>\n",
       "      <td>0184f535-b60a-4914-a982-231e3f615206</td>\n",
       "      <td>14624</td>\n",
       "      <td>Рассада томата (помидор) Джессика № 50 сорт ин...</td>\n",
       "      <td>4</td>\n",
       "      <td>38.0</td>\n",
       "      <td>152.0</td>\n",
       "      <td>2019-04-08</td>\n",
       "    </tr>\n",
       "    <tr>\n",
       "      <th>2728</th>\n",
       "      <td>2019-04-08 09:00:00</td>\n",
       "      <td>0184f535-b60a-4914-a982-231e3f615206</td>\n",
       "      <td>14624</td>\n",
       "      <td>Рассада томата (помидор) Сладкий Касади №76 со...</td>\n",
       "      <td>4</td>\n",
       "      <td>38.0</td>\n",
       "      <td>152.0</td>\n",
       "      <td>2019-04-08</td>\n",
       "    </tr>\n",
       "    <tr>\n",
       "      <th>2729</th>\n",
       "      <td>2019-04-08 09:00:00</td>\n",
       "      <td>0184f535-b60a-4914-a982-231e3f615206</td>\n",
       "      <td>14624</td>\n",
       "      <td>Рассада томата (помидор) сорт Аделина, горшок ...</td>\n",
       "      <td>4</td>\n",
       "      <td>45.0</td>\n",
       "      <td>180.0</td>\n",
       "      <td>2019-04-08</td>\n",
       "    </tr>\n",
       "    <tr>\n",
       "      <th>2730</th>\n",
       "      <td>2019-04-08 09:00:00</td>\n",
       "      <td>0184f535-b60a-4914-a982-231e3f615206</td>\n",
       "      <td>14624</td>\n",
       "      <td>Рассада томата (помидор) сорт Де Барао золотой</td>\n",
       "      <td>4</td>\n",
       "      <td>38.0</td>\n",
       "      <td>152.0</td>\n",
       "      <td>2019-04-08</td>\n",
       "    </tr>\n",
       "    <tr>\n",
       "      <th>2731</th>\n",
       "      <td>2019-04-08 09:00:00</td>\n",
       "      <td>0184f535-b60a-4914-a982-231e3f615206</td>\n",
       "      <td>14624</td>\n",
       "      <td>Рассада томата (помидор) сорт Хурма, горшок ди...</td>\n",
       "      <td>4</td>\n",
       "      <td>45.0</td>\n",
       "      <td>180.0</td>\n",
       "      <td>2019-04-08</td>\n",
       "    </tr>\n",
       "    <tr>\n",
       "      <th>2732</th>\n",
       "      <td>2019-04-08 09:00:00</td>\n",
       "      <td>0184f535-b60a-4914-a982-231e3f615206</td>\n",
       "      <td>14624</td>\n",
       "      <td>Рассада томата (помидор) Суперэкзотик № 109 со...</td>\n",
       "      <td>4</td>\n",
       "      <td>38.0</td>\n",
       "      <td>152.0</td>\n",
       "      <td>2019-04-08</td>\n",
       "    </tr>\n",
       "    <tr>\n",
       "      <th>2733</th>\n",
       "      <td>2019-04-08 09:00:00</td>\n",
       "      <td>0184f535-b60a-4914-a982-231e3f615206</td>\n",
       "      <td>14624</td>\n",
       "      <td>Рассада Тыквы сорт Мускаде горшок 9х9 см P-9</td>\n",
       "      <td>2</td>\n",
       "      <td>34.0</td>\n",
       "      <td>68.0</td>\n",
       "      <td>2019-04-08</td>\n",
       "    </tr>\n",
       "    <tr>\n",
       "      <th>2872</th>\n",
       "      <td>2019-04-16 13:00:00</td>\n",
       "      <td>0184f535-b60a-4914-a982-231e3f615206</td>\n",
       "      <td>14649</td>\n",
       "      <td>Бакопа ампельная махровая сиреневая махровая о...</td>\n",
       "      <td>1</td>\n",
       "      <td>90.0</td>\n",
       "      <td>90.0</td>\n",
       "      <td>2019-04-16</td>\n",
       "    </tr>\n",
       "    <tr>\n",
       "      <th>2873</th>\n",
       "      <td>2019-04-16 13:00:00</td>\n",
       "      <td>0184f535-b60a-4914-a982-231e3f615206</td>\n",
       "      <td>14649</td>\n",
       "      <td>Бакопа ампельная махровая фиолетовая махровая ...</td>\n",
       "      <td>1</td>\n",
       "      <td>90.0</td>\n",
       "      <td>90.0</td>\n",
       "      <td>2019-04-16</td>\n",
       "    </tr>\n",
       "    <tr>\n",
       "      <th>2874</th>\n",
       "      <td>2019-04-16 13:00:00</td>\n",
       "      <td>0184f535-b60a-4914-a982-231e3f615206</td>\n",
       "      <td>14649</td>\n",
       "      <td>Виола рассада однолетних цветов в кассете по 1...</td>\n",
       "      <td>1</td>\n",
       "      <td>210.0</td>\n",
       "      <td>210.0</td>\n",
       "      <td>2019-04-16</td>\n",
       "    </tr>\n",
       "    <tr>\n",
       "      <th>2875</th>\n",
       "      <td>2019-04-16 13:00:00</td>\n",
       "      <td>0184f535-b60a-4914-a982-231e3f615206</td>\n",
       "      <td>14649</td>\n",
       "      <td>Газания рассада однолетних цветов в кассете по...</td>\n",
       "      <td>1</td>\n",
       "      <td>210.0</td>\n",
       "      <td>210.0</td>\n",
       "      <td>2019-04-16</td>\n",
       "    </tr>\n",
       "    <tr>\n",
       "      <th>2876</th>\n",
       "      <td>2019-04-16 13:00:00</td>\n",
       "      <td>0184f535-b60a-4914-a982-231e3f615206</td>\n",
       "      <td>14649</td>\n",
       "      <td>Калибрахоа Aloha Double Purple сиреневая махро...</td>\n",
       "      <td>1</td>\n",
       "      <td>90.0</td>\n",
       "      <td>90.0</td>\n",
       "      <td>2019-04-16</td>\n",
       "    </tr>\n",
       "    <tr>\n",
       "      <th>2877</th>\n",
       "      <td>2019-04-16 13:00:00</td>\n",
       "      <td>0184f535-b60a-4914-a982-231e3f615206</td>\n",
       "      <td>14649</td>\n",
       "      <td>Калибрахоа Aloha Tiki Neon малиновая объем 0,5 л</td>\n",
       "      <td>1</td>\n",
       "      <td>90.0</td>\n",
       "      <td>90.0</td>\n",
       "      <td>2019-04-16</td>\n",
       "    </tr>\n",
       "    <tr>\n",
       "      <th>2878</th>\n",
       "      <td>2019-04-16 13:00:00</td>\n",
       "      <td>0184f535-b60a-4914-a982-231e3f615206</td>\n",
       "      <td>14649</td>\n",
       "      <td>Калибрахоа Bloomtastic Blossom розово-сиренева...</td>\n",
       "      <td>1</td>\n",
       "      <td>90.0</td>\n",
       "      <td>90.0</td>\n",
       "      <td>2019-04-16</td>\n",
       "    </tr>\n",
       "  </tbody>\n",
       "</table>\n",
       "</div>"
      ],
      "text/plain": [
       "                    date                           customer_id  order_id  \\\n",
       "2237 2019-03-07 10:00:00  0184f535-b60a-4914-a982-231e3f615206     14566   \n",
       "2238 2019-03-07 10:00:00  0184f535-b60a-4914-a982-231e3f615206     14566   \n",
       "2239 2019-03-07 10:00:00  0184f535-b60a-4914-a982-231e3f615206     14566   \n",
       "2240 2019-03-07 10:00:00  0184f535-b60a-4914-a982-231e3f615206     14566   \n",
       "2725 2019-04-08 09:00:00  0184f535-b60a-4914-a982-231e3f615206     14624   \n",
       "2726 2019-04-08 09:00:00  0184f535-b60a-4914-a982-231e3f615206     14624   \n",
       "2727 2019-04-08 09:00:00  0184f535-b60a-4914-a982-231e3f615206     14624   \n",
       "2728 2019-04-08 09:00:00  0184f535-b60a-4914-a982-231e3f615206     14624   \n",
       "2729 2019-04-08 09:00:00  0184f535-b60a-4914-a982-231e3f615206     14624   \n",
       "2730 2019-04-08 09:00:00  0184f535-b60a-4914-a982-231e3f615206     14624   \n",
       "2731 2019-04-08 09:00:00  0184f535-b60a-4914-a982-231e3f615206     14624   \n",
       "2732 2019-04-08 09:00:00  0184f535-b60a-4914-a982-231e3f615206     14624   \n",
       "2733 2019-04-08 09:00:00  0184f535-b60a-4914-a982-231e3f615206     14624   \n",
       "2872 2019-04-16 13:00:00  0184f535-b60a-4914-a982-231e3f615206     14649   \n",
       "2873 2019-04-16 13:00:00  0184f535-b60a-4914-a982-231e3f615206     14649   \n",
       "2874 2019-04-16 13:00:00  0184f535-b60a-4914-a982-231e3f615206     14649   \n",
       "2875 2019-04-16 13:00:00  0184f535-b60a-4914-a982-231e3f615206     14649   \n",
       "2876 2019-04-16 13:00:00  0184f535-b60a-4914-a982-231e3f615206     14649   \n",
       "2877 2019-04-16 13:00:00  0184f535-b60a-4914-a982-231e3f615206     14649   \n",
       "2878 2019-04-16 13:00:00  0184f535-b60a-4914-a982-231e3f615206     14649   \n",
       "\n",
       "                                                product  quantity  price  \\\n",
       "2237  Пеларгония розебудная Margaretha укорененный ч...         1  135.0   \n",
       "2238     Пеларгония розебудная Mary укорененный черенок         1  135.0   \n",
       "2239  Пеларгония розебудная Prins Nikolai укорененны...         1  135.0   \n",
       "2240  Пеларгония розебудная Red Pandora укорененный ...         1  135.0   \n",
       "2725  Рассада Капусты белокачанная поздняя Лидер, ка...         1  191.0   \n",
       "2726  Рассада перца болгарского сладкого Красное чуд...         4   45.0   \n",
       "2727  Рассада томата (помидор) Джессика № 50 сорт ин...         4   38.0   \n",
       "2728  Рассада томата (помидор) Сладкий Касади №76 со...         4   38.0   \n",
       "2729  Рассада томата (помидор) сорт Аделина, горшок ...         4   45.0   \n",
       "2730     Рассада томата (помидор) сорт Де Барао золотой         4   38.0   \n",
       "2731  Рассада томата (помидор) сорт Хурма, горшок ди...         4   45.0   \n",
       "2732  Рассада томата (помидор) Суперэкзотик № 109 со...         4   38.0   \n",
       "2733       Рассада Тыквы сорт Мускаде горшок 9х9 см P-9         2   34.0   \n",
       "2872  Бакопа ампельная махровая сиреневая махровая о...         1   90.0   \n",
       "2873  Бакопа ампельная махровая фиолетовая махровая ...         1   90.0   \n",
       "2874  Виола рассада однолетних цветов в кассете по 1...         1  210.0   \n",
       "2875  Газания рассада однолетних цветов в кассете по...         1  210.0   \n",
       "2876  Калибрахоа Aloha Double Purple сиреневая махро...         1   90.0   \n",
       "2877   Калибрахоа Aloha Tiki Neon малиновая объем 0,5 л         1   90.0   \n",
       "2878  Калибрахоа Bloomtastic Blossom розово-сиренева...         1   90.0   \n",
       "\n",
       "      revenue   date_day  \n",
       "2237    135.0 2019-03-07  \n",
       "2238    135.0 2019-03-07  \n",
       "2239    135.0 2019-03-07  \n",
       "2240    135.0 2019-03-07  \n",
       "2725    191.0 2019-04-08  \n",
       "2726    180.0 2019-04-08  \n",
       "2727    152.0 2019-04-08  \n",
       "2728    152.0 2019-04-08  \n",
       "2729    180.0 2019-04-08  \n",
       "2730    152.0 2019-04-08  \n",
       "2731    180.0 2019-04-08  \n",
       "2732    152.0 2019-04-08  \n",
       "2733     68.0 2019-04-08  \n",
       "2872     90.0 2019-04-16  \n",
       "2873     90.0 2019-04-16  \n",
       "2874    210.0 2019-04-16  \n",
       "2875    210.0 2019-04-16  \n",
       "2876     90.0 2019-04-16  \n",
       "2877     90.0 2019-04-16  \n",
       "2878     90.0 2019-04-16  "
      ]
     },
     "execution_count": 45,
     "metadata": {},
     "output_type": "execute_result"
    }
   ],
   "source": [
    "df.query('customer_id == \"0184f535-b60a-4914-a982-231e3f615206\"').head(20)"
   ]
  },
  {
   "cell_type": "markdown",
   "id": "7a8348f2",
   "metadata": {},
   "source": [
    "Обратим внимание, что у покупателей можно выделить два типа потребления: преобладание сезонных товаров в корзине (рассада и семена) и внесезонных (товары для дома, комнатные растения)."
   ]
  },
  {
   "cell_type": "code",
   "execution_count": 46,
   "id": "baefe6ca",
   "metadata": {},
   "outputs": [
    {
     "data": {
      "image/png": "[encoded data removed]",
      "text/plain": [
       "<Figure size 1080x432 with 1 Axes>"
      ]
     },
     "metadata": {
      "needs_background": "light"
     },
     "output_type": "display_data"
    }
   ],
   "source": [
    "fig, ax = plt.subplots()\n",
    "\n",
    "ax = avg_rev_customer['orders'].hist(bins=20)\n",
    "\n",
    "ax.set_title('Распределение среднего количества заказов на покупателя')\n",
    "\n",
    "ax.set_xlabel('Количество заказов, шт.')\n",
    "ax.set_ylabel('Количество покупателей, чел.')\n",
    "\n",
    "fig.set_figwidth(15)    \n",
    "fig.set_figheight(6)\n",
    "\n",
    "plt.show()"
   ]
  },
  {
   "cell_type": "code",
   "execution_count": 47,
   "id": "1b074cfa",
   "metadata": {},
   "outputs": [
    {
     "data": {
      "text/plain": [
       "customer_id    2263\n",
       "revenue        2263\n",
       "orders         2263\n",
       "quantity       2263\n",
       "dtype: int64"
      ]
     },
     "execution_count": 47,
     "metadata": {},
     "output_type": "execute_result"
    }
   ],
   "source": [
    "avg_rev_customer.query('orders == 1').count()"
   ]
  },
  {
   "cell_type": "code",
   "execution_count": 48,
   "id": "0ed92521",
   "metadata": {},
   "outputs": [
    {
     "data": {
      "text/plain": [
       "customer_id    158\n",
       "revenue        158\n",
       "orders         158\n",
       "quantity       158\n",
       "dtype: int64"
      ]
     },
     "execution_count": 48,
     "metadata": {},
     "output_type": "execute_result"
    }
   ],
   "source": [
    "avg_rev_customer.query('orders != 1').count()"
   ]
  },
  {
   "cell_type": "markdown",
   "id": "fe693038",
   "metadata": {},
   "source": [
    "Количество покупателей, которые сделали повторные заказы равно 158. Большая часть покупателей (2263) не делали повторных заказов."
   ]
  },
  {
   "cell_type": "markdown",
   "id": "c76d4218",
   "metadata": {},
   "source": [
    "### Средний чек на покупателя"
   ]
  },
  {
   "cell_type": "code",
   "execution_count": 49,
   "id": "16740a66",
   "metadata": {},
   "outputs": [
    {
     "data": {
      "text/html": [
       "<div>\n",
       "<style scoped>\n",
       "    .dataframe tbody tr th:only-of-type {\n",
       "        vertical-align: middle;\n",
       "    }\n",
       "\n",
       "    .dataframe tbody tr th {\n",
       "        vertical-align: top;\n",
       "    }\n",
       "\n",
       "    .dataframe thead th {\n",
       "        text-align: right;\n",
       "    }\n",
       "</style>\n",
       "<table border=\"1\" class=\"dataframe\">\n",
       "  <thead>\n",
       "    <tr style=\"text-align: right;\">\n",
       "      <th></th>\n",
       "      <th>customer_id</th>\n",
       "      <th>revenue</th>\n",
       "      <th>orders</th>\n",
       "      <th>quantity</th>\n",
       "      <th>avg_receipt</th>\n",
       "    </tr>\n",
       "  </thead>\n",
       "  <tbody>\n",
       "    <tr>\n",
       "      <th>196</th>\n",
       "      <td>146cd9bf-a95c-4afb-915b-5f6684b17444</td>\n",
       "      <td>49432.0</td>\n",
       "      <td>1</td>\n",
       "      <td>334</td>\n",
       "      <td>49432.0</td>\n",
       "    </tr>\n",
       "    <tr>\n",
       "      <th>1345</th>\n",
       "      <td>8fba3604-ef57-4b9f-b2fe-3402fa8825c8</td>\n",
       "      <td>33680.0</td>\n",
       "      <td>1</td>\n",
       "      <td>101</td>\n",
       "      <td>33680.0</td>\n",
       "    </tr>\n",
       "    <tr>\n",
       "      <th>980</th>\n",
       "      <td>6987e6d6-a63a-4ce2-a2d0-f424092d235e</td>\n",
       "      <td>32718.0</td>\n",
       "      <td>1</td>\n",
       "      <td>57</td>\n",
       "      <td>32718.0</td>\n",
       "    </tr>\n",
       "    <tr>\n",
       "      <th>826</th>\n",
       "      <td>58a4c3cc-504f-43ea-a74a-bae19e665552</td>\n",
       "      <td>53232.0</td>\n",
       "      <td>2</td>\n",
       "      <td>30</td>\n",
       "      <td>26616.0</td>\n",
       "    </tr>\n",
       "    <tr>\n",
       "      <th>264</th>\n",
       "      <td>1b2764ad-9151-4051-a46a-9b01b62e6335</td>\n",
       "      <td>24370.0</td>\n",
       "      <td>1</td>\n",
       "      <td>5</td>\n",
       "      <td>24370.0</td>\n",
       "    </tr>\n",
       "    <tr>\n",
       "      <th>1488</th>\n",
       "      <td>9f1e7d7d-ff10-4eb1-b596-1cbf8075aa3f</td>\n",
       "      <td>22056.0</td>\n",
       "      <td>1</td>\n",
       "      <td>47</td>\n",
       "      <td>22056.0</td>\n",
       "    </tr>\n",
       "    <tr>\n",
       "      <th>1352</th>\n",
       "      <td>909564b8-3a5c-4d3e-8310-5ba1c837bbd7</td>\n",
       "      <td>16536.0</td>\n",
       "      <td>1</td>\n",
       "      <td>3</td>\n",
       "      <td>16536.0</td>\n",
       "    </tr>\n",
       "    <tr>\n",
       "      <th>861</th>\n",
       "      <td>5d189e88-d4d6-4eac-ab43-fa65a3c4d106</td>\n",
       "      <td>15300.0</td>\n",
       "      <td>1</td>\n",
       "      <td>300</td>\n",
       "      <td>15300.0</td>\n",
       "    </tr>\n",
       "    <tr>\n",
       "      <th>132</th>\n",
       "      <td>0d87f4ae-465a-4fac-81e6-5d629761783e</td>\n",
       "      <td>14917.0</td>\n",
       "      <td>1</td>\n",
       "      <td>1</td>\n",
       "      <td>14917.0</td>\n",
       "    </tr>\n",
       "    <tr>\n",
       "      <th>1002</th>\n",
       "      <td>6be74251-7159-4cc0-99fb-d034a17c61b0</td>\n",
       "      <td>11250.0</td>\n",
       "      <td>1</td>\n",
       "      <td>45</td>\n",
       "      <td>11250.0</td>\n",
       "    </tr>\n",
       "  </tbody>\n",
       "</table>\n",
       "</div>"
      ],
      "text/plain": [
       "                               customer_id  revenue  orders  quantity  \\\n",
       "196   146cd9bf-a95c-4afb-915b-5f6684b17444  49432.0       1       334   \n",
       "1345  8fba3604-ef57-4b9f-b2fe-3402fa8825c8  33680.0       1       101   \n",
       "980   6987e6d6-a63a-4ce2-a2d0-f424092d235e  32718.0       1        57   \n",
       "826   58a4c3cc-504f-43ea-a74a-bae19e665552  53232.0       2        30   \n",
       "264   1b2764ad-9151-4051-a46a-9b01b62e6335  24370.0       1         5   \n",
       "1488  9f1e7d7d-ff10-4eb1-b596-1cbf8075aa3f  22056.0       1        47   \n",
       "1352  909564b8-3a5c-4d3e-8310-5ba1c837bbd7  16536.0       1         3   \n",
       "861   5d189e88-d4d6-4eac-ab43-fa65a3c4d106  15300.0       1       300   \n",
       "132   0d87f4ae-465a-4fac-81e6-5d629761783e  14917.0       1         1   \n",
       "1002  6be74251-7159-4cc0-99fb-d034a17c61b0  11250.0       1        45   \n",
       "\n",
       "      avg_receipt  \n",
       "196       49432.0  \n",
       "1345      33680.0  \n",
       "980       32718.0  \n",
       "826       26616.0  \n",
       "264       24370.0  \n",
       "1488      22056.0  \n",
       "1352      16536.0  \n",
       "861       15300.0  \n",
       "132       14917.0  \n",
       "1002      11250.0  "
      ]
     },
     "execution_count": 49,
     "metadata": {},
     "output_type": "execute_result"
    }
   ],
   "source": [
    "avg_rev_customer['avg_receipt'] = avg_rev_customer['revenue']/avg_rev_customer['orders']\n",
    "avg_rev_customer.sort_values(by='avg_receipt', ascending=False).head(10)"
   ]
  },
  {
   "cell_type": "markdown",
   "id": "ba2384d2",
   "metadata": {},
   "source": [
    "Обратим внимание, что покупатели с самым высоким среднем чеком в большинстве случаев совершали разовые покупки."
   ]
  },
  {
   "cell_type": "code",
   "execution_count": 50,
   "id": "2fc23cc6",
   "metadata": {},
   "outputs": [
    {
     "data": {
      "text/plain": [
       "count     2421.000000\n",
       "mean      1229.959433\n",
       "std       2155.751068\n",
       "min         14.000000\n",
       "25%        295.000000\n",
       "50%        674.000000\n",
       "75%       1461.000000\n",
       "max      49432.000000\n",
       "Name: avg_receipt, dtype: float64"
      ]
     },
     "execution_count": 50,
     "metadata": {},
     "output_type": "execute_result"
    }
   ],
   "source": [
    "avg_rev_customer['avg_receipt'].describe()"
   ]
  },
  {
   "cell_type": "markdown",
   "id": "c94e6f47",
   "metadata": {},
   "source": [
    "Средний чек на всех покупателей составил 1230 рублей."
   ]
  },
  {
   "cell_type": "markdown",
   "id": "578e98d3",
   "metadata": {},
   "source": [
    "Проанализируем, что покупали топ-5 клиентов с самыми высокими средними чеками.\n",
    "\n",
    "Покупатель 1:"
   ]
  },
  {
   "cell_type": "code",
   "execution_count": 51,
   "id": "ab79ef54",
   "metadata": {},
   "outputs": [
    {
     "data": {
      "text/html": [
       "<div>\n",
       "<style scoped>\n",
       "    .dataframe tbody tr th:only-of-type {\n",
       "        vertical-align: middle;\n",
       "    }\n",
       "\n",
       "    .dataframe tbody tr th {\n",
       "        vertical-align: top;\n",
       "    }\n",
       "\n",
       "    .dataframe thead th {\n",
       "        text-align: right;\n",
       "    }\n",
       "</style>\n",
       "<table border=\"1\" class=\"dataframe\">\n",
       "  <thead>\n",
       "    <tr style=\"text-align: right;\">\n",
       "      <th></th>\n",
       "      <th>date</th>\n",
       "      <th>customer_id</th>\n",
       "      <th>order_id</th>\n",
       "      <th>product</th>\n",
       "      <th>quantity</th>\n",
       "      <th>price</th>\n",
       "      <th>revenue</th>\n",
       "      <th>date_day</th>\n",
       "    </tr>\n",
       "  </thead>\n",
       "  <tbody>\n",
       "    <tr>\n",
       "      <th>5071</th>\n",
       "      <td>2019-06-11 07:00:00</td>\n",
       "      <td>146cd9bf-a95c-4afb-915b-5f6684b17444</td>\n",
       "      <td>71668</td>\n",
       "      <td>Вешалки мягкие для деликатных вещей 3 шт шоколад</td>\n",
       "      <td>334</td>\n",
       "      <td>148.0</td>\n",
       "      <td>49432.0</td>\n",
       "      <td>2019-06-11</td>\n",
       "    </tr>\n",
       "  </tbody>\n",
       "</table>\n",
       "</div>"
      ],
      "text/plain": [
       "                    date                           customer_id  order_id  \\\n",
       "5071 2019-06-11 07:00:00  146cd9bf-a95c-4afb-915b-5f6684b17444     71668   \n",
       "\n",
       "                                               product  quantity  price  \\\n",
       "5071  Вешалки мягкие для деликатных вещей 3 шт шоколад       334  148.0   \n",
       "\n",
       "      revenue   date_day  \n",
       "5071  49432.0 2019-06-11  "
      ]
     },
     "execution_count": 51,
     "metadata": {},
     "output_type": "execute_result"
    }
   ],
   "source": [
    "df.query('customer_id == \"146cd9bf-a95c-4afb-915b-5f6684b17444\"').head(20)"
   ]
  },
  {
   "cell_type": "markdown",
   "id": "44d76b2b",
   "metadata": {},
   "source": [
    "Покупатель 2: \t"
   ]
  },
  {
   "cell_type": "code",
   "execution_count": 52,
   "id": "a54b8d4d",
   "metadata": {},
   "outputs": [
    {
     "data": {
      "text/html": [
       "<div>\n",
       "<style scoped>\n",
       "    .dataframe tbody tr th:only-of-type {\n",
       "        vertical-align: middle;\n",
       "    }\n",
       "\n",
       "    .dataframe tbody tr th {\n",
       "        vertical-align: top;\n",
       "    }\n",
       "\n",
       "    .dataframe thead th {\n",
       "        text-align: right;\n",
       "    }\n",
       "</style>\n",
       "<table border=\"1\" class=\"dataframe\">\n",
       "  <thead>\n",
       "    <tr style=\"text-align: right;\">\n",
       "      <th></th>\n",
       "      <th>date</th>\n",
       "      <th>customer_id</th>\n",
       "      <th>order_id</th>\n",
       "      <th>product</th>\n",
       "      <th>quantity</th>\n",
       "      <th>price</th>\n",
       "      <th>revenue</th>\n",
       "      <th>date_day</th>\n",
       "    </tr>\n",
       "  </thead>\n",
       "  <tbody>\n",
       "    <tr>\n",
       "      <th>1022</th>\n",
       "      <td>2018-11-29 17:00:00</td>\n",
       "      <td>8fba3604-ef57-4b9f-b2fe-3402fa8825c8</td>\n",
       "      <td>69156</td>\n",
       "      <td>Кухонные ножницы WEBBER из нержавеющей стали с...</td>\n",
       "      <td>2</td>\n",
       "      <td>127.0</td>\n",
       "      <td>254.0</td>\n",
       "      <td>2018-11-29</td>\n",
       "    </tr>\n",
       "    <tr>\n",
       "      <th>1023</th>\n",
       "      <td>2018-11-29 17:00:00</td>\n",
       "      <td>8fba3604-ef57-4b9f-b2fe-3402fa8825c8</td>\n",
       "      <td>69156</td>\n",
       "      <td>Набор ножей Attribute CHEF 5 предметов AKF522</td>\n",
       "      <td>64</td>\n",
       "      <td>457.0</td>\n",
       "      <td>29248.0</td>\n",
       "      <td>2018-11-29</td>\n",
       "    </tr>\n",
       "    <tr>\n",
       "      <th>1024</th>\n",
       "      <td>2018-11-29 17:00:00</td>\n",
       "      <td>8fba3604-ef57-4b9f-b2fe-3402fa8825c8</td>\n",
       "      <td>69156</td>\n",
       "      <td>Нож кухонный для мяса с пластмассовой ручкой 3...</td>\n",
       "      <td>6</td>\n",
       "      <td>127.0</td>\n",
       "      <td>762.0</td>\n",
       "      <td>2018-11-29</td>\n",
       "    </tr>\n",
       "    <tr>\n",
       "      <th>1025</th>\n",
       "      <td>2018-11-29 17:00:00</td>\n",
       "      <td>8fba3604-ef57-4b9f-b2fe-3402fa8825c8</td>\n",
       "      <td>69156</td>\n",
       "      <td>Нож кухонный для овощей с деревянной ручкой 31...</td>\n",
       "      <td>3</td>\n",
       "      <td>142.0</td>\n",
       "      <td>426.0</td>\n",
       "      <td>2018-11-29</td>\n",
       "    </tr>\n",
       "    <tr>\n",
       "      <th>1026</th>\n",
       "      <td>2018-11-29 17:00:00</td>\n",
       "      <td>8fba3604-ef57-4b9f-b2fe-3402fa8825c8</td>\n",
       "      <td>69156</td>\n",
       "      <td>Нож кухонный универсальный с пластмассовой руч...</td>\n",
       "      <td>24</td>\n",
       "      <td>119.0</td>\n",
       "      <td>2856.0</td>\n",
       "      <td>2018-11-29</td>\n",
       "    </tr>\n",
       "    <tr>\n",
       "      <th>1027</th>\n",
       "      <td>2018-11-29 17:00:00</td>\n",
       "      <td>8fba3604-ef57-4b9f-b2fe-3402fa8825c8</td>\n",
       "      <td>69156</td>\n",
       "      <td>Рыбочистка с деревянной ручкой с ножом 1518024</td>\n",
       "      <td>2</td>\n",
       "      <td>67.0</td>\n",
       "      <td>134.0</td>\n",
       "      <td>2018-11-29</td>\n",
       "    </tr>\n",
       "  </tbody>\n",
       "</table>\n",
       "</div>"
      ],
      "text/plain": [
       "                    date                           customer_id  order_id  \\\n",
       "1022 2018-11-29 17:00:00  8fba3604-ef57-4b9f-b2fe-3402fa8825c8     69156   \n",
       "1023 2018-11-29 17:00:00  8fba3604-ef57-4b9f-b2fe-3402fa8825c8     69156   \n",
       "1024 2018-11-29 17:00:00  8fba3604-ef57-4b9f-b2fe-3402fa8825c8     69156   \n",
       "1025 2018-11-29 17:00:00  8fba3604-ef57-4b9f-b2fe-3402fa8825c8     69156   \n",
       "1026 2018-11-29 17:00:00  8fba3604-ef57-4b9f-b2fe-3402fa8825c8     69156   \n",
       "1027 2018-11-29 17:00:00  8fba3604-ef57-4b9f-b2fe-3402fa8825c8     69156   \n",
       "\n",
       "                                                product  quantity  price  \\\n",
       "1022  Кухонные ножницы WEBBER из нержавеющей стали с...         2  127.0   \n",
       "1023      Набор ножей Attribute CHEF 5 предметов AKF522        64  457.0   \n",
       "1024  Нож кухонный для мяса с пластмассовой ручкой 3...         6  127.0   \n",
       "1025  Нож кухонный для овощей с деревянной ручкой 31...         3  142.0   \n",
       "1026  Нож кухонный универсальный с пластмассовой руч...        24  119.0   \n",
       "1027     Рыбочистка с деревянной ручкой с ножом 1518024         2   67.0   \n",
       "\n",
       "      revenue   date_day  \n",
       "1022    254.0 2018-11-29  \n",
       "1023  29248.0 2018-11-29  \n",
       "1024    762.0 2018-11-29  \n",
       "1025    426.0 2018-11-29  \n",
       "1026   2856.0 2018-11-29  \n",
       "1027    134.0 2018-11-29  "
      ]
     },
     "execution_count": 52,
     "metadata": {},
     "output_type": "execute_result"
    }
   ],
   "source": [
    "df.query('customer_id == \"8fba3604-ef57-4b9f-b2fe-3402fa8825c8\"').head(20)"
   ]
  },
  {
   "cell_type": "markdown",
   "id": "51e69504",
   "metadata": {},
   "source": [
    "Покупатель 3:"
   ]
  },
  {
   "cell_type": "code",
   "execution_count": 53,
   "id": "7c253583",
   "metadata": {},
   "outputs": [
    {
     "data": {
      "text/html": [
       "<div>\n",
       "<style scoped>\n",
       "    .dataframe tbody tr th:only-of-type {\n",
       "        vertical-align: middle;\n",
       "    }\n",
       "\n",
       "    .dataframe tbody tr th {\n",
       "        vertical-align: top;\n",
       "    }\n",
       "\n",
       "    .dataframe thead th {\n",
       "        text-align: right;\n",
       "    }\n",
       "</style>\n",
       "<table border=\"1\" class=\"dataframe\">\n",
       "  <thead>\n",
       "    <tr style=\"text-align: right;\">\n",
       "      <th></th>\n",
       "      <th>date</th>\n",
       "      <th>customer_id</th>\n",
       "      <th>order_id</th>\n",
       "      <th>product</th>\n",
       "      <th>quantity</th>\n",
       "      <th>price</th>\n",
       "      <th>revenue</th>\n",
       "      <th>date_day</th>\n",
       "    </tr>\n",
       "  </thead>\n",
       "  <tbody>\n",
       "    <tr>\n",
       "      <th>1299</th>\n",
       "      <td>2018-12-21 16:00:00</td>\n",
       "      <td>6987e6d6-a63a-4ce2-a2d0-f424092d235e</td>\n",
       "      <td>69504</td>\n",
       "      <td>Тележка багажная DELTA ТБР-22 синий грузоподъе...</td>\n",
       "      <td>57</td>\n",
       "      <td>574.0</td>\n",
       "      <td>32718.0</td>\n",
       "      <td>2018-12-21</td>\n",
       "    </tr>\n",
       "  </tbody>\n",
       "</table>\n",
       "</div>"
      ],
      "text/plain": [
       "                    date                           customer_id  order_id  \\\n",
       "1299 2018-12-21 16:00:00  6987e6d6-a63a-4ce2-a2d0-f424092d235e     69504   \n",
       "\n",
       "                                                product  quantity  price  \\\n",
       "1299  Тележка багажная DELTA ТБР-22 синий грузоподъе...        57  574.0   \n",
       "\n",
       "      revenue   date_day  \n",
       "1299  32718.0 2018-12-21  "
      ]
     },
     "execution_count": 53,
     "metadata": {},
     "output_type": "execute_result"
    }
   ],
   "source": [
    "df.query('customer_id == \"6987e6d6-a63a-4ce2-a2d0-f424092d235e\"').head(20)"
   ]
  },
  {
   "cell_type": "markdown",
   "id": "35c6aac9",
   "metadata": {},
   "source": [
    "Покупатель 4:"
   ]
  },
  {
   "cell_type": "code",
   "execution_count": 54,
   "id": "cf5fc5cc",
   "metadata": {},
   "outputs": [
    {
     "data": {
      "text/html": [
       "<div>\n",
       "<style scoped>\n",
       "    .dataframe tbody tr th:only-of-type {\n",
       "        vertical-align: middle;\n",
       "    }\n",
       "\n",
       "    .dataframe tbody tr th {\n",
       "        vertical-align: top;\n",
       "    }\n",
       "\n",
       "    .dataframe thead th {\n",
       "        text-align: right;\n",
       "    }\n",
       "</style>\n",
       "<table border=\"1\" class=\"dataframe\">\n",
       "  <thead>\n",
       "    <tr style=\"text-align: right;\">\n",
       "      <th></th>\n",
       "      <th>date</th>\n",
       "      <th>customer_id</th>\n",
       "      <th>order_id</th>\n",
       "      <th>product</th>\n",
       "      <th>quantity</th>\n",
       "      <th>price</th>\n",
       "      <th>revenue</th>\n",
       "      <th>date_day</th>\n",
       "    </tr>\n",
       "  </thead>\n",
       "  <tbody>\n",
       "    <tr>\n",
       "      <th>1469</th>\n",
       "      <td>2019-01-10 13:00:00</td>\n",
       "      <td>58a4c3cc-504f-43ea-a74a-bae19e665552</td>\n",
       "      <td>69766</td>\n",
       "      <td>Простынь вафельная 200х180 см WELLNESS RW180-0...</td>\n",
       "      <td>3</td>\n",
       "      <td>1949.0</td>\n",
       "      <td>5847.0</td>\n",
       "      <td>2019-01-10</td>\n",
       "    </tr>\n",
       "    <tr>\n",
       "      <th>1518</th>\n",
       "      <td>2019-01-15 13:00:00</td>\n",
       "      <td>58a4c3cc-504f-43ea-a74a-bae19e665552</td>\n",
       "      <td>69830</td>\n",
       "      <td>Простынь вафельная 200х180 см WELLNESS RW180-0...</td>\n",
       "      <td>27</td>\n",
       "      <td>1755.0</td>\n",
       "      <td>47385.0</td>\n",
       "      <td>2019-01-15</td>\n",
       "    </tr>\n",
       "  </tbody>\n",
       "</table>\n",
       "</div>"
      ],
      "text/plain": [
       "                    date                           customer_id  order_id  \\\n",
       "1469 2019-01-10 13:00:00  58a4c3cc-504f-43ea-a74a-bae19e665552     69766   \n",
       "1518 2019-01-15 13:00:00  58a4c3cc-504f-43ea-a74a-bae19e665552     69830   \n",
       "\n",
       "                                                product  quantity   price  \\\n",
       "1469  Простынь вафельная 200х180 см WELLNESS RW180-0...         3  1949.0   \n",
       "1518  Простынь вафельная 200х180 см WELLNESS RW180-0...        27  1755.0   \n",
       "\n",
       "      revenue   date_day  \n",
       "1469   5847.0 2019-01-10  \n",
       "1518  47385.0 2019-01-15  "
      ]
     },
     "execution_count": 54,
     "metadata": {},
     "output_type": "execute_result"
    }
   ],
   "source": [
    "df.query('customer_id == \"58a4c3cc-504f-43ea-a74a-bae19e665552\"').head(20)"
   ]
  },
  {
   "cell_type": "markdown",
   "id": "d2ff4a65",
   "metadata": {},
   "source": [
    "Покупатель 5:"
   ]
  },
  {
   "cell_type": "code",
   "execution_count": 55,
   "id": "267706a7",
   "metadata": {},
   "outputs": [
    {
     "data": {
      "text/html": [
       "<div>\n",
       "<style scoped>\n",
       "    .dataframe tbody tr th:only-of-type {\n",
       "        vertical-align: middle;\n",
       "    }\n",
       "\n",
       "    .dataframe tbody tr th {\n",
       "        vertical-align: top;\n",
       "    }\n",
       "\n",
       "    .dataframe thead th {\n",
       "        text-align: right;\n",
       "    }\n",
       "</style>\n",
       "<table border=\"1\" class=\"dataframe\">\n",
       "  <thead>\n",
       "    <tr style=\"text-align: right;\">\n",
       "      <th></th>\n",
       "      <th>date</th>\n",
       "      <th>customer_id</th>\n",
       "      <th>order_id</th>\n",
       "      <th>product</th>\n",
       "      <th>quantity</th>\n",
       "      <th>price</th>\n",
       "      <th>revenue</th>\n",
       "      <th>date_day</th>\n",
       "    </tr>\n",
       "  </thead>\n",
       "  <tbody>\n",
       "    <tr>\n",
       "      <th>661</th>\n",
       "      <td>2018-11-06 12:00:00</td>\n",
       "      <td>1b2764ad-9151-4051-a46a-9b01b62e6335</td>\n",
       "      <td>68878</td>\n",
       "      <td>Урна уличная \"Гео\", Hobbyka/Хоббика, 59*37,5см...</td>\n",
       "      <td>5</td>\n",
       "      <td>4874.0</td>\n",
       "      <td>24370.0</td>\n",
       "      <td>2018-11-06</td>\n",
       "    </tr>\n",
       "  </tbody>\n",
       "</table>\n",
       "</div>"
      ],
      "text/plain": [
       "                   date                           customer_id  order_id  \\\n",
       "661 2018-11-06 12:00:00  1b2764ad-9151-4051-a46a-9b01b62e6335     68878   \n",
       "\n",
       "                                               product  quantity   price  \\\n",
       "661  Урна уличная \"Гео\", Hobbyka/Хоббика, 59*37,5см...         5  4874.0   \n",
       "\n",
       "     revenue   date_day  \n",
       "661  24370.0 2018-11-06  "
      ]
     },
     "execution_count": 55,
     "metadata": {},
     "output_type": "execute_result"
    }
   ],
   "source": [
    "df.query('customer_id == \"1b2764ad-9151-4051-a46a-9b01b62e6335\"').head(20)"
   ]
  },
  {
   "cell_type": "markdown",
   "id": "5297ca37",
   "metadata": {},
   "source": [
    "В заказах с высокими средними чеками преобладают несезонные товары. Также судя по структуре потребления это могут быть кафе/рестораны, разово закупающие оборудование (например, ножи), магазины (вешалки), бани/спа-салоны (простынь вафельная)."
   ]
  },
  {
   "cell_type": "code",
   "execution_count": 56,
   "id": "6db553a4",
   "metadata": {},
   "outputs": [
    {
     "data": {
      "image/png": "[encoded data removed]",
      "text/plain": [
       "<Figure size 1080x432 with 1 Axes>"
      ]
     },
     "metadata": {
      "needs_background": "light"
     },
     "output_type": "display_data"
    }
   ],
   "source": [
    "fig, ax = plt.subplots()\n",
    "\n",
    "ax = avg_rev_customer['avg_receipt'].hist(bins=20)\n",
    "\n",
    "ax.set_title('Распределение среднего чека на покупателя')\n",
    "\n",
    "ax.set_xlabel('Средний чек, руб.')\n",
    "ax.set_ylabel('Количество покупателей, чел.')\n",
    "\n",
    "fig.set_figwidth(15)    \n",
    "fig.set_figheight(6)\n",
    "\n",
    "plt.show()"
   ]
  },
  {
   "cell_type": "markdown",
   "id": "7e62aa8b",
   "metadata": {},
   "source": [
    "### Самые продаваемые товары"
   ]
  },
  {
   "cell_type": "code",
   "execution_count": 57,
   "id": "e350a722",
   "metadata": {},
   "outputs": [
    {
     "data": {
      "text/html": [
       "<div>\n",
       "<style scoped>\n",
       "    .dataframe tbody tr th:only-of-type {\n",
       "        vertical-align: middle;\n",
       "    }\n",
       "\n",
       "    .dataframe tbody tr th {\n",
       "        vertical-align: top;\n",
       "    }\n",
       "\n",
       "    .dataframe thead th {\n",
       "        text-align: right;\n",
       "    }\n",
       "</style>\n",
       "<table border=\"1\" class=\"dataframe\">\n",
       "  <thead>\n",
       "    <tr style=\"text-align: right;\">\n",
       "      <th></th>\n",
       "      <th>product</th>\n",
       "      <th>revenue</th>\n",
       "    </tr>\n",
       "  </thead>\n",
       "  <tbody>\n",
       "    <tr>\n",
       "      <th>0</th>\n",
       "      <td>Простынь вафельная 200х180 см WELLNESS RW180-0...</td>\n",
       "      <td>53232.0</td>\n",
       "    </tr>\n",
       "    <tr>\n",
       "      <th>1</th>\n",
       "      <td>Сумка-тележка 2-х колесная Gimi Argo синяя</td>\n",
       "      <td>50405.0</td>\n",
       "    </tr>\n",
       "    <tr>\n",
       "      <th>2</th>\n",
       "      <td>Вешалки мягкие для деликатных вещей 3 шт шоколад</td>\n",
       "      <td>49596.0</td>\n",
       "    </tr>\n",
       "    <tr>\n",
       "      <th>3</th>\n",
       "      <td>Тележка багажная DELTA ТБР-22 синий грузоподъе...</td>\n",
       "      <td>33992.0</td>\n",
       "    </tr>\n",
       "    <tr>\n",
       "      <th>4</th>\n",
       "      <td>Муляж ЯБЛОКО 9 см красное</td>\n",
       "      <td>32702.0</td>\n",
       "    </tr>\n",
       "    <tr>\n",
       "      <th>5</th>\n",
       "      <td>Набор ножей Attribute CHEF 5 предметов AKF522</td>\n",
       "      <td>29248.0</td>\n",
       "    </tr>\n",
       "    <tr>\n",
       "      <th>6</th>\n",
       "      <td>Сумка-тележка хозяйственная Andersen Scala Sho...</td>\n",
       "      <td>28045.0</td>\n",
       "    </tr>\n",
       "    <tr>\n",
       "      <th>7</th>\n",
       "      <td>Урна уличная \"Гео\", Hobbyka/Хоббика, 59*37,5см...</td>\n",
       "      <td>24370.0</td>\n",
       "    </tr>\n",
       "    <tr>\n",
       "      <th>8</th>\n",
       "      <td>Веник сорго с деревянной ручкой с 4-мя швами, ...</td>\n",
       "      <td>20010.0</td>\n",
       "    </tr>\n",
       "    <tr>\n",
       "      <th>9</th>\n",
       "      <td>Сумка-тележка 3-х колесная Gimi Tris Floral синяя</td>\n",
       "      <td>18893.0</td>\n",
       "    </tr>\n",
       "    <tr>\n",
       "      <th>10</th>\n",
       "      <td>Сумка-тележка хозяйственная Andersen Treppenst...</td>\n",
       "      <td>18560.0</td>\n",
       "    </tr>\n",
       "    <tr>\n",
       "      <th>11</th>\n",
       "      <td>Сумка-тележка хозяйственная Andersen Scala Sho...</td>\n",
       "      <td>18296.0</td>\n",
       "    </tr>\n",
       "    <tr>\n",
       "      <th>12</th>\n",
       "      <td>Сумка-тележка 2-х колесная складная Gimi Flexi...</td>\n",
       "      <td>18139.0</td>\n",
       "    </tr>\n",
       "    <tr>\n",
       "      <th>13</th>\n",
       "      <td>Гладильная доска НИКА BLUES 124х46 см 5757</td>\n",
       "      <td>17786.0</td>\n",
       "    </tr>\n",
       "    <tr>\n",
       "      <th>14</th>\n",
       "      <td>Коврик придверный Attribute NATURE кокосовый 6...</td>\n",
       "      <td>16888.0</td>\n",
       "    </tr>\n",
       "    <tr>\n",
       "      <th>15</th>\n",
       "      <td>Сушилка Meliconi Stendy Junior</td>\n",
       "      <td>16782.0</td>\n",
       "    </tr>\n",
       "    <tr>\n",
       "      <th>16</th>\n",
       "      <td>Мусорный контейнер Hailo BigBin Swing 45 0845-...</td>\n",
       "      <td>16536.0</td>\n",
       "    </tr>\n",
       "    <tr>\n",
       "      <th>17</th>\n",
       "      <td>Салфетка Protec Textil Polyline 30х43 см Амети...</td>\n",
       "      <td>15700.0</td>\n",
       "    </tr>\n",
       "    <tr>\n",
       "      <th>18</th>\n",
       "      <td>Одеяло Wellness T142 белое темостеганое 140х20...</td>\n",
       "      <td>15680.0</td>\n",
       "    </tr>\n",
       "    <tr>\n",
       "      <th>19</th>\n",
       "      <td>Сумка-тележка хозяйственная Andersen Scala Sho...</td>\n",
       "      <td>15148.0</td>\n",
       "    </tr>\n",
       "    <tr>\n",
       "      <th>20</th>\n",
       "      <td>Сушилка уличная Leifheit 85210 LINOMATIC V 400...</td>\n",
       "      <td>14917.0</td>\n",
       "    </tr>\n",
       "    <tr>\n",
       "      <th>21</th>\n",
       "      <td>Гладильная доска Colombo Avantgard 120х40 см</td>\n",
       "      <td>14712.0</td>\n",
       "    </tr>\n",
       "    <tr>\n",
       "      <th>22</th>\n",
       "      <td>Наматрацник Natures Бархатный бамбук ББ-Н-1-2 ...</td>\n",
       "      <td>14196.0</td>\n",
       "    </tr>\n",
       "    <tr>\n",
       "      <th>23</th>\n",
       "      <td>Сумка-тележка 2-х колесная Gimi Galaxy черная</td>\n",
       "      <td>13945.0</td>\n",
       "    </tr>\n",
       "    <tr>\n",
       "      <th>24</th>\n",
       "      <td>Сумка-тележка хозяйственная Gimi Market синяя</td>\n",
       "      <td>13118.0</td>\n",
       "    </tr>\n",
       "    <tr>\n",
       "      <th>25</th>\n",
       "      <td>Сумка-тележка хозяйственная Rolser Pack Gloria...</td>\n",
       "      <td>13116.0</td>\n",
       "    </tr>\n",
       "    <tr>\n",
       "      <th>26</th>\n",
       "      <td>Сумка-тележка TWIN стальной каркас 56 л синяя,...</td>\n",
       "      <td>12895.0</td>\n",
       "    </tr>\n",
       "    <tr>\n",
       "      <th>27</th>\n",
       "      <td>Сумка-тележка хозяйственная Rolser IMX005 mare...</td>\n",
       "      <td>12014.0</td>\n",
       "    </tr>\n",
       "    <tr>\n",
       "      <th>28</th>\n",
       "      <td>Тележка багажная DELTA ТБР-20 коричневый с ора...</td>\n",
       "      <td>11749.0</td>\n",
       "    </tr>\n",
       "    <tr>\n",
       "      <th>29</th>\n",
       "      <td>Тележка багажная DELTA ТБР-20 синий грузоподъе...</td>\n",
       "      <td>11725.0</td>\n",
       "    </tr>\n",
       "    <tr>\n",
       "      <th>30</th>\n",
       "      <td>Сумка-тележка хозяйственная Rolser Jet Joy син...</td>\n",
       "      <td>11696.0</td>\n",
       "    </tr>\n",
       "    <tr>\n",
       "      <th>31</th>\n",
       "      <td>Гладильная доска НИКА LORA FASHION HLF 123х46 см</td>\n",
       "      <td>11546.0</td>\n",
       "    </tr>\n",
       "    <tr>\n",
       "      <th>32</th>\n",
       "      <td>Спатифиллум Шопен d-12 см</td>\n",
       "      <td>11512.0</td>\n",
       "    </tr>\n",
       "    <tr>\n",
       "      <th>33</th>\n",
       "      <td>Скатерть круглая d-175 см 50% полиэстер 50% хл...</td>\n",
       "      <td>11400.0</td>\n",
       "    </tr>\n",
       "    <tr>\n",
       "      <th>34</th>\n",
       "      <td>Сумка-тележка 2-х колесная Gimi Galaxy голубая</td>\n",
       "      <td>11396.0</td>\n",
       "    </tr>\n",
       "    <tr>\n",
       "      <th>35</th>\n",
       "      <td>Пеларгония розебудная Red Pandora укорененный ...</td>\n",
       "      <td>10923.0</td>\n",
       "    </tr>\n",
       "    <tr>\n",
       "      <th>36</th>\n",
       "      <td>Сумка-тележка 3-х колесная Gimi Tris красная</td>\n",
       "      <td>10796.0</td>\n",
       "    </tr>\n",
       "    <tr>\n",
       "      <th>37</th>\n",
       "      <td>Сушилка для белья Gimi Dinamik 30</td>\n",
       "      <td>10796.0</td>\n",
       "    </tr>\n",
       "    <tr>\n",
       "      <th>38</th>\n",
       "      <td>Пеларгония зональная диам. 12 см сиреневый пол...</td>\n",
       "      <td>10780.0</td>\n",
       "    </tr>\n",
       "    <tr>\n",
       "      <th>39</th>\n",
       "      <td>Полки QWERTY Торонто белый 40х10 см 35х10 см 3...</td>\n",
       "      <td>10572.0</td>\n",
       "    </tr>\n",
       "  </tbody>\n",
       "</table>\n",
       "</div>"
      ],
      "text/plain": [
       "                                              product  revenue\n",
       "0   Простынь вафельная 200х180 см WELLNESS RW180-0...  53232.0\n",
       "1          Сумка-тележка 2-х колесная Gimi Argo синяя  50405.0\n",
       "2    Вешалки мягкие для деликатных вещей 3 шт шоколад  49596.0\n",
       "3   Тележка багажная DELTA ТБР-22 синий грузоподъе...  33992.0\n",
       "4                           Муляж ЯБЛОКО 9 см красное  32702.0\n",
       "5       Набор ножей Attribute CHEF 5 предметов AKF522  29248.0\n",
       "6   Сумка-тележка хозяйственная Andersen Scala Sho...  28045.0\n",
       "7   Урна уличная \"Гео\", Hobbyka/Хоббика, 59*37,5см...  24370.0\n",
       "8   Веник сорго с деревянной ручкой с 4-мя швами, ...  20010.0\n",
       "9   Сумка-тележка 3-х колесная Gimi Tris Floral синяя  18893.0\n",
       "10  Сумка-тележка хозяйственная Andersen Treppenst...  18560.0\n",
       "11  Сумка-тележка хозяйственная Andersen Scala Sho...  18296.0\n",
       "12  Сумка-тележка 2-х колесная складная Gimi Flexi...  18139.0\n",
       "13         Гладильная доска НИКА BLUES 124х46 см 5757  17786.0\n",
       "14  Коврик придверный Attribute NATURE кокосовый 6...  16888.0\n",
       "15                     Сушилка Meliconi Stendy Junior  16782.0\n",
       "16  Мусорный контейнер Hailo BigBin Swing 45 0845-...  16536.0\n",
       "17  Салфетка Protec Textil Polyline 30х43 см Амети...  15700.0\n",
       "18  Одеяло Wellness T142 белое темостеганое 140х20...  15680.0\n",
       "19  Сумка-тележка хозяйственная Andersen Scala Sho...  15148.0\n",
       "20  Сушилка уличная Leifheit 85210 LINOMATIC V 400...  14917.0\n",
       "21       Гладильная доска Colombo Avantgard 120х40 см  14712.0\n",
       "22  Наматрацник Natures Бархатный бамбук ББ-Н-1-2 ...  14196.0\n",
       "23      Сумка-тележка 2-х колесная Gimi Galaxy черная  13945.0\n",
       "24      Сумка-тележка хозяйственная Gimi Market синяя  13118.0\n",
       "25  Сумка-тележка хозяйственная Rolser Pack Gloria...  13116.0\n",
       "26  Сумка-тележка TWIN стальной каркас 56 л синяя,...  12895.0\n",
       "27  Сумка-тележка хозяйственная Rolser IMX005 mare...  12014.0\n",
       "28  Тележка багажная DELTA ТБР-20 коричневый с ора...  11749.0\n",
       "29  Тележка багажная DELTA ТБР-20 синий грузоподъе...  11725.0\n",
       "30  Сумка-тележка хозяйственная Rolser Jet Joy син...  11696.0\n",
       "31   Гладильная доска НИКА LORA FASHION HLF 123х46 см  11546.0\n",
       "32                          Спатифиллум Шопен d-12 см  11512.0\n",
       "33  Скатерть круглая d-175 см 50% полиэстер 50% хл...  11400.0\n",
       "34     Сумка-тележка 2-х колесная Gimi Galaxy голубая  11396.0\n",
       "35  Пеларгония розебудная Red Pandora укорененный ...  10923.0\n",
       "36       Сумка-тележка 3-х колесная Gimi Tris красная  10796.0\n",
       "37                  Сушилка для белья Gimi Dinamik 30  10796.0\n",
       "38  Пеларгония зональная диам. 12 см сиреневый пол...  10780.0\n",
       "39  Полки QWERTY Торонто белый 40х10 см 35х10 см 3...  10572.0"
      ]
     },
     "execution_count": 57,
     "metadata": {},
     "output_type": "execute_result"
    }
   ],
   "source": [
    "top_products = df.groupby('product').agg({'revenue':'sum'}).sort_values(by='revenue', ascending=False).reset_index()\n",
    "top_products.head(40)\n"
   ]
  },
  {
   "cell_type": "markdown",
   "id": "e7403471",
   "metadata": {},
   "source": [
    "По объему выручки самым продоваемыми товарами являются сумка-тележка хозяйственная, муляжи фруктов, гладильные доски, сушилки."
   ]
  },
  {
   "cell_type": "code",
   "execution_count": 58,
   "id": "4a846376",
   "metadata": {},
   "outputs": [
    {
     "data": {
      "text/html": [
       "<div>\n",
       "<style scoped>\n",
       "    .dataframe tbody tr th:only-of-type {\n",
       "        vertical-align: middle;\n",
       "    }\n",
       "\n",
       "    .dataframe tbody tr th {\n",
       "        vertical-align: top;\n",
       "    }\n",
       "\n",
       "    .dataframe thead th {\n",
       "        text-align: right;\n",
       "    }\n",
       "</style>\n",
       "<table border=\"1\" class=\"dataframe\">\n",
       "  <thead>\n",
       "    <tr style=\"text-align: right;\">\n",
       "      <th></th>\n",
       "      <th>product</th>\n",
       "      <th>quantity</th>\n",
       "    </tr>\n",
       "  </thead>\n",
       "  <tbody>\n",
       "    <tr>\n",
       "      <th>0</th>\n",
       "      <td>Муляж ЯБЛОКО 9 см красное</td>\n",
       "      <td>618</td>\n",
       "    </tr>\n",
       "    <tr>\n",
       "      <th>1</th>\n",
       "      <td>Вешалки мягкие для деликатных вещей 3 шт шоколад</td>\n",
       "      <td>335</td>\n",
       "    </tr>\n",
       "    <tr>\n",
       "      <th>2</th>\n",
       "      <td>Ручка-скоба РС-100 белая *Трибатрон*, 1108035</td>\n",
       "      <td>200</td>\n",
       "    </tr>\n",
       "    <tr>\n",
       "      <th>3</th>\n",
       "      <td>Муляж Яблоко зеленый 9 см полиуретан</td>\n",
       "      <td>188</td>\n",
       "    </tr>\n",
       "    <tr>\n",
       "      <th>4</th>\n",
       "      <td>Крепеж для пружины дверной, 1107055</td>\n",
       "      <td>170</td>\n",
       "    </tr>\n",
       "    <tr>\n",
       "      <th>5</th>\n",
       "      <td>Плечики пластмассовые Размер 52 - 54 Тула 1205158</td>\n",
       "      <td>160</td>\n",
       "    </tr>\n",
       "    <tr>\n",
       "      <th>6</th>\n",
       "      <td>Пружина дверная 240 мм оцинкованная (Д-19 мм) ...</td>\n",
       "      <td>150</td>\n",
       "    </tr>\n",
       "    <tr>\n",
       "      <th>7</th>\n",
       "      <td>Муляж Банан желтый 21 см полиуретан</td>\n",
       "      <td>109</td>\n",
       "    </tr>\n",
       "    <tr>\n",
       "      <th>8</th>\n",
       "      <td>Щетка-сметка 4-х рядная деревянная 300 мм (фиг...</td>\n",
       "      <td>105</td>\n",
       "    </tr>\n",
       "    <tr>\n",
       "      <th>9</th>\n",
       "      <td>Ёрш унитазный с деревянной ручкой , Ваир 1712012</td>\n",
       "      <td>103</td>\n",
       "    </tr>\n",
       "    <tr>\n",
       "      <th>10</th>\n",
       "      <td>Шпингалет 80 мм белый с пружиной, 1102188</td>\n",
       "      <td>100</td>\n",
       "    </tr>\n",
       "    <tr>\n",
       "      <th>11</th>\n",
       "      <td>Стяжка оконная с болтом СТ-55 цинк, 1108354</td>\n",
       "      <td>100</td>\n",
       "    </tr>\n",
       "    <tr>\n",
       "      <th>12</th>\n",
       "      <td>Щетка для мытья посуды КОЛИБРИ М5202 большая</td>\n",
       "      <td>100</td>\n",
       "    </tr>\n",
       "    <tr>\n",
       "      <th>13</th>\n",
       "      <td>Щетка для посуды *ОЛЯ*, Мультипласт 1807010</td>\n",
       "      <td>100</td>\n",
       "    </tr>\n",
       "    <tr>\n",
       "      <th>14</th>\n",
       "      <td>Крепеж для пружины дверной оцинкованный, 1107054</td>\n",
       "      <td>100</td>\n",
       "    </tr>\n",
       "    <tr>\n",
       "      <th>15</th>\n",
       "      <td>Крючок одежный 2-х рожковый серый металлик с п...</td>\n",
       "      <td>96</td>\n",
       "    </tr>\n",
       "    <tr>\n",
       "      <th>16</th>\n",
       "      <td>Цветок искусственный Гвоздика пластиковая один...</td>\n",
       "      <td>96</td>\n",
       "    </tr>\n",
       "    <tr>\n",
       "      <th>17</th>\n",
       "      <td>Муляж Лимон желтый 9 см полиуретан</td>\n",
       "      <td>92</td>\n",
       "    </tr>\n",
       "    <tr>\n",
       "      <th>18</th>\n",
       "      <td>Петля приварная гаражная d 14х90 мм с шаром, 1...</td>\n",
       "      <td>90</td>\n",
       "    </tr>\n",
       "    <tr>\n",
       "      <th>19</th>\n",
       "      <td>Пеларгония розебудная Red Pandora укорененный ...</td>\n",
       "      <td>81</td>\n",
       "    </tr>\n",
       "  </tbody>\n",
       "</table>\n",
       "</div>"
      ],
      "text/plain": [
       "                                              product  quantity\n",
       "0                           Муляж ЯБЛОКО 9 см красное       618\n",
       "1    Вешалки мягкие для деликатных вещей 3 шт шоколад       335\n",
       "2       Ручка-скоба РС-100 белая *Трибатрон*, 1108035       200\n",
       "3                Муляж Яблоко зеленый 9 см полиуретан       188\n",
       "4                 Крепеж для пружины дверной, 1107055       170\n",
       "5   Плечики пластмассовые Размер 52 - 54 Тула 1205158       160\n",
       "6   Пружина дверная 240 мм оцинкованная (Д-19 мм) ...       150\n",
       "7                 Муляж Банан желтый 21 см полиуретан       109\n",
       "8   Щетка-сметка 4-х рядная деревянная 300 мм (фиг...       105\n",
       "9    Ёрш унитазный с деревянной ручкой , Ваир 1712012       103\n",
       "10          Шпингалет 80 мм белый с пружиной, 1102188       100\n",
       "11        Стяжка оконная с болтом СТ-55 цинк, 1108354       100\n",
       "12       Щетка для мытья посуды КОЛИБРИ М5202 большая       100\n",
       "13        Щетка для посуды *ОЛЯ*, Мультипласт 1807010       100\n",
       "14   Крепеж для пружины дверной оцинкованный, 1107054       100\n",
       "15  Крючок одежный 2-х рожковый серый металлик с п...        96\n",
       "16  Цветок искусственный Гвоздика пластиковая один...        96\n",
       "17                 Муляж Лимон желтый 9 см полиуретан        92\n",
       "18  Петля приварная гаражная d 14х90 мм с шаром, 1...        90\n",
       "19  Пеларгония розебудная Red Pandora укорененный ...        81"
      ]
     },
     "execution_count": 58,
     "metadata": {},
     "output_type": "execute_result"
    }
   ],
   "source": [
    "top_products = df.groupby('product').agg({'quantity':'sum'}).sort_values(by='quantity', ascending=False).reset_index()\n",
    "top_products.head(20)\n"
   ]
  },
  {
   "cell_type": "markdown",
   "id": "04e264d9",
   "metadata": {},
   "source": [
    "По количеству проданных изделий самыми продаваемыми являются муляжи фруктов, строительные материалы (крепежи, дверные пружины, ручки, шпингалеты, стяжки), изделия для хранения одежды (вешалки, плечики,  крючки), а также щетки для уборки."
   ]
  },
  {
   "cell_type": "code",
   "execution_count": 59,
   "id": "e8bd3375",
   "metadata": {},
   "outputs": [
    {
     "data": {
      "text/plain": [
       "1421.5836431226767"
      ]
     },
     "execution_count": 59,
     "metadata": {},
     "output_type": "execute_result"
    }
   ],
   "source": [
    "#средняя выручка на покупателя:\n",
    "\n",
    "df['revenue'].sum()/df['customer_id'].nunique()"
   ]
  },
  {
   "cell_type": "code",
   "execution_count": 60,
   "id": "ae648632",
   "metadata": {},
   "outputs": [
    {
     "data": {
      "text/plain": [
       "1.1495249896736885"
      ]
     },
     "execution_count": 60,
     "metadata": {},
     "output_type": "execute_result"
    }
   ],
   "source": [
    "#среднее количество заказов на покупателя:\n",
    "\n",
    "df['order_id'].nunique()/df['customer_id'].nunique()"
   ]
  },
  {
   "cell_type": "code",
   "execution_count": 61,
   "id": "aeafe485",
   "metadata": {},
   "outputs": [
    {
     "data": {
      "text/plain": [
       "5.21602643535729"
      ]
     },
     "execution_count": 61,
     "metadata": {},
     "output_type": "execute_result"
    }
   ],
   "source": [
    "#среднее количество товаров на покупателя:\n",
    "\n",
    "df['quantity'].sum()/df['customer_id'].nunique()"
   ]
  },
  {
   "cell_type": "code",
   "execution_count": 62,
   "id": "59d8d38b",
   "metadata": {},
   "outputs": [
    {
     "data": {
      "text/plain": [
       "4.537549407114624"
      ]
     },
     "execution_count": 62,
     "metadata": {},
     "output_type": "execute_result"
    }
   ],
   "source": [
    "#среднее количество товаров в заказе:\n",
    "\n",
    "df['quantity'].sum()/df['order_id'].nunique()"
   ]
  },
  {
   "cell_type": "markdown",
   "id": "3b0a11b1",
   "metadata": {},
   "source": [
    "Средне статистический покупатель делает 1 заказ на сумму 1421 руб., среднее количество товаров в заказе 5."
   ]
  },
  {
   "cell_type": "markdown",
   "id": "44c897c2",
   "metadata": {},
   "source": [
    "## Сегментация на основе сезонности"
   ]
  },
  {
   "cell_type": "raw",
   "id": "abafb95a",
   "metadata": {},
   "source": [
    "На основе проведенного анализа сегментируем покупателей на 2 группы: те, у кого есть сезонные товары в заказах, и у кого нет. К сезонным товарам отнесем рассаду и семена растений. "
   ]
  },
  {
   "cell_type": "markdown",
   "id": "fc026379",
   "metadata": {},
   "source": [
    "Выделим сезонные товары:"
   ]
  },
  {
   "cell_type": "code",
   "execution_count": 63,
   "id": "d9742f12",
   "metadata": {},
   "outputs": [],
   "source": [
    "seasonal_items  = df[df['product'].str.contains('рассада|ромашка|нивянник|пеларгония|петуния|калибрахоа|бакопа|лобелия|камнеломка|тагетис', case=False)]\n",
    "seasonal_items_id = seasonal_items.groupby(['customer_id','order_id']).agg({'revenue':'sum'}).reset_index()\n",
    "del seasonal_items_id['revenue'] "
   ]
  },
  {
   "cell_type": "code",
   "execution_count": 64,
   "id": "c894d8a2",
   "metadata": {},
   "outputs": [
    {
     "data": {
      "text/html": [
       "<div>\n",
       "<style scoped>\n",
       "    .dataframe tbody tr th:only-of-type {\n",
       "        vertical-align: middle;\n",
       "    }\n",
       "\n",
       "    .dataframe tbody tr th {\n",
       "        vertical-align: top;\n",
       "    }\n",
       "\n",
       "    .dataframe thead th {\n",
       "        text-align: right;\n",
       "    }\n",
       "</style>\n",
       "<table border=\"1\" class=\"dataframe\">\n",
       "  <thead>\n",
       "    <tr style=\"text-align: right;\">\n",
       "      <th></th>\n",
       "      <th>customer_id</th>\n",
       "      <th>order_id</th>\n",
       "    </tr>\n",
       "  </thead>\n",
       "  <tbody>\n",
       "    <tr>\n",
       "      <th>0</th>\n",
       "      <td>000d6849-084e-4d9f-ac03-37174eaf60c4</td>\n",
       "      <td>14943</td>\n",
       "    </tr>\n",
       "    <tr>\n",
       "      <th>1</th>\n",
       "      <td>00c0f92a-121a-4883-a78d-2c7b5fe187de</td>\n",
       "      <td>70418</td>\n",
       "    </tr>\n",
       "    <tr>\n",
       "      <th>2</th>\n",
       "      <td>00cd704a-a65c-4865-b39a-779f1b4f1d1a</td>\n",
       "      <td>70379</td>\n",
       "    </tr>\n",
       "    <tr>\n",
       "      <th>3</th>\n",
       "      <td>0184f535-b60a-4914-a982-231e3f615206</td>\n",
       "      <td>14566</td>\n",
       "    </tr>\n",
       "    <tr>\n",
       "      <th>4</th>\n",
       "      <td>0184f535-b60a-4914-a982-231e3f615206</td>\n",
       "      <td>14624</td>\n",
       "    </tr>\n",
       "    <tr>\n",
       "      <th>...</th>\n",
       "      <td>...</td>\n",
       "      <td>...</td>\n",
       "    </tr>\n",
       "    <tr>\n",
       "      <th>475</th>\n",
       "      <td>fc4b5242-d331-4643-951d-90d2d4fe0382</td>\n",
       "      <td>72638</td>\n",
       "    </tr>\n",
       "    <tr>\n",
       "      <th>476</th>\n",
       "      <td>fc7d1558-6c08-413b-86a2-deec73d5fff7</td>\n",
       "      <td>68535</td>\n",
       "    </tr>\n",
       "    <tr>\n",
       "      <th>477</th>\n",
       "      <td>fd003d94-d728-49ca-9b6a-f17a43786d8a</td>\n",
       "      <td>69917</td>\n",
       "    </tr>\n",
       "    <tr>\n",
       "      <th>478</th>\n",
       "      <td>fd9e34ca-13c6-486d-bc47-366fbfe488f8</td>\n",
       "      <td>14792</td>\n",
       "    </tr>\n",
       "    <tr>\n",
       "      <th>479</th>\n",
       "      <td>fe565a98-0d1f-43f8-98f1-cd8e43c79438</td>\n",
       "      <td>68614</td>\n",
       "    </tr>\n",
       "  </tbody>\n",
       "</table>\n",
       "<p>480 rows × 2 columns</p>\n",
       "</div>"
      ],
      "text/plain": [
       "                              customer_id  order_id\n",
       "0    000d6849-084e-4d9f-ac03-37174eaf60c4     14943\n",
       "1    00c0f92a-121a-4883-a78d-2c7b5fe187de     70418\n",
       "2    00cd704a-a65c-4865-b39a-779f1b4f1d1a     70379\n",
       "3    0184f535-b60a-4914-a982-231e3f615206     14566\n",
       "4    0184f535-b60a-4914-a982-231e3f615206     14624\n",
       "..                                    ...       ...\n",
       "475  fc4b5242-d331-4643-951d-90d2d4fe0382     72638\n",
       "476  fc7d1558-6c08-413b-86a2-deec73d5fff7     68535\n",
       "477  fd003d94-d728-49ca-9b6a-f17a43786d8a     69917\n",
       "478  fd9e34ca-13c6-486d-bc47-366fbfe488f8     14792\n",
       "479  fe565a98-0d1f-43f8-98f1-cd8e43c79438     68614\n",
       "\n",
       "[480 rows x 2 columns]"
      ]
     },
     "execution_count": 64,
     "metadata": {},
     "output_type": "execute_result"
    }
   ],
   "source": [
    "seasonal_items_id"
   ]
  },
  {
   "cell_type": "markdown",
   "id": "a7b721e7",
   "metadata": {},
   "source": [
    "Далее отделим покупателей, у которых есть сезонные товары в истории покупок."
   ]
  },
  {
   "cell_type": "code",
   "execution_count": 65,
   "id": "919bcc02",
   "metadata": {},
   "outputs": [
    {
     "data": {
      "text/html": [
       "<div>\n",
       "<style scoped>\n",
       "    .dataframe tbody tr th:only-of-type {\n",
       "        vertical-align: middle;\n",
       "    }\n",
       "\n",
       "    .dataframe tbody tr th {\n",
       "        vertical-align: top;\n",
       "    }\n",
       "\n",
       "    .dataframe thead th {\n",
       "        text-align: right;\n",
       "    }\n",
       "</style>\n",
       "<table border=\"1\" class=\"dataframe\">\n",
       "  <thead>\n",
       "    <tr style=\"text-align: right;\">\n",
       "      <th></th>\n",
       "      <th>date</th>\n",
       "      <th>customer_id</th>\n",
       "      <th>order_id</th>\n",
       "      <th>product</th>\n",
       "      <th>quantity</th>\n",
       "      <th>price</th>\n",
       "      <th>revenue</th>\n",
       "      <th>date_day</th>\n",
       "    </tr>\n",
       "  </thead>\n",
       "  <tbody>\n",
       "    <tr>\n",
       "      <th>9</th>\n",
       "      <td>2018-10-01 09:00:00</td>\n",
       "      <td>c971fb21-d54c-4134-938f-16b62ee86d3b</td>\n",
       "      <td>68480</td>\n",
       "      <td>Чехол для гладильной доски Colombo Persia Beig...</td>\n",
       "      <td>1</td>\n",
       "      <td>674.0</td>\n",
       "      <td>674.0</td>\n",
       "      <td>2018-10-01</td>\n",
       "    </tr>\n",
       "    <tr>\n",
       "      <th>12</th>\n",
       "      <td>2018-10-01 13:00:00</td>\n",
       "      <td>4d93d3f6-8b24-403b-a74b-f5173e40d7db</td>\n",
       "      <td>68485</td>\n",
       "      <td>Чехол Eurogold Clean Basic хлопок для досок 12...</td>\n",
       "      <td>1</td>\n",
       "      <td>187.0</td>\n",
       "      <td>187.0</td>\n",
       "      <td>2018-10-01</td>\n",
       "    </tr>\n",
       "    <tr>\n",
       "      <th>20</th>\n",
       "      <td>2018-10-02 08:00:00</td>\n",
       "      <td>c971fb21-d54c-4134-938f-16b62ee86d3b</td>\n",
       "      <td>68490</td>\n",
       "      <td>Чехол для гладильной доски Festival 137x60 см ...</td>\n",
       "      <td>1</td>\n",
       "      <td>1162.0</td>\n",
       "      <td>1162.0</td>\n",
       "      <td>2018-10-02</td>\n",
       "    </tr>\n",
       "    <tr>\n",
       "      <th>21</th>\n",
       "      <td>2018-10-02 10:00:00</td>\n",
       "      <td>4d93d3f6-8b24-403b-a74b-f5173e40d7db</td>\n",
       "      <td>68491</td>\n",
       "      <td>Сумка-тележка 2-х колесная Gimi Argo синяя</td>\n",
       "      <td>1</td>\n",
       "      <td>1049.0</td>\n",
       "      <td>1049.0</td>\n",
       "      <td>2018-10-02</td>\n",
       "    </tr>\n",
       "    <tr>\n",
       "      <th>22</th>\n",
       "      <td>2018-10-02 11:00:00</td>\n",
       "      <td>f08d9018-438e-4e96-b519-f74c0302a433</td>\n",
       "      <td>14480</td>\n",
       "      <td>Многолетнее растение Тимьян-чабрец розовый объ...</td>\n",
       "      <td>1</td>\n",
       "      <td>89.0</td>\n",
       "      <td>89.0</td>\n",
       "      <td>2018-10-02</td>\n",
       "    </tr>\n",
       "    <tr>\n",
       "      <th>23</th>\n",
       "      <td>2018-10-02 11:00:00</td>\n",
       "      <td>f08d9018-438e-4e96-b519-f74c0302a433</td>\n",
       "      <td>14480</td>\n",
       "      <td>Рассада зелени для кухни Базилик Тонус, кассет...</td>\n",
       "      <td>1</td>\n",
       "      <td>169.0</td>\n",
       "      <td>169.0</td>\n",
       "      <td>2018-10-02</td>\n",
       "    </tr>\n",
       "    <tr>\n",
       "      <th>24</th>\n",
       "      <td>2018-10-02 11:00:00</td>\n",
       "      <td>f08d9018-438e-4e96-b519-f74c0302a433</td>\n",
       "      <td>14480</td>\n",
       "      <td>Рассада зелени для кухни Мелиссы в горшке диам...</td>\n",
       "      <td>1</td>\n",
       "      <td>101.0</td>\n",
       "      <td>101.0</td>\n",
       "      <td>2018-10-02</td>\n",
       "    </tr>\n",
       "    <tr>\n",
       "      <th>42</th>\n",
       "      <td>2018-10-02 11:00:00</td>\n",
       "      <td>4d93d3f6-8b24-403b-a74b-f5173e40d7db</td>\n",
       "      <td>68493</td>\n",
       "      <td>Щетка-сметка 3-х рядная деревянная 450 мм (пло...</td>\n",
       "      <td>15</td>\n",
       "      <td>49.0</td>\n",
       "      <td>735.0</td>\n",
       "      <td>2018-10-02</td>\n",
       "    </tr>\n",
       "    <tr>\n",
       "      <th>43</th>\n",
       "      <td>2018-10-02 11:00:00</td>\n",
       "      <td>4d93d3f6-8b24-403b-a74b-f5173e40d7db</td>\n",
       "      <td>68493</td>\n",
       "      <td>Щетка-сметка 4-х рядная деревянная 300 мм (фиг...</td>\n",
       "      <td>15</td>\n",
       "      <td>70.0</td>\n",
       "      <td>1050.0</td>\n",
       "      <td>2018-10-02</td>\n",
       "    </tr>\n",
       "    <tr>\n",
       "      <th>46</th>\n",
       "      <td>2018-10-02 14:00:00</td>\n",
       "      <td>4d93d3f6-8b24-403b-a74b-f5173e40d7db</td>\n",
       "      <td>68503</td>\n",
       "      <td>Вилка столовая RIPPLE сталь 3 мм, 3 шт, Attrib...</td>\n",
       "      <td>1</td>\n",
       "      <td>187.0</td>\n",
       "      <td>187.0</td>\n",
       "      <td>2018-10-02</td>\n",
       "    </tr>\n",
       "    <tr>\n",
       "      <th>47</th>\n",
       "      <td>2018-10-02 14:00:00</td>\n",
       "      <td>4d93d3f6-8b24-403b-a74b-f5173e40d7db</td>\n",
       "      <td>68503</td>\n",
       "      <td>Ложка столовая RIPPLE сталь 3 мм, 3 шт, Attrib...</td>\n",
       "      <td>1</td>\n",
       "      <td>202.0</td>\n",
       "      <td>202.0</td>\n",
       "      <td>2018-10-02</td>\n",
       "    </tr>\n",
       "    <tr>\n",
       "      <th>48</th>\n",
       "      <td>2018-10-02 14:00:00</td>\n",
       "      <td>4d93d3f6-8b24-403b-a74b-f5173e40d7db</td>\n",
       "      <td>68503</td>\n",
       "      <td>Ложка чайная RIPPLE сталь 2,5 мм, 3 шт, Attrib...</td>\n",
       "      <td>1</td>\n",
       "      <td>142.0</td>\n",
       "      <td>142.0</td>\n",
       "      <td>2018-10-02</td>\n",
       "    </tr>\n",
       "    <tr>\n",
       "      <th>49</th>\n",
       "      <td>2018-10-02 14:00:00</td>\n",
       "      <td>4d93d3f6-8b24-403b-a74b-f5173e40d7db</td>\n",
       "      <td>68503</td>\n",
       "      <td>Нож столовый RIPPLE 80 г 2 шт, Attribute, ACR042</td>\n",
       "      <td>1</td>\n",
       "      <td>172.0</td>\n",
       "      <td>172.0</td>\n",
       "      <td>2018-10-02</td>\n",
       "    </tr>\n",
       "    <tr>\n",
       "      <th>50</th>\n",
       "      <td>2018-10-02 15:00:00</td>\n",
       "      <td>4d93d3f6-8b24-403b-a74b-f5173e40d7db</td>\n",
       "      <td>68506</td>\n",
       "      <td>Герань домашняя (пеларгония зональная) цветуща...</td>\n",
       "      <td>11</td>\n",
       "      <td>142.0</td>\n",
       "      <td>1562.0</td>\n",
       "      <td>2018-10-02</td>\n",
       "    </tr>\n",
       "    <tr>\n",
       "      <th>52</th>\n",
       "      <td>2018-10-02 17:00:00</td>\n",
       "      <td>49b9c587-c19e-4481-bace-967aeac357fa</td>\n",
       "      <td>14481</td>\n",
       "      <td>Пеларгония зональная диам. 12 см малиновая с к...</td>\n",
       "      <td>1</td>\n",
       "      <td>150.0</td>\n",
       "      <td>150.0</td>\n",
       "      <td>2018-10-02</td>\n",
       "    </tr>\n",
       "    <tr>\n",
       "      <th>53</th>\n",
       "      <td>2018-10-02 17:00:00</td>\n",
       "      <td>49b9c587-c19e-4481-bace-967aeac357fa</td>\n",
       "      <td>14481</td>\n",
       "      <td>Пеларгония зональная диам. 12 см сиренево-крас...</td>\n",
       "      <td>1</td>\n",
       "      <td>150.0</td>\n",
       "      <td>150.0</td>\n",
       "      <td>2018-10-02</td>\n",
       "    </tr>\n",
       "    <tr>\n",
       "      <th>54</th>\n",
       "      <td>2018-10-02 17:00:00</td>\n",
       "      <td>49b9c587-c19e-4481-bace-967aeac357fa</td>\n",
       "      <td>14481</td>\n",
       "      <td>Пеларгония зональная диам. 12 см сиреневый пол...</td>\n",
       "      <td>1</td>\n",
       "      <td>150.0</td>\n",
       "      <td>150.0</td>\n",
       "      <td>2018-10-02</td>\n",
       "    </tr>\n",
       "    <tr>\n",
       "      <th>55</th>\n",
       "      <td>2018-10-02 17:00:00</td>\n",
       "      <td>49b9c587-c19e-4481-bace-967aeac357fa</td>\n",
       "      <td>14481</td>\n",
       "      <td>Пеларгония зональная диам. 12 см сиреневый про...</td>\n",
       "      <td>1</td>\n",
       "      <td>150.0</td>\n",
       "      <td>150.0</td>\n",
       "      <td>2018-10-02</td>\n",
       "    </tr>\n",
       "    <tr>\n",
       "      <th>64</th>\n",
       "      <td>2018-10-03 08:00:00</td>\n",
       "      <td>c971fb21-d54c-4134-938f-16b62ee86d3b</td>\n",
       "      <td>68511</td>\n",
       "      <td>Набор прищепок большие пластиковые ROZENBAL ПИ...</td>\n",
       "      <td>10</td>\n",
       "      <td>86.0</td>\n",
       "      <td>860.0</td>\n",
       "      <td>2018-10-03</td>\n",
       "    </tr>\n",
       "    <tr>\n",
       "      <th>65</th>\n",
       "      <td>2018-10-03 10:00:00</td>\n",
       "      <td>c971fb21-d54c-4134-938f-16b62ee86d3b</td>\n",
       "      <td>68514</td>\n",
       "      <td>Сушилка для белья Attribute ПРИМА 11 м синяя н...</td>\n",
       "      <td>1</td>\n",
       "      <td>749.0</td>\n",
       "      <td>749.0</td>\n",
       "      <td>2018-10-03</td>\n",
       "    </tr>\n",
       "  </tbody>\n",
       "</table>\n",
       "</div>"
      ],
      "text/plain": [
       "                  date                           customer_id  order_id  \\\n",
       "9  2018-10-01 09:00:00  c971fb21-d54c-4134-938f-16b62ee86d3b     68480   \n",
       "12 2018-10-01 13:00:00  4d93d3f6-8b24-403b-a74b-f5173e40d7db     68485   \n",
       "20 2018-10-02 08:00:00  c971fb21-d54c-4134-938f-16b62ee86d3b     68490   \n",
       "21 2018-10-02 10:00:00  4d93d3f6-8b24-403b-a74b-f5173e40d7db     68491   \n",
       "22 2018-10-02 11:00:00  f08d9018-438e-4e96-b519-f74c0302a433     14480   \n",
       "23 2018-10-02 11:00:00  f08d9018-438e-4e96-b519-f74c0302a433     14480   \n",
       "24 2018-10-02 11:00:00  f08d9018-438e-4e96-b519-f74c0302a433     14480   \n",
       "42 2018-10-02 11:00:00  4d93d3f6-8b24-403b-a74b-f5173e40d7db     68493   \n",
       "43 2018-10-02 11:00:00  4d93d3f6-8b24-403b-a74b-f5173e40d7db     68493   \n",
       "46 2018-10-02 14:00:00  4d93d3f6-8b24-403b-a74b-f5173e40d7db     68503   \n",
       "47 2018-10-02 14:00:00  4d93d3f6-8b24-403b-a74b-f5173e40d7db     68503   \n",
       "48 2018-10-02 14:00:00  4d93d3f6-8b24-403b-a74b-f5173e40d7db     68503   \n",
       "49 2018-10-02 14:00:00  4d93d3f6-8b24-403b-a74b-f5173e40d7db     68503   \n",
       "50 2018-10-02 15:00:00  4d93d3f6-8b24-403b-a74b-f5173e40d7db     68506   \n",
       "52 2018-10-02 17:00:00  49b9c587-c19e-4481-bace-967aeac357fa     14481   \n",
       "53 2018-10-02 17:00:00  49b9c587-c19e-4481-bace-967aeac357fa     14481   \n",
       "54 2018-10-02 17:00:00  49b9c587-c19e-4481-bace-967aeac357fa     14481   \n",
       "55 2018-10-02 17:00:00  49b9c587-c19e-4481-bace-967aeac357fa     14481   \n",
       "64 2018-10-03 08:00:00  c971fb21-d54c-4134-938f-16b62ee86d3b     68511   \n",
       "65 2018-10-03 10:00:00  c971fb21-d54c-4134-938f-16b62ee86d3b     68514   \n",
       "\n",
       "                                              product  quantity   price  \\\n",
       "9   Чехол для гладильной доски Colombo Persia Beig...         1   674.0   \n",
       "12  Чехол Eurogold Clean Basic хлопок для досок 12...         1   187.0   \n",
       "20  Чехол для гладильной доски Festival 137x60 см ...         1  1162.0   \n",
       "21         Сумка-тележка 2-х колесная Gimi Argo синяя         1  1049.0   \n",
       "22  Многолетнее растение Тимьян-чабрец розовый объ...         1    89.0   \n",
       "23  Рассада зелени для кухни Базилик Тонус, кассет...         1   169.0   \n",
       "24  Рассада зелени для кухни Мелиссы в горшке диам...         1   101.0   \n",
       "42  Щетка-сметка 3-х рядная деревянная 450 мм (пло...        15    49.0   \n",
       "43  Щетка-сметка 4-х рядная деревянная 300 мм (фиг...        15    70.0   \n",
       "46  Вилка столовая RIPPLE сталь 3 мм, 3 шт, Attrib...         1   187.0   \n",
       "47  Ложка столовая RIPPLE сталь 3 мм, 3 шт, Attrib...         1   202.0   \n",
       "48  Ложка чайная RIPPLE сталь 2,5 мм, 3 шт, Attrib...         1   142.0   \n",
       "49   Нож столовый RIPPLE 80 г 2 шт, Attribute, ACR042         1   172.0   \n",
       "50  Герань домашняя (пеларгония зональная) цветуща...        11   142.0   \n",
       "52  Пеларгония зональная диам. 12 см малиновая с к...         1   150.0   \n",
       "53  Пеларгония зональная диам. 12 см сиренево-крас...         1   150.0   \n",
       "54  Пеларгония зональная диам. 12 см сиреневый пол...         1   150.0   \n",
       "55  Пеларгония зональная диам. 12 см сиреневый про...         1   150.0   \n",
       "64  Набор прищепок большие пластиковые ROZENBAL ПИ...        10    86.0   \n",
       "65  Сушилка для белья Attribute ПРИМА 11 м синяя н...         1   749.0   \n",
       "\n",
       "    revenue   date_day  \n",
       "9     674.0 2018-10-01  \n",
       "12    187.0 2018-10-01  \n",
       "20   1162.0 2018-10-02  \n",
       "21   1049.0 2018-10-02  \n",
       "22     89.0 2018-10-02  \n",
       "23    169.0 2018-10-02  \n",
       "24    101.0 2018-10-02  \n",
       "42    735.0 2018-10-02  \n",
       "43   1050.0 2018-10-02  \n",
       "46    187.0 2018-10-02  \n",
       "47    202.0 2018-10-02  \n",
       "48    142.0 2018-10-02  \n",
       "49    172.0 2018-10-02  \n",
       "50   1562.0 2018-10-02  \n",
       "52    150.0 2018-10-02  \n",
       "53    150.0 2018-10-02  \n",
       "54    150.0 2018-10-02  \n",
       "55    150.0 2018-10-02  \n",
       "64    860.0 2018-10-03  \n",
       "65    749.0 2018-10-03  "
      ]
     },
     "execution_count": 65,
     "metadata": {},
     "output_type": "execute_result"
    }
   ],
   "source": [
    "df_seasonal = df[df['customer_id'].isin(seasonal_items_id['customer_id'])]\n",
    "df_seasonal.head(20)"
   ]
  },
  {
   "cell_type": "code",
   "execution_count": 66,
   "id": "d95c0e19",
   "metadata": {},
   "outputs": [
    {
     "name": "stdout",
     "output_type": "stream",
     "text": [
      "<class 'pandas.core.frame.DataFrame'>\n",
      "Int64Index: 2334 entries, 9 to 6734\n",
      "Data columns (total 8 columns):\n",
      " #   Column       Non-Null Count  Dtype         \n",
      "---  ------       --------------  -----         \n",
      " 0   date         2334 non-null   datetime64[ns]\n",
      " 1   customer_id  2334 non-null   object        \n",
      " 2   order_id     2334 non-null   int64         \n",
      " 3   product      2334 non-null   object        \n",
      " 4   quantity     2334 non-null   int64         \n",
      " 5   price        2334 non-null   float64       \n",
      " 6   revenue      2334 non-null   float64       \n",
      " 7   date_day     2334 non-null   datetime64[ns]\n",
      "dtypes: datetime64[ns](2), float64(2), int64(2), object(2)\n",
      "memory usage: 164.1+ KB\n"
     ]
    }
   ],
   "source": [
    "df_seasonal.info()"
   ]
  },
  {
   "cell_type": "markdown",
   "id": "dac991c4",
   "metadata": {},
   "source": [
    "Всех остальных покупателей отнесем к несезонным."
   ]
  },
  {
   "cell_type": "code",
   "execution_count": 67,
   "id": "eaf9acfd",
   "metadata": {},
   "outputs": [],
   "source": [
    "df_nonseasonal = df[~df['customer_id'].isin(df_seasonal['customer_id'])]"
   ]
  },
  {
   "cell_type": "code",
   "execution_count": 68,
   "id": "ee8f77b0",
   "metadata": {},
   "outputs": [
    {
     "name": "stdout",
     "output_type": "stream",
     "text": [
      "<class 'pandas.core.frame.DataFrame'>\n",
      "Int64Index: 2505 entries, 0 to 6735\n",
      "Data columns (total 8 columns):\n",
      " #   Column       Non-Null Count  Dtype         \n",
      "---  ------       --------------  -----         \n",
      " 0   date         2505 non-null   datetime64[ns]\n",
      " 1   customer_id  2505 non-null   object        \n",
      " 2   order_id     2505 non-null   int64         \n",
      " 3   product      2505 non-null   object        \n",
      " 4   quantity     2505 non-null   int64         \n",
      " 5   price        2505 non-null   float64       \n",
      " 6   revenue      2505 non-null   float64       \n",
      " 7   date_day     2505 non-null   datetime64[ns]\n",
      "dtypes: datetime64[ns](2), float64(2), int64(2), object(2)\n",
      "memory usage: 176.1+ KB\n"
     ]
    }
   ],
   "source": [
    "df_nonseasonal.info()"
   ]
  },
  {
   "cell_type": "code",
   "execution_count": 69,
   "id": "bf9a55b5",
   "metadata": {},
   "outputs": [
    {
     "data": {
      "text/html": [
       "<div>\n",
       "<style scoped>\n",
       "    .dataframe tbody tr th:only-of-type {\n",
       "        vertical-align: middle;\n",
       "    }\n",
       "\n",
       "    .dataframe tbody tr th {\n",
       "        vertical-align: top;\n",
       "    }\n",
       "\n",
       "    .dataframe thead th {\n",
       "        text-align: right;\n",
       "    }\n",
       "</style>\n",
       "<table border=\"1\" class=\"dataframe\">\n",
       "  <thead>\n",
       "    <tr style=\"text-align: right;\">\n",
       "      <th></th>\n",
       "      <th>date</th>\n",
       "      <th>customer_id</th>\n",
       "      <th>order_id</th>\n",
       "      <th>product</th>\n",
       "      <th>quantity</th>\n",
       "      <th>price</th>\n",
       "      <th>revenue</th>\n",
       "      <th>date_day</th>\n",
       "    </tr>\n",
       "  </thead>\n",
       "  <tbody>\n",
       "    <tr>\n",
       "      <th>0</th>\n",
       "      <td>2018-10-01</td>\n",
       "      <td>ee47d746-6d2f-4d3c-9622-c31412542920</td>\n",
       "      <td>68477</td>\n",
       "      <td>Комнатное растение в горшке Алое Вера, d12, h30</td>\n",
       "      <td>1</td>\n",
       "      <td>142.0</td>\n",
       "      <td>142.0</td>\n",
       "      <td>2018-10-01</td>\n",
       "    </tr>\n",
       "    <tr>\n",
       "      <th>1</th>\n",
       "      <td>2018-10-01</td>\n",
       "      <td>ee47d746-6d2f-4d3c-9622-c31412542920</td>\n",
       "      <td>68477</td>\n",
       "      <td>Комнатное растение в горшке Кофе Арабика, d12,...</td>\n",
       "      <td>1</td>\n",
       "      <td>194.0</td>\n",
       "      <td>194.0</td>\n",
       "      <td>2018-10-01</td>\n",
       "    </tr>\n",
       "    <tr>\n",
       "      <th>2</th>\n",
       "      <td>2018-10-01</td>\n",
       "      <td>ee47d746-6d2f-4d3c-9622-c31412542920</td>\n",
       "      <td>68477</td>\n",
       "      <td>Радермахера d-12 см h-20 см</td>\n",
       "      <td>1</td>\n",
       "      <td>112.0</td>\n",
       "      <td>112.0</td>\n",
       "      <td>2018-10-01</td>\n",
       "    </tr>\n",
       "    <tr>\n",
       "      <th>3</th>\n",
       "      <td>2018-10-01</td>\n",
       "      <td>ee47d746-6d2f-4d3c-9622-c31412542920</td>\n",
       "      <td>68477</td>\n",
       "      <td>Хризолидокарпус Лутесценс d-9 см</td>\n",
       "      <td>1</td>\n",
       "      <td>179.0</td>\n",
       "      <td>179.0</td>\n",
       "      <td>2018-10-01</td>\n",
       "    </tr>\n",
       "    <tr>\n",
       "      <th>4</th>\n",
       "      <td>2018-10-01</td>\n",
       "      <td>ee47d746-6d2f-4d3c-9622-c31412542920</td>\n",
       "      <td>68477</td>\n",
       "      <td>Циперус Зумула d-12 см h-25 см</td>\n",
       "      <td>1</td>\n",
       "      <td>112.0</td>\n",
       "      <td>112.0</td>\n",
       "      <td>2018-10-01</td>\n",
       "    </tr>\n",
       "  </tbody>\n",
       "</table>\n",
       "</div>"
      ],
      "text/plain": [
       "        date                           customer_id  order_id  \\\n",
       "0 2018-10-01  ee47d746-6d2f-4d3c-9622-c31412542920     68477   \n",
       "1 2018-10-01  ee47d746-6d2f-4d3c-9622-c31412542920     68477   \n",
       "2 2018-10-01  ee47d746-6d2f-4d3c-9622-c31412542920     68477   \n",
       "3 2018-10-01  ee47d746-6d2f-4d3c-9622-c31412542920     68477   \n",
       "4 2018-10-01  ee47d746-6d2f-4d3c-9622-c31412542920     68477   \n",
       "\n",
       "                                             product  quantity  price  \\\n",
       "0    Комнатное растение в горшке Алое Вера, d12, h30         1  142.0   \n",
       "1  Комнатное растение в горшке Кофе Арабика, d12,...         1  194.0   \n",
       "2                        Радермахера d-12 см h-20 см         1  112.0   \n",
       "3                   Хризолидокарпус Лутесценс d-9 см         1  179.0   \n",
       "4                     Циперус Зумула d-12 см h-25 см         1  112.0   \n",
       "\n",
       "   revenue   date_day  \n",
       "0    142.0 2018-10-01  \n",
       "1    194.0 2018-10-01  \n",
       "2    112.0 2018-10-01  \n",
       "3    179.0 2018-10-01  \n",
       "4    112.0 2018-10-01  "
      ]
     },
     "execution_count": 69,
     "metadata": {},
     "output_type": "execute_result"
    }
   ],
   "source": [
    "df_nonseasonal.head()"
   ]
  },
  {
   "cell_type": "markdown",
   "id": "261eddd8",
   "metadata": {},
   "source": [
    "Мы разделили всех покупателей на тех, кого есть сезонные товары в истории покупок, и тех, кого нет. Далее с помощью статистической проверки проверим правильость деления товаров на сезонные и несезонные, а также гипотезу о том, что средний чек у несезонных покупателей выше. "
   ]
  },
  {
   "cell_type": "markdown",
   "id": "2da8699a",
   "metadata": {},
   "source": [
    "## Проверка статистических гипотез"
   ]
  },
  {
   "cell_type": "markdown",
   "id": "bd635eda",
   "metadata": {},
   "source": [
    "### Статистическая проверка сезонности товаров"
   ]
  },
  {
   "cell_type": "markdown",
   "id": "c06bff02",
   "metadata": {},
   "source": [
    "Поскольку мы решили сегментировать товары на сезонные и несезонные, то у сезонных товаров выручка в период активного спроса должна быть выше, чем в остальные периоды года. Проверим это предположение с помощью статистической проверки. В нашем случае сезонные товары - это семена и рассада, период активного спроса на них с апреля по июнь. Сравним средний чек на сезоннные товары в высокий сезон и низкий. \n",
    "\n",
    "Для начала выделим заказы с сезонными и несезонными товарами.\n",
    "\n"
   ]
  },
  {
   "cell_type": "code",
   "execution_count": 70,
   "id": "6450edf1",
   "metadata": {},
   "outputs": [
    {
     "data": {
      "text/html": [
       "<div>\n",
       "<style scoped>\n",
       "    .dataframe tbody tr th:only-of-type {\n",
       "        vertical-align: middle;\n",
       "    }\n",
       "\n",
       "    .dataframe tbody tr th {\n",
       "        vertical-align: top;\n",
       "    }\n",
       "\n",
       "    .dataframe thead th {\n",
       "        text-align: right;\n",
       "    }\n",
       "</style>\n",
       "<table border=\"1\" class=\"dataframe\">\n",
       "  <thead>\n",
       "    <tr style=\"text-align: right;\">\n",
       "      <th></th>\n",
       "      <th>date_day</th>\n",
       "      <th>orders</th>\n",
       "      <th>revenue</th>\n",
       "      <th>avg_receipt</th>\n",
       "    </tr>\n",
       "  </thead>\n",
       "  <tbody>\n",
       "    <tr>\n",
       "      <th>0</th>\n",
       "      <td>2018-10-02</td>\n",
       "      <td>3</td>\n",
       "      <td>2521.0</td>\n",
       "      <td>840.333333</td>\n",
       "    </tr>\n",
       "    <tr>\n",
       "      <th>1</th>\n",
       "      <td>2018-10-04</td>\n",
       "      <td>1</td>\n",
       "      <td>149.0</td>\n",
       "      <td>149.000000</td>\n",
       "    </tr>\n",
       "    <tr>\n",
       "      <th>2</th>\n",
       "      <td>2018-10-05</td>\n",
       "      <td>2</td>\n",
       "      <td>833.0</td>\n",
       "      <td>416.500000</td>\n",
       "    </tr>\n",
       "    <tr>\n",
       "      <th>3</th>\n",
       "      <td>2018-10-06</td>\n",
       "      <td>1</td>\n",
       "      <td>710.0</td>\n",
       "      <td>710.000000</td>\n",
       "    </tr>\n",
       "    <tr>\n",
       "      <th>4</th>\n",
       "      <td>2018-10-07</td>\n",
       "      <td>1</td>\n",
       "      <td>376.0</td>\n",
       "      <td>376.000000</td>\n",
       "    </tr>\n",
       "  </tbody>\n",
       "</table>\n",
       "</div>"
      ],
      "text/plain": [
       "    date_day  orders  revenue  avg_receipt\n",
       "0 2018-10-02       3   2521.0   840.333333\n",
       "1 2018-10-04       1    149.0   149.000000\n",
       "2 2018-10-05       2    833.0   416.500000\n",
       "3 2018-10-06       1    710.0   710.000000\n",
       "4 2018-10-07       1    376.0   376.000000"
      ]
     },
     "execution_count": 70,
     "metadata": {},
     "output_type": "execute_result"
    }
   ],
   "source": [
    "avg_receipt_ses = df[df['order_id'].isin(seasonal_items_id['order_id'])]\n",
    "avg_receipt_ses = avg_receipt_ses.groupby('date_day').agg({'order_id':'nunique', 'revenue':'sum'}).reset_index()\n",
    "avg_receipt_ses.rename(columns = {'order_id':'orders'}, inplace = True)\n",
    "avg_receipt_ses['avg_receipt'] = avg_receipt_ses['revenue']/avg_receipt_ses['orders']\n",
    "avg_receipt_ses.head() "
   ]
  },
  {
   "cell_type": "code",
   "execution_count": 71,
   "id": "6dd2197f",
   "metadata": {},
   "outputs": [
    {
     "data": {
      "text/html": [
       "<div>\n",
       "<style scoped>\n",
       "    .dataframe tbody tr th:only-of-type {\n",
       "        vertical-align: middle;\n",
       "    }\n",
       "\n",
       "    .dataframe tbody tr th {\n",
       "        vertical-align: top;\n",
       "    }\n",
       "\n",
       "    .dataframe thead th {\n",
       "        text-align: right;\n",
       "    }\n",
       "</style>\n",
       "<table border=\"1\" class=\"dataframe\">\n",
       "  <thead>\n",
       "    <tr style=\"text-align: right;\">\n",
       "      <th></th>\n",
       "      <th>date_day</th>\n",
       "      <th>orders</th>\n",
       "      <th>revenue</th>\n",
       "      <th>avg_receipt</th>\n",
       "    </tr>\n",
       "  </thead>\n",
       "  <tbody>\n",
       "    <tr>\n",
       "      <th>0</th>\n",
       "      <td>2018-10-01</td>\n",
       "      <td>11</td>\n",
       "      <td>13934.0</td>\n",
       "      <td>1266.727273</td>\n",
       "    </tr>\n",
       "    <tr>\n",
       "      <th>1</th>\n",
       "      <td>2018-10-02</td>\n",
       "      <td>11</td>\n",
       "      <td>14225.0</td>\n",
       "      <td>1293.181818</td>\n",
       "    </tr>\n",
       "    <tr>\n",
       "      <th>2</th>\n",
       "      <td>2018-10-03</td>\n",
       "      <td>7</td>\n",
       "      <td>7275.0</td>\n",
       "      <td>1039.285714</td>\n",
       "    </tr>\n",
       "    <tr>\n",
       "      <th>3</th>\n",
       "      <td>2018-10-04</td>\n",
       "      <td>10</td>\n",
       "      <td>25021.0</td>\n",
       "      <td>2502.100000</td>\n",
       "    </tr>\n",
       "    <tr>\n",
       "      <th>4</th>\n",
       "      <td>2018-10-05</td>\n",
       "      <td>5</td>\n",
       "      <td>3887.0</td>\n",
       "      <td>777.400000</td>\n",
       "    </tr>\n",
       "  </tbody>\n",
       "</table>\n",
       "</div>"
      ],
      "text/plain": [
       "    date_day  orders  revenue  avg_receipt\n",
       "0 2018-10-01      11  13934.0  1266.727273\n",
       "1 2018-10-02      11  14225.0  1293.181818\n",
       "2 2018-10-03       7   7275.0  1039.285714\n",
       "3 2018-10-04      10  25021.0  2502.100000\n",
       "4 2018-10-05       5   3887.0   777.400000"
      ]
     },
     "execution_count": 71,
     "metadata": {},
     "output_type": "execute_result"
    }
   ],
   "source": [
    "avg_receipt_non = df[~df['order_id'].isin(seasonal_items_id['order_id'])]\n",
    "avg_receipt_non = avg_receipt_non.groupby('date_day').agg({'order_id':'nunique', 'revenue':'sum'}).reset_index()\n",
    "avg_receipt_non.rename(columns = {'order_id':'orders'}, inplace = True)\n",
    "avg_receipt_non['avg_receipt'] = avg_receipt_non['revenue']/avg_receipt_non['orders']\n",
    "avg_receipt_non.head() "
   ]
  },
  {
   "cell_type": "code",
   "execution_count": 72,
   "id": "a3e05b90",
   "metadata": {},
   "outputs": [
    {
     "data": {
      "image/png": "[encoded data removed]",
      "text/plain": [
       "<Figure size 1080x432 with 1 Axes>"
      ]
     },
     "metadata": {
      "needs_background": "light"
     },
     "output_type": "display_data"
    }
   ],
   "source": [
    "fig, ax = plt.subplots()\n",
    "\n",
    "plt.plot(avg_receipt_ses['date_day'], avg_receipt_ses['avg_receipt'], label = 'Сезонные товары')\n",
    "plt.plot(avg_receipt_non['date_day'], avg_receipt_non['avg_receipt'], label = 'Несезонные товары')\n",
    "ax.set_title('Распределение среднего чека сезонных и несезонных товаров по дням')\n",
    "\n",
    "ax.set_xlabel('Дата')\n",
    "ax.set_ylabel('Средний чек, руб.')\n",
    "\n",
    "ax.legend()\n",
    "\n",
    "fig.set_figwidth(15)    \n",
    "fig.set_figheight(6)\n",
    "\n",
    "plt.show()"
   ]
  },
  {
   "cell_type": "markdown",
   "id": "0f83f470",
   "metadata": {},
   "source": [
    "Согласно графику средний чек на сезонные товары выше в период с апрель по июнь месяц, что подтверждает наше предположение о сегментации. В апреле-мае заказчики покупают семена, в июне рассажу цветов и овощей. Проведем статистическую проверку нашей гипотезы."
   ]
  },
  {
   "cell_type": "markdown",
   "id": "8811a884",
   "metadata": {},
   "source": [
    "Н0: Средние чеки на сезонные товары в высокий и низкий сезон равны.\n",
    "\n",
    "Н1: Средние чеки на cезонные товары в высокий и низкий сезон отличаются."
   ]
  },
  {
   "cell_type": "code",
   "execution_count": 73,
   "id": "cd67c88c",
   "metadata": {},
   "outputs": [
    {
     "name": "stdout",
     "output_type": "stream",
     "text": [
      "p-значение: 3.562404430905832e-06\n",
      "Отвергаем нулевую гипотезу\n"
     ]
    }
   ],
   "source": [
    "alpha = 0.05 # критический уровень статистической значимости\n",
    "# если p-value окажется меньше него - отвергнем гипотезу\n",
    "\n",
    "results = st.ttest_ind(\n",
    "    avg_receipt_ses[(avg_receipt_ses['date_day'] >= '2019-04-01') & (avg_receipt_ses['date_day'] <= '2019-06-30')]['avg_receipt'], \n",
    "    avg_receipt_ses[~(avg_receipt_ses['date_day'] >= '2019-04-01') & (avg_receipt_ses['date_day'] <= '2019-06-30')]['avg_receipt'], equal_var = False)\n",
    "\n",
    "print('p-значение:', results.pvalue)\n",
    "\n",
    "if results.pvalue < alpha:\n",
    "    print(\"Отвергаем нулевую гипотезу\")\n",
    "else:\n",
    "    print(\"Не получилось отвергнуть нулевую гипотезу\")"
   ]
  },
  {
   "cell_type": "markdown",
   "id": "00877591",
   "metadata": {},
   "source": [
    "Статистическая проверка показала, что средние чеки на сезонные товары в высокий и низкий сезон отличаются. Найдем, насколько они отличаются."
   ]
  },
  {
   "cell_type": "code",
   "execution_count": 74,
   "id": "f827aea9",
   "metadata": {},
   "outputs": [
    {
     "data": {
      "text/plain": [
       "1097.9140873015874"
      ]
     },
     "execution_count": 74,
     "metadata": {},
     "output_type": "execute_result"
    }
   ],
   "source": [
    "high_season = avg_receipt_ses[(avg_receipt_ses['date_day'] >= '2019-04-01') & (avg_receipt_ses['date_day'] <= '2019-06-30')]['avg_receipt'].mean()\n",
    "high_season"
   ]
  },
  {
   "cell_type": "code",
   "execution_count": 75,
   "id": "9ba7725d",
   "metadata": {},
   "outputs": [
    {
     "data": {
      "text/plain": [
       "573.546204620462"
      ]
     },
     "execution_count": 75,
     "metadata": {},
     "output_type": "execute_result"
    }
   ],
   "source": [
    "low_season = avg_receipt_ses[~(avg_receipt_ses['date_day'] >= '2019-04-01') & (avg_receipt_ses['date_day'] <= '2019-06-30')]['avg_receipt'].mean()\n",
    "low_season "
   ]
  },
  {
   "cell_type": "code",
   "execution_count": 76,
   "id": "febec021",
   "metadata": {},
   "outputs": [
    {
     "data": {
      "text/plain": [
       "91.42556928401612"
      ]
     },
     "execution_count": 76,
     "metadata": {},
     "output_type": "execute_result"
    }
   ],
   "source": [
    "(high_season-low_season)/low_season*100"
   ]
  },
  {
   "cell_type": "markdown",
   "id": "86f3ea6b",
   "metadata": {},
   "source": [
    "Средний чек на сезонные товары в высокий сезон почти в 2 раза выше, чем в низкий сезон."
   ]
  },
  {
   "cell_type": "markdown",
   "id": "26ead857",
   "metadata": {},
   "source": [
    "### Сезонные покупатели vs. несезонные покупатели"
   ]
  },
  {
   "cell_type": "markdown",
   "id": "8f93278a",
   "metadata": {},
   "source": [
    "Добавим к таблицам с сегментацией дополнительные столбцы с расчетом среднего чека."
   ]
  },
  {
   "cell_type": "code",
   "execution_count": 77,
   "id": "c2ea28d0",
   "metadata": {},
   "outputs": [
    {
     "data": {
      "text/html": [
       "<div>\n",
       "<style scoped>\n",
       "    .dataframe tbody tr th:only-of-type {\n",
       "        vertical-align: middle;\n",
       "    }\n",
       "\n",
       "    .dataframe tbody tr th {\n",
       "        vertical-align: top;\n",
       "    }\n",
       "\n",
       "    .dataframe thead th {\n",
       "        text-align: right;\n",
       "    }\n",
       "</style>\n",
       "<table border=\"1\" class=\"dataframe\">\n",
       "  <thead>\n",
       "    <tr style=\"text-align: right;\">\n",
       "      <th></th>\n",
       "      <th>order_id</th>\n",
       "      <th>avg_receipt</th>\n",
       "    </tr>\n",
       "  </thead>\n",
       "  <tbody>\n",
       "    <tr>\n",
       "      <th>0</th>\n",
       "      <td>13547</td>\n",
       "      <td>684.0</td>\n",
       "    </tr>\n",
       "    <tr>\n",
       "      <th>1</th>\n",
       "      <td>14480</td>\n",
       "      <td>359.0</td>\n",
       "    </tr>\n",
       "    <tr>\n",
       "      <th>2</th>\n",
       "      <td>14481</td>\n",
       "      <td>600.0</td>\n",
       "    </tr>\n",
       "    <tr>\n",
       "      <th>3</th>\n",
       "      <td>14482</td>\n",
       "      <td>376.0</td>\n",
       "    </tr>\n",
       "    <tr>\n",
       "      <th>4</th>\n",
       "      <td>14485</td>\n",
       "      <td>676.0</td>\n",
       "    </tr>\n",
       "  </tbody>\n",
       "</table>\n",
       "</div>"
      ],
      "text/plain": [
       "   order_id  avg_receipt\n",
       "0     13547        684.0\n",
       "1     14480        359.0\n",
       "2     14481        600.0\n",
       "3     14482        376.0\n",
       "4     14485        676.0"
      ]
     },
     "execution_count": 77,
     "metadata": {},
     "output_type": "execute_result"
    }
   ],
   "source": [
    "df_seasonal = df_seasonal.groupby('order_id').agg({'revenue':'sum'}).reset_index()\n",
    "df_seasonal.rename(columns = {'revenue':'avg_receipt'}, inplace = True)\n",
    "df_seasonal.head()"
   ]
  },
  {
   "cell_type": "code",
   "execution_count": 78,
   "id": "13cdabf0",
   "metadata": {},
   "outputs": [
    {
     "data": {
      "text/html": [
       "<div>\n",
       "<style scoped>\n",
       "    .dataframe tbody tr th:only-of-type {\n",
       "        vertical-align: middle;\n",
       "    }\n",
       "\n",
       "    .dataframe tbody tr th {\n",
       "        vertical-align: top;\n",
       "    }\n",
       "\n",
       "    .dataframe thead th {\n",
       "        text-align: right;\n",
       "    }\n",
       "</style>\n",
       "<table border=\"1\" class=\"dataframe\">\n",
       "  <thead>\n",
       "    <tr style=\"text-align: right;\">\n",
       "      <th></th>\n",
       "      <th>order_id</th>\n",
       "      <th>avg_receipt</th>\n",
       "    </tr>\n",
       "  </thead>\n",
       "  <tbody>\n",
       "    <tr>\n",
       "      <th>0</th>\n",
       "      <td>12624</td>\n",
       "      <td>375.0</td>\n",
       "    </tr>\n",
       "    <tr>\n",
       "      <th>1</th>\n",
       "      <td>14516</td>\n",
       "      <td>434.0</td>\n",
       "    </tr>\n",
       "    <tr>\n",
       "      <th>2</th>\n",
       "      <td>14552</td>\n",
       "      <td>1470.0</td>\n",
       "    </tr>\n",
       "    <tr>\n",
       "      <th>3</th>\n",
       "      <td>14595</td>\n",
       "      <td>470.0</td>\n",
       "    </tr>\n",
       "    <tr>\n",
       "      <th>4</th>\n",
       "      <td>14625</td>\n",
       "      <td>561.0</td>\n",
       "    </tr>\n",
       "  </tbody>\n",
       "</table>\n",
       "</div>"
      ],
      "text/plain": [
       "   order_id  avg_receipt\n",
       "0     12624        375.0\n",
       "1     14516        434.0\n",
       "2     14552       1470.0\n",
       "3     14595        470.0\n",
       "4     14625        561.0"
      ]
     },
     "execution_count": 78,
     "metadata": {},
     "output_type": "execute_result"
    }
   ],
   "source": [
    "df_nonseasonal = df_nonseasonal.groupby('order_id').agg({'revenue':'sum'}).reset_index()\n",
    "df_nonseasonal.rename(columns = {'revenue':'avg_receipt'}, inplace = True)\n",
    "df_nonseasonal.head()"
   ]
  },
  {
   "cell_type": "markdown",
   "id": "fa4c20c1",
   "metadata": {},
   "source": [
    "Далее проведем статистическую проверку гипотез:"
   ]
  },
  {
   "cell_type": "markdown",
   "id": "2d6dcb21",
   "metadata": {},
   "source": [
    "Н0: Средние чеки, получаемые от сезонных и несезонных покупателей равны.\n",
    "\n",
    "Н1: Средние чеки, получаемые от сезонных и несезонных покупателей отличаются."
   ]
  },
  {
   "cell_type": "code",
   "execution_count": 79,
   "id": "41d476c4",
   "metadata": {},
   "outputs": [
    {
     "name": "stdout",
     "output_type": "stream",
     "text": [
      "p-значение: 8.297980819426158e-11\n",
      "Отвергаем нулевую гипотезу\n"
     ]
    }
   ],
   "source": [
    "alpha = 0.05 # критический уровень статистической значимости\n",
    "# если p-value окажется меньше него - отвергнем гипотезу\n",
    "\n",
    "results = st.ttest_ind(\n",
    "    df_seasonal['avg_receipt'], \n",
    "    df_nonseasonal['avg_receipt'], equal_var = False)\n",
    "\n",
    "print('p-значение:', results.pvalue)\n",
    "\n",
    "if results.pvalue < alpha:\n",
    "    print(\"Отвергаем нулевую гипотезу\")\n",
    "else:\n",
    "    print(\"Не получилось отвергнуть нулевую гипотезу\")"
   ]
  },
  {
   "cell_type": "markdown",
   "id": "0086fc55",
   "metadata": {},
   "source": [
    "Статистический анализ показал, что средние чеки в двух группах отличаются. Найдем средний чек покупателей.\n",
    "\n",
    "Средний чек сезонных покупателей:"
   ]
  },
  {
   "cell_type": "code",
   "execution_count": 80,
   "id": "c464ee7f",
   "metadata": {},
   "outputs": [
    {
     "data": {
      "text/plain": [
       "894.6384615384616"
      ]
     },
     "execution_count": 80,
     "metadata": {},
     "output_type": "execute_result"
    }
   ],
   "source": [
    "df_seasonal['avg_receipt'].mean()"
   ]
  },
  {
   "cell_type": "markdown",
   "id": "409be562",
   "metadata": {},
   "source": [
    "Средний чек несезонных покупателей:"
   ]
  },
  {
   "cell_type": "code",
   "execution_count": 81,
   "id": "d84202cb",
   "metadata": {},
   "outputs": [
    {
     "data": {
      "text/plain": [
       "1340.8996718237224"
      ]
     },
     "execution_count": 81,
     "metadata": {},
     "output_type": "execute_result"
    }
   ],
   "source": [
    "df_nonseasonal['avg_receipt'].mean()"
   ]
  },
  {
   "cell_type": "code",
   "execution_count": 82,
   "id": "56fdb866",
   "metadata": {},
   "outputs": [
    {
     "data": {
      "text/plain": [
       "0.49881737648284147"
      ]
     },
     "execution_count": 82,
     "metadata": {},
     "output_type": "execute_result"
    }
   ],
   "source": [
    "(df_nonseasonal['avg_receipt'].mean()-df_seasonal['avg_receipt'].mean())/df_seasonal['avg_receipt'].mean()"
   ]
  },
  {
   "cell_type": "markdown",
   "id": "1aacca19",
   "metadata": {},
   "source": [
    "Средний чек несезонных покупателей выше сезонных почти на 50%. Данное отличие можно объяснить тем, что сезонные товары (семена, рассада) имеют невысокую стоимость, а несезонные товары (сумки-тележки, сушилки, гладильные доски и т.д) более высокую. "
   ]
  },
  {
   "cell_type": "markdown",
   "id": "4ccae404",
   "metadata": {},
   "source": [
    "## Выводы и рекомендации"
   ]
  },
  {
   "cell_type": "markdown",
   "id": "d24d397b",
   "metadata": {},
   "source": [
    "Для интернет-магазина товаров для дома «Пока все ещё тут» было необходимо провести сегментацию покупателей для разработки мер по увеличению выручки. Основа для сегментации - датасет описывающий транзакции интернет-магазина товаров для дома и быта «Пока все ещё тут».\n",
    "\n",
    "Сначала была проведена предобработка данных. В исследуемом датесете 6737 строк и 6 столбцов. Пропусков и полных дубликатов не обнаружено. Было обнаружено, что 29 заказов было записано на нескольких покупателей, а 25 заказов на более чем одну дату. Поскольку эти строки могут существенно исказить результаты исследования, было принято решение их удалить. В результате для изучения осталось 4840 строк.\n",
    "Проверены форматы всех столбцов. Столбец date приведен к формату datetime. Продажи предоставлены за период с 1 октября 2018 г. по 31 октября 2019 г.\n",
    "После проверки на наличие выбросов был обнаружен выброс в столбце quantity: был исключен тестовый заказ, сделанный при отладке работы сайта (1000 вантузов).\n",
    "\n",
    "В результате анализа были получены следующие выводы:\n",
    "1. Объем выручки по дням в рассматриваемый период был распределен равномерно, с всплеском в июне 2019 г., что связано с посадочным сезоном. В этом период было продано большое количество семян и рассады цветов и овощей.\n",
    "2. Средний чек в этот период также увеличился. \n",
    "3. Количество покупателей, которые сделали повторные заказы равно 158. Большая часть покупателей (2263) не делали повторных заказов.\n",
    "4. Средний чек на всех покупателей составил 1203 рубля.\n",
    "5. У покупателей можно выделить два типа потребления: преобладание сезонных товаров в корзине (рассада и семена) и внесезонных (товары для дома, комнатные растения).\n",
    "6. В заказах с высокими средними чеками преобладают несезонные товары. Также судя по структуре потребления это могут быть кафе/рестораны, разово закупающие оборудование (например, ножи), магазины (вешалки), новоселы (покупают разные товары для дома, которые обновляются не часто), бани/спа (вафельные простыни).\n",
    "7. По объему выручки самым продаваемыми товарами являются сумка-тележка хозяйственная, муляжи фруктов, гладильные доски, сушилки.\n",
    "8. По количеству проданных изделий самыми продаваемыми являются муляжи фруктов, строительные материалы (крепежи, дверные пружины, ручки, шпингалеты, стяжки), изделия для хранения одежды (вешалки, плечики, крючки), а также щетки для уборки.\n",
    "\n",
    "Далее была проведена сегментация покупателей на сезонных и несезонных в зависимости от типов товаров в их заказах.\n",
    "С помощью статистической проверки выяснили, что средний чек на сезонные товары в высокий почти в 2 раза выше, чем в низкий. \n",
    "После этого проведена проведена статистическая проверка гипотезы о том, что средние чеки этих двух сегментов отличаются. Статистическая проверка показала, что средний чек несезонных покупателей выше среднего чека сезонных. Это  объяняется тем, что что сезонные товары (семена, рассада) имеют невысокую стоимость, а несезонные товары (сумки-тележки, сушилки, гладильные доски и т.д) более высокую.\n",
    "\n",
    "На основании полученных выводов можно дать следующие рекомендации:\n",
    "1. Необходимо привлекать покупателей, которые делают крупные покупки, например, кафе, рестораны, магазины, новоселы. Можно, например, сделать акцию \"Новоселы\" и для только перехавших в новое жилье давать скидку на заказ или делать подарок.\n",
    "2. Для сезонных покупателей можно давать купоны со скидкой на следующую покупку с ограниченным сроком действия, чтобы они также приобретали несезонные товары.\n",
    "3. Рекомендуем расширить виды сезонных товаров, например, добавить новогодние товары, тогда будет наблюдаться рост выручки и, возможно, среднего чека в предновогодние месяцы.\n",
    "4. Предлагаем добавить в ассортимент товары регулярного потребления: моющие и чистящие средства, удобрения для уличных и домаших растений, тогда количество повторных заказов может увеличиться.\n"
   ]
  }
 ],
 "metadata": {
  "ExecuteTimeLog": [
   {
    "duration": 1581,
    "start_time": "2022-10-18T18:01:01.049Z"
   },
   {
    "duration": 104,
    "start_time": "2022-10-18T18:01:03.789Z"
   },
   {
    "duration": 21,
    "start_time": "2022-10-18T18:01:05.318Z"
   },
   {
    "duration": 18,
    "start_time": "2022-10-18T18:01:05.627Z"
   },
   {
    "duration": 40,
    "start_time": "2022-10-18T18:01:09.606Z"
   },
   {
    "duration": 14,
    "start_time": "2022-10-18T18:01:11.773Z"
   },
   {
    "duration": 7,
    "start_time": "2022-10-18T18:01:12.630Z"
   },
   {
    "duration": 5,
    "start_time": "2022-10-18T18:01:12.996Z"
   },
   {
    "duration": 317,
    "start_time": "2022-10-18T18:01:13.233Z"
   },
   {
    "duration": 10,
    "start_time": "2022-10-18T18:01:14.808Z"
   },
   {
    "duration": 21,
    "start_time": "2022-10-18T18:01:15.127Z"
   },
   {
    "duration": 199,
    "start_time": "2022-10-18T18:01:15.480Z"
   },
   {
    "duration": 10,
    "start_time": "2022-10-18T18:01:16.690Z"
   },
   {
    "duration": 9,
    "start_time": "2022-10-18T18:01:16.969Z"
   },
   {
    "duration": 18,
    "start_time": "2022-10-18T18:01:17.174Z"
   },
   {
    "duration": 188,
    "start_time": "2022-10-18T18:01:17.601Z"
   },
   {
    "duration": 21,
    "start_time": "2022-10-18T18:01:21.020Z"
   },
   {
    "duration": 13,
    "start_time": "2022-10-18T18:01:21.349Z"
   },
   {
    "duration": 763,
    "start_time": "2022-10-18T18:01:22.562Z"
   },
   {
    "duration": 406,
    "start_time": "2022-10-18T18:01:27.467Z"
   },
   {
    "duration": 3,
    "start_time": "2022-10-18T18:01:53.580Z"
   },
   {
    "duration": 18,
    "start_time": "2022-10-18T18:34:06.153Z"
   },
   {
    "duration": 8,
    "start_time": "2022-10-18T18:34:18.317Z"
   },
   {
    "duration": 8,
    "start_time": "2022-10-18T18:34:23.042Z"
   },
   {
    "duration": 18,
    "start_time": "2022-10-18T18:40:10.968Z"
   },
   {
    "duration": 10,
    "start_time": "2022-10-18T18:40:27.767Z"
   },
   {
    "duration": 11,
    "start_time": "2022-10-18T18:40:33.119Z"
   },
   {
    "duration": 11,
    "start_time": "2022-10-18T18:40:46.228Z"
   },
   {
    "duration": 17,
    "start_time": "2022-10-18T18:44:53.548Z"
   },
   {
    "duration": 25,
    "start_time": "2022-10-18T18:45:08.285Z"
   },
   {
    "duration": 120,
    "start_time": "2022-10-18T18:45:19.216Z"
   },
   {
    "duration": 11,
    "start_time": "2022-10-18T18:49:22.699Z"
   },
   {
    "duration": 1272,
    "start_time": "2022-10-18T18:49:36.360Z"
   },
   {
    "duration": 65,
    "start_time": "2022-10-18T18:49:37.634Z"
   },
   {
    "duration": 16,
    "start_time": "2022-10-18T18:49:37.700Z"
   },
   {
    "duration": 11,
    "start_time": "2022-10-18T18:49:37.718Z"
   },
   {
    "duration": 17,
    "start_time": "2022-10-18T18:49:37.731Z"
   },
   {
    "duration": 13,
    "start_time": "2022-10-18T18:49:37.749Z"
   },
   {
    "duration": 4,
    "start_time": "2022-10-18T18:49:37.764Z"
   },
   {
    "duration": 6,
    "start_time": "2022-10-18T18:49:37.769Z"
   },
   {
    "duration": 304,
    "start_time": "2022-10-18T18:49:37.776Z"
   },
   {
    "duration": 7,
    "start_time": "2022-10-18T18:49:38.082Z"
   },
   {
    "duration": 27,
    "start_time": "2022-10-18T18:49:38.090Z"
   },
   {
    "duration": 192,
    "start_time": "2022-10-18T18:49:38.119Z"
   },
   {
    "duration": 11,
    "start_time": "2022-10-18T18:49:38.313Z"
   },
   {
    "duration": 8,
    "start_time": "2022-10-18T18:49:38.326Z"
   },
   {
    "duration": 12,
    "start_time": "2022-10-18T18:49:38.335Z"
   },
   {
    "duration": 189,
    "start_time": "2022-10-18T18:49:38.349Z"
   },
   {
    "duration": 15,
    "start_time": "2022-10-18T18:49:38.540Z"
   },
   {
    "duration": 12,
    "start_time": "2022-10-18T18:49:38.557Z"
   },
   {
    "duration": 601,
    "start_time": "2022-10-18T18:49:38.570Z"
   },
   {
    "duration": 2,
    "start_time": "2022-10-18T18:49:39.173Z"
   },
   {
    "duration": 13,
    "start_time": "2022-10-18T18:49:39.177Z"
   },
   {
    "duration": 648,
    "start_time": "2022-10-18T18:49:39.191Z"
   },
   {
    "duration": 11,
    "start_time": "2022-10-18T18:49:39.841Z"
   },
   {
    "duration": 598,
    "start_time": "2022-10-18T18:49:39.854Z"
   },
   {
    "duration": 15,
    "start_time": "2022-10-18T18:49:40.454Z"
   },
   {
    "duration": 736,
    "start_time": "2022-10-18T18:49:40.470Z"
   },
   {
    "duration": 7,
    "start_time": "2022-10-18T18:49:41.207Z"
   },
   {
    "duration": 19,
    "start_time": "2022-10-18T18:49:41.219Z"
   },
   {
    "duration": 7,
    "start_time": "2022-10-18T18:49:41.240Z"
   },
   {
    "duration": 22,
    "start_time": "2022-10-18T18:49:41.249Z"
   },
   {
    "duration": 46,
    "start_time": "2022-10-18T18:49:41.273Z"
   },
   {
    "duration": 16,
    "start_time": "2022-10-18T18:49:41.321Z"
   },
   {
    "duration": 19,
    "start_time": "2022-10-18T18:49:41.338Z"
   },
   {
    "duration": 18,
    "start_time": "2022-10-18T18:49:41.359Z"
   },
   {
    "duration": 201,
    "start_time": "2022-10-18T18:49:41.379Z"
   },
   {
    "duration": 12,
    "start_time": "2022-10-18T18:49:41.582Z"
   },
   {
    "duration": 22,
    "start_time": "2022-10-18T18:49:41.595Z"
   },
   {
    "duration": 140,
    "start_time": "2022-10-18T18:49:41.619Z"
   },
   {
    "duration": 0,
    "start_time": "2022-10-18T18:49:41.761Z"
   },
   {
    "duration": 0,
    "start_time": "2022-10-18T18:49:41.762Z"
   },
   {
    "duration": 0,
    "start_time": "2022-10-18T18:49:41.764Z"
   },
   {
    "duration": 0,
    "start_time": "2022-10-18T18:49:41.764Z"
   },
   {
    "duration": 0,
    "start_time": "2022-10-18T18:49:41.766Z"
   },
   {
    "duration": 0,
    "start_time": "2022-10-18T18:49:41.767Z"
   },
   {
    "duration": 0,
    "start_time": "2022-10-18T18:49:41.768Z"
   },
   {
    "duration": 0,
    "start_time": "2022-10-18T18:49:41.770Z"
   },
   {
    "duration": 0,
    "start_time": "2022-10-18T18:49:41.771Z"
   },
   {
    "duration": 0,
    "start_time": "2022-10-18T18:49:41.771Z"
   },
   {
    "duration": 0,
    "start_time": "2022-10-18T18:49:41.772Z"
   },
   {
    "duration": 0,
    "start_time": "2022-10-18T18:49:41.774Z"
   },
   {
    "duration": 0,
    "start_time": "2022-10-18T18:49:41.775Z"
   },
   {
    "duration": 0,
    "start_time": "2022-10-18T18:49:41.776Z"
   },
   {
    "duration": 0,
    "start_time": "2022-10-18T18:49:41.777Z"
   },
   {
    "duration": 0,
    "start_time": "2022-10-18T18:49:41.779Z"
   },
   {
    "duration": 0,
    "start_time": "2022-10-18T18:49:41.809Z"
   },
   {
    "duration": 0,
    "start_time": "2022-10-18T18:49:41.811Z"
   },
   {
    "duration": 0,
    "start_time": "2022-10-18T18:49:41.812Z"
   },
   {
    "duration": 0,
    "start_time": "2022-10-18T18:49:41.813Z"
   },
   {
    "duration": 0,
    "start_time": "2022-10-18T18:49:41.814Z"
   },
   {
    "duration": 0,
    "start_time": "2022-10-18T18:49:41.815Z"
   },
   {
    "duration": 0,
    "start_time": "2022-10-18T18:49:41.817Z"
   },
   {
    "duration": 0,
    "start_time": "2022-10-18T18:49:41.818Z"
   },
   {
    "duration": 0,
    "start_time": "2022-10-18T18:49:41.819Z"
   },
   {
    "duration": 0,
    "start_time": "2022-10-18T18:49:41.820Z"
   },
   {
    "duration": 15,
    "start_time": "2022-10-18T18:51:20.582Z"
   },
   {
    "duration": 8,
    "start_time": "2022-10-18T18:51:21.086Z"
   },
   {
    "duration": 19,
    "start_time": "2022-10-18T18:51:21.807Z"
   },
   {
    "duration": 12,
    "start_time": "2022-10-18T18:51:22.182Z"
   },
   {
    "duration": 5,
    "start_time": "2022-10-18T18:51:22.472Z"
   },
   {
    "duration": 14,
    "start_time": "2022-10-18T18:51:22.724Z"
   },
   {
    "duration": 12,
    "start_time": "2022-10-18T18:51:23.054Z"
   },
   {
    "duration": 14,
    "start_time": "2022-10-18T18:51:23.993Z"
   },
   {
    "duration": 16,
    "start_time": "2022-10-18T18:51:24.246Z"
   },
   {
    "duration": 6,
    "start_time": "2022-10-18T18:51:27.108Z"
   },
   {
    "duration": 5,
    "start_time": "2022-10-18T18:51:29.294Z"
   },
   {
    "duration": 4,
    "start_time": "2022-10-18T18:51:29.487Z"
   },
   {
    "duration": 6,
    "start_time": "2022-10-18T18:51:41.707Z"
   },
   {
    "duration": 6,
    "start_time": "2022-10-18T18:51:47.331Z"
   },
   {
    "duration": 8,
    "start_time": "2022-10-18T18:52:03.573Z"
   },
   {
    "duration": 1260,
    "start_time": "2022-10-20T08:09:12.951Z"
   },
   {
    "duration": 94,
    "start_time": "2022-10-20T08:09:14.213Z"
   },
   {
    "duration": 14,
    "start_time": "2022-10-20T08:09:14.309Z"
   },
   {
    "duration": 11,
    "start_time": "2022-10-20T08:09:14.325Z"
   },
   {
    "duration": 18,
    "start_time": "2022-10-20T08:09:14.337Z"
   },
   {
    "duration": 8,
    "start_time": "2022-10-20T08:09:14.357Z"
   },
   {
    "duration": 16,
    "start_time": "2022-10-20T08:09:14.367Z"
   },
   {
    "duration": 9,
    "start_time": "2022-10-20T08:09:14.385Z"
   },
   {
    "duration": 12,
    "start_time": "2022-10-20T08:09:14.396Z"
   },
   {
    "duration": 9,
    "start_time": "2022-10-20T08:09:14.423Z"
   },
   {
    "duration": 5,
    "start_time": "2022-10-20T08:09:14.433Z"
   },
   {
    "duration": 16,
    "start_time": "2022-10-20T08:09:14.439Z"
   },
   {
    "duration": 8,
    "start_time": "2022-10-20T08:09:14.456Z"
   },
   {
    "duration": 6,
    "start_time": "2022-10-20T08:09:14.465Z"
   },
   {
    "duration": 283,
    "start_time": "2022-10-20T08:09:14.473Z"
   },
   {
    "duration": 7,
    "start_time": "2022-10-20T08:09:14.757Z"
   },
   {
    "duration": 14,
    "start_time": "2022-10-20T08:09:14.766Z"
   },
   {
    "duration": 183,
    "start_time": "2022-10-20T08:09:14.781Z"
   },
   {
    "duration": 9,
    "start_time": "2022-10-20T08:09:14.966Z"
   },
   {
    "duration": 6,
    "start_time": "2022-10-20T08:09:14.976Z"
   },
   {
    "duration": 11,
    "start_time": "2022-10-20T08:09:14.984Z"
   },
   {
    "duration": 189,
    "start_time": "2022-10-20T08:09:14.996Z"
   },
   {
    "duration": 17,
    "start_time": "2022-10-20T08:09:15.186Z"
   },
   {
    "duration": 24,
    "start_time": "2022-10-20T08:09:15.205Z"
   },
   {
    "duration": 623,
    "start_time": "2022-10-20T08:09:15.230Z"
   },
   {
    "duration": 15,
    "start_time": "2022-10-20T08:09:15.855Z"
   },
   {
    "duration": 17,
    "start_time": "2022-10-20T08:09:15.872Z"
   },
   {
    "duration": 34,
    "start_time": "2022-10-20T08:09:15.892Z"
   },
   {
    "duration": 658,
    "start_time": "2022-10-20T08:09:15.927Z"
   },
   {
    "duration": 12,
    "start_time": "2022-10-20T08:09:16.587Z"
   },
   {
    "duration": 611,
    "start_time": "2022-10-20T08:09:16.601Z"
   },
   {
    "duration": 17,
    "start_time": "2022-10-20T08:09:17.214Z"
   },
   {
    "duration": 716,
    "start_time": "2022-10-20T08:09:17.233Z"
   },
   {
    "duration": 7,
    "start_time": "2022-10-20T08:09:17.951Z"
   },
   {
    "duration": 22,
    "start_time": "2022-10-20T08:09:17.959Z"
   },
   {
    "duration": 6,
    "start_time": "2022-10-20T08:09:17.982Z"
   },
   {
    "duration": 17,
    "start_time": "2022-10-20T08:09:17.990Z"
   },
   {
    "duration": 15,
    "start_time": "2022-10-20T08:09:18.022Z"
   },
   {
    "duration": 14,
    "start_time": "2022-10-20T08:09:18.038Z"
   },
   {
    "duration": 24,
    "start_time": "2022-10-20T08:09:18.054Z"
   },
   {
    "duration": 14,
    "start_time": "2022-10-20T08:09:18.080Z"
   },
   {
    "duration": 176,
    "start_time": "2022-10-20T08:09:18.096Z"
   },
   {
    "duration": 8,
    "start_time": "2022-10-20T08:09:18.274Z"
   },
   {
    "duration": 13,
    "start_time": "2022-10-20T08:09:18.283Z"
   },
   {
    "duration": 15,
    "start_time": "2022-10-20T08:09:18.298Z"
   },
   {
    "duration": 12,
    "start_time": "2022-10-20T08:09:18.314Z"
   },
   {
    "duration": 45,
    "start_time": "2022-10-20T08:09:18.328Z"
   },
   {
    "duration": 37,
    "start_time": "2022-10-20T08:09:18.374Z"
   },
   {
    "duration": 36,
    "start_time": "2022-10-20T08:09:18.413Z"
   },
   {
    "duration": 35,
    "start_time": "2022-10-20T08:09:18.450Z"
   },
   {
    "duration": 32,
    "start_time": "2022-10-20T08:09:18.486Z"
   },
   {
    "duration": 184,
    "start_time": "2022-10-20T08:09:18.519Z"
   },
   {
    "duration": 18,
    "start_time": "2022-10-20T08:09:18.705Z"
   },
   {
    "duration": 14,
    "start_time": "2022-10-20T08:09:18.725Z"
   },
   {
    "duration": 8,
    "start_time": "2022-10-20T08:09:18.740Z"
   },
   {
    "duration": 10,
    "start_time": "2022-10-20T08:09:18.749Z"
   },
   {
    "duration": 14,
    "start_time": "2022-10-20T08:09:18.760Z"
   },
   {
    "duration": 10,
    "start_time": "2022-10-20T08:09:18.775Z"
   },
   {
    "duration": 50,
    "start_time": "2022-10-20T08:09:18.786Z"
   },
   {
    "duration": 8,
    "start_time": "2022-10-20T08:09:18.838Z"
   },
   {
    "duration": 41,
    "start_time": "2022-10-20T08:09:18.848Z"
   },
   {
    "duration": 13,
    "start_time": "2022-10-20T08:09:18.891Z"
   },
   {
    "duration": 16,
    "start_time": "2022-10-20T08:09:18.906Z"
   },
   {
    "duration": 30,
    "start_time": "2022-10-20T08:09:18.924Z"
   },
   {
    "duration": 27,
    "start_time": "2022-10-20T08:09:18.956Z"
   },
   {
    "duration": 20,
    "start_time": "2022-10-20T08:09:18.985Z"
   },
   {
    "duration": 18,
    "start_time": "2022-10-20T08:09:19.007Z"
   },
   {
    "duration": 15,
    "start_time": "2022-10-20T08:09:19.027Z"
   },
   {
    "duration": 9,
    "start_time": "2022-10-20T08:09:19.044Z"
   },
   {
    "duration": 21,
    "start_time": "2022-10-20T08:09:19.054Z"
   },
   {
    "duration": 11,
    "start_time": "2022-10-20T08:09:19.076Z"
   },
   {
    "duration": 18,
    "start_time": "2022-10-20T08:09:42.100Z"
   },
   {
    "duration": 7,
    "start_time": "2022-10-20T08:10:03.637Z"
   },
   {
    "duration": 9,
    "start_time": "2022-10-20T08:10:23.705Z"
   },
   {
    "duration": 10,
    "start_time": "2022-10-20T08:10:31.842Z"
   },
   {
    "duration": 9,
    "start_time": "2022-10-20T08:10:35.979Z"
   },
   {
    "duration": 95,
    "start_time": "2022-10-20T08:10:54.189Z"
   },
   {
    "duration": 4,
    "start_time": "2022-10-20T08:11:08.803Z"
   },
   {
    "duration": 73,
    "start_time": "2022-10-20T08:11:12.792Z"
   },
   {
    "duration": 21,
    "start_time": "2022-10-20T08:11:16.963Z"
   },
   {
    "duration": 4,
    "start_time": "2022-10-20T08:11:37.479Z"
   },
   {
    "duration": 3,
    "start_time": "2022-10-20T08:11:42.151Z"
   },
   {
    "duration": 32,
    "start_time": "2022-10-20T08:11:43.722Z"
   },
   {
    "duration": 35,
    "start_time": "2022-10-20T08:12:14.537Z"
   },
   {
    "duration": 3,
    "start_time": "2022-10-20T08:14:29.037Z"
   },
   {
    "duration": 116,
    "start_time": "2022-10-20T08:14:51.338Z"
   },
   {
    "duration": 12,
    "start_time": "2022-10-20T08:19:34.484Z"
   },
   {
    "duration": 6,
    "start_time": "2022-10-20T08:19:53.750Z"
   },
   {
    "duration": 99,
    "start_time": "2022-10-20T08:20:32.835Z"
   },
   {
    "duration": 212,
    "start_time": "2022-10-20T08:21:53.037Z"
   },
   {
    "duration": 65,
    "start_time": "2022-10-20T08:38:38.428Z"
   },
   {
    "duration": 17,
    "start_time": "2022-10-20T08:51:13.398Z"
   },
   {
    "duration": 142,
    "start_time": "2022-10-20T08:51:49.110Z"
   },
   {
    "duration": 140,
    "start_time": "2022-10-20T08:51:55.278Z"
   },
   {
    "duration": 18,
    "start_time": "2022-10-20T08:54:12.114Z"
   },
   {
    "duration": 8,
    "start_time": "2022-10-20T08:54:35.682Z"
   },
   {
    "duration": 12,
    "start_time": "2022-10-20T08:54:40.457Z"
   },
   {
    "duration": 18,
    "start_time": "2022-10-20T08:54:45.297Z"
   },
   {
    "duration": 17,
    "start_time": "2022-10-20T08:55:02.259Z"
   },
   {
    "duration": 8,
    "start_time": "2022-10-20T08:55:18.451Z"
   },
   {
    "duration": 10,
    "start_time": "2022-10-20T08:55:37.808Z"
   },
   {
    "duration": 10,
    "start_time": "2022-10-20T08:56:06.648Z"
   },
   {
    "duration": 7,
    "start_time": "2022-10-20T08:57:21.078Z"
   },
   {
    "duration": 17,
    "start_time": "2022-10-20T08:57:22.922Z"
   },
   {
    "duration": 225,
    "start_time": "2022-10-20T09:00:06.244Z"
   },
   {
    "duration": 48,
    "start_time": "2022-10-20T09:01:56.496Z"
   }
  ],
  "kernelspec": {
   "display_name": "Python 3 (ipykernel)",
   "language": "python",
   "name": "python3"
  },
  "language_info": {
   "codemirror_mode": {
    "name": "ipython",
    "version": 3
   },
   "file_extension": ".py",
   "mimetype": "text/x-python",
   "name": "python",
   "nbconvert_exporter": "python",
   "pygments_lexer": "ipython3",
   "version": "3.9.7"
  },
  "toc": {
   "base_numbering": 1,
   "nav_menu": {},
   "number_sections": true,
   "sideBar": true,
   "skip_h1_title": false,
   "title_cell": "Table of Contents",
   "title_sidebar": "Contents",
   "toc_cell": true,
   "toc_position": {
    "height": "calc(100% - 180px)",
    "left": "10px",
    "top": "150px",
    "width": "279.273px"
   },
   "toc_section_display": true,
   "toc_window_display": true
  }
 },
 "nbformat": 4,
 "nbformat_minor": 5
}
