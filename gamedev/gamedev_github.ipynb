{
 "cells": [
  {
   "cell_type": "markdown",
   "metadata": {
    "toc": true
   },
   "source": [
    "<h1>Содержание <span class=\"tocSkip\"></span></h1>\n",
    "<div class=\"toc\"><ul class=\"toc-item\"><li><span><a href=\"#Описание-проекта\" data-toc-modified-id=\"Описание-проекта-1\"><span class=\"toc-item-num\">1&nbsp;&nbsp;</span>Описание проекта</a></span></li><li><span><a href=\"#Импорт-библиотек\" data-toc-modified-id=\"Импорт-библиотек-2\"><span class=\"toc-item-num\">2&nbsp;&nbsp;</span>Импорт библиотек</a></span></li><li><span><a href=\"#Знакомство-с-данными\" data-toc-modified-id=\"Знакомство-с-данными-3\"><span class=\"toc-item-num\">3&nbsp;&nbsp;</span>Знакомство с данными</a></span></li><li><span><a href=\"#Предобработка-данных\" data-toc-modified-id=\"Предобработка-данных-4\"><span class=\"toc-item-num\">4&nbsp;&nbsp;</span>Предобработка данных</a></span><ul class=\"toc-item\"><li><span><a href=\"#Приведение-названия-столбцов-к-нижнему-регистру\" data-toc-modified-id=\"Приведение-названия-столбцов-к-нижнему-регистру-4.1\"><span class=\"toc-item-num\">4.1&nbsp;&nbsp;</span>Приведение названия столбцов к нижнему регистру</a></span></li><li><span><a href=\"#Изменение-типа-данных\" data-toc-modified-id=\"Изменение-типа-данных-4.2\"><span class=\"toc-item-num\">4.2&nbsp;&nbsp;</span>Изменение типа данных</a></span></li><li><span><a href=\"#Заполнение-пропусков\" data-toc-modified-id=\"Заполнение-пропусков-4.3\"><span class=\"toc-item-num\">4.3&nbsp;&nbsp;</span>Заполнение пропусков</a></span></li></ul></li><li><span><a href=\"#Исследовательский-анализ-данных\" data-toc-modified-id=\"Исследовательский-анализ-данных-5\"><span class=\"toc-item-num\">5&nbsp;&nbsp;</span>Исследовательский анализ данных</a></span><ul class=\"toc-item\"><li><span><a href=\"#Выпуск-игр-по-годам\" data-toc-modified-id=\"Выпуск-игр-по-годам-5.1\"><span class=\"toc-item-num\">5.1&nbsp;&nbsp;</span>Выпуск игр по годам</a></span></li><li><span><a href=\"#Продажи-игр-по-платформам\" data-toc-modified-id=\"Продажи-игр-по-платформам-5.2\"><span class=\"toc-item-num\">5.2&nbsp;&nbsp;</span>Продажи игр по платформам</a></span></li><li><span><a href=\"#Анализ-платформ-за-2014-2016-гг.\" data-toc-modified-id=\"Анализ-платформ-за-2014-2016-гг.-5.3\"><span class=\"toc-item-num\">5.3&nbsp;&nbsp;</span>Анализ платформ за 2014-2016 гг.</a></span></li><li><span><a href=\"#Анализ-взаимосвязи-продаж-и-оценок-игры\" data-toc-modified-id=\"Анализ-взаимосвязи-продаж-и-оценок-игры-5.4\"><span class=\"toc-item-num\">5.4&nbsp;&nbsp;</span>Анализ взаимосвязи продаж и оценок игры</a></span></li><li><span><a href=\"#Анализ-продаж-игр-разных-жанров\" data-toc-modified-id=\"Анализ-продаж-игр-разных-жанров-5.5\"><span class=\"toc-item-num\">5.5&nbsp;&nbsp;</span>Анализ продаж игр разных жанров</a></span></li></ul></li><li><span><a href=\"#Портрет-пользователя-каждого-региона\" data-toc-modified-id=\"Портрет-пользователя-каждого-региона-6\"><span class=\"toc-item-num\">6&nbsp;&nbsp;</span>Портрет пользователя каждого региона</a></span></li><li><span><a href=\"#Проверка-гипотез\" data-toc-modified-id=\"Проверка-гипотез-7\"><span class=\"toc-item-num\">7&nbsp;&nbsp;</span>Проверка гипотез</a></span><ul class=\"toc-item\"><li><span><a href=\"#Сравнение-средних-пользовательских-рейтингов-платформ-Xbox-One-и-PC\" data-toc-modified-id=\"Сравнение-средних-пользовательских-рейтингов-платформ-Xbox-One-и-PC-7.1\"><span class=\"toc-item-num\">7.1&nbsp;&nbsp;</span>Сравнение средних пользовательских рейтингов платформ Xbox One и PC</a></span></li><li><span><a href=\"#Сравнение-средних-пользовательских-рейтингов-жанров-Action-и-Sports\" data-toc-modified-id=\"Сравнение-средних-пользовательских-рейтингов-жанров-Action-и-Sports-7.2\"><span class=\"toc-item-num\">7.2&nbsp;&nbsp;</span>Сравнение средних пользовательских рейтингов жанров Action и Sports</a></span></li></ul></li><li><span><a href=\"#Общий-вывод\" data-toc-modified-id=\"Общий-вывод-8\"><span class=\"toc-item-num\">8&nbsp;&nbsp;</span>Общий вывод</a></span></li></ul></div>"
   ]
  },
  {
   "cell_type": "markdown",
   "metadata": {},
   "source": [
    "## Описание проекта"
   ]
  },
  {
   "cell_type": "markdown",
   "metadata": {},
   "source": [
    "Интернет-магазинн «Стримчик» продаёт по всему миру компьютерные игры. Из открытых источников доступны исторические данные о продажах игр, оценки пользователей и экспертов, жанры и платформы (например, Xbox или PlayStation). Для принятия управленческих решений необходимо выявить определяющие успешность игры закономерности. Это позволит сделать ставку на потенциально популярный продукт и спланировать рекламные кампании.\n",
    "\n",
    "\n",
    "В распоряжении имеются данные до 2016 года. Сейчас декабрь 2016 г., и нужно планировать кампанию на 2017-й г."
   ]
  },
  {
   "cell_type": "markdown",
   "metadata": {},
   "source": [
    "## Импорт библиотек"
   ]
  },
  {
   "cell_type": "code",
   "execution_count": 1,
   "metadata": {},
   "outputs": [],
   "source": [
    "import pandas as pd\n",
    "import numpy as np\n",
    "import matplotlib as mpl\n",
    "import matplotlib.pyplot as plt \n",
    "import seaborn as sns \n",
    "import scipy\n",
    "from scipy import stats as st"
   ]
  },
  {
   "cell_type": "markdown",
   "metadata": {},
   "source": [
    "## Знакомство с данными"
   ]
  },
  {
   "cell_type": "code",
   "execution_count": 2,
   "metadata": {},
   "outputs": [
    {
     "name": "stdout",
     "output_type": "stream",
     "text": [
      "<class 'pandas.core.frame.DataFrame'>\n",
      "RangeIndex: 16715 entries, 0 to 16714\n",
      "Data columns (total 11 columns):\n",
      " #   Column           Non-Null Count  Dtype  \n",
      "---  ------           --------------  -----  \n",
      " 0   Name             16713 non-null  object \n",
      " 1   Platform         16715 non-null  object \n",
      " 2   Year_of_Release  16446 non-null  float64\n",
      " 3   Genre            16713 non-null  object \n",
      " 4   NA_sales         16715 non-null  float64\n",
      " 5   EU_sales         16715 non-null  float64\n",
      " 6   JP_sales         16715 non-null  float64\n",
      " 7   Other_sales      16715 non-null  float64\n",
      " 8   Critic_Score     8137 non-null   float64\n",
      " 9   User_Score       10014 non-null  object \n",
      " 10  Rating           9949 non-null   object \n",
      "dtypes: float64(6), object(5)\n",
      "memory usage: 1.4+ MB\n"
     ]
    }
   ],
   "source": [
    "try: \n",
    "    df = pd.read_csv('datasets/games.csv')\n",
    "except FileNotFoundError:\n",
    "    df = pd.read_csv('/datasets/games.csv')\n",
    "\n",
    "df.info()"
   ]
  },
  {
   "cell_type": "code",
   "execution_count": 3,
   "metadata": {},
   "outputs": [
    {
     "data": {
      "text/html": [
       "<div>\n",
       "<style scoped>\n",
       "    .dataframe tbody tr th:only-of-type {\n",
       "        vertical-align: middle;\n",
       "    }\n",
       "\n",
       "    .dataframe tbody tr th {\n",
       "        vertical-align: top;\n",
       "    }\n",
       "\n",
       "    .dataframe thead th {\n",
       "        text-align: right;\n",
       "    }\n",
       "</style>\n",
       "<table border=\"1\" class=\"dataframe\">\n",
       "  <thead>\n",
       "    <tr style=\"text-align: right;\">\n",
       "      <th></th>\n",
       "      <th>Name</th>\n",
       "      <th>Platform</th>\n",
       "      <th>Year_of_Release</th>\n",
       "      <th>Genre</th>\n",
       "      <th>NA_sales</th>\n",
       "      <th>EU_sales</th>\n",
       "      <th>JP_sales</th>\n",
       "      <th>Other_sales</th>\n",
       "      <th>Critic_Score</th>\n",
       "      <th>User_Score</th>\n",
       "      <th>Rating</th>\n",
       "    </tr>\n",
       "  </thead>\n",
       "  <tbody>\n",
       "    <tr>\n",
       "      <th>0</th>\n",
       "      <td>Wii Sports</td>\n",
       "      <td>Wii</td>\n",
       "      <td>2006.0</td>\n",
       "      <td>Sports</td>\n",
       "      <td>41.36</td>\n",
       "      <td>28.96</td>\n",
       "      <td>3.77</td>\n",
       "      <td>8.45</td>\n",
       "      <td>76.0</td>\n",
       "      <td>8</td>\n",
       "      <td>E</td>\n",
       "    </tr>\n",
       "    <tr>\n",
       "      <th>1</th>\n",
       "      <td>Super Mario Bros.</td>\n",
       "      <td>NES</td>\n",
       "      <td>1985.0</td>\n",
       "      <td>Platform</td>\n",
       "      <td>29.08</td>\n",
       "      <td>3.58</td>\n",
       "      <td>6.81</td>\n",
       "      <td>0.77</td>\n",
       "      <td>NaN</td>\n",
       "      <td>NaN</td>\n",
       "      <td>NaN</td>\n",
       "    </tr>\n",
       "    <tr>\n",
       "      <th>2</th>\n",
       "      <td>Mario Kart Wii</td>\n",
       "      <td>Wii</td>\n",
       "      <td>2008.0</td>\n",
       "      <td>Racing</td>\n",
       "      <td>15.68</td>\n",
       "      <td>12.76</td>\n",
       "      <td>3.79</td>\n",
       "      <td>3.29</td>\n",
       "      <td>82.0</td>\n",
       "      <td>8.3</td>\n",
       "      <td>E</td>\n",
       "    </tr>\n",
       "    <tr>\n",
       "      <th>3</th>\n",
       "      <td>Wii Sports Resort</td>\n",
       "      <td>Wii</td>\n",
       "      <td>2009.0</td>\n",
       "      <td>Sports</td>\n",
       "      <td>15.61</td>\n",
       "      <td>10.93</td>\n",
       "      <td>3.28</td>\n",
       "      <td>2.95</td>\n",
       "      <td>80.0</td>\n",
       "      <td>8</td>\n",
       "      <td>E</td>\n",
       "    </tr>\n",
       "    <tr>\n",
       "      <th>4</th>\n",
       "      <td>Pokemon Red/Pokemon Blue</td>\n",
       "      <td>GB</td>\n",
       "      <td>1996.0</td>\n",
       "      <td>Role-Playing</td>\n",
       "      <td>11.27</td>\n",
       "      <td>8.89</td>\n",
       "      <td>10.22</td>\n",
       "      <td>1.00</td>\n",
       "      <td>NaN</td>\n",
       "      <td>NaN</td>\n",
       "      <td>NaN</td>\n",
       "    </tr>\n",
       "    <tr>\n",
       "      <th>5</th>\n",
       "      <td>Tetris</td>\n",
       "      <td>GB</td>\n",
       "      <td>1989.0</td>\n",
       "      <td>Puzzle</td>\n",
       "      <td>23.20</td>\n",
       "      <td>2.26</td>\n",
       "      <td>4.22</td>\n",
       "      <td>0.58</td>\n",
       "      <td>NaN</td>\n",
       "      <td>NaN</td>\n",
       "      <td>NaN</td>\n",
       "    </tr>\n",
       "    <tr>\n",
       "      <th>6</th>\n",
       "      <td>New Super Mario Bros.</td>\n",
       "      <td>DS</td>\n",
       "      <td>2006.0</td>\n",
       "      <td>Platform</td>\n",
       "      <td>11.28</td>\n",
       "      <td>9.14</td>\n",
       "      <td>6.50</td>\n",
       "      <td>2.88</td>\n",
       "      <td>89.0</td>\n",
       "      <td>8.5</td>\n",
       "      <td>E</td>\n",
       "    </tr>\n",
       "    <tr>\n",
       "      <th>7</th>\n",
       "      <td>Wii Play</td>\n",
       "      <td>Wii</td>\n",
       "      <td>2006.0</td>\n",
       "      <td>Misc</td>\n",
       "      <td>13.96</td>\n",
       "      <td>9.18</td>\n",
       "      <td>2.93</td>\n",
       "      <td>2.84</td>\n",
       "      <td>58.0</td>\n",
       "      <td>6.6</td>\n",
       "      <td>E</td>\n",
       "    </tr>\n",
       "    <tr>\n",
       "      <th>8</th>\n",
       "      <td>New Super Mario Bros. Wii</td>\n",
       "      <td>Wii</td>\n",
       "      <td>2009.0</td>\n",
       "      <td>Platform</td>\n",
       "      <td>14.44</td>\n",
       "      <td>6.94</td>\n",
       "      <td>4.70</td>\n",
       "      <td>2.24</td>\n",
       "      <td>87.0</td>\n",
       "      <td>8.4</td>\n",
       "      <td>E</td>\n",
       "    </tr>\n",
       "    <tr>\n",
       "      <th>9</th>\n",
       "      <td>Duck Hunt</td>\n",
       "      <td>NES</td>\n",
       "      <td>1984.0</td>\n",
       "      <td>Shooter</td>\n",
       "      <td>26.93</td>\n",
       "      <td>0.63</td>\n",
       "      <td>0.28</td>\n",
       "      <td>0.47</td>\n",
       "      <td>NaN</td>\n",
       "      <td>NaN</td>\n",
       "      <td>NaN</td>\n",
       "    </tr>\n",
       "  </tbody>\n",
       "</table>\n",
       "</div>"
      ],
      "text/plain": [
       "                        Name Platform  Year_of_Release         Genre  \\\n",
       "0                 Wii Sports      Wii           2006.0        Sports   \n",
       "1          Super Mario Bros.      NES           1985.0      Platform   \n",
       "2             Mario Kart Wii      Wii           2008.0        Racing   \n",
       "3          Wii Sports Resort      Wii           2009.0        Sports   \n",
       "4   Pokemon Red/Pokemon Blue       GB           1996.0  Role-Playing   \n",
       "5                     Tetris       GB           1989.0        Puzzle   \n",
       "6      New Super Mario Bros.       DS           2006.0      Platform   \n",
       "7                   Wii Play      Wii           2006.0          Misc   \n",
       "8  New Super Mario Bros. Wii      Wii           2009.0      Platform   \n",
       "9                  Duck Hunt      NES           1984.0       Shooter   \n",
       "\n",
       "   NA_sales  EU_sales  JP_sales  Other_sales  Critic_Score User_Score Rating  \n",
       "0     41.36     28.96      3.77         8.45          76.0          8      E  \n",
       "1     29.08      3.58      6.81         0.77           NaN        NaN    NaN  \n",
       "2     15.68     12.76      3.79         3.29          82.0        8.3      E  \n",
       "3     15.61     10.93      3.28         2.95          80.0          8      E  \n",
       "4     11.27      8.89     10.22         1.00           NaN        NaN    NaN  \n",
       "5     23.20      2.26      4.22         0.58           NaN        NaN    NaN  \n",
       "6     11.28      9.14      6.50         2.88          89.0        8.5      E  \n",
       "7     13.96      9.18      2.93         2.84          58.0        6.6      E  \n",
       "8     14.44      6.94      4.70         2.24          87.0        8.4      E  \n",
       "9     26.93      0.63      0.28         0.47           NaN        NaN    NaN  "
      ]
     },
     "execution_count": 3,
     "metadata": {},
     "output_type": "execute_result"
    }
   ],
   "source": [
    "df.head(10)"
   ]
  },
  {
   "cell_type": "markdown",
   "metadata": {},
   "source": [
    "В таблице 16715 строк и 11 столбцов. В столбцах Name, Year_of_Release, Genre, Critic_Score, User_Score и Rating есть пропуски. В столбцах Year_of_Release и User_Score необходимо сменить тип данных."
   ]
  },
  {
   "cell_type": "markdown",
   "metadata": {},
   "source": [
    "## Предобработка данных"
   ]
  },
  {
   "cell_type": "markdown",
   "metadata": {},
   "source": [
    "### Приведение названия столбцов к нижнему регистру"
   ]
  },
  {
   "cell_type": "markdown",
   "metadata": {},
   "source": [
    "Приведем название всех колонок к нижнему регистру."
   ]
  },
  {
   "cell_type": "code",
   "execution_count": 4,
   "metadata": {},
   "outputs": [],
   "source": [
    "df.columns = df.columns.str.lower()"
   ]
  },
  {
   "cell_type": "code",
   "execution_count": 5,
   "metadata": {},
   "outputs": [
    {
     "data": {
      "text/html": [
       "<div>\n",
       "<style scoped>\n",
       "    .dataframe tbody tr th:only-of-type {\n",
       "        vertical-align: middle;\n",
       "    }\n",
       "\n",
       "    .dataframe tbody tr th {\n",
       "        vertical-align: top;\n",
       "    }\n",
       "\n",
       "    .dataframe thead th {\n",
       "        text-align: right;\n",
       "    }\n",
       "</style>\n",
       "<table border=\"1\" class=\"dataframe\">\n",
       "  <thead>\n",
       "    <tr style=\"text-align: right;\">\n",
       "      <th></th>\n",
       "      <th>name</th>\n",
       "      <th>platform</th>\n",
       "      <th>year_of_release</th>\n",
       "      <th>genre</th>\n",
       "      <th>na_sales</th>\n",
       "      <th>eu_sales</th>\n",
       "      <th>jp_sales</th>\n",
       "      <th>other_sales</th>\n",
       "      <th>critic_score</th>\n",
       "      <th>user_score</th>\n",
       "      <th>rating</th>\n",
       "    </tr>\n",
       "  </thead>\n",
       "  <tbody>\n",
       "    <tr>\n",
       "      <th>0</th>\n",
       "      <td>Wii Sports</td>\n",
       "      <td>Wii</td>\n",
       "      <td>2006.0</td>\n",
       "      <td>Sports</td>\n",
       "      <td>41.36</td>\n",
       "      <td>28.96</td>\n",
       "      <td>3.77</td>\n",
       "      <td>8.45</td>\n",
       "      <td>76.0</td>\n",
       "      <td>8</td>\n",
       "      <td>E</td>\n",
       "    </tr>\n",
       "    <tr>\n",
       "      <th>1</th>\n",
       "      <td>Super Mario Bros.</td>\n",
       "      <td>NES</td>\n",
       "      <td>1985.0</td>\n",
       "      <td>Platform</td>\n",
       "      <td>29.08</td>\n",
       "      <td>3.58</td>\n",
       "      <td>6.81</td>\n",
       "      <td>0.77</td>\n",
       "      <td>NaN</td>\n",
       "      <td>NaN</td>\n",
       "      <td>NaN</td>\n",
       "    </tr>\n",
       "    <tr>\n",
       "      <th>2</th>\n",
       "      <td>Mario Kart Wii</td>\n",
       "      <td>Wii</td>\n",
       "      <td>2008.0</td>\n",
       "      <td>Racing</td>\n",
       "      <td>15.68</td>\n",
       "      <td>12.76</td>\n",
       "      <td>3.79</td>\n",
       "      <td>3.29</td>\n",
       "      <td>82.0</td>\n",
       "      <td>8.3</td>\n",
       "      <td>E</td>\n",
       "    </tr>\n",
       "    <tr>\n",
       "      <th>3</th>\n",
       "      <td>Wii Sports Resort</td>\n",
       "      <td>Wii</td>\n",
       "      <td>2009.0</td>\n",
       "      <td>Sports</td>\n",
       "      <td>15.61</td>\n",
       "      <td>10.93</td>\n",
       "      <td>3.28</td>\n",
       "      <td>2.95</td>\n",
       "      <td>80.0</td>\n",
       "      <td>8</td>\n",
       "      <td>E</td>\n",
       "    </tr>\n",
       "    <tr>\n",
       "      <th>4</th>\n",
       "      <td>Pokemon Red/Pokemon Blue</td>\n",
       "      <td>GB</td>\n",
       "      <td>1996.0</td>\n",
       "      <td>Role-Playing</td>\n",
       "      <td>11.27</td>\n",
       "      <td>8.89</td>\n",
       "      <td>10.22</td>\n",
       "      <td>1.00</td>\n",
       "      <td>NaN</td>\n",
       "      <td>NaN</td>\n",
       "      <td>NaN</td>\n",
       "    </tr>\n",
       "  </tbody>\n",
       "</table>\n",
       "</div>"
      ],
      "text/plain": [
       "                       name platform  year_of_release         genre  na_sales  \\\n",
       "0                Wii Sports      Wii           2006.0        Sports     41.36   \n",
       "1         Super Mario Bros.      NES           1985.0      Platform     29.08   \n",
       "2            Mario Kart Wii      Wii           2008.0        Racing     15.68   \n",
       "3         Wii Sports Resort      Wii           2009.0        Sports     15.61   \n",
       "4  Pokemon Red/Pokemon Blue       GB           1996.0  Role-Playing     11.27   \n",
       "\n",
       "   eu_sales  jp_sales  other_sales  critic_score user_score rating  \n",
       "0     28.96      3.77         8.45          76.0          8      E  \n",
       "1      3.58      6.81         0.77           NaN        NaN    NaN  \n",
       "2     12.76      3.79         3.29          82.0        8.3      E  \n",
       "3     10.93      3.28         2.95          80.0          8      E  \n",
       "4      8.89     10.22         1.00           NaN        NaN    NaN  "
      ]
     },
     "execution_count": 5,
     "metadata": {},
     "output_type": "execute_result"
    }
   ],
   "source": [
    "df.head()"
   ]
  },
  {
   "cell_type": "markdown",
   "metadata": {},
   "source": [
    "### Изменение типа данных"
   ]
  },
  {
   "cell_type": "markdown",
   "metadata": {},
   "source": [
    "Изменим тип данных в столбце year_of_release на целочисленное."
   ]
  },
  {
   "cell_type": "code",
   "execution_count": 6,
   "metadata": {},
   "outputs": [],
   "source": [
    "df['year_of_release'] = df['year_of_release'].astype('Int64', errors = 'ignore')"
   ]
  },
  {
   "cell_type": "markdown",
   "metadata": {},
   "source": [
    "Изменим тип данных в столбцах user_score на числовой."
   ]
  },
  {
   "cell_type": "code",
   "execution_count": 7,
   "metadata": {},
   "outputs": [
    {
     "data": {
      "text/plain": [
       "array(['8', nan, '8.3', '8.5', '6.6', '8.4', '8.6', '7.7', '6.3', '7.4',\n",
       "       '8.2', '9', '7.9', '8.1', '8.7', '7.1', '3.4', '5.3', '4.8', '3.2',\n",
       "       '8.9', '6.4', '7.8', '7.5', '2.6', '7.2', '9.2', '7', '7.3', '4.3',\n",
       "       '7.6', '5.7', '5', '9.1', '6.5', 'tbd', '8.8', '6.9', '9.4', '6.8',\n",
       "       '6.1', '6.7', '5.4', '4', '4.9', '4.5', '9.3', '6.2', '4.2', '6',\n",
       "       '3.7', '4.1', '5.8', '5.6', '5.5', '4.4', '4.6', '5.9', '3.9',\n",
       "       '3.1', '2.9', '5.2', '3.3', '4.7', '5.1', '3.5', '2.5', '1.9', '3',\n",
       "       '2.7', '2.2', '2', '9.5', '2.1', '3.6', '2.8', '1.8', '3.8', '0',\n",
       "       '1.6', '9.6', '2.4', '1.7', '1.1', '0.3', '1.5', '0.7', '1.2',\n",
       "       '2.3', '0.5', '1.3', '0.2', '0.6', '1.4', '0.9', '1', '9.7'],\n",
       "      dtype=object)"
      ]
     },
     "execution_count": 7,
     "metadata": {},
     "output_type": "execute_result"
    }
   ],
   "source": [
    "df['user_score'].unique()"
   ]
  },
  {
   "cell_type": "markdown",
   "metadata": {},
   "source": [
    "В столбце есть пропуски, а также значение 'tbd', что расшифровывается как 'to be determed' (ожидается оценка). Заменим сначала его на пропус к(nan), а затем изменим тип."
   ]
  },
  {
   "cell_type": "code",
   "execution_count": 8,
   "metadata": {},
   "outputs": [],
   "source": [
    "df = df.replace('tbd', np.nan)"
   ]
  },
  {
   "cell_type": "code",
   "execution_count": 9,
   "metadata": {},
   "outputs": [],
   "source": [
    "df['user_score'] = df['user_score'].astype('float64', errors = 'ignore')"
   ]
  },
  {
   "cell_type": "code",
   "execution_count": 10,
   "metadata": {
    "scrolled": true
   },
   "outputs": [
    {
     "data": {
      "text/plain": [
       "name                object\n",
       "platform            object\n",
       "year_of_release      Int64\n",
       "genre               object\n",
       "na_sales           float64\n",
       "eu_sales           float64\n",
       "jp_sales           float64\n",
       "other_sales        float64\n",
       "critic_score       float64\n",
       "user_score         float64\n",
       "rating              object\n",
       "dtype: object"
      ]
     },
     "execution_count": 10,
     "metadata": {},
     "output_type": "execute_result"
    }
   ],
   "source": [
    "df.dtypes"
   ]
  },
  {
   "cell_type": "markdown",
   "metadata": {},
   "source": [
    "Изменения типов произведены."
   ]
  },
  {
   "cell_type": "markdown",
   "metadata": {},
   "source": [
    "### Заполнение пропусков"
   ]
  },
  {
   "cell_type": "markdown",
   "metadata": {},
   "source": [
    "В столбцах name, year_of_release, genre, critic_score, user_score и rating есть пропуски.\n",
    "\n",
    "В столбце name всего 2 пропуска, поэтому удалим их. "
   ]
  },
  {
   "cell_type": "code",
   "execution_count": 11,
   "metadata": {
    "scrolled": true
   },
   "outputs": [
    {
     "name": "stdout",
     "output_type": "stream",
     "text": [
      "<class 'pandas.core.frame.DataFrame'>\n",
      "Int64Index: 16713 entries, 0 to 16714\n",
      "Data columns (total 11 columns):\n",
      " #   Column           Non-Null Count  Dtype  \n",
      "---  ------           --------------  -----  \n",
      " 0   name             16713 non-null  object \n",
      " 1   platform         16713 non-null  object \n",
      " 2   year_of_release  16444 non-null  Int64  \n",
      " 3   genre            16713 non-null  object \n",
      " 4   na_sales         16713 non-null  float64\n",
      " 5   eu_sales         16713 non-null  float64\n",
      " 6   jp_sales         16713 non-null  float64\n",
      " 7   other_sales      16713 non-null  float64\n",
      " 8   critic_score     8137 non-null   float64\n",
      " 9   user_score       7590 non-null   float64\n",
      " 10  rating           9949 non-null   object \n",
      "dtypes: Int64(1), float64(6), object(4)\n",
      "memory usage: 1.5+ MB\n"
     ]
    }
   ],
   "source": [
    "df = df.dropna(subset = ['name'])\n",
    "df.info()"
   ]
  },
  {
   "cell_type": "markdown",
   "metadata": {},
   "source": [
    "В столбце year_of_release также есть пропуски, они составляют 1,6%. Но поскольку корректно заполнить их невозможно, оставим их без изменений.\n",
    "\n",
    "Поскольку в столбцах critic_score и user_score пропуски составляют более половины, их замена может привести к смещению данных. Поэтому оставим пропуски без заполнения. "
   ]
  },
  {
   "cell_type": "markdown",
   "metadata": {},
   "source": [
    "В столбце rating  рейтинг присваивается ESRB (Entertainment Software Rating Board) — это ассоциация, определяющая возрастной рейтинг компьютерных игр. ESRB оценивает игровой контент и присваивает ему подходящую возрастную категорию, например, «Для взрослых», «Для детей младшего возраста» или «Для подростков». Самостоятельно заполнить пропуски корректно невозможно. Кроме того, наличие пропусков объясняется тем, что Ассоциация начала свою деятельность в 1994 году, а данные представлены с более раннего периода. Поэтому для дальнейшего анализа заменим пропуски на значение 'No rating'."
   ]
  },
  {
   "cell_type": "code",
   "execution_count": 12,
   "metadata": {},
   "outputs": [],
   "source": [
    "df['rating'] = df['rating'].fillna('No rating')"
   ]
  },
  {
   "cell_type": "markdown",
   "metadata": {},
   "source": [
    "Добавим столбец, суммирующий все продажи по регионам."
   ]
  },
  {
   "cell_type": "code",
   "execution_count": 13,
   "metadata": {},
   "outputs": [],
   "source": [
    "df['total_sales'] = df['na_sales'] + df['eu_sales'] + df['jp_sales'] + df['other_sales']"
   ]
  },
  {
   "cell_type": "code",
   "execution_count": 14,
   "metadata": {},
   "outputs": [
    {
     "name": "stdout",
     "output_type": "stream",
     "text": [
      "<class 'pandas.core.frame.DataFrame'>\n",
      "Int64Index: 16713 entries, 0 to 16714\n",
      "Data columns (total 12 columns):\n",
      " #   Column           Non-Null Count  Dtype  \n",
      "---  ------           --------------  -----  \n",
      " 0   name             16713 non-null  object \n",
      " 1   platform         16713 non-null  object \n",
      " 2   year_of_release  16444 non-null  Int64  \n",
      " 3   genre            16713 non-null  object \n",
      " 4   na_sales         16713 non-null  float64\n",
      " 5   eu_sales         16713 non-null  float64\n",
      " 6   jp_sales         16713 non-null  float64\n",
      " 7   other_sales      16713 non-null  float64\n",
      " 8   critic_score     8137 non-null   float64\n",
      " 9   user_score       7590 non-null   float64\n",
      " 10  rating           16713 non-null  object \n",
      " 11  total_sales      16713 non-null  float64\n",
      "dtypes: Int64(1), float64(7), object(4)\n",
      "memory usage: 1.7+ MB\n"
     ]
    }
   ],
   "source": [
    "df.info()"
   ]
  },
  {
   "cell_type": "markdown",
   "metadata": {},
   "source": [
    "## Исследовательский анализ данных"
   ]
  },
  {
   "cell_type": "markdown",
   "metadata": {},
   "source": [
    "### Выпуск игр по годам"
   ]
  },
  {
   "cell_type": "markdown",
   "metadata": {},
   "source": [
    "Рассмотрим выпуск игр, распределенный по годам."
   ]
  },
  {
   "cell_type": "code",
   "execution_count": 15,
   "metadata": {},
   "outputs": [
    {
     "data": {
      "text/plain": [
       "count    16444.000000\n",
       "mean      2006.486256\n",
       "std          5.875525\n",
       "min       1980.000000\n",
       "25%       2003.000000\n",
       "50%       2007.000000\n",
       "75%       2010.000000\n",
       "max       2016.000000\n",
       "Name: year_of_release, dtype: float64"
      ]
     },
     "execution_count": 15,
     "metadata": {},
     "output_type": "execute_result"
    }
   ],
   "source": [
    "df['year_of_release'].describe()"
   ]
  },
  {
   "cell_type": "code",
   "execution_count": 16,
   "metadata": {},
   "outputs": [
    {
     "data": {
      "text/plain": [
       "<AxesSubplot:xlabel='Годы', ylabel='Количество игр'>"
      ]
     },
     "execution_count": 16,
     "metadata": {},
     "output_type": "execute_result"
    },
    {
     "data": {
      "image/png": "[encoded data removed]",
      "text/plain": [
       "<Figure size 720x576 with 1 Axes>"
      ]
     },
     "metadata": {
      "needs_background": "light"
     },
     "output_type": "display_data"
    }
   ],
   "source": [
    "df.pivot_table(index = 'year_of_release', values = 'name', aggfunc = 'count').plot(kind = 'bar', legend = False, xlabel = 'Годы', ylabel = 'Количество игр', fontsize = 12, figsize = (10, 8))"
   ]
  },
  {
   "cell_type": "markdown",
   "metadata": {},
   "source": [
    "С 1994 года начался резкий рост выпуска количества игр, поэтому этот период более интересен для анализа."
   ]
  },
  {
   "cell_type": "markdown",
   "metadata": {},
   "source": [
    "### Продажи игр по платформам"
   ]
  },
  {
   "cell_type": "markdown",
   "metadata": {},
   "source": [
    "Исследуем, как менялись продажи по платформам. "
   ]
  },
  {
   "cell_type": "code",
   "execution_count": 17,
   "metadata": {},
   "outputs": [
    {
     "data": {
      "text/html": [
       "<div>\n",
       "<style scoped>\n",
       "    .dataframe tbody tr th:only-of-type {\n",
       "        vertical-align: middle;\n",
       "    }\n",
       "\n",
       "    .dataframe tbody tr th {\n",
       "        vertical-align: top;\n",
       "    }\n",
       "\n",
       "    .dataframe thead th {\n",
       "        text-align: right;\n",
       "    }\n",
       "</style>\n",
       "<table border=\"1\" class=\"dataframe\">\n",
       "  <thead>\n",
       "    <tr style=\"text-align: right;\">\n",
       "      <th></th>\n",
       "      <th>total_sales</th>\n",
       "    </tr>\n",
       "    <tr>\n",
       "      <th>platform</th>\n",
       "      <th></th>\n",
       "    </tr>\n",
       "  </thead>\n",
       "  <tbody>\n",
       "    <tr>\n",
       "      <th>GB</th>\n",
       "      <td>2.606735</td>\n",
       "    </tr>\n",
       "    <tr>\n",
       "      <th>NES</th>\n",
       "      <td>2.561735</td>\n",
       "    </tr>\n",
       "    <tr>\n",
       "      <th>GEN</th>\n",
       "      <td>1.050000</td>\n",
       "    </tr>\n",
       "    <tr>\n",
       "      <th>SNES</th>\n",
       "      <td>0.836987</td>\n",
       "    </tr>\n",
       "    <tr>\n",
       "      <th>PS4</th>\n",
       "      <td>0.801378</td>\n",
       "    </tr>\n",
       "    <tr>\n",
       "      <th>X360</th>\n",
       "      <td>0.769746</td>\n",
       "    </tr>\n",
       "    <tr>\n",
       "      <th>2600</th>\n",
       "      <td>0.729173</td>\n",
       "    </tr>\n",
       "    <tr>\n",
       "      <th>PS3</th>\n",
       "      <td>0.705973</td>\n",
       "    </tr>\n",
       "    <tr>\n",
       "      <th>Wii</th>\n",
       "      <td>0.687508</td>\n",
       "    </tr>\n",
       "    <tr>\n",
       "      <th>N64</th>\n",
       "      <td>0.685517</td>\n",
       "    </tr>\n",
       "    <tr>\n",
       "      <th>XOne</th>\n",
       "      <td>0.645020</td>\n",
       "    </tr>\n",
       "    <tr>\n",
       "      <th>PS</th>\n",
       "      <td>0.610576</td>\n",
       "    </tr>\n",
       "    <tr>\n",
       "      <th>PS2</th>\n",
       "      <td>0.581106</td>\n",
       "    </tr>\n",
       "    <tr>\n",
       "      <th>WiiU</th>\n",
       "      <td>0.559116</td>\n",
       "    </tr>\n",
       "    <tr>\n",
       "      <th>3DS</th>\n",
       "      <td>0.498077</td>\n",
       "    </tr>\n",
       "    <tr>\n",
       "      <th>GBA</th>\n",
       "      <td>0.386679</td>\n",
       "    </tr>\n",
       "    <tr>\n",
       "      <th>DS</th>\n",
       "      <td>0.374765</td>\n",
       "    </tr>\n",
       "    <tr>\n",
       "      <th>GC</th>\n",
       "      <td>0.357788</td>\n",
       "    </tr>\n",
       "    <tr>\n",
       "      <th>XB</th>\n",
       "      <td>0.312791</td>\n",
       "    </tr>\n",
       "    <tr>\n",
       "      <th>SCD</th>\n",
       "      <td>0.310000</td>\n",
       "    </tr>\n",
       "    <tr>\n",
       "      <th>DC</th>\n",
       "      <td>0.306731</td>\n",
       "    </tr>\n",
       "    <tr>\n",
       "      <th>PC</th>\n",
       "      <td>0.266448</td>\n",
       "    </tr>\n",
       "    <tr>\n",
       "      <th>PSP</th>\n",
       "      <td>0.243218</td>\n",
       "    </tr>\n",
       "    <tr>\n",
       "      <th>WS</th>\n",
       "      <td>0.236667</td>\n",
       "    </tr>\n",
       "    <tr>\n",
       "      <th>SAT</th>\n",
       "      <td>0.194162</td>\n",
       "    </tr>\n",
       "    <tr>\n",
       "      <th>PSV</th>\n",
       "      <td>0.125744</td>\n",
       "    </tr>\n",
       "    <tr>\n",
       "      <th>NG</th>\n",
       "      <td>0.120000</td>\n",
       "    </tr>\n",
       "    <tr>\n",
       "      <th>TG16</th>\n",
       "      <td>0.080000</td>\n",
       "    </tr>\n",
       "    <tr>\n",
       "      <th>GG</th>\n",
       "      <td>0.040000</td>\n",
       "    </tr>\n",
       "    <tr>\n",
       "      <th>3DO</th>\n",
       "      <td>0.033333</td>\n",
       "    </tr>\n",
       "    <tr>\n",
       "      <th>PCFX</th>\n",
       "      <td>0.030000</td>\n",
       "    </tr>\n",
       "  </tbody>\n",
       "</table>\n",
       "</div>"
      ],
      "text/plain": [
       "          total_sales\n",
       "platform             \n",
       "GB           2.606735\n",
       "NES          2.561735\n",
       "GEN          1.050000\n",
       "SNES         0.836987\n",
       "PS4          0.801378\n",
       "X360         0.769746\n",
       "2600         0.729173\n",
       "PS3          0.705973\n",
       "Wii          0.687508\n",
       "N64          0.685517\n",
       "XOne         0.645020\n",
       "PS           0.610576\n",
       "PS2          0.581106\n",
       "WiiU         0.559116\n",
       "3DS          0.498077\n",
       "GBA          0.386679\n",
       "DS           0.374765\n",
       "GC           0.357788\n",
       "XB           0.312791\n",
       "SCD          0.310000\n",
       "DC           0.306731\n",
       "PC           0.266448\n",
       "PSP          0.243218\n",
       "WS           0.236667\n",
       "SAT          0.194162\n",
       "PSV          0.125744\n",
       "NG           0.120000\n",
       "TG16         0.080000\n",
       "GG           0.040000\n",
       "3DO          0.033333\n",
       "PCFX         0.030000"
      ]
     },
     "execution_count": 17,
     "metadata": {},
     "output_type": "execute_result"
    }
   ],
   "source": [
    "pivot_platforms = df.pivot_table(index = 'platform', values = 'total_sales').sort_values(by = 'total_sales', ascending = False)\n",
    "pivot_platforms"
   ]
  },
  {
   "cell_type": "markdown",
   "metadata": {},
   "source": [
    "Выберем 5 самых популярных платформ и построим для них график продаж по годам."
   ]
  },
  {
   "cell_type": "code",
   "execution_count": 18,
   "metadata": {},
   "outputs": [
    {
     "data": {
      "text/plain": [
       "<AxesSubplot:xlabel='Годы', ylabel='Объем продаж'>"
      ]
     },
     "execution_count": 18,
     "metadata": {},
     "output_type": "execute_result"
    },
    {
     "data": {
      "image/png": "[encoded data removed]",
      "text/plain": [
       "<Figure size 720x576 with 1 Axes>"
      ]
     },
     "metadata": {
      "needs_background": "light"
     },
     "output_type": "display_data"
    }
   ],
   "source": [
    "df.query('platform == \"GB\"').groupby('year_of_release')['total_sales'].sum().plot(kind = 'bar', legend = False, xlabel = 'Годы', ylabel = 'Объем продаж', fontsize = 12, figsize = (10, 8))"
   ]
  },
  {
   "cell_type": "code",
   "execution_count": 19,
   "metadata": {},
   "outputs": [
    {
     "data": {
      "text/plain": [
       "<AxesSubplot:xlabel='Годы', ylabel='Объем продаж'>"
      ]
     },
     "execution_count": 19,
     "metadata": {},
     "output_type": "execute_result"
    },
    {
     "data": {
      "image/png": "[encoded data removed]",
      "text/plain": [
       "<Figure size 720x576 with 1 Axes>"
      ]
     },
     "metadata": {
      "needs_background": "light"
     },
     "output_type": "display_data"
    }
   ],
   "source": [
    "df.query('platform == \"NES\"').groupby('year_of_release')['total_sales'].sum().plot(kind = 'bar', legend = False, xlabel = 'Годы', ylabel = 'Объем продаж', fontsize = 12, figsize = (10, 8))"
   ]
  },
  {
   "cell_type": "code",
   "execution_count": 20,
   "metadata": {},
   "outputs": [
    {
     "data": {
      "text/plain": [
       "<AxesSubplot:xlabel='Годы', ylabel='Объем продаж'>"
      ]
     },
     "execution_count": 20,
     "metadata": {},
     "output_type": "execute_result"
    },
    {
     "data": {
      "image/png": "[encoded data removed]",
      "text/plain": [
       "<Figure size 720x576 with 1 Axes>"
      ]
     },
     "metadata": {
      "needs_background": "light"
     },
     "output_type": "display_data"
    }
   ],
   "source": [
    "df.query('platform == \"GEN\"').groupby('year_of_release')['total_sales'].sum().plot(kind = 'bar', legend = False, xlabel = 'Годы', ylabel = 'Объем продаж', fontsize = 12, figsize = (10, 8))"
   ]
  },
  {
   "cell_type": "code",
   "execution_count": 21,
   "metadata": {},
   "outputs": [
    {
     "data": {
      "text/plain": [
       "<AxesSubplot:xlabel='Годы', ylabel='Объем продаж'>"
      ]
     },
     "execution_count": 21,
     "metadata": {},
     "output_type": "execute_result"
    },
    {
     "data": {
      "image/png": "[encoded data removed]",
      "text/plain": [
       "<Figure size 720x576 with 1 Axes>"
      ]
     },
     "metadata": {
      "needs_background": "light"
     },
     "output_type": "display_data"
    }
   ],
   "source": [
    "df.query('platform == \"SNES\"').groupby('year_of_release')['total_sales'].sum().plot(kind = 'bar', legend = False, xlabel = 'Годы', ylabel = 'Объем продаж', fontsize = 12, figsize = (10, 8))"
   ]
  },
  {
   "cell_type": "code",
   "execution_count": 22,
   "metadata": {},
   "outputs": [
    {
     "data": {
      "text/plain": [
       "<AxesSubplot:xlabel='Годы', ylabel='Объем продаж'>"
      ]
     },
     "execution_count": 22,
     "metadata": {},
     "output_type": "execute_result"
    },
    {
     "data": {
      "image/png": "[encoded data removed]",
      "text/plain": [
       "<Figure size 720x576 with 1 Axes>"
      ]
     },
     "metadata": {
      "needs_background": "light"
     },
     "output_type": "display_data"
    }
   ],
   "source": [
    "df.query('platform == \"PS4\"').groupby('year_of_release')['total_sales'].sum().plot(kind = 'bar', legend = False, xlabel = 'Годы', ylabel = 'Объем продаж', fontsize = 12, figsize = (10, 8))"
   ]
  },
  {
   "cell_type": "markdown",
   "metadata": {},
   "source": [
    "По графикам можно сделать вывод о том, что средний цикл жизни платформы 10-11 лет. Продажи в целом нормально распределены. Платформа PS4 новая и уже вошла в топ-5 по продажам, что делает ее перспективной."
   ]
  },
  {
   "cell_type": "markdown",
   "metadata": {},
   "source": [
    "### Анализ платформ за 2014-2016 гг. "
   ]
  },
  {
   "cell_type": "markdown",
   "metadata": {},
   "source": [
    "Поскольку рынок видеоигр очень динамичный, для адекватного прогнозирования 2017 года, возьмем за актуальный период 2014-2016 гг."
   ]
  },
  {
   "cell_type": "code",
   "execution_count": 23,
   "metadata": {},
   "outputs": [],
   "source": [
    "df_actual = df.loc[df['year_of_release'] >= 2014]"
   ]
  },
  {
   "cell_type": "code",
   "execution_count": 24,
   "metadata": {},
   "outputs": [
    {
     "name": "stdout",
     "output_type": "stream",
     "text": [
      "<class 'pandas.core.frame.DataFrame'>\n",
      "Int64Index: 1689 entries, 31 to 16714\n",
      "Data columns (total 12 columns):\n",
      " #   Column           Non-Null Count  Dtype  \n",
      "---  ------           --------------  -----  \n",
      " 0   name             1689 non-null   object \n",
      " 1   platform         1689 non-null   object \n",
      " 2   year_of_release  1689 non-null   Int64  \n",
      " 3   genre            1689 non-null   object \n",
      " 4   na_sales         1689 non-null   float64\n",
      " 5   eu_sales         1689 non-null   float64\n",
      " 6   jp_sales         1689 non-null   float64\n",
      " 7   other_sales      1689 non-null   float64\n",
      " 8   critic_score     718 non-null    float64\n",
      " 9   user_score       888 non-null    float64\n",
      " 10  rating           1689 non-null   object \n",
      " 11  total_sales      1689 non-null   float64\n",
      "dtypes: Int64(1), float64(7), object(4)\n",
      "memory usage: 173.2+ KB\n"
     ]
    }
   ],
   "source": [
    "df_actual.info()"
   ]
  },
  {
   "cell_type": "markdown",
   "metadata": {},
   "source": [
    "Выберем несколько потенциально прибыльных платформ."
   ]
  },
  {
   "cell_type": "code",
   "execution_count": 25,
   "metadata": {},
   "outputs": [
    {
     "data": {
      "text/plain": [
       "array(['PS4', '3DS', 'XOne', 'WiiU', 'PS3', 'X360', 'PC', 'Wii', 'PSV',\n",
       "       'PSP'], dtype=object)"
      ]
     },
     "execution_count": 25,
     "metadata": {},
     "output_type": "execute_result"
    }
   ],
   "source": [
    "df_actual['platform'].unique()"
   ]
  },
  {
   "cell_type": "code",
   "execution_count": 26,
   "metadata": {},
   "outputs": [
    {
     "data": {
      "image/png": "[encoded data removed]",
      "text/plain": [
       "<Figure size 720x576 with 1 Axes>"
      ]
     },
     "metadata": {
      "needs_background": "light"
     },
     "output_type": "display_data"
    }
   ],
   "source": [
    "platforms = ['PS4', '3DS', 'XOne', 'WiiU', 'PS3', 'X360', 'PC', 'Wii', 'PSV', 'PSP']\n",
    "for i in platforms :\n",
    "    df_actual.query('platform == @i').groupby('year_of_release')['total_sales'].sum().plot(kind = 'line', legend = True, xlabel = 'Годы', ylabel = 'Объем продаж', fontsize = 12, figsize = (10, 8), label = i)\n",
    "    "
   ]
  },
  {
   "cell_type": "markdown",
   "metadata": {},
   "source": [
    "У всех  платформ в 2016 году наблюдался спад, что, возможно, связано с тем, что данные за 2016 г. были загружены не полностью. Исходя их графика (большой объем продаж и их рост), самыми потенциально прибыльными платформами являются Play Station 4 (PS4) и Xbox One (XOne)."
   ]
  },
  {
   "cell_type": "markdown",
   "metadata": {},
   "source": [
    "Построим боксплот по глобальным продажам игр в разбивке по платформам."
   ]
  },
  {
   "cell_type": "code",
   "execution_count": 27,
   "metadata": {},
   "outputs": [
    {
     "data": {
      "text/plain": [
       "[Text(0.5, 1.0, 'Продажи по платформам за период с 2012 по 2016 гг'),\n",
       " (0.0, 1.5)]"
      ]
     },
     "execution_count": 27,
     "metadata": {},
     "output_type": "execute_result"
    },
    {
     "data": {
      "image/png": "[encoded data removed]",
      "text/plain": [
       "<Figure size 1080x720 with 1 Axes>"
      ]
     },
     "metadata": {
      "needs_background": "light"
     },
     "output_type": "display_data"
    }
   ],
   "source": [
    "plt.figure(figsize=(15,10))\n",
    "sns.boxplot(data = df_actual, y ='total_sales', x='platform').set(title = 'Продажи по платформам за период с 2012 по 2016 гг', ylim=(0, 1.5))"
   ]
  },
  {
   "cell_type": "markdown",
   "metadata": {},
   "source": [
    " График подтверждает, что наибольшие продажи у платформ PS4, Xone и Wii (но ее жизненный цикл закончился). Медианные значения количества продаж у этих трех платформ примерно одинаковы."
   ]
  },
  {
   "cell_type": "markdown",
   "metadata": {},
   "source": [
    "### Анализ взаимосвязи продаж и оценок игры"
   ]
  },
  {
   "cell_type": "markdown",
   "metadata": {},
   "source": [
    "Исследуем, как влияют на продажи внутри одной популярной платформы отзывы пользователей и критиков. Построим диаграмму рассеяния и посчитаем корреляцию между отзывами и продажами. "
   ]
  },
  {
   "cell_type": "code",
   "execution_count": 28,
   "metadata": {},
   "outputs": [
    {
     "data": {
      "text/html": [
       "<div>\n",
       "<style scoped>\n",
       "    .dataframe tbody tr th:only-of-type {\n",
       "        vertical-align: middle;\n",
       "    }\n",
       "\n",
       "    .dataframe tbody tr th {\n",
       "        vertical-align: top;\n",
       "    }\n",
       "\n",
       "    .dataframe thead th {\n",
       "        text-align: right;\n",
       "    }\n",
       "</style>\n",
       "<table border=\"1\" class=\"dataframe\">\n",
       "  <thead>\n",
       "    <tr style=\"text-align: right;\">\n",
       "      <th></th>\n",
       "      <th>total_sales</th>\n",
       "    </tr>\n",
       "    <tr>\n",
       "      <th>platform</th>\n",
       "      <th></th>\n",
       "    </tr>\n",
       "  </thead>\n",
       "  <tbody>\n",
       "    <tr>\n",
       "      <th>PS4</th>\n",
       "      <td>288.15</td>\n",
       "    </tr>\n",
       "    <tr>\n",
       "      <th>XOne</th>\n",
       "      <td>140.36</td>\n",
       "    </tr>\n",
       "    <tr>\n",
       "      <th>3DS</th>\n",
       "      <td>86.68</td>\n",
       "    </tr>\n",
       "    <tr>\n",
       "      <th>PS3</th>\n",
       "      <td>68.18</td>\n",
       "    </tr>\n",
       "    <tr>\n",
       "      <th>X360</th>\n",
       "      <td>48.22</td>\n",
       "    </tr>\n",
       "    <tr>\n",
       "      <th>WiiU</th>\n",
       "      <td>42.98</td>\n",
       "    </tr>\n",
       "    <tr>\n",
       "      <th>PC</th>\n",
       "      <td>27.05</td>\n",
       "    </tr>\n",
       "    <tr>\n",
       "      <th>PSV</th>\n",
       "      <td>22.40</td>\n",
       "    </tr>\n",
       "    <tr>\n",
       "      <th>Wii</th>\n",
       "      <td>5.07</td>\n",
       "    </tr>\n",
       "    <tr>\n",
       "      <th>PSP</th>\n",
       "      <td>0.36</td>\n",
       "    </tr>\n",
       "  </tbody>\n",
       "</table>\n",
       "</div>"
      ],
      "text/plain": [
       "          total_sales\n",
       "platform             \n",
       "PS4            288.15\n",
       "XOne           140.36\n",
       "3DS             86.68\n",
       "PS3             68.18\n",
       "X360            48.22\n",
       "WiiU            42.98\n",
       "PC              27.05\n",
       "PSV             22.40\n",
       "Wii              5.07\n",
       "PSP              0.36"
      ]
     },
     "metadata": {},
     "output_type": "display_data"
    }
   ],
   "source": [
    "display(df_actual.pivot_table(index = 'platform', values = 'total_sales', aggfunc = 'sum').sort_values(by = 'total_sales', ascending = False))"
   ]
  },
  {
   "cell_type": "markdown",
   "metadata": {},
   "source": [
    "Самое большое количество проданных игр было у PS4.\n",
    "\n",
    "Построим диаграмму рассеяния."
   ]
  },
  {
   "cell_type": "code",
   "execution_count": 29,
   "metadata": {},
   "outputs": [
    {
     "data": {
      "text/plain": [
       "<AxesSubplot:xlabel='critic_score', ylabel='total_sales'>"
      ]
     },
     "execution_count": 29,
     "metadata": {},
     "output_type": "execute_result"
    },
    {
     "data": {
      "image/png": "[encoded data removed]",
      "text/plain": [
       "<Figure size 432x288 with 1 Axes>"
      ]
     },
     "metadata": {
      "needs_background": "light"
     },
     "output_type": "display_data"
    }
   ],
   "source": [
    "X = df_actual.query('platform == \"PS4\"')['critic_score']\n",
    "Y = df_actual.query('platform == \"PS4\"')['total_sales']\n",
    "sns.scatterplot(x = X, y = Y)"
   ]
  },
  {
   "cell_type": "code",
   "execution_count": 30,
   "metadata": {},
   "outputs": [
    {
     "name": "stdout",
     "output_type": "stream",
     "text": [
      "0.4026614106810408\n"
     ]
    }
   ],
   "source": [
    "print(X.corr(Y))"
   ]
  },
  {
   "cell_type": "markdown",
   "metadata": {},
   "source": [
    "Диаграмма рассеяния и коэффицент корреляци показывает слабую взаимосвязь между оценками критиков и продажами."
   ]
  },
  {
   "cell_type": "code",
   "execution_count": 31,
   "metadata": {},
   "outputs": [
    {
     "data": {
      "text/plain": [
       "<AxesSubplot:xlabel='user_score', ylabel='total_sales'>"
      ]
     },
     "execution_count": 31,
     "metadata": {},
     "output_type": "execute_result"
    },
    {
     "data": {
      "image/png": "[encoded data removed]",
      "text/plain": [
       "<Figure size 432x288 with 1 Axes>"
      ]
     },
     "metadata": {
      "needs_background": "light"
     },
     "output_type": "display_data"
    }
   ],
   "source": [
    "Z = df_actual.query('platform == \"PS4\"')['user_score']\n",
    "sns.scatterplot(x = Z, y = Y)"
   ]
  },
  {
   "cell_type": "code",
   "execution_count": 32,
   "metadata": {},
   "outputs": [
    {
     "name": "stdout",
     "output_type": "stream",
     "text": [
      "-0.04013158947269732\n"
     ]
    }
   ],
   "source": [
    "print(Z.corr(Y))"
   ]
  },
  {
   "cell_type": "markdown",
   "metadata": {},
   "source": [
    "Диаграмма рассеяния и коэффицент корреляци показывает отсутствие взаимосвязи между оценками пользователей и продажами."
   ]
  },
  {
   "cell_type": "markdown",
   "metadata": {},
   "source": [
    "Соотнесем выводы с продажами игр на других платформах. Выберем остальные 4 платформы из топ-5 платформ с самыми высокими продажами за актуальный период."
   ]
  },
  {
   "cell_type": "code",
   "execution_count": 33,
   "metadata": {},
   "outputs": [
    {
     "data": {
      "text/plain": [
       "<AxesSubplot:xlabel='critic_score', ylabel='total_sales'>"
      ]
     },
     "execution_count": 33,
     "metadata": {},
     "output_type": "execute_result"
    },
    {
     "data": {
      "image/png": "[encoded data removed]",
      "text/plain": [
       "<Figure size 432x288 with 1 Axes>"
      ]
     },
     "metadata": {
      "needs_background": "light"
     },
     "output_type": "display_data"
    }
   ],
   "source": [
    "X = df_actual.query('platform == [\"XOne\", \"3DS\", \"PS3\", \"X360\"]')['critic_score']\n",
    "Y = df_actual.query('platform == [\"XOne\", \"3DS\", \"PS3\", \"X360\"]')['total_sales']\n",
    "sns.scatterplot(x = X, y = Y)"
   ]
  },
  {
   "cell_type": "code",
   "execution_count": 34,
   "metadata": {},
   "outputs": [
    {
     "name": "stdout",
     "output_type": "stream",
     "text": [
      "0.41542412510149423\n"
     ]
    }
   ],
   "source": [
    "print(X.corr(Y))"
   ]
  },
  {
   "cell_type": "markdown",
   "metadata": {},
   "source": [
    "Связь между продажами с оценками экспертов у остальных 4-х платформ также слабая. "
   ]
  },
  {
   "cell_type": "code",
   "execution_count": 35,
   "metadata": {},
   "outputs": [
    {
     "data": {
      "text/plain": [
       "<AxesSubplot:xlabel='user_score', ylabel='total_sales'>"
      ]
     },
     "execution_count": 35,
     "metadata": {},
     "output_type": "execute_result"
    },
    {
     "data": {
      "image/png": "[encoded data removed]",
      "text/plain": [
       "<Figure size 432x288 with 1 Axes>"
      ]
     },
     "metadata": {
      "needs_background": "light"
     },
     "output_type": "display_data"
    }
   ],
   "source": [
    "Z = df_actual.query('platform == [\"XOne\", \"3DS\", \"PS3\", \"X360\"]')['user_score']\n",
    "sns.scatterplot(x = Z, y = Y)"
   ]
  },
  {
   "cell_type": "code",
   "execution_count": 36,
   "metadata": {},
   "outputs": [
    {
     "name": "stdout",
     "output_type": "stream",
     "text": [
      "-0.05285553045768633\n"
     ]
    }
   ],
   "source": [
    "print(Z.corr(Y))"
   ]
  },
  {
   "cell_type": "markdown",
   "metadata": {},
   "source": [
    "Взаимосвязь между продажами и оценками пользователей отсутствует.\n",
    "\n",
    "Полученные результаты полностью соотносятся с ранее полученными выводами. "
   ]
  },
  {
   "cell_type": "markdown",
   "metadata": {},
   "source": [
    "### Анализ продаж игр разных жанров"
   ]
  },
  {
   "cell_type": "markdown",
   "metadata": {},
   "source": [
    "Для того чтобы найти самые успешные жанры игр, посмотрим на медианное значение продаж игр по жанрам. "
   ]
  },
  {
   "cell_type": "code",
   "execution_count": 37,
   "metadata": {},
   "outputs": [
    {
     "data": {
      "text/html": [
       "<div>\n",
       "<style scoped>\n",
       "    .dataframe tbody tr th:only-of-type {\n",
       "        vertical-align: middle;\n",
       "    }\n",
       "\n",
       "    .dataframe tbody tr th {\n",
       "        vertical-align: top;\n",
       "    }\n",
       "\n",
       "    .dataframe thead th {\n",
       "        text-align: right;\n",
       "    }\n",
       "</style>\n",
       "<table border=\"1\" class=\"dataframe\">\n",
       "  <thead>\n",
       "    <tr style=\"text-align: right;\">\n",
       "      <th></th>\n",
       "      <th>total_sales</th>\n",
       "    </tr>\n",
       "    <tr>\n",
       "      <th>genre</th>\n",
       "      <th></th>\n",
       "    </tr>\n",
       "  </thead>\n",
       "  <tbody>\n",
       "    <tr>\n",
       "      <th>Shooter</th>\n",
       "      <td>0.515</td>\n",
       "    </tr>\n",
       "    <tr>\n",
       "      <th>Sports</th>\n",
       "      <td>0.180</td>\n",
       "    </tr>\n",
       "    <tr>\n",
       "      <th>Platform</th>\n",
       "      <td>0.140</td>\n",
       "    </tr>\n",
       "    <tr>\n",
       "      <th>Fighting</th>\n",
       "      <td>0.125</td>\n",
       "    </tr>\n",
       "    <tr>\n",
       "      <th>Role-Playing</th>\n",
       "      <td>0.110</td>\n",
       "    </tr>\n",
       "    <tr>\n",
       "      <th>Simulation</th>\n",
       "      <td>0.100</td>\n",
       "    </tr>\n",
       "    <tr>\n",
       "      <th>Action</th>\n",
       "      <td>0.090</td>\n",
       "    </tr>\n",
       "    <tr>\n",
       "      <th>Misc</th>\n",
       "      <td>0.090</td>\n",
       "    </tr>\n",
       "    <tr>\n",
       "      <th>Racing</th>\n",
       "      <td>0.090</td>\n",
       "    </tr>\n",
       "    <tr>\n",
       "      <th>Strategy</th>\n",
       "      <td>0.060</td>\n",
       "    </tr>\n",
       "    <tr>\n",
       "      <th>Puzzle</th>\n",
       "      <td>0.045</td>\n",
       "    </tr>\n",
       "    <tr>\n",
       "      <th>Adventure</th>\n",
       "      <td>0.030</td>\n",
       "    </tr>\n",
       "  </tbody>\n",
       "</table>\n",
       "</div>"
      ],
      "text/plain": [
       "              total_sales\n",
       "genre                    \n",
       "Shooter             0.515\n",
       "Sports              0.180\n",
       "Platform            0.140\n",
       "Fighting            0.125\n",
       "Role-Playing        0.110\n",
       "Simulation          0.100\n",
       "Action              0.090\n",
       "Misc                0.090\n",
       "Racing              0.090\n",
       "Strategy            0.060\n",
       "Puzzle              0.045\n",
       "Adventure           0.030"
      ]
     },
     "metadata": {},
     "output_type": "display_data"
    }
   ],
   "source": [
    "display(df_actual.pivot_table(index = 'genre', values = 'total_sales', aggfunc = 'median').sort_values(by = 'total_sales', ascending = False))"
   ]
  },
  {
   "cell_type": "markdown",
   "metadata": {},
   "source": [
    "Самые высокие медианные продажи у игр в жанрах шутеры ('стрелялки'), спортивные игры и платформеры. Самые низкие продажи у пазлов, стратегий и приключений."
   ]
  },
  {
   "cell_type": "markdown",
   "metadata": {},
   "source": [
    "## Портрет пользователя каждого региона"
   ]
  },
  {
   "cell_type": "markdown",
   "metadata": {},
   "source": [
    "Рассмотрим поведение поьзователей в каждом регионе: Северной Америке, Европе и Японии. Сначала определим самые популярные платформы (топ-5) и их доли продаж.\n",
    "\n",
    "Топ-5 платформ в Северной Америке:"
   ]
  },
  {
   "cell_type": "code",
   "execution_count": 38,
   "metadata": {},
   "outputs": [
    {
     "data": {
      "text/html": [
       "<div>\n",
       "<style scoped>\n",
       "    .dataframe tbody tr th:only-of-type {\n",
       "        vertical-align: middle;\n",
       "    }\n",
       "\n",
       "    .dataframe tbody tr th {\n",
       "        vertical-align: top;\n",
       "    }\n",
       "\n",
       "    .dataframe thead th {\n",
       "        text-align: right;\n",
       "    }\n",
       "</style>\n",
       "<table border=\"1\" class=\"dataframe\">\n",
       "  <thead>\n",
       "    <tr style=\"text-align: right;\">\n",
       "      <th></th>\n",
       "      <th>platform</th>\n",
       "      <th>na_sales</th>\n",
       "    </tr>\n",
       "  </thead>\n",
       "  <tbody>\n",
       "    <tr>\n",
       "      <th>0</th>\n",
       "      <td>PS4</td>\n",
       "      <td>98.61</td>\n",
       "    </tr>\n",
       "    <tr>\n",
       "      <th>1</th>\n",
       "      <td>XOne</td>\n",
       "      <td>81.27</td>\n",
       "    </tr>\n",
       "    <tr>\n",
       "      <th>2</th>\n",
       "      <td>X360</td>\n",
       "      <td>28.30</td>\n",
       "    </tr>\n",
       "    <tr>\n",
       "      <th>3</th>\n",
       "      <td>3DS</td>\n",
       "      <td>22.64</td>\n",
       "    </tr>\n",
       "    <tr>\n",
       "      <th>4</th>\n",
       "      <td>PS3</td>\n",
       "      <td>22.05</td>\n",
       "    </tr>\n",
       "  </tbody>\n",
       "</table>\n",
       "</div>"
      ],
      "text/plain": [
       "  platform  na_sales\n",
       "0      PS4     98.61\n",
       "1     XOne     81.27\n",
       "2     X360     28.30\n",
       "3      3DS     22.64\n",
       "4      PS3     22.05"
      ]
     },
     "execution_count": 38,
     "metadata": {},
     "output_type": "execute_result"
    }
   ],
   "source": [
    "platform_na = (df_actual.groupby('platform')['na_sales'].sum().reset_index().sort_values(by = 'na_sales', ascending = False, ignore_index = True))[:5]\n",
    "platform_na"
   ]
  },
  {
   "cell_type": "code",
   "execution_count": 39,
   "metadata": {},
   "outputs": [
    {
     "data": {
      "text/plain": [
       "(-1.1147269409089968,\n",
       " 1.1007012829004283,\n",
       " -1.1081310031325453,\n",
       " 1.1201505413876063)"
      ]
     },
     "execution_count": 39,
     "metadata": {},
     "output_type": "execute_result"
    },
    {
     "data": {
      "image/png": "[encoded data removed]",
      "text/plain": [
       "<Figure size 432x288 with 1 Axes>"
      ]
     },
     "metadata": {},
     "output_type": "display_data"
    }
   ],
   "source": [
    "fig, ax = plt.subplots()\n",
    "ax.pie(platform_na.na_sales, labels=platform_na.platform, autopct='%1.1f%%')\n",
    "ax.axis(\"equal\")"
   ]
  },
  {
   "cell_type": "markdown",
   "metadata": {},
   "source": [
    "Большую долю в Северной Америке занимает PS4, затем Xbox и X360."
   ]
  },
  {
   "cell_type": "code",
   "execution_count": 40,
   "metadata": {},
   "outputs": [
    {
     "data": {
      "text/html": [
       "<div>\n",
       "<style scoped>\n",
       "    .dataframe tbody tr th:only-of-type {\n",
       "        vertical-align: middle;\n",
       "    }\n",
       "\n",
       "    .dataframe tbody tr th {\n",
       "        vertical-align: top;\n",
       "    }\n",
       "\n",
       "    .dataframe thead th {\n",
       "        text-align: right;\n",
       "    }\n",
       "</style>\n",
       "<table border=\"1\" class=\"dataframe\">\n",
       "  <thead>\n",
       "    <tr style=\"text-align: right;\">\n",
       "      <th></th>\n",
       "      <th>platform</th>\n",
       "      <th>eu_sales</th>\n",
       "    </tr>\n",
       "  </thead>\n",
       "  <tbody>\n",
       "    <tr>\n",
       "      <th>0</th>\n",
       "      <td>PS4</td>\n",
       "      <td>130.04</td>\n",
       "    </tr>\n",
       "    <tr>\n",
       "      <th>1</th>\n",
       "      <td>XOne</td>\n",
       "      <td>46.25</td>\n",
       "    </tr>\n",
       "    <tr>\n",
       "      <th>2</th>\n",
       "      <td>PS3</td>\n",
       "      <td>25.54</td>\n",
       "    </tr>\n",
       "    <tr>\n",
       "      <th>3</th>\n",
       "      <td>PC</td>\n",
       "      <td>17.97</td>\n",
       "    </tr>\n",
       "    <tr>\n",
       "      <th>4</th>\n",
       "      <td>3DS</td>\n",
       "      <td>16.12</td>\n",
       "    </tr>\n",
       "  </tbody>\n",
       "</table>\n",
       "</div>"
      ],
      "text/plain": [
       "  platform  eu_sales\n",
       "0      PS4    130.04\n",
       "1     XOne     46.25\n",
       "2      PS3     25.54\n",
       "3       PC     17.97\n",
       "4      3DS     16.12"
      ]
     },
     "execution_count": 40,
     "metadata": {},
     "output_type": "execute_result"
    }
   ],
   "source": [
    "platform_eu = (df_actual.groupby('platform')['eu_sales'].sum().reset_index().sort_values(by = 'eu_sales', ascending = False, ignore_index = True))[:5]\n",
    "platform_eu"
   ]
  },
  {
   "cell_type": "code",
   "execution_count": 41,
   "metadata": {},
   "outputs": [
    {
     "data": {
      "text/plain": [
       "(-1.1103942417510293,\n",
       " 1.1004949779429611,\n",
       " -1.1024227919730056,\n",
       " 1.1108981341505366)"
      ]
     },
     "execution_count": 41,
     "metadata": {},
     "output_type": "execute_result"
    },
    {
     "data": {
      "image/png": "[encoded data removed]",
      "text/plain": [
       "<Figure size 432x288 with 1 Axes>"
      ]
     },
     "metadata": {},
     "output_type": "display_data"
    }
   ],
   "source": [
    "fig, ax = plt.subplots()\n",
    "ax.pie(platform_eu.eu_sales, labels=platform_eu.platform, autopct='%1.1f%%')\n",
    "ax.axis(\"equal\")"
   ]
  },
  {
   "cell_type": "markdown",
   "metadata": {},
   "source": [
    "В Европе в лидерах также PS4, на 2 и 3 местах Xbox и PS3 соответственно.  "
   ]
  },
  {
   "cell_type": "code",
   "execution_count": 42,
   "metadata": {},
   "outputs": [
    {
     "data": {
      "text/html": [
       "<div>\n",
       "<style scoped>\n",
       "    .dataframe tbody tr th:only-of-type {\n",
       "        vertical-align: middle;\n",
       "    }\n",
       "\n",
       "    .dataframe tbody tr th {\n",
       "        vertical-align: top;\n",
       "    }\n",
       "\n",
       "    .dataframe thead th {\n",
       "        text-align: right;\n",
       "    }\n",
       "</style>\n",
       "<table border=\"1\" class=\"dataframe\">\n",
       "  <thead>\n",
       "    <tr style=\"text-align: right;\">\n",
       "      <th></th>\n",
       "      <th>platform</th>\n",
       "      <th>jp_sales</th>\n",
       "    </tr>\n",
       "  </thead>\n",
       "  <tbody>\n",
       "    <tr>\n",
       "      <th>0</th>\n",
       "      <td>3DS</td>\n",
       "      <td>44.24</td>\n",
       "    </tr>\n",
       "    <tr>\n",
       "      <th>1</th>\n",
       "      <td>PS4</td>\n",
       "      <td>15.02</td>\n",
       "    </tr>\n",
       "    <tr>\n",
       "      <th>2</th>\n",
       "      <td>PSV</td>\n",
       "      <td>14.54</td>\n",
       "    </tr>\n",
       "    <tr>\n",
       "      <th>3</th>\n",
       "      <td>PS3</td>\n",
       "      <td>11.22</td>\n",
       "    </tr>\n",
       "    <tr>\n",
       "      <th>4</th>\n",
       "      <td>WiiU</td>\n",
       "      <td>7.31</td>\n",
       "    </tr>\n",
       "  </tbody>\n",
       "</table>\n",
       "</div>"
      ],
      "text/plain": [
       "  platform  jp_sales\n",
       "0      3DS     44.24\n",
       "1      PS4     15.02\n",
       "2      PSV     14.54\n",
       "3      PS3     11.22\n",
       "4     WiiU      7.31"
      ]
     },
     "execution_count": 42,
     "metadata": {},
     "output_type": "execute_result"
    }
   ],
   "source": [
    "platform_jp = (df_actual.groupby('platform')['jp_sales'].sum().reset_index().sort_values(by = 'jp_sales', ascending = False, ignore_index = True))[:5]\n",
    "platform_jp"
   ]
  },
  {
   "cell_type": "code",
   "execution_count": 43,
   "metadata": {},
   "outputs": [
    {
     "data": {
      "text/plain": [
       "(-1.1144951048743652,\n",
       " 1.1006902430892556,\n",
       " -1.1148211134260861,\n",
       " 1.1158625380820437)"
      ]
     },
     "execution_count": 43,
     "metadata": {},
     "output_type": "execute_result"
    },
    {
     "data": {
      "image/png": "[encoded data removed]",
      "text/plain": [
       "<Figure size 432x288 with 1 Axes>"
      ]
     },
     "metadata": {},
     "output_type": "display_data"
    }
   ],
   "source": [
    "fig, ax = plt.subplots()\n",
    "ax.pie(platform_jp.jp_sales, labels=platform_jp.platform, autopct='%1.1f%%')\n",
    "ax.axis(\"equal\")"
   ]
  },
  {
   "cell_type": "markdown",
   "metadata": {},
   "source": [
    "В Японии игроки предпочитают портативные приставки Nintendo 3DS, PS4 занимает 2 место по количеству продаж, а 3 место PSV. \n",
    "\n",
    "Таким образом можно сделать вывод, что в Северной Америке и Европе пользователи предпочитают Play Staion (3 и 4) и Xbox, а японцы чаще используют портативные приставки. Во всех регионах в первой тройке находится PS4."
   ]
  },
  {
   "cell_type": "markdown",
   "metadata": {},
   "source": [
    "Проведем анализ по самым популярным жанрам в разрезе регионов."
   ]
  },
  {
   "cell_type": "code",
   "execution_count": 44,
   "metadata": {},
   "outputs": [
    {
     "data": {
      "text/html": [
       "<div>\n",
       "<style scoped>\n",
       "    .dataframe tbody tr th:only-of-type {\n",
       "        vertical-align: middle;\n",
       "    }\n",
       "\n",
       "    .dataframe tbody tr th {\n",
       "        vertical-align: top;\n",
       "    }\n",
       "\n",
       "    .dataframe thead th {\n",
       "        text-align: right;\n",
       "    }\n",
       "</style>\n",
       "<table border=\"1\" class=\"dataframe\">\n",
       "  <thead>\n",
       "    <tr style=\"text-align: right;\">\n",
       "      <th></th>\n",
       "      <th>genre</th>\n",
       "      <th>na_sales</th>\n",
       "    </tr>\n",
       "  </thead>\n",
       "  <tbody>\n",
       "    <tr>\n",
       "      <th>0</th>\n",
       "      <td>Shooter</td>\n",
       "      <td>79.02</td>\n",
       "    </tr>\n",
       "    <tr>\n",
       "      <th>1</th>\n",
       "      <td>Action</td>\n",
       "      <td>72.53</td>\n",
       "    </tr>\n",
       "    <tr>\n",
       "      <th>2</th>\n",
       "      <td>Sports</td>\n",
       "      <td>46.13</td>\n",
       "    </tr>\n",
       "    <tr>\n",
       "      <th>3</th>\n",
       "      <td>Role-Playing</td>\n",
       "      <td>33.47</td>\n",
       "    </tr>\n",
       "    <tr>\n",
       "      <th>4</th>\n",
       "      <td>Misc</td>\n",
       "      <td>15.05</td>\n",
       "    </tr>\n",
       "  </tbody>\n",
       "</table>\n",
       "</div>"
      ],
      "text/plain": [
       "          genre  na_sales\n",
       "0       Shooter     79.02\n",
       "1        Action     72.53\n",
       "2        Sports     46.13\n",
       "3  Role-Playing     33.47\n",
       "4          Misc     15.05"
      ]
     },
     "execution_count": 44,
     "metadata": {},
     "output_type": "execute_result"
    }
   ],
   "source": [
    "genre_na = (df_actual.groupby('genre')['na_sales'].sum().reset_index().sort_values(by = 'na_sales', ascending = False, ignore_index = True))[:5]\n",
    "genre_na"
   ]
  },
  {
   "cell_type": "code",
   "execution_count": 45,
   "metadata": {},
   "outputs": [
    {
     "data": {
      "text/plain": [
       "(-1.1114171478827368,\n",
       " 1.1005436784214555,\n",
       " -1.118722897591835,\n",
       " 1.1094256716895736)"
      ]
     },
     "execution_count": 45,
     "metadata": {},
     "output_type": "execute_result"
    },
    {
     "data": {
      "image/png": "[encoded data removed]",
      "text/plain": [
       "<Figure size 432x288 with 1 Axes>"
      ]
     },
     "metadata": {},
     "output_type": "display_data"
    }
   ],
   "source": [
    "fig, ax = plt.subplots()\n",
    "ax.pie(genre_na.na_sales, labels=genre_na.genre, autopct='%1.1f%%')\n",
    "ax.axis(\"equal\")"
   ]
  },
  {
   "cell_type": "markdown",
   "metadata": {},
   "source": [
    "Игроки Северной Америки предпочитают игры в жанрах shooter, action и sports."
   ]
  },
  {
   "cell_type": "code",
   "execution_count": 46,
   "metadata": {},
   "outputs": [
    {
     "data": {
      "text/html": [
       "<div>\n",
       "<style scoped>\n",
       "    .dataframe tbody tr th:only-of-type {\n",
       "        vertical-align: middle;\n",
       "    }\n",
       "\n",
       "    .dataframe tbody tr th {\n",
       "        vertical-align: top;\n",
       "    }\n",
       "\n",
       "    .dataframe thead th {\n",
       "        text-align: right;\n",
       "    }\n",
       "</style>\n",
       "<table border=\"1\" class=\"dataframe\">\n",
       "  <thead>\n",
       "    <tr style=\"text-align: right;\">\n",
       "      <th></th>\n",
       "      <th>genre</th>\n",
       "      <th>eu_sales</th>\n",
       "    </tr>\n",
       "  </thead>\n",
       "  <tbody>\n",
       "    <tr>\n",
       "      <th>0</th>\n",
       "      <td>Action</td>\n",
       "      <td>74.68</td>\n",
       "    </tr>\n",
       "    <tr>\n",
       "      <th>1</th>\n",
       "      <td>Shooter</td>\n",
       "      <td>65.52</td>\n",
       "    </tr>\n",
       "    <tr>\n",
       "      <th>2</th>\n",
       "      <td>Sports</td>\n",
       "      <td>45.73</td>\n",
       "    </tr>\n",
       "    <tr>\n",
       "      <th>3</th>\n",
       "      <td>Role-Playing</td>\n",
       "      <td>28.17</td>\n",
       "    </tr>\n",
       "    <tr>\n",
       "      <th>4</th>\n",
       "      <td>Racing</td>\n",
       "      <td>14.13</td>\n",
       "    </tr>\n",
       "  </tbody>\n",
       "</table>\n",
       "</div>"
      ],
      "text/plain": [
       "          genre  eu_sales\n",
       "0        Action     74.68\n",
       "1       Shooter     65.52\n",
       "2        Sports     45.73\n",
       "3  Role-Playing     28.17\n",
       "4        Racing     14.13"
      ]
     },
     "execution_count": 46,
     "metadata": {},
     "output_type": "execute_result"
    }
   ],
   "source": [
    "genre_eu = (df_actual.groupby('genre')['eu_sales'].sum().reset_index().sort_values(by = 'eu_sales', ascending = False, ignore_index = True))[:5]\n",
    "genre_eu"
   ]
  },
  {
   "cell_type": "code",
   "execution_count": 47,
   "metadata": {},
   "outputs": [
    {
     "data": {
      "text/plain": [
       "(-1.111283138633306,\n",
       " 1.1005373018621498,\n",
       " -1.1233475850885444,\n",
       " 1.1058798013028952)"
      ]
     },
     "execution_count": 47,
     "metadata": {},
     "output_type": "execute_result"
    },
    {
     "data": {
      "image/png": "[encoded data removed]",
      "text/plain": [
       "<Figure size 432x288 with 1 Axes>"
      ]
     },
     "metadata": {},
     "output_type": "display_data"
    }
   ],
   "source": [
    "fig, ax = plt.subplots()\n",
    "ax.pie(genre_eu.eu_sales, labels=genre_eu.genre, autopct='%1.1f%%')\n",
    "ax.axis(\"equal\")"
   ]
  },
  {
   "cell_type": "markdown",
   "metadata": {},
   "source": [
    "Топ-3 у европейцев почти такой же, как у американцев: action, shooter и sports."
   ]
  },
  {
   "cell_type": "code",
   "execution_count": 48,
   "metadata": {},
   "outputs": [
    {
     "data": {
      "text/html": [
       "<div>\n",
       "<style scoped>\n",
       "    .dataframe tbody tr th:only-of-type {\n",
       "        vertical-align: middle;\n",
       "    }\n",
       "\n",
       "    .dataframe tbody tr th {\n",
       "        vertical-align: top;\n",
       "    }\n",
       "\n",
       "    .dataframe thead th {\n",
       "        text-align: right;\n",
       "    }\n",
       "</style>\n",
       "<table border=\"1\" class=\"dataframe\">\n",
       "  <thead>\n",
       "    <tr style=\"text-align: right;\">\n",
       "      <th></th>\n",
       "      <th>genre</th>\n",
       "      <th>jp_sales</th>\n",
       "    </tr>\n",
       "  </thead>\n",
       "  <tbody>\n",
       "    <tr>\n",
       "      <th>0</th>\n",
       "      <td>Role-Playing</td>\n",
       "      <td>31.16</td>\n",
       "    </tr>\n",
       "    <tr>\n",
       "      <th>1</th>\n",
       "      <td>Action</td>\n",
       "      <td>29.58</td>\n",
       "    </tr>\n",
       "    <tr>\n",
       "      <th>2</th>\n",
       "      <td>Fighting</td>\n",
       "      <td>6.37</td>\n",
       "    </tr>\n",
       "    <tr>\n",
       "      <th>3</th>\n",
       "      <td>Misc</td>\n",
       "      <td>5.61</td>\n",
       "    </tr>\n",
       "    <tr>\n",
       "      <th>4</th>\n",
       "      <td>Shooter</td>\n",
       "      <td>4.87</td>\n",
       "    </tr>\n",
       "  </tbody>\n",
       "</table>\n",
       "</div>"
      ],
      "text/plain": [
       "          genre  jp_sales\n",
       "0  Role-Playing     31.16\n",
       "1        Action     29.58\n",
       "2      Fighting      6.37\n",
       "3          Misc      5.61\n",
       "4       Shooter      4.87"
      ]
     },
     "execution_count": 48,
     "metadata": {},
     "output_type": "execute_result"
    }
   ],
   "source": [
    "genre_jp = (df_actual.groupby('genre')['jp_sales'].sum().reset_index().sort_values(by = 'jp_sales', ascending = False, ignore_index = True))[:5]\n",
    "genre_jp"
   ]
  },
  {
   "cell_type": "code",
   "execution_count": 49,
   "metadata": {},
   "outputs": [
    {
     "data": {
      "text/plain": [
       "(-1.1039051368517823,\n",
       " 1.1001859588977039,\n",
       " -1.12184157908069,\n",
       " 1.1189497456487894)"
      ]
     },
     "execution_count": 49,
     "metadata": {},
     "output_type": "execute_result"
    },
    {
     "data": {
      "image/png": "[encoded data removed]",
      "text/plain": [
       "<Figure size 432x288 with 1 Axes>"
      ]
     },
     "metadata": {},
     "output_type": "display_data"
    }
   ],
   "source": [
    "fig, ax = plt.subplots()\n",
    "ax.pie(genre_jp.jp_sales, labels=genre_jp.genre, autopct='%1.1f%%')\n",
    "ax.axis(\"equal\")"
   ]
  },
  {
   "cell_type": "markdown",
   "metadata": {},
   "source": [
    "А вот предпочтения японцев отличаются от западных. На 1-ом месте игры в жанре role-playing, на 2-ом - action, на 3-ем fighting.  "
   ]
  },
  {
   "cell_type": "markdown",
   "metadata": {},
   "source": [
    "Выясним, влияет ли рейтинг ESRB на продажи в отдельном регионе."
   ]
  },
  {
   "cell_type": "code",
   "execution_count": 50,
   "metadata": {},
   "outputs": [
    {
     "data": {
      "text/plain": [
       "array(['E', 'No rating', 'M', 'T', 'E10+', 'K-A', 'AO', 'EC', 'RP'],\n",
       "      dtype=object)"
      ]
     },
     "execution_count": 50,
     "metadata": {},
     "output_type": "execute_result"
    }
   ],
   "source": [
    "df['rating'].unique()"
   ]
  },
  {
   "cell_type": "code",
   "execution_count": 51,
   "metadata": {},
   "outputs": [
    {
     "data": {
      "text/html": [
       "<div>\n",
       "<style scoped>\n",
       "    .dataframe tbody tr th:only-of-type {\n",
       "        vertical-align: middle;\n",
       "    }\n",
       "\n",
       "    .dataframe tbody tr th {\n",
       "        vertical-align: top;\n",
       "    }\n",
       "\n",
       "    .dataframe thead th {\n",
       "        text-align: right;\n",
       "    }\n",
       "</style>\n",
       "<table border=\"1\" class=\"dataframe\">\n",
       "  <thead>\n",
       "    <tr style=\"text-align: right;\">\n",
       "      <th></th>\n",
       "      <th>rating</th>\n",
       "      <th>na_sales</th>\n",
       "    </tr>\n",
       "  </thead>\n",
       "  <tbody>\n",
       "    <tr>\n",
       "      <th>0</th>\n",
       "      <td>M</td>\n",
       "      <td>96.42</td>\n",
       "    </tr>\n",
       "    <tr>\n",
       "      <th>1</th>\n",
       "      <td>No rating</td>\n",
       "      <td>64.72</td>\n",
       "    </tr>\n",
       "    <tr>\n",
       "      <th>2</th>\n",
       "      <td>E</td>\n",
       "      <td>50.74</td>\n",
       "    </tr>\n",
       "    <tr>\n",
       "      <th>3</th>\n",
       "      <td>T</td>\n",
       "      <td>38.95</td>\n",
       "    </tr>\n",
       "    <tr>\n",
       "      <th>4</th>\n",
       "      <td>E10+</td>\n",
       "      <td>33.23</td>\n",
       "    </tr>\n",
       "  </tbody>\n",
       "</table>\n",
       "</div>"
      ],
      "text/plain": [
       "      rating  na_sales\n",
       "0          M     96.42\n",
       "1  No rating     64.72\n",
       "2          E     50.74\n",
       "3          T     38.95\n",
       "4       E10+     33.23"
      ]
     },
     "execution_count": 51,
     "metadata": {},
     "output_type": "execute_result"
    }
   ],
   "source": [
    "rating_na = (df_actual.groupby('rating')['na_sales'].sum().reset_index().sort_values(by = 'na_sales', ascending = False, ignore_index = True))\n",
    "rating_na"
   ]
  },
  {
   "cell_type": "code",
   "execution_count": 52,
   "metadata": {},
   "outputs": [
    {
     "data": {
      "text/plain": [
       "(-1.1283663069137841, 1.101350800618678, -1.103787409086974, 1.10513196409271)"
      ]
     },
     "execution_count": 52,
     "metadata": {},
     "output_type": "execute_result"
    },
    {
     "data": {
      "image/png": "[encoded data removed]",
      "text/plain": [
       "<Figure size 432x288 with 1 Axes>"
      ]
     },
     "metadata": {},
     "output_type": "display_data"
    }
   ],
   "source": [
    "fig, ax = plt.subplots()\n",
    "ax.pie(rating_na.na_sales, labels=rating_na.rating, autopct='%1.1f%%')\n",
    "ax.axis(\"equal\")"
   ]
  },
  {
   "cell_type": "markdown",
   "metadata": {},
   "source": [
    "В Северной Америке самые продаваемые игры с пометкой \"Для взрослых\", на 2-ом месте игры без рейтинга, на 3-ем \"Для всех\", на 4-ом игры для подростков и на 5-ом \"Для всех от 10 лет и старше\"."
   ]
  },
  {
   "cell_type": "code",
   "execution_count": 53,
   "metadata": {},
   "outputs": [
    {
     "data": {
      "text/html": [
       "<div>\n",
       "<style scoped>\n",
       "    .dataframe tbody tr th:only-of-type {\n",
       "        vertical-align: middle;\n",
       "    }\n",
       "\n",
       "    .dataframe tbody tr th {\n",
       "        vertical-align: top;\n",
       "    }\n",
       "\n",
       "    .dataframe thead th {\n",
       "        text-align: right;\n",
       "    }\n",
       "</style>\n",
       "<table border=\"1\" class=\"dataframe\">\n",
       "  <thead>\n",
       "    <tr style=\"text-align: right;\">\n",
       "      <th></th>\n",
       "      <th>rating</th>\n",
       "      <th>eu_sales</th>\n",
       "    </tr>\n",
       "  </thead>\n",
       "  <tbody>\n",
       "    <tr>\n",
       "      <th>0</th>\n",
       "      <td>M</td>\n",
       "      <td>93.44</td>\n",
       "    </tr>\n",
       "    <tr>\n",
       "      <th>1</th>\n",
       "      <td>No rating</td>\n",
       "      <td>58.95</td>\n",
       "    </tr>\n",
       "    <tr>\n",
       "      <th>2</th>\n",
       "      <td>E</td>\n",
       "      <td>58.06</td>\n",
       "    </tr>\n",
       "    <tr>\n",
       "      <th>3</th>\n",
       "      <td>T</td>\n",
       "      <td>34.07</td>\n",
       "    </tr>\n",
       "    <tr>\n",
       "      <th>4</th>\n",
       "      <td>E10+</td>\n",
       "      <td>26.16</td>\n",
       "    </tr>\n",
       "  </tbody>\n",
       "</table>\n",
       "</div>"
      ],
      "text/plain": [
       "      rating  eu_sales\n",
       "0          M     93.44\n",
       "1  No rating     58.95\n",
       "2          E     58.06\n",
       "3          T     34.07\n",
       "4       E10+     26.16"
      ]
     },
     "execution_count": 53,
     "metadata": {},
     "output_type": "execute_result"
    }
   ],
   "source": [
    "rating_eu = (df_actual.groupby('rating')['eu_sales'].sum().reset_index().sort_values(by = 'eu_sales', ascending = False, ignore_index = True))\n",
    "rating_eu"
   ]
  },
  {
   "cell_type": "code",
   "execution_count": 54,
   "metadata": {},
   "outputs": [
    {
     "data": {
      "text/plain": [
       "(-1.1253999761309856,\n",
       " 1.1012095525106358,\n",
       " -1.1257196605888846,\n",
       " 1.11023780284261)"
      ]
     },
     "execution_count": 54,
     "metadata": {},
     "output_type": "execute_result"
    },
    {
     "data": {
      "image/png": "[encoded data removed]",
      "text/plain": [
       "<Figure size 432x288 with 1 Axes>"
      ]
     },
     "metadata": {},
     "output_type": "display_data"
    }
   ],
   "source": [
    "fig, ax = plt.subplots()\n",
    "ax.pie(rating_eu.eu_sales, labels=rating_eu.rating, autopct='%1.1f%%')\n",
    "ax.axis(\"equal\")"
   ]
  },
  {
   "cell_type": "markdown",
   "metadata": {},
   "source": [
    "В Европе ситуация аналогичная."
   ]
  },
  {
   "cell_type": "code",
   "execution_count": 55,
   "metadata": {},
   "outputs": [
    {
     "data": {
      "text/html": [
       "<div>\n",
       "<style scoped>\n",
       "    .dataframe tbody tr th:only-of-type {\n",
       "        vertical-align: middle;\n",
       "    }\n",
       "\n",
       "    .dataframe tbody tr th {\n",
       "        vertical-align: top;\n",
       "    }\n",
       "\n",
       "    .dataframe thead th {\n",
       "        text-align: right;\n",
       "    }\n",
       "</style>\n",
       "<table border=\"1\" class=\"dataframe\">\n",
       "  <thead>\n",
       "    <tr style=\"text-align: right;\">\n",
       "      <th></th>\n",
       "      <th>rating</th>\n",
       "      <th>jp_sales</th>\n",
       "    </tr>\n",
       "  </thead>\n",
       "  <tbody>\n",
       "    <tr>\n",
       "      <th>0</th>\n",
       "      <td>No rating</td>\n",
       "      <td>56.90</td>\n",
       "    </tr>\n",
       "    <tr>\n",
       "      <th>1</th>\n",
       "      <td>T</td>\n",
       "      <td>14.78</td>\n",
       "    </tr>\n",
       "    <tr>\n",
       "      <th>2</th>\n",
       "      <td>E</td>\n",
       "      <td>8.94</td>\n",
       "    </tr>\n",
       "    <tr>\n",
       "      <th>3</th>\n",
       "      <td>M</td>\n",
       "      <td>8.01</td>\n",
       "    </tr>\n",
       "    <tr>\n",
       "      <th>4</th>\n",
       "      <td>E10+</td>\n",
       "      <td>4.46</td>\n",
       "    </tr>\n",
       "  </tbody>\n",
       "</table>\n",
       "</div>"
      ],
      "text/plain": [
       "      rating  jp_sales\n",
       "0  No rating     56.90\n",
       "1          T     14.78\n",
       "2          E      8.94\n",
       "3          M      8.01\n",
       "4       E10+      4.46"
      ]
     },
     "execution_count": 55,
     "metadata": {},
     "output_type": "execute_result"
    }
   ],
   "source": [
    "rating_jp = (df_actual.groupby('rating')['jp_sales'].sum().reset_index().sort_values(by = 'jp_sales', ascending = False, ignore_index = True))\n",
    "rating_jp"
   ]
  },
  {
   "cell_type": "code",
   "execution_count": 56,
   "metadata": {},
   "outputs": [
    {
     "data": {
      "text/plain": [
       "(-1.1116079317916943,\n",
       " 1.1005527586567474,\n",
       " -1.1143367826702368,\n",
       " 1.1136973020209635)"
      ]
     },
     "execution_count": 56,
     "metadata": {},
     "output_type": "execute_result"
    },
    {
     "data": {
      "image/png": "[encoded data removed]",
      "text/plain": [
       "<Figure size 432x288 with 1 Axes>"
      ]
     },
     "metadata": {},
     "output_type": "display_data"
    }
   ],
   "source": [
    "fig, ax = plt.subplots()\n",
    "ax.pie(rating_jp.jp_sales, labels=rating_jp.rating, autopct='%1.1f%%')\n",
    "ax.axis(\"equal\")"
   ]
  },
  {
   "cell_type": "markdown",
   "metadata": {},
   "source": [
    "В Японии с существенной долей в 61,1% 1-ое место занимают игры без рейтинга. Затем в порядке убывания долей идут игры для подростков, категории \"Для всех\", \"Для взрослых\", \"Для всех от 10 лет и старше\". Данную особенность можно объяснить тем, что ESRB является североамериканской организацией и части игр, выпущенных на азиатском рынке мог быть не присвоен ее рейтинг. В Японии действует собственная организация CERO."
   ]
  },
  {
   "cell_type": "markdown",
   "metadata": {},
   "source": [
    "## Проверка гипотез"
   ]
  },
  {
   "cell_type": "markdown",
   "metadata": {},
   "source": [
    "### Сравнение средних пользовательских рейтингов платформ Xbox One и PC"
   ]
  },
  {
   "cell_type": "markdown",
   "metadata": {},
   "source": [
    "Сравним средние пользовательские рейтинги Xbox и персональных компьютеров.\n",
    "\n",
    "* Н0: Средние пользовательские рейтинги платформ Xbox One и PC одинаковые;\n",
    "* Н1: Средние пользовательские рейтинги платформ Xbox One и PC различаются.\n",
    "\n",
    "Для оценки выберем alpha = 0.05, так как это наиболее часто используемое пороговое значение."
   ]
  },
  {
   "cell_type": "code",
   "execution_count": 57,
   "metadata": {},
   "outputs": [],
   "source": [
    "xbox_user_score = df_actual.query('platform == \"XOne\"')\n",
    "pc_user_rating = df_actual.query('platform == \"PC\"')"
   ]
  },
  {
   "cell_type": "code",
   "execution_count": 58,
   "metadata": {},
   "outputs": [
    {
     "name": "stdout",
     "output_type": "stream",
     "text": [
      "p-значение: nan\n",
      "Не получилось отвергнуть нулевую гипотезу\n"
     ]
    }
   ],
   "source": [
    "alpha = 0.05\n",
    "results = scipy.stats.ttest_ind(xbox_user_score['user_score'], pc_user_rating['user_score'], equal_var = False)\n",
    "print('p-значение:', results.pvalue)\n",
    " \n",
    "if results.pvalue < alpha:\n",
    "    print(\"Отвергаем нулевую гипотезу\")\n",
    "else:\n",
    "    print(\"Не получилось отвергнуть нулевую гипотезу\")\n"
   ]
  },
  {
   "cell_type": "markdown",
   "metadata": {},
   "source": [
    "Можем сделать вывод, что средние оценки игр для Xbox и персональных компьютеров одинаковые."
   ]
  },
  {
   "cell_type": "markdown",
   "metadata": {},
   "source": [
    "###  Сравнение средних пользовательских рейтингов жанров Action и Sports "
   ]
  },
  {
   "cell_type": "markdown",
   "metadata": {},
   "source": [
    "Сформулируем гипотезы:\n",
    "\n",
    "* Н0: Средние пользовательские рейтинги жанров Action и Sports равны;\n",
    "* Н1: Средние пользовательские рейтинги жанров Action и Sports отличаются.\n",
    "\n",
    "Значение alpha оставим прежним."
   ]
  },
  {
   "cell_type": "code",
   "execution_count": 59,
   "metadata": {},
   "outputs": [],
   "source": [
    "action_user_score = df_actual.query('genre == \"Action\"')\n",
    "sports_user_rating = df_actual.query('genre == \"Sports\"')"
   ]
  },
  {
   "cell_type": "code",
   "execution_count": 60,
   "metadata": {},
   "outputs": [
    {
     "name": "stdout",
     "output_type": "stream",
     "text": [
      "p-значение: nan\n",
      "Не получилось отвергнуть нулевую гипотезу\n"
     ]
    }
   ],
   "source": [
    "alpha = 0.05\n",
    "results = scipy.stats.ttest_ind(action_user_score['user_score'], sports_user_rating['user_score'], equal_var = False)\n",
    "print('p-значение:', results.pvalue)\n",
    " \n",
    "if results.pvalue < alpha:\n",
    "    print(\"Отвергаем нулевую гипотезу\")\n",
    "else:\n",
    "    print(\"Не получилось отвергнуть нулевую гипотезу\")\n"
   ]
  },
  {
   "cell_type": "markdown",
   "metadata": {},
   "source": [
    "Проверка показала, что средние оценки не равны. Посчитаем средние оценки пользователей для этих жанров."
   ]
  },
  {
   "cell_type": "code",
   "execution_count": 61,
   "metadata": {},
   "outputs": [
    {
     "data": {
      "text/plain": [
       "6.760606060606054"
      ]
     },
     "execution_count": 61,
     "metadata": {},
     "output_type": "execute_result"
    }
   ],
   "source": [
    "action_user_score['user_score'].mean()"
   ]
  },
  {
   "cell_type": "code",
   "execution_count": 62,
   "metadata": {},
   "outputs": [
    {
     "data": {
      "text/plain": [
       "5.225196850393697"
      ]
     },
     "execution_count": 62,
     "metadata": {},
     "output_type": "execute_result"
    }
   ],
   "source": [
    "sports_user_rating['user_score'].mean()"
   ]
  },
  {
   "cell_type": "markdown",
   "metadata": {},
   "source": [
    "Средняя оценка у экшенов выше, чем у спортивных игр."
   ]
  },
  {
   "cell_type": "markdown",
   "metadata": {},
   "source": [
    "## Общий вывод"
   ]
  },
  {
   "cell_type": "markdown",
   "metadata": {},
   "source": [
    "Для планирования рекламной кампании в 2017 г. интернет-магазина \"Стримчик\" были изучены данные по продажам и рейтингам видеоигр, начиная с 1980 по 2016 г. Для проведения анализа была проведена предобработка данных. Названия всех столбцов приведены к нижнему регистру. В 2 столбцах изменены типы данных: на целочисленные в столбце с годом, и вещественные в столбце с рейтингом пользователей. В 6 столбцах из 11 были обнаружены пропуски. В части столбцов они были удалены, в столбце rating заменены на 'no rating', а в части оставлены, так как не существует способа их корректного заполнения.\n",
    "\n",
    "В результате были получены следующие выводы:\n",
    "1. Были представлены данные с 1980 г., но с 1994 года начался резкий рост выпуска количества игр, поэтому этот период более интересен для анализа. \n",
    "2. За весь период самые популярные платформы: GB, NES, GEN, SNES и PS4.\n",
    "3. Средний цикл жизни платформы 10-11 лет. Продажи в целом нормально распределены. Платформа PS4 новая и уже вошла в топ-5 по продажам, что делает ее перспективной.\n",
    "4. Поскольку рынок видеоигр очень динамичный, для адекватного прогнозирования 2017 года, за актуальный период был взят 2014-2016 гг.\n",
    "5. У всех  платформ в 2016 году наблюдался спад, что, возможно, связано с тем, что данные за 2016 г. были загружены не полностью. Исходя их графика (большой объем продаж и их рост), самыми потенциально прибыльными платформами являются Play Station 4 (PS4) и Xbox One (XOne).\n",
    "6. Наибольшие продажи у платформ PS4, Xone и Wii (но ее жизненный цикл закончился). Медианные значения количества продаж у этих трех платформ примерно одинаковы.\n",
    "7. Анализ показал слабую взаимосвязь между оценками критиков и продажами видеоигр. А также отсутствие связи между оценками пользователей и продажами видеоигр.\n",
    "8. Самые высокие медианные продажи у игр в жанрах шутеры ('стрелялки'), спортивные игры и платформеры. Самые низкие продажи у пазлов, стратегий и приключений.\n",
    "9. В Северной Америке и Европе пользователи предпочитают Play Staion (3 и 4) и Xbox, а японцы чаще используют портативные приставки (3DS и  PSV). Во всех регионах в первой тройке находится PS4.\n",
    "10. В Северной Америке и Европе самые продаваемые игры с пометкой \"Для взрослых\", на 2-ом месте игры без рейтинга, на 3-ем \"Для всех\", на 4-ом игры для подростков и на 5-ом \"Для всех от 10 лет и старше\".\n",
    "11. В Японии с существенной долей в 61,1% 1-ое место занимают игры без рейтинга. Затем в порядке убывания долей идут игры для подростков, категории \"Для всех\", \"Для взрослых\", \"Для всех от 10 лет и старше\". Данную особенность можно объяснить тем, что ESRB является североамериканской организацией и части игр, выпущенных на азиатском рынке мог быть не присвоен ее рейтинг. В Японии действует собственная организация CERO.\n",
    "12. Средние оценки игр для Xbox и персональных компьютеров одинаковые.\n",
    "13. Средняя оценка у экшенов выше, чем у спортивных игр.\n",
    "Таким образом, можно сделать вывод, что наиболее перспективными являются патформы PS4 и Xbox, а самые популярные игры в жанрах shooter, action и platformer."
   ]
  }
 ],
 "metadata": {
  "ExecuteTimeLog": [
   {
    "duration": 383,
    "start_time": "2022-06-14T04:45:34.499Z"
   },
   {
    "duration": 108,
    "start_time": "2022-06-14T04:46:16.391Z"
   },
   {
    "duration": 62,
    "start_time": "2022-06-14T04:46:25.116Z"
   },
   {
    "duration": 17,
    "start_time": "2022-06-14T04:46:34.606Z"
   },
   {
    "duration": 4,
    "start_time": "2022-06-14T04:55:01.665Z"
   },
   {
    "duration": 65,
    "start_time": "2022-06-14T04:55:02.306Z"
   },
   {
    "duration": 16,
    "start_time": "2022-06-14T04:55:04.446Z"
   },
   {
    "duration": 4,
    "start_time": "2022-06-14T05:45:27.562Z"
   },
   {
    "duration": 20,
    "start_time": "2022-06-14T05:45:37.923Z"
   },
   {
    "duration": 66,
    "start_time": "2022-06-14T05:51:34.122Z"
   },
   {
    "duration": 11,
    "start_time": "2022-06-14T05:54:11.976Z"
   },
   {
    "duration": 10,
    "start_time": "2022-06-14T05:54:30.428Z"
   },
   {
    "duration": 22,
    "start_time": "2022-06-14T05:55:02.035Z"
   },
   {
    "duration": 408,
    "start_time": "2022-06-14T07:30:43.743Z"
   },
   {
    "duration": 120,
    "start_time": "2022-06-14T07:30:44.732Z"
   },
   {
    "duration": 23,
    "start_time": "2022-06-14T07:30:46.006Z"
   },
   {
    "duration": 4,
    "start_time": "2022-06-14T07:30:48.272Z"
   },
   {
    "duration": 14,
    "start_time": "2022-06-14T07:30:48.884Z"
   },
   {
    "duration": 75,
    "start_time": "2022-06-14T07:30:50.109Z"
   },
   {
    "duration": 4,
    "start_time": "2022-06-14T07:32:01.742Z"
   },
   {
    "duration": 9,
    "start_time": "2022-06-14T07:32:32.403Z"
   },
   {
    "duration": 6,
    "start_time": "2022-06-14T07:32:44.726Z"
   },
   {
    "duration": 8,
    "start_time": "2022-06-14T07:34:45.524Z"
   },
   {
    "duration": 15,
    "start_time": "2022-06-14T07:36:05.237Z"
   },
   {
    "duration": 11,
    "start_time": "2022-06-14T07:37:22.526Z"
   },
   {
    "duration": 435,
    "start_time": "2022-06-14T07:40:01.749Z"
   },
   {
    "duration": 8,
    "start_time": "2022-06-14T07:40:34.902Z"
   },
   {
    "duration": 5,
    "start_time": "2022-06-14T07:40:45.471Z"
   },
   {
    "duration": 14,
    "start_time": "2022-06-14T07:41:49.010Z"
   },
   {
    "duration": 11,
    "start_time": "2022-06-14T07:42:24.300Z"
   },
   {
    "duration": 7,
    "start_time": "2022-06-14T07:42:42.170Z"
   },
   {
    "duration": 7,
    "start_time": "2022-06-14T07:42:54.980Z"
   },
   {
    "duration": 5,
    "start_time": "2022-06-14T07:44:15.090Z"
   },
   {
    "duration": 6,
    "start_time": "2022-06-14T07:44:16.220Z"
   },
   {
    "duration": 4,
    "start_time": "2022-06-14T07:44:29.437Z"
   },
   {
    "duration": 4,
    "start_time": "2022-06-14T07:51:35.379Z"
   },
   {
    "duration": 6,
    "start_time": "2022-06-14T07:51:35.965Z"
   },
   {
    "duration": 6,
    "start_time": "2022-06-14T07:53:03.786Z"
   },
   {
    "duration": 22,
    "start_time": "2022-06-14T08:09:28.303Z"
   },
   {
    "duration": 16,
    "start_time": "2022-06-14T08:09:39.418Z"
   },
   {
    "duration": 8,
    "start_time": "2022-06-14T08:22:25.868Z"
   },
   {
    "duration": 15,
    "start_time": "2022-06-14T08:22:39.380Z"
   },
   {
    "duration": 16,
    "start_time": "2022-06-14T08:24:17.026Z"
   },
   {
    "duration": 5,
    "start_time": "2022-06-14T08:24:17.539Z"
   },
   {
    "duration": 476,
    "start_time": "2022-06-14T08:24:57.160Z"
   },
   {
    "duration": 0,
    "start_time": "2022-06-14T08:24:57.639Z"
   },
   {
    "duration": 0,
    "start_time": "2022-06-14T08:24:57.641Z"
   },
   {
    "duration": 0,
    "start_time": "2022-06-14T08:24:57.642Z"
   },
   {
    "duration": 0,
    "start_time": "2022-06-14T08:24:57.652Z"
   },
   {
    "duration": 0,
    "start_time": "2022-06-14T08:24:57.653Z"
   },
   {
    "duration": 0,
    "start_time": "2022-06-14T08:24:57.654Z"
   },
   {
    "duration": 0,
    "start_time": "2022-06-14T08:24:57.656Z"
   },
   {
    "duration": 0,
    "start_time": "2022-06-14T08:24:57.657Z"
   },
   {
    "duration": 320,
    "start_time": "2022-06-14T08:25:11.928Z"
   },
   {
    "duration": 65,
    "start_time": "2022-06-14T08:25:14.625Z"
   },
   {
    "duration": 27,
    "start_time": "2022-06-14T08:25:15.486Z"
   },
   {
    "duration": 3,
    "start_time": "2022-06-14T08:25:17.657Z"
   },
   {
    "duration": 14,
    "start_time": "2022-06-14T08:25:18.535Z"
   },
   {
    "duration": 4,
    "start_time": "2022-06-14T08:25:20.097Z"
   },
   {
    "duration": 17,
    "start_time": "2022-06-14T08:25:22.195Z"
   },
   {
    "duration": 17,
    "start_time": "2022-06-14T08:25:24.751Z"
   },
   {
    "duration": 7,
    "start_time": "2022-06-14T08:25:25.248Z"
   },
   {
    "duration": 22,
    "start_time": "2022-06-14T08:27:48.902Z"
   },
   {
    "duration": 8,
    "start_time": "2022-06-14T08:27:54.971Z"
   },
   {
    "duration": 7,
    "start_time": "2022-06-14T08:30:07.051Z"
   },
   {
    "duration": 9,
    "start_time": "2022-06-14T08:30:08.141Z"
   },
   {
    "duration": 532,
    "start_time": "2022-06-14T08:30:25.502Z"
   },
   {
    "duration": 62,
    "start_time": "2022-06-14T08:30:26.036Z"
   },
   {
    "duration": 20,
    "start_time": "2022-06-14T08:30:26.099Z"
   },
   {
    "duration": 11,
    "start_time": "2022-06-14T08:30:26.122Z"
   },
   {
    "duration": 17,
    "start_time": "2022-06-14T08:30:26.134Z"
   },
   {
    "duration": 9,
    "start_time": "2022-06-14T08:30:26.153Z"
   },
   {
    "duration": 23,
    "start_time": "2022-06-14T08:30:26.163Z"
   },
   {
    "duration": 85,
    "start_time": "2022-06-14T08:30:26.188Z"
   },
   {
    "duration": 0,
    "start_time": "2022-06-14T08:30:26.275Z"
   },
   {
    "duration": 2,
    "start_time": "2022-06-14T08:30:34.174Z"
   },
   {
    "duration": 58,
    "start_time": "2022-06-14T08:30:35.461Z"
   },
   {
    "duration": 15,
    "start_time": "2022-06-14T08:30:35.920Z"
   },
   {
    "duration": 6,
    "start_time": "2022-06-14T08:30:37.131Z"
   },
   {
    "duration": 13,
    "start_time": "2022-06-14T08:30:37.343Z"
   },
   {
    "duration": 3,
    "start_time": "2022-06-14T08:30:38.433Z"
   },
   {
    "duration": 15,
    "start_time": "2022-06-14T08:30:38.863Z"
   },
   {
    "duration": 11,
    "start_time": "2022-06-14T08:30:40.384Z"
   },
   {
    "duration": 7,
    "start_time": "2022-06-14T08:30:41.183Z"
   },
   {
    "duration": 8,
    "start_time": "2022-06-14T08:30:56.025Z"
   },
   {
    "duration": 525,
    "start_time": "2022-06-14T08:31:14.212Z"
   },
   {
    "duration": 60,
    "start_time": "2022-06-14T08:31:14.739Z"
   },
   {
    "duration": 18,
    "start_time": "2022-06-14T08:31:14.801Z"
   },
   {
    "duration": 26,
    "start_time": "2022-06-14T08:31:14.821Z"
   },
   {
    "duration": 27,
    "start_time": "2022-06-14T08:31:14.849Z"
   },
   {
    "duration": 10,
    "start_time": "2022-06-14T08:31:14.877Z"
   },
   {
    "duration": 30,
    "start_time": "2022-06-14T08:31:14.888Z"
   },
   {
    "duration": 24,
    "start_time": "2022-06-14T08:31:14.920Z"
   },
   {
    "duration": 7,
    "start_time": "2022-06-14T08:31:14.946Z"
   },
   {
    "duration": 5,
    "start_time": "2022-06-14T08:33:41.120Z"
   },
   {
    "duration": 226,
    "start_time": "2022-06-14T08:35:27.478Z"
   },
   {
    "duration": 174,
    "start_time": "2022-06-14T09:02:58.821Z"
   },
   {
    "duration": 9,
    "start_time": "2022-06-14T09:03:44.016Z"
   },
   {
    "duration": 527,
    "start_time": "2022-06-14T09:06:51.029Z"
   },
   {
    "duration": 64,
    "start_time": "2022-06-14T09:06:51.744Z"
   },
   {
    "duration": 18,
    "start_time": "2022-06-14T09:06:52.168Z"
   },
   {
    "duration": 4,
    "start_time": "2022-06-14T09:06:53.134Z"
   },
   {
    "duration": 13,
    "start_time": "2022-06-14T09:06:53.291Z"
   },
   {
    "duration": 4,
    "start_time": "2022-06-14T09:06:54.005Z"
   },
   {
    "duration": 18,
    "start_time": "2022-06-14T09:06:54.363Z"
   },
   {
    "duration": 23,
    "start_time": "2022-06-14T09:06:55.194Z"
   },
   {
    "duration": 5,
    "start_time": "2022-06-14T09:06:55.430Z"
   },
   {
    "duration": 9,
    "start_time": "2022-06-14T09:06:56.108Z"
   },
   {
    "duration": 4,
    "start_time": "2022-06-14T09:06:56.348Z"
   },
   {
    "duration": 99,
    "start_time": "2022-06-14T09:07:53.530Z"
   },
   {
    "duration": 11,
    "start_time": "2022-06-14T09:15:36.556Z"
   },
   {
    "duration": 196,
    "start_time": "2022-06-14T09:15:50.410Z"
   },
   {
    "duration": 10,
    "start_time": "2022-06-14T09:17:34.230Z"
   },
   {
    "duration": 41,
    "start_time": "2022-06-14T09:17:42.891Z"
   },
   {
    "duration": 35,
    "start_time": "2022-06-14T09:18:44.496Z"
   },
   {
    "duration": 16,
    "start_time": "2022-06-14T09:18:58.526Z"
   },
   {
    "duration": 27,
    "start_time": "2022-06-14T09:19:32.369Z"
   },
   {
    "duration": 21,
    "start_time": "2022-06-14T09:19:56.392Z"
   },
   {
    "duration": 8,
    "start_time": "2022-06-14T09:20:17.254Z"
   },
   {
    "duration": 399,
    "start_time": "2022-06-14T09:20:36.049Z"
   },
   {
    "duration": 477,
    "start_time": "2022-06-14T09:21:16.440Z"
   },
   {
    "duration": 44,
    "start_time": "2022-06-15T03:47:13.231Z"
   },
   {
    "duration": 1283,
    "start_time": "2022-06-15T03:47:19.759Z"
   },
   {
    "duration": 115,
    "start_time": "2022-06-15T03:47:21.045Z"
   },
   {
    "duration": 20,
    "start_time": "2022-06-15T03:47:21.162Z"
   },
   {
    "duration": 3,
    "start_time": "2022-06-15T03:47:21.184Z"
   },
   {
    "duration": 23,
    "start_time": "2022-06-15T03:47:21.188Z"
   },
   {
    "duration": 10,
    "start_time": "2022-06-15T03:47:21.212Z"
   },
   {
    "duration": 19,
    "start_time": "2022-06-15T03:47:21.224Z"
   },
   {
    "duration": 33,
    "start_time": "2022-06-15T03:47:21.245Z"
   },
   {
    "duration": 5,
    "start_time": "2022-06-15T03:47:21.280Z"
   },
   {
    "duration": 13,
    "start_time": "2022-06-15T03:47:21.287Z"
   },
   {
    "duration": 19,
    "start_time": "2022-06-15T03:47:21.301Z"
   },
   {
    "duration": 131,
    "start_time": "2022-06-15T03:47:21.321Z"
   },
   {
    "duration": 14,
    "start_time": "2022-06-15T03:47:29.201Z"
   },
   {
    "duration": 14,
    "start_time": "2022-06-15T03:48:06.446Z"
   },
   {
    "duration": 15,
    "start_time": "2022-06-15T03:49:51.335Z"
   },
   {
    "duration": 3,
    "start_time": "2022-06-15T03:49:57.130Z"
   },
   {
    "duration": 60,
    "start_time": "2022-06-15T03:49:58.288Z"
   },
   {
    "duration": 21,
    "start_time": "2022-06-15T03:50:08.940Z"
   },
   {
    "duration": 3,
    "start_time": "2022-06-15T03:50:12.069Z"
   },
   {
    "duration": 13,
    "start_time": "2022-06-15T03:50:12.719Z"
   },
   {
    "duration": 4,
    "start_time": "2022-06-15T03:50:14.833Z"
   },
   {
    "duration": 17,
    "start_time": "2022-06-15T03:50:16.032Z"
   },
   {
    "duration": 18,
    "start_time": "2022-06-15T03:50:18.582Z"
   },
   {
    "duration": 16,
    "start_time": "2022-06-15T03:50:50.460Z"
   },
   {
    "duration": 11,
    "start_time": "2022-06-15T03:51:06.694Z"
   },
   {
    "duration": 5,
    "start_time": "2022-06-15T03:51:08.808Z"
   },
   {
    "duration": 12,
    "start_time": "2022-06-15T03:51:15.171Z"
   },
   {
    "duration": 3,
    "start_time": "2022-06-15T03:51:25.777Z"
   },
   {
    "duration": 61,
    "start_time": "2022-06-15T03:51:28.372Z"
   },
   {
    "duration": 16,
    "start_time": "2022-06-15T03:51:48.062Z"
   },
   {
    "duration": 15,
    "start_time": "2022-06-15T03:52:46.697Z"
   },
   {
    "duration": 10,
    "start_time": "2022-06-15T03:53:03.307Z"
   },
   {
    "duration": 368,
    "start_time": "2022-06-15T03:53:04.430Z"
   },
   {
    "duration": 3,
    "start_time": "2022-06-15T03:53:29.223Z"
   },
   {
    "duration": 59,
    "start_time": "2022-06-15T03:53:30.343Z"
   },
   {
    "duration": 20,
    "start_time": "2022-06-15T03:53:33.045Z"
   },
   {
    "duration": 3,
    "start_time": "2022-06-15T03:53:37.105Z"
   },
   {
    "duration": 13,
    "start_time": "2022-06-15T03:53:37.903Z"
   },
   {
    "duration": 4,
    "start_time": "2022-06-15T03:53:40.711Z"
   },
   {
    "duration": 15,
    "start_time": "2022-06-15T03:53:42.120Z"
   },
   {
    "duration": 12,
    "start_time": "2022-06-15T03:53:43.289Z"
   },
   {
    "duration": 6,
    "start_time": "2022-06-15T03:56:02.119Z"
   },
   {
    "duration": 12,
    "start_time": "2022-06-15T03:56:03.391Z"
   },
   {
    "duration": 16,
    "start_time": "2022-06-15T03:56:09.999Z"
   },
   {
    "duration": 1041,
    "start_time": "2022-06-15T03:56:33.627Z"
   },
   {
    "duration": 64,
    "start_time": "2022-06-15T03:56:34.670Z"
   },
   {
    "duration": 17,
    "start_time": "2022-06-15T03:56:34.735Z"
   },
   {
    "duration": 13,
    "start_time": "2022-06-15T03:56:34.754Z"
   },
   {
    "duration": 15,
    "start_time": "2022-06-15T03:56:34.768Z"
   },
   {
    "duration": 9,
    "start_time": "2022-06-15T03:56:34.785Z"
   },
   {
    "duration": 9,
    "start_time": "2022-06-15T03:56:34.796Z"
   },
   {
    "duration": 17,
    "start_time": "2022-06-15T03:56:34.807Z"
   },
   {
    "duration": 16,
    "start_time": "2022-06-15T03:56:34.825Z"
   },
   {
    "duration": 4,
    "start_time": "2022-06-15T03:56:34.843Z"
   },
   {
    "duration": 19,
    "start_time": "2022-06-15T03:56:34.848Z"
   },
   {
    "duration": 18,
    "start_time": "2022-06-15T03:56:34.869Z"
   },
   {
    "duration": 125,
    "start_time": "2022-06-15T03:56:34.889Z"
   },
   {
    "duration": 3,
    "start_time": "2022-06-15T03:56:46.717Z"
   },
   {
    "duration": 60,
    "start_time": "2022-06-15T03:56:47.574Z"
   },
   {
    "duration": 15,
    "start_time": "2022-06-15T03:56:49.840Z"
   },
   {
    "duration": 3,
    "start_time": "2022-06-15T03:56:52.731Z"
   },
   {
    "duration": 17,
    "start_time": "2022-06-15T03:56:53.333Z"
   },
   {
    "duration": 4,
    "start_time": "2022-06-15T03:56:55.384Z"
   },
   {
    "duration": 6,
    "start_time": "2022-06-15T03:56:56.919Z"
   },
   {
    "duration": 12,
    "start_time": "2022-06-15T03:56:58.100Z"
   },
   {
    "duration": 16,
    "start_time": "2022-06-15T03:57:09.212Z"
   },
   {
    "duration": 11,
    "start_time": "2022-06-15T03:57:10.309Z"
   },
   {
    "duration": 9,
    "start_time": "2022-06-15T03:57:11.772Z"
   },
   {
    "duration": 16,
    "start_time": "2022-06-15T03:57:11.979Z"
   },
   {
    "duration": 14,
    "start_time": "2022-06-15T04:06:58.752Z"
   },
   {
    "duration": 20,
    "start_time": "2022-06-15T04:07:08.948Z"
   },
   {
    "duration": 16,
    "start_time": "2022-06-15T04:08:58.232Z"
   },
   {
    "duration": 15,
    "start_time": "2022-06-15T04:09:14.162Z"
   },
   {
    "duration": 8,
    "start_time": "2022-06-15T04:09:23.805Z"
   },
   {
    "duration": 21,
    "start_time": "2022-06-15T04:09:26.892Z"
   },
   {
    "duration": 15,
    "start_time": "2022-06-15T04:09:53.758Z"
   },
   {
    "duration": 8,
    "start_time": "2022-06-15T04:09:55.297Z"
   },
   {
    "duration": 26,
    "start_time": "2022-06-15T04:13:56.653Z"
   },
   {
    "duration": 10,
    "start_time": "2022-06-15T04:14:00.792Z"
   },
   {
    "duration": 10,
    "start_time": "2022-06-15T04:14:06.194Z"
   },
   {
    "duration": 11,
    "start_time": "2022-06-15T04:14:23.595Z"
   },
   {
    "duration": 169,
    "start_time": "2022-06-15T04:15:55.440Z"
   },
   {
    "duration": 11,
    "start_time": "2022-06-15T04:17:21.838Z"
   },
   {
    "duration": 411,
    "start_time": "2022-06-15T04:18:46.658Z"
   },
   {
    "duration": 312,
    "start_time": "2022-06-15T04:23:05.418Z"
   },
   {
    "duration": 118,
    "start_time": "2022-06-15T04:25:42.050Z"
   },
   {
    "duration": 1928,
    "start_time": "2022-06-15T04:26:44.106Z"
   },
   {
    "duration": 280,
    "start_time": "2022-06-15T04:28:57.673Z"
   },
   {
    "duration": 298,
    "start_time": "2022-06-15T04:29:07.351Z"
   },
   {
    "duration": 318,
    "start_time": "2022-06-15T04:29:33.524Z"
   },
   {
    "duration": 16,
    "start_time": "2022-06-15T04:34:28.410Z"
   },
   {
    "duration": 15,
    "start_time": "2022-06-15T04:35:15.144Z"
   },
   {
    "duration": 30,
    "start_time": "2022-06-15T04:41:59.271Z"
   },
   {
    "duration": 247,
    "start_time": "2022-06-15T04:42:12.084Z"
   },
   {
    "duration": 193,
    "start_time": "2022-06-15T04:44:06.874Z"
   },
   {
    "duration": 175,
    "start_time": "2022-06-15T04:44:30.850Z"
   },
   {
    "duration": 145,
    "start_time": "2022-06-15T04:45:09.710Z"
   },
   {
    "duration": 228,
    "start_time": "2022-06-15T04:45:33.996Z"
   },
   {
    "duration": 222,
    "start_time": "2022-06-15T04:45:57.390Z"
   },
   {
    "duration": 132,
    "start_time": "2022-06-15T04:46:23.931Z"
   },
   {
    "duration": 43,
    "start_time": "2022-06-15T04:49:20.565Z"
   },
   {
    "duration": 5,
    "start_time": "2022-06-15T04:49:29.540Z"
   },
   {
    "duration": 14,
    "start_time": "2022-06-15T04:49:47.236Z"
   },
   {
    "duration": 15,
    "start_time": "2022-06-15T04:49:58.868Z"
   },
   {
    "duration": 48,
    "start_time": "2022-06-15T06:29:14.724Z"
   },
   {
    "duration": 1237,
    "start_time": "2022-06-15T06:29:30.485Z"
   },
   {
    "duration": 128,
    "start_time": "2022-06-15T06:29:31.726Z"
   },
   {
    "duration": 28,
    "start_time": "2022-06-15T06:29:31.856Z"
   },
   {
    "duration": 3,
    "start_time": "2022-06-15T06:29:31.886Z"
   },
   {
    "duration": 26,
    "start_time": "2022-06-15T06:29:31.890Z"
   },
   {
    "duration": 14,
    "start_time": "2022-06-15T06:29:31.918Z"
   },
   {
    "duration": 14,
    "start_time": "2022-06-15T06:29:31.934Z"
   },
   {
    "duration": 22,
    "start_time": "2022-06-15T06:29:31.950Z"
   },
   {
    "duration": 27,
    "start_time": "2022-06-15T06:29:31.974Z"
   },
   {
    "duration": 26,
    "start_time": "2022-06-15T06:29:32.004Z"
   },
   {
    "duration": 18,
    "start_time": "2022-06-15T06:29:32.032Z"
   },
   {
    "duration": 416,
    "start_time": "2022-06-15T06:29:32.052Z"
   },
   {
    "duration": 14,
    "start_time": "2022-06-15T06:29:32.469Z"
   },
   {
    "duration": 213,
    "start_time": "2022-06-15T06:29:32.485Z"
   },
   {
    "duration": 190,
    "start_time": "2022-06-15T06:29:32.700Z"
   },
   {
    "duration": 165,
    "start_time": "2022-06-15T06:29:32.892Z"
   },
   {
    "duration": 173,
    "start_time": "2022-06-15T06:29:33.059Z"
   },
   {
    "duration": 157,
    "start_time": "2022-06-15T06:29:33.234Z"
   },
   {
    "duration": 4,
    "start_time": "2022-06-15T06:29:33.393Z"
   },
   {
    "duration": 27,
    "start_time": "2022-06-15T06:29:33.399Z"
   },
   {
    "duration": 27,
    "start_time": "2022-06-15T06:29:33.428Z"
   },
   {
    "duration": 26,
    "start_time": "2022-06-15T06:35:20.546Z"
   },
   {
    "duration": 223,
    "start_time": "2022-06-15T06:41:54.999Z"
   },
   {
    "duration": 143,
    "start_time": "2022-06-15T06:42:38.642Z"
   },
   {
    "duration": 4,
    "start_time": "2022-06-15T06:43:47.331Z"
   },
   {
    "duration": 431,
    "start_time": "2022-06-15T06:45:19.696Z"
   },
   {
    "duration": 1827,
    "start_time": "2022-06-15T06:48:34.108Z"
   },
   {
    "duration": 1802,
    "start_time": "2022-06-15T06:48:43.188Z"
   },
   {
    "duration": 469,
    "start_time": "2022-06-15T06:49:11.321Z"
   },
   {
    "duration": 293,
    "start_time": "2022-06-15T07:54:07.072Z"
   },
   {
    "duration": 3,
    "start_time": "2022-06-15T07:55:36.554Z"
   },
   {
    "duration": 1144,
    "start_time": "2022-06-15T07:55:45.043Z"
   },
   {
    "duration": 81,
    "start_time": "2022-06-15T07:55:46.189Z"
   },
   {
    "duration": 23,
    "start_time": "2022-06-15T07:55:46.272Z"
   },
   {
    "duration": 5,
    "start_time": "2022-06-15T07:55:46.297Z"
   },
   {
    "duration": 25,
    "start_time": "2022-06-15T07:55:46.304Z"
   },
   {
    "duration": 15,
    "start_time": "2022-06-15T07:55:46.331Z"
   },
   {
    "duration": 15,
    "start_time": "2022-06-15T07:55:46.348Z"
   },
   {
    "duration": 18,
    "start_time": "2022-06-15T07:55:46.364Z"
   },
   {
    "duration": 21,
    "start_time": "2022-06-15T07:55:46.384Z"
   },
   {
    "duration": 5,
    "start_time": "2022-06-15T07:55:46.407Z"
   },
   {
    "duration": 25,
    "start_time": "2022-06-15T07:55:46.413Z"
   },
   {
    "duration": 330,
    "start_time": "2022-06-15T07:55:46.440Z"
   },
   {
    "duration": 13,
    "start_time": "2022-06-15T07:55:46.772Z"
   },
   {
    "duration": 180,
    "start_time": "2022-06-15T07:55:46.787Z"
   },
   {
    "duration": 173,
    "start_time": "2022-06-15T07:55:46.969Z"
   },
   {
    "duration": 139,
    "start_time": "2022-06-15T07:55:47.143Z"
   },
   {
    "duration": 200,
    "start_time": "2022-06-15T07:55:47.285Z"
   },
   {
    "duration": 127,
    "start_time": "2022-06-15T07:55:47.487Z"
   },
   {
    "duration": 12,
    "start_time": "2022-06-15T07:55:47.615Z"
   },
   {
    "duration": 10,
    "start_time": "2022-06-15T07:55:47.628Z"
   },
   {
    "duration": 4,
    "start_time": "2022-06-15T07:55:47.639Z"
   },
   {
    "duration": 458,
    "start_time": "2022-06-15T07:55:47.644Z"
   },
   {
    "duration": 244,
    "start_time": "2022-06-15T07:55:48.104Z"
   },
   {
    "duration": 239,
    "start_time": "2022-06-15T07:57:50.774Z"
   },
   {
    "duration": 184,
    "start_time": "2022-06-15T07:58:13.501Z"
   },
   {
    "duration": 228,
    "start_time": "2022-06-15T07:58:35.316Z"
   },
   {
    "duration": 5,
    "start_time": "2022-06-15T08:02:20.948Z"
   },
   {
    "duration": 293,
    "start_time": "2022-06-15T08:02:34.589Z"
   },
   {
    "duration": 9,
    "start_time": "2022-06-15T08:17:10.105Z"
   },
   {
    "duration": 13,
    "start_time": "2022-06-15T08:20:15.139Z"
   },
   {
    "duration": 15,
    "start_time": "2022-06-15T08:26:29.868Z"
   },
   {
    "duration": 11,
    "start_time": "2022-06-15T08:26:47.023Z"
   },
   {
    "duration": 15,
    "start_time": "2022-06-15T08:26:48.042Z"
   },
   {
    "duration": 1074,
    "start_time": "2022-06-15T08:29:02.433Z"
   },
   {
    "duration": 78,
    "start_time": "2022-06-15T08:29:03.509Z"
   },
   {
    "duration": 18,
    "start_time": "2022-06-15T08:29:03.589Z"
   },
   {
    "duration": 19,
    "start_time": "2022-06-15T08:29:03.609Z"
   },
   {
    "duration": 43,
    "start_time": "2022-06-15T08:29:03.629Z"
   },
   {
    "duration": 22,
    "start_time": "2022-06-15T08:29:03.674Z"
   },
   {
    "duration": 19,
    "start_time": "2022-06-15T08:29:03.698Z"
   },
   {
    "duration": 43,
    "start_time": "2022-06-15T08:29:03.719Z"
   },
   {
    "duration": 27,
    "start_time": "2022-06-15T08:29:03.764Z"
   },
   {
    "duration": 19,
    "start_time": "2022-06-15T08:29:03.795Z"
   },
   {
    "duration": 121,
    "start_time": "2022-06-15T08:29:03.816Z"
   },
   {
    "duration": 0,
    "start_time": "2022-06-15T08:29:03.938Z"
   },
   {
    "duration": 0,
    "start_time": "2022-06-15T08:29:03.940Z"
   },
   {
    "duration": 0,
    "start_time": "2022-06-15T08:29:03.941Z"
   },
   {
    "duration": 0,
    "start_time": "2022-06-15T08:29:03.942Z"
   },
   {
    "duration": 0,
    "start_time": "2022-06-15T08:29:03.943Z"
   },
   {
    "duration": 0,
    "start_time": "2022-06-15T08:29:03.944Z"
   },
   {
    "duration": 0,
    "start_time": "2022-06-15T08:29:03.945Z"
   },
   {
    "duration": 0,
    "start_time": "2022-06-15T08:29:03.946Z"
   },
   {
    "duration": 0,
    "start_time": "2022-06-15T08:29:03.948Z"
   },
   {
    "duration": 0,
    "start_time": "2022-06-15T08:29:03.949Z"
   },
   {
    "duration": 0,
    "start_time": "2022-06-15T08:29:03.950Z"
   },
   {
    "duration": 0,
    "start_time": "2022-06-15T08:29:03.952Z"
   },
   {
    "duration": 0,
    "start_time": "2022-06-15T08:29:03.953Z"
   },
   {
    "duration": 0,
    "start_time": "2022-06-15T08:29:03.954Z"
   },
   {
    "duration": 13,
    "start_time": "2022-06-15T08:30:26.287Z"
   },
   {
    "duration": 5,
    "start_time": "2022-06-15T08:30:51.699Z"
   },
   {
    "duration": 13,
    "start_time": "2022-06-15T08:30:52.935Z"
   },
   {
    "duration": 6,
    "start_time": "2022-06-15T08:31:03.298Z"
   },
   {
    "duration": 4,
    "start_time": "2022-06-15T08:31:20.361Z"
   },
   {
    "duration": 17,
    "start_time": "2022-06-15T08:32:22.945Z"
   },
   {
    "duration": 6,
    "start_time": "2022-06-15T08:32:34.872Z"
   },
   {
    "duration": 18,
    "start_time": "2022-06-15T08:32:35.375Z"
   },
   {
    "duration": 25,
    "start_time": "2022-06-15T08:32:37.284Z"
   },
   {
    "duration": 6,
    "start_time": "2022-06-15T08:34:27.808Z"
   },
   {
    "duration": 16,
    "start_time": "2022-06-15T08:35:18.283Z"
   },
   {
    "duration": 1113,
    "start_time": "2022-06-15T08:41:20.991Z"
   },
   {
    "duration": 63,
    "start_time": "2022-06-15T08:41:22.106Z"
   },
   {
    "duration": 26,
    "start_time": "2022-06-15T08:41:22.171Z"
   },
   {
    "duration": 3,
    "start_time": "2022-06-15T08:41:22.199Z"
   },
   {
    "duration": 25,
    "start_time": "2022-06-15T08:41:22.203Z"
   },
   {
    "duration": 12,
    "start_time": "2022-06-15T08:41:22.229Z"
   },
   {
    "duration": 19,
    "start_time": "2022-06-15T08:41:22.242Z"
   },
   {
    "duration": 21,
    "start_time": "2022-06-15T08:41:22.263Z"
   },
   {
    "duration": 18,
    "start_time": "2022-06-15T08:41:22.286Z"
   },
   {
    "duration": 12,
    "start_time": "2022-06-15T08:41:22.307Z"
   },
   {
    "duration": 13,
    "start_time": "2022-06-15T08:41:22.321Z"
   },
   {
    "duration": 25,
    "start_time": "2022-06-15T08:41:22.336Z"
   },
   {
    "duration": 7,
    "start_time": "2022-06-15T08:41:22.362Z"
   },
   {
    "duration": 13,
    "start_time": "2022-06-15T08:41:22.371Z"
   },
   {
    "duration": 317,
    "start_time": "2022-06-15T08:41:22.386Z"
   },
   {
    "duration": 23,
    "start_time": "2022-06-15T08:41:22.705Z"
   },
   {
    "duration": 178,
    "start_time": "2022-06-15T08:41:22.730Z"
   },
   {
    "duration": 170,
    "start_time": "2022-06-15T08:41:22.910Z"
   },
   {
    "duration": 136,
    "start_time": "2022-06-15T08:41:23.081Z"
   },
   {
    "duration": 181,
    "start_time": "2022-06-15T08:41:23.227Z"
   },
   {
    "duration": 132,
    "start_time": "2022-06-15T08:41:23.409Z"
   },
   {
    "duration": 5,
    "start_time": "2022-06-15T08:41:23.542Z"
   },
   {
    "duration": 13,
    "start_time": "2022-06-15T08:41:23.548Z"
   },
   {
    "duration": 3,
    "start_time": "2022-06-15T08:41:23.563Z"
   },
   {
    "duration": 502,
    "start_time": "2022-06-15T08:41:23.568Z"
   },
   {
    "duration": 260,
    "start_time": "2022-06-15T08:41:24.072Z"
   },
   {
    "duration": 62,
    "start_time": "2022-06-16T07:02:04.104Z"
   },
   {
    "duration": 1349,
    "start_time": "2022-06-16T07:02:18.766Z"
   },
   {
    "duration": 160,
    "start_time": "2022-06-16T07:02:20.117Z"
   },
   {
    "duration": 18,
    "start_time": "2022-06-16T07:02:20.279Z"
   },
   {
    "duration": 3,
    "start_time": "2022-06-16T07:02:20.299Z"
   },
   {
    "duration": 27,
    "start_time": "2022-06-16T07:02:20.304Z"
   },
   {
    "duration": 43,
    "start_time": "2022-06-16T07:02:20.332Z"
   },
   {
    "duration": 10,
    "start_time": "2022-06-16T07:02:20.377Z"
   },
   {
    "duration": 19,
    "start_time": "2022-06-16T07:02:20.390Z"
   },
   {
    "duration": 20,
    "start_time": "2022-06-16T07:02:20.411Z"
   },
   {
    "duration": 49,
    "start_time": "2022-06-16T07:02:20.434Z"
   },
   {
    "duration": 13,
    "start_time": "2022-06-16T07:02:20.485Z"
   },
   {
    "duration": 39,
    "start_time": "2022-06-16T07:02:20.500Z"
   },
   {
    "duration": 29,
    "start_time": "2022-06-16T07:02:20.546Z"
   },
   {
    "duration": 30,
    "start_time": "2022-06-16T07:02:20.576Z"
   },
   {
    "duration": 393,
    "start_time": "2022-06-16T07:02:20.609Z"
   },
   {
    "duration": 14,
    "start_time": "2022-06-16T07:02:21.003Z"
   },
   {
    "duration": 254,
    "start_time": "2022-06-16T07:02:21.019Z"
   },
   {
    "duration": 208,
    "start_time": "2022-06-16T07:02:21.278Z"
   },
   {
    "duration": 165,
    "start_time": "2022-06-16T07:02:21.488Z"
   },
   {
    "duration": 201,
    "start_time": "2022-06-16T07:02:21.654Z"
   },
   {
    "duration": 146,
    "start_time": "2022-06-16T07:02:21.856Z"
   },
   {
    "duration": 4,
    "start_time": "2022-06-16T07:02:22.004Z"
   },
   {
    "duration": 30,
    "start_time": "2022-06-16T07:02:22.010Z"
   },
   {
    "duration": 34,
    "start_time": "2022-06-16T07:02:22.044Z"
   },
   {
    "duration": 528,
    "start_time": "2022-06-16T07:02:22.079Z"
   },
   {
    "duration": 336,
    "start_time": "2022-06-16T07:02:22.609Z"
   },
   {
    "duration": 13,
    "start_time": "2022-06-16T07:03:03.572Z"
   },
   {
    "duration": 119,
    "start_time": "2022-06-16T07:06:14.768Z"
   },
   {
    "duration": 12,
    "start_time": "2022-06-16T07:06:50.875Z"
   },
   {
    "duration": 29,
    "start_time": "2022-06-16T07:12:56.595Z"
   },
   {
    "duration": 40,
    "start_time": "2022-06-16T07:13:05.481Z"
   },
   {
    "duration": 27,
    "start_time": "2022-06-16T07:13:11.474Z"
   },
   {
    "duration": 38,
    "start_time": "2022-06-16T07:14:37.754Z"
   },
   {
    "duration": 1318,
    "start_time": "2022-06-16T07:15:20.585Z"
   },
   {
    "duration": 133,
    "start_time": "2022-06-16T07:15:21.911Z"
   },
   {
    "duration": 44,
    "start_time": "2022-06-16T07:15:22.051Z"
   },
   {
    "duration": 18,
    "start_time": "2022-06-16T07:15:22.097Z"
   },
   {
    "duration": 42,
    "start_time": "2022-06-16T07:15:22.119Z"
   },
   {
    "duration": 64,
    "start_time": "2022-06-16T07:15:22.170Z"
   },
   {
    "duration": 85,
    "start_time": "2022-06-16T07:15:22.245Z"
   },
   {
    "duration": 109,
    "start_time": "2022-06-16T07:15:22.334Z"
   },
   {
    "duration": 67,
    "start_time": "2022-06-16T07:15:22.446Z"
   },
   {
    "duration": 26,
    "start_time": "2022-06-16T07:15:22.518Z"
   },
   {
    "duration": 85,
    "start_time": "2022-06-16T07:15:22.554Z"
   },
   {
    "duration": 27,
    "start_time": "2022-06-16T07:15:22.642Z"
   },
   {
    "duration": 247,
    "start_time": "2022-06-16T07:15:22.679Z"
   },
   {
    "duration": 0,
    "start_time": "2022-06-16T07:15:22.934Z"
   },
   {
    "duration": 0,
    "start_time": "2022-06-16T07:15:22.936Z"
   },
   {
    "duration": 0,
    "start_time": "2022-06-16T07:15:22.937Z"
   },
   {
    "duration": 0,
    "start_time": "2022-06-16T07:15:22.938Z"
   },
   {
    "duration": 0,
    "start_time": "2022-06-16T07:15:22.940Z"
   },
   {
    "duration": 0,
    "start_time": "2022-06-16T07:15:22.941Z"
   },
   {
    "duration": 0,
    "start_time": "2022-06-16T07:15:22.942Z"
   },
   {
    "duration": 0,
    "start_time": "2022-06-16T07:15:22.944Z"
   },
   {
    "duration": 0,
    "start_time": "2022-06-16T07:15:22.945Z"
   },
   {
    "duration": 0,
    "start_time": "2022-06-16T07:15:22.946Z"
   },
   {
    "duration": 0,
    "start_time": "2022-06-16T07:15:22.947Z"
   },
   {
    "duration": 0,
    "start_time": "2022-06-16T07:15:22.948Z"
   },
   {
    "duration": 0,
    "start_time": "2022-06-16T07:15:22.954Z"
   },
   {
    "duration": 0,
    "start_time": "2022-06-16T07:15:22.955Z"
   },
   {
    "duration": 0,
    "start_time": "2022-06-16T07:15:22.957Z"
   },
   {
    "duration": 3,
    "start_time": "2022-06-16T07:15:32.712Z"
   },
   {
    "duration": 111,
    "start_time": "2022-06-16T07:15:33.796Z"
   },
   {
    "duration": 23,
    "start_time": "2022-06-16T07:15:35.090Z"
   },
   {
    "duration": 5,
    "start_time": "2022-06-16T07:15:38.293Z"
   },
   {
    "duration": 20,
    "start_time": "2022-06-16T07:15:38.930Z"
   },
   {
    "duration": 6,
    "start_time": "2022-06-16T07:15:42.587Z"
   },
   {
    "duration": 8,
    "start_time": "2022-06-16T07:15:45.094Z"
   },
   {
    "duration": 10,
    "start_time": "2022-06-16T07:15:57.598Z"
   },
   {
    "duration": 6,
    "start_time": "2022-06-16T07:16:55.982Z"
   },
   {
    "duration": 98,
    "start_time": "2022-06-16T07:16:57.471Z"
   },
   {
    "duration": 22,
    "start_time": "2022-06-16T07:17:00.428Z"
   },
   {
    "duration": 4,
    "start_time": "2022-06-16T07:17:03.809Z"
   },
   {
    "duration": 13,
    "start_time": "2022-06-16T07:17:04.601Z"
   },
   {
    "duration": 4,
    "start_time": "2022-06-16T07:17:14.221Z"
   },
   {
    "duration": 13,
    "start_time": "2022-06-16T07:17:16.120Z"
   },
   {
    "duration": 32,
    "start_time": "2022-06-16T07:17:17.321Z"
   },
   {
    "duration": 8,
    "start_time": "2022-06-16T07:17:49.212Z"
   },
   {
    "duration": 3,
    "start_time": "2022-06-16T07:20:21.095Z"
   },
   {
    "duration": 25,
    "start_time": "2022-06-16T07:20:47.291Z"
   },
   {
    "duration": 1405,
    "start_time": "2022-06-16T07:21:44.007Z"
   },
   {
    "duration": 136,
    "start_time": "2022-06-16T07:21:45.419Z"
   },
   {
    "duration": 84,
    "start_time": "2022-06-16T07:21:45.558Z"
   },
   {
    "duration": 78,
    "start_time": "2022-06-16T07:21:45.647Z"
   },
   {
    "duration": 86,
    "start_time": "2022-06-16T07:21:45.728Z"
   },
   {
    "duration": 7,
    "start_time": "2022-06-16T07:21:45.815Z"
   },
   {
    "duration": 42,
    "start_time": "2022-06-16T07:21:45.824Z"
   },
   {
    "duration": 53,
    "start_time": "2022-06-16T07:21:45.868Z"
   },
   {
    "duration": 72,
    "start_time": "2022-06-16T07:21:45.922Z"
   },
   {
    "duration": 73,
    "start_time": "2022-06-16T07:21:45.998Z"
   },
   {
    "duration": 84,
    "start_time": "2022-06-16T07:21:46.073Z"
   },
   {
    "duration": 30,
    "start_time": "2022-06-16T07:21:46.161Z"
   },
   {
    "duration": 53,
    "start_time": "2022-06-16T07:21:46.196Z"
   },
   {
    "duration": 42,
    "start_time": "2022-06-16T07:21:46.259Z"
   },
   {
    "duration": 191,
    "start_time": "2022-06-16T07:21:46.315Z"
   },
   {
    "duration": 0,
    "start_time": "2022-06-16T07:21:46.509Z"
   },
   {
    "duration": 0,
    "start_time": "2022-06-16T07:21:46.513Z"
   },
   {
    "duration": 0,
    "start_time": "2022-06-16T07:21:46.514Z"
   },
   {
    "duration": 0,
    "start_time": "2022-06-16T07:21:46.515Z"
   },
   {
    "duration": 0,
    "start_time": "2022-06-16T07:21:46.516Z"
   },
   {
    "duration": 0,
    "start_time": "2022-06-16T07:21:46.517Z"
   },
   {
    "duration": 0,
    "start_time": "2022-06-16T07:21:46.522Z"
   },
   {
    "duration": 0,
    "start_time": "2022-06-16T07:21:46.522Z"
   },
   {
    "duration": 0,
    "start_time": "2022-06-16T07:21:46.523Z"
   },
   {
    "duration": 0,
    "start_time": "2022-06-16T07:21:46.528Z"
   },
   {
    "duration": 0,
    "start_time": "2022-06-16T07:21:46.529Z"
   },
   {
    "duration": 0,
    "start_time": "2022-06-16T07:21:46.531Z"
   },
   {
    "duration": 0,
    "start_time": "2022-06-16T07:21:46.532Z"
   },
   {
    "duration": 0,
    "start_time": "2022-06-16T07:21:46.533Z"
   },
   {
    "duration": 0,
    "start_time": "2022-06-16T07:21:46.534Z"
   },
   {
    "duration": 15,
    "start_time": "2022-06-16T07:23:01.890Z"
   },
   {
    "duration": 5,
    "start_time": "2022-06-16T07:23:03.215Z"
   },
   {
    "duration": 6,
    "start_time": "2022-06-16T07:23:10.259Z"
   },
   {
    "duration": 119,
    "start_time": "2022-06-16T07:23:11.825Z"
   },
   {
    "duration": 23,
    "start_time": "2022-06-16T07:23:12.394Z"
   },
   {
    "duration": 8,
    "start_time": "2022-06-16T07:23:14.680Z"
   },
   {
    "duration": 18,
    "start_time": "2022-06-16T07:23:15.547Z"
   },
   {
    "duration": 10,
    "start_time": "2022-06-16T07:23:25.728Z"
   },
   {
    "duration": 10,
    "start_time": "2022-06-16T07:23:27.497Z"
   },
   {
    "duration": 10,
    "start_time": "2022-06-16T07:23:28.798Z"
   },
   {
    "duration": 5,
    "start_time": "2022-06-16T07:23:40.488Z"
   },
   {
    "duration": 8,
    "start_time": "2022-06-16T07:23:42.878Z"
   },
   {
    "duration": 15,
    "start_time": "2022-06-16T07:23:43.922Z"
   },
   {
    "duration": 35,
    "start_time": "2022-06-16T07:23:49.783Z"
   },
   {
    "duration": 4,
    "start_time": "2022-06-16T07:26:38.907Z"
   },
   {
    "duration": 12,
    "start_time": "2022-06-16T07:26:39.751Z"
   },
   {
    "duration": 23,
    "start_time": "2022-06-16T07:26:41.389Z"
   },
   {
    "duration": 7,
    "start_time": "2022-06-16T07:27:59.894Z"
   },
   {
    "duration": 10,
    "start_time": "2022-06-16T07:28:05.647Z"
   },
   {
    "duration": 27,
    "start_time": "2022-06-16T07:28:06.157Z"
   },
   {
    "duration": 28,
    "start_time": "2022-06-16T07:28:09.320Z"
   },
   {
    "duration": 3,
    "start_time": "2022-06-16T07:29:55.563Z"
   },
   {
    "duration": 92,
    "start_time": "2022-06-16T07:29:57.422Z"
   },
   {
    "duration": 42,
    "start_time": "2022-06-16T07:29:59.681Z"
   },
   {
    "duration": 10,
    "start_time": "2022-06-16T07:30:03.192Z"
   },
   {
    "duration": 31,
    "start_time": "2022-06-16T07:30:04.784Z"
   },
   {
    "duration": 13,
    "start_time": "2022-06-16T07:30:08.155Z"
   },
   {
    "duration": 5,
    "start_time": "2022-06-16T07:30:10.786Z"
   },
   {
    "duration": 8,
    "start_time": "2022-06-16T07:30:13.579Z"
   },
   {
    "duration": 26,
    "start_time": "2022-06-16T07:34:08.387Z"
   },
   {
    "duration": 4,
    "start_time": "2022-06-16T07:34:24.609Z"
   },
   {
    "duration": 6,
    "start_time": "2022-06-16T07:34:27.115Z"
   },
   {
    "duration": 7,
    "start_time": "2022-06-16T07:34:28.413Z"
   },
   {
    "duration": 22,
    "start_time": "2022-06-16T07:34:42.121Z"
   },
   {
    "duration": 11,
    "start_time": "2022-06-16T07:39:03.648Z"
   },
   {
    "duration": 7,
    "start_time": "2022-06-16T07:39:04.498Z"
   },
   {
    "duration": 36,
    "start_time": "2022-06-16T07:39:04.835Z"
   },
   {
    "duration": 34,
    "start_time": "2022-06-16T07:39:05.458Z"
   },
   {
    "duration": 8,
    "start_time": "2022-06-16T07:39:05.614Z"
   },
   {
    "duration": 25,
    "start_time": "2022-06-16T07:39:05.822Z"
   },
   {
    "duration": 8,
    "start_time": "2022-06-16T07:39:06.008Z"
   },
   {
    "duration": 18,
    "start_time": "2022-06-16T07:39:06.200Z"
   },
   {
    "duration": 29,
    "start_time": "2022-06-16T07:39:06.381Z"
   },
   {
    "duration": 16,
    "start_time": "2022-06-16T07:39:06.555Z"
   },
   {
    "duration": 22,
    "start_time": "2022-06-16T07:39:07.159Z"
   },
   {
    "duration": 6,
    "start_time": "2022-06-16T07:42:34.445Z"
   },
   {
    "duration": 95,
    "start_time": "2022-06-16T07:42:35.509Z"
   },
   {
    "duration": 58,
    "start_time": "2022-06-16T07:42:36.445Z"
   },
   {
    "duration": 3,
    "start_time": "2022-06-16T07:42:39.521Z"
   },
   {
    "duration": 36,
    "start_time": "2022-06-16T07:42:40.423Z"
   },
   {
    "duration": 9,
    "start_time": "2022-06-16T07:42:44.657Z"
   },
   {
    "duration": 12,
    "start_time": "2022-06-16T07:42:47.866Z"
   },
   {
    "duration": 14,
    "start_time": "2022-06-16T07:42:49.171Z"
   },
   {
    "duration": 23,
    "start_time": "2022-06-16T07:42:51.577Z"
   },
   {
    "duration": 5,
    "start_time": "2022-06-16T07:45:37.710Z"
   },
   {
    "duration": 8,
    "start_time": "2022-06-16T07:46:56.145Z"
   },
   {
    "duration": 23,
    "start_time": "2022-06-16T07:46:57.460Z"
   },
   {
    "duration": 6,
    "start_time": "2022-06-16T07:47:00.187Z"
   },
   {
    "duration": 10,
    "start_time": "2022-06-16T07:48:17.075Z"
   },
   {
    "duration": 5,
    "start_time": "2022-06-16T07:48:24.802Z"
   },
   {
    "duration": 5,
    "start_time": "2022-06-16T07:48:25.917Z"
   },
   {
    "duration": 5,
    "start_time": "2022-06-16T07:48:26.457Z"
   },
   {
    "duration": 7,
    "start_time": "2022-06-16T07:48:54.656Z"
   },
   {
    "duration": 9,
    "start_time": "2022-06-16T07:48:56.359Z"
   },
   {
    "duration": 8,
    "start_time": "2022-06-16T07:48:56.910Z"
   },
   {
    "duration": 6,
    "start_time": "2022-06-16T07:53:23.244Z"
   },
   {
    "duration": 6,
    "start_time": "2022-06-16T07:53:24.707Z"
   },
   {
    "duration": 8,
    "start_time": "2022-06-16T07:53:26.445Z"
   },
   {
    "duration": 25,
    "start_time": "2022-06-16T07:53:27.564Z"
   },
   {
    "duration": 19,
    "start_time": "2022-06-16T07:53:29.804Z"
   },
   {
    "duration": 13,
    "start_time": "2022-06-16T07:53:29.825Z"
   },
   {
    "duration": 24,
    "start_time": "2022-06-16T07:53:29.915Z"
   },
   {
    "duration": 6,
    "start_time": "2022-06-16T07:53:30.095Z"
   },
   {
    "duration": 35,
    "start_time": "2022-06-16T07:53:30.252Z"
   },
   {
    "duration": 5,
    "start_time": "2022-06-16T07:53:30.400Z"
   },
   {
    "duration": 9,
    "start_time": "2022-06-16T07:53:30.895Z"
   },
   {
    "duration": 488,
    "start_time": "2022-06-16T07:53:31.060Z"
   },
   {
    "duration": 19,
    "start_time": "2022-06-16T07:53:31.551Z"
   },
   {
    "duration": 311,
    "start_time": "2022-06-16T07:53:31.751Z"
   },
   {
    "duration": 279,
    "start_time": "2022-06-16T07:53:32.077Z"
   },
   {
    "duration": 205,
    "start_time": "2022-06-16T07:53:32.361Z"
   },
   {
    "duration": 214,
    "start_time": "2022-06-16T07:53:32.573Z"
   },
   {
    "duration": 169,
    "start_time": "2022-06-16T07:53:32.791Z"
   },
   {
    "duration": 9,
    "start_time": "2022-06-16T07:53:32.964Z"
   },
   {
    "duration": 32,
    "start_time": "2022-06-16T07:53:33.074Z"
   },
   {
    "duration": 5,
    "start_time": "2022-06-16T07:53:33.421Z"
   },
   {
    "duration": 700,
    "start_time": "2022-06-16T07:53:33.615Z"
   },
   {
    "duration": 441,
    "start_time": "2022-06-16T07:53:34.319Z"
   },
   {
    "duration": 11,
    "start_time": "2022-06-16T07:54:14.058Z"
   },
   {
    "duration": 9,
    "start_time": "2022-06-16T07:54:14.667Z"
   },
   {
    "duration": 1414,
    "start_time": "2022-06-16T07:54:31.718Z"
   },
   {
    "duration": 77,
    "start_time": "2022-06-16T07:54:33.140Z"
   },
   {
    "duration": 31,
    "start_time": "2022-06-16T07:54:33.219Z"
   },
   {
    "duration": 56,
    "start_time": "2022-06-16T07:54:33.253Z"
   },
   {
    "duration": 29,
    "start_time": "2022-06-16T07:54:33.312Z"
   },
   {
    "duration": 43,
    "start_time": "2022-06-16T07:54:33.346Z"
   },
   {
    "duration": 7,
    "start_time": "2022-06-16T07:54:33.390Z"
   },
   {
    "duration": 9,
    "start_time": "2022-06-16T07:54:33.398Z"
   },
   {
    "duration": 19,
    "start_time": "2022-06-16T07:54:33.408Z"
   },
   {
    "duration": 31,
    "start_time": "2022-06-16T07:54:33.432Z"
   },
   {
    "duration": 24,
    "start_time": "2022-06-16T07:54:33.468Z"
   },
   {
    "duration": 14,
    "start_time": "2022-06-16T07:54:33.494Z"
   },
   {
    "duration": 10,
    "start_time": "2022-06-16T07:54:33.510Z"
   },
   {
    "duration": 68,
    "start_time": "2022-06-16T07:54:33.522Z"
   },
   {
    "duration": 12,
    "start_time": "2022-06-16T07:54:33.591Z"
   },
   {
    "duration": 10,
    "start_time": "2022-06-16T07:54:33.604Z"
   },
   {
    "duration": 419,
    "start_time": "2022-06-16T07:54:33.615Z"
   },
   {
    "duration": 35,
    "start_time": "2022-06-16T07:54:34.036Z"
   },
   {
    "duration": 221,
    "start_time": "2022-06-16T07:54:34.073Z"
   },
   {
    "duration": 218,
    "start_time": "2022-06-16T07:54:34.296Z"
   },
   {
    "duration": 177,
    "start_time": "2022-06-16T07:54:34.516Z"
   },
   {
    "duration": 242,
    "start_time": "2022-06-16T07:54:34.696Z"
   },
   {
    "duration": 226,
    "start_time": "2022-06-16T07:54:34.940Z"
   },
   {
    "duration": 6,
    "start_time": "2022-06-16T07:54:35.173Z"
   },
   {
    "duration": 19,
    "start_time": "2022-06-16T07:54:35.181Z"
   },
   {
    "duration": 7,
    "start_time": "2022-06-16T07:54:35.202Z"
   },
   {
    "duration": 644,
    "start_time": "2022-06-16T07:54:35.211Z"
   },
   {
    "duration": 340,
    "start_time": "2022-06-16T07:54:35.862Z"
   },
   {
    "duration": 138,
    "start_time": "2022-06-16T07:56:33.947Z"
   },
   {
    "duration": 17,
    "start_time": "2022-06-16T07:56:35.461Z"
   },
   {
    "duration": 12,
    "start_time": "2022-06-16T08:00:08.877Z"
   },
   {
    "duration": 5,
    "start_time": "2022-06-16T08:03:19.025Z"
   },
   {
    "duration": 12,
    "start_time": "2022-06-16T08:03:20.352Z"
   },
   {
    "duration": 1127,
    "start_time": "2022-06-16T08:05:45.205Z"
   },
   {
    "duration": 123,
    "start_time": "2022-06-16T08:05:46.348Z"
   },
   {
    "duration": 27,
    "start_time": "2022-06-16T08:05:46.476Z"
   },
   {
    "duration": 71,
    "start_time": "2022-06-16T08:05:46.506Z"
   },
   {
    "duration": 43,
    "start_time": "2022-06-16T08:05:46.579Z"
   },
   {
    "duration": 60,
    "start_time": "2022-06-16T08:05:46.624Z"
   },
   {
    "duration": 161,
    "start_time": "2022-06-16T08:05:46.688Z"
   },
   {
    "duration": 0,
    "start_time": "2022-06-16T08:05:46.856Z"
   },
   {
    "duration": 0,
    "start_time": "2022-06-16T08:05:46.856Z"
   },
   {
    "duration": 0,
    "start_time": "2022-06-16T08:05:46.857Z"
   },
   {
    "duration": 0,
    "start_time": "2022-06-16T08:05:46.860Z"
   },
   {
    "duration": 0,
    "start_time": "2022-06-16T08:05:46.866Z"
   },
   {
    "duration": 0,
    "start_time": "2022-06-16T08:05:46.867Z"
   },
   {
    "duration": 0,
    "start_time": "2022-06-16T08:05:46.868Z"
   },
   {
    "duration": 0,
    "start_time": "2022-06-16T08:05:46.869Z"
   },
   {
    "duration": 1,
    "start_time": "2022-06-16T08:05:46.869Z"
   },
   {
    "duration": 0,
    "start_time": "2022-06-16T08:05:46.873Z"
   },
   {
    "duration": 0,
    "start_time": "2022-06-16T08:05:46.875Z"
   },
   {
    "duration": 0,
    "start_time": "2022-06-16T08:05:46.876Z"
   },
   {
    "duration": 0,
    "start_time": "2022-06-16T08:05:46.881Z"
   },
   {
    "duration": 0,
    "start_time": "2022-06-16T08:05:46.883Z"
   },
   {
    "duration": 0,
    "start_time": "2022-06-16T08:05:46.884Z"
   },
   {
    "duration": 0,
    "start_time": "2022-06-16T08:05:46.885Z"
   },
   {
    "duration": 0,
    "start_time": "2022-06-16T08:05:46.886Z"
   },
   {
    "duration": 0,
    "start_time": "2022-06-16T08:05:46.887Z"
   },
   {
    "duration": 0,
    "start_time": "2022-06-16T08:05:46.888Z"
   },
   {
    "duration": 0,
    "start_time": "2022-06-16T08:05:46.890Z"
   },
   {
    "duration": 0,
    "start_time": "2022-06-16T08:05:46.891Z"
   },
   {
    "duration": 0,
    "start_time": "2022-06-16T08:05:46.901Z"
   },
   {
    "duration": 6,
    "start_time": "2022-06-16T08:11:37.011Z"
   },
   {
    "duration": 12,
    "start_time": "2022-06-16T08:11:50.838Z"
   },
   {
    "duration": 39,
    "start_time": "2022-06-16T08:14:27.632Z"
   },
   {
    "duration": 1085,
    "start_time": "2022-06-16T08:18:21.249Z"
   },
   {
    "duration": 82,
    "start_time": "2022-06-16T08:18:22.336Z"
   },
   {
    "duration": 21,
    "start_time": "2022-06-16T08:18:22.419Z"
   },
   {
    "duration": 3,
    "start_time": "2022-06-16T08:18:22.442Z"
   },
   {
    "duration": 17,
    "start_time": "2022-06-16T08:18:22.448Z"
   },
   {
    "duration": 9,
    "start_time": "2022-06-16T08:18:22.467Z"
   },
   {
    "duration": 10,
    "start_time": "2022-06-16T08:18:22.477Z"
   },
   {
    "duration": 118,
    "start_time": "2022-06-16T08:18:22.489Z"
   },
   {
    "duration": 0,
    "start_time": "2022-06-16T08:18:22.610Z"
   },
   {
    "duration": 0,
    "start_time": "2022-06-16T08:18:22.612Z"
   },
   {
    "duration": 0,
    "start_time": "2022-06-16T08:18:22.613Z"
   },
   {
    "duration": 0,
    "start_time": "2022-06-16T08:18:22.627Z"
   },
   {
    "duration": 0,
    "start_time": "2022-06-16T08:18:22.629Z"
   },
   {
    "duration": 0,
    "start_time": "2022-06-16T08:18:22.630Z"
   },
   {
    "duration": 0,
    "start_time": "2022-06-16T08:18:22.631Z"
   },
   {
    "duration": 0,
    "start_time": "2022-06-16T08:18:22.632Z"
   },
   {
    "duration": 0,
    "start_time": "2022-06-16T08:18:22.633Z"
   },
   {
    "duration": 0,
    "start_time": "2022-06-16T08:18:22.634Z"
   },
   {
    "duration": 0,
    "start_time": "2022-06-16T08:18:22.635Z"
   },
   {
    "duration": 0,
    "start_time": "2022-06-16T08:18:22.636Z"
   },
   {
    "duration": 0,
    "start_time": "2022-06-16T08:18:22.638Z"
   },
   {
    "duration": 0,
    "start_time": "2022-06-16T08:18:22.639Z"
   },
   {
    "duration": 0,
    "start_time": "2022-06-16T08:18:22.641Z"
   },
   {
    "duration": 0,
    "start_time": "2022-06-16T08:18:22.642Z"
   },
   {
    "duration": 0,
    "start_time": "2022-06-16T08:18:22.643Z"
   },
   {
    "duration": 0,
    "start_time": "2022-06-16T08:18:22.645Z"
   },
   {
    "duration": 0,
    "start_time": "2022-06-16T08:18:22.646Z"
   },
   {
    "duration": 0,
    "start_time": "2022-06-16T08:18:22.648Z"
   },
   {
    "duration": 0,
    "start_time": "2022-06-16T08:18:22.649Z"
   },
   {
    "duration": 0,
    "start_time": "2022-06-16T08:18:22.651Z"
   },
   {
    "duration": 3,
    "start_time": "2022-06-16T08:18:45.371Z"
   },
   {
    "duration": 67,
    "start_time": "2022-06-16T08:19:13.013Z"
   },
   {
    "duration": 16,
    "start_time": "2022-06-16T08:19:14.205Z"
   },
   {
    "duration": 3,
    "start_time": "2022-06-16T08:19:31.697Z"
   },
   {
    "duration": 30,
    "start_time": "2022-06-16T08:19:31.702Z"
   },
   {
    "duration": 6,
    "start_time": "2022-06-16T08:19:46.046Z"
   },
   {
    "duration": 9,
    "start_time": "2022-06-16T08:20:24.216Z"
   },
   {
    "duration": 15,
    "start_time": "2022-06-16T08:21:39.125Z"
   },
   {
    "duration": 6,
    "start_time": "2022-06-16T08:22:21.113Z"
   },
   {
    "duration": 11,
    "start_time": "2022-06-16T08:22:46.753Z"
   },
   {
    "duration": 8,
    "start_time": "2022-06-16T08:23:39.394Z"
   },
   {
    "duration": 8,
    "start_time": "2022-06-16T08:23:55.324Z"
   },
   {
    "duration": 10,
    "start_time": "2022-06-16T08:24:06.727Z"
   },
   {
    "duration": 5,
    "start_time": "2022-06-16T08:24:09.693Z"
   },
   {
    "duration": 6,
    "start_time": "2022-06-16T08:25:53.817Z"
   },
   {
    "duration": 43,
    "start_time": "2022-06-16T08:25:56.009Z"
   },
   {
    "duration": 7,
    "start_time": "2022-06-16T08:26:00.006Z"
   },
   {
    "duration": 18,
    "start_time": "2022-06-16T08:26:03.798Z"
   },
   {
    "duration": 8,
    "start_time": "2022-06-16T08:26:52.033Z"
   },
   {
    "duration": 13,
    "start_time": "2022-06-16T08:26:52.806Z"
   },
   {
    "duration": 8,
    "start_time": "2022-06-16T08:26:59.489Z"
   },
   {
    "duration": 5,
    "start_time": "2022-06-16T08:27:00.346Z"
   },
   {
    "duration": 23,
    "start_time": "2022-06-16T08:28:24.986Z"
   },
   {
    "duration": 372,
    "start_time": "2022-06-16T08:28:27.694Z"
   },
   {
    "duration": 17,
    "start_time": "2022-06-16T08:28:29.451Z"
   },
   {
    "duration": 251,
    "start_time": "2022-06-16T08:28:31.828Z"
   },
   {
    "duration": 178,
    "start_time": "2022-06-16T08:28:32.183Z"
   },
   {
    "duration": 171,
    "start_time": "2022-06-16T08:28:32.364Z"
   },
   {
    "duration": 189,
    "start_time": "2022-06-16T08:28:32.538Z"
   },
   {
    "duration": 137,
    "start_time": "2022-06-16T08:28:32.732Z"
   },
   {
    "duration": 6,
    "start_time": "2022-06-16T08:28:33.084Z"
   },
   {
    "duration": 15,
    "start_time": "2022-06-16T08:28:33.283Z"
   },
   {
    "duration": 4,
    "start_time": "2022-06-16T08:28:33.651Z"
   },
   {
    "duration": 521,
    "start_time": "2022-06-16T08:28:33.878Z"
   },
   {
    "duration": 314,
    "start_time": "2022-06-16T08:28:34.463Z"
   },
   {
    "duration": 5,
    "start_time": "2022-06-16T08:42:25.406Z"
   },
   {
    "duration": 15,
    "start_time": "2022-06-16T08:42:26.431Z"
   },
   {
    "duration": 4,
    "start_time": "2022-06-16T08:42:33.896Z"
   },
   {
    "duration": 383,
    "start_time": "2022-06-16T08:42:35.911Z"
   },
   {
    "duration": 355,
    "start_time": "2022-06-16T08:43:12.840Z"
   },
   {
    "duration": 387,
    "start_time": "2022-06-16T08:44:06.592Z"
   },
   {
    "duration": 273,
    "start_time": "2022-06-16T08:46:07.916Z"
   },
   {
    "duration": 444,
    "start_time": "2022-06-16T08:46:27.546Z"
   },
   {
    "duration": 320,
    "start_time": "2022-06-16T08:48:31.557Z"
   },
   {
    "duration": 262,
    "start_time": "2022-06-16T08:48:49.727Z"
   },
   {
    "duration": 20,
    "start_time": "2022-06-16T08:57:51.908Z"
   },
   {
    "duration": 138,
    "start_time": "2022-06-16T08:58:00.868Z"
   },
   {
    "duration": 4,
    "start_time": "2022-06-16T08:59:24.435Z"
   },
   {
    "duration": 169,
    "start_time": "2022-06-16T09:00:23.070Z"
   },
   {
    "duration": 4,
    "start_time": "2022-06-16T09:00:56.173Z"
   },
   {
    "duration": 140,
    "start_time": "2022-06-16T09:01:27.340Z"
   },
   {
    "duration": 5,
    "start_time": "2022-06-16T09:01:45.063Z"
   },
   {
    "duration": 143,
    "start_time": "2022-06-16T09:01:45.618Z"
   },
   {
    "duration": 174,
    "start_time": "2022-06-16T09:02:09.783Z"
   },
   {
    "duration": 5,
    "start_time": "2022-06-16T09:02:13.003Z"
   },
   {
    "duration": 4,
    "start_time": "2022-06-16T09:02:37.775Z"
   },
   {
    "duration": 60,
    "start_time": "2022-06-16T12:43:24.250Z"
   },
   {
    "duration": 1565,
    "start_time": "2022-06-16T12:43:33.354Z"
   },
   {
    "duration": 144,
    "start_time": "2022-06-16T12:43:34.931Z"
   },
   {
    "duration": 31,
    "start_time": "2022-06-16T12:43:35.078Z"
   },
   {
    "duration": 27,
    "start_time": "2022-06-16T12:43:35.114Z"
   },
   {
    "duration": 33,
    "start_time": "2022-06-16T12:43:35.144Z"
   },
   {
    "duration": 20,
    "start_time": "2022-06-16T12:43:35.179Z"
   },
   {
    "duration": 16,
    "start_time": "2022-06-16T12:43:35.215Z"
   },
   {
    "duration": 19,
    "start_time": "2022-06-16T12:43:35.234Z"
   },
   {
    "duration": 6,
    "start_time": "2022-06-16T12:43:35.255Z"
   },
   {
    "duration": 14,
    "start_time": "2022-06-16T12:43:35.266Z"
   },
   {
    "duration": 69,
    "start_time": "2022-06-16T12:43:35.282Z"
   },
   {
    "duration": 9,
    "start_time": "2022-06-16T12:43:35.354Z"
   },
   {
    "duration": 20,
    "start_time": "2022-06-16T12:43:35.366Z"
   },
   {
    "duration": 8,
    "start_time": "2022-06-16T12:43:35.389Z"
   },
   {
    "duration": 35,
    "start_time": "2022-06-16T12:43:35.399Z"
   },
   {
    "duration": 26,
    "start_time": "2022-06-16T12:43:35.437Z"
   },
   {
    "duration": 452,
    "start_time": "2022-06-16T12:43:35.467Z"
   },
   {
    "duration": 20,
    "start_time": "2022-06-16T12:43:35.921Z"
   },
   {
    "duration": 303,
    "start_time": "2022-06-16T12:43:35.943Z"
   },
   {
    "duration": 273,
    "start_time": "2022-06-16T12:43:36.249Z"
   },
   {
    "duration": 202,
    "start_time": "2022-06-16T12:43:36.524Z"
   },
   {
    "duration": 253,
    "start_time": "2022-06-16T12:43:36.728Z"
   },
   {
    "duration": 205,
    "start_time": "2022-06-16T12:43:36.983Z"
   },
   {
    "duration": 8,
    "start_time": "2022-06-16T12:43:37.190Z"
   },
   {
    "duration": 45,
    "start_time": "2022-06-16T12:43:37.201Z"
   },
   {
    "duration": 15,
    "start_time": "2022-06-16T12:43:37.249Z"
   },
   {
    "duration": 618,
    "start_time": "2022-06-16T12:43:37.266Z"
   },
   {
    "duration": 388,
    "start_time": "2022-06-16T12:43:37.889Z"
   },
   {
    "duration": 126,
    "start_time": "2022-06-16T12:43:38.278Z"
   },
   {
    "duration": 0,
    "start_time": "2022-06-16T12:43:38.406Z"
   },
   {
    "duration": 0,
    "start_time": "2022-06-16T12:43:38.408Z"
   },
   {
    "duration": 0,
    "start_time": "2022-06-16T12:43:38.409Z"
   },
   {
    "duration": 0,
    "start_time": "2022-06-16T12:43:38.410Z"
   },
   {
    "duration": 0,
    "start_time": "2022-06-16T12:43:38.412Z"
   },
   {
    "duration": 24,
    "start_time": "2022-06-16T12:43:53.486Z"
   },
   {
    "duration": 43,
    "start_time": "2022-06-16T12:49:16.967Z"
   },
   {
    "duration": 148,
    "start_time": "2022-06-16T12:49:21.646Z"
   },
   {
    "duration": 5,
    "start_time": "2022-06-16T12:49:23.381Z"
   },
   {
    "duration": 18,
    "start_time": "2022-06-16T12:49:31.471Z"
   },
   {
    "duration": 9,
    "start_time": "2022-06-16T12:49:39.875Z"
   },
   {
    "duration": 195,
    "start_time": "2022-06-16T12:50:01.963Z"
   },
   {
    "duration": 5,
    "start_time": "2022-06-16T12:50:03.211Z"
   },
   {
    "duration": 30,
    "start_time": "2022-06-16T12:50:25.719Z"
   },
   {
    "duration": 153,
    "start_time": "2022-06-16T12:58:43.433Z"
   },
   {
    "duration": 5,
    "start_time": "2022-06-16T12:59:00.275Z"
   },
   {
    "duration": 156,
    "start_time": "2022-06-16T12:59:30.175Z"
   },
   {
    "duration": 7,
    "start_time": "2022-06-16T12:59:44.064Z"
   },
   {
    "duration": 17,
    "start_time": "2022-06-16T13:01:25.975Z"
   },
   {
    "duration": 26,
    "start_time": "2022-06-16T13:07:13.199Z"
   },
   {
    "duration": 21,
    "start_time": "2022-06-16T13:07:36.503Z"
   },
   {
    "duration": 21,
    "start_time": "2022-06-16T13:07:57.937Z"
   },
   {
    "duration": 15,
    "start_time": "2022-06-16T13:08:56.248Z"
   },
   {
    "duration": 18,
    "start_time": "2022-06-16T13:09:14.245Z"
   },
   {
    "duration": 24,
    "start_time": "2022-06-16T13:09:30.198Z"
   },
   {
    "duration": 153,
    "start_time": "2022-06-16T13:13:25.810Z"
   },
   {
    "duration": 170,
    "start_time": "2022-06-16T13:15:05.530Z"
   },
   {
    "duration": 8,
    "start_time": "2022-06-16T13:17:12.367Z"
   },
   {
    "duration": 156,
    "start_time": "2022-06-16T13:18:51.279Z"
   },
   {
    "duration": 29,
    "start_time": "2022-06-16T13:31:32.744Z"
   },
   {
    "duration": 240,
    "start_time": "2022-06-16T13:34:48.228Z"
   },
   {
    "duration": 14,
    "start_time": "2022-06-16T13:37:07.656Z"
   },
   {
    "duration": 29,
    "start_time": "2022-06-16T13:37:38.157Z"
   },
   {
    "duration": 13,
    "start_time": "2022-06-16T13:38:00.372Z"
   },
   {
    "duration": 19,
    "start_time": "2022-06-16T13:39:07.946Z"
   },
   {
    "duration": 19,
    "start_time": "2022-06-16T13:40:51.067Z"
   },
   {
    "duration": 7267,
    "start_time": "2022-06-16T13:42:40.617Z"
   },
   {
    "duration": 15,
    "start_time": "2022-06-16T13:44:59.180Z"
   },
   {
    "duration": 15,
    "start_time": "2022-06-16T13:45:01.045Z"
   },
   {
    "duration": 15,
    "start_time": "2022-06-16T13:45:01.763Z"
   },
   {
    "duration": 15,
    "start_time": "2022-06-16T13:45:29.379Z"
   },
   {
    "duration": 17,
    "start_time": "2022-06-16T13:45:30.019Z"
   },
   {
    "duration": 18,
    "start_time": "2022-06-16T13:45:30.717Z"
   },
   {
    "duration": 11,
    "start_time": "2022-06-16T13:46:15.464Z"
   },
   {
    "duration": 202,
    "start_time": "2022-06-16T13:47:18.516Z"
   },
   {
    "duration": 273,
    "start_time": "2022-06-16T13:51:44.060Z"
   },
   {
    "duration": 50,
    "start_time": "2022-06-17T04:59:41.265Z"
   },
   {
    "duration": 1319,
    "start_time": "2022-06-17T04:59:50.027Z"
   },
   {
    "duration": 101,
    "start_time": "2022-06-17T04:59:51.348Z"
   },
   {
    "duration": 17,
    "start_time": "2022-06-17T04:59:51.451Z"
   },
   {
    "duration": 3,
    "start_time": "2022-06-17T04:59:51.470Z"
   },
   {
    "duration": 15,
    "start_time": "2022-06-17T04:59:51.475Z"
   },
   {
    "duration": 7,
    "start_time": "2022-06-17T04:59:51.492Z"
   },
   {
    "duration": 7,
    "start_time": "2022-06-17T04:59:51.500Z"
   },
   {
    "duration": 17,
    "start_time": "2022-06-17T04:59:51.509Z"
   },
   {
    "duration": 8,
    "start_time": "2022-06-17T04:59:51.527Z"
   },
   {
    "duration": 44,
    "start_time": "2022-06-17T04:59:51.538Z"
   },
   {
    "duration": 24,
    "start_time": "2022-06-17T04:59:51.584Z"
   },
   {
    "duration": 6,
    "start_time": "2022-06-17T04:59:51.610Z"
   },
   {
    "duration": 23,
    "start_time": "2022-06-17T04:59:51.617Z"
   },
   {
    "duration": 10,
    "start_time": "2022-06-17T04:59:51.641Z"
   },
   {
    "duration": 12,
    "start_time": "2022-06-17T04:59:51.652Z"
   },
   {
    "duration": 26,
    "start_time": "2022-06-17T04:59:51.665Z"
   },
   {
    "duration": 372,
    "start_time": "2022-06-17T04:59:51.693Z"
   },
   {
    "duration": 14,
    "start_time": "2022-06-17T04:59:52.066Z"
   },
   {
    "duration": 178,
    "start_time": "2022-06-17T04:59:52.082Z"
   },
   {
    "duration": 189,
    "start_time": "2022-06-17T04:59:52.262Z"
   },
   {
    "duration": 155,
    "start_time": "2022-06-17T04:59:52.453Z"
   },
   {
    "duration": 182,
    "start_time": "2022-06-17T04:59:52.610Z"
   },
   {
    "duration": 143,
    "start_time": "2022-06-17T04:59:52.793Z"
   },
   {
    "duration": 4,
    "start_time": "2022-06-17T04:59:52.938Z"
   },
   {
    "duration": 22,
    "start_time": "2022-06-17T04:59:52.944Z"
   },
   {
    "duration": 3,
    "start_time": "2022-06-17T04:59:52.968Z"
   },
   {
    "duration": 467,
    "start_time": "2022-06-17T04:59:52.973Z"
   },
   {
    "duration": 339,
    "start_time": "2022-06-17T04:59:53.443Z"
   },
   {
    "duration": 14,
    "start_time": "2022-06-17T04:59:53.783Z"
   },
   {
    "duration": 172,
    "start_time": "2022-06-17T04:59:53.799Z"
   },
   {
    "duration": 4,
    "start_time": "2022-06-17T04:59:53.973Z"
   },
   {
    "duration": 150,
    "start_time": "2022-06-17T04:59:53.979Z"
   },
   {
    "duration": 4,
    "start_time": "2022-06-17T04:59:54.130Z"
   },
   {
    "duration": 160,
    "start_time": "2022-06-17T04:59:54.136Z"
   },
   {
    "duration": 4,
    "start_time": "2022-06-17T04:59:54.297Z"
   },
   {
    "duration": 140,
    "start_time": "2022-06-17T04:59:54.303Z"
   },
   {
    "duration": 16,
    "start_time": "2022-06-17T04:59:54.445Z"
   },
   {
    "duration": 17,
    "start_time": "2022-06-17T04:59:54.463Z"
   },
   {
    "duration": 21,
    "start_time": "2022-06-17T04:59:54.482Z"
   },
   {
    "duration": 17,
    "start_time": "2022-06-17T04:59:54.506Z"
   },
   {
    "duration": 41,
    "start_time": "2022-06-17T04:59:54.525Z"
   },
   {
    "duration": 225,
    "start_time": "2022-06-17T04:59:54.569Z"
   },
   {
    "duration": 0,
    "start_time": "2022-06-17T04:59:54.796Z"
   },
   {
    "duration": 0,
    "start_time": "2022-06-17T04:59:54.797Z"
   },
   {
    "duration": 0,
    "start_time": "2022-06-17T04:59:54.798Z"
   },
   {
    "duration": 0,
    "start_time": "2022-06-17T04:59:54.800Z"
   },
   {
    "duration": 0,
    "start_time": "2022-06-17T04:59:54.801Z"
   },
   {
    "duration": 0,
    "start_time": "2022-06-17T04:59:54.802Z"
   },
   {
    "duration": 6,
    "start_time": "2022-06-17T05:00:35.237Z"
   },
   {
    "duration": 108,
    "start_time": "2022-06-17T05:00:53.700Z"
   },
   {
    "duration": 105,
    "start_time": "2022-06-17T05:01:07.341Z"
   },
   {
    "duration": 108,
    "start_time": "2022-06-17T05:02:42.327Z"
   },
   {
    "duration": 102,
    "start_time": "2022-06-17T05:02:59.612Z"
   },
   {
    "duration": 8,
    "start_time": "2022-06-17T05:04:19.709Z"
   },
   {
    "duration": 8,
    "start_time": "2022-06-17T05:05:30.231Z"
   },
   {
    "duration": 15,
    "start_time": "2022-06-17T05:05:43.237Z"
   },
   {
    "duration": 8,
    "start_time": "2022-06-17T05:05:44.579Z"
   },
   {
    "duration": 14,
    "start_time": "2022-06-17T05:06:32.998Z"
   },
   {
    "duration": 23,
    "start_time": "2022-06-17T05:08:03.047Z"
   },
   {
    "duration": 16,
    "start_time": "2022-06-17T05:08:20.720Z"
   },
   {
    "duration": 1050,
    "start_time": "2022-06-17T05:08:37.692Z"
   },
   {
    "duration": 63,
    "start_time": "2022-06-17T05:08:38.744Z"
   },
   {
    "duration": 18,
    "start_time": "2022-06-17T05:08:38.808Z"
   },
   {
    "duration": 3,
    "start_time": "2022-06-17T05:08:38.828Z"
   },
   {
    "duration": 17,
    "start_time": "2022-06-17T05:08:38.832Z"
   },
   {
    "duration": 10,
    "start_time": "2022-06-17T05:08:38.850Z"
   },
   {
    "duration": 5,
    "start_time": "2022-06-17T05:08:38.861Z"
   },
   {
    "duration": 12,
    "start_time": "2022-06-17T05:08:38.868Z"
   },
   {
    "duration": 6,
    "start_time": "2022-06-17T05:08:38.881Z"
   },
   {
    "duration": 7,
    "start_time": "2022-06-17T05:08:38.890Z"
   },
   {
    "duration": 22,
    "start_time": "2022-06-17T05:08:38.898Z"
   },
   {
    "duration": 5,
    "start_time": "2022-06-17T05:08:38.921Z"
   },
   {
    "duration": 18,
    "start_time": "2022-06-17T05:08:38.927Z"
   },
   {
    "duration": 5,
    "start_time": "2022-06-17T05:08:38.959Z"
   },
   {
    "duration": 10,
    "start_time": "2022-06-17T05:08:38.966Z"
   },
   {
    "duration": 17,
    "start_time": "2022-06-17T05:08:38.978Z"
   },
   {
    "duration": 313,
    "start_time": "2022-06-17T05:08:38.997Z"
   },
   {
    "duration": 14,
    "start_time": "2022-06-17T05:08:39.312Z"
   },
   {
    "duration": 182,
    "start_time": "2022-06-17T05:08:39.328Z"
   },
   {
    "duration": 164,
    "start_time": "2022-06-17T05:08:39.512Z"
   },
   {
    "duration": 147,
    "start_time": "2022-06-17T05:08:39.678Z"
   },
   {
    "duration": 159,
    "start_time": "2022-06-17T05:08:39.827Z"
   },
   {
    "duration": 140,
    "start_time": "2022-06-17T05:08:39.988Z"
   },
   {
    "duration": 4,
    "start_time": "2022-06-17T05:08:40.130Z"
   },
   {
    "duration": 20,
    "start_time": "2022-06-17T05:08:40.135Z"
   },
   {
    "duration": 13,
    "start_time": "2022-06-17T05:08:40.159Z"
   },
   {
    "duration": 404,
    "start_time": "2022-06-17T05:08:40.173Z"
   },
   {
    "duration": 257,
    "start_time": "2022-06-17T05:08:40.581Z"
   },
   {
    "duration": 21,
    "start_time": "2022-06-17T05:08:40.839Z"
   },
   {
    "duration": 148,
    "start_time": "2022-06-17T05:08:40.862Z"
   },
   {
    "duration": 3,
    "start_time": "2022-06-17T05:08:41.012Z"
   },
   {
    "duration": 145,
    "start_time": "2022-06-17T05:08:41.017Z"
   },
   {
    "duration": 4,
    "start_time": "2022-06-17T05:08:41.163Z"
   },
   {
    "duration": 164,
    "start_time": "2022-06-17T05:08:41.168Z"
   },
   {
    "duration": 4,
    "start_time": "2022-06-17T05:08:41.333Z"
   },
   {
    "duration": 139,
    "start_time": "2022-06-17T05:08:41.338Z"
   },
   {
    "duration": 4,
    "start_time": "2022-06-17T05:08:41.479Z"
   },
   {
    "duration": 21,
    "start_time": "2022-06-17T05:08:41.484Z"
   },
   {
    "duration": 19,
    "start_time": "2022-06-17T05:08:41.507Z"
   },
   {
    "duration": 101,
    "start_time": "2022-06-17T05:08:41.528Z"
   },
   {
    "duration": 0,
    "start_time": "2022-06-17T05:08:41.631Z"
   },
   {
    "duration": 0,
    "start_time": "2022-06-17T05:08:41.632Z"
   },
   {
    "duration": 0,
    "start_time": "2022-06-17T05:08:41.633Z"
   },
   {
    "duration": 0,
    "start_time": "2022-06-17T05:08:41.634Z"
   },
   {
    "duration": 0,
    "start_time": "2022-06-17T05:08:41.635Z"
   },
   {
    "duration": 0,
    "start_time": "2022-06-17T05:08:41.636Z"
   },
   {
    "duration": 0,
    "start_time": "2022-06-17T05:08:41.637Z"
   },
   {
    "duration": 0,
    "start_time": "2022-06-17T05:08:41.638Z"
   },
   {
    "duration": 0,
    "start_time": "2022-06-17T05:08:41.639Z"
   },
   {
    "duration": 20,
    "start_time": "2022-06-17T05:09:47.409Z"
   },
   {
    "duration": 14,
    "start_time": "2022-06-17T05:09:48.340Z"
   },
   {
    "duration": 13,
    "start_time": "2022-06-17T05:10:21.887Z"
   },
   {
    "duration": 18,
    "start_time": "2022-06-17T05:11:01.832Z"
   },
   {
    "duration": 123,
    "start_time": "2022-06-17T05:11:33.056Z"
   },
   {
    "duration": 489,
    "start_time": "2022-06-17T05:14:36.240Z"
   },
   {
    "duration": 43,
    "start_time": "2022-06-20T01:45:48.329Z"
   },
   {
    "duration": 1239,
    "start_time": "2022-06-20T01:45:55.983Z"
   },
   {
    "duration": 102,
    "start_time": "2022-06-20T01:45:57.224Z"
   },
   {
    "duration": 19,
    "start_time": "2022-06-20T01:45:57.327Z"
   },
   {
    "duration": 6,
    "start_time": "2022-06-20T01:45:57.348Z"
   },
   {
    "duration": 13,
    "start_time": "2022-06-20T01:45:57.357Z"
   },
   {
    "duration": 5,
    "start_time": "2022-06-20T01:45:57.372Z"
   },
   {
    "duration": 6,
    "start_time": "2022-06-20T01:45:57.378Z"
   },
   {
    "duration": 8,
    "start_time": "2022-06-20T01:45:57.385Z"
   },
   {
    "duration": 5,
    "start_time": "2022-06-20T01:45:57.394Z"
   },
   {
    "duration": 7,
    "start_time": "2022-06-20T01:45:57.401Z"
   },
   {
    "duration": 44,
    "start_time": "2022-06-20T01:45:57.409Z"
   },
   {
    "duration": 6,
    "start_time": "2022-06-20T01:45:57.455Z"
   },
   {
    "duration": 12,
    "start_time": "2022-06-20T01:45:57.463Z"
   },
   {
    "duration": 5,
    "start_time": "2022-06-20T01:45:57.478Z"
   },
   {
    "duration": 5,
    "start_time": "2022-06-20T01:45:57.485Z"
   },
   {
    "duration": 15,
    "start_time": "2022-06-20T01:45:57.491Z"
   },
   {
    "duration": 325,
    "start_time": "2022-06-20T01:45:57.507Z"
   },
   {
    "duration": 18,
    "start_time": "2022-06-20T01:45:57.834Z"
   },
   {
    "duration": 170,
    "start_time": "2022-06-20T01:45:57.854Z"
   },
   {
    "duration": 164,
    "start_time": "2022-06-20T01:45:58.026Z"
   },
   {
    "duration": 133,
    "start_time": "2022-06-20T01:45:58.192Z"
   },
   {
    "duration": 168,
    "start_time": "2022-06-20T01:45:58.327Z"
   },
   {
    "duration": 130,
    "start_time": "2022-06-20T01:45:58.496Z"
   },
   {
    "duration": 4,
    "start_time": "2022-06-20T01:45:58.628Z"
   },
   {
    "duration": 26,
    "start_time": "2022-06-20T01:45:58.633Z"
   },
   {
    "duration": 4,
    "start_time": "2022-06-20T01:45:58.660Z"
   },
   {
    "duration": 409,
    "start_time": "2022-06-20T01:45:58.665Z"
   },
   {
    "duration": 256,
    "start_time": "2022-06-20T01:45:59.076Z"
   },
   {
    "duration": 20,
    "start_time": "2022-06-20T01:45:59.333Z"
   },
   {
    "duration": 143,
    "start_time": "2022-06-20T01:45:59.354Z"
   },
   {
    "duration": 3,
    "start_time": "2022-06-20T01:45:59.499Z"
   },
   {
    "duration": 138,
    "start_time": "2022-06-20T01:45:59.504Z"
   },
   {
    "duration": 10,
    "start_time": "2022-06-20T01:45:59.643Z"
   },
   {
    "duration": 146,
    "start_time": "2022-06-20T01:45:59.655Z"
   },
   {
    "duration": 4,
    "start_time": "2022-06-20T01:45:59.803Z"
   },
   {
    "duration": 132,
    "start_time": "2022-06-20T01:45:59.809Z"
   },
   {
    "duration": 11,
    "start_time": "2022-06-20T01:45:59.943Z"
   },
   {
    "duration": 13,
    "start_time": "2022-06-20T01:45:59.955Z"
   },
   {
    "duration": 10,
    "start_time": "2022-06-20T01:45:59.970Z"
   },
   {
    "duration": 14,
    "start_time": "2022-06-20T01:45:59.982Z"
   },
   {
    "duration": 12,
    "start_time": "2022-06-20T01:45:59.999Z"
   },
   {
    "duration": 207,
    "start_time": "2022-06-20T01:46:00.012Z"
   },
   {
    "duration": 0,
    "start_time": "2022-06-20T01:46:00.221Z"
   },
   {
    "duration": 1,
    "start_time": "2022-06-20T01:46:00.222Z"
   },
   {
    "duration": 0,
    "start_time": "2022-06-20T01:46:00.224Z"
   },
   {
    "duration": 0,
    "start_time": "2022-06-20T01:46:00.225Z"
   },
   {
    "duration": 0,
    "start_time": "2022-06-20T01:46:00.226Z"
   },
   {
    "duration": 0,
    "start_time": "2022-06-20T01:46:00.228Z"
   },
   {
    "duration": 0,
    "start_time": "2022-06-20T01:46:00.229Z"
   },
   {
    "duration": 13,
    "start_time": "2022-06-20T01:46:12.648Z"
   },
   {
    "duration": 74,
    "start_time": "2022-06-20T01:59:54.203Z"
   },
   {
    "duration": 73,
    "start_time": "2022-06-20T02:12:14.216Z"
   },
   {
    "duration": 11,
    "start_time": "2022-06-20T02:12:26.150Z"
   },
   {
    "duration": 6,
    "start_time": "2022-06-20T02:12:58.304Z"
   },
   {
    "duration": 12,
    "start_time": "2022-06-20T02:13:15.371Z"
   },
   {
    "duration": 95,
    "start_time": "2022-06-20T02:14:01.086Z"
   },
   {
    "duration": 901,
    "start_time": "2022-06-20T02:14:23.901Z"
   },
   {
    "duration": 800,
    "start_time": "2022-06-20T02:14:43.667Z"
   },
   {
    "duration": 86,
    "start_time": "2022-06-20T02:14:51.495Z"
   },
   {
    "duration": 10,
    "start_time": "2022-06-20T02:15:38.401Z"
   },
   {
    "duration": 132,
    "start_time": "2022-06-20T02:15:39.357Z"
   },
   {
    "duration": 11,
    "start_time": "2022-06-20T02:16:42.874Z"
   },
   {
    "duration": 165,
    "start_time": "2022-06-20T02:16:45.018Z"
   },
   {
    "duration": 91,
    "start_time": "2022-06-20T02:18:06.491Z"
   },
   {
    "duration": 82,
    "start_time": "2022-06-20T02:18:21.043Z"
   },
   {
    "duration": 10,
    "start_time": "2022-06-20T02:27:30.912Z"
   },
   {
    "duration": 11,
    "start_time": "2022-06-20T02:27:42.043Z"
   },
   {
    "duration": 87,
    "start_time": "2022-06-20T02:27:43.211Z"
   },
   {
    "duration": 10,
    "start_time": "2022-06-20T02:27:44.383Z"
   },
   {
    "duration": 10,
    "start_time": "2022-06-20T02:27:52.097Z"
   },
   {
    "duration": 85,
    "start_time": "2022-06-20T02:28:18.726Z"
   },
   {
    "duration": 11,
    "start_time": "2022-06-20T02:28:54.406Z"
   },
   {
    "duration": 84,
    "start_time": "2022-06-20T02:29:34.014Z"
   },
   {
    "duration": 15,
    "start_time": "2022-06-20T02:34:25.783Z"
   },
   {
    "duration": 11,
    "start_time": "2022-06-20T02:35:16.641Z"
   },
   {
    "duration": 95,
    "start_time": "2022-06-20T02:36:11.641Z"
   },
   {
    "duration": 81,
    "start_time": "2022-06-20T02:36:25.555Z"
   },
   {
    "duration": 12,
    "start_time": "2022-06-20T02:36:26.350Z"
   },
   {
    "duration": 10,
    "start_time": "2022-06-20T02:38:38.847Z"
   },
   {
    "duration": 117,
    "start_time": "2022-06-20T02:39:08.785Z"
   },
   {
    "duration": 86,
    "start_time": "2022-06-20T02:39:22.347Z"
   },
   {
    "duration": 13,
    "start_time": "2022-06-20T02:40:07.885Z"
   },
   {
    "duration": 92,
    "start_time": "2022-06-20T02:45:37.189Z"
   },
   {
    "duration": 5,
    "start_time": "2022-06-20T02:47:02.408Z"
   },
   {
    "duration": 122,
    "start_time": "2022-06-20T02:47:04.409Z"
   },
   {
    "duration": 9,
    "start_time": "2022-06-20T03:13:05.740Z"
   },
   {
    "duration": 72,
    "start_time": "2022-06-20T03:13:58.133Z"
   },
   {
    "duration": 12,
    "start_time": "2022-06-20T03:14:46.942Z"
   },
   {
    "duration": 77,
    "start_time": "2022-06-20T03:15:07.676Z"
   },
   {
    "duration": 11,
    "start_time": "2022-06-20T03:15:37.554Z"
   },
   {
    "duration": 74,
    "start_time": "2022-06-20T03:16:06.695Z"
   },
   {
    "duration": 2,
    "start_time": "2022-06-20T03:20:04.864Z"
   },
   {
    "duration": 2,
    "start_time": "2022-06-20T03:26:13.616Z"
   },
   {
    "duration": 1071,
    "start_time": "2022-06-20T03:26:19.752Z"
   },
   {
    "duration": 59,
    "start_time": "2022-06-20T03:26:20.825Z"
   },
   {
    "duration": 18,
    "start_time": "2022-06-20T03:26:20.885Z"
   },
   {
    "duration": 4,
    "start_time": "2022-06-20T03:26:20.905Z"
   },
   {
    "duration": 14,
    "start_time": "2022-06-20T03:26:20.910Z"
   },
   {
    "duration": 6,
    "start_time": "2022-06-20T03:26:20.926Z"
   },
   {
    "duration": 19,
    "start_time": "2022-06-20T03:26:20.933Z"
   },
   {
    "duration": 6,
    "start_time": "2022-06-20T03:26:20.954Z"
   },
   {
    "duration": 6,
    "start_time": "2022-06-20T03:26:20.962Z"
   },
   {
    "duration": 6,
    "start_time": "2022-06-20T03:26:20.970Z"
   },
   {
    "duration": 18,
    "start_time": "2022-06-20T03:26:20.978Z"
   },
   {
    "duration": 4,
    "start_time": "2022-06-20T03:26:20.998Z"
   },
   {
    "duration": 10,
    "start_time": "2022-06-20T03:26:21.004Z"
   },
   {
    "duration": 5,
    "start_time": "2022-06-20T03:26:21.016Z"
   },
   {
    "duration": 5,
    "start_time": "2022-06-20T03:26:21.051Z"
   },
   {
    "duration": 15,
    "start_time": "2022-06-20T03:26:21.058Z"
   },
   {
    "duration": 310,
    "start_time": "2022-06-20T03:26:21.075Z"
   },
   {
    "duration": 14,
    "start_time": "2022-06-20T03:26:21.387Z"
   },
   {
    "duration": 181,
    "start_time": "2022-06-20T03:26:21.402Z"
   },
   {
    "duration": 168,
    "start_time": "2022-06-20T03:26:21.585Z"
   },
   {
    "duration": 134,
    "start_time": "2022-06-20T03:26:21.755Z"
   },
   {
    "duration": 165,
    "start_time": "2022-06-20T03:26:21.890Z"
   },
   {
    "duration": 146,
    "start_time": "2022-06-20T03:26:22.057Z"
   },
   {
    "duration": 4,
    "start_time": "2022-06-20T03:26:22.205Z"
   },
   {
    "duration": 14,
    "start_time": "2022-06-20T03:26:22.210Z"
   },
   {
    "duration": 4,
    "start_time": "2022-06-20T03:26:22.225Z"
   },
   {
    "duration": 447,
    "start_time": "2022-06-20T03:26:22.231Z"
   },
   {
    "duration": 264,
    "start_time": "2022-06-20T03:26:22.682Z"
   },
   {
    "duration": 13,
    "start_time": "2022-06-20T03:26:22.951Z"
   },
   {
    "duration": 150,
    "start_time": "2022-06-20T03:26:22.966Z"
   },
   {
    "duration": 3,
    "start_time": "2022-06-20T03:26:23.118Z"
   },
   {
    "duration": 145,
    "start_time": "2022-06-20T03:26:23.122Z"
   },
   {
    "duration": 4,
    "start_time": "2022-06-20T03:26:23.269Z"
   },
   {
    "duration": 158,
    "start_time": "2022-06-20T03:26:23.275Z"
   },
   {
    "duration": 4,
    "start_time": "2022-06-20T03:26:23.434Z"
   },
   {
    "duration": 140,
    "start_time": "2022-06-20T03:26:23.439Z"
   },
   {
    "duration": 4,
    "start_time": "2022-06-20T03:26:23.580Z"
   },
   {
    "duration": 16,
    "start_time": "2022-06-20T03:26:23.586Z"
   },
   {
    "duration": 14,
    "start_time": "2022-06-20T03:26:23.604Z"
   },
   {
    "duration": 102,
    "start_time": "2022-06-20T03:26:23.619Z"
   },
   {
    "duration": 11,
    "start_time": "2022-06-20T03:26:23.723Z"
   },
   {
    "duration": 97,
    "start_time": "2022-06-20T03:26:23.736Z"
   },
   {
    "duration": 25,
    "start_time": "2022-06-20T03:26:23.835Z"
   },
   {
    "duration": 92,
    "start_time": "2022-06-20T03:26:23.862Z"
   },
   {
    "duration": 11,
    "start_time": "2022-06-20T03:26:23.956Z"
   },
   {
    "duration": 100,
    "start_time": "2022-06-20T03:26:23.968Z"
   },
   {
    "duration": 11,
    "start_time": "2022-06-20T03:26:24.069Z"
   },
   {
    "duration": 109,
    "start_time": "2022-06-20T03:26:24.082Z"
   },
   {
    "duration": 11,
    "start_time": "2022-06-20T03:26:24.193Z"
   },
   {
    "duration": 99,
    "start_time": "2022-06-20T03:26:24.205Z"
   },
   {
    "duration": 5,
    "start_time": "2022-06-20T03:26:24.306Z"
   },
   {
    "duration": 11,
    "start_time": "2022-06-20T03:26:24.313Z"
   },
   {
    "duration": 175,
    "start_time": "2022-06-20T03:26:24.326Z"
   },
   {
    "duration": 10,
    "start_time": "2022-06-20T03:26:24.503Z"
   },
   {
    "duration": 88,
    "start_time": "2022-06-20T03:26:24.514Z"
   },
   {
    "duration": 9,
    "start_time": "2022-06-20T03:26:24.604Z"
   },
   {
    "duration": 85,
    "start_time": "2022-06-20T03:26:24.615Z"
   },
   {
    "duration": 95,
    "start_time": "2022-06-20T03:31:39.415Z"
   },
   {
    "duration": 15,
    "start_time": "2022-06-20T03:32:21.822Z"
   },
   {
    "duration": 16,
    "start_time": "2022-06-20T03:38:48.607Z"
   },
   {
    "duration": 1095,
    "start_time": "2022-06-20T03:38:56.232Z"
   },
   {
    "duration": 59,
    "start_time": "2022-06-20T03:38:57.329Z"
   },
   {
    "duration": 18,
    "start_time": "2022-06-20T03:38:57.390Z"
   },
   {
    "duration": 2,
    "start_time": "2022-06-20T03:38:57.410Z"
   },
   {
    "duration": 17,
    "start_time": "2022-06-20T03:38:57.413Z"
   },
   {
    "duration": 22,
    "start_time": "2022-06-20T03:38:57.431Z"
   },
   {
    "duration": 4,
    "start_time": "2022-06-20T03:38:57.455Z"
   },
   {
    "duration": 10,
    "start_time": "2022-06-20T03:38:57.461Z"
   },
   {
    "duration": 7,
    "start_time": "2022-06-20T03:38:57.472Z"
   },
   {
    "duration": 14,
    "start_time": "2022-06-20T03:38:57.481Z"
   },
   {
    "duration": 22,
    "start_time": "2022-06-20T03:38:57.497Z"
   },
   {
    "duration": 6,
    "start_time": "2022-06-20T03:38:57.520Z"
   },
   {
    "duration": 32,
    "start_time": "2022-06-20T03:38:57.527Z"
   },
   {
    "duration": 5,
    "start_time": "2022-06-20T03:38:57.560Z"
   },
   {
    "duration": 6,
    "start_time": "2022-06-20T03:38:57.567Z"
   },
   {
    "duration": 16,
    "start_time": "2022-06-20T03:38:57.575Z"
   },
   {
    "duration": 319,
    "start_time": "2022-06-20T03:38:57.593Z"
   },
   {
    "duration": 14,
    "start_time": "2022-06-20T03:38:57.913Z"
   },
   {
    "duration": 206,
    "start_time": "2022-06-20T03:38:57.929Z"
   },
   {
    "duration": 181,
    "start_time": "2022-06-20T03:38:58.137Z"
   },
   {
    "duration": 137,
    "start_time": "2022-06-20T03:38:58.320Z"
   },
   {
    "duration": 176,
    "start_time": "2022-06-20T03:38:58.459Z"
   },
   {
    "duration": 150,
    "start_time": "2022-06-20T03:38:58.637Z"
   },
   {
    "duration": 5,
    "start_time": "2022-06-20T03:38:58.788Z"
   },
   {
    "duration": 22,
    "start_time": "2022-06-20T03:38:58.794Z"
   },
   {
    "duration": 8,
    "start_time": "2022-06-20T03:38:58.818Z"
   },
   {
    "duration": 429,
    "start_time": "2022-06-20T03:38:58.827Z"
   },
   {
    "duration": 275,
    "start_time": "2022-06-20T03:38:59.259Z"
   },
   {
    "duration": 18,
    "start_time": "2022-06-20T03:38:59.536Z"
   },
   {
    "duration": 161,
    "start_time": "2022-06-20T03:38:59.555Z"
   },
   {
    "duration": 3,
    "start_time": "2022-06-20T03:38:59.718Z"
   },
   {
    "duration": 161,
    "start_time": "2022-06-20T03:38:59.723Z"
   },
   {
    "duration": 4,
    "start_time": "2022-06-20T03:38:59.885Z"
   },
   {
    "duration": 154,
    "start_time": "2022-06-20T03:38:59.890Z"
   },
   {
    "duration": 7,
    "start_time": "2022-06-20T03:39:00.046Z"
   },
   {
    "duration": 146,
    "start_time": "2022-06-20T03:39:00.055Z"
   },
   {
    "duration": 3,
    "start_time": "2022-06-20T03:39:00.203Z"
   },
   {
    "duration": 23,
    "start_time": "2022-06-20T03:39:00.208Z"
   },
   {
    "duration": 25,
    "start_time": "2022-06-20T03:39:00.233Z"
   },
   {
    "duration": 102,
    "start_time": "2022-06-20T03:39:00.260Z"
   },
   {
    "duration": 10,
    "start_time": "2022-06-20T03:39:00.364Z"
   },
   {
    "duration": 109,
    "start_time": "2022-06-20T03:39:00.375Z"
   },
   {
    "duration": 11,
    "start_time": "2022-06-20T03:39:00.485Z"
   },
   {
    "duration": 104,
    "start_time": "2022-06-20T03:39:00.497Z"
   },
   {
    "duration": 10,
    "start_time": "2022-06-20T03:39:00.603Z"
   },
   {
    "duration": 106,
    "start_time": "2022-06-20T03:39:00.615Z"
   },
   {
    "duration": 10,
    "start_time": "2022-06-20T03:39:00.723Z"
   },
   {
    "duration": 108,
    "start_time": "2022-06-20T03:39:00.735Z"
   },
   {
    "duration": 18,
    "start_time": "2022-06-20T03:39:00.845Z"
   },
   {
    "duration": 104,
    "start_time": "2022-06-20T03:39:00.865Z"
   },
   {
    "duration": 4,
    "start_time": "2022-06-20T03:39:00.971Z"
   },
   {
    "duration": 15,
    "start_time": "2022-06-20T03:39:00.977Z"
   },
   {
    "duration": 204,
    "start_time": "2022-06-20T03:39:00.993Z"
   },
   {
    "duration": 11,
    "start_time": "2022-06-20T03:39:01.199Z"
   },
   {
    "duration": 100,
    "start_time": "2022-06-20T03:39:01.211Z"
   },
   {
    "duration": 10,
    "start_time": "2022-06-20T03:39:01.313Z"
   },
   {
    "duration": 97,
    "start_time": "2022-06-20T03:39:01.324Z"
   },
   {
    "duration": 108,
    "start_time": "2022-06-20T03:39:01.423Z"
   },
   {
    "duration": 0,
    "start_time": "2022-06-20T03:39:01.533Z"
   },
   {
    "duration": 5,
    "start_time": "2022-06-20T03:39:25.340Z"
   },
   {
    "duration": 7,
    "start_time": "2022-06-20T03:47:59.664Z"
   },
   {
    "duration": 5,
    "start_time": "2022-06-20T03:49:15.910Z"
   },
   {
    "duration": 7,
    "start_time": "2022-06-20T03:52:10.994Z"
   },
   {
    "duration": 5,
    "start_time": "2022-06-20T03:52:38.362Z"
   },
   {
    "duration": 11,
    "start_time": "2022-06-20T03:53:24.047Z"
   },
   {
    "duration": 5,
    "start_time": "2022-06-20T03:54:24.124Z"
   },
   {
    "duration": 4,
    "start_time": "2022-06-20T03:54:27.867Z"
   },
   {
    "duration": 1419,
    "start_time": "2022-06-20T12:31:35.601Z"
   },
   {
    "duration": 100,
    "start_time": "2022-06-20T12:33:42.355Z"
   },
   {
    "duration": 10,
    "start_time": "2022-06-20T12:33:43.150Z"
   },
   {
    "duration": 1308,
    "start_time": "2022-06-20T12:33:53.880Z"
   },
   {
    "duration": 121,
    "start_time": "2022-06-20T12:33:55.190Z"
   },
   {
    "duration": 24,
    "start_time": "2022-06-20T12:33:55.314Z"
   },
   {
    "duration": 4,
    "start_time": "2022-06-20T12:33:55.340Z"
   },
   {
    "duration": 21,
    "start_time": "2022-06-20T12:33:55.346Z"
   },
   {
    "duration": 11,
    "start_time": "2022-06-20T12:33:55.370Z"
   },
   {
    "duration": 11,
    "start_time": "2022-06-20T12:33:55.383Z"
   },
   {
    "duration": 11,
    "start_time": "2022-06-20T12:33:55.395Z"
   },
   {
    "duration": 21,
    "start_time": "2022-06-20T12:33:55.408Z"
   },
   {
    "duration": 9,
    "start_time": "2022-06-20T12:33:55.432Z"
   },
   {
    "duration": 26,
    "start_time": "2022-06-20T12:33:55.443Z"
   },
   {
    "duration": 7,
    "start_time": "2022-06-20T12:33:55.471Z"
   },
   {
    "duration": 30,
    "start_time": "2022-06-20T12:33:55.480Z"
   },
   {
    "duration": 10,
    "start_time": "2022-06-20T12:33:55.527Z"
   },
   {
    "duration": 10,
    "start_time": "2022-06-20T12:33:55.539Z"
   },
   {
    "duration": 31,
    "start_time": "2022-06-20T12:33:55.552Z"
   },
   {
    "duration": 454,
    "start_time": "2022-06-20T12:33:55.585Z"
   },
   {
    "duration": 19,
    "start_time": "2022-06-20T12:33:56.042Z"
   },
   {
    "duration": 241,
    "start_time": "2022-06-20T12:33:56.064Z"
   },
   {
    "duration": 241,
    "start_time": "2022-06-20T12:33:56.308Z"
   },
   {
    "duration": 184,
    "start_time": "2022-06-20T12:33:56.551Z"
   },
   {
    "duration": 212,
    "start_time": "2022-06-20T12:33:56.737Z"
   },
   {
    "duration": 166,
    "start_time": "2022-06-20T12:33:56.951Z"
   },
   {
    "duration": 11,
    "start_time": "2022-06-20T12:33:57.119Z"
   },
   {
    "duration": 21,
    "start_time": "2022-06-20T12:33:57.133Z"
   },
   {
    "duration": 12,
    "start_time": "2022-06-20T12:33:57.156Z"
   },
   {
    "duration": 666,
    "start_time": "2022-06-20T12:33:57.170Z"
   },
   {
    "duration": 385,
    "start_time": "2022-06-20T12:33:57.843Z"
   },
   {
    "duration": 22,
    "start_time": "2022-06-20T12:33:58.231Z"
   },
   {
    "duration": 212,
    "start_time": "2022-06-20T12:33:58.256Z"
   },
   {
    "duration": 7,
    "start_time": "2022-06-20T12:33:58.470Z"
   },
   {
    "duration": 254,
    "start_time": "2022-06-20T12:33:58.480Z"
   },
   {
    "duration": 10,
    "start_time": "2022-06-20T12:33:58.737Z"
   },
   {
    "duration": 281,
    "start_time": "2022-06-20T12:33:58.750Z"
   },
   {
    "duration": 7,
    "start_time": "2022-06-20T12:33:59.033Z"
   },
   {
    "duration": 238,
    "start_time": "2022-06-20T12:33:59.043Z"
   },
   {
    "duration": 6,
    "start_time": "2022-06-20T12:33:59.284Z"
   },
   {
    "duration": 43,
    "start_time": "2022-06-20T12:33:59.292Z"
   },
   {
    "duration": 16,
    "start_time": "2022-06-20T12:33:59.337Z"
   },
   {
    "duration": 149,
    "start_time": "2022-06-20T12:33:59.355Z"
   },
   {
    "duration": 29,
    "start_time": "2022-06-20T12:33:59.506Z"
   },
   {
    "duration": 133,
    "start_time": "2022-06-20T12:33:59.538Z"
   },
   {
    "duration": 19,
    "start_time": "2022-06-20T12:33:59.673Z"
   },
   {
    "duration": 138,
    "start_time": "2022-06-20T12:33:59.694Z"
   },
   {
    "duration": 16,
    "start_time": "2022-06-20T12:33:59.835Z"
   },
   {
    "duration": 141,
    "start_time": "2022-06-20T12:33:59.853Z"
   },
   {
    "duration": 13,
    "start_time": "2022-06-20T12:33:59.997Z"
   },
   {
    "duration": 142,
    "start_time": "2022-06-20T12:34:00.013Z"
   },
   {
    "duration": 16,
    "start_time": "2022-06-20T12:34:00.158Z"
   },
   {
    "duration": 125,
    "start_time": "2022-06-20T12:34:00.176Z"
   },
   {
    "duration": 26,
    "start_time": "2022-06-20T12:34:00.303Z"
   },
   {
    "duration": 38,
    "start_time": "2022-06-20T12:34:00.332Z"
   },
   {
    "duration": 231,
    "start_time": "2022-06-20T12:34:00.372Z"
   },
   {
    "duration": 28,
    "start_time": "2022-06-20T12:34:00.605Z"
   },
   {
    "duration": 150,
    "start_time": "2022-06-20T12:34:00.636Z"
   },
   {
    "duration": 13,
    "start_time": "2022-06-20T12:34:00.788Z"
   },
   {
    "duration": 153,
    "start_time": "2022-06-20T12:34:00.803Z"
   },
   {
    "duration": 10,
    "start_time": "2022-06-20T12:34:00.959Z"
   },
   {
    "duration": 27,
    "start_time": "2022-06-20T12:34:00.972Z"
   },
   {
    "duration": 58,
    "start_time": "2022-06-20T12:34:01.001Z"
   },
   {
    "duration": 21,
    "start_time": "2022-06-20T12:34:01.062Z"
   },
   {
    "duration": 21,
    "start_time": "2022-06-20T12:34:01.086Z"
   },
   {
    "duration": 112,
    "start_time": "2022-06-20T12:34:01.109Z"
   },
   {
    "duration": 8,
    "start_time": "2022-06-20T12:38:12.529Z"
   },
   {
    "duration": 7,
    "start_time": "2022-06-20T12:38:14.816Z"
   },
   {
    "duration": 7,
    "start_time": "2022-06-20T12:38:15.532Z"
   },
   {
    "duration": 9,
    "start_time": "2022-06-20T12:46:08.231Z"
   },
   {
    "duration": 7,
    "start_time": "2022-06-20T12:46:08.971Z"
   },
   {
    "duration": 5,
    "start_time": "2022-06-20T12:46:09.737Z"
   },
   {
    "duration": 15,
    "start_time": "2022-06-20T12:46:11.208Z"
   },
   {
    "duration": 14,
    "start_time": "2022-06-20T12:49:50.471Z"
   },
   {
    "duration": 17,
    "start_time": "2022-06-20T12:51:01.701Z"
   },
   {
    "duration": 332,
    "start_time": "2022-06-20T12:51:18.341Z"
   },
   {
    "duration": 322,
    "start_time": "2022-06-20T12:51:36.649Z"
   },
   {
    "duration": 324,
    "start_time": "2022-06-20T12:51:44.599Z"
   },
   {
    "duration": 7,
    "start_time": "2022-06-20T12:57:34.127Z"
   },
   {
    "duration": 23,
    "start_time": "2022-06-20T12:57:35.625Z"
   },
   {
    "duration": 26,
    "start_time": "2022-06-20T12:57:38.376Z"
   },
   {
    "duration": 12,
    "start_time": "2022-06-20T13:02:49.717Z"
   },
   {
    "duration": 6,
    "start_time": "2022-06-20T13:03:50.227Z"
   },
   {
    "duration": 436,
    "start_time": "2022-06-20T13:03:50.900Z"
   },
   {
    "duration": 61,
    "start_time": "2022-06-20T13:16:26.391Z"
   },
   {
    "duration": 185,
    "start_time": "2022-06-20T13:17:06.226Z"
   },
   {
    "duration": 175,
    "start_time": "2022-06-20T13:18:35.318Z"
   },
   {
    "duration": 4,
    "start_time": "2022-06-20T13:18:36.466Z"
   },
   {
    "duration": 46,
    "start_time": "2022-06-20T13:19:07.806Z"
   },
   {
    "duration": 61,
    "start_time": "2022-06-20T13:27:51.495Z"
   },
   {
    "duration": 12,
    "start_time": "2022-06-20T14:18:27.262Z"
   },
   {
    "duration": 12,
    "start_time": "2022-06-20T14:21:07.348Z"
   },
   {
    "duration": 189,
    "start_time": "2022-06-20T14:21:08.752Z"
   },
   {
    "duration": 13,
    "start_time": "2022-06-20T14:22:35.001Z"
   },
   {
    "duration": 89,
    "start_time": "2022-06-20T14:22:36.156Z"
   },
   {
    "duration": 11,
    "start_time": "2022-06-20T14:28:18.294Z"
   },
   {
    "duration": 106,
    "start_time": "2022-06-20T14:28:19.220Z"
   },
   {
    "duration": 14,
    "start_time": "2022-06-20T14:29:26.301Z"
   },
   {
    "duration": 94,
    "start_time": "2022-06-20T14:29:27.187Z"
   },
   {
    "duration": 10,
    "start_time": "2022-06-20T14:42:51.506Z"
   },
   {
    "duration": 13,
    "start_time": "2022-06-20T14:46:31.352Z"
   },
   {
    "duration": 10,
    "start_time": "2022-06-20T14:46:34.142Z"
   },
   {
    "duration": 1061,
    "start_time": "2022-06-21T10:14:58.023Z"
   },
   {
    "duration": 63,
    "start_time": "2022-06-21T10:15:00.313Z"
   },
   {
    "duration": 3,
    "start_time": "2022-06-21T10:15:32.142Z"
   },
   {
    "duration": 5,
    "start_time": "2022-06-21T10:15:37.443Z"
   },
   {
    "duration": 7,
    "start_time": "2022-06-21T10:16:07.272Z"
   },
   {
    "duration": 5,
    "start_time": "2022-06-21T10:16:08.943Z"
   },
   {
    "duration": 18,
    "start_time": "2022-06-21T10:16:14.591Z"
   },
   {
    "duration": 5,
    "start_time": "2022-06-21T10:18:01.720Z"
   },
   {
    "duration": 6,
    "start_time": "2022-06-21T10:18:03.145Z"
   },
   {
    "duration": 5,
    "start_time": "2022-06-21T10:18:05.084Z"
   },
   {
    "duration": 18,
    "start_time": "2022-06-21T10:19:34.538Z"
   },
   {
    "duration": 168,
    "start_time": "2022-06-21T10:19:43.012Z"
   },
   {
    "duration": 145,
    "start_time": "2022-06-21T10:19:47.151Z"
   },
   {
    "duration": 87,
    "start_time": "2022-06-21T10:20:35.251Z"
   },
   {
    "duration": 4,
    "start_time": "2022-06-21T10:20:53.180Z"
   },
   {
    "duration": 6,
    "start_time": "2022-06-21T10:20:56.178Z"
   },
   {
    "duration": 321,
    "start_time": "2022-06-21T10:20:59.650Z"
   },
   {
    "duration": 1399,
    "start_time": "2022-06-22T01:44:26.125Z"
   },
   {
    "duration": 153,
    "start_time": "2022-06-22T01:44:27.528Z"
   },
   {
    "duration": 21,
    "start_time": "2022-06-22T01:44:27.684Z"
   },
   {
    "duration": 4,
    "start_time": "2022-06-22T01:44:32.792Z"
   },
   {
    "duration": 21,
    "start_time": "2022-06-22T01:44:33.339Z"
   },
   {
    "duration": 5,
    "start_time": "2022-06-22T01:44:35.402Z"
   },
   {
    "duration": 10,
    "start_time": "2022-06-22T01:44:36.446Z"
   },
   {
    "duration": 8,
    "start_time": "2022-06-22T01:44:40.175Z"
   },
   {
    "duration": 6,
    "start_time": "2022-06-22T01:44:40.752Z"
   },
   {
    "duration": 6,
    "start_time": "2022-06-22T01:44:41.353Z"
   },
   {
    "duration": 18,
    "start_time": "2022-06-22T01:44:44.159Z"
   },
   {
    "duration": 6,
    "start_time": "2022-06-22T01:44:49.124Z"
   },
   {
    "duration": 23,
    "start_time": "2022-06-22T01:44:53.539Z"
   },
   {
    "duration": 17,
    "start_time": "2022-06-22T01:45:53.778Z"
   },
   {
    "duration": 380,
    "start_time": "2022-06-22T01:45:54.699Z"
   },
   {
    "duration": 15,
    "start_time": "2022-06-22T01:46:01.355Z"
   },
   {
    "duration": 239,
    "start_time": "2022-06-22T01:46:01.373Z"
   },
   {
    "duration": 194,
    "start_time": "2022-06-22T01:46:04.348Z"
   },
   {
    "duration": 166,
    "start_time": "2022-06-22T01:46:04.548Z"
   },
   {
    "duration": 184,
    "start_time": "2022-06-22T01:46:04.716Z"
   },
   {
    "duration": 172,
    "start_time": "2022-06-22T01:46:04.902Z"
   },
   {
    "duration": 9,
    "start_time": "2022-06-22T01:46:07.026Z"
   },
   {
    "duration": 11,
    "start_time": "2022-06-22T01:46:07.207Z"
   },
   {
    "duration": 4,
    "start_time": "2022-06-22T01:46:10.074Z"
   },
   {
    "duration": 526,
    "start_time": "2022-06-22T01:46:10.555Z"
   },
   {
    "duration": 303,
    "start_time": "2022-06-22T01:46:16.246Z"
   },
   {
    "duration": 15,
    "start_time": "2022-06-22T01:46:18.882Z"
   },
   {
    "duration": 166,
    "start_time": "2022-06-22T01:46:20.417Z"
   },
   {
    "duration": 4,
    "start_time": "2022-06-22T01:46:21.057Z"
   },
   {
    "duration": 146,
    "start_time": "2022-06-22T01:46:22.673Z"
   },
   {
    "duration": 4,
    "start_time": "2022-06-22T01:46:24.891Z"
   },
   {
    "duration": 156,
    "start_time": "2022-06-22T01:50:52.752Z"
   },
   {
    "duration": 158,
    "start_time": "2022-06-22T01:51:29.316Z"
   },
   {
    "duration": 5,
    "start_time": "2022-06-22T01:51:32.707Z"
   },
   {
    "duration": 158,
    "start_time": "2022-06-22T01:51:42.395Z"
   },
   {
    "duration": 11,
    "start_time": "2022-06-22T01:51:43.753Z"
   },
   {
    "duration": 15,
    "start_time": "2022-06-22T01:54:03.852Z"
   },
   {
    "duration": 12,
    "start_time": "2022-06-22T01:58:00.355Z"
   },
   {
    "duration": 111,
    "start_time": "2022-06-22T01:58:01.456Z"
   },
   {
    "duration": 15,
    "start_time": "2022-06-22T01:58:02.955Z"
   },
   {
    "duration": 113,
    "start_time": "2022-06-22T01:58:03.692Z"
   },
   {
    "duration": 15,
    "start_time": "2022-06-22T01:58:04.909Z"
   },
   {
    "duration": 113,
    "start_time": "2022-06-22T01:58:05.654Z"
   },
   {
    "duration": 23,
    "start_time": "2022-06-22T01:58:07.320Z"
   },
   {
    "duration": 103,
    "start_time": "2022-06-22T01:58:07.821Z"
   },
   {
    "duration": 16,
    "start_time": "2022-06-22T01:58:09.040Z"
   },
   {
    "duration": 213,
    "start_time": "2022-06-22T01:58:09.554Z"
   },
   {
    "duration": 11,
    "start_time": "2022-06-22T01:58:10.506Z"
   },
   {
    "duration": 104,
    "start_time": "2022-06-22T01:58:11.213Z"
   },
   {
    "duration": 5,
    "start_time": "2022-06-22T01:58:12.875Z"
   },
   {
    "duration": 13,
    "start_time": "2022-06-22T01:58:13.346Z"
   },
   {
    "duration": 84,
    "start_time": "2022-06-22T01:58:13.854Z"
   },
   {
    "duration": 14,
    "start_time": "2022-06-22T01:58:15.070Z"
   },
   {
    "duration": 124,
    "start_time": "2022-06-22T01:58:15.567Z"
   },
   {
    "duration": 68,
    "start_time": "2022-06-22T01:58:16.111Z"
   },
   {
    "duration": 13,
    "start_time": "2022-06-22T01:58:16.826Z"
   },
   {
    "duration": 94,
    "start_time": "2022-06-22T01:58:17.547Z"
   },
   {
    "duration": 7,
    "start_time": "2022-06-22T02:01:30.463Z"
   },
   {
    "duration": 5,
    "start_time": "2022-06-22T02:01:32.671Z"
   },
   {
    "duration": 13,
    "start_time": "2022-06-22T02:01:34.280Z"
   },
   {
    "duration": 1157,
    "start_time": "2022-06-22T02:01:46.152Z"
   },
   {
    "duration": 92,
    "start_time": "2022-06-22T02:01:47.311Z"
   },
   {
    "duration": 19,
    "start_time": "2022-06-22T02:01:47.404Z"
   },
   {
    "duration": 11,
    "start_time": "2022-06-22T02:01:47.424Z"
   },
   {
    "duration": 40,
    "start_time": "2022-06-22T02:01:47.437Z"
   },
   {
    "duration": 9,
    "start_time": "2022-06-22T02:01:47.479Z"
   },
   {
    "duration": 8,
    "start_time": "2022-06-22T02:01:47.489Z"
   },
   {
    "duration": 10,
    "start_time": "2022-06-22T02:01:47.499Z"
   },
   {
    "duration": 5,
    "start_time": "2022-06-22T02:01:47.510Z"
   },
   {
    "duration": 32,
    "start_time": "2022-06-22T02:01:47.517Z"
   },
   {
    "duration": 34,
    "start_time": "2022-06-22T02:01:47.550Z"
   },
   {
    "duration": 5,
    "start_time": "2022-06-22T02:01:47.586Z"
   },
   {
    "duration": 10,
    "start_time": "2022-06-22T02:01:47.592Z"
   },
   {
    "duration": 37,
    "start_time": "2022-06-22T02:01:47.606Z"
   },
   {
    "duration": 30,
    "start_time": "2022-06-22T02:01:47.648Z"
   },
   {
    "duration": 352,
    "start_time": "2022-06-22T02:01:47.679Z"
   },
   {
    "duration": 20,
    "start_time": "2022-06-22T02:01:48.033Z"
   },
   {
    "duration": 195,
    "start_time": "2022-06-22T02:01:48.060Z"
   },
   {
    "duration": 185,
    "start_time": "2022-06-22T02:01:48.257Z"
   },
   {
    "duration": 140,
    "start_time": "2022-06-22T02:01:48.447Z"
   },
   {
    "duration": 198,
    "start_time": "2022-06-22T02:01:48.589Z"
   },
   {
    "duration": 155,
    "start_time": "2022-06-22T02:01:48.789Z"
   },
   {
    "duration": 8,
    "start_time": "2022-06-22T02:01:48.947Z"
   },
   {
    "duration": 16,
    "start_time": "2022-06-22T02:01:48.957Z"
   },
   {
    "duration": 4,
    "start_time": "2022-06-22T02:01:48.975Z"
   },
   {
    "duration": 483,
    "start_time": "2022-06-22T02:01:48.980Z"
   },
   {
    "duration": 340,
    "start_time": "2022-06-22T02:01:49.465Z"
   },
   {
    "duration": 36,
    "start_time": "2022-06-22T02:01:49.807Z"
   },
   {
    "duration": 158,
    "start_time": "2022-06-22T02:01:49.847Z"
   },
   {
    "duration": 4,
    "start_time": "2022-06-22T02:01:50.007Z"
   },
   {
    "duration": 181,
    "start_time": "2022-06-22T02:01:50.012Z"
   },
   {
    "duration": 4,
    "start_time": "2022-06-22T02:01:50.195Z"
   },
   {
    "duration": 180,
    "start_time": "2022-06-22T02:01:50.201Z"
   },
   {
    "duration": 4,
    "start_time": "2022-06-22T02:01:50.383Z"
   },
   {
    "duration": 167,
    "start_time": "2022-06-22T02:01:50.389Z"
   },
   {
    "duration": 5,
    "start_time": "2022-06-22T02:01:50.558Z"
   },
   {
    "duration": 25,
    "start_time": "2022-06-22T02:01:50.565Z"
   },
   {
    "duration": 11,
    "start_time": "2022-06-22T02:01:50.592Z"
   },
   {
    "duration": 111,
    "start_time": "2022-06-22T02:01:50.605Z"
   },
   {
    "duration": 26,
    "start_time": "2022-06-22T02:01:50.718Z"
   },
   {
    "duration": 115,
    "start_time": "2022-06-22T02:01:50.750Z"
   },
   {
    "duration": 11,
    "start_time": "2022-06-22T02:01:50.867Z"
   },
   {
    "duration": 106,
    "start_time": "2022-06-22T02:01:50.879Z"
   },
   {
    "duration": 12,
    "start_time": "2022-06-22T02:01:50.986Z"
   },
   {
    "duration": 129,
    "start_time": "2022-06-22T02:01:50.999Z"
   },
   {
    "duration": 20,
    "start_time": "2022-06-22T02:01:51.139Z"
   },
   {
    "duration": 102,
    "start_time": "2022-06-22T02:01:51.161Z"
   },
   {
    "duration": 10,
    "start_time": "2022-06-22T02:01:51.265Z"
   },
   {
    "duration": 114,
    "start_time": "2022-06-22T02:01:51.277Z"
   },
   {
    "duration": 5,
    "start_time": "2022-06-22T02:01:51.392Z"
   },
   {
    "duration": 11,
    "start_time": "2022-06-22T02:01:51.399Z"
   },
   {
    "duration": 257,
    "start_time": "2022-06-22T02:01:51.411Z"
   },
   {
    "duration": 15,
    "start_time": "2022-06-22T02:01:51.670Z"
   },
   {
    "duration": 128,
    "start_time": "2022-06-22T02:01:51.686Z"
   },
   {
    "duration": 15,
    "start_time": "2022-06-22T02:01:51.827Z"
   },
   {
    "duration": 127,
    "start_time": "2022-06-22T02:01:51.845Z"
   },
   {
    "duration": 6,
    "start_time": "2022-06-22T02:01:51.974Z"
   },
   {
    "duration": 11,
    "start_time": "2022-06-22T02:01:51.982Z"
   },
   {
    "duration": 20,
    "start_time": "2022-06-22T02:01:51.994Z"
   },
   {
    "duration": 8,
    "start_time": "2022-06-22T02:01:52.015Z"
   },
   {
    "duration": 34,
    "start_time": "2022-06-22T02:01:52.025Z"
   },
   {
    "duration": 6,
    "start_time": "2022-06-22T02:01:52.061Z"
   },
   {
    "duration": 36,
    "start_time": "2022-06-22T02:20:22.043Z"
   },
   {
    "duration": 34,
    "start_time": "2022-06-22T02:21:15.342Z"
   },
   {
    "duration": 1103,
    "start_time": "2022-06-22T11:08:44.676Z"
   },
   {
    "duration": 76,
    "start_time": "2022-06-22T11:08:46.611Z"
   },
   {
    "duration": 3,
    "start_time": "2022-06-22T11:08:51.080Z"
   },
   {
    "duration": 6,
    "start_time": "2022-06-22T11:08:53.642Z"
   },
   {
    "duration": 9,
    "start_time": "2022-06-22T11:08:57.627Z"
   },
   {
    "duration": 6,
    "start_time": "2022-06-22T11:08:59.058Z"
   },
   {
    "duration": 26,
    "start_time": "2022-06-22T11:09:02.422Z"
   },
   {
    "duration": 4,
    "start_time": "2022-06-22T11:09:05.677Z"
   },
   {
    "duration": 4,
    "start_time": "2022-06-22T11:09:07.210Z"
   },
   {
    "duration": 19,
    "start_time": "2022-06-22T11:09:16.795Z"
   },
   {
    "duration": 5,
    "start_time": "2022-06-22T11:09:25.856Z"
   },
   {
    "duration": 154,
    "start_time": "2022-06-22T11:09:37.936Z"
   },
   {
    "duration": 153,
    "start_time": "2022-06-22T11:09:42.801Z"
   },
   {
    "duration": 161,
    "start_time": "2022-06-22T11:09:52.991Z"
   },
   {
    "duration": 135,
    "start_time": "2022-06-22T11:09:58.651Z"
   }
  ],
  "kernelspec": {
   "display_name": "Python 3 (ipykernel)",
   "language": "python",
   "name": "python3"
  },
  "language_info": {
   "codemirror_mode": {
    "name": "ipython",
    "version": 3
   },
   "file_extension": ".py",
   "mimetype": "text/x-python",
   "name": "python",
   "nbconvert_exporter": "python",
   "pygments_lexer": "ipython3",
   "version": "3.9.7"
  },
  "toc": {
   "base_numbering": 1,
   "nav_menu": {},
   "number_sections": true,
   "sideBar": true,
   "skip_h1_title": true,
   "title_cell": "Содержание ",
   "title_sidebar": "Contents",
   "toc_cell": true,
   "toc_position": {
    "height": "calc(100% - 180px)",
    "left": "10px",
    "top": "150px",
    "width": "286.225px"
   },
   "toc_section_display": true,
   "toc_window_display": true
  }
 },
 "nbformat": 4,
 "nbformat_minor": 2
}
