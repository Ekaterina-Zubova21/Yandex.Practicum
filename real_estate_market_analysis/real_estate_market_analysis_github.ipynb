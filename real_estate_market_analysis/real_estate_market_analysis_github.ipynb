{
 "cells": [
  {
   "cell_type": "markdown",
   "metadata": {
    "toc": true
   },
   "source": [
    "<h1>Содержание<span class=\"tocSkip\"></span></h1>\n",
    "<div class=\"toc\"><ul class=\"toc-item\"><li><span><a href=\"#Изучение-данных-из-файла\" data-toc-modified-id=\"Изучение-данных-из-файла-1\"><span class=\"toc-item-num\">1&nbsp;&nbsp;</span>Изучение данных из файла</a></span><ul class=\"toc-item\"><li><span><a href=\"#Вывод\" data-toc-modified-id=\"Вывод-1.1\"><span class=\"toc-item-num\">1.1&nbsp;&nbsp;</span>Вывод</a></span></li></ul></li><li><span><a href=\"#Предобработка-данных\" data-toc-modified-id=\"Предобработка-данных-2\"><span class=\"toc-item-num\">2&nbsp;&nbsp;</span>Предобработка данных</a></span><ul class=\"toc-item\"><li><span><a href=\"#Столбец-'ceiling_height'\" data-toc-modified-id=\"Столбец-'ceiling_height'-2.1\"><span class=\"toc-item-num\">2.1&nbsp;&nbsp;</span>Столбец 'ceiling_height'</a></span></li><li><span><a href=\"#Столбец-'floors_total'\" data-toc-modified-id=\"Столбец-'floors_total'-2.2\"><span class=\"toc-item-num\">2.2&nbsp;&nbsp;</span>Столбец 'floors_total'</a></span></li><li><span><a href=\"#Столбец-'living_area'\" data-toc-modified-id=\"Столбец-'living_area'-2.3\"><span class=\"toc-item-num\">2.3&nbsp;&nbsp;</span>Столбец 'living_area'</a></span></li><li><span><a href=\"#Столбец-'is_apartment'\" data-toc-modified-id=\"Столбец-'is_apartment'-2.4\"><span class=\"toc-item-num\">2.4&nbsp;&nbsp;</span>Столбец 'is_apartment'</a></span></li><li><span><a href=\"#Столбец-'kitchen_area'\" data-toc-modified-id=\"Столбец-'kitchen_area'-2.5\"><span class=\"toc-item-num\">2.5&nbsp;&nbsp;</span>Столбец 'kitchen_area'</a></span></li><li><span><a href=\"#Столбец-'balcony'\" data-toc-modified-id=\"Столбец-'balcony'-2.6\"><span class=\"toc-item-num\">2.6&nbsp;&nbsp;</span>Столбец 'balcony'</a></span></li><li><span><a href=\"#Столбец-'locality_name'\" data-toc-modified-id=\"Столбец-'locality_name'-2.7\"><span class=\"toc-item-num\">2.7&nbsp;&nbsp;</span>Столбец 'locality_name'</a></span></li><li><span><a href=\"#Столбцы-'cityCenter_nearest'-и-'airports_nearest'\" data-toc-modified-id=\"Столбцы-'cityCenter_nearest'-и-'airports_nearest'-2.8\"><span class=\"toc-item-num\">2.8&nbsp;&nbsp;</span>Столбцы 'cityCenter_nearest' и 'airports_nearest'</a></span></li><li><span><a href=\"#Столбцы-'parks_around3000',--'parks_nearest',-'ponds_around3000'-и-'ponds_around3000'\" data-toc-modified-id=\"Столбцы-'parks_around3000',--'parks_nearest',-'ponds_around3000'-и-'ponds_around3000'-2.9\"><span class=\"toc-item-num\">2.9&nbsp;&nbsp;</span>Столбцы 'parks_around3000',  'parks_nearest', 'ponds_around3000' и 'ponds_around3000'</a></span></li><li><span><a href=\"#Столбец-'days_exposition'\" data-toc-modified-id=\"Столбец-'days_exposition'-2.10\"><span class=\"toc-item-num\">2.10&nbsp;&nbsp;</span>Столбец 'days_exposition'</a></span></li><li><span><a href=\"#Приведение-к-нужным-типам-данных\" data-toc-modified-id=\"Приведение-к-нужным-типам-данных-2.11\"><span class=\"toc-item-num\">2.11&nbsp;&nbsp;</span>Приведение к нужным типам данных</a></span></li></ul></li><li><span><a href=\"#Расчёты-и-добавление-результатов-в-таблицу\" data-toc-modified-id=\"Расчёты-и-добавление-результатов-в-таблицу-3\"><span class=\"toc-item-num\">3&nbsp;&nbsp;</span>Расчёты и добавление результатов в таблицу</a></span></li><li><span><a href=\"#Исследовательский-анализ-данных\" data-toc-modified-id=\"Исследовательский-анализ-данных-4\"><span class=\"toc-item-num\">4&nbsp;&nbsp;</span>Исследовательский анализ данных</a></span><ul class=\"toc-item\"><li><span><a href=\"#Изучение-основных-параметров\" data-toc-modified-id=\"Изучение-основных-параметров-4.1\"><span class=\"toc-item-num\">4.1&nbsp;&nbsp;</span>Изучение основных параметров</a></span></li><li><span><a href=\"#Изучение-времени-продажи-квартиры\" data-toc-modified-id=\"Изучение-времени-продажи-квартиры-4.2\"><span class=\"toc-item-num\">4.2&nbsp;&nbsp;</span>Изучение времени продажи квартиры</a></span></li><li><span><a href=\"#Работа-с-экстремальными-значениями\" data-toc-modified-id=\"Работа-с-экстремальными-значениями-4.3\"><span class=\"toc-item-num\">4.3&nbsp;&nbsp;</span>Работа с экстремальными значениями</a></span></li><li><span><a href=\"#Анализ-факторов,-влияющих-на-стоимость-квартиры\" data-toc-modified-id=\"Анализ-факторов,-влияющих-на-стоимость-квартиры-4.4\"><span class=\"toc-item-num\">4.4&nbsp;&nbsp;</span>Анализ факторов, влияющих на стоимость квартиры</a></span></li><li><span><a href=\"#Анализ-10-пунктов-с-наибольшим-числом-объявлений\" data-toc-modified-id=\"Анализ-10-пунктов-с-наибольшим-числом-объявлений-4.5\"><span class=\"toc-item-num\">4.5&nbsp;&nbsp;</span>Анализ 10 пунктов с наибольшим числом объявлений</a></span></li><li><span><a href=\"#Анализ-предложения-в-Санкт-Петербурге\" data-toc-modified-id=\"Анализ-предложения-в-Санкт-Петербурге-4.6\"><span class=\"toc-item-num\">4.6&nbsp;&nbsp;</span>Анализ предложения в Санкт-Петербурге</a></span></li><li><span><a href=\"#Анализ-квартир-в-центре\" data-toc-modified-id=\"Анализ-квартир-в-центре-4.7\"><span class=\"toc-item-num\">4.7&nbsp;&nbsp;</span>Анализ квартир в центре</a></span></li></ul></li><li><span><a href=\"#Общий-вывод\" data-toc-modified-id=\"Общий-вывод-5\"><span class=\"toc-item-num\">5&nbsp;&nbsp;</span>Общий вывод</a></span></li><li><span><a href=\"#Чек-лист-готовности-проекта\" data-toc-modified-id=\"Чек-лист-готовности-проекта-6\"><span class=\"toc-item-num\">6&nbsp;&nbsp;</span>Чек-лист готовности проекта</a></span></li></ul></div>"
   ]
  },
  {
   "cell_type": "markdown",
   "metadata": {},
   "source": [
    "# Исследование объявлений о продаже квартир\n",
    "\n",
    "В нашем распоряжении данные сервиса Яндекc Недвижимость — архив объявлений о продаже квартир в Санкт-Петербурге и соседних населённых пунктах за несколько лет. Нужно научиться определять рыночную стоимость объектов недвижимости. Наша задача — установить параметры. Это позволит построить автоматизированную систему: она отследит аномалии и мошенническую деятельность. \n",
    "\n",
    "По каждой квартире на продажу доступны два вида данных. Первые вписаны пользователем, вторые получены автоматически на основе картографических данных. Например, расстояние до центра, аэропорта, ближайшего парка и водоёма.\n",
    "\n",
    "Описание данных:\n",
    "* airports_nearest — расстояние до ближайшего аэропорта в метрах (м)\n",
    "* balcony — число балконов\n",
    "* ceiling_height — высота потолков (м)\n",
    "* cityCenters_nearest — расстояние до центра города (м)\n",
    "* days_exposition — сколько дней было размещено объявление (от публикации до снятия)\n",
    "* first_day_exposition — дата публикации\n",
    "* floor — этаж\n",
    "* floors_total — всего этажей в доме\n",
    "* is_apartment — апартаменты (булев тип)\n",
    "* kitchen_area — площадь кухни в квадратных метрах (м²)\n",
    "* last_price — цена на момент снятия с публикации\n",
    "* living_area — жилая площадь в квадратных метрах (м²)\n",
    "* locality_name — название населённого пункта\n",
    "* open_plan — свободная планировка (булев тип)\n",
    "* parks_around3000 — число парков в радиусе 3 км\n",
    "* parks_nearest — расстояние до ближайшего парка (м)\n",
    "* ponds_around3000 — число водоёмов в радиусе 3 км\n",
    "* ponds_nearest — расстояние до ближайшего водоёма (м)\n",
    "* rooms — число комнат\n",
    "* studio — квартира-студия (булев тип)\n",
    "* total_area — площадь квартиры в квадратных метрах (м²)\n",
    "* total_images — число фотографий квартиры в объявлении"
   ]
  },
  {
   "cell_type": "markdown",
   "metadata": {},
   "source": [
    "## Изучение данных из файла"
   ]
  },
  {
   "cell_type": "code",
   "execution_count": 139,
   "metadata": {},
   "outputs": [],
   "source": [
    "import pandas as pd\n",
    "\n",
    "import warnings\n",
    "warnings.filterwarnings(\"ignore\")\n",
    "\n",
    "import seaborn as sns"
   ]
  },
  {
   "cell_type": "code",
   "execution_count": 2,
   "metadata": {},
   "outputs": [],
   "source": [
    "try: \n",
    "    df = pd.read_csv('datasets/real_estate_data.csv', sep='\\t')\n",
    "except FileNotFoundError:\n",
    "    df = pd.read_csv('/datasets/real_estate_data.csv', sep='\\t') "
   ]
  },
  {
   "cell_type": "markdown",
   "metadata": {},
   "source": [
    "Для начала изучим информацию о таблице с данными."
   ]
  },
  {
   "cell_type": "code",
   "execution_count": 3,
   "metadata": {},
   "outputs": [
    {
     "name": "stdout",
     "output_type": "stream",
     "text": [
      "<class 'pandas.core.frame.DataFrame'>\n",
      "RangeIndex: 23699 entries, 0 to 23698\n",
      "Data columns (total 22 columns):\n",
      " #   Column                Non-Null Count  Dtype  \n",
      "---  ------                --------------  -----  \n",
      " 0   total_images          23699 non-null  int64  \n",
      " 1   last_price            23699 non-null  float64\n",
      " 2   total_area            23699 non-null  float64\n",
      " 3   first_day_exposition  23699 non-null  object \n",
      " 4   rooms                 23699 non-null  int64  \n",
      " 5   ceiling_height        14504 non-null  float64\n",
      " 6   floors_total          23613 non-null  float64\n",
      " 7   living_area           21796 non-null  float64\n",
      " 8   floor                 23699 non-null  int64  \n",
      " 9   is_apartment          2775 non-null   object \n",
      " 10  studio                23699 non-null  bool   \n",
      " 11  open_plan             23699 non-null  bool   \n",
      " 12  kitchen_area          21421 non-null  float64\n",
      " 13  balcony               12180 non-null  float64\n",
      " 14  locality_name         23650 non-null  object \n",
      " 15  airports_nearest      18157 non-null  float64\n",
      " 16  cityCenters_nearest   18180 non-null  float64\n",
      " 17  parks_around3000      18181 non-null  float64\n",
      " 18  parks_nearest         8079 non-null   float64\n",
      " 19  ponds_around3000      18181 non-null  float64\n",
      " 20  ponds_nearest         9110 non-null   float64\n",
      " 21  days_exposition       20518 non-null  float64\n",
      "dtypes: bool(2), float64(14), int64(3), object(3)\n",
      "memory usage: 3.7+ MB\n"
     ]
    }
   ],
   "source": [
    "df.info()"
   ]
  },
  {
   "cell_type": "code",
   "execution_count": 4,
   "metadata": {},
   "outputs": [
    {
     "data": {
      "text/html": [
       "<div>\n",
       "<style scoped>\n",
       "    .dataframe tbody tr th:only-of-type {\n",
       "        vertical-align: middle;\n",
       "    }\n",
       "\n",
       "    .dataframe tbody tr th {\n",
       "        vertical-align: top;\n",
       "    }\n",
       "\n",
       "    .dataframe thead th {\n",
       "        text-align: right;\n",
       "    }\n",
       "</style>\n",
       "<table border=\"1\" class=\"dataframe\">\n",
       "  <thead>\n",
       "    <tr style=\"text-align: right;\">\n",
       "      <th></th>\n",
       "      <th>total_images</th>\n",
       "      <th>last_price</th>\n",
       "      <th>total_area</th>\n",
       "      <th>first_day_exposition</th>\n",
       "      <th>rooms</th>\n",
       "      <th>ceiling_height</th>\n",
       "      <th>floors_total</th>\n",
       "      <th>living_area</th>\n",
       "      <th>floor</th>\n",
       "      <th>is_apartment</th>\n",
       "      <th>...</th>\n",
       "      <th>kitchen_area</th>\n",
       "      <th>balcony</th>\n",
       "      <th>locality_name</th>\n",
       "      <th>airports_nearest</th>\n",
       "      <th>cityCenters_nearest</th>\n",
       "      <th>parks_around3000</th>\n",
       "      <th>parks_nearest</th>\n",
       "      <th>ponds_around3000</th>\n",
       "      <th>ponds_nearest</th>\n",
       "      <th>days_exposition</th>\n",
       "    </tr>\n",
       "  </thead>\n",
       "  <tbody>\n",
       "    <tr>\n",
       "      <th>0</th>\n",
       "      <td>20</td>\n",
       "      <td>13000000.0</td>\n",
       "      <td>108.00</td>\n",
       "      <td>2019-03-07T00:00:00</td>\n",
       "      <td>3</td>\n",
       "      <td>2.70</td>\n",
       "      <td>16.0</td>\n",
       "      <td>51.00</td>\n",
       "      <td>8</td>\n",
       "      <td>NaN</td>\n",
       "      <td>...</td>\n",
       "      <td>25.00</td>\n",
       "      <td>NaN</td>\n",
       "      <td>Санкт-Петербург</td>\n",
       "      <td>18863.0</td>\n",
       "      <td>16028.0</td>\n",
       "      <td>1.0</td>\n",
       "      <td>482.0</td>\n",
       "      <td>2.0</td>\n",
       "      <td>755.0</td>\n",
       "      <td>NaN</td>\n",
       "    </tr>\n",
       "    <tr>\n",
       "      <th>1</th>\n",
       "      <td>7</td>\n",
       "      <td>3350000.0</td>\n",
       "      <td>40.40</td>\n",
       "      <td>2018-12-04T00:00:00</td>\n",
       "      <td>1</td>\n",
       "      <td>NaN</td>\n",
       "      <td>11.0</td>\n",
       "      <td>18.60</td>\n",
       "      <td>1</td>\n",
       "      <td>NaN</td>\n",
       "      <td>...</td>\n",
       "      <td>11.00</td>\n",
       "      <td>2.0</td>\n",
       "      <td>посёлок Шушары</td>\n",
       "      <td>12817.0</td>\n",
       "      <td>18603.0</td>\n",
       "      <td>0.0</td>\n",
       "      <td>NaN</td>\n",
       "      <td>0.0</td>\n",
       "      <td>NaN</td>\n",
       "      <td>81.0</td>\n",
       "    </tr>\n",
       "    <tr>\n",
       "      <th>2</th>\n",
       "      <td>10</td>\n",
       "      <td>5196000.0</td>\n",
       "      <td>56.00</td>\n",
       "      <td>2015-08-20T00:00:00</td>\n",
       "      <td>2</td>\n",
       "      <td>NaN</td>\n",
       "      <td>5.0</td>\n",
       "      <td>34.30</td>\n",
       "      <td>4</td>\n",
       "      <td>NaN</td>\n",
       "      <td>...</td>\n",
       "      <td>8.30</td>\n",
       "      <td>0.0</td>\n",
       "      <td>Санкт-Петербург</td>\n",
       "      <td>21741.0</td>\n",
       "      <td>13933.0</td>\n",
       "      <td>1.0</td>\n",
       "      <td>90.0</td>\n",
       "      <td>2.0</td>\n",
       "      <td>574.0</td>\n",
       "      <td>558.0</td>\n",
       "    </tr>\n",
       "    <tr>\n",
       "      <th>3</th>\n",
       "      <td>0</td>\n",
       "      <td>64900000.0</td>\n",
       "      <td>159.00</td>\n",
       "      <td>2015-07-24T00:00:00</td>\n",
       "      <td>3</td>\n",
       "      <td>NaN</td>\n",
       "      <td>14.0</td>\n",
       "      <td>NaN</td>\n",
       "      <td>9</td>\n",
       "      <td>NaN</td>\n",
       "      <td>...</td>\n",
       "      <td>NaN</td>\n",
       "      <td>0.0</td>\n",
       "      <td>Санкт-Петербург</td>\n",
       "      <td>28098.0</td>\n",
       "      <td>6800.0</td>\n",
       "      <td>2.0</td>\n",
       "      <td>84.0</td>\n",
       "      <td>3.0</td>\n",
       "      <td>234.0</td>\n",
       "      <td>424.0</td>\n",
       "    </tr>\n",
       "    <tr>\n",
       "      <th>4</th>\n",
       "      <td>2</td>\n",
       "      <td>10000000.0</td>\n",
       "      <td>100.00</td>\n",
       "      <td>2018-06-19T00:00:00</td>\n",
       "      <td>2</td>\n",
       "      <td>3.03</td>\n",
       "      <td>14.0</td>\n",
       "      <td>32.00</td>\n",
       "      <td>13</td>\n",
       "      <td>NaN</td>\n",
       "      <td>...</td>\n",
       "      <td>41.00</td>\n",
       "      <td>NaN</td>\n",
       "      <td>Санкт-Петербург</td>\n",
       "      <td>31856.0</td>\n",
       "      <td>8098.0</td>\n",
       "      <td>2.0</td>\n",
       "      <td>112.0</td>\n",
       "      <td>1.0</td>\n",
       "      <td>48.0</td>\n",
       "      <td>121.0</td>\n",
       "    </tr>\n",
       "    <tr>\n",
       "      <th>5</th>\n",
       "      <td>10</td>\n",
       "      <td>2890000.0</td>\n",
       "      <td>30.40</td>\n",
       "      <td>2018-09-10T00:00:00</td>\n",
       "      <td>1</td>\n",
       "      <td>NaN</td>\n",
       "      <td>12.0</td>\n",
       "      <td>14.40</td>\n",
       "      <td>5</td>\n",
       "      <td>NaN</td>\n",
       "      <td>...</td>\n",
       "      <td>9.10</td>\n",
       "      <td>NaN</td>\n",
       "      <td>городской посёлок Янино-1</td>\n",
       "      <td>NaN</td>\n",
       "      <td>NaN</td>\n",
       "      <td>NaN</td>\n",
       "      <td>NaN</td>\n",
       "      <td>NaN</td>\n",
       "      <td>NaN</td>\n",
       "      <td>55.0</td>\n",
       "    </tr>\n",
       "    <tr>\n",
       "      <th>6</th>\n",
       "      <td>6</td>\n",
       "      <td>3700000.0</td>\n",
       "      <td>37.30</td>\n",
       "      <td>2017-11-02T00:00:00</td>\n",
       "      <td>1</td>\n",
       "      <td>NaN</td>\n",
       "      <td>26.0</td>\n",
       "      <td>10.60</td>\n",
       "      <td>6</td>\n",
       "      <td>NaN</td>\n",
       "      <td>...</td>\n",
       "      <td>14.40</td>\n",
       "      <td>1.0</td>\n",
       "      <td>посёлок Парголово</td>\n",
       "      <td>52996.0</td>\n",
       "      <td>19143.0</td>\n",
       "      <td>0.0</td>\n",
       "      <td>NaN</td>\n",
       "      <td>0.0</td>\n",
       "      <td>NaN</td>\n",
       "      <td>155.0</td>\n",
       "    </tr>\n",
       "    <tr>\n",
       "      <th>7</th>\n",
       "      <td>5</td>\n",
       "      <td>7915000.0</td>\n",
       "      <td>71.60</td>\n",
       "      <td>2019-04-18T00:00:00</td>\n",
       "      <td>2</td>\n",
       "      <td>NaN</td>\n",
       "      <td>24.0</td>\n",
       "      <td>NaN</td>\n",
       "      <td>22</td>\n",
       "      <td>NaN</td>\n",
       "      <td>...</td>\n",
       "      <td>18.90</td>\n",
       "      <td>2.0</td>\n",
       "      <td>Санкт-Петербург</td>\n",
       "      <td>23982.0</td>\n",
       "      <td>11634.0</td>\n",
       "      <td>0.0</td>\n",
       "      <td>NaN</td>\n",
       "      <td>0.0</td>\n",
       "      <td>NaN</td>\n",
       "      <td>NaN</td>\n",
       "    </tr>\n",
       "    <tr>\n",
       "      <th>8</th>\n",
       "      <td>20</td>\n",
       "      <td>2900000.0</td>\n",
       "      <td>33.16</td>\n",
       "      <td>2018-05-23T00:00:00</td>\n",
       "      <td>1</td>\n",
       "      <td>NaN</td>\n",
       "      <td>27.0</td>\n",
       "      <td>15.43</td>\n",
       "      <td>26</td>\n",
       "      <td>NaN</td>\n",
       "      <td>...</td>\n",
       "      <td>8.81</td>\n",
       "      <td>NaN</td>\n",
       "      <td>посёлок Мурино</td>\n",
       "      <td>NaN</td>\n",
       "      <td>NaN</td>\n",
       "      <td>NaN</td>\n",
       "      <td>NaN</td>\n",
       "      <td>NaN</td>\n",
       "      <td>NaN</td>\n",
       "      <td>189.0</td>\n",
       "    </tr>\n",
       "    <tr>\n",
       "      <th>9</th>\n",
       "      <td>18</td>\n",
       "      <td>5400000.0</td>\n",
       "      <td>61.00</td>\n",
       "      <td>2017-02-26T00:00:00</td>\n",
       "      <td>3</td>\n",
       "      <td>2.50</td>\n",
       "      <td>9.0</td>\n",
       "      <td>43.60</td>\n",
       "      <td>7</td>\n",
       "      <td>NaN</td>\n",
       "      <td>...</td>\n",
       "      <td>6.50</td>\n",
       "      <td>2.0</td>\n",
       "      <td>Санкт-Петербург</td>\n",
       "      <td>50898.0</td>\n",
       "      <td>15008.0</td>\n",
       "      <td>0.0</td>\n",
       "      <td>NaN</td>\n",
       "      <td>0.0</td>\n",
       "      <td>NaN</td>\n",
       "      <td>289.0</td>\n",
       "    </tr>\n",
       "  </tbody>\n",
       "</table>\n",
       "<p>10 rows × 22 columns</p>\n",
       "</div>"
      ],
      "text/plain": [
       "   total_images  last_price  total_area first_day_exposition  rooms  \\\n",
       "0            20  13000000.0      108.00  2019-03-07T00:00:00      3   \n",
       "1             7   3350000.0       40.40  2018-12-04T00:00:00      1   \n",
       "2            10   5196000.0       56.00  2015-08-20T00:00:00      2   \n",
       "3             0  64900000.0      159.00  2015-07-24T00:00:00      3   \n",
       "4             2  10000000.0      100.00  2018-06-19T00:00:00      2   \n",
       "5            10   2890000.0       30.40  2018-09-10T00:00:00      1   \n",
       "6             6   3700000.0       37.30  2017-11-02T00:00:00      1   \n",
       "7             5   7915000.0       71.60  2019-04-18T00:00:00      2   \n",
       "8            20   2900000.0       33.16  2018-05-23T00:00:00      1   \n",
       "9            18   5400000.0       61.00  2017-02-26T00:00:00      3   \n",
       "\n",
       "   ceiling_height  floors_total  living_area  floor is_apartment  ...  \\\n",
       "0            2.70          16.0        51.00      8          NaN  ...   \n",
       "1             NaN          11.0        18.60      1          NaN  ...   \n",
       "2             NaN           5.0        34.30      4          NaN  ...   \n",
       "3             NaN          14.0          NaN      9          NaN  ...   \n",
       "4            3.03          14.0        32.00     13          NaN  ...   \n",
       "5             NaN          12.0        14.40      5          NaN  ...   \n",
       "6             NaN          26.0        10.60      6          NaN  ...   \n",
       "7             NaN          24.0          NaN     22          NaN  ...   \n",
       "8             NaN          27.0        15.43     26          NaN  ...   \n",
       "9            2.50           9.0        43.60      7          NaN  ...   \n",
       "\n",
       "   kitchen_area  balcony              locality_name  airports_nearest  \\\n",
       "0         25.00      NaN            Санкт-Петербург           18863.0   \n",
       "1         11.00      2.0             посёлок Шушары           12817.0   \n",
       "2          8.30      0.0            Санкт-Петербург           21741.0   \n",
       "3           NaN      0.0            Санкт-Петербург           28098.0   \n",
       "4         41.00      NaN            Санкт-Петербург           31856.0   \n",
       "5          9.10      NaN  городской посёлок Янино-1               NaN   \n",
       "6         14.40      1.0          посёлок Парголово           52996.0   \n",
       "7         18.90      2.0            Санкт-Петербург           23982.0   \n",
       "8          8.81      NaN             посёлок Мурино               NaN   \n",
       "9          6.50      2.0            Санкт-Петербург           50898.0   \n",
       "\n",
       "  cityCenters_nearest  parks_around3000  parks_nearest  ponds_around3000  \\\n",
       "0             16028.0               1.0          482.0               2.0   \n",
       "1             18603.0               0.0            NaN               0.0   \n",
       "2             13933.0               1.0           90.0               2.0   \n",
       "3              6800.0               2.0           84.0               3.0   \n",
       "4              8098.0               2.0          112.0               1.0   \n",
       "5                 NaN               NaN            NaN               NaN   \n",
       "6             19143.0               0.0            NaN               0.0   \n",
       "7             11634.0               0.0            NaN               0.0   \n",
       "8                 NaN               NaN            NaN               NaN   \n",
       "9             15008.0               0.0            NaN               0.0   \n",
       "\n",
       "   ponds_nearest  days_exposition  \n",
       "0          755.0              NaN  \n",
       "1            NaN             81.0  \n",
       "2          574.0            558.0  \n",
       "3          234.0            424.0  \n",
       "4           48.0            121.0  \n",
       "5            NaN             55.0  \n",
       "6            NaN            155.0  \n",
       "7            NaN              NaN  \n",
       "8            NaN            189.0  \n",
       "9            NaN            289.0  \n",
       "\n",
       "[10 rows x 22 columns]"
      ]
     },
     "execution_count": 4,
     "metadata": {},
     "output_type": "execute_result"
    }
   ],
   "source": [
    "df.head(10)"
   ]
  },
  {
   "cell_type": "markdown",
   "metadata": {},
   "source": [
    "### Вывод"
   ]
  },
  {
   "cell_type": "markdown",
   "metadata": {},
   "source": [
    "В таблице 23699 строк, пропуски есть в 14 из 22 столбцах."
   ]
  },
  {
   "cell_type": "markdown",
   "metadata": {},
   "source": [
    "## Предобработка данных"
   ]
  },
  {
   "cell_type": "markdown",
   "metadata": {},
   "source": [
    "Приступим к предобработке данных. Начнем со столбца ceiling_height."
   ]
  },
  {
   "cell_type": "markdown",
   "metadata": {},
   "source": [
    "### Столбец 'ceiling_height'"
   ]
  },
  {
   "cell_type": "code",
   "execution_count": 5,
   "metadata": {
    "scrolled": true
   },
   "outputs": [
    {
     "data": {
      "text/plain": [
       "count    14504.000000\n",
       "mean         2.771499\n",
       "std          1.261056\n",
       "min          1.000000\n",
       "25%          2.520000\n",
       "50%          2.650000\n",
       "75%          2.800000\n",
       "max        100.000000\n",
       "Name: ceiling_height, dtype: float64"
      ]
     },
     "execution_count": 5,
     "metadata": {},
     "output_type": "execute_result"
    }
   ],
   "source": [
    "df['ceiling_height'].describe()"
   ]
  },
  {
   "cell_type": "markdown",
   "metadata": {},
   "source": [
    "В столбце есть пропуски, экстремально низкие (1 м) и экстремально высокие значения (100 м), что не соответсвует реальности. Сначала заменим все пропущенные значения на высоту потолков, рекомендуемую СНиПом - 2,7 м. "
   ]
  },
  {
   "cell_type": "code",
   "execution_count": 6,
   "metadata": {},
   "outputs": [],
   "source": [
    "df['ceiling_height'] = df['ceiling_height'].fillna(2.7)"
   ]
  },
  {
   "cell_type": "code",
   "execution_count": 7,
   "metadata": {},
   "outputs": [
    {
     "name": "stdout",
     "output_type": "stream",
     "text": [
      "<class 'pandas.core.frame.DataFrame'>\n",
      "RangeIndex: 23699 entries, 0 to 23698\n",
      "Data columns (total 22 columns):\n",
      " #   Column                Non-Null Count  Dtype  \n",
      "---  ------                --------------  -----  \n",
      " 0   total_images          23699 non-null  int64  \n",
      " 1   last_price            23699 non-null  float64\n",
      " 2   total_area            23699 non-null  float64\n",
      " 3   first_day_exposition  23699 non-null  object \n",
      " 4   rooms                 23699 non-null  int64  \n",
      " 5   ceiling_height        23699 non-null  float64\n",
      " 6   floors_total          23613 non-null  float64\n",
      " 7   living_area           21796 non-null  float64\n",
      " 8   floor                 23699 non-null  int64  \n",
      " 9   is_apartment          2775 non-null   object \n",
      " 10  studio                23699 non-null  bool   \n",
      " 11  open_plan             23699 non-null  bool   \n",
      " 12  kitchen_area          21421 non-null  float64\n",
      " 13  balcony               12180 non-null  float64\n",
      " 14  locality_name         23650 non-null  object \n",
      " 15  airports_nearest      18157 non-null  float64\n",
      " 16  cityCenters_nearest   18180 non-null  float64\n",
      " 17  parks_around3000      18181 non-null  float64\n",
      " 18  parks_nearest         8079 non-null   float64\n",
      " 19  ponds_around3000      18181 non-null  float64\n",
      " 20  ponds_nearest         9110 non-null   float64\n",
      " 21  days_exposition       20518 non-null  float64\n",
      "dtypes: bool(2), float64(14), int64(3), object(3)\n",
      "memory usage: 3.7+ MB\n"
     ]
    }
   ],
   "source": [
    "df.info()"
   ]
  },
  {
   "cell_type": "markdown",
   "metadata": {},
   "source": [
    "Пропуски в столбце устранены. Теперь построим гистограмму по данным из полученного столбца."
   ]
  },
  {
   "cell_type": "code",
   "execution_count": 8,
   "metadata": {},
   "outputs": [
    {
     "data": {
      "text/plain": [
       "<AxesSubplot:>"
      ]
     },
     "execution_count": 8,
     "metadata": {},
     "output_type": "execute_result"
    },
    {
     "data": {
      "image/png": "[encoded data removed]",
      "text/plain": [
       "<Figure size 432x288 with 1 Axes>"
      ]
     },
     "metadata": {
      "needs_background": "light"
     },
     "output_type": "display_data"
    }
   ],
   "source": [
    "df['ceiling_height'].hist(bins = 10, range = (0, 5))"
   ]
  },
  {
   "cell_type": "markdown",
   "metadata": {},
   "source": [
    "Мы видим, что основная бОльшая часть данных лежит в диапазоне от 2,5 м до 4 м. Устраним экстремальные значения. Предположим, что во всех строках, где высота потолка равна от 25 м до 40 м, была пропущена запятая при заполнении, и их необходимо разделить на 10. В остальных лучаях заменим высоту потолков на рекомендуемую СНиП - 2.7 м."
   ]
  },
  {
   "cell_type": "code",
   "execution_count": 9,
   "metadata": {},
   "outputs": [],
   "source": [
    "def ceiling_func(height):\n",
    "    if height < 2.5:\n",
    "        return 2.7\n",
    "    if height >= 2.5 and height <= 4:\n",
    "        return height\n",
    "    if height > 4 and height < 25:\n",
    "        return 2.7\n",
    "    if height >= 25 and height <= 40:\n",
    "        return height/10\n",
    "    return 2.7\n",
    "df['ceiling_height'] = df['ceiling_height'].apply(ceiling_func)    "
   ]
  },
  {
   "cell_type": "code",
   "execution_count": 10,
   "metadata": {},
   "outputs": [
    {
     "data": {
      "text/plain": [
       "count    23699.000000\n",
       "mean         2.713795\n",
       "std          0.200585\n",
       "min          2.500000\n",
       "25%          2.600000\n",
       "50%          2.700000\n",
       "75%          2.700000\n",
       "max          4.000000\n",
       "Name: ceiling_height, dtype: float64"
      ]
     },
     "execution_count": 10,
     "metadata": {},
     "output_type": "execute_result"
    }
   ],
   "source": [
    "df['ceiling_height'].describe()"
   ]
  },
  {
   "cell_type": "markdown",
   "metadata": {},
   "source": [
    "Пропуск и экстремальные значения устранены."
   ]
  },
  {
   "cell_type": "markdown",
   "metadata": {},
   "source": [
    "### Столбец 'floors_total'"
   ]
  },
  {
   "cell_type": "code",
   "execution_count": 11,
   "metadata": {
    "scrolled": true
   },
   "outputs": [
    {
     "name": "stdout",
     "output_type": "stream",
     "text": [
      "99.63711549010506\n"
     ]
    }
   ],
   "source": [
    "floors_total_missed_share = 23613 / df.shape[0]  * 100\n",
    "print(floors_total_missed_share)"
   ]
  },
  {
   "cell_type": "markdown",
   "metadata": {},
   "source": [
    "Доля пропущенных незначительна, составляет менее 1%. Предположим, что если при заполнении столбца не указали общее количество этажей, то квартира расположена на последнем этаже здания. "
   ]
  },
  {
   "cell_type": "code",
   "execution_count": 12,
   "metadata": {},
   "outputs": [],
   "source": [
    "df['floors_total'] = df['floors_total'].fillna(df['floor'])\n"
   ]
  },
  {
   "cell_type": "code",
   "execution_count": 13,
   "metadata": {},
   "outputs": [
    {
     "data": {
      "text/plain": [
       "array([16., 11.,  5., 14., 12., 26., 24., 27.,  9.,  6., 17., 25.,  3.,\n",
       "       23., 19., 18.,  4., 22.,  8.,  2., 10.,  7., 13., 15.,  1., 20.,\n",
       "       28., 36., 21., 35., 34., 60., 29., 33., 52., 37.])"
      ]
     },
     "execution_count": 13,
     "metadata": {},
     "output_type": "execute_result"
    }
   ],
   "source": [
    "df['floors_total'].unique()"
   ]
  },
  {
   "cell_type": "markdown",
   "metadata": {},
   "source": [
    "### Столбец 'living_area'"
   ]
  },
  {
   "cell_type": "markdown",
   "metadata": {},
   "source": [
    "Далее устраним пропуски в столбце 'living_area'. Для этого найдем отношение жилой площади к общей для столбцов с ненулевыми значениями и найдем медианное значение. Затем умножим медианное значение на общую площадь квартир и получим жилую площадь в строках, где ранее отсутствовали данные. "
   ]
  },
  {
   "cell_type": "code",
   "execution_count": 14,
   "metadata": {},
   "outputs": [
    {
     "name": "stdout",
     "output_type": "stream",
     "text": [
      "0.5678598992678503\n"
     ]
    }
   ],
   "source": [
    "living_area_ratio_median = (df['living_area'] / df['total_area']).median()\n",
    "print(living_area_ratio_median)"
   ]
  },
  {
   "cell_type": "code",
   "execution_count": 15,
   "metadata": {},
   "outputs": [],
   "source": [
    "df['living_area'] = df['living_area'].fillna(df['total_area'] * living_area_ratio_median)"
   ]
  },
  {
   "cell_type": "code",
   "execution_count": 16,
   "metadata": {},
   "outputs": [
    {
     "name": "stdout",
     "output_type": "stream",
     "text": [
      "<class 'pandas.core.frame.DataFrame'>\n",
      "RangeIndex: 23699 entries, 0 to 23698\n",
      "Data columns (total 22 columns):\n",
      " #   Column                Non-Null Count  Dtype  \n",
      "---  ------                --------------  -----  \n",
      " 0   total_images          23699 non-null  int64  \n",
      " 1   last_price            23699 non-null  float64\n",
      " 2   total_area            23699 non-null  float64\n",
      " 3   first_day_exposition  23699 non-null  object \n",
      " 4   rooms                 23699 non-null  int64  \n",
      " 5   ceiling_height        23699 non-null  float64\n",
      " 6   floors_total          23699 non-null  float64\n",
      " 7   living_area           23699 non-null  float64\n",
      " 8   floor                 23699 non-null  int64  \n",
      " 9   is_apartment          2775 non-null   object \n",
      " 10  studio                23699 non-null  bool   \n",
      " 11  open_plan             23699 non-null  bool   \n",
      " 12  kitchen_area          21421 non-null  float64\n",
      " 13  balcony               12180 non-null  float64\n",
      " 14  locality_name         23650 non-null  object \n",
      " 15  airports_nearest      18157 non-null  float64\n",
      " 16  cityCenters_nearest   18180 non-null  float64\n",
      " 17  parks_around3000      18181 non-null  float64\n",
      " 18  parks_nearest         8079 non-null   float64\n",
      " 19  ponds_around3000      18181 non-null  float64\n",
      " 20  ponds_nearest         9110 non-null   float64\n",
      " 21  days_exposition       20518 non-null  float64\n",
      "dtypes: bool(2), float64(14), int64(3), object(3)\n",
      "memory usage: 3.7+ MB\n"
     ]
    }
   ],
   "source": [
    "df.info()"
   ]
  },
  {
   "cell_type": "markdown",
   "metadata": {},
   "source": [
    "### Столбец 'is_apartment'"
   ]
  },
  {
   "cell_type": "markdown",
   "metadata": {},
   "source": [
    "Далее удалим пропуски в столбце 'is_apartment'. "
   ]
  },
  {
   "cell_type": "code",
   "execution_count": 17,
   "metadata": {},
   "outputs": [
    {
     "data": {
      "text/plain": [
       "array([nan, False, True], dtype=object)"
      ]
     },
     "execution_count": 17,
     "metadata": {},
     "output_type": "execute_result"
    }
   ],
   "source": [
    "df['is_apartment'].unique() "
   ]
  },
  {
   "cell_type": "markdown",
   "metadata": {},
   "source": [
    "Если не указано, является ли объект недвижимости апартаментом, предположим, что нет."
   ]
  },
  {
   "cell_type": "code",
   "execution_count": 18,
   "metadata": {},
   "outputs": [],
   "source": [
    "df['is_apartment'] = df['is_apartment'].fillna(False)"
   ]
  },
  {
   "cell_type": "code",
   "execution_count": 19,
   "metadata": {},
   "outputs": [
    {
     "data": {
      "text/plain": [
       "array([False,  True])"
      ]
     },
     "execution_count": 19,
     "metadata": {},
     "output_type": "execute_result"
    }
   ],
   "source": [
    "df['is_apartment'].unique() "
   ]
  },
  {
   "cell_type": "markdown",
   "metadata": {},
   "source": [
    "### Столбец 'kitchen_area'"
   ]
  },
  {
   "cell_type": "markdown",
   "metadata": {},
   "source": [
    "По аналогии с жилой площадью опредилим отношение площади кухни к общей площади квартир. Найдем медианное значение и умножим его на общую площадь в строках, где пропущены значения."
   ]
  },
  {
   "cell_type": "code",
   "execution_count": 20,
   "metadata": {},
   "outputs": [
    {
     "name": "stdout",
     "output_type": "stream",
     "text": [
      "0.1724137931034483\n"
     ]
    }
   ],
   "source": [
    "kitchen_area_ratio_median = (df['kitchen_area'] / df['total_area']).median()\n",
    "print(kitchen_area_ratio_median)"
   ]
  },
  {
   "cell_type": "code",
   "execution_count": 21,
   "metadata": {},
   "outputs": [],
   "source": [
    "df['kitchen_area'] = df['kitchen_area'].fillna(df['total_area'] * kitchen_area_ratio_median)"
   ]
  },
  {
   "cell_type": "code",
   "execution_count": 22,
   "metadata": {},
   "outputs": [
    {
     "name": "stdout",
     "output_type": "stream",
     "text": [
      "<class 'pandas.core.frame.DataFrame'>\n",
      "RangeIndex: 23699 entries, 0 to 23698\n",
      "Data columns (total 22 columns):\n",
      " #   Column                Non-Null Count  Dtype  \n",
      "---  ------                --------------  -----  \n",
      " 0   total_images          23699 non-null  int64  \n",
      " 1   last_price            23699 non-null  float64\n",
      " 2   total_area            23699 non-null  float64\n",
      " 3   first_day_exposition  23699 non-null  object \n",
      " 4   rooms                 23699 non-null  int64  \n",
      " 5   ceiling_height        23699 non-null  float64\n",
      " 6   floors_total          23699 non-null  float64\n",
      " 7   living_area           23699 non-null  float64\n",
      " 8   floor                 23699 non-null  int64  \n",
      " 9   is_apartment          23699 non-null  bool   \n",
      " 10  studio                23699 non-null  bool   \n",
      " 11  open_plan             23699 non-null  bool   \n",
      " 12  kitchen_area          23699 non-null  float64\n",
      " 13  balcony               12180 non-null  float64\n",
      " 14  locality_name         23650 non-null  object \n",
      " 15  airports_nearest      18157 non-null  float64\n",
      " 16  cityCenters_nearest   18180 non-null  float64\n",
      " 17  parks_around3000      18181 non-null  float64\n",
      " 18  parks_nearest         8079 non-null   float64\n",
      " 19  ponds_around3000      18181 non-null  float64\n",
      " 20  ponds_nearest         9110 non-null   float64\n",
      " 21  days_exposition       20518 non-null  float64\n",
      "dtypes: bool(3), float64(14), int64(3), object(2)\n",
      "memory usage: 3.5+ MB\n"
     ]
    }
   ],
   "source": [
    "df.info()"
   ]
  },
  {
   "cell_type": "markdown",
   "metadata": {},
   "source": [
    "### Столбец 'balcony'"
   ]
  },
  {
   "cell_type": "markdown",
   "metadata": {},
   "source": [
    "Далее удалим пропуски в столбце 'balcony'. "
   ]
  },
  {
   "cell_type": "code",
   "execution_count": 23,
   "metadata": {},
   "outputs": [
    {
     "data": {
      "text/plain": [
       "array([nan,  2.,  0.,  1.,  5.,  4.,  3.])"
      ]
     },
     "execution_count": 23,
     "metadata": {},
     "output_type": "execute_result"
    }
   ],
   "source": [
    "df['balcony'].unique() "
   ]
  },
  {
   "cell_type": "markdown",
   "metadata": {},
   "source": [
    "Предположим, что если пользователи не указали количество балконов, то они отстутсвуют. Заменим nan на 0."
   ]
  },
  {
   "cell_type": "code",
   "execution_count": 24,
   "metadata": {},
   "outputs": [],
   "source": [
    "df['balcony'] = df['balcony'].fillna(0)"
   ]
  },
  {
   "cell_type": "code",
   "execution_count": 25,
   "metadata": {},
   "outputs": [
    {
     "data": {
      "text/plain": [
       "array([0., 2., 1., 5., 4., 3.])"
      ]
     },
     "execution_count": 25,
     "metadata": {},
     "output_type": "execute_result"
    }
   ],
   "source": [
    "df['balcony'].unique() "
   ]
  },
  {
   "cell_type": "markdown",
   "metadata": {},
   "source": [
    "### Столбец 'locality_name'"
   ]
  },
  {
   "cell_type": "code",
   "execution_count": 26,
   "metadata": {
    "scrolled": false
   },
   "outputs": [
    {
     "data": {
      "text/plain": [
       "array(['Санкт-Петербург', 'посёлок Шушары', 'городской посёлок Янино-1',\n",
       "       'посёлок Парголово', 'посёлок Мурино', 'Ломоносов', 'Сертолово',\n",
       "       'Петергоф', 'Пушкин', 'деревня Кудрово', 'Коммунар', 'Колпино',\n",
       "       'поселок городского типа Красный Бор', 'Гатчина', 'поселок Мурино',\n",
       "       'деревня Фёдоровское', 'Выборг', 'Кронштадт', 'Кировск',\n",
       "       'деревня Новое Девяткино', 'посёлок Металлострой',\n",
       "       'посёлок городского типа Лебяжье',\n",
       "       'посёлок городского типа Сиверский', 'поселок Молодцово',\n",
       "       'поселок городского типа Кузьмоловский',\n",
       "       'садовое товарищество Новая Ропша', 'Павловск',\n",
       "       'деревня Пикколово', 'Всеволожск', 'Волхов', 'Кингисепп',\n",
       "       'Приозерск', 'Сестрорецк', 'деревня Куттузи', 'посёлок Аннино',\n",
       "       'поселок городского типа Ефимовский', 'посёлок Плодовое',\n",
       "       'деревня Заклинье', 'поселок Торковичи', 'поселок Первомайское',\n",
       "       'Красное Село', 'посёлок Понтонный', 'Сясьстрой', 'деревня Старая',\n",
       "       'деревня Лесколово', 'посёлок Новый Свет', 'Сланцы',\n",
       "       'село Путилово', 'Ивангород', 'Мурино', 'Шлиссельбург',\n",
       "       'Никольское', 'Зеленогорск', 'Сосновый Бор', 'поселок Новый Свет',\n",
       "       'деревня Оржицы', 'деревня Кальтино', 'Кудрово',\n",
       "       'поселок Романовка', 'посёлок Бугры', 'поселок Бугры',\n",
       "       'поселок городского типа Рощино', 'Кириши', 'Луга', 'Волосово',\n",
       "       'Отрадное', 'село Павлово', 'поселок Оредеж', 'село Копорье',\n",
       "       'посёлок городского типа Красный Бор', 'посёлок Молодёжное',\n",
       "       'Тихвин', 'посёлок Победа', 'деревня Нурма',\n",
       "       'поселок городского типа Синявино', 'Тосно',\n",
       "       'посёлок городского типа Кузьмоловский', 'посёлок Стрельна',\n",
       "       'Бокситогорск', 'посёлок Александровская', 'деревня Лопухинка',\n",
       "       'Пикалёво', 'поселок Терволово',\n",
       "       'поселок городского типа Советский', 'Подпорожье',\n",
       "       'посёлок Петровское', 'посёлок городского типа Токсово',\n",
       "       'поселок Сельцо', 'посёлок городского типа Вырица',\n",
       "       'деревня Кипень', 'деревня Келози', 'деревня Вартемяги',\n",
       "       'посёлок Тельмана', 'поселок Севастьяново',\n",
       "       'городской поселок Большая Ижора', nan,\n",
       "       'городской посёлок Павлово', 'деревня Агалатово',\n",
       "       'посёлок Новогорелово', 'городской посёлок Лесогорский',\n",
       "       'деревня Лаголово', 'поселок Цвелодубово',\n",
       "       'поселок городского типа Рахья', 'поселок городского типа Вырица',\n",
       "       'деревня Белогорка', 'поселок Заводской',\n",
       "       'городской посёлок Новоселье', 'деревня Большие Колпаны',\n",
       "       'деревня Горбунки', 'деревня Батово', 'деревня Заневка',\n",
       "       'деревня Иссад', 'Приморск', 'городской посёлок Фёдоровское',\n",
       "       'деревня Мистолово', 'Новая Ладога', 'поселок Зимитицы',\n",
       "       'поселок Барышево', 'деревня Разметелево',\n",
       "       'поселок городского типа имени Свердлова', 'деревня Пеники',\n",
       "       'поселок Рябово', 'деревня Пудомяги', 'поселок станции Корнево',\n",
       "       'деревня Низино', 'деревня Бегуницы', 'посёлок Поляны',\n",
       "       'городской посёлок Мга', 'поселок Елизаветино',\n",
       "       'посёлок городского типа Кузнечное', 'деревня Колтуши',\n",
       "       'поселок Запорожское', 'посёлок городского типа Рощино',\n",
       "       'деревня Гостилицы', 'деревня Малое Карлино',\n",
       "       'посёлок Мичуринское', 'посёлок городского типа имени Морозова',\n",
       "       'посёлок Песочный', 'посёлок Сосново', 'деревня Аро',\n",
       "       'поселок Ильичёво', 'посёлок городского типа Тайцы',\n",
       "       'деревня Малое Верево', 'деревня Извара', 'поселок станции Вещево',\n",
       "       'село Паша', 'деревня Калитино',\n",
       "       'посёлок городского типа Ульяновка', 'деревня Чудской Бор',\n",
       "       'поселок городского типа Дубровка', 'деревня Мины',\n",
       "       'поселок Войсковицы', 'посёлок городского типа имени Свердлова',\n",
       "       'деревня Коркино', 'посёлок Ропша',\n",
       "       'поселок городского типа Приладожский', 'посёлок Щеглово',\n",
       "       'посёлок Гаврилово', 'Лодейное Поле', 'деревня Рабитицы',\n",
       "       'поселок городского типа Никольский', 'деревня Кузьмолово',\n",
       "       'деревня Малые Колпаны', 'поселок Тельмана',\n",
       "       'посёлок Петро-Славянка', 'городской посёлок Назия',\n",
       "       'посёлок Репино', 'посёлок Ильичёво', 'поселок Углово',\n",
       "       'поселок Старая Малукса', 'садовое товарищество Рахья',\n",
       "       'поселок Аннино', 'поселок Победа', 'деревня Меньково',\n",
       "       'деревня Старые Бегуницы', 'посёлок Сапёрный', 'поселок Семрино',\n",
       "       'поселок Гаврилово', 'поселок Глажево', 'поселок Кобринское',\n",
       "       'деревня Гарболово', 'деревня Юкки',\n",
       "       'поселок станции Приветнинское', 'деревня Мануйлово',\n",
       "       'деревня Пчева', 'поселок Поляны', 'поселок Цвылёво',\n",
       "       'поселок Мельниково', 'посёлок Пудость', 'посёлок Усть-Луга',\n",
       "       'Светогорск', 'Любань', 'поселок Селезнёво',\n",
       "       'поселок городского типа Рябово', 'Каменногорск', 'деревня Кривко',\n",
       "       'поселок Глебычево', 'деревня Парицы', 'поселок Жилпосёлок',\n",
       "       'посёлок городского типа Мга', 'городской поселок Янино-1',\n",
       "       'посёлок Войскорово', 'село Никольское', 'посёлок Терволово',\n",
       "       'поселок Стеклянный', 'посёлок городского типа Важины',\n",
       "       'посёлок Мыза-Ивановка', 'село Русско-Высоцкое',\n",
       "       'поселок городского типа Лебяжье',\n",
       "       'поселок городского типа Форносово', 'село Старая Ладога',\n",
       "       'поселок Житково', 'городской посёлок Виллози', 'деревня Лампово',\n",
       "       'деревня Шпаньково', 'деревня Лаврики', 'посёлок Сумино',\n",
       "       'посёлок Возрождение', 'деревня Старосиверская',\n",
       "       'посёлок Кикерино', 'поселок Возрождение',\n",
       "       'деревня Старое Хинколово', 'посёлок Пригородный',\n",
       "       'посёлок Торфяное', 'городской посёлок Будогощь',\n",
       "       'поселок Суходолье', 'поселок Красная Долина', 'деревня Хапо-Ое',\n",
       "       'поселок городского типа Дружная Горка', 'поселок Лисий Нос',\n",
       "       'деревня Яльгелево', 'посёлок Стеклянный', 'село Рождествено',\n",
       "       'деревня Старополье', 'посёлок Левашово', 'деревня Сяськелево',\n",
       "       'деревня Камышовка',\n",
       "       'садоводческое некоммерческое товарищество Лесная Поляна',\n",
       "       'деревня Хязельки', 'поселок Жилгородок',\n",
       "       'посёлок городского типа Павлово', 'деревня Ялгино',\n",
       "       'поселок Новый Учхоз', 'городской посёлок Рощино',\n",
       "       'поселок Гончарово', 'поселок Почап', 'посёлок Сапёрное',\n",
       "       'посёлок Платформа 69-й километр', 'поселок Каложицы',\n",
       "       'деревня Фалилеево', 'деревня Пельгора',\n",
       "       'поселок городского типа Лесогорский', 'деревня Торошковичи',\n",
       "       'посёлок Белоостров', 'посёлок Алексеевка', 'поселок Серебрянский',\n",
       "       'поселок Лукаши', 'поселок Петровское', 'деревня Щеглово',\n",
       "       'поселок Мичуринское', 'деревня Тарасово', 'поселок Кингисеппский',\n",
       "       'посёлок при железнодорожной станции Вещево', 'поселок Ушаки',\n",
       "       'деревня Котлы', 'деревня Сижно', 'деревня Торосово',\n",
       "       'посёлок Форт Красная Горка', 'поселок городского типа Токсово',\n",
       "       'деревня Новолисино', 'посёлок станции Громово', 'деревня Глинка',\n",
       "       'посёлок Мельниково', 'поселок городского типа Назия',\n",
       "       'деревня Старая Пустошь', 'поселок Коммунары', 'поселок Починок',\n",
       "       'посёлок городского типа Вознесенье', 'деревня Разбегаево',\n",
       "       'посёлок городского типа Рябово', 'поселок Гладкое',\n",
       "       'посёлок при железнодорожной станции Приветнинское',\n",
       "       'поселок Тёсово-4', 'посёлок Жилгородок', 'деревня Бор',\n",
       "       'посёлок Коробицыно', 'деревня Большая Вруда', 'деревня Курковицы',\n",
       "       'посёлок Лисий Нос', 'городской посёлок Советский',\n",
       "       'посёлок Кобралово', 'деревня Суоранда', 'поселок Кобралово',\n",
       "       'поселок городского типа Кондратьево',\n",
       "       'коттеджный поселок Счастье', 'поселок Любань', 'деревня Реброво',\n",
       "       'деревня Зимитицы', 'деревня Тойворово', 'поселок Семиозерье',\n",
       "       'поселок Лесное', 'поселок Совхозный', 'поселок Усть-Луга',\n",
       "       'посёлок Ленинское', 'посёлок Суйда',\n",
       "       'посёлок городского типа Форносово', 'деревня Нижние Осельки',\n",
       "       'посёлок станции Свирь', 'поселок Перово', 'Высоцк',\n",
       "       'поселок Гарболово', 'село Шум', 'поселок Котельский',\n",
       "       'поселок станции Лужайка', 'деревня Большая Пустомержа',\n",
       "       'поселок Красносельское', 'деревня Вахнова Кара', 'деревня Пижма',\n",
       "       'коттеджный поселок Кивеннапа Север', 'поселок Коробицыно',\n",
       "       'поселок Ромашки', 'посёлок Перово', 'деревня Каськово',\n",
       "       'деревня Куровицы', 'посёлок Плоское', 'поселок Сумино',\n",
       "       'поселок городского типа Большая Ижора', 'поселок Кирпичное',\n",
       "       'деревня Ям-Тесово', 'деревня Раздолье', 'деревня Терпилицы',\n",
       "       'посёлок Шугозеро', 'деревня Ваганово', 'поселок Пушное',\n",
       "       'садовое товарищество Садко', 'посёлок Усть-Ижора',\n",
       "       'деревня Выскатка', 'городской посёлок Свирьстрой',\n",
       "       'поселок Громово', 'деревня Кисельня', 'посёлок Старая Малукса',\n",
       "       'деревня Трубников Бор', 'поселок Калитино',\n",
       "       'посёлок Высокоключевой', 'садовое товарищество Приладожский',\n",
       "       'посёлок Пансионат Зелёный Бор', 'деревня Ненимяки',\n",
       "       'поселок Пансионат Зелёный Бор', 'деревня Снегирёвка',\n",
       "       'деревня Рапполово', 'деревня Пустынка', 'поселок Рабитицы',\n",
       "       'деревня Большой Сабск', 'деревня Русско', 'деревня Лупполово',\n",
       "       'деревня Большое Рейзино', 'деревня Малая Романовка',\n",
       "       'поселок Дружноселье', 'поселок Пчевжа', 'поселок Володарское',\n",
       "       'деревня Нижняя', 'коттеджный посёлок Лесное', 'деревня Тихковицы',\n",
       "       'деревня Борисова Грива', 'посёлок Дзержинского'], dtype=object)"
      ]
     },
     "execution_count": 26,
     "metadata": {},
     "output_type": "execute_result"
    }
   ],
   "source": [
    "df['locality_name'].unique()"
   ]
  },
  {
   "cell_type": "code",
   "execution_count": 27,
   "metadata": {},
   "outputs": [],
   "source": [
    "df['locality_name'] = df['locality_name'].fillna('другой')\n",
    "df.locality_name = df.locality_name.replace('посёлок ', 'поселок ', regex=True)\n",
    "df.locality_name = df.locality_name.replace('Мурино', 'поселок Мурино')\n",
    "\n"
   ]
  },
  {
   "cell_type": "code",
   "execution_count": 28,
   "metadata": {
    "scrolled": false
   },
   "outputs": [
    {
     "data": {
      "text/plain": [
       "array(['Санкт-Петербург', 'поселок Шушары', 'городской поселок Янино-1',\n",
       "       'поселок Парголово', 'поселок Мурино', 'Ломоносов', 'Сертолово',\n",
       "       'Петергоф', 'Пушкин', 'деревня Кудрово', 'Коммунар', 'Колпино',\n",
       "       'поселок городского типа Красный Бор', 'Гатчина',\n",
       "       'деревня Фёдоровское', 'Выборг', 'Кронштадт', 'Кировск',\n",
       "       'деревня Новое Девяткино', 'поселок Металлострой',\n",
       "       'поселок городского типа Лебяжье',\n",
       "       'поселок городского типа Сиверский', 'поселок Молодцово',\n",
       "       'поселок городского типа Кузьмоловский',\n",
       "       'садовое товарищество Новая Ропша', 'Павловск',\n",
       "       'деревня Пикколово', 'Всеволожск', 'Волхов', 'Кингисепп',\n",
       "       'Приозерск', 'Сестрорецк', 'деревня Куттузи', 'поселок Аннино',\n",
       "       'поселок городского типа Ефимовский', 'поселок Плодовое',\n",
       "       'деревня Заклинье', 'поселок Торковичи', 'поселок Первомайское',\n",
       "       'Красное Село', 'поселок Понтонный', 'Сясьстрой', 'деревня Старая',\n",
       "       'деревня Лесколово', 'поселок Новый Свет', 'Сланцы',\n",
       "       'село Путилово', 'Ивангород', 'Шлиссельбург', 'Никольское',\n",
       "       'Зеленогорск', 'Сосновый Бор', 'деревня Оржицы',\n",
       "       'деревня Кальтино', 'Кудрово', 'поселок Романовка',\n",
       "       'поселок Бугры', 'поселок городского типа Рощино', 'Кириши',\n",
       "       'Луга', 'Волосово', 'Отрадное', 'село Павлово', 'поселок Оредеж',\n",
       "       'село Копорье', 'поселок Молодёжное', 'Тихвин', 'поселок Победа',\n",
       "       'деревня Нурма', 'поселок городского типа Синявино', 'Тосно',\n",
       "       'поселок Стрельна', 'Бокситогорск', 'поселок Александровская',\n",
       "       'деревня Лопухинка', 'Пикалёво', 'поселок Терволово',\n",
       "       'поселок городского типа Советский', 'Подпорожье',\n",
       "       'поселок Петровское', 'поселок городского типа Токсово',\n",
       "       'поселок Сельцо', 'поселок городского типа Вырица',\n",
       "       'деревня Кипень', 'деревня Келози', 'деревня Вартемяги',\n",
       "       'поселок Тельмана', 'поселок Севастьяново',\n",
       "       'городской поселок Большая Ижора', 'другой',\n",
       "       'городской поселок Павлово', 'деревня Агалатово',\n",
       "       'поселок Новогорелово', 'городской поселок Лесогорский',\n",
       "       'деревня Лаголово', 'поселок Цвелодубово',\n",
       "       'поселок городского типа Рахья', 'деревня Белогорка',\n",
       "       'поселок Заводской', 'городской поселок Новоселье',\n",
       "       'деревня Большие Колпаны', 'деревня Горбунки', 'деревня Батово',\n",
       "       'деревня Заневка', 'деревня Иссад', 'Приморск',\n",
       "       'городской поселок Фёдоровское', 'деревня Мистолово',\n",
       "       'Новая Ладога', 'поселок Зимитицы', 'поселок Барышево',\n",
       "       'деревня Разметелево', 'поселок городского типа имени Свердлова',\n",
       "       'деревня Пеники', 'поселок Рябово', 'деревня Пудомяги',\n",
       "       'поселок станции Корнево', 'деревня Низино', 'деревня Бегуницы',\n",
       "       'поселок Поляны', 'городской поселок Мга', 'поселок Елизаветино',\n",
       "       'поселок городского типа Кузнечное', 'деревня Колтуши',\n",
       "       'поселок Запорожское', 'деревня Гостилицы',\n",
       "       'деревня Малое Карлино', 'поселок Мичуринское',\n",
       "       'поселок городского типа имени Морозова', 'поселок Песочный',\n",
       "       'поселок Сосново', 'деревня Аро', 'поселок Ильичёво',\n",
       "       'поселок городского типа Тайцы', 'деревня Малое Верево',\n",
       "       'деревня Извара', 'поселок станции Вещево', 'село Паша',\n",
       "       'деревня Калитино', 'поселок городского типа Ульяновка',\n",
       "       'деревня Чудской Бор', 'поселок городского типа Дубровка',\n",
       "       'деревня Мины', 'поселок Войсковицы', 'деревня Коркино',\n",
       "       'поселок Ропша', 'поселок городского типа Приладожский',\n",
       "       'поселок Щеглово', 'поселок Гаврилово', 'Лодейное Поле',\n",
       "       'деревня Рабитицы', 'поселок городского типа Никольский',\n",
       "       'деревня Кузьмолово', 'деревня Малые Колпаны',\n",
       "       'поселок Петро-Славянка', 'городской поселок Назия',\n",
       "       'поселок Репино', 'поселок Углово', 'поселок Старая Малукса',\n",
       "       'садовое товарищество Рахья', 'деревня Меньково',\n",
       "       'деревня Старые Бегуницы', 'поселок Сапёрный', 'поселок Семрино',\n",
       "       'поселок Глажево', 'поселок Кобринское', 'деревня Гарболово',\n",
       "       'деревня Юкки', 'поселок станции Приветнинское',\n",
       "       'деревня Мануйлово', 'деревня Пчева', 'поселок Цвылёво',\n",
       "       'поселок Мельниково', 'поселок Пудость', 'поселок Усть-Луга',\n",
       "       'Светогорск', 'Любань', 'поселок Селезнёво',\n",
       "       'поселок городского типа Рябово', 'Каменногорск', 'деревня Кривко',\n",
       "       'поселок Глебычево', 'деревня Парицы', 'поселок Жилпосёлок',\n",
       "       'поселок городского типа Мга', 'поселок Войскорово',\n",
       "       'село Никольское', 'поселок Стеклянный',\n",
       "       'поселок городского типа Важины', 'поселок Мыза-Ивановка',\n",
       "       'село Русско-Высоцкое', 'поселок городского типа Форносово',\n",
       "       'село Старая Ладога', 'поселок Житково',\n",
       "       'городской поселок Виллози', 'деревня Лампово',\n",
       "       'деревня Шпаньково', 'деревня Лаврики', 'поселок Сумино',\n",
       "       'поселок Возрождение', 'деревня Старосиверская',\n",
       "       'поселок Кикерино', 'деревня Старое Хинколово',\n",
       "       'поселок Пригородный', 'поселок Торфяное',\n",
       "       'городской поселок Будогощь', 'поселок Суходолье',\n",
       "       'поселок Красная Долина', 'деревня Хапо-Ое',\n",
       "       'поселок городского типа Дружная Горка', 'поселок Лисий Нос',\n",
       "       'деревня Яльгелево', 'село Рождествено', 'деревня Старополье',\n",
       "       'поселок Левашово', 'деревня Сяськелево', 'деревня Камышовка',\n",
       "       'садоводческое некоммерческое товарищество Лесная Поляна',\n",
       "       'деревня Хязельки', 'поселок Жилгородок',\n",
       "       'поселок городского типа Павлово', 'деревня Ялгино',\n",
       "       'поселок Новый Учхоз', 'городской поселок Рощино',\n",
       "       'поселок Гончарово', 'поселок Почап', 'поселок Сапёрное',\n",
       "       'поселок Платформа 69-й километр', 'поселок Каложицы',\n",
       "       'деревня Фалилеево', 'деревня Пельгора',\n",
       "       'поселок городского типа Лесогорский', 'деревня Торошковичи',\n",
       "       'поселок Белоостров', 'поселок Алексеевка', 'поселок Серебрянский',\n",
       "       'поселок Лукаши', 'деревня Щеглово', 'деревня Тарасово',\n",
       "       'поселок Кингисеппский',\n",
       "       'поселок при железнодорожной станции Вещево', 'поселок Ушаки',\n",
       "       'деревня Котлы', 'деревня Сижно', 'деревня Торосово',\n",
       "       'поселок Форт Красная Горка', 'деревня Новолисино',\n",
       "       'поселок станции Громово', 'деревня Глинка',\n",
       "       'поселок городского типа Назия', 'деревня Старая Пустошь',\n",
       "       'поселок Коммунары', 'поселок Починок',\n",
       "       'поселок городского типа Вознесенье', 'деревня Разбегаево',\n",
       "       'поселок Гладкое',\n",
       "       'поселок при железнодорожной станции Приветнинское',\n",
       "       'поселок Тёсово-4', 'деревня Бор', 'поселок Коробицыно',\n",
       "       'деревня Большая Вруда', 'деревня Курковицы',\n",
       "       'городской поселок Советский', 'поселок Кобралово',\n",
       "       'деревня Суоранда', 'поселок городского типа Кондратьево',\n",
       "       'коттеджный поселок Счастье', 'поселок Любань', 'деревня Реброво',\n",
       "       'деревня Зимитицы', 'деревня Тойворово', 'поселок Семиозерье',\n",
       "       'поселок Лесное', 'поселок Совхозный', 'поселок Ленинское',\n",
       "       'поселок Суйда', 'деревня Нижние Осельки', 'поселок станции Свирь',\n",
       "       'поселок Перово', 'Высоцк', 'поселок Гарболово', 'село Шум',\n",
       "       'поселок Котельский', 'поселок станции Лужайка',\n",
       "       'деревня Большая Пустомержа', 'поселок Красносельское',\n",
       "       'деревня Вахнова Кара', 'деревня Пижма',\n",
       "       'коттеджный поселок Кивеннапа Север', 'поселок Ромашки',\n",
       "       'деревня Каськово', 'деревня Куровицы', 'поселок Плоское',\n",
       "       'поселок городского типа Большая Ижора', 'поселок Кирпичное',\n",
       "       'деревня Ям-Тесово', 'деревня Раздолье', 'деревня Терпилицы',\n",
       "       'поселок Шугозеро', 'деревня Ваганово', 'поселок Пушное',\n",
       "       'садовое товарищество Садко', 'поселок Усть-Ижора',\n",
       "       'деревня Выскатка', 'городской поселок Свирьстрой',\n",
       "       'поселок Громово', 'деревня Кисельня', 'деревня Трубников Бор',\n",
       "       'поселок Калитино', 'поселок Высокоключевой',\n",
       "       'садовое товарищество Приладожский',\n",
       "       'поселок Пансионат Зелёный Бор', 'деревня Ненимяки',\n",
       "       'деревня Снегирёвка', 'деревня Рапполово', 'деревня Пустынка',\n",
       "       'поселок Рабитицы', 'деревня Большой Сабск', 'деревня Русско',\n",
       "       'деревня Лупполово', 'деревня Большое Рейзино',\n",
       "       'деревня Малая Романовка', 'поселок Дружноселье', 'поселок Пчевжа',\n",
       "       'поселок Володарское', 'деревня Нижняя',\n",
       "       'коттеджный поселок Лесное', 'деревня Тихковицы',\n",
       "       'деревня Борисова Грива', 'поселок Дзержинского'], dtype=object)"
      ]
     },
     "execution_count": 28,
     "metadata": {},
     "output_type": "execute_result"
    }
   ],
   "source": [
    "df['locality_name'].unique()"
   ]
  },
  {
   "cell_type": "code",
   "execution_count": 29,
   "metadata": {},
   "outputs": [
    {
     "name": "stdout",
     "output_type": "stream",
     "text": [
      "<class 'pandas.core.frame.DataFrame'>\n",
      "RangeIndex: 23699 entries, 0 to 23698\n",
      "Data columns (total 22 columns):\n",
      " #   Column                Non-Null Count  Dtype  \n",
      "---  ------                --------------  -----  \n",
      " 0   total_images          23699 non-null  int64  \n",
      " 1   last_price            23699 non-null  float64\n",
      " 2   total_area            23699 non-null  float64\n",
      " 3   first_day_exposition  23699 non-null  object \n",
      " 4   rooms                 23699 non-null  int64  \n",
      " 5   ceiling_height        23699 non-null  float64\n",
      " 6   floors_total          23699 non-null  float64\n",
      " 7   living_area           23699 non-null  float64\n",
      " 8   floor                 23699 non-null  int64  \n",
      " 9   is_apartment          23699 non-null  bool   \n",
      " 10  studio                23699 non-null  bool   \n",
      " 11  open_plan             23699 non-null  bool   \n",
      " 12  kitchen_area          23699 non-null  float64\n",
      " 13  balcony               23699 non-null  float64\n",
      " 14  locality_name         23699 non-null  object \n",
      " 15  airports_nearest      18157 non-null  float64\n",
      " 16  cityCenters_nearest   18180 non-null  float64\n",
      " 17  parks_around3000      18181 non-null  float64\n",
      " 18  parks_nearest         8079 non-null   float64\n",
      " 19  ponds_around3000      18181 non-null  float64\n",
      " 20  ponds_nearest         9110 non-null   float64\n",
      " 21  days_exposition       20518 non-null  float64\n",
      "dtypes: bool(3), float64(14), int64(3), object(2)\n",
      "memory usage: 3.5+ MB\n"
     ]
    }
   ],
   "source": [
    "df.info()"
   ]
  },
  {
   "cell_type": "markdown",
   "metadata": {},
   "source": [
    "### Столбцы 'cityCenter_nearest' и 'airports_nearest'"
   ]
  },
  {
   "cell_type": "markdown",
   "metadata": {},
   "source": [
    "В столбцах 'airports_nearest' и 'cityCenters_nearest' воспользуемся одинаковым способом удаления пропусков. Сгруппируем все строки по названиям населенных пунктов и найдем медианное значение в обоих столбцах."
   ]
  },
  {
   "cell_type": "code",
   "execution_count": 30,
   "metadata": {},
   "outputs": [],
   "source": [
    "df['airports_nearest'] = df['airports_nearest'].fillna(df.groupby('locality_name')['airports_nearest'].transform('median'))"
   ]
  },
  {
   "cell_type": "code",
   "execution_count": 31,
   "metadata": {},
   "outputs": [],
   "source": [
    "df['cityCenters_nearest'] = df['cityCenters_nearest'].fillna(df.groupby('locality_name')['cityCenters_nearest'].transform('median'))"
   ]
  },
  {
   "cell_type": "code",
   "execution_count": 32,
   "metadata": {},
   "outputs": [
    {
     "name": "stdout",
     "output_type": "stream",
     "text": [
      "<class 'pandas.core.frame.DataFrame'>\n",
      "RangeIndex: 23699 entries, 0 to 23698\n",
      "Data columns (total 22 columns):\n",
      " #   Column                Non-Null Count  Dtype  \n",
      "---  ------                --------------  -----  \n",
      " 0   total_images          23699 non-null  int64  \n",
      " 1   last_price            23699 non-null  float64\n",
      " 2   total_area            23699 non-null  float64\n",
      " 3   first_day_exposition  23699 non-null  object \n",
      " 4   rooms                 23699 non-null  int64  \n",
      " 5   ceiling_height        23699 non-null  float64\n",
      " 6   floors_total          23699 non-null  float64\n",
      " 7   living_area           23699 non-null  float64\n",
      " 8   floor                 23699 non-null  int64  \n",
      " 9   is_apartment          23699 non-null  bool   \n",
      " 10  studio                23699 non-null  bool   \n",
      " 11  open_plan             23699 non-null  bool   \n",
      " 12  kitchen_area          23699 non-null  float64\n",
      " 13  balcony               23699 non-null  float64\n",
      " 14  locality_name         23699 non-null  object \n",
      " 15  airports_nearest      18869 non-null  float64\n",
      " 16  cityCenters_nearest   18869 non-null  float64\n",
      " 17  parks_around3000      18181 non-null  float64\n",
      " 18  parks_nearest         8079 non-null   float64\n",
      " 19  ponds_around3000      18181 non-null  float64\n",
      " 20  ponds_nearest         9110 non-null   float64\n",
      " 21  days_exposition       20518 non-null  float64\n",
      "dtypes: bool(3), float64(14), int64(3), object(2)\n",
      "memory usage: 3.5+ MB\n"
     ]
    }
   ],
   "source": [
    "df.info()"
   ]
  },
  {
   "cell_type": "markdown",
   "metadata": {},
   "source": [
    "Так как для некоторых населенных пунктов полностью отстутсвуют данные по расстоянию до центра города и аэропорта, заменим пропуски на 0."
   ]
  },
  {
   "cell_type": "code",
   "execution_count": 33,
   "metadata": {},
   "outputs": [],
   "source": [
    "df['airports_nearest'] = df['airports_nearest'].fillna(0)"
   ]
  },
  {
   "cell_type": "code",
   "execution_count": 34,
   "metadata": {},
   "outputs": [
    {
     "name": "stdout",
     "output_type": "stream",
     "text": [
      "<class 'pandas.core.frame.DataFrame'>\n",
      "RangeIndex: 23699 entries, 0 to 23698\n",
      "Data columns (total 22 columns):\n",
      " #   Column                Non-Null Count  Dtype  \n",
      "---  ------                --------------  -----  \n",
      " 0   total_images          23699 non-null  int64  \n",
      " 1   last_price            23699 non-null  float64\n",
      " 2   total_area            23699 non-null  float64\n",
      " 3   first_day_exposition  23699 non-null  object \n",
      " 4   rooms                 23699 non-null  int64  \n",
      " 5   ceiling_height        23699 non-null  float64\n",
      " 6   floors_total          23699 non-null  float64\n",
      " 7   living_area           23699 non-null  float64\n",
      " 8   floor                 23699 non-null  int64  \n",
      " 9   is_apartment          23699 non-null  bool   \n",
      " 10  studio                23699 non-null  bool   \n",
      " 11  open_plan             23699 non-null  bool   \n",
      " 12  kitchen_area          23699 non-null  float64\n",
      " 13  balcony               23699 non-null  float64\n",
      " 14  locality_name         23699 non-null  object \n",
      " 15  airports_nearest      23699 non-null  float64\n",
      " 16  cityCenters_nearest   23699 non-null  float64\n",
      " 17  parks_around3000      18181 non-null  float64\n",
      " 18  parks_nearest         8079 non-null   float64\n",
      " 19  ponds_around3000      18181 non-null  float64\n",
      " 20  ponds_nearest         9110 non-null   float64\n",
      " 21  days_exposition       20518 non-null  float64\n",
      "dtypes: bool(3), float64(14), int64(3), object(2)\n",
      "memory usage: 3.5+ MB\n"
     ]
    }
   ],
   "source": [
    "df['cityCenters_nearest'] = df['cityCenters_nearest'].fillna(0)\n",
    "df.info()"
   ]
  },
  {
   "cell_type": "markdown",
   "metadata": {},
   "source": [
    "### Столбцы 'parks_around3000',  'parks_nearest', 'ponds_around3000' и 'ponds_around3000'"
   ]
  },
  {
   "cell_type": "markdown",
   "metadata": {},
   "source": [
    "В столбцах 'parks_around3000', 'parks_nearest', 'ponds_around3000', 'ponds_nearest' удалим пропуски по аналогии со столбцом 'balcony'. Если данные отсутствуют, то парков или водоемов по близости нет. \n"
   ]
  },
  {
   "cell_type": "code",
   "execution_count": 35,
   "metadata": {},
   "outputs": [],
   "source": [
    "df['parks_around3000'] = df['parks_around3000'].fillna(0)\n",
    "df['parks_nearest'] = df['parks_nearest'].fillna(0)\n",
    "df['ponds_around3000'] = df['ponds_around3000'].fillna(0)\n",
    "df['ponds_nearest'] = df['ponds_nearest'].fillna(0)\n",
    "\n"
   ]
  },
  {
   "cell_type": "code",
   "execution_count": 36,
   "metadata": {},
   "outputs": [
    {
     "name": "stdout",
     "output_type": "stream",
     "text": [
      "<class 'pandas.core.frame.DataFrame'>\n",
      "RangeIndex: 23699 entries, 0 to 23698\n",
      "Data columns (total 22 columns):\n",
      " #   Column                Non-Null Count  Dtype  \n",
      "---  ------                --------------  -----  \n",
      " 0   total_images          23699 non-null  int64  \n",
      " 1   last_price            23699 non-null  float64\n",
      " 2   total_area            23699 non-null  float64\n",
      " 3   first_day_exposition  23699 non-null  object \n",
      " 4   rooms                 23699 non-null  int64  \n",
      " 5   ceiling_height        23699 non-null  float64\n",
      " 6   floors_total          23699 non-null  float64\n",
      " 7   living_area           23699 non-null  float64\n",
      " 8   floor                 23699 non-null  int64  \n",
      " 9   is_apartment          23699 non-null  bool   \n",
      " 10  studio                23699 non-null  bool   \n",
      " 11  open_plan             23699 non-null  bool   \n",
      " 12  kitchen_area          23699 non-null  float64\n",
      " 13  balcony               23699 non-null  float64\n",
      " 14  locality_name         23699 non-null  object \n",
      " 15  airports_nearest      23699 non-null  float64\n",
      " 16  cityCenters_nearest   23699 non-null  float64\n",
      " 17  parks_around3000      23699 non-null  float64\n",
      " 18  parks_nearest         23699 non-null  float64\n",
      " 19  ponds_around3000      23699 non-null  float64\n",
      " 20  ponds_nearest         23699 non-null  float64\n",
      " 21  days_exposition       20518 non-null  float64\n",
      "dtypes: bool(3), float64(14), int64(3), object(2)\n",
      "memory usage: 3.5+ MB\n"
     ]
    }
   ],
   "source": [
    "df.info()"
   ]
  },
  {
   "cell_type": "code",
   "execution_count": 37,
   "metadata": {},
   "outputs": [
    {
     "name": "stdout",
     "output_type": "stream",
     "text": [
      "<class 'pandas.core.frame.DataFrame'>\n",
      "RangeIndex: 23699 entries, 0 to 23698\n",
      "Data columns (total 22 columns):\n",
      " #   Column                Non-Null Count  Dtype  \n",
      "---  ------                --------------  -----  \n",
      " 0   total_images          23699 non-null  int64  \n",
      " 1   last_price            23699 non-null  float64\n",
      " 2   total_area            23699 non-null  float64\n",
      " 3   first_day_exposition  23699 non-null  object \n",
      " 4   rooms                 23699 non-null  int64  \n",
      " 5   ceiling_height        23699 non-null  float64\n",
      " 6   floors_total          23699 non-null  float64\n",
      " 7   living_area           23699 non-null  float64\n",
      " 8   floor                 23699 non-null  int64  \n",
      " 9   is_apartment          23699 non-null  bool   \n",
      " 10  studio                23699 non-null  bool   \n",
      " 11  open_plan             23699 non-null  bool   \n",
      " 12  kitchen_area          23699 non-null  float64\n",
      " 13  balcony               23699 non-null  float64\n",
      " 14  locality_name         23699 non-null  object \n",
      " 15  airports_nearest      23699 non-null  float64\n",
      " 16  cityCenters_nearest   23699 non-null  float64\n",
      " 17  parks_around3000      23699 non-null  float64\n",
      " 18  parks_nearest         23699 non-null  float64\n",
      " 19  ponds_around3000      23699 non-null  float64\n",
      " 20  ponds_nearest         23699 non-null  float64\n",
      " 21  days_exposition       20518 non-null  float64\n",
      "dtypes: bool(3), float64(14), int64(3), object(2)\n",
      "memory usage: 3.5+ MB\n"
     ]
    }
   ],
   "source": [
    "df.info()"
   ]
  },
  {
   "cell_type": "markdown",
   "metadata": {},
   "source": [
    "### Столбец 'days_exposition'  "
   ]
  },
  {
   "cell_type": "markdown",
   "metadata": {},
   "source": [
    "В столбце 'days_exposition' указано сколько дней было размещено объявление (от публикации до снятия). Если значение пропущено, предположим, что квартира еще не продана и объявление еще не снято. Пропуски оставим."
   ]
  },
  {
   "cell_type": "markdown",
   "metadata": {},
   "source": [
    "### Приведение к нужным типам данных"
   ]
  },
  {
   "cell_type": "markdown",
   "metadata": {},
   "source": [
    "Далее приведем данные к нужным типам. Столбец 'first_day_exposition' должен быть в формате даты и времени."
   ]
  },
  {
   "cell_type": "code",
   "execution_count": 38,
   "metadata": {},
   "outputs": [],
   "source": [
    "df['first_day_exposition'] = pd.to_datetime(df['first_day_exposition'], format='%Y.%m.%dT%H:%M:%S')"
   ]
  },
  {
   "cell_type": "markdown",
   "metadata": {},
   "source": [
    "Количество этажей ('floors_total') может быть только целым значением."
   ]
  },
  {
   "cell_type": "code",
   "execution_count": 39,
   "metadata": {},
   "outputs": [],
   "source": [
    "df['floors_total'] = df['floors_total'].astype('int')"
   ]
  },
  {
   "cell_type": "markdown",
   "metadata": {},
   "source": [
    "Количество балконов ('balcony'), парков ('parks_around3000') и водоемов ('ponds_around3000') также может быть только целым числом."
   ]
  },
  {
   "cell_type": "code",
   "execution_count": 40,
   "metadata": {},
   "outputs": [],
   "source": [
    "df['balcony'] = df['balcony'].astype('int')\n",
    "df['parks_around3000'] = df['parks_around3000'].astype('int')\n",
    "df['ponds_around3000'] = df['ponds_around3000'].astype('int')\n"
   ]
  },
  {
   "cell_type": "code",
   "execution_count": 41,
   "metadata": {},
   "outputs": [
    {
     "name": "stdout",
     "output_type": "stream",
     "text": [
      "<class 'pandas.core.frame.DataFrame'>\n",
      "RangeIndex: 23699 entries, 0 to 23698\n",
      "Data columns (total 22 columns):\n",
      " #   Column                Non-Null Count  Dtype         \n",
      "---  ------                --------------  -----         \n",
      " 0   total_images          23699 non-null  int64         \n",
      " 1   last_price            23699 non-null  float64       \n",
      " 2   total_area            23699 non-null  float64       \n",
      " 3   first_day_exposition  23699 non-null  datetime64[ns]\n",
      " 4   rooms                 23699 non-null  int64         \n",
      " 5   ceiling_height        23699 non-null  float64       \n",
      " 6   floors_total          23699 non-null  int64         \n",
      " 7   living_area           23699 non-null  float64       \n",
      " 8   floor                 23699 non-null  int64         \n",
      " 9   is_apartment          23699 non-null  bool          \n",
      " 10  studio                23699 non-null  bool          \n",
      " 11  open_plan             23699 non-null  bool          \n",
      " 12  kitchen_area          23699 non-null  float64       \n",
      " 13  balcony               23699 non-null  int64         \n",
      " 14  locality_name         23699 non-null  object        \n",
      " 15  airports_nearest      23699 non-null  float64       \n",
      " 16  cityCenters_nearest   23699 non-null  float64       \n",
      " 17  parks_around3000      23699 non-null  int64         \n",
      " 18  parks_nearest         23699 non-null  float64       \n",
      " 19  ponds_around3000      23699 non-null  int64         \n",
      " 20  ponds_nearest         23699 non-null  float64       \n",
      " 21  days_exposition       20518 non-null  float64       \n",
      "dtypes: bool(3), datetime64[ns](1), float64(10), int64(7), object(1)\n",
      "memory usage: 3.5+ MB\n"
     ]
    }
   ],
   "source": [
    "df.info()"
   ]
  },
  {
   "cell_type": "markdown",
   "metadata": {},
   "source": [
    "Данные приведены в нужный формат. Предобработка закончена."
   ]
  },
  {
   "cell_type": "markdown",
   "metadata": {},
   "source": [
    "## Расчёты и добавление результатов в таблицу"
   ]
  },
  {
   "cell_type": "markdown",
   "metadata": {},
   "source": [
    "Для последующего анализа нам необходимо добавить в таблицу несколько столбцов:\n",
    "* цену квадратного метра;\n",
    "* день недели, месяц и год публикации объявления;\n",
    "* этаж квартиры; варианты — первый, последний, другой;\n",
    "* соотношение жилой и общей площади;\n",
    "* отношение площади кухни к общей.\n"
   ]
  },
  {
   "cell_type": "markdown",
   "metadata": {},
   "source": [
    "Добавим столбец с ценой одного квадратного метра. Для этого разделим цену квартиры на ее общую площадь."
   ]
  },
  {
   "cell_type": "code",
   "execution_count": 42,
   "metadata": {},
   "outputs": [],
   "source": [
    "df['one_meter_price'] = df['last_price'] / df['total_area']"
   ]
  },
  {
   "cell_type": "markdown",
   "metadata": {},
   "source": [
    "Добавим столбцы с днем недели, месяцем и годом публикации."
   ]
  },
  {
   "cell_type": "code",
   "execution_count": 43,
   "metadata": {},
   "outputs": [],
   "source": [
    "df['week_day'] = df['first_day_exposition'].dt.weekday"
   ]
  },
  {
   "cell_type": "code",
   "execution_count": 44,
   "metadata": {},
   "outputs": [],
   "source": [
    "df['month'] = df['first_day_exposition'].dt.month"
   ]
  },
  {
   "cell_type": "code",
   "execution_count": 45,
   "metadata": {},
   "outputs": [],
   "source": [
    "df['year'] = df['first_day_exposition'].dt.year"
   ]
  },
  {
   "cell_type": "code",
   "execution_count": 46,
   "metadata": {},
   "outputs": [
    {
     "data": {
      "text/html": [
       "<div>\n",
       "<style scoped>\n",
       "    .dataframe tbody tr th:only-of-type {\n",
       "        vertical-align: middle;\n",
       "    }\n",
       "\n",
       "    .dataframe tbody tr th {\n",
       "        vertical-align: top;\n",
       "    }\n",
       "\n",
       "    .dataframe thead th {\n",
       "        text-align: right;\n",
       "    }\n",
       "</style>\n",
       "<table border=\"1\" class=\"dataframe\">\n",
       "  <thead>\n",
       "    <tr style=\"text-align: right;\">\n",
       "      <th></th>\n",
       "      <th>total_images</th>\n",
       "      <th>last_price</th>\n",
       "      <th>total_area</th>\n",
       "      <th>first_day_exposition</th>\n",
       "      <th>rooms</th>\n",
       "      <th>ceiling_height</th>\n",
       "      <th>floors_total</th>\n",
       "      <th>living_area</th>\n",
       "      <th>floor</th>\n",
       "      <th>is_apartment</th>\n",
       "      <th>...</th>\n",
       "      <th>cityCenters_nearest</th>\n",
       "      <th>parks_around3000</th>\n",
       "      <th>parks_nearest</th>\n",
       "      <th>ponds_around3000</th>\n",
       "      <th>ponds_nearest</th>\n",
       "      <th>days_exposition</th>\n",
       "      <th>one_meter_price</th>\n",
       "      <th>week_day</th>\n",
       "      <th>month</th>\n",
       "      <th>year</th>\n",
       "    </tr>\n",
       "  </thead>\n",
       "  <tbody>\n",
       "    <tr>\n",
       "      <th>0</th>\n",
       "      <td>20</td>\n",
       "      <td>13000000.0</td>\n",
       "      <td>108.0</td>\n",
       "      <td>2019-03-07</td>\n",
       "      <td>3</td>\n",
       "      <td>2.70</td>\n",
       "      <td>16</td>\n",
       "      <td>51.000000</td>\n",
       "      <td>8</td>\n",
       "      <td>False</td>\n",
       "      <td>...</td>\n",
       "      <td>16028.0</td>\n",
       "      <td>1</td>\n",
       "      <td>482.0</td>\n",
       "      <td>2</td>\n",
       "      <td>755.0</td>\n",
       "      <td>NaN</td>\n",
       "      <td>120370.370370</td>\n",
       "      <td>3</td>\n",
       "      <td>3</td>\n",
       "      <td>2019</td>\n",
       "    </tr>\n",
       "    <tr>\n",
       "      <th>1</th>\n",
       "      <td>7</td>\n",
       "      <td>3350000.0</td>\n",
       "      <td>40.4</td>\n",
       "      <td>2018-12-04</td>\n",
       "      <td>1</td>\n",
       "      <td>2.70</td>\n",
       "      <td>11</td>\n",
       "      <td>18.600000</td>\n",
       "      <td>1</td>\n",
       "      <td>False</td>\n",
       "      <td>...</td>\n",
       "      <td>18603.0</td>\n",
       "      <td>0</td>\n",
       "      <td>0.0</td>\n",
       "      <td>0</td>\n",
       "      <td>0.0</td>\n",
       "      <td>81.0</td>\n",
       "      <td>82920.792079</td>\n",
       "      <td>1</td>\n",
       "      <td>12</td>\n",
       "      <td>2018</td>\n",
       "    </tr>\n",
       "    <tr>\n",
       "      <th>2</th>\n",
       "      <td>10</td>\n",
       "      <td>5196000.0</td>\n",
       "      <td>56.0</td>\n",
       "      <td>2015-08-20</td>\n",
       "      <td>2</td>\n",
       "      <td>2.70</td>\n",
       "      <td>5</td>\n",
       "      <td>34.300000</td>\n",
       "      <td>4</td>\n",
       "      <td>False</td>\n",
       "      <td>...</td>\n",
       "      <td>13933.0</td>\n",
       "      <td>1</td>\n",
       "      <td>90.0</td>\n",
       "      <td>2</td>\n",
       "      <td>574.0</td>\n",
       "      <td>558.0</td>\n",
       "      <td>92785.714286</td>\n",
       "      <td>3</td>\n",
       "      <td>8</td>\n",
       "      <td>2015</td>\n",
       "    </tr>\n",
       "    <tr>\n",
       "      <th>3</th>\n",
       "      <td>0</td>\n",
       "      <td>64900000.0</td>\n",
       "      <td>159.0</td>\n",
       "      <td>2015-07-24</td>\n",
       "      <td>3</td>\n",
       "      <td>2.70</td>\n",
       "      <td>14</td>\n",
       "      <td>90.289724</td>\n",
       "      <td>9</td>\n",
       "      <td>False</td>\n",
       "      <td>...</td>\n",
       "      <td>6800.0</td>\n",
       "      <td>2</td>\n",
       "      <td>84.0</td>\n",
       "      <td>3</td>\n",
       "      <td>234.0</td>\n",
       "      <td>424.0</td>\n",
       "      <td>408176.100629</td>\n",
       "      <td>4</td>\n",
       "      <td>7</td>\n",
       "      <td>2015</td>\n",
       "    </tr>\n",
       "    <tr>\n",
       "      <th>4</th>\n",
       "      <td>2</td>\n",
       "      <td>10000000.0</td>\n",
       "      <td>100.0</td>\n",
       "      <td>2018-06-19</td>\n",
       "      <td>2</td>\n",
       "      <td>3.03</td>\n",
       "      <td>14</td>\n",
       "      <td>32.000000</td>\n",
       "      <td>13</td>\n",
       "      <td>False</td>\n",
       "      <td>...</td>\n",
       "      <td>8098.0</td>\n",
       "      <td>2</td>\n",
       "      <td>112.0</td>\n",
       "      <td>1</td>\n",
       "      <td>48.0</td>\n",
       "      <td>121.0</td>\n",
       "      <td>100000.000000</td>\n",
       "      <td>1</td>\n",
       "      <td>6</td>\n",
       "      <td>2018</td>\n",
       "    </tr>\n",
       "  </tbody>\n",
       "</table>\n",
       "<p>5 rows × 26 columns</p>\n",
       "</div>"
      ],
      "text/plain": [
       "   total_images  last_price  total_area first_day_exposition  rooms  \\\n",
       "0            20  13000000.0       108.0           2019-03-07      3   \n",
       "1             7   3350000.0        40.4           2018-12-04      1   \n",
       "2            10   5196000.0        56.0           2015-08-20      2   \n",
       "3             0  64900000.0       159.0           2015-07-24      3   \n",
       "4             2  10000000.0       100.0           2018-06-19      2   \n",
       "\n",
       "   ceiling_height  floors_total  living_area  floor  is_apartment  ...  \\\n",
       "0            2.70            16    51.000000      8         False  ...   \n",
       "1            2.70            11    18.600000      1         False  ...   \n",
       "2            2.70             5    34.300000      4         False  ...   \n",
       "3            2.70            14    90.289724      9         False  ...   \n",
       "4            3.03            14    32.000000     13         False  ...   \n",
       "\n",
       "   cityCenters_nearest  parks_around3000  parks_nearest  ponds_around3000  \\\n",
       "0              16028.0                 1          482.0                 2   \n",
       "1              18603.0                 0            0.0                 0   \n",
       "2              13933.0                 1           90.0                 2   \n",
       "3               6800.0                 2           84.0                 3   \n",
       "4               8098.0                 2          112.0                 1   \n",
       "\n",
       "  ponds_nearest  days_exposition  one_meter_price  week_day  month  year  \n",
       "0         755.0              NaN    120370.370370         3      3  2019  \n",
       "1           0.0             81.0     82920.792079         1     12  2018  \n",
       "2         574.0            558.0     92785.714286         3      8  2015  \n",
       "3         234.0            424.0    408176.100629         4      7  2015  \n",
       "4          48.0            121.0    100000.000000         1      6  2018  \n",
       "\n",
       "[5 rows x 26 columns]"
      ]
     },
     "execution_count": 46,
     "metadata": {},
     "output_type": "execute_result"
    }
   ],
   "source": [
    "df.head()"
   ]
  },
  {
   "cell_type": "markdown",
   "metadata": {},
   "source": [
    "Сгруппируем значения по этажам квартиры на 3 категории: первый этаж, последний или другой."
   ]
  },
  {
   "cell_type": "code",
   "execution_count": 47,
   "metadata": {},
   "outputs": [],
   "source": [
    "def floor_category (row):\n",
    "    x = row['floor']\n",
    "    y = row['floors_total']\n",
    "    if x == 1:\n",
    "        return 'первый'\n",
    "    if x == y:\n",
    "        return 'последний'\n",
    "    return 'другой'\n",
    " \n",
    "df['floor_category'] = df.apply(floor_category, axis = 1)"
   ]
  },
  {
   "cell_type": "markdown",
   "metadata": {},
   "source": [
    "Также добавим к таблице 2 столбца: соотношение жилой к общей площади, отношение площади кухни к общей."
   ]
  },
  {
   "cell_type": "code",
   "execution_count": 48,
   "metadata": {},
   "outputs": [],
   "source": [
    "df['living_area_ratio'] = df['living_area'] / df['total_area']"
   ]
  },
  {
   "cell_type": "code",
   "execution_count": 49,
   "metadata": {},
   "outputs": [],
   "source": [
    "df['kitchen_area_ratio'] = df['kitchen_area'] / df['total_area']"
   ]
  },
  {
   "cell_type": "code",
   "execution_count": 50,
   "metadata": {},
   "outputs": [
    {
     "data": {
      "text/html": [
       "<div>\n",
       "<style scoped>\n",
       "    .dataframe tbody tr th:only-of-type {\n",
       "        vertical-align: middle;\n",
       "    }\n",
       "\n",
       "    .dataframe tbody tr th {\n",
       "        vertical-align: top;\n",
       "    }\n",
       "\n",
       "    .dataframe thead th {\n",
       "        text-align: right;\n",
       "    }\n",
       "</style>\n",
       "<table border=\"1\" class=\"dataframe\">\n",
       "  <thead>\n",
       "    <tr style=\"text-align: right;\">\n",
       "      <th></th>\n",
       "      <th>total_images</th>\n",
       "      <th>last_price</th>\n",
       "      <th>total_area</th>\n",
       "      <th>first_day_exposition</th>\n",
       "      <th>rooms</th>\n",
       "      <th>ceiling_height</th>\n",
       "      <th>floors_total</th>\n",
       "      <th>living_area</th>\n",
       "      <th>floor</th>\n",
       "      <th>is_apartment</th>\n",
       "      <th>...</th>\n",
       "      <th>ponds_around3000</th>\n",
       "      <th>ponds_nearest</th>\n",
       "      <th>days_exposition</th>\n",
       "      <th>one_meter_price</th>\n",
       "      <th>week_day</th>\n",
       "      <th>month</th>\n",
       "      <th>year</th>\n",
       "      <th>floor_category</th>\n",
       "      <th>living_area_ratio</th>\n",
       "      <th>kitchen_area_ratio</th>\n",
       "    </tr>\n",
       "  </thead>\n",
       "  <tbody>\n",
       "    <tr>\n",
       "      <th>0</th>\n",
       "      <td>20</td>\n",
       "      <td>13000000.0</td>\n",
       "      <td>108.0</td>\n",
       "      <td>2019-03-07</td>\n",
       "      <td>3</td>\n",
       "      <td>2.70</td>\n",
       "      <td>16</td>\n",
       "      <td>51.000000</td>\n",
       "      <td>8</td>\n",
       "      <td>False</td>\n",
       "      <td>...</td>\n",
       "      <td>2</td>\n",
       "      <td>755.0</td>\n",
       "      <td>NaN</td>\n",
       "      <td>120370.370370</td>\n",
       "      <td>3</td>\n",
       "      <td>3</td>\n",
       "      <td>2019</td>\n",
       "      <td>другой</td>\n",
       "      <td>0.472222</td>\n",
       "      <td>0.231481</td>\n",
       "    </tr>\n",
       "    <tr>\n",
       "      <th>1</th>\n",
       "      <td>7</td>\n",
       "      <td>3350000.0</td>\n",
       "      <td>40.4</td>\n",
       "      <td>2018-12-04</td>\n",
       "      <td>1</td>\n",
       "      <td>2.70</td>\n",
       "      <td>11</td>\n",
       "      <td>18.600000</td>\n",
       "      <td>1</td>\n",
       "      <td>False</td>\n",
       "      <td>...</td>\n",
       "      <td>0</td>\n",
       "      <td>0.0</td>\n",
       "      <td>81.0</td>\n",
       "      <td>82920.792079</td>\n",
       "      <td>1</td>\n",
       "      <td>12</td>\n",
       "      <td>2018</td>\n",
       "      <td>первый</td>\n",
       "      <td>0.460396</td>\n",
       "      <td>0.272277</td>\n",
       "    </tr>\n",
       "    <tr>\n",
       "      <th>2</th>\n",
       "      <td>10</td>\n",
       "      <td>5196000.0</td>\n",
       "      <td>56.0</td>\n",
       "      <td>2015-08-20</td>\n",
       "      <td>2</td>\n",
       "      <td>2.70</td>\n",
       "      <td>5</td>\n",
       "      <td>34.300000</td>\n",
       "      <td>4</td>\n",
       "      <td>False</td>\n",
       "      <td>...</td>\n",
       "      <td>2</td>\n",
       "      <td>574.0</td>\n",
       "      <td>558.0</td>\n",
       "      <td>92785.714286</td>\n",
       "      <td>3</td>\n",
       "      <td>8</td>\n",
       "      <td>2015</td>\n",
       "      <td>другой</td>\n",
       "      <td>0.612500</td>\n",
       "      <td>0.148214</td>\n",
       "    </tr>\n",
       "    <tr>\n",
       "      <th>3</th>\n",
       "      <td>0</td>\n",
       "      <td>64900000.0</td>\n",
       "      <td>159.0</td>\n",
       "      <td>2015-07-24</td>\n",
       "      <td>3</td>\n",
       "      <td>2.70</td>\n",
       "      <td>14</td>\n",
       "      <td>90.289724</td>\n",
       "      <td>9</td>\n",
       "      <td>False</td>\n",
       "      <td>...</td>\n",
       "      <td>3</td>\n",
       "      <td>234.0</td>\n",
       "      <td>424.0</td>\n",
       "      <td>408176.100629</td>\n",
       "      <td>4</td>\n",
       "      <td>7</td>\n",
       "      <td>2015</td>\n",
       "      <td>другой</td>\n",
       "      <td>0.567860</td>\n",
       "      <td>0.172414</td>\n",
       "    </tr>\n",
       "    <tr>\n",
       "      <th>4</th>\n",
       "      <td>2</td>\n",
       "      <td>10000000.0</td>\n",
       "      <td>100.0</td>\n",
       "      <td>2018-06-19</td>\n",
       "      <td>2</td>\n",
       "      <td>3.03</td>\n",
       "      <td>14</td>\n",
       "      <td>32.000000</td>\n",
       "      <td>13</td>\n",
       "      <td>False</td>\n",
       "      <td>...</td>\n",
       "      <td>1</td>\n",
       "      <td>48.0</td>\n",
       "      <td>121.0</td>\n",
       "      <td>100000.000000</td>\n",
       "      <td>1</td>\n",
       "      <td>6</td>\n",
       "      <td>2018</td>\n",
       "      <td>другой</td>\n",
       "      <td>0.320000</td>\n",
       "      <td>0.410000</td>\n",
       "    </tr>\n",
       "  </tbody>\n",
       "</table>\n",
       "<p>5 rows × 29 columns</p>\n",
       "</div>"
      ],
      "text/plain": [
       "   total_images  last_price  total_area first_day_exposition  rooms  \\\n",
       "0            20  13000000.0       108.0           2019-03-07      3   \n",
       "1             7   3350000.0        40.4           2018-12-04      1   \n",
       "2            10   5196000.0        56.0           2015-08-20      2   \n",
       "3             0  64900000.0       159.0           2015-07-24      3   \n",
       "4             2  10000000.0       100.0           2018-06-19      2   \n",
       "\n",
       "   ceiling_height  floors_total  living_area  floor  is_apartment  ...  \\\n",
       "0            2.70            16    51.000000      8         False  ...   \n",
       "1            2.70            11    18.600000      1         False  ...   \n",
       "2            2.70             5    34.300000      4         False  ...   \n",
       "3            2.70            14    90.289724      9         False  ...   \n",
       "4            3.03            14    32.000000     13         False  ...   \n",
       "\n",
       "   ponds_around3000  ponds_nearest  days_exposition  one_meter_price week_day  \\\n",
       "0                 2          755.0              NaN    120370.370370        3   \n",
       "1                 0            0.0             81.0     82920.792079        1   \n",
       "2                 2          574.0            558.0     92785.714286        3   \n",
       "3                 3          234.0            424.0    408176.100629        4   \n",
       "4                 1           48.0            121.0    100000.000000        1   \n",
       "\n",
       "   month  year  floor_category  living_area_ratio  kitchen_area_ratio  \n",
       "0      3  2019          другой           0.472222            0.231481  \n",
       "1     12  2018          первый           0.460396            0.272277  \n",
       "2      8  2015          другой           0.612500            0.148214  \n",
       "3      7  2015          другой           0.567860            0.172414  \n",
       "4      6  2018          другой           0.320000            0.410000  \n",
       "\n",
       "[5 rows x 29 columns]"
      ]
     },
     "execution_count": 50,
     "metadata": {},
     "output_type": "execute_result"
    }
   ],
   "source": [
    "df.head()"
   ]
  },
  {
   "cell_type": "code",
   "execution_count": 51,
   "metadata": {},
   "outputs": [
    {
     "name": "stdout",
     "output_type": "stream",
     "text": [
      "<class 'pandas.core.frame.DataFrame'>\n",
      "RangeIndex: 23699 entries, 0 to 23698\n",
      "Data columns (total 29 columns):\n",
      " #   Column                Non-Null Count  Dtype         \n",
      "---  ------                --------------  -----         \n",
      " 0   total_images          23699 non-null  int64         \n",
      " 1   last_price            23699 non-null  float64       \n",
      " 2   total_area            23699 non-null  float64       \n",
      " 3   first_day_exposition  23699 non-null  datetime64[ns]\n",
      " 4   rooms                 23699 non-null  int64         \n",
      " 5   ceiling_height        23699 non-null  float64       \n",
      " 6   floors_total          23699 non-null  int64         \n",
      " 7   living_area           23699 non-null  float64       \n",
      " 8   floor                 23699 non-null  int64         \n",
      " 9   is_apartment          23699 non-null  bool          \n",
      " 10  studio                23699 non-null  bool          \n",
      " 11  open_plan             23699 non-null  bool          \n",
      " 12  kitchen_area          23699 non-null  float64       \n",
      " 13  balcony               23699 non-null  int64         \n",
      " 14  locality_name         23699 non-null  object        \n",
      " 15  airports_nearest      23699 non-null  float64       \n",
      " 16  cityCenters_nearest   23699 non-null  float64       \n",
      " 17  parks_around3000      23699 non-null  int64         \n",
      " 18  parks_nearest         23699 non-null  float64       \n",
      " 19  ponds_around3000      23699 non-null  int64         \n",
      " 20  ponds_nearest         23699 non-null  float64       \n",
      " 21  days_exposition       20518 non-null  float64       \n",
      " 22  one_meter_price       23699 non-null  float64       \n",
      " 23  week_day              23699 non-null  int64         \n",
      " 24  month                 23699 non-null  int64         \n",
      " 25  year                  23699 non-null  int64         \n",
      " 26  floor_category        23699 non-null  object        \n",
      " 27  living_area_ratio     23699 non-null  float64       \n",
      " 28  kitchen_area_ratio    23699 non-null  float64       \n",
      "dtypes: bool(3), datetime64[ns](1), float64(13), int64(10), object(2)\n",
      "memory usage: 4.8+ MB\n"
     ]
    }
   ],
   "source": [
    "df.info()"
   ]
  },
  {
   "cell_type": "markdown",
   "metadata": {},
   "source": [
    "## Исследовательский анализ данных"
   ]
  },
  {
   "cell_type": "markdown",
   "metadata": {},
   "source": [
    "### Изучение основных параметров"
   ]
  },
  {
   "cell_type": "markdown",
   "metadata": {},
   "source": [
    "Изучим следующие параметры: площадь, цена, число комнат, высота потолков и построим гистограммы для каждого параметра."
   ]
  },
  {
   "cell_type": "markdown",
   "metadata": {},
   "source": [
    "Площадь: "
   ]
  },
  {
   "cell_type": "code",
   "execution_count": 52,
   "metadata": {},
   "outputs": [
    {
     "data": {
      "text/plain": [
       "count    23699.000000\n",
       "mean        60.348651\n",
       "std         35.654083\n",
       "min         12.000000\n",
       "25%         40.000000\n",
       "50%         52.000000\n",
       "75%         69.900000\n",
       "max        900.000000\n",
       "Name: total_area, dtype: float64"
      ]
     },
     "execution_count": 52,
     "metadata": {},
     "output_type": "execute_result"
    }
   ],
   "source": [
    "df['total_area'].describe()"
   ]
  },
  {
   "cell_type": "code",
   "execution_count": 53,
   "metadata": {},
   "outputs": [
    {
     "data": {
      "text/plain": [
       "<AxesSubplot:>"
      ]
     },
     "execution_count": 53,
     "metadata": {},
     "output_type": "execute_result"
    },
    {
     "data": {
      "image/png": "[encoded data removed]",
      "text/plain": [
       "<Figure size 432x288 with 1 Axes>"
      ]
     },
     "metadata": {
      "needs_background": "light"
     },
     "output_type": "display_data"
    }
   ],
   "source": [
    "df['total_area'].hist(bins = 10, range = (10, 200))"
   ]
  },
  {
   "cell_type": "markdown",
   "metadata": {},
   "source": [
    "Цена:"
   ]
  },
  {
   "cell_type": "code",
   "execution_count": 54,
   "metadata": {},
   "outputs": [
    {
     "data": {
      "text/plain": [
       "count     23699.000000\n",
       "mean       6541.548772\n",
       "std       10887.013268\n",
       "min          12.190000\n",
       "25%        3400.000000\n",
       "50%        4650.000000\n",
       "75%        6800.000000\n",
       "max      763000.000000\n",
       "Name: last_price, dtype: float64"
      ]
     },
     "execution_count": 54,
     "metadata": {},
     "output_type": "execute_result"
    }
   ],
   "source": [
    "df['last_price'] = df['last_price']/1000\n",
    "df['last_price'].describe()"
   ]
  },
  {
   "cell_type": "code",
   "execution_count": 55,
   "metadata": {},
   "outputs": [
    {
     "data": {
      "text/plain": [
       "<AxesSubplot:>"
      ]
     },
     "execution_count": 55,
     "metadata": {},
     "output_type": "execute_result"
    },
    {
     "data": {
      "image/png": "[encoded data removed]",
      "text/plain": [
       "<Figure size 432x288 with 1 Axes>"
      ]
     },
     "metadata": {
      "needs_background": "light"
     },
     "output_type": "display_data"
    }
   ],
   "source": [
    "df['last_price'].hist(bins = 10, range = (10, 25000))"
   ]
  },
  {
   "cell_type": "markdown",
   "metadata": {},
   "source": [
    "Число комнат:"
   ]
  },
  {
   "cell_type": "code",
   "execution_count": 56,
   "metadata": {},
   "outputs": [
    {
     "data": {
      "text/plain": [
       "count    23699.000000\n",
       "mean         2.070636\n",
       "std          1.078405\n",
       "min          0.000000\n",
       "25%          1.000000\n",
       "50%          2.000000\n",
       "75%          3.000000\n",
       "max         19.000000\n",
       "Name: rooms, dtype: float64"
      ]
     },
     "execution_count": 56,
     "metadata": {},
     "output_type": "execute_result"
    }
   ],
   "source": [
    "df['rooms'].describe()"
   ]
  },
  {
   "cell_type": "code",
   "execution_count": 57,
   "metadata": {},
   "outputs": [
    {
     "data": {
      "text/plain": [
       "array([ 3,  1,  2,  4,  5,  6,  0,  7, 11,  8, 14, 10, 15,  9, 19, 16, 12])"
      ]
     },
     "execution_count": 57,
     "metadata": {},
     "output_type": "execute_result"
    }
   ],
   "source": [
    "df['rooms'].unique()"
   ]
  },
  {
   "cell_type": "code",
   "execution_count": 58,
   "metadata": {},
   "outputs": [
    {
     "data": {
      "text/plain": [
       "<AxesSubplot:>"
      ]
     },
     "execution_count": 58,
     "metadata": {},
     "output_type": "execute_result"
    },
    {
     "data": {
      "image/png": "[encoded data removed]",
      "text/plain": [
       "<Figure size 432x288 with 1 Axes>"
      ]
     },
     "metadata": {
      "needs_background": "light"
     },
     "output_type": "display_data"
    }
   ],
   "source": [
    "df['rooms']. hist(bins = 8, range = (0, 8))"
   ]
  },
  {
   "cell_type": "markdown",
   "metadata": {},
   "source": [
    "Высота потолков:"
   ]
  },
  {
   "cell_type": "code",
   "execution_count": 59,
   "metadata": {},
   "outputs": [
    {
     "data": {
      "text/plain": [
       "count    23699.000000\n",
       "mean         2.713795\n",
       "std          0.200585\n",
       "min          2.500000\n",
       "25%          2.600000\n",
       "50%          2.700000\n",
       "75%          2.700000\n",
       "max          4.000000\n",
       "Name: ceiling_height, dtype: float64"
      ]
     },
     "execution_count": 59,
     "metadata": {},
     "output_type": "execute_result"
    }
   ],
   "source": [
    "df['ceiling_height'].describe()"
   ]
  },
  {
   "cell_type": "code",
   "execution_count": 60,
   "metadata": {},
   "outputs": [
    {
     "data": {
      "text/plain": [
       "<AxesSubplot:>"
      ]
     },
     "execution_count": 60,
     "metadata": {},
     "output_type": "execute_result"
    },
    {
     "data": {
      "image/png": "[encoded data removed]",
      "text/plain": [
       "<Figure size 432x288 with 1 Axes>"
      ]
     },
     "metadata": {
      "needs_background": "light"
     },
     "output_type": "display_data"
    }
   ],
   "source": [
    "df['ceiling_height']. hist(bins = 3, range = (2, 4))"
   ]
  },
  {
   "cell_type": "markdown",
   "metadata": {},
   "source": [
    "### Изучение времени продажи квартиры"
   ]
  },
  {
   "cell_type": "markdown",
   "metadata": {},
   "source": [
    "Для начала найдем основные параметры по столбцу 'days_exposition' и построим гистограмму. "
   ]
  },
  {
   "cell_type": "code",
   "execution_count": 61,
   "metadata": {},
   "outputs": [
    {
     "data": {
      "text/plain": [
       "count    20518.000000\n",
       "mean       180.888634\n",
       "std        219.727988\n",
       "min          1.000000\n",
       "25%         45.000000\n",
       "50%         95.000000\n",
       "75%        232.000000\n",
       "max       1580.000000\n",
       "Name: days_exposition, dtype: float64"
      ]
     },
     "execution_count": 61,
     "metadata": {},
     "output_type": "execute_result"
    }
   ],
   "source": [
    "df['days_exposition'].describe()"
   ]
  },
  {
   "cell_type": "code",
   "execution_count": 62,
   "metadata": {},
   "outputs": [
    {
     "data": {
      "text/plain": [
       "<AxesSubplot:>"
      ]
     },
     "execution_count": 62,
     "metadata": {},
     "output_type": "execute_result"
    },
    {
     "data": {
      "image/png": "[encoded data removed]",
      "text/plain": [
       "<Figure size 432x288 with 1 Axes>"
      ]
     },
     "metadata": {
      "needs_background": "light"
     },
     "output_type": "display_data"
    }
   ],
   "source": [
    "df['days_exposition']. hist(bins = 10, range = (0, 1400))"
   ]
  },
  {
   "cell_type": "markdown",
   "metadata": {},
   "source": [
    "Продажа бОльшей части квартир занимает в диапазоне от 45 до 232 дней. Медианное значение составляет 95 дней, то есть примерно 3 месяца. Если квартиру продали менее, чем за полтора месяца, можно считать, что это быстрая продажа. Если квартира была выставлена на продажу более 7,5 месяцев, то можно считать ее долгой. Среднее время продажи 180 дней, т.е. в 2 раза больше медианного, то говорит о том, что большое влияние оказывают выбросы. "
   ]
  },
  {
   "cell_type": "markdown",
   "metadata": {},
   "source": [
    "### Работа с экстремальными значениями"
   ]
  },
  {
   "cell_type": "markdown",
   "metadata": {},
   "source": [
    " Поэтому для точного анализа влияния разных факторов сначала необходимо убрать редкие и выбивающиеся значения."
   ]
  },
  {
   "cell_type": "markdown",
   "metadata": {},
   "source": [
    "Оставим в датафрейме все квартиры площадью менее 200 кв. м."
   ]
  },
  {
   "cell_type": "code",
   "execution_count": 63,
   "metadata": {},
   "outputs": [],
   "source": [
    "df = df.query('total_area <=200')"
   ]
  },
  {
   "cell_type": "markdown",
   "metadata": {},
   "source": [
    "Квартиры стоимостью менее 25 млн. руб."
   ]
  },
  {
   "cell_type": "code",
   "execution_count": 64,
   "metadata": {},
   "outputs": [],
   "source": [
    "df = df.query('last_price <= 25000')"
   ]
  },
  {
   "cell_type": "markdown",
   "metadata": {},
   "source": [
    "Количество комнат до 5 комнат включительно."
   ]
  },
  {
   "cell_type": "code",
   "execution_count": 65,
   "metadata": {},
   "outputs": [],
   "source": [
    "df = df.query('rooms < 6')"
   ]
  },
  {
   "cell_type": "code",
   "execution_count": 66,
   "metadata": {},
   "outputs": [
    {
     "name": "stdout",
     "output_type": "stream",
     "text": [
      "<class 'pandas.core.frame.DataFrame'>\n",
      "Int64Index: 23090 entries, 0 to 23698\n",
      "Data columns (total 29 columns):\n",
      " #   Column                Non-Null Count  Dtype         \n",
      "---  ------                --------------  -----         \n",
      " 0   total_images          23090 non-null  int64         \n",
      " 1   last_price            23090 non-null  float64       \n",
      " 2   total_area            23090 non-null  float64       \n",
      " 3   first_day_exposition  23090 non-null  datetime64[ns]\n",
      " 4   rooms                 23090 non-null  int64         \n",
      " 5   ceiling_height        23090 non-null  float64       \n",
      " 6   floors_total          23090 non-null  int64         \n",
      " 7   living_area           23090 non-null  float64       \n",
      " 8   floor                 23090 non-null  int64         \n",
      " 9   is_apartment          23090 non-null  bool          \n",
      " 10  studio                23090 non-null  bool          \n",
      " 11  open_plan             23090 non-null  bool          \n",
      " 12  kitchen_area          23090 non-null  float64       \n",
      " 13  balcony               23090 non-null  int64         \n",
      " 14  locality_name         23090 non-null  object        \n",
      " 15  airports_nearest      23090 non-null  float64       \n",
      " 16  cityCenters_nearest   23090 non-null  float64       \n",
      " 17  parks_around3000      23090 non-null  int64         \n",
      " 18  parks_nearest         23090 non-null  float64       \n",
      " 19  ponds_around3000      23090 non-null  int64         \n",
      " 20  ponds_nearest         23090 non-null  float64       \n",
      " 21  days_exposition       20076 non-null  float64       \n",
      " 22  one_meter_price       23090 non-null  float64       \n",
      " 23  week_day              23090 non-null  int64         \n",
      " 24  month                 23090 non-null  int64         \n",
      " 25  year                  23090 non-null  int64         \n",
      " 26  floor_category        23090 non-null  object        \n",
      " 27  living_area_ratio     23090 non-null  float64       \n",
      " 28  kitchen_area_ratio    23090 non-null  float64       \n",
      "dtypes: bool(3), datetime64[ns](1), float64(13), int64(10), object(2)\n",
      "memory usage: 4.8+ MB\n"
     ]
    }
   ],
   "source": [
    "df.info()"
   ]
  },
  {
   "cell_type": "markdown",
   "metadata": {},
   "source": [
    "### Анализ факторов, влияющих на стоимость квартиры "
   ]
  },
  {
   "cell_type": "markdown",
   "metadata": {},
   "source": [
    "Определим, зависит ли цена от площади, числа комнат, удалённости от центра. "
   ]
  },
  {
   "cell_type": "markdown",
   "metadata": {},
   "source": [
    "Построим диаграмму рассеяния, чтобы проанализировать зависимость между ценой квартиры и площадью квартиры:"
   ]
  },
  {
   "cell_type": "code",
   "execution_count": 102,
   "metadata": {},
   "outputs": [
    {
     "data": {
      "text/plain": [
       "<AxesSubplot:xlabel='total_area', ylabel='last_price'>"
      ]
     },
     "execution_count": 102,
     "metadata": {},
     "output_type": "execute_result"
    },
    {
     "data": {
      "image/png": "[encoded data removed]",
      "text/plain": [
       "<Figure size 432x288 with 1 Axes>"
      ]
     },
     "metadata": {
      "needs_background": "light"
     },
     "output_type": "display_data"
    }
   ],
   "source": [
    "df.plot(y = 'last_price', x = 'total_area', kind = 'scatter')"
   ]
  },
  {
   "cell_type": "code",
   "execution_count": 103,
   "metadata": {},
   "outputs": [
    {
     "name": "stdout",
     "output_type": "stream",
     "text": [
      "0.7780541096323571\n"
     ]
    }
   ],
   "source": [
    "print(df['last_price'].corr(df['total_area']))"
   ]
  },
  {
   "cell_type": "markdown",
   "metadata": {},
   "source": [
    "Коэффициент корреляции показывает достаточно сильное влияние площади квартиры на ее стоимость. "
   ]
  },
  {
   "cell_type": "markdown",
   "metadata": {},
   "source": [
    "Проанализируем, влияние количества комнат на цену квартиры."
   ]
  },
  {
   "cell_type": "code",
   "execution_count": 116,
   "metadata": {},
   "outputs": [
    {
     "data": {
      "text/plain": [
       "<AxesSubplot:xlabel='rooms', ylabel='last_price'>"
      ]
     },
     "execution_count": 116,
     "metadata": {},
     "output_type": "execute_result"
    },
    {
     "data": {
      "image/png": "[encoded data removed]",
      "text/plain": [
       "<Figure size 432x288 with 1 Axes>"
      ]
     },
     "metadata": {
      "needs_background": "light"
     },
     "output_type": "display_data"
    }
   ],
   "source": [
    "sns.barplot(x='rooms', y='last_price', data=df)"
   ]
  },
  {
   "cell_type": "code",
   "execution_count": 120,
   "metadata": {},
   "outputs": [
    {
     "name": "stdout",
     "output_type": "stream",
     "text": [
      "0.48308238075904725\n"
     ]
    }
   ],
   "source": [
    "print(df['last_price'].corr(df['rooms']))"
   ]
  },
  {
   "cell_type": "markdown",
   "metadata": {},
   "source": [
    "Коэффициент корреляции показывает слабую зависимость цены от количества комнат. Тем не менее, с ростом количества комнат цена продажи растет, что логично."
   ]
  },
  {
   "cell_type": "markdown",
   "metadata": {},
   "source": [
    "Проанализируем удаленность от центра:"
   ]
  },
  {
   "cell_type": "code",
   "execution_count": 121,
   "metadata": {},
   "outputs": [
    {
     "data": {
      "text/plain": [
       "<AxesSubplot:xlabel='cityCenters_nearest', ylabel='last_price'>"
      ]
     },
     "execution_count": 121,
     "metadata": {},
     "output_type": "execute_result"
    },
    {
     "data": {
      "image/png": "[encoded data removed]",
      "text/plain": [
       "<Figure size 432x288 with 1 Axes>"
      ]
     },
     "metadata": {
      "needs_background": "light"
     },
     "output_type": "display_data"
    }
   ],
   "source": [
    "df.plot(y = 'last_price', x = 'cityCenters_nearest', kind = 'scatter')"
   ]
  },
  {
   "cell_type": "code",
   "execution_count": 106,
   "metadata": {},
   "outputs": [
    {
     "name": "stdout",
     "output_type": "stream",
     "text": [
      "-0.020580699313509462\n"
     ]
    }
   ],
   "source": [
    "print(df['last_price'].corr(df['cityCenters_nearest']))"
   ]
  },
  {
   "cell_type": "markdown",
   "metadata": {},
   "source": [
    "Коэффициент корреляции показывает очень слабую обратную связь между удаленностью от центра и ценой квартиры. Но, возможно, это обусловлено большим количеством пропусков в столбце 'cityCenters_nearest'."
   ]
  },
  {
   "cell_type": "markdown",
   "metadata": {},
   "source": [
    "Далее изучим зависимость цены от того, на каком этаже расположена квартира: первом, последнем или другом."
   ]
  },
  {
   "cell_type": "code",
   "execution_count": 119,
   "metadata": {},
   "outputs": [
    {
     "data": {
      "text/plain": [
       "<AxesSubplot:xlabel='floor_category', ylabel='last_price'>"
      ]
     },
     "execution_count": 119,
     "metadata": {},
     "output_type": "execute_result"
    },
    {
     "data": {
      "image/png": "[encoded data removed]",
      "text/plain": [
       "<Figure size 432x288 with 1 Axes>"
      ]
     },
     "metadata": {
      "needs_background": "light"
     },
     "output_type": "display_data"
    }
   ],
   "source": [
    "sns.barplot(x='floor_category', y='last_price', data=df)"
   ]
  },
  {
   "cell_type": "markdown",
   "metadata": {},
   "source": [
    "График показывает, что самая низкая цена у квартир, расположенных на первом этаже, квартиры на последнем этаже несколько дороже. А самая высокая цена у квартир, расположенных на других этажах."
   ]
  },
  {
   "cell_type": "markdown",
   "metadata": {},
   "source": [
    "Также изучим зависимость стоимости квартир от даты размещения: дня недели, месяца и года. "
   ]
  },
  {
   "cell_type": "markdown",
   "metadata": {},
   "source": [
    "День недели:"
   ]
  },
  {
   "cell_type": "code",
   "execution_count": 122,
   "metadata": {},
   "outputs": [
    {
     "data": {
      "text/plain": [
       "<AxesSubplot:xlabel='week_day', ylabel='last_price'>"
      ]
     },
     "execution_count": 122,
     "metadata": {},
     "output_type": "execute_result"
    },
    {
     "data": {
      "image/png": "[encoded data removed]",
      "text/plain": [
       "<Figure size 432x288 with 1 Axes>"
      ]
     },
     "metadata": {
      "needs_background": "light"
     },
     "output_type": "display_data"
    }
   ],
   "source": [
    "sns.barplot(x='week_day', y='last_price', data=df)"
   ]
  },
  {
   "cell_type": "code",
   "execution_count": 75,
   "metadata": {},
   "outputs": [
    {
     "name": "stdout",
     "output_type": "stream",
     "text": [
      "-0.015874021712971465\n"
     ]
    }
   ],
   "source": [
    "print(df['last_price'].corr(df['week_day']))"
   ]
  },
  {
   "cell_type": "markdown",
   "metadata": {},
   "source": [
    "Судя по графику и коэффициенту корреляции цена квартиры не зависит от дня недели размещения объявления."
   ]
  },
  {
   "cell_type": "markdown",
   "metadata": {},
   "source": [
    "Месяц:"
   ]
  },
  {
   "cell_type": "code",
   "execution_count": 123,
   "metadata": {},
   "outputs": [
    {
     "data": {
      "text/plain": [
       "<AxesSubplot:xlabel='month', ylabel='last_price'>"
      ]
     },
     "execution_count": 123,
     "metadata": {},
     "output_type": "execute_result"
    },
    {
     "data": {
      "image/png": "[encoded data removed]",
      "text/plain": [
       "<Figure size 432x288 with 1 Axes>"
      ]
     },
     "metadata": {
      "needs_background": "light"
     },
     "output_type": "display_data"
    }
   ],
   "source": [
    "sns.barplot(x='month', y='last_price', data=df)"
   ]
  },
  {
   "cell_type": "code",
   "execution_count": 77,
   "metadata": {},
   "outputs": [
    {
     "name": "stdout",
     "output_type": "stream",
     "text": [
      "0.003963033251970379\n"
     ]
    }
   ],
   "source": [
    "print(df['last_price'].corr(df['month']))"
   ]
  },
  {
   "cell_type": "markdown",
   "metadata": {},
   "source": [
    "Судя по графику и коэффициенту корреляции цена квартиры не зависит от месяца размещения объявления."
   ]
  },
  {
   "cell_type": "markdown",
   "metadata": {},
   "source": [
    "Год:"
   ]
  },
  {
   "cell_type": "code",
   "execution_count": 124,
   "metadata": {},
   "outputs": [
    {
     "data": {
      "text/plain": [
       "<AxesSubplot:xlabel='year', ylabel='last_price'>"
      ]
     },
     "execution_count": 124,
     "metadata": {},
     "output_type": "execute_result"
    },
    {
     "data": {
      "image/png": "[encoded data removed]",
      "text/plain": [
       "<Figure size 432x288 with 1 Axes>"
      ]
     },
     "metadata": {
      "needs_background": "light"
     },
     "output_type": "display_data"
    }
   ],
   "source": [
    "sns.barplot(x='year', y='last_price', data=df)"
   ]
  },
  {
   "cell_type": "code",
   "execution_count": 79,
   "metadata": {},
   "outputs": [
    {
     "name": "stdout",
     "output_type": "stream",
     "text": [
      "-0.033119598089243474\n"
     ]
    }
   ],
   "source": [
    "print(df['last_price'].corr(df['year']))"
   ]
  },
  {
   "cell_type": "markdown",
   "metadata": {},
   "source": [
    "Судя коэффициенту корреляции цена квартиры практически не зависит от года размещения объявления, хотя по графику видно, что квартиры размещенный в 2014 году были существенно дороже чем в других годах."
   ]
  },
  {
   "cell_type": "markdown",
   "metadata": {},
   "source": [
    "### Анализ 10 пунктов с наибольшим числом объявлений"
   ]
  },
  {
   "cell_type": "markdown",
   "metadata": {},
   "source": [
    "Выберем 10 населённых пунктов с наибольшим числом объявлений. Посчитаем среднюю цену квадратного метра в этих населённых пунктах. "
   ]
  },
  {
   "cell_type": "code",
   "execution_count": 126,
   "metadata": {},
   "outputs": [
    {
     "data": {
      "text/html": [
       "<div>\n",
       "<style scoped>\n",
       "    .dataframe tbody tr th:only-of-type {\n",
       "        vertical-align: middle;\n",
       "    }\n",
       "\n",
       "    .dataframe tbody tr th {\n",
       "        vertical-align: top;\n",
       "    }\n",
       "\n",
       "    .dataframe thead th {\n",
       "        text-align: right;\n",
       "    }\n",
       "</style>\n",
       "<table border=\"1\" class=\"dataframe\">\n",
       "  <thead>\n",
       "    <tr style=\"text-align: right;\">\n",
       "      <th></th>\n",
       "      <th>count</th>\n",
       "      <th>mean</th>\n",
       "    </tr>\n",
       "    <tr>\n",
       "      <th>locality_name</th>\n",
       "      <th></th>\n",
       "      <th></th>\n",
       "    </tr>\n",
       "  </thead>\n",
       "  <tbody>\n",
       "    <tr>\n",
       "      <th>Бокситогорск</th>\n",
       "      <td>16</td>\n",
       "      <td>17551.591819</td>\n",
       "    </tr>\n",
       "    <tr>\n",
       "      <th>Волосово</th>\n",
       "      <td>36</td>\n",
       "      <td>40183.325974</td>\n",
       "    </tr>\n",
       "    <tr>\n",
       "      <th>Волхов</th>\n",
       "      <td>111</td>\n",
       "      <td>35087.679877</td>\n",
       "    </tr>\n",
       "    <tr>\n",
       "      <th>Всеволожск</th>\n",
       "      <td>398</td>\n",
       "      <td>68654.473986</td>\n",
       "    </tr>\n",
       "    <tr>\n",
       "      <th>Выборг</th>\n",
       "      <td>237</td>\n",
       "      <td>58141.909153</td>\n",
       "    </tr>\n",
       "    <tr>\n",
       "      <th>...</th>\n",
       "      <td>...</td>\n",
       "      <td>...</td>\n",
       "    </tr>\n",
       "    <tr>\n",
       "      <th>село Путилово</th>\n",
       "      <td>2</td>\n",
       "      <td>39921.758208</td>\n",
       "    </tr>\n",
       "    <tr>\n",
       "      <th>село Рождествено</th>\n",
       "      <td>3</td>\n",
       "      <td>37733.159586</td>\n",
       "    </tr>\n",
       "    <tr>\n",
       "      <th>село Русско-Высоцкое</th>\n",
       "      <td>9</td>\n",
       "      <td>54833.726028</td>\n",
       "    </tr>\n",
       "    <tr>\n",
       "      <th>село Старая Ладога</th>\n",
       "      <td>2</td>\n",
       "      <td>34696.969697</td>\n",
       "    </tr>\n",
       "    <tr>\n",
       "      <th>село Шум</th>\n",
       "      <td>1</td>\n",
       "      <td>33898.305085</td>\n",
       "    </tr>\n",
       "  </tbody>\n",
       "</table>\n",
       "<p>329 rows × 2 columns</p>\n",
       "</div>"
      ],
      "text/plain": [
       "                      count          mean\n",
       "locality_name                            \n",
       "Бокситогорск             16  17551.591819\n",
       "Волосово                 36  40183.325974\n",
       "Волхов                  111  35087.679877\n",
       "Всеволожск              398  68654.473986\n",
       "Выборг                  237  58141.909153\n",
       "...                     ...           ...\n",
       "село Путилово             2  39921.758208\n",
       "село Рождествено          3  37733.159586\n",
       "село Русско-Высоцкое      9  54833.726028\n",
       "село Старая Ладога        2  34696.969697\n",
       "село Шум                  1  33898.305085\n",
       "\n",
       "[329 rows x 2 columns]"
      ]
     },
     "metadata": {},
     "output_type": "display_data"
    }
   ],
   "source": [
    "grouped_localities = df.pivot_table(index = 'locality_name', values = 'one_meter_price', aggfunc = ['count', 'mean'])\n",
    "grouped_localities.columns = ['count', 'mean']\n",
    "display(grouped_localities)"
   ]
  },
  {
   "cell_type": "code",
   "execution_count": 127,
   "metadata": {},
   "outputs": [
    {
     "data": {
      "text/html": [
       "<div>\n",
       "<style scoped>\n",
       "    .dataframe tbody tr th:only-of-type {\n",
       "        vertical-align: middle;\n",
       "    }\n",
       "\n",
       "    .dataframe tbody tr th {\n",
       "        vertical-align: top;\n",
       "    }\n",
       "\n",
       "    .dataframe thead th {\n",
       "        text-align: right;\n",
       "    }\n",
       "</style>\n",
       "<table border=\"1\" class=\"dataframe\">\n",
       "  <thead>\n",
       "    <tr style=\"text-align: right;\">\n",
       "      <th></th>\n",
       "      <th>count</th>\n",
       "      <th>mean</th>\n",
       "    </tr>\n",
       "    <tr>\n",
       "      <th>locality_name</th>\n",
       "      <th></th>\n",
       "      <th></th>\n",
       "    </tr>\n",
       "  </thead>\n",
       "  <tbody>\n",
       "    <tr>\n",
       "      <th>Санкт-Петербург</th>\n",
       "      <td>15134</td>\n",
       "      <td>109882.984834</td>\n",
       "    </tr>\n",
       "    <tr>\n",
       "      <th>поселок Мурино</th>\n",
       "      <td>590</td>\n",
       "      <td>86087.512050</td>\n",
       "    </tr>\n",
       "    <tr>\n",
       "      <th>поселок Шушары</th>\n",
       "      <td>440</td>\n",
       "      <td>78677.364217</td>\n",
       "    </tr>\n",
       "    <tr>\n",
       "      <th>Всеволожск</th>\n",
       "      <td>398</td>\n",
       "      <td>68654.473986</td>\n",
       "    </tr>\n",
       "    <tr>\n",
       "      <th>Пушкин</th>\n",
       "      <td>360</td>\n",
       "      <td>102320.248248</td>\n",
       "    </tr>\n",
       "    <tr>\n",
       "      <th>Колпино</th>\n",
       "      <td>337</td>\n",
       "      <td>75333.295801</td>\n",
       "    </tr>\n",
       "    <tr>\n",
       "      <th>поселок Парголово</th>\n",
       "      <td>326</td>\n",
       "      <td>90332.263023</td>\n",
       "    </tr>\n",
       "    <tr>\n",
       "      <th>Гатчина</th>\n",
       "      <td>307</td>\n",
       "      <td>68746.146763</td>\n",
       "    </tr>\n",
       "    <tr>\n",
       "      <th>деревня Кудрово</th>\n",
       "      <td>299</td>\n",
       "      <td>92473.547576</td>\n",
       "    </tr>\n",
       "    <tr>\n",
       "      <th>Выборг</th>\n",
       "      <td>237</td>\n",
       "      <td>58141.909153</td>\n",
       "    </tr>\n",
       "  </tbody>\n",
       "</table>\n",
       "</div>"
      ],
      "text/plain": [
       "                   count           mean\n",
       "locality_name                          \n",
       "Санкт-Петербург    15134  109882.984834\n",
       "поселок Мурино       590   86087.512050\n",
       "поселок Шушары       440   78677.364217\n",
       "Всеволожск           398   68654.473986\n",
       "Пушкин               360  102320.248248\n",
       "Колпино              337   75333.295801\n",
       "поселок Парголово    326   90332.263023\n",
       "Гатчина              307   68746.146763\n",
       "деревня Кудрово      299   92473.547576\n",
       "Выборг               237   58141.909153"
      ]
     },
     "execution_count": 127,
     "metadata": {},
     "output_type": "execute_result"
    }
   ],
   "source": [
    "grouped_localities = grouped_localities.sort_values(by = 'count', ascending = False)\n",
    "grouped_localities.head(10)"
   ]
  },
  {
   "cell_type": "markdown",
   "metadata": {},
   "source": [
    "Населённые пункты с самой высокой стоимостью жилья - Санкт-Петербург и Пушкин. А самая низкая стоимость жилья в Выборге. "
   ]
  },
  {
   "cell_type": "markdown",
   "metadata": {},
   "source": [
    "### Анализ предложения в Санкт-Петербурге"
   ]
  },
  {
   "cell_type": "markdown",
   "metadata": {},
   "source": [
    "Проанализируем как удаленностьот центра Санкт-Петербурга  влияеит на стоимость квартир. Для начала отфильтруем датафрейм все квартиры, расположенные в Санкт-Петербурге."
   ]
  },
  {
   "cell_type": "code",
   "execution_count": 128,
   "metadata": {},
   "outputs": [
    {
     "data": {
      "text/plain": [
       "15134"
      ]
     },
     "execution_count": 128,
     "metadata": {},
     "output_type": "execute_result"
    }
   ],
   "source": [
    "df_sp = df[df['locality_name'] == 'Санкт-Петербург']\n",
    "df_sp.shape[0]"
   ]
  },
  {
   "cell_type": "markdown",
   "metadata": {},
   "source": [
    "Далее создадим столбец с расстоянием до центра в километрах и округлим его до целых значений. "
   ]
  },
  {
   "cell_type": "code",
   "execution_count": 83,
   "metadata": {},
   "outputs": [
    {
     "data": {
      "text/html": [
       "<div>\n",
       "<style scoped>\n",
       "    .dataframe tbody tr th:only-of-type {\n",
       "        vertical-align: middle;\n",
       "    }\n",
       "\n",
       "    .dataframe tbody tr th {\n",
       "        vertical-align: top;\n",
       "    }\n",
       "\n",
       "    .dataframe thead th {\n",
       "        text-align: right;\n",
       "    }\n",
       "</style>\n",
       "<table border=\"1\" class=\"dataframe\">\n",
       "  <thead>\n",
       "    <tr style=\"text-align: right;\">\n",
       "      <th></th>\n",
       "      <th>total_images</th>\n",
       "      <th>last_price</th>\n",
       "      <th>total_area</th>\n",
       "      <th>first_day_exposition</th>\n",
       "      <th>rooms</th>\n",
       "      <th>ceiling_height</th>\n",
       "      <th>floors_total</th>\n",
       "      <th>living_area</th>\n",
       "      <th>floor</th>\n",
       "      <th>is_apartment</th>\n",
       "      <th>...</th>\n",
       "      <th>ponds_nearest</th>\n",
       "      <th>days_exposition</th>\n",
       "      <th>one_meter_price</th>\n",
       "      <th>week_day</th>\n",
       "      <th>month</th>\n",
       "      <th>year</th>\n",
       "      <th>floor_category</th>\n",
       "      <th>living_area_ratio</th>\n",
       "      <th>kitchen_area_ratio</th>\n",
       "      <th>distance_to_center</th>\n",
       "    </tr>\n",
       "  </thead>\n",
       "  <tbody>\n",
       "    <tr>\n",
       "      <th>0</th>\n",
       "      <td>20</td>\n",
       "      <td>13000.0</td>\n",
       "      <td>108.0</td>\n",
       "      <td>2019-03-07</td>\n",
       "      <td>3</td>\n",
       "      <td>2.70</td>\n",
       "      <td>16</td>\n",
       "      <td>51.000000</td>\n",
       "      <td>8</td>\n",
       "      <td>False</td>\n",
       "      <td>...</td>\n",
       "      <td>755.0</td>\n",
       "      <td>NaN</td>\n",
       "      <td>120370.370370</td>\n",
       "      <td>3</td>\n",
       "      <td>3</td>\n",
       "      <td>2019</td>\n",
       "      <td>другой</td>\n",
       "      <td>0.472222</td>\n",
       "      <td>0.231481</td>\n",
       "      <td>16.0</td>\n",
       "    </tr>\n",
       "    <tr>\n",
       "      <th>2</th>\n",
       "      <td>10</td>\n",
       "      <td>5196.0</td>\n",
       "      <td>56.0</td>\n",
       "      <td>2015-08-20</td>\n",
       "      <td>2</td>\n",
       "      <td>2.70</td>\n",
       "      <td>5</td>\n",
       "      <td>34.300000</td>\n",
       "      <td>4</td>\n",
       "      <td>False</td>\n",
       "      <td>...</td>\n",
       "      <td>574.0</td>\n",
       "      <td>558.0</td>\n",
       "      <td>92785.714286</td>\n",
       "      <td>3</td>\n",
       "      <td>8</td>\n",
       "      <td>2015</td>\n",
       "      <td>другой</td>\n",
       "      <td>0.612500</td>\n",
       "      <td>0.148214</td>\n",
       "      <td>14.0</td>\n",
       "    </tr>\n",
       "    <tr>\n",
       "      <th>4</th>\n",
       "      <td>2</td>\n",
       "      <td>10000.0</td>\n",
       "      <td>100.0</td>\n",
       "      <td>2018-06-19</td>\n",
       "      <td>2</td>\n",
       "      <td>3.03</td>\n",
       "      <td>14</td>\n",
       "      <td>32.000000</td>\n",
       "      <td>13</td>\n",
       "      <td>False</td>\n",
       "      <td>...</td>\n",
       "      <td>48.0</td>\n",
       "      <td>121.0</td>\n",
       "      <td>100000.000000</td>\n",
       "      <td>1</td>\n",
       "      <td>6</td>\n",
       "      <td>2018</td>\n",
       "      <td>другой</td>\n",
       "      <td>0.320000</td>\n",
       "      <td>0.410000</td>\n",
       "      <td>8.0</td>\n",
       "    </tr>\n",
       "    <tr>\n",
       "      <th>7</th>\n",
       "      <td>5</td>\n",
       "      <td>7915.0</td>\n",
       "      <td>71.6</td>\n",
       "      <td>2019-04-18</td>\n",
       "      <td>2</td>\n",
       "      <td>2.70</td>\n",
       "      <td>24</td>\n",
       "      <td>40.658769</td>\n",
       "      <td>22</td>\n",
       "      <td>False</td>\n",
       "      <td>...</td>\n",
       "      <td>0.0</td>\n",
       "      <td>NaN</td>\n",
       "      <td>110544.692737</td>\n",
       "      <td>3</td>\n",
       "      <td>4</td>\n",
       "      <td>2019</td>\n",
       "      <td>другой</td>\n",
       "      <td>0.567860</td>\n",
       "      <td>0.263966</td>\n",
       "      <td>12.0</td>\n",
       "    </tr>\n",
       "    <tr>\n",
       "      <th>9</th>\n",
       "      <td>18</td>\n",
       "      <td>5400.0</td>\n",
       "      <td>61.0</td>\n",
       "      <td>2017-02-26</td>\n",
       "      <td>3</td>\n",
       "      <td>2.50</td>\n",
       "      <td>9</td>\n",
       "      <td>43.600000</td>\n",
       "      <td>7</td>\n",
       "      <td>False</td>\n",
       "      <td>...</td>\n",
       "      <td>0.0</td>\n",
       "      <td>289.0</td>\n",
       "      <td>88524.590164</td>\n",
       "      <td>6</td>\n",
       "      <td>2</td>\n",
       "      <td>2017</td>\n",
       "      <td>другой</td>\n",
       "      <td>0.714754</td>\n",
       "      <td>0.106557</td>\n",
       "      <td>15.0</td>\n",
       "    </tr>\n",
       "    <tr>\n",
       "      <th>10</th>\n",
       "      <td>5</td>\n",
       "      <td>5050.0</td>\n",
       "      <td>39.6</td>\n",
       "      <td>2017-11-16</td>\n",
       "      <td>1</td>\n",
       "      <td>2.67</td>\n",
       "      <td>12</td>\n",
       "      <td>20.300000</td>\n",
       "      <td>3</td>\n",
       "      <td>False</td>\n",
       "      <td>...</td>\n",
       "      <td>553.0</td>\n",
       "      <td>137.0</td>\n",
       "      <td>127525.252525</td>\n",
       "      <td>3</td>\n",
       "      <td>11</td>\n",
       "      <td>2017</td>\n",
       "      <td>другой</td>\n",
       "      <td>0.512626</td>\n",
       "      <td>0.214646</td>\n",
       "      <td>14.0</td>\n",
       "    </tr>\n",
       "    <tr>\n",
       "      <th>15</th>\n",
       "      <td>16</td>\n",
       "      <td>4650.0</td>\n",
       "      <td>39.0</td>\n",
       "      <td>2017-11-18</td>\n",
       "      <td>1</td>\n",
       "      <td>2.70</td>\n",
       "      <td>14</td>\n",
       "      <td>20.500000</td>\n",
       "      <td>5</td>\n",
       "      <td>False</td>\n",
       "      <td>...</td>\n",
       "      <td>296.0</td>\n",
       "      <td>19.0</td>\n",
       "      <td>119230.769231</td>\n",
       "      <td>5</td>\n",
       "      <td>11</td>\n",
       "      <td>2017</td>\n",
       "      <td>другой</td>\n",
       "      <td>0.525641</td>\n",
       "      <td>0.194872</td>\n",
       "      <td>14.0</td>\n",
       "    </tr>\n",
       "    <tr>\n",
       "      <th>16</th>\n",
       "      <td>11</td>\n",
       "      <td>6700.0</td>\n",
       "      <td>82.0</td>\n",
       "      <td>2017-11-23</td>\n",
       "      <td>3</td>\n",
       "      <td>3.05</td>\n",
       "      <td>5</td>\n",
       "      <td>55.600000</td>\n",
       "      <td>1</td>\n",
       "      <td>False</td>\n",
       "      <td>...</td>\n",
       "      <td>0.0</td>\n",
       "      <td>397.0</td>\n",
       "      <td>81707.317073</td>\n",
       "      <td>3</td>\n",
       "      <td>11</td>\n",
       "      <td>2017</td>\n",
       "      <td>первый</td>\n",
       "      <td>0.678049</td>\n",
       "      <td>0.109756</td>\n",
       "      <td>11.0</td>\n",
       "    </tr>\n",
       "    <tr>\n",
       "      <th>17</th>\n",
       "      <td>6</td>\n",
       "      <td>4180.0</td>\n",
       "      <td>36.0</td>\n",
       "      <td>2016-09-09</td>\n",
       "      <td>1</td>\n",
       "      <td>2.70</td>\n",
       "      <td>17</td>\n",
       "      <td>16.500000</td>\n",
       "      <td>7</td>\n",
       "      <td>False</td>\n",
       "      <td>...</td>\n",
       "      <td>859.0</td>\n",
       "      <td>571.0</td>\n",
       "      <td>116111.111111</td>\n",
       "      <td>4</td>\n",
       "      <td>9</td>\n",
       "      <td>2016</td>\n",
       "      <td>другой</td>\n",
       "      <td>0.458333</td>\n",
       "      <td>0.305556</td>\n",
       "      <td>15.0</td>\n",
       "    </tr>\n",
       "    <tr>\n",
       "      <th>18</th>\n",
       "      <td>8</td>\n",
       "      <td>3250.0</td>\n",
       "      <td>31.0</td>\n",
       "      <td>2017-01-27</td>\n",
       "      <td>1</td>\n",
       "      <td>2.50</td>\n",
       "      <td>5</td>\n",
       "      <td>19.400000</td>\n",
       "      <td>2</td>\n",
       "      <td>False</td>\n",
       "      <td>...</td>\n",
       "      <td>0.0</td>\n",
       "      <td>168.0</td>\n",
       "      <td>104838.709677</td>\n",
       "      <td>4</td>\n",
       "      <td>1</td>\n",
       "      <td>2017</td>\n",
       "      <td>другой</td>\n",
       "      <td>0.625806</td>\n",
       "      <td>0.180645</td>\n",
       "      <td>11.0</td>\n",
       "    </tr>\n",
       "  </tbody>\n",
       "</table>\n",
       "<p>10 rows × 30 columns</p>\n",
       "</div>"
      ],
      "text/plain": [
       "    total_images  last_price  total_area first_day_exposition  rooms  \\\n",
       "0             20     13000.0       108.0           2019-03-07      3   \n",
       "2             10      5196.0        56.0           2015-08-20      2   \n",
       "4              2     10000.0       100.0           2018-06-19      2   \n",
       "7              5      7915.0        71.6           2019-04-18      2   \n",
       "9             18      5400.0        61.0           2017-02-26      3   \n",
       "10             5      5050.0        39.6           2017-11-16      1   \n",
       "15            16      4650.0        39.0           2017-11-18      1   \n",
       "16            11      6700.0        82.0           2017-11-23      3   \n",
       "17             6      4180.0        36.0           2016-09-09      1   \n",
       "18             8      3250.0        31.0           2017-01-27      1   \n",
       "\n",
       "    ceiling_height  floors_total  living_area  floor  is_apartment  ...  \\\n",
       "0             2.70            16    51.000000      8         False  ...   \n",
       "2             2.70             5    34.300000      4         False  ...   \n",
       "4             3.03            14    32.000000     13         False  ...   \n",
       "7             2.70            24    40.658769     22         False  ...   \n",
       "9             2.50             9    43.600000      7         False  ...   \n",
       "10            2.67            12    20.300000      3         False  ...   \n",
       "15            2.70            14    20.500000      5         False  ...   \n",
       "16            3.05             5    55.600000      1         False  ...   \n",
       "17            2.70            17    16.500000      7         False  ...   \n",
       "18            2.50             5    19.400000      2         False  ...   \n",
       "\n",
       "    ponds_nearest  days_exposition  one_meter_price  week_day month  year  \\\n",
       "0           755.0              NaN    120370.370370         3     3  2019   \n",
       "2           574.0            558.0     92785.714286         3     8  2015   \n",
       "4            48.0            121.0    100000.000000         1     6  2018   \n",
       "7             0.0              NaN    110544.692737         3     4  2019   \n",
       "9             0.0            289.0     88524.590164         6     2  2017   \n",
       "10          553.0            137.0    127525.252525         3    11  2017   \n",
       "15          296.0             19.0    119230.769231         5    11  2017   \n",
       "16            0.0            397.0     81707.317073         3    11  2017   \n",
       "17          859.0            571.0    116111.111111         4     9  2016   \n",
       "18            0.0            168.0    104838.709677         4     1  2017   \n",
       "\n",
       "    floor_category  living_area_ratio  kitchen_area_ratio  distance_to_center  \n",
       "0           другой           0.472222            0.231481                16.0  \n",
       "2           другой           0.612500            0.148214                14.0  \n",
       "4           другой           0.320000            0.410000                 8.0  \n",
       "7           другой           0.567860            0.263966                12.0  \n",
       "9           другой           0.714754            0.106557                15.0  \n",
       "10          другой           0.512626            0.214646                14.0  \n",
       "15          другой           0.525641            0.194872                14.0  \n",
       "16          первый           0.678049            0.109756                11.0  \n",
       "17          другой           0.458333            0.305556                15.0  \n",
       "18          другой           0.625806            0.180645                11.0  \n",
       "\n",
       "[10 rows x 30 columns]"
      ]
     },
     "execution_count": 83,
     "metadata": {},
     "output_type": "execute_result"
    }
   ],
   "source": [
    "df_sp['distance_to_center'] = df_sp['cityCenters_nearest'] / 1000\n",
    "df_sp['distance_to_center'] = df_sp['distance_to_center'].round()\n",
    "df_sp.head(10)\n"
   ]
  },
  {
   "cell_type": "markdown",
   "metadata": {},
   "source": [
    "После этого посчитаем среднюю цену для каждого километра. "
   ]
  },
  {
   "cell_type": "code",
   "execution_count": 84,
   "metadata": {},
   "outputs": [
    {
     "data": {
      "text/html": [
       "<div>\n",
       "<style scoped>\n",
       "    .dataframe tbody tr th:only-of-type {\n",
       "        vertical-align: middle;\n",
       "    }\n",
       "\n",
       "    .dataframe tbody tr th {\n",
       "        vertical-align: top;\n",
       "    }\n",
       "\n",
       "    .dataframe thead th {\n",
       "        text-align: right;\n",
       "    }\n",
       "</style>\n",
       "<table border=\"1\" class=\"dataframe\">\n",
       "  <thead>\n",
       "    <tr style=\"text-align: right;\">\n",
       "      <th></th>\n",
       "      <th>one_meter_price</th>\n",
       "    </tr>\n",
       "    <tr>\n",
       "      <th>distance_to_center</th>\n",
       "      <th></th>\n",
       "    </tr>\n",
       "  </thead>\n",
       "  <tbody>\n",
       "    <tr>\n",
       "      <th>0.0</th>\n",
       "      <td>118153.215310</td>\n",
       "    </tr>\n",
       "    <tr>\n",
       "      <th>1.0</th>\n",
       "      <td>133117.744877</td>\n",
       "    </tr>\n",
       "    <tr>\n",
       "      <th>2.0</th>\n",
       "      <td>129657.421500</td>\n",
       "    </tr>\n",
       "    <tr>\n",
       "      <th>3.0</th>\n",
       "      <td>116420.703883</td>\n",
       "    </tr>\n",
       "    <tr>\n",
       "      <th>4.0</th>\n",
       "      <td>123900.055369</td>\n",
       "    </tr>\n",
       "    <tr>\n",
       "      <th>5.0</th>\n",
       "      <td>130055.117933</td>\n",
       "    </tr>\n",
       "    <tr>\n",
       "      <th>6.0</th>\n",
       "      <td>129186.719791</td>\n",
       "    </tr>\n",
       "    <tr>\n",
       "      <th>7.0</th>\n",
       "      <td>127936.350425</td>\n",
       "    </tr>\n",
       "    <tr>\n",
       "      <th>8.0</th>\n",
       "      <td>123645.223045</td>\n",
       "    </tr>\n",
       "    <tr>\n",
       "      <th>9.0</th>\n",
       "      <td>111369.072408</td>\n",
       "    </tr>\n",
       "    <tr>\n",
       "      <th>10.0</th>\n",
       "      <td>112628.976129</td>\n",
       "    </tr>\n",
       "    <tr>\n",
       "      <th>11.0</th>\n",
       "      <td>107922.712858</td>\n",
       "    </tr>\n",
       "    <tr>\n",
       "      <th>12.0</th>\n",
       "      <td>108123.259959</td>\n",
       "    </tr>\n",
       "    <tr>\n",
       "      <th>13.0</th>\n",
       "      <td>108095.420950</td>\n",
       "    </tr>\n",
       "    <tr>\n",
       "      <th>14.0</th>\n",
       "      <td>104271.501603</td>\n",
       "    </tr>\n",
       "    <tr>\n",
       "      <th>15.0</th>\n",
       "      <td>104099.639164</td>\n",
       "    </tr>\n",
       "    <tr>\n",
       "      <th>16.0</th>\n",
       "      <td>100451.537404</td>\n",
       "    </tr>\n",
       "    <tr>\n",
       "      <th>17.0</th>\n",
       "      <td>96357.670268</td>\n",
       "    </tr>\n",
       "    <tr>\n",
       "      <th>18.0</th>\n",
       "      <td>96409.578562</td>\n",
       "    </tr>\n",
       "    <tr>\n",
       "      <th>19.0</th>\n",
       "      <td>98652.736027</td>\n",
       "    </tr>\n",
       "    <tr>\n",
       "      <th>20.0</th>\n",
       "      <td>103045.181922</td>\n",
       "    </tr>\n",
       "    <tr>\n",
       "      <th>21.0</th>\n",
       "      <td>94469.584582</td>\n",
       "    </tr>\n",
       "    <tr>\n",
       "      <th>22.0</th>\n",
       "      <td>91330.425050</td>\n",
       "    </tr>\n",
       "    <tr>\n",
       "      <th>23.0</th>\n",
       "      <td>92063.679612</td>\n",
       "    </tr>\n",
       "    <tr>\n",
       "      <th>24.0</th>\n",
       "      <td>85736.904595</td>\n",
       "    </tr>\n",
       "    <tr>\n",
       "      <th>25.0</th>\n",
       "      <td>91531.371618</td>\n",
       "    </tr>\n",
       "    <tr>\n",
       "      <th>26.0</th>\n",
       "      <td>89285.876593</td>\n",
       "    </tr>\n",
       "    <tr>\n",
       "      <th>27.0</th>\n",
       "      <td>132115.709459</td>\n",
       "    </tr>\n",
       "    <tr>\n",
       "      <th>28.0</th>\n",
       "      <td>81161.915320</td>\n",
       "    </tr>\n",
       "    <tr>\n",
       "      <th>29.0</th>\n",
       "      <td>72953.365445</td>\n",
       "    </tr>\n",
       "  </tbody>\n",
       "</table>\n",
       "</div>"
      ],
      "text/plain": [
       "                    one_meter_price\n",
       "distance_to_center                 \n",
       "0.0                   118153.215310\n",
       "1.0                   133117.744877\n",
       "2.0                   129657.421500\n",
       "3.0                   116420.703883\n",
       "4.0                   123900.055369\n",
       "5.0                   130055.117933\n",
       "6.0                   129186.719791\n",
       "7.0                   127936.350425\n",
       "8.0                   123645.223045\n",
       "9.0                   111369.072408\n",
       "10.0                  112628.976129\n",
       "11.0                  107922.712858\n",
       "12.0                  108123.259959\n",
       "13.0                  108095.420950\n",
       "14.0                  104271.501603\n",
       "15.0                  104099.639164\n",
       "16.0                  100451.537404\n",
       "17.0                   96357.670268\n",
       "18.0                   96409.578562\n",
       "19.0                   98652.736027\n",
       "20.0                  103045.181922\n",
       "21.0                   94469.584582\n",
       "22.0                   91330.425050\n",
       "23.0                   92063.679612\n",
       "24.0                   85736.904595\n",
       "25.0                   91531.371618\n",
       "26.0                   89285.876593\n",
       "27.0                  132115.709459\n",
       "28.0                   81161.915320\n",
       "29.0                   72953.365445"
      ]
     },
     "metadata": {},
     "output_type": "display_data"
    }
   ],
   "source": [
    "df_sp_grouped = df_sp.pivot_table(index = 'distance_to_center', values = 'one_meter_price')\n",
    "display(df_sp_grouped)"
   ]
  },
  {
   "cell_type": "markdown",
   "metadata": {},
   "source": [
    "Построим график: он показывает, как цена зависит от удалённости от центра. "
   ]
  },
  {
   "cell_type": "code",
   "execution_count": 85,
   "metadata": {},
   "outputs": [
    {
     "data": {
      "text/plain": [
       "<AxesSubplot:xlabel='distance_to_center'>"
      ]
     },
     "execution_count": 85,
     "metadata": {},
     "output_type": "execute_result"
    },
    {
     "data": {
      "image/png": "[encoded data removed]",
      "text/plain": [
       "<Figure size 864x360 with 1 Axes>"
      ]
     },
     "metadata": {
      "needs_background": "light"
     },
     "output_type": "display_data"
    }
   ],
   "source": [
    "df_sp_grouped.plot(style='o-', grid=True, figsize=(12, 5))"
   ]
  },
  {
   "cell_type": "markdown",
   "metadata": {},
   "source": [
    "Мы видим, что после отметки в 8 км график сильно меняется — значит это и есть граница центральной зоны."
   ]
  },
  {
   "cell_type": "markdown",
   "metadata": {},
   "source": [
    "### Анализ квартир в центре"
   ]
  },
  {
   "cell_type": "markdown",
   "metadata": {},
   "source": [
    "Выделим сегмент квартир в центре. "
   ]
  },
  {
   "cell_type": "code",
   "execution_count": 86,
   "metadata": {},
   "outputs": [
    {
     "data": {
      "text/plain": [
       "3615"
      ]
     },
     "execution_count": 86,
     "metadata": {},
     "output_type": "execute_result"
    }
   ],
   "source": [
    "df_sp_center = df_sp.loc[df_sp.loc[:,'distance_to_center'] <= 8 ]\n",
    "df_sp_center.shape[0]"
   ]
  },
  {
   "cell_type": "markdown",
   "metadata": {},
   "source": [
    "Проанализируем эту территорию и изучим следующие параметры: площадь, цена, число комнат, высота потолков."
   ]
  },
  {
   "cell_type": "markdown",
   "metadata": {},
   "source": [
    "Общая площадь:"
   ]
  },
  {
   "cell_type": "code",
   "execution_count": 87,
   "metadata": {},
   "outputs": [
    {
     "data": {
      "text/plain": [
       "count    3615.000000\n",
       "mean       75.786426\n",
       "std        31.385860\n",
       "min        12.000000\n",
       "25%        51.500000\n",
       "50%        70.900000\n",
       "75%        94.000000\n",
       "max       200.000000\n",
       "Name: total_area, dtype: float64"
      ]
     },
     "execution_count": 87,
     "metadata": {},
     "output_type": "execute_result"
    }
   ],
   "source": [
    "df_sp_center['total_area'].describe()"
   ]
  },
  {
   "cell_type": "code",
   "execution_count": 129,
   "metadata": {},
   "outputs": [
    {
     "data": {
      "text/plain": [
       "<AxesSubplot:>"
      ]
     },
     "execution_count": 129,
     "metadata": {},
     "output_type": "execute_result"
    },
    {
     "data": {
      "image/png": "[encoded data removed]",
      "text/plain": [
       "<Figure size 432x288 with 1 Axes>"
      ]
     },
     "metadata": {
      "needs_background": "light"
     },
     "output_type": "display_data"
    }
   ],
   "source": [
    "df_sp_center['total_area'].hist(bins = 20, range = (10, 200))"
   ]
  },
  {
   "cell_type": "markdown",
   "metadata": {},
   "source": [
    "Общая площадь варьируется от 12 до 200 кв.м. Наибольшее количество квартир имеет площадь от 30 до 115 кв.м."
   ]
  },
  {
   "cell_type": "markdown",
   "metadata": {},
   "source": [
    "Цена:"
   ]
  },
  {
   "cell_type": "code",
   "execution_count": 89,
   "metadata": {},
   "outputs": [
    {
     "data": {
      "text/plain": [
       "count     3615.000000\n",
       "mean      9406.897454\n",
       "std       4607.053008\n",
       "min       1600.000000\n",
       "25%       6145.000000\n",
       "50%       8290.000000\n",
       "75%      11500.000000\n",
       "max      25000.000000\n",
       "Name: last_price, dtype: float64"
      ]
     },
     "execution_count": 89,
     "metadata": {},
     "output_type": "execute_result"
    }
   ],
   "source": [
    "df_sp_center['last_price'].describe()"
   ]
  },
  {
   "cell_type": "code",
   "execution_count": 131,
   "metadata": {},
   "outputs": [
    {
     "data": {
      "text/plain": [
       "<AxesSubplot:>"
      ]
     },
     "execution_count": 131,
     "metadata": {},
     "output_type": "execute_result"
    },
    {
     "data": {
      "image/png": "[encoded data removed]",
      "text/plain": [
       "<Figure size 432x288 with 1 Axes>"
      ]
     },
     "metadata": {
      "needs_background": "light"
     },
     "output_type": "display_data"
    }
   ],
   "source": [
    "df_sp_center['last_price'].hist(bins = 20, range = (1500, 25000))"
   ]
  },
  {
   "cell_type": "markdown",
   "metadata": {},
   "source": [
    "Цены на квартиры лежат в диапазоне от 2,5 до 16 млн. руб. При этом минимальная стоимость составила 1,6 млн. руб."
   ]
  },
  {
   "cell_type": "markdown",
   "metadata": {},
   "source": [
    "Колчество комнат:"
   ]
  },
  {
   "cell_type": "code",
   "execution_count": 91,
   "metadata": {},
   "outputs": [
    {
     "data": {
      "text/plain": [
       "count    3615.000000\n",
       "mean        2.490733\n",
       "std         1.064006\n",
       "min         0.000000\n",
       "25%         2.000000\n",
       "50%         2.000000\n",
       "75%         3.000000\n",
       "max         5.000000\n",
       "Name: rooms, dtype: float64"
      ]
     },
     "execution_count": 91,
     "metadata": {},
     "output_type": "execute_result"
    }
   ],
   "source": [
    "df_sp_center['rooms'].describe()"
   ]
  },
  {
   "cell_type": "code",
   "execution_count": 92,
   "metadata": {},
   "outputs": [
    {
     "data": {
      "text/plain": [
       "<AxesSubplot:>"
      ]
     },
     "execution_count": 92,
     "metadata": {},
     "output_type": "execute_result"
    },
    {
     "data": {
      "image/png": "[encoded data removed]",
      "text/plain": [
       "<Figure size 432x288 with 1 Axes>"
      ]
     },
     "metadata": {
      "needs_background": "light"
     },
     "output_type": "display_data"
    }
   ],
   "source": [
    "df_sp_center['rooms'].hist(bins = 5, range = (0, 5))"
   ]
  },
  {
   "cell_type": "markdown",
   "metadata": {},
   "source": [
    "Большая часть кватир имеет 2-5 комнат."
   ]
  },
  {
   "cell_type": "markdown",
   "metadata": {},
   "source": [
    "Высота потолков:"
   ]
  },
  {
   "cell_type": "code",
   "execution_count": 132,
   "metadata": {},
   "outputs": [
    {
     "data": {
      "text/plain": [
       "count    3615.000000\n",
       "mean        2.900119\n",
       "std         0.298111\n",
       "min         2.500000\n",
       "25%         2.700000\n",
       "50%         2.750000\n",
       "75%         3.060000\n",
       "max         4.000000\n",
       "Name: ceiling_height, dtype: float64"
      ]
     },
     "execution_count": 132,
     "metadata": {},
     "output_type": "execute_result"
    }
   ],
   "source": [
    "df_sp_center['ceiling_height'].describe()"
   ]
  },
  {
   "cell_type": "code",
   "execution_count": 133,
   "metadata": {},
   "outputs": [
    {
     "data": {
      "text/plain": [
       "<AxesSubplot:>"
      ]
     },
     "execution_count": 133,
     "metadata": {},
     "output_type": "execute_result"
    },
    {
     "data": {
      "image/png": "[encoded data removed]",
      "text/plain": [
       "<Figure size 432x288 with 1 Axes>"
      ]
     },
     "metadata": {
      "needs_background": "light"
     },
     "output_type": "display_data"
    }
   ],
   "source": [
    "df_sp_center['ceiling_height'].hist(bins = 5, range = (2.2, 4))"
   ]
  },
  {
   "cell_type": "markdown",
   "metadata": {},
   "source": [
    "У большинства квартир высота потолков составляет от 2,55 до 3,6 м. "
   ]
  },
  {
   "cell_type": "markdown",
   "metadata": {},
   "source": [
    "Теперь выделим факторы, которые влияют на стоимость квартиры (число комнат, этаж, удалённость от центра, дата размещения объявления). "
   ]
  },
  {
   "cell_type": "markdown",
   "metadata": {},
   "source": [
    "Число комнат:"
   ]
  },
  {
   "cell_type": "code",
   "execution_count": 134,
   "metadata": {},
   "outputs": [
    {
     "data": {
      "text/plain": [
       "<AxesSubplot:xlabel='rooms', ylabel='last_price'>"
      ]
     },
     "execution_count": 134,
     "metadata": {},
     "output_type": "execute_result"
    },
    {
     "data": {
      "image/png": "[encoded data removed]",
      "text/plain": [
       "<Figure size 432x288 with 1 Axes>"
      ]
     },
     "metadata": {
      "needs_background": "light"
     },
     "output_type": "display_data"
    }
   ],
   "source": [
    "sns.barplot(x='rooms', y='last_price', data=df_sp_center)"
   ]
  },
  {
   "cell_type": "code",
   "execution_count": 96,
   "metadata": {},
   "outputs": [
    {
     "name": "stdout",
     "output_type": "stream",
     "text": [
      "0.44990527171722866\n"
     ]
    }
   ],
   "source": [
    "print(df_sp_center['last_price'].corr(df_sp_center['rooms']))"
   ]
  },
  {
   "cell_type": "markdown",
   "metadata": {},
   "source": [
    "Коэффициент корреляции также показывает слабую зависимость цены от количетсва комнат, тем не менее на графике мы видим: чем больше количество комнат, тем выше цена квартир."
   ]
  },
  {
   "cell_type": "markdown",
   "metadata": {},
   "source": [
    "Этаж:"
   ]
  },
  {
   "cell_type": "code",
   "execution_count": 135,
   "metadata": {},
   "outputs": [
    {
     "data": {
      "text/plain": [
       "<AxesSubplot:xlabel='floor_category', ylabel='last_price'>"
      ]
     },
     "execution_count": 135,
     "metadata": {},
     "output_type": "execute_result"
    },
    {
     "data": {
      "image/png": "[encoded data removed]",
      "text/plain": [
       "<Figure size 432x288 with 1 Axes>"
      ]
     },
     "metadata": {
      "needs_background": "light"
     },
     "output_type": "display_data"
    }
   ],
   "source": [
    "sns.barplot(x='floor_category', y='last_price', data=df_sp_center)"
   ]
  },
  {
   "cell_type": "markdown",
   "metadata": {},
   "source": [
    "В квартирах в центре Санкт-Петербурга квартиры на первом этаже также продаются по самой низкой цене. А вот квартиры на последнем этаже и других этаж имеют меньшую разницу в стоимости."
   ]
  },
  {
   "cell_type": "markdown",
   "metadata": {},
   "source": [
    "Удаленность от центра:"
   ]
  },
  {
   "cell_type": "code",
   "execution_count": 136,
   "metadata": {},
   "outputs": [
    {
     "data": {
      "text/plain": [
       "<AxesSubplot:xlabel='distance_to_center', ylabel='last_price'>"
      ]
     },
     "execution_count": 136,
     "metadata": {},
     "output_type": "execute_result"
    },
    {
     "data": {
      "image/png": "[encoded data removed]",
      "text/plain": [
       "<Figure size 432x288 with 1 Axes>"
      ]
     },
     "metadata": {
      "needs_background": "light"
     },
     "output_type": "display_data"
    }
   ],
   "source": [
    "sns.barplot(x='distance_to_center', y='last_price', data=df_sp_center)"
   ]
  },
  {
   "cell_type": "code",
   "execution_count": 99,
   "metadata": {},
   "outputs": [
    {
     "name": "stdout",
     "output_type": "stream",
     "text": [
      "-0.13263977788927492\n"
     ]
    }
   ],
   "source": [
    "print(df_sp_center['last_price'].corr(df_sp_center['distance_to_center']))"
   ]
  },
  {
   "cell_type": "markdown",
   "metadata": {},
   "source": [
    "Удаленность от центра имеет слабую отрицательную корреляцию, но закономерность есть: чем дальше квартира от центра, тем она дешевле."
   ]
  },
  {
   "cell_type": "markdown",
   "metadata": {},
   "source": [
    "Дата размещения объявления:"
   ]
  },
  {
   "cell_type": "code",
   "execution_count": 137,
   "metadata": {},
   "outputs": [
    {
     "data": {
      "text/plain": [
       "<AxesSubplot:xlabel='first_day_exposition', ylabel='last_price'>"
      ]
     },
     "execution_count": 137,
     "metadata": {},
     "output_type": "execute_result"
    },
    {
     "data": {
      "image/png": "[encoded data removed]",
      "text/plain": [
       "<Figure size 432x288 with 1 Axes>"
      ]
     },
     "metadata": {
      "needs_background": "light"
     },
     "output_type": "display_data"
    }
   ],
   "source": [
    "df_sp_center.plot(y = 'last_price', x = 'first_day_exposition', kind = 'scatter')"
   ]
  },
  {
   "cell_type": "markdown",
   "metadata": {},
   "source": [
    "Судя по графику дата размещения объявления не влияет на стоимость квартиры."
   ]
  },
  {
   "cell_type": "markdown",
   "metadata": {},
   "source": [
    "## Общий вывод"
   ]
  },
  {
   "cell_type": "markdown",
   "metadata": {},
   "source": [
    "Мы проанализировали данные сервиса Яндекc Недвижимость — архив объявлений о продаже квартир в Санкт-Петербурге и соседних населённых пунктах за несколько лет для того, чтобы определить, какие факторы влияют на стоимость квартир. \n",
    "\n",
    "Сначала была изучена информация о данных и выявлено наличие пропусков. Пропуски были обнаружены в 14 столбцах и были устранены различными способами. Пропуски в высоте столбцов заполнены согласно рекомендациям СНиП. Жилая площадь и размер кухни рассчитаны с использованием отношения к общей площади. Пропуски в столбце с количеством балконов были расценены как их отсутствие. А пропуски в стобце апартаменты означают, что квартира ими не является. Если в таблице была пропущена информация о наличии парков и водоемов, мы также считаем, что они отстутвуют. Попуски в расстоянии от центра населенного пункта и ближайшего аэропорта мы заменили медианным значением по каждому населенному пункту. В столбце с длительностью размещения пропуски были оставлены, так как это значит, что квартира еще не была продана.\n",
    "\n",
    "Данные в столбце даты публикации были переведены во временной формат. А количество балконов, этажей, парков и водоемов в целые числа.\n",
    "\n",
    "Изучив основные параметры, мы отбросили экстремальные значения. Таким образом:\n",
    "\n"
   ]
  }
 ],
 "metadata": {
  "ExecuteTimeLog": [
   {
    "duration": 87,
    "start_time": "2022-05-24T05:29:53.503Z"
   },
   {
    "duration": 35,
    "start_time": "2022-05-24T05:29:54.600Z"
   },
   {
    "duration": 15,
    "start_time": "2022-05-24T05:42:06.293Z"
   },
   {
    "duration": 1060,
    "start_time": "2022-05-24T06:02:42.357Z"
   },
   {
    "duration": 143,
    "start_time": "2022-05-24T06:02:54.778Z"
   },
   {
    "duration": 170,
    "start_time": "2022-05-24T06:03:22.479Z"
   },
   {
    "duration": 135,
    "start_time": "2022-05-24T06:04:02.316Z"
   },
   {
    "duration": 160,
    "start_time": "2022-05-24T06:04:15.333Z"
   },
   {
    "duration": 126,
    "start_time": "2022-05-24T06:04:27.591Z"
   },
   {
    "duration": 13,
    "start_time": "2022-05-24T06:05:01.485Z"
   },
   {
    "duration": 8,
    "start_time": "2022-05-24T07:29:20.421Z"
   },
   {
    "duration": 155,
    "start_time": "2022-05-24T07:33:57.459Z"
   },
   {
    "duration": 231,
    "start_time": "2022-05-24T07:34:09.306Z"
   },
   {
    "duration": 138,
    "start_time": "2022-05-24T07:34:21.780Z"
   },
   {
    "duration": 120,
    "start_time": "2022-05-24T07:34:29.911Z"
   },
   {
    "duration": 125,
    "start_time": "2022-05-24T07:34:44.526Z"
   },
   {
    "duration": 125,
    "start_time": "2022-05-24T07:35:57.835Z"
   },
   {
    "duration": 123,
    "start_time": "2022-05-24T07:36:16.306Z"
   },
   {
    "duration": 147,
    "start_time": "2022-05-24T07:36:22.121Z"
   },
   {
    "duration": 10,
    "start_time": "2022-05-24T07:36:34.147Z"
   },
   {
    "duration": 136,
    "start_time": "2022-05-24T07:36:34.975Z"
   },
   {
    "duration": 9,
    "start_time": "2022-05-24T07:36:41.187Z"
   },
   {
    "duration": 29,
    "start_time": "2022-05-24T07:36:43.017Z"
   },
   {
    "duration": 125,
    "start_time": "2022-05-24T07:36:43.819Z"
   },
   {
    "duration": 130,
    "start_time": "2022-05-24T07:36:55.615Z"
   },
   {
    "duration": 149,
    "start_time": "2022-05-24T08:21:30.372Z"
   },
   {
    "duration": 117,
    "start_time": "2022-05-24T08:36:51.843Z"
   },
   {
    "duration": 198,
    "start_time": "2022-05-24T08:36:54.227Z"
   },
   {
    "duration": 172,
    "start_time": "2022-05-24T08:41:20.535Z"
   },
   {
    "duration": 133,
    "start_time": "2022-05-24T08:47:10.345Z"
   },
   {
    "duration": 23,
    "start_time": "2022-05-24T08:47:15.539Z"
   },
   {
    "duration": 12,
    "start_time": "2022-05-24T10:04:51.301Z"
   },
   {
    "duration": 46,
    "start_time": "2022-05-24T10:08:29.424Z"
   },
   {
    "duration": 23,
    "start_time": "2022-05-24T10:08:40.220Z"
   },
   {
    "duration": 7,
    "start_time": "2022-05-24T10:08:49.592Z"
   },
   {
    "duration": 6,
    "start_time": "2022-05-24T10:08:53.960Z"
   },
   {
    "duration": 6,
    "start_time": "2022-05-24T10:09:29.354Z"
   },
   {
    "duration": 134,
    "start_time": "2022-05-24T10:09:30.095Z"
   },
   {
    "duration": 38,
    "start_time": "2022-05-24T10:10:07.353Z"
   },
   {
    "duration": 6,
    "start_time": "2022-05-24T10:10:44.757Z"
   },
   {
    "duration": 38,
    "start_time": "2022-05-24T10:10:45.774Z"
   },
   {
    "duration": 117,
    "start_time": "2022-05-24T10:10:46.893Z"
   },
   {
    "duration": 9,
    "start_time": "2022-05-24T10:11:53.587Z"
   },
   {
    "duration": 40,
    "start_time": "2022-05-24T10:11:55.034Z"
   },
   {
    "duration": 122,
    "start_time": "2022-05-24T10:11:57.001Z"
   },
   {
    "duration": 59,
    "start_time": "2022-05-24T13:31:18.263Z"
   },
   {
    "duration": 469,
    "start_time": "2022-05-24T13:31:26.131Z"
   },
   {
    "duration": 344,
    "start_time": "2022-05-24T13:31:26.806Z"
   },
   {
    "duration": 18,
    "start_time": "2022-05-24T13:31:29.369Z"
   },
   {
    "duration": 42,
    "start_time": "2022-05-24T13:31:30.575Z"
   },
   {
    "duration": 10,
    "start_time": "2022-05-24T13:31:33.947Z"
   },
   {
    "duration": 7,
    "start_time": "2022-05-24T13:31:35.690Z"
   },
   {
    "duration": 558,
    "start_time": "2022-05-24T13:31:37.568Z"
   },
   {
    "duration": 39,
    "start_time": "2022-05-24T13:31:41.173Z"
   },
   {
    "duration": 9,
    "start_time": "2022-05-24T13:32:41.236Z"
   },
   {
    "duration": 13,
    "start_time": "2022-05-24T14:22:17.355Z"
   },
   {
    "duration": 10,
    "start_time": "2022-05-24T14:30:55.282Z"
   },
   {
    "duration": 52,
    "start_time": "2022-05-24T14:31:00.220Z"
   },
   {
    "duration": 9,
    "start_time": "2022-05-24T14:31:12.748Z"
   },
   {
    "duration": 3,
    "start_time": "2022-05-24T14:31:19.397Z"
   },
   {
    "duration": 193,
    "start_time": "2022-05-24T14:31:20.008Z"
   },
   {
    "duration": 25,
    "start_time": "2022-05-24T14:31:21.353Z"
   },
   {
    "duration": 30,
    "start_time": "2022-05-24T14:31:23.124Z"
   },
   {
    "duration": 10,
    "start_time": "2022-05-24T14:31:33.433Z"
   },
   {
    "duration": 9,
    "start_time": "2022-05-24T14:31:36.336Z"
   },
   {
    "duration": 160,
    "start_time": "2022-05-24T14:31:39.028Z"
   },
   {
    "duration": 11,
    "start_time": "2022-05-24T14:31:40.987Z"
   },
   {
    "duration": 39,
    "start_time": "2022-05-24T14:31:42.098Z"
   },
   {
    "duration": 141,
    "start_time": "2022-05-24T14:31:52.586Z"
   },
   {
    "duration": 12,
    "start_time": "2022-05-24T14:32:02.978Z"
   },
   {
    "duration": 37,
    "start_time": "2022-05-24T14:32:04.903Z"
   },
   {
    "duration": 15,
    "start_time": "2022-05-24T14:33:19.580Z"
   },
   {
    "duration": 14,
    "start_time": "2022-05-24T14:33:27.381Z"
   },
   {
    "duration": 8,
    "start_time": "2022-05-24T14:33:54.143Z"
   },
   {
    "duration": 18,
    "start_time": "2022-05-24T14:33:55.678Z"
   },
   {
    "duration": 208,
    "start_time": "2022-05-24T14:34:00.646Z"
   },
   {
    "duration": 195,
    "start_time": "2022-05-24T14:34:20.164Z"
   },
   {
    "duration": 127,
    "start_time": "2022-05-24T14:34:46.908Z"
   },
   {
    "duration": 29,
    "start_time": "2022-05-24T14:35:09.022Z"
   },
   {
    "duration": 141,
    "start_time": "2022-05-24T14:35:32.594Z"
   },
   {
    "duration": 114,
    "start_time": "2022-05-24T14:36:06.453Z"
   },
   {
    "duration": 469,
    "start_time": "2022-05-24T14:36:17.253Z"
   },
   {
    "duration": 108,
    "start_time": "2022-05-24T14:36:17.724Z"
   },
   {
    "duration": 25,
    "start_time": "2022-05-24T14:36:17.834Z"
   },
   {
    "duration": 52,
    "start_time": "2022-05-24T14:36:17.863Z"
   },
   {
    "duration": 12,
    "start_time": "2022-05-24T14:36:17.917Z"
   },
   {
    "duration": 37,
    "start_time": "2022-05-24T14:36:17.931Z"
   },
   {
    "duration": 55,
    "start_time": "2022-05-24T14:36:17.970Z"
   },
   {
    "duration": 517,
    "start_time": "2022-05-24T14:36:18.027Z"
   },
   {
    "duration": 0,
    "start_time": "2022-05-24T14:36:18.546Z"
   },
   {
    "duration": 1,
    "start_time": "2022-05-24T14:36:18.559Z"
   },
   {
    "duration": 0,
    "start_time": "2022-05-24T14:36:18.562Z"
   },
   {
    "duration": 13,
    "start_time": "2022-05-24T14:36:32.781Z"
   },
   {
    "duration": 3,
    "start_time": "2022-05-24T14:36:46.939Z"
   },
   {
    "duration": 106,
    "start_time": "2022-05-24T14:36:48.001Z"
   },
   {
    "duration": 15,
    "start_time": "2022-05-24T14:36:49.747Z"
   },
   {
    "duration": 30,
    "start_time": "2022-05-24T14:36:52.495Z"
   },
   {
    "duration": 9,
    "start_time": "2022-05-24T14:36:58.288Z"
   },
   {
    "duration": 8,
    "start_time": "2022-05-24T14:37:01.042Z"
   },
   {
    "duration": 36,
    "start_time": "2022-05-24T14:37:02.396Z"
   },
   {
    "duration": 112,
    "start_time": "2022-05-24T14:37:06.800Z"
   },
   {
    "duration": 16,
    "start_time": "2022-05-24T14:40:16.078Z"
   },
   {
    "duration": 21,
    "start_time": "2022-05-24T14:43:13.359Z"
   },
   {
    "duration": 146,
    "start_time": "2022-05-24T14:43:44.121Z"
   },
   {
    "duration": 5,
    "start_time": "2022-05-24T14:44:46.103Z"
   },
   {
    "duration": 41,
    "start_time": "2022-05-24T14:44:49.253Z"
   },
   {
    "duration": 161,
    "start_time": "2022-05-24T14:44:52.543Z"
   },
   {
    "duration": 5,
    "start_time": "2022-05-24T14:45:00.527Z"
   },
   {
    "duration": 16,
    "start_time": "2022-05-24T14:45:31.089Z"
   },
   {
    "duration": 161,
    "start_time": "2022-05-24T14:45:59.351Z"
   },
   {
    "duration": 151,
    "start_time": "2022-05-24T14:46:27.765Z"
   },
   {
    "duration": 149,
    "start_time": "2022-05-24T14:47:01.616Z"
   },
   {
    "duration": 185,
    "start_time": "2022-05-24T14:50:46.669Z"
   },
   {
    "duration": 99,
    "start_time": "2022-05-24T14:58:02.392Z"
   },
   {
    "duration": 37,
    "start_time": "2022-05-24T14:58:04.389Z"
   },
   {
    "duration": 146,
    "start_time": "2022-05-24T14:58:05.563Z"
   },
   {
    "duration": 6,
    "start_time": "2022-05-24T14:59:03.920Z"
   },
   {
    "duration": 16,
    "start_time": "2022-05-24T14:59:05.820Z"
   },
   {
    "duration": 131,
    "start_time": "2022-05-24T14:59:09.202Z"
   },
   {
    "duration": 39,
    "start_time": "2022-05-24T14:59:12.742Z"
   },
   {
    "duration": 145,
    "start_time": "2022-05-24T14:59:13.747Z"
   },
   {
    "duration": 89,
    "start_time": "2022-05-24T14:59:23.922Z"
   },
   {
    "duration": 5,
    "start_time": "2022-05-24T15:01:24.875Z"
   },
   {
    "duration": 15,
    "start_time": "2022-05-24T15:01:26.278Z"
   },
   {
    "duration": 7,
    "start_time": "2022-05-24T15:01:55.813Z"
   },
   {
    "duration": 16,
    "start_time": "2022-05-24T15:01:56.950Z"
   },
   {
    "duration": 4,
    "start_time": "2022-05-24T15:03:21.545Z"
   },
   {
    "duration": 16,
    "start_time": "2022-05-24T15:03:24.254Z"
   },
   {
    "duration": 10,
    "start_time": "2022-05-24T15:03:29.849Z"
   },
   {
    "duration": 35,
    "start_time": "2022-05-24T15:03:35.049Z"
   },
   {
    "duration": 108,
    "start_time": "2022-05-24T15:03:42.215Z"
   },
   {
    "duration": 30,
    "start_time": "2022-05-24T15:04:13.707Z"
   },
   {
    "duration": 3,
    "start_time": "2022-05-24T15:05:14.693Z"
   },
   {
    "duration": 14,
    "start_time": "2022-05-24T15:05:15.449Z"
   },
   {
    "duration": 28,
    "start_time": "2022-05-24T15:05:17.443Z"
   },
   {
    "duration": 5,
    "start_time": "2022-05-24T15:05:37.351Z"
   },
   {
    "duration": 16,
    "start_time": "2022-05-24T15:05:38.019Z"
   },
   {
    "duration": 30,
    "start_time": "2022-05-24T15:05:39.319Z"
   },
   {
    "duration": 4,
    "start_time": "2022-05-24T15:07:02.259Z"
   },
   {
    "duration": 15,
    "start_time": "2022-05-24T15:07:03.268Z"
   },
   {
    "duration": 4,
    "start_time": "2022-05-24T15:09:11.453Z"
   },
   {
    "duration": 20,
    "start_time": "2022-05-24T15:09:12.853Z"
   },
   {
    "duration": 32,
    "start_time": "2022-05-24T15:09:13.991Z"
   },
   {
    "duration": 5,
    "start_time": "2022-05-24T15:09:27.885Z"
   },
   {
    "duration": 16,
    "start_time": "2022-05-24T15:09:28.901Z"
   },
   {
    "duration": 37,
    "start_time": "2022-05-24T15:09:30.775Z"
   },
   {
    "duration": 149,
    "start_time": "2022-05-24T15:09:34.669Z"
   },
   {
    "duration": 130,
    "start_time": "2022-05-24T15:09:46.483Z"
   },
   {
    "duration": 114,
    "start_time": "2022-05-24T15:09:51.569Z"
   },
   {
    "duration": 5,
    "start_time": "2022-05-24T15:10:06.472Z"
   },
   {
    "duration": 24,
    "start_time": "2022-05-24T15:10:07.457Z"
   },
   {
    "duration": 5,
    "start_time": "2022-05-24T15:10:24.846Z"
   },
   {
    "duration": 54,
    "start_time": "2022-05-25T02:39:04.903Z"
   },
   {
    "duration": 390,
    "start_time": "2022-05-25T02:39:15.784Z"
   },
   {
    "duration": 350,
    "start_time": "2022-05-25T02:39:16.177Z"
   },
   {
    "duration": 16,
    "start_time": "2022-05-25T02:39:16.529Z"
   },
   {
    "duration": 46,
    "start_time": "2022-05-25T02:39:16.548Z"
   },
   {
    "duration": 10,
    "start_time": "2022-05-25T02:39:16.596Z"
   },
   {
    "duration": 20,
    "start_time": "2022-05-25T02:39:16.608Z"
   },
   {
    "duration": 25,
    "start_time": "2022-05-25T02:39:16.630Z"
   },
   {
    "duration": 41,
    "start_time": "2022-05-25T02:39:16.656Z"
   },
   {
    "duration": 9,
    "start_time": "2022-05-25T02:39:16.698Z"
   },
   {
    "duration": 41,
    "start_time": "2022-05-25T02:39:16.709Z"
   },
   {
    "duration": 587,
    "start_time": "2022-05-25T02:39:16.752Z"
   },
   {
    "duration": 3,
    "start_time": "2022-05-25T02:39:22.496Z"
   },
   {
    "duration": 99,
    "start_time": "2022-05-25T02:39:23.392Z"
   },
   {
    "duration": 16,
    "start_time": "2022-05-25T02:39:25.171Z"
   },
   {
    "duration": 29,
    "start_time": "2022-05-25T02:39:26.015Z"
   },
   {
    "duration": 11,
    "start_time": "2022-05-25T02:39:30.171Z"
   },
   {
    "duration": 4,
    "start_time": "2022-05-25T02:39:32.091Z"
   },
   {
    "duration": 14,
    "start_time": "2022-05-25T02:39:33.408Z"
   },
   {
    "duration": 28,
    "start_time": "2022-05-25T02:39:34.443Z"
   },
   {
    "duration": 28,
    "start_time": "2022-05-25T02:39:55.402Z"
   },
   {
    "duration": 9,
    "start_time": "2022-05-25T02:40:03.650Z"
   },
   {
    "duration": 37,
    "start_time": "2022-05-25T02:40:06.082Z"
   },
   {
    "duration": 133,
    "start_time": "2022-05-25T02:40:08.206Z"
   },
   {
    "duration": 37,
    "start_time": "2022-05-25T02:45:03.927Z"
   },
   {
    "duration": 9,
    "start_time": "2022-05-25T02:54:55.640Z"
   },
   {
    "duration": 9,
    "start_time": "2022-05-25T02:55:34.011Z"
   },
   {
    "duration": 10,
    "start_time": "2022-05-25T02:56:15.848Z"
   },
   {
    "duration": 9,
    "start_time": "2022-05-25T02:56:40.244Z"
   },
   {
    "duration": 13,
    "start_time": "2022-05-25T02:56:51.869Z"
   },
   {
    "duration": 8,
    "start_time": "2022-05-25T02:56:52.956Z"
   },
   {
    "duration": 30,
    "start_time": "2022-05-25T02:58:59.398Z"
   },
   {
    "duration": 35,
    "start_time": "2022-05-25T03:03:45.814Z"
   },
   {
    "duration": 3,
    "start_time": "2022-05-25T03:03:49.143Z"
   },
   {
    "duration": 19,
    "start_time": "2022-05-25T03:03:50.496Z"
   },
   {
    "duration": 8,
    "start_time": "2022-05-25T03:04:02.900Z"
   },
   {
    "duration": 9,
    "start_time": "2022-05-25T03:04:11.767Z"
   },
   {
    "duration": 11,
    "start_time": "2022-05-25T03:04:12.737Z"
   },
   {
    "duration": 20,
    "start_time": "2022-05-25T03:08:51.921Z"
   },
   {
    "duration": 15,
    "start_time": "2022-05-25T03:08:52.931Z"
   },
   {
    "duration": 10,
    "start_time": "2022-05-25T03:08:53.871Z"
   },
   {
    "duration": 3,
    "start_time": "2022-05-25T03:09:02.184Z"
   },
   {
    "duration": 94,
    "start_time": "2022-05-25T03:09:02.745Z"
   },
   {
    "duration": 15,
    "start_time": "2022-05-25T03:09:03.953Z"
   },
   {
    "duration": 28,
    "start_time": "2022-05-25T03:09:04.949Z"
   },
   {
    "duration": 13,
    "start_time": "2022-05-25T03:09:08.633Z"
   },
   {
    "duration": 3,
    "start_time": "2022-05-25T03:09:10.290Z"
   },
   {
    "duration": 14,
    "start_time": "2022-05-25T03:09:11.195Z"
   },
   {
    "duration": 29,
    "start_time": "2022-05-25T03:09:11.988Z"
   },
   {
    "duration": 148,
    "start_time": "2022-05-25T03:09:13.241Z"
   },
   {
    "duration": 9,
    "start_time": "2022-05-25T03:09:15.053Z"
   },
   {
    "duration": 42,
    "start_time": "2022-05-25T03:09:16.482Z"
   },
   {
    "duration": 3,
    "start_time": "2022-05-25T03:09:20.211Z"
   },
   {
    "duration": 9,
    "start_time": "2022-05-25T03:09:21.919Z"
   },
   {
    "duration": 10,
    "start_time": "2022-05-25T03:09:22.645Z"
   },
   {
    "duration": 338,
    "start_time": "2022-05-25T03:09:23.345Z"
   },
   {
    "duration": 8,
    "start_time": "2022-05-25T03:09:34.443Z"
   },
   {
    "duration": 12,
    "start_time": "2022-05-25T03:09:35.151Z"
   },
   {
    "duration": 15,
    "start_time": "2022-05-25T03:09:35.708Z"
   },
   {
    "duration": 426,
    "start_time": "2022-05-25T03:13:34.321Z"
   },
   {
    "duration": 114,
    "start_time": "2022-05-25T03:13:34.749Z"
   },
   {
    "duration": 22,
    "start_time": "2022-05-25T03:13:34.865Z"
   },
   {
    "duration": 56,
    "start_time": "2022-05-25T03:13:34.889Z"
   },
   {
    "duration": 9,
    "start_time": "2022-05-25T03:13:34.947Z"
   },
   {
    "duration": 5,
    "start_time": "2022-05-25T03:13:34.957Z"
   },
   {
    "duration": 17,
    "start_time": "2022-05-25T03:13:34.963Z"
   },
   {
    "duration": 50,
    "start_time": "2022-05-25T03:13:34.982Z"
   },
   {
    "duration": 415,
    "start_time": "2022-05-25T03:13:35.033Z"
   },
   {
    "duration": 9,
    "start_time": "2022-05-25T03:13:35.451Z"
   },
   {
    "duration": 31,
    "start_time": "2022-05-25T03:13:35.461Z"
   },
   {
    "duration": 7,
    "start_time": "2022-05-25T03:13:35.494Z"
   },
   {
    "duration": 11,
    "start_time": "2022-05-25T03:13:35.503Z"
   },
   {
    "duration": 40,
    "start_time": "2022-05-25T03:13:35.516Z"
   },
   {
    "duration": 12,
    "start_time": "2022-05-25T03:13:35.557Z"
   },
   {
    "duration": 38,
    "start_time": "2022-05-25T03:16:50.108Z"
   },
   {
    "duration": 12,
    "start_time": "2022-05-25T03:17:06.178Z"
   },
   {
    "duration": 9,
    "start_time": "2022-05-25T03:17:11.868Z"
   },
   {
    "duration": 11,
    "start_time": "2022-05-25T03:17:13.080Z"
   },
   {
    "duration": 8,
    "start_time": "2022-05-25T03:17:21.976Z"
   },
   {
    "duration": 8,
    "start_time": "2022-05-25T03:17:22.568Z"
   },
   {
    "duration": 11,
    "start_time": "2022-05-25T03:17:23.351Z"
   },
   {
    "duration": 3,
    "start_time": "2022-05-25T03:17:31.006Z"
   },
   {
    "duration": 99,
    "start_time": "2022-05-25T03:17:31.500Z"
   },
   {
    "duration": 13,
    "start_time": "2022-05-25T03:17:32.658Z"
   },
   {
    "duration": 40,
    "start_time": "2022-05-25T03:17:33.475Z"
   },
   {
    "duration": 12,
    "start_time": "2022-05-25T03:17:36.874Z"
   },
   {
    "duration": 12,
    "start_time": "2022-05-25T03:17:38.528Z"
   },
   {
    "duration": 20,
    "start_time": "2022-05-25T03:17:39.327Z"
   },
   {
    "duration": 36,
    "start_time": "2022-05-25T03:17:45.144Z"
   },
   {
    "duration": 145,
    "start_time": "2022-05-25T03:17:48.287Z"
   },
   {
    "duration": 11,
    "start_time": "2022-05-25T03:17:50.545Z"
   },
   {
    "duration": 34,
    "start_time": "2022-05-25T03:17:51.707Z"
   },
   {
    "duration": 14,
    "start_time": "2022-05-25T03:17:54.324Z"
   },
   {
    "duration": 10,
    "start_time": "2022-05-25T03:17:55.483Z"
   },
   {
    "duration": 11,
    "start_time": "2022-05-25T03:17:56.290Z"
   },
   {
    "duration": 10,
    "start_time": "2022-05-25T03:22:40.356Z"
   },
   {
    "duration": 5,
    "start_time": "2022-05-25T03:23:02.775Z"
   },
   {
    "duration": 6,
    "start_time": "2022-05-25T03:24:29.563Z"
   },
   {
    "duration": 6,
    "start_time": "2022-05-25T03:24:52.831Z"
   },
   {
    "duration": 4,
    "start_time": "2022-05-25T03:25:11.923Z"
   },
   {
    "duration": 5,
    "start_time": "2022-05-25T03:25:23.544Z"
   },
   {
    "duration": 6,
    "start_time": "2022-05-25T03:25:26.335Z"
   },
   {
    "duration": 4,
    "start_time": "2022-05-25T03:25:27.027Z"
   },
   {
    "duration": 5,
    "start_time": "2022-05-25T03:26:40.224Z"
   },
   {
    "duration": 3,
    "start_time": "2022-05-25T03:28:23.019Z"
   },
   {
    "duration": 5,
    "start_time": "2022-05-25T03:28:54.200Z"
   },
   {
    "duration": 5,
    "start_time": "2022-05-25T03:28:55.821Z"
   },
   {
    "duration": 5,
    "start_time": "2022-05-25T03:29:02.207Z"
   },
   {
    "duration": 5,
    "start_time": "2022-05-25T03:29:09.422Z"
   },
   {
    "duration": 6,
    "start_time": "2022-05-25T03:29:10.817Z"
   },
   {
    "duration": 5,
    "start_time": "2022-05-25T03:29:17.872Z"
   },
   {
    "duration": 5,
    "start_time": "2022-05-25T03:29:18.587Z"
   },
   {
    "duration": 4,
    "start_time": "2022-05-25T03:29:24.344Z"
   },
   {
    "duration": 6,
    "start_time": "2022-05-25T03:29:24.971Z"
   },
   {
    "duration": 5,
    "start_time": "2022-05-25T03:30:33.854Z"
   },
   {
    "duration": 4,
    "start_time": "2022-05-25T03:30:40.172Z"
   },
   {
    "duration": 5,
    "start_time": "2022-05-25T03:30:43.467Z"
   },
   {
    "duration": 3,
    "start_time": "2022-05-25T03:30:51.405Z"
   },
   {
    "duration": 4,
    "start_time": "2022-05-25T03:30:52.033Z"
   },
   {
    "duration": 4,
    "start_time": "2022-05-25T03:30:53.439Z"
   },
   {
    "duration": 5,
    "start_time": "2022-05-25T03:30:55.178Z"
   },
   {
    "duration": 5,
    "start_time": "2022-05-25T03:30:59.035Z"
   },
   {
    "duration": 400,
    "start_time": "2022-05-25T03:31:09.559Z"
   },
   {
    "duration": 95,
    "start_time": "2022-05-25T03:31:09.961Z"
   },
   {
    "duration": 19,
    "start_time": "2022-05-25T03:31:10.058Z"
   },
   {
    "duration": 52,
    "start_time": "2022-05-25T03:31:10.080Z"
   },
   {
    "duration": 8,
    "start_time": "2022-05-25T03:31:10.134Z"
   },
   {
    "duration": 3,
    "start_time": "2022-05-25T03:31:10.144Z"
   },
   {
    "duration": 17,
    "start_time": "2022-05-25T03:31:10.148Z"
   },
   {
    "duration": 28,
    "start_time": "2022-05-25T03:31:10.166Z"
   },
   {
    "duration": 423,
    "start_time": "2022-05-25T03:31:10.196Z"
   },
   {
    "duration": 9,
    "start_time": "2022-05-25T03:31:10.626Z"
   },
   {
    "duration": 35,
    "start_time": "2022-05-25T03:31:10.637Z"
   },
   {
    "duration": 13,
    "start_time": "2022-05-25T03:31:10.673Z"
   },
   {
    "duration": 12,
    "start_time": "2022-05-25T03:31:10.688Z"
   },
   {
    "duration": 15,
    "start_time": "2022-05-25T03:31:10.702Z"
   },
   {
    "duration": 5,
    "start_time": "2022-05-25T03:31:10.726Z"
   },
   {
    "duration": 7,
    "start_time": "2022-05-25T03:31:10.732Z"
   },
   {
    "duration": 13,
    "start_time": "2022-05-25T03:31:10.741Z"
   },
   {
    "duration": 9,
    "start_time": "2022-05-25T03:31:10.756Z"
   },
   {
    "duration": 10,
    "start_time": "2022-05-25T03:31:10.766Z"
   },
   {
    "duration": 16,
    "start_time": "2022-05-25T03:31:10.777Z"
   },
   {
    "duration": 7,
    "start_time": "2022-05-25T03:43:10.832Z"
   },
   {
    "duration": 15,
    "start_time": "2022-05-25T03:43:32.559Z"
   },
   {
    "duration": 4,
    "start_time": "2022-05-25T03:53:01.393Z"
   },
   {
    "duration": 4,
    "start_time": "2022-05-25T03:53:38.834Z"
   },
   {
    "duration": 58,
    "start_time": "2022-05-25T08:09:15.424Z"
   },
   {
    "duration": 390,
    "start_time": "2022-05-25T08:09:25.652Z"
   },
   {
    "duration": 303,
    "start_time": "2022-05-25T08:09:26.046Z"
   },
   {
    "duration": 16,
    "start_time": "2022-05-25T08:09:26.350Z"
   },
   {
    "duration": 40,
    "start_time": "2022-05-25T08:09:26.368Z"
   },
   {
    "duration": 10,
    "start_time": "2022-05-25T08:09:26.409Z"
   },
   {
    "duration": 3,
    "start_time": "2022-05-25T08:09:26.421Z"
   },
   {
    "duration": 16,
    "start_time": "2022-05-25T08:09:26.426Z"
   },
   {
    "duration": 58,
    "start_time": "2022-05-25T08:09:26.443Z"
   },
   {
    "duration": 542,
    "start_time": "2022-05-25T08:09:26.502Z"
   },
   {
    "duration": 8,
    "start_time": "2022-05-25T08:09:27.048Z"
   },
   {
    "duration": 46,
    "start_time": "2022-05-25T08:09:27.058Z"
   },
   {
    "duration": 8,
    "start_time": "2022-05-25T08:09:27.106Z"
   },
   {
    "duration": 13,
    "start_time": "2022-05-25T08:09:27.116Z"
   },
   {
    "duration": 11,
    "start_time": "2022-05-25T08:09:27.131Z"
   },
   {
    "duration": 5,
    "start_time": "2022-05-25T08:09:27.144Z"
   },
   {
    "duration": 3,
    "start_time": "2022-05-25T08:09:27.151Z"
   },
   {
    "duration": 5,
    "start_time": "2022-05-25T08:09:27.156Z"
   },
   {
    "duration": 34,
    "start_time": "2022-05-25T08:09:27.163Z"
   },
   {
    "duration": 8,
    "start_time": "2022-05-25T08:09:27.199Z"
   },
   {
    "duration": 5,
    "start_time": "2022-05-25T08:09:27.209Z"
   },
   {
    "duration": 6,
    "start_time": "2022-05-25T08:09:27.215Z"
   },
   {
    "duration": 15,
    "start_time": "2022-05-25T08:09:27.222Z"
   },
   {
    "duration": 2,
    "start_time": "2022-05-25T08:09:27.239Z"
   },
   {
    "duration": 115,
    "start_time": "2022-05-25T08:09:27.242Z"
   },
   {
    "duration": 3,
    "start_time": "2022-05-25T08:09:51.900Z"
   },
   {
    "duration": 10,
    "start_time": "2022-05-25T08:10:24.288Z"
   },
   {
    "duration": 4,
    "start_time": "2022-05-25T08:10:37.442Z"
   },
   {
    "duration": 237,
    "start_time": "2022-05-25T08:16:17.345Z"
   },
   {
    "duration": 7,
    "start_time": "2022-05-25T08:17:13.453Z"
   },
   {
    "duration": 14,
    "start_time": "2022-05-25T08:29:55.932Z"
   },
   {
    "duration": 5,
    "start_time": "2022-05-25T08:30:33.131Z"
   },
   {
    "duration": 14,
    "start_time": "2022-05-25T08:30:36.112Z"
   },
   {
    "duration": 14,
    "start_time": "2022-05-25T08:50:16.216Z"
   },
   {
    "duration": 11,
    "start_time": "2022-05-25T08:50:38.301Z"
   },
   {
    "duration": 13,
    "start_time": "2022-05-25T08:51:37.186Z"
   },
   {
    "duration": 6,
    "start_time": "2022-05-25T08:58:54.950Z"
   },
   {
    "duration": 5,
    "start_time": "2022-05-25T09:00:21.189Z"
   },
   {
    "duration": 4,
    "start_time": "2022-05-25T09:00:54.354Z"
   },
   {
    "duration": 6,
    "start_time": "2022-05-25T09:01:16.073Z"
   },
   {
    "duration": 17,
    "start_time": "2022-05-25T09:01:16.748Z"
   },
   {
    "duration": 415,
    "start_time": "2022-05-25T09:14:14.368Z"
   },
   {
    "duration": 91,
    "start_time": "2022-05-25T09:14:14.785Z"
   },
   {
    "duration": 13,
    "start_time": "2022-05-25T09:14:14.878Z"
   },
   {
    "duration": 33,
    "start_time": "2022-05-25T09:14:14.893Z"
   },
   {
    "duration": 9,
    "start_time": "2022-05-25T09:14:14.927Z"
   },
   {
    "duration": 4,
    "start_time": "2022-05-25T09:14:14.938Z"
   },
   {
    "duration": 15,
    "start_time": "2022-05-25T09:14:14.943Z"
   },
   {
    "duration": 50,
    "start_time": "2022-05-25T09:14:14.959Z"
   },
   {
    "duration": 393,
    "start_time": "2022-05-25T09:14:15.011Z"
   },
   {
    "duration": 8,
    "start_time": "2022-05-25T09:14:15.407Z"
   },
   {
    "duration": 30,
    "start_time": "2022-05-25T09:14:15.416Z"
   },
   {
    "duration": 8,
    "start_time": "2022-05-25T09:14:15.448Z"
   },
   {
    "duration": 14,
    "start_time": "2022-05-25T09:14:15.457Z"
   },
   {
    "duration": 25,
    "start_time": "2022-05-25T09:14:15.472Z"
   },
   {
    "duration": 5,
    "start_time": "2022-05-25T09:14:15.498Z"
   },
   {
    "duration": 7,
    "start_time": "2022-05-25T09:14:15.504Z"
   },
   {
    "duration": 7,
    "start_time": "2022-05-25T09:14:15.512Z"
   },
   {
    "duration": 6,
    "start_time": "2022-05-25T09:14:15.520Z"
   },
   {
    "duration": 10,
    "start_time": "2022-05-25T09:14:15.527Z"
   },
   {
    "duration": 7,
    "start_time": "2022-05-25T09:14:15.539Z"
   },
   {
    "duration": 8,
    "start_time": "2022-05-25T09:14:15.547Z"
   },
   {
    "duration": 17,
    "start_time": "2022-05-25T09:14:15.557Z"
   },
   {
    "duration": 19,
    "start_time": "2022-05-25T09:14:15.576Z"
   },
   {
    "duration": 6,
    "start_time": "2022-05-25T09:14:15.596Z"
   },
   {
    "duration": 4,
    "start_time": "2022-05-25T09:14:15.646Z"
   },
   {
    "duration": 7,
    "start_time": "2022-05-25T09:14:15.652Z"
   },
   {
    "duration": 7,
    "start_time": "2022-05-25T09:14:15.660Z"
   },
   {
    "duration": 15,
    "start_time": "2022-05-25T09:14:15.668Z"
   },
   {
    "duration": 387,
    "start_time": "2022-05-25T09:17:46.148Z"
   },
   {
    "duration": 94,
    "start_time": "2022-05-25T09:17:46.537Z"
   },
   {
    "duration": 9,
    "start_time": "2022-05-25T09:17:46.707Z"
   },
   {
    "duration": 7,
    "start_time": "2022-05-25T09:17:46.718Z"
   },
   {
    "duration": 23,
    "start_time": "2022-05-25T09:17:46.726Z"
   },
   {
    "duration": 30,
    "start_time": "2022-05-25T09:17:46.750Z"
   },
   {
    "duration": 393,
    "start_time": "2022-05-25T09:17:46.782Z"
   },
   {
    "duration": 11,
    "start_time": "2022-05-25T09:17:47.687Z"
   },
   {
    "duration": 33,
    "start_time": "2022-05-25T09:17:47.700Z"
   },
   {
    "duration": 11,
    "start_time": "2022-05-25T09:17:47.734Z"
   },
   {
    "duration": 11,
    "start_time": "2022-05-25T09:17:47.746Z"
   },
   {
    "duration": 10,
    "start_time": "2022-05-25T09:17:47.759Z"
   },
   {
    "duration": 4,
    "start_time": "2022-05-25T09:17:47.771Z"
   },
   {
    "duration": 25,
    "start_time": "2022-05-25T09:17:47.776Z"
   },
   {
    "duration": 10,
    "start_time": "2022-05-25T09:17:47.812Z"
   },
   {
    "duration": 11,
    "start_time": "2022-05-25T09:17:47.824Z"
   },
   {
    "duration": 23,
    "start_time": "2022-05-25T09:17:47.837Z"
   },
   {
    "duration": 13,
    "start_time": "2022-05-25T09:17:47.862Z"
   },
   {
    "duration": 29,
    "start_time": "2022-05-25T09:17:47.877Z"
   },
   {
    "duration": 4,
    "start_time": "2022-05-25T09:17:47.909Z"
   },
   {
    "duration": 17,
    "start_time": "2022-05-25T09:17:47.914Z"
   },
   {
    "duration": 13,
    "start_time": "2022-05-25T09:17:47.933Z"
   },
   {
    "duration": 11,
    "start_time": "2022-05-25T09:17:47.947Z"
   },
   {
    "duration": 15,
    "start_time": "2022-05-25T09:17:47.959Z"
   },
   {
    "duration": 414,
    "start_time": "2022-05-25T09:19:41.393Z"
   },
   {
    "duration": 100,
    "start_time": "2022-05-25T09:19:41.809Z"
   },
   {
    "duration": 14,
    "start_time": "2022-05-25T09:19:41.910Z"
   },
   {
    "duration": 48,
    "start_time": "2022-05-25T09:19:41.926Z"
   },
   {
    "duration": 9,
    "start_time": "2022-05-25T09:19:41.975Z"
   },
   {
    "duration": 4,
    "start_time": "2022-05-25T09:19:41.985Z"
   },
   {
    "duration": 36,
    "start_time": "2022-05-25T09:19:41.991Z"
   },
   {
    "duration": 31,
    "start_time": "2022-05-25T09:19:42.029Z"
   },
   {
    "duration": 395,
    "start_time": "2022-05-25T09:19:42.084Z"
   },
   {
    "duration": 18,
    "start_time": "2022-05-25T09:19:42.480Z"
   },
   {
    "duration": 2,
    "start_time": "2022-05-25T09:19:51.241Z"
   },
   {
    "duration": 96,
    "start_time": "2022-05-25T09:19:51.980Z"
   },
   {
    "duration": 19,
    "start_time": "2022-05-25T09:19:53.206Z"
   },
   {
    "duration": 27,
    "start_time": "2022-05-25T09:19:54.337Z"
   },
   {
    "duration": 11,
    "start_time": "2022-05-25T09:19:56.939Z"
   },
   {
    "duration": 4,
    "start_time": "2022-05-25T09:19:57.505Z"
   },
   {
    "duration": 14,
    "start_time": "2022-05-25T09:19:57.732Z"
   },
   {
    "duration": 29,
    "start_time": "2022-05-25T09:19:57.931Z"
   },
   {
    "duration": 138,
    "start_time": "2022-05-25T09:19:58.626Z"
   },
   {
    "duration": 11,
    "start_time": "2022-05-25T09:19:59.756Z"
   },
   {
    "duration": 43,
    "start_time": "2022-05-25T09:20:00.279Z"
   },
   {
    "duration": 9,
    "start_time": "2022-05-25T09:20:00.606Z"
   },
   {
    "duration": 10,
    "start_time": "2022-05-25T09:20:00.825Z"
   },
   {
    "duration": 9,
    "start_time": "2022-05-25T09:20:01.027Z"
   },
   {
    "duration": 6,
    "start_time": "2022-05-25T09:20:01.509Z"
   },
   {
    "duration": 4,
    "start_time": "2022-05-25T09:20:02.109Z"
   },
   {
    "duration": 6,
    "start_time": "2022-05-25T09:20:02.236Z"
   },
   {
    "duration": 7,
    "start_time": "2022-05-25T09:20:02.732Z"
   },
   {
    "duration": 7,
    "start_time": "2022-05-25T09:20:03.154Z"
   },
   {
    "duration": 429,
    "start_time": "2022-05-25T09:20:56.556Z"
   },
   {
    "duration": 88,
    "start_time": "2022-05-25T09:20:56.986Z"
   },
   {
    "duration": 15,
    "start_time": "2022-05-25T09:20:57.076Z"
   },
   {
    "duration": 39,
    "start_time": "2022-05-25T09:20:57.092Z"
   },
   {
    "duration": 9,
    "start_time": "2022-05-25T09:20:57.133Z"
   },
   {
    "duration": 4,
    "start_time": "2022-05-25T09:20:57.143Z"
   },
   {
    "duration": 17,
    "start_time": "2022-05-25T09:20:57.149Z"
   },
   {
    "duration": 54,
    "start_time": "2022-05-25T09:20:57.167Z"
   },
   {
    "duration": 416,
    "start_time": "2022-05-25T09:20:57.223Z"
   },
   {
    "duration": 8,
    "start_time": "2022-05-25T09:20:57.642Z"
   },
   {
    "duration": 32,
    "start_time": "2022-05-25T09:20:57.651Z"
   },
   {
    "duration": 9,
    "start_time": "2022-05-25T09:20:57.694Z"
   },
   {
    "duration": 11,
    "start_time": "2022-05-25T09:20:57.705Z"
   },
   {
    "duration": 10,
    "start_time": "2022-05-25T09:20:57.718Z"
   },
   {
    "duration": 6,
    "start_time": "2022-05-25T09:20:57.729Z"
   },
   {
    "duration": 6,
    "start_time": "2022-05-25T09:20:57.736Z"
   },
   {
    "duration": 9,
    "start_time": "2022-05-25T09:20:57.743Z"
   },
   {
    "duration": 9,
    "start_time": "2022-05-25T09:20:57.754Z"
   },
   {
    "duration": 36,
    "start_time": "2022-05-25T09:20:57.765Z"
   },
   {
    "duration": 9,
    "start_time": "2022-05-25T09:20:57.802Z"
   },
   {
    "duration": 7,
    "start_time": "2022-05-25T09:20:57.813Z"
   },
   {
    "duration": 19,
    "start_time": "2022-05-25T09:20:57.821Z"
   },
   {
    "duration": 3,
    "start_time": "2022-05-25T09:20:57.841Z"
   },
   {
    "duration": 7,
    "start_time": "2022-05-25T09:20:57.846Z"
   },
   {
    "duration": 6,
    "start_time": "2022-05-25T09:20:57.855Z"
   },
   {
    "duration": 7,
    "start_time": "2022-05-25T09:20:57.862Z"
   },
   {
    "duration": 24,
    "start_time": "2022-05-25T09:20:57.870Z"
   },
   {
    "duration": 15,
    "start_time": "2022-05-25T09:20:57.897Z"
   },
   {
    "duration": 56,
    "start_time": "2022-05-26T05:40:13.379Z"
   },
   {
    "duration": 6,
    "start_time": "2022-05-26T05:40:14.339Z"
   },
   {
    "duration": 389,
    "start_time": "2022-05-26T05:40:21.546Z"
   },
   {
    "duration": 160,
    "start_time": "2022-05-26T05:40:22.143Z"
   },
   {
    "duration": 15,
    "start_time": "2022-05-26T05:40:24.358Z"
   },
   {
    "duration": 39,
    "start_time": "2022-05-26T05:40:25.256Z"
   },
   {
    "duration": 13,
    "start_time": "2022-05-26T05:40:28.150Z"
   },
   {
    "duration": 4,
    "start_time": "2022-05-26T05:40:29.799Z"
   },
   {
    "duration": 16,
    "start_time": "2022-05-26T05:40:30.545Z"
   },
   {
    "duration": 41,
    "start_time": "2022-05-26T05:40:31.613Z"
   },
   {
    "duration": 629,
    "start_time": "2022-05-26T05:40:32.791Z"
   },
   {
    "duration": 16,
    "start_time": "2022-05-26T05:40:36.114Z"
   },
   {
    "duration": 43,
    "start_time": "2022-05-26T05:40:39.131Z"
   },
   {
    "duration": 15,
    "start_time": "2022-05-26T05:40:40.895Z"
   },
   {
    "duration": 16,
    "start_time": "2022-05-26T05:40:41.482Z"
   },
   {
    "duration": 12,
    "start_time": "2022-05-26T05:40:42.157Z"
   },
   {
    "duration": 5,
    "start_time": "2022-05-26T05:40:44.089Z"
   },
   {
    "duration": 4,
    "start_time": "2022-05-26T05:40:47.801Z"
   },
   {
    "duration": 5,
    "start_time": "2022-05-26T05:40:48.711Z"
   },
   {
    "duration": 5,
    "start_time": "2022-05-26T05:40:51.071Z"
   },
   {
    "duration": 7,
    "start_time": "2022-05-26T05:40:53.141Z"
   },
   {
    "duration": 5,
    "start_time": "2022-05-26T05:40:53.965Z"
   },
   {
    "duration": 7,
    "start_time": "2022-05-26T05:40:56.378Z"
   },
   {
    "duration": 26,
    "start_time": "2022-05-26T05:40:57.371Z"
   },
   {
    "duration": 4,
    "start_time": "2022-05-26T05:40:58.227Z"
   },
   {
    "duration": 4,
    "start_time": "2022-05-26T05:40:59.773Z"
   },
   {
    "duration": 6,
    "start_time": "2022-05-26T05:41:00.573Z"
   },
   {
    "duration": 9,
    "start_time": "2022-05-26T05:41:03.040Z"
   },
   {
    "duration": 4,
    "start_time": "2022-05-26T05:41:04.039Z"
   },
   {
    "duration": 23,
    "start_time": "2022-05-26T05:41:04.835Z"
   },
   {
    "duration": 18,
    "start_time": "2022-05-26T05:41:05.665Z"
   },
   {
    "duration": 6,
    "start_time": "2022-05-26T05:41:07.282Z"
   },
   {
    "duration": 4,
    "start_time": "2022-05-26T05:41:08.269Z"
   },
   {
    "duration": 16,
    "start_time": "2022-05-26T05:41:09.864Z"
   },
   {
    "duration": 9,
    "start_time": "2022-05-26T05:50:07.057Z"
   },
   {
    "duration": 11,
    "start_time": "2022-05-26T05:50:54.401Z"
   },
   {
    "duration": 22,
    "start_time": "2022-05-26T05:51:08.774Z"
   },
   {
    "duration": 10,
    "start_time": "2022-05-26T05:51:32.772Z"
   },
   {
    "duration": 11,
    "start_time": "2022-05-26T05:51:33.374Z"
   },
   {
    "duration": 23,
    "start_time": "2022-05-26T05:51:34.725Z"
   },
   {
    "duration": 17,
    "start_time": "2022-05-26T05:57:00.544Z"
   },
   {
    "duration": 11,
    "start_time": "2022-05-26T05:57:15.868Z"
   },
   {
    "duration": 14,
    "start_time": "2022-05-26T05:59:36.156Z"
   },
   {
    "duration": 12,
    "start_time": "2022-05-26T05:59:39.670Z"
   },
   {
    "duration": 60,
    "start_time": "2022-05-26T05:59:56.810Z"
   },
   {
    "duration": 13,
    "start_time": "2022-05-26T06:00:03.786Z"
   },
   {
    "duration": 14,
    "start_time": "2022-05-26T06:02:47.127Z"
   },
   {
    "duration": 11,
    "start_time": "2022-05-26T06:03:21.995Z"
   },
   {
    "duration": 12,
    "start_time": "2022-05-26T06:03:31.283Z"
   },
   {
    "duration": 47,
    "start_time": "2022-05-26T06:04:48.416Z"
   },
   {
    "duration": 16,
    "start_time": "2022-05-26T06:11:53.858Z"
   },
   {
    "duration": 15,
    "start_time": "2022-05-26T06:12:02.550Z"
   },
   {
    "duration": 17,
    "start_time": "2022-05-26T06:12:09.307Z"
   },
   {
    "duration": 5,
    "start_time": "2022-05-26T06:12:17.952Z"
   },
   {
    "duration": 19,
    "start_time": "2022-05-26T06:12:18.832Z"
   },
   {
    "duration": 11,
    "start_time": "2022-05-26T06:12:19.918Z"
   },
   {
    "duration": 9,
    "start_time": "2022-05-26T06:12:22.627Z"
   },
   {
    "duration": 10,
    "start_time": "2022-05-26T06:12:23.552Z"
   },
   {
    "duration": 17,
    "start_time": "2022-05-26T06:12:24.478Z"
   },
   {
    "duration": 17,
    "start_time": "2022-05-26T06:13:12.965Z"
   },
   {
    "duration": 8,
    "start_time": "2022-05-26T06:13:19.704Z"
   },
   {
    "duration": 8,
    "start_time": "2022-05-26T06:13:20.578Z"
   },
   {
    "duration": 15,
    "start_time": "2022-05-26T06:13:21.412Z"
   },
   {
    "duration": 483,
    "start_time": "2022-05-26T06:16:10.356Z"
   },
   {
    "duration": 105,
    "start_time": "2022-05-26T06:16:10.842Z"
   },
   {
    "duration": 20,
    "start_time": "2022-05-26T06:16:10.949Z"
   },
   {
    "duration": 45,
    "start_time": "2022-05-26T06:16:10.983Z"
   },
   {
    "duration": 11,
    "start_time": "2022-05-26T06:16:11.030Z"
   },
   {
    "duration": 7,
    "start_time": "2022-05-26T06:16:11.043Z"
   },
   {
    "duration": 42,
    "start_time": "2022-05-26T06:16:11.052Z"
   },
   {
    "duration": 33,
    "start_time": "2022-05-26T06:16:11.095Z"
   },
   {
    "duration": 456,
    "start_time": "2022-05-26T06:16:11.130Z"
   },
   {
    "duration": 9,
    "start_time": "2022-05-26T06:16:11.588Z"
   },
   {
    "duration": 46,
    "start_time": "2022-05-26T06:16:11.599Z"
   },
   {
    "duration": 8,
    "start_time": "2022-05-26T06:16:11.647Z"
   },
   {
    "duration": 26,
    "start_time": "2022-05-26T06:16:11.657Z"
   },
   {
    "duration": 12,
    "start_time": "2022-05-26T06:16:11.686Z"
   },
   {
    "duration": 5,
    "start_time": "2022-05-26T06:16:11.699Z"
   },
   {
    "duration": 7,
    "start_time": "2022-05-26T06:16:11.706Z"
   },
   {
    "duration": 7,
    "start_time": "2022-05-26T06:16:11.714Z"
   },
   {
    "duration": 8,
    "start_time": "2022-05-26T06:16:11.722Z"
   },
   {
    "duration": 13,
    "start_time": "2022-05-26T06:16:11.732Z"
   },
   {
    "duration": 8,
    "start_time": "2022-05-26T06:16:11.746Z"
   },
   {
    "duration": 34,
    "start_time": "2022-05-26T06:16:11.756Z"
   },
   {
    "duration": 16,
    "start_time": "2022-05-26T06:16:11.792Z"
   },
   {
    "duration": 6,
    "start_time": "2022-05-26T06:16:11.810Z"
   },
   {
    "duration": 13,
    "start_time": "2022-05-26T06:16:11.817Z"
   },
   {
    "duration": 12,
    "start_time": "2022-05-26T06:16:11.832Z"
   },
   {
    "duration": 9,
    "start_time": "2022-05-26T06:16:11.846Z"
   },
   {
    "duration": 5,
    "start_time": "2022-05-26T06:16:11.884Z"
   },
   {
    "duration": 17,
    "start_time": "2022-05-26T06:16:11.892Z"
   },
   {
    "duration": 18,
    "start_time": "2022-05-26T06:16:11.911Z"
   },
   {
    "duration": 6,
    "start_time": "2022-05-26T06:16:11.931Z"
   },
   {
    "duration": 4,
    "start_time": "2022-05-26T06:16:11.938Z"
   },
   {
    "duration": 54,
    "start_time": "2022-05-26T06:16:11.944Z"
   },
   {
    "duration": 18,
    "start_time": "2022-05-26T06:16:12.000Z"
   },
   {
    "duration": 8,
    "start_time": "2022-05-26T06:16:12.020Z"
   },
   {
    "duration": 15,
    "start_time": "2022-05-26T06:16:12.030Z"
   },
   {
    "duration": 42,
    "start_time": "2022-05-26T06:16:12.047Z"
   },
   {
    "duration": 4,
    "start_time": "2022-05-26T06:16:22.687Z"
   },
   {
    "duration": 102,
    "start_time": "2022-05-26T06:16:23.508Z"
   },
   {
    "duration": 23,
    "start_time": "2022-05-26T06:16:24.666Z"
   },
   {
    "duration": 36,
    "start_time": "2022-05-26T06:16:25.221Z"
   },
   {
    "duration": 12,
    "start_time": "2022-05-26T06:16:28.033Z"
   },
   {
    "duration": 5,
    "start_time": "2022-05-26T06:16:29.453Z"
   },
   {
    "duration": 22,
    "start_time": "2022-05-26T06:16:30.060Z"
   },
   {
    "duration": 47,
    "start_time": "2022-05-26T06:16:30.609Z"
   },
   {
    "duration": 190,
    "start_time": "2022-05-26T06:16:31.810Z"
   },
   {
    "duration": 15,
    "start_time": "2022-05-26T06:16:33.007Z"
   },
   {
    "duration": 43,
    "start_time": "2022-05-26T06:16:33.586Z"
   },
   {
    "duration": 13,
    "start_time": "2022-05-26T06:16:34.750Z"
   },
   {
    "duration": 16,
    "start_time": "2022-05-26T06:16:35.294Z"
   },
   {
    "duration": 10,
    "start_time": "2022-05-26T06:16:36.239Z"
   },
   {
    "duration": 7,
    "start_time": "2022-05-26T06:16:38.054Z"
   },
   {
    "duration": 5,
    "start_time": "2022-05-26T06:16:39.272Z"
   },
   {
    "duration": 7,
    "start_time": "2022-05-26T06:16:39.792Z"
   },
   {
    "duration": 8,
    "start_time": "2022-05-26T06:16:40.685Z"
   },
   {
    "duration": 9,
    "start_time": "2022-05-26T06:16:42.867Z"
   },
   {
    "duration": 7,
    "start_time": "2022-05-26T06:16:43.683Z"
   },
   {
    "duration": 9,
    "start_time": "2022-05-26T06:16:44.796Z"
   },
   {
    "duration": 20,
    "start_time": "2022-05-26T06:16:45.188Z"
   },
   {
    "duration": 4,
    "start_time": "2022-05-26T06:16:45.660Z"
   },
   {
    "duration": 5,
    "start_time": "2022-05-26T06:16:46.447Z"
   },
   {
    "duration": 6,
    "start_time": "2022-05-26T06:16:46.768Z"
   },
   {
    "duration": 9,
    "start_time": "2022-05-26T06:16:47.522Z"
   },
   {
    "duration": 5,
    "start_time": "2022-05-26T06:16:47.912Z"
   },
   {
    "duration": 20,
    "start_time": "2022-05-26T06:16:48.339Z"
   },
   {
    "duration": 24,
    "start_time": "2022-05-26T06:16:48.943Z"
   },
   {
    "duration": 7,
    "start_time": "2022-05-26T06:16:50.056Z"
   },
   {
    "duration": 6,
    "start_time": "2022-05-26T06:16:50.522Z"
   },
   {
    "duration": 21,
    "start_time": "2022-05-26T06:16:50.998Z"
   },
   {
    "duration": 24,
    "start_time": "2022-05-26T06:16:51.542Z"
   },
   {
    "duration": 8,
    "start_time": "2022-05-26T06:16:53.609Z"
   },
   {
    "duration": 8,
    "start_time": "2022-05-26T06:16:57.668Z"
   },
   {
    "duration": 22,
    "start_time": "2022-05-26T06:16:58.529Z"
   },
   {
    "duration": 77,
    "start_time": "2022-05-26T06:24:10.202Z"
   },
   {
    "duration": 19,
    "start_time": "2022-05-26T06:24:20.372Z"
   },
   {
    "duration": 17,
    "start_time": "2022-05-26T06:24:33.200Z"
   },
   {
    "duration": 7,
    "start_time": "2022-05-26T06:25:34.802Z"
   },
   {
    "duration": 7,
    "start_time": "2022-05-26T06:25:36.224Z"
   },
   {
    "duration": 14,
    "start_time": "2022-05-26T06:25:37.313Z"
   },
   {
    "duration": 12,
    "start_time": "2022-05-26T06:51:10.406Z"
   },
   {
    "duration": 10,
    "start_time": "2022-05-26T06:51:21.028Z"
   },
   {
    "duration": 5,
    "start_time": "2022-05-26T07:00:59.616Z"
   },
   {
    "duration": 8,
    "start_time": "2022-05-26T07:04:09.246Z"
   },
   {
    "duration": 4,
    "start_time": "2022-05-26T07:04:12.051Z"
   },
   {
    "duration": 6,
    "start_time": "2022-05-26T07:05:55.374Z"
   },
   {
    "duration": 7,
    "start_time": "2022-05-26T07:08:48.715Z"
   },
   {
    "duration": 16,
    "start_time": "2022-05-26T07:11:03.089Z"
   },
   {
    "duration": 5,
    "start_time": "2022-05-26T07:11:16.241Z"
   },
   {
    "duration": 7,
    "start_time": "2022-05-26T07:11:40.593Z"
   },
   {
    "duration": 5,
    "start_time": "2022-05-26T07:27:56.506Z"
   },
   {
    "duration": 4,
    "start_time": "2022-05-26T07:28:46.339Z"
   },
   {
    "duration": 15,
    "start_time": "2022-05-26T07:33:38.922Z"
   },
   {
    "duration": 6,
    "start_time": "2022-05-26T07:34:53.069Z"
   },
   {
    "duration": 7,
    "start_time": "2022-05-26T07:35:39.370Z"
   },
   {
    "duration": 6,
    "start_time": "2022-05-26T07:37:43.111Z"
   },
   {
    "duration": 6,
    "start_time": "2022-05-26T07:38:18.832Z"
   },
   {
    "duration": 34,
    "start_time": "2022-05-26T07:38:31.900Z"
   },
   {
    "duration": 5,
    "start_time": "2022-05-26T07:38:42.870Z"
   },
   {
    "duration": 5,
    "start_time": "2022-05-26T07:38:44.502Z"
   },
   {
    "duration": 6,
    "start_time": "2022-05-26T07:38:45.290Z"
   },
   {
    "duration": 7,
    "start_time": "2022-05-26T07:38:45.893Z"
   },
   {
    "duration": 29,
    "start_time": "2022-05-26T07:38:46.413Z"
   },
   {
    "duration": 55,
    "start_time": "2022-05-26T13:26:11.604Z"
   },
   {
    "duration": 401,
    "start_time": "2022-05-26T13:26:39.214Z"
   },
   {
    "duration": 296,
    "start_time": "2022-05-26T13:26:39.617Z"
   },
   {
    "duration": 13,
    "start_time": "2022-05-26T13:26:39.915Z"
   },
   {
    "duration": 42,
    "start_time": "2022-05-26T13:26:39.930Z"
   },
   {
    "duration": 8,
    "start_time": "2022-05-26T13:26:39.974Z"
   },
   {
    "duration": 20,
    "start_time": "2022-05-26T13:26:39.983Z"
   },
   {
    "duration": 31,
    "start_time": "2022-05-26T13:26:40.005Z"
   },
   {
    "duration": 30,
    "start_time": "2022-05-26T13:26:40.037Z"
   },
   {
    "duration": 567,
    "start_time": "2022-05-26T13:26:40.069Z"
   },
   {
    "duration": 9,
    "start_time": "2022-05-26T13:26:40.639Z"
   },
   {
    "duration": 38,
    "start_time": "2022-05-26T13:26:40.650Z"
   },
   {
    "duration": 20,
    "start_time": "2022-05-26T13:26:40.690Z"
   },
   {
    "duration": 15,
    "start_time": "2022-05-26T13:26:40.712Z"
   },
   {
    "duration": 18,
    "start_time": "2022-05-26T13:26:40.729Z"
   },
   {
    "duration": 9,
    "start_time": "2022-05-26T13:26:40.748Z"
   },
   {
    "duration": 12,
    "start_time": "2022-05-26T13:26:40.759Z"
   },
   {
    "duration": 10,
    "start_time": "2022-05-26T13:26:40.772Z"
   },
   {
    "duration": 6,
    "start_time": "2022-05-26T13:26:40.784Z"
   },
   {
    "duration": 8,
    "start_time": "2022-05-26T13:26:40.792Z"
   },
   {
    "duration": 17,
    "start_time": "2022-05-26T13:26:40.802Z"
   },
   {
    "duration": 9,
    "start_time": "2022-05-26T13:26:40.821Z"
   },
   {
    "duration": 15,
    "start_time": "2022-05-26T13:26:40.832Z"
   },
   {
    "duration": 3,
    "start_time": "2022-05-26T13:26:40.850Z"
   },
   {
    "duration": 15,
    "start_time": "2022-05-26T13:26:40.855Z"
   },
   {
    "duration": 19,
    "start_time": "2022-05-26T13:26:40.871Z"
   },
   {
    "duration": 23,
    "start_time": "2022-05-26T13:26:40.891Z"
   },
   {
    "duration": 11,
    "start_time": "2022-05-26T13:26:40.916Z"
   },
   {
    "duration": 21,
    "start_time": "2022-05-26T13:26:40.930Z"
   },
   {
    "duration": 19,
    "start_time": "2022-05-26T13:26:40.952Z"
   },
   {
    "duration": 5,
    "start_time": "2022-05-26T13:26:40.973Z"
   },
   {
    "duration": 27,
    "start_time": "2022-05-26T13:26:40.980Z"
   },
   {
    "duration": 24,
    "start_time": "2022-05-26T13:26:41.009Z"
   },
   {
    "duration": 14,
    "start_time": "2022-05-26T13:26:41.034Z"
   },
   {
    "duration": 28,
    "start_time": "2022-05-26T13:26:41.050Z"
   },
   {
    "duration": 6,
    "start_time": "2022-05-26T13:26:41.080Z"
   },
   {
    "duration": 24,
    "start_time": "2022-05-26T13:26:41.087Z"
   },
   {
    "duration": 21,
    "start_time": "2022-05-26T13:26:41.113Z"
   },
   {
    "duration": 7,
    "start_time": "2022-05-26T13:26:41.136Z"
   },
   {
    "duration": 10,
    "start_time": "2022-05-26T13:26:41.144Z"
   },
   {
    "duration": 10,
    "start_time": "2022-05-26T13:26:41.156Z"
   },
   {
    "duration": 19,
    "start_time": "2022-05-26T13:26:41.167Z"
   },
   {
    "duration": 4,
    "start_time": "2022-05-26T13:26:41.187Z"
   },
   {
    "duration": 12,
    "start_time": "2022-05-26T13:26:41.193Z"
   },
   {
    "duration": 6,
    "start_time": "2022-05-26T13:26:41.207Z"
   },
   {
    "duration": 12,
    "start_time": "2022-05-26T13:26:41.215Z"
   },
   {
    "duration": 27,
    "start_time": "2022-05-26T13:26:41.229Z"
   },
   {
    "duration": 276,
    "start_time": "2022-05-26T13:26:41.258Z"
   },
   {
    "duration": 3,
    "start_time": "2022-05-26T13:28:54.733Z"
   },
   {
    "duration": 94,
    "start_time": "2022-05-26T13:28:55.254Z"
   },
   {
    "duration": 14,
    "start_time": "2022-05-26T13:28:56.757Z"
   },
   {
    "duration": 29,
    "start_time": "2022-05-26T13:28:57.329Z"
   },
   {
    "duration": 10,
    "start_time": "2022-05-26T13:28:59.563Z"
   },
   {
    "duration": 4,
    "start_time": "2022-05-26T13:29:00.565Z"
   },
   {
    "duration": 14,
    "start_time": "2022-05-26T13:29:00.950Z"
   },
   {
    "duration": 32,
    "start_time": "2022-05-26T13:29:02.051Z"
   },
   {
    "duration": 123,
    "start_time": "2022-05-26T13:29:03.424Z"
   },
   {
    "duration": 8,
    "start_time": "2022-05-26T13:29:04.936Z"
   },
   {
    "duration": 30,
    "start_time": "2022-05-26T13:29:05.828Z"
   },
   {
    "duration": 8,
    "start_time": "2022-05-26T13:29:09.187Z"
   },
   {
    "duration": 8,
    "start_time": "2022-05-26T13:29:09.649Z"
   },
   {
    "duration": 9,
    "start_time": "2022-05-26T13:29:10.415Z"
   },
   {
    "duration": 6,
    "start_time": "2022-05-26T13:29:17.025Z"
   },
   {
    "duration": 4,
    "start_time": "2022-05-26T13:29:18.121Z"
   },
   {
    "duration": 6,
    "start_time": "2022-05-26T13:29:18.668Z"
   },
   {
    "duration": 7,
    "start_time": "2022-05-26T13:29:19.666Z"
   },
   {
    "duration": 7,
    "start_time": "2022-05-26T13:29:20.496Z"
   },
   {
    "duration": 6,
    "start_time": "2022-05-26T13:29:21.009Z"
   },
   {
    "duration": 5,
    "start_time": "2022-05-26T13:29:22.305Z"
   },
   {
    "duration": 14,
    "start_time": "2022-05-26T13:29:22.743Z"
   },
   {
    "duration": 3,
    "start_time": "2022-05-26T13:29:23.235Z"
   },
   {
    "duration": 4,
    "start_time": "2022-05-26T13:29:24.273Z"
   },
   {
    "duration": 6,
    "start_time": "2022-05-26T13:29:24.744Z"
   },
   {
    "duration": 6,
    "start_time": "2022-05-26T13:29:25.598Z"
   },
   {
    "duration": 3,
    "start_time": "2022-05-26T13:29:26.060Z"
   },
   {
    "duration": 18,
    "start_time": "2022-05-26T13:29:26.510Z"
   },
   {
    "duration": 15,
    "start_time": "2022-05-26T13:29:27.018Z"
   },
   {
    "duration": 6,
    "start_time": "2022-05-26T13:29:27.991Z"
   },
   {
    "duration": 4,
    "start_time": "2022-05-26T13:29:28.440Z"
   },
   {
    "duration": 13,
    "start_time": "2022-05-26T13:29:28.800Z"
   },
   {
    "duration": 15,
    "start_time": "2022-05-26T13:29:29.139Z"
   },
   {
    "duration": 19,
    "start_time": "2022-05-26T13:29:29.314Z"
   },
   {
    "duration": 7,
    "start_time": "2022-05-26T13:29:29.649Z"
   },
   {
    "duration": 7,
    "start_time": "2022-05-26T13:29:29.847Z"
   },
   {
    "duration": 13,
    "start_time": "2022-05-26T13:29:30.460Z"
   },
   {
    "duration": 7,
    "start_time": "2022-05-26T13:29:31.049Z"
   },
   {
    "duration": 5,
    "start_time": "2022-05-26T13:29:31.443Z"
   },
   {
    "duration": 8,
    "start_time": "2022-05-26T13:29:32.476Z"
   },
   {
    "duration": 13,
    "start_time": "2022-05-26T13:29:32.828Z"
   },
   {
    "duration": 4,
    "start_time": "2022-05-26T13:29:34.683Z"
   },
   {
    "duration": 6,
    "start_time": "2022-05-26T13:29:35.587Z"
   },
   {
    "duration": 5,
    "start_time": "2022-05-26T13:29:35.788Z"
   },
   {
    "duration": 6,
    "start_time": "2022-05-26T13:29:35.972Z"
   },
   {
    "duration": 28,
    "start_time": "2022-05-26T13:29:36.151Z"
   },
   {
    "duration": 284,
    "start_time": "2022-05-26T13:29:36.886Z"
   },
   {
    "duration": 326,
    "start_time": "2022-05-26T13:29:51.685Z"
   },
   {
    "duration": 29,
    "start_time": "2022-05-26T13:30:07.258Z"
   },
   {
    "duration": 6,
    "start_time": "2022-05-26T13:32:20.592Z"
   },
   {
    "duration": 5,
    "start_time": "2022-05-26T13:32:30.538Z"
   },
   {
    "duration": 17,
    "start_time": "2022-05-26T13:32:37.637Z"
   },
   {
    "duration": 5,
    "start_time": "2022-05-26T13:33:08.777Z"
   },
   {
    "duration": 5,
    "start_time": "2022-05-26T13:33:10.003Z"
   },
   {
    "duration": 15,
    "start_time": "2022-05-26T13:33:10.674Z"
   },
   {
    "duration": 16,
    "start_time": "2022-05-26T13:33:11.690Z"
   },
   {
    "duration": 15,
    "start_time": "2022-05-26T13:33:11.919Z"
   },
   {
    "duration": 6,
    "start_time": "2022-05-26T13:33:12.282Z"
   },
   {
    "duration": 7,
    "start_time": "2022-05-26T13:33:12.466Z"
   },
   {
    "duration": 13,
    "start_time": "2022-05-26T13:33:12.650Z"
   },
   {
    "duration": 21,
    "start_time": "2022-05-26T13:33:13.214Z"
   },
   {
    "duration": 4,
    "start_time": "2022-05-26T13:33:13.590Z"
   },
   {
    "duration": 4,
    "start_time": "2022-05-26T13:33:13.987Z"
   },
   {
    "duration": 13,
    "start_time": "2022-05-26T13:33:14.161Z"
   },
   {
    "duration": 3,
    "start_time": "2022-05-26T13:33:14.938Z"
   },
   {
    "duration": 5,
    "start_time": "2022-05-26T13:33:15.333Z"
   },
   {
    "duration": 5,
    "start_time": "2022-05-26T13:33:15.539Z"
   },
   {
    "duration": 5,
    "start_time": "2022-05-26T13:33:15.739Z"
   },
   {
    "duration": 20,
    "start_time": "2022-05-26T13:33:15.936Z"
   },
   {
    "duration": 259,
    "start_time": "2022-05-26T13:33:16.396Z"
   },
   {
    "duration": 22,
    "start_time": "2022-05-26T13:33:17.440Z"
   },
   {
    "duration": 5,
    "start_time": "2022-05-26T13:36:01.756Z"
   },
   {
    "duration": 4,
    "start_time": "2022-05-26T13:36:21.044Z"
   },
   {
    "duration": 24,
    "start_time": "2022-05-26T13:36:21.735Z"
   },
   {
    "duration": 15,
    "start_time": "2022-05-26T13:36:42.359Z"
   },
   {
    "duration": 8,
    "start_time": "2022-05-26T13:38:12.591Z"
   },
   {
    "duration": 4,
    "start_time": "2022-05-26T13:42:21.181Z"
   },
   {
    "duration": 5,
    "start_time": "2022-05-26T13:42:42.885Z"
   },
   {
    "duration": 16,
    "start_time": "2022-05-26T13:42:43.554Z"
   },
   {
    "duration": 11,
    "start_time": "2022-05-26T13:51:03.522Z"
   },
   {
    "duration": 10,
    "start_time": "2022-05-26T13:51:24.322Z"
   },
   {
    "duration": 9,
    "start_time": "2022-05-26T13:51:24.902Z"
   },
   {
    "duration": 2,
    "start_time": "2022-05-26T13:52:03.315Z"
   },
   {
    "duration": 86,
    "start_time": "2022-05-26T13:52:03.489Z"
   },
   {
    "duration": 14,
    "start_time": "2022-05-26T13:52:03.859Z"
   },
   {
    "duration": 30,
    "start_time": "2022-05-26T13:52:04.038Z"
   },
   {
    "duration": 11,
    "start_time": "2022-05-26T13:52:04.959Z"
   },
   {
    "duration": 4,
    "start_time": "2022-05-26T13:52:05.319Z"
   },
   {
    "duration": 19,
    "start_time": "2022-05-26T13:52:05.506Z"
   },
   {
    "duration": 28,
    "start_time": "2022-05-26T13:52:05.702Z"
   },
   {
    "duration": 130,
    "start_time": "2022-05-26T13:52:06.088Z"
   },
   {
    "duration": 10,
    "start_time": "2022-05-26T13:52:06.441Z"
   },
   {
    "duration": 8,
    "start_time": "2022-05-26T13:52:06.631Z"
   },
   {
    "duration": 5,
    "start_time": "2022-05-26T13:52:07.461Z"
   },
   {
    "duration": 4,
    "start_time": "2022-05-26T13:52:07.894Z"
   },
   {
    "duration": 6,
    "start_time": "2022-05-26T13:52:08.119Z"
   },
   {
    "duration": 5,
    "start_time": "2022-05-26T13:52:08.498Z"
   },
   {
    "duration": 6,
    "start_time": "2022-05-26T13:52:08.949Z"
   },
   {
    "duration": 5,
    "start_time": "2022-05-26T13:52:09.120Z"
   },
   {
    "duration": 6,
    "start_time": "2022-05-26T13:52:09.491Z"
   },
   {
    "duration": 16,
    "start_time": "2022-05-26T13:52:09.711Z"
   },
   {
    "duration": 4,
    "start_time": "2022-05-26T13:52:09.894Z"
   },
   {
    "duration": 4,
    "start_time": "2022-05-26T13:52:10.346Z"
   },
   {
    "duration": 5,
    "start_time": "2022-05-26T13:52:10.539Z"
   },
   {
    "duration": 4,
    "start_time": "2022-05-26T13:52:10.995Z"
   },
   {
    "duration": 4,
    "start_time": "2022-05-26T13:52:11.208Z"
   },
   {
    "duration": 14,
    "start_time": "2022-05-26T13:52:11.441Z"
   },
   {
    "duration": 14,
    "start_time": "2022-05-26T13:52:11.668Z"
   },
   {
    "duration": 5,
    "start_time": "2022-05-26T13:52:12.108Z"
   },
   {
    "duration": 4,
    "start_time": "2022-05-26T13:52:12.475Z"
   },
   {
    "duration": 14,
    "start_time": "2022-05-26T13:52:12.788Z"
   },
   {
    "duration": 20,
    "start_time": "2022-05-26T13:52:13.009Z"
   },
   {
    "duration": 17,
    "start_time": "2022-05-26T13:52:13.212Z"
   },
   {
    "duration": 4,
    "start_time": "2022-05-26T13:52:13.454Z"
   },
   {
    "duration": 18,
    "start_time": "2022-05-26T13:52:13.885Z"
   },
   {
    "duration": 6,
    "start_time": "2022-05-26T13:52:14.460Z"
   },
   {
    "duration": 7,
    "start_time": "2022-05-26T13:52:14.689Z"
   },
   {
    "duration": 13,
    "start_time": "2022-05-26T13:52:14.892Z"
   },
   {
    "duration": 8,
    "start_time": "2022-05-26T13:52:15.489Z"
   },
   {
    "duration": 4,
    "start_time": "2022-05-26T13:52:16.052Z"
   },
   {
    "duration": 7,
    "start_time": "2022-05-26T13:52:16.487Z"
   },
   {
    "duration": 17,
    "start_time": "2022-05-26T13:52:16.665Z"
   },
   {
    "duration": 4,
    "start_time": "2022-05-26T13:52:18.275Z"
   },
   {
    "duration": 6,
    "start_time": "2022-05-26T13:52:18.734Z"
   },
   {
    "duration": 6,
    "start_time": "2022-05-26T13:52:18.945Z"
   },
   {
    "duration": 6,
    "start_time": "2022-05-26T13:52:19.242Z"
   },
   {
    "duration": 23,
    "start_time": "2022-05-26T13:52:19.467Z"
   },
   {
    "duration": 274,
    "start_time": "2022-05-26T13:52:19.965Z"
   },
   {
    "duration": 4,
    "start_time": "2022-05-26T13:52:20.709Z"
   },
   {
    "duration": 4,
    "start_time": "2022-05-26T13:52:21.219Z"
   },
   {
    "duration": 22,
    "start_time": "2022-05-26T13:52:21.476Z"
   },
   {
    "duration": 14,
    "start_time": "2022-05-26T13:52:22.233Z"
   },
   {
    "duration": 17,
    "start_time": "2022-05-26T13:53:00.669Z"
   },
   {
    "duration": 446,
    "start_time": "2022-05-26T13:53:15.938Z"
   },
   {
    "duration": 92,
    "start_time": "2022-05-26T13:53:16.386Z"
   },
   {
    "duration": 15,
    "start_time": "2022-05-26T13:53:16.479Z"
   },
   {
    "duration": 34,
    "start_time": "2022-05-26T13:53:16.496Z"
   },
   {
    "duration": 29,
    "start_time": "2022-05-26T13:53:16.532Z"
   },
   {
    "duration": 3,
    "start_time": "2022-05-26T13:53:16.563Z"
   },
   {
    "duration": 18,
    "start_time": "2022-05-26T13:53:16.567Z"
   },
   {
    "duration": 27,
    "start_time": "2022-05-26T13:53:16.587Z"
   },
   {
    "duration": 423,
    "start_time": "2022-05-26T13:53:16.616Z"
   },
   {
    "duration": 10,
    "start_time": "2022-05-26T13:53:17.041Z"
   },
   {
    "duration": 14,
    "start_time": "2022-05-26T13:53:17.052Z"
   },
   {
    "duration": 4,
    "start_time": "2022-05-26T13:53:17.067Z"
   },
   {
    "duration": 15,
    "start_time": "2022-05-26T13:53:17.073Z"
   },
   {
    "duration": 6,
    "start_time": "2022-05-26T13:53:17.089Z"
   },
   {
    "duration": 6,
    "start_time": "2022-05-26T13:53:17.096Z"
   },
   {
    "duration": 24,
    "start_time": "2022-05-26T13:53:17.104Z"
   },
   {
    "duration": 6,
    "start_time": "2022-05-26T13:53:17.130Z"
   },
   {
    "duration": 11,
    "start_time": "2022-05-26T13:53:17.138Z"
   },
   {
    "duration": 31,
    "start_time": "2022-05-26T13:53:17.160Z"
   },
   {
    "duration": 5,
    "start_time": "2022-05-26T13:53:17.192Z"
   },
   {
    "duration": 17,
    "start_time": "2022-05-26T13:53:17.199Z"
   },
   {
    "duration": 14,
    "start_time": "2022-05-26T13:53:17.218Z"
   },
   {
    "duration": 23,
    "start_time": "2022-05-26T13:53:17.234Z"
   },
   {
    "duration": 9,
    "start_time": "2022-05-26T13:53:17.259Z"
   },
   {
    "duration": 26,
    "start_time": "2022-05-26T13:53:17.270Z"
   },
   {
    "duration": 18,
    "start_time": "2022-05-26T13:53:17.298Z"
   },
   {
    "duration": 12,
    "start_time": "2022-05-26T13:53:17.318Z"
   },
   {
    "duration": 24,
    "start_time": "2022-05-26T13:53:17.334Z"
   },
   {
    "duration": 20,
    "start_time": "2022-05-26T13:53:17.360Z"
   },
   {
    "duration": 20,
    "start_time": "2022-05-26T13:53:17.382Z"
   },
   {
    "duration": 5,
    "start_time": "2022-05-26T13:53:17.404Z"
   },
   {
    "duration": 20,
    "start_time": "2022-05-26T13:53:17.410Z"
   },
   {
    "duration": 28,
    "start_time": "2022-05-26T13:53:17.431Z"
   },
   {
    "duration": 6,
    "start_time": "2022-05-26T13:53:17.460Z"
   },
   {
    "duration": 18,
    "start_time": "2022-05-26T13:53:17.468Z"
   },
   {
    "duration": 7,
    "start_time": "2022-05-26T13:53:17.487Z"
   },
   {
    "duration": 10,
    "start_time": "2022-05-26T13:53:17.496Z"
   },
   {
    "duration": 11,
    "start_time": "2022-05-26T13:53:17.507Z"
   },
   {
    "duration": 13,
    "start_time": "2022-05-26T13:53:17.520Z"
   },
   {
    "duration": 4,
    "start_time": "2022-05-26T13:53:17.559Z"
   },
   {
    "duration": 8,
    "start_time": "2022-05-26T13:53:17.564Z"
   },
   {
    "duration": 5,
    "start_time": "2022-05-26T13:53:17.573Z"
   },
   {
    "duration": 10,
    "start_time": "2022-05-26T13:53:17.580Z"
   },
   {
    "duration": 27,
    "start_time": "2022-05-26T13:53:17.591Z"
   },
   {
    "duration": 294,
    "start_time": "2022-05-26T13:53:17.619Z"
   },
   {
    "duration": 4,
    "start_time": "2022-05-26T13:53:17.915Z"
   },
   {
    "duration": 5,
    "start_time": "2022-05-26T13:53:17.921Z"
   },
   {
    "duration": 32,
    "start_time": "2022-05-26T13:53:17.928Z"
   },
   {
    "duration": 14,
    "start_time": "2022-05-26T13:53:17.962Z"
   },
   {
    "duration": 2,
    "start_time": "2022-05-26T13:53:35.568Z"
   },
   {
    "duration": 93,
    "start_time": "2022-05-26T13:53:36.145Z"
   },
   {
    "duration": 14,
    "start_time": "2022-05-26T13:53:37.994Z"
   },
   {
    "duration": 29,
    "start_time": "2022-05-26T13:53:38.848Z"
   },
   {
    "duration": 9,
    "start_time": "2022-05-26T13:53:43.378Z"
   },
   {
    "duration": 5,
    "start_time": "2022-05-26T13:53:45.034Z"
   },
   {
    "duration": 14,
    "start_time": "2022-05-26T13:53:45.777Z"
   },
   {
    "duration": 28,
    "start_time": "2022-05-26T13:53:46.394Z"
   },
   {
    "duration": 149,
    "start_time": "2022-05-26T13:53:48.656Z"
   },
   {
    "duration": 10,
    "start_time": "2022-05-26T13:53:50.470Z"
   },
   {
    "duration": 9,
    "start_time": "2022-05-26T13:53:51.392Z"
   },
   {
    "duration": 6,
    "start_time": "2022-05-26T13:53:53.170Z"
   },
   {
    "duration": 4,
    "start_time": "2022-05-26T13:53:54.992Z"
   },
   {
    "duration": 5,
    "start_time": "2022-05-26T13:53:55.476Z"
   },
   {
    "duration": 7,
    "start_time": "2022-05-26T13:53:57.129Z"
   },
   {
    "duration": 7,
    "start_time": "2022-05-26T13:53:58.596Z"
   },
   {
    "duration": 4,
    "start_time": "2022-05-26T13:53:59.414Z"
   },
   {
    "duration": 6,
    "start_time": "2022-05-26T13:54:00.497Z"
   },
   {
    "duration": 15,
    "start_time": "2022-05-26T13:54:00.992Z"
   },
   {
    "duration": 3,
    "start_time": "2022-05-26T13:54:01.193Z"
   },
   {
    "duration": 4,
    "start_time": "2022-05-26T13:54:01.549Z"
   },
   {
    "duration": 6,
    "start_time": "2022-05-26T13:54:01.750Z"
   },
   {
    "duration": 6,
    "start_time": "2022-05-26T13:54:02.100Z"
   },
   {
    "duration": 4,
    "start_time": "2022-05-26T13:54:02.297Z"
   },
   {
    "duration": 14,
    "start_time": "2022-05-26T13:54:02.487Z"
   },
   {
    "duration": 15,
    "start_time": "2022-05-26T13:54:02.701Z"
   },
   {
    "duration": 8,
    "start_time": "2022-05-26T13:54:03.095Z"
   },
   {
    "duration": 6,
    "start_time": "2022-05-26T13:54:03.272Z"
   },
   {
    "duration": 15,
    "start_time": "2022-05-26T13:54:03.439Z"
   },
   {
    "duration": 17,
    "start_time": "2022-05-26T13:54:03.646Z"
   },
   {
    "duration": 5,
    "start_time": "2022-05-26T13:54:03.834Z"
   },
   {
    "duration": 15,
    "start_time": "2022-05-26T13:54:04.089Z"
   },
   {
    "duration": 9,
    "start_time": "2022-05-26T13:54:04.468Z"
   },
   {
    "duration": 9,
    "start_time": "2022-05-26T13:54:05.774Z"
   },
   {
    "duration": 13,
    "start_time": "2022-05-26T13:54:06.675Z"
   },
   {
    "duration": 7,
    "start_time": "2022-05-26T13:54:09.175Z"
   },
   {
    "duration": 5,
    "start_time": "2022-05-26T13:54:09.561Z"
   },
   {
    "duration": 8,
    "start_time": "2022-05-26T13:54:09.944Z"
   },
   {
    "duration": 14,
    "start_time": "2022-05-26T13:54:10.142Z"
   },
   {
    "duration": 4,
    "start_time": "2022-05-26T13:54:10.966Z"
   },
   {
    "duration": 5,
    "start_time": "2022-05-26T13:54:11.407Z"
   },
   {
    "duration": 7,
    "start_time": "2022-05-26T13:54:11.616Z"
   },
   {
    "duration": 6,
    "start_time": "2022-05-26T13:54:11.851Z"
   },
   {
    "duration": 25,
    "start_time": "2022-05-26T13:54:12.066Z"
   },
   {
    "duration": 316,
    "start_time": "2022-05-26T13:54:12.771Z"
   },
   {
    "duration": 4,
    "start_time": "2022-05-26T13:54:13.212Z"
   },
   {
    "duration": 4,
    "start_time": "2022-05-26T13:54:13.406Z"
   },
   {
    "duration": 23,
    "start_time": "2022-05-26T13:54:13.613Z"
   },
   {
    "duration": 18,
    "start_time": "2022-05-26T13:54:13.800Z"
   },
   {
    "duration": 63,
    "start_time": "2022-05-27T03:29:27.821Z"
   },
   {
    "duration": 420,
    "start_time": "2022-05-27T03:29:37.168Z"
   },
   {
    "duration": 306,
    "start_time": "2022-05-27T03:29:37.590Z"
   },
   {
    "duration": 14,
    "start_time": "2022-05-27T03:29:37.897Z"
   },
   {
    "duration": 44,
    "start_time": "2022-05-27T03:29:37.913Z"
   },
   {
    "duration": 7,
    "start_time": "2022-05-27T03:29:37.959Z"
   },
   {
    "duration": 3,
    "start_time": "2022-05-27T03:29:37.968Z"
   },
   {
    "duration": 19,
    "start_time": "2022-05-27T03:29:37.972Z"
   },
   {
    "duration": 36,
    "start_time": "2022-05-27T03:29:37.992Z"
   },
   {
    "duration": 583,
    "start_time": "2022-05-27T03:29:38.029Z"
   },
   {
    "duration": 11,
    "start_time": "2022-05-27T03:29:38.616Z"
   },
   {
    "duration": 19,
    "start_time": "2022-05-27T03:29:38.629Z"
   },
   {
    "duration": 6,
    "start_time": "2022-05-27T03:29:38.650Z"
   },
   {
    "duration": 6,
    "start_time": "2022-05-27T03:29:38.658Z"
   },
   {
    "duration": 5,
    "start_time": "2022-05-27T03:29:38.665Z"
   },
   {
    "duration": 9,
    "start_time": "2022-05-27T03:29:38.671Z"
   },
   {
    "duration": 8,
    "start_time": "2022-05-27T03:29:38.682Z"
   },
   {
    "duration": 6,
    "start_time": "2022-05-27T03:29:38.691Z"
   },
   {
    "duration": 6,
    "start_time": "2022-05-27T03:29:38.698Z"
   },
   {
    "duration": 35,
    "start_time": "2022-05-27T03:29:38.705Z"
   },
   {
    "duration": 4,
    "start_time": "2022-05-27T03:29:38.741Z"
   },
   {
    "duration": 9,
    "start_time": "2022-05-27T03:29:38.746Z"
   },
   {
    "duration": 6,
    "start_time": "2022-05-27T03:29:38.756Z"
   },
   {
    "duration": 6,
    "start_time": "2022-05-27T03:29:38.764Z"
   },
   {
    "duration": 3,
    "start_time": "2022-05-27T03:29:38.771Z"
   },
   {
    "duration": 14,
    "start_time": "2022-05-27T03:29:38.776Z"
   },
   {
    "duration": 13,
    "start_time": "2022-05-27T03:29:38.791Z"
   },
   {
    "duration": 5,
    "start_time": "2022-05-27T03:29:38.826Z"
   },
   {
    "duration": 5,
    "start_time": "2022-05-27T03:29:38.834Z"
   },
   {
    "duration": 26,
    "start_time": "2022-05-27T03:29:38.841Z"
   },
   {
    "duration": 14,
    "start_time": "2022-05-27T03:29:38.868Z"
   },
   {
    "duration": 7,
    "start_time": "2022-05-27T03:29:38.884Z"
   },
   {
    "duration": 41,
    "start_time": "2022-05-27T03:29:38.892Z"
   },
   {
    "duration": 11,
    "start_time": "2022-05-27T03:29:38.935Z"
   },
   {
    "duration": 9,
    "start_time": "2022-05-27T03:29:38.948Z"
   },
   {
    "duration": 12,
    "start_time": "2022-05-27T03:29:38.958Z"
   },
   {
    "duration": 6,
    "start_time": "2022-05-27T03:29:38.972Z"
   },
   {
    "duration": 8,
    "start_time": "2022-05-27T03:29:38.980Z"
   },
   {
    "duration": 9,
    "start_time": "2022-05-27T03:29:38.989Z"
   },
   {
    "duration": 39,
    "start_time": "2022-05-27T03:29:38.999Z"
   },
   {
    "duration": 3,
    "start_time": "2022-05-27T03:29:39.039Z"
   },
   {
    "duration": 15,
    "start_time": "2022-05-27T03:29:39.043Z"
   },
   {
    "duration": 9,
    "start_time": "2022-05-27T03:29:39.060Z"
   },
   {
    "duration": 5,
    "start_time": "2022-05-27T03:29:39.070Z"
   },
   {
    "duration": 52,
    "start_time": "2022-05-27T03:29:39.077Z"
   },
   {
    "duration": 291,
    "start_time": "2022-05-27T03:29:39.131Z"
   },
   {
    "duration": 5,
    "start_time": "2022-05-27T03:29:39.428Z"
   },
   {
    "duration": 18,
    "start_time": "2022-05-27T03:29:39.434Z"
   },
   {
    "duration": 24,
    "start_time": "2022-05-27T03:29:39.454Z"
   },
   {
    "duration": 14,
    "start_time": "2022-05-27T03:29:39.480Z"
   },
   {
    "duration": 10,
    "start_time": "2022-05-27T03:29:39.495Z"
   },
   {
    "duration": 3,
    "start_time": "2022-05-27T03:29:51.190Z"
   },
   {
    "duration": 86,
    "start_time": "2022-05-27T03:29:51.801Z"
   },
   {
    "duration": 13,
    "start_time": "2022-05-27T03:29:53.566Z"
   },
   {
    "duration": 28,
    "start_time": "2022-05-27T03:29:54.146Z"
   },
   {
    "duration": 8,
    "start_time": "2022-05-27T03:29:56.964Z"
   },
   {
    "duration": 3,
    "start_time": "2022-05-27T03:29:58.224Z"
   },
   {
    "duration": 14,
    "start_time": "2022-05-27T03:29:58.851Z"
   },
   {
    "duration": 33,
    "start_time": "2022-05-27T03:29:59.602Z"
   },
   {
    "duration": 148,
    "start_time": "2022-05-27T03:30:00.610Z"
   },
   {
    "duration": 16,
    "start_time": "2022-05-27T03:30:01.470Z"
   },
   {
    "duration": 12,
    "start_time": "2022-05-27T03:30:01.822Z"
   },
   {
    "duration": 5,
    "start_time": "2022-05-27T03:30:03.156Z"
   },
   {
    "duration": 5,
    "start_time": "2022-05-27T03:30:04.331Z"
   },
   {
    "duration": 5,
    "start_time": "2022-05-27T03:30:04.790Z"
   },
   {
    "duration": 4,
    "start_time": "2022-05-27T03:30:06.180Z"
   },
   {
    "duration": 6,
    "start_time": "2022-05-27T03:30:07.150Z"
   },
   {
    "duration": 5,
    "start_time": "2022-05-27T03:30:07.653Z"
   },
   {
    "duration": 7,
    "start_time": "2022-05-27T03:30:08.425Z"
   },
   {
    "duration": 12,
    "start_time": "2022-05-27T03:30:08.858Z"
   },
   {
    "duration": 3,
    "start_time": "2022-05-27T03:30:09.292Z"
   },
   {
    "duration": 5,
    "start_time": "2022-05-27T03:30:10.148Z"
   },
   {
    "duration": 4,
    "start_time": "2022-05-27T03:30:10.671Z"
   },
   {
    "duration": 5,
    "start_time": "2022-05-27T03:30:11.306Z"
   },
   {
    "duration": 3,
    "start_time": "2022-05-27T03:30:11.754Z"
   },
   {
    "duration": 13,
    "start_time": "2022-05-27T03:30:12.353Z"
   },
   {
    "duration": 13,
    "start_time": "2022-05-27T03:30:12.850Z"
   },
   {
    "duration": 6,
    "start_time": "2022-05-27T03:30:14.255Z"
   },
   {
    "duration": 5,
    "start_time": "2022-05-27T03:30:14.713Z"
   },
   {
    "duration": 12,
    "start_time": "2022-05-27T03:30:15.160Z"
   },
   {
    "duration": 16,
    "start_time": "2022-05-27T03:30:16.363Z"
   },
   {
    "duration": 4,
    "start_time": "2022-05-27T03:30:16.776Z"
   },
   {
    "duration": 16,
    "start_time": "2022-05-27T03:30:17.135Z"
   },
   {
    "duration": 6,
    "start_time": "2022-05-27T03:30:18.085Z"
   },
   {
    "duration": 7,
    "start_time": "2022-05-27T03:30:18.491Z"
   },
   {
    "duration": 12,
    "start_time": "2022-05-27T03:30:18.788Z"
   },
   {
    "duration": 7,
    "start_time": "2022-05-27T03:30:19.897Z"
   },
   {
    "duration": 4,
    "start_time": "2022-05-27T03:30:20.375Z"
   },
   {
    "duration": 8,
    "start_time": "2022-05-27T03:30:20.849Z"
   },
   {
    "duration": 12,
    "start_time": "2022-05-27T03:30:21.066Z"
   },
   {
    "duration": 4,
    "start_time": "2022-05-27T03:30:22.870Z"
   },
   {
    "duration": 6,
    "start_time": "2022-05-27T03:30:23.760Z"
   },
   {
    "duration": 6,
    "start_time": "2022-05-27T03:30:24.184Z"
   },
   {
    "duration": 6,
    "start_time": "2022-05-27T03:30:24.595Z"
   },
   {
    "duration": 24,
    "start_time": "2022-05-27T03:30:25.118Z"
   },
   {
    "duration": 256,
    "start_time": "2022-05-27T03:30:26.650Z"
   },
   {
    "duration": 6,
    "start_time": "2022-05-27T03:30:27.645Z"
   },
   {
    "duration": 4,
    "start_time": "2022-05-27T03:30:28.067Z"
   },
   {
    "duration": 20,
    "start_time": "2022-05-27T03:30:28.499Z"
   },
   {
    "duration": 17,
    "start_time": "2022-05-27T03:30:28.952Z"
   },
   {
    "duration": 9,
    "start_time": "2022-05-27T03:30:37.002Z"
   },
   {
    "duration": 187,
    "start_time": "2022-05-27T03:31:46.994Z"
   },
   {
    "duration": 122,
    "start_time": "2022-05-27T03:32:02.221Z"
   },
   {
    "duration": 116,
    "start_time": "2022-05-27T03:32:09.070Z"
   },
   {
    "duration": 110,
    "start_time": "2022-05-27T03:33:36.069Z"
   },
   {
    "duration": 107,
    "start_time": "2022-05-27T03:33:50.684Z"
   },
   {
    "duration": 110,
    "start_time": "2022-05-27T03:33:59.178Z"
   },
   {
    "duration": 120,
    "start_time": "2022-05-27T03:34:11.331Z"
   },
   {
    "duration": 118,
    "start_time": "2022-05-27T03:34:25.435Z"
   },
   {
    "duration": 131,
    "start_time": "2022-05-27T03:35:04.515Z"
   },
   {
    "duration": 121,
    "start_time": "2022-05-27T03:35:13.016Z"
   },
   {
    "duration": 9,
    "start_time": "2022-05-27T03:41:06.556Z"
   },
   {
    "duration": 9,
    "start_time": "2022-05-27T03:41:46.910Z"
   },
   {
    "duration": 9,
    "start_time": "2022-05-27T03:42:09.413Z"
   },
   {
    "duration": 9,
    "start_time": "2022-05-27T03:42:24.686Z"
   },
   {
    "duration": 11,
    "start_time": "2022-05-27T03:42:27.901Z"
   },
   {
    "duration": 9,
    "start_time": "2022-05-27T03:42:47.974Z"
   },
   {
    "duration": 11,
    "start_time": "2022-05-27T03:42:53.945Z"
   },
   {
    "duration": 115,
    "start_time": "2022-05-27T03:42:56.293Z"
   },
   {
    "duration": 9,
    "start_time": "2022-05-27T03:43:03.871Z"
   },
   {
    "duration": 184,
    "start_time": "2022-05-27T03:43:05.055Z"
   },
   {
    "duration": 398,
    "start_time": "2022-05-27T03:43:34.178Z"
   },
   {
    "duration": 100,
    "start_time": "2022-05-27T03:43:34.577Z"
   },
   {
    "duration": 15,
    "start_time": "2022-05-27T03:43:34.679Z"
   },
   {
    "duration": 54,
    "start_time": "2022-05-27T03:43:34.696Z"
   },
   {
    "duration": 9,
    "start_time": "2022-05-27T03:43:34.753Z"
   },
   {
    "duration": 5,
    "start_time": "2022-05-27T03:43:34.764Z"
   },
   {
    "duration": 22,
    "start_time": "2022-05-27T03:43:34.770Z"
   },
   {
    "duration": 50,
    "start_time": "2022-05-27T03:43:34.794Z"
   },
   {
    "duration": 420,
    "start_time": "2022-05-27T03:43:34.847Z"
   },
   {
    "duration": 9,
    "start_time": "2022-05-27T03:43:35.270Z"
   },
   {
    "duration": 10,
    "start_time": "2022-05-27T03:43:35.281Z"
   },
   {
    "duration": 4,
    "start_time": "2022-05-27T03:43:35.292Z"
   },
   {
    "duration": 5,
    "start_time": "2022-05-27T03:43:35.297Z"
   },
   {
    "duration": 25,
    "start_time": "2022-05-27T03:43:35.303Z"
   },
   {
    "duration": 10,
    "start_time": "2022-05-27T03:43:35.330Z"
   },
   {
    "duration": 15,
    "start_time": "2022-05-27T03:43:35.343Z"
   },
   {
    "duration": 7,
    "start_time": "2022-05-27T03:43:35.360Z"
   },
   {
    "duration": 7,
    "start_time": "2022-05-27T03:43:35.368Z"
   },
   {
    "duration": 15,
    "start_time": "2022-05-27T03:43:35.376Z"
   },
   {
    "duration": 2,
    "start_time": "2022-05-27T03:43:35.393Z"
   },
   {
    "duration": 7,
    "start_time": "2022-05-27T03:43:35.397Z"
   },
   {
    "duration": 23,
    "start_time": "2022-05-27T03:43:35.405Z"
   },
   {
    "duration": 9,
    "start_time": "2022-05-27T03:43:35.429Z"
   },
   {
    "duration": 6,
    "start_time": "2022-05-27T03:43:35.441Z"
   },
   {
    "duration": 20,
    "start_time": "2022-05-27T03:43:35.449Z"
   },
   {
    "duration": 12,
    "start_time": "2022-05-27T03:43:35.470Z"
   },
   {
    "duration": 5,
    "start_time": "2022-05-27T03:43:35.483Z"
   },
   {
    "duration": 6,
    "start_time": "2022-05-27T03:43:35.529Z"
   },
   {
    "duration": 20,
    "start_time": "2022-05-27T03:43:35.540Z"
   },
   {
    "duration": 15,
    "start_time": "2022-05-27T03:43:35.561Z"
   },
   {
    "duration": 4,
    "start_time": "2022-05-27T03:43:35.577Z"
   },
   {
    "duration": 17,
    "start_time": "2022-05-27T03:43:35.582Z"
   },
   {
    "duration": 35,
    "start_time": "2022-05-27T03:43:35.600Z"
   },
   {
    "duration": 14,
    "start_time": "2022-05-27T03:43:35.638Z"
   },
   {
    "duration": 18,
    "start_time": "2022-05-27T03:43:35.654Z"
   },
   {
    "duration": 8,
    "start_time": "2022-05-27T03:43:35.673Z"
   },
   {
    "duration": 14,
    "start_time": "2022-05-27T03:43:35.683Z"
   },
   {
    "duration": 34,
    "start_time": "2022-05-27T03:43:35.699Z"
   },
   {
    "duration": 19,
    "start_time": "2022-05-27T03:43:35.736Z"
   },
   {
    "duration": 3,
    "start_time": "2022-05-27T03:43:35.757Z"
   },
   {
    "duration": 27,
    "start_time": "2022-05-27T03:43:35.761Z"
   },
   {
    "duration": 32,
    "start_time": "2022-05-27T03:43:35.789Z"
   },
   {
    "duration": 23,
    "start_time": "2022-05-27T03:43:35.822Z"
   },
   {
    "duration": 37,
    "start_time": "2022-05-27T03:43:35.848Z"
   },
   {
    "duration": 313,
    "start_time": "2022-05-27T03:43:35.886Z"
   },
   {
    "duration": 3,
    "start_time": "2022-05-27T03:43:36.201Z"
   },
   {
    "duration": 23,
    "start_time": "2022-05-27T03:43:36.205Z"
   },
   {
    "duration": 39,
    "start_time": "2022-05-27T03:43:36.231Z"
   },
   {
    "duration": 29,
    "start_time": "2022-05-27T03:43:36.271Z"
   },
   {
    "duration": 14,
    "start_time": "2022-05-27T03:43:36.301Z"
   },
   {
    "duration": 158,
    "start_time": "2022-05-27T03:43:36.316Z"
   },
   {
    "duration": 9,
    "start_time": "2022-05-27T03:43:36.475Z"
   },
   {
    "duration": 144,
    "start_time": "2022-05-27T03:43:36.485Z"
   },
   {
    "duration": 133,
    "start_time": "2022-05-27T03:44:07.982Z"
   },
   {
    "duration": 122,
    "start_time": "2022-05-27T03:44:43.243Z"
   },
   {
    "duration": 140,
    "start_time": "2022-05-27T03:44:54.021Z"
   },
   {
    "duration": 209,
    "start_time": "2022-05-27T03:45:00.892Z"
   },
   {
    "duration": 118,
    "start_time": "2022-05-27T03:45:21.149Z"
   },
   {
    "duration": 140,
    "start_time": "2022-05-27T03:45:29.119Z"
   },
   {
    "duration": 144,
    "start_time": "2022-05-27T03:45:43.774Z"
   },
   {
    "duration": 131,
    "start_time": "2022-05-27T03:45:51.038Z"
   },
   {
    "duration": 117,
    "start_time": "2022-05-27T03:46:00.347Z"
   },
   {
    "duration": 9,
    "start_time": "2022-05-27T03:47:34.848Z"
   },
   {
    "duration": 4,
    "start_time": "2022-05-27T03:48:51.627Z"
   },
   {
    "duration": 123,
    "start_time": "2022-05-27T03:49:26.408Z"
   },
   {
    "duration": 129,
    "start_time": "2022-05-27T03:49:39.177Z"
   },
   {
    "duration": 126,
    "start_time": "2022-05-27T03:49:46.565Z"
   },
   {
    "duration": 141,
    "start_time": "2022-05-27T03:49:57.414Z"
   },
   {
    "duration": 8,
    "start_time": "2022-05-27T03:50:45.677Z"
   },
   {
    "duration": 4,
    "start_time": "2022-05-27T03:50:46.582Z"
   },
   {
    "duration": 146,
    "start_time": "2022-05-27T03:50:50.348Z"
   },
   {
    "duration": 203,
    "start_time": "2022-05-27T03:51:44.176Z"
   },
   {
    "duration": 8,
    "start_time": "2022-05-27T03:53:17.528Z"
   },
   {
    "duration": 149,
    "start_time": "2022-05-27T03:53:50.896Z"
   },
   {
    "duration": 130,
    "start_time": "2022-05-27T03:53:57.747Z"
   },
   {
    "duration": 130,
    "start_time": "2022-05-27T03:54:19.696Z"
   },
   {
    "duration": 149,
    "start_time": "2022-05-27T03:54:30.230Z"
   },
   {
    "duration": 9,
    "start_time": "2022-05-27T04:01:26.927Z"
   },
   {
    "duration": 8,
    "start_time": "2022-05-27T04:06:00.281Z"
   },
   {
    "duration": 141,
    "start_time": "2022-05-27T04:06:01.609Z"
   },
   {
    "duration": 135,
    "start_time": "2022-05-27T04:06:14.858Z"
   },
   {
    "duration": 139,
    "start_time": "2022-05-27T04:06:47.767Z"
   },
   {
    "duration": 133,
    "start_time": "2022-05-27T04:07:13.449Z"
   },
   {
    "duration": 5,
    "start_time": "2022-05-27T04:09:17.969Z"
   },
   {
    "duration": 74,
    "start_time": "2022-05-27T05:02:43.401Z"
   },
   {
    "duration": 14,
    "start_time": "2022-05-27T05:02:54.769Z"
   },
   {
    "duration": 8,
    "start_time": "2022-05-27T05:05:02.789Z"
   },
   {
    "duration": 7,
    "start_time": "2022-05-27T05:06:24.130Z"
   },
   {
    "duration": 14,
    "start_time": "2022-05-27T05:07:20.454Z"
   },
   {
    "duration": 167,
    "start_time": "2022-05-27T05:23:20.367Z"
   },
   {
    "duration": 4,
    "start_time": "2022-05-27T05:24:55.974Z"
   },
   {
    "duration": 150,
    "start_time": "2022-05-27T05:25:43.419Z"
   },
   {
    "duration": 4,
    "start_time": "2022-05-27T05:26:05.105Z"
   },
   {
    "duration": 173,
    "start_time": "2022-05-27T05:27:39.872Z"
   },
   {
    "duration": 5,
    "start_time": "2022-05-27T05:27:55.289Z"
   },
   {
    "duration": 151,
    "start_time": "2022-05-27T05:30:22.315Z"
   },
   {
    "duration": 202,
    "start_time": "2022-05-27T05:30:47.486Z"
   },
   {
    "duration": 158,
    "start_time": "2022-05-27T05:38:38.697Z"
   },
   {
    "duration": 4,
    "start_time": "2022-05-27T05:39:03.297Z"
   },
   {
    "duration": 152,
    "start_time": "2022-05-27T05:39:40.231Z"
   },
   {
    "duration": 5,
    "start_time": "2022-05-27T05:39:51.280Z"
   },
   {
    "duration": 252,
    "start_time": "2022-05-27T05:40:34.695Z"
   },
   {
    "duration": 4,
    "start_time": "2022-05-27T05:40:53.772Z"
   },
   {
    "duration": 17,
    "start_time": "2022-05-27T05:53:58.784Z"
   },
   {
    "duration": 4,
    "start_time": "2022-05-27T06:01:12.751Z"
   },
   {
    "duration": 13,
    "start_time": "2022-05-27T06:01:21.521Z"
   },
   {
    "duration": 13,
    "start_time": "2022-05-27T06:04:35.005Z"
   },
   {
    "duration": 12,
    "start_time": "2022-05-27T06:05:02.420Z"
   },
   {
    "duration": 19,
    "start_time": "2022-05-27T06:05:18.589Z"
   },
   {
    "duration": 17,
    "start_time": "2022-05-27T06:06:00.279Z"
   },
   {
    "duration": 17,
    "start_time": "2022-05-27T06:07:34.564Z"
   },
   {
    "duration": 12,
    "start_time": "2022-05-27T06:08:42.592Z"
   },
   {
    "duration": 17,
    "start_time": "2022-05-27T06:09:10.496Z"
   },
   {
    "duration": 4,
    "start_time": "2022-05-27T06:23:12.719Z"
   },
   {
    "duration": 15,
    "start_time": "2022-05-27T06:23:14.086Z"
   },
   {
    "duration": 62,
    "start_time": "2022-05-29T07:42:55.442Z"
   },
   {
    "duration": 439,
    "start_time": "2022-05-29T07:43:14.109Z"
   },
   {
    "duration": 162,
    "start_time": "2022-05-29T07:43:14.550Z"
   },
   {
    "duration": 16,
    "start_time": "2022-05-29T07:43:14.713Z"
   },
   {
    "duration": 36,
    "start_time": "2022-05-29T07:43:14.731Z"
   },
   {
    "duration": 14,
    "start_time": "2022-05-29T07:43:14.768Z"
   },
   {
    "duration": 20,
    "start_time": "2022-05-29T07:43:14.783Z"
   },
   {
    "duration": 17,
    "start_time": "2022-05-29T07:43:14.804Z"
   },
   {
    "duration": 28,
    "start_time": "2022-05-29T07:43:14.823Z"
   },
   {
    "duration": 583,
    "start_time": "2022-05-29T07:43:14.853Z"
   },
   {
    "duration": 10,
    "start_time": "2022-05-29T07:43:15.438Z"
   },
   {
    "duration": 12,
    "start_time": "2022-05-29T07:43:15.449Z"
   },
   {
    "duration": 28,
    "start_time": "2022-05-29T07:43:15.463Z"
   },
   {
    "duration": 17,
    "start_time": "2022-05-29T07:43:15.495Z"
   },
   {
    "duration": 6,
    "start_time": "2022-05-29T07:43:15.513Z"
   },
   {
    "duration": 6,
    "start_time": "2022-05-29T07:43:15.520Z"
   },
   {
    "duration": 8,
    "start_time": "2022-05-29T07:43:15.527Z"
   },
   {
    "duration": 9,
    "start_time": "2022-05-29T07:43:15.537Z"
   },
   {
    "duration": 5,
    "start_time": "2022-05-29T07:43:15.547Z"
   },
   {
    "duration": 14,
    "start_time": "2022-05-29T07:43:15.553Z"
   },
   {
    "duration": 3,
    "start_time": "2022-05-29T07:43:15.568Z"
   },
   {
    "duration": 24,
    "start_time": "2022-05-29T07:43:15.578Z"
   },
   {
    "duration": 7,
    "start_time": "2022-05-29T07:43:15.603Z"
   },
   {
    "duration": 8,
    "start_time": "2022-05-29T07:43:15.611Z"
   },
   {
    "duration": 5,
    "start_time": "2022-05-29T07:43:15.621Z"
   },
   {
    "duration": 16,
    "start_time": "2022-05-29T07:43:15.627Z"
   },
   {
    "duration": 11,
    "start_time": "2022-05-29T07:43:15.644Z"
   },
   {
    "duration": 4,
    "start_time": "2022-05-29T07:43:15.657Z"
   },
   {
    "duration": 3,
    "start_time": "2022-05-29T07:43:15.664Z"
   },
   {
    "duration": 17,
    "start_time": "2022-05-29T07:43:15.668Z"
   },
   {
    "duration": 33,
    "start_time": "2022-05-29T07:43:15.686Z"
   },
   {
    "duration": 5,
    "start_time": "2022-05-29T07:43:15.721Z"
   },
   {
    "duration": 16,
    "start_time": "2022-05-29T07:43:15.727Z"
   },
   {
    "duration": 7,
    "start_time": "2022-05-29T07:43:15.744Z"
   },
   {
    "duration": 11,
    "start_time": "2022-05-29T07:43:15.753Z"
   },
   {
    "duration": 21,
    "start_time": "2022-05-29T07:43:15.765Z"
   },
   {
    "duration": 13,
    "start_time": "2022-05-29T07:43:15.792Z"
   },
   {
    "duration": 9,
    "start_time": "2022-05-29T07:43:15.806Z"
   },
   {
    "duration": 14,
    "start_time": "2022-05-29T07:43:15.816Z"
   },
   {
    "duration": 13,
    "start_time": "2022-05-29T07:43:15.831Z"
   },
   {
    "duration": 4,
    "start_time": "2022-05-29T07:43:15.845Z"
   },
   {
    "duration": 7,
    "start_time": "2022-05-29T07:43:15.850Z"
   },
   {
    "duration": 21,
    "start_time": "2022-05-29T07:43:15.859Z"
   },
   {
    "duration": 10,
    "start_time": "2022-05-29T07:43:15.882Z"
   },
   {
    "duration": 35,
    "start_time": "2022-05-29T07:43:15.897Z"
   },
   {
    "duration": 307,
    "start_time": "2022-05-29T07:43:15.934Z"
   },
   {
    "duration": 4,
    "start_time": "2022-05-29T07:43:16.243Z"
   },
   {
    "duration": 6,
    "start_time": "2022-05-29T07:43:16.249Z"
   },
   {
    "duration": 42,
    "start_time": "2022-05-29T07:43:16.257Z"
   },
   {
    "duration": 19,
    "start_time": "2022-05-29T07:43:16.301Z"
   },
   {
    "duration": 8,
    "start_time": "2022-05-29T07:43:16.321Z"
   },
   {
    "duration": 136,
    "start_time": "2022-05-29T07:43:16.330Z"
   },
   {
    "duration": 15,
    "start_time": "2022-05-29T07:43:16.468Z"
   },
   {
    "duration": 135,
    "start_time": "2022-05-29T07:43:16.486Z"
   },
   {
    "duration": 7,
    "start_time": "2022-05-29T07:43:16.623Z"
   },
   {
    "duration": 3,
    "start_time": "2022-05-29T07:43:16.632Z"
   },
   {
    "duration": 178,
    "start_time": "2022-05-29T07:43:16.636Z"
   },
   {
    "duration": 8,
    "start_time": "2022-05-29T07:43:16.815Z"
   },
   {
    "duration": 142,
    "start_time": "2022-05-29T07:43:16.824Z"
   },
   {
    "duration": 21,
    "start_time": "2022-05-29T07:43:16.968Z"
   },
   {
    "duration": 197,
    "start_time": "2022-05-29T07:43:16.990Z"
   },
   {
    "duration": 16,
    "start_time": "2022-05-29T07:43:17.194Z"
   },
   {
    "duration": 9,
    "start_time": "2022-05-29T07:43:17.211Z"
   },
   {
    "duration": 6,
    "start_time": "2022-05-29T07:43:17.221Z"
   },
   {
    "duration": 14,
    "start_time": "2022-05-29T07:43:17.229Z"
   },
   {
    "duration": 195,
    "start_time": "2022-05-29T07:43:17.244Z"
   },
   {
    "duration": 4,
    "start_time": "2022-05-29T07:43:17.441Z"
   },
   {
    "duration": 179,
    "start_time": "2022-05-29T07:43:17.446Z"
   },
   {
    "duration": 3,
    "start_time": "2022-05-29T07:43:17.627Z"
   },
   {
    "duration": 180,
    "start_time": "2022-05-29T07:43:17.632Z"
   },
   {
    "duration": 5,
    "start_time": "2022-05-29T07:43:17.813Z"
   },
   {
    "duration": 176,
    "start_time": "2022-05-29T07:43:17.820Z"
   },
   {
    "duration": 169,
    "start_time": "2022-05-29T07:43:17.997Z"
   },
   {
    "duration": 14,
    "start_time": "2022-05-29T07:43:18.168Z"
   },
   {
    "duration": 213,
    "start_time": "2022-05-29T07:43:18.186Z"
   },
   {
    "duration": 6,
    "start_time": "2022-05-29T07:43:18.403Z"
   },
   {
    "duration": 185,
    "start_time": "2022-05-29T07:43:18.411Z"
   },
   {
    "duration": 5,
    "start_time": "2022-05-29T07:43:18.601Z"
   },
   {
    "duration": 21,
    "start_time": "2022-05-29T07:43:18.608Z"
   },
   {
    "duration": 29,
    "start_time": "2022-05-29T07:43:18.630Z"
   },
   {
    "duration": 2,
    "start_time": "2022-05-29T07:43:26.118Z"
   },
   {
    "duration": 94,
    "start_time": "2022-05-29T07:43:26.522Z"
   },
   {
    "duration": 14,
    "start_time": "2022-05-29T07:43:27.613Z"
   },
   {
    "duration": 29,
    "start_time": "2022-05-29T07:43:28.543Z"
   },
   {
    "duration": 10,
    "start_time": "2022-05-29T07:43:29.457Z"
   },
   {
    "duration": 4,
    "start_time": "2022-05-29T07:43:29.840Z"
   },
   {
    "duration": 13,
    "start_time": "2022-05-29T07:43:30.039Z"
   },
   {
    "duration": 54,
    "start_time": "2022-05-29T07:43:30.255Z"
   },
   {
    "duration": 137,
    "start_time": "2022-05-29T07:43:30.646Z"
   },
   {
    "duration": 10,
    "start_time": "2022-05-29T07:43:31.039Z"
   },
   {
    "duration": 8,
    "start_time": "2022-05-29T07:43:31.229Z"
   },
   {
    "duration": 9,
    "start_time": "2022-05-29T07:43:31.818Z"
   },
   {
    "duration": 4,
    "start_time": "2022-05-29T07:43:32.235Z"
   },
   {
    "duration": 5,
    "start_time": "2022-05-29T07:43:32.523Z"
   },
   {
    "duration": 15,
    "start_time": "2022-05-29T07:43:32.844Z"
   },
   {
    "duration": 5,
    "start_time": "2022-05-29T07:43:33.254Z"
   },
   {
    "duration": 5,
    "start_time": "2022-05-29T07:43:33.516Z"
   },
   {
    "duration": 12,
    "start_time": "2022-05-29T07:43:34.087Z"
   },
   {
    "duration": 23,
    "start_time": "2022-05-29T07:43:34.307Z"
   },
   {
    "duration": 4,
    "start_time": "2022-05-29T07:43:34.625Z"
   },
   {
    "duration": 4,
    "start_time": "2022-05-29T07:43:34.955Z"
   },
   {
    "duration": 5,
    "start_time": "2022-05-29T07:43:35.154Z"
   },
   {
    "duration": 5,
    "start_time": "2022-05-29T07:43:35.566Z"
   },
   {
    "duration": 8,
    "start_time": "2022-05-29T07:43:35.802Z"
   },
   {
    "duration": 26,
    "start_time": "2022-05-29T07:43:36.494Z"
   },
   {
    "duration": 19,
    "start_time": "2022-05-29T07:43:36.525Z"
   },
   {
    "duration": 5,
    "start_time": "2022-05-29T07:43:36.661Z"
   },
   {
    "duration": 4,
    "start_time": "2022-05-29T07:43:36.912Z"
   },
   {
    "duration": 13,
    "start_time": "2022-05-29T07:43:37.144Z"
   },
   {
    "duration": 16,
    "start_time": "2022-05-29T07:43:37.546Z"
   },
   {
    "duration": 7,
    "start_time": "2022-05-29T07:43:37.820Z"
   },
   {
    "duration": 25,
    "start_time": "2022-05-29T07:43:38.023Z"
   },
   {
    "duration": 17,
    "start_time": "2022-05-29T07:43:38.670Z"
   },
   {
    "duration": 9,
    "start_time": "2022-05-29T07:43:38.914Z"
   },
   {
    "duration": 13,
    "start_time": "2022-05-29T07:43:39.206Z"
   },
   {
    "duration": 11,
    "start_time": "2022-05-29T07:43:39.872Z"
   },
   {
    "duration": 7,
    "start_time": "2022-05-29T07:43:40.713Z"
   },
   {
    "duration": 7,
    "start_time": "2022-05-29T07:43:41.155Z"
   },
   {
    "duration": 13,
    "start_time": "2022-05-29T07:43:41.424Z"
   },
   {
    "duration": 9,
    "start_time": "2022-05-29T07:43:43.272Z"
   },
   {
    "duration": 7,
    "start_time": "2022-05-29T07:43:44.106Z"
   },
   {
    "duration": 6,
    "start_time": "2022-05-29T07:43:44.523Z"
   },
   {
    "duration": 7,
    "start_time": "2022-05-29T07:43:44.721Z"
   },
   {
    "duration": 33,
    "start_time": "2022-05-29T07:43:44.944Z"
   },
   {
    "duration": 394,
    "start_time": "2022-05-29T07:43:45.489Z"
   },
   {
    "duration": 5,
    "start_time": "2022-05-29T07:43:46.001Z"
   },
   {
    "duration": 5,
    "start_time": "2022-05-29T07:43:46.219Z"
   },
   {
    "duration": 36,
    "start_time": "2022-05-29T07:43:46.572Z"
   },
   {
    "duration": 22,
    "start_time": "2022-05-29T07:43:46.804Z"
   },
   {
    "duration": 13,
    "start_time": "2022-05-29T07:43:47.868Z"
   },
   {
    "duration": 164,
    "start_time": "2022-05-29T07:43:48.079Z"
   },
   {
    "duration": 11,
    "start_time": "2022-05-29T07:43:48.546Z"
   },
   {
    "duration": 137,
    "start_time": "2022-05-29T07:43:48.804Z"
   },
   {
    "duration": 8,
    "start_time": "2022-05-29T07:43:49.224Z"
   },
   {
    "duration": 9,
    "start_time": "2022-05-29T07:43:49.671Z"
   },
   {
    "duration": 168,
    "start_time": "2022-05-29T07:43:50.176Z"
   },
   {
    "duration": 8,
    "start_time": "2022-05-29T07:43:50.625Z"
   },
   {
    "duration": 146,
    "start_time": "2022-05-29T07:43:51.101Z"
   },
   {
    "duration": 11,
    "start_time": "2022-05-29T07:43:51.504Z"
   },
   {
    "duration": 154,
    "start_time": "2022-05-29T07:43:51.769Z"
   },
   {
    "duration": 9,
    "start_time": "2022-05-29T07:43:52.548Z"
   },
   {
    "duration": 17,
    "start_time": "2022-05-29T07:43:52.765Z"
   },
   {
    "duration": 7,
    "start_time": "2022-05-29T07:43:53.610Z"
   },
   {
    "duration": 12,
    "start_time": "2022-05-29T07:43:53.619Z"
   },
   {
    "duration": 181,
    "start_time": "2022-05-29T07:43:54.744Z"
   },
   {
    "duration": 4,
    "start_time": "2022-05-29T07:43:55.144Z"
   },
   {
    "duration": 167,
    "start_time": "2022-05-29T07:43:55.809Z"
   },
   {
    "duration": 5,
    "start_time": "2022-05-29T07:43:56.061Z"
   },
   {
    "duration": 209,
    "start_time": "2022-05-29T07:43:56.642Z"
   },
   {
    "duration": 4,
    "start_time": "2022-05-29T07:43:57.010Z"
   },
   {
    "duration": 155,
    "start_time": "2022-05-29T07:43:57.710Z"
   },
   {
    "duration": 184,
    "start_time": "2022-05-29T07:43:58.609Z"
   },
   {
    "duration": 5,
    "start_time": "2022-05-29T07:43:59.014Z"
   },
   {
    "duration": 195,
    "start_time": "2022-05-29T07:44:00.040Z"
   },
   {
    "duration": 4,
    "start_time": "2022-05-29T07:44:00.427Z"
   },
   {
    "duration": 172,
    "start_time": "2022-05-29T07:44:01.379Z"
   },
   {
    "duration": 6,
    "start_time": "2022-05-29T07:44:02.370Z"
   },
   {
    "duration": 16,
    "start_time": "2022-05-29T07:44:02.997Z"
   },
   {
    "duration": 39,
    "start_time": "2022-05-29T07:44:03.470Z"
   },
   {
    "duration": 17,
    "start_time": "2022-05-29T07:44:36.043Z"
   },
   {
    "duration": 13,
    "start_time": "2022-05-29T07:45:37.344Z"
   },
   {
    "duration": 9,
    "start_time": "2022-05-29T07:45:55.214Z"
   },
   {
    "duration": 7,
    "start_time": "2022-05-29T07:45:55.730Z"
   },
   {
    "duration": 106,
    "start_time": "2022-05-29T07:46:50.201Z"
   },
   {
    "duration": 11,
    "start_time": "2022-05-29T07:47:14.638Z"
   },
   {
    "duration": 7,
    "start_time": "2022-05-29T07:47:17.857Z"
   },
   {
    "duration": 22,
    "start_time": "2022-05-29T07:52:12.913Z"
   },
   {
    "duration": 24,
    "start_time": "2022-05-29T07:52:27.560Z"
   },
   {
    "duration": 28,
    "start_time": "2022-05-29T07:54:30.362Z"
   },
   {
    "duration": 8,
    "start_time": "2022-05-29T07:54:46.286Z"
   },
   {
    "duration": 7,
    "start_time": "2022-05-29T07:58:30.790Z"
   },
   {
    "duration": 39,
    "start_time": "2022-05-29T07:58:52.450Z"
   },
   {
    "duration": 13,
    "start_time": "2022-05-29T07:59:36.025Z"
   },
   {
    "duration": 9,
    "start_time": "2022-05-29T07:59:50.909Z"
   },
   {
    "duration": 5,
    "start_time": "2022-05-29T08:08:39.645Z"
   },
   {
    "duration": 4,
    "start_time": "2022-05-29T08:08:51.611Z"
   },
   {
    "duration": 7,
    "start_time": "2022-05-29T08:08:54.612Z"
   },
   {
    "duration": 4,
    "start_time": "2022-05-29T08:08:55.556Z"
   },
   {
    "duration": 5,
    "start_time": "2022-05-29T08:10:09.056Z"
   },
   {
    "duration": 28,
    "start_time": "2022-05-29T08:10:28.241Z"
   },
   {
    "duration": 20,
    "start_time": "2022-05-29T08:13:10.948Z"
   },
   {
    "duration": 897,
    "start_time": "2022-05-29T08:17:28.846Z"
   },
   {
    "duration": 522,
    "start_time": "2022-05-29T08:17:54.167Z"
   },
   {
    "duration": 222,
    "start_time": "2022-05-29T08:18:12.838Z"
   },
   {
    "duration": 537,
    "start_time": "2022-05-29T08:23:17.154Z"
   },
   {
    "duration": 440,
    "start_time": "2022-05-29T08:23:26.887Z"
   },
   {
    "duration": 438,
    "start_time": "2022-05-29T08:25:47.574Z"
   },
   {
    "duration": 6,
    "start_time": "2022-05-29T08:26:08.062Z"
   },
   {
    "duration": 15,
    "start_time": "2022-05-29T08:26:25.874Z"
   },
   {
    "duration": 9,
    "start_time": "2022-05-29T08:28:39.896Z"
   },
   {
    "duration": 136,
    "start_time": "2022-05-29T08:28:58.620Z"
   },
   {
    "duration": 12,
    "start_time": "2022-05-29T08:29:44.670Z"
   },
   {
    "duration": 119,
    "start_time": "2022-05-29T08:30:12.067Z"
   },
   {
    "duration": 8,
    "start_time": "2022-05-29T08:30:59.260Z"
   },
   {
    "duration": 202,
    "start_time": "2022-05-29T08:31:12.312Z"
   },
   {
    "duration": 133,
    "start_time": "2022-05-29T08:31:18.958Z"
   },
   {
    "duration": 7,
    "start_time": "2022-05-29T08:31:58.616Z"
   },
   {
    "duration": 142,
    "start_time": "2022-05-29T08:32:11.329Z"
   },
   {
    "duration": 127,
    "start_time": "2022-05-29T08:32:18.566Z"
   },
   {
    "duration": 214,
    "start_time": "2022-05-29T08:32:31.523Z"
   },
   {
    "duration": 141,
    "start_time": "2022-05-29T08:39:57.851Z"
   },
   {
    "duration": 5,
    "start_time": "2022-05-29T08:40:22.035Z"
   },
   {
    "duration": 116,
    "start_time": "2022-05-29T08:41:54.117Z"
   },
   {
    "duration": 160,
    "start_time": "2022-05-29T08:45:02.952Z"
   },
   {
    "duration": 7,
    "start_time": "2022-05-29T08:45:05.382Z"
   },
   {
    "duration": 550,
    "start_time": "2022-05-29T08:47:36.510Z"
   },
   {
    "duration": 15,
    "start_time": "2022-05-29T08:47:41.927Z"
   },
   {
    "duration": 3,
    "start_time": "2022-05-29T08:48:53.550Z"
   },
   {
    "duration": 3,
    "start_time": "2022-05-29T08:52:57.829Z"
   },
   {
    "duration": 104,
    "start_time": "2022-05-29T08:52:58.334Z"
   },
   {
    "duration": 23,
    "start_time": "2022-05-29T08:52:59.172Z"
   },
   {
    "duration": 28,
    "start_time": "2022-05-29T08:53:00.012Z"
   },
   {
    "duration": 9,
    "start_time": "2022-05-29T08:53:00.860Z"
   },
   {
    "duration": 5,
    "start_time": "2022-05-29T08:53:01.302Z"
   },
   {
    "duration": 13,
    "start_time": "2022-05-29T08:53:01.427Z"
   },
   {
    "duration": 28,
    "start_time": "2022-05-29T08:53:01.622Z"
   },
   {
    "duration": 143,
    "start_time": "2022-05-29T08:53:02.020Z"
   },
   {
    "duration": 10,
    "start_time": "2022-05-29T08:53:02.438Z"
   },
   {
    "duration": 9,
    "start_time": "2022-05-29T08:53:02.615Z"
   },
   {
    "duration": 5,
    "start_time": "2022-05-29T08:53:03.234Z"
   },
   {
    "duration": 4,
    "start_time": "2022-05-29T08:53:03.626Z"
   },
   {
    "duration": 5,
    "start_time": "2022-05-29T08:53:03.836Z"
   },
   {
    "duration": 8,
    "start_time": "2022-05-29T08:53:04.298Z"
   },
   {
    "duration": 5,
    "start_time": "2022-05-29T08:53:04.651Z"
   },
   {
    "duration": 5,
    "start_time": "2022-05-29T08:53:04.848Z"
   },
   {
    "duration": 5,
    "start_time": "2022-05-29T08:53:05.218Z"
   },
   {
    "duration": 13,
    "start_time": "2022-05-29T08:53:05.402Z"
   },
   {
    "duration": 3,
    "start_time": "2022-05-29T08:53:05.603Z"
   },
   {
    "duration": 4,
    "start_time": "2022-05-29T08:53:06.036Z"
   },
   {
    "duration": 5,
    "start_time": "2022-05-29T08:53:06.216Z"
   },
   {
    "duration": 4,
    "start_time": "2022-05-29T08:53:06.652Z"
   },
   {
    "duration": 4,
    "start_time": "2022-05-29T08:53:06.852Z"
   },
   {
    "duration": 19,
    "start_time": "2022-05-29T08:53:07.090Z"
   },
   {
    "duration": 14,
    "start_time": "2022-05-29T08:53:07.301Z"
   },
   {
    "duration": 5,
    "start_time": "2022-05-29T08:53:07.714Z"
   },
   {
    "duration": 5,
    "start_time": "2022-05-29T08:53:07.914Z"
   },
   {
    "duration": 12,
    "start_time": "2022-05-29T08:53:08.119Z"
   },
   {
    "duration": 16,
    "start_time": "2022-05-29T08:53:08.538Z"
   },
   {
    "duration": 4,
    "start_time": "2022-05-29T08:53:08.745Z"
   },
   {
    "duration": 27,
    "start_time": "2022-05-29T08:53:08.975Z"
   },
   {
    "duration": 12,
    "start_time": "2022-05-29T08:53:09.394Z"
   },
   {
    "duration": 9,
    "start_time": "2022-05-29T08:53:09.595Z"
   },
   {
    "duration": 14,
    "start_time": "2022-05-29T08:53:09.800Z"
   },
   {
    "duration": 7,
    "start_time": "2022-05-29T08:53:10.433Z"
   },
   {
    "duration": 5,
    "start_time": "2022-05-29T08:53:10.851Z"
   },
   {
    "duration": 13,
    "start_time": "2022-05-29T08:53:11.286Z"
   },
   {
    "duration": 11,
    "start_time": "2022-05-29T08:53:11.500Z"
   },
   {
    "duration": 4,
    "start_time": "2022-05-29T08:53:12.405Z"
   },
   {
    "duration": 6,
    "start_time": "2022-05-29T08:53:12.854Z"
   },
   {
    "duration": 7,
    "start_time": "2022-05-29T08:53:13.107Z"
   },
   {
    "duration": 5,
    "start_time": "2022-05-29T08:53:13.303Z"
   },
   {
    "duration": 24,
    "start_time": "2022-05-29T08:53:13.499Z"
   },
   {
    "duration": 305,
    "start_time": "2022-05-29T08:53:14.001Z"
   },
   {
    "duration": 6,
    "start_time": "2022-05-29T08:53:14.700Z"
   },
   {
    "duration": 4,
    "start_time": "2022-05-29T08:53:14.902Z"
   },
   {
    "duration": 30,
    "start_time": "2022-05-29T08:53:15.156Z"
   },
   {
    "duration": 13,
    "start_time": "2022-05-29T08:53:15.350Z"
   },
   {
    "duration": 10,
    "start_time": "2022-05-29T08:53:16.260Z"
   },
   {
    "duration": 244,
    "start_time": "2022-05-29T08:53:16.615Z"
   },
   {
    "duration": 16,
    "start_time": "2022-05-29T08:53:17.477Z"
   },
   {
    "duration": 138,
    "start_time": "2022-05-29T08:53:17.670Z"
   },
   {
    "duration": 9,
    "start_time": "2022-05-29T08:53:18.101Z"
   },
   {
    "duration": 5,
    "start_time": "2022-05-29T08:53:18.324Z"
   },
   {
    "duration": 157,
    "start_time": "2022-05-29T08:53:18.534Z"
   },
   {
    "duration": 9,
    "start_time": "2022-05-29T08:53:18.970Z"
   },
   {
    "duration": 159,
    "start_time": "2022-05-29T08:53:19.170Z"
   },
   {
    "duration": 9,
    "start_time": "2022-05-29T08:53:19.603Z"
   },
   {
    "duration": 153,
    "start_time": "2022-05-29T08:53:19.812Z"
   },
   {
    "duration": 9,
    "start_time": "2022-05-29T08:53:20.550Z"
   },
   {
    "duration": 9,
    "start_time": "2022-05-29T08:53:20.817Z"
   },
   {
    "duration": 8,
    "start_time": "2022-05-29T08:53:21.066Z"
   },
   {
    "duration": 13,
    "start_time": "2022-05-29T08:53:21.308Z"
   },
   {
    "duration": 217,
    "start_time": "2022-05-29T08:53:22.069Z"
   },
   {
    "duration": 9,
    "start_time": "2022-05-29T08:53:22.291Z"
   },
   {
    "duration": 215,
    "start_time": "2022-05-29T08:53:22.758Z"
   },
   {
    "duration": 5,
    "start_time": "2022-05-29T08:53:23.456Z"
   },
   {
    "duration": 192,
    "start_time": "2022-05-29T08:53:23.463Z"
   },
   {
    "duration": 7,
    "start_time": "2022-05-29T08:53:23.696Z"
   },
   {
    "duration": 157,
    "start_time": "2022-05-29T08:53:24.101Z"
   },
   {
    "duration": 180,
    "start_time": "2022-05-29T08:53:24.513Z"
   },
   {
    "duration": 4,
    "start_time": "2022-05-29T08:53:24.706Z"
   },
   {
    "duration": 180,
    "start_time": "2022-05-29T08:53:25.145Z"
   },
   {
    "duration": 5,
    "start_time": "2022-05-29T08:53:25.343Z"
   },
   {
    "duration": 165,
    "start_time": "2022-05-29T08:53:25.806Z"
   },
   {
    "duration": 5,
    "start_time": "2022-05-29T08:53:26.003Z"
   },
   {
    "duration": 25,
    "start_time": "2022-05-29T08:53:26.393Z"
   },
   {
    "duration": 11,
    "start_time": "2022-05-29T08:53:26.606Z"
   },
   {
    "duration": 7,
    "start_time": "2022-05-29T08:53:27.034Z"
   },
   {
    "duration": 26,
    "start_time": "2022-05-29T08:53:27.231Z"
   },
   {
    "duration": 15,
    "start_time": "2022-05-29T08:53:27.444Z"
   },
   {
    "duration": 167,
    "start_time": "2022-05-29T08:53:27.673Z"
   },
   {
    "duration": 6,
    "start_time": "2022-05-29T08:53:28.702Z"
   },
   {
    "duration": 11,
    "start_time": "2022-05-29T08:53:28.892Z"
   },
   {
    "duration": 148,
    "start_time": "2022-05-29T08:53:29.408Z"
   },
   {
    "duration": 8,
    "start_time": "2022-05-29T08:53:29.653Z"
   },
   {
    "duration": 134,
    "start_time": "2022-05-29T08:53:29.822Z"
   },
   {
    "duration": 8,
    "start_time": "2022-05-29T08:53:30.142Z"
   },
   {
    "duration": 137,
    "start_time": "2022-05-29T08:53:30.253Z"
   },
   {
    "duration": 11,
    "start_time": "2022-05-29T08:53:30.472Z"
   },
   {
    "duration": 143,
    "start_time": "2022-05-29T08:53:30.704Z"
   },
   {
    "duration": 131,
    "start_time": "2022-05-29T08:53:31.736Z"
   },
   {
    "duration": 6,
    "start_time": "2022-05-29T08:53:31.877Z"
   },
   {
    "duration": 110,
    "start_time": "2022-05-29T08:53:32.351Z"
   },
   {
    "duration": 150,
    "start_time": "2022-05-29T08:53:33.012Z"
   },
   {
    "duration": 4,
    "start_time": "2022-05-29T08:53:33.165Z"
   },
   {
    "duration": 209,
    "start_time": "2022-05-29T08:53:33.935Z"
   },
   {
    "duration": 11,
    "start_time": "2022-05-29T08:53:34.304Z"
   },
   {
    "duration": 282,
    "start_time": "2022-05-29T08:58:12.647Z"
   },
   {
    "duration": 142,
    "start_time": "2022-05-29T08:58:23.479Z"
   },
   {
    "duration": 9,
    "start_time": "2022-05-29T08:59:29.352Z"
   },
   {
    "duration": 9,
    "start_time": "2022-05-29T08:59:30.435Z"
   },
   {
    "duration": 4,
    "start_time": "2022-05-29T09:05:51.672Z"
   },
   {
    "duration": 2,
    "start_time": "2022-05-29T09:06:02.539Z"
   },
   {
    "duration": 101,
    "start_time": "2022-05-29T09:06:03.243Z"
   },
   {
    "duration": 13,
    "start_time": "2022-05-29T09:06:04.742Z"
   },
   {
    "duration": 26,
    "start_time": "2022-05-29T09:06:09.208Z"
   },
   {
    "duration": 9,
    "start_time": "2022-05-29T09:06:14.813Z"
   },
   {
    "duration": 3,
    "start_time": "2022-05-29T09:06:16.819Z"
   },
   {
    "duration": 14,
    "start_time": "2022-05-29T09:06:17.768Z"
   },
   {
    "duration": 127,
    "start_time": "2022-05-29T09:06:20.223Z"
   },
   {
    "duration": 10,
    "start_time": "2022-05-29T09:06:22.149Z"
   },
   {
    "duration": 10,
    "start_time": "2022-05-29T09:06:22.918Z"
   },
   {
    "duration": 3,
    "start_time": "2022-05-29T09:06:26.896Z"
   },
   {
    "duration": 4,
    "start_time": "2022-05-29T09:06:31.426Z"
   },
   {
    "duration": 5,
    "start_time": "2022-05-29T09:06:33.028Z"
   },
   {
    "duration": 5,
    "start_time": "2022-05-29T09:09:05.289Z"
   },
   {
    "duration": 4,
    "start_time": "2022-05-29T09:09:06.221Z"
   },
   {
    "duration": 18,
    "start_time": "2022-05-29T09:09:07.366Z"
   },
   {
    "duration": 5,
    "start_time": "2022-05-29T09:10:41.744Z"
   },
   {
    "duration": 6,
    "start_time": "2022-05-29T09:10:43.111Z"
   },
   {
    "duration": 4,
    "start_time": "2022-05-29T09:10:43.726Z"
   },
   {
    "duration": 5,
    "start_time": "2022-05-29T09:12:25.498Z"
   },
   {
    "duration": 4,
    "start_time": "2022-05-29T09:12:26.352Z"
   },
   {
    "duration": 13,
    "start_time": "2022-05-29T09:12:27.219Z"
   },
   {
    "duration": 7,
    "start_time": "2022-05-29T09:33:48.307Z"
   },
   {
    "duration": 7,
    "start_time": "2022-05-29T09:39:31.412Z"
   },
   {
    "duration": 7,
    "start_time": "2022-05-29T09:39:44.401Z"
   },
   {
    "duration": 8,
    "start_time": "2022-05-29T09:46:59.441Z"
   },
   {
    "duration": 34,
    "start_time": "2022-05-29T09:47:11.266Z"
   },
   {
    "duration": 25,
    "start_time": "2022-05-29T09:47:14.106Z"
   },
   {
    "duration": 6,
    "start_time": "2022-05-29T09:47:28.516Z"
   },
   {
    "duration": 21,
    "start_time": "2022-05-29T09:47:29.336Z"
   },
   {
    "duration": 6,
    "start_time": "2022-05-29T09:47:30.135Z"
   },
   {
    "duration": 449,
    "start_time": "2022-05-29T09:48:04.490Z"
   },
   {
    "duration": 104,
    "start_time": "2022-05-29T09:48:04.941Z"
   },
   {
    "duration": 40,
    "start_time": "2022-05-29T09:48:05.047Z"
   },
   {
    "duration": 51,
    "start_time": "2022-05-29T09:48:05.091Z"
   },
   {
    "duration": 47,
    "start_time": "2022-05-29T09:48:05.144Z"
   },
   {
    "duration": 5,
    "start_time": "2022-05-29T09:48:05.194Z"
   },
   {
    "duration": 26,
    "start_time": "2022-05-29T09:48:05.201Z"
   },
   {
    "duration": 442,
    "start_time": "2022-05-29T09:48:05.229Z"
   },
   {
    "duration": 15,
    "start_time": "2022-05-29T09:48:05.674Z"
   },
   {
    "duration": 23,
    "start_time": "2022-05-29T09:48:05.691Z"
   },
   {
    "duration": 4,
    "start_time": "2022-05-29T09:48:05.715Z"
   },
   {
    "duration": 5,
    "start_time": "2022-05-29T09:48:05.720Z"
   },
   {
    "duration": 7,
    "start_time": "2022-05-29T09:48:05.726Z"
   },
   {
    "duration": 6,
    "start_time": "2022-05-29T09:48:05.735Z"
   },
   {
    "duration": 4,
    "start_time": "2022-05-29T09:48:05.742Z"
   },
   {
    "duration": 38,
    "start_time": "2022-05-29T09:48:05.747Z"
   },
   {
    "duration": 18,
    "start_time": "2022-05-29T09:48:05.787Z"
   },
   {
    "duration": 6,
    "start_time": "2022-05-29T09:48:05.807Z"
   },
   {
    "duration": 8,
    "start_time": "2022-05-29T09:48:05.815Z"
   },
   {
    "duration": 5,
    "start_time": "2022-05-29T09:48:05.825Z"
   },
   {
    "duration": 4,
    "start_time": "2022-05-29T09:48:05.832Z"
   },
   {
    "duration": 16,
    "start_time": "2022-05-29T09:48:05.838Z"
   },
   {
    "duration": 4,
    "start_time": "2022-05-29T09:48:05.855Z"
   },
   {
    "duration": 32,
    "start_time": "2022-05-29T09:48:05.860Z"
   },
   {
    "duration": 13,
    "start_time": "2022-05-29T09:48:05.894Z"
   },
   {
    "duration": 6,
    "start_time": "2022-05-29T09:48:05.909Z"
   },
   {
    "duration": 26,
    "start_time": "2022-05-29T09:48:05.917Z"
   },
   {
    "duration": 5,
    "start_time": "2022-05-29T09:48:05.947Z"
   },
   {
    "duration": 28,
    "start_time": "2022-05-29T09:48:05.954Z"
   },
   {
    "duration": 5,
    "start_time": "2022-05-29T09:48:05.984Z"
   },
   {
    "duration": 17,
    "start_time": "2022-05-29T09:48:05.991Z"
   },
   {
    "duration": 13,
    "start_time": "2022-05-29T09:48:06.009Z"
   },
   {
    "duration": 12,
    "start_time": "2022-05-29T09:48:06.024Z"
   },
   {
    "duration": 12,
    "start_time": "2022-05-29T09:48:06.038Z"
   },
   {
    "duration": 46,
    "start_time": "2022-05-29T09:48:06.052Z"
   },
   {
    "duration": 9,
    "start_time": "2022-05-29T09:48:06.101Z"
   },
   {
    "duration": 6,
    "start_time": "2022-05-29T09:48:06.111Z"
   },
   {
    "duration": 13,
    "start_time": "2022-05-29T09:48:06.119Z"
   },
   {
    "duration": 7,
    "start_time": "2022-05-29T09:48:06.133Z"
   },
   {
    "duration": 7,
    "start_time": "2022-05-29T09:48:06.142Z"
   },
   {
    "duration": 42,
    "start_time": "2022-05-29T09:48:06.150Z"
   },
   {
    "duration": 14,
    "start_time": "2022-05-29T09:48:06.200Z"
   },
   {
    "duration": 3,
    "start_time": "2022-05-29T09:48:06.216Z"
   },
   {
    "duration": 8,
    "start_time": "2022-05-29T09:48:06.221Z"
   },
   {
    "duration": 7,
    "start_time": "2022-05-29T09:48:06.231Z"
   },
   {
    "duration": 12,
    "start_time": "2022-05-29T09:48:06.239Z"
   },
   {
    "duration": 31,
    "start_time": "2022-05-29T09:48:06.252Z"
   },
   {
    "duration": 318,
    "start_time": "2022-05-29T09:48:06.285Z"
   },
   {
    "duration": 4,
    "start_time": "2022-05-29T09:48:06.604Z"
   },
   {
    "duration": 6,
    "start_time": "2022-05-29T09:48:06.609Z"
   },
   {
    "duration": 24,
    "start_time": "2022-05-29T09:48:06.616Z"
   },
   {
    "duration": 13,
    "start_time": "2022-05-29T09:48:06.641Z"
   },
   {
    "duration": 27,
    "start_time": "2022-05-29T09:48:06.655Z"
   },
   {
    "duration": 157,
    "start_time": "2022-05-29T09:48:06.684Z"
   },
   {
    "duration": 8,
    "start_time": "2022-05-29T09:48:06.843Z"
   },
   {
    "duration": 161,
    "start_time": "2022-05-29T09:48:06.852Z"
   },
   {
    "duration": 8,
    "start_time": "2022-05-29T09:48:07.015Z"
   },
   {
    "duration": 5,
    "start_time": "2022-05-29T09:48:07.025Z"
   },
   {
    "duration": 192,
    "start_time": "2022-05-29T09:48:07.032Z"
   },
   {
    "duration": 10,
    "start_time": "2022-05-29T09:48:07.225Z"
   },
   {
    "duration": 189,
    "start_time": "2022-05-29T09:48:07.236Z"
   },
   {
    "duration": 9,
    "start_time": "2022-05-29T09:48:07.426Z"
   },
   {
    "duration": 174,
    "start_time": "2022-05-29T09:48:07.437Z"
   },
   {
    "duration": 83,
    "start_time": "2022-05-29T09:48:07.613Z"
   },
   {
    "duration": 11,
    "start_time": "2022-05-29T09:48:07.702Z"
   },
   {
    "duration": 8,
    "start_time": "2022-05-29T09:48:07.715Z"
   },
   {
    "duration": 14,
    "start_time": "2022-05-29T09:48:07.725Z"
   },
   {
    "duration": 231,
    "start_time": "2022-05-29T09:48:07.740Z"
   },
   {
    "duration": 16,
    "start_time": "2022-05-29T09:48:07.973Z"
   },
   {
    "duration": 190,
    "start_time": "2022-05-29T09:48:07.992Z"
   },
   {
    "duration": 8,
    "start_time": "2022-05-29T09:48:08.183Z"
   },
   {
    "duration": 185,
    "start_time": "2022-05-29T09:48:08.192Z"
   },
   {
    "duration": 14,
    "start_time": "2022-05-29T09:48:08.384Z"
   },
   {
    "duration": 160,
    "start_time": "2022-05-29T09:48:08.401Z"
   },
   {
    "duration": 196,
    "start_time": "2022-05-29T09:48:08.562Z"
   },
   {
    "duration": 5,
    "start_time": "2022-05-29T09:48:08.759Z"
   },
   {
    "duration": 187,
    "start_time": "2022-05-29T09:48:08.775Z"
   },
   {
    "duration": 5,
    "start_time": "2022-05-29T09:48:08.963Z"
   },
   {
    "duration": 185,
    "start_time": "2022-05-29T09:48:08.979Z"
   },
   {
    "duration": 13,
    "start_time": "2022-05-29T09:48:09.166Z"
   },
   {
    "duration": 29,
    "start_time": "2022-05-29T09:48:09.182Z"
   },
   {
    "duration": 7,
    "start_time": "2022-05-29T09:48:09.216Z"
   },
   {
    "duration": 8,
    "start_time": "2022-05-29T09:48:09.225Z"
   },
   {
    "duration": 52,
    "start_time": "2022-05-29T09:48:09.235Z"
   },
   {
    "duration": 21,
    "start_time": "2022-05-29T09:48:09.289Z"
   },
   {
    "duration": 199,
    "start_time": "2022-05-29T09:48:09.311Z"
   },
   {
    "duration": 6,
    "start_time": "2022-05-29T09:48:09.512Z"
   },
   {
    "duration": 8,
    "start_time": "2022-05-29T09:48:09.520Z"
   },
   {
    "duration": 186,
    "start_time": "2022-05-29T09:48:09.529Z"
   },
   {
    "duration": 11,
    "start_time": "2022-05-29T09:48:09.717Z"
   },
   {
    "duration": 152,
    "start_time": "2022-05-29T09:48:09.729Z"
   },
   {
    "duration": 11,
    "start_time": "2022-05-29T09:48:09.883Z"
   },
   {
    "duration": 143,
    "start_time": "2022-05-29T09:48:09.897Z"
   },
   {
    "duration": 8,
    "start_time": "2022-05-29T09:48:10.041Z"
   },
   {
    "duration": 163,
    "start_time": "2022-05-29T09:48:10.051Z"
   },
   {
    "duration": 212,
    "start_time": "2022-05-29T09:48:10.216Z"
   },
   {
    "duration": 4,
    "start_time": "2022-05-29T09:48:10.430Z"
   },
   {
    "duration": 123,
    "start_time": "2022-05-29T09:48:10.435Z"
   },
   {
    "duration": 160,
    "start_time": "2022-05-29T09:48:10.560Z"
   },
   {
    "duration": 4,
    "start_time": "2022-05-29T09:48:10.721Z"
   },
   {
    "duration": 323,
    "start_time": "2022-05-29T09:48:10.727Z"
   },
   {
    "duration": 92,
    "start_time": "2022-05-29T09:48:11.052Z"
   },
   {
    "duration": 3,
    "start_time": "2022-05-29T09:48:24.349Z"
   },
   {
    "duration": 102,
    "start_time": "2022-05-29T09:48:24.949Z"
   },
   {
    "duration": 19,
    "start_time": "2022-05-29T09:48:26.096Z"
   },
   {
    "duration": 31,
    "start_time": "2022-05-29T09:48:26.952Z"
   },
   {
    "duration": 9,
    "start_time": "2022-05-29T09:48:30.942Z"
   },
   {
    "duration": 4,
    "start_time": "2022-05-29T09:48:32.399Z"
   },
   {
    "duration": 17,
    "start_time": "2022-05-29T09:48:32.997Z"
   },
   {
    "duration": 140,
    "start_time": "2022-05-29T09:48:33.992Z"
   },
   {
    "duration": 10,
    "start_time": "2022-05-29T09:48:34.641Z"
   },
   {
    "duration": 8,
    "start_time": "2022-05-29T09:48:35.036Z"
   },
   {
    "duration": 4,
    "start_time": "2022-05-29T09:48:35.792Z"
   },
   {
    "duration": 4,
    "start_time": "2022-05-29T09:48:36.242Z"
   },
   {
    "duration": 6,
    "start_time": "2022-05-29T09:48:36.662Z"
   },
   {
    "duration": 7,
    "start_time": "2022-05-29T09:48:38.160Z"
   },
   {
    "duration": 4,
    "start_time": "2022-05-29T09:48:38.768Z"
   },
   {
    "duration": 14,
    "start_time": "2022-05-29T09:48:39.436Z"
   },
   {
    "duration": 5,
    "start_time": "2022-05-29T09:48:40.705Z"
   },
   {
    "duration": 5,
    "start_time": "2022-05-29T09:48:41.321Z"
   },
   {
    "duration": 7,
    "start_time": "2022-05-29T09:48:41.693Z"
   },
   {
    "duration": 17,
    "start_time": "2022-05-29T09:48:43.572Z"
   },
   {
    "duration": 4,
    "start_time": "2022-05-29T09:48:43.964Z"
   },
   {
    "duration": 15,
    "start_time": "2022-05-29T09:48:44.313Z"
   },
   {
    "duration": 5,
    "start_time": "2022-05-29T09:48:46.369Z"
   },
   {
    "duration": 4,
    "start_time": "2022-05-29T09:48:47.135Z"
   },
   {
    "duration": 5,
    "start_time": "2022-05-29T09:48:47.874Z"
   },
   {
    "duration": 6,
    "start_time": "2022-05-29T09:48:50.342Z"
   },
   {
    "duration": 28,
    "start_time": "2022-05-29T09:48:52.917Z"
   },
   {
    "duration": 8,
    "start_time": "2022-05-29T09:48:54.001Z"
   },
   {
    "duration": 8,
    "start_time": "2022-05-29T09:49:19.736Z"
   },
   {
    "duration": 6,
    "start_time": "2022-05-29T09:49:32.660Z"
   },
   {
    "duration": 48,
    "start_time": "2022-05-29T09:52:07.300Z"
   },
   {
    "duration": 7,
    "start_time": "2022-05-29T09:52:15.605Z"
   },
   {
    "duration": 23,
    "start_time": "2022-05-29T09:52:35.304Z"
   },
   {
    "duration": 26,
    "start_time": "2022-05-29T09:52:42.214Z"
   },
   {
    "duration": 7,
    "start_time": "2022-05-29T09:52:43.234Z"
   },
   {
    "duration": 22,
    "start_time": "2022-05-29T09:52:52.322Z"
   },
   {
    "duration": 11,
    "start_time": "2022-05-29T09:52:53.191Z"
   },
   {
    "duration": 7,
    "start_time": "2022-05-29T09:53:07.501Z"
   },
   {
    "duration": 36,
    "start_time": "2022-05-29T09:53:08.774Z"
   },
   {
    "duration": 6,
    "start_time": "2022-05-29T09:53:09.934Z"
   },
   {
    "duration": 427,
    "start_time": "2022-05-29T09:53:24.102Z"
   },
   {
    "duration": 109,
    "start_time": "2022-05-29T09:53:24.530Z"
   },
   {
    "duration": 13,
    "start_time": "2022-05-29T09:53:24.641Z"
   },
   {
    "duration": 56,
    "start_time": "2022-05-29T09:53:24.656Z"
   },
   {
    "duration": 8,
    "start_time": "2022-05-29T09:53:24.714Z"
   },
   {
    "duration": 3,
    "start_time": "2022-05-29T09:53:24.723Z"
   },
   {
    "duration": 15,
    "start_time": "2022-05-29T09:53:24.728Z"
   },
   {
    "duration": 444,
    "start_time": "2022-05-29T09:53:24.744Z"
   },
   {
    "duration": 20,
    "start_time": "2022-05-29T09:53:25.199Z"
   },
   {
    "duration": 11,
    "start_time": "2022-05-29T09:53:25.221Z"
   },
   {
    "duration": 2,
    "start_time": "2022-05-29T09:53:25.234Z"
   },
   {
    "duration": 4,
    "start_time": "2022-05-29T09:53:25.238Z"
   },
   {
    "duration": 6,
    "start_time": "2022-05-29T09:53:25.244Z"
   },
   {
    "duration": 26,
    "start_time": "2022-05-29T09:53:25.253Z"
   },
   {
    "duration": 7,
    "start_time": "2022-05-29T09:53:25.283Z"
   },
   {
    "duration": 29,
    "start_time": "2022-05-29T09:53:25.292Z"
   },
   {
    "duration": 4,
    "start_time": "2022-05-29T09:53:25.323Z"
   },
   {
    "duration": 8,
    "start_time": "2022-05-29T09:53:25.328Z"
   },
   {
    "duration": 5,
    "start_time": "2022-05-29T09:53:25.337Z"
   },
   {
    "duration": 6,
    "start_time": "2022-05-29T09:53:25.343Z"
   },
   {
    "duration": 7,
    "start_time": "2022-05-29T09:53:25.350Z"
   },
   {
    "duration": 16,
    "start_time": "2022-05-29T09:53:25.359Z"
   },
   {
    "duration": 4,
    "start_time": "2022-05-29T09:53:25.376Z"
   },
   {
    "duration": 26,
    "start_time": "2022-05-29T09:53:25.381Z"
   },
   {
    "duration": 5,
    "start_time": "2022-05-29T09:53:25.409Z"
   },
   {
    "duration": 6,
    "start_time": "2022-05-29T09:53:25.416Z"
   },
   {
    "duration": 28,
    "start_time": "2022-05-29T09:53:25.423Z"
   },
   {
    "duration": 5,
    "start_time": "2022-05-29T09:53:25.453Z"
   },
   {
    "duration": 27,
    "start_time": "2022-05-29T09:53:25.459Z"
   },
   {
    "duration": 8,
    "start_time": "2022-05-29T09:53:25.488Z"
   },
   {
    "duration": 10,
    "start_time": "2022-05-29T09:53:25.498Z"
   },
   {
    "duration": 14,
    "start_time": "2022-05-29T09:53:25.509Z"
   },
   {
    "duration": 10,
    "start_time": "2022-05-29T09:53:25.525Z"
   },
   {
    "duration": 13,
    "start_time": "2022-05-29T09:53:25.537Z"
   },
   {
    "duration": 33,
    "start_time": "2022-05-29T09:53:25.552Z"
   },
   {
    "duration": 12,
    "start_time": "2022-05-29T09:53:25.587Z"
   },
   {
    "duration": 10,
    "start_time": "2022-05-29T09:53:25.602Z"
   },
   {
    "duration": 15,
    "start_time": "2022-05-29T09:53:25.613Z"
   },
   {
    "duration": 7,
    "start_time": "2022-05-29T09:53:25.629Z"
   },
   {
    "duration": 7,
    "start_time": "2022-05-29T09:53:25.637Z"
   },
   {
    "duration": 8,
    "start_time": "2022-05-29T09:53:25.648Z"
   },
   {
    "duration": 30,
    "start_time": "2022-05-29T09:53:25.658Z"
   },
   {
    "duration": 16,
    "start_time": "2022-05-29T09:53:25.690Z"
   },
   {
    "duration": 7,
    "start_time": "2022-05-29T09:53:25.707Z"
   },
   {
    "duration": 5,
    "start_time": "2022-05-29T09:53:25.716Z"
   },
   {
    "duration": 5,
    "start_time": "2022-05-29T09:53:25.722Z"
   },
   {
    "duration": 24,
    "start_time": "2022-05-29T09:53:25.728Z"
   },
   {
    "duration": 304,
    "start_time": "2022-05-29T09:53:25.754Z"
   },
   {
    "duration": 4,
    "start_time": "2022-05-29T09:53:26.059Z"
   },
   {
    "duration": 15,
    "start_time": "2022-05-29T09:53:26.064Z"
   },
   {
    "duration": 45,
    "start_time": "2022-05-29T09:53:26.080Z"
   },
   {
    "duration": 12,
    "start_time": "2022-05-29T09:53:26.127Z"
   },
   {
    "duration": 7,
    "start_time": "2022-05-29T09:53:26.141Z"
   },
   {
    "duration": 144,
    "start_time": "2022-05-29T09:53:26.149Z"
   },
   {
    "duration": 11,
    "start_time": "2022-05-29T09:53:26.297Z"
   },
   {
    "duration": 140,
    "start_time": "2022-05-29T09:53:26.310Z"
   },
   {
    "duration": 9,
    "start_time": "2022-05-29T09:53:26.451Z"
   },
   {
    "duration": 15,
    "start_time": "2022-05-29T09:53:26.461Z"
   },
   {
    "duration": 162,
    "start_time": "2022-05-29T09:53:26.478Z"
   },
   {
    "duration": 8,
    "start_time": "2022-05-29T09:53:26.642Z"
   },
   {
    "duration": 188,
    "start_time": "2022-05-29T09:53:26.652Z"
   },
   {
    "duration": 8,
    "start_time": "2022-05-29T09:53:26.842Z"
   },
   {
    "duration": 164,
    "start_time": "2022-05-29T09:53:26.851Z"
   },
   {
    "duration": 90,
    "start_time": "2022-05-29T09:53:27.017Z"
   },
   {
    "duration": 9,
    "start_time": "2022-05-29T09:53:27.109Z"
   },
   {
    "duration": 8,
    "start_time": "2022-05-29T09:53:27.119Z"
   },
   {
    "duration": 19,
    "start_time": "2022-05-29T09:53:27.128Z"
   },
   {
    "duration": 215,
    "start_time": "2022-05-29T09:53:27.148Z"
   },
   {
    "duration": 4,
    "start_time": "2022-05-29T09:53:27.365Z"
   },
   {
    "duration": 181,
    "start_time": "2022-05-29T09:53:27.376Z"
   },
   {
    "duration": 5,
    "start_time": "2022-05-29T09:53:27.558Z"
   },
   {
    "duration": 200,
    "start_time": "2022-05-29T09:53:27.564Z"
   },
   {
    "duration": 23,
    "start_time": "2022-05-29T09:53:27.765Z"
   },
   {
    "duration": 167,
    "start_time": "2022-05-29T09:53:27.789Z"
   },
   {
    "duration": 192,
    "start_time": "2022-05-29T09:53:27.958Z"
   },
   {
    "duration": 5,
    "start_time": "2022-05-29T09:53:28.151Z"
   },
   {
    "duration": 200,
    "start_time": "2022-05-29T09:53:28.157Z"
   },
   {
    "duration": 5,
    "start_time": "2022-05-29T09:53:28.359Z"
   },
   {
    "duration": 220,
    "start_time": "2022-05-29T09:53:28.365Z"
   },
   {
    "duration": 7,
    "start_time": "2022-05-29T09:53:28.589Z"
   },
   {
    "duration": 31,
    "start_time": "2022-05-29T09:53:28.598Z"
   },
   {
    "duration": 7,
    "start_time": "2022-05-29T09:53:28.630Z"
   },
   {
    "duration": 10,
    "start_time": "2022-05-29T09:53:28.639Z"
   },
   {
    "duration": 50,
    "start_time": "2022-05-29T09:53:28.650Z"
   },
   {
    "duration": 16,
    "start_time": "2022-05-29T09:53:28.702Z"
   },
   {
    "duration": 190,
    "start_time": "2022-05-29T09:53:28.720Z"
   },
   {
    "duration": 7,
    "start_time": "2022-05-29T09:53:28.912Z"
   },
   {
    "duration": 7,
    "start_time": "2022-05-29T09:53:28.921Z"
   },
   {
    "duration": 177,
    "start_time": "2022-05-29T09:53:28.929Z"
   },
   {
    "duration": 8,
    "start_time": "2022-05-29T09:53:29.108Z"
   },
   {
    "duration": 129,
    "start_time": "2022-05-29T09:53:29.118Z"
   },
   {
    "duration": 9,
    "start_time": "2022-05-29T09:53:29.249Z"
   },
   {
    "duration": 139,
    "start_time": "2022-05-29T09:53:29.260Z"
   },
   {
    "duration": 11,
    "start_time": "2022-05-29T09:53:29.401Z"
   },
   {
    "duration": 146,
    "start_time": "2022-05-29T09:53:29.414Z"
   },
   {
    "duration": 209,
    "start_time": "2022-05-29T09:53:29.561Z"
   },
   {
    "duration": 6,
    "start_time": "2022-05-29T09:53:29.774Z"
   },
   {
    "duration": 159,
    "start_time": "2022-05-29T09:53:29.785Z"
   },
   {
    "duration": 165,
    "start_time": "2022-05-29T09:53:29.946Z"
   },
   {
    "duration": 4,
    "start_time": "2022-05-29T09:53:30.113Z"
   },
   {
    "duration": 358,
    "start_time": "2022-05-29T09:53:30.119Z"
   },
   {
    "duration": 83,
    "start_time": "2022-05-29T09:53:30.485Z"
   },
   {
    "duration": 24,
    "start_time": "2022-05-29T09:54:06.546Z"
   },
   {
    "duration": 7,
    "start_time": "2022-05-29T09:54:07.418Z"
   },
   {
    "duration": 39,
    "start_time": "2022-05-29T09:56:04.303Z"
   },
   {
    "duration": 6,
    "start_time": "2022-05-29T09:56:05.803Z"
   },
   {
    "duration": 20,
    "start_time": "2022-05-29T09:56:16.967Z"
   },
   {
    "duration": 15,
    "start_time": "2022-05-29T09:57:08.602Z"
   },
   {
    "duration": 465,
    "start_time": "2022-05-29T09:57:51.360Z"
   },
   {
    "duration": 114,
    "start_time": "2022-05-29T09:57:51.826Z"
   },
   {
    "duration": 38,
    "start_time": "2022-05-29T09:57:51.942Z"
   },
   {
    "duration": 42,
    "start_time": "2022-05-29T09:57:51.983Z"
   },
   {
    "duration": 8,
    "start_time": "2022-05-29T09:57:52.027Z"
   },
   {
    "duration": 4,
    "start_time": "2022-05-29T09:57:52.037Z"
   },
   {
    "duration": 43,
    "start_time": "2022-05-29T09:57:52.042Z"
   },
   {
    "duration": 425,
    "start_time": "2022-05-29T09:57:52.086Z"
   },
   {
    "duration": 10,
    "start_time": "2022-05-29T09:57:52.512Z"
   },
   {
    "duration": 9,
    "start_time": "2022-05-29T09:57:52.524Z"
   },
   {
    "duration": 3,
    "start_time": "2022-05-29T09:57:52.535Z"
   },
   {
    "duration": 6,
    "start_time": "2022-05-29T09:57:52.539Z"
   },
   {
    "duration": 7,
    "start_time": "2022-05-29T09:57:52.546Z"
   },
   {
    "duration": 35,
    "start_time": "2022-05-29T09:57:52.554Z"
   },
   {
    "duration": 24,
    "start_time": "2022-05-29T09:57:52.596Z"
   },
   {
    "duration": 16,
    "start_time": "2022-05-29T09:57:52.621Z"
   },
   {
    "duration": 5,
    "start_time": "2022-05-29T09:57:52.638Z"
   },
   {
    "duration": 6,
    "start_time": "2022-05-29T09:57:52.645Z"
   },
   {
    "duration": 6,
    "start_time": "2022-05-29T09:57:52.652Z"
   },
   {
    "duration": 5,
    "start_time": "2022-05-29T09:57:52.659Z"
   },
   {
    "duration": 3,
    "start_time": "2022-05-29T09:57:52.665Z"
   },
   {
    "duration": 21,
    "start_time": "2022-05-29T09:57:52.669Z"
   },
   {
    "duration": 18,
    "start_time": "2022-05-29T09:57:52.692Z"
   },
   {
    "duration": 6,
    "start_time": "2022-05-29T09:57:52.712Z"
   },
   {
    "duration": 7,
    "start_time": "2022-05-29T09:57:52.719Z"
   },
   {
    "duration": 13,
    "start_time": "2022-05-29T09:57:52.729Z"
   },
   {
    "duration": 53,
    "start_time": "2022-05-29T09:57:52.745Z"
   },
   {
    "duration": 8,
    "start_time": "2022-05-29T09:57:52.804Z"
   },
   {
    "duration": 16,
    "start_time": "2022-05-29T09:57:52.814Z"
   },
   {
    "duration": 7,
    "start_time": "2022-05-29T09:57:52.832Z"
   },
   {
    "duration": 43,
    "start_time": "2022-05-29T09:57:52.841Z"
   },
   {
    "duration": 22,
    "start_time": "2022-05-29T09:57:52.886Z"
   },
   {
    "duration": 23,
    "start_time": "2022-05-29T09:57:52.911Z"
   },
   {
    "duration": 19,
    "start_time": "2022-05-29T09:57:52.935Z"
   },
   {
    "duration": 8,
    "start_time": "2022-05-29T09:57:52.956Z"
   },
   {
    "duration": 9,
    "start_time": "2022-05-29T09:57:52.974Z"
   },
   {
    "duration": 44,
    "start_time": "2022-05-29T09:57:52.984Z"
   },
   {
    "duration": 10,
    "start_time": "2022-05-29T09:57:53.030Z"
   },
   {
    "duration": 10,
    "start_time": "2022-05-29T09:57:53.041Z"
   },
   {
    "duration": 10,
    "start_time": "2022-05-29T09:57:53.055Z"
   },
   {
    "duration": 19,
    "start_time": "2022-05-29T09:57:53.066Z"
   },
   {
    "duration": 23,
    "start_time": "2022-05-29T09:57:53.087Z"
   },
   {
    "duration": 7,
    "start_time": "2022-05-29T09:57:53.112Z"
   },
   {
    "duration": 6,
    "start_time": "2022-05-29T09:57:53.120Z"
   },
   {
    "duration": 5,
    "start_time": "2022-05-29T09:57:53.127Z"
   },
   {
    "duration": 22,
    "start_time": "2022-05-29T09:57:53.133Z"
   },
   {
    "duration": 303,
    "start_time": "2022-05-29T09:57:53.156Z"
   },
   {
    "duration": 4,
    "start_time": "2022-05-29T09:57:53.460Z"
   },
   {
    "duration": 11,
    "start_time": "2022-05-29T09:57:53.465Z"
   },
   {
    "duration": 42,
    "start_time": "2022-05-29T09:57:53.480Z"
   },
   {
    "duration": 12,
    "start_time": "2022-05-29T09:57:53.524Z"
   },
   {
    "duration": 7,
    "start_time": "2022-05-29T09:57:53.537Z"
   },
   {
    "duration": 150,
    "start_time": "2022-05-29T09:57:53.545Z"
   },
   {
    "duration": 14,
    "start_time": "2022-05-29T09:57:53.697Z"
   },
   {
    "duration": 142,
    "start_time": "2022-05-29T09:57:53.712Z"
   },
   {
    "duration": 9,
    "start_time": "2022-05-29T09:57:53.855Z"
   },
   {
    "duration": 4,
    "start_time": "2022-05-29T09:57:53.865Z"
   },
   {
    "duration": 162,
    "start_time": "2022-05-29T09:57:53.878Z"
   },
   {
    "duration": 8,
    "start_time": "2022-05-29T09:57:54.041Z"
   },
   {
    "duration": 159,
    "start_time": "2022-05-29T09:57:54.050Z"
   },
   {
    "duration": 9,
    "start_time": "2022-05-29T09:57:54.211Z"
   },
   {
    "duration": 164,
    "start_time": "2022-05-29T09:57:54.222Z"
   },
   {
    "duration": 72,
    "start_time": "2022-05-29T09:57:54.388Z"
   },
   {
    "duration": 8,
    "start_time": "2022-05-29T09:57:54.462Z"
   },
   {
    "duration": 22,
    "start_time": "2022-05-29T09:57:54.471Z"
   },
   {
    "duration": 24,
    "start_time": "2022-05-29T09:57:54.494Z"
   },
   {
    "duration": 195,
    "start_time": "2022-05-29T09:57:54.519Z"
   },
   {
    "duration": 4,
    "start_time": "2022-05-29T09:57:54.715Z"
   },
   {
    "duration": 191,
    "start_time": "2022-05-29T09:57:54.721Z"
   },
   {
    "duration": 4,
    "start_time": "2022-05-29T09:57:54.913Z"
   },
   {
    "duration": 184,
    "start_time": "2022-05-29T09:57:54.918Z"
   },
   {
    "duration": 4,
    "start_time": "2022-05-29T09:57:55.104Z"
   },
   {
    "duration": 164,
    "start_time": "2022-05-29T09:57:55.110Z"
   },
   {
    "duration": 184,
    "start_time": "2022-05-29T09:57:55.276Z"
   },
   {
    "duration": 4,
    "start_time": "2022-05-29T09:57:55.461Z"
   },
   {
    "duration": 179,
    "start_time": "2022-05-29T09:57:55.466Z"
   },
   {
    "duration": 4,
    "start_time": "2022-05-29T09:57:55.646Z"
   },
   {
    "duration": 185,
    "start_time": "2022-05-29T09:57:55.651Z"
   },
   {
    "duration": 4,
    "start_time": "2022-05-29T09:57:55.837Z"
   },
   {
    "duration": 42,
    "start_time": "2022-05-29T09:57:55.843Z"
   },
   {
    "duration": 13,
    "start_time": "2022-05-29T09:57:55.886Z"
   },
   {
    "duration": 11,
    "start_time": "2022-05-29T09:57:55.907Z"
   },
   {
    "duration": 28,
    "start_time": "2022-05-29T09:57:55.920Z"
   },
   {
    "duration": 40,
    "start_time": "2022-05-29T09:57:55.949Z"
   },
   {
    "duration": 179,
    "start_time": "2022-05-29T09:57:55.990Z"
   },
   {
    "duration": 12,
    "start_time": "2022-05-29T09:57:56.171Z"
   },
   {
    "duration": 34,
    "start_time": "2022-05-29T09:57:56.185Z"
   },
   {
    "duration": 179,
    "start_time": "2022-05-29T09:57:56.221Z"
   },
   {
    "duration": 9,
    "start_time": "2022-05-29T09:57:56.402Z"
   },
   {
    "duration": 127,
    "start_time": "2022-05-29T09:57:56.413Z"
   },
   {
    "duration": 8,
    "start_time": "2022-05-29T09:57:56.542Z"
   },
   {
    "duration": 156,
    "start_time": "2022-05-29T09:57:56.551Z"
   },
   {
    "duration": 9,
    "start_time": "2022-05-29T09:57:56.709Z"
   },
   {
    "duration": 161,
    "start_time": "2022-05-29T09:57:56.720Z"
   },
   {
    "duration": 220,
    "start_time": "2022-05-29T09:57:56.883Z"
   },
   {
    "duration": 4,
    "start_time": "2022-05-29T09:57:57.105Z"
   },
   {
    "duration": 120,
    "start_time": "2022-05-29T09:57:57.110Z"
   },
   {
    "duration": 154,
    "start_time": "2022-05-29T09:57:57.231Z"
   },
   {
    "duration": 7,
    "start_time": "2022-05-29T09:57:57.387Z"
   },
   {
    "duration": 315,
    "start_time": "2022-05-29T09:57:57.395Z"
   },
   {
    "duration": 92,
    "start_time": "2022-05-29T09:57:57.712Z"
   },
   {
    "duration": 8,
    "start_time": "2022-05-29T10:01:15.509Z"
   },
   {
    "duration": 7,
    "start_time": "2022-05-29T10:01:18.256Z"
   },
   {
    "duration": 21,
    "start_time": "2022-05-29T10:01:28.568Z"
   },
   {
    "duration": 6,
    "start_time": "2022-05-29T10:01:33.411Z"
   },
   {
    "duration": 7,
    "start_time": "2022-05-29T10:01:33.942Z"
   },
   {
    "duration": 13,
    "start_time": "2022-05-29T10:01:34.845Z"
   },
   {
    "duration": 429,
    "start_time": "2022-05-29T10:02:14.007Z"
   },
   {
    "duration": 103,
    "start_time": "2022-05-29T10:02:14.437Z"
   },
   {
    "duration": 15,
    "start_time": "2022-05-29T10:02:14.541Z"
   },
   {
    "duration": 53,
    "start_time": "2022-05-29T10:02:14.560Z"
   },
   {
    "duration": 9,
    "start_time": "2022-05-29T10:02:14.614Z"
   },
   {
    "duration": 3,
    "start_time": "2022-05-29T10:02:14.624Z"
   },
   {
    "duration": 14,
    "start_time": "2022-05-29T10:02:14.628Z"
   },
   {
    "duration": 456,
    "start_time": "2022-05-29T10:02:14.644Z"
   },
   {
    "duration": 10,
    "start_time": "2022-05-29T10:02:15.102Z"
   },
   {
    "duration": 11,
    "start_time": "2022-05-29T10:02:15.114Z"
   },
   {
    "duration": 3,
    "start_time": "2022-05-29T10:02:15.126Z"
   },
   {
    "duration": 7,
    "start_time": "2022-05-29T10:02:15.130Z"
   },
   {
    "duration": 7,
    "start_time": "2022-05-29T10:02:15.138Z"
   },
   {
    "duration": 6,
    "start_time": "2022-05-29T10:02:15.147Z"
   },
   {
    "duration": 8,
    "start_time": "2022-05-29T10:02:15.175Z"
   },
   {
    "duration": 24,
    "start_time": "2022-05-29T10:02:15.190Z"
   },
   {
    "duration": 5,
    "start_time": "2022-05-29T10:02:15.216Z"
   },
   {
    "duration": 19,
    "start_time": "2022-05-29T10:02:15.222Z"
   },
   {
    "duration": 8,
    "start_time": "2022-05-29T10:02:15.242Z"
   },
   {
    "duration": 4,
    "start_time": "2022-05-29T10:02:15.251Z"
   },
   {
    "duration": 4,
    "start_time": "2022-05-29T10:02:15.256Z"
   },
   {
    "duration": 29,
    "start_time": "2022-05-29T10:02:15.262Z"
   },
   {
    "duration": 12,
    "start_time": "2022-05-29T10:02:15.292Z"
   },
   {
    "duration": 4,
    "start_time": "2022-05-29T10:02:15.305Z"
   },
   {
    "duration": 5,
    "start_time": "2022-05-29T10:02:15.311Z"
   },
   {
    "duration": 10,
    "start_time": "2022-05-29T10:02:15.317Z"
   },
   {
    "duration": 28,
    "start_time": "2022-05-29T10:02:15.328Z"
   },
   {
    "duration": 28,
    "start_time": "2022-05-29T10:02:15.360Z"
   },
   {
    "duration": 23,
    "start_time": "2022-05-29T10:02:15.391Z"
   },
   {
    "duration": 7,
    "start_time": "2022-05-29T10:02:15.417Z"
   },
   {
    "duration": 10,
    "start_time": "2022-05-29T10:02:15.426Z"
   },
   {
    "duration": 13,
    "start_time": "2022-05-29T10:02:15.438Z"
   },
   {
    "duration": 25,
    "start_time": "2022-05-29T10:02:15.452Z"
   },
   {
    "duration": 22,
    "start_time": "2022-05-29T10:02:15.479Z"
   },
   {
    "duration": 15,
    "start_time": "2022-05-29T10:02:15.503Z"
   },
   {
    "duration": 14,
    "start_time": "2022-05-29T10:02:15.520Z"
   },
   {
    "duration": 16,
    "start_time": "2022-05-29T10:02:15.535Z"
   },
   {
    "duration": 36,
    "start_time": "2022-05-29T10:02:15.553Z"
   },
   {
    "duration": 13,
    "start_time": "2022-05-29T10:02:15.592Z"
   },
   {
    "duration": 15,
    "start_time": "2022-05-29T10:02:15.606Z"
   },
   {
    "duration": 11,
    "start_time": "2022-05-29T10:02:15.622Z"
   },
   {
    "duration": 12,
    "start_time": "2022-05-29T10:02:15.634Z"
   },
   {
    "duration": 3,
    "start_time": "2022-05-29T10:02:15.648Z"
   },
   {
    "duration": 24,
    "start_time": "2022-05-29T10:02:15.652Z"
   },
   {
    "duration": 8,
    "start_time": "2022-05-29T10:02:15.678Z"
   },
   {
    "duration": 25,
    "start_time": "2022-05-29T10:02:15.688Z"
   },
   {
    "duration": 21,
    "start_time": "2022-05-29T10:02:15.715Z"
   },
   {
    "duration": 296,
    "start_time": "2022-05-29T10:02:15.737Z"
   },
   {
    "duration": 3,
    "start_time": "2022-05-29T10:02:16.035Z"
   },
   {
    "duration": 7,
    "start_time": "2022-05-29T10:02:16.039Z"
   },
   {
    "duration": 29,
    "start_time": "2022-05-29T10:02:16.047Z"
   },
   {
    "duration": 27,
    "start_time": "2022-05-29T10:02:16.077Z"
   },
   {
    "duration": 9,
    "start_time": "2022-05-29T10:02:16.105Z"
   },
   {
    "duration": 152,
    "start_time": "2022-05-29T10:02:16.115Z"
   },
   {
    "duration": 15,
    "start_time": "2022-05-29T10:02:16.268Z"
   },
   {
    "duration": 130,
    "start_time": "2022-05-29T10:02:16.287Z"
   },
   {
    "duration": 8,
    "start_time": "2022-05-29T10:02:16.418Z"
   },
   {
    "duration": 6,
    "start_time": "2022-05-29T10:02:16.428Z"
   },
   {
    "duration": 155,
    "start_time": "2022-05-29T10:02:16.435Z"
   },
   {
    "duration": 12,
    "start_time": "2022-05-29T10:02:16.593Z"
   },
   {
    "duration": 162,
    "start_time": "2022-05-29T10:02:16.607Z"
   },
   {
    "duration": 17,
    "start_time": "2022-05-29T10:02:16.774Z"
   },
   {
    "duration": 152,
    "start_time": "2022-05-29T10:02:16.797Z"
   },
   {
    "duration": 86,
    "start_time": "2022-05-29T10:02:16.950Z"
   },
   {
    "duration": 10,
    "start_time": "2022-05-29T10:02:17.037Z"
   },
   {
    "duration": 8,
    "start_time": "2022-05-29T10:02:17.048Z"
   },
   {
    "duration": 39,
    "start_time": "2022-05-29T10:02:17.057Z"
   },
   {
    "duration": 210,
    "start_time": "2022-05-29T10:02:17.097Z"
   },
   {
    "duration": 5,
    "start_time": "2022-05-29T10:02:17.308Z"
   },
   {
    "duration": 187,
    "start_time": "2022-05-29T10:02:17.314Z"
   },
   {
    "duration": 6,
    "start_time": "2022-05-29T10:02:17.502Z"
   },
   {
    "duration": 188,
    "start_time": "2022-05-29T10:02:17.509Z"
   },
   {
    "duration": 5,
    "start_time": "2022-05-29T10:02:17.702Z"
   },
   {
    "duration": 162,
    "start_time": "2022-05-29T10:02:17.708Z"
   },
   {
    "duration": 186,
    "start_time": "2022-05-29T10:02:17.872Z"
   },
   {
    "duration": 4,
    "start_time": "2022-05-29T10:02:18.059Z"
   },
   {
    "duration": 189,
    "start_time": "2022-05-29T10:02:18.064Z"
   },
   {
    "duration": 4,
    "start_time": "2022-05-29T10:02:18.255Z"
   },
   {
    "duration": 237,
    "start_time": "2022-05-29T10:02:18.261Z"
   },
   {
    "duration": 8,
    "start_time": "2022-05-29T10:02:18.500Z"
   },
   {
    "duration": 25,
    "start_time": "2022-05-29T10:02:18.510Z"
   },
   {
    "duration": 8,
    "start_time": "2022-05-29T10:02:18.540Z"
   },
   {
    "duration": 9,
    "start_time": "2022-05-29T10:02:18.549Z"
   },
   {
    "duration": 48,
    "start_time": "2022-05-29T10:02:18.559Z"
   },
   {
    "duration": 17,
    "start_time": "2022-05-29T10:02:18.608Z"
   },
   {
    "duration": 199,
    "start_time": "2022-05-29T10:02:18.627Z"
   },
   {
    "duration": 6,
    "start_time": "2022-05-29T10:02:18.827Z"
   },
   {
    "duration": 9,
    "start_time": "2022-05-29T10:02:18.834Z"
   },
   {
    "duration": 171,
    "start_time": "2022-05-29T10:02:18.844Z"
   },
   {
    "duration": 8,
    "start_time": "2022-05-29T10:02:19.016Z"
   },
   {
    "duration": 135,
    "start_time": "2022-05-29T10:02:19.025Z"
   },
   {
    "duration": 8,
    "start_time": "2022-05-29T10:02:19.161Z"
   },
   {
    "duration": 136,
    "start_time": "2022-05-29T10:02:19.170Z"
   },
   {
    "duration": 9,
    "start_time": "2022-05-29T10:02:19.308Z"
   },
   {
    "duration": 176,
    "start_time": "2022-05-29T10:02:19.318Z"
   },
   {
    "duration": 206,
    "start_time": "2022-05-29T10:02:19.497Z"
   },
   {
    "duration": 4,
    "start_time": "2022-05-29T10:02:19.705Z"
   },
   {
    "duration": 136,
    "start_time": "2022-05-29T10:02:19.710Z"
   },
   {
    "duration": 172,
    "start_time": "2022-05-29T10:02:19.848Z"
   },
   {
    "duration": 5,
    "start_time": "2022-05-29T10:02:20.021Z"
   },
   {
    "duration": 335,
    "start_time": "2022-05-29T10:02:20.027Z"
   },
   {
    "duration": 95,
    "start_time": "2022-05-29T10:02:20.364Z"
   },
   {
    "duration": 6,
    "start_time": "2022-05-29T10:03:21.303Z"
   },
   {
    "duration": 34,
    "start_time": "2022-05-29T10:03:23.069Z"
   },
   {
    "duration": 4,
    "start_time": "2022-05-29T10:10:50.916Z"
   },
   {
    "duration": 14,
    "start_time": "2022-05-29T10:10:51.540Z"
   },
   {
    "duration": 415,
    "start_time": "2022-05-29T10:11:05.299Z"
   },
   {
    "duration": 94,
    "start_time": "2022-05-29T10:11:05.716Z"
   },
   {
    "duration": 16,
    "start_time": "2022-05-29T10:11:05.811Z"
   },
   {
    "duration": 33,
    "start_time": "2022-05-29T10:11:05.828Z"
   },
   {
    "duration": 9,
    "start_time": "2022-05-29T10:11:05.875Z"
   },
   {
    "duration": 4,
    "start_time": "2022-05-29T10:11:05.886Z"
   },
   {
    "duration": 16,
    "start_time": "2022-05-29T10:11:05.893Z"
   },
   {
    "duration": 439,
    "start_time": "2022-05-29T10:11:05.910Z"
   },
   {
    "duration": 28,
    "start_time": "2022-05-29T10:11:06.351Z"
   },
   {
    "duration": 11,
    "start_time": "2022-05-29T10:11:06.382Z"
   },
   {
    "duration": 3,
    "start_time": "2022-05-29T10:11:06.395Z"
   },
   {
    "duration": 5,
    "start_time": "2022-05-29T10:11:06.400Z"
   },
   {
    "duration": 7,
    "start_time": "2022-05-29T10:11:06.406Z"
   },
   {
    "duration": 5,
    "start_time": "2022-05-29T10:11:06.415Z"
   },
   {
    "duration": 5,
    "start_time": "2022-05-29T10:11:06.421Z"
   },
   {
    "duration": 15,
    "start_time": "2022-05-29T10:11:06.427Z"
   },
   {
    "duration": 6,
    "start_time": "2022-05-29T10:11:06.475Z"
   },
   {
    "duration": 12,
    "start_time": "2022-05-29T10:11:06.485Z"
   },
   {
    "duration": 6,
    "start_time": "2022-05-29T10:11:06.498Z"
   },
   {
    "duration": 5,
    "start_time": "2022-05-29T10:11:06.506Z"
   },
   {
    "duration": 4,
    "start_time": "2022-05-29T10:11:06.513Z"
   },
   {
    "duration": 14,
    "start_time": "2022-05-29T10:11:06.518Z"
   },
   {
    "duration": 4,
    "start_time": "2022-05-29T10:11:06.534Z"
   },
   {
    "duration": 8,
    "start_time": "2022-05-29T10:11:06.539Z"
   },
   {
    "duration": 6,
    "start_time": "2022-05-29T10:11:06.548Z"
   },
   {
    "duration": 15,
    "start_time": "2022-05-29T10:11:06.574Z"
   },
   {
    "duration": 27,
    "start_time": "2022-05-29T10:11:06.591Z"
   },
   {
    "duration": 5,
    "start_time": "2022-05-29T10:11:06.622Z"
   },
   {
    "duration": 13,
    "start_time": "2022-05-29T10:11:06.629Z"
   },
   {
    "duration": 6,
    "start_time": "2022-05-29T10:11:06.643Z"
   },
   {
    "duration": 25,
    "start_time": "2022-05-29T10:11:06.650Z"
   },
   {
    "duration": 15,
    "start_time": "2022-05-29T10:11:06.682Z"
   },
   {
    "duration": 9,
    "start_time": "2022-05-29T10:11:06.698Z"
   },
   {
    "duration": 18,
    "start_time": "2022-05-29T10:11:06.708Z"
   },
   {
    "duration": 6,
    "start_time": "2022-05-29T10:11:06.727Z"
   },
   {
    "duration": 17,
    "start_time": "2022-05-29T10:11:06.734Z"
   },
   {
    "duration": 31,
    "start_time": "2022-05-29T10:11:06.753Z"
   },
   {
    "duration": 13,
    "start_time": "2022-05-29T10:11:06.786Z"
   },
   {
    "duration": 8,
    "start_time": "2022-05-29T10:11:06.800Z"
   },
   {
    "duration": 9,
    "start_time": "2022-05-29T10:11:06.809Z"
   },
   {
    "duration": 12,
    "start_time": "2022-05-29T10:11:06.819Z"
   },
   {
    "duration": 3,
    "start_time": "2022-05-29T10:11:06.832Z"
   },
   {
    "duration": 8,
    "start_time": "2022-05-29T10:11:06.836Z"
   },
   {
    "duration": 5,
    "start_time": "2022-05-29T10:11:06.845Z"
   },
   {
    "duration": 40,
    "start_time": "2022-05-29T10:11:06.852Z"
   },
   {
    "duration": 22,
    "start_time": "2022-05-29T10:11:06.894Z"
   },
   {
    "duration": 287,
    "start_time": "2022-05-29T10:11:06.918Z"
   },
   {
    "duration": 4,
    "start_time": "2022-05-29T10:11:07.206Z"
   },
   {
    "duration": 6,
    "start_time": "2022-05-29T10:11:07.212Z"
   },
   {
    "duration": 23,
    "start_time": "2022-05-29T10:11:07.219Z"
   },
   {
    "duration": 13,
    "start_time": "2022-05-29T10:11:07.244Z"
   },
   {
    "duration": 30,
    "start_time": "2022-05-29T10:11:07.258Z"
   },
   {
    "duration": 135,
    "start_time": "2022-05-29T10:11:07.290Z"
   },
   {
    "duration": 9,
    "start_time": "2022-05-29T10:11:07.426Z"
   },
   {
    "duration": 130,
    "start_time": "2022-05-29T10:11:07.437Z"
   },
   {
    "duration": 16,
    "start_time": "2022-05-29T10:11:07.569Z"
   },
   {
    "duration": 4,
    "start_time": "2022-05-29T10:11:07.590Z"
   },
   {
    "duration": 153,
    "start_time": "2022-05-29T10:11:07.595Z"
   },
   {
    "duration": 9,
    "start_time": "2022-05-29T10:11:07.749Z"
   },
   {
    "duration": 163,
    "start_time": "2022-05-29T10:11:07.759Z"
   },
   {
    "duration": 9,
    "start_time": "2022-05-29T10:11:07.924Z"
   },
   {
    "duration": 146,
    "start_time": "2022-05-29T10:11:07.934Z"
   },
   {
    "duration": 16,
    "start_time": "2022-05-29T10:11:08.084Z"
   },
   {
    "duration": 76,
    "start_time": "2022-05-29T10:11:08.102Z"
   },
   {
    "duration": 10,
    "start_time": "2022-05-29T10:11:08.182Z"
   },
   {
    "duration": 14,
    "start_time": "2022-05-29T10:11:08.194Z"
   },
   {
    "duration": 198,
    "start_time": "2022-05-29T10:11:08.209Z"
   },
   {
    "duration": 5,
    "start_time": "2022-05-29T10:11:08.408Z"
   },
   {
    "duration": 189,
    "start_time": "2022-05-29T10:11:08.415Z"
   },
   {
    "duration": 5,
    "start_time": "2022-05-29T10:11:08.605Z"
   },
   {
    "duration": 186,
    "start_time": "2022-05-29T10:11:08.611Z"
   },
   {
    "duration": 5,
    "start_time": "2022-05-29T10:11:08.798Z"
   },
   {
    "duration": 154,
    "start_time": "2022-05-29T10:11:08.804Z"
   },
   {
    "duration": 171,
    "start_time": "2022-05-29T10:11:08.960Z"
   },
   {
    "duration": 4,
    "start_time": "2022-05-29T10:11:09.133Z"
   },
   {
    "duration": 176,
    "start_time": "2022-05-29T10:11:09.138Z"
   },
   {
    "duration": 3,
    "start_time": "2022-05-29T10:11:09.316Z"
   },
   {
    "duration": 178,
    "start_time": "2022-05-29T10:11:09.321Z"
   },
   {
    "duration": 4,
    "start_time": "2022-05-29T10:11:09.501Z"
   },
   {
    "duration": 24,
    "start_time": "2022-05-29T10:11:09.506Z"
   },
   {
    "duration": 6,
    "start_time": "2022-05-29T10:11:09.532Z"
   },
   {
    "duration": 7,
    "start_time": "2022-05-29T10:11:09.543Z"
   },
   {
    "duration": 54,
    "start_time": "2022-05-29T10:11:09.551Z"
   },
   {
    "duration": 24,
    "start_time": "2022-05-29T10:11:09.606Z"
   },
   {
    "duration": 164,
    "start_time": "2022-05-29T10:11:09.632Z"
   },
   {
    "duration": 5,
    "start_time": "2022-05-29T10:11:09.798Z"
   },
   {
    "duration": 9,
    "start_time": "2022-05-29T10:11:09.805Z"
   },
   {
    "duration": 163,
    "start_time": "2022-05-29T10:11:09.815Z"
   },
   {
    "duration": 10,
    "start_time": "2022-05-29T10:11:09.984Z"
   },
   {
    "duration": 123,
    "start_time": "2022-05-29T10:11:09.996Z"
   },
   {
    "duration": 9,
    "start_time": "2022-05-29T10:11:10.121Z"
   },
   {
    "duration": 131,
    "start_time": "2022-05-29T10:11:10.131Z"
   },
   {
    "duration": 21,
    "start_time": "2022-05-29T10:11:10.264Z"
   },
   {
    "duration": 139,
    "start_time": "2022-05-29T10:11:10.287Z"
   },
   {
    "duration": 219,
    "start_time": "2022-05-29T10:11:10.427Z"
   },
   {
    "duration": 4,
    "start_time": "2022-05-29T10:11:10.648Z"
   },
   {
    "duration": 139,
    "start_time": "2022-05-29T10:11:10.654Z"
   },
   {
    "duration": 149,
    "start_time": "2022-05-29T10:11:10.795Z"
   },
   {
    "duration": 4,
    "start_time": "2022-05-29T10:11:10.946Z"
   },
   {
    "duration": 305,
    "start_time": "2022-05-29T10:11:10.951Z"
   },
   {
    "duration": 88,
    "start_time": "2022-05-29T10:11:11.257Z"
   },
   {
    "duration": 11,
    "start_time": "2022-05-29T10:15:53.446Z"
   },
   {
    "duration": 3,
    "start_time": "2022-05-29T10:15:55.002Z"
   },
   {
    "duration": 4,
    "start_time": "2022-05-29T10:15:55.993Z"
   },
   {
    "duration": 13,
    "start_time": "2022-05-29T10:15:56.724Z"
   },
   {
    "duration": 447,
    "start_time": "2022-05-29T10:16:07.770Z"
   },
   {
    "duration": 94,
    "start_time": "2022-05-29T10:16:08.219Z"
   },
   {
    "duration": 14,
    "start_time": "2022-05-29T10:16:08.315Z"
   },
   {
    "duration": 31,
    "start_time": "2022-05-29T10:16:08.331Z"
   },
   {
    "duration": 14,
    "start_time": "2022-05-29T10:16:08.380Z"
   },
   {
    "duration": 3,
    "start_time": "2022-05-29T10:16:08.396Z"
   },
   {
    "duration": 15,
    "start_time": "2022-05-29T10:16:08.401Z"
   },
   {
    "duration": 443,
    "start_time": "2022-05-29T10:16:08.418Z"
   },
   {
    "duration": 20,
    "start_time": "2022-05-29T10:16:08.862Z"
   },
   {
    "duration": 16,
    "start_time": "2022-05-29T10:16:08.885Z"
   },
   {
    "duration": 2,
    "start_time": "2022-05-29T10:16:08.903Z"
   },
   {
    "duration": 6,
    "start_time": "2022-05-29T10:16:08.907Z"
   },
   {
    "duration": 7,
    "start_time": "2022-05-29T10:16:08.914Z"
   },
   {
    "duration": 7,
    "start_time": "2022-05-29T10:16:08.923Z"
   },
   {
    "duration": 3,
    "start_time": "2022-05-29T10:16:08.932Z"
   },
   {
    "duration": 39,
    "start_time": "2022-05-29T10:16:08.936Z"
   },
   {
    "duration": 5,
    "start_time": "2022-05-29T10:16:08.977Z"
   },
   {
    "duration": 8,
    "start_time": "2022-05-29T10:16:08.983Z"
   },
   {
    "duration": 7,
    "start_time": "2022-05-29T10:16:08.992Z"
   },
   {
    "duration": 7,
    "start_time": "2022-05-29T10:16:09.000Z"
   },
   {
    "duration": 6,
    "start_time": "2022-05-29T10:16:09.008Z"
   },
   {
    "duration": 18,
    "start_time": "2022-05-29T10:16:09.016Z"
   },
   {
    "duration": 4,
    "start_time": "2022-05-29T10:16:09.035Z"
   },
   {
    "duration": 39,
    "start_time": "2022-05-29T10:16:09.040Z"
   },
   {
    "duration": 7,
    "start_time": "2022-05-29T10:16:09.080Z"
   },
   {
    "duration": 8,
    "start_time": "2022-05-29T10:16:09.088Z"
   },
   {
    "duration": 26,
    "start_time": "2022-05-29T10:16:09.097Z"
   },
   {
    "duration": 7,
    "start_time": "2022-05-29T10:16:09.127Z"
   },
   {
    "duration": 14,
    "start_time": "2022-05-29T10:16:09.136Z"
   },
   {
    "duration": 9,
    "start_time": "2022-05-29T10:16:09.175Z"
   },
   {
    "duration": 8,
    "start_time": "2022-05-29T10:16:09.186Z"
   },
   {
    "duration": 15,
    "start_time": "2022-05-29T10:16:09.195Z"
   },
   {
    "duration": 4,
    "start_time": "2022-05-29T10:16:09.212Z"
   },
   {
    "duration": 15,
    "start_time": "2022-05-29T10:16:09.218Z"
   },
   {
    "duration": 40,
    "start_time": "2022-05-29T10:16:09.235Z"
   },
   {
    "duration": 13,
    "start_time": "2022-05-29T10:16:09.277Z"
   },
   {
    "duration": 11,
    "start_time": "2022-05-29T10:16:09.292Z"
   },
   {
    "duration": 8,
    "start_time": "2022-05-29T10:16:09.305Z"
   },
   {
    "duration": 8,
    "start_time": "2022-05-29T10:16:09.315Z"
   },
   {
    "duration": 11,
    "start_time": "2022-05-29T10:16:09.324Z"
   },
   {
    "duration": 49,
    "start_time": "2022-05-29T10:16:09.337Z"
   },
   {
    "duration": 4,
    "start_time": "2022-05-29T10:16:09.388Z"
   },
   {
    "duration": 0,
    "start_time": "2022-05-29T10:16:09.393Z"
   },
   {
    "duration": 0,
    "start_time": "2022-05-29T10:16:09.395Z"
   },
   {
    "duration": 0,
    "start_time": "2022-05-29T10:16:09.396Z"
   },
   {
    "duration": 0,
    "start_time": "2022-05-29T10:16:09.397Z"
   },
   {
    "duration": 0,
    "start_time": "2022-05-29T10:16:09.398Z"
   },
   {
    "duration": 0,
    "start_time": "2022-05-29T10:16:09.399Z"
   },
   {
    "duration": 0,
    "start_time": "2022-05-29T10:16:09.401Z"
   },
   {
    "duration": 0,
    "start_time": "2022-05-29T10:16:09.402Z"
   },
   {
    "duration": 0,
    "start_time": "2022-05-29T10:16:09.403Z"
   },
   {
    "duration": 0,
    "start_time": "2022-05-29T10:16:09.405Z"
   },
   {
    "duration": 0,
    "start_time": "2022-05-29T10:16:09.406Z"
   },
   {
    "duration": 0,
    "start_time": "2022-05-29T10:16:09.407Z"
   },
   {
    "duration": 0,
    "start_time": "2022-05-29T10:16:09.408Z"
   },
   {
    "duration": 0,
    "start_time": "2022-05-29T10:16:09.410Z"
   },
   {
    "duration": 0,
    "start_time": "2022-05-29T10:16:09.411Z"
   },
   {
    "duration": 0,
    "start_time": "2022-05-29T10:16:09.413Z"
   },
   {
    "duration": 0,
    "start_time": "2022-05-29T10:16:09.414Z"
   },
   {
    "duration": 0,
    "start_time": "2022-05-29T10:16:09.415Z"
   },
   {
    "duration": 0,
    "start_time": "2022-05-29T10:16:09.416Z"
   },
   {
    "duration": 0,
    "start_time": "2022-05-29T10:16:09.417Z"
   },
   {
    "duration": 0,
    "start_time": "2022-05-29T10:16:09.419Z"
   },
   {
    "duration": 0,
    "start_time": "2022-05-29T10:16:09.420Z"
   },
   {
    "duration": 0,
    "start_time": "2022-05-29T10:16:09.421Z"
   },
   {
    "duration": 0,
    "start_time": "2022-05-29T10:16:09.422Z"
   },
   {
    "duration": 0,
    "start_time": "2022-05-29T10:16:09.423Z"
   },
   {
    "duration": 0,
    "start_time": "2022-05-29T10:16:09.475Z"
   },
   {
    "duration": 0,
    "start_time": "2022-05-29T10:16:09.476Z"
   },
   {
    "duration": 0,
    "start_time": "2022-05-29T10:16:09.477Z"
   },
   {
    "duration": 0,
    "start_time": "2022-05-29T10:16:09.478Z"
   },
   {
    "duration": 0,
    "start_time": "2022-05-29T10:16:09.479Z"
   },
   {
    "duration": 0,
    "start_time": "2022-05-29T10:16:09.480Z"
   },
   {
    "duration": 0,
    "start_time": "2022-05-29T10:16:09.480Z"
   },
   {
    "duration": 0,
    "start_time": "2022-05-29T10:16:09.481Z"
   },
   {
    "duration": 0,
    "start_time": "2022-05-29T10:16:09.482Z"
   },
   {
    "duration": 0,
    "start_time": "2022-05-29T10:16:09.484Z"
   },
   {
    "duration": 0,
    "start_time": "2022-05-29T10:16:09.485Z"
   },
   {
    "duration": 0,
    "start_time": "2022-05-29T10:16:09.486Z"
   },
   {
    "duration": 0,
    "start_time": "2022-05-29T10:16:09.486Z"
   },
   {
    "duration": 0,
    "start_time": "2022-05-29T10:16:09.487Z"
   },
   {
    "duration": 0,
    "start_time": "2022-05-29T10:16:09.488Z"
   },
   {
    "duration": 0,
    "start_time": "2022-05-29T10:16:09.489Z"
   },
   {
    "duration": 0,
    "start_time": "2022-05-29T10:16:09.490Z"
   },
   {
    "duration": 0,
    "start_time": "2022-05-29T10:16:09.491Z"
   },
   {
    "duration": 0,
    "start_time": "2022-05-29T10:16:09.492Z"
   },
   {
    "duration": 0,
    "start_time": "2022-05-29T10:16:09.493Z"
   },
   {
    "duration": 0,
    "start_time": "2022-05-29T10:16:09.494Z"
   },
   {
    "duration": 0,
    "start_time": "2022-05-29T10:16:09.495Z"
   },
   {
    "duration": 0,
    "start_time": "2022-05-29T10:16:09.496Z"
   },
   {
    "duration": 0,
    "start_time": "2022-05-29T10:16:09.497Z"
   },
   {
    "duration": 0,
    "start_time": "2022-05-29T10:16:09.498Z"
   },
   {
    "duration": 0,
    "start_time": "2022-05-29T10:16:09.499Z"
   },
   {
    "duration": 0,
    "start_time": "2022-05-29T10:16:09.500Z"
   },
   {
    "duration": 0,
    "start_time": "2022-05-29T10:16:09.501Z"
   },
   {
    "duration": 0,
    "start_time": "2022-05-29T10:16:09.502Z"
   },
   {
    "duration": 0,
    "start_time": "2022-05-29T10:16:09.503Z"
   },
   {
    "duration": 0,
    "start_time": "2022-05-29T10:16:09.504Z"
   },
   {
    "duration": 0,
    "start_time": "2022-05-29T10:16:09.506Z"
   },
   {
    "duration": 0,
    "start_time": "2022-05-29T10:16:09.507Z"
   },
   {
    "duration": 0,
    "start_time": "2022-05-29T10:16:09.508Z"
   },
   {
    "duration": 0,
    "start_time": "2022-05-29T10:16:09.509Z"
   },
   {
    "duration": 87,
    "start_time": "2022-05-29T10:17:36.750Z"
   },
   {
    "duration": 18,
    "start_time": "2022-05-29T10:17:57.306Z"
   },
   {
    "duration": 3,
    "start_time": "2022-05-29T10:17:58.426Z"
   },
   {
    "duration": 5,
    "start_time": "2022-05-29T10:17:59.910Z"
   },
   {
    "duration": 19,
    "start_time": "2022-05-29T10:18:00.474Z"
   },
   {
    "duration": 3,
    "start_time": "2022-05-29T10:24:38.741Z"
   },
   {
    "duration": 12,
    "start_time": "2022-05-29T10:24:39.572Z"
   },
   {
    "duration": 22,
    "start_time": "2022-05-29T10:24:40.144Z"
   },
   {
    "duration": 15,
    "start_time": "2022-05-29T10:24:42.792Z"
   },
   {
    "duration": 8,
    "start_time": "2022-05-29T10:27:56.496Z"
   },
   {
    "duration": 135,
    "start_time": "2022-05-29T10:27:57.472Z"
   },
   {
    "duration": 12,
    "start_time": "2022-05-29T10:28:06.074Z"
   },
   {
    "duration": 133,
    "start_time": "2022-05-29T10:28:06.857Z"
   },
   {
    "duration": 11,
    "start_time": "2022-05-29T10:28:32.976Z"
   },
   {
    "duration": 4,
    "start_time": "2022-05-29T10:28:33.941Z"
   },
   {
    "duration": 135,
    "start_time": "2022-05-29T10:28:36.067Z"
   },
   {
    "duration": 15,
    "start_time": "2022-05-29T10:28:42.070Z"
   },
   {
    "duration": 154,
    "start_time": "2022-05-29T10:28:43.181Z"
   },
   {
    "duration": 10,
    "start_time": "2022-05-29T10:29:46.345Z"
   },
   {
    "duration": 137,
    "start_time": "2022-05-29T10:29:46.963Z"
   },
   {
    "duration": 9,
    "start_time": "2022-05-29T10:32:06.010Z"
   },
   {
    "duration": 140,
    "start_time": "2022-05-29T10:32:07.055Z"
   },
   {
    "duration": 54,
    "start_time": "2022-05-29T13:02:17.373Z"
   },
   {
    "duration": 521,
    "start_time": "2022-05-29T13:02:26.504Z"
   },
   {
    "duration": 296,
    "start_time": "2022-05-29T13:02:27.028Z"
   },
   {
    "duration": 18,
    "start_time": "2022-05-29T13:02:27.326Z"
   },
   {
    "duration": 42,
    "start_time": "2022-05-29T13:02:27.345Z"
   },
   {
    "duration": 36,
    "start_time": "2022-05-29T13:02:27.391Z"
   },
   {
    "duration": 5,
    "start_time": "2022-05-29T13:02:27.428Z"
   },
   {
    "duration": 17,
    "start_time": "2022-05-29T13:02:27.435Z"
   },
   {
    "duration": 607,
    "start_time": "2022-05-29T13:02:27.454Z"
   },
   {
    "duration": 10,
    "start_time": "2022-05-29T13:02:28.062Z"
   },
   {
    "duration": 12,
    "start_time": "2022-05-29T13:02:28.074Z"
   },
   {
    "duration": 4,
    "start_time": "2022-05-29T13:02:28.087Z"
   },
   {
    "duration": 7,
    "start_time": "2022-05-29T13:02:28.092Z"
   },
   {
    "duration": 24,
    "start_time": "2022-05-29T13:02:28.100Z"
   },
   {
    "duration": 12,
    "start_time": "2022-05-29T13:02:28.127Z"
   },
   {
    "duration": 11,
    "start_time": "2022-05-29T13:02:28.140Z"
   },
   {
    "duration": 20,
    "start_time": "2022-05-29T13:02:28.152Z"
   },
   {
    "duration": 5,
    "start_time": "2022-05-29T13:02:28.174Z"
   },
   {
    "duration": 19,
    "start_time": "2022-05-29T13:02:28.180Z"
   },
   {
    "duration": 14,
    "start_time": "2022-05-29T13:02:28.201Z"
   },
   {
    "duration": 19,
    "start_time": "2022-05-29T13:02:28.217Z"
   },
   {
    "duration": 22,
    "start_time": "2022-05-29T13:02:28.237Z"
   },
   {
    "duration": 31,
    "start_time": "2022-05-29T13:02:28.261Z"
   },
   {
    "duration": 7,
    "start_time": "2022-05-29T13:02:28.294Z"
   },
   {
    "duration": 31,
    "start_time": "2022-05-29T13:02:28.303Z"
   },
   {
    "duration": 23,
    "start_time": "2022-05-29T13:02:28.335Z"
   },
   {
    "duration": 18,
    "start_time": "2022-05-29T13:02:28.360Z"
   },
   {
    "duration": 33,
    "start_time": "2022-05-29T13:02:28.379Z"
   },
   {
    "duration": 6,
    "start_time": "2022-05-29T13:02:28.413Z"
   },
   {
    "duration": 22,
    "start_time": "2022-05-29T13:02:28.420Z"
   },
   {
    "duration": 8,
    "start_time": "2022-05-29T13:02:28.444Z"
   },
   {
    "duration": 17,
    "start_time": "2022-05-29T13:02:28.453Z"
   },
   {
    "duration": 20,
    "start_time": "2022-05-29T13:02:28.471Z"
   },
   {
    "duration": 3,
    "start_time": "2022-05-29T13:02:28.493Z"
   },
   {
    "duration": 22,
    "start_time": "2022-05-29T13:02:28.497Z"
   },
   {
    "duration": 5,
    "start_time": "2022-05-29T13:02:28.521Z"
   },
   {
    "duration": 25,
    "start_time": "2022-05-29T13:02:28.527Z"
   },
   {
    "duration": 15,
    "start_time": "2022-05-29T13:02:28.553Z"
   },
   {
    "duration": 7,
    "start_time": "2022-05-29T13:02:28.570Z"
   },
   {
    "duration": 24,
    "start_time": "2022-05-29T13:02:28.578Z"
   },
   {
    "duration": 12,
    "start_time": "2022-05-29T13:02:28.604Z"
   },
   {
    "duration": 12,
    "start_time": "2022-05-29T13:02:28.621Z"
   },
   {
    "duration": 11,
    "start_time": "2022-05-29T13:02:28.635Z"
   },
   {
    "duration": 23,
    "start_time": "2022-05-29T13:02:28.648Z"
   },
   {
    "duration": 31,
    "start_time": "2022-05-29T13:02:28.672Z"
   },
   {
    "duration": 15,
    "start_time": "2022-05-29T13:02:28.705Z"
   },
   {
    "duration": 24,
    "start_time": "2022-05-29T13:02:28.722Z"
   },
   {
    "duration": 296,
    "start_time": "2022-05-29T13:02:28.748Z"
   },
   {
    "duration": 3,
    "start_time": "2022-05-29T13:02:29.046Z"
   },
   {
    "duration": 22,
    "start_time": "2022-05-29T13:02:29.050Z"
   },
   {
    "duration": 32,
    "start_time": "2022-05-29T13:02:29.073Z"
   },
   {
    "duration": 21,
    "start_time": "2022-05-29T13:02:29.106Z"
   },
   {
    "duration": 7,
    "start_time": "2022-05-29T13:02:29.129Z"
   },
   {
    "duration": 139,
    "start_time": "2022-05-29T13:02:29.137Z"
   },
   {
    "duration": 9,
    "start_time": "2022-05-29T13:02:29.278Z"
   },
   {
    "duration": 137,
    "start_time": "2022-05-29T13:02:29.289Z"
   },
   {
    "duration": 8,
    "start_time": "2022-05-29T13:02:29.427Z"
   },
   {
    "duration": 17,
    "start_time": "2022-05-29T13:02:29.436Z"
   },
   {
    "duration": 144,
    "start_time": "2022-05-29T13:02:29.454Z"
   },
   {
    "duration": 8,
    "start_time": "2022-05-29T13:02:29.599Z"
   },
   {
    "duration": 166,
    "start_time": "2022-05-29T13:02:29.609Z"
   },
   {
    "duration": 8,
    "start_time": "2022-05-29T13:02:29.777Z"
   },
   {
    "duration": 193,
    "start_time": "2022-05-29T13:02:29.786Z"
   },
   {
    "duration": 16,
    "start_time": "2022-05-29T13:02:29.981Z"
   },
   {
    "duration": 48,
    "start_time": "2022-05-29T13:02:30.004Z"
   },
   {
    "duration": 19,
    "start_time": "2022-05-29T13:02:30.054Z"
   },
   {
    "duration": 38,
    "start_time": "2022-05-29T13:02:30.074Z"
   },
   {
    "duration": 189,
    "start_time": "2022-05-29T13:02:30.114Z"
   },
   {
    "duration": 4,
    "start_time": "2022-05-29T13:02:30.305Z"
   },
   {
    "duration": 171,
    "start_time": "2022-05-29T13:02:30.310Z"
   },
   {
    "duration": 4,
    "start_time": "2022-05-29T13:02:30.483Z"
   },
   {
    "duration": 197,
    "start_time": "2022-05-29T13:02:30.489Z"
   },
   {
    "duration": 5,
    "start_time": "2022-05-29T13:02:30.688Z"
   },
   {
    "duration": 168,
    "start_time": "2022-05-29T13:02:30.694Z"
   },
   {
    "duration": 187,
    "start_time": "2022-05-29T13:02:30.864Z"
   },
   {
    "duration": 5,
    "start_time": "2022-05-29T13:02:31.053Z"
   },
   {
    "duration": 182,
    "start_time": "2022-05-29T13:02:31.059Z"
   },
   {
    "duration": 4,
    "start_time": "2022-05-29T13:02:31.242Z"
   },
   {
    "duration": 180,
    "start_time": "2022-05-29T13:02:31.248Z"
   },
   {
    "duration": 5,
    "start_time": "2022-05-29T13:02:31.430Z"
   },
   {
    "duration": 56,
    "start_time": "2022-05-29T13:02:31.436Z"
   },
   {
    "duration": 9,
    "start_time": "2022-05-29T13:02:31.493Z"
   },
   {
    "duration": 18,
    "start_time": "2022-05-29T13:02:31.504Z"
   },
   {
    "duration": 52,
    "start_time": "2022-05-29T13:02:31.524Z"
   },
   {
    "duration": 17,
    "start_time": "2022-05-29T13:02:31.578Z"
   },
   {
    "duration": 177,
    "start_time": "2022-05-29T13:02:31.597Z"
   },
   {
    "duration": 7,
    "start_time": "2022-05-29T13:02:31.776Z"
   },
   {
    "duration": 23,
    "start_time": "2022-05-29T13:02:31.784Z"
   },
   {
    "duration": 164,
    "start_time": "2022-05-29T13:02:31.809Z"
   },
   {
    "duration": 9,
    "start_time": "2022-05-29T13:02:31.975Z"
   },
   {
    "duration": 141,
    "start_time": "2022-05-29T13:02:31.985Z"
   },
   {
    "duration": 9,
    "start_time": "2022-05-29T13:02:32.127Z"
   },
   {
    "duration": 131,
    "start_time": "2022-05-29T13:02:32.137Z"
   },
   {
    "duration": 10,
    "start_time": "2022-05-29T13:02:32.270Z"
   },
   {
    "duration": 223,
    "start_time": "2022-05-29T13:02:32.281Z"
   },
   {
    "duration": 165,
    "start_time": "2022-05-29T13:02:32.506Z"
   },
   {
    "duration": 5,
    "start_time": "2022-05-29T13:02:32.673Z"
   },
   {
    "duration": 132,
    "start_time": "2022-05-29T13:02:32.679Z"
   },
   {
    "duration": 150,
    "start_time": "2022-05-29T13:02:32.813Z"
   },
   {
    "duration": 4,
    "start_time": "2022-05-29T13:02:32.965Z"
   },
   {
    "duration": 564,
    "start_time": "2022-05-29T13:02:32.970Z"
   },
   {
    "duration": 115,
    "start_time": "2022-05-29T13:02:33.536Z"
   },
   {
    "duration": 148,
    "start_time": "2022-05-29T13:18:56.761Z"
   },
   {
    "duration": 157,
    "start_time": "2022-05-29T13:19:20.272Z"
   },
   {
    "duration": 633,
    "start_time": "2022-05-29T13:20:17.681Z"
   },
   {
    "duration": 422,
    "start_time": "2022-05-29T13:42:05.683Z"
   },
   {
    "duration": 95,
    "start_time": "2022-05-29T13:42:06.107Z"
   },
   {
    "duration": 15,
    "start_time": "2022-05-29T13:42:06.203Z"
   },
   {
    "duration": 38,
    "start_time": "2022-05-29T13:42:06.220Z"
   },
   {
    "duration": 9,
    "start_time": "2022-05-29T13:42:06.259Z"
   },
   {
    "duration": 4,
    "start_time": "2022-05-29T13:42:06.270Z"
   },
   {
    "duration": 49,
    "start_time": "2022-05-29T13:42:06.276Z"
   },
   {
    "duration": 449,
    "start_time": "2022-05-29T13:42:06.327Z"
   },
   {
    "duration": 10,
    "start_time": "2022-05-29T13:42:06.778Z"
   },
   {
    "duration": 11,
    "start_time": "2022-05-29T13:42:06.791Z"
   },
   {
    "duration": 20,
    "start_time": "2022-05-29T13:42:06.804Z"
   },
   {
    "duration": 8,
    "start_time": "2022-05-29T13:42:06.826Z"
   },
   {
    "duration": 10,
    "start_time": "2022-05-29T13:42:06.836Z"
   },
   {
    "duration": 10,
    "start_time": "2022-05-29T13:42:06.847Z"
   },
   {
    "duration": 5,
    "start_time": "2022-05-29T13:42:06.859Z"
   },
   {
    "duration": 22,
    "start_time": "2022-05-29T13:42:06.865Z"
   },
   {
    "duration": 5,
    "start_time": "2022-05-29T13:42:06.889Z"
   },
   {
    "duration": 33,
    "start_time": "2022-05-29T13:42:06.896Z"
   },
   {
    "duration": 7,
    "start_time": "2022-05-29T13:42:06.931Z"
   },
   {
    "duration": 5,
    "start_time": "2022-05-29T13:42:06.940Z"
   },
   {
    "duration": 5,
    "start_time": "2022-05-29T13:42:06.946Z"
   },
   {
    "duration": 15,
    "start_time": "2022-05-29T13:42:06.953Z"
   },
   {
    "duration": 4,
    "start_time": "2022-05-29T13:42:06.970Z"
   },
   {
    "duration": 8,
    "start_time": "2022-05-29T13:42:06.975Z"
   },
   {
    "duration": 41,
    "start_time": "2022-05-29T13:42:06.984Z"
   },
   {
    "duration": 8,
    "start_time": "2022-05-29T13:42:07.027Z"
   },
   {
    "duration": 36,
    "start_time": "2022-05-29T13:42:07.037Z"
   },
   {
    "duration": 7,
    "start_time": "2022-05-29T13:42:07.076Z"
   },
   {
    "duration": 46,
    "start_time": "2022-05-29T13:42:07.085Z"
   },
   {
    "duration": 7,
    "start_time": "2022-05-29T13:42:07.133Z"
   },
   {
    "duration": 11,
    "start_time": "2022-05-29T13:42:07.141Z"
   },
   {
    "duration": 16,
    "start_time": "2022-05-29T13:42:07.154Z"
   },
   {
    "duration": 4,
    "start_time": "2022-05-29T13:42:07.172Z"
   },
   {
    "duration": 22,
    "start_time": "2022-05-29T13:42:07.177Z"
   },
   {
    "duration": 7,
    "start_time": "2022-05-29T13:42:07.222Z"
   },
   {
    "duration": 16,
    "start_time": "2022-05-29T13:42:07.231Z"
   },
   {
    "duration": 14,
    "start_time": "2022-05-29T13:42:07.249Z"
   },
   {
    "duration": 13,
    "start_time": "2022-05-29T13:42:07.265Z"
   },
   {
    "duration": 9,
    "start_time": "2022-05-29T13:42:07.280Z"
   },
   {
    "duration": 44,
    "start_time": "2022-05-29T13:42:07.291Z"
   },
   {
    "duration": 22,
    "start_time": "2022-05-29T13:42:07.337Z"
   },
   {
    "duration": 4,
    "start_time": "2022-05-29T13:42:07.361Z"
   },
   {
    "duration": 11,
    "start_time": "2022-05-29T13:42:07.368Z"
   },
   {
    "duration": 6,
    "start_time": "2022-05-29T13:42:07.381Z"
   },
   {
    "duration": 6,
    "start_time": "2022-05-29T13:42:08.856Z"
   },
   {
    "duration": 26,
    "start_time": "2022-05-29T13:42:08.864Z"
   },
   {
    "duration": 314,
    "start_time": "2022-05-29T13:42:08.896Z"
   },
   {
    "duration": 12,
    "start_time": "2022-05-29T13:42:09.213Z"
   },
   {
    "duration": 9,
    "start_time": "2022-05-29T13:42:09.228Z"
   },
   {
    "duration": 38,
    "start_time": "2022-05-29T13:42:09.239Z"
   },
   {
    "duration": 29,
    "start_time": "2022-05-29T13:42:09.279Z"
   },
   {
    "duration": 9,
    "start_time": "2022-05-29T13:42:09.310Z"
   },
   {
    "duration": 139,
    "start_time": "2022-05-29T13:42:09.320Z"
   },
   {
    "duration": 11,
    "start_time": "2022-05-29T13:42:09.461Z"
   },
   {
    "duration": 135,
    "start_time": "2022-05-29T13:42:09.473Z"
   },
   {
    "duration": 18,
    "start_time": "2022-05-29T13:42:09.611Z"
   },
   {
    "duration": 5,
    "start_time": "2022-05-29T13:42:09.630Z"
   },
   {
    "duration": 157,
    "start_time": "2022-05-29T13:42:09.636Z"
   },
   {
    "duration": 9,
    "start_time": "2022-05-29T13:42:09.795Z"
   },
   {
    "duration": 157,
    "start_time": "2022-05-29T13:42:09.805Z"
   },
   {
    "duration": 11,
    "start_time": "2022-05-29T13:42:09.964Z"
   },
   {
    "duration": 140,
    "start_time": "2022-05-29T13:42:12.000Z"
   },
   {
    "duration": 85,
    "start_time": "2022-05-29T13:42:12.142Z"
   },
   {
    "duration": 13,
    "start_time": "2022-05-29T13:42:12.229Z"
   },
   {
    "duration": 9,
    "start_time": "2022-05-29T13:42:12.243Z"
   },
   {
    "duration": 15,
    "start_time": "2022-05-29T13:42:12.254Z"
   },
   {
    "duration": 221,
    "start_time": "2022-05-29T13:42:12.271Z"
   },
   {
    "duration": 5,
    "start_time": "2022-05-29T13:42:12.494Z"
   },
   {
    "duration": 236,
    "start_time": "2022-05-29T13:42:12.500Z"
   },
   {
    "duration": 5,
    "start_time": "2022-05-29T13:42:12.739Z"
   },
   {
    "duration": 204,
    "start_time": "2022-05-29T13:42:12.746Z"
   },
   {
    "duration": 4,
    "start_time": "2022-05-29T13:42:12.951Z"
   },
   {
    "duration": 167,
    "start_time": "2022-05-29T13:42:12.957Z"
   },
   {
    "duration": 178,
    "start_time": "2022-05-29T13:42:13.126Z"
   },
   {
    "duration": 4,
    "start_time": "2022-05-29T13:42:13.307Z"
   },
   {
    "duration": 175,
    "start_time": "2022-05-29T13:42:13.313Z"
   },
   {
    "duration": 5,
    "start_time": "2022-05-29T13:42:13.490Z"
   },
   {
    "duration": 187,
    "start_time": "2022-05-29T13:42:13.496Z"
   },
   {
    "duration": 5,
    "start_time": "2022-05-29T13:42:13.685Z"
   },
   {
    "duration": 38,
    "start_time": "2022-05-29T13:42:13.691Z"
   },
   {
    "duration": 8,
    "start_time": "2022-05-29T13:42:13.730Z"
   },
   {
    "duration": 9,
    "start_time": "2022-05-29T13:42:13.740Z"
   },
   {
    "duration": 28,
    "start_time": "2022-05-29T13:42:13.751Z"
   },
   {
    "duration": 16,
    "start_time": "2022-05-29T13:42:13.780Z"
   },
   {
    "duration": 169,
    "start_time": "2022-05-29T13:42:13.822Z"
   },
   {
    "duration": 9,
    "start_time": "2022-05-29T13:42:13.993Z"
   },
   {
    "duration": 23,
    "start_time": "2022-05-29T13:42:14.003Z"
   },
   {
    "duration": 150,
    "start_time": "2022-05-29T13:42:14.027Z"
   },
   {
    "duration": 9,
    "start_time": "2022-05-29T13:42:14.179Z"
   },
   {
    "duration": 135,
    "start_time": "2022-05-29T13:42:14.190Z"
   },
   {
    "duration": 8,
    "start_time": "2022-05-29T13:42:14.326Z"
   },
   {
    "duration": 127,
    "start_time": "2022-05-29T13:42:14.336Z"
   },
   {
    "duration": 8,
    "start_time": "2022-05-29T13:42:14.464Z"
   },
   {
    "duration": 150,
    "start_time": "2022-05-29T13:42:14.474Z"
   },
   {
    "duration": 206,
    "start_time": "2022-05-29T13:42:14.626Z"
   },
   {
    "duration": 5,
    "start_time": "2022-05-29T13:42:14.834Z"
   },
   {
    "duration": 126,
    "start_time": "2022-05-29T13:42:14.840Z"
   },
   {
    "duration": 153,
    "start_time": "2022-05-29T13:42:14.968Z"
   },
   {
    "duration": 5,
    "start_time": "2022-05-29T13:42:15.123Z"
   },
   {
    "duration": 312,
    "start_time": "2022-05-29T13:42:15.130Z"
   },
   {
    "duration": 93,
    "start_time": "2022-05-29T13:42:15.443Z"
   },
   {
    "duration": 179,
    "start_time": "2022-05-29T13:45:05.151Z"
   },
   {
    "duration": 5,
    "start_time": "2022-05-29T13:45:13.047Z"
   },
   {
    "duration": 176,
    "start_time": "2022-05-29T13:51:51.133Z"
   },
   {
    "duration": 191,
    "start_time": "2022-05-29T13:52:09.920Z"
   },
   {
    "duration": 5,
    "start_time": "2022-05-29T13:52:19.627Z"
   },
   {
    "duration": 197,
    "start_time": "2022-05-29T13:55:58.527Z"
   },
   {
    "duration": 4,
    "start_time": "2022-05-29T14:01:28.988Z"
   },
   {
    "duration": 29,
    "start_time": "2022-05-29T14:06:27.276Z"
   },
   {
    "duration": 43098,
    "start_time": "2022-05-29T14:07:50.690Z"
   },
   {
    "duration": 8143,
    "start_time": "2022-05-29T14:10:32.071Z"
   },
   {
    "duration": 58,
    "start_time": "2022-05-29T14:11:22.678Z"
   },
   {
    "duration": 337,
    "start_time": "2022-05-29T14:11:35.141Z"
   },
   {
    "duration": 385,
    "start_time": "2022-05-29T14:12:29.876Z"
   },
   {
    "duration": 168,
    "start_time": "2022-05-29T14:12:31.309Z"
   },
   {
    "duration": 5,
    "start_time": "2022-05-29T14:12:36.041Z"
   },
   {
    "duration": 256,
    "start_time": "2022-05-29T14:14:38.284Z"
   },
   {
    "duration": 5,
    "start_time": "2022-05-29T14:15:48.181Z"
   },
   {
    "duration": 163,
    "start_time": "2022-05-29T14:15:50.713Z"
   },
   {
    "duration": 378,
    "start_time": "2022-05-29T14:20:15.812Z"
   },
   {
    "duration": 474,
    "start_time": "2022-05-29T14:22:11.362Z"
   },
   {
    "duration": 320,
    "start_time": "2022-05-29T14:23:15.230Z"
   },
   {
    "duration": 57,
    "start_time": "2022-05-29T14:25:03.370Z"
   },
   {
    "duration": 24,
    "start_time": "2022-05-29T14:27:50.285Z"
   },
   {
    "duration": 9,
    "start_time": "2022-05-29T14:27:53.370Z"
   },
   {
    "duration": 9,
    "start_time": "2022-05-29T14:33:03.060Z"
   },
   {
    "duration": 136,
    "start_time": "2022-05-29T14:41:35.104Z"
   },
   {
    "duration": 117,
    "start_time": "2022-05-29T14:43:41.714Z"
   },
   {
    "duration": 146,
    "start_time": "2022-05-29T14:43:45.977Z"
   },
   {
    "duration": 8,
    "start_time": "2022-05-29T14:46:15.671Z"
   },
   {
    "duration": 130,
    "start_time": "2022-05-29T14:46:18.343Z"
   },
   {
    "duration": 273,
    "start_time": "2022-05-29T14:50:57.908Z"
   },
   {
    "duration": 166,
    "start_time": "2022-05-29T14:53:43.139Z"
   },
   {
    "duration": 304,
    "start_time": "2022-05-29T14:55:55.238Z"
   },
   {
    "duration": 189,
    "start_time": "2022-05-29T14:57:50.540Z"
   },
   {
    "duration": 18,
    "start_time": "2022-05-29T14:57:58.948Z"
   },
   {
    "duration": 2,
    "start_time": "2022-05-29T15:00:21.595Z"
   }
  ],
  "kernelspec": {
   "display_name": "Python 3 (ipykernel)",
   "language": "python",
   "name": "python3"
  },
  "language_info": {
   "codemirror_mode": {
    "name": "ipython",
    "version": 3
   },
   "file_extension": ".py",
   "mimetype": "text/x-python",
   "name": "python",
   "nbconvert_exporter": "python",
   "pygments_lexer": "ipython3",
   "version": "3.9.7"
  },
  "toc": {
   "base_numbering": 1,
   "nav_menu": {},
   "number_sections": true,
   "sideBar": true,
   "skip_h1_title": true,
   "title_cell": "Содержание",
   "title_sidebar": "Contents",
   "toc_cell": true,
   "toc_position": {
    "height": "calc(100% - 180px)",
    "left": "10px",
    "top": "150px",
    "width": "289.6px"
   },
   "toc_section_display": true,
   "toc_window_display": true
  }
 },
 "nbformat": 4,
 "nbformat_minor": 4
}
