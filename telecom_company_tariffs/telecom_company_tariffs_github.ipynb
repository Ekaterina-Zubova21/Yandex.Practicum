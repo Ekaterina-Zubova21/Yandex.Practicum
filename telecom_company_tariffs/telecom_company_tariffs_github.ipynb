{
 "cells": [
  {
   "cell_type": "markdown",
   "metadata": {
    "toc": true
   },
   "source": [
    "<h1>Содержание<span class=\"tocSkip\"></span></h1>\n",
    "<div class=\"toc\"><ul class=\"toc-item\"><li><span><a href=\"#Описание-проекта\" data-toc-modified-id=\"Описание-проекта-1\"><span class=\"toc-item-num\">1&nbsp;&nbsp;</span>Описание проекта</a></span></li><li><span><a href=\"#Знакомство-с-данными\" data-toc-modified-id=\"Знакомство-с-данными-2\"><span class=\"toc-item-num\">2&nbsp;&nbsp;</span>Знакомство с данными</a></span></li><li><span><a href=\"#Предобработка-данных\" data-toc-modified-id=\"Предобработка-данных-3\"><span class=\"toc-item-num\">3&nbsp;&nbsp;</span>Предобработка данных</a></span></li><li><span><a href=\"#Анализ-поведения-абонентов-разных-тарифов\" data-toc-modified-id=\"Анализ-поведения-абонентов-разных-тарифов-4\"><span class=\"toc-item-num\">4&nbsp;&nbsp;</span>Анализ поведения абонентов разных тарифов</a></span></li><li><span><a href=\"#Проверка-гипотез\" data-toc-modified-id=\"Проверка-гипотез-5\"><span class=\"toc-item-num\">5&nbsp;&nbsp;</span>Проверка гипотез</a></span></li></ul></div>"
   ]
  },
  {
   "cell_type": "markdown",
   "metadata": {},
   "source": [
    "# Определение перспективного тарифа для телеком-компании #"
   ]
  },
  {
   "cell_type": "markdown",
   "metadata": {},
   "source": [
    "## Описание проекта\n",
    "Компания «Мегалайн» — федеральный оператор сотовой связи. Клиентам предлагают два тарифных плана: «Смарт» и «Ультра». Чтобы скорректировать рекламный бюджет, коммерческий департамент хочет понять, какой тариф приносит больше денег.\n",
    "Необходимо сделать предварительный анализ тарифов на выборке из 500 клиентов компании. Нужно проанализировать поведение клиентов и сделать вывод — какой тариф лучше.\n",
    "\n",
    "Описание тарифов\n",
    "\n",
    "\n",
    "Тариф **«Смарт»**:\n",
    "1.\tЕжемесячная плата: 550 рублей\n",
    "2.\tВключено 500 минут разговора, 50 сообщений и 15 Гб интернет-трафика\n",
    "3.\tСтоимость услуг сверх тарифного пакета:\n",
    "*\tминута разговора: 3 рубля\n",
    "*\tсообщение: 3 рубля\n",
    "*\t1 Гб интернет-трафика: 200 рублей\n",
    "\n",
    "Тариф **«Ультра»**:\n",
    "1.\tЕжемесячная плата: 1950 рублей\n",
    "2.\tВключено 3000 минут разговора, 1000 сообщений и 30 Гб интернет-трафика\n",
    "3.\tСтоимость услуг сверх тарифного пакета:\n",
    "*\tминута разговора: 1 рубль\n",
    "*\tсообщение: 1 рубль\n",
    "*\t1 Гб интернет-трафика: 150 рублей\n",
    "\n",
    "Описание данных:\n",
    "\n",
    "Таблица **users** (информация о пользователях):\n",
    "* user_id — уникальный идентификатор пользователя\n",
    "* first_name — имя пользователя\n",
    "* last_name — фамилия пользователя\n",
    "* age — возраст пользователя (годы)\n",
    "* reg_date — дата подключения тарифа (день, месяц, год)\n",
    "* churn_date — дата прекращения пользования тарифом (если значение пропущено, то тариф ещё действовал на момент выгрузки данных)\n",
    "* city — город проживания пользователя\n",
    "* tariff — название тарифного плана\n",
    "\n",
    "\n",
    "Таблица **calls** (информация о звонках):\n",
    "* id — уникальный номер звонка\n",
    "* call_date — дата звонка\n",
    "* duration — длительность звонка в минутах\n",
    "* user_id — идентификатор пользователя, сделавшего звонок\n",
    "\n",
    "\n",
    "Таблица **messages** (информация о сообщениях):\n",
    "* id — уникальный номер сообщения\n",
    "* message_date — дата сообщения\n",
    "* user_id — идентификатор пользователя, отправившего сообщение\n",
    "\n",
    "\n",
    "Таблица **internet** (информация об интернет-сессиях):\n",
    "* id — уникальный номер сессии\n",
    "* mb_used — объём потраченного за сессию интернет-трафика (в мегабайтах)\n",
    "* session_date — дата интернет-сессии\n",
    "* user_id — идентификатор пользователя\n",
    "\n",
    "\n",
    "Таблица **tariffs** (информация о тарифах):\n",
    "* tariff_name — название тарифа\n",
    "* rub_monthly_fee — ежемесячная абонентская плата в рублях\n",
    "* minutes_included — количество минут разговора в месяц, включённых в абонентскую плату\n",
    "* messages_included — количество сообщений в месяц, включённых в абонентскую плату\n",
    "* mb_per_month_included — объём интернет-трафика, включённого в абонентскую плату (в мегабайтах)\n",
    "* rub_per_minute — стоимость минуты разговора сверх тарифного пакета (например, если в тарифе 100 минут разговора в месяц, то со 101 минуты будет взиматься плата)\n",
    "* rub_per_message — стоимость отправки сообщения сверх тарифного пакета\n",
    "* rub_per_gb — стоимость дополнительного гигабайта интернет-трафика сверх тарифного пакета (1 гигабайт = 1024 мегабайта)"
   ]
  },
  {
   "cell_type": "markdown",
   "metadata": {},
   "source": [
    "## Знакомство с данными"
   ]
  },
  {
   "cell_type": "code",
   "execution_count": 1,
   "metadata": {},
   "outputs": [],
   "source": [
    "import pandas as pd\n",
    "import numpy as np\n",
    "import scipy\n",
    "from scipy import stats as st\n",
    "import matplotlib.pyplot as plt\n",
    "import matplotlib"
   ]
  },
  {
   "cell_type": "markdown",
   "metadata": {},
   "source": [
    "Сначала ознакомимся со всеми 5 таблицами. Проанализируем их содержимое и наличие пропусков, ошибок и дубликатов."
   ]
  },
  {
   "cell_type": "code",
   "execution_count": 2,
   "metadata": {},
   "outputs": [],
   "source": [
    "try: \n",
    "    calls = pd.read_csv('datasets/calls.csv')\n",
    "except FileNotFoundError:\n",
    "    calls = pd.read_csv('/datasets/calls.csv') "
   ]
  },
  {
   "cell_type": "code",
   "execution_count": 3,
   "metadata": {},
   "outputs": [
    {
     "name": "stdout",
     "output_type": "stream",
     "text": [
      "<class 'pandas.core.frame.DataFrame'>\n",
      "RangeIndex: 202607 entries, 0 to 202606\n",
      "Data columns (total 4 columns):\n",
      " #   Column     Non-Null Count   Dtype  \n",
      "---  ------     --------------   -----  \n",
      " 0   id         202607 non-null  object \n",
      " 1   call_date  202607 non-null  object \n",
      " 2   duration   202607 non-null  float64\n",
      " 3   user_id    202607 non-null  int64  \n",
      "dtypes: float64(1), int64(1), object(2)\n",
      "memory usage: 6.2+ MB\n"
     ]
    }
   ],
   "source": [
    "calls.info()"
   ]
  },
  {
   "cell_type": "code",
   "execution_count": 4,
   "metadata": {},
   "outputs": [
    {
     "data": {
      "text/html": [
       "<div>\n",
       "<style scoped>\n",
       "    .dataframe tbody tr th:only-of-type {\n",
       "        vertical-align: middle;\n",
       "    }\n",
       "\n",
       "    .dataframe tbody tr th {\n",
       "        vertical-align: top;\n",
       "    }\n",
       "\n",
       "    .dataframe thead th {\n",
       "        text-align: right;\n",
       "    }\n",
       "</style>\n",
       "<table border=\"1\" class=\"dataframe\">\n",
       "  <thead>\n",
       "    <tr style=\"text-align: right;\">\n",
       "      <th></th>\n",
       "      <th>id</th>\n",
       "      <th>call_date</th>\n",
       "      <th>duration</th>\n",
       "      <th>user_id</th>\n",
       "    </tr>\n",
       "  </thead>\n",
       "  <tbody>\n",
       "    <tr>\n",
       "      <th>0</th>\n",
       "      <td>1000_0</td>\n",
       "      <td>2018-07-25</td>\n",
       "      <td>0.00</td>\n",
       "      <td>1000</td>\n",
       "    </tr>\n",
       "    <tr>\n",
       "      <th>1</th>\n",
       "      <td>1000_1</td>\n",
       "      <td>2018-08-17</td>\n",
       "      <td>0.00</td>\n",
       "      <td>1000</td>\n",
       "    </tr>\n",
       "    <tr>\n",
       "      <th>2</th>\n",
       "      <td>1000_2</td>\n",
       "      <td>2018-06-11</td>\n",
       "      <td>2.85</td>\n",
       "      <td>1000</td>\n",
       "    </tr>\n",
       "    <tr>\n",
       "      <th>3</th>\n",
       "      <td>1000_3</td>\n",
       "      <td>2018-09-21</td>\n",
       "      <td>13.80</td>\n",
       "      <td>1000</td>\n",
       "    </tr>\n",
       "    <tr>\n",
       "      <th>4</th>\n",
       "      <td>1000_4</td>\n",
       "      <td>2018-12-15</td>\n",
       "      <td>5.18</td>\n",
       "      <td>1000</td>\n",
       "    </tr>\n",
       "    <tr>\n",
       "      <th>5</th>\n",
       "      <td>1000_5</td>\n",
       "      <td>2018-11-02</td>\n",
       "      <td>0.00</td>\n",
       "      <td>1000</td>\n",
       "    </tr>\n",
       "    <tr>\n",
       "      <th>6</th>\n",
       "      <td>1000_6</td>\n",
       "      <td>2018-10-18</td>\n",
       "      <td>0.00</td>\n",
       "      <td>1000</td>\n",
       "    </tr>\n",
       "    <tr>\n",
       "      <th>7</th>\n",
       "      <td>1000_7</td>\n",
       "      <td>2018-08-22</td>\n",
       "      <td>18.31</td>\n",
       "      <td>1000</td>\n",
       "    </tr>\n",
       "    <tr>\n",
       "      <th>8</th>\n",
       "      <td>1000_8</td>\n",
       "      <td>2018-09-15</td>\n",
       "      <td>18.44</td>\n",
       "      <td>1000</td>\n",
       "    </tr>\n",
       "    <tr>\n",
       "      <th>9</th>\n",
       "      <td>1000_9</td>\n",
       "      <td>2018-08-15</td>\n",
       "      <td>0.00</td>\n",
       "      <td>1000</td>\n",
       "    </tr>\n",
       "  </tbody>\n",
       "</table>\n",
       "</div>"
      ],
      "text/plain": [
       "       id   call_date  duration  user_id\n",
       "0  1000_0  2018-07-25      0.00     1000\n",
       "1  1000_1  2018-08-17      0.00     1000\n",
       "2  1000_2  2018-06-11      2.85     1000\n",
       "3  1000_3  2018-09-21     13.80     1000\n",
       "4  1000_4  2018-12-15      5.18     1000\n",
       "5  1000_5  2018-11-02      0.00     1000\n",
       "6  1000_6  2018-10-18      0.00     1000\n",
       "7  1000_7  2018-08-22     18.31     1000\n",
       "8  1000_8  2018-09-15     18.44     1000\n",
       "9  1000_9  2018-08-15      0.00     1000"
      ]
     },
     "execution_count": 4,
     "metadata": {},
     "output_type": "execute_result"
    }
   ],
   "source": [
    "calls.head(10)"
   ]
  },
  {
   "cell_type": "code",
   "execution_count": 5,
   "metadata": {},
   "outputs": [],
   "source": [
    "try: \n",
    "    internet = pd.read_csv('datasets/internet.csv', index_col=0)\n",
    "except FileNotFoundError:\n",
    "    internet = pd.read_csv('/datasets/internet.csv', index_col=0)    "
   ]
  },
  {
   "cell_type": "code",
   "execution_count": 6,
   "metadata": {},
   "outputs": [
    {
     "name": "stdout",
     "output_type": "stream",
     "text": [
      "<class 'pandas.core.frame.DataFrame'>\n",
      "Int64Index: 149396 entries, 0 to 149395\n",
      "Data columns (total 4 columns):\n",
      " #   Column        Non-Null Count   Dtype  \n",
      "---  ------        --------------   -----  \n",
      " 0   id            149396 non-null  object \n",
      " 1   mb_used       149396 non-null  float64\n",
      " 2   session_date  149396 non-null  object \n",
      " 3   user_id       149396 non-null  int64  \n",
      "dtypes: float64(1), int64(1), object(2)\n",
      "memory usage: 5.7+ MB\n"
     ]
    }
   ],
   "source": [
    "internet.info()"
   ]
  },
  {
   "cell_type": "code",
   "execution_count": 7,
   "metadata": {},
   "outputs": [
    {
     "data": {
      "text/html": [
       "<div>\n",
       "<style scoped>\n",
       "    .dataframe tbody tr th:only-of-type {\n",
       "        vertical-align: middle;\n",
       "    }\n",
       "\n",
       "    .dataframe tbody tr th {\n",
       "        vertical-align: top;\n",
       "    }\n",
       "\n",
       "    .dataframe thead th {\n",
       "        text-align: right;\n",
       "    }\n",
       "</style>\n",
       "<table border=\"1\" class=\"dataframe\">\n",
       "  <thead>\n",
       "    <tr style=\"text-align: right;\">\n",
       "      <th></th>\n",
       "      <th>id</th>\n",
       "      <th>mb_used</th>\n",
       "      <th>session_date</th>\n",
       "      <th>user_id</th>\n",
       "    </tr>\n",
       "  </thead>\n",
       "  <tbody>\n",
       "    <tr>\n",
       "      <th>0</th>\n",
       "      <td>1000_0</td>\n",
       "      <td>112.95</td>\n",
       "      <td>2018-11-25</td>\n",
       "      <td>1000</td>\n",
       "    </tr>\n",
       "    <tr>\n",
       "      <th>1</th>\n",
       "      <td>1000_1</td>\n",
       "      <td>1052.81</td>\n",
       "      <td>2018-09-07</td>\n",
       "      <td>1000</td>\n",
       "    </tr>\n",
       "    <tr>\n",
       "      <th>2</th>\n",
       "      <td>1000_2</td>\n",
       "      <td>1197.26</td>\n",
       "      <td>2018-06-25</td>\n",
       "      <td>1000</td>\n",
       "    </tr>\n",
       "    <tr>\n",
       "      <th>3</th>\n",
       "      <td>1000_3</td>\n",
       "      <td>550.27</td>\n",
       "      <td>2018-08-22</td>\n",
       "      <td>1000</td>\n",
       "    </tr>\n",
       "    <tr>\n",
       "      <th>4</th>\n",
       "      <td>1000_4</td>\n",
       "      <td>302.56</td>\n",
       "      <td>2018-09-24</td>\n",
       "      <td>1000</td>\n",
       "    </tr>\n",
       "    <tr>\n",
       "      <th>5</th>\n",
       "      <td>1000_5</td>\n",
       "      <td>399.97</td>\n",
       "      <td>2018-10-02</td>\n",
       "      <td>1000</td>\n",
       "    </tr>\n",
       "    <tr>\n",
       "      <th>6</th>\n",
       "      <td>1000_6</td>\n",
       "      <td>540.08</td>\n",
       "      <td>2018-09-07</td>\n",
       "      <td>1000</td>\n",
       "    </tr>\n",
       "    <tr>\n",
       "      <th>7</th>\n",
       "      <td>1000_7</td>\n",
       "      <td>415.70</td>\n",
       "      <td>2018-07-11</td>\n",
       "      <td>1000</td>\n",
       "    </tr>\n",
       "    <tr>\n",
       "      <th>8</th>\n",
       "      <td>1000_8</td>\n",
       "      <td>505.40</td>\n",
       "      <td>2018-10-08</td>\n",
       "      <td>1000</td>\n",
       "    </tr>\n",
       "    <tr>\n",
       "      <th>9</th>\n",
       "      <td>1000_9</td>\n",
       "      <td>345.54</td>\n",
       "      <td>2018-09-03</td>\n",
       "      <td>1000</td>\n",
       "    </tr>\n",
       "  </tbody>\n",
       "</table>\n",
       "</div>"
      ],
      "text/plain": [
       "       id  mb_used session_date  user_id\n",
       "0  1000_0   112.95   2018-11-25     1000\n",
       "1  1000_1  1052.81   2018-09-07     1000\n",
       "2  1000_2  1197.26   2018-06-25     1000\n",
       "3  1000_3   550.27   2018-08-22     1000\n",
       "4  1000_4   302.56   2018-09-24     1000\n",
       "5  1000_5   399.97   2018-10-02     1000\n",
       "6  1000_6   540.08   2018-09-07     1000\n",
       "7  1000_7   415.70   2018-07-11     1000\n",
       "8  1000_8   505.40   2018-10-08     1000\n",
       "9  1000_9   345.54   2018-09-03     1000"
      ]
     },
     "execution_count": 7,
     "metadata": {},
     "output_type": "execute_result"
    }
   ],
   "source": [
    "internet.head(10)"
   ]
  },
  {
   "cell_type": "code",
   "execution_count": 8,
   "metadata": {},
   "outputs": [],
   "source": [
    "try: \n",
    "    messages = pd.read_csv('datasets/messages.csv')    \n",
    "except FileNotFoundError:\n",
    "    messages = pd.read_csv('/datasets/messages.csv')        "
   ]
  },
  {
   "cell_type": "code",
   "execution_count": 9,
   "metadata": {},
   "outputs": [
    {
     "name": "stdout",
     "output_type": "stream",
     "text": [
      "<class 'pandas.core.frame.DataFrame'>\n",
      "RangeIndex: 123036 entries, 0 to 123035\n",
      "Data columns (total 3 columns):\n",
      " #   Column        Non-Null Count   Dtype \n",
      "---  ------        --------------   ----- \n",
      " 0   id            123036 non-null  object\n",
      " 1   message_date  123036 non-null  object\n",
      " 2   user_id       123036 non-null  int64 \n",
      "dtypes: int64(1), object(2)\n",
      "memory usage: 2.8+ MB\n"
     ]
    }
   ],
   "source": [
    "messages.info()"
   ]
  },
  {
   "cell_type": "code",
   "execution_count": 10,
   "metadata": {},
   "outputs": [
    {
     "data": {
      "text/html": [
       "<div>\n",
       "<style scoped>\n",
       "    .dataframe tbody tr th:only-of-type {\n",
       "        vertical-align: middle;\n",
       "    }\n",
       "\n",
       "    .dataframe tbody tr th {\n",
       "        vertical-align: top;\n",
       "    }\n",
       "\n",
       "    .dataframe thead th {\n",
       "        text-align: right;\n",
       "    }\n",
       "</style>\n",
       "<table border=\"1\" class=\"dataframe\">\n",
       "  <thead>\n",
       "    <tr style=\"text-align: right;\">\n",
       "      <th></th>\n",
       "      <th>id</th>\n",
       "      <th>message_date</th>\n",
       "      <th>user_id</th>\n",
       "    </tr>\n",
       "  </thead>\n",
       "  <tbody>\n",
       "    <tr>\n",
       "      <th>0</th>\n",
       "      <td>1000_0</td>\n",
       "      <td>2018-06-27</td>\n",
       "      <td>1000</td>\n",
       "    </tr>\n",
       "    <tr>\n",
       "      <th>1</th>\n",
       "      <td>1000_1</td>\n",
       "      <td>2018-10-08</td>\n",
       "      <td>1000</td>\n",
       "    </tr>\n",
       "    <tr>\n",
       "      <th>2</th>\n",
       "      <td>1000_2</td>\n",
       "      <td>2018-08-04</td>\n",
       "      <td>1000</td>\n",
       "    </tr>\n",
       "    <tr>\n",
       "      <th>3</th>\n",
       "      <td>1000_3</td>\n",
       "      <td>2018-06-16</td>\n",
       "      <td>1000</td>\n",
       "    </tr>\n",
       "    <tr>\n",
       "      <th>4</th>\n",
       "      <td>1000_4</td>\n",
       "      <td>2018-12-05</td>\n",
       "      <td>1000</td>\n",
       "    </tr>\n",
       "    <tr>\n",
       "      <th>5</th>\n",
       "      <td>1000_5</td>\n",
       "      <td>2018-06-20</td>\n",
       "      <td>1000</td>\n",
       "    </tr>\n",
       "    <tr>\n",
       "      <th>6</th>\n",
       "      <td>1000_6</td>\n",
       "      <td>2018-11-19</td>\n",
       "      <td>1000</td>\n",
       "    </tr>\n",
       "    <tr>\n",
       "      <th>7</th>\n",
       "      <td>1000_7</td>\n",
       "      <td>2018-10-29</td>\n",
       "      <td>1000</td>\n",
       "    </tr>\n",
       "    <tr>\n",
       "      <th>8</th>\n",
       "      <td>1000_8</td>\n",
       "      <td>2018-06-25</td>\n",
       "      <td>1000</td>\n",
       "    </tr>\n",
       "    <tr>\n",
       "      <th>9</th>\n",
       "      <td>1000_9</td>\n",
       "      <td>2018-12-18</td>\n",
       "      <td>1000</td>\n",
       "    </tr>\n",
       "  </tbody>\n",
       "</table>\n",
       "</div>"
      ],
      "text/plain": [
       "       id message_date  user_id\n",
       "0  1000_0   2018-06-27     1000\n",
       "1  1000_1   2018-10-08     1000\n",
       "2  1000_2   2018-08-04     1000\n",
       "3  1000_3   2018-06-16     1000\n",
       "4  1000_4   2018-12-05     1000\n",
       "5  1000_5   2018-06-20     1000\n",
       "6  1000_6   2018-11-19     1000\n",
       "7  1000_7   2018-10-29     1000\n",
       "8  1000_8   2018-06-25     1000\n",
       "9  1000_9   2018-12-18     1000"
      ]
     },
     "execution_count": 10,
     "metadata": {},
     "output_type": "execute_result"
    }
   ],
   "source": [
    "messages.head(10)"
   ]
  },
  {
   "cell_type": "code",
   "execution_count": 11,
   "metadata": {},
   "outputs": [],
   "source": [
    "try: \n",
    "    tariffs = pd.read_csv('datasets/tariffs.csv')   \n",
    "except FileNotFoundError:\n",
    "    tariffs = pd.read_csv('/datasets/tariffs.csv') "
   ]
  },
  {
   "cell_type": "code",
   "execution_count": 12,
   "metadata": {},
   "outputs": [
    {
     "name": "stdout",
     "output_type": "stream",
     "text": [
      "<class 'pandas.core.frame.DataFrame'>\n",
      "RangeIndex: 2 entries, 0 to 1\n",
      "Data columns (total 8 columns):\n",
      " #   Column                 Non-Null Count  Dtype \n",
      "---  ------                 --------------  ----- \n",
      " 0   messages_included      2 non-null      int64 \n",
      " 1   mb_per_month_included  2 non-null      int64 \n",
      " 2   minutes_included       2 non-null      int64 \n",
      " 3   rub_monthly_fee        2 non-null      int64 \n",
      " 4   rub_per_gb             2 non-null      int64 \n",
      " 5   rub_per_message        2 non-null      int64 \n",
      " 6   rub_per_minute         2 non-null      int64 \n",
      " 7   tariff_name            2 non-null      object\n",
      "dtypes: int64(7), object(1)\n",
      "memory usage: 256.0+ bytes\n"
     ]
    }
   ],
   "source": [
    "tariffs.info()"
   ]
  },
  {
   "cell_type": "code",
   "execution_count": 13,
   "metadata": {},
   "outputs": [
    {
     "data": {
      "text/html": [
       "<div>\n",
       "<style scoped>\n",
       "    .dataframe tbody tr th:only-of-type {\n",
       "        vertical-align: middle;\n",
       "    }\n",
       "\n",
       "    .dataframe tbody tr th {\n",
       "        vertical-align: top;\n",
       "    }\n",
       "\n",
       "    .dataframe thead th {\n",
       "        text-align: right;\n",
       "    }\n",
       "</style>\n",
       "<table border=\"1\" class=\"dataframe\">\n",
       "  <thead>\n",
       "    <tr style=\"text-align: right;\">\n",
       "      <th></th>\n",
       "      <th>messages_included</th>\n",
       "      <th>mb_per_month_included</th>\n",
       "      <th>minutes_included</th>\n",
       "      <th>rub_monthly_fee</th>\n",
       "      <th>rub_per_gb</th>\n",
       "      <th>rub_per_message</th>\n",
       "      <th>rub_per_minute</th>\n",
       "      <th>tariff_name</th>\n",
       "    </tr>\n",
       "  </thead>\n",
       "  <tbody>\n",
       "    <tr>\n",
       "      <th>0</th>\n",
       "      <td>50</td>\n",
       "      <td>15360</td>\n",
       "      <td>500</td>\n",
       "      <td>550</td>\n",
       "      <td>200</td>\n",
       "      <td>3</td>\n",
       "      <td>3</td>\n",
       "      <td>smart</td>\n",
       "    </tr>\n",
       "    <tr>\n",
       "      <th>1</th>\n",
       "      <td>1000</td>\n",
       "      <td>30720</td>\n",
       "      <td>3000</td>\n",
       "      <td>1950</td>\n",
       "      <td>150</td>\n",
       "      <td>1</td>\n",
       "      <td>1</td>\n",
       "      <td>ultra</td>\n",
       "    </tr>\n",
       "  </tbody>\n",
       "</table>\n",
       "</div>"
      ],
      "text/plain": [
       "   messages_included  mb_per_month_included  minutes_included  \\\n",
       "0                 50                  15360               500   \n",
       "1               1000                  30720              3000   \n",
       "\n",
       "   rub_monthly_fee  rub_per_gb  rub_per_message  rub_per_minute tariff_name  \n",
       "0              550         200                3               3       smart  \n",
       "1             1950         150                1               1       ultra  "
      ]
     },
     "execution_count": 13,
     "metadata": {},
     "output_type": "execute_result"
    }
   ],
   "source": [
    "tariffs.head()"
   ]
  },
  {
   "cell_type": "code",
   "execution_count": 14,
   "metadata": {},
   "outputs": [],
   "source": [
    "try: \n",
    "    users = pd.read_csv('datasets/users.csv')   \n",
    "except FileNotFoundError:\n",
    "    users = pd.read_csv('/datasets/users.csv')\n",
    "    "
   ]
  },
  {
   "cell_type": "code",
   "execution_count": 15,
   "metadata": {},
   "outputs": [
    {
     "name": "stdout",
     "output_type": "stream",
     "text": [
      "<class 'pandas.core.frame.DataFrame'>\n",
      "RangeIndex: 500 entries, 0 to 499\n",
      "Data columns (total 8 columns):\n",
      " #   Column      Non-Null Count  Dtype \n",
      "---  ------      --------------  ----- \n",
      " 0   user_id     500 non-null    int64 \n",
      " 1   age         500 non-null    int64 \n",
      " 2   churn_date  38 non-null     object\n",
      " 3   city        500 non-null    object\n",
      " 4   first_name  500 non-null    object\n",
      " 5   last_name   500 non-null    object\n",
      " 6   reg_date    500 non-null    object\n",
      " 7   tariff      500 non-null    object\n",
      "dtypes: int64(2), object(6)\n",
      "memory usage: 31.4+ KB\n"
     ]
    }
   ],
   "source": [
    "users.info()"
   ]
  },
  {
   "cell_type": "code",
   "execution_count": 16,
   "metadata": {},
   "outputs": [
    {
     "data": {
      "text/html": [
       "<div>\n",
       "<style scoped>\n",
       "    .dataframe tbody tr th:only-of-type {\n",
       "        vertical-align: middle;\n",
       "    }\n",
       "\n",
       "    .dataframe tbody tr th {\n",
       "        vertical-align: top;\n",
       "    }\n",
       "\n",
       "    .dataframe thead th {\n",
       "        text-align: right;\n",
       "    }\n",
       "</style>\n",
       "<table border=\"1\" class=\"dataframe\">\n",
       "  <thead>\n",
       "    <tr style=\"text-align: right;\">\n",
       "      <th></th>\n",
       "      <th>user_id</th>\n",
       "      <th>age</th>\n",
       "      <th>churn_date</th>\n",
       "      <th>city</th>\n",
       "      <th>first_name</th>\n",
       "      <th>last_name</th>\n",
       "      <th>reg_date</th>\n",
       "      <th>tariff</th>\n",
       "    </tr>\n",
       "  </thead>\n",
       "  <tbody>\n",
       "    <tr>\n",
       "      <th>0</th>\n",
       "      <td>1000</td>\n",
       "      <td>52</td>\n",
       "      <td>NaN</td>\n",
       "      <td>Краснодар</td>\n",
       "      <td>Рафаил</td>\n",
       "      <td>Верещагин</td>\n",
       "      <td>2018-05-25</td>\n",
       "      <td>ultra</td>\n",
       "    </tr>\n",
       "    <tr>\n",
       "      <th>1</th>\n",
       "      <td>1001</td>\n",
       "      <td>41</td>\n",
       "      <td>NaN</td>\n",
       "      <td>Москва</td>\n",
       "      <td>Иван</td>\n",
       "      <td>Ежов</td>\n",
       "      <td>2018-11-01</td>\n",
       "      <td>smart</td>\n",
       "    </tr>\n",
       "    <tr>\n",
       "      <th>2</th>\n",
       "      <td>1002</td>\n",
       "      <td>59</td>\n",
       "      <td>NaN</td>\n",
       "      <td>Стерлитамак</td>\n",
       "      <td>Евгений</td>\n",
       "      <td>Абрамович</td>\n",
       "      <td>2018-06-17</td>\n",
       "      <td>smart</td>\n",
       "    </tr>\n",
       "    <tr>\n",
       "      <th>3</th>\n",
       "      <td>1003</td>\n",
       "      <td>23</td>\n",
       "      <td>NaN</td>\n",
       "      <td>Москва</td>\n",
       "      <td>Белла</td>\n",
       "      <td>Белякова</td>\n",
       "      <td>2018-08-17</td>\n",
       "      <td>ultra</td>\n",
       "    </tr>\n",
       "    <tr>\n",
       "      <th>4</th>\n",
       "      <td>1004</td>\n",
       "      <td>68</td>\n",
       "      <td>NaN</td>\n",
       "      <td>Новокузнецк</td>\n",
       "      <td>Татьяна</td>\n",
       "      <td>Авдеенко</td>\n",
       "      <td>2018-05-14</td>\n",
       "      <td>ultra</td>\n",
       "    </tr>\n",
       "    <tr>\n",
       "      <th>5</th>\n",
       "      <td>1005</td>\n",
       "      <td>67</td>\n",
       "      <td>NaN</td>\n",
       "      <td>Набережные Челны</td>\n",
       "      <td>Афанасий</td>\n",
       "      <td>Горлов</td>\n",
       "      <td>2018-01-25</td>\n",
       "      <td>smart</td>\n",
       "    </tr>\n",
       "    <tr>\n",
       "      <th>6</th>\n",
       "      <td>1006</td>\n",
       "      <td>21</td>\n",
       "      <td>NaN</td>\n",
       "      <td>Ульяновск</td>\n",
       "      <td>Леонид</td>\n",
       "      <td>Ермолаев</td>\n",
       "      <td>2018-02-26</td>\n",
       "      <td>smart</td>\n",
       "    </tr>\n",
       "    <tr>\n",
       "      <th>7</th>\n",
       "      <td>1007</td>\n",
       "      <td>65</td>\n",
       "      <td>NaN</td>\n",
       "      <td>Москва</td>\n",
       "      <td>Юна</td>\n",
       "      <td>Березина</td>\n",
       "      <td>2018-04-19</td>\n",
       "      <td>smart</td>\n",
       "    </tr>\n",
       "    <tr>\n",
       "      <th>8</th>\n",
       "      <td>1008</td>\n",
       "      <td>63</td>\n",
       "      <td>NaN</td>\n",
       "      <td>Челябинск</td>\n",
       "      <td>Рустэм</td>\n",
       "      <td>Пономарёв</td>\n",
       "      <td>2018-12-19</td>\n",
       "      <td>smart</td>\n",
       "    </tr>\n",
       "    <tr>\n",
       "      <th>9</th>\n",
       "      <td>1009</td>\n",
       "      <td>24</td>\n",
       "      <td>NaN</td>\n",
       "      <td>Пермь</td>\n",
       "      <td>Василиса</td>\n",
       "      <td>Блинова</td>\n",
       "      <td>2018-03-22</td>\n",
       "      <td>smart</td>\n",
       "    </tr>\n",
       "  </tbody>\n",
       "</table>\n",
       "</div>"
      ],
      "text/plain": [
       "   user_id  age churn_date              city first_name  last_name  \\\n",
       "0     1000   52        NaN         Краснодар     Рафаил  Верещагин   \n",
       "1     1001   41        NaN            Москва       Иван       Ежов   \n",
       "2     1002   59        NaN       Стерлитамак    Евгений  Абрамович   \n",
       "3     1003   23        NaN            Москва      Белла   Белякова   \n",
       "4     1004   68        NaN       Новокузнецк    Татьяна   Авдеенко   \n",
       "5     1005   67        NaN  Набережные Челны   Афанасий     Горлов   \n",
       "6     1006   21        NaN         Ульяновск     Леонид   Ермолаев   \n",
       "7     1007   65        NaN            Москва        Юна   Березина   \n",
       "8     1008   63        NaN         Челябинск     Рустэм  Пономарёв   \n",
       "9     1009   24        NaN             Пермь   Василиса    Блинова   \n",
       "\n",
       "     reg_date tariff  \n",
       "0  2018-05-25  ultra  \n",
       "1  2018-11-01  smart  \n",
       "2  2018-06-17  smart  \n",
       "3  2018-08-17  ultra  \n",
       "4  2018-05-14  ultra  \n",
       "5  2018-01-25  smart  \n",
       "6  2018-02-26  smart  \n",
       "7  2018-04-19  smart  \n",
       "8  2018-12-19  smart  \n",
       "9  2018-03-22  smart  "
      ]
     },
     "execution_count": 16,
     "metadata": {},
     "output_type": "execute_result"
    }
   ],
   "source": [
    "users.head(10)"
   ]
  },
  {
   "cell_type": "markdown",
   "metadata": {},
   "source": [
    "Мы проанализировали 5 таблиц. В датафреймах calls, internet, messages и tariffs нет пропусков, но необходимо изменить формат данных в столбцах call_date, session_date и message_date на datetime. В таблице users есть пропущенные значения в столбце churn_date. "
   ]
  },
  {
   "cell_type": "markdown",
   "metadata": {},
   "source": [
    "## Предобработка данных"
   ]
  },
  {
   "cell_type": "markdown",
   "metadata": {},
   "source": [
    "В таблице calls нет пропущенных значений. Но необходимо изменить формат данных в столбце call_date в datetime. В столбце звонки с нулевой продолжительностью. Это не ошибка: нулями обозначены пропущенные звонки, поэтому их не нужно удалять."
   ]
  },
  {
   "cell_type": "code",
   "execution_count": 17,
   "metadata": {},
   "outputs": [],
   "source": [
    "calls['call_date'] = pd.to_datetime(calls['call_date'], format = '%Y-%m-%d')"
   ]
  },
  {
   "cell_type": "code",
   "execution_count": 18,
   "metadata": {},
   "outputs": [
    {
     "name": "stdout",
     "output_type": "stream",
     "text": [
      "<class 'pandas.core.frame.DataFrame'>\n",
      "RangeIndex: 202607 entries, 0 to 202606\n",
      "Data columns (total 4 columns):\n",
      " #   Column     Non-Null Count   Dtype         \n",
      "---  ------     --------------   -----         \n",
      " 0   id         202607 non-null  object        \n",
      " 1   call_date  202607 non-null  datetime64[ns]\n",
      " 2   duration   202607 non-null  float64       \n",
      " 3   user_id    202607 non-null  int64         \n",
      "dtypes: datetime64[ns](1), float64(1), int64(1), object(1)\n",
      "memory usage: 6.2+ MB\n"
     ]
    }
   ],
   "source": [
    "calls.info()"
   ]
  },
  {
   "cell_type": "markdown",
   "metadata": {},
   "source": [
    "В таблице internet нет пропущенных значений. Но также необходимо изменить формат столбца session_date на datetime. В столбце с объемом трафика есть строки с нулевой продолжительностью. Это значит, что абонент не пользовался интернетом в этот день."
   ]
  },
  {
   "cell_type": "code",
   "execution_count": 19,
   "metadata": {},
   "outputs": [],
   "source": [
    "internet['session_date'] = pd.to_datetime(internet['session_date'], format = '%Y-%m-%d')"
   ]
  },
  {
   "cell_type": "code",
   "execution_count": 20,
   "metadata": {
    "scrolled": false
   },
   "outputs": [
    {
     "name": "stdout",
     "output_type": "stream",
     "text": [
      "<class 'pandas.core.frame.DataFrame'>\n",
      "Int64Index: 149396 entries, 0 to 149395\n",
      "Data columns (total 4 columns):\n",
      " #   Column        Non-Null Count   Dtype         \n",
      "---  ------        --------------   -----         \n",
      " 0   id            149396 non-null  object        \n",
      " 1   mb_used       149396 non-null  float64       \n",
      " 2   session_date  149396 non-null  datetime64[ns]\n",
      " 3   user_id       149396 non-null  int64         \n",
      "dtypes: datetime64[ns](1), float64(1), int64(1), object(1)\n",
      "memory usage: 5.7+ MB\n"
     ]
    }
   ],
   "source": [
    "internet.info()"
   ]
  },
  {
   "cell_type": "markdown",
   "metadata": {},
   "source": [
    "В таблице messages нет пропущенных значений. Изменяем формат столбца message_date на datetime."
   ]
  },
  {
   "cell_type": "code",
   "execution_count": 21,
   "metadata": {},
   "outputs": [],
   "source": [
    "messages['message_date'] = pd.to_datetime(messages['message_date'], format = '%Y-%m-%d')"
   ]
  },
  {
   "cell_type": "code",
   "execution_count": 22,
   "metadata": {},
   "outputs": [
    {
     "name": "stdout",
     "output_type": "stream",
     "text": [
      "<class 'pandas.core.frame.DataFrame'>\n",
      "RangeIndex: 123036 entries, 0 to 123035\n",
      "Data columns (total 3 columns):\n",
      " #   Column        Non-Null Count   Dtype         \n",
      "---  ------        --------------   -----         \n",
      " 0   id            123036 non-null  object        \n",
      " 1   message_date  123036 non-null  datetime64[ns]\n",
      " 2   user_id       123036 non-null  int64         \n",
      "dtypes: datetime64[ns](1), int64(1), object(1)\n",
      "memory usage: 2.8+ MB\n"
     ]
    }
   ],
   "source": [
    "messages.info()"
   ]
  },
  {
   "cell_type": "markdown",
   "metadata": {},
   "source": [
    "Таблицу tariffs оставляем без изменений."
   ]
  },
  {
   "cell_type": "markdown",
   "metadata": {},
   "source": [
    "В таблице user в столбце churn_date есть пропущенные значения. Если значение пропущено, то тариф ещё действовал на момент выгрузки данных. Пропуски заполнять не нужно."
   ]
  },
  {
   "cell_type": "markdown",
   "metadata": {},
   "source": [
    "Проверим столбцы на наличие ошибок."
   ]
  },
  {
   "cell_type": "code",
   "execution_count": 23,
   "metadata": {},
   "outputs": [
    {
     "data": {
      "text/plain": [
       "count    202607.000000\n",
       "mean          6.755887\n",
       "std           5.843365\n",
       "min           0.000000\n",
       "25%           1.300000\n",
       "50%           6.000000\n",
       "75%          10.700000\n",
       "max          38.000000\n",
       "Name: duration, dtype: float64"
      ]
     },
     "execution_count": 23,
     "metadata": {},
     "output_type": "execute_result"
    }
   ],
   "source": [
    "calls['duration'].describe()"
   ]
  },
  {
   "cell_type": "markdown",
   "metadata": {},
   "source": [
    "Звонки длились от 0 (пропущенные) до 38 минут, что адекватно действительности."
   ]
  },
  {
   "cell_type": "code",
   "execution_count": 24,
   "metadata": {},
   "outputs": [
    {
     "data": {
      "text/plain": [
       "Text(0, 0.5, 'Количество звонков')"
      ]
     },
     "execution_count": 24,
     "metadata": {},
     "output_type": "execute_result"
    },
    {
     "data": {
      "image/png": "[encoded data removed]",
      "text/plain": [
       "<Figure size 432x288 with 1 Axes>"
      ]
     },
     "metadata": {
      "needs_background": "light"
     },
     "output_type": "display_data"
    }
   ],
   "source": [
    "calls['duration'].plot(kind = 'hist', bins = 10, xlim = (0, 38), grid = True)\n",
    "plt.xlabel('Продолжительность звонков', fontsize=14)\n",
    "plt.ylabel('Количество звонков', fontsize=14)"
   ]
  },
  {
   "cell_type": "markdown",
   "metadata": {},
   "source": [
    "Как видно на гистограмме, большая часть звонков длилась меньше 5 минут, таких звонков было более 70 тыс. 75% звонков было менее 11 минут. Максимальная продолжительность звонка составляла 38 минут."
   ]
  },
  {
   "cell_type": "code",
   "execution_count": 25,
   "metadata": {},
   "outputs": [
    {
     "data": {
      "text/plain": [
       "count    149396.000000\n",
       "mean        370.192426\n",
       "std         278.300951\n",
       "min           0.000000\n",
       "25%         138.187500\n",
       "50%         348.015000\n",
       "75%         559.552500\n",
       "max        1724.830000\n",
       "Name: mb_used, dtype: float64"
      ]
     },
     "execution_count": 25,
     "metadata": {},
     "output_type": "execute_result"
    }
   ],
   "source": [
    "internet['mb_used'].describe()"
   ]
  },
  {
   "cell_type": "markdown",
   "metadata": {},
   "source": [
    "Чаще всего пользователи используют меньше 200 мб за одну сессию. "
   ]
  },
  {
   "cell_type": "code",
   "execution_count": 26,
   "metadata": {},
   "outputs": [
    {
     "data": {
      "text/plain": [
       "Text(0, 0.5, 'Количество сессий')"
      ]
     },
     "execution_count": 26,
     "metadata": {},
     "output_type": "execute_result"
    },
    {
     "data": {
      "image/png": "[encoded data removed]",
      "text/plain": [
       "<Figure size 432x288 with 1 Axes>"
      ]
     },
     "metadata": {
      "needs_background": "light"
     },
     "output_type": "display_data"
    }
   ],
   "source": [
    "internet['mb_used'].plot(kind = 'hist', bins = 10, xlim = (0, 1750), grid = True)\n",
    "plt.xlabel('Объем трафика, МБ', fontsize=14)\n",
    "plt.ylabel('Количество сессий', fontsize=14)"
   ]
  },
  {
   "cell_type": "code",
   "execution_count": 27,
   "metadata": {},
   "outputs": [
    {
     "data": {
      "text/plain": [
       "count    500.00000\n",
       "mean      46.58800\n",
       "std       16.66763\n",
       "min       18.00000\n",
       "25%       32.00000\n",
       "50%       46.00000\n",
       "75%       62.00000\n",
       "max       75.00000\n",
       "Name: age, dtype: float64"
      ]
     },
     "execution_count": 27,
     "metadata": {},
     "output_type": "execute_result"
    }
   ],
   "source": [
    "users['age'].describe()"
   ]
  },
  {
   "cell_type": "code",
   "execution_count": 28,
   "metadata": {},
   "outputs": [
    {
     "data": {
      "text/plain": [
       "Text(0, 0.5, 'Количество абонентов')"
      ]
     },
     "execution_count": 28,
     "metadata": {},
     "output_type": "execute_result"
    },
    {
     "data": {
      "image/png": "[encoded data removed]",
      "text/plain": [
       "<Figure size 432x288 with 1 Axes>"
      ]
     },
     "metadata": {
      "needs_background": "light"
     },
     "output_type": "display_data"
    }
   ],
   "source": [
    "users['age'].plot(kind = 'hist', bins = 10, xlim = (18, 75), grid = True)\n",
    "plt.xlabel('Возраст', fontsize=14)\n",
    "plt.ylabel('Количество абонентов', fontsize=14)"
   ]
  },
  {
   "cell_type": "markdown",
   "metadata": {},
   "source": [
    "Все абоненты \"Мегалайна\" распределены по возрастам примерно в равном количестве. Их возраст колеблется от 18 до 75 лет."
   ]
  },
  {
   "cell_type": "code",
   "execution_count": 29,
   "metadata": {},
   "outputs": [
    {
     "data": {
      "text/plain": [
       "array(['Краснодар', 'Москва', 'Стерлитамак', 'Новокузнецк',\n",
       "       'Набережные Челны', 'Ульяновск', 'Челябинск', 'Пермь', 'Тюмень',\n",
       "       'Самара', 'Санкт-Петербург', 'Иваново', 'Чебоксары', 'Омск', 'Уфа',\n",
       "       'Томск', 'Чита', 'Мурманск', 'Петрозаводск', 'Тверь',\n",
       "       'Екатеринбург', 'Махачкала', 'Вологда', 'Череповец', 'Ярославль',\n",
       "       'Сочи', 'Хабаровск', 'Ставрополь', 'Рязань', 'Улан-Удэ', 'Тула',\n",
       "       'Саратов', 'Ростов-на-Дону', 'Казань', 'Иркутск', 'Курск',\n",
       "       'Калуга', 'Якутск', 'Астрахань', 'Химки', 'Владикавказ',\n",
       "       'Волгоград', 'Саранск', 'Ижевск', 'Новосибирск', 'Брянск',\n",
       "       'Тольятти', 'Нижний Тагил', 'Орёл', 'Белгород', 'Воронеж',\n",
       "       'Волжский', 'Курган', 'Барнаул', 'Красноярск', 'Архангельск',\n",
       "       'Липецк', 'Кемерово', 'Киров', 'Сургут', 'Пенза', 'Магнитогорск',\n",
       "       'Нижний Новгород', 'Кострома', 'Владивосток', 'Тамбов', 'Балашиха',\n",
       "       'Севастополь', 'Калининград', 'Оренбург', 'Смоленск',\n",
       "       'Нижневартовск', 'Владимир', 'Новороссийск', 'Грозный', 'Подольск'],\n",
       "      dtype=object)"
      ]
     },
     "execution_count": 29,
     "metadata": {},
     "output_type": "execute_result"
    }
   ],
   "source": [
    "users['city'].unique()"
   ]
  },
  {
   "cell_type": "markdown",
   "metadata": {},
   "source": [
    "Ошибок в данных не обнаружено. Построим сводные таблицы с данными помесячно."
   ]
  },
  {
   "cell_type": "markdown",
   "metadata": {},
   "source": [
    "Сначала окргулим секунды но минуты, так как в \"Мегалайне\" каждый звонок округляется отдельно: даже если он длился всего 1 секунду, будет засчитан как 1 минута. Затем добавим столбец с порядковым значением месяца в таблицы."
   ]
  },
  {
   "cell_type": "code",
   "execution_count": 30,
   "metadata": {},
   "outputs": [],
   "source": [
    "calls['duration'] = np.ceil(calls['duration'])"
   ]
  },
  {
   "cell_type": "code",
   "execution_count": 31,
   "metadata": {},
   "outputs": [],
   "source": [
    "calls['month'] = calls['call_date'].dt.month"
   ]
  },
  {
   "cell_type": "code",
   "execution_count": 32,
   "metadata": {},
   "outputs": [
    {
     "data": {
      "text/html": [
       "<div>\n",
       "<style scoped>\n",
       "    .dataframe tbody tr th:only-of-type {\n",
       "        vertical-align: middle;\n",
       "    }\n",
       "\n",
       "    .dataframe tbody tr th {\n",
       "        vertical-align: top;\n",
       "    }\n",
       "\n",
       "    .dataframe thead th {\n",
       "        text-align: right;\n",
       "    }\n",
       "</style>\n",
       "<table border=\"1\" class=\"dataframe\">\n",
       "  <thead>\n",
       "    <tr style=\"text-align: right;\">\n",
       "      <th></th>\n",
       "      <th>id</th>\n",
       "      <th>call_date</th>\n",
       "      <th>duration</th>\n",
       "      <th>user_id</th>\n",
       "      <th>month</th>\n",
       "    </tr>\n",
       "  </thead>\n",
       "  <tbody>\n",
       "    <tr>\n",
       "      <th>0</th>\n",
       "      <td>1000_0</td>\n",
       "      <td>2018-07-25</td>\n",
       "      <td>0.0</td>\n",
       "      <td>1000</td>\n",
       "      <td>7</td>\n",
       "    </tr>\n",
       "    <tr>\n",
       "      <th>1</th>\n",
       "      <td>1000_1</td>\n",
       "      <td>2018-08-17</td>\n",
       "      <td>0.0</td>\n",
       "      <td>1000</td>\n",
       "      <td>8</td>\n",
       "    </tr>\n",
       "    <tr>\n",
       "      <th>2</th>\n",
       "      <td>1000_2</td>\n",
       "      <td>2018-06-11</td>\n",
       "      <td>3.0</td>\n",
       "      <td>1000</td>\n",
       "      <td>6</td>\n",
       "    </tr>\n",
       "    <tr>\n",
       "      <th>3</th>\n",
       "      <td>1000_3</td>\n",
       "      <td>2018-09-21</td>\n",
       "      <td>14.0</td>\n",
       "      <td>1000</td>\n",
       "      <td>9</td>\n",
       "    </tr>\n",
       "    <tr>\n",
       "      <th>4</th>\n",
       "      <td>1000_4</td>\n",
       "      <td>2018-12-15</td>\n",
       "      <td>6.0</td>\n",
       "      <td>1000</td>\n",
       "      <td>12</td>\n",
       "    </tr>\n",
       "  </tbody>\n",
       "</table>\n",
       "</div>"
      ],
      "text/plain": [
       "       id  call_date  duration  user_id  month\n",
       "0  1000_0 2018-07-25       0.0     1000      7\n",
       "1  1000_1 2018-08-17       0.0     1000      8\n",
       "2  1000_2 2018-06-11       3.0     1000      6\n",
       "3  1000_3 2018-09-21      14.0     1000      9\n",
       "4  1000_4 2018-12-15       6.0     1000     12"
      ]
     },
     "execution_count": 32,
     "metadata": {},
     "output_type": "execute_result"
    }
   ],
   "source": [
    "calls.head()"
   ]
  },
  {
   "cell_type": "code",
   "execution_count": 33,
   "metadata": {},
   "outputs": [
    {
     "data": {
      "text/html": [
       "<div>\n",
       "<style scoped>\n",
       "    .dataframe tbody tr th:only-of-type {\n",
       "        vertical-align: middle;\n",
       "    }\n",
       "\n",
       "    .dataframe tbody tr th {\n",
       "        vertical-align: top;\n",
       "    }\n",
       "\n",
       "    .dataframe thead tr th {\n",
       "        text-align: left;\n",
       "    }\n",
       "\n",
       "    .dataframe thead tr:last-of-type th {\n",
       "        text-align: right;\n",
       "    }\n",
       "</style>\n",
       "<table border=\"1\" class=\"dataframe\">\n",
       "  <thead>\n",
       "    <tr>\n",
       "      <th></th>\n",
       "      <th></th>\n",
       "      <th>count</th>\n",
       "      <th>sum</th>\n",
       "    </tr>\n",
       "    <tr>\n",
       "      <th></th>\n",
       "      <th></th>\n",
       "      <th>duration</th>\n",
       "      <th>duration</th>\n",
       "    </tr>\n",
       "    <tr>\n",
       "      <th>user_id</th>\n",
       "      <th>month</th>\n",
       "      <th></th>\n",
       "      <th></th>\n",
       "    </tr>\n",
       "  </thead>\n",
       "  <tbody>\n",
       "    <tr>\n",
       "      <th rowspan=\"5\" valign=\"top\">1000</th>\n",
       "      <th>5</th>\n",
       "      <td>22</td>\n",
       "      <td>159.0</td>\n",
       "    </tr>\n",
       "    <tr>\n",
       "      <th>6</th>\n",
       "      <td>43</td>\n",
       "      <td>172.0</td>\n",
       "    </tr>\n",
       "    <tr>\n",
       "      <th>7</th>\n",
       "      <td>47</td>\n",
       "      <td>340.0</td>\n",
       "    </tr>\n",
       "    <tr>\n",
       "      <th>8</th>\n",
       "      <td>52</td>\n",
       "      <td>408.0</td>\n",
       "    </tr>\n",
       "    <tr>\n",
       "      <th>9</th>\n",
       "      <td>58</td>\n",
       "      <td>466.0</td>\n",
       "    </tr>\n",
       "    <tr>\n",
       "      <th>...</th>\n",
       "      <th>...</th>\n",
       "      <td>...</td>\n",
       "      <td>...</td>\n",
       "    </tr>\n",
       "    <tr>\n",
       "      <th>1498</th>\n",
       "      <th>10</th>\n",
       "      <td>41</td>\n",
       "      <td>247.0</td>\n",
       "    </tr>\n",
       "    <tr>\n",
       "      <th rowspan=\"4\" valign=\"top\">1499</th>\n",
       "      <th>9</th>\n",
       "      <td>9</td>\n",
       "      <td>70.0</td>\n",
       "    </tr>\n",
       "    <tr>\n",
       "      <th>10</th>\n",
       "      <td>68</td>\n",
       "      <td>449.0</td>\n",
       "    </tr>\n",
       "    <tr>\n",
       "      <th>11</th>\n",
       "      <td>74</td>\n",
       "      <td>612.0</td>\n",
       "    </tr>\n",
       "    <tr>\n",
       "      <th>12</th>\n",
       "      <td>69</td>\n",
       "      <td>492.0</td>\n",
       "    </tr>\n",
       "  </tbody>\n",
       "</table>\n",
       "<p>3174 rows × 2 columns</p>\n",
       "</div>"
      ],
      "text/plain": [
       "                 count      sum\n",
       "              duration duration\n",
       "user_id month                  \n",
       "1000    5           22    159.0\n",
       "        6           43    172.0\n",
       "        7           47    340.0\n",
       "        8           52    408.0\n",
       "        9           58    466.0\n",
       "...                ...      ...\n",
       "1498    10          41    247.0\n",
       "1499    9            9     70.0\n",
       "        10          68    449.0\n",
       "        11          74    612.0\n",
       "        12          69    492.0\n",
       "\n",
       "[3174 rows x 2 columns]"
      ]
     },
     "execution_count": 33,
     "metadata": {},
     "output_type": "execute_result"
    }
   ],
   "source": [
    "calls_pivot = calls.pivot_table(index = ['user_id', 'month'], values = 'duration', aggfunc = ['count', 'sum'])\n",
    "calls_pivot"
   ]
  },
  {
   "cell_type": "code",
   "execution_count": 34,
   "metadata": {},
   "outputs": [
    {
     "data": {
      "text/html": [
       "<div>\n",
       "<style scoped>\n",
       "    .dataframe tbody tr th:only-of-type {\n",
       "        vertical-align: middle;\n",
       "    }\n",
       "\n",
       "    .dataframe tbody tr th {\n",
       "        vertical-align: top;\n",
       "    }\n",
       "\n",
       "    .dataframe thead th {\n",
       "        text-align: right;\n",
       "    }\n",
       "</style>\n",
       "<table border=\"1\" class=\"dataframe\">\n",
       "  <thead>\n",
       "    <tr style=\"text-align: right;\">\n",
       "      <th></th>\n",
       "      <th></th>\n",
       "      <th>calls</th>\n",
       "      <th>calls_duration</th>\n",
       "    </tr>\n",
       "    <tr>\n",
       "      <th>user_id</th>\n",
       "      <th>month</th>\n",
       "      <th></th>\n",
       "      <th></th>\n",
       "    </tr>\n",
       "  </thead>\n",
       "  <tbody>\n",
       "    <tr>\n",
       "      <th rowspan=\"5\" valign=\"top\">1000</th>\n",
       "      <th>5</th>\n",
       "      <td>22</td>\n",
       "      <td>159.0</td>\n",
       "    </tr>\n",
       "    <tr>\n",
       "      <th>6</th>\n",
       "      <td>43</td>\n",
       "      <td>172.0</td>\n",
       "    </tr>\n",
       "    <tr>\n",
       "      <th>7</th>\n",
       "      <td>47</td>\n",
       "      <td>340.0</td>\n",
       "    </tr>\n",
       "    <tr>\n",
       "      <th>8</th>\n",
       "      <td>52</td>\n",
       "      <td>408.0</td>\n",
       "    </tr>\n",
       "    <tr>\n",
       "      <th>9</th>\n",
       "      <td>58</td>\n",
       "      <td>466.0</td>\n",
       "    </tr>\n",
       "    <tr>\n",
       "      <th>...</th>\n",
       "      <th>...</th>\n",
       "      <td>...</td>\n",
       "      <td>...</td>\n",
       "    </tr>\n",
       "    <tr>\n",
       "      <th>1498</th>\n",
       "      <th>10</th>\n",
       "      <td>41</td>\n",
       "      <td>247.0</td>\n",
       "    </tr>\n",
       "    <tr>\n",
       "      <th rowspan=\"4\" valign=\"top\">1499</th>\n",
       "      <th>9</th>\n",
       "      <td>9</td>\n",
       "      <td>70.0</td>\n",
       "    </tr>\n",
       "    <tr>\n",
       "      <th>10</th>\n",
       "      <td>68</td>\n",
       "      <td>449.0</td>\n",
       "    </tr>\n",
       "    <tr>\n",
       "      <th>11</th>\n",
       "      <td>74</td>\n",
       "      <td>612.0</td>\n",
       "    </tr>\n",
       "    <tr>\n",
       "      <th>12</th>\n",
       "      <td>69</td>\n",
       "      <td>492.0</td>\n",
       "    </tr>\n",
       "  </tbody>\n",
       "</table>\n",
       "<p>3174 rows × 2 columns</p>\n",
       "</div>"
      ],
      "text/plain": [
       "               calls  calls_duration\n",
       "user_id month                       \n",
       "1000    5         22           159.0\n",
       "        6         43           172.0\n",
       "        7         47           340.0\n",
       "        8         52           408.0\n",
       "        9         58           466.0\n",
       "...              ...             ...\n",
       "1498    10        41           247.0\n",
       "1499    9          9            70.0\n",
       "        10        68           449.0\n",
       "        11        74           612.0\n",
       "        12        69           492.0\n",
       "\n",
       "[3174 rows x 2 columns]"
      ]
     },
     "execution_count": 34,
     "metadata": {},
     "output_type": "execute_result"
    }
   ],
   "source": [
    "calls_pivot.columns = ['calls', 'calls_duration']\n",
    "calls_pivot"
   ]
  },
  {
   "cell_type": "code",
   "execution_count": 35,
   "metadata": {},
   "outputs": [],
   "source": [
    "internet['month'] = internet['session_date'].dt.month"
   ]
  },
  {
   "cell_type": "code",
   "execution_count": 36,
   "metadata": {},
   "outputs": [
    {
     "data": {
      "text/html": [
       "<div>\n",
       "<style scoped>\n",
       "    .dataframe tbody tr th:only-of-type {\n",
       "        vertical-align: middle;\n",
       "    }\n",
       "\n",
       "    .dataframe tbody tr th {\n",
       "        vertical-align: top;\n",
       "    }\n",
       "\n",
       "    .dataframe thead th {\n",
       "        text-align: right;\n",
       "    }\n",
       "</style>\n",
       "<table border=\"1\" class=\"dataframe\">\n",
       "  <thead>\n",
       "    <tr style=\"text-align: right;\">\n",
       "      <th></th>\n",
       "      <th>id</th>\n",
       "      <th>mb_used</th>\n",
       "      <th>session_date</th>\n",
       "      <th>user_id</th>\n",
       "      <th>month</th>\n",
       "    </tr>\n",
       "  </thead>\n",
       "  <tbody>\n",
       "    <tr>\n",
       "      <th>0</th>\n",
       "      <td>1000_0</td>\n",
       "      <td>112.95</td>\n",
       "      <td>2018-11-25</td>\n",
       "      <td>1000</td>\n",
       "      <td>11</td>\n",
       "    </tr>\n",
       "    <tr>\n",
       "      <th>1</th>\n",
       "      <td>1000_1</td>\n",
       "      <td>1052.81</td>\n",
       "      <td>2018-09-07</td>\n",
       "      <td>1000</td>\n",
       "      <td>9</td>\n",
       "    </tr>\n",
       "    <tr>\n",
       "      <th>2</th>\n",
       "      <td>1000_2</td>\n",
       "      <td>1197.26</td>\n",
       "      <td>2018-06-25</td>\n",
       "      <td>1000</td>\n",
       "      <td>6</td>\n",
       "    </tr>\n",
       "    <tr>\n",
       "      <th>3</th>\n",
       "      <td>1000_3</td>\n",
       "      <td>550.27</td>\n",
       "      <td>2018-08-22</td>\n",
       "      <td>1000</td>\n",
       "      <td>8</td>\n",
       "    </tr>\n",
       "    <tr>\n",
       "      <th>4</th>\n",
       "      <td>1000_4</td>\n",
       "      <td>302.56</td>\n",
       "      <td>2018-09-24</td>\n",
       "      <td>1000</td>\n",
       "      <td>9</td>\n",
       "    </tr>\n",
       "  </tbody>\n",
       "</table>\n",
       "</div>"
      ],
      "text/plain": [
       "       id  mb_used session_date  user_id  month\n",
       "0  1000_0   112.95   2018-11-25     1000     11\n",
       "1  1000_1  1052.81   2018-09-07     1000      9\n",
       "2  1000_2  1197.26   2018-06-25     1000      6\n",
       "3  1000_3   550.27   2018-08-22     1000      8\n",
       "4  1000_4   302.56   2018-09-24     1000      9"
      ]
     },
     "execution_count": 36,
     "metadata": {},
     "output_type": "execute_result"
    }
   ],
   "source": [
    "internet.head()"
   ]
  },
  {
   "cell_type": "code",
   "execution_count": 37,
   "metadata": {},
   "outputs": [
    {
     "data": {
      "text/html": [
       "<div>\n",
       "<style scoped>\n",
       "    .dataframe tbody tr th:only-of-type {\n",
       "        vertical-align: middle;\n",
       "    }\n",
       "\n",
       "    .dataframe tbody tr th {\n",
       "        vertical-align: top;\n",
       "    }\n",
       "\n",
       "    .dataframe thead th {\n",
       "        text-align: right;\n",
       "    }\n",
       "</style>\n",
       "<table border=\"1\" class=\"dataframe\">\n",
       "  <thead>\n",
       "    <tr style=\"text-align: right;\">\n",
       "      <th></th>\n",
       "      <th></th>\n",
       "      <th>mb_used</th>\n",
       "    </tr>\n",
       "    <tr>\n",
       "      <th>user_id</th>\n",
       "      <th>month</th>\n",
       "      <th></th>\n",
       "    </tr>\n",
       "  </thead>\n",
       "  <tbody>\n",
       "    <tr>\n",
       "      <th rowspan=\"5\" valign=\"top\">1000</th>\n",
       "      <th>5</th>\n",
       "      <td>2253.49</td>\n",
       "    </tr>\n",
       "    <tr>\n",
       "      <th>6</th>\n",
       "      <td>23233.77</td>\n",
       "    </tr>\n",
       "    <tr>\n",
       "      <th>7</th>\n",
       "      <td>14003.64</td>\n",
       "    </tr>\n",
       "    <tr>\n",
       "      <th>8</th>\n",
       "      <td>14055.93</td>\n",
       "    </tr>\n",
       "    <tr>\n",
       "      <th>9</th>\n",
       "      <td>14568.91</td>\n",
       "    </tr>\n",
       "    <tr>\n",
       "      <th>...</th>\n",
       "      <th>...</th>\n",
       "      <td>...</td>\n",
       "    </tr>\n",
       "    <tr>\n",
       "      <th>1498</th>\n",
       "      <th>10</th>\n",
       "      <td>20579.36</td>\n",
       "    </tr>\n",
       "    <tr>\n",
       "      <th rowspan=\"4\" valign=\"top\">1499</th>\n",
       "      <th>9</th>\n",
       "      <td>1845.75</td>\n",
       "    </tr>\n",
       "    <tr>\n",
       "      <th>10</th>\n",
       "      <td>17788.51</td>\n",
       "    </tr>\n",
       "    <tr>\n",
       "      <th>11</th>\n",
       "      <td>17963.31</td>\n",
       "    </tr>\n",
       "    <tr>\n",
       "      <th>12</th>\n",
       "      <td>13055.58</td>\n",
       "    </tr>\n",
       "  </tbody>\n",
       "</table>\n",
       "<p>3203 rows × 1 columns</p>\n",
       "</div>"
      ],
      "text/plain": [
       "                mb_used\n",
       "user_id month          \n",
       "1000    5       2253.49\n",
       "        6      23233.77\n",
       "        7      14003.64\n",
       "        8      14055.93\n",
       "        9      14568.91\n",
       "...                 ...\n",
       "1498    10     20579.36\n",
       "1499    9       1845.75\n",
       "        10     17788.51\n",
       "        11     17963.31\n",
       "        12     13055.58\n",
       "\n",
       "[3203 rows x 1 columns]"
      ]
     },
     "execution_count": 37,
     "metadata": {},
     "output_type": "execute_result"
    }
   ],
   "source": [
    "internet_pivot = internet.pivot_table(index = ['user_id', 'month'], values = 'mb_used', aggfunc = 'sum')\n",
    "internet_pivot"
   ]
  },
  {
   "cell_type": "code",
   "execution_count": 38,
   "metadata": {},
   "outputs": [
    {
     "data": {
      "text/html": [
       "<div>\n",
       "<style scoped>\n",
       "    .dataframe tbody tr th:only-of-type {\n",
       "        vertical-align: middle;\n",
       "    }\n",
       "\n",
       "    .dataframe tbody tr th {\n",
       "        vertical-align: top;\n",
       "    }\n",
       "\n",
       "    .dataframe thead th {\n",
       "        text-align: right;\n",
       "    }\n",
       "</style>\n",
       "<table border=\"1\" class=\"dataframe\">\n",
       "  <thead>\n",
       "    <tr style=\"text-align: right;\">\n",
       "      <th></th>\n",
       "      <th>id</th>\n",
       "      <th>message_date</th>\n",
       "      <th>user_id</th>\n",
       "      <th>month</th>\n",
       "    </tr>\n",
       "  </thead>\n",
       "  <tbody>\n",
       "    <tr>\n",
       "      <th>0</th>\n",
       "      <td>1000_0</td>\n",
       "      <td>2018-06-27</td>\n",
       "      <td>1000</td>\n",
       "      <td>6</td>\n",
       "    </tr>\n",
       "    <tr>\n",
       "      <th>1</th>\n",
       "      <td>1000_1</td>\n",
       "      <td>2018-10-08</td>\n",
       "      <td>1000</td>\n",
       "      <td>10</td>\n",
       "    </tr>\n",
       "    <tr>\n",
       "      <th>2</th>\n",
       "      <td>1000_2</td>\n",
       "      <td>2018-08-04</td>\n",
       "      <td>1000</td>\n",
       "      <td>8</td>\n",
       "    </tr>\n",
       "    <tr>\n",
       "      <th>3</th>\n",
       "      <td>1000_3</td>\n",
       "      <td>2018-06-16</td>\n",
       "      <td>1000</td>\n",
       "      <td>6</td>\n",
       "    </tr>\n",
       "    <tr>\n",
       "      <th>4</th>\n",
       "      <td>1000_4</td>\n",
       "      <td>2018-12-05</td>\n",
       "      <td>1000</td>\n",
       "      <td>12</td>\n",
       "    </tr>\n",
       "  </tbody>\n",
       "</table>\n",
       "</div>"
      ],
      "text/plain": [
       "       id message_date  user_id  month\n",
       "0  1000_0   2018-06-27     1000      6\n",
       "1  1000_1   2018-10-08     1000     10\n",
       "2  1000_2   2018-08-04     1000      8\n",
       "3  1000_3   2018-06-16     1000      6\n",
       "4  1000_4   2018-12-05     1000     12"
      ]
     },
     "execution_count": 38,
     "metadata": {},
     "output_type": "execute_result"
    }
   ],
   "source": [
    "messages['month'] = messages['message_date'].dt.month\n",
    "messages.head()"
   ]
  },
  {
   "cell_type": "code",
   "execution_count": 39,
   "metadata": {},
   "outputs": [
    {
     "data": {
      "text/html": [
       "<div>\n",
       "<style scoped>\n",
       "    .dataframe tbody tr th:only-of-type {\n",
       "        vertical-align: middle;\n",
       "    }\n",
       "\n",
       "    .dataframe tbody tr th {\n",
       "        vertical-align: top;\n",
       "    }\n",
       "\n",
       "    .dataframe thead th {\n",
       "        text-align: right;\n",
       "    }\n",
       "</style>\n",
       "<table border=\"1\" class=\"dataframe\">\n",
       "  <thead>\n",
       "    <tr style=\"text-align: right;\">\n",
       "      <th></th>\n",
       "      <th></th>\n",
       "      <th>message_date</th>\n",
       "    </tr>\n",
       "    <tr>\n",
       "      <th>user_id</th>\n",
       "      <th>month</th>\n",
       "      <th></th>\n",
       "    </tr>\n",
       "  </thead>\n",
       "  <tbody>\n",
       "    <tr>\n",
       "      <th rowspan=\"5\" valign=\"top\">1000</th>\n",
       "      <th>5</th>\n",
       "      <td>22</td>\n",
       "    </tr>\n",
       "    <tr>\n",
       "      <th>6</th>\n",
       "      <td>60</td>\n",
       "    </tr>\n",
       "    <tr>\n",
       "      <th>7</th>\n",
       "      <td>75</td>\n",
       "    </tr>\n",
       "    <tr>\n",
       "      <th>8</th>\n",
       "      <td>81</td>\n",
       "    </tr>\n",
       "    <tr>\n",
       "      <th>9</th>\n",
       "      <td>57</td>\n",
       "    </tr>\n",
       "    <tr>\n",
       "      <th>...</th>\n",
       "      <th>...</th>\n",
       "      <td>...</td>\n",
       "    </tr>\n",
       "    <tr>\n",
       "      <th>1498</th>\n",
       "      <th>10</th>\n",
       "      <td>42</td>\n",
       "    </tr>\n",
       "    <tr>\n",
       "      <th rowspan=\"4\" valign=\"top\">1499</th>\n",
       "      <th>9</th>\n",
       "      <td>11</td>\n",
       "    </tr>\n",
       "    <tr>\n",
       "      <th>10</th>\n",
       "      <td>48</td>\n",
       "    </tr>\n",
       "    <tr>\n",
       "      <th>11</th>\n",
       "      <td>59</td>\n",
       "    </tr>\n",
       "    <tr>\n",
       "      <th>12</th>\n",
       "      <td>66</td>\n",
       "    </tr>\n",
       "  </tbody>\n",
       "</table>\n",
       "<p>2717 rows × 1 columns</p>\n",
       "</div>"
      ],
      "text/plain": [
       "               message_date\n",
       "user_id month              \n",
       "1000    5                22\n",
       "        6                60\n",
       "        7                75\n",
       "        8                81\n",
       "        9                57\n",
       "...                     ...\n",
       "1498    10               42\n",
       "1499    9                11\n",
       "        10               48\n",
       "        11               59\n",
       "        12               66\n",
       "\n",
       "[2717 rows x 1 columns]"
      ]
     },
     "execution_count": 39,
     "metadata": {},
     "output_type": "execute_result"
    }
   ],
   "source": [
    "messages_pivot = messages.pivot_table(index = ['user_id', 'month'], values = 'message_date', aggfunc = 'count')\n",
    "messages_pivot"
   ]
  },
  {
   "cell_type": "code",
   "execution_count": 40,
   "metadata": {},
   "outputs": [
    {
     "data": {
      "text/html": [
       "<div>\n",
       "<style scoped>\n",
       "    .dataframe tbody tr th:only-of-type {\n",
       "        vertical-align: middle;\n",
       "    }\n",
       "\n",
       "    .dataframe tbody tr th {\n",
       "        vertical-align: top;\n",
       "    }\n",
       "\n",
       "    .dataframe thead th {\n",
       "        text-align: right;\n",
       "    }\n",
       "</style>\n",
       "<table border=\"1\" class=\"dataframe\">\n",
       "  <thead>\n",
       "    <tr style=\"text-align: right;\">\n",
       "      <th></th>\n",
       "      <th></th>\n",
       "      <th>messages</th>\n",
       "    </tr>\n",
       "    <tr>\n",
       "      <th>user_id</th>\n",
       "      <th>month</th>\n",
       "      <th></th>\n",
       "    </tr>\n",
       "  </thead>\n",
       "  <tbody>\n",
       "    <tr>\n",
       "      <th rowspan=\"5\" valign=\"top\">1000</th>\n",
       "      <th>5</th>\n",
       "      <td>22</td>\n",
       "    </tr>\n",
       "    <tr>\n",
       "      <th>6</th>\n",
       "      <td>60</td>\n",
       "    </tr>\n",
       "    <tr>\n",
       "      <th>7</th>\n",
       "      <td>75</td>\n",
       "    </tr>\n",
       "    <tr>\n",
       "      <th>8</th>\n",
       "      <td>81</td>\n",
       "    </tr>\n",
       "    <tr>\n",
       "      <th>9</th>\n",
       "      <td>57</td>\n",
       "    </tr>\n",
       "    <tr>\n",
       "      <th>...</th>\n",
       "      <th>...</th>\n",
       "      <td>...</td>\n",
       "    </tr>\n",
       "    <tr>\n",
       "      <th>1498</th>\n",
       "      <th>10</th>\n",
       "      <td>42</td>\n",
       "    </tr>\n",
       "    <tr>\n",
       "      <th rowspan=\"4\" valign=\"top\">1499</th>\n",
       "      <th>9</th>\n",
       "      <td>11</td>\n",
       "    </tr>\n",
       "    <tr>\n",
       "      <th>10</th>\n",
       "      <td>48</td>\n",
       "    </tr>\n",
       "    <tr>\n",
       "      <th>11</th>\n",
       "      <td>59</td>\n",
       "    </tr>\n",
       "    <tr>\n",
       "      <th>12</th>\n",
       "      <td>66</td>\n",
       "    </tr>\n",
       "  </tbody>\n",
       "</table>\n",
       "<p>2717 rows × 1 columns</p>\n",
       "</div>"
      ],
      "text/plain": [
       "               messages\n",
       "user_id month          \n",
       "1000    5            22\n",
       "        6            60\n",
       "        7            75\n",
       "        8            81\n",
       "        9            57\n",
       "...                 ...\n",
       "1498    10           42\n",
       "1499    9            11\n",
       "        10           48\n",
       "        11           59\n",
       "        12           66\n",
       "\n",
       "[2717 rows x 1 columns]"
      ]
     },
     "execution_count": 40,
     "metadata": {},
     "output_type": "execute_result"
    }
   ],
   "source": [
    "messages_pivot.columns = ['messages']\n",
    "messages_pivot"
   ]
  },
  {
   "cell_type": "markdown",
   "metadata": {},
   "source": [
    "Объединим таблицы в одну."
   ]
  },
  {
   "cell_type": "code",
   "execution_count": 41,
   "metadata": {},
   "outputs": [
    {
     "data": {
      "text/html": [
       "<div>\n",
       "<style scoped>\n",
       "    .dataframe tbody tr th:only-of-type {\n",
       "        vertical-align: middle;\n",
       "    }\n",
       "\n",
       "    .dataframe tbody tr th {\n",
       "        vertical-align: top;\n",
       "    }\n",
       "\n",
       "    .dataframe thead th {\n",
       "        text-align: right;\n",
       "    }\n",
       "</style>\n",
       "<table border=\"1\" class=\"dataframe\">\n",
       "  <thead>\n",
       "    <tr style=\"text-align: right;\">\n",
       "      <th></th>\n",
       "      <th></th>\n",
       "      <th>calls</th>\n",
       "      <th>calls_duration</th>\n",
       "      <th>mb_used</th>\n",
       "    </tr>\n",
       "    <tr>\n",
       "      <th>user_id</th>\n",
       "      <th>month</th>\n",
       "      <th></th>\n",
       "      <th></th>\n",
       "      <th></th>\n",
       "    </tr>\n",
       "  </thead>\n",
       "  <tbody>\n",
       "    <tr>\n",
       "      <th rowspan=\"5\" valign=\"top\">1000</th>\n",
       "      <th>5</th>\n",
       "      <td>22.0</td>\n",
       "      <td>159.0</td>\n",
       "      <td>2253.49</td>\n",
       "    </tr>\n",
       "    <tr>\n",
       "      <th>6</th>\n",
       "      <td>43.0</td>\n",
       "      <td>172.0</td>\n",
       "      <td>23233.77</td>\n",
       "    </tr>\n",
       "    <tr>\n",
       "      <th>7</th>\n",
       "      <td>47.0</td>\n",
       "      <td>340.0</td>\n",
       "      <td>14003.64</td>\n",
       "    </tr>\n",
       "    <tr>\n",
       "      <th>8</th>\n",
       "      <td>52.0</td>\n",
       "      <td>408.0</td>\n",
       "      <td>14055.93</td>\n",
       "    </tr>\n",
       "    <tr>\n",
       "      <th>9</th>\n",
       "      <td>58.0</td>\n",
       "      <td>466.0</td>\n",
       "      <td>14568.91</td>\n",
       "    </tr>\n",
       "    <tr>\n",
       "      <th>...</th>\n",
       "      <th>...</th>\n",
       "      <td>...</td>\n",
       "      <td>...</td>\n",
       "      <td>...</td>\n",
       "    </tr>\n",
       "    <tr>\n",
       "      <th rowspan=\"5\" valign=\"top\">1489</th>\n",
       "      <th>8</th>\n",
       "      <td>NaN</td>\n",
       "      <td>NaN</td>\n",
       "      <td>11050.56</td>\n",
       "    </tr>\n",
       "    <tr>\n",
       "      <th>9</th>\n",
       "      <td>NaN</td>\n",
       "      <td>NaN</td>\n",
       "      <td>17206.30</td>\n",
       "    </tr>\n",
       "    <tr>\n",
       "      <th>10</th>\n",
       "      <td>NaN</td>\n",
       "      <td>NaN</td>\n",
       "      <td>19559.44</td>\n",
       "    </tr>\n",
       "    <tr>\n",
       "      <th>11</th>\n",
       "      <td>NaN</td>\n",
       "      <td>NaN</td>\n",
       "      <td>17491.56</td>\n",
       "    </tr>\n",
       "    <tr>\n",
       "      <th>12</th>\n",
       "      <td>NaN</td>\n",
       "      <td>NaN</td>\n",
       "      <td>17322.51</td>\n",
       "    </tr>\n",
       "  </tbody>\n",
       "</table>\n",
       "<p>3214 rows × 3 columns</p>\n",
       "</div>"
      ],
      "text/plain": [
       "               calls  calls_duration   mb_used\n",
       "user_id month                                 \n",
       "1000    5       22.0           159.0   2253.49\n",
       "        6       43.0           172.0  23233.77\n",
       "        7       47.0           340.0  14003.64\n",
       "        8       52.0           408.0  14055.93\n",
       "        9       58.0           466.0  14568.91\n",
       "...              ...             ...       ...\n",
       "1489    8        NaN             NaN  11050.56\n",
       "        9        NaN             NaN  17206.30\n",
       "        10       NaN             NaN  19559.44\n",
       "        11       NaN             NaN  17491.56\n",
       "        12       NaN             NaN  17322.51\n",
       "\n",
       "[3214 rows x 3 columns]"
      ]
     },
     "execution_count": 41,
     "metadata": {},
     "output_type": "execute_result"
    }
   ],
   "source": [
    "final_pivot = calls_pivot.merge(internet_pivot, how = 'outer', on = ['user_id', 'month'])\n",
    "final_pivot\n"
   ]
  },
  {
   "cell_type": "code",
   "execution_count": 42,
   "metadata": {},
   "outputs": [
    {
     "data": {
      "text/html": [
       "<div>\n",
       "<style scoped>\n",
       "    .dataframe tbody tr th:only-of-type {\n",
       "        vertical-align: middle;\n",
       "    }\n",
       "\n",
       "    .dataframe tbody tr th {\n",
       "        vertical-align: top;\n",
       "    }\n",
       "\n",
       "    .dataframe thead th {\n",
       "        text-align: right;\n",
       "    }\n",
       "</style>\n",
       "<table border=\"1\" class=\"dataframe\">\n",
       "  <thead>\n",
       "    <tr style=\"text-align: right;\">\n",
       "      <th></th>\n",
       "      <th></th>\n",
       "      <th>calls</th>\n",
       "      <th>calls_duration</th>\n",
       "      <th>mb_used</th>\n",
       "      <th>messages</th>\n",
       "    </tr>\n",
       "    <tr>\n",
       "      <th>user_id</th>\n",
       "      <th>month</th>\n",
       "      <th></th>\n",
       "      <th></th>\n",
       "      <th></th>\n",
       "      <th></th>\n",
       "    </tr>\n",
       "  </thead>\n",
       "  <tbody>\n",
       "    <tr>\n",
       "      <th rowspan=\"5\" valign=\"top\">1000</th>\n",
       "      <th>5</th>\n",
       "      <td>22.0</td>\n",
       "      <td>159.0</td>\n",
       "      <td>2253.49</td>\n",
       "      <td>22.0</td>\n",
       "    </tr>\n",
       "    <tr>\n",
       "      <th>6</th>\n",
       "      <td>43.0</td>\n",
       "      <td>172.0</td>\n",
       "      <td>23233.77</td>\n",
       "      <td>60.0</td>\n",
       "    </tr>\n",
       "    <tr>\n",
       "      <th>7</th>\n",
       "      <td>47.0</td>\n",
       "      <td>340.0</td>\n",
       "      <td>14003.64</td>\n",
       "      <td>75.0</td>\n",
       "    </tr>\n",
       "    <tr>\n",
       "      <th>8</th>\n",
       "      <td>52.0</td>\n",
       "      <td>408.0</td>\n",
       "      <td>14055.93</td>\n",
       "      <td>81.0</td>\n",
       "    </tr>\n",
       "    <tr>\n",
       "      <th>9</th>\n",
       "      <td>58.0</td>\n",
       "      <td>466.0</td>\n",
       "      <td>14568.91</td>\n",
       "      <td>57.0</td>\n",
       "    </tr>\n",
       "    <tr>\n",
       "      <th>...</th>\n",
       "      <th>...</th>\n",
       "      <td>...</td>\n",
       "      <td>...</td>\n",
       "      <td>...</td>\n",
       "      <td>...</td>\n",
       "    </tr>\n",
       "    <tr>\n",
       "      <th rowspan=\"5\" valign=\"top\">1489</th>\n",
       "      <th>8</th>\n",
       "      <td>NaN</td>\n",
       "      <td>NaN</td>\n",
       "      <td>11050.56</td>\n",
       "      <td>17.0</td>\n",
       "    </tr>\n",
       "    <tr>\n",
       "      <th>9</th>\n",
       "      <td>NaN</td>\n",
       "      <td>NaN</td>\n",
       "      <td>17206.30</td>\n",
       "      <td>32.0</td>\n",
       "    </tr>\n",
       "    <tr>\n",
       "      <th>10</th>\n",
       "      <td>NaN</td>\n",
       "      <td>NaN</td>\n",
       "      <td>19559.44</td>\n",
       "      <td>21.0</td>\n",
       "    </tr>\n",
       "    <tr>\n",
       "      <th>11</th>\n",
       "      <td>NaN</td>\n",
       "      <td>NaN</td>\n",
       "      <td>17491.56</td>\n",
       "      <td>20.0</td>\n",
       "    </tr>\n",
       "    <tr>\n",
       "      <th>12</th>\n",
       "      <td>NaN</td>\n",
       "      <td>NaN</td>\n",
       "      <td>17322.51</td>\n",
       "      <td>35.0</td>\n",
       "    </tr>\n",
       "  </tbody>\n",
       "</table>\n",
       "<p>3214 rows × 4 columns</p>\n",
       "</div>"
      ],
      "text/plain": [
       "               calls  calls_duration   mb_used  messages\n",
       "user_id month                                           \n",
       "1000    5       22.0           159.0   2253.49      22.0\n",
       "        6       43.0           172.0  23233.77      60.0\n",
       "        7       47.0           340.0  14003.64      75.0\n",
       "        8       52.0           408.0  14055.93      81.0\n",
       "        9       58.0           466.0  14568.91      57.0\n",
       "...              ...             ...       ...       ...\n",
       "1489    8        NaN             NaN  11050.56      17.0\n",
       "        9        NaN             NaN  17206.30      32.0\n",
       "        10       NaN             NaN  19559.44      21.0\n",
       "        11       NaN             NaN  17491.56      20.0\n",
       "        12       NaN             NaN  17322.51      35.0\n",
       "\n",
       "[3214 rows x 4 columns]"
      ]
     },
     "execution_count": 42,
     "metadata": {},
     "output_type": "execute_result"
    }
   ],
   "source": [
    "final_pivot = final_pivot.merge(messages_pivot, how = 'outer', on = ['user_id', 'month'])\n",
    "final_pivot"
   ]
  },
  {
   "cell_type": "code",
   "execution_count": 43,
   "metadata": {},
   "outputs": [
    {
     "data": {
      "text/html": [
       "<div>\n",
       "<style scoped>\n",
       "    .dataframe tbody tr th:only-of-type {\n",
       "        vertical-align: middle;\n",
       "    }\n",
       "\n",
       "    .dataframe tbody tr th {\n",
       "        vertical-align: top;\n",
       "    }\n",
       "\n",
       "    .dataframe thead th {\n",
       "        text-align: right;\n",
       "    }\n",
       "</style>\n",
       "<table border=\"1\" class=\"dataframe\">\n",
       "  <thead>\n",
       "    <tr style=\"text-align: right;\">\n",
       "      <th></th>\n",
       "      <th>user_id</th>\n",
       "      <th>calls</th>\n",
       "      <th>calls_duration</th>\n",
       "      <th>mb_used</th>\n",
       "      <th>messages</th>\n",
       "      <th>age</th>\n",
       "      <th>churn_date</th>\n",
       "      <th>city</th>\n",
       "      <th>first_name</th>\n",
       "      <th>last_name</th>\n",
       "      <th>reg_date</th>\n",
       "      <th>tariff</th>\n",
       "    </tr>\n",
       "  </thead>\n",
       "  <tbody>\n",
       "    <tr>\n",
       "      <th>0</th>\n",
       "      <td>1000</td>\n",
       "      <td>22.0</td>\n",
       "      <td>159.0</td>\n",
       "      <td>2253.49</td>\n",
       "      <td>22.0</td>\n",
       "      <td>52</td>\n",
       "      <td>NaN</td>\n",
       "      <td>Краснодар</td>\n",
       "      <td>Рафаил</td>\n",
       "      <td>Верещагин</td>\n",
       "      <td>2018-05-25</td>\n",
       "      <td>ultra</td>\n",
       "    </tr>\n",
       "    <tr>\n",
       "      <th>1</th>\n",
       "      <td>1000</td>\n",
       "      <td>43.0</td>\n",
       "      <td>172.0</td>\n",
       "      <td>23233.77</td>\n",
       "      <td>60.0</td>\n",
       "      <td>52</td>\n",
       "      <td>NaN</td>\n",
       "      <td>Краснодар</td>\n",
       "      <td>Рафаил</td>\n",
       "      <td>Верещагин</td>\n",
       "      <td>2018-05-25</td>\n",
       "      <td>ultra</td>\n",
       "    </tr>\n",
       "    <tr>\n",
       "      <th>2</th>\n",
       "      <td>1000</td>\n",
       "      <td>47.0</td>\n",
       "      <td>340.0</td>\n",
       "      <td>14003.64</td>\n",
       "      <td>75.0</td>\n",
       "      <td>52</td>\n",
       "      <td>NaN</td>\n",
       "      <td>Краснодар</td>\n",
       "      <td>Рафаил</td>\n",
       "      <td>Верещагин</td>\n",
       "      <td>2018-05-25</td>\n",
       "      <td>ultra</td>\n",
       "    </tr>\n",
       "    <tr>\n",
       "      <th>3</th>\n",
       "      <td>1000</td>\n",
       "      <td>52.0</td>\n",
       "      <td>408.0</td>\n",
       "      <td>14055.93</td>\n",
       "      <td>81.0</td>\n",
       "      <td>52</td>\n",
       "      <td>NaN</td>\n",
       "      <td>Краснодар</td>\n",
       "      <td>Рафаил</td>\n",
       "      <td>Верещагин</td>\n",
       "      <td>2018-05-25</td>\n",
       "      <td>ultra</td>\n",
       "    </tr>\n",
       "    <tr>\n",
       "      <th>4</th>\n",
       "      <td>1000</td>\n",
       "      <td>58.0</td>\n",
       "      <td>466.0</td>\n",
       "      <td>14568.91</td>\n",
       "      <td>57.0</td>\n",
       "      <td>52</td>\n",
       "      <td>NaN</td>\n",
       "      <td>Краснодар</td>\n",
       "      <td>Рафаил</td>\n",
       "      <td>Верещагин</td>\n",
       "      <td>2018-05-25</td>\n",
       "      <td>ultra</td>\n",
       "    </tr>\n",
       "    <tr>\n",
       "      <th>...</th>\n",
       "      <td>...</td>\n",
       "      <td>...</td>\n",
       "      <td>...</td>\n",
       "      <td>...</td>\n",
       "      <td>...</td>\n",
       "      <td>...</td>\n",
       "      <td>...</td>\n",
       "      <td>...</td>\n",
       "      <td>...</td>\n",
       "      <td>...</td>\n",
       "      <td>...</td>\n",
       "      <td>...</td>\n",
       "    </tr>\n",
       "    <tr>\n",
       "      <th>3209</th>\n",
       "      <td>1489</td>\n",
       "      <td>NaN</td>\n",
       "      <td>NaN</td>\n",
       "      <td>11050.56</td>\n",
       "      <td>17.0</td>\n",
       "      <td>35</td>\n",
       "      <td>NaN</td>\n",
       "      <td>Санкт-Петербург</td>\n",
       "      <td>Павел</td>\n",
       "      <td>Гончаров</td>\n",
       "      <td>2018-08-15</td>\n",
       "      <td>smart</td>\n",
       "    </tr>\n",
       "    <tr>\n",
       "      <th>3210</th>\n",
       "      <td>1489</td>\n",
       "      <td>NaN</td>\n",
       "      <td>NaN</td>\n",
       "      <td>17206.30</td>\n",
       "      <td>32.0</td>\n",
       "      <td>35</td>\n",
       "      <td>NaN</td>\n",
       "      <td>Санкт-Петербург</td>\n",
       "      <td>Павел</td>\n",
       "      <td>Гончаров</td>\n",
       "      <td>2018-08-15</td>\n",
       "      <td>smart</td>\n",
       "    </tr>\n",
       "    <tr>\n",
       "      <th>3211</th>\n",
       "      <td>1489</td>\n",
       "      <td>NaN</td>\n",
       "      <td>NaN</td>\n",
       "      <td>19559.44</td>\n",
       "      <td>21.0</td>\n",
       "      <td>35</td>\n",
       "      <td>NaN</td>\n",
       "      <td>Санкт-Петербург</td>\n",
       "      <td>Павел</td>\n",
       "      <td>Гончаров</td>\n",
       "      <td>2018-08-15</td>\n",
       "      <td>smart</td>\n",
       "    </tr>\n",
       "    <tr>\n",
       "      <th>3212</th>\n",
       "      <td>1489</td>\n",
       "      <td>NaN</td>\n",
       "      <td>NaN</td>\n",
       "      <td>17491.56</td>\n",
       "      <td>20.0</td>\n",
       "      <td>35</td>\n",
       "      <td>NaN</td>\n",
       "      <td>Санкт-Петербург</td>\n",
       "      <td>Павел</td>\n",
       "      <td>Гончаров</td>\n",
       "      <td>2018-08-15</td>\n",
       "      <td>smart</td>\n",
       "    </tr>\n",
       "    <tr>\n",
       "      <th>3213</th>\n",
       "      <td>1489</td>\n",
       "      <td>NaN</td>\n",
       "      <td>NaN</td>\n",
       "      <td>17322.51</td>\n",
       "      <td>35.0</td>\n",
       "      <td>35</td>\n",
       "      <td>NaN</td>\n",
       "      <td>Санкт-Петербург</td>\n",
       "      <td>Павел</td>\n",
       "      <td>Гончаров</td>\n",
       "      <td>2018-08-15</td>\n",
       "      <td>smart</td>\n",
       "    </tr>\n",
       "  </tbody>\n",
       "</table>\n",
       "<p>3214 rows × 12 columns</p>\n",
       "</div>"
      ],
      "text/plain": [
       "      user_id  calls  calls_duration   mb_used  messages  age churn_date  \\\n",
       "0        1000   22.0           159.0   2253.49      22.0   52        NaN   \n",
       "1        1000   43.0           172.0  23233.77      60.0   52        NaN   \n",
       "2        1000   47.0           340.0  14003.64      75.0   52        NaN   \n",
       "3        1000   52.0           408.0  14055.93      81.0   52        NaN   \n",
       "4        1000   58.0           466.0  14568.91      57.0   52        NaN   \n",
       "...       ...    ...             ...       ...       ...  ...        ...   \n",
       "3209     1489    NaN             NaN  11050.56      17.0   35        NaN   \n",
       "3210     1489    NaN             NaN  17206.30      32.0   35        NaN   \n",
       "3211     1489    NaN             NaN  19559.44      21.0   35        NaN   \n",
       "3212     1489    NaN             NaN  17491.56      20.0   35        NaN   \n",
       "3213     1489    NaN             NaN  17322.51      35.0   35        NaN   \n",
       "\n",
       "                 city first_name  last_name    reg_date tariff  \n",
       "0           Краснодар     Рафаил  Верещагин  2018-05-25  ultra  \n",
       "1           Краснодар     Рафаил  Верещагин  2018-05-25  ultra  \n",
       "2           Краснодар     Рафаил  Верещагин  2018-05-25  ultra  \n",
       "3           Краснодар     Рафаил  Верещагин  2018-05-25  ultra  \n",
       "4           Краснодар     Рафаил  Верещагин  2018-05-25  ultra  \n",
       "...               ...        ...        ...         ...    ...  \n",
       "3209  Санкт-Петербург      Павел   Гончаров  2018-08-15  smart  \n",
       "3210  Санкт-Петербург      Павел   Гончаров  2018-08-15  smart  \n",
       "3211  Санкт-Петербург      Павел   Гончаров  2018-08-15  smart  \n",
       "3212  Санкт-Петербург      Павел   Гончаров  2018-08-15  smart  \n",
       "3213  Санкт-Петербург      Павел   Гончаров  2018-08-15  smart  \n",
       "\n",
       "[3214 rows x 12 columns]"
      ]
     },
     "execution_count": 43,
     "metadata": {},
     "output_type": "execute_result"
    }
   ],
   "source": [
    "final_pivot = final_pivot.merge(users, how = 'left', on = 'user_id')\n",
    "final_pivot"
   ]
  },
  {
   "cell_type": "code",
   "execution_count": 44,
   "metadata": {},
   "outputs": [
    {
     "name": "stdout",
     "output_type": "stream",
     "text": [
      "<class 'pandas.core.frame.DataFrame'>\n",
      "Int64Index: 3214 entries, 0 to 3213\n",
      "Data columns (total 12 columns):\n",
      " #   Column          Non-Null Count  Dtype  \n",
      "---  ------          --------------  -----  \n",
      " 0   user_id         3214 non-null   int64  \n",
      " 1   calls           3174 non-null   float64\n",
      " 2   calls_duration  3174 non-null   float64\n",
      " 3   mb_used         3203 non-null   float64\n",
      " 4   messages        2717 non-null   float64\n",
      " 5   age             3214 non-null   int64  \n",
      " 6   churn_date      187 non-null    object \n",
      " 7   city            3214 non-null   object \n",
      " 8   first_name      3214 non-null   object \n",
      " 9   last_name       3214 non-null   object \n",
      " 10  reg_date        3214 non-null   object \n",
      " 11  tariff          3214 non-null   object \n",
      "dtypes: float64(4), int64(2), object(6)\n",
      "memory usage: 326.4+ KB\n"
     ]
    }
   ],
   "source": [
    "final_pivot.info()"
   ]
  },
  {
   "cell_type": "markdown",
   "metadata": {},
   "source": [
    "По результатам месяца компания \"Мегалайн\" округляет длительность разговоров до минут, а мегабайты — до гигабайт."
   ]
  },
  {
   "cell_type": "code",
   "execution_count": 45,
   "metadata": {},
   "outputs": [],
   "source": [
    "final_pivot['gb_used'] = np.ceil(final_pivot['mb_used'] / 1024)"
   ]
  },
  {
   "cell_type": "code",
   "execution_count": 46,
   "metadata": {},
   "outputs": [
    {
     "data": {
      "text/html": [
       "<div>\n",
       "<style scoped>\n",
       "    .dataframe tbody tr th:only-of-type {\n",
       "        vertical-align: middle;\n",
       "    }\n",
       "\n",
       "    .dataframe tbody tr th {\n",
       "        vertical-align: top;\n",
       "    }\n",
       "\n",
       "    .dataframe thead th {\n",
       "        text-align: right;\n",
       "    }\n",
       "</style>\n",
       "<table border=\"1\" class=\"dataframe\">\n",
       "  <thead>\n",
       "    <tr style=\"text-align: right;\">\n",
       "      <th></th>\n",
       "      <th>user_id</th>\n",
       "      <th>calls</th>\n",
       "      <th>calls_duration</th>\n",
       "      <th>mb_used</th>\n",
       "      <th>messages</th>\n",
       "      <th>age</th>\n",
       "      <th>churn_date</th>\n",
       "      <th>city</th>\n",
       "      <th>first_name</th>\n",
       "      <th>last_name</th>\n",
       "      <th>reg_date</th>\n",
       "      <th>tariff</th>\n",
       "      <th>gb_used</th>\n",
       "    </tr>\n",
       "  </thead>\n",
       "  <tbody>\n",
       "    <tr>\n",
       "      <th>0</th>\n",
       "      <td>1000</td>\n",
       "      <td>22.0</td>\n",
       "      <td>159.0</td>\n",
       "      <td>2253.49</td>\n",
       "      <td>22.0</td>\n",
       "      <td>52</td>\n",
       "      <td>NaN</td>\n",
       "      <td>Краснодар</td>\n",
       "      <td>Рафаил</td>\n",
       "      <td>Верещагин</td>\n",
       "      <td>2018-05-25</td>\n",
       "      <td>ultra</td>\n",
       "      <td>3.0</td>\n",
       "    </tr>\n",
       "    <tr>\n",
       "      <th>1</th>\n",
       "      <td>1000</td>\n",
       "      <td>43.0</td>\n",
       "      <td>172.0</td>\n",
       "      <td>23233.77</td>\n",
       "      <td>60.0</td>\n",
       "      <td>52</td>\n",
       "      <td>NaN</td>\n",
       "      <td>Краснодар</td>\n",
       "      <td>Рафаил</td>\n",
       "      <td>Верещагин</td>\n",
       "      <td>2018-05-25</td>\n",
       "      <td>ultra</td>\n",
       "      <td>23.0</td>\n",
       "    </tr>\n",
       "    <tr>\n",
       "      <th>2</th>\n",
       "      <td>1000</td>\n",
       "      <td>47.0</td>\n",
       "      <td>340.0</td>\n",
       "      <td>14003.64</td>\n",
       "      <td>75.0</td>\n",
       "      <td>52</td>\n",
       "      <td>NaN</td>\n",
       "      <td>Краснодар</td>\n",
       "      <td>Рафаил</td>\n",
       "      <td>Верещагин</td>\n",
       "      <td>2018-05-25</td>\n",
       "      <td>ultra</td>\n",
       "      <td>14.0</td>\n",
       "    </tr>\n",
       "    <tr>\n",
       "      <th>3</th>\n",
       "      <td>1000</td>\n",
       "      <td>52.0</td>\n",
       "      <td>408.0</td>\n",
       "      <td>14055.93</td>\n",
       "      <td>81.0</td>\n",
       "      <td>52</td>\n",
       "      <td>NaN</td>\n",
       "      <td>Краснодар</td>\n",
       "      <td>Рафаил</td>\n",
       "      <td>Верещагин</td>\n",
       "      <td>2018-05-25</td>\n",
       "      <td>ultra</td>\n",
       "      <td>14.0</td>\n",
       "    </tr>\n",
       "    <tr>\n",
       "      <th>4</th>\n",
       "      <td>1000</td>\n",
       "      <td>58.0</td>\n",
       "      <td>466.0</td>\n",
       "      <td>14568.91</td>\n",
       "      <td>57.0</td>\n",
       "      <td>52</td>\n",
       "      <td>NaN</td>\n",
       "      <td>Краснодар</td>\n",
       "      <td>Рафаил</td>\n",
       "      <td>Верещагин</td>\n",
       "      <td>2018-05-25</td>\n",
       "      <td>ultra</td>\n",
       "      <td>15.0</td>\n",
       "    </tr>\n",
       "    <tr>\n",
       "      <th>...</th>\n",
       "      <td>...</td>\n",
       "      <td>...</td>\n",
       "      <td>...</td>\n",
       "      <td>...</td>\n",
       "      <td>...</td>\n",
       "      <td>...</td>\n",
       "      <td>...</td>\n",
       "      <td>...</td>\n",
       "      <td>...</td>\n",
       "      <td>...</td>\n",
       "      <td>...</td>\n",
       "      <td>...</td>\n",
       "      <td>...</td>\n",
       "    </tr>\n",
       "    <tr>\n",
       "      <th>3209</th>\n",
       "      <td>1489</td>\n",
       "      <td>NaN</td>\n",
       "      <td>NaN</td>\n",
       "      <td>11050.56</td>\n",
       "      <td>17.0</td>\n",
       "      <td>35</td>\n",
       "      <td>NaN</td>\n",
       "      <td>Санкт-Петербург</td>\n",
       "      <td>Павел</td>\n",
       "      <td>Гончаров</td>\n",
       "      <td>2018-08-15</td>\n",
       "      <td>smart</td>\n",
       "      <td>11.0</td>\n",
       "    </tr>\n",
       "    <tr>\n",
       "      <th>3210</th>\n",
       "      <td>1489</td>\n",
       "      <td>NaN</td>\n",
       "      <td>NaN</td>\n",
       "      <td>17206.30</td>\n",
       "      <td>32.0</td>\n",
       "      <td>35</td>\n",
       "      <td>NaN</td>\n",
       "      <td>Санкт-Петербург</td>\n",
       "      <td>Павел</td>\n",
       "      <td>Гончаров</td>\n",
       "      <td>2018-08-15</td>\n",
       "      <td>smart</td>\n",
       "      <td>17.0</td>\n",
       "    </tr>\n",
       "    <tr>\n",
       "      <th>3211</th>\n",
       "      <td>1489</td>\n",
       "      <td>NaN</td>\n",
       "      <td>NaN</td>\n",
       "      <td>19559.44</td>\n",
       "      <td>21.0</td>\n",
       "      <td>35</td>\n",
       "      <td>NaN</td>\n",
       "      <td>Санкт-Петербург</td>\n",
       "      <td>Павел</td>\n",
       "      <td>Гончаров</td>\n",
       "      <td>2018-08-15</td>\n",
       "      <td>smart</td>\n",
       "      <td>20.0</td>\n",
       "    </tr>\n",
       "    <tr>\n",
       "      <th>3212</th>\n",
       "      <td>1489</td>\n",
       "      <td>NaN</td>\n",
       "      <td>NaN</td>\n",
       "      <td>17491.56</td>\n",
       "      <td>20.0</td>\n",
       "      <td>35</td>\n",
       "      <td>NaN</td>\n",
       "      <td>Санкт-Петербург</td>\n",
       "      <td>Павел</td>\n",
       "      <td>Гончаров</td>\n",
       "      <td>2018-08-15</td>\n",
       "      <td>smart</td>\n",
       "      <td>18.0</td>\n",
       "    </tr>\n",
       "    <tr>\n",
       "      <th>3213</th>\n",
       "      <td>1489</td>\n",
       "      <td>NaN</td>\n",
       "      <td>NaN</td>\n",
       "      <td>17322.51</td>\n",
       "      <td>35.0</td>\n",
       "      <td>35</td>\n",
       "      <td>NaN</td>\n",
       "      <td>Санкт-Петербург</td>\n",
       "      <td>Павел</td>\n",
       "      <td>Гончаров</td>\n",
       "      <td>2018-08-15</td>\n",
       "      <td>smart</td>\n",
       "      <td>17.0</td>\n",
       "    </tr>\n",
       "  </tbody>\n",
       "</table>\n",
       "<p>3214 rows × 13 columns</p>\n",
       "</div>"
      ],
      "text/plain": [
       "      user_id  calls  calls_duration   mb_used  messages  age churn_date  \\\n",
       "0        1000   22.0           159.0   2253.49      22.0   52        NaN   \n",
       "1        1000   43.0           172.0  23233.77      60.0   52        NaN   \n",
       "2        1000   47.0           340.0  14003.64      75.0   52        NaN   \n",
       "3        1000   52.0           408.0  14055.93      81.0   52        NaN   \n",
       "4        1000   58.0           466.0  14568.91      57.0   52        NaN   \n",
       "...       ...    ...             ...       ...       ...  ...        ...   \n",
       "3209     1489    NaN             NaN  11050.56      17.0   35        NaN   \n",
       "3210     1489    NaN             NaN  17206.30      32.0   35        NaN   \n",
       "3211     1489    NaN             NaN  19559.44      21.0   35        NaN   \n",
       "3212     1489    NaN             NaN  17491.56      20.0   35        NaN   \n",
       "3213     1489    NaN             NaN  17322.51      35.0   35        NaN   \n",
       "\n",
       "                 city first_name  last_name    reg_date tariff  gb_used  \n",
       "0           Краснодар     Рафаил  Верещагин  2018-05-25  ultra      3.0  \n",
       "1           Краснодар     Рафаил  Верещагин  2018-05-25  ultra     23.0  \n",
       "2           Краснодар     Рафаил  Верещагин  2018-05-25  ultra     14.0  \n",
       "3           Краснодар     Рафаил  Верещагин  2018-05-25  ultra     14.0  \n",
       "4           Краснодар     Рафаил  Верещагин  2018-05-25  ultra     15.0  \n",
       "...               ...        ...        ...         ...    ...      ...  \n",
       "3209  Санкт-Петербург      Павел   Гончаров  2018-08-15  smart     11.0  \n",
       "3210  Санкт-Петербург      Павел   Гончаров  2018-08-15  smart     17.0  \n",
       "3211  Санкт-Петербург      Павел   Гончаров  2018-08-15  smart     20.0  \n",
       "3212  Санкт-Петербург      Павел   Гончаров  2018-08-15  smart     18.0  \n",
       "3213  Санкт-Петербург      Павел   Гончаров  2018-08-15  smart     17.0  \n",
       "\n",
       "[3214 rows x 13 columns]"
      ]
     },
     "metadata": {},
     "output_type": "display_data"
    }
   ],
   "source": [
    "display(final_pivot)"
   ]
  },
  {
   "cell_type": "markdown",
   "metadata": {},
   "source": [
    "Удалим столбцы, которые не нужны нам для анализа."
   ]
  },
  {
   "cell_type": "code",
   "execution_count": 47,
   "metadata": {},
   "outputs": [],
   "source": [
    "del final_pivot['churn_date']\n",
    "del final_pivot['first_name']\n",
    "del final_pivot['last_name']\n",
    "del final_pivot['reg_date']\n",
    "del final_pivot['mb_used']"
   ]
  },
  {
   "cell_type": "code",
   "execution_count": 48,
   "metadata": {},
   "outputs": [
    {
     "data": {
      "text/html": [
       "<div>\n",
       "<style scoped>\n",
       "    .dataframe tbody tr th:only-of-type {\n",
       "        vertical-align: middle;\n",
       "    }\n",
       "\n",
       "    .dataframe tbody tr th {\n",
       "        vertical-align: top;\n",
       "    }\n",
       "\n",
       "    .dataframe thead th {\n",
       "        text-align: right;\n",
       "    }\n",
       "</style>\n",
       "<table border=\"1\" class=\"dataframe\">\n",
       "  <thead>\n",
       "    <tr style=\"text-align: right;\">\n",
       "      <th></th>\n",
       "      <th>user_id</th>\n",
       "      <th>calls</th>\n",
       "      <th>calls_duration</th>\n",
       "      <th>messages</th>\n",
       "      <th>age</th>\n",
       "      <th>city</th>\n",
       "      <th>tariff</th>\n",
       "      <th>gb_used</th>\n",
       "    </tr>\n",
       "  </thead>\n",
       "  <tbody>\n",
       "    <tr>\n",
       "      <th>0</th>\n",
       "      <td>1000</td>\n",
       "      <td>22.0</td>\n",
       "      <td>159.0</td>\n",
       "      <td>22.0</td>\n",
       "      <td>52</td>\n",
       "      <td>Краснодар</td>\n",
       "      <td>ultra</td>\n",
       "      <td>3.0</td>\n",
       "    </tr>\n",
       "    <tr>\n",
       "      <th>1</th>\n",
       "      <td>1000</td>\n",
       "      <td>43.0</td>\n",
       "      <td>172.0</td>\n",
       "      <td>60.0</td>\n",
       "      <td>52</td>\n",
       "      <td>Краснодар</td>\n",
       "      <td>ultra</td>\n",
       "      <td>23.0</td>\n",
       "    </tr>\n",
       "    <tr>\n",
       "      <th>2</th>\n",
       "      <td>1000</td>\n",
       "      <td>47.0</td>\n",
       "      <td>340.0</td>\n",
       "      <td>75.0</td>\n",
       "      <td>52</td>\n",
       "      <td>Краснодар</td>\n",
       "      <td>ultra</td>\n",
       "      <td>14.0</td>\n",
       "    </tr>\n",
       "    <tr>\n",
       "      <th>3</th>\n",
       "      <td>1000</td>\n",
       "      <td>52.0</td>\n",
       "      <td>408.0</td>\n",
       "      <td>81.0</td>\n",
       "      <td>52</td>\n",
       "      <td>Краснодар</td>\n",
       "      <td>ultra</td>\n",
       "      <td>14.0</td>\n",
       "    </tr>\n",
       "    <tr>\n",
       "      <th>4</th>\n",
       "      <td>1000</td>\n",
       "      <td>58.0</td>\n",
       "      <td>466.0</td>\n",
       "      <td>57.0</td>\n",
       "      <td>52</td>\n",
       "      <td>Краснодар</td>\n",
       "      <td>ultra</td>\n",
       "      <td>15.0</td>\n",
       "    </tr>\n",
       "    <tr>\n",
       "      <th>...</th>\n",
       "      <td>...</td>\n",
       "      <td>...</td>\n",
       "      <td>...</td>\n",
       "      <td>...</td>\n",
       "      <td>...</td>\n",
       "      <td>...</td>\n",
       "      <td>...</td>\n",
       "      <td>...</td>\n",
       "    </tr>\n",
       "    <tr>\n",
       "      <th>3209</th>\n",
       "      <td>1489</td>\n",
       "      <td>NaN</td>\n",
       "      <td>NaN</td>\n",
       "      <td>17.0</td>\n",
       "      <td>35</td>\n",
       "      <td>Санкт-Петербург</td>\n",
       "      <td>smart</td>\n",
       "      <td>11.0</td>\n",
       "    </tr>\n",
       "    <tr>\n",
       "      <th>3210</th>\n",
       "      <td>1489</td>\n",
       "      <td>NaN</td>\n",
       "      <td>NaN</td>\n",
       "      <td>32.0</td>\n",
       "      <td>35</td>\n",
       "      <td>Санкт-Петербург</td>\n",
       "      <td>smart</td>\n",
       "      <td>17.0</td>\n",
       "    </tr>\n",
       "    <tr>\n",
       "      <th>3211</th>\n",
       "      <td>1489</td>\n",
       "      <td>NaN</td>\n",
       "      <td>NaN</td>\n",
       "      <td>21.0</td>\n",
       "      <td>35</td>\n",
       "      <td>Санкт-Петербург</td>\n",
       "      <td>smart</td>\n",
       "      <td>20.0</td>\n",
       "    </tr>\n",
       "    <tr>\n",
       "      <th>3212</th>\n",
       "      <td>1489</td>\n",
       "      <td>NaN</td>\n",
       "      <td>NaN</td>\n",
       "      <td>20.0</td>\n",
       "      <td>35</td>\n",
       "      <td>Санкт-Петербург</td>\n",
       "      <td>smart</td>\n",
       "      <td>18.0</td>\n",
       "    </tr>\n",
       "    <tr>\n",
       "      <th>3213</th>\n",
       "      <td>1489</td>\n",
       "      <td>NaN</td>\n",
       "      <td>NaN</td>\n",
       "      <td>35.0</td>\n",
       "      <td>35</td>\n",
       "      <td>Санкт-Петербург</td>\n",
       "      <td>smart</td>\n",
       "      <td>17.0</td>\n",
       "    </tr>\n",
       "  </tbody>\n",
       "</table>\n",
       "<p>3214 rows × 8 columns</p>\n",
       "</div>"
      ],
      "text/plain": [
       "      user_id  calls  calls_duration  messages  age             city tariff  \\\n",
       "0        1000   22.0           159.0      22.0   52        Краснодар  ultra   \n",
       "1        1000   43.0           172.0      60.0   52        Краснодар  ultra   \n",
       "2        1000   47.0           340.0      75.0   52        Краснодар  ultra   \n",
       "3        1000   52.0           408.0      81.0   52        Краснодар  ultra   \n",
       "4        1000   58.0           466.0      57.0   52        Краснодар  ultra   \n",
       "...       ...    ...             ...       ...  ...              ...    ...   \n",
       "3209     1489    NaN             NaN      17.0   35  Санкт-Петербург  smart   \n",
       "3210     1489    NaN             NaN      32.0   35  Санкт-Петербург  smart   \n",
       "3211     1489    NaN             NaN      21.0   35  Санкт-Петербург  smart   \n",
       "3212     1489    NaN             NaN      20.0   35  Санкт-Петербург  smart   \n",
       "3213     1489    NaN             NaN      35.0   35  Санкт-Петербург  smart   \n",
       "\n",
       "      gb_used  \n",
       "0         3.0  \n",
       "1        23.0  \n",
       "2        14.0  \n",
       "3        14.0  \n",
       "4        15.0  \n",
       "...       ...  \n",
       "3209     11.0  \n",
       "3210     17.0  \n",
       "3211     20.0  \n",
       "3212     18.0  \n",
       "3213     17.0  \n",
       "\n",
       "[3214 rows x 8 columns]"
      ]
     },
     "execution_count": 48,
     "metadata": {},
     "output_type": "execute_result"
    }
   ],
   "source": [
    "final_pivot"
   ]
  },
  {
   "cell_type": "code",
   "execution_count": 49,
   "metadata": {},
   "outputs": [
    {
     "data": {
      "text/html": [
       "<div>\n",
       "<style scoped>\n",
       "    .dataframe tbody tr th:only-of-type {\n",
       "        vertical-align: middle;\n",
       "    }\n",
       "\n",
       "    .dataframe tbody tr th {\n",
       "        vertical-align: top;\n",
       "    }\n",
       "\n",
       "    .dataframe thead th {\n",
       "        text-align: right;\n",
       "    }\n",
       "</style>\n",
       "<table border=\"1\" class=\"dataframe\">\n",
       "  <thead>\n",
       "    <tr style=\"text-align: right;\">\n",
       "      <th></th>\n",
       "      <th>messages_included</th>\n",
       "      <th>mb_per_month_included</th>\n",
       "      <th>minutes_included</th>\n",
       "      <th>rub_monthly_fee</th>\n",
       "      <th>rub_per_gb</th>\n",
       "      <th>rub_per_message</th>\n",
       "      <th>rub_per_minute</th>\n",
       "      <th>tariff</th>\n",
       "    </tr>\n",
       "  </thead>\n",
       "  <tbody>\n",
       "    <tr>\n",
       "      <th>0</th>\n",
       "      <td>50</td>\n",
       "      <td>15360</td>\n",
       "      <td>500</td>\n",
       "      <td>550</td>\n",
       "      <td>200</td>\n",
       "      <td>3</td>\n",
       "      <td>3</td>\n",
       "      <td>smart</td>\n",
       "    </tr>\n",
       "    <tr>\n",
       "      <th>1</th>\n",
       "      <td>1000</td>\n",
       "      <td>30720</td>\n",
       "      <td>3000</td>\n",
       "      <td>1950</td>\n",
       "      <td>150</td>\n",
       "      <td>1</td>\n",
       "      <td>1</td>\n",
       "      <td>ultra</td>\n",
       "    </tr>\n",
       "  </tbody>\n",
       "</table>\n",
       "</div>"
      ],
      "text/plain": [
       "   messages_included  mb_per_month_included  minutes_included  \\\n",
       "0                 50                  15360               500   \n",
       "1               1000                  30720              3000   \n",
       "\n",
       "   rub_monthly_fee  rub_per_gb  rub_per_message  rub_per_minute tariff  \n",
       "0              550         200                3               3  smart  \n",
       "1             1950         150                1               1  ultra  "
      ]
     },
     "execution_count": 49,
     "metadata": {},
     "output_type": "execute_result"
    }
   ],
   "source": [
    "tariffs = tariffs.rename(columns = {'tariff_name':'tariff'})\n",
    "tariffs"
   ]
  },
  {
   "cell_type": "code",
   "execution_count": 50,
   "metadata": {},
   "outputs": [
    {
     "data": {
      "text/html": [
       "<div>\n",
       "<style scoped>\n",
       "    .dataframe tbody tr th:only-of-type {\n",
       "        vertical-align: middle;\n",
       "    }\n",
       "\n",
       "    .dataframe tbody tr th {\n",
       "        vertical-align: top;\n",
       "    }\n",
       "\n",
       "    .dataframe thead th {\n",
       "        text-align: right;\n",
       "    }\n",
       "</style>\n",
       "<table border=\"1\" class=\"dataframe\">\n",
       "  <thead>\n",
       "    <tr style=\"text-align: right;\">\n",
       "      <th></th>\n",
       "      <th>user_id</th>\n",
       "      <th>calls</th>\n",
       "      <th>calls_duration</th>\n",
       "      <th>messages</th>\n",
       "      <th>age</th>\n",
       "      <th>city</th>\n",
       "      <th>tariff</th>\n",
       "      <th>gb_used</th>\n",
       "      <th>messages_included</th>\n",
       "      <th>mb_per_month_included</th>\n",
       "      <th>minutes_included</th>\n",
       "      <th>rub_monthly_fee</th>\n",
       "      <th>rub_per_gb</th>\n",
       "      <th>rub_per_message</th>\n",
       "      <th>rub_per_minute</th>\n",
       "    </tr>\n",
       "  </thead>\n",
       "  <tbody>\n",
       "    <tr>\n",
       "      <th>0</th>\n",
       "      <td>1000</td>\n",
       "      <td>22.0</td>\n",
       "      <td>159.0</td>\n",
       "      <td>22.0</td>\n",
       "      <td>52</td>\n",
       "      <td>Краснодар</td>\n",
       "      <td>ultra</td>\n",
       "      <td>3.0</td>\n",
       "      <td>1000</td>\n",
       "      <td>30720</td>\n",
       "      <td>3000</td>\n",
       "      <td>1950</td>\n",
       "      <td>150</td>\n",
       "      <td>1</td>\n",
       "      <td>1</td>\n",
       "    </tr>\n",
       "    <tr>\n",
       "      <th>1</th>\n",
       "      <td>1000</td>\n",
       "      <td>43.0</td>\n",
       "      <td>172.0</td>\n",
       "      <td>60.0</td>\n",
       "      <td>52</td>\n",
       "      <td>Краснодар</td>\n",
       "      <td>ultra</td>\n",
       "      <td>23.0</td>\n",
       "      <td>1000</td>\n",
       "      <td>30720</td>\n",
       "      <td>3000</td>\n",
       "      <td>1950</td>\n",
       "      <td>150</td>\n",
       "      <td>1</td>\n",
       "      <td>1</td>\n",
       "    </tr>\n",
       "    <tr>\n",
       "      <th>2</th>\n",
       "      <td>1000</td>\n",
       "      <td>47.0</td>\n",
       "      <td>340.0</td>\n",
       "      <td>75.0</td>\n",
       "      <td>52</td>\n",
       "      <td>Краснодар</td>\n",
       "      <td>ultra</td>\n",
       "      <td>14.0</td>\n",
       "      <td>1000</td>\n",
       "      <td>30720</td>\n",
       "      <td>3000</td>\n",
       "      <td>1950</td>\n",
       "      <td>150</td>\n",
       "      <td>1</td>\n",
       "      <td>1</td>\n",
       "    </tr>\n",
       "    <tr>\n",
       "      <th>3</th>\n",
       "      <td>1000</td>\n",
       "      <td>52.0</td>\n",
       "      <td>408.0</td>\n",
       "      <td>81.0</td>\n",
       "      <td>52</td>\n",
       "      <td>Краснодар</td>\n",
       "      <td>ultra</td>\n",
       "      <td>14.0</td>\n",
       "      <td>1000</td>\n",
       "      <td>30720</td>\n",
       "      <td>3000</td>\n",
       "      <td>1950</td>\n",
       "      <td>150</td>\n",
       "      <td>1</td>\n",
       "      <td>1</td>\n",
       "    </tr>\n",
       "    <tr>\n",
       "      <th>4</th>\n",
       "      <td>1000</td>\n",
       "      <td>58.0</td>\n",
       "      <td>466.0</td>\n",
       "      <td>57.0</td>\n",
       "      <td>52</td>\n",
       "      <td>Краснодар</td>\n",
       "      <td>ultra</td>\n",
       "      <td>15.0</td>\n",
       "      <td>1000</td>\n",
       "      <td>30720</td>\n",
       "      <td>3000</td>\n",
       "      <td>1950</td>\n",
       "      <td>150</td>\n",
       "      <td>1</td>\n",
       "      <td>1</td>\n",
       "    </tr>\n",
       "    <tr>\n",
       "      <th>...</th>\n",
       "      <td>...</td>\n",
       "      <td>...</td>\n",
       "      <td>...</td>\n",
       "      <td>...</td>\n",
       "      <td>...</td>\n",
       "      <td>...</td>\n",
       "      <td>...</td>\n",
       "      <td>...</td>\n",
       "      <td>...</td>\n",
       "      <td>...</td>\n",
       "      <td>...</td>\n",
       "      <td>...</td>\n",
       "      <td>...</td>\n",
       "      <td>...</td>\n",
       "      <td>...</td>\n",
       "    </tr>\n",
       "    <tr>\n",
       "      <th>3209</th>\n",
       "      <td>1489</td>\n",
       "      <td>NaN</td>\n",
       "      <td>NaN</td>\n",
       "      <td>17.0</td>\n",
       "      <td>35</td>\n",
       "      <td>Санкт-Петербург</td>\n",
       "      <td>smart</td>\n",
       "      <td>11.0</td>\n",
       "      <td>50</td>\n",
       "      <td>15360</td>\n",
       "      <td>500</td>\n",
       "      <td>550</td>\n",
       "      <td>200</td>\n",
       "      <td>3</td>\n",
       "      <td>3</td>\n",
       "    </tr>\n",
       "    <tr>\n",
       "      <th>3210</th>\n",
       "      <td>1489</td>\n",
       "      <td>NaN</td>\n",
       "      <td>NaN</td>\n",
       "      <td>32.0</td>\n",
       "      <td>35</td>\n",
       "      <td>Санкт-Петербург</td>\n",
       "      <td>smart</td>\n",
       "      <td>17.0</td>\n",
       "      <td>50</td>\n",
       "      <td>15360</td>\n",
       "      <td>500</td>\n",
       "      <td>550</td>\n",
       "      <td>200</td>\n",
       "      <td>3</td>\n",
       "      <td>3</td>\n",
       "    </tr>\n",
       "    <tr>\n",
       "      <th>3211</th>\n",
       "      <td>1489</td>\n",
       "      <td>NaN</td>\n",
       "      <td>NaN</td>\n",
       "      <td>21.0</td>\n",
       "      <td>35</td>\n",
       "      <td>Санкт-Петербург</td>\n",
       "      <td>smart</td>\n",
       "      <td>20.0</td>\n",
       "      <td>50</td>\n",
       "      <td>15360</td>\n",
       "      <td>500</td>\n",
       "      <td>550</td>\n",
       "      <td>200</td>\n",
       "      <td>3</td>\n",
       "      <td>3</td>\n",
       "    </tr>\n",
       "    <tr>\n",
       "      <th>3212</th>\n",
       "      <td>1489</td>\n",
       "      <td>NaN</td>\n",
       "      <td>NaN</td>\n",
       "      <td>20.0</td>\n",
       "      <td>35</td>\n",
       "      <td>Санкт-Петербург</td>\n",
       "      <td>smart</td>\n",
       "      <td>18.0</td>\n",
       "      <td>50</td>\n",
       "      <td>15360</td>\n",
       "      <td>500</td>\n",
       "      <td>550</td>\n",
       "      <td>200</td>\n",
       "      <td>3</td>\n",
       "      <td>3</td>\n",
       "    </tr>\n",
       "    <tr>\n",
       "      <th>3213</th>\n",
       "      <td>1489</td>\n",
       "      <td>NaN</td>\n",
       "      <td>NaN</td>\n",
       "      <td>35.0</td>\n",
       "      <td>35</td>\n",
       "      <td>Санкт-Петербург</td>\n",
       "      <td>smart</td>\n",
       "      <td>17.0</td>\n",
       "      <td>50</td>\n",
       "      <td>15360</td>\n",
       "      <td>500</td>\n",
       "      <td>550</td>\n",
       "      <td>200</td>\n",
       "      <td>3</td>\n",
       "      <td>3</td>\n",
       "    </tr>\n",
       "  </tbody>\n",
       "</table>\n",
       "<p>3214 rows × 15 columns</p>\n",
       "</div>"
      ],
      "text/plain": [
       "      user_id  calls  calls_duration  messages  age             city tariff  \\\n",
       "0        1000   22.0           159.0      22.0   52        Краснодар  ultra   \n",
       "1        1000   43.0           172.0      60.0   52        Краснодар  ultra   \n",
       "2        1000   47.0           340.0      75.0   52        Краснодар  ultra   \n",
       "3        1000   52.0           408.0      81.0   52        Краснодар  ultra   \n",
       "4        1000   58.0           466.0      57.0   52        Краснодар  ultra   \n",
       "...       ...    ...             ...       ...  ...              ...    ...   \n",
       "3209     1489    NaN             NaN      17.0   35  Санкт-Петербург  smart   \n",
       "3210     1489    NaN             NaN      32.0   35  Санкт-Петербург  smart   \n",
       "3211     1489    NaN             NaN      21.0   35  Санкт-Петербург  smart   \n",
       "3212     1489    NaN             NaN      20.0   35  Санкт-Петербург  smart   \n",
       "3213     1489    NaN             NaN      35.0   35  Санкт-Петербург  smart   \n",
       "\n",
       "      gb_used  messages_included  mb_per_month_included  minutes_included  \\\n",
       "0         3.0               1000                  30720              3000   \n",
       "1        23.0               1000                  30720              3000   \n",
       "2        14.0               1000                  30720              3000   \n",
       "3        14.0               1000                  30720              3000   \n",
       "4        15.0               1000                  30720              3000   \n",
       "...       ...                ...                    ...               ...   \n",
       "3209     11.0                 50                  15360               500   \n",
       "3210     17.0                 50                  15360               500   \n",
       "3211     20.0                 50                  15360               500   \n",
       "3212     18.0                 50                  15360               500   \n",
       "3213     17.0                 50                  15360               500   \n",
       "\n",
       "      rub_monthly_fee  rub_per_gb  rub_per_message  rub_per_minute  \n",
       "0                1950         150                1               1  \n",
       "1                1950         150                1               1  \n",
       "2                1950         150                1               1  \n",
       "3                1950         150                1               1  \n",
       "4                1950         150                1               1  \n",
       "...               ...         ...              ...             ...  \n",
       "3209              550         200                3               3  \n",
       "3210              550         200                3               3  \n",
       "3211              550         200                3               3  \n",
       "3212              550         200                3               3  \n",
       "3213              550         200                3               3  \n",
       "\n",
       "[3214 rows x 15 columns]"
      ]
     },
     "execution_count": 50,
     "metadata": {},
     "output_type": "execute_result"
    }
   ],
   "source": [
    "final_pivot = final_pivot.merge(tariffs, how = 'left', on = 'tariff')\n",
    "final_pivot"
   ]
  },
  {
   "cell_type": "code",
   "execution_count": 51,
   "metadata": {},
   "outputs": [],
   "source": [
    "def month_revenue(row):\n",
    "    tariff = row['tariff']\n",
    "    minutes = row['calls_duration']\n",
    "    messages = row['messages']\n",
    "    tariff_fee = row['rub_monthly_fee']\n",
    "    internet = row['gb_used']\n",
    "    minutes_included = row['minutes_included']\n",
    "    minute_price = row['rub_per_minute']\n",
    "    messages_included = row['messages_included']\n",
    "    message_price = row['rub_per_message']\n",
    "    gb_included = row['mb_per_month_included'] / 1024\n",
    "    gb_price = row['rub_per_gb']\n",
    "    \n",
    "    if tariff == 'smart':\n",
    "        if minutes > minutes_included:\n",
    "            over_min = (minutes - minutes_included) * minute_price\n",
    "        else: \n",
    "            over_min = 0\n",
    "        if messages > messages_included:\n",
    "            over_mes = (messages - messages_included) * message_price\n",
    "        else:\n",
    "            over_mes = 0\n",
    "        if internet > gb_included:\n",
    "            over_gb = (internet - gb_included) * gb_price\n",
    "        else:\n",
    "            over_gb = 0\n",
    "    elif tariff == 'ultra':\n",
    "        if minutes > minutes_included:\n",
    "            over_min = (minutes - minutes_included) * minute_price\n",
    "        else: \n",
    "            over_min = 0\n",
    "        if messages > messages_included:\n",
    "            over_mes = (messages - messages_included) * message_price\n",
    "        else:\n",
    "            over_mes = 0\n",
    "        if internet > gb_included:\n",
    "            over_gb = (internet - gb_included) * gb_price\n",
    "        else:\n",
    "            over_gb = 0\n",
    "    return tariff_fee + over_min + over_mes + over_gb   \n",
    "    \n"
   ]
  },
  {
   "cell_type": "markdown",
   "metadata": {},
   "source": [
    "Далее посчитаем размер ежемесячной выручки с каждого клиента."
   ]
  },
  {
   "cell_type": "code",
   "execution_count": 52,
   "metadata": {},
   "outputs": [
    {
     "data": {
      "text/html": [
       "<div>\n",
       "<style scoped>\n",
       "    .dataframe tbody tr th:only-of-type {\n",
       "        vertical-align: middle;\n",
       "    }\n",
       "\n",
       "    .dataframe tbody tr th {\n",
       "        vertical-align: top;\n",
       "    }\n",
       "\n",
       "    .dataframe thead th {\n",
       "        text-align: right;\n",
       "    }\n",
       "</style>\n",
       "<table border=\"1\" class=\"dataframe\">\n",
       "  <thead>\n",
       "    <tr style=\"text-align: right;\">\n",
       "      <th></th>\n",
       "      <th>user_id</th>\n",
       "      <th>calls</th>\n",
       "      <th>calls_duration</th>\n",
       "      <th>messages</th>\n",
       "      <th>age</th>\n",
       "      <th>city</th>\n",
       "      <th>tariff</th>\n",
       "      <th>gb_used</th>\n",
       "      <th>messages_included</th>\n",
       "      <th>mb_per_month_included</th>\n",
       "      <th>minutes_included</th>\n",
       "      <th>rub_monthly_fee</th>\n",
       "      <th>rub_per_gb</th>\n",
       "      <th>rub_per_message</th>\n",
       "      <th>rub_per_minute</th>\n",
       "      <th>monthly_revenue</th>\n",
       "    </tr>\n",
       "  </thead>\n",
       "  <tbody>\n",
       "    <tr>\n",
       "      <th>0</th>\n",
       "      <td>1000</td>\n",
       "      <td>22.0</td>\n",
       "      <td>159.0</td>\n",
       "      <td>22.0</td>\n",
       "      <td>52</td>\n",
       "      <td>Краснодар</td>\n",
       "      <td>ultra</td>\n",
       "      <td>3.0</td>\n",
       "      <td>1000</td>\n",
       "      <td>30720</td>\n",
       "      <td>3000</td>\n",
       "      <td>1950</td>\n",
       "      <td>150</td>\n",
       "      <td>1</td>\n",
       "      <td>1</td>\n",
       "      <td>1950.0</td>\n",
       "    </tr>\n",
       "    <tr>\n",
       "      <th>1</th>\n",
       "      <td>1000</td>\n",
       "      <td>43.0</td>\n",
       "      <td>172.0</td>\n",
       "      <td>60.0</td>\n",
       "      <td>52</td>\n",
       "      <td>Краснодар</td>\n",
       "      <td>ultra</td>\n",
       "      <td>23.0</td>\n",
       "      <td>1000</td>\n",
       "      <td>30720</td>\n",
       "      <td>3000</td>\n",
       "      <td>1950</td>\n",
       "      <td>150</td>\n",
       "      <td>1</td>\n",
       "      <td>1</td>\n",
       "      <td>1950.0</td>\n",
       "    </tr>\n",
       "    <tr>\n",
       "      <th>2</th>\n",
       "      <td>1000</td>\n",
       "      <td>47.0</td>\n",
       "      <td>340.0</td>\n",
       "      <td>75.0</td>\n",
       "      <td>52</td>\n",
       "      <td>Краснодар</td>\n",
       "      <td>ultra</td>\n",
       "      <td>14.0</td>\n",
       "      <td>1000</td>\n",
       "      <td>30720</td>\n",
       "      <td>3000</td>\n",
       "      <td>1950</td>\n",
       "      <td>150</td>\n",
       "      <td>1</td>\n",
       "      <td>1</td>\n",
       "      <td>1950.0</td>\n",
       "    </tr>\n",
       "    <tr>\n",
       "      <th>3</th>\n",
       "      <td>1000</td>\n",
       "      <td>52.0</td>\n",
       "      <td>408.0</td>\n",
       "      <td>81.0</td>\n",
       "      <td>52</td>\n",
       "      <td>Краснодар</td>\n",
       "      <td>ultra</td>\n",
       "      <td>14.0</td>\n",
       "      <td>1000</td>\n",
       "      <td>30720</td>\n",
       "      <td>3000</td>\n",
       "      <td>1950</td>\n",
       "      <td>150</td>\n",
       "      <td>1</td>\n",
       "      <td>1</td>\n",
       "      <td>1950.0</td>\n",
       "    </tr>\n",
       "    <tr>\n",
       "      <th>4</th>\n",
       "      <td>1000</td>\n",
       "      <td>58.0</td>\n",
       "      <td>466.0</td>\n",
       "      <td>57.0</td>\n",
       "      <td>52</td>\n",
       "      <td>Краснодар</td>\n",
       "      <td>ultra</td>\n",
       "      <td>15.0</td>\n",
       "      <td>1000</td>\n",
       "      <td>30720</td>\n",
       "      <td>3000</td>\n",
       "      <td>1950</td>\n",
       "      <td>150</td>\n",
       "      <td>1</td>\n",
       "      <td>1</td>\n",
       "      <td>1950.0</td>\n",
       "    </tr>\n",
       "    <tr>\n",
       "      <th>...</th>\n",
       "      <td>...</td>\n",
       "      <td>...</td>\n",
       "      <td>...</td>\n",
       "      <td>...</td>\n",
       "      <td>...</td>\n",
       "      <td>...</td>\n",
       "      <td>...</td>\n",
       "      <td>...</td>\n",
       "      <td>...</td>\n",
       "      <td>...</td>\n",
       "      <td>...</td>\n",
       "      <td>...</td>\n",
       "      <td>...</td>\n",
       "      <td>...</td>\n",
       "      <td>...</td>\n",
       "      <td>...</td>\n",
       "    </tr>\n",
       "    <tr>\n",
       "      <th>3209</th>\n",
       "      <td>1489</td>\n",
       "      <td>NaN</td>\n",
       "      <td>NaN</td>\n",
       "      <td>17.0</td>\n",
       "      <td>35</td>\n",
       "      <td>Санкт-Петербург</td>\n",
       "      <td>smart</td>\n",
       "      <td>11.0</td>\n",
       "      <td>50</td>\n",
       "      <td>15360</td>\n",
       "      <td>500</td>\n",
       "      <td>550</td>\n",
       "      <td>200</td>\n",
       "      <td>3</td>\n",
       "      <td>3</td>\n",
       "      <td>550.0</td>\n",
       "    </tr>\n",
       "    <tr>\n",
       "      <th>3210</th>\n",
       "      <td>1489</td>\n",
       "      <td>NaN</td>\n",
       "      <td>NaN</td>\n",
       "      <td>32.0</td>\n",
       "      <td>35</td>\n",
       "      <td>Санкт-Петербург</td>\n",
       "      <td>smart</td>\n",
       "      <td>17.0</td>\n",
       "      <td>50</td>\n",
       "      <td>15360</td>\n",
       "      <td>500</td>\n",
       "      <td>550</td>\n",
       "      <td>200</td>\n",
       "      <td>3</td>\n",
       "      <td>3</td>\n",
       "      <td>950.0</td>\n",
       "    </tr>\n",
       "    <tr>\n",
       "      <th>3211</th>\n",
       "      <td>1489</td>\n",
       "      <td>NaN</td>\n",
       "      <td>NaN</td>\n",
       "      <td>21.0</td>\n",
       "      <td>35</td>\n",
       "      <td>Санкт-Петербург</td>\n",
       "      <td>smart</td>\n",
       "      <td>20.0</td>\n",
       "      <td>50</td>\n",
       "      <td>15360</td>\n",
       "      <td>500</td>\n",
       "      <td>550</td>\n",
       "      <td>200</td>\n",
       "      <td>3</td>\n",
       "      <td>3</td>\n",
       "      <td>1550.0</td>\n",
       "    </tr>\n",
       "    <tr>\n",
       "      <th>3212</th>\n",
       "      <td>1489</td>\n",
       "      <td>NaN</td>\n",
       "      <td>NaN</td>\n",
       "      <td>20.0</td>\n",
       "      <td>35</td>\n",
       "      <td>Санкт-Петербург</td>\n",
       "      <td>smart</td>\n",
       "      <td>18.0</td>\n",
       "      <td>50</td>\n",
       "      <td>15360</td>\n",
       "      <td>500</td>\n",
       "      <td>550</td>\n",
       "      <td>200</td>\n",
       "      <td>3</td>\n",
       "      <td>3</td>\n",
       "      <td>1150.0</td>\n",
       "    </tr>\n",
       "    <tr>\n",
       "      <th>3213</th>\n",
       "      <td>1489</td>\n",
       "      <td>NaN</td>\n",
       "      <td>NaN</td>\n",
       "      <td>35.0</td>\n",
       "      <td>35</td>\n",
       "      <td>Санкт-Петербург</td>\n",
       "      <td>smart</td>\n",
       "      <td>17.0</td>\n",
       "      <td>50</td>\n",
       "      <td>15360</td>\n",
       "      <td>500</td>\n",
       "      <td>550</td>\n",
       "      <td>200</td>\n",
       "      <td>3</td>\n",
       "      <td>3</td>\n",
       "      <td>950.0</td>\n",
       "    </tr>\n",
       "  </tbody>\n",
       "</table>\n",
       "<p>3214 rows × 16 columns</p>\n",
       "</div>"
      ],
      "text/plain": [
       "      user_id  calls  calls_duration  messages  age             city tariff  \\\n",
       "0        1000   22.0           159.0      22.0   52        Краснодар  ultra   \n",
       "1        1000   43.0           172.0      60.0   52        Краснодар  ultra   \n",
       "2        1000   47.0           340.0      75.0   52        Краснодар  ultra   \n",
       "3        1000   52.0           408.0      81.0   52        Краснодар  ultra   \n",
       "4        1000   58.0           466.0      57.0   52        Краснодар  ultra   \n",
       "...       ...    ...             ...       ...  ...              ...    ...   \n",
       "3209     1489    NaN             NaN      17.0   35  Санкт-Петербург  smart   \n",
       "3210     1489    NaN             NaN      32.0   35  Санкт-Петербург  smart   \n",
       "3211     1489    NaN             NaN      21.0   35  Санкт-Петербург  smart   \n",
       "3212     1489    NaN             NaN      20.0   35  Санкт-Петербург  smart   \n",
       "3213     1489    NaN             NaN      35.0   35  Санкт-Петербург  smart   \n",
       "\n",
       "      gb_used  messages_included  mb_per_month_included  minutes_included  \\\n",
       "0         3.0               1000                  30720              3000   \n",
       "1        23.0               1000                  30720              3000   \n",
       "2        14.0               1000                  30720              3000   \n",
       "3        14.0               1000                  30720              3000   \n",
       "4        15.0               1000                  30720              3000   \n",
       "...       ...                ...                    ...               ...   \n",
       "3209     11.0                 50                  15360               500   \n",
       "3210     17.0                 50                  15360               500   \n",
       "3211     20.0                 50                  15360               500   \n",
       "3212     18.0                 50                  15360               500   \n",
       "3213     17.0                 50                  15360               500   \n",
       "\n",
       "      rub_monthly_fee  rub_per_gb  rub_per_message  rub_per_minute  \\\n",
       "0                1950         150                1               1   \n",
       "1                1950         150                1               1   \n",
       "2                1950         150                1               1   \n",
       "3                1950         150                1               1   \n",
       "4                1950         150                1               1   \n",
       "...               ...         ...              ...             ...   \n",
       "3209              550         200                3               3   \n",
       "3210              550         200                3               3   \n",
       "3211              550         200                3               3   \n",
       "3212              550         200                3               3   \n",
       "3213              550         200                3               3   \n",
       "\n",
       "      monthly_revenue  \n",
       "0              1950.0  \n",
       "1              1950.0  \n",
       "2              1950.0  \n",
       "3              1950.0  \n",
       "4              1950.0  \n",
       "...               ...  \n",
       "3209            550.0  \n",
       "3210            950.0  \n",
       "3211           1550.0  \n",
       "3212           1150.0  \n",
       "3213            950.0  \n",
       "\n",
       "[3214 rows x 16 columns]"
      ]
     },
     "execution_count": 52,
     "metadata": {},
     "output_type": "execute_result"
    }
   ],
   "source": [
    "final_pivot['monthly_revenue'] = final_pivot.apply(month_revenue, axis = 1)   \n",
    "final_pivot"
   ]
  },
  {
   "cell_type": "code",
   "execution_count": 53,
   "metadata": {},
   "outputs": [
    {
     "name": "stdout",
     "output_type": "stream",
     "text": [
      "<class 'pandas.core.frame.DataFrame'>\n",
      "Int64Index: 3214 entries, 0 to 3213\n",
      "Data columns (total 16 columns):\n",
      " #   Column                 Non-Null Count  Dtype  \n",
      "---  ------                 --------------  -----  \n",
      " 0   user_id                3214 non-null   int64  \n",
      " 1   calls                  3174 non-null   float64\n",
      " 2   calls_duration         3174 non-null   float64\n",
      " 3   messages               2717 non-null   float64\n",
      " 4   age                    3214 non-null   int64  \n",
      " 5   city                   3214 non-null   object \n",
      " 6   tariff                 3214 non-null   object \n",
      " 7   gb_used                3203 non-null   float64\n",
      " 8   messages_included      3214 non-null   int64  \n",
      " 9   mb_per_month_included  3214 non-null   int64  \n",
      " 10  minutes_included       3214 non-null   int64  \n",
      " 11  rub_monthly_fee        3214 non-null   int64  \n",
      " 12  rub_per_gb             3214 non-null   int64  \n",
      " 13  rub_per_message        3214 non-null   int64  \n",
      " 14  rub_per_minute         3214 non-null   int64  \n",
      " 15  monthly_revenue        3214 non-null   float64\n",
      "dtypes: float64(5), int64(9), object(2)\n",
      "memory usage: 426.9+ KB\n"
     ]
    }
   ],
   "source": [
    "final_pivot.info()"
   ]
  },
  {
   "cell_type": "markdown",
   "metadata": {},
   "source": [
    "Оставшиеся пропуски занулим, так как это означает, что эти виды связи были не использованы абонентом."
   ]
  },
  {
   "cell_type": "code",
   "execution_count": 54,
   "metadata": {},
   "outputs": [],
   "source": [
    "final_pivot['calls'] = final_pivot['calls'].fillna(0)\n",
    "final_pivot['calls_duration'] = final_pivot['calls_duration'].fillna(0)\n",
    "final_pivot['messages'] = final_pivot['messages'].fillna(0)\n",
    "final_pivot['gb_used'] = final_pivot['gb_used'].fillna(0)"
   ]
  },
  {
   "cell_type": "code",
   "execution_count": 55,
   "metadata": {},
   "outputs": [
    {
     "name": "stdout",
     "output_type": "stream",
     "text": [
      "<class 'pandas.core.frame.DataFrame'>\n",
      "Int64Index: 3214 entries, 0 to 3213\n",
      "Data columns (total 16 columns):\n",
      " #   Column                 Non-Null Count  Dtype  \n",
      "---  ------                 --------------  -----  \n",
      " 0   user_id                3214 non-null   int64  \n",
      " 1   calls                  3214 non-null   float64\n",
      " 2   calls_duration         3214 non-null   float64\n",
      " 3   messages               3214 non-null   float64\n",
      " 4   age                    3214 non-null   int64  \n",
      " 5   city                   3214 non-null   object \n",
      " 6   tariff                 3214 non-null   object \n",
      " 7   gb_used                3214 non-null   float64\n",
      " 8   messages_included      3214 non-null   int64  \n",
      " 9   mb_per_month_included  3214 non-null   int64  \n",
      " 10  minutes_included       3214 non-null   int64  \n",
      " 11  rub_monthly_fee        3214 non-null   int64  \n",
      " 12  rub_per_gb             3214 non-null   int64  \n",
      " 13  rub_per_message        3214 non-null   int64  \n",
      " 14  rub_per_minute         3214 non-null   int64  \n",
      " 15  monthly_revenue        3214 non-null   float64\n",
      "dtypes: float64(5), int64(9), object(2)\n",
      "memory usage: 426.9+ KB\n"
     ]
    }
   ],
   "source": [
    "final_pivot.info()"
   ]
  },
  {
   "cell_type": "markdown",
   "metadata": {},
   "source": [
    "Предобработка закончена."
   ]
  },
  {
   "cell_type": "markdown",
   "metadata": {},
   "source": [
    "## Анализ поведения абонентов разных тарифов"
   ]
  },
  {
   "cell_type": "markdown",
   "metadata": {},
   "source": [
    "Опишем поведение клиентов оператора, исходя из выборки. Сначала создадим 2 таблицы с данными для двух разных тарифов. "
   ]
  },
  {
   "cell_type": "code",
   "execution_count": 56,
   "metadata": {},
   "outputs": [],
   "source": [
    "smart_clients = final_pivot.loc[final_pivot['tariff'] == 'smart']\n",
    "ultra_clients = final_pivot.loc[final_pivot['tariff'] == 'ultra']\n"
   ]
  },
  {
   "cell_type": "code",
   "execution_count": 57,
   "metadata": {},
   "outputs": [
    {
     "data": {
      "text/plain": [
       "count    2229.000000\n",
       "mean      417.934948\n",
       "std       190.313730\n",
       "min         0.000000\n",
       "25%       282.000000\n",
       "50%       422.000000\n",
       "75%       545.000000\n",
       "max      1435.000000\n",
       "Name: calls_duration, dtype: float64"
      ]
     },
     "execution_count": 57,
     "metadata": {},
     "output_type": "execute_result"
    }
   ],
   "source": [
    "smart_clients['calls_duration'].describe()"
   ]
  },
  {
   "cell_type": "code",
   "execution_count": 58,
   "metadata": {},
   "outputs": [
    {
     "data": {
      "text/plain": [
       "count     985.000000\n",
       "mean      526.623350\n",
       "std       317.606098\n",
       "min         0.000000\n",
       "25%       284.000000\n",
       "50%       518.000000\n",
       "75%       752.000000\n",
       "max      1673.000000\n",
       "Name: calls_duration, dtype: float64"
      ]
     },
     "execution_count": 58,
     "metadata": {},
     "output_type": "execute_result"
    }
   ],
   "source": [
    "ultra_clients['calls_duration'].describe()"
   ]
  },
  {
   "cell_type": "code",
   "execution_count": 59,
   "metadata": {},
   "outputs": [
    {
     "data": {
      "text/html": [
       "<div>\n",
       "<style scoped>\n",
       "    .dataframe tbody tr th:only-of-type {\n",
       "        vertical-align: middle;\n",
       "    }\n",
       "\n",
       "    .dataframe tbody tr th {\n",
       "        vertical-align: top;\n",
       "    }\n",
       "\n",
       "    .dataframe thead th {\n",
       "        text-align: right;\n",
       "    }\n",
       "</style>\n",
       "<table border=\"1\" class=\"dataframe\">\n",
       "  <thead>\n",
       "    <tr style=\"text-align: right;\">\n",
       "      <th></th>\n",
       "      <th>tariff_name</th>\n",
       "      <th>mean</th>\n",
       "      <th>variation_estimated</th>\n",
       "      <th>standard_deviation</th>\n",
       "    </tr>\n",
       "  </thead>\n",
       "  <tbody>\n",
       "    <tr>\n",
       "      <th>0</th>\n",
       "      <td>smart</td>\n",
       "      <td>417.934948</td>\n",
       "      <td>36219.315784</td>\n",
       "      <td>190.313730</td>\n",
       "    </tr>\n",
       "    <tr>\n",
       "      <th>1</th>\n",
       "      <td>ultra</td>\n",
       "      <td>526.623350</td>\n",
       "      <td>100873.633397</td>\n",
       "      <td>317.606098</td>\n",
       "    </tr>\n",
       "  </tbody>\n",
       "</table>\n",
       "</div>"
      ],
      "text/plain": [
       "  tariff_name        mean  variation_estimated  standard_deviation\n",
       "0       smart  417.934948         36219.315784          190.313730\n",
       "1       ultra  526.623350        100873.633397          317.606098"
      ]
     },
     "metadata": {},
     "output_type": "display_data"
    }
   ],
   "source": [
    "var_est_calls_smart = np.var(smart_clients['calls_duration'], ddof = 1)\n",
    "st_dev_calls_smart = np.std(smart_clients['calls_duration'], ddof = 1)\n",
    "mean_calls_smart = smart_clients['calls_duration'].mean()\n",
    "\n",
    "var_est_calls_ultra = np.var(ultra_clients['calls_duration'], ddof = 1)\n",
    "st_dev_calls_ultra = np.std(ultra_clients['calls_duration'], ddof = 1)\n",
    "mean_calls_ultra = ultra_clients['calls_duration'].mean()\n",
    "\n",
    "desc = [{\"tariff_name\": 'smart', \"mean\": mean_calls_smart, \"variation_estimated\": var_est_calls_smart, \"standard_deviation\": st_dev_calls_smart}, {\"tariff_name\": 'ultra', \"mean\": mean_calls_ultra, \"variation_estimated\": var_est_calls_ultra, \"standard_deviation\": st_dev_calls_ultra}]\n",
    "description_calls = pd.DataFrame(desc)\n",
    "display(description_calls)"
   ]
  },
  {
   "cell_type": "code",
   "execution_count": 60,
   "metadata": {},
   "outputs": [
    {
     "data": {
      "text/plain": [
       "<matplotlib.legend.Legend at 0x28d138f1ca0>"
      ]
     },
     "execution_count": 60,
     "metadata": {},
     "output_type": "execute_result"
    },
    {
     "data": {
      "image/png": "[encoded data removed]",
      "text/plain": [
       "<Figure size 432x288 with 1 Axes>"
      ]
     },
     "metadata": {
      "needs_background": "light"
     },
     "output_type": "display_data"
    }
   ],
   "source": [
    "ax = smart_clients['calls_duration'].plot(kind = 'hist', bins = 20, xlim = (0, 1700), grid = True, alpha = 0.7, label = 'Smart')\n",
    "ultra_clients['calls_duration'].plot(kind = 'hist', bins = 20, xlim = (0, 1700), ax=ax, grid = True, alpha = 0.7, label = 'Ultra')\n",
    "plt.xlabel('Среднемесячная продолжительность звонков', fontsize=14)\n",
    "plt.ylabel('Количество месяцев', fontsize=14)\n",
    "plt.legend(fontsize=14)"
   ]
  },
  {
   "cell_type": "markdown",
   "metadata": {},
   "source": [
    "Количество абонентов в выборке, использующих тариф \"Смарт\" почти в 2,5 раза больше, чем абонентов с тарифом \"Ультра\". Данный факт можно объяснить разницей в размере абонентской платы. \"Ультра\" почти в 4 раза дороже \"Смарта\".\n",
    "\n",
    "В среднем абоненты \"Смарта\" разговаривают 418 минут в месяц, а \"Ультры\" - 527. Ни в том, ни другом случае средние показатели не выходят за рамки установленного лимита. Кроме того, ни один из абонентов \"Ультры\" не вышел за рамки установленного лимита."
   ]
  },
  {
   "cell_type": "code",
   "execution_count": 61,
   "metadata": {},
   "outputs": [
    {
     "data": {
      "image/png": "[encoded data removed]",
      "text/plain": [
       "<Figure size 720x576 with 1 Axes>"
      ]
     },
     "metadata": {
      "needs_background": "light"
     },
     "output_type": "display_data"
    }
   ],
   "source": [
    "# КОД РЕВЬЮЕРА 2\n",
    "\n",
    "final_pivot.groupby('tariff')['calls_duration'].plot.hist(alpha=0.5, legend=True, bins=25, figsize=(10,8))\n",
    "\n",
    "plt.legend(['Смарт', 'Ультра'])\n",
    "plt.title('Заголовок')\n",
    "plt.xlabel('Подпись')\n",
    "plt.ylabel('Подпись')\n",
    "\n",
    "plt.show()"
   ]
  },
  {
   "cell_type": "code",
   "execution_count": 62,
   "metadata": {},
   "outputs": [
    {
     "data": {
      "text/plain": [
       "count    2229.000000\n",
       "mean       33.384029\n",
       "std        28.227876\n",
       "min         0.000000\n",
       "25%        10.000000\n",
       "50%        28.000000\n",
       "75%        51.000000\n",
       "max       143.000000\n",
       "Name: messages, dtype: float64"
      ]
     },
     "execution_count": 62,
     "metadata": {},
     "output_type": "execute_result"
    }
   ],
   "source": [
    "smart_clients['messages'].describe()"
   ]
  },
  {
   "cell_type": "code",
   "execution_count": 63,
   "metadata": {},
   "outputs": [
    {
     "data": {
      "text/plain": [
       "count    985.000000\n",
       "mean      49.363452\n",
       "std       47.804457\n",
       "min        0.000000\n",
       "25%        6.000000\n",
       "50%       38.000000\n",
       "75%       79.000000\n",
       "max      224.000000\n",
       "Name: messages, dtype: float64"
      ]
     },
     "execution_count": 63,
     "metadata": {},
     "output_type": "execute_result"
    }
   ],
   "source": [
    "ultra_clients['messages'].describe()"
   ]
  },
  {
   "cell_type": "code",
   "execution_count": 64,
   "metadata": {},
   "outputs": [
    {
     "data": {
      "text/html": [
       "<div>\n",
       "<style scoped>\n",
       "    .dataframe tbody tr th:only-of-type {\n",
       "        vertical-align: middle;\n",
       "    }\n",
       "\n",
       "    .dataframe tbody tr th {\n",
       "        vertical-align: top;\n",
       "    }\n",
       "\n",
       "    .dataframe thead th {\n",
       "        text-align: right;\n",
       "    }\n",
       "</style>\n",
       "<table border=\"1\" class=\"dataframe\">\n",
       "  <thead>\n",
       "    <tr style=\"text-align: right;\">\n",
       "      <th></th>\n",
       "      <th>tariff_name</th>\n",
       "      <th>mean</th>\n",
       "      <th>variation_estimated</th>\n",
       "      <th>standard_deviation</th>\n",
       "    </tr>\n",
       "  </thead>\n",
       "  <tbody>\n",
       "    <tr>\n",
       "      <th>0</th>\n",
       "      <td>smart</td>\n",
       "      <td>33.384029</td>\n",
       "      <td>796.812958</td>\n",
       "      <td>28.227876</td>\n",
       "    </tr>\n",
       "    <tr>\n",
       "      <th>1</th>\n",
       "      <td>ultra</td>\n",
       "      <td>49.363452</td>\n",
       "      <td>2285.266143</td>\n",
       "      <td>47.804457</td>\n",
       "    </tr>\n",
       "  </tbody>\n",
       "</table>\n",
       "</div>"
      ],
      "text/plain": [
       "  tariff_name       mean  variation_estimated  standard_deviation\n",
       "0       smart  33.384029           796.812958           28.227876\n",
       "1       ultra  49.363452          2285.266143           47.804457"
      ]
     },
     "metadata": {},
     "output_type": "display_data"
    }
   ],
   "source": [
    "var_est_mes_smart = np.var(smart_clients['messages'], ddof = 1)\n",
    "st_dev_mes_smart = np.std(smart_clients['messages'], ddof = 1)\n",
    "mean_mes_smart = smart_clients['messages'].mean()\n",
    "\n",
    "var_est_mes_ultra = np.var(ultra_clients['messages'], ddof = 1)\n",
    "st_dev_mes_ultra = np.std(ultra_clients['messages'], ddof = 1)\n",
    "mean_mes_ultra = ultra_clients['messages'].mean()\n",
    "\n",
    "desc = [{\"tariff_name\": 'smart', \"mean\": mean_mes_smart, \"variation_estimated\": var_est_mes_smart, \"standard_deviation\": st_dev_mes_smart}, {\"tariff_name\": 'ultra', \"mean\": mean_mes_ultra, \"variation_estimated\": var_est_mes_ultra, \"standard_deviation\": st_dev_mes_ultra}]\n",
    "description_messages = pd.DataFrame(desc)\n",
    "display(description_messages)"
   ]
  },
  {
   "cell_type": "code",
   "execution_count": 65,
   "metadata": {},
   "outputs": [
    {
     "data": {
      "text/plain": [
       "<matplotlib.legend.Legend at 0x28d1409ea00>"
      ]
     },
     "execution_count": 65,
     "metadata": {},
     "output_type": "execute_result"
    },
    {
     "data": {
      "image/png": "[encoded data removed]",
      "text/plain": [
       "<Figure size 432x288 with 1 Axes>"
      ]
     },
     "metadata": {
      "needs_background": "light"
     },
     "output_type": "display_data"
    }
   ],
   "source": [
    "ax = smart_clients['messages'].plot(kind = 'hist', bins = 20, xlim = (0, 230), grid = True, alpha = 0.7, label = 'Smart')\n",
    "ultra_clients['messages'].plot(kind = 'hist', bins = 20, xlim = (0, 230), ax=ax, grid = True, alpha = 0.7, label = 'Ultra')\n",
    "plt.xlabel('Среднемесячное количество сообщений', fontsize=14)\n",
    "plt.ylabel('Количество месяцев', fontsize=14)\n",
    "plt.legend(fontsize=14)"
   ]
  },
  {
   "cell_type": "markdown",
   "metadata": {},
   "source": [
    "Абоненты \"Ультры\" в среднем отправляют в 1,5 раза больше сообщений, чем абоненты \"Смарт\": 49 и 33 сообщений в месяц соответственно. Среднее также не превышает установленный лимит. В целом, судя по графику, можно сказать, что много месяцев, где количество сообщений почти минимальное. Абоненты \"Ультры\" вообще никогда не превышают установленный лимит в 1000 сообщений."
   ]
  },
  {
   "cell_type": "code",
   "execution_count": 66,
   "metadata": {},
   "outputs": [
    {
     "data": {
      "text/plain": [
       "count    2229.000000\n",
       "mean       16.328847\n",
       "std         5.747061\n",
       "min         0.000000\n",
       "25%        13.000000\n",
       "50%        17.000000\n",
       "75%        20.000000\n",
       "max        38.000000\n",
       "Name: gb_used, dtype: float64"
      ]
     },
     "execution_count": 66,
     "metadata": {},
     "output_type": "execute_result"
    }
   ],
   "source": [
    "smart_clients['gb_used'].describe()"
   ]
  },
  {
   "cell_type": "code",
   "execution_count": 67,
   "metadata": {},
   "outputs": [
    {
     "data": {
      "text/plain": [
       "count    985.000000\n",
       "mean      19.494416\n",
       "std        9.853511\n",
       "min        0.000000\n",
       "25%       12.000000\n",
       "50%       19.000000\n",
       "75%       27.000000\n",
       "max       49.000000\n",
       "Name: gb_used, dtype: float64"
      ]
     },
     "execution_count": 67,
     "metadata": {},
     "output_type": "execute_result"
    }
   ],
   "source": [
    "ultra_clients['gb_used'].describe()"
   ]
  },
  {
   "cell_type": "code",
   "execution_count": 68,
   "metadata": {},
   "outputs": [
    {
     "data": {
      "text/html": [
       "<div>\n",
       "<style scoped>\n",
       "    .dataframe tbody tr th:only-of-type {\n",
       "        vertical-align: middle;\n",
       "    }\n",
       "\n",
       "    .dataframe tbody tr th {\n",
       "        vertical-align: top;\n",
       "    }\n",
       "\n",
       "    .dataframe thead th {\n",
       "        text-align: right;\n",
       "    }\n",
       "</style>\n",
       "<table border=\"1\" class=\"dataframe\">\n",
       "  <thead>\n",
       "    <tr style=\"text-align: right;\">\n",
       "      <th></th>\n",
       "      <th>tariff_name</th>\n",
       "      <th>mean</th>\n",
       "      <th>variation_estimated</th>\n",
       "      <th>standard_deviation</th>\n",
       "    </tr>\n",
       "  </thead>\n",
       "  <tbody>\n",
       "    <tr>\n",
       "      <th>0</th>\n",
       "      <td>smart</td>\n",
       "      <td>16.328847</td>\n",
       "      <td>33.028705</td>\n",
       "      <td>5.747061</td>\n",
       "    </tr>\n",
       "    <tr>\n",
       "      <th>1</th>\n",
       "      <td>ultra</td>\n",
       "      <td>19.494416</td>\n",
       "      <td>97.091686</td>\n",
       "      <td>9.853511</td>\n",
       "    </tr>\n",
       "  </tbody>\n",
       "</table>\n",
       "</div>"
      ],
      "text/plain": [
       "  tariff_name       mean  variation_estimated  standard_deviation\n",
       "0       smart  16.328847            33.028705            5.747061\n",
       "1       ultra  19.494416            97.091686            9.853511"
      ]
     },
     "metadata": {},
     "output_type": "display_data"
    }
   ],
   "source": [
    "var_est_gb_smart = np.var(smart_clients['gb_used'], ddof = 1)\n",
    "st_dev_gb_smart = np.std(smart_clients['gb_used'], ddof = 1)\n",
    "mean_gb_smart = smart_clients['gb_used'].mean()\n",
    "\n",
    "var_est_gb_ultra = np.var(ultra_clients['gb_used'], ddof = 1)\n",
    "st_dev_gb_ultra = np.std(ultra_clients['gb_used'], ddof = 1)\n",
    "mean_gb_ultra = ultra_clients['gb_used'].mean()\n",
    "\n",
    "desc = [{\"tariff_name\": 'smart', \"mean\": mean_gb_smart, \"variation_estimated\": var_est_gb_smart, \"standard_deviation\": st_dev_gb_smart}, {\"tariff_name\": 'ultra', \"mean\": mean_gb_ultra, \"variation_estimated\": var_est_gb_ultra, \"standard_deviation\": st_dev_gb_ultra}]\n",
    "description_gb= pd.DataFrame(desc)\n",
    "display(description_gb)"
   ]
  },
  {
   "cell_type": "code",
   "execution_count": 69,
   "metadata": {},
   "outputs": [
    {
     "data": {
      "text/plain": [
       "<matplotlib.legend.Legend at 0x28d1460fc40>"
      ]
     },
     "execution_count": 69,
     "metadata": {},
     "output_type": "execute_result"
    },
    {
     "data": {
      "image/png": "[encoded data removed]",
      "text/plain": [
       "<Figure size 432x288 with 1 Axes>"
      ]
     },
     "metadata": {
      "needs_background": "light"
     },
     "output_type": "display_data"
    }
   ],
   "source": [
    "ax = smart_clients['gb_used'].plot(kind = 'hist', bins = 20, xlim = (0, 50), grid = True, alpha = 0.7, label = 'Smart')\n",
    "ultra_clients['gb_used'].plot(kind = 'hist', bins = 20, xlim = (0, 50), ax=ax, grid = True, alpha = 0.7, label = 'Ultra')\n",
    "plt.xlabel('Среднемесячный трафик', fontsize=14)\n",
    "plt.ylabel('Количество месяцев', fontsize=14)\n",
    "plt.legend(fontsize=14)"
   ]
  },
  {
   "cell_type": "markdown",
   "metadata": {},
   "source": [
    "Среднемесячный объем интернет-трафика для абонентов обоих тарифов отличается несущественно: 16 ГБ для \"Смарта\" и 20 ГБ для \"Ультры\". В среднемесячный объем трафика абонентов \"Смарта\" превышает установленный лимит, а абонентов \"Ультры\" нет. Тем не менее, у обоих тарифов есть клиенты, которые превышают месячный лимит.\n",
    "\n",
    "Таким образом, пользователи тарифа \"Смарт\" чаще нарушают лимиты и платят за дополнительные минуты разговора, сообщения и Интернет-трафик. Также, исходя из анализа, абоненты чаще используют Интернет-связь и звонки, чем смс-сообщения. "
   ]
  },
  {
   "cell_type": "markdown",
   "metadata": {},
   "source": [
    "## Проверка гипотез"
   ]
  },
  {
   "cell_type": "markdown",
   "metadata": {},
   "source": [
    "Проверим следующие гипотезы:\n",
    "\n",
    "* средняя выручка пользователей тарифов «Ультра» и «Смарт» различаются;\n",
    "* средняя выручка пользователей из Москвы отличается от выручки пользователей из других регионов."
   ]
  },
  {
   "cell_type": "markdown",
   "metadata": {},
   "source": [
    "Н0: средняя выручка пользователей тарифов «Ультра» и «Смарт» не различаются;\n",
    "\n",
    "Н1: средняя выручка пользователей тарифов «Ультра» и «Смарт» различаются;\n",
    "\n",
    "Пороговое значение alpha - 5%, так как его используют чаще всего. "
   ]
  },
  {
   "cell_type": "code",
   "execution_count": 70,
   "metadata": {},
   "outputs": [
    {
     "name": "stdout",
     "output_type": "stream",
     "text": [
      "p-значение: 4.2606313931076085e-250\n",
      "Отвергаем нулевую гипотезу\n"
     ]
    }
   ],
   "source": [
    "alpha = 0.05\n",
    "results = scipy.stats.ttest_ind(smart_clients['monthly_revenue'], ultra_clients['monthly_revenue'], equal_var = False)\n",
    "print('p-значение:', results.pvalue)\n",
    " \n",
    "if results.pvalue < alpha:\n",
    "    print(\"Отвергаем нулевую гипотезу\")\n",
    "else:\n",
    "    print(\"Не получилось отвергнуть нулевую гипотезу\") "
   ]
  },
  {
   "cell_type": "markdown",
   "metadata": {},
   "source": [
    "Проверка показала, что средняя выручка пользователей тарифов «Ультра» и «Смарт» различаются."
   ]
  },
  {
   "cell_type": "code",
   "execution_count": 71,
   "metadata": {},
   "outputs": [
    {
     "data": {
      "text/html": [
       "<div>\n",
       "<style scoped>\n",
       "    .dataframe tbody tr th:only-of-type {\n",
       "        vertical-align: middle;\n",
       "    }\n",
       "\n",
       "    .dataframe tbody tr th {\n",
       "        vertical-align: top;\n",
       "    }\n",
       "\n",
       "    .dataframe thead th {\n",
       "        text-align: right;\n",
       "    }\n",
       "</style>\n",
       "<table border=\"1\" class=\"dataframe\">\n",
       "  <thead>\n",
       "    <tr style=\"text-align: right;\">\n",
       "      <th></th>\n",
       "      <th>tariff_name</th>\n",
       "      <th>mean</th>\n",
       "      <th>variation_estimated</th>\n",
       "      <th>standard_deviation</th>\n",
       "    </tr>\n",
       "  </thead>\n",
       "  <tbody>\n",
       "    <tr>\n",
       "      <th>0</th>\n",
       "      <td>smart</td>\n",
       "      <td>1289.973531</td>\n",
       "      <td>669785.708006</td>\n",
       "      <td>818.404367</td>\n",
       "    </tr>\n",
       "    <tr>\n",
       "      <th>1</th>\n",
       "      <td>ultra</td>\n",
       "      <td>2070.152284</td>\n",
       "      <td>141516.745079</td>\n",
       "      <td>376.187114</td>\n",
       "    </tr>\n",
       "  </tbody>\n",
       "</table>\n",
       "</div>"
      ],
      "text/plain": [
       "  tariff_name         mean  variation_estimated  standard_deviation\n",
       "0       smart  1289.973531        669785.708006          818.404367\n",
       "1       ultra  2070.152284        141516.745079          376.187114"
      ]
     },
     "metadata": {},
     "output_type": "display_data"
    }
   ],
   "source": [
    "var_est_rev_smart = np.var(smart_clients['monthly_revenue'], ddof = 1)\n",
    "st_dev_rev_smart = np.std(smart_clients['monthly_revenue'], ddof = 1)\n",
    "mean_rev_smart = smart_clients['monthly_revenue'].mean()\n",
    "\n",
    "var_est_rev_ultra = np.var(ultra_clients['monthly_revenue'], ddof = 1)\n",
    "st_dev_rev_ultra = np.std(ultra_clients['monthly_revenue'], ddof = 1)\n",
    "mean_rev_ultra = ultra_clients['monthly_revenue'].mean()\n",
    "\n",
    "desc = [{\"tariff_name\": 'smart', \"mean\": mean_rev_smart, \"variation_estimated\": var_est_rev_smart, \"standard_deviation\": st_dev_rev_smart}, {\"tariff_name\": 'ultra', \"mean\": mean_rev_ultra, \"variation_estimated\": var_est_rev_ultra, \"standard_deviation\": st_dev_rev_ultra}]\n",
    "description_messages = pd.DataFrame(desc)\n",
    "display(description_messages)"
   ]
  },
  {
   "cell_type": "markdown",
   "metadata": {},
   "source": [
    "Среднемесячная выручка от абонентов \"Смарт\" равна 1290 рублей (то есть 2,4 раза выше размера тарифа), а тарифа \"Ультра\" 2070 рублей, что несущественно выше размера тарифа. Посчитаем объем выручки от клиентов каждого тарифа:"
   ]
  },
  {
   "cell_type": "code",
   "execution_count": 72,
   "metadata": {},
   "outputs": [
    {
     "data": {
      "text/plain": [
       "74413.0"
      ]
     },
     "execution_count": 72,
     "metadata": {},
     "output_type": "execute_result"
    }
   ],
   "source": [
    "smart_total_revenue = mean_mes_smart * len(smart_clients['monthly_revenue'])\n",
    "smart_total_revenue"
   ]
  },
  {
   "cell_type": "code",
   "execution_count": 73,
   "metadata": {},
   "outputs": [
    {
     "data": {
      "text/plain": [
       "48623.0"
      ]
     },
     "execution_count": 73,
     "metadata": {},
     "output_type": "execute_result"
    }
   ],
   "source": [
    "ultra_total_revenue = mean_mes_ultra * len(ultra_clients['monthly_revenue'])\n",
    "ultra_total_revenue"
   ]
  },
  {
   "cell_type": "markdown",
   "metadata": {},
   "source": [
    "Создадим 2 таблицы: в первой будут пользователи из Москвы, во второй из других регионов."
   ]
  },
  {
   "cell_type": "code",
   "execution_count": 74,
   "metadata": {},
   "outputs": [],
   "source": [
    "moscow_revenue = final_pivot.loc[final_pivot['city'] == 'Москва', 'monthly_revenue']\n",
    "other_revenue = final_pivot.loc[final_pivot['city'] != 'Москва', 'monthly_revenue']"
   ]
  },
  {
   "cell_type": "markdown",
   "metadata": {},
   "source": [
    "Н0: средняя выручка пользователей из Москвы и регионов не различаются; \n",
    "\n",
    "Н1: средняя выручка пользователей из Москвы и регионов различаются;"
   ]
  },
  {
   "cell_type": "code",
   "execution_count": 75,
   "metadata": {},
   "outputs": [
    {
     "name": "stdout",
     "output_type": "stream",
     "text": [
      "p-значение: 0.5257376663729298\n",
      "Не получилось отвергнуть нулевую гипотезу\n"
     ]
    }
   ],
   "source": [
    "alpha = 0.05\n",
    "results = scipy.stats.ttest_ind(moscow_revenue, other_revenue, equal_var = False)\n",
    "print('p-значение:', results.pvalue)\n",
    " \n",
    "if results.pvalue < alpha:\n",
    "    print(\"Отвергаем нулевую гипотезу\")\n",
    "else:\n",
    "    print(\"Не получилось отвергнуть нулевую гипотезу\") "
   ]
  },
  {
   "cell_type": "markdown",
   "metadata": {},
   "source": [
    "Не получилось отвергнуть гипотезу о том, что средняя выручка в Москве и регионах отличается."
   ]
  },
  {
   "cell_type": "code",
   "execution_count": 76,
   "metadata": {},
   "outputs": [
    {
     "data": {
      "text/html": [
       "<div>\n",
       "<style scoped>\n",
       "    .dataframe tbody tr th:only-of-type {\n",
       "        vertical-align: middle;\n",
       "    }\n",
       "\n",
       "    .dataframe tbody tr th {\n",
       "        vertical-align: top;\n",
       "    }\n",
       "\n",
       "    .dataframe thead th {\n",
       "        text-align: right;\n",
       "    }\n",
       "</style>\n",
       "<table border=\"1\" class=\"dataframe\">\n",
       "  <thead>\n",
       "    <tr style=\"text-align: right;\">\n",
       "      <th></th>\n",
       "      <th>region</th>\n",
       "      <th>mean</th>\n",
       "      <th>variation_estimated</th>\n",
       "      <th>standard_deviation</th>\n",
       "    </tr>\n",
       "  </thead>\n",
       "  <tbody>\n",
       "    <tr>\n",
       "      <th>0</th>\n",
       "      <td>Moscow</td>\n",
       "      <td>1546.713584</td>\n",
       "      <td>565636.467012</td>\n",
       "      <td>752.088071</td>\n",
       "    </tr>\n",
       "    <tr>\n",
       "      <th>1</th>\n",
       "      <td>Other</td>\n",
       "      <td>1524.936227</td>\n",
       "      <td>654137.628522</td>\n",
       "      <td>808.787752</td>\n",
       "    </tr>\n",
       "  </tbody>\n",
       "</table>\n",
       "</div>"
      ],
      "text/plain": [
       "   region         mean  variation_estimated  standard_deviation\n",
       "0  Moscow  1546.713584        565636.467012          752.088071\n",
       "1   Other  1524.936227        654137.628522          808.787752"
      ]
     },
     "metadata": {},
     "output_type": "display_data"
    }
   ],
   "source": [
    "var_est_moscow = np.var(moscow_revenue, ddof = 1)\n",
    "st_dev_moscow = np.std(moscow_revenue, ddof = 1)\n",
    "mean_moscow = moscow_revenue.mean()\n",
    "\n",
    "var_est_other = np.var(other_revenue, ddof = 1)\n",
    "st_dev_other = np.std(other_revenue, ddof = 1)\n",
    "mean_other = other_revenue.mean()\n",
    "\n",
    "desc = [{\"region\": 'Moscow', \"mean\": mean_moscow, \"variation_estimated\": var_est_moscow, \"standard_deviation\": st_dev_moscow}, {\"region\": 'Other', \"mean\": mean_other, \"variation_estimated\": var_est_other, \"standard_deviation\": st_dev_other}]\n",
    "description_messages = pd.DataFrame(desc)\n",
    "display(description_messages)"
   ]
  },
  {
   "cell_type": "markdown",
   "metadata": {},
   "source": [
    "Таким образом, средний размер выручки от абонентов тарифа \"Смарт\" отличается от средней выручки тарифа \"Ультра\". Больше общей  выручки компания получает от тарифа \"Смарт\", так количество абонентов \"Смарта\" в несколько раз выше, чем тарифа \"Ультра\" и они чаще превышают установленные лимиты.\n",
    "При этом, средний размер выручки не зависит от региона проживания клиента.\n",
    "\n",
    "\n",
    "\n"
   ]
  },
  {
   "cell_type": "markdown",
   "metadata": {},
   "source": [
    "В ходе исследования была проанализирована выборка из 500 абонентов телеком-компании \"Мегалайн\". В ней указано: кто они, откуда, каким тарифом пользуются, сколько звонков и сообщений каждый отправил за 2018 год. Цель исследования: узнать, какой тариф лучше.\n",
    "\n",
    "В ходе предобработки данных было выявлено, что пропусков, которые необходимо заполнить нет. Ошибок и дубликатов тоже. \n",
    "\n",
    "Анализ поведения абонетов двух тарифов показал:\n",
    "* количество абонентов в выборке, использующих тариф \"Смарт\" почти в 2,5 раза больше, чем абонентов с тарифом \"Ультра\". Данный факт можно объяснить разницей в размере абонентской платы. \"Ультра\" почти в 4 раза дороже \"Смарта\".\n",
    "* в среднем абоненты \"Смарта\" разговаривают 418 минут в месяц, а \"Ультры\" - 527. Ни в том, ни другом случае средние показатели не выходят за рамки установленного лимита. Кроме того, ни один из абонентов \"Ультры\" не вышел за рамки установленного лимита.\n",
    "* абоненты \"Ультры\" в среднем отправляют в 1,5 раза больше сообщений, чем абоненты \"Смарта\": 49 и 33 сообщений в месяц соответственно. Среднее также не превышает установленный лимит. В целом, судя по графику, можно сказать, что много месяцев, где количество сообщений менее 10. Абоненты \"Ультры\" вообще никогда не превышают установленный лимит в 1000 сообщений.\n",
    "* среднемесячный объем интернет-трафика для абонентов обоих тарифов отличается несущественно: 16 ГБ для \"Смарта\" и 20 ГБ для \"Ультры\". Среднемесячный объем трафика абонентов \"Смарта\" превышает установленный лимит, а абонентов \"Ультры\" нет. Тем не менее, у обоих тарифов есть клиенты, которые превышают месячный лимит.\n",
    "* абоненты чаще используют Интернет-связь и звонки, чем смс-сообщения.\n",
    "* средний размер выручки от абонентов тарифа \"Смарт\" отличается от средней выручки тарифа \"Ультра\". Среднемесячная выручка от абонентов \"Смарт\" равна 1290 рублей (то есть 2,4 раза выше размера тарифа), а тарифа \"Ультра\" 2070 рублей, что несущественно выше размера тарифа. \n",
    "* согласно выборке, больше общей  выручки компания получает от тарифа \"Смарт\", так количество абонентов \"Смарта\" в несколько раз выше, чем тарифа \"Ультра\" и они чаще превышают установленные лимиты.\n",
    "* средний размер выручки не зависит от региона проживания клиента.\n",
    "\n"
   ]
  }
 ],
 "metadata": {
  "ExecuteTimeLog": [
   {
    "duration": 434,
    "start_time": "2022-06-06T05:18:50.399Z"
   },
   {
    "duration": 276,
    "start_time": "2022-06-06T05:21:33.843Z"
   },
   {
    "duration": 191,
    "start_time": "2022-06-06T05:21:46.115Z"
   },
   {
    "duration": 30,
    "start_time": "2022-06-06T05:21:58.700Z"
   },
   {
    "duration": 9,
    "start_time": "2022-06-06T05:23:07.810Z"
   },
   {
    "duration": 8,
    "start_time": "2022-06-06T05:23:24.990Z"
   },
   {
    "duration": 352,
    "start_time": "2022-06-06T05:25:18.765Z"
   },
   {
    "duration": 20,
    "start_time": "2022-06-06T05:25:32.261Z"
   },
   {
    "duration": 7,
    "start_time": "2022-06-06T05:26:08.771Z"
   },
   {
    "duration": 713,
    "start_time": "2022-06-06T05:27:29.152Z"
   },
   {
    "duration": 36,
    "start_time": "2022-06-06T05:27:39.003Z"
   },
   {
    "duration": 8,
    "start_time": "2022-06-06T05:28:03.507Z"
   },
   {
    "duration": 76,
    "start_time": "2022-06-06T05:28:53.386Z"
   },
   {
    "duration": 15,
    "start_time": "2022-06-06T05:29:04.182Z"
   },
   {
    "duration": 6,
    "start_time": "2022-06-06T05:29:55.972Z"
   },
   {
    "duration": 88,
    "start_time": "2022-06-06T05:31:08.464Z"
   },
   {
    "duration": 11,
    "start_time": "2022-06-06T05:31:16.962Z"
   },
   {
    "duration": 8,
    "start_time": "2022-06-06T05:31:30.306Z"
   },
   {
    "duration": 22,
    "start_time": "2022-06-06T06:02:21.085Z"
   },
   {
    "duration": 41,
    "start_time": "2022-06-06T06:13:17.607Z"
   },
   {
    "duration": 18,
    "start_time": "2022-06-06T06:13:36.754Z"
   },
   {
    "duration": 7,
    "start_time": "2022-06-06T06:13:52.975Z"
   },
   {
    "duration": 3,
    "start_time": "2022-06-06T06:19:40.382Z"
   },
   {
    "duration": 184,
    "start_time": "2022-06-06T06:19:40.792Z"
   },
   {
    "duration": 23,
    "start_time": "2022-06-06T06:19:41.374Z"
   },
   {
    "duration": 6,
    "start_time": "2022-06-06T06:19:41.901Z"
   },
   {
    "duration": 143,
    "start_time": "2022-06-06T06:19:43.654Z"
   },
   {
    "duration": 21,
    "start_time": "2022-06-06T06:19:44.177Z"
   },
   {
    "duration": 6,
    "start_time": "2022-06-06T06:19:45.798Z"
   },
   {
    "duration": 23,
    "start_time": "2022-06-06T06:46:15.176Z"
   },
   {
    "duration": 15,
    "start_time": "2022-06-06T06:46:29.888Z"
   },
   {
    "duration": 13,
    "start_time": "2022-06-06T06:48:14.161Z"
   },
   {
    "duration": 29,
    "start_time": "2022-06-06T06:48:14.614Z"
   },
   {
    "duration": 84,
    "start_time": "2022-06-06T06:48:15.070Z"
   },
   {
    "duration": 25,
    "start_time": "2022-06-06T06:48:58.014Z"
   },
   {
    "duration": 20,
    "start_time": "2022-06-06T06:49:09.675Z"
   },
   {
    "duration": 7,
    "start_time": "2022-06-06T06:50:22.764Z"
   },
   {
    "duration": 64,
    "start_time": "2022-06-06T08:32:59.625Z"
   },
   {
    "duration": 454,
    "start_time": "2022-06-06T08:33:14.316Z"
   },
   {
    "duration": 550,
    "start_time": "2022-06-06T08:33:14.773Z"
   },
   {
    "duration": 30,
    "start_time": "2022-06-06T08:33:15.324Z"
   },
   {
    "duration": 8,
    "start_time": "2022-06-06T08:33:15.356Z"
   },
   {
    "duration": 433,
    "start_time": "2022-06-06T08:33:15.366Z"
   },
   {
    "duration": 28,
    "start_time": "2022-06-06T08:33:15.801Z"
   },
   {
    "duration": 8,
    "start_time": "2022-06-06T08:33:15.831Z"
   },
   {
    "duration": 165,
    "start_time": "2022-06-06T08:33:15.841Z"
   },
   {
    "duration": 22,
    "start_time": "2022-06-06T08:33:16.008Z"
   },
   {
    "duration": 6,
    "start_time": "2022-06-06T08:33:16.033Z"
   },
   {
    "duration": 57,
    "start_time": "2022-06-06T08:33:16.040Z"
   },
   {
    "duration": 11,
    "start_time": "2022-06-06T08:33:16.099Z"
   },
   {
    "duration": 9,
    "start_time": "2022-06-06T08:33:16.111Z"
   },
   {
    "duration": 65,
    "start_time": "2022-06-06T08:33:16.122Z"
   },
   {
    "duration": 12,
    "start_time": "2022-06-06T08:33:16.188Z"
   },
   {
    "duration": 10,
    "start_time": "2022-06-06T08:33:16.201Z"
   },
   {
    "duration": 40,
    "start_time": "2022-06-06T08:33:16.213Z"
   },
   {
    "duration": 42,
    "start_time": "2022-06-06T08:33:16.255Z"
   },
   {
    "duration": 25,
    "start_time": "2022-06-06T08:33:16.299Z"
   },
   {
    "duration": 18,
    "start_time": "2022-06-06T08:33:16.326Z"
   },
   {
    "duration": 22,
    "start_time": "2022-06-06T08:33:16.345Z"
   },
   {
    "duration": 16,
    "start_time": "2022-06-06T08:33:16.390Z"
   },
   {
    "duration": 20,
    "start_time": "2022-06-06T08:33:16.408Z"
   },
   {
    "duration": 651,
    "start_time": "2022-06-06T08:33:16.430Z"
   },
   {
    "duration": 205,
    "start_time": "2022-06-06T08:37:41.302Z"
   },
   {
    "duration": 15,
    "start_time": "2022-06-06T08:42:54.821Z"
   },
   {
    "duration": 166,
    "start_time": "2022-06-06T08:43:27.509Z"
   },
   {
    "duration": 9,
    "start_time": "2022-06-06T08:45:12.515Z"
   },
   {
    "duration": 163,
    "start_time": "2022-06-06T08:45:39.182Z"
   },
   {
    "duration": 4,
    "start_time": "2022-06-06T08:46:42.056Z"
   },
   {
    "duration": 62,
    "start_time": "2022-06-07T07:01:54.554Z"
   },
   {
    "duration": 449,
    "start_time": "2022-06-07T07:02:03.610Z"
   },
   {
    "duration": 553,
    "start_time": "2022-06-07T07:02:04.062Z"
   },
   {
    "duration": 28,
    "start_time": "2022-06-07T07:02:04.617Z"
   },
   {
    "duration": 7,
    "start_time": "2022-06-07T07:02:04.648Z"
   },
   {
    "duration": 462,
    "start_time": "2022-06-07T07:02:04.657Z"
   },
   {
    "duration": 24,
    "start_time": "2022-06-07T07:02:05.121Z"
   },
   {
    "duration": 7,
    "start_time": "2022-06-07T07:02:05.147Z"
   },
   {
    "duration": 164,
    "start_time": "2022-06-07T07:02:05.156Z"
   },
   {
    "duration": 20,
    "start_time": "2022-06-07T07:02:05.322Z"
   },
   {
    "duration": 11,
    "start_time": "2022-06-07T07:02:05.345Z"
   },
   {
    "duration": 61,
    "start_time": "2022-06-07T07:02:05.358Z"
   },
   {
    "duration": 11,
    "start_time": "2022-06-07T07:02:05.421Z"
   },
   {
    "duration": 8,
    "start_time": "2022-06-07T07:02:05.434Z"
   },
   {
    "duration": 68,
    "start_time": "2022-06-07T07:02:05.444Z"
   },
   {
    "duration": 15,
    "start_time": "2022-06-07T07:02:05.514Z"
   },
   {
    "duration": 12,
    "start_time": "2022-06-07T07:02:05.531Z"
   },
   {
    "duration": 50,
    "start_time": "2022-06-07T07:02:05.545Z"
   },
   {
    "duration": 19,
    "start_time": "2022-06-07T07:02:05.597Z"
   },
   {
    "duration": 26,
    "start_time": "2022-06-07T07:02:05.618Z"
   },
   {
    "duration": 46,
    "start_time": "2022-06-07T07:02:05.645Z"
   },
   {
    "duration": 22,
    "start_time": "2022-06-07T07:02:05.692Z"
   },
   {
    "duration": 16,
    "start_time": "2022-06-07T07:02:05.716Z"
   },
   {
    "duration": 22,
    "start_time": "2022-06-07T07:02:05.733Z"
   },
   {
    "duration": 697,
    "start_time": "2022-06-07T07:02:05.757Z"
   },
   {
    "duration": 17,
    "start_time": "2022-06-07T07:02:06.456Z"
   },
   {
    "duration": 181,
    "start_time": "2022-06-07T07:02:06.475Z"
   },
   {
    "duration": 10,
    "start_time": "2022-06-07T07:02:06.658Z"
   },
   {
    "duration": 172,
    "start_time": "2022-06-07T07:02:06.672Z"
   },
   {
    "duration": 5,
    "start_time": "2022-06-07T07:02:06.846Z"
   },
   {
    "duration": 41,
    "start_time": "2022-06-07T07:02:06.853Z"
   },
   {
    "duration": 8,
    "start_time": "2022-06-07T07:02:52.720Z"
   },
   {
    "duration": 21,
    "start_time": "2022-06-07T07:03:27.176Z"
   },
   {
    "duration": 7,
    "start_time": "2022-06-07T07:03:38.913Z"
   },
   {
    "duration": 16,
    "start_time": "2022-06-07T07:04:21.268Z"
   },
   {
    "duration": 6,
    "start_time": "2022-06-07T07:04:32.713Z"
   },
   {
    "duration": 123,
    "start_time": "2022-06-07T07:15:03.515Z"
   },
   {
    "duration": 57,
    "start_time": "2022-06-07T07:15:09.660Z"
   },
   {
    "duration": 90,
    "start_time": "2022-06-07T07:15:33.878Z"
   },
   {
    "duration": 265,
    "start_time": "2022-06-07T07:18:53.345Z"
   },
   {
    "duration": 3,
    "start_time": "2022-06-07T07:19:05.785Z"
   },
   {
    "duration": 15,
    "start_time": "2022-06-07T07:19:23.420Z"
   },
   {
    "duration": 41,
    "start_time": "2022-06-07T07:21:10.550Z"
   },
   {
    "duration": 43,
    "start_time": "2022-06-07T07:21:54.645Z"
   },
   {
    "duration": 4,
    "start_time": "2022-06-07T07:23:10.911Z"
   },
   {
    "duration": 15,
    "start_time": "2022-06-07T07:23:32.983Z"
   },
   {
    "duration": 20,
    "start_time": "2022-06-07T07:24:07.389Z"
   },
   {
    "duration": 6,
    "start_time": "2022-06-07T07:24:08.191Z"
   },
   {
    "duration": 33,
    "start_time": "2022-06-07T07:24:08.842Z"
   },
   {
    "duration": 3,
    "start_time": "2022-06-07T07:24:12.706Z"
   },
   {
    "duration": 17,
    "start_time": "2022-06-07T07:24:34.279Z"
   },
   {
    "duration": 30,
    "start_time": "2022-06-07T07:26:40.743Z"
   },
   {
    "duration": 24,
    "start_time": "2022-06-07T07:27:15.800Z"
   },
   {
    "duration": 58,
    "start_time": "2022-06-08T02:38:27.915Z"
   },
   {
    "duration": 404,
    "start_time": "2022-06-08T02:38:44.552Z"
   },
   {
    "duration": 249,
    "start_time": "2022-06-08T02:38:44.958Z"
   },
   {
    "duration": 26,
    "start_time": "2022-06-08T02:38:45.208Z"
   },
   {
    "duration": 14,
    "start_time": "2022-06-08T02:38:45.238Z"
   },
   {
    "duration": 342,
    "start_time": "2022-06-08T02:38:45.253Z"
   },
   {
    "duration": 20,
    "start_time": "2022-06-08T02:38:45.596Z"
   },
   {
    "duration": 5,
    "start_time": "2022-06-08T02:38:45.618Z"
   },
   {
    "duration": 366,
    "start_time": "2022-06-08T02:38:45.624Z"
   },
   {
    "duration": 17,
    "start_time": "2022-06-08T02:38:45.991Z"
   },
   {
    "duration": 5,
    "start_time": "2022-06-08T02:38:46.011Z"
   },
   {
    "duration": 95,
    "start_time": "2022-06-08T02:38:46.018Z"
   },
   {
    "duration": 9,
    "start_time": "2022-06-08T02:38:46.115Z"
   },
   {
    "duration": 25,
    "start_time": "2022-06-08T02:38:46.126Z"
   },
   {
    "duration": 63,
    "start_time": "2022-06-08T02:38:46.152Z"
   },
   {
    "duration": 12,
    "start_time": "2022-06-08T02:38:46.217Z"
   },
   {
    "duration": 36,
    "start_time": "2022-06-08T02:38:46.231Z"
   },
   {
    "duration": 45,
    "start_time": "2022-06-08T02:38:46.269Z"
   },
   {
    "duration": 25,
    "start_time": "2022-06-08T02:38:46.316Z"
   },
   {
    "duration": 41,
    "start_time": "2022-06-08T02:38:46.345Z"
   },
   {
    "duration": 21,
    "start_time": "2022-06-08T02:38:46.388Z"
   },
   {
    "duration": 39,
    "start_time": "2022-06-08T02:38:46.411Z"
   },
   {
    "duration": 18,
    "start_time": "2022-06-08T02:38:46.451Z"
   },
   {
    "duration": 24,
    "start_time": "2022-06-08T02:38:46.471Z"
   },
   {
    "duration": 591,
    "start_time": "2022-06-08T02:38:46.497Z"
   },
   {
    "duration": 13,
    "start_time": "2022-06-08T02:38:47.089Z"
   },
   {
    "duration": 144,
    "start_time": "2022-06-08T02:38:47.103Z"
   },
   {
    "duration": 10,
    "start_time": "2022-06-08T02:38:47.249Z"
   },
   {
    "duration": 142,
    "start_time": "2022-06-08T02:38:47.263Z"
   },
   {
    "duration": 4,
    "start_time": "2022-06-08T02:38:47.406Z"
   },
   {
    "duration": 49,
    "start_time": "2022-06-08T02:38:47.412Z"
   },
   {
    "duration": 7,
    "start_time": "2022-06-08T02:38:47.462Z"
   },
   {
    "duration": 73,
    "start_time": "2022-06-08T02:38:47.470Z"
   },
   {
    "duration": 13,
    "start_time": "2022-06-08T02:38:47.545Z"
   },
   {
    "duration": 19,
    "start_time": "2022-06-08T02:38:47.559Z"
   },
   {
    "duration": 6,
    "start_time": "2022-06-08T02:38:47.580Z"
   },
   {
    "duration": 52,
    "start_time": "2022-06-08T02:38:47.588Z"
   },
   {
    "duration": 14,
    "start_time": "2022-06-08T02:38:47.641Z"
   },
   {
    "duration": 5,
    "start_time": "2022-06-08T02:38:47.656Z"
   },
   {
    "duration": 28,
    "start_time": "2022-06-08T02:38:47.662Z"
   },
   {
    "duration": 105,
    "start_time": "2022-06-08T02:38:47.692Z"
   },
   {
    "duration": 11,
    "start_time": "2022-06-08T02:40:21.986Z"
   },
   {
    "duration": 17,
    "start_time": "2022-06-08T02:40:44.055Z"
   },
   {
    "duration": 25,
    "start_time": "2022-06-08T02:40:51.847Z"
   },
   {
    "duration": 11,
    "start_time": "2022-06-08T02:40:52.511Z"
   },
   {
    "duration": 21,
    "start_time": "2022-06-08T02:41:38.014Z"
   },
   {
    "duration": 31,
    "start_time": "2022-06-08T02:42:33.257Z"
   },
   {
    "duration": 31,
    "start_time": "2022-06-08T02:49:12.855Z"
   },
   {
    "duration": 20,
    "start_time": "2022-06-08T02:59:37.971Z"
   },
   {
    "duration": 11,
    "start_time": "2022-06-08T03:05:36.872Z"
   },
   {
    "duration": 14,
    "start_time": "2022-06-08T03:08:21.079Z"
   },
   {
    "duration": 8,
    "start_time": "2022-06-08T03:08:57.950Z"
   },
   {
    "duration": 2,
    "start_time": "2022-06-08T03:09:50.194Z"
   },
   {
    "duration": 442,
    "start_time": "2022-06-08T03:09:56.655Z"
   },
   {
    "duration": 182,
    "start_time": "2022-06-08T03:09:57.100Z"
   },
   {
    "duration": 28,
    "start_time": "2022-06-08T03:09:57.284Z"
   },
   {
    "duration": 25,
    "start_time": "2022-06-08T03:09:57.314Z"
   },
   {
    "duration": 173,
    "start_time": "2022-06-08T03:09:57.341Z"
   },
   {
    "duration": 36,
    "start_time": "2022-06-08T03:09:57.516Z"
   },
   {
    "duration": 8,
    "start_time": "2022-06-08T03:09:57.554Z"
   },
   {
    "duration": 93,
    "start_time": "2022-06-08T03:09:57.564Z"
   },
   {
    "duration": 20,
    "start_time": "2022-06-08T03:09:57.658Z"
   },
   {
    "duration": 6,
    "start_time": "2022-06-08T03:09:57.680Z"
   },
   {
    "duration": 23,
    "start_time": "2022-06-08T03:09:57.688Z"
   },
   {
    "duration": 10,
    "start_time": "2022-06-08T03:09:57.712Z"
   },
   {
    "duration": 29,
    "start_time": "2022-06-08T03:09:57.735Z"
   },
   {
    "duration": 31,
    "start_time": "2022-06-08T03:09:57.768Z"
   },
   {
    "duration": 13,
    "start_time": "2022-06-08T03:09:57.801Z"
   },
   {
    "duration": 20,
    "start_time": "2022-06-08T03:09:57.816Z"
   },
   {
    "duration": 56,
    "start_time": "2022-06-08T03:09:57.839Z"
   },
   {
    "duration": 20,
    "start_time": "2022-06-08T03:09:57.896Z"
   },
   {
    "duration": 35,
    "start_time": "2022-06-08T03:09:57.918Z"
   },
   {
    "duration": 25,
    "start_time": "2022-06-08T03:09:57.955Z"
   },
   {
    "duration": 27,
    "start_time": "2022-06-08T03:09:57.982Z"
   },
   {
    "duration": 36,
    "start_time": "2022-06-08T03:09:58.011Z"
   },
   {
    "duration": 34,
    "start_time": "2022-06-08T03:09:58.049Z"
   },
   {
    "duration": 469,
    "start_time": "2022-06-08T03:09:58.084Z"
   },
   {
    "duration": 14,
    "start_time": "2022-06-08T03:09:58.556Z"
   },
   {
    "duration": 145,
    "start_time": "2022-06-08T03:09:58.571Z"
   },
   {
    "duration": 14,
    "start_time": "2022-06-08T03:09:58.717Z"
   },
   {
    "duration": 127,
    "start_time": "2022-06-08T03:09:58.737Z"
   },
   {
    "duration": 6,
    "start_time": "2022-06-08T03:09:58.866Z"
   },
   {
    "duration": 31,
    "start_time": "2022-06-08T03:09:58.873Z"
   },
   {
    "duration": 7,
    "start_time": "2022-06-08T03:09:58.906Z"
   },
   {
    "duration": 62,
    "start_time": "2022-06-08T03:09:58.929Z"
   },
   {
    "duration": 14,
    "start_time": "2022-06-08T03:09:58.993Z"
   },
   {
    "duration": 55,
    "start_time": "2022-06-08T03:09:59.009Z"
   },
   {
    "duration": 8,
    "start_time": "2022-06-08T03:09:59.066Z"
   },
   {
    "duration": 42,
    "start_time": "2022-06-08T03:09:59.076Z"
   },
   {
    "duration": 26,
    "start_time": "2022-06-08T03:09:59.120Z"
   },
   {
    "duration": 52,
    "start_time": "2022-06-08T03:09:59.148Z"
   },
   {
    "duration": 13,
    "start_time": "2022-06-08T03:09:59.202Z"
   },
   {
    "duration": 56,
    "start_time": "2022-06-08T03:09:59.216Z"
   },
   {
    "duration": 31,
    "start_time": "2022-06-08T03:09:59.277Z"
   },
   {
    "duration": 42,
    "start_time": "2022-06-08T03:09:59.310Z"
   },
   {
    "duration": 32,
    "start_time": "2022-06-08T03:09:59.354Z"
   },
   {
    "duration": 113,
    "start_time": "2022-06-08T03:09:59.388Z"
   },
   {
    "duration": 12,
    "start_time": "2022-06-08T03:10:14.354Z"
   },
   {
    "duration": 511,
    "start_time": "2022-06-08T13:06:37.200Z"
   },
   {
    "duration": 462,
    "start_time": "2022-06-08T13:06:45.100Z"
   },
   {
    "duration": 247,
    "start_time": "2022-06-08T13:06:45.564Z"
   },
   {
    "duration": 24,
    "start_time": "2022-06-08T13:06:45.813Z"
   },
   {
    "duration": 7,
    "start_time": "2022-06-08T13:06:45.840Z"
   },
   {
    "duration": 361,
    "start_time": "2022-06-08T13:06:45.848Z"
   },
   {
    "duration": 29,
    "start_time": "2022-06-08T13:06:46.211Z"
   },
   {
    "duration": 8,
    "start_time": "2022-06-08T13:06:46.241Z"
   },
   {
    "duration": 349,
    "start_time": "2022-06-08T13:06:46.256Z"
   },
   {
    "duration": 17,
    "start_time": "2022-06-08T13:06:46.606Z"
   },
   {
    "duration": 4,
    "start_time": "2022-06-08T13:06:46.626Z"
   },
   {
    "duration": 74,
    "start_time": "2022-06-08T13:06:46.632Z"
   },
   {
    "duration": 10,
    "start_time": "2022-06-08T13:06:46.707Z"
   },
   {
    "duration": 9,
    "start_time": "2022-06-08T13:06:46.719Z"
   },
   {
    "duration": 61,
    "start_time": "2022-06-08T13:06:46.729Z"
   },
   {
    "duration": 10,
    "start_time": "2022-06-08T13:06:46.792Z"
   },
   {
    "duration": 10,
    "start_time": "2022-06-08T13:06:46.803Z"
   },
   {
    "duration": 41,
    "start_time": "2022-06-08T13:06:46.815Z"
   },
   {
    "duration": 18,
    "start_time": "2022-06-08T13:06:46.858Z"
   },
   {
    "duration": 23,
    "start_time": "2022-06-08T13:06:46.878Z"
   },
   {
    "duration": 29,
    "start_time": "2022-06-08T13:06:46.903Z"
   },
   {
    "duration": 33,
    "start_time": "2022-06-08T13:06:46.934Z"
   },
   {
    "duration": 13,
    "start_time": "2022-06-08T13:06:46.969Z"
   },
   {
    "duration": 18,
    "start_time": "2022-06-08T13:06:46.984Z"
   },
   {
    "duration": 604,
    "start_time": "2022-06-08T13:06:47.003Z"
   },
   {
    "duration": 21,
    "start_time": "2022-06-08T13:06:47.609Z"
   },
   {
    "duration": 132,
    "start_time": "2022-06-08T13:06:47.632Z"
   },
   {
    "duration": 7,
    "start_time": "2022-06-08T13:06:47.766Z"
   },
   {
    "duration": 130,
    "start_time": "2022-06-08T13:06:47.776Z"
   },
   {
    "duration": 4,
    "start_time": "2022-06-08T13:06:47.908Z"
   },
   {
    "duration": 33,
    "start_time": "2022-06-08T13:06:47.914Z"
   },
   {
    "duration": 6,
    "start_time": "2022-06-08T13:06:47.949Z"
   },
   {
    "duration": 71,
    "start_time": "2022-06-08T13:06:47.957Z"
   },
   {
    "duration": 11,
    "start_time": "2022-06-08T13:06:48.030Z"
   },
   {
    "duration": 19,
    "start_time": "2022-06-08T13:06:48.043Z"
   },
   {
    "duration": 5,
    "start_time": "2022-06-08T13:06:48.064Z"
   },
   {
    "duration": 33,
    "start_time": "2022-06-08T13:06:48.070Z"
   },
   {
    "duration": 37,
    "start_time": "2022-06-08T13:06:48.105Z"
   },
   {
    "duration": 24,
    "start_time": "2022-06-08T13:06:48.143Z"
   },
   {
    "duration": 11,
    "start_time": "2022-06-08T13:06:48.168Z"
   },
   {
    "duration": 18,
    "start_time": "2022-06-08T13:06:48.180Z"
   },
   {
    "duration": 44,
    "start_time": "2022-06-08T13:06:48.199Z"
   },
   {
    "duration": 19,
    "start_time": "2022-06-08T13:06:48.245Z"
   },
   {
    "duration": 11,
    "start_time": "2022-06-08T13:06:48.265Z"
   },
   {
    "duration": 100,
    "start_time": "2022-06-08T13:06:48.277Z"
   },
   {
    "duration": 2,
    "start_time": "2022-06-08T13:07:15.203Z"
   },
   {
    "duration": 161,
    "start_time": "2022-06-08T13:07:15.848Z"
   },
   {
    "duration": 23,
    "start_time": "2022-06-08T13:07:16.757Z"
   },
   {
    "duration": 6,
    "start_time": "2022-06-08T13:07:17.322Z"
   },
   {
    "duration": 137,
    "start_time": "2022-06-08T13:07:18.073Z"
   },
   {
    "duration": 19,
    "start_time": "2022-06-08T13:07:18.493Z"
   },
   {
    "duration": 5,
    "start_time": "2022-06-08T13:07:18.732Z"
   },
   {
    "duration": 89,
    "start_time": "2022-06-08T13:07:18.922Z"
   },
   {
    "duration": 17,
    "start_time": "2022-06-08T13:07:19.147Z"
   },
   {
    "duration": 5,
    "start_time": "2022-06-08T13:07:19.322Z"
   },
   {
    "duration": 26,
    "start_time": "2022-06-08T13:07:19.681Z"
   },
   {
    "duration": 10,
    "start_time": "2022-06-08T13:07:19.858Z"
   },
   {
    "duration": 6,
    "start_time": "2022-06-08T13:07:20.049Z"
   },
   {
    "duration": 26,
    "start_time": "2022-06-08T13:07:20.224Z"
   },
   {
    "duration": 10,
    "start_time": "2022-06-08T13:07:20.408Z"
   },
   {
    "duration": 6,
    "start_time": "2022-06-08T13:07:20.584Z"
   },
   {
    "duration": 30,
    "start_time": "2022-06-08T13:07:21.181Z"
   },
   {
    "duration": 17,
    "start_time": "2022-06-08T13:07:21.381Z"
   },
   {
    "duration": 21,
    "start_time": "2022-06-08T13:07:21.762Z"
   },
   {
    "duration": 18,
    "start_time": "2022-06-08T13:07:21.975Z"
   },
   {
    "duration": 19,
    "start_time": "2022-06-08T13:07:22.412Z"
   },
   {
    "duration": 14,
    "start_time": "2022-06-08T13:07:22.603Z"
   },
   {
    "duration": 16,
    "start_time": "2022-06-08T13:07:23.440Z"
   },
   {
    "duration": 135,
    "start_time": "2022-06-08T13:07:23.843Z"
   },
   {
    "duration": 12,
    "start_time": "2022-06-08T13:07:24.034Z"
   },
   {
    "duration": 113,
    "start_time": "2022-06-08T13:07:24.250Z"
   },
   {
    "duration": 8,
    "start_time": "2022-06-08T13:07:24.927Z"
   },
   {
    "duration": 125,
    "start_time": "2022-06-08T13:07:24.937Z"
   },
   {
    "duration": 5,
    "start_time": "2022-06-08T13:07:25.064Z"
   },
   {
    "duration": 20,
    "start_time": "2022-06-08T13:07:25.479Z"
   },
   {
    "duration": 6,
    "start_time": "2022-06-08T13:07:25.665Z"
   },
   {
    "duration": 57,
    "start_time": "2022-06-08T13:07:25.875Z"
   },
   {
    "duration": 12,
    "start_time": "2022-06-08T13:07:26.121Z"
   },
   {
    "duration": 17,
    "start_time": "2022-06-08T13:07:26.323Z"
   },
   {
    "duration": 6,
    "start_time": "2022-06-08T13:07:26.514Z"
   },
   {
    "duration": 32,
    "start_time": "2022-06-08T13:07:26.734Z"
   },
   {
    "duration": 16,
    "start_time": "2022-06-08T13:07:26.939Z"
   },
   {
    "duration": 23,
    "start_time": "2022-06-08T13:07:27.165Z"
   },
   {
    "duration": 12,
    "start_time": "2022-06-08T13:07:27.357Z"
   },
   {
    "duration": 17,
    "start_time": "2022-06-08T13:07:27.861Z"
   },
   {
    "duration": 20,
    "start_time": "2022-06-08T13:07:28.074Z"
   },
   {
    "duration": 21,
    "start_time": "2022-06-08T13:07:28.298Z"
   },
   {
    "duration": 12,
    "start_time": "2022-06-08T13:07:28.513Z"
   },
   {
    "duration": 9,
    "start_time": "2022-06-08T13:07:28.968Z"
   },
   {
    "duration": 4,
    "start_time": "2022-06-08T13:10:52.912Z"
   },
   {
    "duration": 25,
    "start_time": "2022-06-08T13:11:08.383Z"
   },
   {
    "duration": 4,
    "start_time": "2022-06-08T13:13:02.239Z"
   },
   {
    "duration": 19,
    "start_time": "2022-06-08T13:13:02.989Z"
   },
   {
    "duration": 4,
    "start_time": "2022-06-08T13:23:25.971Z"
   },
   {
    "duration": 18,
    "start_time": "2022-06-08T13:23:34.924Z"
   },
   {
    "duration": 356,
    "start_time": "2022-06-08T13:25:17.508Z"
   },
   {
    "duration": 27,
    "start_time": "2022-06-08T13:25:18.435Z"
   },
   {
    "duration": 366,
    "start_time": "2022-06-08T13:25:24.669Z"
   },
   {
    "duration": 422,
    "start_time": "2022-06-08T13:25:32.548Z"
   },
   {
    "duration": 161,
    "start_time": "2022-06-08T13:25:32.971Z"
   },
   {
    "duration": 24,
    "start_time": "2022-06-08T13:25:33.134Z"
   },
   {
    "duration": 31,
    "start_time": "2022-06-08T13:25:33.160Z"
   },
   {
    "duration": 165,
    "start_time": "2022-06-08T13:25:33.193Z"
   },
   {
    "duration": 19,
    "start_time": "2022-06-08T13:25:33.359Z"
   },
   {
    "duration": 12,
    "start_time": "2022-06-08T13:25:33.379Z"
   },
   {
    "duration": 103,
    "start_time": "2022-06-08T13:25:33.393Z"
   },
   {
    "duration": 18,
    "start_time": "2022-06-08T13:25:33.498Z"
   },
   {
    "duration": 12,
    "start_time": "2022-06-08T13:25:33.519Z"
   },
   {
    "duration": 39,
    "start_time": "2022-06-08T13:25:33.533Z"
   },
   {
    "duration": 10,
    "start_time": "2022-06-08T13:25:33.573Z"
   },
   {
    "duration": 10,
    "start_time": "2022-06-08T13:25:33.585Z"
   },
   {
    "duration": 31,
    "start_time": "2022-06-08T13:25:33.597Z"
   },
   {
    "duration": 12,
    "start_time": "2022-06-08T13:25:33.630Z"
   },
   {
    "duration": 20,
    "start_time": "2022-06-08T13:25:33.644Z"
   },
   {
    "duration": 52,
    "start_time": "2022-06-08T13:25:33.666Z"
   },
   {
    "duration": 20,
    "start_time": "2022-06-08T13:25:33.720Z"
   },
   {
    "duration": 32,
    "start_time": "2022-06-08T13:25:33.741Z"
   },
   {
    "duration": 16,
    "start_time": "2022-06-08T13:25:33.775Z"
   },
   {
    "duration": 34,
    "start_time": "2022-06-08T13:25:33.793Z"
   },
   {
    "duration": 15,
    "start_time": "2022-06-08T13:25:33.829Z"
   },
   {
    "duration": 36,
    "start_time": "2022-06-08T13:25:33.846Z"
   },
   {
    "duration": 396,
    "start_time": "2022-06-08T13:25:33.884Z"
   },
   {
    "duration": 12,
    "start_time": "2022-06-08T13:25:34.282Z"
   },
   {
    "duration": 133,
    "start_time": "2022-06-08T13:25:34.295Z"
   },
   {
    "duration": 7,
    "start_time": "2022-06-08T13:25:34.430Z"
   },
   {
    "duration": 160,
    "start_time": "2022-06-08T13:25:34.439Z"
   },
   {
    "duration": 5,
    "start_time": "2022-06-08T13:25:34.601Z"
   },
   {
    "duration": 49,
    "start_time": "2022-06-08T13:25:34.608Z"
   },
   {
    "duration": 23,
    "start_time": "2022-06-08T13:25:34.659Z"
   },
   {
    "duration": 71,
    "start_time": "2022-06-08T13:25:34.684Z"
   },
   {
    "duration": 14,
    "start_time": "2022-06-08T13:25:34.757Z"
   },
   {
    "duration": 40,
    "start_time": "2022-06-08T13:25:34.773Z"
   },
   {
    "duration": 9,
    "start_time": "2022-06-08T13:25:34.815Z"
   },
   {
    "duration": 79,
    "start_time": "2022-06-08T13:25:34.825Z"
   },
   {
    "duration": 46,
    "start_time": "2022-06-08T13:25:34.906Z"
   },
   {
    "duration": 38,
    "start_time": "2022-06-08T13:25:34.954Z"
   },
   {
    "duration": 11,
    "start_time": "2022-06-08T13:25:34.994Z"
   },
   {
    "duration": 35,
    "start_time": "2022-06-08T13:25:35.007Z"
   },
   {
    "duration": 26,
    "start_time": "2022-06-08T13:25:35.044Z"
   },
   {
    "duration": 24,
    "start_time": "2022-06-08T13:25:35.072Z"
   },
   {
    "duration": 11,
    "start_time": "2022-06-08T13:25:35.098Z"
   },
   {
    "duration": 17,
    "start_time": "2022-06-08T13:25:35.110Z"
   },
   {
    "duration": 37,
    "start_time": "2022-06-08T13:25:35.129Z"
   },
   {
    "duration": 8,
    "start_time": "2022-06-08T13:25:35.168Z"
   },
   {
    "duration": 40,
    "start_time": "2022-06-08T13:25:35.178Z"
   },
   {
    "duration": 36,
    "start_time": "2022-06-08T13:52:07.018Z"
   },
   {
    "duration": 80,
    "start_time": "2022-06-08T13:52:15.205Z"
   },
   {
    "duration": 732,
    "start_time": "2022-06-08T13:53:20.200Z"
   },
   {
    "duration": 242,
    "start_time": "2022-06-08T13:53:40.341Z"
   },
   {
    "duration": 373,
    "start_time": "2022-06-08T13:57:43.627Z"
   },
   {
    "duration": 260,
    "start_time": "2022-06-08T14:01:51.557Z"
   },
   {
    "duration": 269,
    "start_time": "2022-06-08T14:02:16.752Z"
   },
   {
    "duration": 319,
    "start_time": "2022-06-08T14:02:49.753Z"
   },
   {
    "duration": 312,
    "start_time": "2022-06-08T14:03:08.401Z"
   },
   {
    "duration": 444,
    "start_time": "2022-06-08T14:03:49.118Z"
   },
   {
    "duration": 166,
    "start_time": "2022-06-08T14:03:49.564Z"
   },
   {
    "duration": 25,
    "start_time": "2022-06-08T14:03:49.732Z"
   },
   {
    "duration": 6,
    "start_time": "2022-06-08T14:03:49.759Z"
   },
   {
    "duration": 152,
    "start_time": "2022-06-08T14:03:49.767Z"
   },
   {
    "duration": 23,
    "start_time": "2022-06-08T14:03:49.920Z"
   },
   {
    "duration": 5,
    "start_time": "2022-06-08T14:03:49.945Z"
   },
   {
    "duration": 96,
    "start_time": "2022-06-08T14:03:49.951Z"
   },
   {
    "duration": 18,
    "start_time": "2022-06-08T14:03:50.049Z"
   },
   {
    "duration": 5,
    "start_time": "2022-06-08T14:03:50.069Z"
   },
   {
    "duration": 21,
    "start_time": "2022-06-08T14:03:50.075Z"
   },
   {
    "duration": 11,
    "start_time": "2022-06-08T14:03:50.098Z"
   },
   {
    "duration": 35,
    "start_time": "2022-06-08T14:03:50.111Z"
   },
   {
    "duration": 45,
    "start_time": "2022-06-08T14:03:50.148Z"
   },
   {
    "duration": 10,
    "start_time": "2022-06-08T14:03:50.195Z"
   },
   {
    "duration": 30,
    "start_time": "2022-06-08T14:03:50.206Z"
   },
   {
    "duration": 45,
    "start_time": "2022-06-08T14:03:50.238Z"
   },
   {
    "duration": 18,
    "start_time": "2022-06-08T14:03:50.284Z"
   },
   {
    "duration": 29,
    "start_time": "2022-06-08T14:03:50.304Z"
   },
   {
    "duration": 18,
    "start_time": "2022-06-08T14:03:50.334Z"
   },
   {
    "duration": 33,
    "start_time": "2022-06-08T14:03:50.353Z"
   },
   {
    "duration": 14,
    "start_time": "2022-06-08T14:03:50.388Z"
   },
   {
    "duration": 56,
    "start_time": "2022-06-08T14:03:50.403Z"
   },
   {
    "duration": 414,
    "start_time": "2022-06-08T14:03:50.460Z"
   },
   {
    "duration": 15,
    "start_time": "2022-06-08T14:03:50.876Z"
   },
   {
    "duration": 148,
    "start_time": "2022-06-08T14:03:50.893Z"
   },
   {
    "duration": 7,
    "start_time": "2022-06-08T14:03:51.043Z"
   },
   {
    "duration": 129,
    "start_time": "2022-06-08T14:03:51.053Z"
   },
   {
    "duration": 5,
    "start_time": "2022-06-08T14:03:51.183Z"
   },
   {
    "duration": 38,
    "start_time": "2022-06-08T14:03:51.189Z"
   },
   {
    "duration": 6,
    "start_time": "2022-06-08T14:03:51.229Z"
   },
   {
    "duration": 80,
    "start_time": "2022-06-08T14:03:51.236Z"
   },
   {
    "duration": 21,
    "start_time": "2022-06-08T14:03:51.318Z"
   },
   {
    "duration": 34,
    "start_time": "2022-06-08T14:03:51.341Z"
   },
   {
    "duration": 6,
    "start_time": "2022-06-08T14:03:51.377Z"
   },
   {
    "duration": 43,
    "start_time": "2022-06-08T14:03:51.385Z"
   },
   {
    "duration": 17,
    "start_time": "2022-06-08T14:03:51.430Z"
   },
   {
    "duration": 26,
    "start_time": "2022-06-08T14:03:51.448Z"
   },
   {
    "duration": 10,
    "start_time": "2022-06-08T14:03:51.476Z"
   },
   {
    "duration": 46,
    "start_time": "2022-06-08T14:03:51.488Z"
   },
   {
    "duration": 33,
    "start_time": "2022-06-08T14:03:51.536Z"
   },
   {
    "duration": 23,
    "start_time": "2022-06-08T14:03:51.571Z"
   },
   {
    "duration": 34,
    "start_time": "2022-06-08T14:03:51.596Z"
   },
   {
    "duration": 6,
    "start_time": "2022-06-08T14:03:51.632Z"
   },
   {
    "duration": 19,
    "start_time": "2022-06-08T14:03:51.640Z"
   },
   {
    "duration": 5,
    "start_time": "2022-06-08T14:03:51.661Z"
   },
   {
    "duration": 23,
    "start_time": "2022-06-08T14:03:51.667Z"
   },
   {
    "duration": 181,
    "start_time": "2022-06-08T14:03:51.692Z"
   },
   {
    "duration": 6,
    "start_time": "2022-06-08T14:03:51.874Z"
   },
   {
    "duration": 22,
    "start_time": "2022-06-08T14:05:37.902Z"
   },
   {
    "duration": 46,
    "start_time": "2022-06-08T14:12:20.740Z"
   },
   {
    "duration": 25,
    "start_time": "2022-06-08T14:12:56.564Z"
   },
   {
    "duration": 592,
    "start_time": "2022-06-08T14:13:21.740Z"
   },
   {
    "duration": 19,
    "start_time": "2022-06-08T14:13:49.256Z"
   },
   {
    "duration": 9,
    "start_time": "2022-06-08T14:22:12.874Z"
   },
   {
    "duration": 16,
    "start_time": "2022-06-08T14:23:49.570Z"
   },
   {
    "duration": 13,
    "start_time": "2022-06-08T14:28:59.046Z"
   },
   {
    "duration": 74,
    "start_time": "2022-06-08T14:56:47.671Z"
   },
   {
    "duration": 456,
    "start_time": "2022-06-08T14:56:58.757Z"
   },
   {
    "duration": 352,
    "start_time": "2022-06-08T14:56:59.216Z"
   },
   {
    "duration": 42,
    "start_time": "2022-06-08T14:56:59.570Z"
   },
   {
    "duration": 19,
    "start_time": "2022-06-08T14:56:59.614Z"
   },
   {
    "duration": 472,
    "start_time": "2022-06-08T14:56:59.646Z"
   },
   {
    "duration": 39,
    "start_time": "2022-06-08T14:57:00.120Z"
   },
   {
    "duration": 31,
    "start_time": "2022-06-08T14:57:00.161Z"
   },
   {
    "duration": 464,
    "start_time": "2022-06-08T14:57:00.193Z"
   },
   {
    "duration": 30,
    "start_time": "2022-06-08T14:57:00.663Z"
   },
   {
    "duration": 14,
    "start_time": "2022-06-08T14:57:00.696Z"
   },
   {
    "duration": 119,
    "start_time": "2022-06-08T14:57:00.712Z"
   },
   {
    "duration": 13,
    "start_time": "2022-06-08T14:57:00.833Z"
   },
   {
    "duration": 41,
    "start_time": "2022-06-08T14:57:00.847Z"
   },
   {
    "duration": 92,
    "start_time": "2022-06-08T14:57:00.890Z"
   },
   {
    "duration": 12,
    "start_time": "2022-06-08T14:57:00.984Z"
   },
   {
    "duration": 13,
    "start_time": "2022-06-08T14:57:00.998Z"
   },
   {
    "duration": 70,
    "start_time": "2022-06-08T14:57:01.012Z"
   },
   {
    "duration": 18,
    "start_time": "2022-06-08T14:57:01.084Z"
   },
   {
    "duration": 46,
    "start_time": "2022-06-08T14:57:01.103Z"
   },
   {
    "duration": 29,
    "start_time": "2022-06-08T14:57:01.151Z"
   },
   {
    "duration": 27,
    "start_time": "2022-06-08T14:57:01.182Z"
   },
   {
    "duration": 15,
    "start_time": "2022-06-08T14:57:01.210Z"
   },
   {
    "duration": 68,
    "start_time": "2022-06-08T14:57:01.234Z"
   },
   {
    "duration": 803,
    "start_time": "2022-06-08T14:57:01.304Z"
   },
   {
    "duration": 40,
    "start_time": "2022-06-08T14:57:02.111Z"
   },
   {
    "duration": 222,
    "start_time": "2022-06-08T14:57:02.162Z"
   },
   {
    "duration": 8,
    "start_time": "2022-06-08T14:57:02.386Z"
   },
   {
    "duration": 173,
    "start_time": "2022-06-08T14:57:02.399Z"
   },
   {
    "duration": 6,
    "start_time": "2022-06-08T14:57:02.574Z"
   },
   {
    "duration": 55,
    "start_time": "2022-06-08T14:57:02.584Z"
   },
   {
    "duration": 8,
    "start_time": "2022-06-08T14:57:02.640Z"
   },
   {
    "duration": 81,
    "start_time": "2022-06-08T14:57:02.650Z"
   },
   {
    "duration": 24,
    "start_time": "2022-06-08T14:57:02.733Z"
   },
   {
    "duration": 42,
    "start_time": "2022-06-08T14:57:02.759Z"
   },
   {
    "duration": 6,
    "start_time": "2022-06-08T14:57:02.803Z"
   },
   {
    "duration": 63,
    "start_time": "2022-06-08T14:57:02.811Z"
   },
   {
    "duration": 17,
    "start_time": "2022-06-08T14:57:02.876Z"
   },
   {
    "duration": 55,
    "start_time": "2022-06-08T14:57:02.895Z"
   },
   {
    "duration": 23,
    "start_time": "2022-06-08T14:57:02.953Z"
   },
   {
    "duration": 47,
    "start_time": "2022-06-08T14:57:02.977Z"
   },
   {
    "duration": 39,
    "start_time": "2022-06-08T14:57:03.026Z"
   },
   {
    "duration": 42,
    "start_time": "2022-06-08T14:57:03.067Z"
   },
   {
    "duration": 36,
    "start_time": "2022-06-08T14:57:03.110Z"
   },
   {
    "duration": 25,
    "start_time": "2022-06-08T14:57:03.147Z"
   },
   {
    "duration": 40,
    "start_time": "2022-06-08T14:57:03.174Z"
   },
   {
    "duration": 53,
    "start_time": "2022-06-08T14:57:03.215Z"
   },
   {
    "duration": 38,
    "start_time": "2022-06-08T14:57:03.270Z"
   },
   {
    "duration": 71,
    "start_time": "2022-06-08T14:57:03.309Z"
   },
   {
    "duration": 27,
    "start_time": "2022-06-08T14:57:03.382Z"
   },
   {
    "duration": 152,
    "start_time": "2022-06-08T14:57:03.411Z"
   },
   {
    "duration": 98,
    "start_time": "2022-06-08T14:57:34.505Z"
   },
   {
    "duration": 9,
    "start_time": "2022-06-08T15:00:11.790Z"
   },
   {
    "duration": 76,
    "start_time": "2022-06-08T15:00:13.527Z"
   },
   {
    "duration": 8,
    "start_time": "2022-06-08T15:00:46.389Z"
   },
   {
    "duration": 456,
    "start_time": "2022-06-08T15:00:55.160Z"
   },
   {
    "duration": 207,
    "start_time": "2022-06-08T15:00:55.618Z"
   },
   {
    "duration": 45,
    "start_time": "2022-06-08T15:00:55.827Z"
   },
   {
    "duration": 9,
    "start_time": "2022-06-08T15:00:55.875Z"
   },
   {
    "duration": 204,
    "start_time": "2022-06-08T15:00:55.886Z"
   },
   {
    "duration": 43,
    "start_time": "2022-06-08T15:00:56.093Z"
   },
   {
    "duration": 7,
    "start_time": "2022-06-08T15:00:56.139Z"
   },
   {
    "duration": 127,
    "start_time": "2022-06-08T15:00:56.151Z"
   },
   {
    "duration": 29,
    "start_time": "2022-06-08T15:00:56.280Z"
   },
   {
    "duration": 47,
    "start_time": "2022-06-08T15:00:56.312Z"
   },
   {
    "duration": 36,
    "start_time": "2022-06-08T15:00:56.361Z"
   },
   {
    "duration": 13,
    "start_time": "2022-06-08T15:00:56.399Z"
   },
   {
    "duration": 20,
    "start_time": "2022-06-08T15:00:56.414Z"
   },
   {
    "duration": 74,
    "start_time": "2022-06-08T15:00:56.439Z"
   },
   {
    "duration": 22,
    "start_time": "2022-06-08T15:00:56.515Z"
   },
   {
    "duration": 16,
    "start_time": "2022-06-08T15:00:56.539Z"
   },
   {
    "duration": 81,
    "start_time": "2022-06-08T15:00:56.557Z"
   },
   {
    "duration": 30,
    "start_time": "2022-06-08T15:00:56.640Z"
   },
   {
    "duration": 92,
    "start_time": "2022-06-08T15:00:56.672Z"
   },
   {
    "duration": 32,
    "start_time": "2022-06-08T15:00:56.767Z"
   },
   {
    "duration": 68,
    "start_time": "2022-06-08T15:00:56.801Z"
   },
   {
    "duration": 38,
    "start_time": "2022-06-08T15:00:56.871Z"
   },
   {
    "duration": 27,
    "start_time": "2022-06-08T15:00:56.912Z"
   },
   {
    "duration": 514,
    "start_time": "2022-06-08T15:00:56.942Z"
   },
   {
    "duration": 21,
    "start_time": "2022-06-08T15:00:57.458Z"
   },
   {
    "duration": 182,
    "start_time": "2022-06-08T15:00:57.482Z"
   },
   {
    "duration": 9,
    "start_time": "2022-06-08T15:00:57.667Z"
   },
   {
    "duration": 175,
    "start_time": "2022-06-08T15:00:57.680Z"
   },
   {
    "duration": 5,
    "start_time": "2022-06-08T15:00:57.858Z"
   },
   {
    "duration": 37,
    "start_time": "2022-06-08T15:00:57.865Z"
   },
   {
    "duration": 7,
    "start_time": "2022-06-08T15:00:57.904Z"
   },
   {
    "duration": 93,
    "start_time": "2022-06-08T15:00:57.913Z"
   },
   {
    "duration": 27,
    "start_time": "2022-06-08T15:00:58.009Z"
   },
   {
    "duration": 21,
    "start_time": "2022-06-08T15:00:58.038Z"
   },
   {
    "duration": 11,
    "start_time": "2022-06-08T15:00:58.062Z"
   },
   {
    "duration": 62,
    "start_time": "2022-06-08T15:00:58.076Z"
   },
   {
    "duration": 21,
    "start_time": "2022-06-08T15:00:58.140Z"
   },
   {
    "duration": 35,
    "start_time": "2022-06-08T15:00:58.165Z"
   },
   {
    "duration": 39,
    "start_time": "2022-06-08T15:00:58.202Z"
   },
   {
    "duration": 30,
    "start_time": "2022-06-08T15:00:58.243Z"
   },
   {
    "duration": 30,
    "start_time": "2022-06-08T15:00:58.275Z"
   },
   {
    "duration": 37,
    "start_time": "2022-06-08T15:00:58.327Z"
   },
   {
    "duration": 17,
    "start_time": "2022-06-08T15:00:58.367Z"
   },
   {
    "duration": 5,
    "start_time": "2022-06-08T15:00:58.387Z"
   },
   {
    "duration": 56,
    "start_time": "2022-06-08T15:00:58.394Z"
   },
   {
    "duration": 6,
    "start_time": "2022-06-08T15:00:58.452Z"
   },
   {
    "duration": 38,
    "start_time": "2022-06-08T15:00:58.461Z"
   },
   {
    "duration": 39,
    "start_time": "2022-06-08T15:00:58.502Z"
   },
   {
    "duration": 12,
    "start_time": "2022-06-08T15:00:58.543Z"
   },
   {
    "duration": 137,
    "start_time": "2022-06-08T15:00:58.557Z"
   },
   {
    "duration": 14,
    "start_time": "2022-06-08T15:01:27.238Z"
   },
   {
    "duration": 10,
    "start_time": "2022-06-08T15:02:53.109Z"
   },
   {
    "duration": 45,
    "start_time": "2022-06-08T15:02:56.103Z"
   },
   {
    "duration": 9,
    "start_time": "2022-06-08T15:03:03.608Z"
   },
   {
    "duration": 24,
    "start_time": "2022-06-08T15:03:10.432Z"
   },
   {
    "duration": 8,
    "start_time": "2022-06-08T15:04:08.997Z"
   },
   {
    "duration": 22,
    "start_time": "2022-06-08T15:04:13.465Z"
   },
   {
    "duration": 5,
    "start_time": "2022-06-08T15:06:57.610Z"
   },
   {
    "duration": 30,
    "start_time": "2022-06-08T15:07:00.130Z"
   },
   {
    "duration": 546,
    "start_time": "2022-06-08T15:07:38.976Z"
   },
   {
    "duration": 25,
    "start_time": "2022-06-08T15:07:39.630Z"
   },
   {
    "duration": 452,
    "start_time": "2022-06-08T15:07:51.645Z"
   },
   {
    "duration": 181,
    "start_time": "2022-06-08T15:07:52.100Z"
   },
   {
    "duration": 36,
    "start_time": "2022-06-08T15:07:52.283Z"
   },
   {
    "duration": 30,
    "start_time": "2022-06-08T15:07:52.331Z"
   },
   {
    "duration": 152,
    "start_time": "2022-06-08T15:07:52.363Z"
   },
   {
    "duration": 39,
    "start_time": "2022-06-08T15:07:52.516Z"
   },
   {
    "duration": 7,
    "start_time": "2022-06-08T15:07:52.557Z"
   },
   {
    "duration": 146,
    "start_time": "2022-06-08T15:07:52.566Z"
   },
   {
    "duration": 32,
    "start_time": "2022-06-08T15:07:52.714Z"
   },
   {
    "duration": 19,
    "start_time": "2022-06-08T15:07:52.750Z"
   },
   {
    "duration": 24,
    "start_time": "2022-06-08T15:07:52.771Z"
   },
   {
    "duration": 12,
    "start_time": "2022-06-08T15:07:52.799Z"
   },
   {
    "duration": 21,
    "start_time": "2022-06-08T15:07:52.813Z"
   },
   {
    "duration": 56,
    "start_time": "2022-06-08T15:07:52.837Z"
   },
   {
    "duration": 12,
    "start_time": "2022-06-08T15:07:52.895Z"
   },
   {
    "duration": 8,
    "start_time": "2022-06-08T15:07:52.909Z"
   },
   {
    "duration": 64,
    "start_time": "2022-06-08T15:07:52.919Z"
   },
   {
    "duration": 20,
    "start_time": "2022-06-08T15:07:52.985Z"
   },
   {
    "duration": 46,
    "start_time": "2022-06-08T15:07:53.007Z"
   },
   {
    "duration": 23,
    "start_time": "2022-06-08T15:07:53.055Z"
   },
   {
    "duration": 19,
    "start_time": "2022-06-08T15:07:53.080Z"
   },
   {
    "duration": 41,
    "start_time": "2022-06-08T15:07:53.100Z"
   },
   {
    "duration": 24,
    "start_time": "2022-06-08T15:07:53.144Z"
   },
   {
    "duration": 408,
    "start_time": "2022-06-08T15:07:53.170Z"
   },
   {
    "duration": 14,
    "start_time": "2022-06-08T15:07:53.580Z"
   },
   {
    "duration": 167,
    "start_time": "2022-06-08T15:07:53.596Z"
   },
   {
    "duration": 9,
    "start_time": "2022-06-08T15:07:53.766Z"
   },
   {
    "duration": 179,
    "start_time": "2022-06-08T15:07:53.779Z"
   },
   {
    "duration": 5,
    "start_time": "2022-06-08T15:07:53.960Z"
   },
   {
    "duration": 26,
    "start_time": "2022-06-08T15:07:53.967Z"
   },
   {
    "duration": 7,
    "start_time": "2022-06-08T15:07:53.994Z"
   },
   {
    "duration": 88,
    "start_time": "2022-06-08T15:07:54.003Z"
   },
   {
    "duration": 14,
    "start_time": "2022-06-08T15:07:54.093Z"
   },
   {
    "duration": 33,
    "start_time": "2022-06-08T15:07:54.109Z"
   },
   {
    "duration": 9,
    "start_time": "2022-06-08T15:07:54.143Z"
   },
   {
    "duration": 36,
    "start_time": "2022-06-08T15:07:54.154Z"
   },
   {
    "duration": 40,
    "start_time": "2022-06-08T15:07:54.192Z"
   },
   {
    "duration": 35,
    "start_time": "2022-06-08T15:07:54.233Z"
   },
   {
    "duration": 10,
    "start_time": "2022-06-08T15:07:54.270Z"
   },
   {
    "duration": 21,
    "start_time": "2022-06-08T15:07:54.282Z"
   },
   {
    "duration": 50,
    "start_time": "2022-06-08T15:07:54.305Z"
   },
   {
    "duration": 31,
    "start_time": "2022-06-08T15:07:54.357Z"
   },
   {
    "duration": 11,
    "start_time": "2022-06-08T15:07:54.390Z"
   },
   {
    "duration": 15,
    "start_time": "2022-06-08T15:07:54.402Z"
   },
   {
    "duration": 31,
    "start_time": "2022-06-08T15:07:54.419Z"
   },
   {
    "duration": 17,
    "start_time": "2022-06-08T15:07:54.451Z"
   },
   {
    "duration": 30,
    "start_time": "2022-06-08T15:07:54.470Z"
   },
   {
    "duration": 32,
    "start_time": "2022-06-08T15:07:54.502Z"
   },
   {
    "duration": 33,
    "start_time": "2022-06-08T15:07:54.536Z"
   },
   {
    "duration": 153,
    "start_time": "2022-06-08T15:07:54.571Z"
   },
   {
    "duration": 6,
    "start_time": "2022-06-08T15:08:54.691Z"
   },
   {
    "duration": 24,
    "start_time": "2022-06-08T15:08:59.613Z"
   },
   {
    "duration": 9,
    "start_time": "2022-06-08T15:10:27.997Z"
   },
   {
    "duration": 29,
    "start_time": "2022-06-08T15:10:29.107Z"
   },
   {
    "duration": 8,
    "start_time": "2022-06-08T15:11:42.766Z"
   },
   {
    "duration": 15,
    "start_time": "2022-06-08T15:11:45.374Z"
   },
   {
    "duration": 13,
    "start_time": "2022-06-08T15:12:08.153Z"
   },
   {
    "duration": 16,
    "start_time": "2022-06-08T15:12:08.770Z"
   },
   {
    "duration": 5,
    "start_time": "2022-06-08T15:12:18.174Z"
   },
   {
    "duration": 25,
    "start_time": "2022-06-08T15:12:18.952Z"
   },
   {
    "duration": 10,
    "start_time": "2022-06-08T15:13:20.645Z"
   },
   {
    "duration": 19,
    "start_time": "2022-06-08T15:13:21.972Z"
   },
   {
    "duration": 10,
    "start_time": "2022-06-08T15:13:47.855Z"
   },
   {
    "duration": 79,
    "start_time": "2022-06-08T15:13:48.553Z"
   },
   {
    "duration": 76,
    "start_time": "2022-06-09T06:30:12.712Z"
   },
   {
    "duration": 436,
    "start_time": "2022-06-09T06:30:20.254Z"
   },
   {
    "duration": 559,
    "start_time": "2022-06-09T06:30:20.693Z"
   },
   {
    "duration": 45,
    "start_time": "2022-06-09T06:30:21.254Z"
   },
   {
    "duration": 10,
    "start_time": "2022-06-09T06:30:21.302Z"
   },
   {
    "duration": 418,
    "start_time": "2022-06-09T06:30:21.314Z"
   },
   {
    "duration": 25,
    "start_time": "2022-06-09T06:30:21.734Z"
   },
   {
    "duration": 7,
    "start_time": "2022-06-09T06:30:21.761Z"
   },
   {
    "duration": 174,
    "start_time": "2022-06-09T06:30:21.770Z"
   },
   {
    "duration": 21,
    "start_time": "2022-06-09T06:30:21.947Z"
   },
   {
    "duration": 7,
    "start_time": "2022-06-09T06:30:21.971Z"
   },
   {
    "duration": 58,
    "start_time": "2022-06-09T06:30:21.980Z"
   },
   {
    "duration": 13,
    "start_time": "2022-06-09T06:30:22.040Z"
   },
   {
    "duration": 11,
    "start_time": "2022-06-09T06:30:22.056Z"
   },
   {
    "duration": 64,
    "start_time": "2022-06-09T06:30:22.070Z"
   },
   {
    "duration": 14,
    "start_time": "2022-06-09T06:30:22.136Z"
   },
   {
    "duration": 13,
    "start_time": "2022-06-09T06:30:22.152Z"
   },
   {
    "duration": 62,
    "start_time": "2022-06-09T06:30:22.167Z"
   },
   {
    "duration": 21,
    "start_time": "2022-06-09T06:30:22.231Z"
   },
   {
    "duration": 27,
    "start_time": "2022-06-09T06:30:22.255Z"
   },
   {
    "duration": 47,
    "start_time": "2022-06-09T06:30:22.285Z"
   },
   {
    "duration": 23,
    "start_time": "2022-06-09T06:30:22.334Z"
   },
   {
    "duration": 25,
    "start_time": "2022-06-09T06:30:22.360Z"
   },
   {
    "duration": 52,
    "start_time": "2022-06-09T06:30:22.387Z"
   },
   {
    "duration": 649,
    "start_time": "2022-06-09T06:30:22.441Z"
   },
   {
    "duration": 19,
    "start_time": "2022-06-09T06:30:23.092Z"
   },
   {
    "duration": 169,
    "start_time": "2022-06-09T06:30:23.125Z"
   },
   {
    "duration": 11,
    "start_time": "2022-06-09T06:30:23.297Z"
   },
   {
    "duration": 164,
    "start_time": "2022-06-09T06:30:23.325Z"
   },
   {
    "duration": 6,
    "start_time": "2022-06-09T06:30:23.491Z"
   },
   {
    "duration": 47,
    "start_time": "2022-06-09T06:30:23.499Z"
   },
   {
    "duration": 12,
    "start_time": "2022-06-09T06:30:23.548Z"
   },
   {
    "duration": 100,
    "start_time": "2022-06-09T06:30:23.563Z"
   },
   {
    "duration": 15,
    "start_time": "2022-06-09T06:30:23.666Z"
   },
   {
    "duration": 44,
    "start_time": "2022-06-09T06:30:23.683Z"
   },
   {
    "duration": 11,
    "start_time": "2022-06-09T06:30:23.730Z"
   },
   {
    "duration": 43,
    "start_time": "2022-06-09T06:30:23.744Z"
   },
   {
    "duration": 39,
    "start_time": "2022-06-09T06:30:23.790Z"
   },
   {
    "duration": 39,
    "start_time": "2022-06-09T06:30:23.832Z"
   },
   {
    "duration": 16,
    "start_time": "2022-06-09T06:30:23.873Z"
   },
   {
    "duration": 59,
    "start_time": "2022-06-09T06:30:23.891Z"
   },
   {
    "duration": 28,
    "start_time": "2022-06-09T06:30:23.951Z"
   },
   {
    "duration": 63,
    "start_time": "2022-06-09T06:30:23.982Z"
   },
   {
    "duration": 20,
    "start_time": "2022-06-09T06:30:24.048Z"
   },
   {
    "duration": 10,
    "start_time": "2022-06-09T06:30:24.071Z"
   },
   {
    "duration": 53,
    "start_time": "2022-06-09T06:30:24.083Z"
   },
   {
    "duration": 10,
    "start_time": "2022-06-09T06:30:24.139Z"
   },
   {
    "duration": 25,
    "start_time": "2022-06-09T06:30:24.152Z"
   },
   {
    "duration": 49,
    "start_time": "2022-06-09T06:30:24.179Z"
   },
   {
    "duration": 7,
    "start_time": "2022-06-09T06:30:24.231Z"
   },
   {
    "duration": 135,
    "start_time": "2022-06-09T06:30:24.241Z"
   },
   {
    "duration": 113,
    "start_time": "2022-06-09T06:30:24.378Z"
   },
   {
    "duration": 429,
    "start_time": "2022-06-09T06:31:36.993Z"
   },
   {
    "duration": 388,
    "start_time": "2022-06-09T06:31:47.390Z"
   },
   {
    "duration": 17,
    "start_time": "2022-06-09T06:32:33.198Z"
   },
   {
    "duration": 401,
    "start_time": "2022-06-09T06:34:12.409Z"
   },
   {
    "duration": 6,
    "start_time": "2022-06-09T06:37:39.337Z"
   },
   {
    "duration": 27,
    "start_time": "2022-06-09T06:38:00.569Z"
   },
   {
    "duration": 13,
    "start_time": "2022-06-09T06:38:52.957Z"
   },
   {
    "duration": 177,
    "start_time": "2022-06-09T06:40:09.702Z"
   },
   {
    "duration": 304,
    "start_time": "2022-06-09T06:40:20.582Z"
   },
   {
    "duration": 12,
    "start_time": "2022-06-09T06:41:10.898Z"
   },
   {
    "duration": 256,
    "start_time": "2022-06-09T06:41:33.617Z"
   },
   {
    "duration": 11,
    "start_time": "2022-06-09T06:41:59.955Z"
   },
   {
    "duration": 210,
    "start_time": "2022-06-09T06:42:13.722Z"
   },
   {
    "duration": 191,
    "start_time": "2022-06-09T06:42:24.508Z"
   },
   {
    "duration": 5,
    "start_time": "2022-06-09T06:43:25.506Z"
   },
   {
    "duration": 28,
    "start_time": "2022-06-09T06:43:44.444Z"
   },
   {
    "duration": 13,
    "start_time": "2022-06-09T06:44:11.482Z"
   },
   {
    "duration": 225,
    "start_time": "2022-06-09T06:44:40.135Z"
   },
   {
    "duration": 11,
    "start_time": "2022-06-09T06:45:22.707Z"
   },
   {
    "duration": 181,
    "start_time": "2022-06-09T06:45:44.796Z"
   },
   {
    "duration": 180,
    "start_time": "2022-06-09T06:45:53.167Z"
   },
   {
    "duration": 171,
    "start_time": "2022-06-09T06:46:49.263Z"
   },
   {
    "duration": 233,
    "start_time": "2022-06-09T06:47:08.670Z"
   },
   {
    "duration": 14,
    "start_time": "2022-06-09T06:47:34.588Z"
   },
   {
    "duration": 216,
    "start_time": "2022-06-09T06:47:58.614Z"
   },
   {
    "duration": 530,
    "start_time": "2022-06-09T06:52:24.835Z"
   },
   {
    "duration": 227,
    "start_time": "2022-06-09T06:52:25.369Z"
   },
   {
    "duration": 41,
    "start_time": "2022-06-09T06:52:25.599Z"
   },
   {
    "duration": 13,
    "start_time": "2022-06-09T06:52:25.644Z"
   },
   {
    "duration": 234,
    "start_time": "2022-06-09T06:52:25.659Z"
   },
   {
    "duration": 42,
    "start_time": "2022-06-09T06:52:25.896Z"
   },
   {
    "duration": 10,
    "start_time": "2022-06-09T06:52:25.940Z"
   },
   {
    "duration": 177,
    "start_time": "2022-06-09T06:52:25.954Z"
   },
   {
    "duration": 37,
    "start_time": "2022-06-09T06:52:26.134Z"
   },
   {
    "duration": 9,
    "start_time": "2022-06-09T06:52:26.175Z"
   },
   {
    "duration": 34,
    "start_time": "2022-06-09T06:52:26.187Z"
   },
   {
    "duration": 20,
    "start_time": "2022-06-09T06:52:26.224Z"
   },
   {
    "duration": 18,
    "start_time": "2022-06-09T06:52:26.247Z"
   },
   {
    "duration": 40,
    "start_time": "2022-06-09T06:52:26.269Z"
   },
   {
    "duration": 22,
    "start_time": "2022-06-09T06:52:26.313Z"
   },
   {
    "duration": 16,
    "start_time": "2022-06-09T06:52:26.337Z"
   },
   {
    "duration": 74,
    "start_time": "2022-06-09T06:52:26.356Z"
   },
   {
    "duration": 22,
    "start_time": "2022-06-09T06:52:26.433Z"
   },
   {
    "duration": 40,
    "start_time": "2022-06-09T06:52:26.458Z"
   },
   {
    "duration": 39,
    "start_time": "2022-06-09T06:52:26.525Z"
   },
   {
    "duration": 43,
    "start_time": "2022-06-09T06:52:26.568Z"
   },
   {
    "duration": 35,
    "start_time": "2022-06-09T06:52:26.615Z"
   },
   {
    "duration": 72,
    "start_time": "2022-06-09T06:52:26.652Z"
   },
   {
    "duration": 628,
    "start_time": "2022-06-09T06:52:26.727Z"
   },
   {
    "duration": 25,
    "start_time": "2022-06-09T06:52:27.358Z"
   },
   {
    "duration": 279,
    "start_time": "2022-06-09T06:52:27.386Z"
   },
   {
    "duration": 14,
    "start_time": "2022-06-09T06:52:27.668Z"
   },
   {
    "duration": 252,
    "start_time": "2022-06-09T06:52:27.689Z"
   },
   {
    "duration": 6,
    "start_time": "2022-06-09T06:52:27.943Z"
   },
   {
    "duration": 42,
    "start_time": "2022-06-09T06:52:27.952Z"
   },
   {
    "duration": 11,
    "start_time": "2022-06-09T06:52:27.996Z"
   },
   {
    "duration": 91,
    "start_time": "2022-06-09T06:52:28.025Z"
   },
   {
    "duration": 28,
    "start_time": "2022-06-09T06:52:28.127Z"
   },
   {
    "duration": 40,
    "start_time": "2022-06-09T06:52:28.159Z"
   },
   {
    "duration": 25,
    "start_time": "2022-06-09T06:52:28.202Z"
   },
   {
    "duration": 111,
    "start_time": "2022-06-09T06:52:28.231Z"
   },
   {
    "duration": 26,
    "start_time": "2022-06-09T06:52:28.344Z"
   },
   {
    "duration": 66,
    "start_time": "2022-06-09T06:52:28.373Z"
   },
   {
    "duration": 17,
    "start_time": "2022-06-09T06:52:28.442Z"
   },
   {
    "duration": 42,
    "start_time": "2022-06-09T06:52:28.462Z"
   },
   {
    "duration": 41,
    "start_time": "2022-06-09T06:52:28.527Z"
   },
   {
    "duration": 60,
    "start_time": "2022-06-09T06:52:28.572Z"
   },
   {
    "duration": 19,
    "start_time": "2022-06-09T06:52:28.635Z"
   },
   {
    "duration": 11,
    "start_time": "2022-06-09T06:52:28.658Z"
   },
   {
    "duration": 77,
    "start_time": "2022-06-09T06:52:28.672Z"
   },
   {
    "duration": 34,
    "start_time": "2022-06-09T06:52:28.753Z"
   },
   {
    "duration": 58,
    "start_time": "2022-06-09T06:52:28.790Z"
   },
   {
    "duration": 40,
    "start_time": "2022-06-09T06:52:28.850Z"
   },
   {
    "duration": 16,
    "start_time": "2022-06-09T06:52:28.893Z"
   },
   {
    "duration": 184,
    "start_time": "2022-06-09T06:52:28.925Z"
   },
   {
    "duration": 28,
    "start_time": "2022-06-09T06:52:29.112Z"
   },
   {
    "duration": 9,
    "start_time": "2022-06-09T06:52:29.143Z"
   },
   {
    "duration": 37,
    "start_time": "2022-06-09T06:52:29.155Z"
   },
   {
    "duration": 47,
    "start_time": "2022-06-09T06:52:29.194Z"
   },
   {
    "duration": 228,
    "start_time": "2022-06-09T06:52:29.244Z"
   },
   {
    "duration": 15,
    "start_time": "2022-06-09T06:52:29.476Z"
   },
   {
    "duration": 300,
    "start_time": "2022-06-09T06:52:29.494Z"
   },
   {
    "duration": 15,
    "start_time": "2022-06-09T06:52:29.797Z"
   },
   {
    "duration": 333,
    "start_time": "2022-06-09T06:52:29.815Z"
   },
   {
    "duration": 30,
    "start_time": "2022-06-09T06:52:30.151Z"
   },
   {
    "duration": 23,
    "start_time": "2022-06-09T06:52:30.184Z"
   },
   {
    "duration": 221,
    "start_time": "2022-06-09T06:52:30.227Z"
   },
   {
    "duration": 14,
    "start_time": "2022-06-09T06:52:30.451Z"
   },
   {
    "duration": 299,
    "start_time": "2022-06-09T06:52:30.468Z"
   },
   {
    "duration": 17,
    "start_time": "2022-06-09T06:52:30.770Z"
   },
   {
    "duration": 262,
    "start_time": "2022-06-09T06:52:30.794Z"
   },
   {
    "duration": 8,
    "start_time": "2022-06-09T07:00:15.703Z"
   },
   {
    "duration": 271,
    "start_time": "2022-06-09T07:03:43.842Z"
   },
   {
    "duration": 41,
    "start_time": "2022-06-09T07:04:09.284Z"
   },
   {
    "duration": 222,
    "start_time": "2022-06-09T07:04:16.055Z"
   },
   {
    "duration": 259,
    "start_time": "2022-06-09T07:04:32.509Z"
   },
   {
    "duration": 262,
    "start_time": "2022-06-09T07:04:40.066Z"
   },
   {
    "duration": 13,
    "start_time": "2022-06-09T07:05:00.493Z"
   },
   {
    "duration": 221,
    "start_time": "2022-06-09T07:05:22.811Z"
   },
   {
    "duration": 253,
    "start_time": "2022-06-09T07:07:46.709Z"
   },
   {
    "duration": 250,
    "start_time": "2022-06-09T07:09:14.406Z"
   },
   {
    "duration": 56,
    "start_time": "2022-06-09T07:13:17.722Z"
   },
   {
    "duration": 6,
    "start_time": "2022-06-09T07:13:27.677Z"
   },
   {
    "duration": 7,
    "start_time": "2022-06-09T07:14:22.592Z"
   },
   {
    "duration": 6,
    "start_time": "2022-06-09T07:15:04.184Z"
   },
   {
    "duration": 12,
    "start_time": "2022-06-09T07:25:28.539Z"
   },
   {
    "duration": 11,
    "start_time": "2022-06-09T07:25:32.673Z"
   },
   {
    "duration": 20,
    "start_time": "2022-06-09T07:25:44.786Z"
   },
   {
    "duration": 16,
    "start_time": "2022-06-09T07:54:10.901Z"
   },
   {
    "duration": 77,
    "start_time": "2022-06-09T07:56:35.001Z"
   },
   {
    "duration": 81,
    "start_time": "2022-06-09T07:56:42.367Z"
   },
   {
    "duration": 832,
    "start_time": "2022-06-09T11:24:24.878Z"
   },
   {
    "duration": 766,
    "start_time": "2022-06-09T11:24:31.115Z"
   },
   {
    "duration": 495,
    "start_time": "2022-06-09T11:24:31.883Z"
   },
   {
    "duration": 19,
    "start_time": "2022-06-09T11:24:32.380Z"
   },
   {
    "duration": 6,
    "start_time": "2022-06-09T11:24:32.401Z"
   },
   {
    "duration": 370,
    "start_time": "2022-06-09T11:24:32.408Z"
   },
   {
    "duration": 20,
    "start_time": "2022-06-09T11:24:32.780Z"
   },
   {
    "duration": 9,
    "start_time": "2022-06-09T11:24:32.801Z"
   },
   {
    "duration": 131,
    "start_time": "2022-06-09T11:24:32.812Z"
   },
   {
    "duration": 15,
    "start_time": "2022-06-09T11:24:32.945Z"
   },
   {
    "duration": 5,
    "start_time": "2022-06-09T11:24:32.963Z"
   },
   {
    "duration": 63,
    "start_time": "2022-06-09T11:24:32.970Z"
   },
   {
    "duration": 9,
    "start_time": "2022-06-09T11:24:33.035Z"
   },
   {
    "duration": 8,
    "start_time": "2022-06-09T11:24:33.046Z"
   },
   {
    "duration": 58,
    "start_time": "2022-06-09T11:24:33.056Z"
   },
   {
    "duration": 9,
    "start_time": "2022-06-09T11:24:33.116Z"
   },
   {
    "duration": 11,
    "start_time": "2022-06-09T11:24:33.126Z"
   },
   {
    "duration": 35,
    "start_time": "2022-06-09T11:24:33.138Z"
   },
   {
    "duration": 14,
    "start_time": "2022-06-09T11:24:33.174Z"
   },
   {
    "duration": 19,
    "start_time": "2022-06-09T11:24:33.190Z"
   },
   {
    "duration": 12,
    "start_time": "2022-06-09T11:24:33.211Z"
   },
   {
    "duration": 17,
    "start_time": "2022-06-09T11:24:33.224Z"
   },
   {
    "duration": 11,
    "start_time": "2022-06-09T11:24:33.242Z"
   },
   {
    "duration": 41,
    "start_time": "2022-06-09T11:24:33.255Z"
   },
   {
    "duration": 502,
    "start_time": "2022-06-09T11:24:33.297Z"
   },
   {
    "duration": 14,
    "start_time": "2022-06-09T11:24:33.801Z"
   },
   {
    "duration": 141,
    "start_time": "2022-06-09T11:24:33.817Z"
   },
   {
    "duration": 7,
    "start_time": "2022-06-09T11:24:33.960Z"
   },
   {
    "duration": 129,
    "start_time": "2022-06-09T11:24:33.972Z"
   },
   {
    "duration": 4,
    "start_time": "2022-06-09T11:24:34.102Z"
   },
   {
    "duration": 45,
    "start_time": "2022-06-09T11:24:34.108Z"
   },
   {
    "duration": 6,
    "start_time": "2022-06-09T11:24:34.154Z"
   },
   {
    "duration": 82,
    "start_time": "2022-06-09T11:24:34.161Z"
   },
   {
    "duration": 11,
    "start_time": "2022-06-09T11:24:34.245Z"
   },
   {
    "duration": 32,
    "start_time": "2022-06-09T11:24:34.258Z"
   },
   {
    "duration": 5,
    "start_time": "2022-06-09T11:24:34.292Z"
   },
   {
    "duration": 59,
    "start_time": "2022-06-09T11:24:34.298Z"
   },
   {
    "duration": 20,
    "start_time": "2022-06-09T11:24:34.359Z"
   },
   {
    "duration": 33,
    "start_time": "2022-06-09T11:24:34.380Z"
   },
   {
    "duration": 10,
    "start_time": "2022-06-09T11:24:34.414Z"
   },
   {
    "duration": 53,
    "start_time": "2022-06-09T11:24:34.425Z"
   },
   {
    "duration": 44,
    "start_time": "2022-06-09T11:24:34.479Z"
   },
   {
    "duration": 46,
    "start_time": "2022-06-09T11:24:34.525Z"
   },
   {
    "duration": 17,
    "start_time": "2022-06-09T11:24:34.572Z"
   },
   {
    "duration": 17,
    "start_time": "2022-06-09T11:24:34.590Z"
   },
   {
    "duration": 36,
    "start_time": "2022-06-09T11:24:34.609Z"
   },
   {
    "duration": 19,
    "start_time": "2022-06-09T11:24:34.646Z"
   },
   {
    "duration": 32,
    "start_time": "2022-06-09T11:24:34.667Z"
   },
   {
    "duration": 31,
    "start_time": "2022-06-09T11:24:34.701Z"
   },
   {
    "duration": 14,
    "start_time": "2022-06-09T11:24:34.733Z"
   },
   {
    "duration": 98,
    "start_time": "2022-06-09T11:24:34.749Z"
   },
   {
    "duration": 8,
    "start_time": "2022-06-09T11:24:34.849Z"
   },
   {
    "duration": 16,
    "start_time": "2022-06-09T11:24:34.859Z"
   },
   {
    "duration": 24,
    "start_time": "2022-06-09T11:24:34.876Z"
   },
   {
    "duration": 13,
    "start_time": "2022-06-09T11:24:34.901Z"
   },
   {
    "duration": 26,
    "start_time": "2022-06-09T11:24:34.915Z"
   },
   {
    "duration": 167,
    "start_time": "2022-06-09T11:24:34.942Z"
   },
   {
    "duration": 7,
    "start_time": "2022-06-09T11:24:35.111Z"
   },
   {
    "duration": 24,
    "start_time": "2022-06-09T11:24:35.119Z"
   },
   {
    "duration": 13,
    "start_time": "2022-06-09T11:24:35.144Z"
   },
   {
    "duration": 152,
    "start_time": "2022-06-09T11:24:35.158Z"
   },
   {
    "duration": 7,
    "start_time": "2022-06-09T11:24:35.311Z"
   },
   {
    "duration": 17,
    "start_time": "2022-06-09T11:24:35.320Z"
   },
   {
    "duration": 34,
    "start_time": "2022-06-09T11:24:35.338Z"
   },
   {
    "duration": 171,
    "start_time": "2022-06-09T11:24:35.374Z"
   },
   {
    "duration": 94,
    "start_time": "2022-06-09T11:30:32.477Z"
   },
   {
    "duration": 3,
    "start_time": "2022-06-09T11:32:01.441Z"
   },
   {
    "duration": 804,
    "start_time": "2022-06-09T11:32:14.504Z"
   },
   {
    "duration": 144,
    "start_time": "2022-06-09T11:32:15.310Z"
   },
   {
    "duration": 20,
    "start_time": "2022-06-09T11:32:15.456Z"
   },
   {
    "duration": 9,
    "start_time": "2022-06-09T11:32:15.478Z"
   },
   {
    "duration": 142,
    "start_time": "2022-06-09T11:32:15.488Z"
   },
   {
    "duration": 18,
    "start_time": "2022-06-09T11:32:15.632Z"
   },
   {
    "duration": 16,
    "start_time": "2022-06-09T11:32:15.651Z"
   },
   {
    "duration": 83,
    "start_time": "2022-06-09T11:32:15.668Z"
   },
   {
    "duration": 15,
    "start_time": "2022-06-09T11:32:15.752Z"
   },
   {
    "duration": 4,
    "start_time": "2022-06-09T11:32:15.769Z"
   },
   {
    "duration": 27,
    "start_time": "2022-06-09T11:32:15.775Z"
   },
   {
    "duration": 10,
    "start_time": "2022-06-09T11:32:15.803Z"
   },
   {
    "duration": 4,
    "start_time": "2022-06-09T11:32:15.815Z"
   },
   {
    "duration": 28,
    "start_time": "2022-06-09T11:32:15.820Z"
   },
   {
    "duration": 8,
    "start_time": "2022-06-09T11:32:15.849Z"
   },
   {
    "duration": 7,
    "start_time": "2022-06-09T11:32:15.859Z"
   },
   {
    "duration": 37,
    "start_time": "2022-06-09T11:32:15.867Z"
   },
   {
    "duration": 15,
    "start_time": "2022-06-09T11:32:15.906Z"
   },
   {
    "duration": 20,
    "start_time": "2022-06-09T11:32:15.923Z"
   },
   {
    "duration": 13,
    "start_time": "2022-06-09T11:32:15.945Z"
   },
   {
    "duration": 45,
    "start_time": "2022-06-09T11:32:15.959Z"
   },
   {
    "duration": 12,
    "start_time": "2022-06-09T11:32:16.006Z"
   },
   {
    "duration": 16,
    "start_time": "2022-06-09T11:32:16.020Z"
   },
   {
    "duration": 348,
    "start_time": "2022-06-09T11:32:16.037Z"
   },
   {
    "duration": 20,
    "start_time": "2022-06-09T11:32:16.386Z"
   },
   {
    "duration": 120,
    "start_time": "2022-06-09T11:32:16.408Z"
   },
   {
    "duration": 7,
    "start_time": "2022-06-09T11:32:16.529Z"
   },
   {
    "duration": 126,
    "start_time": "2022-06-09T11:32:16.539Z"
   },
   {
    "duration": 5,
    "start_time": "2022-06-09T11:32:16.667Z"
   },
   {
    "duration": 30,
    "start_time": "2022-06-09T11:32:16.673Z"
   },
   {
    "duration": 6,
    "start_time": "2022-06-09T11:32:16.705Z"
   },
   {
    "duration": 54,
    "start_time": "2022-06-09T11:32:16.713Z"
   },
   {
    "duration": 10,
    "start_time": "2022-06-09T11:32:16.769Z"
   },
   {
    "duration": 20,
    "start_time": "2022-06-09T11:32:16.792Z"
   },
   {
    "duration": 5,
    "start_time": "2022-06-09T11:32:16.814Z"
   },
   {
    "duration": 27,
    "start_time": "2022-06-09T11:32:16.821Z"
   },
   {
    "duration": 15,
    "start_time": "2022-06-09T11:32:16.850Z"
   },
   {
    "duration": 55,
    "start_time": "2022-06-09T11:32:16.867Z"
   },
   {
    "duration": 11,
    "start_time": "2022-06-09T11:32:16.924Z"
   },
   {
    "duration": 24,
    "start_time": "2022-06-09T11:32:16.937Z"
   },
   {
    "duration": 43,
    "start_time": "2022-06-09T11:32:16.963Z"
   },
   {
    "duration": 23,
    "start_time": "2022-06-09T11:32:17.008Z"
   },
   {
    "duration": 12,
    "start_time": "2022-06-09T11:32:17.033Z"
   },
   {
    "duration": 9,
    "start_time": "2022-06-09T11:32:17.047Z"
   },
   {
    "duration": 49,
    "start_time": "2022-06-09T11:32:17.057Z"
   },
   {
    "duration": 15,
    "start_time": "2022-06-09T11:32:17.108Z"
   },
   {
    "duration": 25,
    "start_time": "2022-06-09T11:32:17.124Z"
   },
   {
    "duration": 26,
    "start_time": "2022-06-09T11:32:17.150Z"
   },
   {
    "duration": 6,
    "start_time": "2022-06-09T11:32:17.177Z"
   },
   {
    "duration": 78,
    "start_time": "2022-06-09T11:32:17.184Z"
   },
   {
    "duration": 9,
    "start_time": "2022-06-09T11:32:17.263Z"
   },
   {
    "duration": 8,
    "start_time": "2022-06-09T11:32:17.274Z"
   },
   {
    "duration": 20,
    "start_time": "2022-06-09T11:32:17.291Z"
   },
   {
    "duration": 7,
    "start_time": "2022-06-09T11:32:17.312Z"
   },
   {
    "duration": 10,
    "start_time": "2022-06-09T11:32:17.320Z"
   },
   {
    "duration": 174,
    "start_time": "2022-06-09T11:32:17.331Z"
   },
   {
    "duration": 7,
    "start_time": "2022-06-09T11:32:17.506Z"
   },
   {
    "duration": 7,
    "start_time": "2022-06-09T11:32:17.514Z"
   },
   {
    "duration": 10,
    "start_time": "2022-06-09T11:32:17.522Z"
   },
   {
    "duration": 173,
    "start_time": "2022-06-09T11:32:17.533Z"
   },
   {
    "duration": 7,
    "start_time": "2022-06-09T11:32:17.708Z"
   },
   {
    "duration": 7,
    "start_time": "2022-06-09T11:32:17.716Z"
   },
   {
    "duration": 10,
    "start_time": "2022-06-09T11:32:17.724Z"
   },
   {
    "duration": 166,
    "start_time": "2022-06-09T11:32:17.736Z"
   },
   {
    "duration": 80,
    "start_time": "2022-06-09T11:32:17.905Z"
   },
   {
    "duration": 3,
    "start_time": "2022-06-09T11:32:59.955Z"
   },
   {
    "duration": 9,
    "start_time": "2022-06-09T11:33:15.633Z"
   },
   {
    "duration": 4,
    "start_time": "2022-06-09T11:33:21.430Z"
   },
   {
    "duration": 5,
    "start_time": "2022-06-09T11:37:25.954Z"
   },
   {
    "duration": 4,
    "start_time": "2022-06-09T11:50:05.503Z"
   },
   {
    "duration": 5,
    "start_time": "2022-06-09T11:50:22.887Z"
   },
   {
    "duration": 5,
    "start_time": "2022-06-09T11:51:50.165Z"
   },
   {
    "duration": 5,
    "start_time": "2022-06-09T11:52:06.579Z"
   },
   {
    "duration": 6,
    "start_time": "2022-06-09T11:53:56.452Z"
   },
   {
    "duration": 3,
    "start_time": "2022-06-10T05:22:47.298Z"
   },
   {
    "duration": 3,
    "start_time": "2022-06-10T05:22:51.073Z"
   },
   {
    "duration": 3,
    "start_time": "2022-06-10T05:22:54.838Z"
   },
   {
    "duration": 872,
    "start_time": "2022-06-10T05:22:55.005Z"
   },
   {
    "duration": 79,
    "start_time": "2022-06-10T05:39:30.976Z"
   },
   {
    "duration": 7,
    "start_time": "2022-06-10T05:39:37.380Z"
   },
   {
    "duration": 811,
    "start_time": "2022-06-10T05:39:55.042Z"
   },
   {
    "duration": 218,
    "start_time": "2022-06-10T05:39:55.856Z"
   },
   {
    "duration": 23,
    "start_time": "2022-06-10T05:39:56.076Z"
   },
   {
    "duration": 6,
    "start_time": "2022-06-10T05:39:56.100Z"
   },
   {
    "duration": 344,
    "start_time": "2022-06-10T05:39:56.108Z"
   },
   {
    "duration": 19,
    "start_time": "2022-06-10T05:39:56.454Z"
   },
   {
    "duration": 13,
    "start_time": "2022-06-10T05:39:56.474Z"
   },
   {
    "duration": 310,
    "start_time": "2022-06-10T05:39:56.488Z"
   },
   {
    "duration": 19,
    "start_time": "2022-06-10T05:39:56.799Z"
   },
   {
    "duration": 6,
    "start_time": "2022-06-10T05:39:56.819Z"
   },
   {
    "duration": 62,
    "start_time": "2022-06-10T05:39:56.827Z"
   },
   {
    "duration": 9,
    "start_time": "2022-06-10T05:39:56.891Z"
   },
   {
    "duration": 6,
    "start_time": "2022-06-10T05:39:56.902Z"
   },
   {
    "duration": 75,
    "start_time": "2022-06-10T05:39:56.912Z"
   },
   {
    "duration": 11,
    "start_time": "2022-06-10T05:39:56.988Z"
   },
   {
    "duration": 11,
    "start_time": "2022-06-10T05:39:57.000Z"
   },
   {
    "duration": 37,
    "start_time": "2022-06-10T05:39:57.012Z"
   },
   {
    "duration": 16,
    "start_time": "2022-06-10T05:39:57.051Z"
   },
   {
    "duration": 22,
    "start_time": "2022-06-10T05:39:57.068Z"
   },
   {
    "duration": 16,
    "start_time": "2022-06-10T05:39:57.091Z"
   },
   {
    "duration": 36,
    "start_time": "2022-06-10T05:39:57.108Z"
   },
   {
    "duration": 13,
    "start_time": "2022-06-10T05:39:57.146Z"
   },
   {
    "duration": 18,
    "start_time": "2022-06-10T05:39:57.160Z"
   },
   {
    "duration": 513,
    "start_time": "2022-06-10T05:39:57.179Z"
   },
   {
    "duration": 13,
    "start_time": "2022-06-10T05:39:57.694Z"
   },
   {
    "duration": 133,
    "start_time": "2022-06-10T05:39:57.708Z"
   },
   {
    "duration": 7,
    "start_time": "2022-06-10T05:39:57.843Z"
   },
   {
    "duration": 122,
    "start_time": "2022-06-10T05:39:57.851Z"
   },
   {
    "duration": 4,
    "start_time": "2022-06-10T05:39:57.974Z"
   },
   {
    "duration": 24,
    "start_time": "2022-06-10T05:39:57.979Z"
   },
   {
    "duration": 6,
    "start_time": "2022-06-10T05:39:58.004Z"
   },
   {
    "duration": 67,
    "start_time": "2022-06-10T05:39:58.012Z"
   },
   {
    "duration": 10,
    "start_time": "2022-06-10T05:39:58.081Z"
   },
   {
    "duration": 34,
    "start_time": "2022-06-10T05:39:58.093Z"
   },
   {
    "duration": 5,
    "start_time": "2022-06-10T05:39:58.129Z"
   },
   {
    "duration": 33,
    "start_time": "2022-06-10T05:39:58.135Z"
   },
   {
    "duration": 16,
    "start_time": "2022-06-10T05:39:58.169Z"
   },
   {
    "duration": 21,
    "start_time": "2022-06-10T05:39:58.186Z"
   },
   {
    "duration": 10,
    "start_time": "2022-06-10T05:39:58.227Z"
   },
   {
    "duration": 20,
    "start_time": "2022-06-10T05:39:58.238Z"
   },
   {
    "duration": 19,
    "start_time": "2022-06-10T05:39:58.261Z"
   },
   {
    "duration": 20,
    "start_time": "2022-06-10T05:39:58.281Z"
   },
   {
    "duration": 32,
    "start_time": "2022-06-10T05:39:58.302Z"
   },
   {
    "duration": 5,
    "start_time": "2022-06-10T05:39:58.335Z"
   },
   {
    "duration": 20,
    "start_time": "2022-06-10T05:39:58.341Z"
   },
   {
    "duration": 5,
    "start_time": "2022-06-10T05:39:58.363Z"
   },
   {
    "duration": 15,
    "start_time": "2022-06-10T05:39:58.370Z"
   },
   {
    "duration": 43,
    "start_time": "2022-06-10T05:39:58.386Z"
   },
   {
    "duration": 5,
    "start_time": "2022-06-10T05:39:58.431Z"
   },
   {
    "duration": 71,
    "start_time": "2022-06-10T05:39:58.438Z"
   },
   {
    "duration": 22,
    "start_time": "2022-06-10T05:39:58.510Z"
   },
   {
    "duration": 4,
    "start_time": "2022-06-10T05:39:58.534Z"
   },
   {
    "duration": 7,
    "start_time": "2022-06-10T05:39:58.540Z"
   },
   {
    "duration": 6,
    "start_time": "2022-06-10T05:39:58.548Z"
   },
   {
    "duration": 106,
    "start_time": "2022-06-10T05:39:58.556Z"
   },
   {
    "duration": 0,
    "start_time": "2022-06-10T05:39:58.664Z"
   },
   {
    "duration": 0,
    "start_time": "2022-06-10T05:39:58.665Z"
   },
   {
    "duration": 0,
    "start_time": "2022-06-10T05:39:58.666Z"
   },
   {
    "duration": 0,
    "start_time": "2022-06-10T05:39:58.667Z"
   },
   {
    "duration": 0,
    "start_time": "2022-06-10T05:39:58.668Z"
   },
   {
    "duration": 0,
    "start_time": "2022-06-10T05:39:58.669Z"
   },
   {
    "duration": 0,
    "start_time": "2022-06-10T05:39:58.670Z"
   },
   {
    "duration": 0,
    "start_time": "2022-06-10T05:39:58.671Z"
   },
   {
    "duration": 0,
    "start_time": "2022-06-10T05:39:58.672Z"
   },
   {
    "duration": 0,
    "start_time": "2022-06-10T05:39:58.673Z"
   },
   {
    "duration": 0,
    "start_time": "2022-06-10T05:39:58.673Z"
   },
   {
    "duration": 1,
    "start_time": "2022-06-10T05:39:58.674Z"
   },
   {
    "duration": 0,
    "start_time": "2022-06-10T05:39:58.675Z"
   },
   {
    "duration": 8,
    "start_time": "2022-06-10T05:40:09.426Z"
   },
   {
    "duration": 8,
    "start_time": "2022-06-10T05:42:46.687Z"
   },
   {
    "duration": 7,
    "start_time": "2022-06-10T05:42:47.419Z"
   },
   {
    "duration": 12,
    "start_time": "2022-06-10T05:42:48.052Z"
   },
   {
    "duration": 145,
    "start_time": "2022-06-10T05:42:50.820Z"
   },
   {
    "duration": 7,
    "start_time": "2022-06-10T05:46:06.766Z"
   },
   {
    "duration": 8,
    "start_time": "2022-06-10T05:46:13.415Z"
   },
   {
    "duration": 14,
    "start_time": "2022-06-10T05:46:14.015Z"
   },
   {
    "duration": 162,
    "start_time": "2022-06-10T05:46:14.979Z"
   },
   {
    "duration": 10,
    "start_time": "2022-06-10T05:53:07.655Z"
   },
   {
    "duration": 7,
    "start_time": "2022-06-10T05:53:28.655Z"
   },
   {
    "duration": 7,
    "start_time": "2022-06-10T05:53:32.479Z"
   },
   {
    "duration": 4,
    "start_time": "2022-06-10T05:54:32.139Z"
   },
   {
    "duration": 3,
    "start_time": "2022-06-10T05:54:34.130Z"
   },
   {
    "duration": 5,
    "start_time": "2022-06-10T05:58:22.451Z"
   },
   {
    "duration": 5,
    "start_time": "2022-06-10T06:04:07.016Z"
   },
   {
    "duration": 5,
    "start_time": "2022-06-10T06:04:07.875Z"
   },
   {
    "duration": 1141,
    "start_time": "2022-06-10T11:45:59.363Z"
   },
   {
    "duration": 394,
    "start_time": "2022-06-10T11:46:00.506Z"
   },
   {
    "duration": 78,
    "start_time": "2022-06-10T11:46:00.902Z"
   },
   {
    "duration": 8,
    "start_time": "2022-06-10T11:46:00.983Z"
   },
   {
    "duration": 429,
    "start_time": "2022-06-10T11:46:00.993Z"
   },
   {
    "duration": 22,
    "start_time": "2022-06-10T11:46:01.465Z"
   },
   {
    "duration": 6,
    "start_time": "2022-06-10T11:46:01.488Z"
   },
   {
    "duration": 369,
    "start_time": "2022-06-10T11:46:01.495Z"
   },
   {
    "duration": 24,
    "start_time": "2022-06-10T11:46:01.866Z"
   },
   {
    "duration": 13,
    "start_time": "2022-06-10T11:46:01.892Z"
   },
   {
    "duration": 94,
    "start_time": "2022-06-10T11:46:01.907Z"
   },
   {
    "duration": 12,
    "start_time": "2022-06-10T11:46:02.003Z"
   },
   {
    "duration": 17,
    "start_time": "2022-06-10T11:46:02.017Z"
   },
   {
    "duration": 60,
    "start_time": "2022-06-10T11:46:02.037Z"
   },
   {
    "duration": 12,
    "start_time": "2022-06-10T11:46:02.099Z"
   },
   {
    "duration": 14,
    "start_time": "2022-06-10T11:46:02.113Z"
   },
   {
    "duration": 47,
    "start_time": "2022-06-10T11:46:02.128Z"
   },
   {
    "duration": 21,
    "start_time": "2022-06-10T11:46:02.176Z"
   },
   {
    "duration": 26,
    "start_time": "2022-06-10T11:46:02.200Z"
   },
   {
    "duration": 18,
    "start_time": "2022-06-10T11:46:02.227Z"
   },
   {
    "duration": 20,
    "start_time": "2022-06-10T11:46:02.265Z"
   },
   {
    "duration": 14,
    "start_time": "2022-06-10T11:46:02.287Z"
   },
   {
    "duration": 19,
    "start_time": "2022-06-10T11:46:02.302Z"
   },
   {
    "duration": 413,
    "start_time": "2022-06-10T11:46:02.323Z"
   },
   {
    "duration": 27,
    "start_time": "2022-06-10T11:46:02.738Z"
   },
   {
    "duration": 141,
    "start_time": "2022-06-10T11:46:02.767Z"
   },
   {
    "duration": 7,
    "start_time": "2022-06-10T11:46:02.910Z"
   },
   {
    "duration": 129,
    "start_time": "2022-06-10T11:46:02.919Z"
   },
   {
    "duration": 15,
    "start_time": "2022-06-10T11:46:03.050Z"
   },
   {
    "duration": 23,
    "start_time": "2022-06-10T11:46:03.066Z"
   },
   {
    "duration": 6,
    "start_time": "2022-06-10T11:46:03.090Z"
   },
   {
    "duration": 72,
    "start_time": "2022-06-10T11:46:03.098Z"
   },
   {
    "duration": 13,
    "start_time": "2022-06-10T11:46:03.171Z"
   },
   {
    "duration": 23,
    "start_time": "2022-06-10T11:46:03.186Z"
   },
   {
    "duration": 6,
    "start_time": "2022-06-10T11:46:03.211Z"
   },
   {
    "duration": 55,
    "start_time": "2022-06-10T11:46:03.218Z"
   },
   {
    "duration": 16,
    "start_time": "2022-06-10T11:46:03.275Z"
   },
   {
    "duration": 24,
    "start_time": "2022-06-10T11:46:03.293Z"
   },
   {
    "duration": 10,
    "start_time": "2022-06-10T11:46:03.318Z"
   },
   {
    "duration": 49,
    "start_time": "2022-06-10T11:46:03.330Z"
   },
   {
    "duration": 19,
    "start_time": "2022-06-10T11:46:03.383Z"
   },
   {
    "duration": 24,
    "start_time": "2022-06-10T11:46:03.404Z"
   },
   {
    "duration": 11,
    "start_time": "2022-06-10T11:46:03.429Z"
   },
   {
    "duration": 24,
    "start_time": "2022-06-10T11:46:03.442Z"
   },
   {
    "duration": 22,
    "start_time": "2022-06-10T11:46:03.468Z"
   },
   {
    "duration": 6,
    "start_time": "2022-06-10T11:46:03.492Z"
   },
   {
    "duration": 41,
    "start_time": "2022-06-10T11:46:03.500Z"
   },
   {
    "duration": 32,
    "start_time": "2022-06-10T11:46:03.542Z"
   },
   {
    "duration": 6,
    "start_time": "2022-06-10T11:46:03.575Z"
   },
   {
    "duration": 91,
    "start_time": "2022-06-10T11:46:03.583Z"
   },
   {
    "duration": 12,
    "start_time": "2022-06-10T11:46:03.676Z"
   },
   {
    "duration": 10,
    "start_time": "2022-06-10T11:46:03.690Z"
   },
   {
    "duration": 14,
    "start_time": "2022-06-10T11:46:03.701Z"
   },
   {
    "duration": 7,
    "start_time": "2022-06-10T11:46:03.717Z"
   },
   {
    "duration": 12,
    "start_time": "2022-06-10T11:46:03.725Z"
   },
   {
    "duration": 201,
    "start_time": "2022-06-10T11:46:03.766Z"
   },
   {
    "duration": 8,
    "start_time": "2022-06-10T11:46:03.968Z"
   },
   {
    "duration": 9,
    "start_time": "2022-06-10T11:46:03.978Z"
   },
   {
    "duration": 13,
    "start_time": "2022-06-10T11:46:03.988Z"
   },
   {
    "duration": 202,
    "start_time": "2022-06-10T11:46:04.002Z"
   },
   {
    "duration": 8,
    "start_time": "2022-06-10T11:46:04.205Z"
   },
   {
    "duration": 20,
    "start_time": "2022-06-10T11:46:04.215Z"
   },
   {
    "duration": 29,
    "start_time": "2022-06-10T11:46:04.237Z"
   },
   {
    "duration": 192,
    "start_time": "2022-06-10T11:46:04.268Z"
   },
   {
    "duration": 5,
    "start_time": "2022-06-10T11:46:04.464Z"
   },
   {
    "duration": 41,
    "start_time": "2022-06-10T11:46:04.471Z"
   },
   {
    "duration": 11,
    "start_time": "2022-06-10T11:46:04.514Z"
   },
   {
    "duration": 347,
    "start_time": "2022-06-10T11:47:58.350Z"
   },
   {
    "duration": 268,
    "start_time": "2022-06-10T11:48:26.793Z"
   },
   {
    "duration": 55,
    "start_time": "2022-06-12T12:09:27.985Z"
   },
   {
    "duration": 818,
    "start_time": "2022-06-12T12:09:35.992Z"
   },
   {
    "duration": 249,
    "start_time": "2022-06-12T12:09:37.108Z"
   },
   {
    "duration": 28,
    "start_time": "2022-06-12T12:09:37.687Z"
   },
   {
    "duration": 8,
    "start_time": "2022-06-12T12:09:38.691Z"
   },
   {
    "duration": 567,
    "start_time": "2022-06-12T12:09:39.607Z"
   },
   {
    "duration": 29,
    "start_time": "2022-06-12T12:09:42.090Z"
   },
   {
    "duration": 179,
    "start_time": "2022-06-12T12:10:15.427Z"
   },
   {
    "duration": 21,
    "start_time": "2022-06-12T12:10:16.199Z"
   },
   {
    "duration": 9,
    "start_time": "2022-06-12T12:10:18.465Z"
   },
   {
    "duration": 662,
    "start_time": "2022-06-12T12:32:15.785Z"
   },
   {
    "duration": 182,
    "start_time": "2022-06-12T12:32:31.806Z"
   },
   {
    "duration": 181,
    "start_time": "2022-06-12T12:34:19.237Z"
   },
   {
    "duration": 4,
    "start_time": "2022-06-12T12:37:19.548Z"
   },
   {
    "duration": 209,
    "start_time": "2022-06-12T12:37:21.609Z"
   },
   {
    "duration": 42,
    "start_time": "2022-06-12T12:37:21.820Z"
   },
   {
    "duration": 8,
    "start_time": "2022-06-12T12:37:22.340Z"
   },
   {
    "duration": 168,
    "start_time": "2022-06-12T12:37:22.351Z"
   },
   {
    "duration": 37,
    "start_time": "2022-06-12T12:37:22.520Z"
   },
   {
    "duration": 6,
    "start_time": "2022-06-12T12:37:22.559Z"
   },
   {
    "duration": 370,
    "start_time": "2022-06-12T12:37:23.793Z"
   },
   {
    "duration": 21,
    "start_time": "2022-06-12T12:37:24.165Z"
   },
   {
    "duration": 6,
    "start_time": "2022-06-12T12:37:24.893Z"
   },
   {
    "duration": 76,
    "start_time": "2022-06-12T12:37:25.417Z"
   },
   {
    "duration": 19,
    "start_time": "2022-06-12T12:37:26.211Z"
   },
   {
    "duration": 6,
    "start_time": "2022-06-12T12:37:26.608Z"
   },
   {
    "duration": 81,
    "start_time": "2022-06-12T12:37:26.800Z"
   },
   {
    "duration": 11,
    "start_time": "2022-06-12T12:37:27.359Z"
   },
   {
    "duration": 15,
    "start_time": "2022-06-12T12:37:27.371Z"
   },
   {
    "duration": 53,
    "start_time": "2022-06-12T12:37:31.830Z"
   },
   {
    "duration": 29,
    "start_time": "2022-06-12T12:37:32.597Z"
   },
   {
    "duration": 24,
    "start_time": "2022-06-12T12:37:35.590Z"
   },
   {
    "duration": 17,
    "start_time": "2022-06-12T12:37:36.056Z"
   },
   {
    "duration": 36,
    "start_time": "2022-06-12T12:37:37.314Z"
   },
   {
    "duration": 26,
    "start_time": "2022-06-12T12:37:37.819Z"
   },
   {
    "duration": 18,
    "start_time": "2022-06-12T12:37:41.562Z"
   },
   {
    "duration": 156,
    "start_time": "2022-06-12T12:38:35.632Z"
   },
   {
    "duration": 167,
    "start_time": "2022-06-12T12:38:45.080Z"
   },
   {
    "duration": 170,
    "start_time": "2022-06-12T12:38:53.903Z"
   },
   {
    "duration": 193,
    "start_time": "2022-06-12T12:39:04.906Z"
   },
   {
    "duration": 163,
    "start_time": "2022-06-12T12:41:37.290Z"
   },
   {
    "duration": 11,
    "start_time": "2022-06-12T12:43:57.732Z"
   },
   {
    "duration": 199,
    "start_time": "2022-06-12T12:43:59.950Z"
   },
   {
    "duration": 28,
    "start_time": "2022-06-12T12:44:00.151Z"
   },
   {
    "duration": 6,
    "start_time": "2022-06-12T12:44:00.302Z"
   },
   {
    "duration": 172,
    "start_time": "2022-06-12T12:44:00.506Z"
   },
   {
    "duration": 24,
    "start_time": "2022-06-12T12:44:00.772Z"
   },
   {
    "duration": 6,
    "start_time": "2022-06-12T12:44:00.855Z"
   },
   {
    "duration": 129,
    "start_time": "2022-06-12T12:44:01.437Z"
   },
   {
    "duration": 25,
    "start_time": "2022-06-12T12:44:01.596Z"
   },
   {
    "duration": 5,
    "start_time": "2022-06-12T12:44:01.795Z"
   },
   {
    "duration": 20,
    "start_time": "2022-06-12T12:44:02.009Z"
   },
   {
    "duration": 25,
    "start_time": "2022-06-12T12:44:02.217Z"
   },
   {
    "duration": 7,
    "start_time": "2022-06-12T12:44:02.409Z"
   },
   {
    "duration": 58,
    "start_time": "2022-06-12T12:44:02.611Z"
   },
   {
    "duration": 11,
    "start_time": "2022-06-12T12:44:03.174Z"
   },
   {
    "duration": 7,
    "start_time": "2022-06-12T12:44:03.371Z"
   },
   {
    "duration": 46,
    "start_time": "2022-06-12T12:44:06.249Z"
   },
   {
    "duration": 23,
    "start_time": "2022-06-12T12:44:06.468Z"
   },
   {
    "duration": 31,
    "start_time": "2022-06-12T12:44:07.346Z"
   },
   {
    "duration": 18,
    "start_time": "2022-06-12T12:44:07.558Z"
   },
   {
    "duration": 21,
    "start_time": "2022-06-12T12:44:08.283Z"
   },
   {
    "duration": 25,
    "start_time": "2022-06-12T12:44:08.858Z"
   },
   {
    "duration": 15,
    "start_time": "2022-06-12T12:44:11.906Z"
   },
   {
    "duration": 168,
    "start_time": "2022-06-12T12:44:13.145Z"
   },
   {
    "duration": 40,
    "start_time": "2022-06-12T12:44:15.141Z"
   },
   {
    "duration": 200,
    "start_time": "2022-06-12T12:44:53.764Z"
   },
   {
    "duration": 289,
    "start_time": "2022-06-12T12:45:19.919Z"
   },
   {
    "duration": 278,
    "start_time": "2022-06-12T12:46:43.189Z"
   },
   {
    "duration": 363,
    "start_time": "2022-06-12T12:47:35.512Z"
   },
   {
    "duration": 234,
    "start_time": "2022-06-12T12:48:52.727Z"
   },
   {
    "duration": 206,
    "start_time": "2022-06-12T12:53:42.954Z"
   },
   {
    "duration": 200,
    "start_time": "2022-06-12T12:54:00.209Z"
   },
   {
    "duration": 199,
    "start_time": "2022-06-12T12:58:12.178Z"
   },
   {
    "duration": 203,
    "start_time": "2022-06-12T12:58:20.649Z"
   },
   {
    "duration": 227,
    "start_time": "2022-06-12T12:58:36.424Z"
   },
   {
    "duration": 213,
    "start_time": "2022-06-12T12:59:32.924Z"
   },
   {
    "duration": 145,
    "start_time": "2022-06-12T13:06:13.764Z"
   },
   {
    "duration": 15,
    "start_time": "2022-06-12T13:14:11.330Z"
   },
   {
    "duration": 11,
    "start_time": "2022-06-12T13:14:25.371Z"
   },
   {
    "duration": 4,
    "start_time": "2022-06-12T13:14:51.085Z"
   },
   {
    "duration": 33,
    "start_time": "2022-06-12T13:14:54.103Z"
   },
   {
    "duration": 7,
    "start_time": "2022-06-12T13:14:54.863Z"
   },
   {
    "duration": 14,
    "start_time": "2022-06-12T13:15:45.128Z"
   },
   {
    "duration": 201,
    "start_time": "2022-06-12T13:15:46.308Z"
   },
   {
    "duration": 22,
    "start_time": "2022-06-12T13:15:52.424Z"
   },
   {
    "duration": 17,
    "start_time": "2022-06-12T13:15:53.600Z"
   },
   {
    "duration": 7,
    "start_time": "2022-06-12T13:15:56.310Z"
   },
   {
    "duration": 31,
    "start_time": "2022-06-12T13:15:58.056Z"
   },
   {
    "duration": 22,
    "start_time": "2022-06-12T13:15:59.199Z"
   },
   {
    "duration": 26,
    "start_time": "2022-06-12T13:16:00.590Z"
   },
   {
    "duration": 17,
    "start_time": "2022-06-12T13:16:02.064Z"
   },
   {
    "duration": 22,
    "start_time": "2022-06-12T13:16:04.652Z"
   },
   {
    "duration": 22,
    "start_time": "2022-06-12T13:16:05.695Z"
   },
   {
    "duration": 25,
    "start_time": "2022-06-12T13:16:06.649Z"
   },
   {
    "duration": 32,
    "start_time": "2022-06-12T13:16:52.154Z"
   },
   {
    "duration": 5,
    "start_time": "2022-06-12T13:17:41.352Z"
   },
   {
    "duration": 43,
    "start_time": "2022-06-12T13:17:45.127Z"
   },
   {
    "duration": 978,
    "start_time": "2022-06-12T13:18:04.853Z"
   },
   {
    "duration": 247,
    "start_time": "2022-06-12T13:18:05.837Z"
   },
   {
    "duration": 25,
    "start_time": "2022-06-12T13:18:06.085Z"
   },
   {
    "duration": 27,
    "start_time": "2022-06-12T13:18:06.112Z"
   },
   {
    "duration": 157,
    "start_time": "2022-06-12T13:18:06.151Z"
   },
   {
    "duration": 37,
    "start_time": "2022-06-12T13:18:06.309Z"
   },
   {
    "duration": 12,
    "start_time": "2022-06-12T13:18:06.350Z"
   },
   {
    "duration": 101,
    "start_time": "2022-06-12T13:18:06.363Z"
   },
   {
    "duration": 30,
    "start_time": "2022-06-12T13:18:06.466Z"
   },
   {
    "duration": 5,
    "start_time": "2022-06-12T13:18:06.499Z"
   },
   {
    "duration": 59,
    "start_time": "2022-06-12T13:18:06.506Z"
   },
   {
    "duration": 12,
    "start_time": "2022-06-12T13:18:06.567Z"
   },
   {
    "duration": 8,
    "start_time": "2022-06-12T13:18:06.580Z"
   },
   {
    "duration": 37,
    "start_time": "2022-06-12T13:18:06.590Z"
   },
   {
    "duration": 14,
    "start_time": "2022-06-12T13:18:06.629Z"
   },
   {
    "duration": 27,
    "start_time": "2022-06-12T13:18:06.645Z"
   },
   {
    "duration": 43,
    "start_time": "2022-06-12T13:18:06.674Z"
   },
   {
    "duration": 39,
    "start_time": "2022-06-12T13:18:06.719Z"
   },
   {
    "duration": 52,
    "start_time": "2022-06-12T13:18:06.760Z"
   },
   {
    "duration": 20,
    "start_time": "2022-06-12T13:18:06.814Z"
   },
   {
    "duration": 49,
    "start_time": "2022-06-12T13:18:06.836Z"
   },
   {
    "duration": 17,
    "start_time": "2022-06-12T13:18:06.887Z"
   },
   {
    "duration": 23,
    "start_time": "2022-06-12T13:18:06.906Z"
   },
   {
    "duration": 222,
    "start_time": "2022-06-12T13:18:06.935Z"
   },
   {
    "duration": 14,
    "start_time": "2022-06-12T13:18:07.158Z"
   },
   {
    "duration": 201,
    "start_time": "2022-06-12T13:18:07.173Z"
   },
   {
    "duration": 8,
    "start_time": "2022-06-12T13:18:07.376Z"
   },
   {
    "duration": 162,
    "start_time": "2022-06-12T13:18:07.388Z"
   },
   {
    "duration": 6,
    "start_time": "2022-06-12T13:18:07.554Z"
   },
   {
    "duration": 7,
    "start_time": "2022-06-12T13:18:07.561Z"
   },
   {
    "duration": 24,
    "start_time": "2022-06-12T13:18:07.570Z"
   },
   {
    "duration": 6,
    "start_time": "2022-06-12T13:18:07.595Z"
   },
   {
    "duration": 83,
    "start_time": "2022-06-12T13:18:07.602Z"
   },
   {
    "duration": 13,
    "start_time": "2022-06-12T13:18:07.687Z"
   },
   {
    "duration": 46,
    "start_time": "2022-06-12T13:18:07.701Z"
   },
   {
    "duration": 10,
    "start_time": "2022-06-12T13:18:07.753Z"
   },
   {
    "duration": 36,
    "start_time": "2022-06-12T13:18:07.764Z"
   },
   {
    "duration": 36,
    "start_time": "2022-06-12T13:18:07.802Z"
   },
   {
    "duration": 33,
    "start_time": "2022-06-12T13:18:07.840Z"
   },
   {
    "duration": 11,
    "start_time": "2022-06-12T13:18:07.875Z"
   },
   {
    "duration": 24,
    "start_time": "2022-06-12T13:18:07.887Z"
   },
   {
    "duration": 27,
    "start_time": "2022-06-12T13:18:07.913Z"
   },
   {
    "duration": 30,
    "start_time": "2022-06-12T13:18:07.941Z"
   },
   {
    "duration": 12,
    "start_time": "2022-06-12T13:18:07.973Z"
   },
   {
    "duration": 5,
    "start_time": "2022-06-12T13:18:07.987Z"
   },
   {
    "duration": 60,
    "start_time": "2022-06-12T13:18:07.994Z"
   },
   {
    "duration": 8,
    "start_time": "2022-06-12T13:18:08.056Z"
   },
   {
    "duration": 19,
    "start_time": "2022-06-12T13:18:08.065Z"
   },
   {
    "duration": 24,
    "start_time": "2022-06-12T13:18:08.086Z"
   },
   {
    "duration": 15,
    "start_time": "2022-06-12T13:18:08.112Z"
   },
   {
    "duration": 105,
    "start_time": "2022-06-12T13:18:08.135Z"
   },
   {
    "duration": 14,
    "start_time": "2022-06-12T13:18:08.244Z"
   },
   {
    "duration": 8,
    "start_time": "2022-06-12T13:18:08.260Z"
   },
   {
    "duration": 11,
    "start_time": "2022-06-12T13:18:08.270Z"
   },
   {
    "duration": 8,
    "start_time": "2022-06-12T13:18:08.282Z"
   },
   {
    "duration": 11,
    "start_time": "2022-06-12T13:18:08.292Z"
   },
   {
    "duration": 238,
    "start_time": "2022-06-12T13:18:08.305Z"
   },
   {
    "duration": 12,
    "start_time": "2022-06-12T13:18:08.545Z"
   },
   {
    "duration": 8,
    "start_time": "2022-06-12T13:18:08.559Z"
   },
   {
    "duration": 12,
    "start_time": "2022-06-12T13:18:08.569Z"
   },
   {
    "duration": 204,
    "start_time": "2022-06-12T13:18:08.583Z"
   },
   {
    "duration": 11,
    "start_time": "2022-06-12T13:18:08.789Z"
   },
   {
    "duration": 29,
    "start_time": "2022-06-12T13:18:08.802Z"
   },
   {
    "duration": 43,
    "start_time": "2022-06-12T13:18:08.833Z"
   },
   {
    "duration": 211,
    "start_time": "2022-06-12T13:18:08.878Z"
   },
   {
    "duration": 7,
    "start_time": "2022-06-12T13:18:09.091Z"
   },
   {
    "duration": 8,
    "start_time": "2022-06-12T13:18:09.100Z"
   },
   {
    "duration": 18,
    "start_time": "2022-06-12T13:18:09.110Z"
   },
   {
    "duration": 12,
    "start_time": "2022-06-12T13:19:00.488Z"
   },
   {
    "duration": 21,
    "start_time": "2022-06-12T13:19:07.066Z"
   },
   {
    "duration": 21,
    "start_time": "2022-06-12T13:19:13.553Z"
   },
   {
    "duration": 10,
    "start_time": "2022-06-12T13:19:32.408Z"
   },
   {
    "duration": 11,
    "start_time": "2022-06-12T13:19:44.249Z"
   },
   {
    "duration": 11,
    "start_time": "2022-06-12T13:19:54.291Z"
   },
   {
    "duration": 13,
    "start_time": "2022-06-12T13:20:00.949Z"
   },
   {
    "duration": 15,
    "start_time": "2022-06-12T13:20:09.695Z"
   },
   {
    "duration": 13,
    "start_time": "2022-06-12T13:20:28.516Z"
   },
   {
    "duration": 58,
    "start_time": "2022-06-12T13:20:36.452Z"
   },
   {
    "duration": 13,
    "start_time": "2022-06-12T13:20:43.347Z"
   },
   {
    "duration": 9,
    "start_time": "2022-06-12T13:20:50.886Z"
   },
   {
    "duration": 38,
    "start_time": "2022-06-12T13:20:58.713Z"
   },
   {
    "duration": 38,
    "start_time": "2022-06-12T13:21:05.311Z"
   },
   {
    "duration": 26,
    "start_time": "2022-06-12T13:21:12.189Z"
   },
   {
    "duration": 12,
    "start_time": "2022-06-12T13:21:20.584Z"
   },
   {
    "duration": 126,
    "start_time": "2022-06-12T13:23:10.259Z"
   },
   {
    "duration": 578,
    "start_time": "2022-06-12T13:23:26.506Z"
   },
   {
    "duration": 35,
    "start_time": "2022-06-12T13:23:35.167Z"
   },
   {
    "duration": 27,
    "start_time": "2022-06-12T13:24:51.853Z"
   },
   {
    "duration": 33,
    "start_time": "2022-06-12T13:25:02.677Z"
   },
   {
    "duration": 9,
    "start_time": "2022-06-12T13:32:05.283Z"
   },
   {
    "duration": 1217,
    "start_time": "2022-06-12T13:32:21.865Z"
   },
   {
    "duration": 280,
    "start_time": "2022-06-12T13:32:23.085Z"
   },
   {
    "duration": 27,
    "start_time": "2022-06-12T13:32:23.366Z"
   },
   {
    "duration": 12,
    "start_time": "2022-06-12T13:32:23.395Z"
   },
   {
    "duration": 189,
    "start_time": "2022-06-12T13:32:23.408Z"
   },
   {
    "duration": 25,
    "start_time": "2022-06-12T13:32:23.599Z"
   },
   {
    "duration": 37,
    "start_time": "2022-06-12T13:32:23.626Z"
   },
   {
    "duration": 103,
    "start_time": "2022-06-12T13:32:23.664Z"
   },
   {
    "duration": 18,
    "start_time": "2022-06-12T13:32:23.769Z"
   },
   {
    "duration": 10,
    "start_time": "2022-06-12T13:32:23.790Z"
   },
   {
    "duration": 26,
    "start_time": "2022-06-12T13:32:23.802Z"
   },
   {
    "duration": 28,
    "start_time": "2022-06-12T13:32:23.830Z"
   },
   {
    "duration": 25,
    "start_time": "2022-06-12T13:32:23.859Z"
   },
   {
    "duration": 34,
    "start_time": "2022-06-12T13:32:23.885Z"
   },
   {
    "duration": 22,
    "start_time": "2022-06-12T13:32:23.921Z"
   },
   {
    "duration": 45,
    "start_time": "2022-06-12T13:32:23.946Z"
   },
   {
    "duration": 65,
    "start_time": "2022-06-12T13:32:23.993Z"
   },
   {
    "duration": 21,
    "start_time": "2022-06-12T13:32:24.060Z"
   },
   {
    "duration": 25,
    "start_time": "2022-06-12T13:32:24.083Z"
   },
   {
    "duration": 43,
    "start_time": "2022-06-12T13:32:24.110Z"
   },
   {
    "duration": 43,
    "start_time": "2022-06-12T13:32:24.155Z"
   },
   {
    "duration": 20,
    "start_time": "2022-06-12T13:32:24.200Z"
   },
   {
    "duration": 51,
    "start_time": "2022-06-12T13:32:24.222Z"
   },
   {
    "duration": 211,
    "start_time": "2022-06-12T13:32:24.275Z"
   },
   {
    "duration": 16,
    "start_time": "2022-06-12T13:32:24.488Z"
   },
   {
    "duration": 233,
    "start_time": "2022-06-12T13:32:24.505Z"
   },
   {
    "duration": 14,
    "start_time": "2022-06-12T13:32:24.739Z"
   },
   {
    "duration": 160,
    "start_time": "2022-06-12T13:32:24.760Z"
   },
   {
    "duration": 22,
    "start_time": "2022-06-12T13:32:24.922Z"
   },
   {
    "duration": 19,
    "start_time": "2022-06-12T13:32:24.946Z"
   },
   {
    "duration": 23,
    "start_time": "2022-06-12T13:32:24.968Z"
   },
   {
    "duration": 10,
    "start_time": "2022-06-12T13:32:24.993Z"
   },
   {
    "duration": 80,
    "start_time": "2022-06-12T13:32:25.004Z"
   },
   {
    "duration": 11,
    "start_time": "2022-06-12T13:32:25.086Z"
   },
   {
    "duration": 44,
    "start_time": "2022-06-12T13:32:25.099Z"
   },
   {
    "duration": 22,
    "start_time": "2022-06-12T13:32:25.144Z"
   },
   {
    "duration": 49,
    "start_time": "2022-06-12T13:32:25.167Z"
   },
   {
    "duration": 34,
    "start_time": "2022-06-12T13:32:25.218Z"
   },
   {
    "duration": 25,
    "start_time": "2022-06-12T13:32:25.254Z"
   },
   {
    "duration": 11,
    "start_time": "2022-06-12T13:32:25.281Z"
   },
   {
    "duration": 20,
    "start_time": "2022-06-12T13:32:25.293Z"
   },
   {
    "duration": 30,
    "start_time": "2022-06-12T13:32:25.329Z"
   },
   {
    "duration": 32,
    "start_time": "2022-06-12T13:32:25.361Z"
   },
   {
    "duration": 13,
    "start_time": "2022-06-12T13:32:25.395Z"
   },
   {
    "duration": 6,
    "start_time": "2022-06-12T13:32:25.410Z"
   },
   {
    "duration": 57,
    "start_time": "2022-06-12T13:32:25.417Z"
   },
   {
    "duration": 6,
    "start_time": "2022-06-12T13:32:25.475Z"
   },
   {
    "duration": 18,
    "start_time": "2022-06-12T13:32:25.482Z"
   },
   {
    "duration": 154,
    "start_time": "2022-06-12T13:32:25.501Z"
   },
   {
    "duration": 0,
    "start_time": "2022-06-12T13:32:25.656Z"
   },
   {
    "duration": 0,
    "start_time": "2022-06-12T13:32:25.658Z"
   },
   {
    "duration": 0,
    "start_time": "2022-06-12T13:32:25.659Z"
   },
   {
    "duration": 0,
    "start_time": "2022-06-12T13:32:25.663Z"
   },
   {
    "duration": 0,
    "start_time": "2022-06-12T13:32:25.664Z"
   },
   {
    "duration": 0,
    "start_time": "2022-06-12T13:32:25.665Z"
   },
   {
    "duration": 0,
    "start_time": "2022-06-12T13:32:25.666Z"
   },
   {
    "duration": 0,
    "start_time": "2022-06-12T13:32:25.668Z"
   },
   {
    "duration": 0,
    "start_time": "2022-06-12T13:32:25.669Z"
   },
   {
    "duration": 0,
    "start_time": "2022-06-12T13:32:25.670Z"
   },
   {
    "duration": 0,
    "start_time": "2022-06-12T13:32:25.671Z"
   },
   {
    "duration": 0,
    "start_time": "2022-06-12T13:32:25.673Z"
   },
   {
    "duration": 0,
    "start_time": "2022-06-12T13:32:25.674Z"
   },
   {
    "duration": 0,
    "start_time": "2022-06-12T13:32:25.675Z"
   },
   {
    "duration": 0,
    "start_time": "2022-06-12T13:32:25.676Z"
   },
   {
    "duration": 0,
    "start_time": "2022-06-12T13:32:25.677Z"
   },
   {
    "duration": 0,
    "start_time": "2022-06-12T13:32:25.678Z"
   },
   {
    "duration": 0,
    "start_time": "2022-06-12T13:32:25.679Z"
   },
   {
    "duration": 0,
    "start_time": "2022-06-12T13:32:25.680Z"
   },
   {
    "duration": 0,
    "start_time": "2022-06-12T13:32:25.681Z"
   },
   {
    "duration": 10,
    "start_time": "2022-06-12T13:33:04.797Z"
   },
   {
    "duration": 12,
    "start_time": "2022-06-12T13:33:24.442Z"
   },
   {
    "duration": 9,
    "start_time": "2022-06-12T13:33:35.502Z"
   },
   {
    "duration": 9,
    "start_time": "2022-06-12T13:33:46.481Z"
   },
   {
    "duration": 49,
    "start_time": "2022-06-12T13:34:37.999Z"
   },
   {
    "duration": 9,
    "start_time": "2022-06-12T13:42:00.323Z"
   },
   {
    "duration": 371,
    "start_time": "2022-06-12T13:42:20.299Z"
   },
   {
    "duration": 6,
    "start_time": "2022-06-12T13:43:53.303Z"
   },
   {
    "duration": 21,
    "start_time": "2022-06-12T13:43:55.630Z"
   },
   {
    "duration": 6,
    "start_time": "2022-06-12T13:45:16.386Z"
   },
   {
    "duration": 135,
    "start_time": "2022-06-12T13:45:18.193Z"
   },
   {
    "duration": 142,
    "start_time": "2022-06-12T13:45:28.633Z"
   },
   {
    "duration": 13,
    "start_time": "2022-06-12T13:45:46.847Z"
   },
   {
    "duration": 3,
    "start_time": "2022-06-12T13:47:09.816Z"
   },
   {
    "duration": 13,
    "start_time": "2022-06-12T13:47:24.485Z"
   },
   {
    "duration": 4,
    "start_time": "2022-06-12T13:48:33.836Z"
   },
   {
    "duration": 13,
    "start_time": "2022-06-12T13:48:44.916Z"
   },
   {
    "duration": 6,
    "start_time": "2022-06-12T13:49:08.913Z"
   },
   {
    "duration": 15,
    "start_time": "2022-06-12T13:49:12.660Z"
   },
   {
    "duration": 6,
    "start_time": "2022-06-12T13:49:38.286Z"
   },
   {
    "duration": 6,
    "start_time": "2022-06-12T13:49:42.491Z"
   },
   {
    "duration": 13,
    "start_time": "2022-06-12T13:49:47.905Z"
   },
   {
    "duration": 7,
    "start_time": "2022-06-12T13:50:51.596Z"
   },
   {
    "duration": 156,
    "start_time": "2022-06-12T13:50:54.794Z"
   },
   {
    "duration": 11,
    "start_time": "2022-06-12T13:50:55.494Z"
   },
   {
    "duration": 7,
    "start_time": "2022-06-12T13:50:57.594Z"
   },
   {
    "duration": 13,
    "start_time": "2022-06-12T13:50:58.455Z"
   },
   {
    "duration": 6,
    "start_time": "2022-06-12T13:51:07.010Z"
   },
   {
    "duration": 12,
    "start_time": "2022-06-12T13:51:07.840Z"
   },
   {
    "duration": 7,
    "start_time": "2022-06-12T13:51:08.587Z"
   },
   {
    "duration": 20,
    "start_time": "2022-06-12T13:51:09.199Z"
   },
   {
    "duration": 204,
    "start_time": "2022-06-12T13:51:10.254Z"
   },
   {
    "duration": 216,
    "start_time": "2022-06-12T13:55:03.371Z"
   },
   {
    "duration": 200,
    "start_time": "2022-06-12T13:56:03.014Z"
   },
   {
    "duration": 268,
    "start_time": "2022-06-12T13:57:32.507Z"
   },
   {
    "duration": 229,
    "start_time": "2022-06-12T13:57:47.214Z"
   },
   {
    "duration": 204,
    "start_time": "2022-06-12T13:58:18.681Z"
   },
   {
    "duration": 383,
    "start_time": "2022-06-12T13:59:30.993Z"
   },
   {
    "duration": 284,
    "start_time": "2022-06-12T14:01:50.747Z"
   },
   {
    "duration": 10,
    "start_time": "2022-06-12T14:04:47.204Z"
   },
   {
    "duration": 10,
    "start_time": "2022-06-12T14:04:48.492Z"
   },
   {
    "duration": 14,
    "start_time": "2022-06-12T14:04:49.513Z"
   },
   {
    "duration": 168,
    "start_time": "2022-06-12T14:04:51.102Z"
   },
   {
    "duration": 220,
    "start_time": "2022-06-12T14:06:02.144Z"
   },
   {
    "duration": 10,
    "start_time": "2022-06-12T14:17:31.740Z"
   },
   {
    "duration": 8,
    "start_time": "2022-06-12T14:17:32.493Z"
   },
   {
    "duration": 33,
    "start_time": "2022-06-12T14:17:34.806Z"
   },
   {
    "duration": 220,
    "start_time": "2022-06-12T14:18:16.779Z"
   },
   {
    "duration": 189,
    "start_time": "2022-06-12T14:18:22.000Z"
   },
   {
    "duration": 195,
    "start_time": "2022-06-12T14:18:45.675Z"
   },
   {
    "duration": 228,
    "start_time": "2022-06-12T14:19:09.263Z"
   },
   {
    "duration": 13,
    "start_time": "2022-06-12T14:26:59.499Z"
   },
   {
    "duration": 3,
    "start_time": "2022-06-12T14:32:42.807Z"
   },
   {
    "duration": 4,
    "start_time": "2022-06-12T14:34:03.198Z"
   },
   {
    "duration": 4,
    "start_time": "2022-06-12T14:34:49.841Z"
   },
   {
    "duration": 4,
    "start_time": "2022-06-12T14:34:50.568Z"
   },
   {
    "duration": 4,
    "start_time": "2022-06-12T14:44:32.031Z"
   },
   {
    "duration": 5,
    "start_time": "2022-06-12T14:44:33.451Z"
   },
   {
    "duration": 13,
    "start_time": "2022-06-12T14:44:34.816Z"
   },
   {
    "duration": 14,
    "start_time": "2022-06-12T14:48:42.193Z"
   },
   {
    "duration": 14,
    "start_time": "2022-06-12T14:53:02.859Z"
   },
   {
    "duration": 1778,
    "start_time": "2022-06-13T09:15:00.315Z"
   },
   {
    "duration": 528,
    "start_time": "2022-06-13T09:15:02.095Z"
   },
   {
    "duration": 21,
    "start_time": "2022-06-13T09:15:02.625Z"
   },
   {
    "duration": 11,
    "start_time": "2022-06-13T09:15:02.647Z"
   },
   {
    "duration": 420,
    "start_time": "2022-06-13T09:15:02.659Z"
   },
   {
    "duration": 17,
    "start_time": "2022-06-13T09:15:03.081Z"
   },
   {
    "duration": 20,
    "start_time": "2022-06-13T09:15:03.100Z"
   },
   {
    "duration": 145,
    "start_time": "2022-06-13T09:15:03.121Z"
   },
   {
    "duration": 15,
    "start_time": "2022-06-13T09:15:03.268Z"
   },
   {
    "duration": 7,
    "start_time": "2022-06-13T09:15:03.285Z"
   },
   {
    "duration": 57,
    "start_time": "2022-06-13T09:15:03.294Z"
   },
   {
    "duration": 9,
    "start_time": "2022-06-13T09:15:03.352Z"
   },
   {
    "duration": 10,
    "start_time": "2022-06-13T09:15:03.362Z"
   },
   {
    "duration": 58,
    "start_time": "2022-06-13T09:15:03.374Z"
   },
   {
    "duration": 9,
    "start_time": "2022-06-13T09:15:03.434Z"
   },
   {
    "duration": 10,
    "start_time": "2022-06-13T09:15:03.445Z"
   },
   {
    "duration": 34,
    "start_time": "2022-06-13T09:15:03.456Z"
   },
   {
    "duration": 19,
    "start_time": "2022-06-13T09:15:03.492Z"
   },
   {
    "duration": 18,
    "start_time": "2022-06-13T09:15:03.512Z"
   },
   {
    "duration": 12,
    "start_time": "2022-06-13T09:15:03.532Z"
   },
   {
    "duration": 16,
    "start_time": "2022-06-13T09:15:03.546Z"
   },
   {
    "duration": 36,
    "start_time": "2022-06-13T09:15:03.563Z"
   },
   {
    "duration": 23,
    "start_time": "2022-06-13T09:15:03.600Z"
   },
   {
    "duration": 169,
    "start_time": "2022-06-13T09:15:03.624Z"
   },
   {
    "duration": 12,
    "start_time": "2022-06-13T09:15:03.795Z"
   },
   {
    "duration": 153,
    "start_time": "2022-06-13T09:15:03.808Z"
   },
   {
    "duration": 6,
    "start_time": "2022-06-13T09:15:03.963Z"
   },
   {
    "duration": 122,
    "start_time": "2022-06-13T09:15:03.972Z"
   },
   {
    "duration": 4,
    "start_time": "2022-06-13T09:15:04.096Z"
   },
   {
    "duration": 10,
    "start_time": "2022-06-13T09:15:04.102Z"
   },
   {
    "duration": 20,
    "start_time": "2022-06-13T09:15:04.114Z"
   },
   {
    "duration": 8,
    "start_time": "2022-06-13T09:15:04.135Z"
   },
   {
    "duration": 56,
    "start_time": "2022-06-13T09:15:04.144Z"
   },
   {
    "duration": 13,
    "start_time": "2022-06-13T09:15:04.202Z"
   },
   {
    "duration": 20,
    "start_time": "2022-06-13T09:15:04.216Z"
   },
   {
    "duration": 7,
    "start_time": "2022-06-13T09:15:04.237Z"
   },
   {
    "duration": 29,
    "start_time": "2022-06-13T09:15:04.245Z"
   },
   {
    "duration": 17,
    "start_time": "2022-06-13T09:15:04.275Z"
   },
   {
    "duration": 24,
    "start_time": "2022-06-13T09:15:04.294Z"
   },
   {
    "duration": 8,
    "start_time": "2022-06-13T09:15:04.319Z"
   },
   {
    "duration": 15,
    "start_time": "2022-06-13T09:15:04.328Z"
   },
   {
    "duration": 16,
    "start_time": "2022-06-13T09:15:04.344Z"
   },
   {
    "duration": 18,
    "start_time": "2022-06-13T09:15:04.361Z"
   },
   {
    "duration": 19,
    "start_time": "2022-06-13T09:15:04.380Z"
   },
   {
    "duration": 9,
    "start_time": "2022-06-13T09:15:04.404Z"
   },
   {
    "duration": 19,
    "start_time": "2022-06-13T09:15:04.414Z"
   },
   {
    "duration": 4,
    "start_time": "2022-06-13T09:15:04.434Z"
   },
   {
    "duration": 14,
    "start_time": "2022-06-13T09:15:04.439Z"
   },
   {
    "duration": 8,
    "start_time": "2022-06-13T09:15:04.455Z"
   },
   {
    "duration": 22,
    "start_time": "2022-06-13T09:15:04.464Z"
   },
   {
    "duration": 10,
    "start_time": "2022-06-13T09:15:04.487Z"
   },
   {
    "duration": 124,
    "start_time": "2022-06-13T09:15:04.498Z"
   },
   {
    "duration": 10,
    "start_time": "2022-06-13T09:15:04.623Z"
   },
   {
    "duration": 8,
    "start_time": "2022-06-13T09:15:04.634Z"
   },
   {
    "duration": 10,
    "start_time": "2022-06-13T09:15:04.643Z"
   },
   {
    "duration": 4,
    "start_time": "2022-06-13T09:15:04.654Z"
   },
   {
    "duration": 33,
    "start_time": "2022-06-13T09:15:04.659Z"
   },
   {
    "duration": 7,
    "start_time": "2022-06-13T09:15:04.693Z"
   },
   {
    "duration": 18,
    "start_time": "2022-06-13T09:15:04.701Z"
   },
   {
    "duration": 477,
    "start_time": "2022-06-13T09:15:04.720Z"
   },
   {
    "duration": 267,
    "start_time": "2022-06-13T09:15:57.216Z"
   },
   {
    "duration": 239,
    "start_time": "2022-06-13T09:16:05.327Z"
   },
   {
    "duration": 264,
    "start_time": "2022-06-13T09:16:41.884Z"
   },
   {
    "duration": 890,
    "start_time": "2022-06-13T09:16:51.146Z"
   },
   {
    "duration": 177,
    "start_time": "2022-06-13T09:16:52.038Z"
   },
   {
    "duration": 21,
    "start_time": "2022-06-13T09:16:52.217Z"
   },
   {
    "duration": 10,
    "start_time": "2022-06-13T09:16:52.240Z"
   },
   {
    "duration": 124,
    "start_time": "2022-06-13T09:16:52.252Z"
   },
   {
    "duration": 23,
    "start_time": "2022-06-13T09:16:52.378Z"
   },
   {
    "duration": 11,
    "start_time": "2022-06-13T09:16:52.403Z"
   },
   {
    "duration": 72,
    "start_time": "2022-06-13T09:16:52.415Z"
   },
   {
    "duration": 19,
    "start_time": "2022-06-13T09:16:52.489Z"
   },
   {
    "duration": 7,
    "start_time": "2022-06-13T09:16:52.510Z"
   },
   {
    "duration": 15,
    "start_time": "2022-06-13T09:16:52.518Z"
   },
   {
    "duration": 9,
    "start_time": "2022-06-13T09:16:52.535Z"
   },
   {
    "duration": 8,
    "start_time": "2022-06-13T09:16:52.546Z"
   },
   {
    "duration": 26,
    "start_time": "2022-06-13T09:16:52.555Z"
   },
   {
    "duration": 10,
    "start_time": "2022-06-13T09:16:52.582Z"
   },
   {
    "duration": 28,
    "start_time": "2022-06-13T09:16:52.595Z"
   },
   {
    "duration": 33,
    "start_time": "2022-06-13T09:16:52.624Z"
   },
   {
    "duration": 17,
    "start_time": "2022-06-13T09:16:52.658Z"
   },
   {
    "duration": 32,
    "start_time": "2022-06-13T09:16:52.677Z"
   },
   {
    "duration": 15,
    "start_time": "2022-06-13T09:16:52.711Z"
   },
   {
    "duration": 18,
    "start_time": "2022-06-13T09:16:52.727Z"
   },
   {
    "duration": 12,
    "start_time": "2022-06-13T09:16:52.747Z"
   },
   {
    "duration": 41,
    "start_time": "2022-06-13T09:16:52.761Z"
   },
   {
    "duration": 210,
    "start_time": "2022-06-13T09:16:52.803Z"
   },
   {
    "duration": 12,
    "start_time": "2022-06-13T09:16:53.015Z"
   },
   {
    "duration": 177,
    "start_time": "2022-06-13T09:16:53.028Z"
   },
   {
    "duration": 7,
    "start_time": "2022-06-13T09:16:53.207Z"
   },
   {
    "duration": 140,
    "start_time": "2022-06-13T09:16:53.218Z"
   },
   {
    "duration": 4,
    "start_time": "2022-06-13T09:16:53.360Z"
   },
   {
    "duration": 8,
    "start_time": "2022-06-13T09:16:53.365Z"
   },
   {
    "duration": 24,
    "start_time": "2022-06-13T09:16:53.374Z"
   },
   {
    "duration": 9,
    "start_time": "2022-06-13T09:16:53.400Z"
   },
   {
    "duration": 57,
    "start_time": "2022-06-13T09:16:53.410Z"
   },
   {
    "duration": 13,
    "start_time": "2022-06-13T09:16:53.492Z"
   },
   {
    "duration": 18,
    "start_time": "2022-06-13T09:16:53.507Z"
   },
   {
    "duration": 8,
    "start_time": "2022-06-13T09:16:53.526Z"
   },
   {
    "duration": 80,
    "start_time": "2022-06-13T09:16:53.535Z"
   },
   {
    "duration": 17,
    "start_time": "2022-06-13T09:16:53.617Z"
   },
   {
    "duration": 82,
    "start_time": "2022-06-13T09:16:53.635Z"
   },
   {
    "duration": 9,
    "start_time": "2022-06-13T09:16:53.718Z"
   },
   {
    "duration": 72,
    "start_time": "2022-06-13T09:16:53.728Z"
   },
   {
    "duration": 19,
    "start_time": "2022-06-13T09:16:53.801Z"
   },
   {
    "duration": 71,
    "start_time": "2022-06-13T09:16:53.822Z"
   },
   {
    "duration": 14,
    "start_time": "2022-06-13T09:16:53.895Z"
   },
   {
    "duration": 3,
    "start_time": "2022-06-13T09:16:53.911Z"
   },
   {
    "duration": 20,
    "start_time": "2022-06-13T09:16:53.915Z"
   },
   {
    "duration": 60,
    "start_time": "2022-06-13T09:16:53.937Z"
   },
   {
    "duration": 19,
    "start_time": "2022-06-13T09:16:53.999Z"
   },
   {
    "duration": 7,
    "start_time": "2022-06-13T09:16:54.019Z"
   },
   {
    "duration": 74,
    "start_time": "2022-06-13T09:16:54.027Z"
   },
   {
    "duration": 5,
    "start_time": "2022-06-13T09:16:54.103Z"
   },
   {
    "duration": 221,
    "start_time": "2022-06-13T09:16:54.109Z"
   },
   {
    "duration": 9,
    "start_time": "2022-06-13T09:16:54.331Z"
   },
   {
    "duration": 4,
    "start_time": "2022-06-13T09:16:54.392Z"
   },
   {
    "duration": 17,
    "start_time": "2022-06-13T09:16:54.398Z"
   },
   {
    "duration": 4,
    "start_time": "2022-06-13T09:16:54.416Z"
   },
   {
    "duration": 10,
    "start_time": "2022-06-13T09:16:54.421Z"
   },
   {
    "duration": 6,
    "start_time": "2022-06-13T09:16:54.432Z"
   },
   {
    "duration": 65,
    "start_time": "2022-06-13T09:16:54.440Z"
   },
   {
    "duration": 433,
    "start_time": "2022-06-13T09:16:54.506Z"
   },
   {
    "duration": 459,
    "start_time": "2022-06-13T09:16:54.940Z"
   },
   {
    "duration": 8,
    "start_time": "2022-06-13T09:16:55.401Z"
   },
   {
    "duration": 6,
    "start_time": "2022-06-13T09:16:55.411Z"
   },
   {
    "duration": 11,
    "start_time": "2022-06-13T09:16:55.418Z"
   },
   {
    "duration": 218,
    "start_time": "2022-06-13T09:16:55.431Z"
   },
   {
    "duration": 6,
    "start_time": "2022-06-13T09:16:55.650Z"
   },
   {
    "duration": 8,
    "start_time": "2022-06-13T09:16:55.658Z"
   },
   {
    "duration": 10,
    "start_time": "2022-06-13T09:16:55.667Z"
   },
   {
    "duration": 205,
    "start_time": "2022-06-13T09:16:55.678Z"
   },
   {
    "duration": 9,
    "start_time": "2022-06-13T09:16:55.884Z"
   },
   {
    "duration": 25,
    "start_time": "2022-06-13T09:16:55.894Z"
   },
   {
    "duration": 5,
    "start_time": "2022-06-13T09:16:55.921Z"
   },
   {
    "duration": 5,
    "start_time": "2022-06-13T09:16:55.927Z"
   },
   {
    "duration": 4,
    "start_time": "2022-06-13T09:16:55.933Z"
   },
   {
    "duration": 5,
    "start_time": "2022-06-13T09:16:55.939Z"
   },
   {
    "duration": 14,
    "start_time": "2022-06-13T09:16:55.945Z"
   }
  ],
  "kernelspec": {
   "display_name": "Python 3 (ipykernel)",
   "language": "python",
   "name": "python3"
  },
  "language_info": {
   "codemirror_mode": {
    "name": "ipython",
    "version": 3
   },
   "file_extension": ".py",
   "mimetype": "text/x-python",
   "name": "python",
   "nbconvert_exporter": "python",
   "pygments_lexer": "ipython3",
   "version": "3.9.7"
  },
  "toc": {
   "base_numbering": 1,
   "nav_menu": {},
   "number_sections": true,
   "sideBar": true,
   "skip_h1_title": true,
   "title_cell": "Содержание",
   "title_sidebar": "Contents",
   "toc_cell": true,
   "toc_position": {
    "height": "calc(100% - 180px)",
    "left": "10px",
    "top": "150px",
    "width": "250.4px"
   },
   "toc_section_display": true,
   "toc_window_display": true
  }
 },
 "nbformat": 4,
 "nbformat_minor": 2
}
